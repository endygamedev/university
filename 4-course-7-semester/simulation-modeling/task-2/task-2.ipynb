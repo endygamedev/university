{
 "cells": [
  {
   "cell_type": "markdown",
   "id": "95eb2bb4-7257-4b98-b598-b280bf4e4aaa",
   "metadata": {},
   "source": [
    "# Моделирование случайных чисел"
   ]
  },
  {
   "cell_type": "code",
   "execution_count": 1,
   "id": "ac7c3fe0-d8b1-487e-87ae-117fe47d6b9b",
   "metadata": {},
   "outputs": [],
   "source": [
    "import numpy as np\n",
    "import matplotlib.pyplot as plt\n",
    "import scipy as sp\n",
    "from statsmodels.stats.diagnostic import kstest_exponential, kstest_normal\n",
    "\n",
    "%matplotlib inline"
   ]
  },
  {
   "cell_type": "markdown",
   "id": "892a4e16-d0e6-48be-8024-1eb9214535a2",
   "metadata": {},
   "source": [
    "## Задание 1"
   ]
  },
  {
   "cell_type": "code",
   "execution_count": 2,
   "id": "f9920541-2d8d-4278-b1a9-113bf34a7cd6",
   "metadata": {},
   "outputs": [],
   "source": [
    "def mid_square_method(init, digit, n = 10):\n",
    "    if digit % 2 != 0: return\n",
    "\n",
    "    r = init\n",
    "    res = [r]\n",
    "    mid_d = digit//2\n",
    "    for i in range(n):\n",
    "        r *= r\n",
    "        digits = list(str(r))\n",
    "        while len(digits) < digit:\n",
    "            digits = ['0'] + digits\n",
    "        r = int(''.join(digits[1:-1]))\n",
    "        res.append(r)\n",
    "    return res"
   ]
  },
  {
   "cell_type": "code",
   "execution_count": 3,
   "id": "cf168a82-2aa1-4b79-9209-b91ccca4e525",
   "metadata": {},
   "outputs": [
    {
     "data": {
      "text/plain": [
       "[31, 96, 21, 44, 93, 64, 9, 8, 6, 3, 0]"
      ]
     },
     "execution_count": 3,
     "metadata": {},
     "output_type": "execute_result"
    }
   ],
   "source": [
    "res = mid_square_method(31, 4, 10)\n",
    "res"
   ]
  },
  {
   "cell_type": "code",
   "execution_count": 4,
   "id": "129f5495-0809-44d7-98c1-93263f586e72",
   "metadata": {},
   "outputs": [
    {
     "data": {
      "image/png": "[encoded data removed]",
      "text/plain": [
       "<Figure size 432x288 with 1 Axes>"
      ]
     },
     "metadata": {
      "needs_background": "light"
     },
     "output_type": "display_data"
    }
   ],
   "source": [
    "plt.hist(res)\n",
    "plt.show()"
   ]
  },
  {
   "cell_type": "markdown",
   "id": "83cf0eff-9f3c-4c9b-a8a2-b254711d844c",
   "metadata": {},
   "source": [
    "**Проверка гипотезы**"
   ]
  },
  {
   "cell_type": "code",
   "execution_count": 5,
   "id": "00e8c688-cd45-4533-b512-7d30d91d9cc2",
   "metadata": {},
   "outputs": [
    {
     "data": {
      "text/plain": [
       "KstestResult(statistic=0.3645454545454545, pvalue=0.08123628783386883)"
      ]
     },
     "execution_count": 5,
     "metadata": {},
     "output_type": "execute_result"
    }
   ],
   "source": [
    "sp.stats.kstest(res, lambda x: sp.stats.uniform.cdf(x, loc=0, scale=100))"
   ]
  },
  {
   "cell_type": "markdown",
   "id": "a267ceb1-1932-41c3-8710-5a8f72d8312d",
   "metadata": {},
   "source": [
    "## Задание №2"
   ]
  },
  {
   "cell_type": "code",
   "execution_count": 6,
   "id": "bb2a9d9a-adf5-4f09-b5fb-6533134ba5ef",
   "metadata": {},
   "outputs": [],
   "source": [
    "def linear_congruent_gauge_0_1(init, k, b, M, n):\n",
    "    r = init\n",
    "    unique = 0\n",
    "    res = []\n",
    "    for i in range(n):\n",
    "        r = (k*r + b) % M\n",
    "        if r/M not in res:\n",
    "            unique += 1\n",
    "        res.append(r/M)\n",
    "    return res, unique"
   ]
  },
  {
   "cell_type": "code",
   "execution_count": 7,
   "id": "ee6475bc-19a1-48e5-bbcf-29021498fa1a",
   "metadata": {},
   "outputs": [
    {
     "data": {
      "text/plain": [
       "([0.7, 0.5, 0.1, 0.3, 0.7, 0.5, 0.1, 0.3, 0.7, 0.5, 0.1, 0.3], 4)"
      ]
     },
     "execution_count": 7,
     "metadata": {},
     "output_type": "execute_result"
    }
   ],
   "source": [
    "res = linear_congruent_gauge_0_1(3, 2, 1, 10, 12)\n",
    "res"
   ]
  },
  {
   "cell_type": "code",
   "execution_count": 8,
   "id": "9cdd0792-72e6-4bfd-a96f-57f64f7c51ac",
   "metadata": {},
   "outputs": [
    {
     "data": {
      "image/png": "[encoded data removed]",
      "text/plain": [
       "<Figure size 432x288 with 1 Axes>"
      ]
     },
     "metadata": {
      "needs_background": "light"
     },
     "output_type": "display_data"
    }
   ],
   "source": [
    "plt.hist(res[0])\n",
    "plt.show()"
   ]
  },
  {
   "cell_type": "markdown",
   "id": "5acedffa-8202-49b7-9fa1-7dd463a5f104",
   "metadata": {},
   "source": [
    "**Проверка гипотезы**"
   ]
  },
  {
   "cell_type": "code",
   "execution_count": 9,
   "id": "83f6cba6-18b7-452e-bcc1-9563baa9e9be",
   "metadata": {},
   "outputs": [
    {
     "data": {
      "text/plain": [
       "KstestResult(statistic=0.30000000000000004, pvalue=0.18735709092941655)"
      ]
     },
     "execution_count": 9,
     "metadata": {},
     "output_type": "execute_result"
    }
   ],
   "source": [
    "sp.stats.kstest(res[0], lambda x: sp.stats.uniform.cdf(x, loc=0, scale=1))"
   ]
  },
  {
   "cell_type": "code",
   "execution_count": 10,
   "id": "c350393e-6821-48fe-ab69-e18246e2e86b",
   "metadata": {},
   "outputs": [],
   "source": [
    "def linear_congruent_gauge_a_b(init, k, b, M, n, a_param, b_param):\n",
    "    r = init\n",
    "    unique = 0\n",
    "    res = []\n",
    "    for i in range(n):\n",
    "        r = (k*r + b) % M\n",
    "        val = (1-r/M)*a_param + (r/M)*b_param\n",
    "        if val not in res:\n",
    "            unique += 1\n",
    "        res.append(val)\n",
    "    return res, unique"
   ]
  },
  {
   "cell_type": "code",
   "execution_count": 11,
   "id": "6758dd09-7a75-4a86-a557-465092b48bf3",
   "metadata": {},
   "outputs": [
    {
     "data": {
      "text/plain": [
       "([170.0, 150.0, 110.0, 130.0, 170.0, 150.0, 110.0, 130.0, 170.0, 150.0], 4)"
      ]
     },
     "execution_count": 11,
     "metadata": {},
     "output_type": "execute_result"
    }
   ],
   "source": [
    "res = linear_congruent_gauge_a_b(3, 2, 1, 10, 10, 100, 200)\n",
    "res"
   ]
  },
  {
   "cell_type": "code",
   "execution_count": 12,
   "id": "818fea04-e366-4a02-a7b5-1fd9a6bb9469",
   "metadata": {},
   "outputs": [
    {
     "data": {
      "image/png": "[encoded data removed]",
      "text/plain": [
       "<Figure size 432x288 with 1 Axes>"
      ]
     },
     "metadata": {
      "needs_background": "light"
     },
     "output_type": "display_data"
    }
   ],
   "source": [
    "plt.hist(res[0])\n",
    "plt.show()"
   ]
  },
  {
   "cell_type": "markdown",
   "id": "8d3993ad-a3d7-4edf-b206-2ed8cf96b0d4",
   "metadata": {},
   "source": [
    "**Проверка гипотезы**"
   ]
  },
  {
   "cell_type": "code",
   "execution_count": 13,
   "id": "cf8a64b4-47d6-4f9c-96f0-349004be7d4d",
   "metadata": {},
   "outputs": [
    {
     "data": {
      "text/plain": [
       "KstestResult(statistic=0.4, pvalue=0.05898924519999926)"
      ]
     },
     "execution_count": 13,
     "metadata": {},
     "output_type": "execute_result"
    }
   ],
   "source": [
    "sp.stats.kstest(res[0], lambda x: sp.stats.uniform.cdf(x, loc=30, scale=200))"
   ]
  },
  {
   "cell_type": "markdown",
   "id": "61e9f2f5-133f-40f0-a001-650a26335820",
   "metadata": {},
   "source": [
    "## Задание №3"
   ]
  },
  {
   "cell_type": "code",
   "execution_count": 14,
   "id": "14ed34a8-8ed4-466b-b3ba-26d7ab3d9142",
   "metadata": {},
   "outputs": [],
   "source": [
    "def exp_inverse_function_method(lambda_, n):\n",
    "    return [-np.log(np.random.random())/lambda_ for _ in range(n)]"
   ]
  },
  {
   "cell_type": "code",
   "execution_count": 15,
   "id": "1430161f-4629-4fac-8d7b-035e4c4d0680",
   "metadata": {},
   "outputs": [],
   "source": [
    "lambda_ = 5\n",
    "res = exp_inverse_function_method(lambda_, 1000)\n",
    "# res"
   ]
  },
  {
   "cell_type": "code",
   "execution_count": 16,
   "id": "5f75d374-f0e7-45e4-b74f-68afee6ff016",
   "metadata": {},
   "outputs": [
    {
     "data": {
      "image/png": "[encoded data removed]",
      "text/plain": [
       "<Figure size 432x288 with 1 Axes>"
      ]
     },
     "metadata": {
      "needs_background": "light"
     },
     "output_type": "display_data"
    }
   ],
   "source": [
    "x = np.linspace(sp.stats.expon.ppf(0.01), sp.stats.expon.ppf(0.99), 100)\n",
    "plt.plot(0.3*x, 600*sp.stats.expon.pdf(x), c=\"r\")\n",
    "plt.hist(res)\n",
    "plt.show()"
   ]
  },
  {
   "cell_type": "markdown",
   "id": "a14988d2-91f6-4d88-9ed7-3e0d996da450",
   "metadata": {},
   "source": [
    "__Математическое ожидание:__"
   ]
  },
  {
   "cell_type": "code",
   "execution_count": 17,
   "id": "af81b14d-7430-4515-a945-56df92656545",
   "metadata": {},
   "outputs": [
    {
     "data": {
      "text/plain": [
       "0.19213392183906874"
      ]
     },
     "execution_count": 17,
     "metadata": {},
     "output_type": "execute_result"
    }
   ],
   "source": [
    "m = sum(res)/len(res)\n",
    "m"
   ]
  },
  {
   "cell_type": "code",
   "execution_count": 18,
   "id": "1dd751b0-aeb3-4636-935c-cd90af6c8890",
   "metadata": {},
   "outputs": [
    {
     "data": {
      "text/plain": [
       "0.2"
      ]
     },
     "execution_count": 18,
     "metadata": {},
     "output_type": "execute_result"
    }
   ],
   "source": [
    "1/lambda_"
   ]
  },
  {
   "cell_type": "markdown",
   "id": "c8fb5e38-a2c0-4eba-b743-f4930a52f2f6",
   "metadata": {},
   "source": [
    "__Дисперсия:__"
   ]
  },
  {
   "cell_type": "code",
   "execution_count": 19,
   "id": "df40e464-e1c4-4b5b-bbd3-f790d3d255c0",
   "metadata": {},
   "outputs": [
    {
     "data": {
      "text/plain": [
       "0.036523493682922625"
      ]
     },
     "execution_count": 19,
     "metadata": {},
     "output_type": "execute_result"
    }
   ],
   "source": [
    "d = sum((x-m)**2 for x in res) / len(res)\n",
    "d"
   ]
  },
  {
   "cell_type": "code",
   "execution_count": 20,
   "id": "d8ab6784-0bd9-4af4-9a93-b1c6ff3ee531",
   "metadata": {},
   "outputs": [
    {
     "data": {
      "text/plain": [
       "0.04"
      ]
     },
     "execution_count": 20,
     "metadata": {},
     "output_type": "execute_result"
    }
   ],
   "source": [
    "1/lambda_**2"
   ]
  },
  {
   "cell_type": "markdown",
   "id": "28190c3b-6f27-4b23-a18d-a11d3792c3e3",
   "metadata": {},
   "source": [
    "**Проверка гипотезы**"
   ]
  },
  {
   "cell_type": "code",
   "execution_count": 21,
   "id": "1139f87c-797e-4df5-ad60-137f8af6a1f7",
   "metadata": {},
   "outputs": [
    {
     "data": {
      "text/plain": [
       "KstestResult(statistic=0.03048548325866085, pvalue=0.3043931949589904)"
      ]
     },
     "execution_count": 21,
     "metadata": {},
     "output_type": "execute_result"
    }
   ],
   "source": [
    "sp.stats.kstest(res, lambda x: sp.stats.expon.cdf(x, loc=0, scale=0.2))"
   ]
  },
  {
   "cell_type": "markdown",
   "id": "e4f2fa66-1509-4d51-beb2-94554be91570",
   "metadata": {},
   "source": [
    "## Задание №4"
   ]
  },
  {
   "cell_type": "code",
   "execution_count": 22,
   "id": "0df325e9-5a97-41d3-a341-92617574888c",
   "metadata": {},
   "outputs": [],
   "source": [
    "def triangle_inverse_function_method(a, b, c, n):\n",
    "    res = []\n",
    "    for _ in range(n):\n",
    "        y = np.random.random()\n",
    "        if (0 < y < (c-a)/(b-a)):\n",
    "            res.append(a + np.sqrt((b-a)*(c-a)*y))\n",
    "        else:\n",
    "            res.append(b - np.sqrt((b-a)*(b-c)*(1-y)))\n",
    "    return res"
   ]
  },
  {
   "cell_type": "code",
   "execution_count": 23,
   "id": "91d91d95-8baf-4313-8ef7-5467577dde1d",
   "metadata": {},
   "outputs": [],
   "source": [
    "a = 0\n",
    "b = 1\n",
    "c = 0.5\n",
    "res = triangle_inverse_function_method(a, b, c, 1000)\n",
    "# res"
   ]
  },
  {
   "cell_type": "code",
   "execution_count": 24,
   "id": "51b1ded1-165c-4202-af88-ffdcf6a344be",
   "metadata": {},
   "outputs": [
    {
     "data": {
      "image/png": "[encoded data removed]",
      "text/plain": [
       "<Figure size 432x288 with 1 Axes>"
      ]
     },
     "metadata": {
      "needs_background": "light"
     },
     "output_type": "display_data"
    }
   ],
   "source": [
    "x = np.linspace(sp.stats.triang.ppf(0.01, c), sp.stats.triang.ppf(0.99, c), 100)\n",
    "plt.plot(x, 100*sp.stats.triang.pdf(x, c), c=\"r\")\n",
    "plt.hist(res)\n",
    "plt.show()"
   ]
  },
  {
   "cell_type": "markdown",
   "id": "307d43d5-caff-4bdb-93e6-67e7f2205ba0",
   "metadata": {},
   "source": [
    "__Математическое ожидание:__"
   ]
  },
  {
   "cell_type": "code",
   "execution_count": 25,
   "id": "1764c962-ff20-4c3a-bfc9-b5d06e730e31",
   "metadata": {},
   "outputs": [
    {
     "data": {
      "text/plain": [
       "0.5160269236249747"
      ]
     },
     "execution_count": 25,
     "metadata": {},
     "output_type": "execute_result"
    }
   ],
   "source": [
    "m = sum(res)/len(res)\n",
    "m"
   ]
  },
  {
   "cell_type": "code",
   "execution_count": 26,
   "id": "489fee1e-e3aa-4895-8fd6-47feb866cae6",
   "metadata": {},
   "outputs": [
    {
     "data": {
      "text/plain": [
       "0.5"
      ]
     },
     "execution_count": 26,
     "metadata": {},
     "output_type": "execute_result"
    }
   ],
   "source": [
    "(a+b+c)/3"
   ]
  },
  {
   "cell_type": "markdown",
   "id": "ca6a6f7d-ef46-4a71-8697-d36f1bc787f1",
   "metadata": {},
   "source": [
    "__Дисперсия:__"
   ]
  },
  {
   "cell_type": "code",
   "execution_count": 27,
   "id": "8236ce88-cffc-4d8b-9500-4889fe64278f",
   "metadata": {},
   "outputs": [
    {
     "data": {
      "text/plain": [
       "0.04198533958810787"
      ]
     },
     "execution_count": 27,
     "metadata": {},
     "output_type": "execute_result"
    }
   ],
   "source": [
    "d = sum((x-m)**2 for x in res) / len(res)\n",
    "d"
   ]
  },
  {
   "cell_type": "code",
   "execution_count": 28,
   "id": "17f6e349-1076-4940-a959-cb2835cfd28c",
   "metadata": {},
   "outputs": [
    {
     "data": {
      "text/plain": [
       "0.041666666666666664"
      ]
     },
     "execution_count": 28,
     "metadata": {},
     "output_type": "execute_result"
    }
   ],
   "source": [
    "(a**2+b**2+c**2-a*b-a*c-b*c)/18"
   ]
  },
  {
   "cell_type": "markdown",
   "id": "20669e20-a6ce-44de-8f3c-4f83402a3c93",
   "metadata": {},
   "source": [
    "**Проверка гипотезы**"
   ]
  },
  {
   "cell_type": "code",
   "execution_count": 29,
   "id": "d5a99d7c-5626-4a76-b97e-726f5e343820",
   "metadata": {},
   "outputs": [
    {
     "data": {
      "text/plain": [
       "KstestResult(statistic=0.05169087947748163, pvalue=0.009212252362537258)"
      ]
     },
     "execution_count": 29,
     "metadata": {},
     "output_type": "execute_result"
    }
   ],
   "source": [
    "sp.stats.kstest(res, lambda x: sp.stats.triang.cdf(x, c, loc=0, scale=1))"
   ]
  },
  {
   "cell_type": "markdown",
   "id": "0c8435aa-251e-4718-9441-dc248a5606e0",
   "metadata": {},
   "source": [
    "## Задание №5"
   ]
  },
  {
   "cell_type": "code",
   "execution_count": 49,
   "id": "5507ee31-376a-4f5e-b7fa-5395c9b3e3ed",
   "metadata": {},
   "outputs": [],
   "source": [
    "def box_muller_transform(n):\n",
    "    res = []\n",
    "    for _ in range(n):\n",
    "        v1, v2 = np.random.uniform(size=2)\n",
    "        res.append(np.random.choice([np.cos(2*np.pi*v1)*np.sqrt(-2*np.log(v2)),\n",
    "                                     np.sin(2*np.pi*v1)*np.sqrt(-2*np.log(v2))]))\n",
    "    return res"
   ]
  },
  {
   "cell_type": "code",
   "execution_count": 50,
   "id": "4fefa97a-bbdf-485a-bfb3-9afcee361ce8",
   "metadata": {},
   "outputs": [],
   "source": [
    "res = box_muller_transform(1000)\n",
    "# res"
   ]
  },
  {
   "cell_type": "code",
   "execution_count": 51,
   "id": "9717ce93-b639-49f6-9620-aec5a8262efb",
   "metadata": {},
   "outputs": [
    {
     "data": {
      "image/png": "[encoded data removed]",
      "text/plain": [
       "<Figure size 432x288 with 1 Axes>"
      ]
     },
     "metadata": {
      "needs_background": "light"
     },
     "output_type": "display_data"
    }
   ],
   "source": [
    "mu = 0\n",
    "variance = 1\n",
    "sigma = np.sqrt(variance)\n",
    "x = np.linspace(mu - 3*sigma, mu + 3*sigma, 100)\n",
    "plt.plot(x, 600*sp.stats.norm.pdf(x, mu, sigma), c=\"r\")\n",
    "plt.hist(res)\n",
    "plt.show()"
   ]
  },
  {
   "cell_type": "markdown",
   "id": "3eedb08f-cbfe-4d58-8612-ac94983c46cd",
   "metadata": {},
   "source": [
    "**Проверка гипотезы**"
   ]
  },
  {
   "cell_type": "code",
   "execution_count": 33,
   "id": "bb25a094-8e94-4985-a31b-376aaa744aa9",
   "metadata": {},
   "outputs": [
    {
     "data": {
      "text/plain": [
       "KstestResult(statistic=0.025903023429157512, pvalue=0.5050985031013947)"
      ]
     },
     "execution_count": 33,
     "metadata": {},
     "output_type": "execute_result"
    }
   ],
   "source": [
    "sp.stats.kstest(res, lambda x: sp.stats.norm.cdf(x, loc=0, scale=1))"
   ]
  },
  {
   "cell_type": "code",
   "execution_count": 34,
   "id": "5bba2d10-445b-4b64-8d08-7ab94d301f5e",
   "metadata": {},
   "outputs": [
    {
     "data": {
      "text/plain": [
       "KstestResult(statistic=0.018, pvalue=0.9969602438295625)"
      ]
     },
     "execution_count": 34,
     "metadata": {},
     "output_type": "execute_result"
    }
   ],
   "source": [
    "test_data = np.random.normal(size=1000)\n",
    "sp.stats.ks_2samp(res, test_data)"
   ]
  },
  {
   "cell_type": "code",
   "execution_count": 35,
   "id": "1278cd3c-5238-43ee-9e5d-2cf00f940008",
   "metadata": {},
   "outputs": [],
   "source": [
    "def central_limit_theorem(n, m):\n",
    "    return [np.sqrt(12/m)*np.sum(np.random.uniform(size=m))-m/2 for _ in range(n)]"
   ]
  },
  {
   "cell_type": "code",
   "execution_count": 36,
   "id": "9caca631-56bd-444c-bd15-be8a6496ca61",
   "metadata": {},
   "outputs": [],
   "source": [
    "res = central_limit_theorem(1000, 10)\n",
    "# res"
   ]
  },
  {
   "cell_type": "code",
   "execution_count": 37,
   "id": "d18ecd0c-f395-4858-a6c9-fc49e115d079",
   "metadata": {},
   "outputs": [
    {
     "data": {
      "image/png": "[encoded data removed]",
      "text/plain": [
       "<Figure size 432x288 with 1 Axes>"
      ]
     },
     "metadata": {
      "needs_background": "light"
     },
     "output_type": "display_data"
    }
   ],
   "source": [
    "mu = 0.5\n",
    "variance = 1\n",
    "sigma = np.sqrt(variance)\n",
    "x = np.linspace(mu - 3.5*sigma, mu + 3.5*sigma, 100)\n",
    "plt.plot(x, 650*sp.stats.norm.pdf(x, mu, sigma), c=\"r\")\n",
    "plt.hist(res)\n",
    "plt.show()"
   ]
  },
  {
   "cell_type": "markdown",
   "id": "0ea87df2-0d4d-4940-917a-06996ccb57e9",
   "metadata": {},
   "source": [
    "**Проверка гипотезы**"
   ]
  },
  {
   "cell_type": "code",
   "execution_count": 38,
   "id": "01efd5bb-fa1f-4d48-b196-361e88a561e8",
   "metadata": {},
   "outputs": [
    {
     "data": {
      "text/plain": [
       "KstestResult(statistic=0.026468548604575204, pvalue=0.47720508196355993)"
      ]
     },
     "execution_count": 38,
     "metadata": {},
     "output_type": "execute_result"
    }
   ],
   "source": [
    "sp.stats.kstest(res, lambda x: sp.stats.norm.cdf(x, loc=0.5, scale=1))"
   ]
  },
  {
   "cell_type": "markdown",
   "id": "e9ed5b80-1cfe-429e-a88a-3140d4e65e79",
   "metadata": {},
   "source": [
    "## Задание №6"
   ]
  },
  {
   "cell_type": "code",
   "execution_count": 39,
   "id": "469d147b-f69c-402b-ba3b-911c91184dfb",
   "metadata": {},
   "outputs": [],
   "source": [
    "n = 1000\n",
    "\n",
    "x = np.linspace(0,1,1000)\n",
    "y = np.sin(np.pi*x)\n",
    "\n",
    "x_rand = np.random.uniform(size=n)\n",
    "y_rand = np.random.uniform(size=n)"
   ]
  },
  {
   "cell_type": "code",
   "execution_count": 40,
   "id": "4256d746-cf3c-42bc-90cf-9182060a0b6e",
   "metadata": {},
   "outputs": [
    {
     "data": {
      "image/png": "[encoded data removed]",
      "text/plain": [
       "<Figure size 432x288 with 1 Axes>"
      ]
     },
     "metadata": {
      "needs_background": "light"
     },
     "output_type": "display_data"
    }
   ],
   "source": [
    "plt.scatter(x_rand,y_rand, s=2, c=\"r\")\n",
    "plt.plot(x, y)\n",
    "plt.show()"
   ]
  },
  {
   "cell_type": "code",
   "execution_count": 41,
   "id": "ebc425fe-26fc-49ca-aefc-7d39b90a3469",
   "metadata": {},
   "outputs": [],
   "source": [
    "def monte_carlo(n):\n",
    "    x_rand = np.random.uniform(size=n)\n",
    "    y_rand = np.random.uniform(size=n)\n",
    "    count = 0\n",
    "    for i in range(n):\n",
    "        if y_rand[i] < np.sin(np.pi*x_rand[i]):\n",
    "            count += 1\n",
    "    return count/n"
   ]
  },
  {
   "cell_type": "code",
   "execution_count": 42,
   "id": "c33d8843-36f9-473f-aab9-60be3f200978",
   "metadata": {},
   "outputs": [
    {
     "data": {
      "text/plain": [
       "0.6437"
      ]
     },
     "execution_count": 42,
     "metadata": {},
     "output_type": "execute_result"
    }
   ],
   "source": [
    "monte_carlo(10000)"
   ]
  },
  {
   "cell_type": "code",
   "execution_count": 43,
   "id": "3a54c493-c372-424c-9933-cc3db4d465a3",
   "metadata": {},
   "outputs": [],
   "source": [
    "points = [i for i in range(1, 10000, 50)]\n",
    "res = np.array([monte_carlo(p) for p in points])\n",
    "accuracy = 2/np.pi - res"
   ]
  },
  {
   "cell_type": "code",
   "execution_count": 44,
   "id": "bac4988a-d736-4dbf-ac71-cd0dff1f2bdb",
   "metadata": {},
   "outputs": [
    {
     "data": {
      "text/plain": [
       "[]"
      ]
     },
     "execution_count": 44,
     "metadata": {},
     "output_type": "execute_result"
    },
    {
     "data": {
      "image/png": "[encoded data removed]",
      "text/plain": [
       "<Figure size 432x288 with 1 Axes>"
      ]
     },
     "metadata": {
      "needs_background": "light"
     },
     "output_type": "display_data"
    }
   ],
   "source": [
    "plt.plot(accuracy)\n",
    "plt.plot()"
   ]
  },
  {
   "cell_type": "markdown",
   "id": "6e3d1e4f-16ec-4a96-8ec7-1f54a5997a70",
   "metadata": {},
   "source": [
    "## Задание №7"
   ]
  },
  {
   "cell_type": "code",
   "execution_count": 45,
   "id": "021e61a2-5a0d-453f-99c9-4fe94454c1dd",
   "metadata": {},
   "outputs": [],
   "source": [
    "def coin(n):\n",
    "    xs = np.random.uniform(size=n)\n",
    "    return sum([0 if x < 0.5 else 1 for x in xs])/n"
   ]
  },
  {
   "cell_type": "code",
   "execution_count": 46,
   "id": "124cb03c-21f9-4462-888a-c5547c236d3a",
   "metadata": {},
   "outputs": [],
   "source": [
    "points = [i for i in range(1, 100000, 50)]\n",
    "res = np.array([coin(p) for p in points])\n",
    "accuracy = 0.5 - res"
   ]
  },
  {
   "cell_type": "code",
   "execution_count": 47,
   "id": "d12763b2-0ac7-40e9-86a5-1c96df665613",
   "metadata": {},
   "outputs": [
    {
     "data": {
      "text/plain": [
       "[]"
      ]
     },
     "execution_count": 47,
     "metadata": {},
     "output_type": "execute_result"
    },
    {
     "data": {
      "image/png": "[encoded data removed]",
      "text/plain": [
       "<Figure size 432x288 with 1 Axes>"
      ]
     },
     "metadata": {
      "needs_background": "light"
     },
     "output_type": "display_data"
    }
   ],
   "source": [
    "plt.plot(accuracy)\n",
    "plt.plot()"
   ]
  }
 ],
 "metadata": {
  "kernelspec": {
   "display_name": "Python 3 (ipykernel)",
   "language": "python",
   "name": "python3"
  },
  "language_info": {
   "codemirror_mode": {
    "name": "ipython",
    "version": 3
   },
   "file_extension": ".py",
   "mimetype": "text/x-python",
   "name": "python",
   "nbconvert_exporter": "python",
   "pygments_lexer": "ipython3",
   "version": "3.10.4"
  }
 },
 "nbformat": 4,
 "nbformat_minor": 5
}

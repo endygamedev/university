{
 "cells": [
  {
   "cell_type": "code",
   "execution_count": 6,
   "id": "8aaab8d5-7acc-4ab7-9d4e-0612eb78ad05",
   "metadata": {},
   "outputs": [],
   "source": [
    "import numpy as np\n",
    "from typing import List, Dict"
   ]
  },
  {
   "cell_type": "code",
   "execution_count": 7,
   "id": "4bc321d0-e830-4ffc-b16e-fe4fd8a13e83",
   "metadata": {},
   "outputs": [],
   "source": [
    "class QueuingSystemWithInfinityQueue:\n",
    "    def __init__(self, *, lambda_: float, mu: float, simulation_time: int):\n",
    "        self.lambda_ = lambda_                    # интенсивность потока требований\n",
    "        self.mu = mu                              # интенсивность обслуживания требований\n",
    "        self.simulation_time = simulation_time    # время моделирования системы\n",
    "\n",
    "        self.requirements = []                    # время поступления нового требования\n",
    "        self.execute_services = []                # время обслуживания конкретного требования\n",
    "        self.end_services = []                    # время конца обслуживания конкретного требования\n",
    "        self.queue = {}                           # очередь на момент подачи i-го требования\n",
    "        \n",
    "    def generate_requirements(self) -> List[float]:\n",
    "        last_requirements_time = 0\n",
    "        while last_requirements_time < self.simulation_time:\n",
    "            arrival_time = np.random.exponential(self.lambda_)\n",
    "            last_requirements_time += arrival_time\n",
    "            self.requirements.append(last_requirements_time)\n",
    "        return self.requirements\n",
    "    \n",
    "    def get_service_times(self) -> List[float]:\n",
    "        for _ in range(len(self.requirements)):\n",
    "            service_time = np.random.exponential(self.mu)\n",
    "            self.execute_services.append(service_time)\n",
    "        return self.execute_services\n",
    "    \n",
    "    def get_service_end(self) -> List[float]:\n",
    "        self.end_services.append(self.requirements[0] + self.execute_services[0])\n",
    "        for requirement in range(len(self.requirements) - 1):\n",
    "            value = self.requirements[requirement + 1] + self.execute_services[requirement + 1]\n",
    "            if self.requirements[requirement + 1] < self.end_services[requirement]:\n",
    "                value += self.end_services[requirement] - self.requirements[requirement + 1]\n",
    "            self.end_services.append(value)\n",
    "        return self.end_services\n",
    "    \n",
    "    def get_queue(self) -> Dict[int, int]:\n",
    "        self.queue = {}\n",
    "        for requirement in range(1, len(self.requirements)):\n",
    "            self.queue[requirement + 1] = (self.requirements[requirement] < np.array(self.end_services[:requirement])).sum()\n",
    "        return self.queue\n",
    "    \n",
    "    def get_features(self):\n",
    "        number_of_requirements = len(self.requirements)          # количество требований\n",
    "        average_service_time = np.mean(self.execute_services)    # среднее время обслуживания\n",
    "        average_time_spent_in_system = (np.array(self.end_services) - np.array(self.requirements)).mean()    # среднее время пребывания в системе требования\n",
    "        middle_length_queue = np.mean(list(self.queue.values()))                          # средняя длина очереди\n",
    "        requirements_per_unit_of_time = number_of_requirements / self.end_services[-1]    # количество требований обслуженных в единицу времени\n",
    "        arriving_per_unit_of_time = number_of_requirements / self.requirements[-1]        # количество требований поступающих в единицу времени\n",
    "        \n",
    "        return {\"Number of requirements\": number_of_requirements,\n",
    "                \"Average service time\": average_service_time,\n",
    "                \"Average time spent in system\": average_time_spent_in_system,\n",
    "                \"Middle length queue\": middle_length_queue,\n",
    "                \"Requirements per unit of time\": requirements_per_unit_of_time,\n",
    "                \"Arriving requirements per unit of time\": arriving_per_unit_of_time}"
   ]
  },
  {
   "cell_type": "code",
   "execution_count": 8,
   "id": "473a6bae-6409-434c-adea-892c6281d098",
   "metadata": {},
   "outputs": [],
   "source": [
    "lambda_ = 1\n",
    "mu = 2\n",
    "simulation_time = 100\n",
    "\n",
    "qs = QueuingSystemWithInfinityQueue(lambda_=lambda_,\n",
    "                                    mu=mu,\n",
    "                                    simulation_time=simulation_time)"
   ]
  },
  {
   "cell_type": "code",
   "execution_count": 9,
   "id": "39a1ddac-308c-4255-bff9-e0a8bb7a9042",
   "metadata": {},
   "outputs": [
    {
     "data": {
      "text/plain": [
       "{'Number of requirements': 116,\n",
       " 'Average service time': 2.2798619976439727,\n",
       " 'Average time spent in system': 84.5850848144408,\n",
       " 'Middle length queue': 37.904347826086955,\n",
       " 'Requirements per unit of time': 0.43519544141659766,\n",
       " 'Arriving requirements per unit of time': 1.1598994853157558}"
      ]
     },
     "execution_count": 9,
     "metadata": {},
     "output_type": "execute_result"
    }
   ],
   "source": [
    "requirements = qs.generate_requirements()\n",
    "service_time = qs.get_service_times()\n",
    "service_end = qs.get_service_end()\n",
    "queue = qs.get_queue()\n",
    "\n",
    "qs.get_features()"
   ]
  }
 ],
 "metadata": {
  "kernelspec": {
   "display_name": "Python 3 (ipykernel)",
   "language": "python",
   "name": "python3"
  },
  "language_info": {
   "codemirror_mode": {
    "name": "ipython",
    "version": 3
   },
   "file_extension": ".py",
   "mimetype": "text/x-python",
   "name": "python",
   "nbconvert_exporter": "python",
   "pygments_lexer": "ipython3",
   "version": "3.10.4"
  }
 },
 "nbformat": 4,
 "nbformat_minor": 5
}

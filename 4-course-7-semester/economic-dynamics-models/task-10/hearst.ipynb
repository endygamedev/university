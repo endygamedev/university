{
 "cells": [
  {
   "cell_type": "markdown",
   "id": "067a8f7d-b546-4561-bdb2-57de45d8e704",
   "metadata": {},
   "source": [
    "<h2><div align=\"center\">Показатель Хёрста</div></h2>"
   ]
  },
  {
   "cell_type": "markdown",
   "id": "404e05d5-9844-4677-83bc-c25360739863",
   "metadata": {},
   "source": [
    "### Импорт модулей"
   ]
  },
  {
   "cell_type": "code",
   "execution_count": 19,
   "id": "931295ad-a889-40c4-8a6a-80a54515b2b5",
   "metadata": {},
   "outputs": [],
   "source": [
    "import numpy as np\n",
    "from typing import List, Union\n",
    "import matplotlib.pyplot as plt\n",
    "\n",
    "%matplotlib inline"
   ]
  },
  {
   "cell_type": "code",
   "execution_count": 2,
   "id": "073dbcb8-3ac8-4dcc-8d14-c91b8eb2b545",
   "metadata": {},
   "outputs": [],
   "source": [
    "def hearst_coefficient(x: List[Union[int, float]], *, a=0.5) -> float:\n",
    "    size = len(x)\n",
    "    S = np.std(x)\n",
    "    mean = np.mean(x)\n",
    "    acc = np.add.accumulate(x)\n",
    "    y = np.array([acc[i - 1] - i * mean for i in range(1, len(acc) + 1)])\n",
    "    R = np.max(y) - np.min(y)\n",
    "    H = np.log(R / S) / np.log(a * size)\n",
    "    return H"
   ]
  },
  {
   "cell_type": "markdown",
   "id": "e9d475f9-4707-4999-9656-08c61000a3b3",
   "metadata": {},
   "source": [
    "### Случайная равномерно распределённая последовательность от $[a, b]$"
   ]
  },
  {
   "cell_type": "code",
   "execution_count": 3,
   "id": "0615c55e-023d-4a2f-863f-13fae723e154",
   "metadata": {},
   "outputs": [],
   "source": [
    "a = 2\n",
    "b = 20\n",
    "size = 50"
   ]
  },
  {
   "cell_type": "code",
   "execution_count": 4,
   "id": "3d15747e-6e30-48e9-bff8-dc3ff6c704e0",
   "metadata": {},
   "outputs": [],
   "source": [
    "x = np.random.uniform(a, b, size)"
   ]
  },
  {
   "cell_type": "code",
   "execution_count": 5,
   "id": "191e80af-2986-4df7-be09-9de176613207",
   "metadata": {},
   "outputs": [
    {
     "name": "stdout",
     "output_type": "stream",
     "text": [
      "Показатель Хёрста: 0.622016459832895\n"
     ]
    }
   ],
   "source": [
    "print(f\"Показатель Хёрста: {hearst_coefficient(x)}\")"
   ]
  },
  {
   "cell_type": "markdown",
   "id": "f2b40d5d-f9c0-4e5e-a463-41af185eaf71",
   "metadata": {},
   "source": [
    "### Линейный тренд $y = b + a \\times t$"
   ]
  },
  {
   "cell_type": "code",
   "execution_count": 6,
   "id": "5d2b1e85-de0b-4f69-be9b-39f8d7309ba7",
   "metadata": {},
   "outputs": [],
   "source": [
    "a = 2\n",
    "b = 20\n",
    "size = 100"
   ]
  },
  {
   "cell_type": "code",
   "execution_count": 7,
   "id": "6a1b8b96-5d70-470c-bcab-8d2264f9684b",
   "metadata": {},
   "outputs": [],
   "source": [
    "x = np.array([b + a * t for t in range(size)])"
   ]
  },
  {
   "cell_type": "code",
   "execution_count": 8,
   "id": "803a9ef1-4c3c-4127-b39d-198ccd2f34e1",
   "metadata": {},
   "outputs": [
    {
     "name": "stdout",
     "output_type": "stream",
     "text": [
      "Показатель Хёрста: 0.9632438169391627\n"
     ]
    }
   ],
   "source": [
    "print(f\"Показатель Хёрста: {hearst_coefficient(x)}\")"
   ]
  },
  {
   "cell_type": "markdown",
   "id": "f58228c5-d64d-4ec4-9000-0d47ee4ba8e3",
   "metadata": {},
   "source": [
    "### Линейный тренд + случайное возмущение $y = b + a \\times t + \\epsilon$"
   ]
  },
  {
   "cell_type": "code",
   "execution_count": 9,
   "id": "3590eb37-7806-4c7c-b7d2-18afec6596a7",
   "metadata": {},
   "outputs": [],
   "source": [
    "a = 2\n",
    "b = 20\n",
    "size = 100"
   ]
  },
  {
   "cell_type": "code",
   "execution_count": 10,
   "id": "817a494e-7269-43fd-ac10-cd252064ccb6",
   "metadata": {},
   "outputs": [],
   "source": [
    "x = np.array([b + a * t + np.random.random() for t in range(size)])"
   ]
  },
  {
   "cell_type": "code",
   "execution_count": 11,
   "id": "f2f36c34-f9fc-4d26-a0fe-2b7e7c69b673",
   "metadata": {},
   "outputs": [
    {
     "name": "stdout",
     "output_type": "stream",
     "text": [
      "Показатель Хёрста: 0.9631410976176334\n"
     ]
    }
   ],
   "source": [
    "print(f\"Показатель Хёрста: {hearst_coefficient(x)}\")"
   ]
  },
  {
   "cell_type": "markdown",
   "id": "926aeb55-ec07-4815-8f20-6e0935c3496b",
   "metadata": {},
   "source": [
    "### $y = A \\times \\sin(k \\cdot x)$"
   ]
  },
  {
   "cell_type": "code",
   "execution_count": 12,
   "id": "7dc492be-c3ca-4648-b424-dec3176e701f",
   "metadata": {},
   "outputs": [],
   "source": [
    "A = 10\n",
    "size = 100"
   ]
  },
  {
   "cell_type": "code",
   "execution_count": 13,
   "id": "57b65b35-b59b-408c-9c1d-884ee6e6e930",
   "metadata": {},
   "outputs": [],
   "source": [
    "x = np.array([a * np.sin(t) for t in range(size)])"
   ]
  },
  {
   "cell_type": "code",
   "execution_count": 14,
   "id": "00570db5-12d1-480b-bb73-afc6d7dc5a1d",
   "metadata": {},
   "outputs": [
    {
     "name": "stdout",
     "output_type": "stream",
     "text": [
      "Показатель Хёрста: 0.30937585125856343\n"
     ]
    }
   ],
   "source": [
    "print(f\"Показатель Хёрста: {hearst_coefficient(x)}\")"
   ]
  },
  {
   "cell_type": "markdown",
   "id": "1ca73218-d9c8-4ae6-8b38-6c2aac5c9ce7",
   "metadata": {},
   "source": [
    "### $y = A \\times \\sin(k \\cdot x) + \\epsilon$"
   ]
  },
  {
   "cell_type": "code",
   "execution_count": 15,
   "id": "0fb8028f-157e-49eb-adcb-6a89af297afa",
   "metadata": {},
   "outputs": [],
   "source": [
    "A = 10\n",
    "size = 100"
   ]
  },
  {
   "cell_type": "code",
   "execution_count": 16,
   "id": "cbd5a2f5-8b94-4290-88e8-0f52e6da4158",
   "metadata": {},
   "outputs": [],
   "source": [
    "x = np.array([a * np.sin(t) + np.random.random() for t in range(size)])"
   ]
  },
  {
   "cell_type": "code",
   "execution_count": 17,
   "id": "67958c99-b93b-4894-80c7-5185e1412270",
   "metadata": {},
   "outputs": [
    {
     "name": "stdout",
     "output_type": "stream",
     "text": [
      "Показатель Хёрста: 0.3827272557633396\n"
     ]
    }
   ],
   "source": [
    "print(f\"Показатель Хёрста: {hearst_coefficient(x)}\")"
   ]
  }
 ],
 "metadata": {
  "kernelspec": {
   "display_name": "Python 3 (ipykernel)",
   "language": "python",
   "name": "python3"
  },
  "language_info": {
   "codemirror_mode": {
    "name": "ipython",
    "version": 3
   },
   "file_extension": ".py",
   "mimetype": "text/x-python",
   "name": "python",
   "nbconvert_exporter": "python",
   "pygments_lexer": "ipython3",
   "version": "3.10.6"
  }
 },
 "nbformat": 4,
 "nbformat_minor": 5
}

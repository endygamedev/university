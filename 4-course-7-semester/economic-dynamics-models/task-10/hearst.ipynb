{
 "cells": [
  {
   "cell_type": "markdown",
   "id": "067a8f7d-b546-4561-bdb2-57de45d8e704",
   "metadata": {},
   "source": [
    "<h2><div align=\"center\">Показатель Хёрста</div></h2>"
   ]
  },
  {
   "cell_type": "code",
   "execution_count": 58,
   "id": "931295ad-a889-40c4-8a6a-80a54515b2b5",
   "metadata": {},
   "outputs": [],
   "source": [
    "import numpy as np\n",
    "from typing import List, Union"
   ]
  },
  {
   "cell_type": "code",
   "execution_count": 74,
   "id": "073dbcb8-3ac8-4dcc-8d14-c91b8eb2b545",
   "metadata": {},
   "outputs": [],
   "source": [
    "def hearst_coefficient(x: List[Union[int, float]], *, a=0.5) -> float:\n",
    "    size = len(x)\n",
    "    \n",
    "    S = np.std(x)\n",
    "    mean = np.mean(x)\n",
    "    acc = np.add.accumulate(x)\n",
    "    y = np.array([acc[i - 1] - i * mean for i in range(1, len(acc) + 1)])\n",
    "    R = np.max(y) - np.min(y)\n",
    "    H = np.log(R / S) / np.log(a / size)\n",
    "    return H"
   ]
  },
  {
   "cell_type": "markdown",
   "id": "e9d475f9-4707-4999-9656-08c61000a3b3",
   "metadata": {},
   "source": [
    "### Случайная равномерно распределённая последовательность от $[a, b]$"
   ]
  },
  {
   "cell_type": "code",
   "execution_count": 75,
   "id": "0615c55e-023d-4a2f-863f-13fae723e154",
   "metadata": {},
   "outputs": [],
   "source": [
    "a = 1\n",
    "b = 25\n",
    "size = 100"
   ]
  },
  {
   "cell_type": "code",
   "execution_count": 76,
   "id": "3d15747e-6e30-48e9-bff8-dc3ff6c704e0",
   "metadata": {},
   "outputs": [],
   "source": [
    "x = np.random.uniform(a, b, size)"
   ]
  },
  {
   "cell_type": "code",
   "execution_count": 77,
   "id": "191e80af-2986-4df7-be09-9de176613207",
   "metadata": {},
   "outputs": [
    {
     "name": "stdout",
     "output_type": "stream",
     "text": [
      "Показатель Хёрста: -0.49556117201072597\n"
     ]
    }
   ],
   "source": [
    "print(f\"Показатель Хёрста: {hearst_coefficient(x)}\")"
   ]
  },
  {
   "cell_type": "markdown",
   "id": "f2b40d5d-f9c0-4e5e-a463-41af185eaf71",
   "metadata": {},
   "source": [
    "### Линейный тренд $y = b + a \\times t$"
   ]
  },
  {
   "cell_type": "code",
   "execution_count": 78,
   "id": "5d2b1e85-de0b-4f69-be9b-39f8d7309ba7",
   "metadata": {},
   "outputs": [],
   "source": [
    "a = 2\n",
    "b = 20\n",
    "size = 100"
   ]
  },
  {
   "cell_type": "code",
   "execution_count": 79,
   "id": "6a1b8b96-5d70-470c-bcab-8d2264f9684b",
   "metadata": {},
   "outputs": [],
   "source": [
    "x = np.array([b + a * t for t in range(size)])"
   ]
  },
  {
   "cell_type": "code",
   "execution_count": 80,
   "id": "803a9ef1-4c3c-4127-b39d-198ccd2f34e1",
   "metadata": {},
   "outputs": [
    {
     "name": "stdout",
     "output_type": "stream",
     "text": [
      "Показатель Хёрста: -0.7112129589469087\n"
     ]
    }
   ],
   "source": [
    "print(f\"Показатель Хёрста: {hearst_coefficient(x)}\")"
   ]
  },
  {
   "cell_type": "markdown",
   "id": "f58228c5-d64d-4ec4-9000-0d47ee4ba8e3",
   "metadata": {},
   "source": []
  }
 ],
 "metadata": {
  "kernelspec": {
   "display_name": "Python 3 (ipykernel)",
   "language": "python",
   "name": "python3"
  },
  "language_info": {
   "codemirror_mode": {
    "name": "ipython",
    "version": 3
   },
   "file_extension": ".py",
   "mimetype": "text/x-python",
   "name": "python",
   "nbconvert_exporter": "python",
   "pygments_lexer": "ipython3",
   "version": "3.10.6"
  }
 },
 "nbformat": 4,
 "nbformat_minor": 5
}

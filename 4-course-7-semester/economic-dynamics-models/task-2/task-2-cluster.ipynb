{
 "cells": [
  {
   "cell_type": "markdown",
   "id": "9904d8c1-3b9d-4476-af03-11dd52a7f6f5",
   "metadata": {
    "tags": []
   },
   "source": [
    "## Импорт модулей"
   ]
  },
  {
   "cell_type": "code",
   "execution_count": 1,
   "id": "76c8460a-498a-4e4a-b4c9-a54dab741cb6",
   "metadata": {},
   "outputs": [],
   "source": [
    "import numpy as np\n",
    "import pandas as pd\n",
    "import matplotlib.pyplot as plt\n",
    "from typing import List\n",
    "\n",
    "import wbgapi as wb   # World Bank's data API\n",
    "\n",
    "import scipy.cluster.hierarchy as sch\n",
    "from scipy.cluster.hierarchy import ward\n",
    "\n",
    "from sklearn.cluster import AgglomerativeClustering\n",
    "\n",
    "%matplotlib inline"
   ]
  },
  {
   "cell_type": "markdown",
   "id": "3177af09-e856-45b6-92f6-a984eff3414a",
   "metadata": {
    "jp-MarkdownHeadingCollapsed": true,
    "tags": []
   },
   "source": [
    "## Функции"
   ]
  },
  {
   "cell_type": "code",
   "execution_count": 2,
   "id": "b79f309c-d3fa-47d3-bf76-c718380a9c09",
   "metadata": {},
   "outputs": [],
   "source": [
    "def save_as_xlsx(path: str, sheet_names: List[str], df_list: List[pd.DataFrame]) -> None:\n",
    "    if len(sheet_names) != len(df_list): return\n",
    "\n",
    "    writer = pd.ExcelWriter(path, engine=\"xlsxwriter\")\n",
    "    for i in range(len(sheet_names)):\n",
    "        df_list[i].to_excel(writer, sheet_name=sheet_names[i])\n",
    "    writer.close()"
   ]
  },
  {
   "cell_type": "markdown",
   "id": "ea5a9be3-cf9f-445d-ac26-43be993b8851",
   "metadata": {
    "jp-MarkdownHeadingCollapsed": true,
    "tags": []
   },
   "source": [
    "## Данных"
   ]
  },
  {
   "cell_type": "markdown",
   "id": "35b0af69-b6c2-40dd-9029-4053eb593589",
   "metadata": {},
   "source": [
    "Данные были взяты из API $\\,$ [Всемирного банка](https://data.worldbank.org/indicator)\n",
    "\n",
    "\\[28.09.2022\\]"
   ]
  },
  {
   "cell_type": "markdown",
   "id": "b7533e13-fe05-4918-b40e-2683f4b633da",
   "metadata": {
    "jp-MarkdownHeadingCollapsed": true,
    "tags": []
   },
   "source": [
    "#### Темы роста ВВП (%)"
   ]
  },
  {
   "cell_type": "code",
   "execution_count": 3,
   "id": "cd2a7144-3e09-4a14-b0ee-5b467cc38d22",
   "metadata": {},
   "outputs": [
    {
     "data": {
      "text/html": [
       "<div>\n",
       "<style scoped>\n",
       "    .dataframe tbody tr th:only-of-type {\n",
       "        vertical-align: middle;\n",
       "    }\n",
       "\n",
       "    .dataframe tbody tr th {\n",
       "        vertical-align: top;\n",
       "    }\n",
       "\n",
       "    .dataframe thead th {\n",
       "        text-align: right;\n",
       "    }\n",
       "</style>\n",
       "<table border=\"1\" class=\"dataframe\">\n",
       "  <thead>\n",
       "    <tr style=\"text-align: right;\">\n",
       "      <th></th>\n",
       "      <th>Country Name</th>\n",
       "      <th>Country Code</th>\n",
       "      <th>Indicator Name</th>\n",
       "      <th>Indicator Code</th>\n",
       "      <th>1960</th>\n",
       "      <th>1961</th>\n",
       "      <th>1962</th>\n",
       "      <th>1963</th>\n",
       "      <th>1964</th>\n",
       "      <th>1965</th>\n",
       "      <th>...</th>\n",
       "      <th>2012</th>\n",
       "      <th>2013</th>\n",
       "      <th>2014</th>\n",
       "      <th>2015</th>\n",
       "      <th>2016</th>\n",
       "      <th>2017</th>\n",
       "      <th>2018</th>\n",
       "      <th>2019</th>\n",
       "      <th>2020</th>\n",
       "      <th>2021</th>\n",
       "    </tr>\n",
       "  </thead>\n",
       "  <tbody>\n",
       "    <tr>\n",
       "      <th>0</th>\n",
       "      <td>Aruba</td>\n",
       "      <td>ABW</td>\n",
       "      <td>GDP growth (annual %)</td>\n",
       "      <td>NY.GDP.MKTP.KD.ZG</td>\n",
       "      <td>NaN</td>\n",
       "      <td>NaN</td>\n",
       "      <td>NaN</td>\n",
       "      <td>NaN</td>\n",
       "      <td>NaN</td>\n",
       "      <td>NaN</td>\n",
       "      <td>...</td>\n",
       "      <td>-1.035375</td>\n",
       "      <td>6.429817</td>\n",
       "      <td>-0.020479</td>\n",
       "      <td>3.543630</td>\n",
       "      <td>2.116716</td>\n",
       "      <td>5.482371</td>\n",
       "      <td>1.267218</td>\n",
       "      <td>-2.085600</td>\n",
       "      <td>-22.318948</td>\n",
       "      <td>NaN</td>\n",
       "    </tr>\n",
       "    <tr>\n",
       "      <th>1</th>\n",
       "      <td>Africa Eastern and Southern</td>\n",
       "      <td>AFE</td>\n",
       "      <td>GDP growth (annual %)</td>\n",
       "      <td>NY.GDP.MKTP.KD.ZG</td>\n",
       "      <td>NaN</td>\n",
       "      <td>0.239594</td>\n",
       "      <td>7.980768</td>\n",
       "      <td>5.164334</td>\n",
       "      <td>4.579952</td>\n",
       "      <td>5.327717</td>\n",
       "      <td>...</td>\n",
       "      <td>0.923067</td>\n",
       "      <td>4.200209</td>\n",
       "      <td>3.984387</td>\n",
       "      <td>2.952845</td>\n",
       "      <td>2.217017</td>\n",
       "      <td>2.557135</td>\n",
       "      <td>2.485244</td>\n",
       "      <td>2.025941</td>\n",
       "      <td>-2.886856</td>\n",
       "      <td>4.303667</td>\n",
       "    </tr>\n",
       "    <tr>\n",
       "      <th>2</th>\n",
       "      <td>Afghanistan</td>\n",
       "      <td>AFG</td>\n",
       "      <td>GDP growth (annual %)</td>\n",
       "      <td>NY.GDP.MKTP.KD.ZG</td>\n",
       "      <td>NaN</td>\n",
       "      <td>NaN</td>\n",
       "      <td>NaN</td>\n",
       "      <td>NaN</td>\n",
       "      <td>NaN</td>\n",
       "      <td>NaN</td>\n",
       "      <td>...</td>\n",
       "      <td>12.752287</td>\n",
       "      <td>5.600745</td>\n",
       "      <td>2.724543</td>\n",
       "      <td>1.451315</td>\n",
       "      <td>2.260314</td>\n",
       "      <td>2.647003</td>\n",
       "      <td>1.189228</td>\n",
       "      <td>3.911603</td>\n",
       "      <td>-2.351101</td>\n",
       "      <td>NaN</td>\n",
       "    </tr>\n",
       "    <tr>\n",
       "      <th>3</th>\n",
       "      <td>Africa Western and Central</td>\n",
       "      <td>AFW</td>\n",
       "      <td>GDP growth (annual %)</td>\n",
       "      <td>NY.GDP.MKTP.KD.ZG</td>\n",
       "      <td>NaN</td>\n",
       "      <td>1.848752</td>\n",
       "      <td>3.770220</td>\n",
       "      <td>7.272440</td>\n",
       "      <td>5.396349</td>\n",
       "      <td>4.049793</td>\n",
       "      <td>...</td>\n",
       "      <td>5.142997</td>\n",
       "      <td>6.104192</td>\n",
       "      <td>5.927355</td>\n",
       "      <td>2.745894</td>\n",
       "      <td>0.127844</td>\n",
       "      <td>2.317679</td>\n",
       "      <td>2.952190</td>\n",
       "      <td>3.202544</td>\n",
       "      <td>-0.897014</td>\n",
       "      <td>3.914799</td>\n",
       "    </tr>\n",
       "    <tr>\n",
       "      <th>4</th>\n",
       "      <td>Angola</td>\n",
       "      <td>AGO</td>\n",
       "      <td>GDP growth (annual %)</td>\n",
       "      <td>NY.GDP.MKTP.KD.ZG</td>\n",
       "      <td>NaN</td>\n",
       "      <td>NaN</td>\n",
       "      <td>NaN</td>\n",
       "      <td>NaN</td>\n",
       "      <td>NaN</td>\n",
       "      <td>NaN</td>\n",
       "      <td>...</td>\n",
       "      <td>8.540000</td>\n",
       "      <td>4.950000</td>\n",
       "      <td>4.820000</td>\n",
       "      <td>0.940000</td>\n",
       "      <td>-2.580000</td>\n",
       "      <td>-0.150000</td>\n",
       "      <td>-1.316312</td>\n",
       "      <td>-0.700000</td>\n",
       "      <td>-5.500000</td>\n",
       "      <td>0.700000</td>\n",
       "    </tr>\n",
       "  </tbody>\n",
       "</table>\n",
       "<p>5 rows × 66 columns</p>\n",
       "</div>"
      ],
      "text/plain": [
       "                  Country Name Country Code         Indicator Name  \\\n",
       "0                        Aruba          ABW  GDP growth (annual %)   \n",
       "1  Africa Eastern and Southern          AFE  GDP growth (annual %)   \n",
       "2                  Afghanistan          AFG  GDP growth (annual %)   \n",
       "3   Africa Western and Central          AFW  GDP growth (annual %)   \n",
       "4                       Angola          AGO  GDP growth (annual %)   \n",
       "\n",
       "      Indicator Code  1960      1961      1962      1963      1964      1965  \\\n",
       "0  NY.GDP.MKTP.KD.ZG   NaN       NaN       NaN       NaN       NaN       NaN   \n",
       "1  NY.GDP.MKTP.KD.ZG   NaN  0.239594  7.980768  5.164334  4.579952  5.327717   \n",
       "2  NY.GDP.MKTP.KD.ZG   NaN       NaN       NaN       NaN       NaN       NaN   \n",
       "3  NY.GDP.MKTP.KD.ZG   NaN  1.848752  3.770220  7.272440  5.396349  4.049793   \n",
       "4  NY.GDP.MKTP.KD.ZG   NaN       NaN       NaN       NaN       NaN       NaN   \n",
       "\n",
       "   ...       2012      2013      2014      2015      2016      2017      2018  \\\n",
       "0  ...  -1.035375  6.429817 -0.020479  3.543630  2.116716  5.482371  1.267218   \n",
       "1  ...   0.923067  4.200209  3.984387  2.952845  2.217017  2.557135  2.485244   \n",
       "2  ...  12.752287  5.600745  2.724543  1.451315  2.260314  2.647003  1.189228   \n",
       "3  ...   5.142997  6.104192  5.927355  2.745894  0.127844  2.317679  2.952190   \n",
       "4  ...   8.540000  4.950000  4.820000  0.940000 -2.580000 -0.150000 -1.316312   \n",
       "\n",
       "       2019       2020      2021  \n",
       "0 -2.085600 -22.318948       NaN  \n",
       "1  2.025941  -2.886856  4.303667  \n",
       "2  3.911603  -2.351101       NaN  \n",
       "3  3.202544  -0.897014  3.914799  \n",
       "4 -0.700000  -5.500000  0.700000  \n",
       "\n",
       "[5 rows x 66 columns]"
      ]
     },
     "execution_count": 3,
     "metadata": {},
     "output_type": "execute_result"
    }
   ],
   "source": [
    "df_gdp_growth_data = pd.read_csv(\"./data/GDP_growth.csv\", skiprows=4)\n",
    "df_gdp_growth_data.head()\n",
    "\n",
    "# df_gdp_growth_data = wb.data.DataFrame(\"NY.GDP.MKTP.KD.ZG\", labels=True)\n",
    "# df_gdp_growth_data.head()"
   ]
  },
  {
   "cell_type": "markdown",
   "id": "54fd7a0a-afb9-4252-97cb-9971fa7e0b57",
   "metadata": {
    "jp-MarkdownHeadingCollapsed": true,
    "tags": []
   },
   "source": [
    "#### Подушевой ВВП (current US$)"
   ]
  },
  {
   "cell_type": "code",
   "execution_count": 4,
   "id": "e49c3669-bddd-40db-92cf-6284423204ca",
   "metadata": {},
   "outputs": [
    {
     "data": {
      "text/html": [
       "<div>\n",
       "<style scoped>\n",
       "    .dataframe tbody tr th:only-of-type {\n",
       "        vertical-align: middle;\n",
       "    }\n",
       "\n",
       "    .dataframe tbody tr th {\n",
       "        vertical-align: top;\n",
       "    }\n",
       "\n",
       "    .dataframe thead th {\n",
       "        text-align: right;\n",
       "    }\n",
       "</style>\n",
       "<table border=\"1\" class=\"dataframe\">\n",
       "  <thead>\n",
       "    <tr style=\"text-align: right;\">\n",
       "      <th></th>\n",
       "      <th>Country Name</th>\n",
       "      <th>Country Code</th>\n",
       "      <th>Indicator Name</th>\n",
       "      <th>Indicator Code</th>\n",
       "      <th>1960</th>\n",
       "      <th>1961</th>\n",
       "      <th>1962</th>\n",
       "      <th>1963</th>\n",
       "      <th>1964</th>\n",
       "      <th>1965</th>\n",
       "      <th>...</th>\n",
       "      <th>2013</th>\n",
       "      <th>2014</th>\n",
       "      <th>2015</th>\n",
       "      <th>2016</th>\n",
       "      <th>2017</th>\n",
       "      <th>2018</th>\n",
       "      <th>2019</th>\n",
       "      <th>2020</th>\n",
       "      <th>2021</th>\n",
       "      <th>Unnamed: 66</th>\n",
       "    </tr>\n",
       "  </thead>\n",
       "  <tbody>\n",
       "    <tr>\n",
       "      <th>0</th>\n",
       "      <td>Aruba</td>\n",
       "      <td>ABW</td>\n",
       "      <td>GDP per capita (current US$)</td>\n",
       "      <td>NY.GDP.PCAP.CD</td>\n",
       "      <td>NaN</td>\n",
       "      <td>NaN</td>\n",
       "      <td>NaN</td>\n",
       "      <td>NaN</td>\n",
       "      <td>NaN</td>\n",
       "      <td>NaN</td>\n",
       "      <td>...</td>\n",
       "      <td>26442.426801</td>\n",
       "      <td>26895.057167</td>\n",
       "      <td>28399.050131</td>\n",
       "      <td>28453.715565</td>\n",
       "      <td>29348.418969</td>\n",
       "      <td>30253.714235</td>\n",
       "      <td>31135.884356</td>\n",
       "      <td>23384.298791</td>\n",
       "      <td>NaN</td>\n",
       "      <td>NaN</td>\n",
       "    </tr>\n",
       "    <tr>\n",
       "      <th>1</th>\n",
       "      <td>Africa Eastern and Southern</td>\n",
       "      <td>AFE</td>\n",
       "      <td>GDP per capita (current US$)</td>\n",
       "      <td>NY.GDP.PCAP.CD</td>\n",
       "      <td>162.726325</td>\n",
       "      <td>162.555968</td>\n",
       "      <td>172.271022</td>\n",
       "      <td>199.784916</td>\n",
       "      <td>180.228774</td>\n",
       "      <td>199.517228</td>\n",
       "      <td>...</td>\n",
       "      <td>1748.905594</td>\n",
       "      <td>1736.242220</td>\n",
       "      <td>1556.316469</td>\n",
       "      <td>1446.533624</td>\n",
       "      <td>1629.404273</td>\n",
       "      <td>1541.031661</td>\n",
       "      <td>1511.309259</td>\n",
       "      <td>1360.878645</td>\n",
       "      <td>1557.722682</td>\n",
       "      <td>NaN</td>\n",
       "    </tr>\n",
       "    <tr>\n",
       "      <th>2</th>\n",
       "      <td>Afghanistan</td>\n",
       "      <td>AFG</td>\n",
       "      <td>GDP per capita (current US$)</td>\n",
       "      <td>NY.GDP.PCAP.CD</td>\n",
       "      <td>59.773234</td>\n",
       "      <td>59.860900</td>\n",
       "      <td>58.458009</td>\n",
       "      <td>78.706429</td>\n",
       "      <td>82.095307</td>\n",
       "      <td>101.108325</td>\n",
       "      <td>...</td>\n",
       "      <td>624.315455</td>\n",
       "      <td>614.223342</td>\n",
       "      <td>556.007221</td>\n",
       "      <td>512.012778</td>\n",
       "      <td>516.679862</td>\n",
       "      <td>485.668419</td>\n",
       "      <td>494.179350</td>\n",
       "      <td>516.747871</td>\n",
       "      <td>NaN</td>\n",
       "      <td>NaN</td>\n",
       "    </tr>\n",
       "    <tr>\n",
       "      <th>3</th>\n",
       "      <td>Africa Western and Central</td>\n",
       "      <td>AFW</td>\n",
       "      <td>GDP per capita (current US$)</td>\n",
       "      <td>NY.GDP.PCAP.CD</td>\n",
       "      <td>107.930722</td>\n",
       "      <td>113.080062</td>\n",
       "      <td>118.829461</td>\n",
       "      <td>123.441089</td>\n",
       "      <td>131.852423</td>\n",
       "      <td>138.524029</td>\n",
       "      <td>...</td>\n",
       "      <td>2157.494584</td>\n",
       "      <td>2212.914095</td>\n",
       "      <td>1894.322115</td>\n",
       "      <td>1673.843681</td>\n",
       "      <td>1613.490478</td>\n",
       "      <td>1704.135698</td>\n",
       "      <td>1777.852822</td>\n",
       "      <td>1709.764129</td>\n",
       "      <td>1774.921218</td>\n",
       "      <td>NaN</td>\n",
       "    </tr>\n",
       "    <tr>\n",
       "      <th>4</th>\n",
       "      <td>Angola</td>\n",
       "      <td>AGO</td>\n",
       "      <td>GDP per capita (current US$)</td>\n",
       "      <td>NY.GDP.PCAP.CD</td>\n",
       "      <td>NaN</td>\n",
       "      <td>NaN</td>\n",
       "      <td>NaN</td>\n",
       "      <td>NaN</td>\n",
       "      <td>NaN</td>\n",
       "      <td>NaN</td>\n",
       "      <td>...</td>\n",
       "      <td>5127.717243</td>\n",
       "      <td>5094.112329</td>\n",
       "      <td>3127.890598</td>\n",
       "      <td>1728.023754</td>\n",
       "      <td>2313.220584</td>\n",
       "      <td>2524.942483</td>\n",
       "      <td>2177.799015</td>\n",
       "      <td>1631.431691</td>\n",
       "      <td>2137.909393</td>\n",
       "      <td>NaN</td>\n",
       "    </tr>\n",
       "  </tbody>\n",
       "</table>\n",
       "<p>5 rows × 67 columns</p>\n",
       "</div>"
      ],
      "text/plain": [
       "                  Country Name Country Code                Indicator Name  \\\n",
       "0                        Aruba          ABW  GDP per capita (current US$)   \n",
       "1  Africa Eastern and Southern          AFE  GDP per capita (current US$)   \n",
       "2                  Afghanistan          AFG  GDP per capita (current US$)   \n",
       "3   Africa Western and Central          AFW  GDP per capita (current US$)   \n",
       "4                       Angola          AGO  GDP per capita (current US$)   \n",
       "\n",
       "   Indicator Code        1960        1961        1962        1963        1964  \\\n",
       "0  NY.GDP.PCAP.CD         NaN         NaN         NaN         NaN         NaN   \n",
       "1  NY.GDP.PCAP.CD  162.726325  162.555968  172.271022  199.784916  180.228774   \n",
       "2  NY.GDP.PCAP.CD   59.773234   59.860900   58.458009   78.706429   82.095307   \n",
       "3  NY.GDP.PCAP.CD  107.930722  113.080062  118.829461  123.441089  131.852423   \n",
       "4  NY.GDP.PCAP.CD         NaN         NaN         NaN         NaN         NaN   \n",
       "\n",
       "         1965  ...          2013          2014          2015          2016  \\\n",
       "0         NaN  ...  26442.426801  26895.057167  28399.050131  28453.715565   \n",
       "1  199.517228  ...   1748.905594   1736.242220   1556.316469   1446.533624   \n",
       "2  101.108325  ...    624.315455    614.223342    556.007221    512.012778   \n",
       "3  138.524029  ...   2157.494584   2212.914095   1894.322115   1673.843681   \n",
       "4         NaN  ...   5127.717243   5094.112329   3127.890598   1728.023754   \n",
       "\n",
       "           2017          2018          2019          2020         2021  \\\n",
       "0  29348.418969  30253.714235  31135.884356  23384.298791          NaN   \n",
       "1   1629.404273   1541.031661   1511.309259   1360.878645  1557.722682   \n",
       "2    516.679862    485.668419    494.179350    516.747871          NaN   \n",
       "3   1613.490478   1704.135698   1777.852822   1709.764129  1774.921218   \n",
       "4   2313.220584   2524.942483   2177.799015   1631.431691  2137.909393   \n",
       "\n",
       "   Unnamed: 66  \n",
       "0          NaN  \n",
       "1          NaN  \n",
       "2          NaN  \n",
       "3          NaN  \n",
       "4          NaN  \n",
       "\n",
       "[5 rows x 67 columns]"
      ]
     },
     "execution_count": 4,
     "metadata": {},
     "output_type": "execute_result"
    }
   ],
   "source": [
    "df_gdp_per_capita_data = pd.read_csv(\"./data/GDP_per_capita_growth.csv\", skiprows=4)\n",
    "df_gdp_per_capita_data.head()\n",
    "\n",
    "# df_gdp_per_capita_data = wb.data.DataFrame(\"NY.GDP.PCAP.CD\", labels=True)\n",
    "# df_gdp_per_capita_data.head()"
   ]
  },
  {
   "cell_type": "markdown",
   "id": "4e8f9e28-34b9-4854-bc3e-0e3a62fac187",
   "metadata": {
    "jp-MarkdownHeadingCollapsed": true,
    "tags": []
   },
   "source": [
    "#### Темп инфляции (%)"
   ]
  },
  {
   "cell_type": "code",
   "execution_count": 5,
   "id": "bd092090-9fc5-4ffc-b560-97be3da7303b",
   "metadata": {},
   "outputs": [
    {
     "data": {
      "text/html": [
       "<div>\n",
       "<style scoped>\n",
       "    .dataframe tbody tr th:only-of-type {\n",
       "        vertical-align: middle;\n",
       "    }\n",
       "\n",
       "    .dataframe tbody tr th {\n",
       "        vertical-align: top;\n",
       "    }\n",
       "\n",
       "    .dataframe thead th {\n",
       "        text-align: right;\n",
       "    }\n",
       "</style>\n",
       "<table border=\"1\" class=\"dataframe\">\n",
       "  <thead>\n",
       "    <tr style=\"text-align: right;\">\n",
       "      <th></th>\n",
       "      <th>Country Name</th>\n",
       "      <th>Country Code</th>\n",
       "      <th>Indicator Name</th>\n",
       "      <th>Indicator Code</th>\n",
       "      <th>1960</th>\n",
       "      <th>1961</th>\n",
       "      <th>1962</th>\n",
       "      <th>1963</th>\n",
       "      <th>1964</th>\n",
       "      <th>1965</th>\n",
       "      <th>...</th>\n",
       "      <th>2013</th>\n",
       "      <th>2014</th>\n",
       "      <th>2015</th>\n",
       "      <th>2016</th>\n",
       "      <th>2017</th>\n",
       "      <th>2018</th>\n",
       "      <th>2019</th>\n",
       "      <th>2020</th>\n",
       "      <th>2021</th>\n",
       "      <th>Unnamed: 66</th>\n",
       "    </tr>\n",
       "  </thead>\n",
       "  <tbody>\n",
       "    <tr>\n",
       "      <th>0</th>\n",
       "      <td>Aruba</td>\n",
       "      <td>ABW</td>\n",
       "      <td>Inflation, GDP deflator (annual %)</td>\n",
       "      <td>NY.GDP.DEFL.KD.ZG</td>\n",
       "      <td>NaN</td>\n",
       "      <td>NaN</td>\n",
       "      <td>NaN</td>\n",
       "      <td>NaN</td>\n",
       "      <td>NaN</td>\n",
       "      <td>NaN</td>\n",
       "      <td>...</td>\n",
       "      <td>-1.986755</td>\n",
       "      <td>2.335109</td>\n",
       "      <td>2.531592</td>\n",
       "      <td>-1.389713</td>\n",
       "      <td>-1.753935</td>\n",
       "      <td>2.263271</td>\n",
       "      <td>5.568805</td>\n",
       "      <td>-2.902756</td>\n",
       "      <td>NaN</td>\n",
       "      <td>NaN</td>\n",
       "    </tr>\n",
       "    <tr>\n",
       "      <th>1</th>\n",
       "      <td>Africa Eastern and Southern</td>\n",
       "      <td>AFE</td>\n",
       "      <td>Inflation, GDP deflator (annual %)</td>\n",
       "      <td>NY.GDP.DEFL.KD.ZG</td>\n",
       "      <td>NaN</td>\n",
       "      <td>1.861701</td>\n",
       "      <td>0.979878</td>\n",
       "      <td>3.150053</td>\n",
       "      <td>3.726978</td>\n",
       "      <td>3.569951</td>\n",
       "      <td>...</td>\n",
       "      <td>5.844111</td>\n",
       "      <td>5.560736</td>\n",
       "      <td>5.366462</td>\n",
       "      <td>6.400900</td>\n",
       "      <td>5.217431</td>\n",
       "      <td>4.085751</td>\n",
       "      <td>4.387341</td>\n",
       "      <td>4.995507</td>\n",
       "      <td>5.840394</td>\n",
       "      <td>NaN</td>\n",
       "    </tr>\n",
       "    <tr>\n",
       "      <th>2</th>\n",
       "      <td>Afghanistan</td>\n",
       "      <td>AFG</td>\n",
       "      <td>Inflation, GDP deflator (annual %)</td>\n",
       "      <td>NY.GDP.DEFL.KD.ZG</td>\n",
       "      <td>NaN</td>\n",
       "      <td>NaN</td>\n",
       "      <td>NaN</td>\n",
       "      <td>NaN</td>\n",
       "      <td>NaN</td>\n",
       "      <td>NaN</td>\n",
       "      <td>...</td>\n",
       "      <td>4.822785</td>\n",
       "      <td>0.566945</td>\n",
       "      <td>2.447563</td>\n",
       "      <td>-2.197526</td>\n",
       "      <td>2.403656</td>\n",
       "      <td>2.071349</td>\n",
       "      <td>6.521480</td>\n",
       "      <td>7.821667</td>\n",
       "      <td>NaN</td>\n",
       "      <td>NaN</td>\n",
       "    </tr>\n",
       "    <tr>\n",
       "      <th>3</th>\n",
       "      <td>Africa Western and Central</td>\n",
       "      <td>AFW</td>\n",
       "      <td>Inflation, GDP deflator (annual %)</td>\n",
       "      <td>NY.GDP.DEFL.KD.ZG</td>\n",
       "      <td>NaN</td>\n",
       "      <td>3.336148</td>\n",
       "      <td>2.432663</td>\n",
       "      <td>3.013917</td>\n",
       "      <td>2.906178</td>\n",
       "      <td>2.752432</td>\n",
       "      <td>...</td>\n",
       "      <td>1.573135</td>\n",
       "      <td>0.280788</td>\n",
       "      <td>1.992846</td>\n",
       "      <td>1.784172</td>\n",
       "      <td>1.759106</td>\n",
       "      <td>2.639372</td>\n",
       "      <td>1.582290</td>\n",
       "      <td>1.128352</td>\n",
       "      <td>4.821155</td>\n",
       "      <td>NaN</td>\n",
       "    </tr>\n",
       "    <tr>\n",
       "      <th>4</th>\n",
       "      <td>Angola</td>\n",
       "      <td>AGO</td>\n",
       "      <td>Inflation, GDP deflator (annual %)</td>\n",
       "      <td>NY.GDP.DEFL.KD.ZG</td>\n",
       "      <td>NaN</td>\n",
       "      <td>NaN</td>\n",
       "      <td>NaN</td>\n",
       "      <td>NaN</td>\n",
       "      <td>NaN</td>\n",
       "      <td>NaN</td>\n",
       "      <td>...</td>\n",
       "      <td>2.844244</td>\n",
       "      <td>3.563413</td>\n",
       "      <td>-3.514972</td>\n",
       "      <td>21.774174</td>\n",
       "      <td>22.617936</td>\n",
       "      <td>28.167029</td>\n",
       "      <td>19.184276</td>\n",
       "      <td>18.036768</td>\n",
       "      <td>44.384448</td>\n",
       "      <td>NaN</td>\n",
       "    </tr>\n",
       "  </tbody>\n",
       "</table>\n",
       "<p>5 rows × 67 columns</p>\n",
       "</div>"
      ],
      "text/plain": [
       "                  Country Name Country Code  \\\n",
       "0                        Aruba          ABW   \n",
       "1  Africa Eastern and Southern          AFE   \n",
       "2                  Afghanistan          AFG   \n",
       "3   Africa Western and Central          AFW   \n",
       "4                       Angola          AGO   \n",
       "\n",
       "                       Indicator Name     Indicator Code  1960      1961  \\\n",
       "0  Inflation, GDP deflator (annual %)  NY.GDP.DEFL.KD.ZG   NaN       NaN   \n",
       "1  Inflation, GDP deflator (annual %)  NY.GDP.DEFL.KD.ZG   NaN  1.861701   \n",
       "2  Inflation, GDP deflator (annual %)  NY.GDP.DEFL.KD.ZG   NaN       NaN   \n",
       "3  Inflation, GDP deflator (annual %)  NY.GDP.DEFL.KD.ZG   NaN  3.336148   \n",
       "4  Inflation, GDP deflator (annual %)  NY.GDP.DEFL.KD.ZG   NaN       NaN   \n",
       "\n",
       "       1962      1963      1964      1965  ...      2013      2014      2015  \\\n",
       "0       NaN       NaN       NaN       NaN  ... -1.986755  2.335109  2.531592   \n",
       "1  0.979878  3.150053  3.726978  3.569951  ...  5.844111  5.560736  5.366462   \n",
       "2       NaN       NaN       NaN       NaN  ...  4.822785  0.566945  2.447563   \n",
       "3  2.432663  3.013917  2.906178  2.752432  ...  1.573135  0.280788  1.992846   \n",
       "4       NaN       NaN       NaN       NaN  ...  2.844244  3.563413 -3.514972   \n",
       "\n",
       "        2016       2017       2018       2019       2020       2021  \\\n",
       "0  -1.389713  -1.753935   2.263271   5.568805  -2.902756        NaN   \n",
       "1   6.400900   5.217431   4.085751   4.387341   4.995507   5.840394   \n",
       "2  -2.197526   2.403656   2.071349   6.521480   7.821667        NaN   \n",
       "3   1.784172   1.759106   2.639372   1.582290   1.128352   4.821155   \n",
       "4  21.774174  22.617936  28.167029  19.184276  18.036768  44.384448   \n",
       "\n",
       "   Unnamed: 66  \n",
       "0          NaN  \n",
       "1          NaN  \n",
       "2          NaN  \n",
       "3          NaN  \n",
       "4          NaN  \n",
       "\n",
       "[5 rows x 67 columns]"
      ]
     },
     "execution_count": 5,
     "metadata": {},
     "output_type": "execute_result"
    }
   ],
   "source": [
    "df_inflation_data = pd.read_csv(\"./data/Inflation.csv\", skiprows=4)\n",
    "df_inflation_data.head()\n",
    "\n",
    "# df_inflation_data = wb.data.DataFrame(\"NY.GDP.DEFL.KD.ZG\", labels=True)\n",
    "# df_inflation_data.head()"
   ]
  },
  {
   "cell_type": "markdown",
   "id": "8c434739-eaa9-4e67-8a14-590ef3229496",
   "metadata": {
    "jp-MarkdownHeadingCollapsed": true,
    "tags": []
   },
   "source": [
    "## 2019 год"
   ]
  },
  {
   "cell_type": "markdown",
   "id": "67ed3fa1-6399-42b9-b983-0a8a432333f9",
   "metadata": {
    "jp-MarkdownHeadingCollapsed": true,
    "tags": []
   },
   "source": [
    "### Кластеризация на основании темпов роста ВВП"
   ]
  },
  {
   "cell_type": "markdown",
   "id": "3e9d2ecc-ed1e-4c27-8f2a-b8dbb0d40fbf",
   "metadata": {},
   "source": [
    "Выбираем нужные данные"
   ]
  },
  {
   "cell_type": "code",
   "execution_count": 6,
   "id": "906140c8-ffad-4526-b4c0-4ed6e5c527d2",
   "metadata": {},
   "outputs": [
    {
     "data": {
      "text/html": [
       "<div>\n",
       "<style scoped>\n",
       "    .dataframe tbody tr th:only-of-type {\n",
       "        vertical-align: middle;\n",
       "    }\n",
       "\n",
       "    .dataframe tbody tr th {\n",
       "        vertical-align: top;\n",
       "    }\n",
       "\n",
       "    .dataframe thead th {\n",
       "        text-align: right;\n",
       "    }\n",
       "</style>\n",
       "<table border=\"1\" class=\"dataframe\">\n",
       "  <thead>\n",
       "    <tr style=\"text-align: right;\">\n",
       "      <th></th>\n",
       "      <th>Country Name</th>\n",
       "      <th>GDP Growth</th>\n",
       "    </tr>\n",
       "  </thead>\n",
       "  <tbody>\n",
       "    <tr>\n",
       "      <th>0</th>\n",
       "      <td>Aruba</td>\n",
       "      <td>-2.085600</td>\n",
       "    </tr>\n",
       "    <tr>\n",
       "      <th>1</th>\n",
       "      <td>Africa Eastern and Southern</td>\n",
       "      <td>2.025941</td>\n",
       "    </tr>\n",
       "    <tr>\n",
       "      <th>2</th>\n",
       "      <td>Afghanistan</td>\n",
       "      <td>3.911603</td>\n",
       "    </tr>\n",
       "    <tr>\n",
       "      <th>3</th>\n",
       "      <td>Africa Western and Central</td>\n",
       "      <td>3.202544</td>\n",
       "    </tr>\n",
       "    <tr>\n",
       "      <th>4</th>\n",
       "      <td>Angola</td>\n",
       "      <td>-0.700000</td>\n",
       "    </tr>\n",
       "  </tbody>\n",
       "</table>\n",
       "</div>"
      ],
      "text/plain": [
       "                  Country Name  GDP Growth\n",
       "0                        Aruba   -2.085600\n",
       "1  Africa Eastern and Southern    2.025941\n",
       "2                  Afghanistan    3.911603\n",
       "3   Africa Western and Central    3.202544\n",
       "4                       Angola   -0.700000"
      ]
     },
     "execution_count": 6,
     "metadata": {},
     "output_type": "execute_result"
    }
   ],
   "source": [
    "df_gdp_growth_2019 = df_gdp_growth_data[[\"Country Name\", \"2019\"]].dropna()\n",
    "df_gdp_growth_2019 = df_gdp_growth_2019.rename({\"2019\": \"GDP Growth\"}, axis=1)\n",
    "df_gdp_growth_2019.head()"
   ]
  },
  {
   "cell_type": "markdown",
   "id": "be18b5ef-0869-428b-8389-595e1cb20e6a",
   "metadata": {},
   "source": [
    "На основании дендрограммы определяем количество кластеров"
   ]
  },
  {
   "cell_type": "code",
   "execution_count": 7,
   "id": "40e58cc0-b5a4-40c1-800e-892e5aeb31a3",
   "metadata": {},
   "outputs": [],
   "source": [
    "number_of_cluster = 5"
   ]
  },
  {
   "cell_type": "code",
   "execution_count": 8,
   "id": "b5f5fdee-dda5-4049-b59c-aad097ace0e9",
   "metadata": {},
   "outputs": [
    {
     "data": {
      "image/png": "[encoded data removed]",
      "text/plain": [
       "<Figure size 432x288 with 1 Axes>"
      ]
     },
     "metadata": {
      "needs_background": "light"
     },
     "output_type": "display_data"
    }
   ],
   "source": [
    "data_2d_gdp_growth_2019 = np.reshape(df_gdp_growth_2019[\"GDP Growth\"].values, (len(df_gdp_growth_2019[\"GDP Growth\"].values), 1))\n",
    "\n",
    "dendrogram = sch.dendrogram(ward(data_2d_gdp_growth_2019))\n",
    "plt.show()"
   ]
  },
  {
   "cell_type": "markdown",
   "id": "1c0e3f96-e2eb-4cde-80d4-019b81f95a05",
   "metadata": {},
   "source": [
    "Кластеризируем данные"
   ]
  },
  {
   "cell_type": "code",
   "execution_count": 9,
   "id": "3aa39611-2285-43c4-b332-395c5dec4378",
   "metadata": {},
   "outputs": [],
   "source": [
    "hc = AgglomerativeClustering(n_clusters=number_of_cluster, affinity=\"euclidean\", linkage=\"ward\")\n",
    "\n",
    "y_hc = hc.fit_predict(data_2d_gdp_growth_2019)"
   ]
  },
  {
   "cell_type": "code",
   "execution_count": 10,
   "id": "baffceb6-e7ab-47cc-a16f-ffe5db2a6689",
   "metadata": {},
   "outputs": [],
   "source": [
    "dict_names = {i: [] for i in range(number_of_cluster)}\n",
    "for i in range(len(y_hc)):\n",
    "    dict_names[y_hc[i]].append(df_gdp_growth_2019[\"Country Name\"].values[i])"
   ]
  },
  {
   "cell_type": "markdown",
   "id": "3bd4d18a-bfbe-4e76-9c5e-df8e1debc267",
   "metadata": {},
   "source": [
    "Название стран в кластерах"
   ]
  },
  {
   "cell_type": "code",
   "execution_count": 11,
   "id": "482f7f44-d1c0-4908-9ba8-083764805bfb",
   "metadata": {},
   "outputs": [],
   "source": [
    "df_names = pd.DataFrame.from_dict(dict_names, orient=\"index\").transpose()"
   ]
  },
  {
   "cell_type": "code",
   "execution_count": 12,
   "id": "4b21df19-07bb-4459-8236-1325e4b8784f",
   "metadata": {},
   "outputs": [
    {
     "data": {
      "text/html": [
       "<div>\n",
       "<style scoped>\n",
       "    .dataframe tbody tr th:only-of-type {\n",
       "        vertical-align: middle;\n",
       "    }\n",
       "\n",
       "    .dataframe tbody tr th {\n",
       "        vertical-align: top;\n",
       "    }\n",
       "\n",
       "    .dataframe thead th {\n",
       "        text-align: right;\n",
       "    }\n",
       "</style>\n",
       "<table border=\"1\" class=\"dataframe\">\n",
       "  <thead>\n",
       "    <tr style=\"text-align: right;\">\n",
       "      <th></th>\n",
       "      <th>0</th>\n",
       "      <th>1</th>\n",
       "      <th>2</th>\n",
       "      <th>3</th>\n",
       "      <th>4</th>\n",
       "    </tr>\n",
       "  </thead>\n",
       "  <tbody>\n",
       "    <tr>\n",
       "      <th>0</th>\n",
       "      <td>Afghanistan</td>\n",
       "      <td>Africa Eastern and Southern</td>\n",
       "      <td>Equatorial Guinea</td>\n",
       "      <td>Timor-Leste</td>\n",
       "      <td>Aruba</td>\n",
       "    </tr>\n",
       "    <tr>\n",
       "      <th>1</th>\n",
       "      <td>Africa Western and Central</td>\n",
       "      <td>Albania</td>\n",
       "      <td>Lebanon</td>\n",
       "      <td>Tuvalu</td>\n",
       "      <td>Angola</td>\n",
       "    </tr>\n",
       "    <tr>\n",
       "      <th>2</th>\n",
       "      <td>United Arab Emirates</td>\n",
       "      <td>Andorra</td>\n",
       "      <td>Libya</td>\n",
       "      <td>None</td>\n",
       "      <td>Argentina</td>\n",
       "    </tr>\n",
       "    <tr>\n",
       "      <th>3</th>\n",
       "      <td>Armenia</td>\n",
       "      <td>Arab World</td>\n",
       "      <td>Northern Mariana Islands</td>\n",
       "      <td>None</td>\n",
       "      <td>American Samoa</td>\n",
       "    </tr>\n",
       "    <tr>\n",
       "      <th>4</th>\n",
       "      <td>Antigua and Barbuda</td>\n",
       "      <td>Australia</td>\n",
       "      <td>Zimbabwe</td>\n",
       "      <td>None</td>\n",
       "      <td>Barbados</td>\n",
       "    </tr>\n",
       "  </tbody>\n",
       "</table>\n",
       "</div>"
      ],
      "text/plain": [
       "                            0                            1  \\\n",
       "0                 Afghanistan  Africa Eastern and Southern   \n",
       "1  Africa Western and Central                      Albania   \n",
       "2        United Arab Emirates                      Andorra   \n",
       "3                     Armenia                   Arab World   \n",
       "4         Antigua and Barbuda                    Australia   \n",
       "\n",
       "                          2            3               4  \n",
       "0         Equatorial Guinea  Timor-Leste           Aruba  \n",
       "1                   Lebanon       Tuvalu          Angola  \n",
       "2                     Libya         None       Argentina  \n",
       "3  Northern Mariana Islands         None  American Samoa  \n",
       "4                  Zimbabwe         None        Barbados  "
      ]
     },
     "execution_count": 12,
     "metadata": {},
     "output_type": "execute_result"
    }
   ],
   "source": [
    "df_names.head()"
   ]
  },
  {
   "cell_type": "markdown",
   "id": "b63f8546-ca0c-4e15-831d-7039bebd3339",
   "metadata": {},
   "source": [
    "Значения темпов роста ВВП в кластерах"
   ]
  },
  {
   "cell_type": "code",
   "execution_count": 13,
   "id": "ec4815f7-d89b-4a49-b73f-02a858ceebf2",
   "metadata": {},
   "outputs": [],
   "source": [
    "dict_vals = {i: [df_gdp_growth_2019.loc[df_gdp_growth_2019[\"Country Name\"] == df_names[i][j]][\"GDP Growth\"].values[0] for j in range(len(df_names[i].dropna()))] for i in range(number_of_cluster)}"
   ]
  },
  {
   "cell_type": "code",
   "execution_count": 14,
   "id": "e4f87aec-7359-474a-b24a-05925e53d78c",
   "metadata": {},
   "outputs": [],
   "source": [
    "df_vals = pd.DataFrame.from_dict(dict_vals, orient=\"index\").transpose()"
   ]
  },
  {
   "cell_type": "code",
   "execution_count": 15,
   "id": "bf1d3beb-ebef-4c75-bbb8-6aca7bf136d5",
   "metadata": {},
   "outputs": [
    {
     "data": {
      "text/html": [
       "<div>\n",
       "<style scoped>\n",
       "    .dataframe tbody tr th:only-of-type {\n",
       "        vertical-align: middle;\n",
       "    }\n",
       "\n",
       "    .dataframe tbody tr th {\n",
       "        vertical-align: top;\n",
       "    }\n",
       "\n",
       "    .dataframe thead th {\n",
       "        text-align: right;\n",
       "    }\n",
       "</style>\n",
       "<table border=\"1\" class=\"dataframe\">\n",
       "  <thead>\n",
       "    <tr style=\"text-align: right;\">\n",
       "      <th></th>\n",
       "      <th>0</th>\n",
       "      <th>1</th>\n",
       "      <th>2</th>\n",
       "      <th>3</th>\n",
       "      <th>4</th>\n",
       "    </tr>\n",
       "  </thead>\n",
       "  <tbody>\n",
       "    <tr>\n",
       "      <th>0</th>\n",
       "      <td>3.911603</td>\n",
       "      <td>2.025941</td>\n",
       "      <td>-5.481823</td>\n",
       "      <td>19.535810</td>\n",
       "      <td>-2.085600</td>\n",
       "    </tr>\n",
       "    <tr>\n",
       "      <th>1</th>\n",
       "      <td>3.202544</td>\n",
       "      <td>2.088063</td>\n",
       "      <td>-6.914925</td>\n",
       "      <td>13.793103</td>\n",
       "      <td>-0.700000</td>\n",
       "    </tr>\n",
       "    <tr>\n",
       "      <th>2</th>\n",
       "      <td>3.411539</td>\n",
       "      <td>2.015548</td>\n",
       "      <td>-11.195695</td>\n",
       "      <td>NaN</td>\n",
       "      <td>-2.025934</td>\n",
       "    </tr>\n",
       "    <tr>\n",
       "      <th>3</th>\n",
       "      <td>7.600000</td>\n",
       "      <td>1.586319</td>\n",
       "      <td>-11.142587</td>\n",
       "      <td>NaN</td>\n",
       "      <td>-0.487805</td>\n",
       "    </tr>\n",
       "    <tr>\n",
       "      <th>4</th>\n",
       "      <td>4.862236</td>\n",
       "      <td>2.113149</td>\n",
       "      <td>-6.144236</td>\n",
       "      <td>NaN</td>\n",
       "      <td>-0.610275</td>\n",
       "    </tr>\n",
       "  </tbody>\n",
       "</table>\n",
       "</div>"
      ],
      "text/plain": [
       "          0         1          2          3         4\n",
       "0  3.911603  2.025941  -5.481823  19.535810 -2.085600\n",
       "1  3.202544  2.088063  -6.914925  13.793103 -0.700000\n",
       "2  3.411539  2.015548 -11.195695        NaN -2.025934\n",
       "3  7.600000  1.586319 -11.142587        NaN -0.487805\n",
       "4  4.862236  2.113149  -6.144236        NaN -0.610275"
      ]
     },
     "execution_count": 15,
     "metadata": {},
     "output_type": "execute_result"
    }
   ],
   "source": [
    "df_vals.head()"
   ]
  },
  {
   "cell_type": "markdown",
   "id": "5de71398-9c3a-40bd-861e-b9d2ade8e04d",
   "metadata": {},
   "source": [
    "Записываем получившиеся результаты в `excel`-файл"
   ]
  },
  {
   "cell_type": "code",
   "execution_count": 16,
   "id": "884215bb-0a0e-482f-99b1-4f3b5cb0bf6e",
   "metadata": {},
   "outputs": [],
   "source": [
    "save_as_xlsx(\"./results/gdp_growth_2019.xlsx\",\n",
    "             [\"Country Names\", \"GDP growth\"],\n",
    "             [df_names, df_vals])"
   ]
  },
  {
   "cell_type": "markdown",
   "id": "1500196d-d6ef-45ae-9799-bda0d11170c0",
   "metadata": {
    "jp-MarkdownHeadingCollapsed": true,
    "tags": []
   },
   "source": [
    "### Кластеризация на основании подушевого ВВП, темпов роста ВВП"
   ]
  },
  {
   "cell_type": "markdown",
   "id": "6796c20e-60dd-450b-bbe7-89a2ffec1e79",
   "metadata": {},
   "source": [
    "Выбираем нужные данные"
   ]
  },
  {
   "cell_type": "code",
   "execution_count": 17,
   "id": "8e1fea42-7b12-4510-b0f2-dd9eba7a31e5",
   "metadata": {},
   "outputs": [
    {
     "data": {
      "text/html": [
       "<div>\n",
       "<style scoped>\n",
       "    .dataframe tbody tr th:only-of-type {\n",
       "        vertical-align: middle;\n",
       "    }\n",
       "\n",
       "    .dataframe tbody tr th {\n",
       "        vertical-align: top;\n",
       "    }\n",
       "\n",
       "    .dataframe thead th {\n",
       "        text-align: right;\n",
       "    }\n",
       "</style>\n",
       "<table border=\"1\" class=\"dataframe\">\n",
       "  <thead>\n",
       "    <tr style=\"text-align: right;\">\n",
       "      <th></th>\n",
       "      <th>Country Name</th>\n",
       "      <th>GDP per capita</th>\n",
       "    </tr>\n",
       "  </thead>\n",
       "  <tbody>\n",
       "    <tr>\n",
       "      <th>0</th>\n",
       "      <td>Aruba</td>\n",
       "      <td>31135.884356</td>\n",
       "    </tr>\n",
       "    <tr>\n",
       "      <th>1</th>\n",
       "      <td>Africa Eastern and Southern</td>\n",
       "      <td>1511.309259</td>\n",
       "    </tr>\n",
       "    <tr>\n",
       "      <th>2</th>\n",
       "      <td>Afghanistan</td>\n",
       "      <td>494.179350</td>\n",
       "    </tr>\n",
       "    <tr>\n",
       "      <th>3</th>\n",
       "      <td>Africa Western and Central</td>\n",
       "      <td>1777.852822</td>\n",
       "    </tr>\n",
       "    <tr>\n",
       "      <th>4</th>\n",
       "      <td>Angola</td>\n",
       "      <td>2177.799015</td>\n",
       "    </tr>\n",
       "  </tbody>\n",
       "</table>\n",
       "</div>"
      ],
      "text/plain": [
       "                  Country Name  GDP per capita\n",
       "0                        Aruba    31135.884356\n",
       "1  Africa Eastern and Southern     1511.309259\n",
       "2                  Afghanistan      494.179350\n",
       "3   Africa Western and Central     1777.852822\n",
       "4                       Angola     2177.799015"
      ]
     },
     "execution_count": 17,
     "metadata": {},
     "output_type": "execute_result"
    }
   ],
   "source": [
    "df_gdp_per_capita_2019 = df_gdp_per_capita_data[[\"Country Name\", \"2019\"]].dropna()\n",
    "df_gdp_per_capita_2019 = df_gdp_per_capita_2019.rename({\"2019\": \"GDP per capita\"}, axis=1)\n",
    "df_gdp_per_capita_2019.head()"
   ]
  },
  {
   "cell_type": "code",
   "execution_count": 18,
   "id": "87ca229a-b920-40d8-9d80-2e09599bd81b",
   "metadata": {},
   "outputs": [
    {
     "data": {
      "text/html": [
       "<div>\n",
       "<style scoped>\n",
       "    .dataframe tbody tr th:only-of-type {\n",
       "        vertical-align: middle;\n",
       "    }\n",
       "\n",
       "    .dataframe tbody tr th {\n",
       "        vertical-align: top;\n",
       "    }\n",
       "\n",
       "    .dataframe thead th {\n",
       "        text-align: right;\n",
       "    }\n",
       "</style>\n",
       "<table border=\"1\" class=\"dataframe\">\n",
       "  <thead>\n",
       "    <tr style=\"text-align: right;\">\n",
       "      <th></th>\n",
       "      <th>Country Name</th>\n",
       "      <th>GDP Growth</th>\n",
       "      <th>GDP per capita</th>\n",
       "    </tr>\n",
       "  </thead>\n",
       "  <tbody>\n",
       "    <tr>\n",
       "      <th>0</th>\n",
       "      <td>Aruba</td>\n",
       "      <td>-2.085600</td>\n",
       "      <td>31135.884356</td>\n",
       "    </tr>\n",
       "    <tr>\n",
       "      <th>1</th>\n",
       "      <td>Africa Eastern and Southern</td>\n",
       "      <td>2.025941</td>\n",
       "      <td>1511.309259</td>\n",
       "    </tr>\n",
       "    <tr>\n",
       "      <th>2</th>\n",
       "      <td>Afghanistan</td>\n",
       "      <td>3.911603</td>\n",
       "      <td>494.179350</td>\n",
       "    </tr>\n",
       "    <tr>\n",
       "      <th>3</th>\n",
       "      <td>Africa Western and Central</td>\n",
       "      <td>3.202544</td>\n",
       "      <td>1777.852822</td>\n",
       "    </tr>\n",
       "    <tr>\n",
       "      <th>4</th>\n",
       "      <td>Angola</td>\n",
       "      <td>-0.700000</td>\n",
       "      <td>2177.799015</td>\n",
       "    </tr>\n",
       "  </tbody>\n",
       "</table>\n",
       "</div>"
      ],
      "text/plain": [
       "                  Country Name  GDP Growth  GDP per capita\n",
       "0                        Aruba   -2.085600    31135.884356\n",
       "1  Africa Eastern and Southern    2.025941     1511.309259\n",
       "2                  Afghanistan    3.911603      494.179350\n",
       "3   Africa Western and Central    3.202544     1777.852822\n",
       "4                       Angola   -0.700000     2177.799015"
      ]
     },
     "execution_count": 18,
     "metadata": {},
     "output_type": "execute_result"
    }
   ],
   "source": [
    "df_gdp_per_capita_gdp_growth_2019 = pd.merge(df_gdp_growth_2019, df_gdp_per_capita_2019, left_on=\"Country Name\", right_on=\"Country Name\", how=\"left\")\n",
    "df_gdp_per_capita_gdp_growth_2019.head()"
   ]
  },
  {
   "cell_type": "code",
   "execution_count": 19,
   "id": "293582cf-e119-41c8-9104-87a4e613193d",
   "metadata": {},
   "outputs": [],
   "source": [
    "data_gdp_per_capita_gdp_growth_2019 = df_gdp_per_capita_gdp_growth_2019.loc[:, \"GDP Growth\":\"GDP per capita\"].values"
   ]
  },
  {
   "cell_type": "markdown",
   "id": "b5151ed9-09d3-4647-8c16-982e62ac3978",
   "metadata": {},
   "source": [
    "Стандартизация показателей"
   ]
  },
  {
   "cell_type": "code",
   "execution_count": 20,
   "id": "53fe3bb0-178f-42cf-9b26-8b0a64e53f60",
   "metadata": {},
   "outputs": [],
   "source": [
    "data_gdp_per_capita_gdp_growth_2019_std = (data_gdp_per_capita_gdp_growth_2019 - data_gdp_per_capita_gdp_growth_2019.mean()) / data_gdp_per_capita_gdp_growth_2019.std()"
   ]
  },
  {
   "cell_type": "markdown",
   "id": "cf3dbd6f-8a36-4095-b1b8-ced025159881",
   "metadata": {},
   "source": [
    "На основании дендрограммы определяем количество кластеров"
   ]
  },
  {
   "cell_type": "code",
   "execution_count": 21,
   "id": "e86731c3-5270-4380-8d59-565568adb100",
   "metadata": {},
   "outputs": [],
   "source": [
    "number_of_cluster = 5"
   ]
  },
  {
   "cell_type": "code",
   "execution_count": 22,
   "id": "f0b8ba4c-d3fd-42c5-bc73-85d366375002",
   "metadata": {},
   "outputs": [
    {
     "data": {
      "image/png": "[encoded data removed]",
      "text/plain": [
       "<Figure size 432x288 with 1 Axes>"
      ]
     },
     "metadata": {
      "needs_background": "light"
     },
     "output_type": "display_data"
    }
   ],
   "source": [
    "dendrogram = sch.dendrogram(ward(data_gdp_per_capita_gdp_growth_2019_std))\n",
    "plt.show()"
   ]
  },
  {
   "cell_type": "markdown",
   "id": "752bc8bc-1326-4727-b4e5-932c828813d0",
   "metadata": {},
   "source": [
    "Кластеризируем данные"
   ]
  },
  {
   "cell_type": "code",
   "execution_count": 23,
   "id": "4bacae0a-15cb-44f6-9cb3-e78a802a2a15",
   "metadata": {},
   "outputs": [],
   "source": [
    "hc = AgglomerativeClustering(n_clusters=number_of_cluster, affinity=\"euclidean\", linkage=\"ward\")\n",
    "\n",
    "y_hc = hc.fit_predict(data_gdp_per_capita_gdp_growth_2019_std)"
   ]
  },
  {
   "cell_type": "code",
   "execution_count": 24,
   "id": "b9c7c39e-fa08-4226-b0cb-6f66360bed90",
   "metadata": {},
   "outputs": [],
   "source": [
    "dict_names = {i: [] for i in range(number_of_cluster)}\n",
    "for i in range(len(y_hc)):\n",
    "    dict_names[y_hc[i]].append(df_gdp_per_capita_gdp_growth_2019[\"Country Name\"].values[i])"
   ]
  },
  {
   "cell_type": "markdown",
   "id": "0e4fa47c-f1b8-4a49-b709-3d852935f528",
   "metadata": {},
   "source": [
    "Название стран в кластерах"
   ]
  },
  {
   "cell_type": "code",
   "execution_count": 25,
   "id": "70ec7bc1-edd3-4d98-a030-397d043a1b57",
   "metadata": {},
   "outputs": [],
   "source": [
    "df_names = pd.DataFrame.from_dict(dict_names, orient=\"index\")\n",
    "df_names = df_names.transpose()"
   ]
  },
  {
   "cell_type": "code",
   "execution_count": 26,
   "id": "a45f6066-6089-4b4d-9b6c-0e300015b10d",
   "metadata": {},
   "outputs": [
    {
     "data": {
      "text/html": [
       "<div>\n",
       "<style scoped>\n",
       "    .dataframe tbody tr th:only-of-type {\n",
       "        vertical-align: middle;\n",
       "    }\n",
       "\n",
       "    .dataframe tbody tr th {\n",
       "        vertical-align: top;\n",
       "    }\n",
       "\n",
       "    .dataframe thead th {\n",
       "        text-align: right;\n",
       "    }\n",
       "</style>\n",
       "<table border=\"1\" class=\"dataframe\">\n",
       "  <thead>\n",
       "    <tr style=\"text-align: right;\">\n",
       "      <th></th>\n",
       "      <th>0</th>\n",
       "      <th>1</th>\n",
       "      <th>2</th>\n",
       "      <th>3</th>\n",
       "      <th>4</th>\n",
       "    </tr>\n",
       "  </thead>\n",
       "  <tbody>\n",
       "    <tr>\n",
       "      <th>0</th>\n",
       "      <td>Bermuda</td>\n",
       "      <td>Aruba</td>\n",
       "      <td>Africa Eastern and Southern</td>\n",
       "      <td>Monaco</td>\n",
       "      <td>Andorra</td>\n",
       "    </tr>\n",
       "    <tr>\n",
       "      <th>1</th>\n",
       "      <td>Switzerland</td>\n",
       "      <td>Antigua and Barbuda</td>\n",
       "      <td>Afghanistan</td>\n",
       "      <td>None</td>\n",
       "      <td>United Arab Emirates</td>\n",
       "    </tr>\n",
       "    <tr>\n",
       "      <th>2</th>\n",
       "      <td>Cayman Islands</td>\n",
       "      <td>Bahrain</td>\n",
       "      <td>Africa Western and Central</td>\n",
       "      <td>None</td>\n",
       "      <td>Australia</td>\n",
       "    </tr>\n",
       "    <tr>\n",
       "      <th>3</th>\n",
       "      <td>Denmark</td>\n",
       "      <td>Bahamas, The</td>\n",
       "      <td>Angola</td>\n",
       "      <td>None</td>\n",
       "      <td>Austria</td>\n",
       "    </tr>\n",
       "    <tr>\n",
       "      <th>4</th>\n",
       "      <td>Isle of Man</td>\n",
       "      <td>Barbados</td>\n",
       "      <td>Albania</td>\n",
       "      <td>None</td>\n",
       "      <td>Belgium</td>\n",
       "    </tr>\n",
       "  </tbody>\n",
       "</table>\n",
       "</div>"
      ],
      "text/plain": [
       "                0                    1                            2       3  \\\n",
       "0         Bermuda                Aruba  Africa Eastern and Southern  Monaco   \n",
       "1     Switzerland  Antigua and Barbuda                  Afghanistan    None   \n",
       "2  Cayman Islands              Bahrain   Africa Western and Central    None   \n",
       "3         Denmark         Bahamas, The                       Angola    None   \n",
       "4     Isle of Man             Barbados                      Albania    None   \n",
       "\n",
       "                      4  \n",
       "0               Andorra  \n",
       "1  United Arab Emirates  \n",
       "2             Australia  \n",
       "3               Austria  \n",
       "4               Belgium  "
      ]
     },
     "execution_count": 26,
     "metadata": {},
     "output_type": "execute_result"
    }
   ],
   "source": [
    "df_names.head()"
   ]
  },
  {
   "cell_type": "markdown",
   "id": "d62f1654-f4b1-431b-ab17-742b1ca4f138",
   "metadata": {},
   "source": [
    "Значения темпов роста ВВП в кластерах"
   ]
  },
  {
   "cell_type": "code",
   "execution_count": 27,
   "id": "1cd8e4c2-24c9-41d8-8eef-83be6a64f415",
   "metadata": {},
   "outputs": [],
   "source": [
    "dict_gdp = {i: [df_gdp_per_capita_gdp_growth_2019.loc[df_gdp_per_capita_gdp_growth_2019[\"Country Name\"] == df_names[i][j]][\"GDP Growth\"].values[0] for j in range(len(df_names[i].dropna()))] for i in range(number_of_cluster)}"
   ]
  },
  {
   "cell_type": "code",
   "execution_count": 28,
   "id": "a7f57c7f-db89-4dfd-87cd-8f0895817810",
   "metadata": {},
   "outputs": [],
   "source": [
    "df_gdp = pd.DataFrame.from_dict(dict_gdp, orient=\"index\").transpose()"
   ]
  },
  {
   "cell_type": "code",
   "execution_count": 29,
   "id": "b76bbc28-6160-4ae4-b600-b3a4b0234734",
   "metadata": {},
   "outputs": [
    {
     "data": {
      "text/html": [
       "<div>\n",
       "<style scoped>\n",
       "    .dataframe tbody tr th:only-of-type {\n",
       "        vertical-align: middle;\n",
       "    }\n",
       "\n",
       "    .dataframe tbody tr th {\n",
       "        vertical-align: top;\n",
       "    }\n",
       "\n",
       "    .dataframe thead th {\n",
       "        text-align: right;\n",
       "    }\n",
       "</style>\n",
       "<table border=\"1\" class=\"dataframe\">\n",
       "  <thead>\n",
       "    <tr style=\"text-align: right;\">\n",
       "      <th></th>\n",
       "      <th>0</th>\n",
       "      <th>1</th>\n",
       "      <th>2</th>\n",
       "      <th>3</th>\n",
       "      <th>4</th>\n",
       "    </tr>\n",
       "  </thead>\n",
       "  <tbody>\n",
       "    <tr>\n",
       "      <th>0</th>\n",
       "      <td>0.306267</td>\n",
       "      <td>-2.085600</td>\n",
       "      <td>2.025941</td>\n",
       "      <td>6.905665</td>\n",
       "      <td>2.015548</td>\n",
       "    </tr>\n",
       "    <tr>\n",
       "      <th>1</th>\n",
       "      <td>1.210992</td>\n",
       "      <td>4.862236</td>\n",
       "      <td>3.911603</td>\n",
       "      <td>NaN</td>\n",
       "      <td>3.411539</td>\n",
       "    </tr>\n",
       "    <tr>\n",
       "      <th>2</th>\n",
       "      <td>3.873077</td>\n",
       "      <td>2.166965</td>\n",
       "      <td>3.202544</td>\n",
       "      <td>NaN</td>\n",
       "      <td>2.113149</td>\n",
       "    </tr>\n",
       "    <tr>\n",
       "      <th>3</th>\n",
       "      <td>2.114664</td>\n",
       "      <td>1.896164</td>\n",
       "      <td>-0.700000</td>\n",
       "      <td>NaN</td>\n",
       "      <td>1.491211</td>\n",
       "    </tr>\n",
       "    <tr>\n",
       "      <th>4</th>\n",
       "      <td>0.254861</td>\n",
       "      <td>-0.610275</td>\n",
       "      <td>2.088063</td>\n",
       "      <td>NaN</td>\n",
       "      <td>2.111532</td>\n",
       "    </tr>\n",
       "  </tbody>\n",
       "</table>\n",
       "</div>"
      ],
      "text/plain": [
       "          0         1         2         3         4\n",
       "0  0.306267 -2.085600  2.025941  6.905665  2.015548\n",
       "1  1.210992  4.862236  3.911603       NaN  3.411539\n",
       "2  3.873077  2.166965  3.202544       NaN  2.113149\n",
       "3  2.114664  1.896164 -0.700000       NaN  1.491211\n",
       "4  0.254861 -0.610275  2.088063       NaN  2.111532"
      ]
     },
     "execution_count": 29,
     "metadata": {},
     "output_type": "execute_result"
    }
   ],
   "source": [
    "df_gdp.head()"
   ]
  },
  {
   "cell_type": "markdown",
   "id": "27c376b5-6563-420c-89bf-3a9308475e87",
   "metadata": {},
   "source": [
    "Значения подушевого ВВП в кластерах"
   ]
  },
  {
   "cell_type": "code",
   "execution_count": 30,
   "id": "61ffe540-b1b6-46eb-b623-fafd124c2797",
   "metadata": {},
   "outputs": [],
   "source": [
    "dict_gdp_per_capita = {i: [df_gdp_per_capita_gdp_growth_2019.loc[df_gdp_per_capita_gdp_growth_2019[\"Country Name\"] == df_names[i][j]][\"GDP per capita\"].values[0] for j in range(len(df_names[i].dropna()))] for i in range(number_of_cluster)}"
   ]
  },
  {
   "cell_type": "code",
   "execution_count": 31,
   "id": "7a0491fa-6498-4430-9305-9b1322c1b4be",
   "metadata": {},
   "outputs": [],
   "source": [
    "df_gdp_per_capita = pd.DataFrame.from_dict(dict_gdp_per_capita, orient=\"index\").transpose()"
   ]
  },
  {
   "cell_type": "code",
   "execution_count": 32,
   "id": "60a503c7-392f-4756-99a9-c67634ae30b9",
   "metadata": {},
   "outputs": [
    {
     "data": {
      "text/html": [
       "<div>\n",
       "<style scoped>\n",
       "    .dataframe tbody tr th:only-of-type {\n",
       "        vertical-align: middle;\n",
       "    }\n",
       "\n",
       "    .dataframe tbody tr th {\n",
       "        vertical-align: top;\n",
       "    }\n",
       "\n",
       "    .dataframe thead th {\n",
       "        text-align: right;\n",
       "    }\n",
       "</style>\n",
       "<table border=\"1\" class=\"dataframe\">\n",
       "  <thead>\n",
       "    <tr style=\"text-align: right;\">\n",
       "      <th></th>\n",
       "      <th>0</th>\n",
       "      <th>1</th>\n",
       "      <th>2</th>\n",
       "      <th>3</th>\n",
       "      <th>4</th>\n",
       "    </tr>\n",
       "  </thead>\n",
       "  <tbody>\n",
       "    <tr>\n",
       "      <th>0</th>\n",
       "      <td>116153.166122</td>\n",
       "      <td>31135.884356</td>\n",
       "      <td>1511.309259</td>\n",
       "      <td>189487.147128</td>\n",
       "      <td>40898.417906</td>\n",
       "    </tr>\n",
       "    <tr>\n",
       "      <th>1</th>\n",
       "      <td>85334.519462</td>\n",
       "      <td>17376.649677</td>\n",
       "      <td>494.179350</td>\n",
       "      <td>NaN</td>\n",
       "      <td>42701.443045</td>\n",
       "    </tr>\n",
       "    <tr>\n",
       "      <th>2</th>\n",
       "      <td>91513.042673</td>\n",
       "      <td>23552.379948</td>\n",
       "      <td>1777.852822</td>\n",
       "      <td>NaN</td>\n",
       "      <td>54875.285956</td>\n",
       "    </tr>\n",
       "    <tr>\n",
       "      <th>3</th>\n",
       "      <td>59775.735096</td>\n",
       "      <td>33872.334307</td>\n",
       "      <td>2177.799015</td>\n",
       "      <td>NaN</td>\n",
       "      <td>50114.401110</td>\n",
       "    </tr>\n",
       "    <tr>\n",
       "      <th>4</th>\n",
       "      <td>86481.552591</td>\n",
       "      <td>18480.056593</td>\n",
       "      <td>5396.215864</td>\n",
       "      <td>NaN</td>\n",
       "      <td>46599.111335</td>\n",
       "    </tr>\n",
       "  </tbody>\n",
       "</table>\n",
       "</div>"
      ],
      "text/plain": [
       "               0             1            2              3             4\n",
       "0  116153.166122  31135.884356  1511.309259  189487.147128  40898.417906\n",
       "1   85334.519462  17376.649677   494.179350            NaN  42701.443045\n",
       "2   91513.042673  23552.379948  1777.852822            NaN  54875.285956\n",
       "3   59775.735096  33872.334307  2177.799015            NaN  50114.401110\n",
       "4   86481.552591  18480.056593  5396.215864            NaN  46599.111335"
      ]
     },
     "execution_count": 32,
     "metadata": {},
     "output_type": "execute_result"
    }
   ],
   "source": [
    "df_gdp_per_capita.head()"
   ]
  },
  {
   "cell_type": "markdown",
   "id": "1a35c061-a4d0-4ba2-a170-92515538da30",
   "metadata": {},
   "source": [
    "Записываем получившиеся результаты в `excel`-файл"
   ]
  },
  {
   "cell_type": "code",
   "execution_count": 33,
   "id": "d13b1d5d-a01c-4dee-a1e1-48c346fe9356",
   "metadata": {},
   "outputs": [],
   "source": [
    "save_as_xlsx(\"./results/gdp_growth_gdp_per_capita_2019.xlsx\",\n",
    "             [\"Country Names\", \"GDP growth\", \"GDP per capita\"],\n",
    "             [df_names, df_gdp, df_gdp_per_capita])"
   ]
  },
  {
   "cell_type": "markdown",
   "id": "2483cb49-009f-4692-b2ed-ba7429c5937c",
   "metadata": {
    "jp-MarkdownHeadingCollapsed": true,
    "tags": []
   },
   "source": [
    "### Кластеризация на основании подушевого ВВП, темпов роста ВВП, темов инфляции"
   ]
  },
  {
   "cell_type": "markdown",
   "id": "7bddb3a6-ad54-4e27-a032-03ae54fd2d94",
   "metadata": {},
   "source": [
    "Выбираем нужные данные"
   ]
  },
  {
   "cell_type": "code",
   "execution_count": 34,
   "id": "650c28cc-f262-4718-898b-c541910b1219",
   "metadata": {},
   "outputs": [
    {
     "data": {
      "text/html": [
       "<div>\n",
       "<style scoped>\n",
       "    .dataframe tbody tr th:only-of-type {\n",
       "        vertical-align: middle;\n",
       "    }\n",
       "\n",
       "    .dataframe tbody tr th {\n",
       "        vertical-align: top;\n",
       "    }\n",
       "\n",
       "    .dataframe thead th {\n",
       "        text-align: right;\n",
       "    }\n",
       "</style>\n",
       "<table border=\"1\" class=\"dataframe\">\n",
       "  <thead>\n",
       "    <tr style=\"text-align: right;\">\n",
       "      <th></th>\n",
       "      <th>Country Name</th>\n",
       "      <th>Inflation</th>\n",
       "    </tr>\n",
       "  </thead>\n",
       "  <tbody>\n",
       "    <tr>\n",
       "      <th>0</th>\n",
       "      <td>Aruba</td>\n",
       "      <td>5.568805</td>\n",
       "    </tr>\n",
       "    <tr>\n",
       "      <th>1</th>\n",
       "      <td>Africa Eastern and Southern</td>\n",
       "      <td>4.387341</td>\n",
       "    </tr>\n",
       "    <tr>\n",
       "      <th>2</th>\n",
       "      <td>Afghanistan</td>\n",
       "      <td>6.521480</td>\n",
       "    </tr>\n",
       "    <tr>\n",
       "      <th>3</th>\n",
       "      <td>Africa Western and Central</td>\n",
       "      <td>1.582290</td>\n",
       "    </tr>\n",
       "    <tr>\n",
       "      <th>4</th>\n",
       "      <td>Angola</td>\n",
       "      <td>19.184276</td>\n",
       "    </tr>\n",
       "  </tbody>\n",
       "</table>\n",
       "</div>"
      ],
      "text/plain": [
       "                  Country Name  Inflation\n",
       "0                        Aruba   5.568805\n",
       "1  Africa Eastern and Southern   4.387341\n",
       "2                  Afghanistan   6.521480\n",
       "3   Africa Western and Central   1.582290\n",
       "4                       Angola  19.184276"
      ]
     },
     "execution_count": 34,
     "metadata": {},
     "output_type": "execute_result"
    }
   ],
   "source": [
    "df_inflation_2019 = df_inflation_data[[\"Country Name\", \"2019\"]].dropna()\n",
    "df_inflation_2019 = df_inflation_2019.rename({\"2019\": \"Inflation\"}, axis=1)\n",
    "df_inflation_2019.head()"
   ]
  },
  {
   "cell_type": "code",
   "execution_count": 35,
   "id": "cbb43314-3e13-49de-baef-4efc03204eb7",
   "metadata": {},
   "outputs": [
    {
     "data": {
      "text/html": [
       "<div>\n",
       "<style scoped>\n",
       "    .dataframe tbody tr th:only-of-type {\n",
       "        vertical-align: middle;\n",
       "    }\n",
       "\n",
       "    .dataframe tbody tr th {\n",
       "        vertical-align: top;\n",
       "    }\n",
       "\n",
       "    .dataframe thead th {\n",
       "        text-align: right;\n",
       "    }\n",
       "</style>\n",
       "<table border=\"1\" class=\"dataframe\">\n",
       "  <thead>\n",
       "    <tr style=\"text-align: right;\">\n",
       "      <th></th>\n",
       "      <th>Country Name</th>\n",
       "      <th>GDP Growth</th>\n",
       "      <th>GDP per capita</th>\n",
       "      <th>Inflation</th>\n",
       "    </tr>\n",
       "  </thead>\n",
       "  <tbody>\n",
       "    <tr>\n",
       "      <th>0</th>\n",
       "      <td>Aruba</td>\n",
       "      <td>-2.085600</td>\n",
       "      <td>31135.884356</td>\n",
       "      <td>5.568805</td>\n",
       "    </tr>\n",
       "    <tr>\n",
       "      <th>1</th>\n",
       "      <td>Africa Eastern and Southern</td>\n",
       "      <td>2.025941</td>\n",
       "      <td>1511.309259</td>\n",
       "      <td>4.387341</td>\n",
       "    </tr>\n",
       "    <tr>\n",
       "      <th>2</th>\n",
       "      <td>Afghanistan</td>\n",
       "      <td>3.911603</td>\n",
       "      <td>494.179350</td>\n",
       "      <td>6.521480</td>\n",
       "    </tr>\n",
       "    <tr>\n",
       "      <th>3</th>\n",
       "      <td>Africa Western and Central</td>\n",
       "      <td>3.202544</td>\n",
       "      <td>1777.852822</td>\n",
       "      <td>1.582290</td>\n",
       "    </tr>\n",
       "    <tr>\n",
       "      <th>4</th>\n",
       "      <td>Angola</td>\n",
       "      <td>-0.700000</td>\n",
       "      <td>2177.799015</td>\n",
       "      <td>19.184276</td>\n",
       "    </tr>\n",
       "  </tbody>\n",
       "</table>\n",
       "</div>"
      ],
      "text/plain": [
       "                  Country Name  GDP Growth  GDP per capita  Inflation\n",
       "0                        Aruba   -2.085600    31135.884356   5.568805\n",
       "1  Africa Eastern and Southern    2.025941     1511.309259   4.387341\n",
       "2                  Afghanistan    3.911603      494.179350   6.521480\n",
       "3   Africa Western and Central    3.202544     1777.852822   1.582290\n",
       "4                       Angola   -0.700000     2177.799015  19.184276"
      ]
     },
     "execution_count": 35,
     "metadata": {},
     "output_type": "execute_result"
    }
   ],
   "source": [
    "df_gdp_per_capita_gdp_growth_inflation_2019 = pd.merge(df_gdp_per_capita_gdp_growth_2019, df_inflation_2019, left_on=\"Country Name\", right_on=\"Country Name\", how=\"left\")\n",
    "df_gdp_per_capita_gdp_growth_inflation_2019.head()"
   ]
  },
  {
   "cell_type": "code",
   "execution_count": 36,
   "id": "c5771338-9cf8-49fb-811c-0baf05c52b9f",
   "metadata": {},
   "outputs": [],
   "source": [
    "data_gdp_per_capita_gdp_growth_inflation_2019 = df_gdp_per_capita_gdp_growth_2019.loc[:, \"GDP Growth\":\"Inflation\"].values"
   ]
  },
  {
   "cell_type": "markdown",
   "id": "c31eaa98-b5d7-4338-bf4e-b338f36f36ac",
   "metadata": {},
   "source": [
    "Стандартизация показателей"
   ]
  },
  {
   "cell_type": "code",
   "execution_count": 37,
   "id": "10e80811-5afd-4e59-b547-edb418e93d36",
   "metadata": {},
   "outputs": [],
   "source": [
    "data_gdp_per_capita_gdp_growth_inflation_2019_std = (data_gdp_per_capita_gdp_growth_inflation_2019 - data_gdp_per_capita_gdp_growth_inflation_2019.mean()) / data_gdp_per_capita_gdp_growth_inflation_2019.std()"
   ]
  },
  {
   "cell_type": "markdown",
   "id": "e4f53289-60dd-423e-b568-c073963fae11",
   "metadata": {},
   "source": [
    "На основании дендрограммы определяем количество кластеров"
   ]
  },
  {
   "cell_type": "code",
   "execution_count": 38,
   "id": "5fe96c6e-d160-4635-8bbd-8a35f83d394e",
   "metadata": {},
   "outputs": [],
   "source": [
    "number_of_cluster = 5"
   ]
  },
  {
   "cell_type": "code",
   "execution_count": 39,
   "id": "3462ac5d-ea86-4d7e-85b7-43b6e86b834b",
   "metadata": {},
   "outputs": [
    {
     "data": {
      "image/png": "[encoded data removed]",
      "text/plain": [
       "<Figure size 432x288 with 1 Axes>"
      ]
     },
     "metadata": {
      "needs_background": "light"
     },
     "output_type": "display_data"
    }
   ],
   "source": [
    "dendrogram = sch.dendrogram(ward(data_gdp_per_capita_gdp_growth_inflation_2019_std))\n",
    "plt.show()"
   ]
  },
  {
   "cell_type": "markdown",
   "id": "737d3ae6-7bab-4b83-bb30-d58ca0759924",
   "metadata": {},
   "source": [
    "Кластеризируем данные"
   ]
  },
  {
   "cell_type": "code",
   "execution_count": 40,
   "id": "ecf9ce03-7dc7-443b-8c8f-1584f17d0e3c",
   "metadata": {},
   "outputs": [],
   "source": [
    "hc = AgglomerativeClustering(n_clusters=number_of_cluster, affinity=\"euclidean\", linkage=\"ward\")\n",
    "\n",
    "y_hc = hc.fit_predict(data_gdp_per_capita_gdp_growth_inflation_2019_std)"
   ]
  },
  {
   "cell_type": "code",
   "execution_count": 41,
   "id": "8b245e2a-392d-439f-aa51-a9608dd2a107",
   "metadata": {},
   "outputs": [],
   "source": [
    "dict_names = {i: [] for i in range(number_of_cluster)}\n",
    "for i in range(len(y_hc)):\n",
    "    dict_names[y_hc[i]].append(df_inflation_2019[\"Country Name\"].values[i])"
   ]
  },
  {
   "cell_type": "markdown",
   "id": "4d4ebbe9-7c00-4bd5-a7bf-cc91fb307b3d",
   "metadata": {},
   "source": [
    "Название стран в кластерах"
   ]
  },
  {
   "cell_type": "code",
   "execution_count": 42,
   "id": "d3d1b19d-94bc-437e-bf31-903c62354f03",
   "metadata": {},
   "outputs": [],
   "source": [
    "df_names = pd.DataFrame.from_dict(dict_names, orient=\"index\")\n",
    "df_names = df_names.transpose()"
   ]
  },
  {
   "cell_type": "code",
   "execution_count": 43,
   "id": "2900c2d6-4e0e-4954-80ed-34d110d3cba4",
   "metadata": {},
   "outputs": [
    {
     "data": {
      "text/html": [
       "<div>\n",
       "<style scoped>\n",
       "    .dataframe tbody tr th:only-of-type {\n",
       "        vertical-align: middle;\n",
       "    }\n",
       "\n",
       "    .dataframe tbody tr th {\n",
       "        vertical-align: top;\n",
       "    }\n",
       "\n",
       "    .dataframe thead th {\n",
       "        text-align: right;\n",
       "    }\n",
       "</style>\n",
       "<table border=\"1\" class=\"dataframe\">\n",
       "  <thead>\n",
       "    <tr style=\"text-align: right;\">\n",
       "      <th></th>\n",
       "      <th>0</th>\n",
       "      <th>1</th>\n",
       "      <th>2</th>\n",
       "      <th>3</th>\n",
       "      <th>4</th>\n",
       "    </tr>\n",
       "  </thead>\n",
       "  <tbody>\n",
       "    <tr>\n",
       "      <th>0</th>\n",
       "      <td>Bermuda</td>\n",
       "      <td>Aruba</td>\n",
       "      <td>Africa Eastern and Southern</td>\n",
       "      <td>Monaco</td>\n",
       "      <td>Andorra</td>\n",
       "    </tr>\n",
       "    <tr>\n",
       "      <th>1</th>\n",
       "      <td>Switzerland</td>\n",
       "      <td>Antigua and Barbuda</td>\n",
       "      <td>Afghanistan</td>\n",
       "      <td>None</td>\n",
       "      <td>United Arab Emirates</td>\n",
       "    </tr>\n",
       "    <tr>\n",
       "      <th>2</th>\n",
       "      <td>Cayman Islands</td>\n",
       "      <td>Bahrain</td>\n",
       "      <td>Africa Western and Central</td>\n",
       "      <td>None</td>\n",
       "      <td>Australia</td>\n",
       "    </tr>\n",
       "    <tr>\n",
       "      <th>3</th>\n",
       "      <td>Denmark</td>\n",
       "      <td>Bahamas, The</td>\n",
       "      <td>Angola</td>\n",
       "      <td>None</td>\n",
       "      <td>Austria</td>\n",
       "    </tr>\n",
       "    <tr>\n",
       "      <th>4</th>\n",
       "      <td>Isle of Man</td>\n",
       "      <td>Barbados</td>\n",
       "      <td>Albania</td>\n",
       "      <td>None</td>\n",
       "      <td>Belgium</td>\n",
       "    </tr>\n",
       "  </tbody>\n",
       "</table>\n",
       "</div>"
      ],
      "text/plain": [
       "                0                    1                            2       3  \\\n",
       "0         Bermuda                Aruba  Africa Eastern and Southern  Monaco   \n",
       "1     Switzerland  Antigua and Barbuda                  Afghanistan    None   \n",
       "2  Cayman Islands              Bahrain   Africa Western and Central    None   \n",
       "3         Denmark         Bahamas, The                       Angola    None   \n",
       "4     Isle of Man             Barbados                      Albania    None   \n",
       "\n",
       "                      4  \n",
       "0               Andorra  \n",
       "1  United Arab Emirates  \n",
       "2             Australia  \n",
       "3               Austria  \n",
       "4               Belgium  "
      ]
     },
     "execution_count": 43,
     "metadata": {},
     "output_type": "execute_result"
    }
   ],
   "source": [
    "df_names.head()"
   ]
  },
  {
   "cell_type": "markdown",
   "id": "1c9b1deb-692b-45bf-8ae6-804be04e0384",
   "metadata": {},
   "source": [
    "Значения темпов роста ВВП в кластерах"
   ]
  },
  {
   "cell_type": "code",
   "execution_count": 44,
   "id": "273f0bc2-d6c8-4657-b2e0-7442141feb70",
   "metadata": {},
   "outputs": [],
   "source": [
    "dict_gdp = {i: [df_gdp_per_capita_gdp_growth_inflation_2019.loc[df_gdp_per_capita_gdp_growth_inflation_2019[\"Country Name\"] == df_names[i][j]][\"GDP Growth\"].values[0] for j in range(len(df_names[i].dropna()))] for i in range(number_of_cluster)}"
   ]
  },
  {
   "cell_type": "code",
   "execution_count": 45,
   "id": "78fb0c53-1c93-439d-ac99-477e47eeac90",
   "metadata": {},
   "outputs": [],
   "source": [
    "df_gdp = pd.DataFrame.from_dict(dict_gdp, orient=\"index\").transpose()"
   ]
  },
  {
   "cell_type": "code",
   "execution_count": 46,
   "id": "408cebbb-e1dd-4e1b-b6e3-3489d020f7fc",
   "metadata": {},
   "outputs": [
    {
     "data": {
      "text/html": [
       "<div>\n",
       "<style scoped>\n",
       "    .dataframe tbody tr th:only-of-type {\n",
       "        vertical-align: middle;\n",
       "    }\n",
       "\n",
       "    .dataframe tbody tr th {\n",
       "        vertical-align: top;\n",
       "    }\n",
       "\n",
       "    .dataframe thead th {\n",
       "        text-align: right;\n",
       "    }\n",
       "</style>\n",
       "<table border=\"1\" class=\"dataframe\">\n",
       "  <thead>\n",
       "    <tr style=\"text-align: right;\">\n",
       "      <th></th>\n",
       "      <th>0</th>\n",
       "      <th>1</th>\n",
       "      <th>2</th>\n",
       "      <th>3</th>\n",
       "      <th>4</th>\n",
       "    </tr>\n",
       "  </thead>\n",
       "  <tbody>\n",
       "    <tr>\n",
       "      <th>0</th>\n",
       "      <td>0.306267</td>\n",
       "      <td>-2.085600</td>\n",
       "      <td>2.025941</td>\n",
       "      <td>6.905665</td>\n",
       "      <td>2.015548</td>\n",
       "    </tr>\n",
       "    <tr>\n",
       "      <th>1</th>\n",
       "      <td>1.210992</td>\n",
       "      <td>4.862236</td>\n",
       "      <td>3.911603</td>\n",
       "      <td>NaN</td>\n",
       "      <td>3.411539</td>\n",
       "    </tr>\n",
       "    <tr>\n",
       "      <th>2</th>\n",
       "      <td>3.873077</td>\n",
       "      <td>2.166965</td>\n",
       "      <td>3.202544</td>\n",
       "      <td>NaN</td>\n",
       "      <td>2.113149</td>\n",
       "    </tr>\n",
       "    <tr>\n",
       "      <th>3</th>\n",
       "      <td>2.114664</td>\n",
       "      <td>1.896164</td>\n",
       "      <td>-0.700000</td>\n",
       "      <td>NaN</td>\n",
       "      <td>1.491211</td>\n",
       "    </tr>\n",
       "    <tr>\n",
       "      <th>4</th>\n",
       "      <td>0.254861</td>\n",
       "      <td>-0.610275</td>\n",
       "      <td>2.088063</td>\n",
       "      <td>NaN</td>\n",
       "      <td>2.111532</td>\n",
       "    </tr>\n",
       "  </tbody>\n",
       "</table>\n",
       "</div>"
      ],
      "text/plain": [
       "          0         1         2         3         4\n",
       "0  0.306267 -2.085600  2.025941  6.905665  2.015548\n",
       "1  1.210992  4.862236  3.911603       NaN  3.411539\n",
       "2  3.873077  2.166965  3.202544       NaN  2.113149\n",
       "3  2.114664  1.896164 -0.700000       NaN  1.491211\n",
       "4  0.254861 -0.610275  2.088063       NaN  2.111532"
      ]
     },
     "execution_count": 46,
     "metadata": {},
     "output_type": "execute_result"
    }
   ],
   "source": [
    "df_gdp.head()"
   ]
  },
  {
   "cell_type": "markdown",
   "id": "ad913887-71dd-410a-a7cd-e1c3b567630b",
   "metadata": {},
   "source": [
    "Значения подушевого ВВП в кластерах"
   ]
  },
  {
   "cell_type": "code",
   "execution_count": 47,
   "id": "ab12e801-02ae-4f02-9da1-faa4124b56c2",
   "metadata": {},
   "outputs": [],
   "source": [
    "dict_gdp_per_capita = {i: [df_gdp_per_capita_gdp_growth_inflation_2019.loc[df_gdp_per_capita_gdp_growth_inflation_2019[\"Country Name\"] == df_names[i][j]][\"GDP per capita\"].values[0] for j in range(len(df_names[i].dropna()))] for i in range(number_of_cluster)}"
   ]
  },
  {
   "cell_type": "code",
   "execution_count": 48,
   "id": "919784f5-7b73-42d7-9ab1-d77303f7fc87",
   "metadata": {},
   "outputs": [],
   "source": [
    "df_gdp_per_capita = pd.DataFrame.from_dict(dict_gdp_per_capita, orient=\"index\").transpose()"
   ]
  },
  {
   "cell_type": "code",
   "execution_count": 49,
   "id": "e33d26c0-ddbc-4e63-bb0f-9de1ca7c06b2",
   "metadata": {},
   "outputs": [
    {
     "data": {
      "text/html": [
       "<div>\n",
       "<style scoped>\n",
       "    .dataframe tbody tr th:only-of-type {\n",
       "        vertical-align: middle;\n",
       "    }\n",
       "\n",
       "    .dataframe tbody tr th {\n",
       "        vertical-align: top;\n",
       "    }\n",
       "\n",
       "    .dataframe thead th {\n",
       "        text-align: right;\n",
       "    }\n",
       "</style>\n",
       "<table border=\"1\" class=\"dataframe\">\n",
       "  <thead>\n",
       "    <tr style=\"text-align: right;\">\n",
       "      <th></th>\n",
       "      <th>0</th>\n",
       "      <th>1</th>\n",
       "      <th>2</th>\n",
       "      <th>3</th>\n",
       "      <th>4</th>\n",
       "    </tr>\n",
       "  </thead>\n",
       "  <tbody>\n",
       "    <tr>\n",
       "      <th>0</th>\n",
       "      <td>116153.166122</td>\n",
       "      <td>31135.884356</td>\n",
       "      <td>1511.309259</td>\n",
       "      <td>189487.147128</td>\n",
       "      <td>40898.417906</td>\n",
       "    </tr>\n",
       "    <tr>\n",
       "      <th>1</th>\n",
       "      <td>85334.519462</td>\n",
       "      <td>17376.649677</td>\n",
       "      <td>494.179350</td>\n",
       "      <td>NaN</td>\n",
       "      <td>42701.443045</td>\n",
       "    </tr>\n",
       "    <tr>\n",
       "      <th>2</th>\n",
       "      <td>91513.042673</td>\n",
       "      <td>23552.379948</td>\n",
       "      <td>1777.852822</td>\n",
       "      <td>NaN</td>\n",
       "      <td>54875.285956</td>\n",
       "    </tr>\n",
       "    <tr>\n",
       "      <th>3</th>\n",
       "      <td>59775.735096</td>\n",
       "      <td>33872.334307</td>\n",
       "      <td>2177.799015</td>\n",
       "      <td>NaN</td>\n",
       "      <td>50114.401110</td>\n",
       "    </tr>\n",
       "    <tr>\n",
       "      <th>4</th>\n",
       "      <td>86481.552591</td>\n",
       "      <td>18480.056593</td>\n",
       "      <td>5396.215864</td>\n",
       "      <td>NaN</td>\n",
       "      <td>46599.111335</td>\n",
       "    </tr>\n",
       "  </tbody>\n",
       "</table>\n",
       "</div>"
      ],
      "text/plain": [
       "               0             1            2              3             4\n",
       "0  116153.166122  31135.884356  1511.309259  189487.147128  40898.417906\n",
       "1   85334.519462  17376.649677   494.179350            NaN  42701.443045\n",
       "2   91513.042673  23552.379948  1777.852822            NaN  54875.285956\n",
       "3   59775.735096  33872.334307  2177.799015            NaN  50114.401110\n",
       "4   86481.552591  18480.056593  5396.215864            NaN  46599.111335"
      ]
     },
     "execution_count": 49,
     "metadata": {},
     "output_type": "execute_result"
    }
   ],
   "source": [
    "df_gdp_per_capita.head()"
   ]
  },
  {
   "cell_type": "markdown",
   "id": "467c290a-cfd6-474e-81d4-c4b0131eb0e0",
   "metadata": {},
   "source": [
    "Значения темпа инфляции в кластерах"
   ]
  },
  {
   "cell_type": "code",
   "execution_count": 50,
   "id": "292b79c5-aed6-430b-a256-454a367bd82a",
   "metadata": {},
   "outputs": [],
   "source": [
    "dict_inflation = {i: [df_gdp_per_capita_gdp_growth_inflation_2019.loc[df_gdp_per_capita_gdp_growth_inflation_2019[\"Country Name\"] == df_names[i][j]][\"Inflation\"].values[0] for j in range(len(df_names[i].dropna()))] for i in range(number_of_cluster)}"
   ]
  },
  {
   "cell_type": "code",
   "execution_count": 51,
   "id": "27f45336-47fb-46fd-9711-fbc555cedd8d",
   "metadata": {},
   "outputs": [],
   "source": [
    "df_inflation = pd.DataFrame.from_dict(dict_inflation, orient=\"index\").transpose()"
   ]
  },
  {
   "cell_type": "code",
   "execution_count": 52,
   "id": "f0a68755-e4dc-46f3-b71f-7d2a2e49daaa",
   "metadata": {},
   "outputs": [
    {
     "data": {
      "text/html": [
       "<div>\n",
       "<style scoped>\n",
       "    .dataframe tbody tr th:only-of-type {\n",
       "        vertical-align: middle;\n",
       "    }\n",
       "\n",
       "    .dataframe tbody tr th {\n",
       "        vertical-align: top;\n",
       "    }\n",
       "\n",
       "    .dataframe thead th {\n",
       "        text-align: right;\n",
       "    }\n",
       "</style>\n",
       "<table border=\"1\" class=\"dataframe\">\n",
       "  <thead>\n",
       "    <tr style=\"text-align: right;\">\n",
       "      <th></th>\n",
       "      <th>0</th>\n",
       "      <th>1</th>\n",
       "      <th>2</th>\n",
       "      <th>3</th>\n",
       "      <th>4</th>\n",
       "    </tr>\n",
       "  </thead>\n",
       "  <tbody>\n",
       "    <tr>\n",
       "      <th>0</th>\n",
       "      <td>2.419352</td>\n",
       "      <td>5.568805</td>\n",
       "      <td>4.387341</td>\n",
       "      <td>1.279273</td>\n",
       "      <td>1.374754</td>\n",
       "    </tr>\n",
       "    <tr>\n",
       "      <th>1</th>\n",
       "      <td>-0.105745</td>\n",
       "      <td>0.208077</td>\n",
       "      <td>6.521480</td>\n",
       "      <td>NaN</td>\n",
       "      <td>-4.444037</td>\n",
       "    </tr>\n",
       "    <tr>\n",
       "      <th>2</th>\n",
       "      <td>3.464413</td>\n",
       "      <td>0.083262</td>\n",
       "      <td>1.582290</td>\n",
       "      <td>NaN</td>\n",
       "      <td>3.418786</td>\n",
       "    </tr>\n",
       "    <tr>\n",
       "      <th>3</th>\n",
       "      <td>0.742103</td>\n",
       "      <td>1.501262</td>\n",
       "      <td>19.184276</td>\n",
       "      <td>NaN</td>\n",
       "      <td>1.622589</td>\n",
       "    </tr>\n",
       "    <tr>\n",
       "      <th>4</th>\n",
       "      <td>1.800021</td>\n",
       "      <td>4.697597</td>\n",
       "      <td>1.256590</td>\n",
       "      <td>NaN</td>\n",
       "      <td>1.794827</td>\n",
       "    </tr>\n",
       "  </tbody>\n",
       "</table>\n",
       "</div>"
      ],
      "text/plain": [
       "          0         1          2         3         4\n",
       "0  2.419352  5.568805   4.387341  1.279273  1.374754\n",
       "1 -0.105745  0.208077   6.521480       NaN -4.444037\n",
       "2  3.464413  0.083262   1.582290       NaN  3.418786\n",
       "3  0.742103  1.501262  19.184276       NaN  1.622589\n",
       "4  1.800021  4.697597   1.256590       NaN  1.794827"
      ]
     },
     "execution_count": 52,
     "metadata": {},
     "output_type": "execute_result"
    }
   ],
   "source": [
    "df_inflation.head()"
   ]
  },
  {
   "cell_type": "markdown",
   "id": "6237cfdf-6e1a-4351-b8f7-6a0e3d83b54f",
   "metadata": {},
   "source": [
    "Записываем получившиеся результаты в `excel`-файл"
   ]
  },
  {
   "cell_type": "code",
   "execution_count": 53,
   "id": "84ec8343-d124-4420-b048-cc469bff632a",
   "metadata": {},
   "outputs": [],
   "source": [
    "save_as_xlsx(\"./results/gdp_per_capita_gdp_growth_inflation_2019.xlsx\",\n",
    "             [\"Country Names\", \"GDP growth\", \"GDP per capita\", \"Inflation\"],\n",
    "             [df_names, df_gdp, df_gdp_per_capita, df_inflation])"
   ]
  },
  {
   "cell_type": "markdown",
   "id": "13e392be-e67e-415a-a939-a58fd518e434",
   "metadata": {
    "jp-MarkdownHeadingCollapsed": true,
    "tags": []
   },
   "source": [
    "## 2013 год"
   ]
  },
  {
   "cell_type": "markdown",
   "id": "c26d3de0-75aa-448e-a7db-c837839846c7",
   "metadata": {
    "jp-MarkdownHeadingCollapsed": true,
    "tags": []
   },
   "source": [
    "### Кластеризация на основании темпов роста ВВП"
   ]
  },
  {
   "cell_type": "markdown",
   "id": "1e334e87-1abe-4497-a06f-3d32cb4b2dab",
   "metadata": {},
   "source": [
    "Выбираем нужные данные"
   ]
  },
  {
   "cell_type": "code",
   "execution_count": 54,
   "id": "7c379200-a292-4f84-a083-7a1da42035cb",
   "metadata": {},
   "outputs": [
    {
     "data": {
      "text/html": [
       "<div>\n",
       "<style scoped>\n",
       "    .dataframe tbody tr th:only-of-type {\n",
       "        vertical-align: middle;\n",
       "    }\n",
       "\n",
       "    .dataframe tbody tr th {\n",
       "        vertical-align: top;\n",
       "    }\n",
       "\n",
       "    .dataframe thead th {\n",
       "        text-align: right;\n",
       "    }\n",
       "</style>\n",
       "<table border=\"1\" class=\"dataframe\">\n",
       "  <thead>\n",
       "    <tr style=\"text-align: right;\">\n",
       "      <th></th>\n",
       "      <th>Country Name</th>\n",
       "      <th>GDP Growth</th>\n",
       "    </tr>\n",
       "  </thead>\n",
       "  <tbody>\n",
       "    <tr>\n",
       "      <th>0</th>\n",
       "      <td>Aruba</td>\n",
       "      <td>6.429817</td>\n",
       "    </tr>\n",
       "    <tr>\n",
       "      <th>1</th>\n",
       "      <td>Africa Eastern and Southern</td>\n",
       "      <td>4.200209</td>\n",
       "    </tr>\n",
       "    <tr>\n",
       "      <th>2</th>\n",
       "      <td>Afghanistan</td>\n",
       "      <td>5.600745</td>\n",
       "    </tr>\n",
       "    <tr>\n",
       "      <th>3</th>\n",
       "      <td>Africa Western and Central</td>\n",
       "      <td>6.104192</td>\n",
       "    </tr>\n",
       "    <tr>\n",
       "      <th>4</th>\n",
       "      <td>Angola</td>\n",
       "      <td>4.950000</td>\n",
       "    </tr>\n",
       "  </tbody>\n",
       "</table>\n",
       "</div>"
      ],
      "text/plain": [
       "                  Country Name  GDP Growth\n",
       "0                        Aruba    6.429817\n",
       "1  Africa Eastern and Southern    4.200209\n",
       "2                  Afghanistan    5.600745\n",
       "3   Africa Western and Central    6.104192\n",
       "4                       Angola    4.950000"
      ]
     },
     "execution_count": 54,
     "metadata": {},
     "output_type": "execute_result"
    }
   ],
   "source": [
    "df_gdp_growth_2013 = df_gdp_growth_data[[\"Country Name\", \"2013\"]].dropna()\n",
    "df_gdp_growth_2013 = df_gdp_growth_2013.rename({\"2013\": \"GDP Growth\"}, axis=1)\n",
    "df_gdp_growth_2013.head()"
   ]
  },
  {
   "cell_type": "markdown",
   "id": "9b684297-c966-4d03-b3c4-ef1864faa6c6",
   "metadata": {},
   "source": [
    "На основании дендрограммы определяем количество кластеров"
   ]
  },
  {
   "cell_type": "code",
   "execution_count": 55,
   "id": "61b721ff-937c-4bd1-801c-1ca49f03f555",
   "metadata": {},
   "outputs": [],
   "source": [
    "number_of_cluster = 4"
   ]
  },
  {
   "cell_type": "code",
   "execution_count": 56,
   "id": "409372be-b45a-404e-bfc5-f0940406a8dc",
   "metadata": {},
   "outputs": [
    {
     "data": {
      "image/png": "[encoded data removed]",
      "text/plain": [
       "<Figure size 432x288 with 1 Axes>"
      ]
     },
     "metadata": {
      "needs_background": "light"
     },
     "output_type": "display_data"
    }
   ],
   "source": [
    "data_2d_gdp_growth_2013 = np.reshape(df_gdp_growth_2013[\"GDP Growth\"].values, (len(df_gdp_growth_2013[\"GDP Growth\"].values), 1))\n",
    "\n",
    "dendrogram = sch.dendrogram(ward(data_2d_gdp_growth_2013))\n",
    "plt.show()"
   ]
  },
  {
   "cell_type": "markdown",
   "id": "c4c9e0f3-fa07-4cdd-8e86-fab3c8da3621",
   "metadata": {},
   "source": [
    "Кластеризируем данные"
   ]
  },
  {
   "cell_type": "code",
   "execution_count": 57,
   "id": "9fcf575e-da08-48ca-bfe8-3054249889dc",
   "metadata": {},
   "outputs": [],
   "source": [
    "hc = AgglomerativeClustering(n_clusters=number_of_cluster, affinity=\"euclidean\", linkage=\"ward\")\n",
    "\n",
    "y_hc = hc.fit_predict(data_2d_gdp_growth_2013)"
   ]
  },
  {
   "cell_type": "code",
   "execution_count": 58,
   "id": "dba5c99c-94de-4bd8-b2ad-0406a7af64af",
   "metadata": {},
   "outputs": [],
   "source": [
    "dict_names = {i: [] for i in range(number_of_cluster)}\n",
    "for i in range(len(y_hc)):\n",
    "    dict_names[y_hc[i]].append(df_gdp_growth_2013[\"Country Name\"].values[i])"
   ]
  },
  {
   "cell_type": "markdown",
   "id": "b39b81bb-4f30-4e32-83d1-2cb6edfe937c",
   "metadata": {},
   "source": [
    "Название стран в кластерах"
   ]
  },
  {
   "cell_type": "code",
   "execution_count": 59,
   "id": "b596ca67-13ce-49eb-a90e-86eafcdd8638",
   "metadata": {},
   "outputs": [],
   "source": [
    "df_names = pd.DataFrame.from_dict(dict_names, orient=\"index\").transpose()"
   ]
  },
  {
   "cell_type": "code",
   "execution_count": 60,
   "id": "92eb8f8e-f9ae-4f56-ba77-469027c4a480",
   "metadata": {},
   "outputs": [
    {
     "data": {
      "text/html": [
       "<div>\n",
       "<style scoped>\n",
       "    .dataframe tbody tr th:only-of-type {\n",
       "        vertical-align: middle;\n",
       "    }\n",
       "\n",
       "    .dataframe tbody tr th {\n",
       "        vertical-align: top;\n",
       "    }\n",
       "\n",
       "    .dataframe thead th {\n",
       "        text-align: right;\n",
       "    }\n",
       "</style>\n",
       "<table border=\"1\" class=\"dataframe\">\n",
       "  <thead>\n",
       "    <tr style=\"text-align: right;\">\n",
       "      <th></th>\n",
       "      <th>0</th>\n",
       "      <th>1</th>\n",
       "      <th>2</th>\n",
       "      <th>3</th>\n",
       "    </tr>\n",
       "  </thead>\n",
       "  <tbody>\n",
       "    <tr>\n",
       "      <th>0</th>\n",
       "      <td>Aruba</td>\n",
       "      <td>Central African Republic</td>\n",
       "      <td>Albania</td>\n",
       "      <td>Nauru</td>\n",
       "    </tr>\n",
       "    <tr>\n",
       "      <th>1</th>\n",
       "      <td>Africa Eastern and Southern</td>\n",
       "      <td>Libya</td>\n",
       "      <td>Andorra</td>\n",
       "      <td>Sierra Leone</td>\n",
       "    </tr>\n",
       "    <tr>\n",
       "      <th>2</th>\n",
       "      <td>Afghanistan</td>\n",
       "      <td>Syrian Arab Republic</td>\n",
       "      <td>American Samoa</td>\n",
       "      <td>None</td>\n",
       "    </tr>\n",
       "    <tr>\n",
       "      <th>3</th>\n",
       "      <td>Africa Western and Central</td>\n",
       "      <td>None</td>\n",
       "      <td>Antigua and Barbuda</td>\n",
       "      <td>None</td>\n",
       "    </tr>\n",
       "    <tr>\n",
       "      <th>4</th>\n",
       "      <td>Angola</td>\n",
       "      <td>None</td>\n",
       "      <td>Austria</td>\n",
       "      <td>None</td>\n",
       "    </tr>\n",
       "  </tbody>\n",
       "</table>\n",
       "</div>"
      ],
      "text/plain": [
       "                             0                         1                    2  \\\n",
       "0                        Aruba  Central African Republic              Albania   \n",
       "1  Africa Eastern and Southern                     Libya              Andorra   \n",
       "2                  Afghanistan      Syrian Arab Republic       American Samoa   \n",
       "3   Africa Western and Central                      None  Antigua and Barbuda   \n",
       "4                       Angola                      None              Austria   \n",
       "\n",
       "              3  \n",
       "0         Nauru  \n",
       "1  Sierra Leone  \n",
       "2          None  \n",
       "3          None  \n",
       "4          None  "
      ]
     },
     "execution_count": 60,
     "metadata": {},
     "output_type": "execute_result"
    }
   ],
   "source": [
    "df_names.head()"
   ]
  },
  {
   "cell_type": "markdown",
   "id": "77badbfb-6c33-4dbc-a204-9bffca1c132b",
   "metadata": {},
   "source": [
    "Значения темпов роста ВВП в кластерах"
   ]
  },
  {
   "cell_type": "code",
   "execution_count": 61,
   "id": "b3bd670d-7e8b-4971-bcab-65c4fc63af62",
   "metadata": {},
   "outputs": [],
   "source": [
    "dict_vals = {i: [df_gdp_growth_2013.loc[df_gdp_growth_2013[\"Country Name\"] == df_names[i][j]][\"GDP Growth\"].values[0] for j in range(len(df_names[i].dropna()))] for i in range(number_of_cluster)}"
   ]
  },
  {
   "cell_type": "code",
   "execution_count": 62,
   "id": "5d89e85e-3c51-431f-b718-d367824f4a92",
   "metadata": {},
   "outputs": [],
   "source": [
    "df_vals = pd.DataFrame.from_dict(dict_vals, orient=\"index\").transpose()"
   ]
  },
  {
   "cell_type": "code",
   "execution_count": 63,
   "id": "61f7ce6d-4bbb-4045-b230-ca77cea24dc3",
   "metadata": {},
   "outputs": [
    {
     "data": {
      "text/html": [
       "<div>\n",
       "<style scoped>\n",
       "    .dataframe tbody tr th:only-of-type {\n",
       "        vertical-align: middle;\n",
       "    }\n",
       "\n",
       "    .dataframe tbody tr th {\n",
       "        vertical-align: top;\n",
       "    }\n",
       "\n",
       "    .dataframe thead th {\n",
       "        text-align: right;\n",
       "    }\n",
       "</style>\n",
       "<table border=\"1\" class=\"dataframe\">\n",
       "  <thead>\n",
       "    <tr style=\"text-align: right;\">\n",
       "      <th></th>\n",
       "      <th>0</th>\n",
       "      <th>1</th>\n",
       "      <th>2</th>\n",
       "      <th>3</th>\n",
       "    </tr>\n",
       "  </thead>\n",
       "  <tbody>\n",
       "    <tr>\n",
       "      <th>0</th>\n",
       "      <td>6.429817</td>\n",
       "      <td>-36.391977</td>\n",
       "      <td>1.002018</td>\n",
       "      <td>30.612245</td>\n",
       "    </tr>\n",
       "    <tr>\n",
       "      <th>1</th>\n",
       "      <td>4.200209</td>\n",
       "      <td>-17.997962</td>\n",
       "      <td>-3.547597</td>\n",
       "      <td>20.715768</td>\n",
       "    </tr>\n",
       "    <tr>\n",
       "      <th>2</th>\n",
       "      <td>5.600745</td>\n",
       "      <td>-26.300088</td>\n",
       "      <td>-2.500000</td>\n",
       "      <td>NaN</td>\n",
       "    </tr>\n",
       "    <tr>\n",
       "      <th>3</th>\n",
       "      <td>6.104192</td>\n",
       "      <td>NaN</td>\n",
       "      <td>-0.600876</td>\n",
       "      <td>NaN</td>\n",
       "    </tr>\n",
       "    <tr>\n",
       "      <th>4</th>\n",
       "      <td>4.950000</td>\n",
       "      <td>NaN</td>\n",
       "      <td>0.025505</td>\n",
       "      <td>NaN</td>\n",
       "    </tr>\n",
       "  </tbody>\n",
       "</table>\n",
       "</div>"
      ],
      "text/plain": [
       "          0          1         2          3\n",
       "0  6.429817 -36.391977  1.002018  30.612245\n",
       "1  4.200209 -17.997962 -3.547597  20.715768\n",
       "2  5.600745 -26.300088 -2.500000        NaN\n",
       "3  6.104192        NaN -0.600876        NaN\n",
       "4  4.950000        NaN  0.025505        NaN"
      ]
     },
     "execution_count": 63,
     "metadata": {},
     "output_type": "execute_result"
    }
   ],
   "source": [
    "df_vals.head()"
   ]
  },
  {
   "cell_type": "markdown",
   "id": "04eccb85-d2de-4659-84b3-5e2a4c1af1f4",
   "metadata": {},
   "source": [
    "Записываем получившиеся результаты в `excel`-файл"
   ]
  },
  {
   "cell_type": "code",
   "execution_count": 64,
   "id": "269e91df-b9a4-41c8-9359-534930f1878e",
   "metadata": {},
   "outputs": [],
   "source": [
    "save_as_xlsx(\"./results/gdp_growth_2013.xlsx\",\n",
    "             [\"Country Names\", \"GDP growth\"],\n",
    "             [df_names, df_vals])"
   ]
  },
  {
   "cell_type": "markdown",
   "id": "d5cf987a-6e0d-483b-afa8-5d3de089161e",
   "metadata": {
    "jp-MarkdownHeadingCollapsed": true,
    "tags": []
   },
   "source": [
    "### Кластеризация на основании подушевого ВВП, темпов роста ВВП"
   ]
  },
  {
   "cell_type": "markdown",
   "id": "04e2fd3e-da9c-4974-83e2-30932f1ebc4b",
   "metadata": {},
   "source": [
    "Выбираем нужные данные"
   ]
  },
  {
   "cell_type": "code",
   "execution_count": 65,
   "id": "fb9aa7bb-2d3e-4fda-9cb0-0a1cc15ee581",
   "metadata": {},
   "outputs": [
    {
     "data": {
      "text/html": [
       "<div>\n",
       "<style scoped>\n",
       "    .dataframe tbody tr th:only-of-type {\n",
       "        vertical-align: middle;\n",
       "    }\n",
       "\n",
       "    .dataframe tbody tr th {\n",
       "        vertical-align: top;\n",
       "    }\n",
       "\n",
       "    .dataframe thead th {\n",
       "        text-align: right;\n",
       "    }\n",
       "</style>\n",
       "<table border=\"1\" class=\"dataframe\">\n",
       "  <thead>\n",
       "    <tr style=\"text-align: right;\">\n",
       "      <th></th>\n",
       "      <th>Country Name</th>\n",
       "      <th>GDP per capita</th>\n",
       "    </tr>\n",
       "  </thead>\n",
       "  <tbody>\n",
       "    <tr>\n",
       "      <th>0</th>\n",
       "      <td>Aruba</td>\n",
       "      <td>26442.426801</td>\n",
       "    </tr>\n",
       "    <tr>\n",
       "      <th>1</th>\n",
       "      <td>Africa Eastern and Southern</td>\n",
       "      <td>1748.905594</td>\n",
       "    </tr>\n",
       "    <tr>\n",
       "      <th>2</th>\n",
       "      <td>Afghanistan</td>\n",
       "      <td>624.315455</td>\n",
       "    </tr>\n",
       "    <tr>\n",
       "      <th>3</th>\n",
       "      <td>Africa Western and Central</td>\n",
       "      <td>2157.494584</td>\n",
       "    </tr>\n",
       "    <tr>\n",
       "      <th>4</th>\n",
       "      <td>Angola</td>\n",
       "      <td>5127.717243</td>\n",
       "    </tr>\n",
       "  </tbody>\n",
       "</table>\n",
       "</div>"
      ],
      "text/plain": [
       "                  Country Name  GDP per capita\n",
       "0                        Aruba    26442.426801\n",
       "1  Africa Eastern and Southern     1748.905594\n",
       "2                  Afghanistan      624.315455\n",
       "3   Africa Western and Central     2157.494584\n",
       "4                       Angola     5127.717243"
      ]
     },
     "execution_count": 65,
     "metadata": {},
     "output_type": "execute_result"
    }
   ],
   "source": [
    "df_gdp_per_capita_2013 = df_gdp_per_capita_data[[\"Country Name\", \"2013\"]].dropna()\n",
    "df_gdp_per_capita_2013 = df_gdp_per_capita_2013.rename({\"2013\": \"GDP per capita\"}, axis=1)\n",
    "df_gdp_per_capita_2013.head()"
   ]
  },
  {
   "cell_type": "code",
   "execution_count": 66,
   "id": "95378b8b-1544-443e-a64c-575a5a155fa5",
   "metadata": {},
   "outputs": [
    {
     "data": {
      "text/html": [
       "<div>\n",
       "<style scoped>\n",
       "    .dataframe tbody tr th:only-of-type {\n",
       "        vertical-align: middle;\n",
       "    }\n",
       "\n",
       "    .dataframe tbody tr th {\n",
       "        vertical-align: top;\n",
       "    }\n",
       "\n",
       "    .dataframe thead th {\n",
       "        text-align: right;\n",
       "    }\n",
       "</style>\n",
       "<table border=\"1\" class=\"dataframe\">\n",
       "  <thead>\n",
       "    <tr style=\"text-align: right;\">\n",
       "      <th></th>\n",
       "      <th>Country Name</th>\n",
       "      <th>GDP Growth</th>\n",
       "      <th>GDP per capita</th>\n",
       "    </tr>\n",
       "  </thead>\n",
       "  <tbody>\n",
       "    <tr>\n",
       "      <th>0</th>\n",
       "      <td>Aruba</td>\n",
       "      <td>6.429817</td>\n",
       "      <td>26442.426801</td>\n",
       "    </tr>\n",
       "    <tr>\n",
       "      <th>1</th>\n",
       "      <td>Africa Eastern and Southern</td>\n",
       "      <td>4.200209</td>\n",
       "      <td>1748.905594</td>\n",
       "    </tr>\n",
       "    <tr>\n",
       "      <th>2</th>\n",
       "      <td>Afghanistan</td>\n",
       "      <td>5.600745</td>\n",
       "      <td>624.315455</td>\n",
       "    </tr>\n",
       "    <tr>\n",
       "      <th>3</th>\n",
       "      <td>Africa Western and Central</td>\n",
       "      <td>6.104192</td>\n",
       "      <td>2157.494584</td>\n",
       "    </tr>\n",
       "    <tr>\n",
       "      <th>4</th>\n",
       "      <td>Angola</td>\n",
       "      <td>4.950000</td>\n",
       "      <td>5127.717243</td>\n",
       "    </tr>\n",
       "  </tbody>\n",
       "</table>\n",
       "</div>"
      ],
      "text/plain": [
       "                  Country Name  GDP Growth  GDP per capita\n",
       "0                        Aruba    6.429817    26442.426801\n",
       "1  Africa Eastern and Southern    4.200209     1748.905594\n",
       "2                  Afghanistan    5.600745      624.315455\n",
       "3   Africa Western and Central    6.104192     2157.494584\n",
       "4                       Angola    4.950000     5127.717243"
      ]
     },
     "execution_count": 66,
     "metadata": {},
     "output_type": "execute_result"
    }
   ],
   "source": [
    "df_gdp_per_capita_gdp_growth_2013 = pd.merge(df_gdp_growth_2013, df_gdp_per_capita_2013, left_on=\"Country Name\", right_on=\"Country Name\", how=\"left\")\n",
    "df_gdp_per_capita_gdp_growth_2013.head()"
   ]
  },
  {
   "cell_type": "code",
   "execution_count": 67,
   "id": "ebe79a12-fe04-4f06-8c12-7c3146288eba",
   "metadata": {},
   "outputs": [],
   "source": [
    "data_gdp_per_capita_gdp_growth_2013 = df_gdp_per_capita_gdp_growth_2013.loc[:, \"GDP Growth\":\"GDP per capita\"].values"
   ]
  },
  {
   "cell_type": "markdown",
   "id": "ac24f68d-a69d-4f7a-b47a-f9aa9dab975f",
   "metadata": {},
   "source": [
    "Стандартизация показателей"
   ]
  },
  {
   "cell_type": "code",
   "execution_count": 68,
   "id": "62315be4-50b5-4b0c-9c74-6774cca5ae7e",
   "metadata": {},
   "outputs": [],
   "source": [
    "data_gdp_per_capita_gdp_growth_2013_std = (data_gdp_per_capita_gdp_growth_2013 - data_gdp_per_capita_gdp_growth_2013.mean()) / data_gdp_per_capita_gdp_growth_2013.std()"
   ]
  },
  {
   "cell_type": "markdown",
   "id": "baadf763-e545-4d95-843a-e5fdaa90915f",
   "metadata": {},
   "source": [
    "На основании дендрограммы определяем количество кластеров"
   ]
  },
  {
   "cell_type": "code",
   "execution_count": 69,
   "id": "ffedbbe0-df43-4ee4-a060-7b32d55f0e40",
   "metadata": {},
   "outputs": [],
   "source": [
    "number_of_cluster = 4"
   ]
  },
  {
   "cell_type": "code",
   "execution_count": 70,
   "id": "f7c63e51-b49c-4451-9b4d-f51f25cd5547",
   "metadata": {},
   "outputs": [
    {
     "data": {
      "image/png": "[encoded data removed]",
      "text/plain": [
       "<Figure size 432x288 with 1 Axes>"
      ]
     },
     "metadata": {
      "needs_background": "light"
     },
     "output_type": "display_data"
    }
   ],
   "source": [
    "dendrogram = sch.dendrogram(ward(data_gdp_per_capita_gdp_growth_2013_std))\n",
    "plt.show()"
   ]
  },
  {
   "cell_type": "markdown",
   "id": "291604d3-5d18-4ada-9db2-1db36baa7674",
   "metadata": {},
   "source": [
    "Кластеризируем данные"
   ]
  },
  {
   "cell_type": "code",
   "execution_count": 71,
   "id": "d2a39899-2381-497d-9619-9daf99cf51c4",
   "metadata": {},
   "outputs": [],
   "source": [
    "hc = AgglomerativeClustering(n_clusters=number_of_cluster, affinity=\"euclidean\", linkage=\"ward\")\n",
    "\n",
    "y_hc = hc.fit_predict(data_gdp_per_capita_gdp_growth_2013_std)"
   ]
  },
  {
   "cell_type": "code",
   "execution_count": 72,
   "id": "1048ef73-09b6-4c39-a707-1b772926a930",
   "metadata": {},
   "outputs": [],
   "source": [
    "dict_names = {i: [] for i in range(number_of_cluster)}\n",
    "for i in range(len(y_hc)):\n",
    "    dict_names[y_hc[i]].append(df_gdp_per_capita_gdp_growth_2013[\"Country Name\"].values[i])"
   ]
  },
  {
   "cell_type": "markdown",
   "id": "6a1e0138-6d9d-46b5-880a-df6c54476272",
   "metadata": {},
   "source": [
    "Название стран в кластерах"
   ]
  },
  {
   "cell_type": "code",
   "execution_count": 73,
   "id": "1509d91f-8bb2-46e2-b509-7b64dab44e69",
   "metadata": {},
   "outputs": [],
   "source": [
    "df_names = pd.DataFrame.from_dict(dict_names, orient=\"index\")\n",
    "df_names = df_names.transpose()"
   ]
  },
  {
   "cell_type": "code",
   "execution_count": 74,
   "id": "c879aef4-b185-4d2d-b3a0-e73d184e8bde",
   "metadata": {},
   "outputs": [
    {
     "data": {
      "text/html": [
       "<div>\n",
       "<style scoped>\n",
       "    .dataframe tbody tr th:only-of-type {\n",
       "        vertical-align: middle;\n",
       "    }\n",
       "\n",
       "    .dataframe tbody tr th {\n",
       "        vertical-align: top;\n",
       "    }\n",
       "\n",
       "    .dataframe thead th {\n",
       "        text-align: right;\n",
       "    }\n",
       "</style>\n",
       "<table border=\"1\" class=\"dataframe\">\n",
       "  <thead>\n",
       "    <tr style=\"text-align: right;\">\n",
       "      <th></th>\n",
       "      <th>0</th>\n",
       "      <th>1</th>\n",
       "      <th>2</th>\n",
       "      <th>3</th>\n",
       "    </tr>\n",
       "  </thead>\n",
       "  <tbody>\n",
       "    <tr>\n",
       "      <th>0</th>\n",
       "      <td>Bermuda</td>\n",
       "      <td>Africa Eastern and Southern</td>\n",
       "      <td>Andorra</td>\n",
       "      <td>Aruba</td>\n",
       "    </tr>\n",
       "    <tr>\n",
       "      <th>1</th>\n",
       "      <td>Switzerland</td>\n",
       "      <td>Afghanistan</td>\n",
       "      <td>United Arab Emirates</td>\n",
       "      <td>Bahrain</td>\n",
       "    </tr>\n",
       "    <tr>\n",
       "      <th>2</th>\n",
       "      <td>Isle of Man</td>\n",
       "      <td>Africa Western and Central</td>\n",
       "      <td>Australia</td>\n",
       "      <td>Bahamas, The</td>\n",
       "    </tr>\n",
       "    <tr>\n",
       "      <th>3</th>\n",
       "      <td>Luxembourg</td>\n",
       "      <td>Angola</td>\n",
       "      <td>Austria</td>\n",
       "      <td>Curacao</td>\n",
       "    </tr>\n",
       "    <tr>\n",
       "      <th>4</th>\n",
       "      <td>Macao SAR, China</td>\n",
       "      <td>Albania</td>\n",
       "      <td>Belgium</td>\n",
       "      <td>Cyprus</td>\n",
       "    </tr>\n",
       "  </tbody>\n",
       "</table>\n",
       "</div>"
      ],
      "text/plain": [
       "                  0                            1                     2  \\\n",
       "0           Bermuda  Africa Eastern and Southern               Andorra   \n",
       "1       Switzerland                  Afghanistan  United Arab Emirates   \n",
       "2       Isle of Man   Africa Western and Central             Australia   \n",
       "3        Luxembourg                       Angola               Austria   \n",
       "4  Macao SAR, China                      Albania               Belgium   \n",
       "\n",
       "              3  \n",
       "0         Aruba  \n",
       "1       Bahrain  \n",
       "2  Bahamas, The  \n",
       "3       Curacao  \n",
       "4        Cyprus  "
      ]
     },
     "execution_count": 74,
     "metadata": {},
     "output_type": "execute_result"
    }
   ],
   "source": [
    "df_names.head()"
   ]
  },
  {
   "cell_type": "markdown",
   "id": "5fac248e-bdfe-4901-8dbc-fa727b56bee5",
   "metadata": {},
   "source": [
    "Значения темпов роста ВВП в кластерах"
   ]
  },
  {
   "cell_type": "code",
   "execution_count": 75,
   "id": "21a27371-71f8-41cd-b270-dabc6d309e89",
   "metadata": {},
   "outputs": [],
   "source": [
    "dict_gdp = {i: [df_gdp_per_capita_gdp_growth_2013.loc[df_gdp_per_capita_gdp_growth_2013[\"Country Name\"] == df_names[i][j]][\"GDP Growth\"].values[0] for j in range(len(df_names[i].dropna()))] for i in range(number_of_cluster)}"
   ]
  },
  {
   "cell_type": "code",
   "execution_count": 76,
   "id": "7b1343b7-908e-4d9b-950b-018b3b9dcd30",
   "metadata": {},
   "outputs": [],
   "source": [
    "df_gdp = pd.DataFrame.from_dict(dict_gdp, orient=\"index\").transpose()"
   ]
  },
  {
   "cell_type": "code",
   "execution_count": 77,
   "id": "43457774-39ef-4a21-a751-0bba79b35689",
   "metadata": {},
   "outputs": [
    {
     "data": {
      "text/html": [
       "<div>\n",
       "<style scoped>\n",
       "    .dataframe tbody tr th:only-of-type {\n",
       "        vertical-align: middle;\n",
       "    }\n",
       "\n",
       "    .dataframe tbody tr th {\n",
       "        vertical-align: top;\n",
       "    }\n",
       "\n",
       "    .dataframe thead th {\n",
       "        text-align: right;\n",
       "    }\n",
       "</style>\n",
       "<table border=\"1\" class=\"dataframe\">\n",
       "  <thead>\n",
       "    <tr style=\"text-align: right;\">\n",
       "      <th></th>\n",
       "      <th>0</th>\n",
       "      <th>1</th>\n",
       "      <th>2</th>\n",
       "      <th>3</th>\n",
       "    </tr>\n",
       "  </thead>\n",
       "  <tbody>\n",
       "    <tr>\n",
       "      <th>0</th>\n",
       "      <td>-0.279709</td>\n",
       "      <td>4.200209</td>\n",
       "      <td>-3.547597</td>\n",
       "      <td>6.429817</td>\n",
       "    </tr>\n",
       "    <tr>\n",
       "      <th>1</th>\n",
       "      <td>1.821668</td>\n",
       "      <td>5.600745</td>\n",
       "      <td>5.053078</td>\n",
       "      <td>5.416840</td>\n",
       "    </tr>\n",
       "    <tr>\n",
       "      <th>2</th>\n",
       "      <td>4.141719</td>\n",
       "      <td>6.104192</td>\n",
       "      <td>2.600212</td>\n",
       "      <td>-2.863294</td>\n",
       "    </tr>\n",
       "    <tr>\n",
       "      <th>3</th>\n",
       "      <td>3.171790</td>\n",
       "      <td>4.950000</td>\n",
       "      <td>0.025505</td>\n",
       "      <td>-0.811687</td>\n",
       "    </tr>\n",
       "    <tr>\n",
       "      <th>4</th>\n",
       "      <td>10.752807</td>\n",
       "      <td>1.002018</td>\n",
       "      <td>0.459242</td>\n",
       "      <td>-6.553078</td>\n",
       "    </tr>\n",
       "  </tbody>\n",
       "</table>\n",
       "</div>"
      ],
      "text/plain": [
       "           0         1         2         3\n",
       "0  -0.279709  4.200209 -3.547597  6.429817\n",
       "1   1.821668  5.600745  5.053078  5.416840\n",
       "2   4.141719  6.104192  2.600212 -2.863294\n",
       "3   3.171790  4.950000  0.025505 -0.811687\n",
       "4  10.752807  1.002018  0.459242 -6.553078"
      ]
     },
     "execution_count": 77,
     "metadata": {},
     "output_type": "execute_result"
    }
   ],
   "source": [
    "df_gdp.head()"
   ]
  },
  {
   "cell_type": "markdown",
   "id": "24f43d0e-3bcc-4c2b-9654-85a001b833da",
   "metadata": {},
   "source": [
    "Значения подушевого ВВП в кластерах"
   ]
  },
  {
   "cell_type": "code",
   "execution_count": 78,
   "id": "07368654-3814-4afd-9815-7c290f753722",
   "metadata": {},
   "outputs": [],
   "source": [
    "dict_gdp_per_capita = {i: [df_gdp_per_capita_gdp_growth_2013.loc[df_gdp_per_capita_gdp_growth_2013[\"Country Name\"] == df_names[i][j]][\"GDP per capita\"].values[0] for j in range(len(df_names[i].dropna()))] for i in range(number_of_cluster)}"
   ]
  },
  {
   "cell_type": "code",
   "execution_count": 79,
   "id": "067588fe-9093-4e92-90f3-bbc314313c47",
   "metadata": {},
   "outputs": [],
   "source": [
    "df_gdp_per_capita = pd.DataFrame.from_dict(dict_gdp_per_capita, orient=\"index\").transpose()"
   ]
  },
  {
   "cell_type": "code",
   "execution_count": 80,
   "id": "a714f111-ba23-4ec9-be79-958856c30550",
   "metadata": {},
   "outputs": [
    {
     "data": {
      "text/html": [
       "<div>\n",
       "<style scoped>\n",
       "    .dataframe tbody tr th:only-of-type {\n",
       "        vertical-align: middle;\n",
       "    }\n",
       "\n",
       "    .dataframe tbody tr th {\n",
       "        vertical-align: top;\n",
       "    }\n",
       "\n",
       "    .dataframe thead th {\n",
       "        text-align: right;\n",
       "    }\n",
       "</style>\n",
       "<table border=\"1\" class=\"dataframe\">\n",
       "  <thead>\n",
       "    <tr style=\"text-align: right;\">\n",
       "      <th></th>\n",
       "      <th>0</th>\n",
       "      <th>1</th>\n",
       "      <th>2</th>\n",
       "      <th>3</th>\n",
       "    </tr>\n",
       "  </thead>\n",
       "  <tbody>\n",
       "    <tr>\n",
       "      <th>0</th>\n",
       "      <td>99471.638898</td>\n",
       "      <td>1748.905594</td>\n",
       "      <td>39538.355206</td>\n",
       "      <td>26442.426801</td>\n",
       "    </tr>\n",
       "    <tr>\n",
       "      <th>1</th>\n",
       "      <td>88109.486752</td>\n",
       "      <td>624.315455</td>\n",
       "      <td>42412.636491</td>\n",
       "      <td>24744.296959</td>\n",
       "    </tr>\n",
       "    <tr>\n",
       "      <th>2</th>\n",
       "      <td>83357.132684</td>\n",
       "      <td>2157.494584</td>\n",
       "      <td>68156.627916</td>\n",
       "      <td>28768.772368</td>\n",
       "    </tr>\n",
       "    <tr>\n",
       "      <th>3</th>\n",
       "      <td>120000.140730</td>\n",
       "      <td>5127.717243</td>\n",
       "      <td>50731.127254</td>\n",
       "      <td>19762.739622</td>\n",
       "    </tr>\n",
       "    <tr>\n",
       "      <th>4</th>\n",
       "      <td>89260.757104</td>\n",
       "      <td>4413.062005</td>\n",
       "      <td>46757.951856</td>\n",
       "      <td>27729.193359</td>\n",
       "    </tr>\n",
       "  </tbody>\n",
       "</table>\n",
       "</div>"
      ],
      "text/plain": [
       "               0            1             2             3\n",
       "0   99471.638898  1748.905594  39538.355206  26442.426801\n",
       "1   88109.486752   624.315455  42412.636491  24744.296959\n",
       "2   83357.132684  2157.494584  68156.627916  28768.772368\n",
       "3  120000.140730  5127.717243  50731.127254  19762.739622\n",
       "4   89260.757104  4413.062005  46757.951856  27729.193359"
      ]
     },
     "execution_count": 80,
     "metadata": {},
     "output_type": "execute_result"
    }
   ],
   "source": [
    "df_gdp_per_capita.head()"
   ]
  },
  {
   "cell_type": "markdown",
   "id": "912c6a0b-2f3e-4150-9920-31d72b4c9391",
   "metadata": {},
   "source": [
    "Записываем получившиеся результаты в `excel`-файл"
   ]
  },
  {
   "cell_type": "code",
   "execution_count": 81,
   "id": "c1d2fb59-53b8-4695-af5e-8a5129d599b6",
   "metadata": {},
   "outputs": [],
   "source": [
    "save_as_xlsx(\"./results/gdp_growth_gdp_per_capita_2013.xlsx\",\n",
    "             [\"Country Names\", \"GDP growth\", \"GDP per capita\"],\n",
    "             [df_names, df_gdp, df_gdp_per_capita])"
   ]
  },
  {
   "cell_type": "markdown",
   "id": "70ef43a5-0baa-4a88-a8fc-cd06ba846360",
   "metadata": {
    "jp-MarkdownHeadingCollapsed": true,
    "tags": []
   },
   "source": [
    "### Кластеризация на основании подушевого ВВП, темпов роста ВВП, темов инфляции"
   ]
  },
  {
   "cell_type": "markdown",
   "id": "c100c4f6-ced6-4a7c-9070-3e4bb7d09275",
   "metadata": {},
   "source": [
    "Выбираем нужные данные"
   ]
  },
  {
   "cell_type": "code",
   "execution_count": 82,
   "id": "1b5444ff-dcb4-48e4-8cd6-c47beef1a174",
   "metadata": {},
   "outputs": [
    {
     "data": {
      "text/html": [
       "<div>\n",
       "<style scoped>\n",
       "    .dataframe tbody tr th:only-of-type {\n",
       "        vertical-align: middle;\n",
       "    }\n",
       "\n",
       "    .dataframe tbody tr th {\n",
       "        vertical-align: top;\n",
       "    }\n",
       "\n",
       "    .dataframe thead th {\n",
       "        text-align: right;\n",
       "    }\n",
       "</style>\n",
       "<table border=\"1\" class=\"dataframe\">\n",
       "  <thead>\n",
       "    <tr style=\"text-align: right;\">\n",
       "      <th></th>\n",
       "      <th>Country Name</th>\n",
       "      <th>Inflation</th>\n",
       "    </tr>\n",
       "  </thead>\n",
       "  <tbody>\n",
       "    <tr>\n",
       "      <th>0</th>\n",
       "      <td>Aruba</td>\n",
       "      <td>-1.986755</td>\n",
       "    </tr>\n",
       "    <tr>\n",
       "      <th>1</th>\n",
       "      <td>Africa Eastern and Southern</td>\n",
       "      <td>5.844111</td>\n",
       "    </tr>\n",
       "    <tr>\n",
       "      <th>2</th>\n",
       "      <td>Afghanistan</td>\n",
       "      <td>4.822785</td>\n",
       "    </tr>\n",
       "    <tr>\n",
       "      <th>3</th>\n",
       "      <td>Africa Western and Central</td>\n",
       "      <td>1.573135</td>\n",
       "    </tr>\n",
       "    <tr>\n",
       "      <th>4</th>\n",
       "      <td>Angola</td>\n",
       "      <td>2.844244</td>\n",
       "    </tr>\n",
       "  </tbody>\n",
       "</table>\n",
       "</div>"
      ],
      "text/plain": [
       "                  Country Name  Inflation\n",
       "0                        Aruba  -1.986755\n",
       "1  Africa Eastern and Southern   5.844111\n",
       "2                  Afghanistan   4.822785\n",
       "3   Africa Western and Central   1.573135\n",
       "4                       Angola   2.844244"
      ]
     },
     "execution_count": 82,
     "metadata": {},
     "output_type": "execute_result"
    }
   ],
   "source": [
    "df_inflation_2013 = df_inflation_data[[\"Country Name\", \"2013\"]].dropna()\n",
    "df_inflation_2013 = df_inflation_2013.rename({\"2013\": \"Inflation\"}, axis=1)\n",
    "df_inflation_2013.head()"
   ]
  },
  {
   "cell_type": "code",
   "execution_count": 83,
   "id": "d0afbee0-4cf2-4abe-98d6-fda42dbe7427",
   "metadata": {},
   "outputs": [
    {
     "data": {
      "text/html": [
       "<div>\n",
       "<style scoped>\n",
       "    .dataframe tbody tr th:only-of-type {\n",
       "        vertical-align: middle;\n",
       "    }\n",
       "\n",
       "    .dataframe tbody tr th {\n",
       "        vertical-align: top;\n",
       "    }\n",
       "\n",
       "    .dataframe thead th {\n",
       "        text-align: right;\n",
       "    }\n",
       "</style>\n",
       "<table border=\"1\" class=\"dataframe\">\n",
       "  <thead>\n",
       "    <tr style=\"text-align: right;\">\n",
       "      <th></th>\n",
       "      <th>Country Name</th>\n",
       "      <th>GDP Growth</th>\n",
       "      <th>GDP per capita</th>\n",
       "      <th>Inflation</th>\n",
       "    </tr>\n",
       "  </thead>\n",
       "  <tbody>\n",
       "    <tr>\n",
       "      <th>0</th>\n",
       "      <td>Aruba</td>\n",
       "      <td>6.429817</td>\n",
       "      <td>26442.426801</td>\n",
       "      <td>-1.986755</td>\n",
       "    </tr>\n",
       "    <tr>\n",
       "      <th>1</th>\n",
       "      <td>Africa Eastern and Southern</td>\n",
       "      <td>4.200209</td>\n",
       "      <td>1748.905594</td>\n",
       "      <td>5.844111</td>\n",
       "    </tr>\n",
       "    <tr>\n",
       "      <th>2</th>\n",
       "      <td>Afghanistan</td>\n",
       "      <td>5.600745</td>\n",
       "      <td>624.315455</td>\n",
       "      <td>4.822785</td>\n",
       "    </tr>\n",
       "    <tr>\n",
       "      <th>3</th>\n",
       "      <td>Africa Western and Central</td>\n",
       "      <td>6.104192</td>\n",
       "      <td>2157.494584</td>\n",
       "      <td>1.573135</td>\n",
       "    </tr>\n",
       "    <tr>\n",
       "      <th>4</th>\n",
       "      <td>Angola</td>\n",
       "      <td>4.950000</td>\n",
       "      <td>5127.717243</td>\n",
       "      <td>2.844244</td>\n",
       "    </tr>\n",
       "  </tbody>\n",
       "</table>\n",
       "</div>"
      ],
      "text/plain": [
       "                  Country Name  GDP Growth  GDP per capita  Inflation\n",
       "0                        Aruba    6.429817    26442.426801  -1.986755\n",
       "1  Africa Eastern and Southern    4.200209     1748.905594   5.844111\n",
       "2                  Afghanistan    5.600745      624.315455   4.822785\n",
       "3   Africa Western and Central    6.104192     2157.494584   1.573135\n",
       "4                       Angola    4.950000     5127.717243   2.844244"
      ]
     },
     "execution_count": 83,
     "metadata": {},
     "output_type": "execute_result"
    }
   ],
   "source": [
    "df_gdp_per_capita_gdp_growth_inflation_2013 = pd.merge(df_gdp_per_capita_gdp_growth_2013, df_inflation_2013, left_on=\"Country Name\", right_on=\"Country Name\", how=\"left\")\n",
    "df_gdp_per_capita_gdp_growth_inflation_2013.head()"
   ]
  },
  {
   "cell_type": "code",
   "execution_count": 84,
   "id": "aba5d817-2cf5-4083-ac91-a07d00c17169",
   "metadata": {},
   "outputs": [],
   "source": [
    "data_gdp_per_capita_gdp_growth_inflation_2013 = df_gdp_per_capita_gdp_growth_2013.loc[:, \"GDP Growth\":\"Inflation\"].values"
   ]
  },
  {
   "cell_type": "markdown",
   "id": "987fdf46-86f9-4f40-ba7b-8963381bef6e",
   "metadata": {},
   "source": [
    "Стандартизация показателей"
   ]
  },
  {
   "cell_type": "code",
   "execution_count": 85,
   "id": "885ae521-1048-4987-9075-23b4f3b293f2",
   "metadata": {},
   "outputs": [],
   "source": [
    "data_gdp_per_capita_gdp_growth_inflation_2013_std = (data_gdp_per_capita_gdp_growth_inflation_2013 - data_gdp_per_capita_gdp_growth_inflation_2013.mean()) / data_gdp_per_capita_gdp_growth_inflation_2013.std()"
   ]
  },
  {
   "cell_type": "markdown",
   "id": "e5de07d4-2f8f-4304-a76b-8d6a112d7a44",
   "metadata": {},
   "source": [
    "На основании дендрограммы определяем количество кластеров"
   ]
  },
  {
   "cell_type": "code",
   "execution_count": 86,
   "id": "288cf8e4-ac9a-46bb-a1a2-8839dd5f4d13",
   "metadata": {},
   "outputs": [],
   "source": [
    "number_of_cluster = 5"
   ]
  },
  {
   "cell_type": "code",
   "execution_count": 87,
   "id": "c60d0086-00bd-49eb-b744-34bef6cc6e62",
   "metadata": {},
   "outputs": [
    {
     "data": {
      "image/png": "[encoded data removed]",
      "text/plain": [
       "<Figure size 432x288 with 1 Axes>"
      ]
     },
     "metadata": {
      "needs_background": "light"
     },
     "output_type": "display_data"
    }
   ],
   "source": [
    "dendrogram = sch.dendrogram(ward(data_gdp_per_capita_gdp_growth_inflation_2013_std))\n",
    "plt.show()"
   ]
  },
  {
   "cell_type": "markdown",
   "id": "19e48b8b-bb26-42b6-b7a2-ba9e06e5a69c",
   "metadata": {},
   "source": [
    "Кластеризируем данные"
   ]
  },
  {
   "cell_type": "code",
   "execution_count": 88,
   "id": "3651b184-7a86-446e-bb7b-bb8ed7b45df5",
   "metadata": {},
   "outputs": [],
   "source": [
    "hc = AgglomerativeClustering(n_clusters=number_of_cluster, affinity=\"euclidean\", linkage=\"ward\")\n",
    "\n",
    "y_hc = hc.fit_predict(data_gdp_per_capita_gdp_growth_inflation_2013_std)"
   ]
  },
  {
   "cell_type": "code",
   "execution_count": 89,
   "id": "ea4f3f55-ec25-488f-8889-f722a8534ab1",
   "metadata": {},
   "outputs": [],
   "source": [
    "dict_names = {i: [] for i in range(number_of_cluster)}\n",
    "for i in range(len(y_hc)):\n",
    "    dict_names[y_hc[i]].append(df_inflation_2013[\"Country Name\"].values[i])"
   ]
  },
  {
   "cell_type": "markdown",
   "id": "4b07fecb-1992-4110-83c5-7c8286e9723a",
   "metadata": {},
   "source": [
    "Название стран в кластерах"
   ]
  },
  {
   "cell_type": "code",
   "execution_count": 90,
   "id": "a34fdfa3-eccb-42e0-841e-078710b18393",
   "metadata": {},
   "outputs": [],
   "source": [
    "df_names = pd.DataFrame.from_dict(dict_names, orient=\"index\")\n",
    "df_names = df_names.transpose()"
   ]
  },
  {
   "cell_type": "code",
   "execution_count": 91,
   "id": "f096ffac-7fd7-4dfa-934d-dab1a4c65ce6",
   "metadata": {},
   "outputs": [
    {
     "data": {
      "text/html": [
       "<div>\n",
       "<style scoped>\n",
       "    .dataframe tbody tr th:only-of-type {\n",
       "        vertical-align: middle;\n",
       "    }\n",
       "\n",
       "    .dataframe tbody tr th {\n",
       "        vertical-align: top;\n",
       "    }\n",
       "\n",
       "    .dataframe thead th {\n",
       "        text-align: right;\n",
       "    }\n",
       "</style>\n",
       "<table border=\"1\" class=\"dataframe\">\n",
       "  <thead>\n",
       "    <tr style=\"text-align: right;\">\n",
       "      <th></th>\n",
       "      <th>0</th>\n",
       "      <th>1</th>\n",
       "      <th>2</th>\n",
       "      <th>3</th>\n",
       "      <th>4</th>\n",
       "    </tr>\n",
       "  </thead>\n",
       "  <tbody>\n",
       "    <tr>\n",
       "      <th>0</th>\n",
       "      <td>Africa Eastern and Southern</td>\n",
       "      <td>Bermuda</td>\n",
       "      <td>Andorra</td>\n",
       "      <td>Aruba</td>\n",
       "      <td>Monaco</td>\n",
       "    </tr>\n",
       "    <tr>\n",
       "      <th>1</th>\n",
       "      <td>Afghanistan</td>\n",
       "      <td>Switzerland</td>\n",
       "      <td>United Arab Emirates</td>\n",
       "      <td>Bahrain</td>\n",
       "      <td>None</td>\n",
       "    </tr>\n",
       "    <tr>\n",
       "      <th>2</th>\n",
       "      <td>Africa Western and Central</td>\n",
       "      <td>Isle of Man</td>\n",
       "      <td>Australia</td>\n",
       "      <td>Bahamas, The</td>\n",
       "      <td>None</td>\n",
       "    </tr>\n",
       "    <tr>\n",
       "      <th>3</th>\n",
       "      <td>Angola</td>\n",
       "      <td>Luxembourg</td>\n",
       "      <td>Austria</td>\n",
       "      <td>Curacao</td>\n",
       "      <td>None</td>\n",
       "    </tr>\n",
       "    <tr>\n",
       "      <th>4</th>\n",
       "      <td>Albania</td>\n",
       "      <td>Macao SAR, China</td>\n",
       "      <td>Belgium</td>\n",
       "      <td>Cyprus</td>\n",
       "      <td>None</td>\n",
       "    </tr>\n",
       "  </tbody>\n",
       "</table>\n",
       "</div>"
      ],
      "text/plain": [
       "                             0                 1                     2  \\\n",
       "0  Africa Eastern and Southern           Bermuda               Andorra   \n",
       "1                  Afghanistan       Switzerland  United Arab Emirates   \n",
       "2   Africa Western and Central       Isle of Man             Australia   \n",
       "3                       Angola        Luxembourg               Austria   \n",
       "4                      Albania  Macao SAR, China               Belgium   \n",
       "\n",
       "              3       4  \n",
       "0         Aruba  Monaco  \n",
       "1       Bahrain    None  \n",
       "2  Bahamas, The    None  \n",
       "3       Curacao    None  \n",
       "4        Cyprus    None  "
      ]
     },
     "execution_count": 91,
     "metadata": {},
     "output_type": "execute_result"
    }
   ],
   "source": [
    "df_names.head()"
   ]
  },
  {
   "cell_type": "markdown",
   "id": "d2cec7fa-3f31-4a90-906f-31fa67c27d78",
   "metadata": {},
   "source": [
    "Значения темпов роста ВВП в кластерах"
   ]
  },
  {
   "cell_type": "code",
   "execution_count": 92,
   "id": "ce6532bb-0ef7-4d42-8a9b-97bdcdf9cf75",
   "metadata": {},
   "outputs": [],
   "source": [
    "dict_gdp = {i: [df_gdp_per_capita_gdp_growth_inflation_2013.loc[df_gdp_per_capita_gdp_growth_inflation_2013[\"Country Name\"] == df_names[i][j]][\"GDP Growth\"].values[0] for j in range(len(df_names[i].dropna()))] for i in range(number_of_cluster)}"
   ]
  },
  {
   "cell_type": "code",
   "execution_count": 93,
   "id": "fd6ea657-3740-42c1-a1c3-2b83d5e8ee2a",
   "metadata": {},
   "outputs": [],
   "source": [
    "df_gdp = pd.DataFrame.from_dict(dict_gdp, orient=\"index\").transpose()"
   ]
  },
  {
   "cell_type": "code",
   "execution_count": 94,
   "id": "7c26d030-17c7-4dfb-a12a-aeec5b9e2202",
   "metadata": {},
   "outputs": [
    {
     "data": {
      "text/html": [
       "<div>\n",
       "<style scoped>\n",
       "    .dataframe tbody tr th:only-of-type {\n",
       "        vertical-align: middle;\n",
       "    }\n",
       "\n",
       "    .dataframe tbody tr th {\n",
       "        vertical-align: top;\n",
       "    }\n",
       "\n",
       "    .dataframe thead th {\n",
       "        text-align: right;\n",
       "    }\n",
       "</style>\n",
       "<table border=\"1\" class=\"dataframe\">\n",
       "  <thead>\n",
       "    <tr style=\"text-align: right;\">\n",
       "      <th></th>\n",
       "      <th>0</th>\n",
       "      <th>1</th>\n",
       "      <th>2</th>\n",
       "      <th>3</th>\n",
       "      <th>4</th>\n",
       "    </tr>\n",
       "  </thead>\n",
       "  <tbody>\n",
       "    <tr>\n",
       "      <th>0</th>\n",
       "      <td>4.200209</td>\n",
       "      <td>-0.279709</td>\n",
       "      <td>-3.547597</td>\n",
       "      <td>6.429817</td>\n",
       "      <td>9.574891</td>\n",
       "    </tr>\n",
       "    <tr>\n",
       "      <th>1</th>\n",
       "      <td>5.600745</td>\n",
       "      <td>1.821668</td>\n",
       "      <td>5.053078</td>\n",
       "      <td>5.416840</td>\n",
       "      <td>NaN</td>\n",
       "    </tr>\n",
       "    <tr>\n",
       "      <th>2</th>\n",
       "      <td>6.104192</td>\n",
       "      <td>4.141719</td>\n",
       "      <td>2.600212</td>\n",
       "      <td>-2.863294</td>\n",
       "      <td>NaN</td>\n",
       "    </tr>\n",
       "    <tr>\n",
       "      <th>3</th>\n",
       "      <td>4.950000</td>\n",
       "      <td>3.171790</td>\n",
       "      <td>0.025505</td>\n",
       "      <td>-0.811687</td>\n",
       "      <td>NaN</td>\n",
       "    </tr>\n",
       "    <tr>\n",
       "      <th>4</th>\n",
       "      <td>1.002018</td>\n",
       "      <td>10.752807</td>\n",
       "      <td>0.459242</td>\n",
       "      <td>-6.553078</td>\n",
       "      <td>NaN</td>\n",
       "    </tr>\n",
       "  </tbody>\n",
       "</table>\n",
       "</div>"
      ],
      "text/plain": [
       "          0          1         2         3         4\n",
       "0  4.200209  -0.279709 -3.547597  6.429817  9.574891\n",
       "1  5.600745   1.821668  5.053078  5.416840       NaN\n",
       "2  6.104192   4.141719  2.600212 -2.863294       NaN\n",
       "3  4.950000   3.171790  0.025505 -0.811687       NaN\n",
       "4  1.002018  10.752807  0.459242 -6.553078       NaN"
      ]
     },
     "execution_count": 94,
     "metadata": {},
     "output_type": "execute_result"
    }
   ],
   "source": [
    "df_gdp.head()"
   ]
  },
  {
   "cell_type": "markdown",
   "id": "3d1b2bc5-1b86-40ad-b588-881595cbab41",
   "metadata": {},
   "source": [
    "Значения подушевого ВВП в кластерах"
   ]
  },
  {
   "cell_type": "code",
   "execution_count": 95,
   "id": "2ce05f21-04c6-40e9-bb1d-6cf610cb655c",
   "metadata": {},
   "outputs": [],
   "source": [
    "dict_gdp_per_capita = {i: [df_gdp_per_capita_gdp_growth_inflation_2013.loc[df_gdp_per_capita_gdp_growth_inflation_2013[\"Country Name\"] == df_names[i][j]][\"GDP per capita\"].values[0] for j in range(len(df_names[i].dropna()))] for i in range(number_of_cluster)}"
   ]
  },
  {
   "cell_type": "code",
   "execution_count": 96,
   "id": "c5e3a25c-0dae-4c19-9ef8-ef1ec46615f7",
   "metadata": {},
   "outputs": [],
   "source": [
    "df_gdp_per_capita = pd.DataFrame.from_dict(dict_gdp_per_capita, orient=\"index\").transpose()"
   ]
  },
  {
   "cell_type": "code",
   "execution_count": 97,
   "id": "f706adef-c9e8-409b-8f47-7f52540783db",
   "metadata": {},
   "outputs": [
    {
     "data": {
      "text/html": [
       "<div>\n",
       "<style scoped>\n",
       "    .dataframe tbody tr th:only-of-type {\n",
       "        vertical-align: middle;\n",
       "    }\n",
       "\n",
       "    .dataframe tbody tr th {\n",
       "        vertical-align: top;\n",
       "    }\n",
       "\n",
       "    .dataframe thead th {\n",
       "        text-align: right;\n",
       "    }\n",
       "</style>\n",
       "<table border=\"1\" class=\"dataframe\">\n",
       "  <thead>\n",
       "    <tr style=\"text-align: right;\">\n",
       "      <th></th>\n",
       "      <th>0</th>\n",
       "      <th>1</th>\n",
       "      <th>2</th>\n",
       "      <th>3</th>\n",
       "      <th>4</th>\n",
       "    </tr>\n",
       "  </thead>\n",
       "  <tbody>\n",
       "    <tr>\n",
       "      <th>0</th>\n",
       "      <td>1748.905594</td>\n",
       "      <td>99471.638898</td>\n",
       "      <td>39538.355206</td>\n",
       "      <td>26442.426801</td>\n",
       "      <td>177673.745368</td>\n",
       "    </tr>\n",
       "    <tr>\n",
       "      <th>1</th>\n",
       "      <td>624.315455</td>\n",
       "      <td>88109.486752</td>\n",
       "      <td>42412.636491</td>\n",
       "      <td>24744.296959</td>\n",
       "      <td>NaN</td>\n",
       "    </tr>\n",
       "    <tr>\n",
       "      <th>2</th>\n",
       "      <td>2157.494584</td>\n",
       "      <td>83357.132684</td>\n",
       "      <td>68156.627916</td>\n",
       "      <td>28768.772368</td>\n",
       "      <td>NaN</td>\n",
       "    </tr>\n",
       "    <tr>\n",
       "      <th>3</th>\n",
       "      <td>5127.717243</td>\n",
       "      <td>120000.140730</td>\n",
       "      <td>50731.127254</td>\n",
       "      <td>19762.739622</td>\n",
       "      <td>NaN</td>\n",
       "    </tr>\n",
       "    <tr>\n",
       "      <th>4</th>\n",
       "      <td>4413.062005</td>\n",
       "      <td>89260.757104</td>\n",
       "      <td>46757.951856</td>\n",
       "      <td>27729.193359</td>\n",
       "      <td>NaN</td>\n",
       "    </tr>\n",
       "  </tbody>\n",
       "</table>\n",
       "</div>"
      ],
      "text/plain": [
       "             0              1             2             3              4\n",
       "0  1748.905594   99471.638898  39538.355206  26442.426801  177673.745368\n",
       "1   624.315455   88109.486752  42412.636491  24744.296959            NaN\n",
       "2  2157.494584   83357.132684  68156.627916  28768.772368            NaN\n",
       "3  5127.717243  120000.140730  50731.127254  19762.739622            NaN\n",
       "4  4413.062005   89260.757104  46757.951856  27729.193359            NaN"
      ]
     },
     "execution_count": 97,
     "metadata": {},
     "output_type": "execute_result"
    }
   ],
   "source": [
    "df_gdp_per_capita.head()"
   ]
  },
  {
   "cell_type": "markdown",
   "id": "033b74d0-a499-476a-94dd-7d14e2b8db12",
   "metadata": {},
   "source": [
    "Значения темпа инфляции в кластерах"
   ]
  },
  {
   "cell_type": "code",
   "execution_count": 98,
   "id": "ddeaccfb-283c-4fb1-9a7b-02d7c5daec06",
   "metadata": {},
   "outputs": [],
   "source": [
    "dict_inflation = {i: [df_gdp_per_capita_gdp_growth_inflation_2013.loc[df_gdp_per_capita_gdp_growth_inflation_2013[\"Country Name\"] == df_names[i][j]][\"Inflation\"].values[0] for j in range(len(df_names[i].dropna()))] for i in range(number_of_cluster)}"
   ]
  },
  {
   "cell_type": "code",
   "execution_count": 99,
   "id": "5c9be501-c87f-461d-ac7d-c9e989e94f9d",
   "metadata": {},
   "outputs": [],
   "source": [
    "df_inflation = pd.DataFrame.from_dict(dict_inflation, orient=\"index\").transpose()"
   ]
  },
  {
   "cell_type": "code",
   "execution_count": 100,
   "id": "685a43bf-54d3-4f33-a720-5372d1fbb194",
   "metadata": {},
   "outputs": [
    {
     "data": {
      "text/html": [
       "<div>\n",
       "<style scoped>\n",
       "    .dataframe tbody tr th:only-of-type {\n",
       "        vertical-align: middle;\n",
       "    }\n",
       "\n",
       "    .dataframe tbody tr th {\n",
       "        vertical-align: top;\n",
       "    }\n",
       "\n",
       "    .dataframe thead th {\n",
       "        text-align: right;\n",
       "    }\n",
       "</style>\n",
       "<table border=\"1\" class=\"dataframe\">\n",
       "  <thead>\n",
       "    <tr style=\"text-align: right;\">\n",
       "      <th></th>\n",
       "      <th>0</th>\n",
       "      <th>1</th>\n",
       "      <th>2</th>\n",
       "      <th>3</th>\n",
       "      <th>4</th>\n",
       "    </tr>\n",
       "  </thead>\n",
       "  <tbody>\n",
       "    <tr>\n",
       "      <th>0</th>\n",
       "      <td>5.844111</td>\n",
       "      <td>1.657273</td>\n",
       "      <td>0.448492</td>\n",
       "      <td>-1.986755</td>\n",
       "      <td>0.780385</td>\n",
       "    </tr>\n",
       "    <tr>\n",
       "      <th>1</th>\n",
       "      <td>4.822785</td>\n",
       "      <td>-0.023308</td>\n",
       "      <td>-0.866918</td>\n",
       "      <td>0.384140</td>\n",
       "      <td>NaN</td>\n",
       "    </tr>\n",
       "    <tr>\n",
       "      <th>2</th>\n",
       "      <td>1.573135</td>\n",
       "      <td>1.535803</td>\n",
       "      <td>-0.152592</td>\n",
       "      <td>1.433321</td>\n",
       "      <td>NaN</td>\n",
       "    </tr>\n",
       "    <tr>\n",
       "      <th>3</th>\n",
       "      <td>2.844244</td>\n",
       "      <td>2.276024</td>\n",
       "      <td>1.623888</td>\n",
       "      <td>1.332300</td>\n",
       "      <td>NaN</td>\n",
       "    </tr>\n",
       "    <tr>\n",
       "      <th>4</th>\n",
       "      <td>0.288746</td>\n",
       "      <td>7.732683</td>\n",
       "      <td>1.271258</td>\n",
       "      <td>-0.945905</td>\n",
       "      <td>NaN</td>\n",
       "    </tr>\n",
       "  </tbody>\n",
       "</table>\n",
       "</div>"
      ],
      "text/plain": [
       "          0         1         2         3         4\n",
       "0  5.844111  1.657273  0.448492 -1.986755  0.780385\n",
       "1  4.822785 -0.023308 -0.866918  0.384140       NaN\n",
       "2  1.573135  1.535803 -0.152592  1.433321       NaN\n",
       "3  2.844244  2.276024  1.623888  1.332300       NaN\n",
       "4  0.288746  7.732683  1.271258 -0.945905       NaN"
      ]
     },
     "execution_count": 100,
     "metadata": {},
     "output_type": "execute_result"
    }
   ],
   "source": [
    "df_inflation.head()"
   ]
  },
  {
   "cell_type": "markdown",
   "id": "271ebe02-d0d5-4211-9d5c-773e5306b8e5",
   "metadata": {},
   "source": [
    "Записываем получившиеся результаты в `excel`-файл"
   ]
  },
  {
   "cell_type": "code",
   "execution_count": 101,
   "id": "0d754657-422c-45e8-8d7b-30dbda2f3dfd",
   "metadata": {},
   "outputs": [],
   "source": [
    "save_as_xlsx(\"./results/gdp_per_capita_gdp_growth_inflation_2013.xlsx\",\n",
    "             [\"Country Names\", \"GDP growth\", \"GDP per capita\", \"Inflation\"],\n",
    "             [df_names, df_gdp, df_gdp_per_capita, df_inflation])"
   ]
  },
  {
   "cell_type": "markdown",
   "id": "33a6a87c-1972-494c-809a-f7b3af75a6f5",
   "metadata": {
    "jp-MarkdownHeadingCollapsed": true,
    "tags": []
   },
   "source": [
    "## 2013 - 2019 года"
   ]
  },
  {
   "cell_type": "markdown",
   "id": "eb044beb-c932-405e-b848-0ec29c050166",
   "metadata": {
    "jp-MarkdownHeadingCollapsed": true,
    "tags": []
   },
   "source": [
    "### Кластеризация на основании темпов роста ВВП"
   ]
  },
  {
   "cell_type": "markdown",
   "id": "590229db-3d83-4575-97a2-4cc7868148da",
   "metadata": {},
   "source": [
    "Выбираем нужные данные"
   ]
  },
  {
   "cell_type": "code",
   "execution_count": 102,
   "id": "49a7e594-cac0-4dcb-8175-f16fbee107de",
   "metadata": {},
   "outputs": [
    {
     "data": {
      "text/html": [
       "<div>\n",
       "<style scoped>\n",
       "    .dataframe tbody tr th:only-of-type {\n",
       "        vertical-align: middle;\n",
       "    }\n",
       "\n",
       "    .dataframe tbody tr th {\n",
       "        vertical-align: top;\n",
       "    }\n",
       "\n",
       "    .dataframe thead th {\n",
       "        text-align: right;\n",
       "    }\n",
       "</style>\n",
       "<table border=\"1\" class=\"dataframe\">\n",
       "  <thead>\n",
       "    <tr style=\"text-align: right;\">\n",
       "      <th></th>\n",
       "      <th>Mean GDP Growth</th>\n",
       "    </tr>\n",
       "  </thead>\n",
       "  <tbody>\n",
       "    <tr>\n",
       "      <th>0</th>\n",
       "      <td>2.390525</td>\n",
       "    </tr>\n",
       "    <tr>\n",
       "      <th>1</th>\n",
       "      <td>2.917540</td>\n",
       "    </tr>\n",
       "    <tr>\n",
       "      <th>2</th>\n",
       "      <td>2.826393</td>\n",
       "    </tr>\n",
       "    <tr>\n",
       "      <th>3</th>\n",
       "      <td>3.339671</td>\n",
       "    </tr>\n",
       "    <tr>\n",
       "      <th>4</th>\n",
       "      <td>0.851955</td>\n",
       "    </tr>\n",
       "  </tbody>\n",
       "</table>\n",
       "</div>"
      ],
      "text/plain": [
       "   Mean GDP Growth\n",
       "0         2.390525\n",
       "1         2.917540\n",
       "2         2.826393\n",
       "3         3.339671\n",
       "4         0.851955"
      ]
     },
     "execution_count": 102,
     "metadata": {},
     "output_type": "execute_result"
    }
   ],
   "source": [
    "df_mean = pd.DataFrame(df_gdp_growth_data.loc[:, \"2013\":\"2019\"].dropna().mean(axis=1)).rename({0: \"Mean GDP Growth\"}, axis=1)\n",
    "df_mean.head()"
   ]
  },
  {
   "cell_type": "code",
   "execution_count": 103,
   "id": "9ef6ea46-5c6b-4821-b599-d7b268ca3b0a",
   "metadata": {},
   "outputs": [
    {
     "data": {
      "text/html": [
       "<div>\n",
       "<style scoped>\n",
       "    .dataframe tbody tr th:only-of-type {\n",
       "        vertical-align: middle;\n",
       "    }\n",
       "\n",
       "    .dataframe tbody tr th {\n",
       "        vertical-align: top;\n",
       "    }\n",
       "\n",
       "    .dataframe thead th {\n",
       "        text-align: right;\n",
       "    }\n",
       "</style>\n",
       "<table border=\"1\" class=\"dataframe\">\n",
       "  <thead>\n",
       "    <tr style=\"text-align: right;\">\n",
       "      <th></th>\n",
       "      <th>Country Name</th>\n",
       "      <th>Mean GDP Growth</th>\n",
       "    </tr>\n",
       "  </thead>\n",
       "  <tbody>\n",
       "    <tr>\n",
       "      <th>0</th>\n",
       "      <td>Aruba</td>\n",
       "      <td>2.390525</td>\n",
       "    </tr>\n",
       "    <tr>\n",
       "      <th>1</th>\n",
       "      <td>Africa Eastern and Southern</td>\n",
       "      <td>2.917540</td>\n",
       "    </tr>\n",
       "    <tr>\n",
       "      <th>2</th>\n",
       "      <td>Afghanistan</td>\n",
       "      <td>2.826393</td>\n",
       "    </tr>\n",
       "    <tr>\n",
       "      <th>3</th>\n",
       "      <td>Africa Western and Central</td>\n",
       "      <td>3.339671</td>\n",
       "    </tr>\n",
       "    <tr>\n",
       "      <th>4</th>\n",
       "      <td>Angola</td>\n",
       "      <td>0.851955</td>\n",
       "    </tr>\n",
       "  </tbody>\n",
       "</table>\n",
       "</div>"
      ],
      "text/plain": [
       "                  Country Name  Mean GDP Growth\n",
       "0                        Aruba         2.390525\n",
       "1  Africa Eastern and Southern         2.917540\n",
       "2                  Afghanistan         2.826393\n",
       "3   Africa Western and Central         3.339671\n",
       "4                       Angola         0.851955"
      ]
     },
     "execution_count": 103,
     "metadata": {},
     "output_type": "execute_result"
    }
   ],
   "source": [
    "df_mean_gdp_growth_2013_2019 = pd.merge(df_gdp_growth_data[\"Country Name\"], df_mean, left_index=True, right_index=True)\n",
    "df_mean_gdp_growth_2013_2019.head()"
   ]
  },
  {
   "cell_type": "markdown",
   "id": "73cc1f15-8936-4b06-830e-814a5a26f523",
   "metadata": {},
   "source": [
    "На основании дендрограммы определяем количество кластеров"
   ]
  },
  {
   "cell_type": "code",
   "execution_count": 104,
   "id": "95fee992-8e0f-4b91-ad82-727479ae1432",
   "metadata": {},
   "outputs": [],
   "source": [
    "number_of_cluster = 7"
   ]
  },
  {
   "cell_type": "code",
   "execution_count": 105,
   "id": "5be40e6e-afe9-4eb9-be0f-a96503c186db",
   "metadata": {},
   "outputs": [
    {
     "data": {
      "image/png": "[encoded data removed]",
      "text/plain": [
       "<Figure size 432x288 with 1 Axes>"
      ]
     },
     "metadata": {
      "needs_background": "light"
     },
     "output_type": "display_data"
    }
   ],
   "source": [
    "data_2d_mean_gdp_growth_2013_2019 = np.reshape(df_mean_gdp_growth_2013_2019[\"Mean GDP Growth\"].values, (len(df_mean_gdp_growth_2013_2019[\"Mean GDP Growth\"].values), 1))\n",
    "\n",
    "dendrogram = sch.dendrogram(ward(data_2d_mean_gdp_growth_2013_2019))\n",
    "plt.show()"
   ]
  },
  {
   "cell_type": "markdown",
   "id": "213dea96-fb5b-4e1f-b857-9a335d109a2c",
   "metadata": {},
   "source": [
    "Кластеризируем данные"
   ]
  },
  {
   "cell_type": "code",
   "execution_count": 106,
   "id": "2f9d1f9e-fb85-4fa7-a91f-444af1379e18",
   "metadata": {},
   "outputs": [],
   "source": [
    "hc = AgglomerativeClustering(n_clusters=number_of_cluster, affinity=\"euclidean\", linkage=\"ward\")\n",
    "\n",
    "y_hc = hc.fit_predict(data_2d_mean_gdp_growth_2013_2019)"
   ]
  },
  {
   "cell_type": "code",
   "execution_count": 107,
   "id": "5a4d3395-ad52-4b51-836a-943716862269",
   "metadata": {},
   "outputs": [],
   "source": [
    "dict_names = {i: [] for i in range(number_of_cluster)}\n",
    "for i in range(len(y_hc)):\n",
    "    dict_names[y_hc[i]].append(df_mean_gdp_growth_2013_2019[\"Country Name\"].values[i])"
   ]
  },
  {
   "cell_type": "markdown",
   "id": "777d79b1-ff35-4bde-8d24-27f8f9167d0b",
   "metadata": {},
   "source": [
    "Название стран в кластерах"
   ]
  },
  {
   "cell_type": "code",
   "execution_count": 108,
   "id": "794eff68-b21f-44ba-b76f-d7f37047047d",
   "metadata": {},
   "outputs": [],
   "source": [
    "df_names = pd.DataFrame.from_dict(dict_names, orient=\"index\").transpose()"
   ]
  },
  {
   "cell_type": "code",
   "execution_count": 109,
   "id": "b2825f14-68ad-4bfc-8c6f-3d9ed8f309fe",
   "metadata": {},
   "outputs": [
    {
     "data": {
      "text/html": [
       "<div>\n",
       "<style scoped>\n",
       "    .dataframe tbody tr th:only-of-type {\n",
       "        vertical-align: middle;\n",
       "    }\n",
       "\n",
       "    .dataframe tbody tr th {\n",
       "        vertical-align: top;\n",
       "    }\n",
       "\n",
       "    .dataframe thead th {\n",
       "        text-align: right;\n",
       "    }\n",
       "</style>\n",
       "<table border=\"1\" class=\"dataframe\">\n",
       "  <thead>\n",
       "    <tr style=\"text-align: right;\">\n",
       "      <th></th>\n",
       "      <th>0</th>\n",
       "      <th>1</th>\n",
       "      <th>2</th>\n",
       "      <th>3</th>\n",
       "      <th>4</th>\n",
       "      <th>5</th>\n",
       "      <th>6</th>\n",
       "    </tr>\n",
       "  </thead>\n",
       "  <tbody>\n",
       "    <tr>\n",
       "      <th>0</th>\n",
       "      <td>Bangladesh</td>\n",
       "      <td>Armenia</td>\n",
       "      <td>Africa Eastern and Southern</td>\n",
       "      <td>Central African Republic</td>\n",
       "      <td>Angola</td>\n",
       "      <td>Aruba</td>\n",
       "      <td>Equatorial Guinea</td>\n",
       "    </tr>\n",
       "    <tr>\n",
       "      <th>1</th>\n",
       "      <td>China</td>\n",
       "      <td>Benin</td>\n",
       "      <td>Afghanistan</td>\n",
       "      <td>Congo, Rep.</td>\n",
       "      <td>Andorra</td>\n",
       "      <td>Albania</td>\n",
       "      <td>Yemen, Rep.</td>\n",
       "    </tr>\n",
       "    <tr>\n",
       "      <th>2</th>\n",
       "      <td>Cote d'Ivoire</td>\n",
       "      <td>Burkina Faso</td>\n",
       "      <td>Africa Western and Central</td>\n",
       "      <td>Curacao</td>\n",
       "      <td>Argentina</td>\n",
       "      <td>Arab World</td>\n",
       "      <td>None</td>\n",
       "    </tr>\n",
       "    <tr>\n",
       "      <th>3</th>\n",
       "      <td>East Asia &amp; Pacific (excluding high income)</td>\n",
       "      <td>Bolivia</td>\n",
       "      <td>United Arab Emirates</td>\n",
       "      <td>Libya</td>\n",
       "      <td>American Samoa</td>\n",
       "      <td>Australia</td>\n",
       "      <td>None</td>\n",
       "    </tr>\n",
       "    <tr>\n",
       "      <th>4</th>\n",
       "      <td>Ethiopia</td>\n",
       "      <td>Bhutan</td>\n",
       "      <td>Antigua and Barbuda</td>\n",
       "      <td>Puerto Rico</td>\n",
       "      <td>Burundi</td>\n",
       "      <td>Austria</td>\n",
       "      <td>None</td>\n",
       "    </tr>\n",
       "  </tbody>\n",
       "</table>\n",
       "</div>"
      ],
      "text/plain": [
       "                                             0             1  \\\n",
       "0                                   Bangladesh       Armenia   \n",
       "1                                        China         Benin   \n",
       "2                                Cote d'Ivoire  Burkina Faso   \n",
       "3  East Asia & Pacific (excluding high income)       Bolivia   \n",
       "4                                     Ethiopia        Bhutan   \n",
       "\n",
       "                             2                         3               4  \\\n",
       "0  Africa Eastern and Southern  Central African Republic          Angola   \n",
       "1                  Afghanistan               Congo, Rep.         Andorra   \n",
       "2   Africa Western and Central                   Curacao       Argentina   \n",
       "3         United Arab Emirates                     Libya  American Samoa   \n",
       "4          Antigua and Barbuda               Puerto Rico         Burundi   \n",
       "\n",
       "            5                  6  \n",
       "0       Aruba  Equatorial Guinea  \n",
       "1     Albania        Yemen, Rep.  \n",
       "2  Arab World               None  \n",
       "3   Australia               None  \n",
       "4     Austria               None  "
      ]
     },
     "execution_count": 109,
     "metadata": {},
     "output_type": "execute_result"
    }
   ],
   "source": [
    "df_names.head()"
   ]
  },
  {
   "cell_type": "markdown",
   "id": "d570c330-3f85-460b-9b8b-121339f9af73",
   "metadata": {},
   "source": [
    "Значения темпов роста ВВП в кластерах"
   ]
  },
  {
   "cell_type": "code",
   "execution_count": 110,
   "id": "82028972-5b6d-4030-b868-fa3d196cfe81",
   "metadata": {},
   "outputs": [],
   "source": [
    "dict_vals = {i: [df_mean_gdp_growth_2013_2019.loc[df_mean_gdp_growth_2013_2019[\"Country Name\"] == df_names[i][j]][\"Mean GDP Growth\"].values[0] for j in range(len(df_names[i].dropna()))] for i in range(number_of_cluster)}"
   ]
  },
  {
   "cell_type": "code",
   "execution_count": 111,
   "id": "9f67fd38-6621-49d0-b82a-64279f98bb92",
   "metadata": {},
   "outputs": [],
   "source": [
    "df_vals = pd.DataFrame.from_dict(dict_vals, orient=\"index\").transpose()"
   ]
  },
  {
   "cell_type": "code",
   "execution_count": 112,
   "id": "b3b44b13-6516-4c47-93b6-29840d454405",
   "metadata": {},
   "outputs": [
    {
     "data": {
      "text/html": [
       "<div>\n",
       "<style scoped>\n",
       "    .dataframe tbody tr th:only-of-type {\n",
       "        vertical-align: middle;\n",
       "    }\n",
       "\n",
       "    .dataframe tbody tr th {\n",
       "        vertical-align: top;\n",
       "    }\n",
       "\n",
       "    .dataframe thead th {\n",
       "        text-align: right;\n",
       "    }\n",
       "</style>\n",
       "<table border=\"1\" class=\"dataframe\">\n",
       "  <thead>\n",
       "    <tr style=\"text-align: right;\">\n",
       "      <th></th>\n",
       "      <th>0</th>\n",
       "      <th>1</th>\n",
       "      <th>2</th>\n",
       "      <th>3</th>\n",
       "      <th>4</th>\n",
       "      <th>5</th>\n",
       "      <th>6</th>\n",
       "    </tr>\n",
       "  </thead>\n",
       "  <tbody>\n",
       "    <tr>\n",
       "      <th>0</th>\n",
       "      <td>6.790337</td>\n",
       "      <td>4.371429</td>\n",
       "      <td>2.917540</td>\n",
       "      <td>-2.258107</td>\n",
       "      <td>0.851955</td>\n",
       "      <td>2.390525</td>\n",
       "      <td>-5.575781</td>\n",
       "    </tr>\n",
       "    <tr>\n",
       "      <th>1</th>\n",
       "      <td>6.961354</td>\n",
       "      <td>5.414491</td>\n",
       "      <td>2.826393</td>\n",
       "      <td>-2.514906</td>\n",
       "      <td>1.150153</td>\n",
       "      <td>2.602832</td>\n",
       "      <td>-5.093454</td>\n",
       "    </tr>\n",
       "    <tr>\n",
       "      <th>2</th>\n",
       "      <td>7.855306</td>\n",
       "      <td>5.499259</td>\n",
       "      <td>3.339671</td>\n",
       "      <td>-1.409431</td>\n",
       "      <td>-0.183041</td>\n",
       "      <td>2.333355</td>\n",
       "      <td>NaN</td>\n",
       "    </tr>\n",
       "    <tr>\n",
       "      <th>3</th>\n",
       "      <td>6.651510</td>\n",
       "      <td>4.573318</td>\n",
       "      <td>3.497523</td>\n",
       "      <td>-2.019556</td>\n",
       "      <td>-0.581604</td>\n",
       "      <td>2.479577</td>\n",
       "      <td>NaN</td>\n",
       "    </tr>\n",
       "    <tr>\n",
       "      <th>4</th>\n",
       "      <td>9.344305</td>\n",
       "      <td>5.161124</td>\n",
       "      <td>3.915258</td>\n",
       "      <td>-1.336893</td>\n",
       "      <td>1.226763</td>\n",
       "      <td>1.420299</td>\n",
       "      <td>NaN</td>\n",
       "    </tr>\n",
       "  </tbody>\n",
       "</table>\n",
       "</div>"
      ],
      "text/plain": [
       "          0         1         2         3         4         5         6\n",
       "0  6.790337  4.371429  2.917540 -2.258107  0.851955  2.390525 -5.575781\n",
       "1  6.961354  5.414491  2.826393 -2.514906  1.150153  2.602832 -5.093454\n",
       "2  7.855306  5.499259  3.339671 -1.409431 -0.183041  2.333355       NaN\n",
       "3  6.651510  4.573318  3.497523 -2.019556 -0.581604  2.479577       NaN\n",
       "4  9.344305  5.161124  3.915258 -1.336893  1.226763  1.420299       NaN"
      ]
     },
     "execution_count": 112,
     "metadata": {},
     "output_type": "execute_result"
    }
   ],
   "source": [
    "df_vals.head()"
   ]
  },
  {
   "cell_type": "markdown",
   "id": "c62cf006-226c-4608-afac-5ea8b3f0280f",
   "metadata": {},
   "source": [
    "Записываем получившиеся результаты в `excel`-файл"
   ]
  },
  {
   "cell_type": "code",
   "execution_count": 113,
   "id": "675d7b29-1e0d-4aaa-8696-bccb337f850d",
   "metadata": {},
   "outputs": [],
   "source": [
    "save_as_xlsx(\"./results/mean_gdp_growth_2013_2019.xlsx\",\n",
    "             [\"Country Names\", \"Mean GDP growth\"],\n",
    "             [df_names, df_vals])"
   ]
  },
  {
   "cell_type": "markdown",
   "id": "54e89cdc-33ef-4805-8070-57b380d0e449",
   "metadata": {
    "jp-MarkdownHeadingCollapsed": true,
    "tags": []
   },
   "source": [
    "### Кластеризация на основании подушевого ВВП, темпов роста ВВП"
   ]
  },
  {
   "cell_type": "markdown",
   "id": "6ae3a0a3-5545-4359-af7c-39d52cdb9f77",
   "metadata": {},
   "source": [
    "Выбираем нужные данные"
   ]
  },
  {
   "cell_type": "code",
   "execution_count": 114,
   "id": "09dbe0c6-47ee-4273-86d4-6262058a3c7c",
   "metadata": {},
   "outputs": [
    {
     "data": {
      "text/html": [
       "<div>\n",
       "<style scoped>\n",
       "    .dataframe tbody tr th:only-of-type {\n",
       "        vertical-align: middle;\n",
       "    }\n",
       "\n",
       "    .dataframe tbody tr th {\n",
       "        vertical-align: top;\n",
       "    }\n",
       "\n",
       "    .dataframe thead th {\n",
       "        text-align: right;\n",
       "    }\n",
       "</style>\n",
       "<table border=\"1\" class=\"dataframe\">\n",
       "  <thead>\n",
       "    <tr style=\"text-align: right;\">\n",
       "      <th></th>\n",
       "      <th>Mean GDP per capita</th>\n",
       "    </tr>\n",
       "  </thead>\n",
       "  <tbody>\n",
       "    <tr>\n",
       "      <th>0</th>\n",
       "      <td>28704.038175</td>\n",
       "    </tr>\n",
       "    <tr>\n",
       "      <th>1</th>\n",
       "      <td>1595.677586</td>\n",
       "    </tr>\n",
       "    <tr>\n",
       "      <th>2</th>\n",
       "      <td>543.298061</td>\n",
       "    </tr>\n",
       "    <tr>\n",
       "      <th>3</th>\n",
       "      <td>1862.007639</td>\n",
       "    </tr>\n",
       "    <tr>\n",
       "      <th>4</th>\n",
       "      <td>3156.243715</td>\n",
       "    </tr>\n",
       "  </tbody>\n",
       "</table>\n",
       "</div>"
      ],
      "text/plain": [
       "   Mean GDP per capita\n",
       "0         28704.038175\n",
       "1          1595.677586\n",
       "2           543.298061\n",
       "3          1862.007639\n",
       "4          3156.243715"
      ]
     },
     "execution_count": 114,
     "metadata": {},
     "output_type": "execute_result"
    }
   ],
   "source": [
    "df_mean_gdp_per_capita_2013_2019 = pd.DataFrame(df_gdp_per_capita_data.loc[:, \"2013\":\"2019\"].dropna().mean(axis=1)).rename({0: \"Mean GDP per capita\"}, axis=1)\n",
    "df_mean_gdp_per_capita_2013_2019.head()"
   ]
  },
  {
   "cell_type": "code",
   "execution_count": 115,
   "id": "a0648196-6c2a-43c2-93d6-755bab35d33e",
   "metadata": {},
   "outputs": [
    {
     "data": {
      "text/html": [
       "<div>\n",
       "<style scoped>\n",
       "    .dataframe tbody tr th:only-of-type {\n",
       "        vertical-align: middle;\n",
       "    }\n",
       "\n",
       "    .dataframe tbody tr th {\n",
       "        vertical-align: top;\n",
       "    }\n",
       "\n",
       "    .dataframe thead th {\n",
       "        text-align: right;\n",
       "    }\n",
       "</style>\n",
       "<table border=\"1\" class=\"dataframe\">\n",
       "  <thead>\n",
       "    <tr style=\"text-align: right;\">\n",
       "      <th></th>\n",
       "      <th>Country Name</th>\n",
       "      <th>Mean GDP Growth</th>\n",
       "      <th>Mean GDP per capita</th>\n",
       "    </tr>\n",
       "  </thead>\n",
       "  <tbody>\n",
       "    <tr>\n",
       "      <th>0</th>\n",
       "      <td>Aruba</td>\n",
       "      <td>2.390525</td>\n",
       "      <td>28704.038175</td>\n",
       "    </tr>\n",
       "    <tr>\n",
       "      <th>1</th>\n",
       "      <td>Africa Eastern and Southern</td>\n",
       "      <td>2.917540</td>\n",
       "      <td>1595.677586</td>\n",
       "    </tr>\n",
       "    <tr>\n",
       "      <th>2</th>\n",
       "      <td>Afghanistan</td>\n",
       "      <td>2.826393</td>\n",
       "      <td>543.298061</td>\n",
       "    </tr>\n",
       "    <tr>\n",
       "      <th>3</th>\n",
       "      <td>Africa Western and Central</td>\n",
       "      <td>3.339671</td>\n",
       "      <td>1862.007639</td>\n",
       "    </tr>\n",
       "    <tr>\n",
       "      <th>4</th>\n",
       "      <td>Angola</td>\n",
       "      <td>0.851955</td>\n",
       "      <td>3156.243715</td>\n",
       "    </tr>\n",
       "  </tbody>\n",
       "</table>\n",
       "</div>"
      ],
      "text/plain": [
       "                  Country Name  Mean GDP Growth  Mean GDP per capita\n",
       "0                        Aruba         2.390525         28704.038175\n",
       "1  Africa Eastern and Southern         2.917540          1595.677586\n",
       "2                  Afghanistan         2.826393           543.298061\n",
       "3   Africa Western and Central         3.339671          1862.007639\n",
       "4                       Angola         0.851955          3156.243715"
      ]
     },
     "execution_count": 115,
     "metadata": {},
     "output_type": "execute_result"
    }
   ],
   "source": [
    "df_mean_gdp_growth_gdp_per_capita_2013_2019 = pd.merge(df_mean_gdp_growth_2013_2019, df_mean_gdp_per_capita_2013_2019, left_index=True, right_index=True)\n",
    "df_mean_gdp_growth_gdp_per_capita_2013_2019.head()"
   ]
  },
  {
   "cell_type": "code",
   "execution_count": 116,
   "id": "a080f82a-6e6c-42b9-be1d-5ac370ec2b52",
   "metadata": {},
   "outputs": [],
   "source": [
    "data_mean_gdp_growth_gdp_per_capita_2013_2019 = df_mean_gdp_growth_gdp_per_capita_2013_2019.loc[:, \"Mean GDP Growth\":\"Mean GDP per capita\"].values"
   ]
  },
  {
   "cell_type": "markdown",
   "id": "d68ce4da-3007-4be6-b6e6-30e4dd500cc3",
   "metadata": {},
   "source": [
    "Стандартизация показателей"
   ]
  },
  {
   "cell_type": "code",
   "execution_count": 117,
   "id": "ce743378-8f28-4a93-abed-f1688698566f",
   "metadata": {},
   "outputs": [],
   "source": [
    "data_mean_gdp_growth_gdp_per_capita_2013_2019_std = (data_mean_gdp_growth_gdp_per_capita_2013_2019 - data_mean_gdp_growth_gdp_per_capita_2013_2019.mean()) / data_mean_gdp_growth_gdp_per_capita_2013_2019.std()"
   ]
  },
  {
   "cell_type": "markdown",
   "id": "5ce64e84-18cd-4cc4-81b7-892ebcd1958f",
   "metadata": {},
   "source": [
    "На основании дендрограммы определяем количество кластеров"
   ]
  },
  {
   "cell_type": "code",
   "execution_count": 118,
   "id": "e5d11905-4775-488d-ba4f-6fd50600de40",
   "metadata": {},
   "outputs": [],
   "source": [
    "number_of_cluster = 7"
   ]
  },
  {
   "cell_type": "code",
   "execution_count": 119,
   "id": "5e5b0f8d-5cb3-4b7d-804a-51f3b72735c6",
   "metadata": {},
   "outputs": [
    {
     "data": {
      "image/png": "[encoded data removed]",
      "text/plain": [
       "<Figure size 432x288 with 1 Axes>"
      ]
     },
     "metadata": {
      "needs_background": "light"
     },
     "output_type": "display_data"
    }
   ],
   "source": [
    "dendrogram = sch.dendrogram(ward(data_mean_gdp_growth_gdp_per_capita_2013_2019_std))\n",
    "plt.show()"
   ]
  },
  {
   "cell_type": "markdown",
   "id": "e9cee480-4c03-46f6-9a9f-33ec1bbd4b9d",
   "metadata": {},
   "source": [
    "Кластеризируем данные"
   ]
  },
  {
   "cell_type": "code",
   "execution_count": 120,
   "id": "49014169-4165-46c4-9c15-c5c7333fcf9b",
   "metadata": {},
   "outputs": [],
   "source": [
    "hc = AgglomerativeClustering(n_clusters=number_of_cluster, affinity=\"euclidean\", linkage=\"ward\")\n",
    "\n",
    "y_hc = hc.fit_predict(data_mean_gdp_growth_gdp_per_capita_2013_2019_std)"
   ]
  },
  {
   "cell_type": "code",
   "execution_count": 121,
   "id": "3a7e5101-3e2a-423c-91f1-d180de03fdfb",
   "metadata": {},
   "outputs": [],
   "source": [
    "dict_names = {i: [] for i in range(number_of_cluster)}\n",
    "for i in range(len(y_hc)):\n",
    "    dict_names[y_hc[i]].append(df_mean_gdp_growth_gdp_per_capita_2013_2019[\"Country Name\"].values[i])"
   ]
  },
  {
   "cell_type": "markdown",
   "id": "0cf8a778-bf6e-4fe0-a494-ddb61f0b8dac",
   "metadata": {},
   "source": [
    "Название стран в кластерах"
   ]
  },
  {
   "cell_type": "code",
   "execution_count": 122,
   "id": "4fb4717a-d82e-4857-ad07-3f0725fe33cf",
   "metadata": {},
   "outputs": [],
   "source": [
    "df_names = pd.DataFrame.from_dict(dict_names, orient=\"index\")\n",
    "df_names = df_names.transpose()"
   ]
  },
  {
   "cell_type": "code",
   "execution_count": 123,
   "id": "c3783ef0-a75f-47af-90c4-ff1fba82a31d",
   "metadata": {},
   "outputs": [
    {
     "data": {
      "text/html": [
       "<div>\n",
       "<style scoped>\n",
       "    .dataframe tbody tr th:only-of-type {\n",
       "        vertical-align: middle;\n",
       "    }\n",
       "\n",
       "    .dataframe tbody tr th {\n",
       "        vertical-align: top;\n",
       "    }\n",
       "\n",
       "    .dataframe thead th {\n",
       "        text-align: right;\n",
       "    }\n",
       "</style>\n",
       "<table border=\"1\" class=\"dataframe\">\n",
       "  <thead>\n",
       "    <tr style=\"text-align: right;\">\n",
       "      <th></th>\n",
       "      <th>0</th>\n",
       "      <th>1</th>\n",
       "      <th>2</th>\n",
       "      <th>3</th>\n",
       "      <th>4</th>\n",
       "      <th>5</th>\n",
       "      <th>6</th>\n",
       "    </tr>\n",
       "  </thead>\n",
       "  <tbody>\n",
       "    <tr>\n",
       "      <th>0</th>\n",
       "      <td>Aruba</td>\n",
       "      <td>Bermuda</td>\n",
       "      <td>Arab World</td>\n",
       "      <td>Monaco</td>\n",
       "      <td>Africa Eastern and Southern</td>\n",
       "      <td>Australia</td>\n",
       "      <td>Bahrain</td>\n",
       "    </tr>\n",
       "    <tr>\n",
       "      <th>1</th>\n",
       "      <td>Andorra</td>\n",
       "      <td>Switzerland</td>\n",
       "      <td>Argentina</td>\n",
       "      <td>None</td>\n",
       "      <td>Afghanistan</td>\n",
       "      <td>Denmark</td>\n",
       "      <td>Barbados</td>\n",
       "    </tr>\n",
       "    <tr>\n",
       "      <th>2</th>\n",
       "      <td>United Arab Emirates</td>\n",
       "      <td>Cayman Islands</td>\n",
       "      <td>American Samoa</td>\n",
       "      <td>None</td>\n",
       "      <td>Africa Western and Central</td>\n",
       "      <td>Ireland</td>\n",
       "      <td>Curacao</td>\n",
       "    </tr>\n",
       "    <tr>\n",
       "      <th>3</th>\n",
       "      <td>Austria</td>\n",
       "      <td>Isle of Man</td>\n",
       "      <td>Antigua and Barbuda</td>\n",
       "      <td>None</td>\n",
       "      <td>Angola</td>\n",
       "      <td>Iceland</td>\n",
       "      <td>Czech Republic</td>\n",
       "    </tr>\n",
       "    <tr>\n",
       "      <th>4</th>\n",
       "      <td>Belgium</td>\n",
       "      <td>Luxembourg</td>\n",
       "      <td>Bulgaria</td>\n",
       "      <td>None</td>\n",
       "      <td>Albania</td>\n",
       "      <td>North America</td>\n",
       "      <td>Europe &amp; Central Asia</td>\n",
       "    </tr>\n",
       "  </tbody>\n",
       "</table>\n",
       "</div>"
      ],
      "text/plain": [
       "                      0               1                    2       3  \\\n",
       "0                 Aruba         Bermuda           Arab World  Monaco   \n",
       "1               Andorra     Switzerland            Argentina    None   \n",
       "2  United Arab Emirates  Cayman Islands       American Samoa    None   \n",
       "3               Austria     Isle of Man  Antigua and Barbuda    None   \n",
       "4               Belgium      Luxembourg             Bulgaria    None   \n",
       "\n",
       "                             4              5                      6  \n",
       "0  Africa Eastern and Southern      Australia                Bahrain  \n",
       "1                  Afghanistan        Denmark               Barbados  \n",
       "2   Africa Western and Central        Ireland                Curacao  \n",
       "3                       Angola        Iceland         Czech Republic  \n",
       "4                      Albania  North America  Europe & Central Asia  "
      ]
     },
     "execution_count": 123,
     "metadata": {},
     "output_type": "execute_result"
    }
   ],
   "source": [
    "df_names.head()"
   ]
  },
  {
   "cell_type": "markdown",
   "id": "0ba33371-db80-447b-908b-a52686d650d0",
   "metadata": {},
   "source": [
    "Значения темпов роста ВВП в кластерах"
   ]
  },
  {
   "cell_type": "code",
   "execution_count": 124,
   "id": "7c5373c1-25b6-4920-84ab-b6d5621c3bc9",
   "metadata": {},
   "outputs": [],
   "source": [
    "dict_gdp = {i: [df_mean_gdp_growth_gdp_per_capita_2013_2019.loc[df_mean_gdp_growth_gdp_per_capita_2013_2019[\"Country Name\"] == df_names[i][j]][\"Mean GDP Growth\"].values[0] for j in range(len(df_names[i].dropna()))] for i in range(number_of_cluster)}"
   ]
  },
  {
   "cell_type": "code",
   "execution_count": 125,
   "id": "dcae0819-17b1-4b52-81eb-5214035b623f",
   "metadata": {},
   "outputs": [],
   "source": [
    "df_gdp = pd.DataFrame.from_dict(dict_gdp, orient=\"index\").transpose()"
   ]
  },
  {
   "cell_type": "code",
   "execution_count": 126,
   "id": "5626989e-98eb-4ba3-8036-0a281aee6671",
   "metadata": {},
   "outputs": [
    {
     "data": {
      "text/html": [
       "<div>\n",
       "<style scoped>\n",
       "    .dataframe tbody tr th:only-of-type {\n",
       "        vertical-align: middle;\n",
       "    }\n",
       "\n",
       "    .dataframe tbody tr th {\n",
       "        vertical-align: top;\n",
       "    }\n",
       "\n",
       "    .dataframe thead th {\n",
       "        text-align: right;\n",
       "    }\n",
       "</style>\n",
       "<table border=\"1\" class=\"dataframe\">\n",
       "  <thead>\n",
       "    <tr style=\"text-align: right;\">\n",
       "      <th></th>\n",
       "      <th>0</th>\n",
       "      <th>1</th>\n",
       "      <th>2</th>\n",
       "      <th>3</th>\n",
       "      <th>4</th>\n",
       "      <th>5</th>\n",
       "      <th>6</th>\n",
       "    </tr>\n",
       "  </thead>\n",
       "  <tbody>\n",
       "    <tr>\n",
       "      <th>0</th>\n",
       "      <td>2.390525</td>\n",
       "      <td>-0.053938</td>\n",
       "      <td>2.333355</td>\n",
       "      <td>4.920011</td>\n",
       "      <td>2.917540</td>\n",
       "      <td>2.479577</td>\n",
       "      <td>3.482826</td>\n",
       "    </tr>\n",
       "    <tr>\n",
       "      <th>1</th>\n",
       "      <td>1.150153</td>\n",
       "      <td>1.954884</td>\n",
       "      <td>-0.183041</td>\n",
       "      <td>NaN</td>\n",
       "      <td>2.826393</td>\n",
       "      <td>2.152460</td>\n",
       "      <td>0.327122</td>\n",
       "    </tr>\n",
       "    <tr>\n",
       "      <th>2</th>\n",
       "      <td>3.497523</td>\n",
       "      <td>3.047335</td>\n",
       "      <td>-0.581604</td>\n",
       "      <td>NaN</td>\n",
       "      <td>3.339671</td>\n",
       "      <td>8.583767</td>\n",
       "      <td>-1.409431</td>\n",
       "    </tr>\n",
       "    <tr>\n",
       "      <th>3</th>\n",
       "      <td>1.420299</td>\n",
       "      <td>3.288659</td>\n",
       "      <td>3.915258</td>\n",
       "      <td>NaN</td>\n",
       "      <td>0.851955</td>\n",
       "      <td>4.071711</td>\n",
       "      <td>3.076960</td>\n",
       "    </tr>\n",
       "    <tr>\n",
       "      <th>4</th>\n",
       "      <td>1.560133</td>\n",
       "      <td>2.806889</td>\n",
       "      <td>2.336942</td>\n",
       "      <td>NaN</td>\n",
       "      <td>2.602832</td>\n",
       "      <td>2.263954</td>\n",
       "      <td>1.954569</td>\n",
       "    </tr>\n",
       "  </tbody>\n",
       "</table>\n",
       "</div>"
      ],
      "text/plain": [
       "          0         1         2         3         4         5         6\n",
       "0  2.390525 -0.053938  2.333355  4.920011  2.917540  2.479577  3.482826\n",
       "1  1.150153  1.954884 -0.183041       NaN  2.826393  2.152460  0.327122\n",
       "2  3.497523  3.047335 -0.581604       NaN  3.339671  8.583767 -1.409431\n",
       "3  1.420299  3.288659  3.915258       NaN  0.851955  4.071711  3.076960\n",
       "4  1.560133  2.806889  2.336942       NaN  2.602832  2.263954  1.954569"
      ]
     },
     "execution_count": 126,
     "metadata": {},
     "output_type": "execute_result"
    }
   ],
   "source": [
    "df_gdp.head()"
   ]
  },
  {
   "cell_type": "markdown",
   "id": "0639a6ca-11df-4cf0-bfa3-a9b9f47c5e67",
   "metadata": {},
   "source": [
    "Значения подушевого ВВП в кластерах"
   ]
  },
  {
   "cell_type": "code",
   "execution_count": 127,
   "id": "cfaf9937-c5b0-40dc-bbbb-0c605b75a61b",
   "metadata": {},
   "outputs": [],
   "source": [
    "dict_gdp_per_capita = {i: [df_mean_gdp_growth_gdp_per_capita_2013_2019.loc[df_mean_gdp_growth_gdp_per_capita_2013_2019[\"Country Name\"] == df_names[i][j]][\"Mean GDP per capita\"].values[0] for j in range(len(df_names[i].dropna()))] for i in range(number_of_cluster)}"
   ]
  },
  {
   "cell_type": "code",
   "execution_count": 128,
   "id": "c4dae2de-9ec3-4e68-946b-0aebdf027c61",
   "metadata": {},
   "outputs": [],
   "source": [
    "df_gdp_per_capita = pd.DataFrame.from_dict(dict_gdp_per_capita, orient=\"index\").transpose()"
   ]
  },
  {
   "cell_type": "code",
   "execution_count": 129,
   "id": "168a6a0e-8885-4521-9361-25ee378954e0",
   "metadata": {},
   "outputs": [
    {
     "data": {
      "text/html": [
       "<div>\n",
       "<style scoped>\n",
       "    .dataframe tbody tr th:only-of-type {\n",
       "        vertical-align: middle;\n",
       "    }\n",
       "\n",
       "    .dataframe tbody tr th {\n",
       "        vertical-align: top;\n",
       "    }\n",
       "\n",
       "    .dataframe thead th {\n",
       "        text-align: right;\n",
       "    }\n",
       "</style>\n",
       "<table border=\"1\" class=\"dataframe\">\n",
       "  <thead>\n",
       "    <tr style=\"text-align: right;\">\n",
       "      <th></th>\n",
       "      <th>0</th>\n",
       "      <th>1</th>\n",
       "      <th>2</th>\n",
       "      <th>3</th>\n",
       "      <th>4</th>\n",
       "      <th>5</th>\n",
       "      <th>6</th>\n",
       "    </tr>\n",
       "  </thead>\n",
       "  <tbody>\n",
       "    <tr>\n",
       "      <th>0</th>\n",
       "      <td>28704.038175</td>\n",
       "      <td>106836.473070</td>\n",
       "      <td>6698.313795</td>\n",
       "      <td>178015.298903</td>\n",
       "      <td>1595.677586</td>\n",
       "      <td>57606.774261</td>\n",
       "      <td>23765.413096</td>\n",
       "    </tr>\n",
       "    <tr>\n",
       "      <th>1</th>\n",
       "      <td>39391.828657</td>\n",
       "      <td>85816.947093</td>\n",
       "      <td>12639.844618</td>\n",
       "      <td>NaN</td>\n",
       "      <td>543.298061</td>\n",
       "      <td>58662.399332</td>\n",
       "      <td>17153.795510</td>\n",
       "    </tr>\n",
       "    <tr>\n",
       "      <th>2</th>\n",
       "      <td>41450.753953</td>\n",
       "      <td>80352.524290</td>\n",
       "      <td>11616.366447</td>\n",
       "      <td>NaN</td>\n",
       "      <td>1862.007639</td>\n",
       "      <td>65967.894159</td>\n",
       "      <td>19175.226152</td>\n",
       "    </tr>\n",
       "    <tr>\n",
       "      <th>3</th>\n",
       "      <td>48721.577851</td>\n",
       "      <td>86012.561547</td>\n",
       "      <td>15048.008861</td>\n",
       "      <td>NaN</td>\n",
       "      <td>3156.243715</td>\n",
       "      <td>62106.107286</td>\n",
       "      <td>20592.157682</td>\n",
       "    </tr>\n",
       "    <tr>\n",
       "      <th>4</th>\n",
       "      <td>45127.106369</td>\n",
       "      <td>113815.259501</td>\n",
       "      <td>8274.306123</td>\n",
       "      <td>NaN</td>\n",
       "      <td>4611.921725</td>\n",
       "      <td>57496.854226</td>\n",
       "      <td>24504.657031</td>\n",
       "    </tr>\n",
       "  </tbody>\n",
       "</table>\n",
       "</div>"
      ],
      "text/plain": [
       "              0              1             2              3            4  \\\n",
       "0  28704.038175  106836.473070   6698.313795  178015.298903  1595.677586   \n",
       "1  39391.828657   85816.947093  12639.844618            NaN   543.298061   \n",
       "2  41450.753953   80352.524290  11616.366447            NaN  1862.007639   \n",
       "3  48721.577851   86012.561547  15048.008861            NaN  3156.243715   \n",
       "4  45127.106369  113815.259501   8274.306123            NaN  4611.921725   \n",
       "\n",
       "              5             6  \n",
       "0  57606.774261  23765.413096  \n",
       "1  58662.399332  17153.795510  \n",
       "2  65967.894159  19175.226152  \n",
       "3  62106.107286  20592.157682  \n",
       "4  57496.854226  24504.657031  "
      ]
     },
     "execution_count": 129,
     "metadata": {},
     "output_type": "execute_result"
    }
   ],
   "source": [
    "df_gdp_per_capita.head()"
   ]
  },
  {
   "cell_type": "markdown",
   "id": "3b0042e0-378b-4845-a34e-4f9870a9cfb8",
   "metadata": {},
   "source": [
    "Записываем получившиеся результаты в `excel`-файл"
   ]
  },
  {
   "cell_type": "code",
   "execution_count": 130,
   "id": "2e0ad0d7-5429-49c2-8774-74d1c1bc3718",
   "metadata": {},
   "outputs": [],
   "source": [
    "save_as_xlsx(\"./results/mean_gdp_growth_gdp_per_capita_2013_2019.xlsx\",\n",
    "             [\"Country Names\", \"GDP growth\", \"GDP per capita\"],\n",
    "             [df_names, df_gdp, df_gdp_per_capita])"
   ]
  },
  {
   "cell_type": "markdown",
   "id": "bc0abf1f-b208-4592-8764-0e01c823ae6a",
   "metadata": {
    "jp-MarkdownHeadingCollapsed": true,
    "tags": []
   },
   "source": [
    "### Кластеризация на основании подушевого ВВП, темпов роста ВВП, темов инфляции"
   ]
  },
  {
   "cell_type": "markdown",
   "id": "ab811775-cbaf-4d31-8b65-8a288b051ee1",
   "metadata": {},
   "source": [
    "Выбираем нужные данные"
   ]
  },
  {
   "cell_type": "code",
   "execution_count": 131,
   "id": "b96f431a-246b-4a0f-978e-acf8ac981ddc",
   "metadata": {},
   "outputs": [
    {
     "data": {
      "text/html": [
       "<div>\n",
       "<style scoped>\n",
       "    .dataframe tbody tr th:only-of-type {\n",
       "        vertical-align: middle;\n",
       "    }\n",
       "\n",
       "    .dataframe tbody tr th {\n",
       "        vertical-align: top;\n",
       "    }\n",
       "\n",
       "    .dataframe thead th {\n",
       "        text-align: right;\n",
       "    }\n",
       "</style>\n",
       "<table border=\"1\" class=\"dataframe\">\n",
       "  <thead>\n",
       "    <tr style=\"text-align: right;\">\n",
       "      <th></th>\n",
       "      <th>Mean Inflation</th>\n",
       "    </tr>\n",
       "  </thead>\n",
       "  <tbody>\n",
       "    <tr>\n",
       "      <th>0</th>\n",
       "      <td>1.081196</td>\n",
       "    </tr>\n",
       "    <tr>\n",
       "      <th>1</th>\n",
       "      <td>5.266105</td>\n",
       "    </tr>\n",
       "    <tr>\n",
       "      <th>2</th>\n",
       "      <td>2.376607</td>\n",
       "    </tr>\n",
       "    <tr>\n",
       "      <th>3</th>\n",
       "      <td>1.658816</td>\n",
       "    </tr>\n",
       "    <tr>\n",
       "      <th>4</th>\n",
       "      <td>13.519443</td>\n",
       "    </tr>\n",
       "  </tbody>\n",
       "</table>\n",
       "</div>"
      ],
      "text/plain": [
       "   Mean Inflation\n",
       "0        1.081196\n",
       "1        5.266105\n",
       "2        2.376607\n",
       "3        1.658816\n",
       "4       13.519443"
      ]
     },
     "execution_count": 131,
     "metadata": {},
     "output_type": "execute_result"
    }
   ],
   "source": [
    "df_mean_inflation_2013_2019 = pd.DataFrame(df_inflation_data.loc[:, \"2013\":\"2019\"].dropna().mean(axis=1)).rename({0: \"Mean Inflation\"}, axis=1)\n",
    "df_mean_inflation_2013_2019.head()"
   ]
  },
  {
   "cell_type": "code",
   "execution_count": 132,
   "id": "da397c14-0b12-4222-a7ee-f1ea47d2b147",
   "metadata": {},
   "outputs": [
    {
     "data": {
      "text/html": [
       "<div>\n",
       "<style scoped>\n",
       "    .dataframe tbody tr th:only-of-type {\n",
       "        vertical-align: middle;\n",
       "    }\n",
       "\n",
       "    .dataframe tbody tr th {\n",
       "        vertical-align: top;\n",
       "    }\n",
       "\n",
       "    .dataframe thead th {\n",
       "        text-align: right;\n",
       "    }\n",
       "</style>\n",
       "<table border=\"1\" class=\"dataframe\">\n",
       "  <thead>\n",
       "    <tr style=\"text-align: right;\">\n",
       "      <th></th>\n",
       "      <th>Country Name</th>\n",
       "      <th>Mean GDP Growth</th>\n",
       "      <th>Mean GDP per capita</th>\n",
       "      <th>Mean Inflation</th>\n",
       "    </tr>\n",
       "  </thead>\n",
       "  <tbody>\n",
       "    <tr>\n",
       "      <th>0</th>\n",
       "      <td>Aruba</td>\n",
       "      <td>2.390525</td>\n",
       "      <td>28704.038175</td>\n",
       "      <td>1.081196</td>\n",
       "    </tr>\n",
       "    <tr>\n",
       "      <th>1</th>\n",
       "      <td>Africa Eastern and Southern</td>\n",
       "      <td>2.917540</td>\n",
       "      <td>1595.677586</td>\n",
       "      <td>5.266105</td>\n",
       "    </tr>\n",
       "    <tr>\n",
       "      <th>2</th>\n",
       "      <td>Afghanistan</td>\n",
       "      <td>2.826393</td>\n",
       "      <td>543.298061</td>\n",
       "      <td>2.376607</td>\n",
       "    </tr>\n",
       "    <tr>\n",
       "      <th>3</th>\n",
       "      <td>Africa Western and Central</td>\n",
       "      <td>3.339671</td>\n",
       "      <td>1862.007639</td>\n",
       "      <td>1.658816</td>\n",
       "    </tr>\n",
       "    <tr>\n",
       "      <th>4</th>\n",
       "      <td>Angola</td>\n",
       "      <td>0.851955</td>\n",
       "      <td>3156.243715</td>\n",
       "      <td>13.519443</td>\n",
       "    </tr>\n",
       "  </tbody>\n",
       "</table>\n",
       "</div>"
      ],
      "text/plain": [
       "                  Country Name  Mean GDP Growth  Mean GDP per capita  \\\n",
       "0                        Aruba         2.390525         28704.038175   \n",
       "1  Africa Eastern and Southern         2.917540          1595.677586   \n",
       "2                  Afghanistan         2.826393           543.298061   \n",
       "3   Africa Western and Central         3.339671          1862.007639   \n",
       "4                       Angola         0.851955          3156.243715   \n",
       "\n",
       "   Mean Inflation  \n",
       "0        1.081196  \n",
       "1        5.266105  \n",
       "2        2.376607  \n",
       "3        1.658816  \n",
       "4       13.519443  "
      ]
     },
     "execution_count": 132,
     "metadata": {},
     "output_type": "execute_result"
    }
   ],
   "source": [
    "df_mean_gdp_growth_gdp_per_capita_inflation_2013_2019 = pd.merge(df_mean_gdp_growth_gdp_per_capita_2013_2019, df_mean_inflation_2013_2019, left_index=True, right_index=True)\n",
    "df_mean_gdp_growth_gdp_per_capita_inflation_2013_2019.head()"
   ]
  },
  {
   "cell_type": "code",
   "execution_count": 133,
   "id": "c9fd52ff-760a-4daf-aae2-7d3f4621cb3d",
   "metadata": {},
   "outputs": [],
   "source": [
    "data_mean_gdp_growth_gdp_per_capita_inflation_2013_2019 = df_mean_gdp_growth_gdp_per_capita_inflation_2013_2019.loc[:, \"Mean GDP Growth\":\"Mean Inflation\"].values"
   ]
  },
  {
   "cell_type": "markdown",
   "id": "53a2a314-f5ec-4eb3-85a3-95fb622455df",
   "metadata": {},
   "source": [
    "Стандартизация показателей"
   ]
  },
  {
   "cell_type": "code",
   "execution_count": 134,
   "id": "92c731e2-0674-4ea9-a31b-cb39c00dd12f",
   "metadata": {},
   "outputs": [],
   "source": [
    "data_mean_gdp_growth_gdp_per_capita_inflation_2013_2019_std = (data_mean_gdp_growth_gdp_per_capita_inflation_2013_2019 - data_mean_gdp_growth_gdp_per_capita_inflation_2013_2019.mean()) / data_mean_gdp_growth_gdp_per_capita_inflation_2013_2019.std()"
   ]
  },
  {
   "cell_type": "markdown",
   "id": "f21ee7d5-5f01-4e52-9bf3-a042d1a79a21",
   "metadata": {},
   "source": [
    "На основании дендрограммы определяем количество кластеров"
   ]
  },
  {
   "cell_type": "code",
   "execution_count": 135,
   "id": "2ca033a4-72ae-4cfd-879d-126534e893dd",
   "metadata": {},
   "outputs": [],
   "source": [
    "number_of_cluster = 7"
   ]
  },
  {
   "cell_type": "code",
   "execution_count": 136,
   "id": "aee34525-0d32-4791-8523-e728be20286d",
   "metadata": {},
   "outputs": [
    {
     "data": {
      "image/png": "[encoded data removed]",
      "text/plain": [
       "<Figure size 432x288 with 1 Axes>"
      ]
     },
     "metadata": {
      "needs_background": "light"
     },
     "output_type": "display_data"
    }
   ],
   "source": [
    "dendrogram = sch.dendrogram(ward(data_mean_gdp_growth_gdp_per_capita_inflation_2013_2019_std))\n",
    "plt.show()"
   ]
  },
  {
   "cell_type": "markdown",
   "id": "1ab3c5cc-4e01-4ead-9667-fcadf75da52c",
   "metadata": {},
   "source": [
    "Кластеризируем данные"
   ]
  },
  {
   "cell_type": "code",
   "execution_count": 137,
   "id": "df269e2c-2d3c-44c8-bedb-8450391c1163",
   "metadata": {},
   "outputs": [],
   "source": [
    "hc = AgglomerativeClustering(n_clusters=number_of_cluster, affinity=\"euclidean\", linkage=\"ward\")\n",
    "\n",
    "y_hc = hc.fit_predict(data_mean_gdp_growth_gdp_per_capita_inflation_2013_2019_std)"
   ]
  },
  {
   "cell_type": "code",
   "execution_count": 138,
   "id": "9f226fdd-6179-4377-8e9f-ec00b5bca071",
   "metadata": {},
   "outputs": [],
   "source": [
    "dict_names = {i: [] for i in range(number_of_cluster)}\n",
    "for i in range(len(y_hc)):\n",
    "    dict_names[y_hc[i]].append(df_mean_gdp_growth_gdp_per_capita_inflation_2013_2019[\"Country Name\"].values[i])"
   ]
  },
  {
   "cell_type": "markdown",
   "id": "e80be4f9-cd27-4264-a575-265733207133",
   "metadata": {},
   "source": [
    "Название стран в кластерах"
   ]
  },
  {
   "cell_type": "code",
   "execution_count": 139,
   "id": "bc3edc3d-74c5-489b-92a3-c7aca27142d2",
   "metadata": {},
   "outputs": [],
   "source": [
    "df_names = pd.DataFrame.from_dict(dict_names, orient=\"index\")\n",
    "df_names = df_names.transpose()"
   ]
  },
  {
   "cell_type": "code",
   "execution_count": 140,
   "id": "11127e09-7d33-4cf9-adbe-1b9dedebea21",
   "metadata": {},
   "outputs": [
    {
     "data": {
      "text/html": [
       "<div>\n",
       "<style scoped>\n",
       "    .dataframe tbody tr th:only-of-type {\n",
       "        vertical-align: middle;\n",
       "    }\n",
       "\n",
       "    .dataframe tbody tr th {\n",
       "        vertical-align: top;\n",
       "    }\n",
       "\n",
       "    .dataframe thead th {\n",
       "        text-align: right;\n",
       "    }\n",
       "</style>\n",
       "<table border=\"1\" class=\"dataframe\">\n",
       "  <thead>\n",
       "    <tr style=\"text-align: right;\">\n",
       "      <th></th>\n",
       "      <th>0</th>\n",
       "      <th>1</th>\n",
       "      <th>2</th>\n",
       "      <th>3</th>\n",
       "      <th>4</th>\n",
       "      <th>5</th>\n",
       "      <th>6</th>\n",
       "    </tr>\n",
       "  </thead>\n",
       "  <tbody>\n",
       "    <tr>\n",
       "      <th>0</th>\n",
       "      <td>Aruba</td>\n",
       "      <td>Bermuda</td>\n",
       "      <td>Arab World</td>\n",
       "      <td>Monaco</td>\n",
       "      <td>Africa Eastern and Southern</td>\n",
       "      <td>Australia</td>\n",
       "      <td>Bahrain</td>\n",
       "    </tr>\n",
       "    <tr>\n",
       "      <th>1</th>\n",
       "      <td>Andorra</td>\n",
       "      <td>Switzerland</td>\n",
       "      <td>Argentina</td>\n",
       "      <td>None</td>\n",
       "      <td>Afghanistan</td>\n",
       "      <td>Denmark</td>\n",
       "      <td>Barbados</td>\n",
       "    </tr>\n",
       "    <tr>\n",
       "      <th>2</th>\n",
       "      <td>United Arab Emirates</td>\n",
       "      <td>Cayman Islands</td>\n",
       "      <td>American Samoa</td>\n",
       "      <td>None</td>\n",
       "      <td>Africa Western and Central</td>\n",
       "      <td>Ireland</td>\n",
       "      <td>Curacao</td>\n",
       "    </tr>\n",
       "    <tr>\n",
       "      <th>3</th>\n",
       "      <td>Austria</td>\n",
       "      <td>Isle of Man</td>\n",
       "      <td>Antigua and Barbuda</td>\n",
       "      <td>None</td>\n",
       "      <td>Angola</td>\n",
       "      <td>Iceland</td>\n",
       "      <td>Czech Republic</td>\n",
       "    </tr>\n",
       "    <tr>\n",
       "      <th>4</th>\n",
       "      <td>Belgium</td>\n",
       "      <td>Luxembourg</td>\n",
       "      <td>Bulgaria</td>\n",
       "      <td>None</td>\n",
       "      <td>Albania</td>\n",
       "      <td>North America</td>\n",
       "      <td>Europe &amp; Central Asia</td>\n",
       "    </tr>\n",
       "  </tbody>\n",
       "</table>\n",
       "</div>"
      ],
      "text/plain": [
       "                      0               1                    2       3  \\\n",
       "0                 Aruba         Bermuda           Arab World  Monaco   \n",
       "1               Andorra     Switzerland            Argentina    None   \n",
       "2  United Arab Emirates  Cayman Islands       American Samoa    None   \n",
       "3               Austria     Isle of Man  Antigua and Barbuda    None   \n",
       "4               Belgium      Luxembourg             Bulgaria    None   \n",
       "\n",
       "                             4              5                      6  \n",
       "0  Africa Eastern and Southern      Australia                Bahrain  \n",
       "1                  Afghanistan        Denmark               Barbados  \n",
       "2   Africa Western and Central        Ireland                Curacao  \n",
       "3                       Angola        Iceland         Czech Republic  \n",
       "4                      Albania  North America  Europe & Central Asia  "
      ]
     },
     "execution_count": 140,
     "metadata": {},
     "output_type": "execute_result"
    }
   ],
   "source": [
    "df_names.head()"
   ]
  },
  {
   "cell_type": "markdown",
   "id": "fb33a917-247a-4050-85dc-ea1b3ecb6ead",
   "metadata": {},
   "source": [
    "Значения темпов роста ВВП в кластерах"
   ]
  },
  {
   "cell_type": "code",
   "execution_count": 141,
   "id": "22bfb34e-0304-4426-b59c-f1ee4fbe61fc",
   "metadata": {},
   "outputs": [],
   "source": [
    "dict_gdp = {i: [df_mean_gdp_growth_gdp_per_capita_inflation_2013_2019.loc[df_mean_gdp_growth_gdp_per_capita_inflation_2013_2019[\"Country Name\"] == df_names[i][j]][\"Mean GDP Growth\"].values[0] for j in range(len(df_names[i].dropna()))] for i in range(number_of_cluster)}"
   ]
  },
  {
   "cell_type": "code",
   "execution_count": 142,
   "id": "ec1d9eb6-4d51-4595-9218-e4afbf65141d",
   "metadata": {},
   "outputs": [],
   "source": [
    "df_gdp = pd.DataFrame.from_dict(dict_gdp, orient=\"index\").transpose()"
   ]
  },
  {
   "cell_type": "code",
   "execution_count": 143,
   "id": "4b4acac8-cad1-47f4-8a07-49e31efce7f1",
   "metadata": {},
   "outputs": [
    {
     "data": {
      "text/html": [
       "<div>\n",
       "<style scoped>\n",
       "    .dataframe tbody tr th:only-of-type {\n",
       "        vertical-align: middle;\n",
       "    }\n",
       "\n",
       "    .dataframe tbody tr th {\n",
       "        vertical-align: top;\n",
       "    }\n",
       "\n",
       "    .dataframe thead th {\n",
       "        text-align: right;\n",
       "    }\n",
       "</style>\n",
       "<table border=\"1\" class=\"dataframe\">\n",
       "  <thead>\n",
       "    <tr style=\"text-align: right;\">\n",
       "      <th></th>\n",
       "      <th>0</th>\n",
       "      <th>1</th>\n",
       "      <th>2</th>\n",
       "      <th>3</th>\n",
       "      <th>4</th>\n",
       "      <th>5</th>\n",
       "      <th>6</th>\n",
       "    </tr>\n",
       "  </thead>\n",
       "  <tbody>\n",
       "    <tr>\n",
       "      <th>0</th>\n",
       "      <td>2.390525</td>\n",
       "      <td>-0.053938</td>\n",
       "      <td>2.333355</td>\n",
       "      <td>4.920011</td>\n",
       "      <td>2.917540</td>\n",
       "      <td>2.479577</td>\n",
       "      <td>3.482826</td>\n",
       "    </tr>\n",
       "    <tr>\n",
       "      <th>1</th>\n",
       "      <td>1.150153</td>\n",
       "      <td>1.954884</td>\n",
       "      <td>-0.183041</td>\n",
       "      <td>NaN</td>\n",
       "      <td>2.826393</td>\n",
       "      <td>2.152460</td>\n",
       "      <td>0.327122</td>\n",
       "    </tr>\n",
       "    <tr>\n",
       "      <th>2</th>\n",
       "      <td>3.497523</td>\n",
       "      <td>3.047335</td>\n",
       "      <td>-0.581604</td>\n",
       "      <td>NaN</td>\n",
       "      <td>3.339671</td>\n",
       "      <td>8.583767</td>\n",
       "      <td>-1.409431</td>\n",
       "    </tr>\n",
       "    <tr>\n",
       "      <th>3</th>\n",
       "      <td>1.420299</td>\n",
       "      <td>3.288659</td>\n",
       "      <td>3.915258</td>\n",
       "      <td>NaN</td>\n",
       "      <td>0.851955</td>\n",
       "      <td>4.071711</td>\n",
       "      <td>3.076960</td>\n",
       "    </tr>\n",
       "    <tr>\n",
       "      <th>4</th>\n",
       "      <td>1.560133</td>\n",
       "      <td>2.806889</td>\n",
       "      <td>2.336942</td>\n",
       "      <td>NaN</td>\n",
       "      <td>2.602832</td>\n",
       "      <td>2.263954</td>\n",
       "      <td>1.954569</td>\n",
       "    </tr>\n",
       "  </tbody>\n",
       "</table>\n",
       "</div>"
      ],
      "text/plain": [
       "          0         1         2         3         4         5         6\n",
       "0  2.390525 -0.053938  2.333355  4.920011  2.917540  2.479577  3.482826\n",
       "1  1.150153  1.954884 -0.183041       NaN  2.826393  2.152460  0.327122\n",
       "2  3.497523  3.047335 -0.581604       NaN  3.339671  8.583767 -1.409431\n",
       "3  1.420299  3.288659  3.915258       NaN  0.851955  4.071711  3.076960\n",
       "4  1.560133  2.806889  2.336942       NaN  2.602832  2.263954  1.954569"
      ]
     },
     "execution_count": 143,
     "metadata": {},
     "output_type": "execute_result"
    }
   ],
   "source": [
    "df_gdp.head()"
   ]
  },
  {
   "cell_type": "markdown",
   "id": "6c5c2886-3e26-40a6-b3d2-49d93adf530c",
   "metadata": {},
   "source": [
    "Значения подушевого ВВП в кластерах"
   ]
  },
  {
   "cell_type": "code",
   "execution_count": 144,
   "id": "feb9f2f0-ac77-4ac6-a068-b760f3ed89be",
   "metadata": {},
   "outputs": [],
   "source": [
    "dict_gdp_per_capita = {i: [df_mean_gdp_growth_gdp_per_capita_inflation_2013_2019.loc[df_mean_gdp_growth_gdp_per_capita_inflation_2013_2019[\"Country Name\"] == df_names[i][j]][\"Mean GDP per capita\"].values[0] for j in range(len(df_names[i].dropna()))] for i in range(number_of_cluster)}"
   ]
  },
  {
   "cell_type": "code",
   "execution_count": 145,
   "id": "72cf2b6c-7ab0-43ee-ab9d-0a9556148f5e",
   "metadata": {},
   "outputs": [],
   "source": [
    "df_gdp_per_capita = pd.DataFrame.from_dict(dict_gdp_per_capita, orient=\"index\").transpose()"
   ]
  },
  {
   "cell_type": "code",
   "execution_count": 146,
   "id": "d4ca4969-cbb7-4766-9ff4-4db6552708ec",
   "metadata": {},
   "outputs": [
    {
     "data": {
      "text/html": [
       "<div>\n",
       "<style scoped>\n",
       "    .dataframe tbody tr th:only-of-type {\n",
       "        vertical-align: middle;\n",
       "    }\n",
       "\n",
       "    .dataframe tbody tr th {\n",
       "        vertical-align: top;\n",
       "    }\n",
       "\n",
       "    .dataframe thead th {\n",
       "        text-align: right;\n",
       "    }\n",
       "</style>\n",
       "<table border=\"1\" class=\"dataframe\">\n",
       "  <thead>\n",
       "    <tr style=\"text-align: right;\">\n",
       "      <th></th>\n",
       "      <th>0</th>\n",
       "      <th>1</th>\n",
       "      <th>2</th>\n",
       "      <th>3</th>\n",
       "      <th>4</th>\n",
       "      <th>5</th>\n",
       "      <th>6</th>\n",
       "    </tr>\n",
       "  </thead>\n",
       "  <tbody>\n",
       "    <tr>\n",
       "      <th>0</th>\n",
       "      <td>28704.038175</td>\n",
       "      <td>106836.473070</td>\n",
       "      <td>6698.313795</td>\n",
       "      <td>178015.298903</td>\n",
       "      <td>1595.677586</td>\n",
       "      <td>57606.774261</td>\n",
       "      <td>23765.413096</td>\n",
       "    </tr>\n",
       "    <tr>\n",
       "      <th>1</th>\n",
       "      <td>39391.828657</td>\n",
       "      <td>85816.947093</td>\n",
       "      <td>12639.844618</td>\n",
       "      <td>NaN</td>\n",
       "      <td>543.298061</td>\n",
       "      <td>58662.399332</td>\n",
       "      <td>17153.795510</td>\n",
       "    </tr>\n",
       "    <tr>\n",
       "      <th>2</th>\n",
       "      <td>41450.753953</td>\n",
       "      <td>80352.524290</td>\n",
       "      <td>11616.366447</td>\n",
       "      <td>NaN</td>\n",
       "      <td>1862.007639</td>\n",
       "      <td>65967.894159</td>\n",
       "      <td>19175.226152</td>\n",
       "    </tr>\n",
       "    <tr>\n",
       "      <th>3</th>\n",
       "      <td>48721.577851</td>\n",
       "      <td>86012.561547</td>\n",
       "      <td>15048.008861</td>\n",
       "      <td>NaN</td>\n",
       "      <td>3156.243715</td>\n",
       "      <td>62106.107286</td>\n",
       "      <td>20592.157682</td>\n",
       "    </tr>\n",
       "    <tr>\n",
       "      <th>4</th>\n",
       "      <td>45127.106369</td>\n",
       "      <td>113815.259501</td>\n",
       "      <td>8274.306123</td>\n",
       "      <td>NaN</td>\n",
       "      <td>4611.921725</td>\n",
       "      <td>57496.854226</td>\n",
       "      <td>24504.657031</td>\n",
       "    </tr>\n",
       "  </tbody>\n",
       "</table>\n",
       "</div>"
      ],
      "text/plain": [
       "              0              1             2              3            4  \\\n",
       "0  28704.038175  106836.473070   6698.313795  178015.298903  1595.677586   \n",
       "1  39391.828657   85816.947093  12639.844618            NaN   543.298061   \n",
       "2  41450.753953   80352.524290  11616.366447            NaN  1862.007639   \n",
       "3  48721.577851   86012.561547  15048.008861            NaN  3156.243715   \n",
       "4  45127.106369  113815.259501   8274.306123            NaN  4611.921725   \n",
       "\n",
       "              5             6  \n",
       "0  57606.774261  23765.413096  \n",
       "1  58662.399332  17153.795510  \n",
       "2  65967.894159  19175.226152  \n",
       "3  62106.107286  20592.157682  \n",
       "4  57496.854226  24504.657031  "
      ]
     },
     "execution_count": 146,
     "metadata": {},
     "output_type": "execute_result"
    }
   ],
   "source": [
    "df_gdp_per_capita.head()"
   ]
  },
  {
   "cell_type": "markdown",
   "id": "0df08ee7-43a7-4d46-a2ed-f9a1dc5c27e0",
   "metadata": {},
   "source": [
    "Значения темпа инфляции в кластерах"
   ]
  },
  {
   "cell_type": "code",
   "execution_count": 147,
   "id": "fc9733e8-037b-4214-bf39-10814f044082",
   "metadata": {},
   "outputs": [],
   "source": [
    "dict_inflation = {i: [df_mean_gdp_growth_gdp_per_capita_inflation_2013_2019.loc[df_mean_gdp_growth_gdp_per_capita_inflation_2013_2019[\"Country Name\"] == df_names[i][j]][\"Mean Inflation\"].values[0] for j in range(len(df_names[i].dropna()))] for i in range(number_of_cluster)}"
   ]
  },
  {
   "cell_type": "code",
   "execution_count": 148,
   "id": "80eb04bb-e330-407d-a269-837304ad4b16",
   "metadata": {},
   "outputs": [],
   "source": [
    "df_inflation = pd.DataFrame.from_dict(dict_inflation, orient=\"index\").transpose()"
   ]
  },
  {
   "cell_type": "code",
   "execution_count": 149,
   "id": "d5d183cf-f819-473e-929b-c4bc96d5f233",
   "metadata": {},
   "outputs": [
    {
     "data": {
      "text/html": [
       "<div>\n",
       "<style scoped>\n",
       "    .dataframe tbody tr th:only-of-type {\n",
       "        vertical-align: middle;\n",
       "    }\n",
       "\n",
       "    .dataframe tbody tr th {\n",
       "        vertical-align: top;\n",
       "    }\n",
       "\n",
       "    .dataframe thead th {\n",
       "        text-align: right;\n",
       "    }\n",
       "</style>\n",
       "<table border=\"1\" class=\"dataframe\">\n",
       "  <thead>\n",
       "    <tr style=\"text-align: right;\">\n",
       "      <th></th>\n",
       "      <th>0</th>\n",
       "      <th>1</th>\n",
       "      <th>2</th>\n",
       "      <th>3</th>\n",
       "      <th>4</th>\n",
       "      <th>5</th>\n",
       "      <th>6</th>\n",
       "    </tr>\n",
       "  </thead>\n",
       "  <tbody>\n",
       "    <tr>\n",
       "      <th>0</th>\n",
       "      <td>1.081196</td>\n",
       "      <td>2.275718</td>\n",
       "      <td>2.393874</td>\n",
       "      <td>0.830066</td>\n",
       "      <td>5.266105</td>\n",
       "      <td>1.295595</td>\n",
       "      <td>-0.047373</td>\n",
       "    </tr>\n",
       "    <tr>\n",
       "      <th>1</th>\n",
       "      <td>0.699514</td>\n",
       "      <td>-0.306675</td>\n",
       "      <td>35.841813</td>\n",
       "      <td>NaN</td>\n",
       "      <td>2.376607</td>\n",
       "      <td>0.754651</td>\n",
       "      <td>1.724627</td>\n",
       "    </tr>\n",
       "    <tr>\n",
       "      <th>2</th>\n",
       "      <td>-1.609904</td>\n",
       "      <td>1.674420</td>\n",
       "      <td>0.831001</td>\n",
       "      <td>NaN</td>\n",
       "      <td>1.658816</td>\n",
       "      <td>2.164764</td>\n",
       "      <td>1.300493</td>\n",
       "    </tr>\n",
       "    <tr>\n",
       "      <th>3</th>\n",
       "      <td>1.768418</td>\n",
       "      <td>1.126335</td>\n",
       "      <td>1.069595</td>\n",
       "      <td>NaN</td>\n",
       "      <td>13.519443</td>\n",
       "      <td>3.251564</td>\n",
       "      <td>1.977397</td>\n",
       "    </tr>\n",
       "    <tr>\n",
       "      <th>4</th>\n",
       "      <td>1.519755</td>\n",
       "      <td>1.519426</td>\n",
       "      <td>3.137333</td>\n",
       "      <td>NaN</td>\n",
       "      <td>0.850102</td>\n",
       "      <td>1.569828</td>\n",
       "      <td>1.660180</td>\n",
       "    </tr>\n",
       "  </tbody>\n",
       "</table>\n",
       "</div>"
      ],
      "text/plain": [
       "          0         1          2         3          4         5         6\n",
       "0  1.081196  2.275718   2.393874  0.830066   5.266105  1.295595 -0.047373\n",
       "1  0.699514 -0.306675  35.841813       NaN   2.376607  0.754651  1.724627\n",
       "2 -1.609904  1.674420   0.831001       NaN   1.658816  2.164764  1.300493\n",
       "3  1.768418  1.126335   1.069595       NaN  13.519443  3.251564  1.977397\n",
       "4  1.519755  1.519426   3.137333       NaN   0.850102  1.569828  1.660180"
      ]
     },
     "execution_count": 149,
     "metadata": {},
     "output_type": "execute_result"
    }
   ],
   "source": [
    "df_inflation.head()"
   ]
  },
  {
   "cell_type": "markdown",
   "id": "bfc9751b-10d9-42c1-be34-877cafeec820",
   "metadata": {},
   "source": [
    "Записываем получившиеся результаты в `excel`-файл"
   ]
  },
  {
   "cell_type": "code",
   "execution_count": 150,
   "id": "f5cdbeb5-3514-4a93-8ba1-c4f64a225910",
   "metadata": {},
   "outputs": [],
   "source": [
    "save_as_xlsx(\"./results/mean_gdp_growth_gdp_per_capita_inflation_2013_2019.xlsx\",\n",
    "             [\"Country Names\", \"GDP growth\", \"GDP per capita\", \"Inflation\"],\n",
    "             [df_names, df_gdp, df_gdp_per_capita, df_inflation])"
   ]
  }
 ],
 "metadata": {
  "kernelspec": {
   "display_name": "Python 3 (ipykernel)",
   "language": "python",
   "name": "python3"
  },
  "language_info": {
   "codemirror_mode": {
    "name": "ipython",
    "version": 3
   },
   "file_extension": ".py",
   "mimetype": "text/x-python",
   "name": "python",
   "nbconvert_exporter": "python",
   "pygments_lexer": "ipython3",
   "version": "3.10.4"
  }
 },
 "nbformat": 4,
 "nbformat_minor": 5
}

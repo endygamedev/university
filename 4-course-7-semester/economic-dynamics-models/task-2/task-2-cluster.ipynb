{
 "cells": [
  {
   "cell_type": "markdown",
   "id": "9904d8c1-3b9d-4476-af03-11dd52a7f6f5",
   "metadata": {
    "jp-MarkdownHeadingCollapsed": true,
    "tags": []
   },
   "source": [
    "## Импорт модулей"
   ]
  },
  {
   "cell_type": "code",
   "execution_count": 1,
   "id": "76c8460a-498a-4e4a-b4c9-a54dab741cb6",
   "metadata": {},
   "outputs": [],
   "source": [
    "import numpy as np\n",
    "import pandas as pd\n",
    "import matplotlib.pyplot as plt\n",
    "from typing import List\n",
    "\n",
    "import wbgapi as wb   # World Bank's data API\n",
    "\n",
    "import scipy.cluster.hierarchy as sch\n",
    "from scipy.cluster.hierarchy import ward\n",
    "\n",
    "from sklearn.cluster import AgglomerativeClustering\n",
    "\n",
    "%matplotlib inline"
   ]
  },
  {
   "cell_type": "markdown",
   "id": "3177af09-e856-45b6-92f6-a984eff3414a",
   "metadata": {
    "jp-MarkdownHeadingCollapsed": true,
    "tags": []
   },
   "source": [
    "## Функции"
   ]
  },
  {
   "cell_type": "code",
   "execution_count": 2,
   "id": "b79f309c-d3fa-47d3-bf76-c718380a9c09",
   "metadata": {},
   "outputs": [],
   "source": [
    "def save_as_xlsx(path: str, sheet_names: List[str], df_list: List[pd.DataFrame]) -> None:\n",
    "    if len(sheet_names) != len(df_list): return\n",
    "\n",
    "    writer = pd.ExcelWriter(path, engine=\"xlsxwriter\")\n",
    "    for i in range(len(sheet_names)):\n",
    "        df_list[i].to_excel(writer, sheet_name=sheet_names[i])\n",
    "    writer.close()"
   ]
  },
  {
   "cell_type": "markdown",
   "id": "ea5a9be3-cf9f-445d-ac26-43be993b8851",
   "metadata": {
    "jp-MarkdownHeadingCollapsed": true,
    "tags": []
   },
   "source": [
    "## Данных"
   ]
  },
  {
   "cell_type": "markdown",
   "id": "35b0af69-b6c2-40dd-9029-4053eb593589",
   "metadata": {},
   "source": [
    "Данные были взяты из API $\\,$ [Всемирного банка](https://data.worldbank.org/indicator)\n",
    "\n",
    "\\[28.09.2022\\]"
   ]
  },
  {
   "cell_type": "markdown",
   "id": "b06d46d9-4451-4303-8731-4d8ad21a7a1b",
   "metadata": {
    "jp-MarkdownHeadingCollapsed": true,
    "tags": []
   },
   "source": [
    "#### Список объединений стран"
   ]
  },
  {
   "cell_type": "code",
   "execution_count": 3,
   "id": "85438fc6-3dcd-4909-93ab-b1002df94b96",
   "metadata": {},
   "outputs": [],
   "source": [
    "with open(\"./data/CountryAlliances\", \"r\") as f:\n",
    "    country_alliances = list(map(lambda x: x[:-1], f.readlines()))"
   ]
  },
  {
   "cell_type": "markdown",
   "id": "b7533e13-fe05-4918-b40e-2683f4b633da",
   "metadata": {
    "jp-MarkdownHeadingCollapsed": true,
    "tags": []
   },
   "source": [
    "#### Темы роста ВВП (%)"
   ]
  },
  {
   "cell_type": "code",
   "execution_count": 4,
   "id": "cd2a7144-3e09-4a14-b0ee-5b467cc38d22",
   "metadata": {},
   "outputs": [
    {
     "data": {
      "text/html": [
       "<div>\n",
       "<style scoped>\n",
       "    .dataframe tbody tr th:only-of-type {\n",
       "        vertical-align: middle;\n",
       "    }\n",
       "\n",
       "    .dataframe tbody tr th {\n",
       "        vertical-align: top;\n",
       "    }\n",
       "\n",
       "    .dataframe thead th {\n",
       "        text-align: right;\n",
       "    }\n",
       "</style>\n",
       "<table border=\"1\" class=\"dataframe\">\n",
       "  <thead>\n",
       "    <tr style=\"text-align: right;\">\n",
       "      <th></th>\n",
       "      <th>Country Name</th>\n",
       "      <th>Country Code</th>\n",
       "      <th>Indicator Name</th>\n",
       "      <th>Indicator Code</th>\n",
       "      <th>1960</th>\n",
       "      <th>1961</th>\n",
       "      <th>1962</th>\n",
       "      <th>1963</th>\n",
       "      <th>1964</th>\n",
       "      <th>1965</th>\n",
       "      <th>...</th>\n",
       "      <th>2012</th>\n",
       "      <th>2013</th>\n",
       "      <th>2014</th>\n",
       "      <th>2015</th>\n",
       "      <th>2016</th>\n",
       "      <th>2017</th>\n",
       "      <th>2018</th>\n",
       "      <th>2019</th>\n",
       "      <th>2020</th>\n",
       "      <th>2021</th>\n",
       "    </tr>\n",
       "  </thead>\n",
       "  <tbody>\n",
       "    <tr>\n",
       "      <th>0</th>\n",
       "      <td>Aruba</td>\n",
       "      <td>ABW</td>\n",
       "      <td>GDP growth (annual %)</td>\n",
       "      <td>NY.GDP.MKTP.KD.ZG</td>\n",
       "      <td>NaN</td>\n",
       "      <td>NaN</td>\n",
       "      <td>NaN</td>\n",
       "      <td>NaN</td>\n",
       "      <td>NaN</td>\n",
       "      <td>NaN</td>\n",
       "      <td>...</td>\n",
       "      <td>-1.035375</td>\n",
       "      <td>6.429817</td>\n",
       "      <td>-0.020479</td>\n",
       "      <td>3.543630</td>\n",
       "      <td>2.116716</td>\n",
       "      <td>5.482371</td>\n",
       "      <td>1.267218</td>\n",
       "      <td>-2.085600</td>\n",
       "      <td>-22.318948</td>\n",
       "      <td>NaN</td>\n",
       "    </tr>\n",
       "    <tr>\n",
       "      <th>1</th>\n",
       "      <td>Afghanistan</td>\n",
       "      <td>AFG</td>\n",
       "      <td>GDP growth (annual %)</td>\n",
       "      <td>NY.GDP.MKTP.KD.ZG</td>\n",
       "      <td>NaN</td>\n",
       "      <td>NaN</td>\n",
       "      <td>NaN</td>\n",
       "      <td>NaN</td>\n",
       "      <td>NaN</td>\n",
       "      <td>NaN</td>\n",
       "      <td>...</td>\n",
       "      <td>12.752287</td>\n",
       "      <td>5.600745</td>\n",
       "      <td>2.724543</td>\n",
       "      <td>1.451315</td>\n",
       "      <td>2.260314</td>\n",
       "      <td>2.647003</td>\n",
       "      <td>1.189228</td>\n",
       "      <td>3.911603</td>\n",
       "      <td>-2.351101</td>\n",
       "      <td>NaN</td>\n",
       "    </tr>\n",
       "    <tr>\n",
       "      <th>2</th>\n",
       "      <td>Angola</td>\n",
       "      <td>AGO</td>\n",
       "      <td>GDP growth (annual %)</td>\n",
       "      <td>NY.GDP.MKTP.KD.ZG</td>\n",
       "      <td>NaN</td>\n",
       "      <td>NaN</td>\n",
       "      <td>NaN</td>\n",
       "      <td>NaN</td>\n",
       "      <td>NaN</td>\n",
       "      <td>NaN</td>\n",
       "      <td>...</td>\n",
       "      <td>8.540000</td>\n",
       "      <td>4.950000</td>\n",
       "      <td>4.820000</td>\n",
       "      <td>0.940000</td>\n",
       "      <td>-2.580000</td>\n",
       "      <td>-0.150000</td>\n",
       "      <td>-1.316312</td>\n",
       "      <td>-0.700000</td>\n",
       "      <td>-5.500000</td>\n",
       "      <td>0.700000</td>\n",
       "    </tr>\n",
       "    <tr>\n",
       "      <th>3</th>\n",
       "      <td>Albania</td>\n",
       "      <td>ALB</td>\n",
       "      <td>GDP growth (annual %)</td>\n",
       "      <td>NY.GDP.MKTP.KD.ZG</td>\n",
       "      <td>NaN</td>\n",
       "      <td>NaN</td>\n",
       "      <td>NaN</td>\n",
       "      <td>NaN</td>\n",
       "      <td>NaN</td>\n",
       "      <td>NaN</td>\n",
       "      <td>...</td>\n",
       "      <td>1.417243</td>\n",
       "      <td>1.002018</td>\n",
       "      <td>1.774449</td>\n",
       "      <td>2.218726</td>\n",
       "      <td>3.314981</td>\n",
       "      <td>3.802227</td>\n",
       "      <td>4.019360</td>\n",
       "      <td>2.088063</td>\n",
       "      <td>-3.481630</td>\n",
       "      <td>8.544083</td>\n",
       "    </tr>\n",
       "    <tr>\n",
       "      <th>4</th>\n",
       "      <td>Andorra</td>\n",
       "      <td>AND</td>\n",
       "      <td>GDP growth (annual %)</td>\n",
       "      <td>NY.GDP.MKTP.KD.ZG</td>\n",
       "      <td>NaN</td>\n",
       "      <td>NaN</td>\n",
       "      <td>NaN</td>\n",
       "      <td>NaN</td>\n",
       "      <td>NaN</td>\n",
       "      <td>NaN</td>\n",
       "      <td>...</td>\n",
       "      <td>-4.974444</td>\n",
       "      <td>-3.547597</td>\n",
       "      <td>2.504466</td>\n",
       "      <td>1.434140</td>\n",
       "      <td>3.709678</td>\n",
       "      <td>0.346072</td>\n",
       "      <td>1.588765</td>\n",
       "      <td>2.015548</td>\n",
       "      <td>-11.183940</td>\n",
       "      <td>8.949418</td>\n",
       "    </tr>\n",
       "  </tbody>\n",
       "</table>\n",
       "<p>5 rows × 66 columns</p>\n",
       "</div>"
      ],
      "text/plain": [
       "  Country Name Country Code         Indicator Name     Indicator Code  1960  \\\n",
       "0        Aruba          ABW  GDP growth (annual %)  NY.GDP.MKTP.KD.ZG   NaN   \n",
       "1  Afghanistan          AFG  GDP growth (annual %)  NY.GDP.MKTP.KD.ZG   NaN   \n",
       "2       Angola          AGO  GDP growth (annual %)  NY.GDP.MKTP.KD.ZG   NaN   \n",
       "3      Albania          ALB  GDP growth (annual %)  NY.GDP.MKTP.KD.ZG   NaN   \n",
       "4      Andorra          AND  GDP growth (annual %)  NY.GDP.MKTP.KD.ZG   NaN   \n",
       "\n",
       "   1961  1962  1963  1964  1965  ...       2012      2013      2014      2015  \\\n",
       "0   NaN   NaN   NaN   NaN   NaN  ...  -1.035375  6.429817 -0.020479  3.543630   \n",
       "1   NaN   NaN   NaN   NaN   NaN  ...  12.752287  5.600745  2.724543  1.451315   \n",
       "2   NaN   NaN   NaN   NaN   NaN  ...   8.540000  4.950000  4.820000  0.940000   \n",
       "3   NaN   NaN   NaN   NaN   NaN  ...   1.417243  1.002018  1.774449  2.218726   \n",
       "4   NaN   NaN   NaN   NaN   NaN  ...  -4.974444 -3.547597  2.504466  1.434140   \n",
       "\n",
       "       2016      2017      2018      2019       2020      2021  \n",
       "0  2.116716  5.482371  1.267218 -2.085600 -22.318948       NaN  \n",
       "1  2.260314  2.647003  1.189228  3.911603  -2.351101       NaN  \n",
       "2 -2.580000 -0.150000 -1.316312 -0.700000  -5.500000  0.700000  \n",
       "3  3.314981  3.802227  4.019360  2.088063  -3.481630  8.544083  \n",
       "4  3.709678  0.346072  1.588765  2.015548 -11.183940  8.949418  \n",
       "\n",
       "[5 rows x 66 columns]"
      ]
     },
     "execution_count": 4,
     "metadata": {},
     "output_type": "execute_result"
    }
   ],
   "source": [
    "df_gdp_growth_data = pd.read_csv(\"./data/GDP_growth.csv\", skiprows=4)\n",
    "df_gdp_growth_data = df_gdp_growth_data.loc[~df_gdp_growth_data[\"Country Name\"].isin(country_alliances)]\n",
    "df_gdp_growth_data.head()\n",
    "\n",
    "# df_gdp_growth_data = wb.data.DataFrame(\"NY.GDP.MKTP.KD.ZG\", labels=True)\n",
    "# df_gdp_growth_data.head()"
   ]
  },
  {
   "cell_type": "markdown",
   "id": "54fd7a0a-afb9-4252-97cb-9971fa7e0b57",
   "metadata": {
    "jp-MarkdownHeadingCollapsed": true,
    "tags": []
   },
   "source": [
    "#### Подушевой ВВП (current US$)"
   ]
  },
  {
   "cell_type": "code",
   "execution_count": 5,
   "id": "e49c3669-bddd-40db-92cf-6284423204ca",
   "metadata": {},
   "outputs": [
    {
     "data": {
      "text/html": [
       "<div>\n",
       "<style scoped>\n",
       "    .dataframe tbody tr th:only-of-type {\n",
       "        vertical-align: middle;\n",
       "    }\n",
       "\n",
       "    .dataframe tbody tr th {\n",
       "        vertical-align: top;\n",
       "    }\n",
       "\n",
       "    .dataframe thead th {\n",
       "        text-align: right;\n",
       "    }\n",
       "</style>\n",
       "<table border=\"1\" class=\"dataframe\">\n",
       "  <thead>\n",
       "    <tr style=\"text-align: right;\">\n",
       "      <th></th>\n",
       "      <th>Country Name</th>\n",
       "      <th>Country Code</th>\n",
       "      <th>Indicator Name</th>\n",
       "      <th>Indicator Code</th>\n",
       "      <th>1960</th>\n",
       "      <th>1961</th>\n",
       "      <th>1962</th>\n",
       "      <th>1963</th>\n",
       "      <th>1964</th>\n",
       "      <th>1965</th>\n",
       "      <th>...</th>\n",
       "      <th>2013</th>\n",
       "      <th>2014</th>\n",
       "      <th>2015</th>\n",
       "      <th>2016</th>\n",
       "      <th>2017</th>\n",
       "      <th>2018</th>\n",
       "      <th>2019</th>\n",
       "      <th>2020</th>\n",
       "      <th>2021</th>\n",
       "      <th>Unnamed: 66</th>\n",
       "    </tr>\n",
       "  </thead>\n",
       "  <tbody>\n",
       "    <tr>\n",
       "      <th>0</th>\n",
       "      <td>Aruba</td>\n",
       "      <td>ABW</td>\n",
       "      <td>GDP per capita (current US$)</td>\n",
       "      <td>NY.GDP.PCAP.CD</td>\n",
       "      <td>NaN</td>\n",
       "      <td>NaN</td>\n",
       "      <td>NaN</td>\n",
       "      <td>NaN</td>\n",
       "      <td>NaN</td>\n",
       "      <td>NaN</td>\n",
       "      <td>...</td>\n",
       "      <td>26442.426801</td>\n",
       "      <td>26895.057167</td>\n",
       "      <td>28399.050131</td>\n",
       "      <td>28453.715565</td>\n",
       "      <td>29348.418969</td>\n",
       "      <td>30253.714235</td>\n",
       "      <td>31135.884356</td>\n",
       "      <td>23384.298791</td>\n",
       "      <td>NaN</td>\n",
       "      <td>NaN</td>\n",
       "    </tr>\n",
       "    <tr>\n",
       "      <th>2</th>\n",
       "      <td>Afghanistan</td>\n",
       "      <td>AFG</td>\n",
       "      <td>GDP per capita (current US$)</td>\n",
       "      <td>NY.GDP.PCAP.CD</td>\n",
       "      <td>59.773234</td>\n",
       "      <td>59.8609</td>\n",
       "      <td>58.458009</td>\n",
       "      <td>78.706429</td>\n",
       "      <td>82.095307</td>\n",
       "      <td>101.108325</td>\n",
       "      <td>...</td>\n",
       "      <td>624.315455</td>\n",
       "      <td>614.223342</td>\n",
       "      <td>556.007221</td>\n",
       "      <td>512.012778</td>\n",
       "      <td>516.679862</td>\n",
       "      <td>485.668419</td>\n",
       "      <td>494.179350</td>\n",
       "      <td>516.747871</td>\n",
       "      <td>NaN</td>\n",
       "      <td>NaN</td>\n",
       "    </tr>\n",
       "    <tr>\n",
       "      <th>4</th>\n",
       "      <td>Angola</td>\n",
       "      <td>AGO</td>\n",
       "      <td>GDP per capita (current US$)</td>\n",
       "      <td>NY.GDP.PCAP.CD</td>\n",
       "      <td>NaN</td>\n",
       "      <td>NaN</td>\n",
       "      <td>NaN</td>\n",
       "      <td>NaN</td>\n",
       "      <td>NaN</td>\n",
       "      <td>NaN</td>\n",
       "      <td>...</td>\n",
       "      <td>5127.717243</td>\n",
       "      <td>5094.112329</td>\n",
       "      <td>3127.890598</td>\n",
       "      <td>1728.023754</td>\n",
       "      <td>2313.220584</td>\n",
       "      <td>2524.942483</td>\n",
       "      <td>2177.799015</td>\n",
       "      <td>1631.431691</td>\n",
       "      <td>2137.909393</td>\n",
       "      <td>NaN</td>\n",
       "    </tr>\n",
       "    <tr>\n",
       "      <th>5</th>\n",
       "      <td>Albania</td>\n",
       "      <td>ALB</td>\n",
       "      <td>GDP per capita (current US$)</td>\n",
       "      <td>NY.GDP.PCAP.CD</td>\n",
       "      <td>NaN</td>\n",
       "      <td>NaN</td>\n",
       "      <td>NaN</td>\n",
       "      <td>NaN</td>\n",
       "      <td>NaN</td>\n",
       "      <td>NaN</td>\n",
       "      <td>...</td>\n",
       "      <td>4413.062005</td>\n",
       "      <td>4578.633208</td>\n",
       "      <td>3952.802538</td>\n",
       "      <td>4124.055390</td>\n",
       "      <td>4531.019374</td>\n",
       "      <td>5287.663694</td>\n",
       "      <td>5396.215864</td>\n",
       "      <td>5332.160475</td>\n",
       "      <td>6494.385713</td>\n",
       "      <td>NaN</td>\n",
       "    </tr>\n",
       "    <tr>\n",
       "      <th>6</th>\n",
       "      <td>Andorra</td>\n",
       "      <td>AND</td>\n",
       "      <td>GDP per capita (current US$)</td>\n",
       "      <td>NY.GDP.PCAP.CD</td>\n",
       "      <td>NaN</td>\n",
       "      <td>NaN</td>\n",
       "      <td>NaN</td>\n",
       "      <td>NaN</td>\n",
       "      <td>NaN</td>\n",
       "      <td>NaN</td>\n",
       "      <td>...</td>\n",
       "      <td>39538.355206</td>\n",
       "      <td>41302.382143</td>\n",
       "      <td>35770.918653</td>\n",
       "      <td>37474.745840</td>\n",
       "      <td>38964.662014</td>\n",
       "      <td>41793.318837</td>\n",
       "      <td>40898.417906</td>\n",
       "      <td>37416.697720</td>\n",
       "      <td>43047.686270</td>\n",
       "      <td>NaN</td>\n",
       "    </tr>\n",
       "  </tbody>\n",
       "</table>\n",
       "<p>5 rows × 67 columns</p>\n",
       "</div>"
      ],
      "text/plain": [
       "  Country Name Country Code                Indicator Name  Indicator Code  \\\n",
       "0        Aruba          ABW  GDP per capita (current US$)  NY.GDP.PCAP.CD   \n",
       "2  Afghanistan          AFG  GDP per capita (current US$)  NY.GDP.PCAP.CD   \n",
       "4       Angola          AGO  GDP per capita (current US$)  NY.GDP.PCAP.CD   \n",
       "5      Albania          ALB  GDP per capita (current US$)  NY.GDP.PCAP.CD   \n",
       "6      Andorra          AND  GDP per capita (current US$)  NY.GDP.PCAP.CD   \n",
       "\n",
       "        1960     1961       1962       1963       1964        1965  ...  \\\n",
       "0        NaN      NaN        NaN        NaN        NaN         NaN  ...   \n",
       "2  59.773234  59.8609  58.458009  78.706429  82.095307  101.108325  ...   \n",
       "4        NaN      NaN        NaN        NaN        NaN         NaN  ...   \n",
       "5        NaN      NaN        NaN        NaN        NaN         NaN  ...   \n",
       "6        NaN      NaN        NaN        NaN        NaN         NaN  ...   \n",
       "\n",
       "           2013          2014          2015          2016          2017  \\\n",
       "0  26442.426801  26895.057167  28399.050131  28453.715565  29348.418969   \n",
       "2    624.315455    614.223342    556.007221    512.012778    516.679862   \n",
       "4   5127.717243   5094.112329   3127.890598   1728.023754   2313.220584   \n",
       "5   4413.062005   4578.633208   3952.802538   4124.055390   4531.019374   \n",
       "6  39538.355206  41302.382143  35770.918653  37474.745840  38964.662014   \n",
       "\n",
       "           2018          2019          2020          2021  Unnamed: 66  \n",
       "0  30253.714235  31135.884356  23384.298791           NaN          NaN  \n",
       "2    485.668419    494.179350    516.747871           NaN          NaN  \n",
       "4   2524.942483   2177.799015   1631.431691   2137.909393          NaN  \n",
       "5   5287.663694   5396.215864   5332.160475   6494.385713          NaN  \n",
       "6  41793.318837  40898.417906  37416.697720  43047.686270          NaN  \n",
       "\n",
       "[5 rows x 67 columns]"
      ]
     },
     "execution_count": 5,
     "metadata": {},
     "output_type": "execute_result"
    }
   ],
   "source": [
    "df_gdp_per_capita_data = pd.read_csv(\"./data/GDP_per_capita_growth.csv\", skiprows=4)\n",
    "df_gdp_per_capita_data = df_gdp_per_capita_data.loc[~df_gdp_per_capita_data[\"Country Name\"].isin(country_alliances)]\n",
    "df_gdp_per_capita_data.head()\n",
    "\n",
    "# df_gdp_per_capita_data = wb.data.DataFrame(\"NY.GDP.PCAP.CD\", labels=True)\n",
    "# df_gdp_per_capita_data.head()"
   ]
  },
  {
   "cell_type": "markdown",
   "id": "4e8f9e28-34b9-4854-bc3e-0e3a62fac187",
   "metadata": {
    "jp-MarkdownHeadingCollapsed": true,
    "tags": []
   },
   "source": [
    "#### Темп инфляции (%)"
   ]
  },
  {
   "cell_type": "code",
   "execution_count": 6,
   "id": "bd092090-9fc5-4ffc-b560-97be3da7303b",
   "metadata": {},
   "outputs": [
    {
     "data": {
      "text/html": [
       "<div>\n",
       "<style scoped>\n",
       "    .dataframe tbody tr th:only-of-type {\n",
       "        vertical-align: middle;\n",
       "    }\n",
       "\n",
       "    .dataframe tbody tr th {\n",
       "        vertical-align: top;\n",
       "    }\n",
       "\n",
       "    .dataframe thead th {\n",
       "        text-align: right;\n",
       "    }\n",
       "</style>\n",
       "<table border=\"1\" class=\"dataframe\">\n",
       "  <thead>\n",
       "    <tr style=\"text-align: right;\">\n",
       "      <th></th>\n",
       "      <th>Country Name</th>\n",
       "      <th>Country Code</th>\n",
       "      <th>Indicator Name</th>\n",
       "      <th>Indicator Code</th>\n",
       "      <th>1960</th>\n",
       "      <th>1961</th>\n",
       "      <th>1962</th>\n",
       "      <th>1963</th>\n",
       "      <th>1964</th>\n",
       "      <th>1965</th>\n",
       "      <th>...</th>\n",
       "      <th>2013</th>\n",
       "      <th>2014</th>\n",
       "      <th>2015</th>\n",
       "      <th>2016</th>\n",
       "      <th>2017</th>\n",
       "      <th>2018</th>\n",
       "      <th>2019</th>\n",
       "      <th>2020</th>\n",
       "      <th>2021</th>\n",
       "      <th>Unnamed: 66</th>\n",
       "    </tr>\n",
       "  </thead>\n",
       "  <tbody>\n",
       "    <tr>\n",
       "      <th>0</th>\n",
       "      <td>Aruba</td>\n",
       "      <td>ABW</td>\n",
       "      <td>Inflation, GDP deflator (annual %)</td>\n",
       "      <td>NY.GDP.DEFL.KD.ZG</td>\n",
       "      <td>NaN</td>\n",
       "      <td>NaN</td>\n",
       "      <td>NaN</td>\n",
       "      <td>NaN</td>\n",
       "      <td>NaN</td>\n",
       "      <td>NaN</td>\n",
       "      <td>...</td>\n",
       "      <td>-1.986755</td>\n",
       "      <td>2.335109</td>\n",
       "      <td>2.531592</td>\n",
       "      <td>-1.389713</td>\n",
       "      <td>-1.753935</td>\n",
       "      <td>2.263271</td>\n",
       "      <td>5.568805</td>\n",
       "      <td>-2.902756</td>\n",
       "      <td>NaN</td>\n",
       "      <td>NaN</td>\n",
       "    </tr>\n",
       "    <tr>\n",
       "      <th>2</th>\n",
       "      <td>Afghanistan</td>\n",
       "      <td>AFG</td>\n",
       "      <td>Inflation, GDP deflator (annual %)</td>\n",
       "      <td>NY.GDP.DEFL.KD.ZG</td>\n",
       "      <td>NaN</td>\n",
       "      <td>NaN</td>\n",
       "      <td>NaN</td>\n",
       "      <td>NaN</td>\n",
       "      <td>NaN</td>\n",
       "      <td>NaN</td>\n",
       "      <td>...</td>\n",
       "      <td>4.822785</td>\n",
       "      <td>0.566945</td>\n",
       "      <td>2.447563</td>\n",
       "      <td>-2.197526</td>\n",
       "      <td>2.403656</td>\n",
       "      <td>2.071349</td>\n",
       "      <td>6.521480</td>\n",
       "      <td>7.821667</td>\n",
       "      <td>NaN</td>\n",
       "      <td>NaN</td>\n",
       "    </tr>\n",
       "    <tr>\n",
       "      <th>4</th>\n",
       "      <td>Angola</td>\n",
       "      <td>AGO</td>\n",
       "      <td>Inflation, GDP deflator (annual %)</td>\n",
       "      <td>NY.GDP.DEFL.KD.ZG</td>\n",
       "      <td>NaN</td>\n",
       "      <td>NaN</td>\n",
       "      <td>NaN</td>\n",
       "      <td>NaN</td>\n",
       "      <td>NaN</td>\n",
       "      <td>NaN</td>\n",
       "      <td>...</td>\n",
       "      <td>2.844244</td>\n",
       "      <td>3.563413</td>\n",
       "      <td>-3.514972</td>\n",
       "      <td>21.774174</td>\n",
       "      <td>22.617936</td>\n",
       "      <td>28.167029</td>\n",
       "      <td>19.184276</td>\n",
       "      <td>18.036768</td>\n",
       "      <td>44.384448</td>\n",
       "      <td>NaN</td>\n",
       "    </tr>\n",
       "    <tr>\n",
       "      <th>5</th>\n",
       "      <td>Albania</td>\n",
       "      <td>ALB</td>\n",
       "      <td>Inflation, GDP deflator (annual %)</td>\n",
       "      <td>NY.GDP.DEFL.KD.ZG</td>\n",
       "      <td>NaN</td>\n",
       "      <td>NaN</td>\n",
       "      <td>NaN</td>\n",
       "      <td>NaN</td>\n",
       "      <td>NaN</td>\n",
       "      <td>NaN</td>\n",
       "      <td>...</td>\n",
       "      <td>0.288746</td>\n",
       "      <td>1.549917</td>\n",
       "      <td>0.563991</td>\n",
       "      <td>-0.632653</td>\n",
       "      <td>1.451063</td>\n",
       "      <td>1.473058</td>\n",
       "      <td>1.256590</td>\n",
       "      <td>0.678486</td>\n",
       "      <td>5.924809</td>\n",
       "      <td>NaN</td>\n",
       "    </tr>\n",
       "    <tr>\n",
       "      <th>6</th>\n",
       "      <td>Andorra</td>\n",
       "      <td>AND</td>\n",
       "      <td>Inflation, GDP deflator (annual %)</td>\n",
       "      <td>NY.GDP.DEFL.KD.ZG</td>\n",
       "      <td>NaN</td>\n",
       "      <td>NaN</td>\n",
       "      <td>NaN</td>\n",
       "      <td>NaN</td>\n",
       "      <td>NaN</td>\n",
       "      <td>NaN</td>\n",
       "      <td>...</td>\n",
       "      <td>0.448492</td>\n",
       "      <td>-0.084019</td>\n",
       "      <td>0.660589</td>\n",
       "      <td>0.347795</td>\n",
       "      <td>1.136509</td>\n",
       "      <td>1.012478</td>\n",
       "      <td>1.374754</td>\n",
       "      <td>1.113786</td>\n",
       "      <td>2.096461</td>\n",
       "      <td>NaN</td>\n",
       "    </tr>\n",
       "  </tbody>\n",
       "</table>\n",
       "<p>5 rows × 67 columns</p>\n",
       "</div>"
      ],
      "text/plain": [
       "  Country Name Country Code                      Indicator Name  \\\n",
       "0        Aruba          ABW  Inflation, GDP deflator (annual %)   \n",
       "2  Afghanistan          AFG  Inflation, GDP deflator (annual %)   \n",
       "4       Angola          AGO  Inflation, GDP deflator (annual %)   \n",
       "5      Albania          ALB  Inflation, GDP deflator (annual %)   \n",
       "6      Andorra          AND  Inflation, GDP deflator (annual %)   \n",
       "\n",
       "      Indicator Code  1960  1961  1962  1963  1964  1965  ...      2013  \\\n",
       "0  NY.GDP.DEFL.KD.ZG   NaN   NaN   NaN   NaN   NaN   NaN  ... -1.986755   \n",
       "2  NY.GDP.DEFL.KD.ZG   NaN   NaN   NaN   NaN   NaN   NaN  ...  4.822785   \n",
       "4  NY.GDP.DEFL.KD.ZG   NaN   NaN   NaN   NaN   NaN   NaN  ...  2.844244   \n",
       "5  NY.GDP.DEFL.KD.ZG   NaN   NaN   NaN   NaN   NaN   NaN  ...  0.288746   \n",
       "6  NY.GDP.DEFL.KD.ZG   NaN   NaN   NaN   NaN   NaN   NaN  ...  0.448492   \n",
       "\n",
       "       2014      2015       2016       2017       2018       2019       2020  \\\n",
       "0  2.335109  2.531592  -1.389713  -1.753935   2.263271   5.568805  -2.902756   \n",
       "2  0.566945  2.447563  -2.197526   2.403656   2.071349   6.521480   7.821667   \n",
       "4  3.563413 -3.514972  21.774174  22.617936  28.167029  19.184276  18.036768   \n",
       "5  1.549917  0.563991  -0.632653   1.451063   1.473058   1.256590   0.678486   \n",
       "6 -0.084019  0.660589   0.347795   1.136509   1.012478   1.374754   1.113786   \n",
       "\n",
       "        2021  Unnamed: 66  \n",
       "0        NaN          NaN  \n",
       "2        NaN          NaN  \n",
       "4  44.384448          NaN  \n",
       "5   5.924809          NaN  \n",
       "6   2.096461          NaN  \n",
       "\n",
       "[5 rows x 67 columns]"
      ]
     },
     "execution_count": 6,
     "metadata": {},
     "output_type": "execute_result"
    }
   ],
   "source": [
    "df_inflation_data = pd.read_csv(\"./data/Inflation.csv\", skiprows=4)\n",
    "df_inflation_data = df_inflation_data.loc[~df_inflation_data[\"Country Name\"].isin(country_alliances)]\n",
    "df_inflation_data.head()\n",
    "\n",
    "# df_inflation_data = wb.data.DataFrame(\"NY.GDP.DEFL.KD.ZG\", labels=True)\n",
    "# df_inflation_data.head()"
   ]
  },
  {
   "cell_type": "markdown",
   "id": "8c434739-eaa9-4e67-8a14-590ef3229496",
   "metadata": {
    "jp-MarkdownHeadingCollapsed": true,
    "tags": []
   },
   "source": [
    "## 2019 год"
   ]
  },
  {
   "cell_type": "markdown",
   "id": "67ed3fa1-6399-42b9-b983-0a8a432333f9",
   "metadata": {
    "jp-MarkdownHeadingCollapsed": true,
    "tags": []
   },
   "source": [
    "### Кластеризация на основании темпов роста ВВП"
   ]
  },
  {
   "cell_type": "markdown",
   "id": "3e9d2ecc-ed1e-4c27-8f2a-b8dbb0d40fbf",
   "metadata": {},
   "source": [
    "Выбираем нужные данные"
   ]
  },
  {
   "cell_type": "code",
   "execution_count": 7,
   "id": "906140c8-ffad-4526-b4c0-4ed6e5c527d2",
   "metadata": {},
   "outputs": [
    {
     "data": {
      "text/html": [
       "<div>\n",
       "<style scoped>\n",
       "    .dataframe tbody tr th:only-of-type {\n",
       "        vertical-align: middle;\n",
       "    }\n",
       "\n",
       "    .dataframe tbody tr th {\n",
       "        vertical-align: top;\n",
       "    }\n",
       "\n",
       "    .dataframe thead th {\n",
       "        text-align: right;\n",
       "    }\n",
       "</style>\n",
       "<table border=\"1\" class=\"dataframe\">\n",
       "  <thead>\n",
       "    <tr style=\"text-align: right;\">\n",
       "      <th></th>\n",
       "      <th>Country Name</th>\n",
       "      <th>GDP Growth</th>\n",
       "    </tr>\n",
       "  </thead>\n",
       "  <tbody>\n",
       "    <tr>\n",
       "      <th>0</th>\n",
       "      <td>Aruba</td>\n",
       "      <td>-2.085600</td>\n",
       "    </tr>\n",
       "    <tr>\n",
       "      <th>1</th>\n",
       "      <td>Afghanistan</td>\n",
       "      <td>3.911603</td>\n",
       "    </tr>\n",
       "    <tr>\n",
       "      <th>2</th>\n",
       "      <td>Angola</td>\n",
       "      <td>-0.700000</td>\n",
       "    </tr>\n",
       "    <tr>\n",
       "      <th>3</th>\n",
       "      <td>Albania</td>\n",
       "      <td>2.088063</td>\n",
       "    </tr>\n",
       "    <tr>\n",
       "      <th>4</th>\n",
       "      <td>Andorra</td>\n",
       "      <td>2.015548</td>\n",
       "    </tr>\n",
       "    <tr>\n",
       "      <th>...</th>\n",
       "      <td>...</td>\n",
       "      <td>...</td>\n",
       "    </tr>\n",
       "    <tr>\n",
       "      <th>212</th>\n",
       "      <td>Kosovo</td>\n",
       "      <td>4.756831</td>\n",
       "    </tr>\n",
       "    <tr>\n",
       "      <th>213</th>\n",
       "      <td>Yemen, Rep.</td>\n",
       "      <td>1.400000</td>\n",
       "    </tr>\n",
       "    <tr>\n",
       "      <th>214</th>\n",
       "      <td>South Africa</td>\n",
       "      <td>0.113054</td>\n",
       "    </tr>\n",
       "    <tr>\n",
       "      <th>215</th>\n",
       "      <td>Zambia</td>\n",
       "      <td>1.441306</td>\n",
       "    </tr>\n",
       "    <tr>\n",
       "      <th>216</th>\n",
       "      <td>Zimbabwe</td>\n",
       "      <td>-6.144236</td>\n",
       "    </tr>\n",
       "  </tbody>\n",
       "</table>\n",
       "<p>205 rows × 2 columns</p>\n",
       "</div>"
      ],
      "text/plain": [
       "     Country Name  GDP Growth\n",
       "0           Aruba   -2.085600\n",
       "1     Afghanistan    3.911603\n",
       "2          Angola   -0.700000\n",
       "3         Albania    2.088063\n",
       "4         Andorra    2.015548\n",
       "..            ...         ...\n",
       "212        Kosovo    4.756831\n",
       "213   Yemen, Rep.    1.400000\n",
       "214  South Africa    0.113054\n",
       "215        Zambia    1.441306\n",
       "216      Zimbabwe   -6.144236\n",
       "\n",
       "[205 rows x 2 columns]"
      ]
     },
     "execution_count": 7,
     "metadata": {},
     "output_type": "execute_result"
    }
   ],
   "source": [
    "df_gdp_growth_2019 = df_gdp_growth_data[[\"Country Name\", \"2019\"]].dropna()\n",
    "df_gdp_growth_2019 = df_gdp_growth_2019.rename({\"2019\": \"GDP Growth\"}, axis=1)\n",
    "df_gdp_growth_2019"
   ]
  },
  {
   "cell_type": "markdown",
   "id": "be18b5ef-0869-428b-8389-595e1cb20e6a",
   "metadata": {},
   "source": [
    "На основании дендрограммы определяем количество кластеров"
   ]
  },
  {
   "cell_type": "code",
   "execution_count": 8,
   "id": "40e58cc0-b5a4-40c1-800e-892e5aeb31a3",
   "metadata": {},
   "outputs": [],
   "source": [
    "number_of_cluster = 5"
   ]
  },
  {
   "cell_type": "code",
   "execution_count": 9,
   "id": "b5f5fdee-dda5-4049-b59c-aad097ace0e9",
   "metadata": {},
   "outputs": [
    {
     "data": {
      "image/png": "[encoded data removed]",
      "text/plain": [
       "<Figure size 432x288 with 1 Axes>"
      ]
     },
     "metadata": {
      "needs_background": "light"
     },
     "output_type": "display_data"
    }
   ],
   "source": [
    "data_2d_gdp_growth_2019 = np.reshape(df_gdp_growth_2019[\"GDP Growth\"].values, (len(df_gdp_growth_2019[\"GDP Growth\"].values), 1))\n",
    "\n",
    "dendrogram = sch.dendrogram(ward(data_2d_gdp_growth_2019))\n",
    "plt.show()"
   ]
  },
  {
   "cell_type": "markdown",
   "id": "1c0e3f96-e2eb-4cde-80d4-019b81f95a05",
   "metadata": {},
   "source": [
    "Кластеризируем данные"
   ]
  },
  {
   "cell_type": "code",
   "execution_count": 10,
   "id": "3aa39611-2285-43c4-b332-395c5dec4378",
   "metadata": {},
   "outputs": [],
   "source": [
    "hc = AgglomerativeClustering(n_clusters=number_of_cluster, affinity=\"euclidean\", linkage=\"ward\")\n",
    "\n",
    "y_hc = hc.fit_predict(data_2d_gdp_growth_2019)"
   ]
  },
  {
   "cell_type": "code",
   "execution_count": 11,
   "id": "baffceb6-e7ab-47cc-a16f-ffe5db2a6689",
   "metadata": {},
   "outputs": [],
   "source": [
    "dict_names_gdp_2019 = {i: [] for i in range(number_of_cluster)}\n",
    "for i in range(len(y_hc)):\n",
    "    dict_names_gdp_2019[y_hc[i]].append(df_gdp_growth_2019[\"Country Name\"].values[i])"
   ]
  },
  {
   "cell_type": "markdown",
   "id": "3bd4d18a-bfbe-4e76-9c5e-df8e1debc267",
   "metadata": {},
   "source": [
    "Название стран в кластерах"
   ]
  },
  {
   "cell_type": "code",
   "execution_count": 12,
   "id": "482f7f44-d1c0-4908-9ba8-083764805bfb",
   "metadata": {},
   "outputs": [],
   "source": [
    "df_names_gdp_2019 = pd.DataFrame.from_dict(dict_names_gdp_2019, orient=\"index\").transpose()"
   ]
  },
  {
   "cell_type": "code",
   "execution_count": 13,
   "id": "4b21df19-07bb-4459-8236-1325e4b8784f",
   "metadata": {},
   "outputs": [
    {
     "data": {
      "text/html": [
       "<div>\n",
       "<style scoped>\n",
       "    .dataframe tbody tr th:only-of-type {\n",
       "        vertical-align: middle;\n",
       "    }\n",
       "\n",
       "    .dataframe tbody tr th {\n",
       "        vertical-align: top;\n",
       "    }\n",
       "\n",
       "    .dataframe thead th {\n",
       "        text-align: right;\n",
       "    }\n",
       "</style>\n",
       "<table border=\"1\" class=\"dataframe\">\n",
       "  <thead>\n",
       "    <tr style=\"text-align: right;\">\n",
       "      <th></th>\n",
       "      <th>0</th>\n",
       "      <th>1</th>\n",
       "      <th>2</th>\n",
       "      <th>3</th>\n",
       "      <th>4</th>\n",
       "    </tr>\n",
       "  </thead>\n",
       "  <tbody>\n",
       "    <tr>\n",
       "      <th>0</th>\n",
       "      <td>Aruba</td>\n",
       "      <td>Armenia</td>\n",
       "      <td>Equatorial Guinea</td>\n",
       "      <td>Afghanistan</td>\n",
       "      <td>Timor-Leste</td>\n",
       "    </tr>\n",
       "    <tr>\n",
       "      <th>1</th>\n",
       "      <td>Angola</td>\n",
       "      <td>Antigua and Barbuda</td>\n",
       "      <td>Lebanon</td>\n",
       "      <td>Albania</td>\n",
       "      <td>Tuvalu</td>\n",
       "    </tr>\n",
       "    <tr>\n",
       "      <th>2</th>\n",
       "      <td>Argentina</td>\n",
       "      <td>Benin</td>\n",
       "      <td>Libya</td>\n",
       "      <td>Andorra</td>\n",
       "      <td>None</td>\n",
       "    </tr>\n",
       "    <tr>\n",
       "      <th>3</th>\n",
       "      <td>American Samoa</td>\n",
       "      <td>Burkina Faso</td>\n",
       "      <td>Northern Mariana Islands</td>\n",
       "      <td>United Arab Emirates</td>\n",
       "      <td>None</td>\n",
       "    </tr>\n",
       "    <tr>\n",
       "      <th>4</th>\n",
       "      <td>Austria</td>\n",
       "      <td>Bangladesh</td>\n",
       "      <td>Zimbabwe</td>\n",
       "      <td>Australia</td>\n",
       "      <td>None</td>\n",
       "    </tr>\n",
       "  </tbody>\n",
       "</table>\n",
       "</div>"
      ],
      "text/plain": [
       "                0                    1                         2  \\\n",
       "0           Aruba              Armenia         Equatorial Guinea   \n",
       "1          Angola  Antigua and Barbuda                   Lebanon   \n",
       "2       Argentina                Benin                     Libya   \n",
       "3  American Samoa         Burkina Faso  Northern Mariana Islands   \n",
       "4         Austria           Bangladesh                  Zimbabwe   \n",
       "\n",
       "                      3            4  \n",
       "0           Afghanistan  Timor-Leste  \n",
       "1               Albania       Tuvalu  \n",
       "2               Andorra         None  \n",
       "3  United Arab Emirates         None  \n",
       "4             Australia         None  "
      ]
     },
     "execution_count": 13,
     "metadata": {},
     "output_type": "execute_result"
    }
   ],
   "source": [
    "df_names_gdp_2019.head()"
   ]
  },
  {
   "cell_type": "markdown",
   "id": "b63f8546-ca0c-4e15-831d-7039bebd3339",
   "metadata": {},
   "source": [
    "Значения темпов роста ВВП в кластерах"
   ]
  },
  {
   "cell_type": "code",
   "execution_count": 14,
   "id": "ec4815f7-d89b-4a49-b73f-02a858ceebf2",
   "metadata": {},
   "outputs": [],
   "source": [
    "dict_vals_gdp_2019 = {i: [df_gdp_growth_2019.loc[df_gdp_growth_2019[\"Country Name\"] == df_names_gdp_2019[i][j]][\"GDP Growth\"].values[0] for j in range(len(df_names_gdp_2019[i].dropna()))] for i in range(number_of_cluster)}"
   ]
  },
  {
   "cell_type": "code",
   "execution_count": 15,
   "id": "e4f87aec-7359-474a-b24a-05925e53d78c",
   "metadata": {},
   "outputs": [],
   "source": [
    "df_vals_gdp_2019 = pd.DataFrame.from_dict(dict_vals_gdp_2019, orient=\"index\").transpose()"
   ]
  },
  {
   "cell_type": "code",
   "execution_count": 16,
   "id": "bf1d3beb-ebef-4c75-bbb8-6aca7bf136d5",
   "metadata": {},
   "outputs": [
    {
     "data": {
      "text/html": [
       "<div>\n",
       "<style scoped>\n",
       "    .dataframe tbody tr th:only-of-type {\n",
       "        vertical-align: middle;\n",
       "    }\n",
       "\n",
       "    .dataframe tbody tr th {\n",
       "        vertical-align: top;\n",
       "    }\n",
       "\n",
       "    .dataframe thead th {\n",
       "        text-align: right;\n",
       "    }\n",
       "</style>\n",
       "<table border=\"1\" class=\"dataframe\">\n",
       "  <thead>\n",
       "    <tr style=\"text-align: right;\">\n",
       "      <th></th>\n",
       "      <th>0</th>\n",
       "      <th>1</th>\n",
       "      <th>2</th>\n",
       "      <th>3</th>\n",
       "      <th>4</th>\n",
       "    </tr>\n",
       "  </thead>\n",
       "  <tbody>\n",
       "    <tr>\n",
       "      <th>0</th>\n",
       "      <td>-2.085600</td>\n",
       "      <td>7.600000</td>\n",
       "      <td>-5.481823</td>\n",
       "      <td>3.911603</td>\n",
       "      <td>19.535810</td>\n",
       "    </tr>\n",
       "    <tr>\n",
       "      <th>1</th>\n",
       "      <td>-0.700000</td>\n",
       "      <td>4.862236</td>\n",
       "      <td>-6.914925</td>\n",
       "      <td>2.088063</td>\n",
       "      <td>13.793103</td>\n",
       "    </tr>\n",
       "    <tr>\n",
       "      <th>2</th>\n",
       "      <td>-2.025934</td>\n",
       "      <td>6.865687</td>\n",
       "      <td>-11.195695</td>\n",
       "      <td>2.015548</td>\n",
       "      <td>NaN</td>\n",
       "    </tr>\n",
       "    <tr>\n",
       "      <th>3</th>\n",
       "      <td>-0.487805</td>\n",
       "      <td>5.688115</td>\n",
       "      <td>-11.142587</td>\n",
       "      <td>3.411539</td>\n",
       "      <td>NaN</td>\n",
       "    </tr>\n",
       "    <tr>\n",
       "      <th>4</th>\n",
       "      <td>1.491211</td>\n",
       "      <td>7.881915</td>\n",
       "      <td>-6.144236</td>\n",
       "      <td>2.113149</td>\n",
       "      <td>NaN</td>\n",
       "    </tr>\n",
       "  </tbody>\n",
       "</table>\n",
       "</div>"
      ],
      "text/plain": [
       "          0         1          2         3          4\n",
       "0 -2.085600  7.600000  -5.481823  3.911603  19.535810\n",
       "1 -0.700000  4.862236  -6.914925  2.088063  13.793103\n",
       "2 -2.025934  6.865687 -11.195695  2.015548        NaN\n",
       "3 -0.487805  5.688115 -11.142587  3.411539        NaN\n",
       "4  1.491211  7.881915  -6.144236  2.113149        NaN"
      ]
     },
     "execution_count": 16,
     "metadata": {},
     "output_type": "execute_result"
    }
   ],
   "source": [
    "df_vals_gdp_2019.head()"
   ]
  },
  {
   "cell_type": "markdown",
   "id": "b1512d9c-55d6-4038-931c-eee355a858d0",
   "metadata": {},
   "source": [
    "Минимум, максимум, среднее"
   ]
  },
  {
   "cell_type": "code",
   "execution_count": 17,
   "id": "c88c444f-72c6-4bf5-a383-a7a1810dd6ea",
   "metadata": {},
   "outputs": [
    {
     "data": {
      "text/html": [
       "<div>\n",
       "<style scoped>\n",
       "    .dataframe tbody tr th:only-of-type {\n",
       "        vertical-align: middle;\n",
       "    }\n",
       "\n",
       "    .dataframe tbody tr th {\n",
       "        vertical-align: top;\n",
       "    }\n",
       "\n",
       "    .dataframe thead th {\n",
       "        text-align: right;\n",
       "    }\n",
       "</style>\n",
       "<table border=\"1\" class=\"dataframe\">\n",
       "  <thead>\n",
       "    <tr style=\"text-align: right;\">\n",
       "      <th></th>\n",
       "      <th>0</th>\n",
       "      <th>1</th>\n",
       "      <th>2</th>\n",
       "      <th>3</th>\n",
       "      <th>4</th>\n",
       "    </tr>\n",
       "  </thead>\n",
       "  <tbody>\n",
       "    <tr>\n",
       "      <th>count</th>\n",
       "      <td>57.000000</td>\n",
       "      <td>64.000000</td>\n",
       "      <td>5.000000</td>\n",
       "      <td>77.000000</td>\n",
       "      <td>2.000000</td>\n",
       "    </tr>\n",
       "    <tr>\n",
       "      <th>min</th>\n",
       "      <td>-3.779889</td>\n",
       "      <td>4.331735</td>\n",
       "      <td>-11.195695</td>\n",
       "      <td>1.671944</td>\n",
       "      <td>13.793103</td>\n",
       "    </tr>\n",
       "    <tr>\n",
       "      <th>max</th>\n",
       "      <td>1.491211</td>\n",
       "      <td>9.460598</td>\n",
       "      <td>-5.481823</td>\n",
       "      <td>4.188260</td>\n",
       "      <td>19.535810</td>\n",
       "    </tr>\n",
       "    <tr>\n",
       "      <th>mean</th>\n",
       "      <td>-0.090235</td>\n",
       "      <td>5.739661</td>\n",
       "      <td>-8.175853</td>\n",
       "      <td>2.740411</td>\n",
       "      <td>16.664457</td>\n",
       "    </tr>\n",
       "  </tbody>\n",
       "</table>\n",
       "</div>"
      ],
      "text/plain": [
       "               0          1          2          3          4\n",
       "count  57.000000  64.000000   5.000000  77.000000   2.000000\n",
       "min    -3.779889   4.331735 -11.195695   1.671944  13.793103\n",
       "max     1.491211   9.460598  -5.481823   4.188260  19.535810\n",
       "mean   -0.090235   5.739661  -8.175853   2.740411  16.664457"
      ]
     },
     "execution_count": 17,
     "metadata": {},
     "output_type": "execute_result"
    }
   ],
   "source": [
    "aggrigate = {i: [\"count\", \"min\", \"max\", \"mean\"] for i in range(number_of_cluster)}\n",
    "df_vals_gdp_2019.agg(aggrigate)"
   ]
  },
  {
   "cell_type": "markdown",
   "id": "5de71398-9c3a-40bd-861e-b9d2ade8e04d",
   "metadata": {},
   "source": [
    "Записываем получившиеся результаты в `excel`-файл"
   ]
  },
  {
   "cell_type": "code",
   "execution_count": 18,
   "id": "884215bb-0a0e-482f-99b1-4f3b5cb0bf6e",
   "metadata": {},
   "outputs": [],
   "source": [
    "save_as_xlsx(\"./results/gdp_growth_2019.xlsx\",\n",
    "             [\"Country Names\", \"GDP growth\"],\n",
    "             [df_names_gdp_2019, df_vals_gdp_2019])"
   ]
  },
  {
   "cell_type": "markdown",
   "id": "1500196d-d6ef-45ae-9799-bda0d11170c0",
   "metadata": {
    "jp-MarkdownHeadingCollapsed": true,
    "tags": []
   },
   "source": [
    "### Кластеризация на основании подушевого ВВП, темпов роста ВВП"
   ]
  },
  {
   "cell_type": "markdown",
   "id": "6796c20e-60dd-450b-bbe7-89a2ffec1e79",
   "metadata": {},
   "source": [
    "Выбираем нужные данные"
   ]
  },
  {
   "cell_type": "code",
   "execution_count": 19,
   "id": "8e1fea42-7b12-4510-b0f2-dd9eba7a31e5",
   "metadata": {},
   "outputs": [
    {
     "data": {
      "text/html": [
       "<div>\n",
       "<style scoped>\n",
       "    .dataframe tbody tr th:only-of-type {\n",
       "        vertical-align: middle;\n",
       "    }\n",
       "\n",
       "    .dataframe tbody tr th {\n",
       "        vertical-align: top;\n",
       "    }\n",
       "\n",
       "    .dataframe thead th {\n",
       "        text-align: right;\n",
       "    }\n",
       "</style>\n",
       "<table border=\"1\" class=\"dataframe\">\n",
       "  <thead>\n",
       "    <tr style=\"text-align: right;\">\n",
       "      <th></th>\n",
       "      <th>Country Name</th>\n",
       "      <th>GDP per capita</th>\n",
       "    </tr>\n",
       "  </thead>\n",
       "  <tbody>\n",
       "    <tr>\n",
       "      <th>0</th>\n",
       "      <td>Aruba</td>\n",
       "      <td>31135.884356</td>\n",
       "    </tr>\n",
       "    <tr>\n",
       "      <th>2</th>\n",
       "      <td>Afghanistan</td>\n",
       "      <td>494.179350</td>\n",
       "    </tr>\n",
       "    <tr>\n",
       "      <th>4</th>\n",
       "      <td>Angola</td>\n",
       "      <td>2177.799015</td>\n",
       "    </tr>\n",
       "    <tr>\n",
       "      <th>5</th>\n",
       "      <td>Albania</td>\n",
       "      <td>5396.215864</td>\n",
       "    </tr>\n",
       "    <tr>\n",
       "      <th>6</th>\n",
       "      <td>Andorra</td>\n",
       "      <td>40898.417906</td>\n",
       "    </tr>\n",
       "  </tbody>\n",
       "</table>\n",
       "</div>"
      ],
      "text/plain": [
       "  Country Name  GDP per capita\n",
       "0        Aruba    31135.884356\n",
       "2  Afghanistan      494.179350\n",
       "4       Angola     2177.799015\n",
       "5      Albania     5396.215864\n",
       "6      Andorra    40898.417906"
      ]
     },
     "execution_count": 19,
     "metadata": {},
     "output_type": "execute_result"
    }
   ],
   "source": [
    "df_gdp_per_capita_2019 = df_gdp_per_capita_data[[\"Country Name\", \"2019\"]].dropna()\n",
    "df_gdp_per_capita_2019 = df_gdp_per_capita_2019.rename({\"2019\": \"GDP per capita\"}, axis=1)\n",
    "df_gdp_per_capita_2019.head()"
   ]
  },
  {
   "cell_type": "code",
   "execution_count": 20,
   "id": "87ca229a-b920-40d8-9d80-2e09599bd81b",
   "metadata": {},
   "outputs": [
    {
     "data": {
      "text/html": [
       "<div>\n",
       "<style scoped>\n",
       "    .dataframe tbody tr th:only-of-type {\n",
       "        vertical-align: middle;\n",
       "    }\n",
       "\n",
       "    .dataframe tbody tr th {\n",
       "        vertical-align: top;\n",
       "    }\n",
       "\n",
       "    .dataframe thead th {\n",
       "        text-align: right;\n",
       "    }\n",
       "</style>\n",
       "<table border=\"1\" class=\"dataframe\">\n",
       "  <thead>\n",
       "    <tr style=\"text-align: right;\">\n",
       "      <th></th>\n",
       "      <th>Country Name</th>\n",
       "      <th>GDP Growth</th>\n",
       "      <th>GDP per capita</th>\n",
       "    </tr>\n",
       "  </thead>\n",
       "  <tbody>\n",
       "    <tr>\n",
       "      <th>0</th>\n",
       "      <td>Aruba</td>\n",
       "      <td>-2.085600</td>\n",
       "      <td>31135.884356</td>\n",
       "    </tr>\n",
       "    <tr>\n",
       "      <th>1</th>\n",
       "      <td>Afghanistan</td>\n",
       "      <td>3.911603</td>\n",
       "      <td>494.179350</td>\n",
       "    </tr>\n",
       "    <tr>\n",
       "      <th>2</th>\n",
       "      <td>Angola</td>\n",
       "      <td>-0.700000</td>\n",
       "      <td>2177.799015</td>\n",
       "    </tr>\n",
       "    <tr>\n",
       "      <th>3</th>\n",
       "      <td>Albania</td>\n",
       "      <td>2.088063</td>\n",
       "      <td>5396.215864</td>\n",
       "    </tr>\n",
       "    <tr>\n",
       "      <th>4</th>\n",
       "      <td>Andorra</td>\n",
       "      <td>2.015548</td>\n",
       "      <td>40898.417906</td>\n",
       "    </tr>\n",
       "  </tbody>\n",
       "</table>\n",
       "</div>"
      ],
      "text/plain": [
       "  Country Name  GDP Growth  GDP per capita\n",
       "0        Aruba   -2.085600    31135.884356\n",
       "1  Afghanistan    3.911603      494.179350\n",
       "2       Angola   -0.700000     2177.799015\n",
       "3      Albania    2.088063     5396.215864\n",
       "4      Andorra    2.015548    40898.417906"
      ]
     },
     "execution_count": 20,
     "metadata": {},
     "output_type": "execute_result"
    }
   ],
   "source": [
    "df_gdp_per_capita_gdp_growth_2019 = pd.merge(df_gdp_growth_2019, df_gdp_per_capita_2019, left_on=\"Country Name\", right_on=\"Country Name\", how=\"left\")\n",
    "df_gdp_per_capita_gdp_growth_2019.head()"
   ]
  },
  {
   "cell_type": "code",
   "execution_count": 21,
   "id": "293582cf-e119-41c8-9104-87a4e613193d",
   "metadata": {},
   "outputs": [],
   "source": [
    "data_gdp_per_capita_gdp_growth_2019 = df_gdp_per_capita_gdp_growth_2019.loc[:, \"GDP Growth\":\"GDP per capita\"].values"
   ]
  },
  {
   "cell_type": "markdown",
   "id": "b5151ed9-09d3-4647-8c16-982e62ac3978",
   "metadata": {},
   "source": [
    "Стандартизация показателей"
   ]
  },
  {
   "cell_type": "code",
   "execution_count": 22,
   "id": "53fe3bb0-178f-42cf-9b26-8b0a64e53f60",
   "metadata": {},
   "outputs": [],
   "source": [
    "data_gdp_per_capita_gdp_growth_2019_std = (data_gdp_per_capita_gdp_growth_2019 - data_gdp_per_capita_gdp_growth_2019.mean()) / data_gdp_per_capita_gdp_growth_2019.std()"
   ]
  },
  {
   "cell_type": "markdown",
   "id": "cf3dbd6f-8a36-4095-b1b8-ced025159881",
   "metadata": {},
   "source": [
    "На основании дендрограммы определяем количество кластеров"
   ]
  },
  {
   "cell_type": "code",
   "execution_count": 23,
   "id": "e86731c3-5270-4380-8d59-565568adb100",
   "metadata": {},
   "outputs": [],
   "source": [
    "number_of_cluster = 5"
   ]
  },
  {
   "cell_type": "code",
   "execution_count": 24,
   "id": "f0b8ba4c-d3fd-42c5-bc73-85d366375002",
   "metadata": {},
   "outputs": [
    {
     "data": {
      "image/png": "[encoded data removed]",
      "text/plain": [
       "<Figure size 432x288 with 1 Axes>"
      ]
     },
     "metadata": {
      "needs_background": "light"
     },
     "output_type": "display_data"
    }
   ],
   "source": [
    "dendrogram = sch.dendrogram(ward(data_gdp_per_capita_gdp_growth_2019_std))\n",
    "plt.show()"
   ]
  },
  {
   "cell_type": "markdown",
   "id": "752bc8bc-1326-4727-b4e5-932c828813d0",
   "metadata": {},
   "source": [
    "Кластеризируем данные"
   ]
  },
  {
   "cell_type": "code",
   "execution_count": 25,
   "id": "4bacae0a-15cb-44f6-9cb3-e78a802a2a15",
   "metadata": {},
   "outputs": [],
   "source": [
    "hc = AgglomerativeClustering(n_clusters=number_of_cluster, affinity=\"euclidean\", linkage=\"ward\")\n",
    "\n",
    "y_hc = hc.fit_predict(data_gdp_per_capita_gdp_growth_2019_std)"
   ]
  },
  {
   "cell_type": "code",
   "execution_count": 26,
   "id": "b9c7c39e-fa08-4226-b0cb-6f66360bed90",
   "metadata": {},
   "outputs": [],
   "source": [
    "dict_names = {i: [] for i in range(number_of_cluster)}\n",
    "for i in range(len(y_hc)):\n",
    "    dict_names[y_hc[i]].append(df_gdp_per_capita_gdp_growth_2019[\"Country Name\"].values[i])"
   ]
  },
  {
   "cell_type": "markdown",
   "id": "0e4fa47c-f1b8-4a49-b709-3d852935f528",
   "metadata": {},
   "source": [
    "Название стран в кластерах"
   ]
  },
  {
   "cell_type": "code",
   "execution_count": 27,
   "id": "70ec7bc1-edd3-4d98-a030-397d043a1b57",
   "metadata": {},
   "outputs": [],
   "source": [
    "df_names_gdp_capita_2019 = pd.DataFrame.from_dict(dict_names, orient=\"index\")\n",
    "df_names_gdp_capita_2019 = df_names_gdp_capita_2019.transpose()"
   ]
  },
  {
   "cell_type": "code",
   "execution_count": 28,
   "id": "a45f6066-6089-4b4d-9b6c-0e300015b10d",
   "metadata": {},
   "outputs": [
    {
     "data": {
      "text/html": [
       "<div>\n",
       "<style scoped>\n",
       "    .dataframe tbody tr th:only-of-type {\n",
       "        vertical-align: middle;\n",
       "    }\n",
       "\n",
       "    .dataframe tbody tr th {\n",
       "        vertical-align: top;\n",
       "    }\n",
       "\n",
       "    .dataframe thead th {\n",
       "        text-align: right;\n",
       "    }\n",
       "</style>\n",
       "<table border=\"1\" class=\"dataframe\">\n",
       "  <thead>\n",
       "    <tr style=\"text-align: right;\">\n",
       "      <th></th>\n",
       "      <th>0</th>\n",
       "      <th>1</th>\n",
       "      <th>2</th>\n",
       "      <th>3</th>\n",
       "      <th>4</th>\n",
       "    </tr>\n",
       "  </thead>\n",
       "  <tbody>\n",
       "    <tr>\n",
       "      <th>0</th>\n",
       "      <td>Bermuda</td>\n",
       "      <td>Aruba</td>\n",
       "      <td>Afghanistan</td>\n",
       "      <td>Monaco</td>\n",
       "      <td>Andorra</td>\n",
       "    </tr>\n",
       "    <tr>\n",
       "      <th>1</th>\n",
       "      <td>Switzerland</td>\n",
       "      <td>Antigua and Barbuda</td>\n",
       "      <td>Angola</td>\n",
       "      <td>None</td>\n",
       "      <td>United Arab Emirates</td>\n",
       "    </tr>\n",
       "    <tr>\n",
       "      <th>2</th>\n",
       "      <td>Cayman Islands</td>\n",
       "      <td>Bahrain</td>\n",
       "      <td>Albania</td>\n",
       "      <td>None</td>\n",
       "      <td>Australia</td>\n",
       "    </tr>\n",
       "    <tr>\n",
       "      <th>3</th>\n",
       "      <td>Denmark</td>\n",
       "      <td>Bahamas, The</td>\n",
       "      <td>Argentina</td>\n",
       "      <td>None</td>\n",
       "      <td>Austria</td>\n",
       "    </tr>\n",
       "    <tr>\n",
       "      <th>4</th>\n",
       "      <td>Isle of Man</td>\n",
       "      <td>Barbados</td>\n",
       "      <td>Armenia</td>\n",
       "      <td>None</td>\n",
       "      <td>Belgium</td>\n",
       "    </tr>\n",
       "  </tbody>\n",
       "</table>\n",
       "</div>"
      ],
      "text/plain": [
       "                0                    1            2       3  \\\n",
       "0         Bermuda                Aruba  Afghanistan  Monaco   \n",
       "1     Switzerland  Antigua and Barbuda       Angola    None   \n",
       "2  Cayman Islands              Bahrain      Albania    None   \n",
       "3         Denmark         Bahamas, The    Argentina    None   \n",
       "4     Isle of Man             Barbados      Armenia    None   \n",
       "\n",
       "                      4  \n",
       "0               Andorra  \n",
       "1  United Arab Emirates  \n",
       "2             Australia  \n",
       "3               Austria  \n",
       "4               Belgium  "
      ]
     },
     "execution_count": 28,
     "metadata": {},
     "output_type": "execute_result"
    }
   ],
   "source": [
    "df_names_gdp_capita_2019.head()"
   ]
  },
  {
   "cell_type": "markdown",
   "id": "d62f1654-f4b1-431b-ab17-742b1ca4f138",
   "metadata": {},
   "source": [
    "Значения темпов роста ВВП в кластерах"
   ]
  },
  {
   "cell_type": "code",
   "execution_count": 29,
   "id": "1cd8e4c2-24c9-41d8-8eef-83be6a64f415",
   "metadata": {},
   "outputs": [],
   "source": [
    "dict_gdp = {i: [df_gdp_per_capita_gdp_growth_2019.loc[df_gdp_per_capita_gdp_growth_2019[\"Country Name\"] == df_names_gdp_capita_2019[i][j]][\"GDP Growth\"].values[0] for j in range(len(df_names_gdp_capita_2019[i].dropna()))] for i in range(number_of_cluster)}"
   ]
  },
  {
   "cell_type": "code",
   "execution_count": 30,
   "id": "a7f57c7f-db89-4dfd-87cd-8f0895817810",
   "metadata": {},
   "outputs": [],
   "source": [
    "df_vals_gdp_per_capita_2019 = pd.DataFrame.from_dict(dict_gdp, orient=\"index\").transpose()"
   ]
  },
  {
   "cell_type": "code",
   "execution_count": 31,
   "id": "b76bbc28-6160-4ae4-b600-b3a4b0234734",
   "metadata": {},
   "outputs": [
    {
     "data": {
      "text/html": [
       "<div>\n",
       "<style scoped>\n",
       "    .dataframe tbody tr th:only-of-type {\n",
       "        vertical-align: middle;\n",
       "    }\n",
       "\n",
       "    .dataframe tbody tr th {\n",
       "        vertical-align: top;\n",
       "    }\n",
       "\n",
       "    .dataframe thead th {\n",
       "        text-align: right;\n",
       "    }\n",
       "</style>\n",
       "<table border=\"1\" class=\"dataframe\">\n",
       "  <thead>\n",
       "    <tr style=\"text-align: right;\">\n",
       "      <th></th>\n",
       "      <th>0</th>\n",
       "      <th>1</th>\n",
       "      <th>2</th>\n",
       "      <th>3</th>\n",
       "      <th>4</th>\n",
       "    </tr>\n",
       "  </thead>\n",
       "  <tbody>\n",
       "    <tr>\n",
       "      <th>0</th>\n",
       "      <td>0.306267</td>\n",
       "      <td>-2.085600</td>\n",
       "      <td>3.911603</td>\n",
       "      <td>6.905665</td>\n",
       "      <td>2.015548</td>\n",
       "    </tr>\n",
       "    <tr>\n",
       "      <th>1</th>\n",
       "      <td>1.210992</td>\n",
       "      <td>4.862236</td>\n",
       "      <td>-0.700000</td>\n",
       "      <td>NaN</td>\n",
       "      <td>3.411539</td>\n",
       "    </tr>\n",
       "    <tr>\n",
       "      <th>2</th>\n",
       "      <td>3.873077</td>\n",
       "      <td>2.166965</td>\n",
       "      <td>2.088063</td>\n",
       "      <td>NaN</td>\n",
       "      <td>2.113149</td>\n",
       "    </tr>\n",
       "    <tr>\n",
       "      <th>3</th>\n",
       "      <td>2.114664</td>\n",
       "      <td>1.896164</td>\n",
       "      <td>-2.025934</td>\n",
       "      <td>NaN</td>\n",
       "      <td>1.491211</td>\n",
       "    </tr>\n",
       "    <tr>\n",
       "      <th>4</th>\n",
       "      <td>0.254861</td>\n",
       "      <td>-0.610275</td>\n",
       "      <td>7.600000</td>\n",
       "      <td>NaN</td>\n",
       "      <td>2.111532</td>\n",
       "    </tr>\n",
       "  </tbody>\n",
       "</table>\n",
       "</div>"
      ],
      "text/plain": [
       "          0         1         2         3         4\n",
       "0  0.306267 -2.085600  3.911603  6.905665  2.015548\n",
       "1  1.210992  4.862236 -0.700000       NaN  3.411539\n",
       "2  3.873077  2.166965  2.088063       NaN  2.113149\n",
       "3  2.114664  1.896164 -2.025934       NaN  1.491211\n",
       "4  0.254861 -0.610275  7.600000       NaN  2.111532"
      ]
     },
     "execution_count": 31,
     "metadata": {},
     "output_type": "execute_result"
    }
   ],
   "source": [
    "df_vals_gdp_per_capita_2019.head()"
   ]
  },
  {
   "cell_type": "markdown",
   "id": "6146a16a-a717-4d72-a701-64859bd0037f",
   "metadata": {},
   "source": [
    "Минимум, максимум, среднее значения темпов роста ВВП в кластерах"
   ]
  },
  {
   "cell_type": "code",
   "execution_count": 32,
   "id": "1e86970a-a0e7-4522-b75f-a27b950fc654",
   "metadata": {},
   "outputs": [
    {
     "data": {
      "text/html": [
       "<div>\n",
       "<style scoped>\n",
       "    .dataframe tbody tr th:only-of-type {\n",
       "        vertical-align: middle;\n",
       "    }\n",
       "\n",
       "    .dataframe tbody tr th {\n",
       "        vertical-align: top;\n",
       "    }\n",
       "\n",
       "    .dataframe thead th {\n",
       "        text-align: right;\n",
       "    }\n",
       "</style>\n",
       "<table border=\"1\" class=\"dataframe\">\n",
       "  <thead>\n",
       "    <tr style=\"text-align: right;\">\n",
       "      <th></th>\n",
       "      <th>0</th>\n",
       "      <th>1</th>\n",
       "      <th>2</th>\n",
       "      <th>3</th>\n",
       "      <th>4</th>\n",
       "    </tr>\n",
       "  </thead>\n",
       "  <tbody>\n",
       "    <tr>\n",
       "      <th>count</th>\n",
       "      <td>14.000000</td>\n",
       "      <td>37.000000</td>\n",
       "      <td>133.000000</td>\n",
       "      <td>1.000000</td>\n",
       "      <td>20.000000</td>\n",
       "    </tr>\n",
       "    <tr>\n",
       "      <th>min</th>\n",
       "      <td>-2.511980</td>\n",
       "      <td>-11.142587</td>\n",
       "      <td>-11.195695</td>\n",
       "      <td>6.905665</td>\n",
       "      <td>-1.678267</td>\n",
       "    </tr>\n",
       "    <tr>\n",
       "      <th>max</th>\n",
       "      <td>4.917007</td>\n",
       "      <td>5.861136</td>\n",
       "      <td>19.535810</td>\n",
       "      <td>6.905665</td>\n",
       "      <td>3.773590</td>\n",
       "    </tr>\n",
       "    <tr>\n",
       "      <th>mean</th>\n",
       "      <td>1.646049</td>\n",
       "      <td>1.817608</td>\n",
       "      <td>3.248102</td>\n",
       "      <td>6.905665</td>\n",
       "      <td>1.822838</td>\n",
       "    </tr>\n",
       "  </tbody>\n",
       "</table>\n",
       "</div>"
      ],
      "text/plain": [
       "               0          1           2         3          4\n",
       "count  14.000000  37.000000  133.000000  1.000000  20.000000\n",
       "min    -2.511980 -11.142587  -11.195695  6.905665  -1.678267\n",
       "max     4.917007   5.861136   19.535810  6.905665   3.773590\n",
       "mean    1.646049   1.817608    3.248102  6.905665   1.822838"
      ]
     },
     "execution_count": 32,
     "metadata": {},
     "output_type": "execute_result"
    }
   ],
   "source": [
    "aggrigate = {i: [\"count\", \"min\", \"max\", \"mean\"] for i in range(number_of_cluster)}\n",
    "df_vals_gdp_per_capita_2019.agg(aggrigate)"
   ]
  },
  {
   "cell_type": "markdown",
   "id": "27c376b5-6563-420c-89bf-3a9308475e87",
   "metadata": {},
   "source": [
    "Значения подушевого ВВП в кластерах"
   ]
  },
  {
   "cell_type": "code",
   "execution_count": 33,
   "id": "61ffe540-b1b6-46eb-b623-fafd124c2797",
   "metadata": {},
   "outputs": [],
   "source": [
    "dict_gdp_per_capita = {i: [df_gdp_per_capita_gdp_growth_2019.loc[df_gdp_per_capita_gdp_growth_2019[\"Country Name\"] == df_names_gdp_capita_2019[i][j]][\"GDP per capita\"].values[0] for j in range(len(df_names_gdp_capita_2019[i].dropna()))] for i in range(number_of_cluster)}"
   ]
  },
  {
   "cell_type": "code",
   "execution_count": 34,
   "id": "7a0491fa-6498-4430-9305-9b1322c1b4be",
   "metadata": {},
   "outputs": [],
   "source": [
    "df_vals_capita_per_capita_2019 = pd.DataFrame.from_dict(dict_gdp_per_capita, orient=\"index\").transpose()"
   ]
  },
  {
   "cell_type": "code",
   "execution_count": 35,
   "id": "60a503c7-392f-4756-99a9-c67634ae30b9",
   "metadata": {},
   "outputs": [
    {
     "data": {
      "text/html": [
       "<div>\n",
       "<style scoped>\n",
       "    .dataframe tbody tr th:only-of-type {\n",
       "        vertical-align: middle;\n",
       "    }\n",
       "\n",
       "    .dataframe tbody tr th {\n",
       "        vertical-align: top;\n",
       "    }\n",
       "\n",
       "    .dataframe thead th {\n",
       "        text-align: right;\n",
       "    }\n",
       "</style>\n",
       "<table border=\"1\" class=\"dataframe\">\n",
       "  <thead>\n",
       "    <tr style=\"text-align: right;\">\n",
       "      <th></th>\n",
       "      <th>0</th>\n",
       "      <th>1</th>\n",
       "      <th>2</th>\n",
       "      <th>3</th>\n",
       "      <th>4</th>\n",
       "    </tr>\n",
       "  </thead>\n",
       "  <tbody>\n",
       "    <tr>\n",
       "      <th>0</th>\n",
       "      <td>116153.166122</td>\n",
       "      <td>31135.884356</td>\n",
       "      <td>494.179350</td>\n",
       "      <td>189487.147128</td>\n",
       "      <td>40898.417906</td>\n",
       "    </tr>\n",
       "    <tr>\n",
       "      <th>1</th>\n",
       "      <td>85334.519462</td>\n",
       "      <td>17376.649677</td>\n",
       "      <td>2177.799015</td>\n",
       "      <td>NaN</td>\n",
       "      <td>42701.443045</td>\n",
       "    </tr>\n",
       "    <tr>\n",
       "      <th>2</th>\n",
       "      <td>91513.042673</td>\n",
       "      <td>23552.379948</td>\n",
       "      <td>5396.215864</td>\n",
       "      <td>NaN</td>\n",
       "      <td>54875.285956</td>\n",
       "    </tr>\n",
       "    <tr>\n",
       "      <th>3</th>\n",
       "      <td>59775.735096</td>\n",
       "      <td>33872.334307</td>\n",
       "      <td>10076.355241</td>\n",
       "      <td>NaN</td>\n",
       "      <td>50114.401110</td>\n",
       "    </tr>\n",
       "    <tr>\n",
       "      <th>4</th>\n",
       "      <td>86481.552591</td>\n",
       "      <td>18480.056593</td>\n",
       "      <td>4604.646324</td>\n",
       "      <td>NaN</td>\n",
       "      <td>46599.111335</td>\n",
       "    </tr>\n",
       "  </tbody>\n",
       "</table>\n",
       "</div>"
      ],
      "text/plain": [
       "               0             1             2              3             4\n",
       "0  116153.166122  31135.884356    494.179350  189487.147128  40898.417906\n",
       "1   85334.519462  17376.649677   2177.799015            NaN  42701.443045\n",
       "2   91513.042673  23552.379948   5396.215864            NaN  54875.285956\n",
       "3   59775.735096  33872.334307  10076.355241            NaN  50114.401110\n",
       "4   86481.552591  18480.056593   4604.646324            NaN  46599.111335"
      ]
     },
     "execution_count": 35,
     "metadata": {},
     "output_type": "execute_result"
    }
   ],
   "source": [
    "df_vals_capita_per_capita_2019.head()"
   ]
  },
  {
   "cell_type": "markdown",
   "id": "0fe14410-1d44-4cc5-8e16-2bdd5597a4eb",
   "metadata": {},
   "source": [
    "Минимум, максимум, среднее значения подушевого ВВП в кластерах"
   ]
  },
  {
   "cell_type": "code",
   "execution_count": 36,
   "id": "c3e420ed-2037-41d6-8361-a53dd7d4b34b",
   "metadata": {},
   "outputs": [
    {
     "data": {
      "text/html": [
       "<div>\n",
       "<style scoped>\n",
       "    .dataframe tbody tr th:only-of-type {\n",
       "        vertical-align: middle;\n",
       "    }\n",
       "\n",
       "    .dataframe tbody tr th {\n",
       "        vertical-align: top;\n",
       "    }\n",
       "\n",
       "    .dataframe thead th {\n",
       "        text-align: right;\n",
       "    }\n",
       "</style>\n",
       "<table border=\"1\" class=\"dataframe\">\n",
       "  <thead>\n",
       "    <tr style=\"text-align: right;\">\n",
       "      <th></th>\n",
       "      <th>0</th>\n",
       "      <th>1</th>\n",
       "      <th>2</th>\n",
       "      <th>3</th>\n",
       "      <th>4</th>\n",
       "    </tr>\n",
       "  </thead>\n",
       "  <tbody>\n",
       "    <tr>\n",
       "      <th>count</th>\n",
       "      <td>14.000000</td>\n",
       "      <td>37.000000</td>\n",
       "      <td>133.000000</td>\n",
       "      <td>1.000000</td>\n",
       "      <td>20.000000</td>\n",
       "    </tr>\n",
       "    <tr>\n",
       "      <th>min</th>\n",
       "      <td>59775.735096</td>\n",
       "      <td>14699.462781</td>\n",
       "      <td>223.862876</td>\n",
       "      <td>189487.147128</td>\n",
       "      <td>38040.586987</td>\n",
       "    </tr>\n",
       "    <tr>\n",
       "      <th>max</th>\n",
       "      <td>116153.166122</td>\n",
       "      <td>33872.334307</td>\n",
       "      <td>12899.346111</td>\n",
       "      <td>189487.147128</td>\n",
       "      <td>54875.285956</td>\n",
       "    </tr>\n",
       "    <tr>\n",
       "      <th>mean</th>\n",
       "      <td>80029.402070</td>\n",
       "      <td>22967.999473</td>\n",
       "      <td>4372.387960</td>\n",
       "      <td>189487.147128</td>\n",
       "      <td>45912.813066</td>\n",
       "    </tr>\n",
       "  </tbody>\n",
       "</table>\n",
       "</div>"
      ],
      "text/plain": [
       "                   0             1             2              3             4\n",
       "count      14.000000     37.000000    133.000000       1.000000     20.000000\n",
       "min     59775.735096  14699.462781    223.862876  189487.147128  38040.586987\n",
       "max    116153.166122  33872.334307  12899.346111  189487.147128  54875.285956\n",
       "mean    80029.402070  22967.999473   4372.387960  189487.147128  45912.813066"
      ]
     },
     "execution_count": 36,
     "metadata": {},
     "output_type": "execute_result"
    }
   ],
   "source": [
    "aggrigate = {i: [\"count\", \"min\", \"max\", \"mean\"] for i in range(number_of_cluster)}\n",
    "df_vals_capita_per_capita_2019.agg(aggrigate)"
   ]
  },
  {
   "cell_type": "markdown",
   "id": "1a35c061-a4d0-4ba2-a170-92515538da30",
   "metadata": {},
   "source": [
    "Записываем получившиеся результаты в `excel`-файл"
   ]
  },
  {
   "cell_type": "code",
   "execution_count": 37,
   "id": "d13b1d5d-a01c-4dee-a1e1-48c346fe9356",
   "metadata": {},
   "outputs": [],
   "source": [
    "save_as_xlsx(\"./results/gdp_growth_gdp_per_capita_2019.xlsx\",\n",
    "             [\"Country Names\", \"GDP growth\", \"GDP per capita\"],\n",
    "             [df_names_gdp_capita_2019, df_vals_gdp_per_capita_2019, df_vals_capita_per_capita_2019])"
   ]
  },
  {
   "cell_type": "markdown",
   "id": "2483cb49-009f-4692-b2ed-ba7429c5937c",
   "metadata": {
    "jp-MarkdownHeadingCollapsed": true,
    "tags": []
   },
   "source": [
    "### Кластеризация на основании подушевого ВВП, темпов роста ВВП, темов инфляции"
   ]
  },
  {
   "cell_type": "markdown",
   "id": "7bddb3a6-ad54-4e27-a032-03ae54fd2d94",
   "metadata": {},
   "source": [
    "Выбираем нужные данные"
   ]
  },
  {
   "cell_type": "code",
   "execution_count": 38,
   "id": "650c28cc-f262-4718-898b-c541910b1219",
   "metadata": {},
   "outputs": [
    {
     "data": {
      "text/html": [
       "<div>\n",
       "<style scoped>\n",
       "    .dataframe tbody tr th:only-of-type {\n",
       "        vertical-align: middle;\n",
       "    }\n",
       "\n",
       "    .dataframe tbody tr th {\n",
       "        vertical-align: top;\n",
       "    }\n",
       "\n",
       "    .dataframe thead th {\n",
       "        text-align: right;\n",
       "    }\n",
       "</style>\n",
       "<table border=\"1\" class=\"dataframe\">\n",
       "  <thead>\n",
       "    <tr style=\"text-align: right;\">\n",
       "      <th></th>\n",
       "      <th>Country Name</th>\n",
       "      <th>Inflation</th>\n",
       "    </tr>\n",
       "  </thead>\n",
       "  <tbody>\n",
       "    <tr>\n",
       "      <th>0</th>\n",
       "      <td>Aruba</td>\n",
       "      <td>5.568805</td>\n",
       "    </tr>\n",
       "    <tr>\n",
       "      <th>2</th>\n",
       "      <td>Afghanistan</td>\n",
       "      <td>6.521480</td>\n",
       "    </tr>\n",
       "    <tr>\n",
       "      <th>4</th>\n",
       "      <td>Angola</td>\n",
       "      <td>19.184276</td>\n",
       "    </tr>\n",
       "    <tr>\n",
       "      <th>5</th>\n",
       "      <td>Albania</td>\n",
       "      <td>1.256590</td>\n",
       "    </tr>\n",
       "    <tr>\n",
       "      <th>6</th>\n",
       "      <td>Andorra</td>\n",
       "      <td>1.374754</td>\n",
       "    </tr>\n",
       "  </tbody>\n",
       "</table>\n",
       "</div>"
      ],
      "text/plain": [
       "  Country Name  Inflation\n",
       "0        Aruba   5.568805\n",
       "2  Afghanistan   6.521480\n",
       "4       Angola  19.184276\n",
       "5      Albania   1.256590\n",
       "6      Andorra   1.374754"
      ]
     },
     "execution_count": 38,
     "metadata": {},
     "output_type": "execute_result"
    }
   ],
   "source": [
    "df_inflation_2019 = df_inflation_data[[\"Country Name\", \"2019\"]].dropna()\n",
    "df_inflation_2019 = df_inflation_2019.rename({\"2019\": \"Inflation\"}, axis=1)\n",
    "df_inflation_2019.head()"
   ]
  },
  {
   "cell_type": "code",
   "execution_count": 39,
   "id": "cbb43314-3e13-49de-baef-4efc03204eb7",
   "metadata": {},
   "outputs": [
    {
     "data": {
      "text/html": [
       "<div>\n",
       "<style scoped>\n",
       "    .dataframe tbody tr th:only-of-type {\n",
       "        vertical-align: middle;\n",
       "    }\n",
       "\n",
       "    .dataframe tbody tr th {\n",
       "        vertical-align: top;\n",
       "    }\n",
       "\n",
       "    .dataframe thead th {\n",
       "        text-align: right;\n",
       "    }\n",
       "</style>\n",
       "<table border=\"1\" class=\"dataframe\">\n",
       "  <thead>\n",
       "    <tr style=\"text-align: right;\">\n",
       "      <th></th>\n",
       "      <th>Country Name</th>\n",
       "      <th>GDP Growth</th>\n",
       "      <th>GDP per capita</th>\n",
       "      <th>Inflation</th>\n",
       "    </tr>\n",
       "  </thead>\n",
       "  <tbody>\n",
       "    <tr>\n",
       "      <th>0</th>\n",
       "      <td>Aruba</td>\n",
       "      <td>-2.085600</td>\n",
       "      <td>31135.884356</td>\n",
       "      <td>5.568805</td>\n",
       "    </tr>\n",
       "    <tr>\n",
       "      <th>1</th>\n",
       "      <td>Afghanistan</td>\n",
       "      <td>3.911603</td>\n",
       "      <td>494.179350</td>\n",
       "      <td>6.521480</td>\n",
       "    </tr>\n",
       "    <tr>\n",
       "      <th>2</th>\n",
       "      <td>Angola</td>\n",
       "      <td>-0.700000</td>\n",
       "      <td>2177.799015</td>\n",
       "      <td>19.184276</td>\n",
       "    </tr>\n",
       "    <tr>\n",
       "      <th>3</th>\n",
       "      <td>Albania</td>\n",
       "      <td>2.088063</td>\n",
       "      <td>5396.215864</td>\n",
       "      <td>1.256590</td>\n",
       "    </tr>\n",
       "    <tr>\n",
       "      <th>4</th>\n",
       "      <td>Andorra</td>\n",
       "      <td>2.015548</td>\n",
       "      <td>40898.417906</td>\n",
       "      <td>1.374754</td>\n",
       "    </tr>\n",
       "  </tbody>\n",
       "</table>\n",
       "</div>"
      ],
      "text/plain": [
       "  Country Name  GDP Growth  GDP per capita  Inflation\n",
       "0        Aruba   -2.085600    31135.884356   5.568805\n",
       "1  Afghanistan    3.911603      494.179350   6.521480\n",
       "2       Angola   -0.700000     2177.799015  19.184276\n",
       "3      Albania    2.088063     5396.215864   1.256590\n",
       "4      Andorra    2.015548    40898.417906   1.374754"
      ]
     },
     "execution_count": 39,
     "metadata": {},
     "output_type": "execute_result"
    }
   ],
   "source": [
    "df_gdp_per_capita_gdp_growth_inflation_2019 = pd.merge(df_gdp_per_capita_gdp_growth_2019, df_inflation_2019, left_on=\"Country Name\", right_on=\"Country Name\", how=\"left\")\n",
    "df_gdp_per_capita_gdp_growth_inflation_2019.head()"
   ]
  },
  {
   "cell_type": "code",
   "execution_count": 40,
   "id": "c5771338-9cf8-49fb-811c-0baf05c52b9f",
   "metadata": {},
   "outputs": [],
   "source": [
    "data_gdp_per_capita_gdp_growth_inflation_2019 = df_gdp_per_capita_gdp_growth_2019.loc[:, \"GDP Growth\":\"Inflation\"].values"
   ]
  },
  {
   "cell_type": "markdown",
   "id": "c31eaa98-b5d7-4338-bf4e-b338f36f36ac",
   "metadata": {},
   "source": [
    "Стандартизация показателей"
   ]
  },
  {
   "cell_type": "code",
   "execution_count": 41,
   "id": "10e80811-5afd-4e59-b547-edb418e93d36",
   "metadata": {},
   "outputs": [],
   "source": [
    "data_gdp_per_capita_gdp_growth_inflation_2019_std = (data_gdp_per_capita_gdp_growth_inflation_2019 - data_gdp_per_capita_gdp_growth_inflation_2019.mean()) / data_gdp_per_capita_gdp_growth_inflation_2019.std()"
   ]
  },
  {
   "cell_type": "markdown",
   "id": "e4f53289-60dd-423e-b568-c073963fae11",
   "metadata": {},
   "source": [
    "На основании дендрограммы определяем количество кластеров"
   ]
  },
  {
   "cell_type": "code",
   "execution_count": 42,
   "id": "5fe96c6e-d160-4635-8bbd-8a35f83d394e",
   "metadata": {},
   "outputs": [],
   "source": [
    "number_of_cluster = 5"
   ]
  },
  {
   "cell_type": "code",
   "execution_count": 43,
   "id": "3462ac5d-ea86-4d7e-85b7-43b6e86b834b",
   "metadata": {},
   "outputs": [
    {
     "data": {
      "image/png": "[encoded data removed]",
      "text/plain": [
       "<Figure size 432x288 with 1 Axes>"
      ]
     },
     "metadata": {
      "needs_background": "light"
     },
     "output_type": "display_data"
    }
   ],
   "source": [
    "dendrogram = sch.dendrogram(ward(data_gdp_per_capita_gdp_growth_inflation_2019_std))\n",
    "plt.show()"
   ]
  },
  {
   "cell_type": "markdown",
   "id": "737d3ae6-7bab-4b83-bb30-d58ca0759924",
   "metadata": {},
   "source": [
    "Кластеризируем данные"
   ]
  },
  {
   "cell_type": "code",
   "execution_count": 44,
   "id": "ecf9ce03-7dc7-443b-8c8f-1584f17d0e3c",
   "metadata": {},
   "outputs": [],
   "source": [
    "hc = AgglomerativeClustering(n_clusters=number_of_cluster, affinity=\"euclidean\", linkage=\"ward\")\n",
    "\n",
    "y_hc = hc.fit_predict(data_gdp_per_capita_gdp_growth_inflation_2019_std)"
   ]
  },
  {
   "cell_type": "code",
   "execution_count": 45,
   "id": "8b245e2a-392d-439f-aa51-a9608dd2a107",
   "metadata": {},
   "outputs": [],
   "source": [
    "dict_names = {i: [] for i in range(number_of_cluster)}\n",
    "for i in range(len(y_hc)):\n",
    "    dict_names[y_hc[i]].append(df_inflation_2019[\"Country Name\"].values[i])"
   ]
  },
  {
   "cell_type": "markdown",
   "id": "4d4ebbe9-7c00-4bd5-a7bf-cc91fb307b3d",
   "metadata": {},
   "source": [
    "Название стран в кластерах"
   ]
  },
  {
   "cell_type": "code",
   "execution_count": 46,
   "id": "d3d1b19d-94bc-437e-bf31-903c62354f03",
   "metadata": {},
   "outputs": [],
   "source": [
    "df_names_gdp_capita_inflation_2019 = pd.DataFrame.from_dict(dict_names, orient=\"index\")\n",
    "df_names_gdp_capita_inflation_2019 = df_names_gdp_capita_inflation_2019.transpose()"
   ]
  },
  {
   "cell_type": "code",
   "execution_count": 47,
   "id": "2900c2d6-4e0e-4954-80ed-34d110d3cba4",
   "metadata": {},
   "outputs": [
    {
     "data": {
      "text/html": [
       "<div>\n",
       "<style scoped>\n",
       "    .dataframe tbody tr th:only-of-type {\n",
       "        vertical-align: middle;\n",
       "    }\n",
       "\n",
       "    .dataframe tbody tr th {\n",
       "        vertical-align: top;\n",
       "    }\n",
       "\n",
       "    .dataframe thead th {\n",
       "        text-align: right;\n",
       "    }\n",
       "</style>\n",
       "<table border=\"1\" class=\"dataframe\">\n",
       "  <thead>\n",
       "    <tr style=\"text-align: right;\">\n",
       "      <th></th>\n",
       "      <th>0</th>\n",
       "      <th>1</th>\n",
       "      <th>2</th>\n",
       "      <th>3</th>\n",
       "      <th>4</th>\n",
       "    </tr>\n",
       "  </thead>\n",
       "  <tbody>\n",
       "    <tr>\n",
       "      <th>0</th>\n",
       "      <td>Bermuda</td>\n",
       "      <td>Aruba</td>\n",
       "      <td>Afghanistan</td>\n",
       "      <td>Monaco</td>\n",
       "      <td>Andorra</td>\n",
       "    </tr>\n",
       "    <tr>\n",
       "      <th>1</th>\n",
       "      <td>Switzerland</td>\n",
       "      <td>Antigua and Barbuda</td>\n",
       "      <td>Angola</td>\n",
       "      <td>None</td>\n",
       "      <td>United Arab Emirates</td>\n",
       "    </tr>\n",
       "    <tr>\n",
       "      <th>2</th>\n",
       "      <td>Cayman Islands</td>\n",
       "      <td>Bahrain</td>\n",
       "      <td>Albania</td>\n",
       "      <td>None</td>\n",
       "      <td>Australia</td>\n",
       "    </tr>\n",
       "    <tr>\n",
       "      <th>3</th>\n",
       "      <td>Denmark</td>\n",
       "      <td>Bahamas, The</td>\n",
       "      <td>Argentina</td>\n",
       "      <td>None</td>\n",
       "      <td>Austria</td>\n",
       "    </tr>\n",
       "    <tr>\n",
       "      <th>4</th>\n",
       "      <td>Isle of Man</td>\n",
       "      <td>Barbados</td>\n",
       "      <td>Armenia</td>\n",
       "      <td>None</td>\n",
       "      <td>Belgium</td>\n",
       "    </tr>\n",
       "  </tbody>\n",
       "</table>\n",
       "</div>"
      ],
      "text/plain": [
       "                0                    1            2       3  \\\n",
       "0         Bermuda                Aruba  Afghanistan  Monaco   \n",
       "1     Switzerland  Antigua and Barbuda       Angola    None   \n",
       "2  Cayman Islands              Bahrain      Albania    None   \n",
       "3         Denmark         Bahamas, The    Argentina    None   \n",
       "4     Isle of Man             Barbados      Armenia    None   \n",
       "\n",
       "                      4  \n",
       "0               Andorra  \n",
       "1  United Arab Emirates  \n",
       "2             Australia  \n",
       "3               Austria  \n",
       "4               Belgium  "
      ]
     },
     "execution_count": 47,
     "metadata": {},
     "output_type": "execute_result"
    }
   ],
   "source": [
    "df_names_gdp_capita_inflation_2019.head()"
   ]
  },
  {
   "cell_type": "markdown",
   "id": "1c9b1deb-692b-45bf-8ae6-804be04e0384",
   "metadata": {},
   "source": [
    "Значения темпов роста ВВП в кластерах"
   ]
  },
  {
   "cell_type": "code",
   "execution_count": 48,
   "id": "273f0bc2-d6c8-4657-b2e0-7442141feb70",
   "metadata": {},
   "outputs": [],
   "source": [
    "dict_gdp = {i: [df_gdp_per_capita_gdp_growth_inflation_2019.loc[df_gdp_per_capita_gdp_growth_inflation_2019[\"Country Name\"] == df_names_gdp_capita_inflation_2019[i][j]][\"GDP Growth\"].values[0] for j in range(len(df_names_gdp_capita_inflation_2019[i].dropna()))] for i in range(number_of_cluster)}"
   ]
  },
  {
   "cell_type": "code",
   "execution_count": 49,
   "id": "78fb0c53-1c93-439d-ac99-477e47eeac90",
   "metadata": {},
   "outputs": [],
   "source": [
    "df_vals_gdp_inflation_2019 = pd.DataFrame.from_dict(dict_gdp, orient=\"index\").transpose()"
   ]
  },
  {
   "cell_type": "code",
   "execution_count": 50,
   "id": "408cebbb-e1dd-4e1b-b6e3-3489d020f7fc",
   "metadata": {},
   "outputs": [
    {
     "data": {
      "text/html": [
       "<div>\n",
       "<style scoped>\n",
       "    .dataframe tbody tr th:only-of-type {\n",
       "        vertical-align: middle;\n",
       "    }\n",
       "\n",
       "    .dataframe tbody tr th {\n",
       "        vertical-align: top;\n",
       "    }\n",
       "\n",
       "    .dataframe thead th {\n",
       "        text-align: right;\n",
       "    }\n",
       "</style>\n",
       "<table border=\"1\" class=\"dataframe\">\n",
       "  <thead>\n",
       "    <tr style=\"text-align: right;\">\n",
       "      <th></th>\n",
       "      <th>0</th>\n",
       "      <th>1</th>\n",
       "      <th>2</th>\n",
       "      <th>3</th>\n",
       "      <th>4</th>\n",
       "    </tr>\n",
       "  </thead>\n",
       "  <tbody>\n",
       "    <tr>\n",
       "      <th>0</th>\n",
       "      <td>0.306267</td>\n",
       "      <td>-2.085600</td>\n",
       "      <td>3.911603</td>\n",
       "      <td>6.905665</td>\n",
       "      <td>2.015548</td>\n",
       "    </tr>\n",
       "    <tr>\n",
       "      <th>1</th>\n",
       "      <td>1.210992</td>\n",
       "      <td>4.862236</td>\n",
       "      <td>-0.700000</td>\n",
       "      <td>NaN</td>\n",
       "      <td>3.411539</td>\n",
       "    </tr>\n",
       "    <tr>\n",
       "      <th>2</th>\n",
       "      <td>3.873077</td>\n",
       "      <td>2.166965</td>\n",
       "      <td>2.088063</td>\n",
       "      <td>NaN</td>\n",
       "      <td>2.113149</td>\n",
       "    </tr>\n",
       "    <tr>\n",
       "      <th>3</th>\n",
       "      <td>2.114664</td>\n",
       "      <td>1.896164</td>\n",
       "      <td>-2.025934</td>\n",
       "      <td>NaN</td>\n",
       "      <td>1.491211</td>\n",
       "    </tr>\n",
       "    <tr>\n",
       "      <th>4</th>\n",
       "      <td>0.254861</td>\n",
       "      <td>-0.610275</td>\n",
       "      <td>7.600000</td>\n",
       "      <td>NaN</td>\n",
       "      <td>2.111532</td>\n",
       "    </tr>\n",
       "  </tbody>\n",
       "</table>\n",
       "</div>"
      ],
      "text/plain": [
       "          0         1         2         3         4\n",
       "0  0.306267 -2.085600  3.911603  6.905665  2.015548\n",
       "1  1.210992  4.862236 -0.700000       NaN  3.411539\n",
       "2  3.873077  2.166965  2.088063       NaN  2.113149\n",
       "3  2.114664  1.896164 -2.025934       NaN  1.491211\n",
       "4  0.254861 -0.610275  7.600000       NaN  2.111532"
      ]
     },
     "execution_count": 50,
     "metadata": {},
     "output_type": "execute_result"
    }
   ],
   "source": [
    "df_vals_gdp_inflation_2019.head()"
   ]
  },
  {
   "cell_type": "markdown",
   "id": "48bf4fd4-fcba-4ef6-832c-de9892e38288",
   "metadata": {},
   "source": [
    "Минимум, максимум, среднее значения темпов роста ВВП в кластерах"
   ]
  },
  {
   "cell_type": "code",
   "execution_count": 51,
   "id": "8b85bb33-40b9-4aca-9408-729348f05114",
   "metadata": {},
   "outputs": [
    {
     "data": {
      "text/html": [
       "<div>\n",
       "<style scoped>\n",
       "    .dataframe tbody tr th:only-of-type {\n",
       "        vertical-align: middle;\n",
       "    }\n",
       "\n",
       "    .dataframe tbody tr th {\n",
       "        vertical-align: top;\n",
       "    }\n",
       "\n",
       "    .dataframe thead th {\n",
       "        text-align: right;\n",
       "    }\n",
       "</style>\n",
       "<table border=\"1\" class=\"dataframe\">\n",
       "  <thead>\n",
       "    <tr style=\"text-align: right;\">\n",
       "      <th></th>\n",
       "      <th>0</th>\n",
       "      <th>1</th>\n",
       "      <th>2</th>\n",
       "      <th>3</th>\n",
       "      <th>4</th>\n",
       "    </tr>\n",
       "  </thead>\n",
       "  <tbody>\n",
       "    <tr>\n",
       "      <th>count</th>\n",
       "      <td>14.000000</td>\n",
       "      <td>37.000000</td>\n",
       "      <td>133.000000</td>\n",
       "      <td>1.000000</td>\n",
       "      <td>20.000000</td>\n",
       "    </tr>\n",
       "    <tr>\n",
       "      <th>min</th>\n",
       "      <td>-2.511980</td>\n",
       "      <td>-11.142587</td>\n",
       "      <td>-11.195695</td>\n",
       "      <td>6.905665</td>\n",
       "      <td>-1.678267</td>\n",
       "    </tr>\n",
       "    <tr>\n",
       "      <th>max</th>\n",
       "      <td>4.917007</td>\n",
       "      <td>5.861136</td>\n",
       "      <td>19.535810</td>\n",
       "      <td>6.905665</td>\n",
       "      <td>3.773590</td>\n",
       "    </tr>\n",
       "    <tr>\n",
       "      <th>mean</th>\n",
       "      <td>1.646049</td>\n",
       "      <td>1.817608</td>\n",
       "      <td>3.248102</td>\n",
       "      <td>6.905665</td>\n",
       "      <td>1.822838</td>\n",
       "    </tr>\n",
       "  </tbody>\n",
       "</table>\n",
       "</div>"
      ],
      "text/plain": [
       "               0          1           2         3          4\n",
       "count  14.000000  37.000000  133.000000  1.000000  20.000000\n",
       "min    -2.511980 -11.142587  -11.195695  6.905665  -1.678267\n",
       "max     4.917007   5.861136   19.535810  6.905665   3.773590\n",
       "mean    1.646049   1.817608    3.248102  6.905665   1.822838"
      ]
     },
     "execution_count": 51,
     "metadata": {},
     "output_type": "execute_result"
    }
   ],
   "source": [
    "aggrigate = {i: [\"count\", \"min\", \"max\", \"mean\"] for i in range(number_of_cluster)}\n",
    "df_vals_gdp_inflation_2019.agg(aggrigate)"
   ]
  },
  {
   "cell_type": "markdown",
   "id": "ad913887-71dd-410a-a7cd-e1c3b567630b",
   "metadata": {},
   "source": [
    "Значения подушевого ВВП в кластерах"
   ]
  },
  {
   "cell_type": "code",
   "execution_count": 52,
   "id": "ab12e801-02ae-4f02-9da1-faa4124b56c2",
   "metadata": {},
   "outputs": [],
   "source": [
    "dict_gdp_per_capita = {i: [df_gdp_per_capita_gdp_growth_inflation_2019.loc[df_gdp_per_capita_gdp_growth_inflation_2019[\"Country Name\"] == df_names_gdp_capita_inflation_2019[i][j]][\"GDP per capita\"].values[0] for j in range(len(df_names_gdp_capita_inflation_2019[i].dropna()))] for i in range(number_of_cluster)}"
   ]
  },
  {
   "cell_type": "code",
   "execution_count": 53,
   "id": "919784f5-7b73-42d7-9ab1-d77303f7fc87",
   "metadata": {},
   "outputs": [],
   "source": [
    "df_vals_capita_inflation_2019 = pd.DataFrame.from_dict(dict_gdp_per_capita, orient=\"index\").transpose()"
   ]
  },
  {
   "cell_type": "code",
   "execution_count": 54,
   "id": "e33d26c0-ddbc-4e63-bb0f-9de1ca7c06b2",
   "metadata": {},
   "outputs": [
    {
     "data": {
      "text/html": [
       "<div>\n",
       "<style scoped>\n",
       "    .dataframe tbody tr th:only-of-type {\n",
       "        vertical-align: middle;\n",
       "    }\n",
       "\n",
       "    .dataframe tbody tr th {\n",
       "        vertical-align: top;\n",
       "    }\n",
       "\n",
       "    .dataframe thead th {\n",
       "        text-align: right;\n",
       "    }\n",
       "</style>\n",
       "<table border=\"1\" class=\"dataframe\">\n",
       "  <thead>\n",
       "    <tr style=\"text-align: right;\">\n",
       "      <th></th>\n",
       "      <th>0</th>\n",
       "      <th>1</th>\n",
       "      <th>2</th>\n",
       "      <th>3</th>\n",
       "      <th>4</th>\n",
       "    </tr>\n",
       "  </thead>\n",
       "  <tbody>\n",
       "    <tr>\n",
       "      <th>0</th>\n",
       "      <td>116153.166122</td>\n",
       "      <td>31135.884356</td>\n",
       "      <td>494.179350</td>\n",
       "      <td>189487.147128</td>\n",
       "      <td>40898.417906</td>\n",
       "    </tr>\n",
       "    <tr>\n",
       "      <th>1</th>\n",
       "      <td>85334.519462</td>\n",
       "      <td>17376.649677</td>\n",
       "      <td>2177.799015</td>\n",
       "      <td>NaN</td>\n",
       "      <td>42701.443045</td>\n",
       "    </tr>\n",
       "    <tr>\n",
       "      <th>2</th>\n",
       "      <td>91513.042673</td>\n",
       "      <td>23552.379948</td>\n",
       "      <td>5396.215864</td>\n",
       "      <td>NaN</td>\n",
       "      <td>54875.285956</td>\n",
       "    </tr>\n",
       "    <tr>\n",
       "      <th>3</th>\n",
       "      <td>59775.735096</td>\n",
       "      <td>33872.334307</td>\n",
       "      <td>10076.355241</td>\n",
       "      <td>NaN</td>\n",
       "      <td>50114.401110</td>\n",
       "    </tr>\n",
       "    <tr>\n",
       "      <th>4</th>\n",
       "      <td>86481.552591</td>\n",
       "      <td>18480.056593</td>\n",
       "      <td>4604.646324</td>\n",
       "      <td>NaN</td>\n",
       "      <td>46599.111335</td>\n",
       "    </tr>\n",
       "  </tbody>\n",
       "</table>\n",
       "</div>"
      ],
      "text/plain": [
       "               0             1             2              3             4\n",
       "0  116153.166122  31135.884356    494.179350  189487.147128  40898.417906\n",
       "1   85334.519462  17376.649677   2177.799015            NaN  42701.443045\n",
       "2   91513.042673  23552.379948   5396.215864            NaN  54875.285956\n",
       "3   59775.735096  33872.334307  10076.355241            NaN  50114.401110\n",
       "4   86481.552591  18480.056593   4604.646324            NaN  46599.111335"
      ]
     },
     "execution_count": 54,
     "metadata": {},
     "output_type": "execute_result"
    }
   ],
   "source": [
    "df_vals_capita_inflation_2019.head()"
   ]
  },
  {
   "cell_type": "markdown",
   "id": "088bd593-b458-40c3-ad3d-d45e05df32e5",
   "metadata": {},
   "source": [
    "Минимум, максимум, среднее значения подушевого ВВП в кластерах"
   ]
  },
  {
   "cell_type": "code",
   "execution_count": 55,
   "id": "b9b4869d-2f42-43e3-a853-5b4db219b118",
   "metadata": {},
   "outputs": [
    {
     "data": {
      "text/html": [
       "<div>\n",
       "<style scoped>\n",
       "    .dataframe tbody tr th:only-of-type {\n",
       "        vertical-align: middle;\n",
       "    }\n",
       "\n",
       "    .dataframe tbody tr th {\n",
       "        vertical-align: top;\n",
       "    }\n",
       "\n",
       "    .dataframe thead th {\n",
       "        text-align: right;\n",
       "    }\n",
       "</style>\n",
       "<table border=\"1\" class=\"dataframe\">\n",
       "  <thead>\n",
       "    <tr style=\"text-align: right;\">\n",
       "      <th></th>\n",
       "      <th>0</th>\n",
       "      <th>1</th>\n",
       "      <th>2</th>\n",
       "      <th>3</th>\n",
       "      <th>4</th>\n",
       "    </tr>\n",
       "  </thead>\n",
       "  <tbody>\n",
       "    <tr>\n",
       "      <th>count</th>\n",
       "      <td>14.000000</td>\n",
       "      <td>37.000000</td>\n",
       "      <td>133.000000</td>\n",
       "      <td>1.000000</td>\n",
       "      <td>20.000000</td>\n",
       "    </tr>\n",
       "    <tr>\n",
       "      <th>min</th>\n",
       "      <td>59775.735096</td>\n",
       "      <td>14699.462781</td>\n",
       "      <td>223.862876</td>\n",
       "      <td>189487.147128</td>\n",
       "      <td>38040.586987</td>\n",
       "    </tr>\n",
       "    <tr>\n",
       "      <th>max</th>\n",
       "      <td>116153.166122</td>\n",
       "      <td>33872.334307</td>\n",
       "      <td>12899.346111</td>\n",
       "      <td>189487.147128</td>\n",
       "      <td>54875.285956</td>\n",
       "    </tr>\n",
       "    <tr>\n",
       "      <th>mean</th>\n",
       "      <td>80029.402070</td>\n",
       "      <td>22967.999473</td>\n",
       "      <td>4372.387960</td>\n",
       "      <td>189487.147128</td>\n",
       "      <td>45912.813066</td>\n",
       "    </tr>\n",
       "  </tbody>\n",
       "</table>\n",
       "</div>"
      ],
      "text/plain": [
       "                   0             1             2              3             4\n",
       "count      14.000000     37.000000    133.000000       1.000000     20.000000\n",
       "min     59775.735096  14699.462781    223.862876  189487.147128  38040.586987\n",
       "max    116153.166122  33872.334307  12899.346111  189487.147128  54875.285956\n",
       "mean    80029.402070  22967.999473   4372.387960  189487.147128  45912.813066"
      ]
     },
     "execution_count": 55,
     "metadata": {},
     "output_type": "execute_result"
    }
   ],
   "source": [
    "aggrigate = {i: [\"count\", \"min\", \"max\", \"mean\"] for i in range(number_of_cluster)}\n",
    "df_vals_capita_inflation_2019.agg(aggrigate)"
   ]
  },
  {
   "cell_type": "markdown",
   "id": "467c290a-cfd6-474e-81d4-c4b0131eb0e0",
   "metadata": {},
   "source": [
    "Значения темпа инфляции в кластерах"
   ]
  },
  {
   "cell_type": "code",
   "execution_count": 56,
   "id": "292b79c5-aed6-430b-a256-454a367bd82a",
   "metadata": {},
   "outputs": [],
   "source": [
    "dict_inflation = {i: [df_gdp_per_capita_gdp_growth_inflation_2019.loc[df_gdp_per_capita_gdp_growth_inflation_2019[\"Country Name\"] == df_names_gdp_capita_inflation_2019[i][j]][\"Inflation\"].values[0] for j in range(len(df_names_gdp_capita_inflation_2019[i].dropna()))] for i in range(number_of_cluster)}"
   ]
  },
  {
   "cell_type": "code",
   "execution_count": 57,
   "id": "27f45336-47fb-46fd-9711-fbc555cedd8d",
   "metadata": {},
   "outputs": [],
   "source": [
    "df_vals_inflation_inflation_2019 = pd.DataFrame.from_dict(dict_inflation, orient=\"index\").transpose()"
   ]
  },
  {
   "cell_type": "code",
   "execution_count": 58,
   "id": "f0a68755-e4dc-46f3-b71f-7d2a2e49daaa",
   "metadata": {},
   "outputs": [
    {
     "data": {
      "text/html": [
       "<div>\n",
       "<style scoped>\n",
       "    .dataframe tbody tr th:only-of-type {\n",
       "        vertical-align: middle;\n",
       "    }\n",
       "\n",
       "    .dataframe tbody tr th {\n",
       "        vertical-align: top;\n",
       "    }\n",
       "\n",
       "    .dataframe thead th {\n",
       "        text-align: right;\n",
       "    }\n",
       "</style>\n",
       "<table border=\"1\" class=\"dataframe\">\n",
       "  <thead>\n",
       "    <tr style=\"text-align: right;\">\n",
       "      <th></th>\n",
       "      <th>0</th>\n",
       "      <th>1</th>\n",
       "      <th>2</th>\n",
       "      <th>3</th>\n",
       "      <th>4</th>\n",
       "    </tr>\n",
       "  </thead>\n",
       "  <tbody>\n",
       "    <tr>\n",
       "      <th>0</th>\n",
       "      <td>2.419352</td>\n",
       "      <td>5.568805</td>\n",
       "      <td>6.521480</td>\n",
       "      <td>1.279273</td>\n",
       "      <td>1.374754</td>\n",
       "    </tr>\n",
       "    <tr>\n",
       "      <th>1</th>\n",
       "      <td>-0.105745</td>\n",
       "      <td>0.208077</td>\n",
       "      <td>19.184276</td>\n",
       "      <td>NaN</td>\n",
       "      <td>-4.444037</td>\n",
       "    </tr>\n",
       "    <tr>\n",
       "      <th>2</th>\n",
       "      <td>3.464413</td>\n",
       "      <td>0.083262</td>\n",
       "      <td>1.256590</td>\n",
       "      <td>NaN</td>\n",
       "      <td>3.418786</td>\n",
       "    </tr>\n",
       "    <tr>\n",
       "      <th>3</th>\n",
       "      <td>0.742103</td>\n",
       "      <td>1.501262</td>\n",
       "      <td>50.921499</td>\n",
       "      <td>NaN</td>\n",
       "      <td>1.622589</td>\n",
       "    </tr>\n",
       "    <tr>\n",
       "      <th>4</th>\n",
       "      <td>1.800021</td>\n",
       "      <td>4.697597</td>\n",
       "      <td>1.065623</td>\n",
       "      <td>NaN</td>\n",
       "      <td>1.794827</td>\n",
       "    </tr>\n",
       "  </tbody>\n",
       "</table>\n",
       "</div>"
      ],
      "text/plain": [
       "          0         1          2         3         4\n",
       "0  2.419352  5.568805   6.521480  1.279273  1.374754\n",
       "1 -0.105745  0.208077  19.184276       NaN -4.444037\n",
       "2  3.464413  0.083262   1.256590       NaN  3.418786\n",
       "3  0.742103  1.501262  50.921499       NaN  1.622589\n",
       "4  1.800021  4.697597   1.065623       NaN  1.794827"
      ]
     },
     "execution_count": 58,
     "metadata": {},
     "output_type": "execute_result"
    }
   ],
   "source": [
    "df_vals_inflation_inflation_2019.head()"
   ]
  },
  {
   "cell_type": "markdown",
   "id": "6080687c-65db-4314-a726-6985d706c404",
   "metadata": {},
   "source": [
    "Минимум, максимум, среднее значения показателя инфляции в кластерах"
   ]
  },
  {
   "cell_type": "code",
   "execution_count": 59,
   "id": "e5d21b70-c098-4daf-b65b-b755a448976d",
   "metadata": {},
   "outputs": [
    {
     "data": {
      "text/html": [
       "<div>\n",
       "<style scoped>\n",
       "    .dataframe tbody tr th:only-of-type {\n",
       "        vertical-align: middle;\n",
       "    }\n",
       "\n",
       "    .dataframe tbody tr th {\n",
       "        vertical-align: top;\n",
       "    }\n",
       "\n",
       "    .dataframe thead th {\n",
       "        text-align: right;\n",
       "    }\n",
       "</style>\n",
       "<table border=\"1\" class=\"dataframe\">\n",
       "  <thead>\n",
       "    <tr style=\"text-align: right;\">\n",
       "      <th></th>\n",
       "      <th>0</th>\n",
       "      <th>1</th>\n",
       "      <th>2</th>\n",
       "      <th>3</th>\n",
       "      <th>4</th>\n",
       "    </tr>\n",
       "  </thead>\n",
       "  <tbody>\n",
       "    <tr>\n",
       "      <th>count</th>\n",
       "      <td>14.000000</td>\n",
       "      <td>37.000000</td>\n",
       "      <td>133.000000</td>\n",
       "      <td>1.000000</td>\n",
       "      <td>20.000000</td>\n",
       "    </tr>\n",
       "    <tr>\n",
       "      <th>min</th>\n",
       "      <td>-4.826866</td>\n",
       "      <td>-3.335768</td>\n",
       "      <td>-3.417863</td>\n",
       "      <td>1.279273</td>\n",
       "      <td>-4.444037</td>\n",
       "    </tr>\n",
       "    <tr>\n",
       "      <th>max</th>\n",
       "      <td>4.589431</td>\n",
       "      <td>8.522967</td>\n",
       "      <td>440.829791</td>\n",
       "      <td>1.279273</td>\n",
       "      <td>3.489567</td>\n",
       "    </tr>\n",
       "    <tr>\n",
       "      <th>mean</th>\n",
       "      <td>1.288131</td>\n",
       "      <td>1.638456</td>\n",
       "      <td>7.968013</td>\n",
       "      <td>1.279273</td>\n",
       "      <td>1.619152</td>\n",
       "    </tr>\n",
       "  </tbody>\n",
       "</table>\n",
       "</div>"
      ],
      "text/plain": [
       "               0          1           2         3          4\n",
       "count  14.000000  37.000000  133.000000  1.000000  20.000000\n",
       "min    -4.826866  -3.335768   -3.417863  1.279273  -4.444037\n",
       "max     4.589431   8.522967  440.829791  1.279273   3.489567\n",
       "mean    1.288131   1.638456    7.968013  1.279273   1.619152"
      ]
     },
     "execution_count": 59,
     "metadata": {},
     "output_type": "execute_result"
    }
   ],
   "source": [
    "aggrigate = {i: [\"count\", \"min\", \"max\", \"mean\"] for i in range(number_of_cluster)}\n",
    "df_vals_inflation_inflation_2019.agg(aggrigate)"
   ]
  },
  {
   "cell_type": "markdown",
   "id": "6237cfdf-6e1a-4351-b8f7-6a0e3d83b54f",
   "metadata": {},
   "source": [
    "Записываем получившиеся результаты в `excel`-файл"
   ]
  },
  {
   "cell_type": "code",
   "execution_count": 60,
   "id": "84ec8343-d124-4420-b048-cc469bff632a",
   "metadata": {},
   "outputs": [],
   "source": [
    "save_as_xlsx(\"./results/gdp_per_capita_gdp_growth_inflation_2019.xlsx\",\n",
    "             [\"Country Names\", \"GDP growth\", \"GDP per capita\", \"Inflation\"],\n",
    "             [df_names_gdp_capita_inflation_2019, df_vals_gdp_inflation_2019, df_vals_capita_inflation_2019, df_vals_inflation_inflation_2019])"
   ]
  },
  {
   "cell_type": "markdown",
   "id": "13e392be-e67e-415a-a939-a58fd518e434",
   "metadata": {
    "jp-MarkdownHeadingCollapsed": true,
    "tags": []
   },
   "source": [
    "## 2013 год"
   ]
  },
  {
   "cell_type": "markdown",
   "id": "c26d3de0-75aa-448e-a7db-c837839846c7",
   "metadata": {
    "jp-MarkdownHeadingCollapsed": true,
    "tags": []
   },
   "source": [
    "### Кластеризация на основании темпов роста ВВП"
   ]
  },
  {
   "cell_type": "markdown",
   "id": "1e334e87-1abe-4497-a06f-3d32cb4b2dab",
   "metadata": {},
   "source": [
    "Выбираем нужные данные"
   ]
  },
  {
   "cell_type": "code",
   "execution_count": 61,
   "id": "7c379200-a292-4f84-a083-7a1da42035cb",
   "metadata": {},
   "outputs": [
    {
     "data": {
      "text/html": [
       "<div>\n",
       "<style scoped>\n",
       "    .dataframe tbody tr th:only-of-type {\n",
       "        vertical-align: middle;\n",
       "    }\n",
       "\n",
       "    .dataframe tbody tr th {\n",
       "        vertical-align: top;\n",
       "    }\n",
       "\n",
       "    .dataframe thead th {\n",
       "        text-align: right;\n",
       "    }\n",
       "</style>\n",
       "<table border=\"1\" class=\"dataframe\">\n",
       "  <thead>\n",
       "    <tr style=\"text-align: right;\">\n",
       "      <th></th>\n",
       "      <th>Country Name</th>\n",
       "      <th>GDP Growth</th>\n",
       "    </tr>\n",
       "  </thead>\n",
       "  <tbody>\n",
       "    <tr>\n",
       "      <th>0</th>\n",
       "      <td>Aruba</td>\n",
       "      <td>6.429817</td>\n",
       "    </tr>\n",
       "    <tr>\n",
       "      <th>1</th>\n",
       "      <td>Afghanistan</td>\n",
       "      <td>5.600745</td>\n",
       "    </tr>\n",
       "    <tr>\n",
       "      <th>2</th>\n",
       "      <td>Angola</td>\n",
       "      <td>4.950000</td>\n",
       "    </tr>\n",
       "    <tr>\n",
       "      <th>3</th>\n",
       "      <td>Albania</td>\n",
       "      <td>1.002018</td>\n",
       "    </tr>\n",
       "    <tr>\n",
       "      <th>4</th>\n",
       "      <td>Andorra</td>\n",
       "      <td>-3.547597</td>\n",
       "    </tr>\n",
       "  </tbody>\n",
       "</table>\n",
       "</div>"
      ],
      "text/plain": [
       "  Country Name  GDP Growth\n",
       "0        Aruba    6.429817\n",
       "1  Afghanistan    5.600745\n",
       "2       Angola    4.950000\n",
       "3      Albania    1.002018\n",
       "4      Andorra   -3.547597"
      ]
     },
     "execution_count": 61,
     "metadata": {},
     "output_type": "execute_result"
    }
   ],
   "source": [
    "df_gdp_growth_2013 = df_gdp_growth_data[[\"Country Name\", \"2013\"]].dropna()\n",
    "df_gdp_growth_2013 = df_gdp_growth_2013.rename({\"2013\": \"GDP Growth\"}, axis=1)\n",
    "df_gdp_growth_2013.head()"
   ]
  },
  {
   "cell_type": "markdown",
   "id": "9b684297-c966-4d03-b3c4-ef1864faa6c6",
   "metadata": {},
   "source": [
    "На основании дендрограммы определяем количество кластеров"
   ]
  },
  {
   "cell_type": "code",
   "execution_count": 62,
   "id": "61b721ff-937c-4bd1-801c-1ca49f03f555",
   "metadata": {},
   "outputs": [],
   "source": [
    "number_of_cluster = 5"
   ]
  },
  {
   "cell_type": "code",
   "execution_count": 63,
   "id": "409372be-b45a-404e-bfc5-f0940406a8dc",
   "metadata": {},
   "outputs": [
    {
     "data": {
      "image/png": "[encoded data removed]",
      "text/plain": [
       "<Figure size 432x288 with 1 Axes>"
      ]
     },
     "metadata": {
      "needs_background": "light"
     },
     "output_type": "display_data"
    }
   ],
   "source": [
    "data_2d_gdp_growth_2013 = np.reshape(df_gdp_growth_2013[\"GDP Growth\"].values, (len(df_gdp_growth_2013[\"GDP Growth\"].values), 1))\n",
    "\n",
    "dendrogram = sch.dendrogram(ward(data_2d_gdp_growth_2013))\n",
    "plt.show()"
   ]
  },
  {
   "cell_type": "markdown",
   "id": "c4c9e0f3-fa07-4cdd-8e86-fab3c8da3621",
   "metadata": {},
   "source": [
    "Кластеризируем данные"
   ]
  },
  {
   "cell_type": "code",
   "execution_count": 64,
   "id": "9fcf575e-da08-48ca-bfe8-3054249889dc",
   "metadata": {},
   "outputs": [],
   "source": [
    "hc = AgglomerativeClustering(n_clusters=number_of_cluster, affinity=\"euclidean\", linkage=\"ward\")\n",
    "\n",
    "y_hc = hc.fit_predict(data_2d_gdp_growth_2013)"
   ]
  },
  {
   "cell_type": "code",
   "execution_count": 65,
   "id": "dba5c99c-94de-4bd8-b2ad-0406a7af64af",
   "metadata": {},
   "outputs": [],
   "source": [
    "dict_names = {i: [] for i in range(number_of_cluster)}\n",
    "for i in range(len(y_hc)):\n",
    "    dict_names[y_hc[i]].append(df_gdp_growth_2013[\"Country Name\"].values[i])"
   ]
  },
  {
   "cell_type": "markdown",
   "id": "b39b81bb-4f30-4e32-83d1-2cb6edfe937c",
   "metadata": {},
   "source": [
    "Название стран в кластерах"
   ]
  },
  {
   "cell_type": "code",
   "execution_count": 66,
   "id": "b596ca67-13ce-49eb-a90e-86eafcdd8638",
   "metadata": {},
   "outputs": [],
   "source": [
    "df_names_gdp_2013 = pd.DataFrame.from_dict(dict_names, orient=\"index\").transpose()"
   ]
  },
  {
   "cell_type": "code",
   "execution_count": 67,
   "id": "92eb8f8e-f9ae-4f56-ba77-469027c4a480",
   "metadata": {},
   "outputs": [
    {
     "data": {
      "text/html": [
       "<div>\n",
       "<style scoped>\n",
       "    .dataframe tbody tr th:only-of-type {\n",
       "        vertical-align: middle;\n",
       "    }\n",
       "\n",
       "    .dataframe tbody tr th {\n",
       "        vertical-align: top;\n",
       "    }\n",
       "\n",
       "    .dataframe thead th {\n",
       "        text-align: right;\n",
       "    }\n",
       "</style>\n",
       "<table border=\"1\" class=\"dataframe\">\n",
       "  <thead>\n",
       "    <tr style=\"text-align: right;\">\n",
       "      <th></th>\n",
       "      <th>0</th>\n",
       "      <th>1</th>\n",
       "      <th>2</th>\n",
       "      <th>3</th>\n",
       "      <th>4</th>\n",
       "    </tr>\n",
       "  </thead>\n",
       "  <tbody>\n",
       "    <tr>\n",
       "      <th>0</th>\n",
       "      <td>Aruba</td>\n",
       "      <td>Central African Republic</td>\n",
       "      <td>Benin</td>\n",
       "      <td>Albania</td>\n",
       "      <td>Nauru</td>\n",
       "    </tr>\n",
       "    <tr>\n",
       "      <th>1</th>\n",
       "      <td>Afghanistan</td>\n",
       "      <td>Libya</td>\n",
       "      <td>Botswana</td>\n",
       "      <td>Andorra</td>\n",
       "      <td>Sierra Leone</td>\n",
       "    </tr>\n",
       "    <tr>\n",
       "      <th>2</th>\n",
       "      <td>Angola</td>\n",
       "      <td>Syrian Arab Republic</td>\n",
       "      <td>China</td>\n",
       "      <td>American Samoa</td>\n",
       "      <td>None</td>\n",
       "    </tr>\n",
       "    <tr>\n",
       "      <th>3</th>\n",
       "      <td>United Arab Emirates</td>\n",
       "      <td>None</td>\n",
       "      <td>Cote d'Ivoire</td>\n",
       "      <td>Antigua and Barbuda</td>\n",
       "      <td>None</td>\n",
       "    </tr>\n",
       "    <tr>\n",
       "      <th>4</th>\n",
       "      <td>Argentina</td>\n",
       "      <td>None</td>\n",
       "      <td>Congo, Dem. Rep.</td>\n",
       "      <td>Austria</td>\n",
       "      <td>None</td>\n",
       "    </tr>\n",
       "  </tbody>\n",
       "</table>\n",
       "</div>"
      ],
      "text/plain": [
       "                      0                         1                 2  \\\n",
       "0                 Aruba  Central African Republic             Benin   \n",
       "1           Afghanistan                     Libya          Botswana   \n",
       "2                Angola      Syrian Arab Republic             China   \n",
       "3  United Arab Emirates                      None     Cote d'Ivoire   \n",
       "4             Argentina                      None  Congo, Dem. Rep.   \n",
       "\n",
       "                     3             4  \n",
       "0              Albania         Nauru  \n",
       "1              Andorra  Sierra Leone  \n",
       "2       American Samoa          None  \n",
       "3  Antigua and Barbuda          None  \n",
       "4              Austria          None  "
      ]
     },
     "execution_count": 67,
     "metadata": {},
     "output_type": "execute_result"
    }
   ],
   "source": [
    "df_names_gdp_2013.head()"
   ]
  },
  {
   "cell_type": "markdown",
   "id": "77badbfb-6c33-4dbc-a204-9bffca1c132b",
   "metadata": {},
   "source": [
    "Значения темпов роста ВВП в кластерах"
   ]
  },
  {
   "cell_type": "code",
   "execution_count": 68,
   "id": "b3bd670d-7e8b-4971-bcab-65c4fc63af62",
   "metadata": {},
   "outputs": [],
   "source": [
    "dict_vals = {i: [df_gdp_growth_2013.loc[df_gdp_growth_2013[\"Country Name\"] == df_names_gdp_2013[i][j]][\"GDP Growth\"].values[0] for j in range(len(df_names_gdp_2013[i].dropna()))] for i in range(number_of_cluster)}"
   ]
  },
  {
   "cell_type": "code",
   "execution_count": 69,
   "id": "5d89e85e-3c51-431f-b718-d367824f4a92",
   "metadata": {},
   "outputs": [],
   "source": [
    "df_vals_gdp_2013 = pd.DataFrame.from_dict(dict_vals, orient=\"index\").transpose()"
   ]
  },
  {
   "cell_type": "code",
   "execution_count": 70,
   "id": "61f7ce6d-4bbb-4045-b230-ca77cea24dc3",
   "metadata": {},
   "outputs": [
    {
     "data": {
      "text/html": [
       "<div>\n",
       "<style scoped>\n",
       "    .dataframe tbody tr th:only-of-type {\n",
       "        vertical-align: middle;\n",
       "    }\n",
       "\n",
       "    .dataframe tbody tr th {\n",
       "        vertical-align: top;\n",
       "    }\n",
       "\n",
       "    .dataframe thead th {\n",
       "        text-align: right;\n",
       "    }\n",
       "</style>\n",
       "<table border=\"1\" class=\"dataframe\">\n",
       "  <thead>\n",
       "    <tr style=\"text-align: right;\">\n",
       "      <th></th>\n",
       "      <th>0</th>\n",
       "      <th>1</th>\n",
       "      <th>2</th>\n",
       "      <th>3</th>\n",
       "      <th>4</th>\n",
       "    </tr>\n",
       "  </thead>\n",
       "  <tbody>\n",
       "    <tr>\n",
       "      <th>0</th>\n",
       "      <td>6.429817</td>\n",
       "      <td>-36.391977</td>\n",
       "      <td>7.191434</td>\n",
       "      <td>1.002018</td>\n",
       "      <td>30.612245</td>\n",
       "    </tr>\n",
       "    <tr>\n",
       "      <th>1</th>\n",
       "      <td>5.600745</td>\n",
       "      <td>-17.997962</td>\n",
       "      <td>11.343397</td>\n",
       "      <td>-3.547597</td>\n",
       "      <td>20.715768</td>\n",
       "    </tr>\n",
       "    <tr>\n",
       "      <th>2</th>\n",
       "      <td>4.950000</td>\n",
       "      <td>-26.300088</td>\n",
       "      <td>7.766150</td>\n",
       "      <td>-2.500000</td>\n",
       "      <td>NaN</td>\n",
       "    </tr>\n",
       "    <tr>\n",
       "      <th>3</th>\n",
       "      <td>5.053078</td>\n",
       "      <td>NaN</td>\n",
       "      <td>10.760213</td>\n",
       "      <td>-0.600876</td>\n",
       "      <td>NaN</td>\n",
       "    </tr>\n",
       "    <tr>\n",
       "      <th>4</th>\n",
       "      <td>2.405324</td>\n",
       "      <td>NaN</td>\n",
       "      <td>8.481957</td>\n",
       "      <td>0.025505</td>\n",
       "      <td>NaN</td>\n",
       "    </tr>\n",
       "  </tbody>\n",
       "</table>\n",
       "</div>"
      ],
      "text/plain": [
       "          0          1          2         3          4\n",
       "0  6.429817 -36.391977   7.191434  1.002018  30.612245\n",
       "1  5.600745 -17.997962  11.343397 -3.547597  20.715768\n",
       "2  4.950000 -26.300088   7.766150 -2.500000        NaN\n",
       "3  5.053078        NaN  10.760213 -0.600876        NaN\n",
       "4  2.405324        NaN   8.481957  0.025505        NaN"
      ]
     },
     "execution_count": 70,
     "metadata": {},
     "output_type": "execute_result"
    }
   ],
   "source": [
    "df_vals_gdp_2013.head()"
   ]
  },
  {
   "cell_type": "markdown",
   "id": "33e7ce7a-dbee-4e9d-86b9-84776af80625",
   "metadata": {},
   "source": [
    "Минимум, максимум, среднее"
   ]
  },
  {
   "cell_type": "code",
   "execution_count": 71,
   "id": "3112bd41-2318-45ed-8693-f30f6ac9222c",
   "metadata": {},
   "outputs": [
    {
     "data": {
      "text/html": [
       "<div>\n",
       "<style scoped>\n",
       "    .dataframe tbody tr th:only-of-type {\n",
       "        vertical-align: middle;\n",
       "    }\n",
       "\n",
       "    .dataframe tbody tr th {\n",
       "        vertical-align: top;\n",
       "    }\n",
       "\n",
       "    .dataframe thead th {\n",
       "        text-align: right;\n",
       "    }\n",
       "</style>\n",
       "<table border=\"1\" class=\"dataframe\">\n",
       "  <thead>\n",
       "    <tr style=\"text-align: right;\">\n",
       "      <th></th>\n",
       "      <th>0</th>\n",
       "      <th>1</th>\n",
       "      <th>2</th>\n",
       "      <th>3</th>\n",
       "      <th>4</th>\n",
       "    </tr>\n",
       "  </thead>\n",
       "  <tbody>\n",
       "    <tr>\n",
       "      <th>count</th>\n",
       "      <td>121.000000</td>\n",
       "      <td>3.000000</td>\n",
       "      <td>24.000000</td>\n",
       "      <td>56.000000</td>\n",
       "      <td>2.000000</td>\n",
       "    </tr>\n",
       "    <tr>\n",
       "      <th>min</th>\n",
       "      <td>1.690408</td>\n",
       "      <td>-36.391977</td>\n",
       "      <td>7.191434</td>\n",
       "      <td>-6.553078</td>\n",
       "      <td>20.715768</td>\n",
       "    </tr>\n",
       "    <tr>\n",
       "      <th>max</th>\n",
       "      <td>6.963607</td>\n",
       "      <td>-17.997962</td>\n",
       "      <td>13.129731</td>\n",
       "      <td>1.458429</td>\n",
       "      <td>30.612245</td>\n",
       "    </tr>\n",
       "    <tr>\n",
       "      <th>mean</th>\n",
       "      <td>3.994569</td>\n",
       "      <td>-26.896675</td>\n",
       "      <td>9.044068</td>\n",
       "      <td>-0.634174</td>\n",
       "      <td>25.664007</td>\n",
       "    </tr>\n",
       "  </tbody>\n",
       "</table>\n",
       "</div>"
      ],
      "text/plain": [
       "                0          1          2          3          4\n",
       "count  121.000000   3.000000  24.000000  56.000000   2.000000\n",
       "min      1.690408 -36.391977   7.191434  -6.553078  20.715768\n",
       "max      6.963607 -17.997962  13.129731   1.458429  30.612245\n",
       "mean     3.994569 -26.896675   9.044068  -0.634174  25.664007"
      ]
     },
     "execution_count": 71,
     "metadata": {},
     "output_type": "execute_result"
    }
   ],
   "source": [
    "aggrigate = {i: [\"count\", \"min\", \"max\", \"mean\"] for i in range(number_of_cluster)}\n",
    "df_vals_gdp_2013.agg(aggrigate)"
   ]
  },
  {
   "cell_type": "markdown",
   "id": "04eccb85-d2de-4659-84b3-5e2a4c1af1f4",
   "metadata": {},
   "source": [
    "Записываем получившиеся результаты в `excel`-файл"
   ]
  },
  {
   "cell_type": "code",
   "execution_count": 72,
   "id": "269e91df-b9a4-41c8-9359-534930f1878e",
   "metadata": {},
   "outputs": [],
   "source": [
    "save_as_xlsx(\"./results/gdp_growth_2013.xlsx\",\n",
    "             [\"Country Names\", \"GDP growth\"],\n",
    "             [df_names_gdp_2013, df_vals_gdp_2013])"
   ]
  },
  {
   "cell_type": "markdown",
   "id": "d5cf987a-6e0d-483b-afa8-5d3de089161e",
   "metadata": {
    "jp-MarkdownHeadingCollapsed": true,
    "tags": []
   },
   "source": [
    "### Кластеризация на основании подушевого ВВП, темпов роста ВВП"
   ]
  },
  {
   "cell_type": "markdown",
   "id": "04e2fd3e-da9c-4974-83e2-30932f1ebc4b",
   "metadata": {},
   "source": [
    "Выбираем нужные данные"
   ]
  },
  {
   "cell_type": "code",
   "execution_count": 73,
   "id": "fb9aa7bb-2d3e-4fda-9cb0-0a1cc15ee581",
   "metadata": {},
   "outputs": [
    {
     "data": {
      "text/html": [
       "<div>\n",
       "<style scoped>\n",
       "    .dataframe tbody tr th:only-of-type {\n",
       "        vertical-align: middle;\n",
       "    }\n",
       "\n",
       "    .dataframe tbody tr th {\n",
       "        vertical-align: top;\n",
       "    }\n",
       "\n",
       "    .dataframe thead th {\n",
       "        text-align: right;\n",
       "    }\n",
       "</style>\n",
       "<table border=\"1\" class=\"dataframe\">\n",
       "  <thead>\n",
       "    <tr style=\"text-align: right;\">\n",
       "      <th></th>\n",
       "      <th>Country Name</th>\n",
       "      <th>GDP per capita</th>\n",
       "    </tr>\n",
       "  </thead>\n",
       "  <tbody>\n",
       "    <tr>\n",
       "      <th>0</th>\n",
       "      <td>Aruba</td>\n",
       "      <td>26442.426801</td>\n",
       "    </tr>\n",
       "    <tr>\n",
       "      <th>2</th>\n",
       "      <td>Afghanistan</td>\n",
       "      <td>624.315455</td>\n",
       "    </tr>\n",
       "    <tr>\n",
       "      <th>4</th>\n",
       "      <td>Angola</td>\n",
       "      <td>5127.717243</td>\n",
       "    </tr>\n",
       "    <tr>\n",
       "      <th>5</th>\n",
       "      <td>Albania</td>\n",
       "      <td>4413.062005</td>\n",
       "    </tr>\n",
       "    <tr>\n",
       "      <th>6</th>\n",
       "      <td>Andorra</td>\n",
       "      <td>39538.355206</td>\n",
       "    </tr>\n",
       "  </tbody>\n",
       "</table>\n",
       "</div>"
      ],
      "text/plain": [
       "  Country Name  GDP per capita\n",
       "0        Aruba    26442.426801\n",
       "2  Afghanistan      624.315455\n",
       "4       Angola     5127.717243\n",
       "5      Albania     4413.062005\n",
       "6      Andorra    39538.355206"
      ]
     },
     "execution_count": 73,
     "metadata": {},
     "output_type": "execute_result"
    }
   ],
   "source": [
    "df_gdp_per_capita_2013 = df_gdp_per_capita_data[[\"Country Name\", \"2013\"]].dropna()\n",
    "df_gdp_per_capita_2013 = df_gdp_per_capita_2013.rename({\"2013\": \"GDP per capita\"}, axis=1)\n",
    "df_gdp_per_capita_2013.head()"
   ]
  },
  {
   "cell_type": "code",
   "execution_count": 74,
   "id": "95378b8b-1544-443e-a64c-575a5a155fa5",
   "metadata": {},
   "outputs": [
    {
     "data": {
      "text/html": [
       "<div>\n",
       "<style scoped>\n",
       "    .dataframe tbody tr th:only-of-type {\n",
       "        vertical-align: middle;\n",
       "    }\n",
       "\n",
       "    .dataframe tbody tr th {\n",
       "        vertical-align: top;\n",
       "    }\n",
       "\n",
       "    .dataframe thead th {\n",
       "        text-align: right;\n",
       "    }\n",
       "</style>\n",
       "<table border=\"1\" class=\"dataframe\">\n",
       "  <thead>\n",
       "    <tr style=\"text-align: right;\">\n",
       "      <th></th>\n",
       "      <th>Country Name</th>\n",
       "      <th>GDP Growth</th>\n",
       "      <th>GDP per capita</th>\n",
       "    </tr>\n",
       "  </thead>\n",
       "  <tbody>\n",
       "    <tr>\n",
       "      <th>0</th>\n",
       "      <td>Aruba</td>\n",
       "      <td>6.429817</td>\n",
       "      <td>26442.426801</td>\n",
       "    </tr>\n",
       "    <tr>\n",
       "      <th>1</th>\n",
       "      <td>Afghanistan</td>\n",
       "      <td>5.600745</td>\n",
       "      <td>624.315455</td>\n",
       "    </tr>\n",
       "    <tr>\n",
       "      <th>2</th>\n",
       "      <td>Angola</td>\n",
       "      <td>4.950000</td>\n",
       "      <td>5127.717243</td>\n",
       "    </tr>\n",
       "    <tr>\n",
       "      <th>3</th>\n",
       "      <td>Albania</td>\n",
       "      <td>1.002018</td>\n",
       "      <td>4413.062005</td>\n",
       "    </tr>\n",
       "    <tr>\n",
       "      <th>4</th>\n",
       "      <td>Andorra</td>\n",
       "      <td>-3.547597</td>\n",
       "      <td>39538.355206</td>\n",
       "    </tr>\n",
       "  </tbody>\n",
       "</table>\n",
       "</div>"
      ],
      "text/plain": [
       "  Country Name  GDP Growth  GDP per capita\n",
       "0        Aruba    6.429817    26442.426801\n",
       "1  Afghanistan    5.600745      624.315455\n",
       "2       Angola    4.950000     5127.717243\n",
       "3      Albania    1.002018     4413.062005\n",
       "4      Andorra   -3.547597    39538.355206"
      ]
     },
     "execution_count": 74,
     "metadata": {},
     "output_type": "execute_result"
    }
   ],
   "source": [
    "df_gdp_per_capita_gdp_growth_2013 = pd.merge(df_gdp_growth_2013, df_gdp_per_capita_2013, left_on=\"Country Name\", right_on=\"Country Name\", how=\"left\")\n",
    "df_gdp_per_capita_gdp_growth_2013.head()"
   ]
  },
  {
   "cell_type": "code",
   "execution_count": 75,
   "id": "ebe79a12-fe04-4f06-8c12-7c3146288eba",
   "metadata": {},
   "outputs": [],
   "source": [
    "data_gdp_per_capita_gdp_growth_2013 = df_gdp_per_capita_gdp_growth_2013.loc[:, \"GDP Growth\":\"GDP per capita\"].values"
   ]
  },
  {
   "cell_type": "markdown",
   "id": "ac24f68d-a69d-4f7a-b47a-f9aa9dab975f",
   "metadata": {},
   "source": [
    "Стандартизация показателей"
   ]
  },
  {
   "cell_type": "code",
   "execution_count": 76,
   "id": "62315be4-50b5-4b0c-9c74-6774cca5ae7e",
   "metadata": {},
   "outputs": [],
   "source": [
    "data_gdp_per_capita_gdp_growth_2013_std = (data_gdp_per_capita_gdp_growth_2013 - data_gdp_per_capita_gdp_growth_2013.mean()) / data_gdp_per_capita_gdp_growth_2013.std()"
   ]
  },
  {
   "cell_type": "markdown",
   "id": "baadf763-e545-4d95-843a-e5fdaa90915f",
   "metadata": {},
   "source": [
    "На основании дендрограммы определяем количество кластеров"
   ]
  },
  {
   "cell_type": "code",
   "execution_count": 77,
   "id": "ffedbbe0-df43-4ee4-a060-7b32d55f0e40",
   "metadata": {},
   "outputs": [],
   "source": [
    "number_of_cluster = 5"
   ]
  },
  {
   "cell_type": "code",
   "execution_count": 78,
   "id": "f7c63e51-b49c-4451-9b4d-f51f25cd5547",
   "metadata": {},
   "outputs": [
    {
     "data": {
      "image/png": "[encoded data removed]",
      "text/plain": [
       "<Figure size 432x288 with 1 Axes>"
      ]
     },
     "metadata": {
      "needs_background": "light"
     },
     "output_type": "display_data"
    }
   ],
   "source": [
    "dendrogram = sch.dendrogram(ward(data_gdp_per_capita_gdp_growth_2013_std))\n",
    "plt.show()"
   ]
  },
  {
   "cell_type": "markdown",
   "id": "291604d3-5d18-4ada-9db2-1db36baa7674",
   "metadata": {},
   "source": [
    "Кластеризируем данные"
   ]
  },
  {
   "cell_type": "code",
   "execution_count": 79,
   "id": "d2a39899-2381-497d-9619-9daf99cf51c4",
   "metadata": {},
   "outputs": [],
   "source": [
    "hc = AgglomerativeClustering(n_clusters=number_of_cluster, affinity=\"euclidean\", linkage=\"ward\")\n",
    "\n",
    "y_hc = hc.fit_predict(data_gdp_per_capita_gdp_growth_2013_std)"
   ]
  },
  {
   "cell_type": "code",
   "execution_count": 80,
   "id": "1048ef73-09b6-4c39-a707-1b772926a930",
   "metadata": {},
   "outputs": [],
   "source": [
    "dict_names = {i: [] for i in range(number_of_cluster)}\n",
    "for i in range(len(y_hc)):\n",
    "    dict_names[y_hc[i]].append(df_gdp_per_capita_gdp_growth_2013[\"Country Name\"].values[i])"
   ]
  },
  {
   "cell_type": "markdown",
   "id": "6a1e0138-6d9d-46b5-880a-df6c54476272",
   "metadata": {},
   "source": [
    "Название стран в кластерах"
   ]
  },
  {
   "cell_type": "code",
   "execution_count": 81,
   "id": "1509d91f-8bb2-46e2-b509-7b64dab44e69",
   "metadata": {},
   "outputs": [],
   "source": [
    "df_names_gdp_capita_2013 = pd.DataFrame.from_dict(dict_names, orient=\"index\")\n",
    "df_names_gdp_capita_2013 = df_names_gdp_capita_2013.transpose()"
   ]
  },
  {
   "cell_type": "code",
   "execution_count": 82,
   "id": "c879aef4-b185-4d2d-b3a0-e73d184e8bde",
   "metadata": {},
   "outputs": [
    {
     "data": {
      "text/html": [
       "<div>\n",
       "<style scoped>\n",
       "    .dataframe tbody tr th:only-of-type {\n",
       "        vertical-align: middle;\n",
       "    }\n",
       "\n",
       "    .dataframe tbody tr th {\n",
       "        vertical-align: top;\n",
       "    }\n",
       "\n",
       "    .dataframe thead th {\n",
       "        text-align: right;\n",
       "    }\n",
       "</style>\n",
       "<table border=\"1\" class=\"dataframe\">\n",
       "  <thead>\n",
       "    <tr style=\"text-align: right;\">\n",
       "      <th></th>\n",
       "      <th>0</th>\n",
       "      <th>1</th>\n",
       "      <th>2</th>\n",
       "      <th>3</th>\n",
       "      <th>4</th>\n",
       "    </tr>\n",
       "  </thead>\n",
       "  <tbody>\n",
       "    <tr>\n",
       "      <th>0</th>\n",
       "      <td>Andorra</td>\n",
       "      <td>Aruba</td>\n",
       "      <td>Bermuda</td>\n",
       "      <td>Afghanistan</td>\n",
       "      <td>Monaco</td>\n",
       "    </tr>\n",
       "    <tr>\n",
       "      <th>1</th>\n",
       "      <td>United Arab Emirates</td>\n",
       "      <td>Argentina</td>\n",
       "      <td>Switzerland</td>\n",
       "      <td>Angola</td>\n",
       "      <td>None</td>\n",
       "    </tr>\n",
       "    <tr>\n",
       "      <th>2</th>\n",
       "      <td>Australia</td>\n",
       "      <td>American Samoa</td>\n",
       "      <td>Isle of Man</td>\n",
       "      <td>Albania</td>\n",
       "      <td>None</td>\n",
       "    </tr>\n",
       "    <tr>\n",
       "      <th>3</th>\n",
       "      <td>Austria</td>\n",
       "      <td>Antigua and Barbuda</td>\n",
       "      <td>Luxembourg</td>\n",
       "      <td>Armenia</td>\n",
       "      <td>None</td>\n",
       "    </tr>\n",
       "    <tr>\n",
       "      <th>4</th>\n",
       "      <td>Belgium</td>\n",
       "      <td>Bahrain</td>\n",
       "      <td>Macao SAR, China</td>\n",
       "      <td>Azerbaijan</td>\n",
       "      <td>None</td>\n",
       "    </tr>\n",
       "  </tbody>\n",
       "</table>\n",
       "</div>"
      ],
      "text/plain": [
       "                      0                    1                 2            3  \\\n",
       "0               Andorra                Aruba           Bermuda  Afghanistan   \n",
       "1  United Arab Emirates            Argentina       Switzerland       Angola   \n",
       "2             Australia       American Samoa       Isle of Man      Albania   \n",
       "3               Austria  Antigua and Barbuda        Luxembourg      Armenia   \n",
       "4               Belgium              Bahrain  Macao SAR, China   Azerbaijan   \n",
       "\n",
       "        4  \n",
       "0  Monaco  \n",
       "1    None  \n",
       "2    None  \n",
       "3    None  \n",
       "4    None  "
      ]
     },
     "execution_count": 82,
     "metadata": {},
     "output_type": "execute_result"
    }
   ],
   "source": [
    "df_names_gdp_capita_2013.head()"
   ]
  },
  {
   "cell_type": "markdown",
   "id": "5fac248e-bdfe-4901-8dbc-fa727b56bee5",
   "metadata": {},
   "source": [
    "Значения темпов роста ВВП в кластерах"
   ]
  },
  {
   "cell_type": "code",
   "execution_count": 83,
   "id": "21a27371-71f8-41cd-b270-dabc6d309e89",
   "metadata": {},
   "outputs": [],
   "source": [
    "dict_gdp = {i: [df_gdp_per_capita_gdp_growth_2013.loc[df_gdp_per_capita_gdp_growth_2013[\"Country Name\"] == df_names_gdp_capita_2013[i][j]][\"GDP Growth\"].values[0] for j in range(len(df_names_gdp_capita_2013[i].dropna()))] for i in range(number_of_cluster)}"
   ]
  },
  {
   "cell_type": "code",
   "execution_count": 84,
   "id": "7b1343b7-908e-4d9b-950b-018b3b9dcd30",
   "metadata": {},
   "outputs": [],
   "source": [
    "df_vals_gdp_per_capita_2013 = pd.DataFrame.from_dict(dict_gdp, orient=\"index\").transpose()"
   ]
  },
  {
   "cell_type": "code",
   "execution_count": 85,
   "id": "43457774-39ef-4a21-a751-0bba79b35689",
   "metadata": {},
   "outputs": [
    {
     "data": {
      "text/html": [
       "<div>\n",
       "<style scoped>\n",
       "    .dataframe tbody tr th:only-of-type {\n",
       "        vertical-align: middle;\n",
       "    }\n",
       "\n",
       "    .dataframe tbody tr th {\n",
       "        vertical-align: top;\n",
       "    }\n",
       "\n",
       "    .dataframe thead th {\n",
       "        text-align: right;\n",
       "    }\n",
       "</style>\n",
       "<table border=\"1\" class=\"dataframe\">\n",
       "  <thead>\n",
       "    <tr style=\"text-align: right;\">\n",
       "      <th></th>\n",
       "      <th>0</th>\n",
       "      <th>1</th>\n",
       "      <th>2</th>\n",
       "      <th>3</th>\n",
       "      <th>4</th>\n",
       "    </tr>\n",
       "  </thead>\n",
       "  <tbody>\n",
       "    <tr>\n",
       "      <th>0</th>\n",
       "      <td>-3.547597</td>\n",
       "      <td>6.429817</td>\n",
       "      <td>-0.279709</td>\n",
       "      <td>5.600745</td>\n",
       "      <td>9.574891</td>\n",
       "    </tr>\n",
       "    <tr>\n",
       "      <th>1</th>\n",
       "      <td>5.053078</td>\n",
       "      <td>2.405324</td>\n",
       "      <td>1.821668</td>\n",
       "      <td>4.950000</td>\n",
       "      <td>NaN</td>\n",
       "    </tr>\n",
       "    <tr>\n",
       "      <th>2</th>\n",
       "      <td>2.600212</td>\n",
       "      <td>-2.500000</td>\n",
       "      <td>4.141719</td>\n",
       "      <td>1.002018</td>\n",
       "      <td>NaN</td>\n",
       "    </tr>\n",
       "    <tr>\n",
       "      <th>3</th>\n",
       "      <td>0.025505</td>\n",
       "      <td>-0.600876</td>\n",
       "      <td>3.171790</td>\n",
       "      <td>3.300000</td>\n",
       "      <td>NaN</td>\n",
       "    </tr>\n",
       "    <tr>\n",
       "      <th>4</th>\n",
       "      <td>0.459242</td>\n",
       "      <td>5.416840</td>\n",
       "      <td>10.752807</td>\n",
       "      <td>5.809801</td>\n",
       "      <td>NaN</td>\n",
       "    </tr>\n",
       "  </tbody>\n",
       "</table>\n",
       "</div>"
      ],
      "text/plain": [
       "          0         1          2         3         4\n",
       "0 -3.547597  6.429817  -0.279709  5.600745  9.574891\n",
       "1  5.053078  2.405324   1.821668  4.950000       NaN\n",
       "2  2.600212 -2.500000   4.141719  1.002018       NaN\n",
       "3  0.025505 -0.600876   3.171790  3.300000       NaN\n",
       "4  0.459242  5.416840  10.752807  5.809801       NaN"
      ]
     },
     "execution_count": 85,
     "metadata": {},
     "output_type": "execute_result"
    }
   ],
   "source": [
    "df_vals_gdp_per_capita_2013.head()"
   ]
  },
  {
   "cell_type": "markdown",
   "id": "9eaf8e3c-bc56-42c5-8f0c-5e53fdd59e04",
   "metadata": {},
   "source": [
    "Минимум, максимум, среднее значения темпов роста ВВП в кластерах"
   ]
  },
  {
   "cell_type": "code",
   "execution_count": 86,
   "id": "492dcbb4-0b85-4623-8778-aa045e26f20e",
   "metadata": {},
   "outputs": [
    {
     "data": {
      "text/html": [
       "<div>\n",
       "<style scoped>\n",
       "    .dataframe tbody tr th:only-of-type {\n",
       "        vertical-align: middle;\n",
       "    }\n",
       "\n",
       "    .dataframe tbody tr th {\n",
       "        vertical-align: top;\n",
       "    }\n",
       "\n",
       "    .dataframe thead th {\n",
       "        text-align: right;\n",
       "    }\n",
       "</style>\n",
       "<table border=\"1\" class=\"dataframe\">\n",
       "  <thead>\n",
       "    <tr style=\"text-align: right;\">\n",
       "      <th></th>\n",
       "      <th>0</th>\n",
       "      <th>1</th>\n",
       "      <th>2</th>\n",
       "      <th>3</th>\n",
       "      <th>4</th>\n",
       "    </tr>\n",
       "  </thead>\n",
       "  <tbody>\n",
       "    <tr>\n",
       "      <th>count</th>\n",
       "      <td>30.000000</td>\n",
       "      <td>52.000000</td>\n",
       "      <td>7.000000</td>\n",
       "      <td>116.000000</td>\n",
       "      <td>1.000000</td>\n",
       "    </tr>\n",
       "    <tr>\n",
       "      <th>min</th>\n",
       "      <td>-6.285155</td>\n",
       "      <td>-17.997962</td>\n",
       "      <td>-0.279709</td>\n",
       "      <td>-36.391977</td>\n",
       "      <td>9.574891</td>\n",
       "    </tr>\n",
       "    <tr>\n",
       "      <th>max</th>\n",
       "      <td>5.053078</td>\n",
       "      <td>30.612245</td>\n",
       "      <td>10.752807</td>\n",
       "      <td>20.715768</td>\n",
       "      <td>9.574891</td>\n",
       "    </tr>\n",
       "    <tr>\n",
       "      <th>mean</th>\n",
       "      <td>0.987843</td>\n",
       "      <td>1.936236</td>\n",
       "      <td>3.742627</td>\n",
       "      <td>4.046827</td>\n",
       "      <td>9.574891</td>\n",
       "    </tr>\n",
       "  </tbody>\n",
       "</table>\n",
       "</div>"
      ],
      "text/plain": [
       "               0          1          2           3         4\n",
       "count  30.000000  52.000000   7.000000  116.000000  1.000000\n",
       "min    -6.285155 -17.997962  -0.279709  -36.391977  9.574891\n",
       "max     5.053078  30.612245  10.752807   20.715768  9.574891\n",
       "mean    0.987843   1.936236   3.742627    4.046827  9.574891"
      ]
     },
     "execution_count": 86,
     "metadata": {},
     "output_type": "execute_result"
    }
   ],
   "source": [
    "aggrigate = {i: [\"count\", \"min\", \"max\", \"mean\"] for i in range(number_of_cluster)}\n",
    "df_vals_gdp_per_capita_2013.agg(aggrigate)"
   ]
  },
  {
   "cell_type": "markdown",
   "id": "24f43d0e-3bcc-4c2b-9654-85a001b833da",
   "metadata": {},
   "source": [
    "Значения подушевого ВВП в кластерах"
   ]
  },
  {
   "cell_type": "code",
   "execution_count": 87,
   "id": "07368654-3814-4afd-9815-7c290f753722",
   "metadata": {},
   "outputs": [],
   "source": [
    "dict_gdp_per_capita = {i: [df_gdp_per_capita_gdp_growth_2013.loc[df_gdp_per_capita_gdp_growth_2013[\"Country Name\"] == df_names_gdp_capita_2013[i][j]][\"GDP per capita\"].values[0] for j in range(len(df_names_gdp_capita_2013[i].dropna()))] for i in range(number_of_cluster)}"
   ]
  },
  {
   "cell_type": "code",
   "execution_count": 88,
   "id": "067588fe-9093-4e92-90f3-bbc314313c47",
   "metadata": {},
   "outputs": [],
   "source": [
    "df_vals_capita_per_capita_2013 = pd.DataFrame.from_dict(dict_gdp_per_capita, orient=\"index\").transpose()"
   ]
  },
  {
   "cell_type": "code",
   "execution_count": 89,
   "id": "a714f111-ba23-4ec9-be79-958856c30550",
   "metadata": {},
   "outputs": [
    {
     "data": {
      "text/html": [
       "<div>\n",
       "<style scoped>\n",
       "    .dataframe tbody tr th:only-of-type {\n",
       "        vertical-align: middle;\n",
       "    }\n",
       "\n",
       "    .dataframe tbody tr th {\n",
       "        vertical-align: top;\n",
       "    }\n",
       "\n",
       "    .dataframe thead th {\n",
       "        text-align: right;\n",
       "    }\n",
       "</style>\n",
       "<table border=\"1\" class=\"dataframe\">\n",
       "  <thead>\n",
       "    <tr style=\"text-align: right;\">\n",
       "      <th></th>\n",
       "      <th>0</th>\n",
       "      <th>1</th>\n",
       "      <th>2</th>\n",
       "      <th>3</th>\n",
       "      <th>4</th>\n",
       "    </tr>\n",
       "  </thead>\n",
       "  <tbody>\n",
       "    <tr>\n",
       "      <th>0</th>\n",
       "      <td>39538.355206</td>\n",
       "      <td>26442.426801</td>\n",
       "      <td>99471.638898</td>\n",
       "      <td>624.315455</td>\n",
       "      <td>177673.745368</td>\n",
       "    </tr>\n",
       "    <tr>\n",
       "      <th>1</th>\n",
       "      <td>42412.636491</td>\n",
       "      <td>13080.254732</td>\n",
       "      <td>88109.486752</td>\n",
       "      <td>5127.717243</td>\n",
       "      <td>NaN</td>\n",
       "    </tr>\n",
       "    <tr>\n",
       "      <th>2</th>\n",
       "      <td>68156.627916</td>\n",
       "      <td>11450.724195</td>\n",
       "      <td>83357.132684</td>\n",
       "      <td>4413.062005</td>\n",
       "      <td>NaN</td>\n",
       "    </tr>\n",
       "    <tr>\n",
       "      <th>3</th>\n",
       "      <td>50731.127254</td>\n",
       "      <td>12910.590626</td>\n",
       "      <td>120000.140730</td>\n",
       "      <td>3838.173880</td>\n",
       "      <td>NaN</td>\n",
       "    </tr>\n",
       "    <tr>\n",
       "      <th>4</th>\n",
       "      <td>46757.951856</td>\n",
       "      <td>24744.296959</td>\n",
       "      <td>89260.757104</td>\n",
       "      <td>7875.756953</td>\n",
       "      <td>NaN</td>\n",
       "    </tr>\n",
       "  </tbody>\n",
       "</table>\n",
       "</div>"
      ],
      "text/plain": [
       "              0             1              2            3              4\n",
       "0  39538.355206  26442.426801   99471.638898   624.315455  177673.745368\n",
       "1  42412.636491  13080.254732   88109.486752  5127.717243            NaN\n",
       "2  68156.627916  11450.724195   83357.132684  4413.062005            NaN\n",
       "3  50731.127254  12910.590626  120000.140730  3838.173880            NaN\n",
       "4  46757.951856  24744.296959   89260.757104  7875.756953            NaN"
      ]
     },
     "execution_count": 89,
     "metadata": {},
     "output_type": "execute_result"
    }
   ],
   "source": [
    "df_vals_capita_per_capita_2013.head()"
   ]
  },
  {
   "cell_type": "markdown",
   "id": "93c4e81d-e6b0-4d34-9bac-2513483c1cb5",
   "metadata": {},
   "source": [
    "Минимум, максимум, среднее значения подушевого ВВП в кластерах"
   ]
  },
  {
   "cell_type": "code",
   "execution_count": 90,
   "id": "dbae9c03-b268-4c14-b847-41eaf34a407d",
   "metadata": {},
   "outputs": [
    {
     "data": {
      "text/html": [
       "<div>\n",
       "<style scoped>\n",
       "    .dataframe tbody tr th:only-of-type {\n",
       "        vertical-align: middle;\n",
       "    }\n",
       "\n",
       "    .dataframe tbody tr th {\n",
       "        vertical-align: top;\n",
       "    }\n",
       "\n",
       "    .dataframe thead th {\n",
       "        text-align: right;\n",
       "    }\n",
       "</style>\n",
       "<table border=\"1\" class=\"dataframe\">\n",
       "  <thead>\n",
       "    <tr style=\"text-align: right;\">\n",
       "      <th></th>\n",
       "      <th>0</th>\n",
       "      <th>1</th>\n",
       "      <th>2</th>\n",
       "      <th>3</th>\n",
       "      <th>4</th>\n",
       "    </tr>\n",
       "  </thead>\n",
       "  <tbody>\n",
       "    <tr>\n",
       "      <th>count</th>\n",
       "      <td>30.000000</td>\n",
       "      <td>52.000000</td>\n",
       "      <td>7.000000</td>\n",
       "      <td>116.000000</td>\n",
       "      <td>1.000000</td>\n",
       "    </tr>\n",
       "    <tr>\n",
       "      <th>min</th>\n",
       "      <td>33656.453574</td>\n",
       "      <td>9378.985047</td>\n",
       "      <td>83357.132684</td>\n",
       "      <td>256.973698</td>\n",
       "      <td>177673.745368</td>\n",
       "    </tr>\n",
       "    <tr>\n",
       "      <th>max</th>\n",
       "      <td>73514.669650</td>\n",
       "      <td>29067.809460</td>\n",
       "      <td>120000.140730</td>\n",
       "      <td>8218.347844</td>\n",
       "      <td>177673.745368</td>\n",
       "    </tr>\n",
       "    <tr>\n",
       "      <th>mean</th>\n",
       "      <td>48381.094447</td>\n",
       "      <td>17278.913899</td>\n",
       "      <td>95451.898766</td>\n",
       "      <td>3287.617165</td>\n",
       "      <td>177673.745368</td>\n",
       "    </tr>\n",
       "  </tbody>\n",
       "</table>\n",
       "</div>"
      ],
      "text/plain": [
       "                  0             1              2            3              4\n",
       "count     30.000000     52.000000       7.000000   116.000000       1.000000\n",
       "min    33656.453574   9378.985047   83357.132684   256.973698  177673.745368\n",
       "max    73514.669650  29067.809460  120000.140730  8218.347844  177673.745368\n",
       "mean   48381.094447  17278.913899   95451.898766  3287.617165  177673.745368"
      ]
     },
     "execution_count": 90,
     "metadata": {},
     "output_type": "execute_result"
    }
   ],
   "source": [
    "aggrigate = {i: [\"count\", \"min\", \"max\", \"mean\"] for i in range(number_of_cluster)}\n",
    "df_vals_capita_per_capita_2013.agg(aggrigate)"
   ]
  },
  {
   "cell_type": "markdown",
   "id": "912c6a0b-2f3e-4150-9920-31d72b4c9391",
   "metadata": {},
   "source": [
    "Записываем получившиеся результаты в `excel`-файл"
   ]
  },
  {
   "cell_type": "code",
   "execution_count": 91,
   "id": "c1d2fb59-53b8-4695-af5e-8a5129d599b6",
   "metadata": {},
   "outputs": [],
   "source": [
    "save_as_xlsx(\"./results/gdp_growth_gdp_per_capita_2013.xlsx\",\n",
    "             [\"Country Names\", \"GDP growth\", \"GDP per capita\"],\n",
    "             [df_names_gdp_capita_2013, df_vals_gdp_per_capita_2013, df_vals_capita_per_capita_2013])"
   ]
  },
  {
   "cell_type": "markdown",
   "id": "70ef43a5-0baa-4a88-a8fc-cd06ba846360",
   "metadata": {
    "jp-MarkdownHeadingCollapsed": true,
    "tags": []
   },
   "source": [
    "### Кластеризация на основании подушевого ВВП, темпов роста ВВП, темов инфляции"
   ]
  },
  {
   "cell_type": "markdown",
   "id": "c100c4f6-ced6-4a7c-9070-3e4bb7d09275",
   "metadata": {},
   "source": [
    "Выбираем нужные данные"
   ]
  },
  {
   "cell_type": "code",
   "execution_count": 92,
   "id": "1b5444ff-dcb4-48e4-8cd6-c47beef1a174",
   "metadata": {},
   "outputs": [
    {
     "data": {
      "text/html": [
       "<div>\n",
       "<style scoped>\n",
       "    .dataframe tbody tr th:only-of-type {\n",
       "        vertical-align: middle;\n",
       "    }\n",
       "\n",
       "    .dataframe tbody tr th {\n",
       "        vertical-align: top;\n",
       "    }\n",
       "\n",
       "    .dataframe thead th {\n",
       "        text-align: right;\n",
       "    }\n",
       "</style>\n",
       "<table border=\"1\" class=\"dataframe\">\n",
       "  <thead>\n",
       "    <tr style=\"text-align: right;\">\n",
       "      <th></th>\n",
       "      <th>Country Name</th>\n",
       "      <th>Inflation</th>\n",
       "    </tr>\n",
       "  </thead>\n",
       "  <tbody>\n",
       "    <tr>\n",
       "      <th>0</th>\n",
       "      <td>Aruba</td>\n",
       "      <td>-1.986755</td>\n",
       "    </tr>\n",
       "    <tr>\n",
       "      <th>2</th>\n",
       "      <td>Afghanistan</td>\n",
       "      <td>4.822785</td>\n",
       "    </tr>\n",
       "    <tr>\n",
       "      <th>4</th>\n",
       "      <td>Angola</td>\n",
       "      <td>2.844244</td>\n",
       "    </tr>\n",
       "    <tr>\n",
       "      <th>5</th>\n",
       "      <td>Albania</td>\n",
       "      <td>0.288746</td>\n",
       "    </tr>\n",
       "    <tr>\n",
       "      <th>6</th>\n",
       "      <td>Andorra</td>\n",
       "      <td>0.448492</td>\n",
       "    </tr>\n",
       "  </tbody>\n",
       "</table>\n",
       "</div>"
      ],
      "text/plain": [
       "  Country Name  Inflation\n",
       "0        Aruba  -1.986755\n",
       "2  Afghanistan   4.822785\n",
       "4       Angola   2.844244\n",
       "5      Albania   0.288746\n",
       "6      Andorra   0.448492"
      ]
     },
     "execution_count": 92,
     "metadata": {},
     "output_type": "execute_result"
    }
   ],
   "source": [
    "df_inflation_2013 = df_inflation_data[[\"Country Name\", \"2013\"]].dropna()\n",
    "df_inflation_2013 = df_inflation_2013.rename({\"2013\": \"Inflation\"}, axis=1)\n",
    "df_inflation_2013.head()"
   ]
  },
  {
   "cell_type": "code",
   "execution_count": 93,
   "id": "d0afbee0-4cf2-4abe-98d6-fda42dbe7427",
   "metadata": {},
   "outputs": [
    {
     "data": {
      "text/html": [
       "<div>\n",
       "<style scoped>\n",
       "    .dataframe tbody tr th:only-of-type {\n",
       "        vertical-align: middle;\n",
       "    }\n",
       "\n",
       "    .dataframe tbody tr th {\n",
       "        vertical-align: top;\n",
       "    }\n",
       "\n",
       "    .dataframe thead th {\n",
       "        text-align: right;\n",
       "    }\n",
       "</style>\n",
       "<table border=\"1\" class=\"dataframe\">\n",
       "  <thead>\n",
       "    <tr style=\"text-align: right;\">\n",
       "      <th></th>\n",
       "      <th>Country Name</th>\n",
       "      <th>GDP Growth</th>\n",
       "      <th>GDP per capita</th>\n",
       "      <th>Inflation</th>\n",
       "    </tr>\n",
       "  </thead>\n",
       "  <tbody>\n",
       "    <tr>\n",
       "      <th>0</th>\n",
       "      <td>Aruba</td>\n",
       "      <td>6.429817</td>\n",
       "      <td>26442.426801</td>\n",
       "      <td>-1.986755</td>\n",
       "    </tr>\n",
       "    <tr>\n",
       "      <th>1</th>\n",
       "      <td>Afghanistan</td>\n",
       "      <td>5.600745</td>\n",
       "      <td>624.315455</td>\n",
       "      <td>4.822785</td>\n",
       "    </tr>\n",
       "    <tr>\n",
       "      <th>2</th>\n",
       "      <td>Angola</td>\n",
       "      <td>4.950000</td>\n",
       "      <td>5127.717243</td>\n",
       "      <td>2.844244</td>\n",
       "    </tr>\n",
       "    <tr>\n",
       "      <th>3</th>\n",
       "      <td>Albania</td>\n",
       "      <td>1.002018</td>\n",
       "      <td>4413.062005</td>\n",
       "      <td>0.288746</td>\n",
       "    </tr>\n",
       "    <tr>\n",
       "      <th>4</th>\n",
       "      <td>Andorra</td>\n",
       "      <td>-3.547597</td>\n",
       "      <td>39538.355206</td>\n",
       "      <td>0.448492</td>\n",
       "    </tr>\n",
       "  </tbody>\n",
       "</table>\n",
       "</div>"
      ],
      "text/plain": [
       "  Country Name  GDP Growth  GDP per capita  Inflation\n",
       "0        Aruba    6.429817    26442.426801  -1.986755\n",
       "1  Afghanistan    5.600745      624.315455   4.822785\n",
       "2       Angola    4.950000     5127.717243   2.844244\n",
       "3      Albania    1.002018     4413.062005   0.288746\n",
       "4      Andorra   -3.547597    39538.355206   0.448492"
      ]
     },
     "execution_count": 93,
     "metadata": {},
     "output_type": "execute_result"
    }
   ],
   "source": [
    "df_gdp_per_capita_gdp_growth_inflation_2013 = pd.merge(df_gdp_per_capita_gdp_growth_2013, df_inflation_2013, left_on=\"Country Name\", right_on=\"Country Name\", how=\"left\")\n",
    "df_gdp_per_capita_gdp_growth_inflation_2013.head()"
   ]
  },
  {
   "cell_type": "code",
   "execution_count": 94,
   "id": "aba5d817-2cf5-4083-ac91-a07d00c17169",
   "metadata": {},
   "outputs": [],
   "source": [
    "data_gdp_per_capita_gdp_growth_inflation_2013 = df_gdp_per_capita_gdp_growth_2013.loc[:, \"GDP Growth\":\"Inflation\"].values"
   ]
  },
  {
   "cell_type": "markdown",
   "id": "987fdf46-86f9-4f40-ba7b-8963381bef6e",
   "metadata": {},
   "source": [
    "Стандартизация показателей"
   ]
  },
  {
   "cell_type": "code",
   "execution_count": 95,
   "id": "885ae521-1048-4987-9075-23b4f3b293f2",
   "metadata": {},
   "outputs": [],
   "source": [
    "data_gdp_per_capita_gdp_growth_inflation_2013_std = (data_gdp_per_capita_gdp_growth_inflation_2013 - data_gdp_per_capita_gdp_growth_inflation_2013.mean()) / data_gdp_per_capita_gdp_growth_inflation_2013.std()"
   ]
  },
  {
   "cell_type": "markdown",
   "id": "e5de07d4-2f8f-4304-a76b-8d6a112d7a44",
   "metadata": {},
   "source": [
    "На основании дендрограммы определяем количество кластеров"
   ]
  },
  {
   "cell_type": "code",
   "execution_count": 96,
   "id": "288cf8e4-ac9a-46bb-a1a2-8839dd5f4d13",
   "metadata": {},
   "outputs": [],
   "source": [
    "number_of_cluster = 5"
   ]
  },
  {
   "cell_type": "code",
   "execution_count": 97,
   "id": "c60d0086-00bd-49eb-b744-34bef6cc6e62",
   "metadata": {},
   "outputs": [
    {
     "data": {
      "image/png": "[encoded data removed]",
      "text/plain": [
       "<Figure size 432x288 with 1 Axes>"
      ]
     },
     "metadata": {
      "needs_background": "light"
     },
     "output_type": "display_data"
    }
   ],
   "source": [
    "dendrogram = sch.dendrogram(ward(data_gdp_per_capita_gdp_growth_inflation_2013_std))\n",
    "plt.show()"
   ]
  },
  {
   "cell_type": "markdown",
   "id": "19e48b8b-bb26-42b6-b7a2-ba9e06e5a69c",
   "metadata": {},
   "source": [
    "Кластеризируем данные"
   ]
  },
  {
   "cell_type": "code",
   "execution_count": 98,
   "id": "3651b184-7a86-446e-bb7b-bb8ed7b45df5",
   "metadata": {},
   "outputs": [],
   "source": [
    "hc = AgglomerativeClustering(n_clusters=number_of_cluster, affinity=\"euclidean\", linkage=\"ward\")\n",
    "\n",
    "y_hc = hc.fit_predict(data_gdp_per_capita_gdp_growth_inflation_2013_std)"
   ]
  },
  {
   "cell_type": "code",
   "execution_count": 99,
   "id": "ea4f3f55-ec25-488f-8889-f722a8534ab1",
   "metadata": {},
   "outputs": [],
   "source": [
    "dict_names = {i: [] for i in range(number_of_cluster)}\n",
    "for i in range(len(y_hc)):\n",
    "    dict_names[y_hc[i]].append(df_inflation_2013[\"Country Name\"].values[i])"
   ]
  },
  {
   "cell_type": "markdown",
   "id": "4b07fecb-1992-4110-83c5-7c8286e9723a",
   "metadata": {},
   "source": [
    "Название стран в кластерах"
   ]
  },
  {
   "cell_type": "code",
   "execution_count": 100,
   "id": "a34fdfa3-eccb-42e0-841e-078710b18393",
   "metadata": {},
   "outputs": [],
   "source": [
    "df_names_inflation_2013 = pd.DataFrame.from_dict(dict_names, orient=\"index\")\n",
    "df_names_inflation_2013 = df_names_inflation_2013.transpose()"
   ]
  },
  {
   "cell_type": "code",
   "execution_count": 101,
   "id": "f096ffac-7fd7-4dfa-934d-dab1a4c65ce6",
   "metadata": {},
   "outputs": [
    {
     "data": {
      "text/html": [
       "<div>\n",
       "<style scoped>\n",
       "    .dataframe tbody tr th:only-of-type {\n",
       "        vertical-align: middle;\n",
       "    }\n",
       "\n",
       "    .dataframe tbody tr th {\n",
       "        vertical-align: top;\n",
       "    }\n",
       "\n",
       "    .dataframe thead th {\n",
       "        text-align: right;\n",
       "    }\n",
       "</style>\n",
       "<table border=\"1\" class=\"dataframe\">\n",
       "  <thead>\n",
       "    <tr style=\"text-align: right;\">\n",
       "      <th></th>\n",
       "      <th>0</th>\n",
       "      <th>1</th>\n",
       "      <th>2</th>\n",
       "      <th>3</th>\n",
       "      <th>4</th>\n",
       "    </tr>\n",
       "  </thead>\n",
       "  <tbody>\n",
       "    <tr>\n",
       "      <th>0</th>\n",
       "      <td>Andorra</td>\n",
       "      <td>Aruba</td>\n",
       "      <td>Bermuda</td>\n",
       "      <td>Afghanistan</td>\n",
       "      <td>Monaco</td>\n",
       "    </tr>\n",
       "    <tr>\n",
       "      <th>1</th>\n",
       "      <td>United Arab Emirates</td>\n",
       "      <td>Argentina</td>\n",
       "      <td>Switzerland</td>\n",
       "      <td>Angola</td>\n",
       "      <td>None</td>\n",
       "    </tr>\n",
       "    <tr>\n",
       "      <th>2</th>\n",
       "      <td>Australia</td>\n",
       "      <td>American Samoa</td>\n",
       "      <td>Isle of Man</td>\n",
       "      <td>Albania</td>\n",
       "      <td>None</td>\n",
       "    </tr>\n",
       "    <tr>\n",
       "      <th>3</th>\n",
       "      <td>Austria</td>\n",
       "      <td>Antigua and Barbuda</td>\n",
       "      <td>Luxembourg</td>\n",
       "      <td>Armenia</td>\n",
       "      <td>None</td>\n",
       "    </tr>\n",
       "    <tr>\n",
       "      <th>4</th>\n",
       "      <td>Belgium</td>\n",
       "      <td>Bahrain</td>\n",
       "      <td>Macao SAR, China</td>\n",
       "      <td>Azerbaijan</td>\n",
       "      <td>None</td>\n",
       "    </tr>\n",
       "  </tbody>\n",
       "</table>\n",
       "</div>"
      ],
      "text/plain": [
       "                      0                    1                 2            3  \\\n",
       "0               Andorra                Aruba           Bermuda  Afghanistan   \n",
       "1  United Arab Emirates            Argentina       Switzerland       Angola   \n",
       "2             Australia       American Samoa       Isle of Man      Albania   \n",
       "3               Austria  Antigua and Barbuda        Luxembourg      Armenia   \n",
       "4               Belgium              Bahrain  Macao SAR, China   Azerbaijan   \n",
       "\n",
       "        4  \n",
       "0  Monaco  \n",
       "1    None  \n",
       "2    None  \n",
       "3    None  \n",
       "4    None  "
      ]
     },
     "execution_count": 101,
     "metadata": {},
     "output_type": "execute_result"
    }
   ],
   "source": [
    "df_names_inflation_2013.head()"
   ]
  },
  {
   "cell_type": "markdown",
   "id": "d2cec7fa-3f31-4a90-906f-31fa67c27d78",
   "metadata": {},
   "source": [
    "Значения темпов роста ВВП в кластерах"
   ]
  },
  {
   "cell_type": "code",
   "execution_count": 102,
   "id": "ce6532bb-0ef7-4d42-8a9b-97bdcdf9cf75",
   "metadata": {},
   "outputs": [],
   "source": [
    "dict_gdp = {i: [df_gdp_per_capita_gdp_growth_inflation_2013.loc[df_gdp_per_capita_gdp_growth_inflation_2013[\"Country Name\"] == df_names_inflation_2013[i][j]][\"GDP Growth\"].values[0] for j in range(len(df_names_inflation_2013[i].dropna()))] for i in range(number_of_cluster)}"
   ]
  },
  {
   "cell_type": "code",
   "execution_count": 103,
   "id": "fd6ea657-3740-42c1-a1c3-2b83d5e8ee2a",
   "metadata": {},
   "outputs": [],
   "source": [
    "df_vals_gdp_inflation_2013 = pd.DataFrame.from_dict(dict_gdp, orient=\"index\").transpose()"
   ]
  },
  {
   "cell_type": "code",
   "execution_count": 104,
   "id": "7c26d030-17c7-4dfb-a12a-aeec5b9e2202",
   "metadata": {},
   "outputs": [
    {
     "data": {
      "text/html": [
       "<div>\n",
       "<style scoped>\n",
       "    .dataframe tbody tr th:only-of-type {\n",
       "        vertical-align: middle;\n",
       "    }\n",
       "\n",
       "    .dataframe tbody tr th {\n",
       "        vertical-align: top;\n",
       "    }\n",
       "\n",
       "    .dataframe thead th {\n",
       "        text-align: right;\n",
       "    }\n",
       "</style>\n",
       "<table border=\"1\" class=\"dataframe\">\n",
       "  <thead>\n",
       "    <tr style=\"text-align: right;\">\n",
       "      <th></th>\n",
       "      <th>0</th>\n",
       "      <th>1</th>\n",
       "      <th>2</th>\n",
       "      <th>3</th>\n",
       "      <th>4</th>\n",
       "    </tr>\n",
       "  </thead>\n",
       "  <tbody>\n",
       "    <tr>\n",
       "      <th>0</th>\n",
       "      <td>-3.547597</td>\n",
       "      <td>6.429817</td>\n",
       "      <td>-0.279709</td>\n",
       "      <td>5.600745</td>\n",
       "      <td>9.574891</td>\n",
       "    </tr>\n",
       "    <tr>\n",
       "      <th>1</th>\n",
       "      <td>5.053078</td>\n",
       "      <td>2.405324</td>\n",
       "      <td>1.821668</td>\n",
       "      <td>4.950000</td>\n",
       "      <td>NaN</td>\n",
       "    </tr>\n",
       "    <tr>\n",
       "      <th>2</th>\n",
       "      <td>2.600212</td>\n",
       "      <td>-2.500000</td>\n",
       "      <td>4.141719</td>\n",
       "      <td>1.002018</td>\n",
       "      <td>NaN</td>\n",
       "    </tr>\n",
       "    <tr>\n",
       "      <th>3</th>\n",
       "      <td>0.025505</td>\n",
       "      <td>-0.600876</td>\n",
       "      <td>3.171790</td>\n",
       "      <td>3.300000</td>\n",
       "      <td>NaN</td>\n",
       "    </tr>\n",
       "    <tr>\n",
       "      <th>4</th>\n",
       "      <td>0.459242</td>\n",
       "      <td>5.416840</td>\n",
       "      <td>10.752807</td>\n",
       "      <td>5.809801</td>\n",
       "      <td>NaN</td>\n",
       "    </tr>\n",
       "  </tbody>\n",
       "</table>\n",
       "</div>"
      ],
      "text/plain": [
       "          0         1          2         3         4\n",
       "0 -3.547597  6.429817  -0.279709  5.600745  9.574891\n",
       "1  5.053078  2.405324   1.821668  4.950000       NaN\n",
       "2  2.600212 -2.500000   4.141719  1.002018       NaN\n",
       "3  0.025505 -0.600876   3.171790  3.300000       NaN\n",
       "4  0.459242  5.416840  10.752807  5.809801       NaN"
      ]
     },
     "execution_count": 104,
     "metadata": {},
     "output_type": "execute_result"
    }
   ],
   "source": [
    "df_vals_gdp_inflation_2013.head()"
   ]
  },
  {
   "cell_type": "markdown",
   "id": "d0ef953d-3854-4504-8238-d4fb0acb4302",
   "metadata": {},
   "source": [
    "Минимум, максимум, среднее значения темпов роста ВВП в кластерах"
   ]
  },
  {
   "cell_type": "code",
   "execution_count": 105,
   "id": "6ed9f6ed-cc4a-47b8-91ef-32cea28f0249",
   "metadata": {},
   "outputs": [
    {
     "data": {
      "text/html": [
       "<div>\n",
       "<style scoped>\n",
       "    .dataframe tbody tr th:only-of-type {\n",
       "        vertical-align: middle;\n",
       "    }\n",
       "\n",
       "    .dataframe tbody tr th {\n",
       "        vertical-align: top;\n",
       "    }\n",
       "\n",
       "    .dataframe thead th {\n",
       "        text-align: right;\n",
       "    }\n",
       "</style>\n",
       "<table border=\"1\" class=\"dataframe\">\n",
       "  <thead>\n",
       "    <tr style=\"text-align: right;\">\n",
       "      <th></th>\n",
       "      <th>0</th>\n",
       "      <th>1</th>\n",
       "      <th>2</th>\n",
       "      <th>3</th>\n",
       "      <th>4</th>\n",
       "    </tr>\n",
       "  </thead>\n",
       "  <tbody>\n",
       "    <tr>\n",
       "      <th>count</th>\n",
       "      <td>30.000000</td>\n",
       "      <td>52.000000</td>\n",
       "      <td>7.000000</td>\n",
       "      <td>116.000000</td>\n",
       "      <td>1.000000</td>\n",
       "    </tr>\n",
       "    <tr>\n",
       "      <th>min</th>\n",
       "      <td>-6.285155</td>\n",
       "      <td>-17.997962</td>\n",
       "      <td>-0.279709</td>\n",
       "      <td>-36.391977</td>\n",
       "      <td>9.574891</td>\n",
       "    </tr>\n",
       "    <tr>\n",
       "      <th>max</th>\n",
       "      <td>5.053078</td>\n",
       "      <td>30.612245</td>\n",
       "      <td>10.752807</td>\n",
       "      <td>20.715768</td>\n",
       "      <td>9.574891</td>\n",
       "    </tr>\n",
       "    <tr>\n",
       "      <th>mean</th>\n",
       "      <td>0.987843</td>\n",
       "      <td>1.936236</td>\n",
       "      <td>3.742627</td>\n",
       "      <td>4.046827</td>\n",
       "      <td>9.574891</td>\n",
       "    </tr>\n",
       "  </tbody>\n",
       "</table>\n",
       "</div>"
      ],
      "text/plain": [
       "               0          1          2           3         4\n",
       "count  30.000000  52.000000   7.000000  116.000000  1.000000\n",
       "min    -6.285155 -17.997962  -0.279709  -36.391977  9.574891\n",
       "max     5.053078  30.612245  10.752807   20.715768  9.574891\n",
       "mean    0.987843   1.936236   3.742627    4.046827  9.574891"
      ]
     },
     "execution_count": 105,
     "metadata": {},
     "output_type": "execute_result"
    }
   ],
   "source": [
    "aggrigate = {i: [\"count\", \"min\", \"max\", \"mean\"] for i in range(number_of_cluster)}\n",
    "df_vals_gdp_inflation_2013.agg(aggrigate)"
   ]
  },
  {
   "cell_type": "markdown",
   "id": "3d1b2bc5-1b86-40ad-b588-881595cbab41",
   "metadata": {},
   "source": [
    "Значения подушевого ВВП в кластерах"
   ]
  },
  {
   "cell_type": "code",
   "execution_count": 106,
   "id": "2ce05f21-04c6-40e9-bb1d-6cf610cb655c",
   "metadata": {},
   "outputs": [],
   "source": [
    "dict_gdp_per_capita = {i: [df_gdp_per_capita_gdp_growth_inflation_2013.loc[df_gdp_per_capita_gdp_growth_inflation_2013[\"Country Name\"] == df_names_inflation_2013[i][j]][\"GDP per capita\"].values[0] for j in range(len(df_names_inflation_2013[i].dropna()))] for i in range(number_of_cluster)}"
   ]
  },
  {
   "cell_type": "code",
   "execution_count": 107,
   "id": "c5e3a25c-0dae-4c19-9ef8-ef1ec46615f7",
   "metadata": {},
   "outputs": [],
   "source": [
    "df_vals_capita_inflation_2013 = pd.DataFrame.from_dict(dict_gdp_per_capita, orient=\"index\").transpose()"
   ]
  },
  {
   "cell_type": "code",
   "execution_count": 108,
   "id": "f706adef-c9e8-409b-8f47-7f52540783db",
   "metadata": {},
   "outputs": [
    {
     "data": {
      "text/html": [
       "<div>\n",
       "<style scoped>\n",
       "    .dataframe tbody tr th:only-of-type {\n",
       "        vertical-align: middle;\n",
       "    }\n",
       "\n",
       "    .dataframe tbody tr th {\n",
       "        vertical-align: top;\n",
       "    }\n",
       "\n",
       "    .dataframe thead th {\n",
       "        text-align: right;\n",
       "    }\n",
       "</style>\n",
       "<table border=\"1\" class=\"dataframe\">\n",
       "  <thead>\n",
       "    <tr style=\"text-align: right;\">\n",
       "      <th></th>\n",
       "      <th>0</th>\n",
       "      <th>1</th>\n",
       "      <th>2</th>\n",
       "      <th>3</th>\n",
       "      <th>4</th>\n",
       "    </tr>\n",
       "  </thead>\n",
       "  <tbody>\n",
       "    <tr>\n",
       "      <th>0</th>\n",
       "      <td>39538.355206</td>\n",
       "      <td>26442.426801</td>\n",
       "      <td>99471.638898</td>\n",
       "      <td>624.315455</td>\n",
       "      <td>177673.745368</td>\n",
       "    </tr>\n",
       "    <tr>\n",
       "      <th>1</th>\n",
       "      <td>42412.636491</td>\n",
       "      <td>13080.254732</td>\n",
       "      <td>88109.486752</td>\n",
       "      <td>5127.717243</td>\n",
       "      <td>NaN</td>\n",
       "    </tr>\n",
       "    <tr>\n",
       "      <th>2</th>\n",
       "      <td>68156.627916</td>\n",
       "      <td>11450.724195</td>\n",
       "      <td>83357.132684</td>\n",
       "      <td>4413.062005</td>\n",
       "      <td>NaN</td>\n",
       "    </tr>\n",
       "    <tr>\n",
       "      <th>3</th>\n",
       "      <td>50731.127254</td>\n",
       "      <td>12910.590626</td>\n",
       "      <td>120000.140730</td>\n",
       "      <td>3838.173880</td>\n",
       "      <td>NaN</td>\n",
       "    </tr>\n",
       "    <tr>\n",
       "      <th>4</th>\n",
       "      <td>46757.951856</td>\n",
       "      <td>24744.296959</td>\n",
       "      <td>89260.757104</td>\n",
       "      <td>7875.756953</td>\n",
       "      <td>NaN</td>\n",
       "    </tr>\n",
       "  </tbody>\n",
       "</table>\n",
       "</div>"
      ],
      "text/plain": [
       "              0             1              2            3              4\n",
       "0  39538.355206  26442.426801   99471.638898   624.315455  177673.745368\n",
       "1  42412.636491  13080.254732   88109.486752  5127.717243            NaN\n",
       "2  68156.627916  11450.724195   83357.132684  4413.062005            NaN\n",
       "3  50731.127254  12910.590626  120000.140730  3838.173880            NaN\n",
       "4  46757.951856  24744.296959   89260.757104  7875.756953            NaN"
      ]
     },
     "execution_count": 108,
     "metadata": {},
     "output_type": "execute_result"
    }
   ],
   "source": [
    "df_vals_capita_inflation_2013.head()"
   ]
  },
  {
   "cell_type": "markdown",
   "id": "c03abb86-8e0d-41c2-8316-b151c26678a9",
   "metadata": {},
   "source": [
    "Минимум, максимум, среднее значения подушевого ВВП в кластерах"
   ]
  },
  {
   "cell_type": "code",
   "execution_count": 109,
   "id": "d86f7344-e2fb-471e-973b-40ef91932197",
   "metadata": {},
   "outputs": [
    {
     "data": {
      "text/html": [
       "<div>\n",
       "<style scoped>\n",
       "    .dataframe tbody tr th:only-of-type {\n",
       "        vertical-align: middle;\n",
       "    }\n",
       "\n",
       "    .dataframe tbody tr th {\n",
       "        vertical-align: top;\n",
       "    }\n",
       "\n",
       "    .dataframe thead th {\n",
       "        text-align: right;\n",
       "    }\n",
       "</style>\n",
       "<table border=\"1\" class=\"dataframe\">\n",
       "  <thead>\n",
       "    <tr style=\"text-align: right;\">\n",
       "      <th></th>\n",
       "      <th>0</th>\n",
       "      <th>1</th>\n",
       "      <th>2</th>\n",
       "      <th>3</th>\n",
       "      <th>4</th>\n",
       "    </tr>\n",
       "  </thead>\n",
       "  <tbody>\n",
       "    <tr>\n",
       "      <th>count</th>\n",
       "      <td>30.000000</td>\n",
       "      <td>52.000000</td>\n",
       "      <td>7.000000</td>\n",
       "      <td>116.000000</td>\n",
       "      <td>1.000000</td>\n",
       "    </tr>\n",
       "    <tr>\n",
       "      <th>min</th>\n",
       "      <td>33656.453574</td>\n",
       "      <td>9378.985047</td>\n",
       "      <td>83357.132684</td>\n",
       "      <td>256.973698</td>\n",
       "      <td>177673.745368</td>\n",
       "    </tr>\n",
       "    <tr>\n",
       "      <th>max</th>\n",
       "      <td>73514.669650</td>\n",
       "      <td>29067.809460</td>\n",
       "      <td>120000.140730</td>\n",
       "      <td>8218.347844</td>\n",
       "      <td>177673.745368</td>\n",
       "    </tr>\n",
       "    <tr>\n",
       "      <th>mean</th>\n",
       "      <td>48381.094447</td>\n",
       "      <td>17278.913899</td>\n",
       "      <td>95451.898766</td>\n",
       "      <td>3287.617165</td>\n",
       "      <td>177673.745368</td>\n",
       "    </tr>\n",
       "  </tbody>\n",
       "</table>\n",
       "</div>"
      ],
      "text/plain": [
       "                  0             1              2            3              4\n",
       "count     30.000000     52.000000       7.000000   116.000000       1.000000\n",
       "min    33656.453574   9378.985047   83357.132684   256.973698  177673.745368\n",
       "max    73514.669650  29067.809460  120000.140730  8218.347844  177673.745368\n",
       "mean   48381.094447  17278.913899   95451.898766  3287.617165  177673.745368"
      ]
     },
     "execution_count": 109,
     "metadata": {},
     "output_type": "execute_result"
    }
   ],
   "source": [
    "aggrigate = {i: [\"count\", \"min\", \"max\", \"mean\"] for i in range(number_of_cluster)}\n",
    "df_vals_capita_inflation_2013.agg(aggrigate)"
   ]
  },
  {
   "cell_type": "markdown",
   "id": "033b74d0-a499-476a-94dd-7d14e2b8db12",
   "metadata": {},
   "source": [
    "Значения темпа инфляции в кластерах"
   ]
  },
  {
   "cell_type": "code",
   "execution_count": 110,
   "id": "ddeaccfb-283c-4fb1-9a7b-02d7c5daec06",
   "metadata": {},
   "outputs": [],
   "source": [
    "dict_inflation = {i: [df_gdp_per_capita_gdp_growth_inflation_2013.loc[df_gdp_per_capita_gdp_growth_inflation_2013[\"Country Name\"] == df_names_inflation_2013[i][j]][\"Inflation\"].values[0] for j in range(len(df_names_inflation_2013[i].dropna()))] for i in range(number_of_cluster)}"
   ]
  },
  {
   "cell_type": "code",
   "execution_count": 111,
   "id": "5c9be501-c87f-461d-ac7d-c9e989e94f9d",
   "metadata": {},
   "outputs": [],
   "source": [
    "df_vals_inflation_inflation_2013 = pd.DataFrame.from_dict(dict_inflation, orient=\"index\").transpose()"
   ]
  },
  {
   "cell_type": "code",
   "execution_count": 112,
   "id": "685a43bf-54d3-4f33-a720-5372d1fbb194",
   "metadata": {},
   "outputs": [
    {
     "data": {
      "text/html": [
       "<div>\n",
       "<style scoped>\n",
       "    .dataframe tbody tr th:only-of-type {\n",
       "        vertical-align: middle;\n",
       "    }\n",
       "\n",
       "    .dataframe tbody tr th {\n",
       "        vertical-align: top;\n",
       "    }\n",
       "\n",
       "    .dataframe thead th {\n",
       "        text-align: right;\n",
       "    }\n",
       "</style>\n",
       "<table border=\"1\" class=\"dataframe\">\n",
       "  <thead>\n",
       "    <tr style=\"text-align: right;\">\n",
       "      <th></th>\n",
       "      <th>0</th>\n",
       "      <th>1</th>\n",
       "      <th>2</th>\n",
       "      <th>3</th>\n",
       "      <th>4</th>\n",
       "    </tr>\n",
       "  </thead>\n",
       "  <tbody>\n",
       "    <tr>\n",
       "      <th>0</th>\n",
       "      <td>0.448492</td>\n",
       "      <td>-1.986755</td>\n",
       "      <td>1.657273</td>\n",
       "      <td>4.822785</td>\n",
       "      <td>0.780385</td>\n",
       "    </tr>\n",
       "    <tr>\n",
       "      <th>1</th>\n",
       "      <td>-0.866918</td>\n",
       "      <td>23.948798</td>\n",
       "      <td>-0.023308</td>\n",
       "      <td>2.844244</td>\n",
       "      <td>NaN</td>\n",
       "    </tr>\n",
       "    <tr>\n",
       "      <th>2</th>\n",
       "      <td>-0.152592</td>\n",
       "      <td>2.243590</td>\n",
       "      <td>1.535803</td>\n",
       "      <td>0.288746</td>\n",
       "      <td>NaN</td>\n",
       "    </tr>\n",
       "    <tr>\n",
       "      <th>3</th>\n",
       "      <td>1.623888</td>\n",
       "      <td>-0.946544</td>\n",
       "      <td>2.276024</td>\n",
       "      <td>3.366825</td>\n",
       "      <td>NaN</td>\n",
       "    </tr>\n",
       "    <tr>\n",
       "      <th>4</th>\n",
       "      <td>1.271258</td>\n",
       "      <td>0.384140</td>\n",
       "      <td>7.732683</td>\n",
       "      <td>0.445065</td>\n",
       "      <td>NaN</td>\n",
       "    </tr>\n",
       "  </tbody>\n",
       "</table>\n",
       "</div>"
      ],
      "text/plain": [
       "          0          1         2         3         4\n",
       "0  0.448492  -1.986755  1.657273  4.822785  0.780385\n",
       "1 -0.866918  23.948798 -0.023308  2.844244       NaN\n",
       "2 -0.152592   2.243590  1.535803  0.288746       NaN\n",
       "3  1.623888  -0.946544  2.276024  3.366825       NaN\n",
       "4  1.271258   0.384140  7.732683  0.445065       NaN"
      ]
     },
     "execution_count": 112,
     "metadata": {},
     "output_type": "execute_result"
    }
   ],
   "source": [
    "df_vals_inflation_inflation_2013.head()"
   ]
  },
  {
   "cell_type": "markdown",
   "id": "d6c2ef38-b22f-48c9-bca9-bcce1968ebf4",
   "metadata": {},
   "source": [
    "Минимум, максимум, среднее значения инфляции в кластерах"
   ]
  },
  {
   "cell_type": "code",
   "execution_count": 113,
   "id": "36a78082-1a5d-452e-ae3b-9eddabd50eec",
   "metadata": {},
   "outputs": [
    {
     "data": {
      "text/html": [
       "<div>\n",
       "<style scoped>\n",
       "    .dataframe tbody tr th:only-of-type {\n",
       "        vertical-align: middle;\n",
       "    }\n",
       "\n",
       "    .dataframe tbody tr th {\n",
       "        vertical-align: top;\n",
       "    }\n",
       "\n",
       "    .dataframe thead th {\n",
       "        text-align: right;\n",
       "    }\n",
       "</style>\n",
       "<table border=\"1\" class=\"dataframe\">\n",
       "  <thead>\n",
       "    <tr style=\"text-align: right;\">\n",
       "      <th></th>\n",
       "      <th>0</th>\n",
       "      <th>1</th>\n",
       "      <th>2</th>\n",
       "      <th>3</th>\n",
       "      <th>4</th>\n",
       "    </tr>\n",
       "  </thead>\n",
       "  <tbody>\n",
       "    <tr>\n",
       "      <th>count</th>\n",
       "      <td>30.000000</td>\n",
       "      <td>52.000000</td>\n",
       "      <td>7.000000</td>\n",
       "      <td>116.000000</td>\n",
       "      <td>1.000000</td>\n",
       "    </tr>\n",
       "    <tr>\n",
       "      <th>min</th>\n",
       "      <td>-2.821321</td>\n",
       "      <td>-21.808511</td>\n",
       "      <td>-0.023308</td>\n",
       "      <td>-4.141367</td>\n",
       "      <td>0.780385</td>\n",
       "    </tr>\n",
       "    <tr>\n",
       "      <th>max</th>\n",
       "      <td>4.227317</td>\n",
       "      <td>35.502675</td>\n",
       "      <td>7.732683</td>\n",
       "      <td>54.012912</td>\n",
       "      <td>0.780385</td>\n",
       "    </tr>\n",
       "    <tr>\n",
       "      <th>mean</th>\n",
       "      <td>0.987351</td>\n",
       "      <td>2.635390</td>\n",
       "      <td>2.357308</td>\n",
       "      <td>5.552653</td>\n",
       "      <td>0.780385</td>\n",
       "    </tr>\n",
       "  </tbody>\n",
       "</table>\n",
       "</div>"
      ],
      "text/plain": [
       "               0          1         2           3         4\n",
       "count  30.000000  52.000000  7.000000  116.000000  1.000000\n",
       "min    -2.821321 -21.808511 -0.023308   -4.141367  0.780385\n",
       "max     4.227317  35.502675  7.732683   54.012912  0.780385\n",
       "mean    0.987351   2.635390  2.357308    5.552653  0.780385"
      ]
     },
     "execution_count": 113,
     "metadata": {},
     "output_type": "execute_result"
    }
   ],
   "source": [
    "aggrigate = {i: [\"count\", \"min\", \"max\", \"mean\"] for i in range(number_of_cluster)}\n",
    "df_vals_inflation_inflation_2013.agg(aggrigate)"
   ]
  },
  {
   "cell_type": "markdown",
   "id": "271ebe02-d0d5-4211-9d5c-773e5306b8e5",
   "metadata": {},
   "source": [
    "Записываем получившиеся результаты в `excel`-файл"
   ]
  },
  {
   "cell_type": "code",
   "execution_count": 114,
   "id": "0d754657-422c-45e8-8d7b-30dbda2f3dfd",
   "metadata": {},
   "outputs": [],
   "source": [
    "save_as_xlsx(\"./results/gdp_per_capita_gdp_growth_inflation_2013.xlsx\",\n",
    "             [\"Country Names\", \"GDP growth\", \"GDP per capita\", \"Inflation\"],\n",
    "             [df_names_inflation_2013, df_vals_gdp_inflation_2013, df_vals_capita_inflation_2013, df_vals_inflation_inflation_2013])"
   ]
  },
  {
   "cell_type": "markdown",
   "id": "33a6a87c-1972-494c-809a-f7b3af75a6f5",
   "metadata": {
    "jp-MarkdownHeadingCollapsed": true,
    "tags": []
   },
   "source": [
    "## 2013 - 2019 года"
   ]
  },
  {
   "cell_type": "markdown",
   "id": "eb044beb-c932-405e-b848-0ec29c050166",
   "metadata": {
    "jp-MarkdownHeadingCollapsed": true,
    "tags": []
   },
   "source": [
    "### Кластеризация на основании темпов роста ВВП"
   ]
  },
  {
   "cell_type": "markdown",
   "id": "590229db-3d83-4575-97a2-4cc7868148da",
   "metadata": {},
   "source": [
    "Выбираем нужные данные"
   ]
  },
  {
   "cell_type": "code",
   "execution_count": 115,
   "id": "49a7e594-cac0-4dcb-8175-f16fbee107de",
   "metadata": {},
   "outputs": [
    {
     "data": {
      "text/html": [
       "<div>\n",
       "<style scoped>\n",
       "    .dataframe tbody tr th:only-of-type {\n",
       "        vertical-align: middle;\n",
       "    }\n",
       "\n",
       "    .dataframe tbody tr th {\n",
       "        vertical-align: top;\n",
       "    }\n",
       "\n",
       "    .dataframe thead th {\n",
       "        text-align: right;\n",
       "    }\n",
       "</style>\n",
       "<table border=\"1\" class=\"dataframe\">\n",
       "  <thead>\n",
       "    <tr style=\"text-align: right;\">\n",
       "      <th></th>\n",
       "      <th>Mean GDP Growth</th>\n",
       "    </tr>\n",
       "  </thead>\n",
       "  <tbody>\n",
       "    <tr>\n",
       "      <th>0</th>\n",
       "      <td>2.390525</td>\n",
       "    </tr>\n",
       "    <tr>\n",
       "      <th>1</th>\n",
       "      <td>2.826393</td>\n",
       "    </tr>\n",
       "    <tr>\n",
       "      <th>2</th>\n",
       "      <td>0.851955</td>\n",
       "    </tr>\n",
       "    <tr>\n",
       "      <th>3</th>\n",
       "      <td>2.602832</td>\n",
       "    </tr>\n",
       "    <tr>\n",
       "      <th>4</th>\n",
       "      <td>1.150153</td>\n",
       "    </tr>\n",
       "  </tbody>\n",
       "</table>\n",
       "</div>"
      ],
      "text/plain": [
       "   Mean GDP Growth\n",
       "0         2.390525\n",
       "1         2.826393\n",
       "2         0.851955\n",
       "3         2.602832\n",
       "4         1.150153"
      ]
     },
     "execution_count": 115,
     "metadata": {},
     "output_type": "execute_result"
    }
   ],
   "source": [
    "df_mean = pd.DataFrame(df_gdp_growth_data.loc[:, \"2013\":\"2019\"].dropna().mean(axis=1)).rename({0: \"Mean GDP Growth\"}, axis=1)\n",
    "df_mean.head()"
   ]
  },
  {
   "cell_type": "code",
   "execution_count": 116,
   "id": "9ef6ea46-5c6b-4821-b599-d7b268ca3b0a",
   "metadata": {},
   "outputs": [
    {
     "data": {
      "text/html": [
       "<div>\n",
       "<style scoped>\n",
       "    .dataframe tbody tr th:only-of-type {\n",
       "        vertical-align: middle;\n",
       "    }\n",
       "\n",
       "    .dataframe tbody tr th {\n",
       "        vertical-align: top;\n",
       "    }\n",
       "\n",
       "    .dataframe thead th {\n",
       "        text-align: right;\n",
       "    }\n",
       "</style>\n",
       "<table border=\"1\" class=\"dataframe\">\n",
       "  <thead>\n",
       "    <tr style=\"text-align: right;\">\n",
       "      <th></th>\n",
       "      <th>Country Name</th>\n",
       "      <th>Mean GDP Growth</th>\n",
       "    </tr>\n",
       "  </thead>\n",
       "  <tbody>\n",
       "    <tr>\n",
       "      <th>0</th>\n",
       "      <td>Aruba</td>\n",
       "      <td>2.390525</td>\n",
       "    </tr>\n",
       "    <tr>\n",
       "      <th>1</th>\n",
       "      <td>Afghanistan</td>\n",
       "      <td>2.826393</td>\n",
       "    </tr>\n",
       "    <tr>\n",
       "      <th>2</th>\n",
       "      <td>Angola</td>\n",
       "      <td>0.851955</td>\n",
       "    </tr>\n",
       "    <tr>\n",
       "      <th>3</th>\n",
       "      <td>Albania</td>\n",
       "      <td>2.602832</td>\n",
       "    </tr>\n",
       "    <tr>\n",
       "      <th>4</th>\n",
       "      <td>Andorra</td>\n",
       "      <td>1.150153</td>\n",
       "    </tr>\n",
       "  </tbody>\n",
       "</table>\n",
       "</div>"
      ],
      "text/plain": [
       "  Country Name  Mean GDP Growth\n",
       "0        Aruba         2.390525\n",
       "1  Afghanistan         2.826393\n",
       "2       Angola         0.851955\n",
       "3      Albania         2.602832\n",
       "4      Andorra         1.150153"
      ]
     },
     "execution_count": 116,
     "metadata": {},
     "output_type": "execute_result"
    }
   ],
   "source": [
    "df_mean_gdp_growth_2013_2019 = pd.merge(df_gdp_growth_data[\"Country Name\"], df_mean, left_index=True, right_index=True)\n",
    "df_mean_gdp_growth_2013_2019.head()"
   ]
  },
  {
   "cell_type": "markdown",
   "id": "73cc1f15-8936-4b06-830e-814a5a26f523",
   "metadata": {},
   "source": [
    "На основании дендрограммы определяем количество кластеров"
   ]
  },
  {
   "cell_type": "code",
   "execution_count": 117,
   "id": "95fee992-8e0f-4b91-ad82-727479ae1432",
   "metadata": {},
   "outputs": [],
   "source": [
    "number_of_cluster = 5"
   ]
  },
  {
   "cell_type": "code",
   "execution_count": 118,
   "id": "5be40e6e-afe9-4eb9-be0f-a96503c186db",
   "metadata": {},
   "outputs": [
    {
     "data": {
      "image/png": "[encoded data removed]",
      "text/plain": [
       "<Figure size 432x288 with 1 Axes>"
      ]
     },
     "metadata": {
      "needs_background": "light"
     },
     "output_type": "display_data"
    }
   ],
   "source": [
    "data_2d_mean_gdp_growth_2013_2019 = np.reshape(df_mean_gdp_growth_2013_2019[\"Mean GDP Growth\"].values, (len(df_mean_gdp_growth_2013_2019[\"Mean GDP Growth\"].values), 1))\n",
    "\n",
    "dendrogram = sch.dendrogram(ward(data_2d_mean_gdp_growth_2013_2019))\n",
    "plt.show()"
   ]
  },
  {
   "cell_type": "markdown",
   "id": "213dea96-fb5b-4e1f-b857-9a335d109a2c",
   "metadata": {},
   "source": [
    "Кластеризируем данные"
   ]
  },
  {
   "cell_type": "code",
   "execution_count": 119,
   "id": "2f9d1f9e-fb85-4fa7-a91f-444af1379e18",
   "metadata": {},
   "outputs": [],
   "source": [
    "hc = AgglomerativeClustering(n_clusters=number_of_cluster, affinity=\"euclidean\", linkage=\"ward\")\n",
    "\n",
    "y_hc = hc.fit_predict(data_2d_mean_gdp_growth_2013_2019)"
   ]
  },
  {
   "cell_type": "code",
   "execution_count": 120,
   "id": "5a4d3395-ad52-4b51-836a-943716862269",
   "metadata": {},
   "outputs": [],
   "source": [
    "dict_names = {i: [] for i in range(number_of_cluster)}\n",
    "for i in range(len(y_hc)):\n",
    "    dict_names[y_hc[i]].append(df_mean_gdp_growth_2013_2019[\"Country Name\"].values[i])"
   ]
  },
  {
   "cell_type": "markdown",
   "id": "777d79b1-ff35-4bde-8d24-27f8f9167d0b",
   "metadata": {},
   "source": [
    "Название стран в кластерах"
   ]
  },
  {
   "cell_type": "code",
   "execution_count": 121,
   "id": "794eff68-b21f-44ba-b76f-d7f37047047d",
   "metadata": {},
   "outputs": [],
   "source": [
    "df_names_gdp_mean_2013_2019 = pd.DataFrame.from_dict(dict_names, orient=\"index\").transpose()"
   ]
  },
  {
   "cell_type": "code",
   "execution_count": 122,
   "id": "b2825f14-68ad-4bfc-8c6f-3d9ed8f309fe",
   "metadata": {},
   "outputs": [
    {
     "data": {
      "text/html": [
       "<div>\n",
       "<style scoped>\n",
       "    .dataframe tbody tr th:only-of-type {\n",
       "        vertical-align: middle;\n",
       "    }\n",
       "\n",
       "    .dataframe tbody tr th {\n",
       "        vertical-align: top;\n",
       "    }\n",
       "\n",
       "    .dataframe thead th {\n",
       "        text-align: right;\n",
       "    }\n",
       "</style>\n",
       "<table border=\"1\" class=\"dataframe\">\n",
       "  <thead>\n",
       "    <tr style=\"text-align: right;\">\n",
       "      <th></th>\n",
       "      <th>0</th>\n",
       "      <th>1</th>\n",
       "      <th>2</th>\n",
       "      <th>3</th>\n",
       "      <th>4</th>\n",
       "    </tr>\n",
       "  </thead>\n",
       "  <tbody>\n",
       "    <tr>\n",
       "      <th>0</th>\n",
       "      <td>United Arab Emirates</td>\n",
       "      <td>Argentina</td>\n",
       "      <td>Aruba</td>\n",
       "      <td>Bangladesh</td>\n",
       "      <td>Equatorial Guinea</td>\n",
       "    </tr>\n",
       "    <tr>\n",
       "      <th>1</th>\n",
       "      <td>Armenia</td>\n",
       "      <td>American Samoa</td>\n",
       "      <td>Afghanistan</td>\n",
       "      <td>China</td>\n",
       "      <td>Yemen, Rep.</td>\n",
       "    </tr>\n",
       "    <tr>\n",
       "      <th>2</th>\n",
       "      <td>Antigua and Barbuda</td>\n",
       "      <td>Belarus</td>\n",
       "      <td>Angola</td>\n",
       "      <td>Cote d'Ivoire</td>\n",
       "      <td>None</td>\n",
       "    </tr>\n",
       "    <tr>\n",
       "      <th>3</th>\n",
       "      <td>Benin</td>\n",
       "      <td>Bermuda</td>\n",
       "      <td>Albania</td>\n",
       "      <td>Ethiopia</td>\n",
       "      <td>None</td>\n",
       "    </tr>\n",
       "    <tr>\n",
       "      <th>4</th>\n",
       "      <td>Burkina Faso</td>\n",
       "      <td>Brazil</td>\n",
       "      <td>Andorra</td>\n",
       "      <td>Guinea</td>\n",
       "      <td>None</td>\n",
       "    </tr>\n",
       "  </tbody>\n",
       "</table>\n",
       "</div>"
      ],
      "text/plain": [
       "                      0               1            2              3  \\\n",
       "0  United Arab Emirates       Argentina        Aruba     Bangladesh   \n",
       "1               Armenia  American Samoa  Afghanistan          China   \n",
       "2   Antigua and Barbuda         Belarus       Angola  Cote d'Ivoire   \n",
       "3                 Benin         Bermuda      Albania       Ethiopia   \n",
       "4          Burkina Faso          Brazil      Andorra         Guinea   \n",
       "\n",
       "                   4  \n",
       "0  Equatorial Guinea  \n",
       "1        Yemen, Rep.  \n",
       "2               None  \n",
       "3               None  \n",
       "4               None  "
      ]
     },
     "execution_count": 122,
     "metadata": {},
     "output_type": "execute_result"
    }
   ],
   "source": [
    "df_names_gdp_mean_2013_2019.head()"
   ]
  },
  {
   "cell_type": "markdown",
   "id": "d570c330-3f85-460b-9b8b-121339f9af73",
   "metadata": {},
   "source": [
    "Значения темпов роста ВВП в кластерах"
   ]
  },
  {
   "cell_type": "code",
   "execution_count": 123,
   "id": "82028972-5b6d-4030-b868-fa3d196cfe81",
   "metadata": {},
   "outputs": [],
   "source": [
    "dict_vals = {i: [df_mean_gdp_growth_2013_2019.loc[df_mean_gdp_growth_2013_2019[\"Country Name\"] == df_names_gdp_mean_2013_2019[i][j]][\"Mean GDP Growth\"].values[0] for j in range(len(df_names_gdp_mean_2013_2019[i].dropna()))] for i in range(number_of_cluster)}"
   ]
  },
  {
   "cell_type": "code",
   "execution_count": 124,
   "id": "9f67fd38-6621-49d0-b82a-64279f98bb92",
   "metadata": {},
   "outputs": [],
   "source": [
    "df_vals_gdp_mean_2013_2019 = pd.DataFrame.from_dict(dict_vals, orient=\"index\").transpose()"
   ]
  },
  {
   "cell_type": "code",
   "execution_count": 125,
   "id": "b3b44b13-6516-4c47-93b6-29840d454405",
   "metadata": {},
   "outputs": [
    {
     "data": {
      "text/html": [
       "<div>\n",
       "<style scoped>\n",
       "    .dataframe tbody tr th:only-of-type {\n",
       "        vertical-align: middle;\n",
       "    }\n",
       "\n",
       "    .dataframe tbody tr th {\n",
       "        vertical-align: top;\n",
       "    }\n",
       "\n",
       "    .dataframe thead th {\n",
       "        text-align: right;\n",
       "    }\n",
       "</style>\n",
       "<table border=\"1\" class=\"dataframe\">\n",
       "  <thead>\n",
       "    <tr style=\"text-align: right;\">\n",
       "      <th></th>\n",
       "      <th>0</th>\n",
       "      <th>1</th>\n",
       "      <th>2</th>\n",
       "      <th>3</th>\n",
       "      <th>4</th>\n",
       "    </tr>\n",
       "  </thead>\n",
       "  <tbody>\n",
       "    <tr>\n",
       "      <th>0</th>\n",
       "      <td>3.497523</td>\n",
       "      <td>-0.183041</td>\n",
       "      <td>2.390525</td>\n",
       "      <td>6.790337</td>\n",
       "      <td>-5.575781</td>\n",
       "    </tr>\n",
       "    <tr>\n",
       "      <th>1</th>\n",
       "      <td>4.371429</td>\n",
       "      <td>-0.581604</td>\n",
       "      <td>2.826393</td>\n",
       "      <td>6.961354</td>\n",
       "      <td>-5.093454</td>\n",
       "    </tr>\n",
       "    <tr>\n",
       "      <th>2</th>\n",
       "      <td>3.915258</td>\n",
       "      <td>0.493603</td>\n",
       "      <td>0.851955</td>\n",
       "      <td>7.855306</td>\n",
       "      <td>NaN</td>\n",
       "    </tr>\n",
       "    <tr>\n",
       "      <th>3</th>\n",
       "      <td>5.414491</td>\n",
       "      <td>-0.053938</td>\n",
       "      <td>2.602832</td>\n",
       "      <td>9.344305</td>\n",
       "      <td>NaN</td>\n",
       "    </tr>\n",
       "    <tr>\n",
       "      <th>4</th>\n",
       "      <td>5.499259</td>\n",
       "      <td>0.144916</td>\n",
       "      <td>1.150153</td>\n",
       "      <td>6.366311</td>\n",
       "      <td>NaN</td>\n",
       "    </tr>\n",
       "  </tbody>\n",
       "</table>\n",
       "</div>"
      ],
      "text/plain": [
       "          0         1         2         3         4\n",
       "0  3.497523 -0.183041  2.390525  6.790337 -5.575781\n",
       "1  4.371429 -0.581604  2.826393  6.961354 -5.093454\n",
       "2  3.915258  0.493603  0.851955  7.855306       NaN\n",
       "3  5.414491 -0.053938  2.602832  9.344305       NaN\n",
       "4  5.499259  0.144916  1.150153  6.366311       NaN"
      ]
     },
     "execution_count": 125,
     "metadata": {},
     "output_type": "execute_result"
    }
   ],
   "source": [
    "df_vals_gdp_mean_2013_2019.head()"
   ]
  },
  {
   "cell_type": "markdown",
   "id": "37ddce47-22a9-482c-8c07-00bda3536fbe",
   "metadata": {},
   "source": [
    "Минимум, максимум, среднее"
   ]
  },
  {
   "cell_type": "code",
   "execution_count": 126,
   "id": "62598b1b-fe4d-4c31-9739-efd20e6e124d",
   "metadata": {},
   "outputs": [
    {
     "data": {
      "text/html": [
       "<div>\n",
       "<style scoped>\n",
       "    .dataframe tbody tr th:only-of-type {\n",
       "        vertical-align: middle;\n",
       "    }\n",
       "\n",
       "    .dataframe tbody tr th {\n",
       "        vertical-align: top;\n",
       "    }\n",
       "\n",
       "    .dataframe thead th {\n",
       "        text-align: right;\n",
       "    }\n",
       "</style>\n",
       "<table border=\"1\" class=\"dataframe\">\n",
       "  <thead>\n",
       "    <tr style=\"text-align: right;\">\n",
       "      <th></th>\n",
       "      <th>0</th>\n",
       "      <th>1</th>\n",
       "      <th>2</th>\n",
       "      <th>3</th>\n",
       "      <th>4</th>\n",
       "    </tr>\n",
       "  </thead>\n",
       "  <tbody>\n",
       "    <tr>\n",
       "      <th>count</th>\n",
       "      <td>74.000000</td>\n",
       "      <td>22.000000</td>\n",
       "      <td>84.000000</td>\n",
       "      <td>20.000000</td>\n",
       "      <td>2.000000</td>\n",
       "    </tr>\n",
       "    <tr>\n",
       "      <th>min</th>\n",
       "      <td>3.258885</td>\n",
       "      <td>-2.514906</td>\n",
       "      <td>0.724999</td>\n",
       "      <td>6.366311</td>\n",
       "      <td>-5.575781</td>\n",
       "    </tr>\n",
       "    <tr>\n",
       "      <th>max</th>\n",
       "      <td>6.111602</td>\n",
       "      <td>0.515022</td>\n",
       "      <td>3.112407</td>\n",
       "      <td>9.344305</td>\n",
       "      <td>-5.093454</td>\n",
       "    </tr>\n",
       "    <tr>\n",
       "      <th>mean</th>\n",
       "      <td>4.381884</td>\n",
       "      <td>-0.464091</td>\n",
       "      <td>2.028684</td>\n",
       "      <td>7.190985</td>\n",
       "      <td>-5.334617</td>\n",
       "    </tr>\n",
       "  </tbody>\n",
       "</table>\n",
       "</div>"
      ],
      "text/plain": [
       "               0          1          2          3         4\n",
       "count  74.000000  22.000000  84.000000  20.000000  2.000000\n",
       "min     3.258885  -2.514906   0.724999   6.366311 -5.575781\n",
       "max     6.111602   0.515022   3.112407   9.344305 -5.093454\n",
       "mean    4.381884  -0.464091   2.028684   7.190985 -5.334617"
      ]
     },
     "execution_count": 126,
     "metadata": {},
     "output_type": "execute_result"
    }
   ],
   "source": [
    "aggrigate = {i: [\"count\", \"min\", \"max\", \"mean\"] for i in range(number_of_cluster)}\n",
    "df_vals_gdp_mean_2013_2019.agg(aggrigate)"
   ]
  },
  {
   "cell_type": "markdown",
   "id": "c62cf006-226c-4608-afac-5ea8b3f0280f",
   "metadata": {},
   "source": [
    "Записываем получившиеся результаты в `excel`-файл"
   ]
  },
  {
   "cell_type": "code",
   "execution_count": 127,
   "id": "675d7b29-1e0d-4aaa-8696-bccb337f850d",
   "metadata": {},
   "outputs": [],
   "source": [
    "save_as_xlsx(\"./results/mean_gdp_growth_2013_2019.xlsx\",\n",
    "             [\"Country Names\", \"Mean GDP growth\"],\n",
    "             [df_names_gdp_mean_2013_2019, df_vals_gdp_mean_2013_2019])"
   ]
  },
  {
   "cell_type": "markdown",
   "id": "54e89cdc-33ef-4805-8070-57b380d0e449",
   "metadata": {
    "jp-MarkdownHeadingCollapsed": true,
    "tags": []
   },
   "source": [
    "### Кластеризация на основании подушевого ВВП, темпов роста ВВП"
   ]
  },
  {
   "cell_type": "markdown",
   "id": "6ae3a0a3-5545-4359-af7c-39d52cdb9f77",
   "metadata": {},
   "source": [
    "Выбираем нужные данные"
   ]
  },
  {
   "cell_type": "code",
   "execution_count": 128,
   "id": "09dbe0c6-47ee-4273-86d4-6262058a3c7c",
   "metadata": {},
   "outputs": [
    {
     "data": {
      "text/html": [
       "<div>\n",
       "<style scoped>\n",
       "    .dataframe tbody tr th:only-of-type {\n",
       "        vertical-align: middle;\n",
       "    }\n",
       "\n",
       "    .dataframe tbody tr th {\n",
       "        vertical-align: top;\n",
       "    }\n",
       "\n",
       "    .dataframe thead th {\n",
       "        text-align: right;\n",
       "    }\n",
       "</style>\n",
       "<table border=\"1\" class=\"dataframe\">\n",
       "  <thead>\n",
       "    <tr style=\"text-align: right;\">\n",
       "      <th></th>\n",
       "      <th>Mean GDP per capita</th>\n",
       "    </tr>\n",
       "  </thead>\n",
       "  <tbody>\n",
       "    <tr>\n",
       "      <th>0</th>\n",
       "      <td>28704.038175</td>\n",
       "    </tr>\n",
       "    <tr>\n",
       "      <th>2</th>\n",
       "      <td>543.298061</td>\n",
       "    </tr>\n",
       "    <tr>\n",
       "      <th>4</th>\n",
       "      <td>3156.243715</td>\n",
       "    </tr>\n",
       "    <tr>\n",
       "      <th>5</th>\n",
       "      <td>4611.921725</td>\n",
       "    </tr>\n",
       "    <tr>\n",
       "      <th>6</th>\n",
       "      <td>39391.828657</td>\n",
       "    </tr>\n",
       "  </tbody>\n",
       "</table>\n",
       "</div>"
      ],
      "text/plain": [
       "   Mean GDP per capita\n",
       "0         28704.038175\n",
       "2           543.298061\n",
       "4          3156.243715\n",
       "5          4611.921725\n",
       "6         39391.828657"
      ]
     },
     "execution_count": 128,
     "metadata": {},
     "output_type": "execute_result"
    }
   ],
   "source": [
    "df_mean_gdp_per_capita_2013_2019 = pd.DataFrame(df_gdp_per_capita_data.loc[:, \"2013\":\"2019\"].dropna().mean(axis=1)).rename({0: \"Mean GDP per capita\"}, axis=1)\n",
    "df_mean_gdp_per_capita_2013_2019.head()"
   ]
  },
  {
   "cell_type": "code",
   "execution_count": 129,
   "id": "a0648196-6c2a-43c2-93d6-755bab35d33e",
   "metadata": {},
   "outputs": [
    {
     "data": {
      "text/html": [
       "<div>\n",
       "<style scoped>\n",
       "    .dataframe tbody tr th:only-of-type {\n",
       "        vertical-align: middle;\n",
       "    }\n",
       "\n",
       "    .dataframe tbody tr th {\n",
       "        vertical-align: top;\n",
       "    }\n",
       "\n",
       "    .dataframe thead th {\n",
       "        text-align: right;\n",
       "    }\n",
       "</style>\n",
       "<table border=\"1\" class=\"dataframe\">\n",
       "  <thead>\n",
       "    <tr style=\"text-align: right;\">\n",
       "      <th></th>\n",
       "      <th>Country Name</th>\n",
       "      <th>Mean GDP Growth</th>\n",
       "      <th>Mean GDP per capita</th>\n",
       "    </tr>\n",
       "  </thead>\n",
       "  <tbody>\n",
       "    <tr>\n",
       "      <th>0</th>\n",
       "      <td>Aruba</td>\n",
       "      <td>2.390525</td>\n",
       "      <td>28704.038175</td>\n",
       "    </tr>\n",
       "    <tr>\n",
       "      <th>2</th>\n",
       "      <td>Angola</td>\n",
       "      <td>0.851955</td>\n",
       "      <td>543.298061</td>\n",
       "    </tr>\n",
       "    <tr>\n",
       "      <th>4</th>\n",
       "      <td>Andorra</td>\n",
       "      <td>1.150153</td>\n",
       "      <td>3156.243715</td>\n",
       "    </tr>\n",
       "    <tr>\n",
       "      <th>5</th>\n",
       "      <td>United Arab Emirates</td>\n",
       "      <td>3.497523</td>\n",
       "      <td>4611.921725</td>\n",
       "    </tr>\n",
       "    <tr>\n",
       "      <th>6</th>\n",
       "      <td>Argentina</td>\n",
       "      <td>-0.183041</td>\n",
       "      <td>39391.828657</td>\n",
       "    </tr>\n",
       "  </tbody>\n",
       "</table>\n",
       "</div>"
      ],
      "text/plain": [
       "           Country Name  Mean GDP Growth  Mean GDP per capita\n",
       "0                 Aruba         2.390525         28704.038175\n",
       "2                Angola         0.851955           543.298061\n",
       "4               Andorra         1.150153          3156.243715\n",
       "5  United Arab Emirates         3.497523          4611.921725\n",
       "6             Argentina        -0.183041         39391.828657"
      ]
     },
     "execution_count": 129,
     "metadata": {},
     "output_type": "execute_result"
    }
   ],
   "source": [
    "df_mean_gdp_growth_gdp_per_capita_2013_2019 = pd.merge(df_mean_gdp_growth_2013_2019, df_mean_gdp_per_capita_2013_2019, left_index=True, right_index=True)\n",
    "df_mean_gdp_growth_gdp_per_capita_2013_2019.head()"
   ]
  },
  {
   "cell_type": "code",
   "execution_count": 130,
   "id": "a080f82a-6e6c-42b9-be1d-5ac370ec2b52",
   "metadata": {},
   "outputs": [],
   "source": [
    "data_mean_gdp_growth_gdp_per_capita_2013_2019 = df_mean_gdp_growth_gdp_per_capita_2013_2019.loc[:, \"Mean GDP Growth\":\"Mean GDP per capita\"].values"
   ]
  },
  {
   "cell_type": "markdown",
   "id": "d68ce4da-3007-4be6-b6e6-30e4dd500cc3",
   "metadata": {},
   "source": [
    "Стандартизация показателей"
   ]
  },
  {
   "cell_type": "code",
   "execution_count": 131,
   "id": "ce743378-8f28-4a93-abed-f1688698566f",
   "metadata": {},
   "outputs": [],
   "source": [
    "data_mean_gdp_growth_gdp_per_capita_2013_2019_std = (data_mean_gdp_growth_gdp_per_capita_2013_2019 - data_mean_gdp_growth_gdp_per_capita_2013_2019.mean()) / data_mean_gdp_growth_gdp_per_capita_2013_2019.std()"
   ]
  },
  {
   "cell_type": "markdown",
   "id": "5ce64e84-18cd-4cc4-81b7-892ebcd1958f",
   "metadata": {},
   "source": [
    "На основании дендрограммы определяем количество кластеров"
   ]
  },
  {
   "cell_type": "code",
   "execution_count": 132,
   "id": "e5d11905-4775-488d-ba4f-6fd50600de40",
   "metadata": {},
   "outputs": [],
   "source": [
    "number_of_cluster = 5"
   ]
  },
  {
   "cell_type": "code",
   "execution_count": 133,
   "id": "5e5b0f8d-5cb3-4b7d-804a-51f3b72735c6",
   "metadata": {},
   "outputs": [
    {
     "data": {
      "image/png": "[encoded data removed]",
      "text/plain": [
       "<Figure size 432x288 with 1 Axes>"
      ]
     },
     "metadata": {
      "needs_background": "light"
     },
     "output_type": "display_data"
    }
   ],
   "source": [
    "dendrogram = sch.dendrogram(ward(data_mean_gdp_growth_gdp_per_capita_2013_2019_std))\n",
    "plt.show()"
   ]
  },
  {
   "cell_type": "markdown",
   "id": "e9cee480-4c03-46f6-9a9f-33ec1bbd4b9d",
   "metadata": {},
   "source": [
    "Кластеризируем данные"
   ]
  },
  {
   "cell_type": "code",
   "execution_count": 134,
   "id": "49014169-4165-46c4-9c15-c5c7333fcf9b",
   "metadata": {},
   "outputs": [],
   "source": [
    "hc = AgglomerativeClustering(n_clusters=number_of_cluster, affinity=\"euclidean\", linkage=\"ward\")\n",
    "\n",
    "y_hc = hc.fit_predict(data_mean_gdp_growth_gdp_per_capita_2013_2019_std)"
   ]
  },
  {
   "cell_type": "code",
   "execution_count": 135,
   "id": "3a7e5101-3e2a-423c-91f1-d180de03fdfb",
   "metadata": {},
   "outputs": [],
   "source": [
    "dict_names = {i: [] for i in range(number_of_cluster)}\n",
    "for i in range(len(y_hc)):\n",
    "    dict_names[y_hc[i]].append(df_mean_gdp_growth_gdp_per_capita_2013_2019[\"Country Name\"].values[i])"
   ]
  },
  {
   "cell_type": "markdown",
   "id": "0cf8a778-bf6e-4fe0-a494-ddb61f0b8dac",
   "metadata": {},
   "source": [
    "Название стран в кластерах"
   ]
  },
  {
   "cell_type": "code",
   "execution_count": 136,
   "id": "4fb4717a-d82e-4857-ad07-3f0725fe33cf",
   "metadata": {},
   "outputs": [],
   "source": [
    "df_names_gdp_capita_mean_2013_2019 = pd.DataFrame.from_dict(dict_names, orient=\"index\")\n",
    "df_names_gdp_capita_mean_2013_2019 = df_names_gdp_capita_mean_2013_2019.transpose()"
   ]
  },
  {
   "cell_type": "code",
   "execution_count": 137,
   "id": "c3783ef0-a75f-47af-90c4-ff1fba82a31d",
   "metadata": {},
   "outputs": [
    {
     "data": {
      "text/html": [
       "<div>\n",
       "<style scoped>\n",
       "    .dataframe tbody tr th:only-of-type {\n",
       "        vertical-align: middle;\n",
       "    }\n",
       "\n",
       "    .dataframe tbody tr th {\n",
       "        vertical-align: top;\n",
       "    }\n",
       "\n",
       "    .dataframe thead th {\n",
       "        text-align: right;\n",
       "    }\n",
       "</style>\n",
       "<table border=\"1\" class=\"dataframe\">\n",
       "  <thead>\n",
       "    <tr style=\"text-align: right;\">\n",
       "      <th></th>\n",
       "      <th>0</th>\n",
       "      <th>1</th>\n",
       "      <th>2</th>\n",
       "      <th>3</th>\n",
       "      <th>4</th>\n",
       "    </tr>\n",
       "  </thead>\n",
       "  <tbody>\n",
       "    <tr>\n",
       "      <th>0</th>\n",
       "      <td>Aruba</td>\n",
       "      <td>Barbados</td>\n",
       "      <td>Antigua and Barbuda</td>\n",
       "      <td>Malaysia</td>\n",
       "      <td>Angola</td>\n",
       "    </tr>\n",
       "    <tr>\n",
       "      <th>1</th>\n",
       "      <td>Argentina</td>\n",
       "      <td>Cameroon</td>\n",
       "      <td>Austria</td>\n",
       "      <td>Oman</td>\n",
       "      <td>Andorra</td>\n",
       "    </tr>\n",
       "    <tr>\n",
       "      <th>2</th>\n",
       "      <td>American Samoa</td>\n",
       "      <td>Denmark</td>\n",
       "      <td>Azerbaijan</td>\n",
       "      <td>None</td>\n",
       "      <td>United Arab Emirates</td>\n",
       "    </tr>\n",
       "    <tr>\n",
       "      <th>3</th>\n",
       "      <td>Burundi</td>\n",
       "      <td>Liberia</td>\n",
       "      <td>Belarus</td>\n",
       "      <td>None</td>\n",
       "      <td>Australia</td>\n",
       "    </tr>\n",
       "    <tr>\n",
       "      <th>4</th>\n",
       "      <td>Belgium</td>\n",
       "      <td>Netherlands</td>\n",
       "      <td>Bhutan</td>\n",
       "      <td>None</td>\n",
       "      <td>Benin</td>\n",
       "    </tr>\n",
       "  </tbody>\n",
       "</table>\n",
       "</div>"
      ],
      "text/plain": [
       "                0            1                    2         3  \\\n",
       "0           Aruba     Barbados  Antigua and Barbuda  Malaysia   \n",
       "1       Argentina     Cameroon              Austria      Oman   \n",
       "2  American Samoa      Denmark           Azerbaijan      None   \n",
       "3         Burundi      Liberia              Belarus      None   \n",
       "4         Belgium  Netherlands               Bhutan      None   \n",
       "\n",
       "                      4  \n",
       "0                Angola  \n",
       "1               Andorra  \n",
       "2  United Arab Emirates  \n",
       "3             Australia  \n",
       "4                 Benin  "
      ]
     },
     "execution_count": 137,
     "metadata": {},
     "output_type": "execute_result"
    }
   ],
   "source": [
    "df_names_gdp_capita_mean_2013_2019.head()"
   ]
  },
  {
   "cell_type": "markdown",
   "id": "0ba33371-db80-447b-908b-a52686d650d0",
   "metadata": {},
   "source": [
    "Значения темпов роста ВВП в кластерах"
   ]
  },
  {
   "cell_type": "code",
   "execution_count": 138,
   "id": "7c5373c1-25b6-4920-84ab-b6d5621c3bc9",
   "metadata": {},
   "outputs": [],
   "source": [
    "dict_gdp = {i: [df_mean_gdp_growth_gdp_per_capita_2013_2019.loc[df_mean_gdp_growth_gdp_per_capita_2013_2019[\"Country Name\"] == df_names_gdp_capita_mean_2013_2019[i][j]][\"Mean GDP Growth\"].values[0] for j in range(len(df_names_gdp_capita_mean_2013_2019[i].dropna()))] for i in range(number_of_cluster)}"
   ]
  },
  {
   "cell_type": "code",
   "execution_count": 139,
   "id": "dcae0819-17b1-4b52-81eb-5214035b623f",
   "metadata": {},
   "outputs": [],
   "source": [
    "df_vals_gdp_capita_mean_2013_2019 = pd.DataFrame.from_dict(dict_gdp, orient=\"index\").transpose()"
   ]
  },
  {
   "cell_type": "code",
   "execution_count": 140,
   "id": "5626989e-98eb-4ba3-8036-0a281aee6671",
   "metadata": {},
   "outputs": [
    {
     "data": {
      "text/html": [
       "<div>\n",
       "<style scoped>\n",
       "    .dataframe tbody tr th:only-of-type {\n",
       "        vertical-align: middle;\n",
       "    }\n",
       "\n",
       "    .dataframe tbody tr th {\n",
       "        vertical-align: top;\n",
       "    }\n",
       "\n",
       "    .dataframe thead th {\n",
       "        text-align: right;\n",
       "    }\n",
       "</style>\n",
       "<table border=\"1\" class=\"dataframe\">\n",
       "  <thead>\n",
       "    <tr style=\"text-align: right;\">\n",
       "      <th></th>\n",
       "      <th>0</th>\n",
       "      <th>1</th>\n",
       "      <th>2</th>\n",
       "      <th>3</th>\n",
       "      <th>4</th>\n",
       "    </tr>\n",
       "  </thead>\n",
       "  <tbody>\n",
       "    <tr>\n",
       "      <th>0</th>\n",
       "      <td>2.390525</td>\n",
       "      <td>0.327122</td>\n",
       "      <td>3.915258</td>\n",
       "      <td>5.048144</td>\n",
       "      <td>0.851955</td>\n",
       "    </tr>\n",
       "    <tr>\n",
       "      <th>1</th>\n",
       "      <td>-0.183041</td>\n",
       "      <td>4.555692</td>\n",
       "      <td>1.420299</td>\n",
       "      <td>2.435056</td>\n",
       "      <td>1.150153</td>\n",
       "    </tr>\n",
       "    <tr>\n",
       "      <th>2</th>\n",
       "      <td>-0.581604</td>\n",
       "      <td>2.152460</td>\n",
       "      <td>1.536326</td>\n",
       "      <td>NaN</td>\n",
       "      <td>3.497523</td>\n",
       "    </tr>\n",
       "    <tr>\n",
       "      <th>3</th>\n",
       "      <td>1.226763</td>\n",
       "      <td>1.280084</td>\n",
       "      <td>0.493603</td>\n",
       "      <td>NaN</td>\n",
       "      <td>2.479577</td>\n",
       "    </tr>\n",
       "    <tr>\n",
       "      <th>4</th>\n",
       "      <td>1.560133</td>\n",
       "      <td>1.810216</td>\n",
       "      <td>5.161124</td>\n",
       "      <td>NaN</td>\n",
       "      <td>5.414491</td>\n",
       "    </tr>\n",
       "  </tbody>\n",
       "</table>\n",
       "</div>"
      ],
      "text/plain": [
       "          0         1         2         3         4\n",
       "0  2.390525  0.327122  3.915258  5.048144  0.851955\n",
       "1 -0.183041  4.555692  1.420299  2.435056  1.150153\n",
       "2 -0.581604  2.152460  1.536326       NaN  3.497523\n",
       "3  1.226763  1.280084  0.493603       NaN  2.479577\n",
       "4  1.560133  1.810216  5.161124       NaN  5.414491"
      ]
     },
     "execution_count": 140,
     "metadata": {},
     "output_type": "execute_result"
    }
   ],
   "source": [
    "df_vals_gdp_capita_mean_2013_2019.head()"
   ]
  },
  {
   "cell_type": "markdown",
   "id": "25f4dd61-913d-450b-93e6-df39c2a3788c",
   "metadata": {},
   "source": [
    "Минимум, максимум, среднее прироста ВВП в кластерах"
   ]
  },
  {
   "cell_type": "code",
   "execution_count": 141,
   "id": "1e22408b-5d34-47a7-a9dc-eec30148176b",
   "metadata": {},
   "outputs": [
    {
     "data": {
      "text/html": [
       "<div>\n",
       "<style scoped>\n",
       "    .dataframe tbody tr th:only-of-type {\n",
       "        vertical-align: middle;\n",
       "    }\n",
       "\n",
       "    .dataframe tbody tr th {\n",
       "        vertical-align: top;\n",
       "    }\n",
       "\n",
       "    .dataframe thead th {\n",
       "        text-align: right;\n",
       "    }\n",
       "</style>\n",
       "<table border=\"1\" class=\"dataframe\">\n",
       "  <thead>\n",
       "    <tr style=\"text-align: right;\">\n",
       "      <th></th>\n",
       "      <th>0</th>\n",
       "      <th>1</th>\n",
       "      <th>2</th>\n",
       "      <th>3</th>\n",
       "      <th>4</th>\n",
       "    </tr>\n",
       "  </thead>\n",
       "  <tbody>\n",
       "    <tr>\n",
       "      <th>count</th>\n",
       "      <td>34.000000</td>\n",
       "      <td>6.000000</td>\n",
       "      <td>36.000000</td>\n",
       "      <td>2.000000</td>\n",
       "      <td>82.000000</td>\n",
       "    </tr>\n",
       "    <tr>\n",
       "      <th>min</th>\n",
       "      <td>-2.258107</td>\n",
       "      <td>0.327122</td>\n",
       "      <td>-2.514906</td>\n",
       "      <td>2.435056</td>\n",
       "      <td>-5.093454</td>\n",
       "    </tr>\n",
       "    <tr>\n",
       "      <th>max</th>\n",
       "      <td>7.457143</td>\n",
       "      <td>5.314645</td>\n",
       "      <td>8.583767</td>\n",
       "      <td>5.048144</td>\n",
       "      <td>9.344305</td>\n",
       "    </tr>\n",
       "    <tr>\n",
       "      <th>mean</th>\n",
       "      <td>2.859552</td>\n",
       "      <td>2.573370</td>\n",
       "      <td>2.949856</td>\n",
       "      <td>3.741600</td>\n",
       "      <td>3.058333</td>\n",
       "    </tr>\n",
       "  </tbody>\n",
       "</table>\n",
       "</div>"
      ],
      "text/plain": [
       "               0         1          2         3          4\n",
       "count  34.000000  6.000000  36.000000  2.000000  82.000000\n",
       "min    -2.258107  0.327122  -2.514906  2.435056  -5.093454\n",
       "max     7.457143  5.314645   8.583767  5.048144   9.344305\n",
       "mean    2.859552  2.573370   2.949856  3.741600   3.058333"
      ]
     },
     "execution_count": 141,
     "metadata": {},
     "output_type": "execute_result"
    }
   ],
   "source": [
    "aggrigate = {i: [\"count\", \"min\", \"max\", \"mean\"] for i in range(number_of_cluster)}\n",
    "df_vals_gdp_capita_mean_2013_2019.agg(aggrigate)"
   ]
  },
  {
   "cell_type": "markdown",
   "id": "0639a6ca-11df-4cf0-bfa3-a9b9f47c5e67",
   "metadata": {},
   "source": [
    "Значения подушевого ВВП в кластерах"
   ]
  },
  {
   "cell_type": "code",
   "execution_count": 142,
   "id": "cfaf9937-c5b0-40dc-bbbb-0c605b75a61b",
   "metadata": {},
   "outputs": [],
   "source": [
    "dict_gdp_per_capita = {i: [df_mean_gdp_growth_gdp_per_capita_2013_2019.loc[df_mean_gdp_growth_gdp_per_capita_2013_2019[\"Country Name\"] == df_names_gdp_capita_mean_2013_2019[i][j]][\"Mean GDP per capita\"].values[0] for j in range(len(df_names_gdp_capita_mean_2013_2019[i].dropna()))] for i in range(number_of_cluster)}"
   ]
  },
  {
   "cell_type": "code",
   "execution_count": 143,
   "id": "c4dae2de-9ec3-4e68-946b-0aebdf027c61",
   "metadata": {},
   "outputs": [],
   "source": [
    "df_vals_capita_capita_mean_2013_2019 = pd.DataFrame.from_dict(dict_gdp_per_capita, orient=\"index\").transpose()"
   ]
  },
  {
   "cell_type": "code",
   "execution_count": 144,
   "id": "168a6a0e-8885-4521-9361-25ee378954e0",
   "metadata": {},
   "outputs": [
    {
     "data": {
      "text/html": [
       "<div>\n",
       "<style scoped>\n",
       "    .dataframe tbody tr th:only-of-type {\n",
       "        vertical-align: middle;\n",
       "    }\n",
       "\n",
       "    .dataframe tbody tr th {\n",
       "        vertical-align: top;\n",
       "    }\n",
       "\n",
       "    .dataframe thead th {\n",
       "        text-align: right;\n",
       "    }\n",
       "</style>\n",
       "<table border=\"1\" class=\"dataframe\">\n",
       "  <thead>\n",
       "    <tr style=\"text-align: right;\">\n",
       "      <th></th>\n",
       "      <th>0</th>\n",
       "      <th>1</th>\n",
       "      <th>2</th>\n",
       "      <th>3</th>\n",
       "      <th>4</th>\n",
       "    </tr>\n",
       "  </thead>\n",
       "  <tbody>\n",
       "    <tr>\n",
       "      <th>0</th>\n",
       "      <td>28704.038175</td>\n",
       "      <td>106836.473070</td>\n",
       "      <td>12639.844618</td>\n",
       "      <td>171664.748058</td>\n",
       "      <td>543.298061</td>\n",
       "    </tr>\n",
       "    <tr>\n",
       "      <th>1</th>\n",
       "      <td>39391.828657</td>\n",
       "      <td>85816.947093</td>\n",
       "      <td>11616.366447</td>\n",
       "      <td>178015.298903</td>\n",
       "      <td>3156.243715</td>\n",
       "    </tr>\n",
       "    <tr>\n",
       "      <th>2</th>\n",
       "      <td>41450.753953</td>\n",
       "      <td>80352.524290</td>\n",
       "      <td>15048.008861</td>\n",
       "      <td>NaN</td>\n",
       "      <td>4611.921725</td>\n",
       "    </tr>\n",
       "    <tr>\n",
       "      <th>3</th>\n",
       "      <td>57606.774261</td>\n",
       "      <td>86012.561547</td>\n",
       "      <td>23765.413096</td>\n",
       "      <td>NaN</td>\n",
       "      <td>3966.176765</td>\n",
       "    </tr>\n",
       "    <tr>\n",
       "      <th>4</th>\n",
       "      <td>48721.577851</td>\n",
       "      <td>113815.259501</td>\n",
       "      <td>9984.770318</td>\n",
       "      <td>NaN</td>\n",
       "      <td>5548.686337</td>\n",
       "    </tr>\n",
       "  </tbody>\n",
       "</table>\n",
       "</div>"
      ],
      "text/plain": [
       "              0              1             2              3            4\n",
       "0  28704.038175  106836.473070  12639.844618  171664.748058   543.298061\n",
       "1  39391.828657   85816.947093  11616.366447  178015.298903  3156.243715\n",
       "2  41450.753953   80352.524290  15048.008861            NaN  4611.921725\n",
       "3  57606.774261   86012.561547  23765.413096            NaN  3966.176765\n",
       "4  48721.577851  113815.259501   9984.770318            NaN  5548.686337"
      ]
     },
     "execution_count": 144,
     "metadata": {},
     "output_type": "execute_result"
    }
   ],
   "source": [
    "df_vals_capita_capita_mean_2013_2019.head()"
   ]
  },
  {
   "cell_type": "markdown",
   "id": "04bd4a93-efb7-450d-a7ec-4238ffc27bb1",
   "metadata": {},
   "source": [
    "Минимум, максимум, среднее подушевого ВВП в кластерах"
   ]
  },
  {
   "cell_type": "code",
   "execution_count": 145,
   "id": "0a29500c-727a-44dd-b04b-ff9132126f0d",
   "metadata": {},
   "outputs": [
    {
     "data": {
      "text/html": [
       "<div>\n",
       "<style scoped>\n",
       "    .dataframe tbody tr th:only-of-type {\n",
       "        vertical-align: middle;\n",
       "    }\n",
       "\n",
       "    .dataframe tbody tr th {\n",
       "        vertical-align: top;\n",
       "    }\n",
       "\n",
       "    .dataframe thead th {\n",
       "        text-align: right;\n",
       "    }\n",
       "</style>\n",
       "<table border=\"1\" class=\"dataframe\">\n",
       "  <thead>\n",
       "    <tr style=\"text-align: right;\">\n",
       "      <th></th>\n",
       "      <th>0</th>\n",
       "      <th>1</th>\n",
       "      <th>2</th>\n",
       "      <th>3</th>\n",
       "      <th>4</th>\n",
       "    </tr>\n",
       "  </thead>\n",
       "  <tbody>\n",
       "    <tr>\n",
       "      <th>count</th>\n",
       "      <td>34.000000</td>\n",
       "      <td>6.000000</td>\n",
       "      <td>36.000000</td>\n",
       "      <td>2.000000</td>\n",
       "      <td>82.000000</td>\n",
       "    </tr>\n",
       "    <tr>\n",
       "      <th>min</th>\n",
       "      <td>26865.120536</td>\n",
       "      <td>80352.524290</td>\n",
       "      <td>9298.382551</td>\n",
       "      <td>171664.748058</td>\n",
       "      <td>257.343706</td>\n",
       "    </tr>\n",
       "    <tr>\n",
       "      <th>max</th>\n",
       "      <td>68033.127896</td>\n",
       "      <td>113815.259501</td>\n",
       "      <td>23765.413096</td>\n",
       "      <td>178015.298903</td>\n",
       "      <td>8519.059570</td>\n",
       "    </tr>\n",
       "    <tr>\n",
       "      <th>mean</th>\n",
       "      <td>43618.765524</td>\n",
       "      <td>92743.514680</td>\n",
       "      <td>14691.554077</td>\n",
       "      <td>174840.023481</td>\n",
       "      <td>3207.159443</td>\n",
       "    </tr>\n",
       "  </tbody>\n",
       "</table>\n",
       "</div>"
      ],
      "text/plain": [
       "                  0              1             2              3            4\n",
       "count     34.000000       6.000000     36.000000       2.000000    82.000000\n",
       "min    26865.120536   80352.524290   9298.382551  171664.748058   257.343706\n",
       "max    68033.127896  113815.259501  23765.413096  178015.298903  8519.059570\n",
       "mean   43618.765524   92743.514680  14691.554077  174840.023481  3207.159443"
      ]
     },
     "execution_count": 145,
     "metadata": {},
     "output_type": "execute_result"
    }
   ],
   "source": [
    "aggrigate = {i: [\"count\", \"min\", \"max\", \"mean\"] for i in range(number_of_cluster)}\n",
    "df_vals_capita_capita_mean_2013_2019.agg(aggrigate)"
   ]
  },
  {
   "cell_type": "markdown",
   "id": "3b0042e0-378b-4845-a34e-4f9870a9cfb8",
   "metadata": {},
   "source": [
    "Записываем получившиеся результаты в `excel`-файл"
   ]
  },
  {
   "cell_type": "code",
   "execution_count": 146,
   "id": "2e0ad0d7-5429-49c2-8774-74d1c1bc3718",
   "metadata": {},
   "outputs": [],
   "source": [
    "save_as_xlsx(\"./results/mean_gdp_growth_gdp_per_capita_2013_2019.xlsx\",\n",
    "             [\"Country Names\", \"GDP growth\", \"GDP per capita\"],\n",
    "             [df_names_gdp_capita_mean_2013_2019, df_vals_gdp_capita_mean_2013_2019, df_vals_capita_capita_mean_2013_2019])"
   ]
  },
  {
   "cell_type": "markdown",
   "id": "bc0abf1f-b208-4592-8764-0e01c823ae6a",
   "metadata": {
    "jp-MarkdownHeadingCollapsed": true,
    "tags": []
   },
   "source": [
    "### Кластеризация на основании подушевого ВВП, темпов роста ВВП, темов инфляции"
   ]
  },
  {
   "cell_type": "markdown",
   "id": "ab811775-cbaf-4d31-8b65-8a288b051ee1",
   "metadata": {},
   "source": [
    "Выбираем нужные данные"
   ]
  },
  {
   "cell_type": "code",
   "execution_count": 147,
   "id": "b96f431a-246b-4a0f-978e-acf8ac981ddc",
   "metadata": {},
   "outputs": [
    {
     "data": {
      "text/html": [
       "<div>\n",
       "<style scoped>\n",
       "    .dataframe tbody tr th:only-of-type {\n",
       "        vertical-align: middle;\n",
       "    }\n",
       "\n",
       "    .dataframe tbody tr th {\n",
       "        vertical-align: top;\n",
       "    }\n",
       "\n",
       "    .dataframe thead th {\n",
       "        text-align: right;\n",
       "    }\n",
       "</style>\n",
       "<table border=\"1\" class=\"dataframe\">\n",
       "  <thead>\n",
       "    <tr style=\"text-align: right;\">\n",
       "      <th></th>\n",
       "      <th>Mean Inflation</th>\n",
       "    </tr>\n",
       "  </thead>\n",
       "  <tbody>\n",
       "    <tr>\n",
       "      <th>0</th>\n",
       "      <td>1.081196</td>\n",
       "    </tr>\n",
       "    <tr>\n",
       "      <th>2</th>\n",
       "      <td>2.376607</td>\n",
       "    </tr>\n",
       "    <tr>\n",
       "      <th>4</th>\n",
       "      <td>13.519443</td>\n",
       "    </tr>\n",
       "    <tr>\n",
       "      <th>5</th>\n",
       "      <td>0.850102</td>\n",
       "    </tr>\n",
       "    <tr>\n",
       "      <th>6</th>\n",
       "      <td>0.699514</td>\n",
       "    </tr>\n",
       "  </tbody>\n",
       "</table>\n",
       "</div>"
      ],
      "text/plain": [
       "   Mean Inflation\n",
       "0        1.081196\n",
       "2        2.376607\n",
       "4       13.519443\n",
       "5        0.850102\n",
       "6        0.699514"
      ]
     },
     "execution_count": 147,
     "metadata": {},
     "output_type": "execute_result"
    }
   ],
   "source": [
    "df_mean_inflation_2013_2019 = pd.DataFrame(df_inflation_data.loc[:, \"2013\":\"2019\"].dropna().mean(axis=1)).rename({0: \"Mean Inflation\"}, axis=1)\n",
    "df_mean_inflation_2013_2019.head()"
   ]
  },
  {
   "cell_type": "code",
   "execution_count": 148,
   "id": "da397c14-0b12-4222-a7ee-f1ea47d2b147",
   "metadata": {},
   "outputs": [
    {
     "data": {
      "text/html": [
       "<div>\n",
       "<style scoped>\n",
       "    .dataframe tbody tr th:only-of-type {\n",
       "        vertical-align: middle;\n",
       "    }\n",
       "\n",
       "    .dataframe tbody tr th {\n",
       "        vertical-align: top;\n",
       "    }\n",
       "\n",
       "    .dataframe thead th {\n",
       "        text-align: right;\n",
       "    }\n",
       "</style>\n",
       "<table border=\"1\" class=\"dataframe\">\n",
       "  <thead>\n",
       "    <tr style=\"text-align: right;\">\n",
       "      <th></th>\n",
       "      <th>Country Name</th>\n",
       "      <th>Mean GDP Growth</th>\n",
       "      <th>Mean GDP per capita</th>\n",
       "      <th>Mean Inflation</th>\n",
       "    </tr>\n",
       "  </thead>\n",
       "  <tbody>\n",
       "    <tr>\n",
       "      <th>0</th>\n",
       "      <td>Aruba</td>\n",
       "      <td>2.390525</td>\n",
       "      <td>28704.038175</td>\n",
       "      <td>1.081196</td>\n",
       "    </tr>\n",
       "    <tr>\n",
       "      <th>2</th>\n",
       "      <td>Angola</td>\n",
       "      <td>0.851955</td>\n",
       "      <td>543.298061</td>\n",
       "      <td>2.376607</td>\n",
       "    </tr>\n",
       "    <tr>\n",
       "      <th>4</th>\n",
       "      <td>Andorra</td>\n",
       "      <td>1.150153</td>\n",
       "      <td>3156.243715</td>\n",
       "      <td>13.519443</td>\n",
       "    </tr>\n",
       "    <tr>\n",
       "      <th>5</th>\n",
       "      <td>United Arab Emirates</td>\n",
       "      <td>3.497523</td>\n",
       "      <td>4611.921725</td>\n",
       "      <td>0.850102</td>\n",
       "    </tr>\n",
       "    <tr>\n",
       "      <th>6</th>\n",
       "      <td>Argentina</td>\n",
       "      <td>-0.183041</td>\n",
       "      <td>39391.828657</td>\n",
       "      <td>0.699514</td>\n",
       "    </tr>\n",
       "  </tbody>\n",
       "</table>\n",
       "</div>"
      ],
      "text/plain": [
       "           Country Name  Mean GDP Growth  Mean GDP per capita  Mean Inflation\n",
       "0                 Aruba         2.390525         28704.038175        1.081196\n",
       "2                Angola         0.851955           543.298061        2.376607\n",
       "4               Andorra         1.150153          3156.243715       13.519443\n",
       "5  United Arab Emirates         3.497523          4611.921725        0.850102\n",
       "6             Argentina        -0.183041         39391.828657        0.699514"
      ]
     },
     "execution_count": 148,
     "metadata": {},
     "output_type": "execute_result"
    }
   ],
   "source": [
    "df_mean_gdp_growth_gdp_per_capita_inflation_2013_2019 = pd.merge(df_mean_gdp_growth_gdp_per_capita_2013_2019, df_mean_inflation_2013_2019, left_index=True, right_index=True)\n",
    "df_mean_gdp_growth_gdp_per_capita_inflation_2013_2019.head()"
   ]
  },
  {
   "cell_type": "code",
   "execution_count": 149,
   "id": "c9fd52ff-760a-4daf-aae2-7d3f4621cb3d",
   "metadata": {},
   "outputs": [],
   "source": [
    "data_mean_gdp_growth_gdp_per_capita_inflation_2013_2019 = df_mean_gdp_growth_gdp_per_capita_inflation_2013_2019.loc[:, \"Mean GDP Growth\":\"Mean Inflation\"].values"
   ]
  },
  {
   "cell_type": "markdown",
   "id": "53a2a314-f5ec-4eb3-85a3-95fb622455df",
   "metadata": {},
   "source": [
    "Стандартизация показателей"
   ]
  },
  {
   "cell_type": "code",
   "execution_count": 150,
   "id": "92c731e2-0674-4ea9-a31b-cb39c00dd12f",
   "metadata": {},
   "outputs": [],
   "source": [
    "data_mean_gdp_growth_gdp_per_capita_inflation_2013_2019_std = (data_mean_gdp_growth_gdp_per_capita_inflation_2013_2019 - data_mean_gdp_growth_gdp_per_capita_inflation_2013_2019.mean()) / data_mean_gdp_growth_gdp_per_capita_inflation_2013_2019.std()"
   ]
  },
  {
   "cell_type": "markdown",
   "id": "f21ee7d5-5f01-4e52-9bf3-a042d1a79a21",
   "metadata": {},
   "source": [
    "На основании дендрограммы определяем количество кластеров"
   ]
  },
  {
   "cell_type": "code",
   "execution_count": 151,
   "id": "2ca033a4-72ae-4cfd-879d-126534e893dd",
   "metadata": {},
   "outputs": [],
   "source": [
    "number_of_cluster = 5"
   ]
  },
  {
   "cell_type": "code",
   "execution_count": 152,
   "id": "aee34525-0d32-4791-8523-e728be20286d",
   "metadata": {},
   "outputs": [
    {
     "data": {
      "image/png": "[encoded data removed]",
      "text/plain": [
       "<Figure size 432x288 with 1 Axes>"
      ]
     },
     "metadata": {
      "needs_background": "light"
     },
     "output_type": "display_data"
    }
   ],
   "source": [
    "dendrogram = sch.dendrogram(ward(data_mean_gdp_growth_gdp_per_capita_inflation_2013_2019_std))\n",
    "plt.show()"
   ]
  },
  {
   "cell_type": "markdown",
   "id": "1ab3c5cc-4e01-4ead-9667-fcadf75da52c",
   "metadata": {},
   "source": [
    "Кластеризируем данные"
   ]
  },
  {
   "cell_type": "code",
   "execution_count": 153,
   "id": "df269e2c-2d3c-44c8-bedb-8450391c1163",
   "metadata": {},
   "outputs": [],
   "source": [
    "hc = AgglomerativeClustering(n_clusters=number_of_cluster, affinity=\"euclidean\", linkage=\"ward\")\n",
    "\n",
    "y_hc = hc.fit_predict(data_mean_gdp_growth_gdp_per_capita_inflation_2013_2019_std)"
   ]
  },
  {
   "cell_type": "code",
   "execution_count": 154,
   "id": "9f226fdd-6179-4377-8e9f-ec00b5bca071",
   "metadata": {},
   "outputs": [],
   "source": [
    "dict_names = {i: [] for i in range(number_of_cluster)}\n",
    "for i in range(len(y_hc)):\n",
    "    dict_names[y_hc[i]].append(df_mean_gdp_growth_gdp_per_capita_inflation_2013_2019[\"Country Name\"].values[i])"
   ]
  },
  {
   "cell_type": "markdown",
   "id": "e80be4f9-cd27-4264-a575-265733207133",
   "metadata": {},
   "source": [
    "Название стран в кластерах"
   ]
  },
  {
   "cell_type": "code",
   "execution_count": 155,
   "id": "bc3edc3d-74c5-489b-92a3-c7aca27142d2",
   "metadata": {},
   "outputs": [],
   "source": [
    "df_names_inflation_mean_2013_2019 = pd.DataFrame.from_dict(dict_names, orient=\"index\")\n",
    "df_names_inflation_mean_2013_2019 = df_names_inflation_mean_2013_2019.transpose()"
   ]
  },
  {
   "cell_type": "code",
   "execution_count": 156,
   "id": "11127e09-7d33-4cf9-adbe-1b9dedebea21",
   "metadata": {},
   "outputs": [
    {
     "data": {
      "text/html": [
       "<div>\n",
       "<style scoped>\n",
       "    .dataframe tbody tr th:only-of-type {\n",
       "        vertical-align: middle;\n",
       "    }\n",
       "\n",
       "    .dataframe tbody tr th {\n",
       "        vertical-align: top;\n",
       "    }\n",
       "\n",
       "    .dataframe thead th {\n",
       "        text-align: right;\n",
       "    }\n",
       "</style>\n",
       "<table border=\"1\" class=\"dataframe\">\n",
       "  <thead>\n",
       "    <tr style=\"text-align: right;\">\n",
       "      <th></th>\n",
       "      <th>0</th>\n",
       "      <th>1</th>\n",
       "      <th>2</th>\n",
       "      <th>3</th>\n",
       "      <th>4</th>\n",
       "    </tr>\n",
       "  </thead>\n",
       "  <tbody>\n",
       "    <tr>\n",
       "      <th>0</th>\n",
       "      <td>Aruba</td>\n",
       "      <td>Barbados</td>\n",
       "      <td>Antigua and Barbuda</td>\n",
       "      <td>Oman</td>\n",
       "      <td>Angola</td>\n",
       "    </tr>\n",
       "    <tr>\n",
       "      <th>1</th>\n",
       "      <td>Argentina</td>\n",
       "      <td>Cameroon</td>\n",
       "      <td>Austria</td>\n",
       "      <td>None</td>\n",
       "      <td>Andorra</td>\n",
       "    </tr>\n",
       "    <tr>\n",
       "      <th>2</th>\n",
       "      <td>American Samoa</td>\n",
       "      <td>Denmark</td>\n",
       "      <td>Azerbaijan</td>\n",
       "      <td>None</td>\n",
       "      <td>United Arab Emirates</td>\n",
       "    </tr>\n",
       "    <tr>\n",
       "      <th>3</th>\n",
       "      <td>Burundi</td>\n",
       "      <td>Liberia</td>\n",
       "      <td>Belarus</td>\n",
       "      <td>None</td>\n",
       "      <td>Australia</td>\n",
       "    </tr>\n",
       "    <tr>\n",
       "      <th>4</th>\n",
       "      <td>Belgium</td>\n",
       "      <td>Netherlands</td>\n",
       "      <td>Bhutan</td>\n",
       "      <td>None</td>\n",
       "      <td>Benin</td>\n",
       "    </tr>\n",
       "  </tbody>\n",
       "</table>\n",
       "</div>"
      ],
      "text/plain": [
       "                0            1                    2     3  \\\n",
       "0           Aruba     Barbados  Antigua and Barbuda  Oman   \n",
       "1       Argentina     Cameroon              Austria  None   \n",
       "2  American Samoa      Denmark           Azerbaijan  None   \n",
       "3         Burundi      Liberia              Belarus  None   \n",
       "4         Belgium  Netherlands               Bhutan  None   \n",
       "\n",
       "                      4  \n",
       "0                Angola  \n",
       "1               Andorra  \n",
       "2  United Arab Emirates  \n",
       "3             Australia  \n",
       "4                 Benin  "
      ]
     },
     "execution_count": 156,
     "metadata": {},
     "output_type": "execute_result"
    }
   ],
   "source": [
    "df_names_inflation_mean_2013_2019.head()"
   ]
  },
  {
   "cell_type": "markdown",
   "id": "fb33a917-247a-4050-85dc-ea1b3ecb6ead",
   "metadata": {},
   "source": [
    "Значения темпов роста ВВП в кластерах"
   ]
  },
  {
   "cell_type": "code",
   "execution_count": 157,
   "id": "22bfb34e-0304-4426-b59c-f1ee4fbe61fc",
   "metadata": {},
   "outputs": [],
   "source": [
    "dict_gdp = {i: [df_mean_gdp_growth_gdp_per_capita_inflation_2013_2019.loc[df_mean_gdp_growth_gdp_per_capita_inflation_2013_2019[\"Country Name\"] == df_names_inflation_mean_2013_2019[i][j]][\"Mean GDP Growth\"].values[0] for j in range(len(df_names_inflation_mean_2013_2019[i].dropna()))] for i in range(number_of_cluster)}"
   ]
  },
  {
   "cell_type": "code",
   "execution_count": 158,
   "id": "ec1d9eb6-4d51-4595-9218-e4afbf65141d",
   "metadata": {},
   "outputs": [],
   "source": [
    "df_vals_gdp_inflation_mean_2013_2019 = pd.DataFrame.from_dict(dict_gdp, orient=\"index\").transpose()"
   ]
  },
  {
   "cell_type": "code",
   "execution_count": 159,
   "id": "4b4acac8-cad1-47f4-8a07-49e31efce7f1",
   "metadata": {},
   "outputs": [
    {
     "data": {
      "text/html": [
       "<div>\n",
       "<style scoped>\n",
       "    .dataframe tbody tr th:only-of-type {\n",
       "        vertical-align: middle;\n",
       "    }\n",
       "\n",
       "    .dataframe tbody tr th {\n",
       "        vertical-align: top;\n",
       "    }\n",
       "\n",
       "    .dataframe thead th {\n",
       "        text-align: right;\n",
       "    }\n",
       "</style>\n",
       "<table border=\"1\" class=\"dataframe\">\n",
       "  <thead>\n",
       "    <tr style=\"text-align: right;\">\n",
       "      <th></th>\n",
       "      <th>0</th>\n",
       "      <th>1</th>\n",
       "      <th>2</th>\n",
       "      <th>3</th>\n",
       "      <th>4</th>\n",
       "    </tr>\n",
       "  </thead>\n",
       "  <tbody>\n",
       "    <tr>\n",
       "      <th>0</th>\n",
       "      <td>2.390525</td>\n",
       "      <td>0.327122</td>\n",
       "      <td>3.915258</td>\n",
       "      <td>2.435056</td>\n",
       "      <td>0.851955</td>\n",
       "    </tr>\n",
       "    <tr>\n",
       "      <th>1</th>\n",
       "      <td>-0.183041</td>\n",
       "      <td>4.555692</td>\n",
       "      <td>1.420299</td>\n",
       "      <td>NaN</td>\n",
       "      <td>1.150153</td>\n",
       "    </tr>\n",
       "    <tr>\n",
       "      <th>2</th>\n",
       "      <td>-0.581604</td>\n",
       "      <td>2.152460</td>\n",
       "      <td>1.536326</td>\n",
       "      <td>NaN</td>\n",
       "      <td>3.497523</td>\n",
       "    </tr>\n",
       "    <tr>\n",
       "      <th>3</th>\n",
       "      <td>1.226763</td>\n",
       "      <td>1.280084</td>\n",
       "      <td>0.493603</td>\n",
       "      <td>NaN</td>\n",
       "      <td>2.479577</td>\n",
       "    </tr>\n",
       "    <tr>\n",
       "      <th>4</th>\n",
       "      <td>1.560133</td>\n",
       "      <td>1.810216</td>\n",
       "      <td>5.161124</td>\n",
       "      <td>NaN</td>\n",
       "      <td>5.414491</td>\n",
       "    </tr>\n",
       "  </tbody>\n",
       "</table>\n",
       "</div>"
      ],
      "text/plain": [
       "          0         1         2         3         4\n",
       "0  2.390525  0.327122  3.915258  2.435056  0.851955\n",
       "1 -0.183041  4.555692  1.420299       NaN  1.150153\n",
       "2 -0.581604  2.152460  1.536326       NaN  3.497523\n",
       "3  1.226763  1.280084  0.493603       NaN  2.479577\n",
       "4  1.560133  1.810216  5.161124       NaN  5.414491"
      ]
     },
     "execution_count": 159,
     "metadata": {},
     "output_type": "execute_result"
    }
   ],
   "source": [
    "df_vals_gdp_inflation_mean_2013_2019.head()"
   ]
  },
  {
   "cell_type": "markdown",
   "id": "659716cc-23cc-438b-aa0b-7a336c68994a",
   "metadata": {},
   "source": [
    "Минимум, максимум, среднее прироста ВВП в кластерах"
   ]
  },
  {
   "cell_type": "code",
   "execution_count": 160,
   "id": "a60a070a-39dd-4b6c-a9d9-a217f94b4239",
   "metadata": {},
   "outputs": [
    {
     "data": {
      "text/html": [
       "<div>\n",
       "<style scoped>\n",
       "    .dataframe tbody tr th:only-of-type {\n",
       "        vertical-align: middle;\n",
       "    }\n",
       "\n",
       "    .dataframe tbody tr th {\n",
       "        vertical-align: top;\n",
       "    }\n",
       "\n",
       "    .dataframe thead th {\n",
       "        text-align: right;\n",
       "    }\n",
       "</style>\n",
       "<table border=\"1\" class=\"dataframe\">\n",
       "  <thead>\n",
       "    <tr style=\"text-align: right;\">\n",
       "      <th></th>\n",
       "      <th>0</th>\n",
       "      <th>1</th>\n",
       "      <th>2</th>\n",
       "      <th>3</th>\n",
       "      <th>4</th>\n",
       "    </tr>\n",
       "  </thead>\n",
       "  <tbody>\n",
       "    <tr>\n",
       "      <th>count</th>\n",
       "      <td>32.000000</td>\n",
       "      <td>6.000000</td>\n",
       "      <td>36.000000</td>\n",
       "      <td>1.000000</td>\n",
       "      <td>80.000000</td>\n",
       "    </tr>\n",
       "    <tr>\n",
       "      <th>min</th>\n",
       "      <td>-2.258107</td>\n",
       "      <td>0.327122</td>\n",
       "      <td>-2.514906</td>\n",
       "      <td>2.435056</td>\n",
       "      <td>-2.019556</td>\n",
       "    </tr>\n",
       "    <tr>\n",
       "      <th>max</th>\n",
       "      <td>7.457143</td>\n",
       "      <td>5.314645</td>\n",
       "      <td>8.583767</td>\n",
       "      <td>2.435056</td>\n",
       "      <td>9.344305</td>\n",
       "    </tr>\n",
       "    <tr>\n",
       "      <th>mean</th>\n",
       "      <td>2.820335</td>\n",
       "      <td>2.573370</td>\n",
       "      <td>2.949856</td>\n",
       "      <td>2.435056</td>\n",
       "      <td>3.146901</td>\n",
       "    </tr>\n",
       "  </tbody>\n",
       "</table>\n",
       "</div>"
      ],
      "text/plain": [
       "               0         1          2         3          4\n",
       "count  32.000000  6.000000  36.000000  1.000000  80.000000\n",
       "min    -2.258107  0.327122  -2.514906  2.435056  -2.019556\n",
       "max     7.457143  5.314645   8.583767  2.435056   9.344305\n",
       "mean    2.820335  2.573370   2.949856  2.435056   3.146901"
      ]
     },
     "execution_count": 160,
     "metadata": {},
     "output_type": "execute_result"
    }
   ],
   "source": [
    "aggrigate = {i: [\"count\", \"min\", \"max\", \"mean\"] for i in range(number_of_cluster)}\n",
    "df_vals_gdp_inflation_mean_2013_2019.agg(aggrigate)"
   ]
  },
  {
   "cell_type": "markdown",
   "id": "6c5c2886-3e26-40a6-b3d2-49d93adf530c",
   "metadata": {},
   "source": [
    "Значения подушевого ВВП в кластерах"
   ]
  },
  {
   "cell_type": "code",
   "execution_count": 161,
   "id": "feb9f2f0-ac77-4ac6-a068-b760f3ed89be",
   "metadata": {},
   "outputs": [],
   "source": [
    "dict_gdp_per_capita = {i: [df_mean_gdp_growth_gdp_per_capita_inflation_2013_2019.loc[df_mean_gdp_growth_gdp_per_capita_inflation_2013_2019[\"Country Name\"] == df_names_inflation_mean_2013_2019[i][j]][\"Mean GDP per capita\"].values[0] for j in range(len(df_names_inflation_mean_2013_2019[i].dropna()))] for i in range(number_of_cluster)}"
   ]
  },
  {
   "cell_type": "code",
   "execution_count": 162,
   "id": "72cf2b6c-7ab0-43ee-ab9d-0a9556148f5e",
   "metadata": {},
   "outputs": [],
   "source": [
    "df_vals_capita_inflation_mean_2013_2019 = pd.DataFrame.from_dict(dict_gdp_per_capita, orient=\"index\").transpose()"
   ]
  },
  {
   "cell_type": "code",
   "execution_count": 163,
   "id": "d4ca4969-cbb7-4766-9ff4-4db6552708ec",
   "metadata": {},
   "outputs": [
    {
     "data": {
      "text/html": [
       "<div>\n",
       "<style scoped>\n",
       "    .dataframe tbody tr th:only-of-type {\n",
       "        vertical-align: middle;\n",
       "    }\n",
       "\n",
       "    .dataframe tbody tr th {\n",
       "        vertical-align: top;\n",
       "    }\n",
       "\n",
       "    .dataframe thead th {\n",
       "        text-align: right;\n",
       "    }\n",
       "</style>\n",
       "<table border=\"1\" class=\"dataframe\">\n",
       "  <thead>\n",
       "    <tr style=\"text-align: right;\">\n",
       "      <th></th>\n",
       "      <th>0</th>\n",
       "      <th>1</th>\n",
       "      <th>2</th>\n",
       "      <th>3</th>\n",
       "      <th>4</th>\n",
       "    </tr>\n",
       "  </thead>\n",
       "  <tbody>\n",
       "    <tr>\n",
       "      <th>0</th>\n",
       "      <td>28704.038175</td>\n",
       "      <td>106836.473070</td>\n",
       "      <td>12639.844618</td>\n",
       "      <td>178015.298903</td>\n",
       "      <td>543.298061</td>\n",
       "    </tr>\n",
       "    <tr>\n",
       "      <th>1</th>\n",
       "      <td>39391.828657</td>\n",
       "      <td>85816.947093</td>\n",
       "      <td>11616.366447</td>\n",
       "      <td>NaN</td>\n",
       "      <td>3156.243715</td>\n",
       "    </tr>\n",
       "    <tr>\n",
       "      <th>2</th>\n",
       "      <td>41450.753953</td>\n",
       "      <td>80352.524290</td>\n",
       "      <td>15048.008861</td>\n",
       "      <td>NaN</td>\n",
       "      <td>4611.921725</td>\n",
       "    </tr>\n",
       "    <tr>\n",
       "      <th>3</th>\n",
       "      <td>57606.774261</td>\n",
       "      <td>86012.561547</td>\n",
       "      <td>23765.413096</td>\n",
       "      <td>NaN</td>\n",
       "      <td>3966.176765</td>\n",
       "    </tr>\n",
       "    <tr>\n",
       "      <th>4</th>\n",
       "      <td>48721.577851</td>\n",
       "      <td>113815.259501</td>\n",
       "      <td>9984.770318</td>\n",
       "      <td>NaN</td>\n",
       "      <td>5548.686337</td>\n",
       "    </tr>\n",
       "  </tbody>\n",
       "</table>\n",
       "</div>"
      ],
      "text/plain": [
       "              0              1             2              3            4\n",
       "0  28704.038175  106836.473070  12639.844618  178015.298903   543.298061\n",
       "1  39391.828657   85816.947093  11616.366447            NaN  3156.243715\n",
       "2  41450.753953   80352.524290  15048.008861            NaN  4611.921725\n",
       "3  57606.774261   86012.561547  23765.413096            NaN  3966.176765\n",
       "4  48721.577851  113815.259501   9984.770318            NaN  5548.686337"
      ]
     },
     "execution_count": 163,
     "metadata": {},
     "output_type": "execute_result"
    }
   ],
   "source": [
    "df_vals_capita_inflation_mean_2013_2019.head()"
   ]
  },
  {
   "cell_type": "markdown",
   "id": "85bdff7e-0746-4584-bada-b1899177aee7",
   "metadata": {},
   "source": [
    "Минимум, максимум, среднее подушевого ВВП в кластерах"
   ]
  },
  {
   "cell_type": "code",
   "execution_count": 164,
   "id": "5baf72a3-1b21-4ffc-9fb5-ae16c0494a46",
   "metadata": {},
   "outputs": [
    {
     "data": {
      "text/html": [
       "<div>\n",
       "<style scoped>\n",
       "    .dataframe tbody tr th:only-of-type {\n",
       "        vertical-align: middle;\n",
       "    }\n",
       "\n",
       "    .dataframe tbody tr th {\n",
       "        vertical-align: top;\n",
       "    }\n",
       "\n",
       "    .dataframe thead th {\n",
       "        text-align: right;\n",
       "    }\n",
       "</style>\n",
       "<table border=\"1\" class=\"dataframe\">\n",
       "  <thead>\n",
       "    <tr style=\"text-align: right;\">\n",
       "      <th></th>\n",
       "      <th>0</th>\n",
       "      <th>1</th>\n",
       "      <th>2</th>\n",
       "      <th>3</th>\n",
       "      <th>4</th>\n",
       "    </tr>\n",
       "  </thead>\n",
       "  <tbody>\n",
       "    <tr>\n",
       "      <th>count</th>\n",
       "      <td>32.000000</td>\n",
       "      <td>6.000000</td>\n",
       "      <td>36.000000</td>\n",
       "      <td>1.000000</td>\n",
       "      <td>80.000000</td>\n",
       "    </tr>\n",
       "    <tr>\n",
       "      <th>min</th>\n",
       "      <td>26865.120536</td>\n",
       "      <td>80352.524290</td>\n",
       "      <td>9298.382551</td>\n",
       "      <td>178015.298903</td>\n",
       "      <td>257.343706</td>\n",
       "    </tr>\n",
       "    <tr>\n",
       "      <th>max</th>\n",
       "      <td>68033.127896</td>\n",
       "      <td>113815.259501</td>\n",
       "      <td>23765.413096</td>\n",
       "      <td>178015.298903</td>\n",
       "      <td>8519.059570</td>\n",
       "    </tr>\n",
       "    <tr>\n",
       "      <th>mean</th>\n",
       "      <td>43352.389382</td>\n",
       "      <td>92743.514680</td>\n",
       "      <td>14691.554077</td>\n",
       "      <td>178015.298903</td>\n",
       "      <td>3247.937314</td>\n",
       "    </tr>\n",
       "  </tbody>\n",
       "</table>\n",
       "</div>"
      ],
      "text/plain": [
       "                  0              1             2              3            4\n",
       "count     32.000000       6.000000     36.000000       1.000000    80.000000\n",
       "min    26865.120536   80352.524290   9298.382551  178015.298903   257.343706\n",
       "max    68033.127896  113815.259501  23765.413096  178015.298903  8519.059570\n",
       "mean   43352.389382   92743.514680  14691.554077  178015.298903  3247.937314"
      ]
     },
     "execution_count": 164,
     "metadata": {},
     "output_type": "execute_result"
    }
   ],
   "source": [
    "aggrigate = {i: [\"count\", \"min\", \"max\", \"mean\"] for i in range(number_of_cluster)}\n",
    "df_vals_capita_inflation_mean_2013_2019.agg(aggrigate)"
   ]
  },
  {
   "cell_type": "markdown",
   "id": "0df08ee7-43a7-4d46-a2ed-f9a1dc5c27e0",
   "metadata": {},
   "source": [
    "Значения темпа инфляции в кластерах"
   ]
  },
  {
   "cell_type": "code",
   "execution_count": 165,
   "id": "fc9733e8-037b-4214-bf39-10814f044082",
   "metadata": {},
   "outputs": [],
   "source": [
    "dict_inflation = {i: [df_mean_gdp_growth_gdp_per_capita_inflation_2013_2019.loc[df_mean_gdp_growth_gdp_per_capita_inflation_2013_2019[\"Country Name\"] == df_names_inflation_mean_2013_2019[i][j]][\"Mean Inflation\"].values[0] for j in range(len(df_names_inflation_mean_2013_2019[i].dropna()))] for i in range(number_of_cluster)}"
   ]
  },
  {
   "cell_type": "code",
   "execution_count": 166,
   "id": "80eb04bb-e330-407d-a269-837304ad4b16",
   "metadata": {},
   "outputs": [],
   "source": [
    "df_vals_inflation_inflation_mean_2013_2019 = pd.DataFrame.from_dict(dict_inflation, orient=\"index\").transpose()"
   ]
  },
  {
   "cell_type": "code",
   "execution_count": 167,
   "id": "d5d183cf-f819-473e-929b-c4bc96d5f233",
   "metadata": {},
   "outputs": [
    {
     "data": {
      "text/html": [
       "<div>\n",
       "<style scoped>\n",
       "    .dataframe tbody tr th:only-of-type {\n",
       "        vertical-align: middle;\n",
       "    }\n",
       "\n",
       "    .dataframe tbody tr th {\n",
       "        vertical-align: top;\n",
       "    }\n",
       "\n",
       "    .dataframe thead th {\n",
       "        text-align: right;\n",
       "    }\n",
       "</style>\n",
       "<table border=\"1\" class=\"dataframe\">\n",
       "  <thead>\n",
       "    <tr style=\"text-align: right;\">\n",
       "      <th></th>\n",
       "      <th>0</th>\n",
       "      <th>1</th>\n",
       "      <th>2</th>\n",
       "      <th>3</th>\n",
       "      <th>4</th>\n",
       "    </tr>\n",
       "  </thead>\n",
       "  <tbody>\n",
       "    <tr>\n",
       "      <th>0</th>\n",
       "      <td>1.081196</td>\n",
       "      <td>2.275718</td>\n",
       "      <td>35.841813</td>\n",
       "      <td>0.830066</td>\n",
       "      <td>2.376607</td>\n",
       "    </tr>\n",
       "    <tr>\n",
       "      <th>1</th>\n",
       "      <td>0.699514</td>\n",
       "      <td>-0.306675</td>\n",
       "      <td>0.831001</td>\n",
       "      <td>NaN</td>\n",
       "      <td>13.519443</td>\n",
       "    </tr>\n",
       "    <tr>\n",
       "      <th>2</th>\n",
       "      <td>-1.609904</td>\n",
       "      <td>1.674420</td>\n",
       "      <td>1.069595</td>\n",
       "      <td>NaN</td>\n",
       "      <td>0.850102</td>\n",
       "    </tr>\n",
       "    <tr>\n",
       "      <th>3</th>\n",
       "      <td>1.295595</td>\n",
       "      <td>1.126335</td>\n",
       "      <td>-0.047373</td>\n",
       "      <td>NaN</td>\n",
       "      <td>1.880352</td>\n",
       "    </tr>\n",
       "    <tr>\n",
       "      <th>4</th>\n",
       "      <td>1.768418</td>\n",
       "      <td>1.519426</td>\n",
       "      <td>6.201462</td>\n",
       "      <td>NaN</td>\n",
       "      <td>4.728249</td>\n",
       "    </tr>\n",
       "  </tbody>\n",
       "</table>\n",
       "</div>"
      ],
      "text/plain": [
       "          0         1          2         3          4\n",
       "0  1.081196  2.275718  35.841813  0.830066   2.376607\n",
       "1  0.699514 -0.306675   0.831001       NaN  13.519443\n",
       "2 -1.609904  1.674420   1.069595       NaN   0.850102\n",
       "3  1.295595  1.126335  -0.047373       NaN   1.880352\n",
       "4  1.768418  1.519426   6.201462       NaN   4.728249"
      ]
     },
     "execution_count": 167,
     "metadata": {},
     "output_type": "execute_result"
    }
   ],
   "source": [
    "df_vals_inflation_inflation_mean_2013_2019.head()"
   ]
  },
  {
   "cell_type": "markdown",
   "id": "ab3d7ede-0e00-437a-93a7-1ea1f1c8354c",
   "metadata": {},
   "source": [
    "Минимум, максимум, среднее значение инфляции в кластерах"
   ]
  },
  {
   "cell_type": "code",
   "execution_count": 168,
   "id": "c37d082b-29bd-4efd-bf8d-357040ff6029",
   "metadata": {},
   "outputs": [
    {
     "data": {
      "text/html": [
       "<div>\n",
       "<style scoped>\n",
       "    .dataframe tbody tr th:only-of-type {\n",
       "        vertical-align: middle;\n",
       "    }\n",
       "\n",
       "    .dataframe tbody tr th {\n",
       "        vertical-align: top;\n",
       "    }\n",
       "\n",
       "    .dataframe thead th {\n",
       "        text-align: right;\n",
       "    }\n",
       "</style>\n",
       "<table border=\"1\" class=\"dataframe\">\n",
       "  <thead>\n",
       "    <tr style=\"text-align: right;\">\n",
       "      <th></th>\n",
       "      <th>0</th>\n",
       "      <th>1</th>\n",
       "      <th>2</th>\n",
       "      <th>3</th>\n",
       "      <th>4</th>\n",
       "    </tr>\n",
       "  </thead>\n",
       "  <tbody>\n",
       "    <tr>\n",
       "      <th>count</th>\n",
       "      <td>32.000000</td>\n",
       "      <td>6.000000</td>\n",
       "      <td>36.000000</td>\n",
       "      <td>1.000000</td>\n",
       "      <td>80.000000</td>\n",
       "    </tr>\n",
       "    <tr>\n",
       "      <th>min</th>\n",
       "      <td>-2.944695</td>\n",
       "      <td>-0.306675</td>\n",
       "      <td>-1.768757</td>\n",
       "      <td>0.830066</td>\n",
       "      <td>-1.996955</td>\n",
       "    </tr>\n",
       "    <tr>\n",
       "      <th>max</th>\n",
       "      <td>3.251564</td>\n",
       "      <td>4.276581</td>\n",
       "      <td>35.841813</td>\n",
       "      <td>0.830066</td>\n",
       "      <td>23.301043</td>\n",
       "    </tr>\n",
       "    <tr>\n",
       "      <th>mean</th>\n",
       "      <td>1.059567</td>\n",
       "      <td>1.760967</td>\n",
       "      <td>3.116098</td>\n",
       "      <td>0.830066</td>\n",
       "      <td>4.577621</td>\n",
       "    </tr>\n",
       "  </tbody>\n",
       "</table>\n",
       "</div>"
      ],
      "text/plain": [
       "               0         1          2         3          4\n",
       "count  32.000000  6.000000  36.000000  1.000000  80.000000\n",
       "min    -2.944695 -0.306675  -1.768757  0.830066  -1.996955\n",
       "max     3.251564  4.276581  35.841813  0.830066  23.301043\n",
       "mean    1.059567  1.760967   3.116098  0.830066   4.577621"
      ]
     },
     "execution_count": 168,
     "metadata": {},
     "output_type": "execute_result"
    }
   ],
   "source": [
    "aggrigate = {i: [\"count\", \"min\", \"max\", \"mean\"] for i in range(number_of_cluster)}\n",
    "df_vals_inflation_inflation_mean_2013_2019.agg(aggrigate)"
   ]
  },
  {
   "cell_type": "markdown",
   "id": "bfc9751b-10d9-42c1-be34-877cafeec820",
   "metadata": {},
   "source": [
    "Записываем получившиеся результаты в `excel`-файл"
   ]
  },
  {
   "cell_type": "code",
   "execution_count": 169,
   "id": "f5cdbeb5-3514-4a93-8ba1-c4f64a225910",
   "metadata": {},
   "outputs": [],
   "source": [
    "save_as_xlsx(\"./results/mean_gdp_growth_gdp_per_capita_inflation_2013_2019.xlsx\",\n",
    "             [\"Country Names\", \"GDP growth\", \"GDP per capita\", \"Inflation\"],\n",
    "             [df_names_inflation_mean_2013_2019, df_vals_gdp_inflation_mean_2013_2019, df_vals_capita_inflation_mean_2013_2019, df_vals_inflation_inflation_mean_2013_2019])"
   ]
  },
  {
   "cell_type": "markdown",
   "id": "b5b4388e-d129-40b8-a717-aeb495709dbf",
   "metadata": {
    "jp-MarkdownHeadingCollapsed": true,
    "tags": []
   },
   "source": [
    "## Миграция стран по кластерам"
   ]
  },
  {
   "cell_type": "markdown",
   "id": "cd54e2d0-4467-4644-b47c-0ae882353f8a",
   "metadata": {
    "jp-MarkdownHeadingCollapsed": true,
    "tags": []
   },
   "source": [
    "### Темпы роста ВВП"
   ]
  },
  {
   "cell_type": "markdown",
   "id": "4a2baa4d-38ef-451c-beb6-775ce435580f",
   "metadata": {
    "jp-MarkdownHeadingCollapsed": true,
    "tags": []
   },
   "source": [
    "#### Средние темпы роста в 2013"
   ]
  },
  {
   "cell_type": "code",
   "execution_count": 170,
   "id": "bafcb14b-62bc-495c-b059-3870dc515b24",
   "metadata": {},
   "outputs": [
    {
     "data": {
      "text/html": [
       "<div>\n",
       "<style scoped>\n",
       "    .dataframe tbody tr th:only-of-type {\n",
       "        vertical-align: middle;\n",
       "    }\n",
       "\n",
       "    .dataframe tbody tr th {\n",
       "        vertical-align: top;\n",
       "    }\n",
       "\n",
       "    .dataframe thead th {\n",
       "        text-align: right;\n",
       "    }\n",
       "</style>\n",
       "<table border=\"1\" class=\"dataframe\">\n",
       "  <thead>\n",
       "    <tr style=\"text-align: right;\">\n",
       "      <th></th>\n",
       "      <th>0</th>\n",
       "      <th>1</th>\n",
       "      <th>2</th>\n",
       "      <th>3</th>\n",
       "      <th>4</th>\n",
       "    </tr>\n",
       "  </thead>\n",
       "  <tbody>\n",
       "    <tr>\n",
       "      <th>count</th>\n",
       "      <td>57.000000</td>\n",
       "      <td>64.000000</td>\n",
       "      <td>5.000000</td>\n",
       "      <td>77.000000</td>\n",
       "      <td>2.000000</td>\n",
       "    </tr>\n",
       "    <tr>\n",
       "      <th>min</th>\n",
       "      <td>-3.779889</td>\n",
       "      <td>4.331735</td>\n",
       "      <td>-11.195695</td>\n",
       "      <td>1.671944</td>\n",
       "      <td>13.793103</td>\n",
       "    </tr>\n",
       "    <tr>\n",
       "      <th>max</th>\n",
       "      <td>1.491211</td>\n",
       "      <td>9.460598</td>\n",
       "      <td>-5.481823</td>\n",
       "      <td>4.188260</td>\n",
       "      <td>19.535810</td>\n",
       "    </tr>\n",
       "    <tr>\n",
       "      <th>mean</th>\n",
       "      <td>-0.090235</td>\n",
       "      <td>5.739661</td>\n",
       "      <td>-8.175853</td>\n",
       "      <td>2.740411</td>\n",
       "      <td>16.664457</td>\n",
       "    </tr>\n",
       "  </tbody>\n",
       "</table>\n",
       "</div>"
      ],
      "text/plain": [
       "               0          1          2          3          4\n",
       "count  57.000000  64.000000   5.000000  77.000000   2.000000\n",
       "min    -3.779889   4.331735 -11.195695   1.671944  13.793103\n",
       "max     1.491211   9.460598  -5.481823   4.188260  19.535810\n",
       "mean   -0.090235   5.739661  -8.175853   2.740411  16.664457"
      ]
     },
     "execution_count": 170,
     "metadata": {},
     "output_type": "execute_result"
    }
   ],
   "source": [
    "aggrigate = {i: [\"count\", \"min\", \"max\", \"mean\"] for i in range(number_of_cluster)}\n",
    "df_vals_gdp_2019.agg(aggrigate)"
   ]
  },
  {
   "cell_type": "code",
   "execution_count": 171,
   "id": "a956a3af-d7cf-4bf0-966a-122f322eb724",
   "metadata": {},
   "outputs": [
    {
     "data": {
      "text/html": [
       "<div>\n",
       "<style scoped>\n",
       "    .dataframe tbody tr th:only-of-type {\n",
       "        vertical-align: middle;\n",
       "    }\n",
       "\n",
       "    .dataframe tbody tr th {\n",
       "        vertical-align: top;\n",
       "    }\n",
       "\n",
       "    .dataframe thead th {\n",
       "        text-align: right;\n",
       "    }\n",
       "</style>\n",
       "<table border=\"1\" class=\"dataframe\">\n",
       "  <thead>\n",
       "    <tr style=\"text-align: right;\">\n",
       "      <th></th>\n",
       "      <th>0</th>\n",
       "      <th>1</th>\n",
       "      <th>2</th>\n",
       "      <th>3</th>\n",
       "      <th>4</th>\n",
       "    </tr>\n",
       "  </thead>\n",
       "  <tbody>\n",
       "    <tr>\n",
       "      <th>count</th>\n",
       "      <td>121.000000</td>\n",
       "      <td>3.000000</td>\n",
       "      <td>24.000000</td>\n",
       "      <td>56.000000</td>\n",
       "      <td>2.000000</td>\n",
       "    </tr>\n",
       "    <tr>\n",
       "      <th>min</th>\n",
       "      <td>1.690408</td>\n",
       "      <td>-36.391977</td>\n",
       "      <td>7.191434</td>\n",
       "      <td>-6.553078</td>\n",
       "      <td>20.715768</td>\n",
       "    </tr>\n",
       "    <tr>\n",
       "      <th>max</th>\n",
       "      <td>6.963607</td>\n",
       "      <td>-17.997962</td>\n",
       "      <td>13.129731</td>\n",
       "      <td>1.458429</td>\n",
       "      <td>30.612245</td>\n",
       "    </tr>\n",
       "    <tr>\n",
       "      <th>mean</th>\n",
       "      <td>3.994569</td>\n",
       "      <td>-26.896675</td>\n",
       "      <td>9.044068</td>\n",
       "      <td>-0.634174</td>\n",
       "      <td>25.664007</td>\n",
       "    </tr>\n",
       "  </tbody>\n",
       "</table>\n",
       "</div>"
      ],
      "text/plain": [
       "                0          1          2          3          4\n",
       "count  121.000000   3.000000  24.000000  56.000000   2.000000\n",
       "min      1.690408 -36.391977   7.191434  -6.553078  20.715768\n",
       "max      6.963607 -17.997962  13.129731   1.458429  30.612245\n",
       "mean     3.994569 -26.896675   9.044068  -0.634174  25.664007"
      ]
     },
     "execution_count": 171,
     "metadata": {},
     "output_type": "execute_result"
    }
   ],
   "source": [
    "aggrigate = {i: [\"count\", \"min\", \"max\", \"mean\"] for i in range(number_of_cluster)}\n",
    "df_vals_gdp_2013.agg(aggrigate)"
   ]
  },
  {
   "cell_type": "markdown",
   "id": "abc5a5ea-e899-4a11-b543-1036406174c3",
   "metadata": {},
   "source": [
    "Страны, оставшиеся в кластере \"средние\""
   ]
  },
  {
   "cell_type": "code",
   "execution_count": 172,
   "id": "0d4de72d-b25e-4185-af3d-3aefd868ac3e",
   "metadata": {
    "tags": []
   },
   "outputs": [
    {
     "data": {
      "text/plain": [
       "['Colombia',\n",
       " 'South Asia',\n",
       " 'United Kingdom',\n",
       " 'Panama',\n",
       " 'North Macedonia',\n",
       " 'Canada',\n",
       " 'Comoros',\n",
       " 'Bolivia',\n",
       " 'India',\n",
       " 'New Zealand',\n",
       " 'Jordan',\n",
       " 'El Salvador',\n",
       " 'Guam',\n",
       " 'Thailand',\n",
       " 'Eswatini',\n",
       " 'United States',\n",
       " 'Afghanistan',\n",
       " 'Latvia',\n",
       " 'Guatemala',\n",
       " 'Burundi',\n",
       " 'Gabon',\n",
       " 'Pakistan',\n",
       " 'Lesotho',\n",
       " 'Chad',\n",
       " 'Korea, Rep.',\n",
       " 'North America',\n",
       " 'Cameroon',\n",
       " 'Honduras',\n",
       " 'Mozambique',\n",
       " 'Australia',\n",
       " 'Luxembourg',\n",
       " 'Romania',\n",
       " 'Bahrain',\n",
       " 'Sao Tome and Principe',\n",
       " 'Morocco',\n",
       " 'Seychelles',\n",
       " 'Iceland',\n",
       " 'Azerbaijan',\n",
       " 'Nigeria',\n",
       " 'Montenegro',\n",
       " 'Mauritius',\n",
       " 'Russian Federation',\n",
       " 'Peru',\n",
       " 'Costa Rica',\n",
       " 'Israel',\n",
       " 'Sri Lanka',\n",
       " 'Bosnia and Herzegovina',\n",
       " 'United Arab Emirates']"
      ]
     },
     "execution_count": 172,
     "metadata": {},
     "output_type": "execute_result"
    }
   ],
   "source": [
    "list(set(df_names_gdp_2013[0]) & set(df_names_gdp_2019[3]))"
   ]
  },
  {
   "cell_type": "markdown",
   "id": "05026929-16d1-4159-857f-56a10b28b57a",
   "metadata": {
    "tags": []
   },
   "source": [
    "Страны, мигрировавшие в кластер \"с высокими темпами роста\""
   ]
  },
  {
   "cell_type": "code",
   "execution_count": 173,
   "id": "759444d0-d10b-4c21-afe4-a6a5db17d970",
   "metadata": {
    "tags": []
   },
   "outputs": [
    {
     "data": {
      "text/plain": [
       "['Burkina Faso',\n",
       " 'Uganda',\n",
       " 'Serbia',\n",
       " 'Marshall Islands',\n",
       " 'Vietnam',\n",
       " 'Senegal',\n",
       " 'Rwanda',\n",
       " 'Kazakhstan',\n",
       " 'Guinea-Bissau',\n",
       " 'Bangladesh',\n",
       " 'St. Kitts and Nevis',\n",
       " 'Mali',\n",
       " 'Niger',\n",
       " 'Guinea',\n",
       " 'Egypt, Arab Rep.',\n",
       " 'Lithuania',\n",
       " 'Malaysia',\n",
       " 'Indonesia',\n",
       " 'Hungary',\n",
       " 'Bhutan',\n",
       " 'Armenia',\n",
       " 'Togo',\n",
       " 'Malawi',\n",
       " 'Gambia, The',\n",
       " 'Madagascar',\n",
       " 'Tanzania',\n",
       " 'Guyana',\n",
       " 'Malta',\n",
       " 'Georgia',\n",
       " 'Mauritania',\n",
       " 'Nepal',\n",
       " 'Papua New Guinea',\n",
       " 'Kosovo',\n",
       " 'Kenya',\n",
       " 'Dominican Republic',\n",
       " 'Philippines']"
      ]
     },
     "execution_count": 173,
     "metadata": {},
     "output_type": "execute_result"
    }
   ],
   "source": [
    "list(set(df_names_gdp_2013[0]) & set(df_names_gdp_2019[1]))"
   ]
  },
  {
   "cell_type": "markdown",
   "id": "89f64f48-385e-41c3-8d98-dcfab5fdc1e9",
   "metadata": {},
   "source": [
    "Страны, мигрировавшие в кластер \"с очень высокими темпами роста\""
   ]
  },
  {
   "cell_type": "code",
   "execution_count": 174,
   "id": "d0136fb6-2fc9-4b98-ba9d-8d8c22e30fc6",
   "metadata": {
    "tags": []
   },
   "outputs": [
    {
     "data": {
      "text/plain": [
       "['Tuvalu', 'Timor-Leste']"
      ]
     },
     "execution_count": 174,
     "metadata": {},
     "output_type": "execute_result"
    }
   ],
   "source": [
    "list(set(df_names_gdp_2013[0]) & set(df_names_gdp_2019[4]))"
   ]
  },
  {
   "cell_type": "markdown",
   "id": "91e0f7a4-c78b-4b30-9aa4-e1330d3b17a6",
   "metadata": {},
   "source": [
    "Страны, мигрировавшие в кластер \"с низкими темпами роста\""
   ]
  },
  {
   "cell_type": "code",
   "execution_count": 175,
   "id": "e7b39810-4faa-4b1d-896c-a66ef1e293c6",
   "metadata": {
    "tags": []
   },
   "outputs": [
    {
     "data": {
      "text/plain": [
       "['Oman',\n",
       " 'Brazil',\n",
       " 'Grenada',\n",
       " 'Fiji',\n",
       " 'Hong Kong SAR, China',\n",
       " 'Qatar',\n",
       " 'Ecuador',\n",
       " 'Aruba',\n",
       " 'Haiti',\n",
       " 'Kiribati',\n",
       " 'Chile',\n",
       " 'Isle of Man',\n",
       " 'Namibia',\n",
       " 'St. Vincent and the Grenadines',\n",
       " 'Saudi Arabia',\n",
       " 'Singapore',\n",
       " 'Japan',\n",
       " 'Solomon Islands',\n",
       " 'Switzerland',\n",
       " 'Zambia',\n",
       " 'Argentina',\n",
       " 'Trinidad and Tobago',\n",
       " 'Algeria',\n",
       " 'Yemen, Rep.',\n",
       " 'Sudan',\n",
       " 'Angola',\n",
       " 'Uruguay',\n",
       " 'Cuba',\n",
       " 'Nicaragua',\n",
       " 'Suriname',\n",
       " 'South Africa',\n",
       " 'Tunisia']"
      ]
     },
     "execution_count": 175,
     "metadata": {},
     "output_type": "execute_result"
    }
   ],
   "source": [
    "list(set(df_names_gdp_2013[0]) & set(df_names_gdp_2019[0]))"
   ]
  },
  {
   "cell_type": "markdown",
   "id": "85818558-7a81-4a84-9b17-db0bfc37230f",
   "metadata": {},
   "source": [
    "Страны, мигрировавшие в кластер \"с очень низкими темпами роста\""
   ]
  },
  {
   "cell_type": "code",
   "execution_count": 176,
   "id": "c9350fcb-29d9-47d4-9b33-9507048671de",
   "metadata": {
    "tags": []
   },
   "outputs": [
    {
     "data": {
      "text/plain": [
       "['Northern Mariana Islands', 'Zimbabwe', 'Lebanon']"
      ]
     },
     "execution_count": 176,
     "metadata": {},
     "output_type": "execute_result"
    }
   ],
   "source": [
    "list(set(df_names_gdp_2013[0]) & set(df_names_gdp_2019[2]))"
   ]
  },
  {
   "cell_type": "markdown",
   "id": "d955812c-ca95-4196-974e-512ab0e37586",
   "metadata": {
    "jp-MarkdownHeadingCollapsed": true,
    "tags": []
   },
   "source": [
    "#### Высокие темпы роста в 2013"
   ]
  },
  {
   "cell_type": "code",
   "execution_count": 177,
   "id": "86568f5b-53b9-4173-a70d-549d6d1d9e3e",
   "metadata": {},
   "outputs": [
    {
     "data": {
      "text/html": [
       "<div>\n",
       "<style scoped>\n",
       "    .dataframe tbody tr th:only-of-type {\n",
       "        vertical-align: middle;\n",
       "    }\n",
       "\n",
       "    .dataframe tbody tr th {\n",
       "        vertical-align: top;\n",
       "    }\n",
       "\n",
       "    .dataframe thead th {\n",
       "        text-align: right;\n",
       "    }\n",
       "</style>\n",
       "<table border=\"1\" class=\"dataframe\">\n",
       "  <thead>\n",
       "    <tr style=\"text-align: right;\">\n",
       "      <th></th>\n",
       "      <th>0</th>\n",
       "      <th>1</th>\n",
       "      <th>2</th>\n",
       "      <th>3</th>\n",
       "      <th>4</th>\n",
       "    </tr>\n",
       "  </thead>\n",
       "  <tbody>\n",
       "    <tr>\n",
       "      <th>count</th>\n",
       "      <td>57.000000</td>\n",
       "      <td>64.000000</td>\n",
       "      <td>5.000000</td>\n",
       "      <td>77.000000</td>\n",
       "      <td>2.000000</td>\n",
       "    </tr>\n",
       "    <tr>\n",
       "      <th>min</th>\n",
       "      <td>-3.779889</td>\n",
       "      <td>4.331735</td>\n",
       "      <td>-11.195695</td>\n",
       "      <td>1.671944</td>\n",
       "      <td>13.793103</td>\n",
       "    </tr>\n",
       "    <tr>\n",
       "      <th>max</th>\n",
       "      <td>1.491211</td>\n",
       "      <td>9.460598</td>\n",
       "      <td>-5.481823</td>\n",
       "      <td>4.188260</td>\n",
       "      <td>19.535810</td>\n",
       "    </tr>\n",
       "    <tr>\n",
       "      <th>mean</th>\n",
       "      <td>-0.090235</td>\n",
       "      <td>5.739661</td>\n",
       "      <td>-8.175853</td>\n",
       "      <td>2.740411</td>\n",
       "      <td>16.664457</td>\n",
       "    </tr>\n",
       "  </tbody>\n",
       "</table>\n",
       "</div>"
      ],
      "text/plain": [
       "               0          1          2          3          4\n",
       "count  57.000000  64.000000   5.000000  77.000000   2.000000\n",
       "min    -3.779889   4.331735 -11.195695   1.671944  13.793103\n",
       "max     1.491211   9.460598  -5.481823   4.188260  19.535810\n",
       "mean   -0.090235   5.739661  -8.175853   2.740411  16.664457"
      ]
     },
     "execution_count": 177,
     "metadata": {},
     "output_type": "execute_result"
    }
   ],
   "source": [
    "aggrigate = {i: [\"count\", \"min\", \"max\", \"mean\"] for i in range(number_of_cluster)}\n",
    "df_vals_gdp_2019.agg(aggrigate)"
   ]
  },
  {
   "cell_type": "code",
   "execution_count": 178,
   "id": "b99bf2d1-e85c-4771-a4f7-8c27beb44f32",
   "metadata": {},
   "outputs": [
    {
     "data": {
      "text/html": [
       "<div>\n",
       "<style scoped>\n",
       "    .dataframe tbody tr th:only-of-type {\n",
       "        vertical-align: middle;\n",
       "    }\n",
       "\n",
       "    .dataframe tbody tr th {\n",
       "        vertical-align: top;\n",
       "    }\n",
       "\n",
       "    .dataframe thead th {\n",
       "        text-align: right;\n",
       "    }\n",
       "</style>\n",
       "<table border=\"1\" class=\"dataframe\">\n",
       "  <thead>\n",
       "    <tr style=\"text-align: right;\">\n",
       "      <th></th>\n",
       "      <th>0</th>\n",
       "      <th>1</th>\n",
       "      <th>2</th>\n",
       "      <th>3</th>\n",
       "      <th>4</th>\n",
       "    </tr>\n",
       "  </thead>\n",
       "  <tbody>\n",
       "    <tr>\n",
       "      <th>count</th>\n",
       "      <td>121.000000</td>\n",
       "      <td>3.000000</td>\n",
       "      <td>24.000000</td>\n",
       "      <td>56.000000</td>\n",
       "      <td>2.000000</td>\n",
       "    </tr>\n",
       "    <tr>\n",
       "      <th>min</th>\n",
       "      <td>1.690408</td>\n",
       "      <td>-36.391977</td>\n",
       "      <td>7.191434</td>\n",
       "      <td>-6.553078</td>\n",
       "      <td>20.715768</td>\n",
       "    </tr>\n",
       "    <tr>\n",
       "      <th>max</th>\n",
       "      <td>6.963607</td>\n",
       "      <td>-17.997962</td>\n",
       "      <td>13.129731</td>\n",
       "      <td>1.458429</td>\n",
       "      <td>30.612245</td>\n",
       "    </tr>\n",
       "    <tr>\n",
       "      <th>mean</th>\n",
       "      <td>3.994569</td>\n",
       "      <td>-26.896675</td>\n",
       "      <td>9.044068</td>\n",
       "      <td>-0.634174</td>\n",
       "      <td>25.664007</td>\n",
       "    </tr>\n",
       "  </tbody>\n",
       "</table>\n",
       "</div>"
      ],
      "text/plain": [
       "                0          1          2          3          4\n",
       "count  121.000000   3.000000  24.000000  56.000000   2.000000\n",
       "min      1.690408 -36.391977   7.191434  -6.553078  20.715768\n",
       "max      6.963607 -17.997962  13.129731   1.458429  30.612245\n",
       "mean     3.994569 -26.896675   9.044068  -0.634174  25.664007"
      ]
     },
     "execution_count": 178,
     "metadata": {},
     "output_type": "execute_result"
    }
   ],
   "source": [
    "aggrigate = {i: [\"count\", \"min\", \"max\", \"mean\"] for i in range(number_of_cluster)}\n",
    "df_vals_gdp_2013.agg(aggrigate)"
   ]
  },
  {
   "cell_type": "markdown",
   "id": "2483809d-2154-4074-b845-cbe3ac386005",
   "metadata": {},
   "source": [
    "Страны, оставшиеся в кластере \"высокие\""
   ]
  },
  {
   "cell_type": "code",
   "execution_count": 179,
   "id": "3781501d-357d-43ec-92de-6d2951859955",
   "metadata": {
    "tags": []
   },
   "outputs": [
    {
     "data": {
      "text/plain": [
       "['Iraq',\n",
       " 'Congo, Dem. Rep.',\n",
       " 'Turkmenistan',\n",
       " 'Uzbekistan',\n",
       " 'Ethiopia',\n",
       " 'Tajikistan',\n",
       " 'Kyrgyz Republic',\n",
       " 'Myanmar',\n",
       " 'Maldives',\n",
       " 'Monaco',\n",
       " 'Mongolia',\n",
       " 'Benin',\n",
       " 'China',\n",
       " 'Ghana',\n",
       " 'Cambodia',\n",
       " \"Cote d'Ivoire\",\n",
       " 'Lao PDR',\n",
       " None]"
      ]
     },
     "execution_count": 179,
     "metadata": {},
     "output_type": "execute_result"
    }
   ],
   "source": [
    "list(set(df_names_gdp_2013[2]) & set(df_names_gdp_2019[1]))"
   ]
  },
  {
   "cell_type": "markdown",
   "id": "4acac88f-2ccd-4c01-b2d1-d84f79e8c06f",
   "metadata": {},
   "source": [
    "Перешли в класс с очень высокими темпами роста"
   ]
  },
  {
   "cell_type": "code",
   "execution_count": 180,
   "id": "a8f159ec-55c3-456e-b37e-a3979a4716e7",
   "metadata": {
    "tags": []
   },
   "outputs": [
    {
     "data": {
      "text/plain": [
       "[None]"
      ]
     },
     "execution_count": 180,
     "metadata": {},
     "output_type": "execute_result"
    }
   ],
   "source": [
    "list(set(df_names_gdp_2013[2]) & set(df_names_gdp_2019[4]))"
   ]
  },
  {
   "cell_type": "markdown",
   "id": "9f386248-3e67-43ea-8382-78c6713e4b92",
   "metadata": {},
   "source": [
    "Перешли в класс со средними темпами роста"
   ]
  },
  {
   "cell_type": "code",
   "execution_count": 181,
   "id": "095b5790-453b-4666-8d7a-634151e5563c",
   "metadata": {
    "tags": []
   },
   "outputs": [
    {
     "data": {
      "text/plain": [
       "['Botswana', 'Moldova']"
      ]
     },
     "execution_count": 181,
     "metadata": {},
     "output_type": "execute_result"
    }
   ],
   "source": [
    "list(set(df_names_gdp_2013[2]) & set(df_names_gdp_2019[3]))"
   ]
  },
  {
   "cell_type": "markdown",
   "id": "2359304c-38e1-43bd-8a77-2aceb916089d",
   "metadata": {},
   "source": [
    "Перешли в класс с низкими темпами роста"
   ]
  },
  {
   "cell_type": "code",
   "execution_count": 182,
   "id": "c2aace4d-091b-4e3d-86d0-342945f0a06a",
   "metadata": {
    "tags": []
   },
   "outputs": [
    {
     "data": {
      "text/plain": [
       "['Turkiye', 'Liberia', 'Macao SAR, China', None, 'Paraguay']"
      ]
     },
     "execution_count": 182,
     "metadata": {},
     "output_type": "execute_result"
    }
   ],
   "source": [
    "list(set(df_names_gdp_2013[2]) & set(df_names_gdp_2019[0]))"
   ]
  },
  {
   "cell_type": "markdown",
   "id": "7e7716f6-ce93-4452-88ab-2a5a0a225416",
   "metadata": {},
   "source": [
    "Перешли в класс с очень низкими темпами роста"
   ]
  },
  {
   "cell_type": "code",
   "execution_count": 183,
   "id": "eb2186e2-ab8d-44ec-8e96-92bb3388558a",
   "metadata": {
    "tags": []
   },
   "outputs": [
    {
     "data": {
      "text/plain": [
       "[None]"
      ]
     },
     "execution_count": 183,
     "metadata": {},
     "output_type": "execute_result"
    }
   ],
   "source": [
    "list(set(df_names_gdp_2013[2]) & set(df_names_gdp_2019[2]))"
   ]
  },
  {
   "cell_type": "markdown",
   "id": "5567155e-e4b6-45ac-ac14-1482377b9fef",
   "metadata": {
    "jp-MarkdownHeadingCollapsed": true,
    "tags": []
   },
   "source": [
    "#### Очень высокие темпы роста в 2013"
   ]
  },
  {
   "cell_type": "code",
   "execution_count": 184,
   "id": "22879789-e298-4462-89e4-aa45ac7f66b4",
   "metadata": {},
   "outputs": [
    {
     "data": {
      "text/html": [
       "<div>\n",
       "<style scoped>\n",
       "    .dataframe tbody tr th:only-of-type {\n",
       "        vertical-align: middle;\n",
       "    }\n",
       "\n",
       "    .dataframe tbody tr th {\n",
       "        vertical-align: top;\n",
       "    }\n",
       "\n",
       "    .dataframe thead th {\n",
       "        text-align: right;\n",
       "    }\n",
       "</style>\n",
       "<table border=\"1\" class=\"dataframe\">\n",
       "  <thead>\n",
       "    <tr style=\"text-align: right;\">\n",
       "      <th></th>\n",
       "      <th>0</th>\n",
       "      <th>1</th>\n",
       "      <th>2</th>\n",
       "      <th>3</th>\n",
       "      <th>4</th>\n",
       "    </tr>\n",
       "  </thead>\n",
       "  <tbody>\n",
       "    <tr>\n",
       "      <th>count</th>\n",
       "      <td>57.000000</td>\n",
       "      <td>64.000000</td>\n",
       "      <td>5.000000</td>\n",
       "      <td>77.000000</td>\n",
       "      <td>2.000000</td>\n",
       "    </tr>\n",
       "    <tr>\n",
       "      <th>min</th>\n",
       "      <td>-3.779889</td>\n",
       "      <td>4.331735</td>\n",
       "      <td>-11.195695</td>\n",
       "      <td>1.671944</td>\n",
       "      <td>13.793103</td>\n",
       "    </tr>\n",
       "    <tr>\n",
       "      <th>max</th>\n",
       "      <td>1.491211</td>\n",
       "      <td>9.460598</td>\n",
       "      <td>-5.481823</td>\n",
       "      <td>4.188260</td>\n",
       "      <td>19.535810</td>\n",
       "    </tr>\n",
       "    <tr>\n",
       "      <th>mean</th>\n",
       "      <td>-0.090235</td>\n",
       "      <td>5.739661</td>\n",
       "      <td>-8.175853</td>\n",
       "      <td>2.740411</td>\n",
       "      <td>16.664457</td>\n",
       "    </tr>\n",
       "  </tbody>\n",
       "</table>\n",
       "</div>"
      ],
      "text/plain": [
       "               0          1          2          3          4\n",
       "count  57.000000  64.000000   5.000000  77.000000   2.000000\n",
       "min    -3.779889   4.331735 -11.195695   1.671944  13.793103\n",
       "max     1.491211   9.460598  -5.481823   4.188260  19.535810\n",
       "mean   -0.090235   5.739661  -8.175853   2.740411  16.664457"
      ]
     },
     "execution_count": 184,
     "metadata": {},
     "output_type": "execute_result"
    }
   ],
   "source": [
    "aggrigate = {i: [\"count\", \"min\", \"max\", \"mean\"] for i in range(number_of_cluster)}\n",
    "df_vals_gdp_2019.agg(aggrigate)"
   ]
  },
  {
   "cell_type": "code",
   "execution_count": 185,
   "id": "749264bb-0756-4f39-ab40-4f5f3a83e00d",
   "metadata": {},
   "outputs": [
    {
     "data": {
      "text/html": [
       "<div>\n",
       "<style scoped>\n",
       "    .dataframe tbody tr th:only-of-type {\n",
       "        vertical-align: middle;\n",
       "    }\n",
       "\n",
       "    .dataframe tbody tr th {\n",
       "        vertical-align: top;\n",
       "    }\n",
       "\n",
       "    .dataframe thead th {\n",
       "        text-align: right;\n",
       "    }\n",
       "</style>\n",
       "<table border=\"1\" class=\"dataframe\">\n",
       "  <thead>\n",
       "    <tr style=\"text-align: right;\">\n",
       "      <th></th>\n",
       "      <th>0</th>\n",
       "      <th>1</th>\n",
       "      <th>2</th>\n",
       "      <th>3</th>\n",
       "      <th>4</th>\n",
       "    </tr>\n",
       "  </thead>\n",
       "  <tbody>\n",
       "    <tr>\n",
       "      <th>count</th>\n",
       "      <td>121.000000</td>\n",
       "      <td>3.000000</td>\n",
       "      <td>24.000000</td>\n",
       "      <td>56.000000</td>\n",
       "      <td>2.000000</td>\n",
       "    </tr>\n",
       "    <tr>\n",
       "      <th>min</th>\n",
       "      <td>1.690408</td>\n",
       "      <td>-36.391977</td>\n",
       "      <td>7.191434</td>\n",
       "      <td>-6.553078</td>\n",
       "      <td>20.715768</td>\n",
       "    </tr>\n",
       "    <tr>\n",
       "      <th>max</th>\n",
       "      <td>6.963607</td>\n",
       "      <td>-17.997962</td>\n",
       "      <td>13.129731</td>\n",
       "      <td>1.458429</td>\n",
       "      <td>30.612245</td>\n",
       "    </tr>\n",
       "    <tr>\n",
       "      <th>mean</th>\n",
       "      <td>3.994569</td>\n",
       "      <td>-26.896675</td>\n",
       "      <td>9.044068</td>\n",
       "      <td>-0.634174</td>\n",
       "      <td>25.664007</td>\n",
       "    </tr>\n",
       "  </tbody>\n",
       "</table>\n",
       "</div>"
      ],
      "text/plain": [
       "                0          1          2          3          4\n",
       "count  121.000000   3.000000  24.000000  56.000000   2.000000\n",
       "min      1.690408 -36.391977   7.191434  -6.553078  20.715768\n",
       "max      6.963607 -17.997962  13.129731   1.458429  30.612245\n",
       "mean     3.994569 -26.896675   9.044068  -0.634174  25.664007"
      ]
     },
     "execution_count": 185,
     "metadata": {},
     "output_type": "execute_result"
    }
   ],
   "source": [
    "aggrigate = {i: [\"count\", \"min\", \"max\", \"mean\"] for i in range(number_of_cluster)}\n",
    "df_vals_gdp_2013.agg(aggrigate)"
   ]
  },
  {
   "cell_type": "markdown",
   "id": "02a85245-05ef-48d3-aa04-2767856f0308",
   "metadata": {},
   "source": [
    "Страны, оставшиеся в кластере \"очень высокие\""
   ]
  },
  {
   "cell_type": "code",
   "execution_count": 186,
   "id": "17df8e4e-b419-4510-af9e-73013f625138",
   "metadata": {},
   "outputs": [
    {
     "data": {
      "text/plain": [
       "[None]"
      ]
     },
     "execution_count": 186,
     "metadata": {},
     "output_type": "execute_result"
    }
   ],
   "source": [
    "list(set(df_names_gdp_2013[4]) & set(df_names_gdp_2019[4]))"
   ]
  },
  {
   "cell_type": "markdown",
   "id": "54c472e6-c8f6-49ce-9c7a-ecac4a9d61a2",
   "metadata": {},
   "source": [
    "Перешли в класс с высокими темпами роста"
   ]
  },
  {
   "cell_type": "code",
   "execution_count": 187,
   "id": "d03c6759-6e14-4552-84ac-5aefadfee2cc",
   "metadata": {},
   "outputs": [
    {
     "data": {
      "text/plain": [
       "['Sierra Leone', None]"
      ]
     },
     "execution_count": 187,
     "metadata": {},
     "output_type": "execute_result"
    }
   ],
   "source": [
    "list(set(df_names_gdp_2013[4]) & set(df_names_gdp_2019[1]))"
   ]
  },
  {
   "cell_type": "markdown",
   "id": "57fef96c-95d2-4903-84a6-86849b7bb400",
   "metadata": {},
   "source": [
    "Перешли в класс со средними темпами роста"
   ]
  },
  {
   "cell_type": "code",
   "execution_count": 188,
   "id": "8effcc32-e8eb-42d3-bed5-dbf5b5de68b7",
   "metadata": {},
   "outputs": [
    {
     "data": {
      "text/plain": [
       "[]"
      ]
     },
     "execution_count": 188,
     "metadata": {},
     "output_type": "execute_result"
    }
   ],
   "source": [
    "list(set(df_names_gdp_2013[4]) & set(df_names_gdp_2019[3]))"
   ]
  },
  {
   "cell_type": "markdown",
   "id": "573c7ef8-f78c-4a0e-8979-39887273ae60",
   "metadata": {},
   "source": [
    "Перешли в класс с низкими темпами роста"
   ]
  },
  {
   "cell_type": "code",
   "execution_count": 189,
   "id": "16963b8a-4217-42e4-8373-7bcbfb14af0b",
   "metadata": {},
   "outputs": [
    {
     "data": {
      "text/plain": [
       "['Nauru', None]"
      ]
     },
     "execution_count": 189,
     "metadata": {},
     "output_type": "execute_result"
    }
   ],
   "source": [
    "list(set(df_names_gdp_2013[4]) & set(df_names_gdp_2019[0]))"
   ]
  },
  {
   "cell_type": "markdown",
   "id": "2bb23c0d-c320-4916-846a-519496df63ea",
   "metadata": {},
   "source": [
    "Перешли в класс с очень низкими темпами роста"
   ]
  },
  {
   "cell_type": "code",
   "execution_count": 190,
   "id": "b49b40d7-331b-447f-9a8d-b32673147903",
   "metadata": {},
   "outputs": [
    {
     "data": {
      "text/plain": [
       "[None]"
      ]
     },
     "execution_count": 190,
     "metadata": {},
     "output_type": "execute_result"
    }
   ],
   "source": [
    "list(set(df_names_gdp_2013[4]) & set(df_names_gdp_2019[2]))"
   ]
  },
  {
   "cell_type": "markdown",
   "id": "a97c1c1c-3b28-430e-bd3b-cf46f6f2dceb",
   "metadata": {
    "jp-MarkdownHeadingCollapsed": true,
    "tags": []
   },
   "source": [
    "#### Низкие темпы роста в 2013"
   ]
  },
  {
   "cell_type": "code",
   "execution_count": 191,
   "id": "5a521367-2e88-4529-8c96-cc69efe4be5f",
   "metadata": {},
   "outputs": [
    {
     "data": {
      "text/html": [
       "<div>\n",
       "<style scoped>\n",
       "    .dataframe tbody tr th:only-of-type {\n",
       "        vertical-align: middle;\n",
       "    }\n",
       "\n",
       "    .dataframe tbody tr th {\n",
       "        vertical-align: top;\n",
       "    }\n",
       "\n",
       "    .dataframe thead th {\n",
       "        text-align: right;\n",
       "    }\n",
       "</style>\n",
       "<table border=\"1\" class=\"dataframe\">\n",
       "  <thead>\n",
       "    <tr style=\"text-align: right;\">\n",
       "      <th></th>\n",
       "      <th>0</th>\n",
       "      <th>1</th>\n",
       "      <th>2</th>\n",
       "      <th>3</th>\n",
       "      <th>4</th>\n",
       "    </tr>\n",
       "  </thead>\n",
       "  <tbody>\n",
       "    <tr>\n",
       "      <th>count</th>\n",
       "      <td>57.000000</td>\n",
       "      <td>64.000000</td>\n",
       "      <td>5.000000</td>\n",
       "      <td>77.000000</td>\n",
       "      <td>2.000000</td>\n",
       "    </tr>\n",
       "    <tr>\n",
       "      <th>min</th>\n",
       "      <td>-3.779889</td>\n",
       "      <td>4.331735</td>\n",
       "      <td>-11.195695</td>\n",
       "      <td>1.671944</td>\n",
       "      <td>13.793103</td>\n",
       "    </tr>\n",
       "    <tr>\n",
       "      <th>max</th>\n",
       "      <td>1.491211</td>\n",
       "      <td>9.460598</td>\n",
       "      <td>-5.481823</td>\n",
       "      <td>4.188260</td>\n",
       "      <td>19.535810</td>\n",
       "    </tr>\n",
       "    <tr>\n",
       "      <th>mean</th>\n",
       "      <td>-0.090235</td>\n",
       "      <td>5.739661</td>\n",
       "      <td>-8.175853</td>\n",
       "      <td>2.740411</td>\n",
       "      <td>16.664457</td>\n",
       "    </tr>\n",
       "  </tbody>\n",
       "</table>\n",
       "</div>"
      ],
      "text/plain": [
       "               0          1          2          3          4\n",
       "count  57.000000  64.000000   5.000000  77.000000   2.000000\n",
       "min    -3.779889   4.331735 -11.195695   1.671944  13.793103\n",
       "max     1.491211   9.460598  -5.481823   4.188260  19.535810\n",
       "mean   -0.090235   5.739661  -8.175853   2.740411  16.664457"
      ]
     },
     "execution_count": 191,
     "metadata": {},
     "output_type": "execute_result"
    }
   ],
   "source": [
    "aggrigate = {i: [\"count\", \"min\", \"max\", \"mean\"] for i in range(number_of_cluster)}\n",
    "df_vals_gdp_2019.agg(aggrigate)"
   ]
  },
  {
   "cell_type": "code",
   "execution_count": 192,
   "id": "13078324-4009-49bb-abd9-3b8888052186",
   "metadata": {},
   "outputs": [
    {
     "data": {
      "text/html": [
       "<div>\n",
       "<style scoped>\n",
       "    .dataframe tbody tr th:only-of-type {\n",
       "        vertical-align: middle;\n",
       "    }\n",
       "\n",
       "    .dataframe tbody tr th {\n",
       "        vertical-align: top;\n",
       "    }\n",
       "\n",
       "    .dataframe thead th {\n",
       "        text-align: right;\n",
       "    }\n",
       "</style>\n",
       "<table border=\"1\" class=\"dataframe\">\n",
       "  <thead>\n",
       "    <tr style=\"text-align: right;\">\n",
       "      <th></th>\n",
       "      <th>0</th>\n",
       "      <th>1</th>\n",
       "      <th>2</th>\n",
       "      <th>3</th>\n",
       "      <th>4</th>\n",
       "    </tr>\n",
       "  </thead>\n",
       "  <tbody>\n",
       "    <tr>\n",
       "      <th>count</th>\n",
       "      <td>121.000000</td>\n",
       "      <td>3.000000</td>\n",
       "      <td>24.000000</td>\n",
       "      <td>56.000000</td>\n",
       "      <td>2.000000</td>\n",
       "    </tr>\n",
       "    <tr>\n",
       "      <th>min</th>\n",
       "      <td>1.690408</td>\n",
       "      <td>-36.391977</td>\n",
       "      <td>7.191434</td>\n",
       "      <td>-6.553078</td>\n",
       "      <td>20.715768</td>\n",
       "    </tr>\n",
       "    <tr>\n",
       "      <th>max</th>\n",
       "      <td>6.963607</td>\n",
       "      <td>-17.997962</td>\n",
       "      <td>13.129731</td>\n",
       "      <td>1.458429</td>\n",
       "      <td>30.612245</td>\n",
       "    </tr>\n",
       "    <tr>\n",
       "      <th>mean</th>\n",
       "      <td>3.994569</td>\n",
       "      <td>-26.896675</td>\n",
       "      <td>9.044068</td>\n",
       "      <td>-0.634174</td>\n",
       "      <td>25.664007</td>\n",
       "    </tr>\n",
       "  </tbody>\n",
       "</table>\n",
       "</div>"
      ],
      "text/plain": [
       "                0          1          2          3          4\n",
       "count  121.000000   3.000000  24.000000  56.000000   2.000000\n",
       "min      1.690408 -36.391977   7.191434  -6.553078  20.715768\n",
       "max      6.963607 -17.997962  13.129731   1.458429  30.612245\n",
       "mean     3.994569 -26.896675   9.044068  -0.634174  25.664007"
      ]
     },
     "execution_count": 192,
     "metadata": {},
     "output_type": "execute_result"
    }
   ],
   "source": [
    "aggrigate = {i: [\"count\", \"min\", \"max\", \"mean\"] for i in range(number_of_cluster)}\n",
    "df_vals_gdp_2013.agg(aggrigate)"
   ]
  },
  {
   "cell_type": "markdown",
   "id": "af37b2e8-d0fb-4bf3-8038-f25d465c06a2",
   "metadata": {},
   "source": [
    "Страны, оставшиеся в кластере \"низкие\""
   ]
  },
  {
   "cell_type": "code",
   "execution_count": 193,
   "id": "f2aadd4f-c525-4362-a638-54284cf282b2",
   "metadata": {
    "tags": []
   },
   "outputs": [
    {
     "data": {
      "text/plain": [
       "['Belarus',\n",
       " 'Mexico',\n",
       " 'Puerto Rico',\n",
       " 'Jamaica',\n",
       " 'Kuwait',\n",
       " 'Tonga',\n",
       " 'Austria',\n",
       " 'Finland',\n",
       " 'Palau',\n",
       " None,\n",
       " 'Congo, Rep.',\n",
       " 'Norway',\n",
       " 'Micronesia, Fed. Sts.',\n",
       " 'St. Lucia',\n",
       " 'American Samoa',\n",
       " 'Bermuda',\n",
       " 'Germany',\n",
       " 'Italy',\n",
       " 'Iran, Islamic Rep.',\n",
       " 'Curacao',\n",
       " 'Barbados']"
      ]
     },
     "execution_count": 193,
     "metadata": {},
     "output_type": "execute_result"
    }
   ],
   "source": [
    "list(set(df_names_gdp_2013[3]) & set(df_names_gdp_2019[0]))"
   ]
  },
  {
   "cell_type": "markdown",
   "id": "5e67d3c9-2727-4595-8381-368466b6b12a",
   "metadata": {},
   "source": [
    "Перешли в класс с очень высокими темпами роста"
   ]
  },
  {
   "cell_type": "code",
   "execution_count": 194,
   "id": "97b12a58-839a-4d5b-bcfc-87471f96b2ca",
   "metadata": {
    "tags": []
   },
   "outputs": [
    {
     "data": {
      "text/plain": [
       "[None]"
      ]
     },
     "execution_count": 194,
     "metadata": {},
     "output_type": "execute_result"
    }
   ],
   "source": [
    "list(set(df_names_gdp_2013[3]) & set(df_names_gdp_2019[4]))"
   ]
  },
  {
   "cell_type": "markdown",
   "id": "11a60883-d43f-4b62-93ed-4af9f7ef28f6",
   "metadata": {},
   "source": [
    "Перешли в класс с высокими темпами роста"
   ]
  },
  {
   "cell_type": "code",
   "execution_count": 195,
   "id": "2b8417bb-ca01-4f24-be96-06fa4f0235e4",
   "metadata": {
    "tags": []
   },
   "outputs": [
    {
     "data": {
      "text/plain": [
       "['Antigua and Barbuda',\n",
       " 'Samoa',\n",
       " 'Dominica',\n",
       " 'Ireland',\n",
       " 'Cabo Verde',\n",
       " 'Cyprus',\n",
       " 'Poland',\n",
       " 'Turks and Caicos Islands',\n",
       " None]"
      ]
     },
     "execution_count": 195,
     "metadata": {},
     "output_type": "execute_result"
    }
   ],
   "source": [
    "list(set(df_names_gdp_2013[3]) & set(df_names_gdp_2019[1]))"
   ]
  },
  {
   "cell_type": "markdown",
   "id": "1a5f16b2-a1fe-4577-a3db-dcc30afbc420",
   "metadata": {},
   "source": [
    "Перешли в класс со средними темпами роста"
   ]
  },
  {
   "cell_type": "code",
   "execution_count": 196,
   "id": "5ed2e32e-706c-4630-863d-c2e9c718c137",
   "metadata": {
    "tags": []
   },
   "outputs": [
    {
     "data": {
      "text/plain": [
       "['France',\n",
       " 'Cayman Islands',\n",
       " 'Albania',\n",
       " 'Slovenia',\n",
       " 'Estonia',\n",
       " 'Andorra',\n",
       " 'Brunei Darussalam',\n",
       " 'Slovak Republic',\n",
       " 'Ukraine',\n",
       " 'Portugal',\n",
       " 'Virgin Islands (U.S.)',\n",
       " 'Bulgaria',\n",
       " 'Spain',\n",
       " 'Netherlands',\n",
       " 'Denmark',\n",
       " 'San Marino',\n",
       " 'Greece',\n",
       " 'Czech Republic',\n",
       " 'Vanuatu',\n",
       " 'Croatia',\n",
       " 'Bahamas, The',\n",
       " 'Greenland',\n",
       " 'Belgium',\n",
       " 'Sweden',\n",
       " 'Belize']"
      ]
     },
     "execution_count": 196,
     "metadata": {},
     "output_type": "execute_result"
    }
   ],
   "source": [
    "list(set(df_names_gdp_2013[3]) & set(df_names_gdp_2019[3]))"
   ]
  },
  {
   "cell_type": "markdown",
   "id": "56872fd1-e30b-4c2c-89fc-4c3a3f7d6fad",
   "metadata": {},
   "source": [
    "Перешли в класс с очень низкими темпами роста"
   ]
  },
  {
   "cell_type": "code",
   "execution_count": 197,
   "id": "5a5b84ce-2370-41ed-b709-ae01bfe81be4",
   "metadata": {},
   "outputs": [
    {
     "data": {
      "text/plain": [
       "[None]"
      ]
     },
     "execution_count": 197,
     "metadata": {},
     "output_type": "execute_result"
    }
   ],
   "source": [
    "list(set(df_names_gdp_2013[4]) & set(df_names_gdp_2019[2]))"
   ]
  },
  {
   "cell_type": "markdown",
   "id": "6102ac62-407b-4a67-985e-d8d3623ca380",
   "metadata": {
    "jp-MarkdownHeadingCollapsed": true,
    "tags": []
   },
   "source": [
    "#### Очень низкие темпы роста в 2013"
   ]
  },
  {
   "cell_type": "code",
   "execution_count": 198,
   "id": "f865db95-53a4-46f9-87d7-416d55780672",
   "metadata": {},
   "outputs": [
    {
     "data": {
      "text/html": [
       "<div>\n",
       "<style scoped>\n",
       "    .dataframe tbody tr th:only-of-type {\n",
       "        vertical-align: middle;\n",
       "    }\n",
       "\n",
       "    .dataframe tbody tr th {\n",
       "        vertical-align: top;\n",
       "    }\n",
       "\n",
       "    .dataframe thead th {\n",
       "        text-align: right;\n",
       "    }\n",
       "</style>\n",
       "<table border=\"1\" class=\"dataframe\">\n",
       "  <thead>\n",
       "    <tr style=\"text-align: right;\">\n",
       "      <th></th>\n",
       "      <th>0</th>\n",
       "      <th>1</th>\n",
       "      <th>2</th>\n",
       "      <th>3</th>\n",
       "      <th>4</th>\n",
       "    </tr>\n",
       "  </thead>\n",
       "  <tbody>\n",
       "    <tr>\n",
       "      <th>count</th>\n",
       "      <td>57.000000</td>\n",
       "      <td>64.000000</td>\n",
       "      <td>5.000000</td>\n",
       "      <td>77.000000</td>\n",
       "      <td>2.000000</td>\n",
       "    </tr>\n",
       "    <tr>\n",
       "      <th>min</th>\n",
       "      <td>-3.779889</td>\n",
       "      <td>4.331735</td>\n",
       "      <td>-11.195695</td>\n",
       "      <td>1.671944</td>\n",
       "      <td>13.793103</td>\n",
       "    </tr>\n",
       "    <tr>\n",
       "      <th>max</th>\n",
       "      <td>1.491211</td>\n",
       "      <td>9.460598</td>\n",
       "      <td>-5.481823</td>\n",
       "      <td>4.188260</td>\n",
       "      <td>19.535810</td>\n",
       "    </tr>\n",
       "    <tr>\n",
       "      <th>mean</th>\n",
       "      <td>-0.090235</td>\n",
       "      <td>5.739661</td>\n",
       "      <td>-8.175853</td>\n",
       "      <td>2.740411</td>\n",
       "      <td>16.664457</td>\n",
       "    </tr>\n",
       "  </tbody>\n",
       "</table>\n",
       "</div>"
      ],
      "text/plain": [
       "               0          1          2          3          4\n",
       "count  57.000000  64.000000   5.000000  77.000000   2.000000\n",
       "min    -3.779889   4.331735 -11.195695   1.671944  13.793103\n",
       "max     1.491211   9.460598  -5.481823   4.188260  19.535810\n",
       "mean   -0.090235   5.739661  -8.175853   2.740411  16.664457"
      ]
     },
     "execution_count": 198,
     "metadata": {},
     "output_type": "execute_result"
    }
   ],
   "source": [
    "aggrigate = {i: [\"count\", \"min\", \"max\", \"mean\"] for i in range(number_of_cluster)}\n",
    "df_vals_gdp_2019.agg(aggrigate)"
   ]
  },
  {
   "cell_type": "code",
   "execution_count": 199,
   "id": "6c4de39a-7c9b-4312-a7b0-792620ef32fa",
   "metadata": {},
   "outputs": [
    {
     "data": {
      "text/html": [
       "<div>\n",
       "<style scoped>\n",
       "    .dataframe tbody tr th:only-of-type {\n",
       "        vertical-align: middle;\n",
       "    }\n",
       "\n",
       "    .dataframe tbody tr th {\n",
       "        vertical-align: top;\n",
       "    }\n",
       "\n",
       "    .dataframe thead th {\n",
       "        text-align: right;\n",
       "    }\n",
       "</style>\n",
       "<table border=\"1\" class=\"dataframe\">\n",
       "  <thead>\n",
       "    <tr style=\"text-align: right;\">\n",
       "      <th></th>\n",
       "      <th>0</th>\n",
       "      <th>1</th>\n",
       "      <th>2</th>\n",
       "      <th>3</th>\n",
       "      <th>4</th>\n",
       "    </tr>\n",
       "  </thead>\n",
       "  <tbody>\n",
       "    <tr>\n",
       "      <th>count</th>\n",
       "      <td>121.000000</td>\n",
       "      <td>3.000000</td>\n",
       "      <td>24.000000</td>\n",
       "      <td>56.000000</td>\n",
       "      <td>2.000000</td>\n",
       "    </tr>\n",
       "    <tr>\n",
       "      <th>min</th>\n",
       "      <td>1.690408</td>\n",
       "      <td>-36.391977</td>\n",
       "      <td>7.191434</td>\n",
       "      <td>-6.553078</td>\n",
       "      <td>20.715768</td>\n",
       "    </tr>\n",
       "    <tr>\n",
       "      <th>max</th>\n",
       "      <td>6.963607</td>\n",
       "      <td>-17.997962</td>\n",
       "      <td>13.129731</td>\n",
       "      <td>1.458429</td>\n",
       "      <td>30.612245</td>\n",
       "    </tr>\n",
       "    <tr>\n",
       "      <th>mean</th>\n",
       "      <td>3.994569</td>\n",
       "      <td>-26.896675</td>\n",
       "      <td>9.044068</td>\n",
       "      <td>-0.634174</td>\n",
       "      <td>25.664007</td>\n",
       "    </tr>\n",
       "  </tbody>\n",
       "</table>\n",
       "</div>"
      ],
      "text/plain": [
       "                0          1          2          3          4\n",
       "count  121.000000   3.000000  24.000000  56.000000   2.000000\n",
       "min      1.690408 -36.391977   7.191434  -6.553078  20.715768\n",
       "max      6.963607 -17.997962  13.129731   1.458429  30.612245\n",
       "mean     3.994569 -26.896675   9.044068  -0.634174  25.664007"
      ]
     },
     "execution_count": 199,
     "metadata": {},
     "output_type": "execute_result"
    }
   ],
   "source": [
    "aggrigate = {i: [\"count\", \"min\", \"max\", \"mean\"] for i in range(number_of_cluster)}\n",
    "df_vals_gdp_2013.agg(aggrigate)"
   ]
  },
  {
   "cell_type": "markdown",
   "id": "08e2069f-3fdc-4b0e-acfe-05b2c50c1773",
   "metadata": {},
   "source": [
    "Страны, оставшиеся в кластере \"очень низкие\""
   ]
  },
  {
   "cell_type": "code",
   "execution_count": 200,
   "id": "3b5b1408-90d0-43a8-af60-7d20fafefb48",
   "metadata": {
    "tags": []
   },
   "outputs": [
    {
     "data": {
      "text/plain": [
       "['Libya', None]"
      ]
     },
     "execution_count": 200,
     "metadata": {},
     "output_type": "execute_result"
    }
   ],
   "source": [
    "list(set(df_names_gdp_2013[1]) & set(df_names_gdp_2019[2]))"
   ]
  },
  {
   "cell_type": "markdown",
   "id": "5f749fb7-41d4-4452-9c2a-60a486f0260a",
   "metadata": {},
   "source": [
    "Перешли в класс с очень высокими темпами роста"
   ]
  },
  {
   "cell_type": "code",
   "execution_count": 201,
   "id": "55c56e77-736a-43b3-84d5-d81c26c66f2a",
   "metadata": {
    "tags": []
   },
   "outputs": [
    {
     "data": {
      "text/plain": [
       "[None]"
      ]
     },
     "execution_count": 201,
     "metadata": {},
     "output_type": "execute_result"
    }
   ],
   "source": [
    "list(set(df_names_gdp_2013[1]) & set(df_names_gdp_2019[4]))"
   ]
  },
  {
   "cell_type": "markdown",
   "id": "95bcc779-c988-4d2e-9dec-2db469904050",
   "metadata": {},
   "source": [
    "Перешли в класс с высокими темпами роста"
   ]
  },
  {
   "cell_type": "code",
   "execution_count": 202,
   "id": "37373cee-032e-495c-8841-891be51fa455",
   "metadata": {
    "tags": []
   },
   "outputs": [
    {
     "data": {
      "text/plain": [
       "[None]"
      ]
     },
     "execution_count": 202,
     "metadata": {},
     "output_type": "execute_result"
    }
   ],
   "source": [
    "list(set(df_names_gdp_2013[1]) & set(df_names_gdp_2019[1]))"
   ]
  },
  {
   "cell_type": "markdown",
   "id": "291f46ff-e35c-468e-98a5-53daa13cbbc4",
   "metadata": {},
   "source": [
    "Перешли в класс со средними темпами роста"
   ]
  },
  {
   "cell_type": "code",
   "execution_count": 203,
   "id": "5256e597-dab8-416f-9a5b-e9247ad500bc",
   "metadata": {
    "tags": []
   },
   "outputs": [
    {
     "data": {
      "text/plain": [
       "['Central African Republic']"
      ]
     },
     "execution_count": 203,
     "metadata": {},
     "output_type": "execute_result"
    }
   ],
   "source": [
    "list(set(df_names_gdp_2013[1]) & set(df_names_gdp_2019[3]))"
   ]
  },
  {
   "cell_type": "markdown",
   "id": "e67c71cc-c8b7-4b45-bd45-f0946b669862",
   "metadata": {},
   "source": [
    "Перешли в класс с низкими темпами роста"
   ]
  },
  {
   "cell_type": "code",
   "execution_count": 204,
   "id": "751bc793-47f3-4ed0-a700-27940bd9ac0e",
   "metadata": {},
   "outputs": [
    {
     "data": {
      "text/plain": [
       "[None]"
      ]
     },
     "execution_count": 204,
     "metadata": {},
     "output_type": "execute_result"
    }
   ],
   "source": [
    "list(set(df_names_gdp_2013[1]) & set(df_names_gdp_2019[0]))"
   ]
  },
  {
   "cell_type": "markdown",
   "id": "eadf686b-0d32-440d-bc6a-7802797e6a1e",
   "metadata": {
    "jp-MarkdownHeadingCollapsed": true,
    "tags": []
   },
   "source": [
    "### Темпы подушевого ВВП"
   ]
  },
  {
   "cell_type": "markdown",
   "id": "7c9ceda4-fe84-464c-ad59-1d21d737b3e3",
   "metadata": {
    "jp-MarkdownHeadingCollapsed": true,
    "tags": []
   },
   "source": [
    "#### Средние темпы роста в 2013"
   ]
  },
  {
   "cell_type": "code",
   "execution_count": 205,
   "id": "c2e5d848-c641-4ee8-8168-3e67a415eadb",
   "metadata": {},
   "outputs": [
    {
     "data": {
      "text/html": [
       "<div>\n",
       "<style scoped>\n",
       "    .dataframe tbody tr th:only-of-type {\n",
       "        vertical-align: middle;\n",
       "    }\n",
       "\n",
       "    .dataframe tbody tr th {\n",
       "        vertical-align: top;\n",
       "    }\n",
       "\n",
       "    .dataframe thead th {\n",
       "        text-align: right;\n",
       "    }\n",
       "</style>\n",
       "<table border=\"1\" class=\"dataframe\">\n",
       "  <thead>\n",
       "    <tr style=\"text-align: right;\">\n",
       "      <th></th>\n",
       "      <th>0</th>\n",
       "      <th>1</th>\n",
       "      <th>2</th>\n",
       "      <th>3</th>\n",
       "      <th>4</th>\n",
       "    </tr>\n",
       "  </thead>\n",
       "  <tbody>\n",
       "    <tr>\n",
       "      <th>count</th>\n",
       "      <td>14.000000</td>\n",
       "      <td>37.000000</td>\n",
       "      <td>133.000000</td>\n",
       "      <td>1.000000</td>\n",
       "      <td>20.000000</td>\n",
       "    </tr>\n",
       "    <tr>\n",
       "      <th>min</th>\n",
       "      <td>59775.735096</td>\n",
       "      <td>14699.462781</td>\n",
       "      <td>223.862876</td>\n",
       "      <td>189487.147128</td>\n",
       "      <td>38040.586987</td>\n",
       "    </tr>\n",
       "    <tr>\n",
       "      <th>max</th>\n",
       "      <td>116153.166122</td>\n",
       "      <td>33872.334307</td>\n",
       "      <td>12899.346111</td>\n",
       "      <td>189487.147128</td>\n",
       "      <td>54875.285956</td>\n",
       "    </tr>\n",
       "    <tr>\n",
       "      <th>mean</th>\n",
       "      <td>80029.402070</td>\n",
       "      <td>22967.999473</td>\n",
       "      <td>4372.387960</td>\n",
       "      <td>189487.147128</td>\n",
       "      <td>45912.813066</td>\n",
       "    </tr>\n",
       "  </tbody>\n",
       "</table>\n",
       "</div>"
      ],
      "text/plain": [
       "                   0             1             2              3             4\n",
       "count      14.000000     37.000000    133.000000       1.000000     20.000000\n",
       "min     59775.735096  14699.462781    223.862876  189487.147128  38040.586987\n",
       "max    116153.166122  33872.334307  12899.346111  189487.147128  54875.285956\n",
       "mean    80029.402070  22967.999473   4372.387960  189487.147128  45912.813066"
      ]
     },
     "execution_count": 205,
     "metadata": {},
     "output_type": "execute_result"
    }
   ],
   "source": [
    "aggrigate = {i: [\"count\", \"min\", \"max\", \"mean\"] for i in range(number_of_cluster)}\n",
    "df_vals_capita_per_capita_2019.agg(aggrigate)"
   ]
  },
  {
   "cell_type": "code",
   "execution_count": 206,
   "id": "dd597ed0-5646-4043-bd21-8d128a120c47",
   "metadata": {},
   "outputs": [
    {
     "data": {
      "text/html": [
       "<div>\n",
       "<style scoped>\n",
       "    .dataframe tbody tr th:only-of-type {\n",
       "        vertical-align: middle;\n",
       "    }\n",
       "\n",
       "    .dataframe tbody tr th {\n",
       "        vertical-align: top;\n",
       "    }\n",
       "\n",
       "    .dataframe thead th {\n",
       "        text-align: right;\n",
       "    }\n",
       "</style>\n",
       "<table border=\"1\" class=\"dataframe\">\n",
       "  <thead>\n",
       "    <tr style=\"text-align: right;\">\n",
       "      <th></th>\n",
       "      <th>0</th>\n",
       "      <th>1</th>\n",
       "      <th>2</th>\n",
       "      <th>3</th>\n",
       "      <th>4</th>\n",
       "    </tr>\n",
       "  </thead>\n",
       "  <tbody>\n",
       "    <tr>\n",
       "      <th>count</th>\n",
       "      <td>30.000000</td>\n",
       "      <td>52.000000</td>\n",
       "      <td>7.000000</td>\n",
       "      <td>116.000000</td>\n",
       "      <td>1.000000</td>\n",
       "    </tr>\n",
       "    <tr>\n",
       "      <th>min</th>\n",
       "      <td>33656.453574</td>\n",
       "      <td>9378.985047</td>\n",
       "      <td>83357.132684</td>\n",
       "      <td>256.973698</td>\n",
       "      <td>177673.745368</td>\n",
       "    </tr>\n",
       "    <tr>\n",
       "      <th>max</th>\n",
       "      <td>73514.669650</td>\n",
       "      <td>29067.809460</td>\n",
       "      <td>120000.140730</td>\n",
       "      <td>8218.347844</td>\n",
       "      <td>177673.745368</td>\n",
       "    </tr>\n",
       "    <tr>\n",
       "      <th>mean</th>\n",
       "      <td>48381.094447</td>\n",
       "      <td>17278.913899</td>\n",
       "      <td>95451.898766</td>\n",
       "      <td>3287.617165</td>\n",
       "      <td>177673.745368</td>\n",
       "    </tr>\n",
       "  </tbody>\n",
       "</table>\n",
       "</div>"
      ],
      "text/plain": [
       "                  0             1              2            3              4\n",
       "count     30.000000     52.000000       7.000000   116.000000       1.000000\n",
       "min    33656.453574   9378.985047   83357.132684   256.973698  177673.745368\n",
       "max    73514.669650  29067.809460  120000.140730  8218.347844  177673.745368\n",
       "mean   48381.094447  17278.913899   95451.898766  3287.617165  177673.745368"
      ]
     },
     "execution_count": 206,
     "metadata": {},
     "output_type": "execute_result"
    }
   ],
   "source": [
    "aggrigate = {i: [\"count\", \"min\", \"max\", \"mean\"] for i in range(number_of_cluster)}\n",
    "df_vals_capita_per_capita_2013.agg(aggrigate)"
   ]
  },
  {
   "cell_type": "markdown",
   "id": "bf65f91e-5c25-4f42-a2fe-f2bea2c00e40",
   "metadata": {},
   "source": [
    "Страны, оставшиеся в кластере \"средние\""
   ]
  },
  {
   "cell_type": "code",
   "execution_count": 207,
   "id": "4a44d2d7-6ff4-45ac-8d13-d52bb76b4318",
   "metadata": {
    "tags": []
   },
   "outputs": [
    {
     "data": {
      "text/plain": [
       "['France',\n",
       " 'Hong Kong SAR, China',\n",
       " 'United Kingdom',\n",
       " 'Canada',\n",
       " 'Andorra',\n",
       " 'New Zealand',\n",
       " 'Guam',\n",
       " 'Austria',\n",
       " 'Finland',\n",
       " None,\n",
       " 'Japan',\n",
       " 'Virgin Islands (U.S.)',\n",
       " 'Netherlands',\n",
       " 'Australia',\n",
       " 'San Marino',\n",
       " 'Germany',\n",
       " 'Israel',\n",
       " 'Greenland',\n",
       " 'Belgium',\n",
       " 'Sweden',\n",
       " 'United Arab Emirates']"
      ]
     },
     "execution_count": 207,
     "metadata": {},
     "output_type": "execute_result"
    }
   ],
   "source": [
    "list(set(df_names_gdp_capita_2013[0]) & set(df_names_gdp_capita_2019[4]))"
   ]
  },
  {
   "cell_type": "markdown",
   "id": "32ef1d3b-3ce6-4fdc-a88c-8f8a7e2093c1",
   "metadata": {
    "tags": []
   },
   "source": [
    "Страны, мигрировавшие в кластер \"с высокими темпами роста\""
   ]
  },
  {
   "cell_type": "code",
   "execution_count": 208,
   "id": "63730859-510a-464c-a197-9154397f5ec4",
   "metadata": {
    "tags": []
   },
   "outputs": [
    {
     "data": {
      "text/plain": [
       "['North America',\n",
       " 'Cayman Islands',\n",
       " 'Denmark',\n",
       " 'Ireland',\n",
       " 'United States',\n",
       " 'Singapore',\n",
       " 'Iceland',\n",
       " None]"
      ]
     },
     "execution_count": 208,
     "metadata": {},
     "output_type": "execute_result"
    }
   ],
   "source": [
    "list(set(df_names_gdp_capita_2013[0]) & set(df_names_gdp_capita_2019[0]))"
   ]
  },
  {
   "cell_type": "markdown",
   "id": "8297a307-0662-479f-921e-58ddac6d7032",
   "metadata": {},
   "source": [
    "Страны, мигрировавшие в кластер \"с очень высокими темпами роста\""
   ]
  },
  {
   "cell_type": "code",
   "execution_count": 209,
   "id": "c227424e-9b49-4f76-8991-963f277db1e3",
   "metadata": {
    "tags": []
   },
   "outputs": [
    {
     "data": {
      "text/plain": [
       "[None]"
      ]
     },
     "execution_count": 209,
     "metadata": {},
     "output_type": "execute_result"
    }
   ],
   "source": [
    "list(set(df_names_gdp_capita_2013[0]) & set(df_names_gdp_capita_2019[3]))"
   ]
  },
  {
   "cell_type": "markdown",
   "id": "d50769bc-5e08-4b77-84df-58393d4bb406",
   "metadata": {},
   "source": [
    "Страны, мигрировавшие в кластер \"с низкими темпами роста\""
   ]
  },
  {
   "cell_type": "code",
   "execution_count": 210,
   "id": "0a809ff6-e6f4-48e5-bd7c-4c5dc5d41093",
   "metadata": {
    "tags": []
   },
   "outputs": [
    {
     "data": {
      "text/plain": [
       "['Kuwait', 'Italy', None, 'Brunei Darussalam']"
      ]
     },
     "execution_count": 210,
     "metadata": {},
     "output_type": "execute_result"
    }
   ],
   "source": [
    "list(set(df_names_gdp_capita_2013[0]) & set(df_names_gdp_capita_2019[1]))"
   ]
  },
  {
   "cell_type": "markdown",
   "id": "8e5c65bb-852f-4e58-bd7e-02c0f5444aa3",
   "metadata": {},
   "source": [
    "Страны, мигрировавшие в кластер \"с очень низкими темпами роста\""
   ]
  },
  {
   "cell_type": "code",
   "execution_count": 211,
   "id": "1140ef7a-4629-4cb4-b9a3-95104271d5b0",
   "metadata": {
    "tags": []
   },
   "outputs": [
    {
     "data": {
      "text/plain": [
       "[]"
      ]
     },
     "execution_count": 211,
     "metadata": {},
     "output_type": "execute_result"
    }
   ],
   "source": [
    "list(set(df_names_gdp_capita_2013[0]) & set(df_names_gdp_capita_2019[2]))"
   ]
  },
  {
   "cell_type": "markdown",
   "id": "dba087a3-8949-4559-b354-d368cbef968b",
   "metadata": {
    "jp-MarkdownHeadingCollapsed": true,
    "tags": []
   },
   "source": [
    "#### Высокие темпы роста в 2013"
   ]
  },
  {
   "cell_type": "code",
   "execution_count": 212,
   "id": "50951618-8243-4d1b-9af5-60686c11f90e",
   "metadata": {},
   "outputs": [
    {
     "data": {
      "text/html": [
       "<div>\n",
       "<style scoped>\n",
       "    .dataframe tbody tr th:only-of-type {\n",
       "        vertical-align: middle;\n",
       "    }\n",
       "\n",
       "    .dataframe tbody tr th {\n",
       "        vertical-align: top;\n",
       "    }\n",
       "\n",
       "    .dataframe thead th {\n",
       "        text-align: right;\n",
       "    }\n",
       "</style>\n",
       "<table border=\"1\" class=\"dataframe\">\n",
       "  <thead>\n",
       "    <tr style=\"text-align: right;\">\n",
       "      <th></th>\n",
       "      <th>0</th>\n",
       "      <th>1</th>\n",
       "      <th>2</th>\n",
       "      <th>3</th>\n",
       "      <th>4</th>\n",
       "    </tr>\n",
       "  </thead>\n",
       "  <tbody>\n",
       "    <tr>\n",
       "      <th>count</th>\n",
       "      <td>14.000000</td>\n",
       "      <td>37.000000</td>\n",
       "      <td>133.000000</td>\n",
       "      <td>1.000000</td>\n",
       "      <td>20.000000</td>\n",
       "    </tr>\n",
       "    <tr>\n",
       "      <th>min</th>\n",
       "      <td>59775.735096</td>\n",
       "      <td>14699.462781</td>\n",
       "      <td>223.862876</td>\n",
       "      <td>189487.147128</td>\n",
       "      <td>38040.586987</td>\n",
       "    </tr>\n",
       "    <tr>\n",
       "      <th>max</th>\n",
       "      <td>116153.166122</td>\n",
       "      <td>33872.334307</td>\n",
       "      <td>12899.346111</td>\n",
       "      <td>189487.147128</td>\n",
       "      <td>54875.285956</td>\n",
       "    </tr>\n",
       "    <tr>\n",
       "      <th>mean</th>\n",
       "      <td>80029.402070</td>\n",
       "      <td>22967.999473</td>\n",
       "      <td>4372.387960</td>\n",
       "      <td>189487.147128</td>\n",
       "      <td>45912.813066</td>\n",
       "    </tr>\n",
       "  </tbody>\n",
       "</table>\n",
       "</div>"
      ],
      "text/plain": [
       "                   0             1             2              3             4\n",
       "count      14.000000     37.000000    133.000000       1.000000     20.000000\n",
       "min     59775.735096  14699.462781    223.862876  189487.147128  38040.586987\n",
       "max    116153.166122  33872.334307  12899.346111  189487.147128  54875.285956\n",
       "mean    80029.402070  22967.999473   4372.387960  189487.147128  45912.813066"
      ]
     },
     "execution_count": 212,
     "metadata": {},
     "output_type": "execute_result"
    }
   ],
   "source": [
    "aggrigate = {i: [\"count\", \"min\", \"max\", \"mean\"] for i in range(number_of_cluster)}\n",
    "df_vals_capita_per_capita_2019.agg(aggrigate)"
   ]
  },
  {
   "cell_type": "code",
   "execution_count": 213,
   "id": "a56f9fe1-9fcf-4c4e-9959-fd81b9d7671a",
   "metadata": {},
   "outputs": [
    {
     "data": {
      "text/html": [
       "<div>\n",
       "<style scoped>\n",
       "    .dataframe tbody tr th:only-of-type {\n",
       "        vertical-align: middle;\n",
       "    }\n",
       "\n",
       "    .dataframe tbody tr th {\n",
       "        vertical-align: top;\n",
       "    }\n",
       "\n",
       "    .dataframe thead th {\n",
       "        text-align: right;\n",
       "    }\n",
       "</style>\n",
       "<table border=\"1\" class=\"dataframe\">\n",
       "  <thead>\n",
       "    <tr style=\"text-align: right;\">\n",
       "      <th></th>\n",
       "      <th>0</th>\n",
       "      <th>1</th>\n",
       "      <th>2</th>\n",
       "      <th>3</th>\n",
       "      <th>4</th>\n",
       "    </tr>\n",
       "  </thead>\n",
       "  <tbody>\n",
       "    <tr>\n",
       "      <th>count</th>\n",
       "      <td>30.000000</td>\n",
       "      <td>52.000000</td>\n",
       "      <td>7.000000</td>\n",
       "      <td>116.000000</td>\n",
       "      <td>1.000000</td>\n",
       "    </tr>\n",
       "    <tr>\n",
       "      <th>min</th>\n",
       "      <td>33656.453574</td>\n",
       "      <td>9378.985047</td>\n",
       "      <td>83357.132684</td>\n",
       "      <td>256.973698</td>\n",
       "      <td>177673.745368</td>\n",
       "    </tr>\n",
       "    <tr>\n",
       "      <th>max</th>\n",
       "      <td>73514.669650</td>\n",
       "      <td>29067.809460</td>\n",
       "      <td>120000.140730</td>\n",
       "      <td>8218.347844</td>\n",
       "      <td>177673.745368</td>\n",
       "    </tr>\n",
       "    <tr>\n",
       "      <th>mean</th>\n",
       "      <td>48381.094447</td>\n",
       "      <td>17278.913899</td>\n",
       "      <td>95451.898766</td>\n",
       "      <td>3287.617165</td>\n",
       "      <td>177673.745368</td>\n",
       "    </tr>\n",
       "  </tbody>\n",
       "</table>\n",
       "</div>"
      ],
      "text/plain": [
       "                  0             1              2            3              4\n",
       "count     30.000000     52.000000       7.000000   116.000000       1.000000\n",
       "min    33656.453574   9378.985047   83357.132684   256.973698  177673.745368\n",
       "max    73514.669650  29067.809460  120000.140730  8218.347844  177673.745368\n",
       "mean   48381.094447  17278.913899   95451.898766  3287.617165  177673.745368"
      ]
     },
     "execution_count": 213,
     "metadata": {},
     "output_type": "execute_result"
    }
   ],
   "source": [
    "aggrigate = {i: [\"count\", \"min\", \"max\", \"mean\"] for i in range(number_of_cluster)}\n",
    "df_vals_capita_per_capita_2013.agg(aggrigate)"
   ]
  },
  {
   "cell_type": "markdown",
   "id": "c08d79ab-1464-4043-8440-1f8769c1fd63",
   "metadata": {},
   "source": [
    "Страны, оставшиеся в кластере \"высокие\""
   ]
  },
  {
   "cell_type": "code",
   "execution_count": 214,
   "id": "cd5b1525-2b11-4065-8154-f83650408c74",
   "metadata": {
    "tags": []
   },
   "outputs": [
    {
     "data": {
      "text/plain": [
       "['Turkiye', 'Liberia', 'Macao SAR, China', None, 'Paraguay']"
      ]
     },
     "execution_count": 214,
     "metadata": {},
     "output_type": "execute_result"
    }
   ],
   "source": [
    "list(set(df_names_gdp_2013[2]) & set(df_names_gdp_2019[0]))"
   ]
  },
  {
   "cell_type": "markdown",
   "id": "63222884-6221-40a8-8975-2e4372f147ea",
   "metadata": {},
   "source": [
    "Перешли в класс с очень высокими темпами роста"
   ]
  },
  {
   "cell_type": "code",
   "execution_count": 215,
   "id": "fa1c6ee0-1016-4bbf-b3f1-5657b0be93eb",
   "metadata": {
    "tags": []
   },
   "outputs": [
    {
     "data": {
      "text/plain": [
       "['Botswana', 'Moldova']"
      ]
     },
     "execution_count": 215,
     "metadata": {},
     "output_type": "execute_result"
    }
   ],
   "source": [
    "list(set(df_names_gdp_2013[2]) & set(df_names_gdp_2019[3]))"
   ]
  },
  {
   "cell_type": "markdown",
   "id": "c3882d9b-0ca2-4483-a201-7e7f762464fa",
   "metadata": {},
   "source": [
    "Перешли в класс со средними темпами роста"
   ]
  },
  {
   "cell_type": "code",
   "execution_count": 216,
   "id": "efa8b6a2-eee6-46a9-8441-48436f7e4e06",
   "metadata": {
    "tags": []
   },
   "outputs": [
    {
     "data": {
      "text/plain": [
       "[None]"
      ]
     },
     "execution_count": 216,
     "metadata": {},
     "output_type": "execute_result"
    }
   ],
   "source": [
    "list(set(df_names_gdp_2013[2]) & set(df_names_gdp_2019[4]))"
   ]
  },
  {
   "cell_type": "markdown",
   "id": "387a0a16-de23-4a4d-9826-0026dd594ad0",
   "metadata": {},
   "source": [
    "Перешли в класс с низкими темпами роста"
   ]
  },
  {
   "cell_type": "code",
   "execution_count": 217,
   "id": "2d6f5fd5-4da8-4c3c-b2e4-250f426caaa8",
   "metadata": {
    "tags": []
   },
   "outputs": [
    {
     "data": {
      "text/plain": [
       "['Iraq',\n",
       " 'Congo, Dem. Rep.',\n",
       " 'Turkmenistan',\n",
       " 'Uzbekistan',\n",
       " 'Ethiopia',\n",
       " 'Tajikistan',\n",
       " 'Kyrgyz Republic',\n",
       " 'Myanmar',\n",
       " 'Maldives',\n",
       " 'Monaco',\n",
       " 'Mongolia',\n",
       " 'Benin',\n",
       " 'China',\n",
       " 'Ghana',\n",
       " 'Cambodia',\n",
       " \"Cote d'Ivoire\",\n",
       " 'Lao PDR',\n",
       " None]"
      ]
     },
     "execution_count": 217,
     "metadata": {},
     "output_type": "execute_result"
    }
   ],
   "source": [
    "list(set(df_names_gdp_2013[2]) & set(df_names_gdp_2019[1]))"
   ]
  },
  {
   "cell_type": "markdown",
   "id": "9d5650f5-7b89-4ad1-8400-26c22ca44f1a",
   "metadata": {},
   "source": [
    "Перешли в класс с очень низкими темпами роста"
   ]
  },
  {
   "cell_type": "code",
   "execution_count": 218,
   "id": "d8ed3095-65bd-4798-881f-1b7e9724a1f9",
   "metadata": {
    "tags": []
   },
   "outputs": [
    {
     "data": {
      "text/plain": [
       "[None]"
      ]
     },
     "execution_count": 218,
     "metadata": {},
     "output_type": "execute_result"
    }
   ],
   "source": [
    "list(set(df_names_gdp_2013[2]) & set(df_names_gdp_2019[2]))"
   ]
  },
  {
   "cell_type": "markdown",
   "id": "b0b33a40-f34c-4d37-be3f-10745950fe1a",
   "metadata": {
    "jp-MarkdownHeadingCollapsed": true,
    "tags": []
   },
   "source": [
    "#### Очень высокие темпы роста в 2013"
   ]
  },
  {
   "cell_type": "code",
   "execution_count": 219,
   "id": "2ee87ece-f8d0-4673-8ef7-c0319056f848",
   "metadata": {},
   "outputs": [
    {
     "data": {
      "text/html": [
       "<div>\n",
       "<style scoped>\n",
       "    .dataframe tbody tr th:only-of-type {\n",
       "        vertical-align: middle;\n",
       "    }\n",
       "\n",
       "    .dataframe tbody tr th {\n",
       "        vertical-align: top;\n",
       "    }\n",
       "\n",
       "    .dataframe thead th {\n",
       "        text-align: right;\n",
       "    }\n",
       "</style>\n",
       "<table border=\"1\" class=\"dataframe\">\n",
       "  <thead>\n",
       "    <tr style=\"text-align: right;\">\n",
       "      <th></th>\n",
       "      <th>0</th>\n",
       "      <th>1</th>\n",
       "      <th>2</th>\n",
       "      <th>3</th>\n",
       "      <th>4</th>\n",
       "    </tr>\n",
       "  </thead>\n",
       "  <tbody>\n",
       "    <tr>\n",
       "      <th>count</th>\n",
       "      <td>14.000000</td>\n",
       "      <td>37.000000</td>\n",
       "      <td>133.000000</td>\n",
       "      <td>1.000000</td>\n",
       "      <td>20.000000</td>\n",
       "    </tr>\n",
       "    <tr>\n",
       "      <th>min</th>\n",
       "      <td>59775.735096</td>\n",
       "      <td>14699.462781</td>\n",
       "      <td>223.862876</td>\n",
       "      <td>189487.147128</td>\n",
       "      <td>38040.586987</td>\n",
       "    </tr>\n",
       "    <tr>\n",
       "      <th>max</th>\n",
       "      <td>116153.166122</td>\n",
       "      <td>33872.334307</td>\n",
       "      <td>12899.346111</td>\n",
       "      <td>189487.147128</td>\n",
       "      <td>54875.285956</td>\n",
       "    </tr>\n",
       "    <tr>\n",
       "      <th>mean</th>\n",
       "      <td>80029.402070</td>\n",
       "      <td>22967.999473</td>\n",
       "      <td>4372.387960</td>\n",
       "      <td>189487.147128</td>\n",
       "      <td>45912.813066</td>\n",
       "    </tr>\n",
       "  </tbody>\n",
       "</table>\n",
       "</div>"
      ],
      "text/plain": [
       "                   0             1             2              3             4\n",
       "count      14.000000     37.000000    133.000000       1.000000     20.000000\n",
       "min     59775.735096  14699.462781    223.862876  189487.147128  38040.586987\n",
       "max    116153.166122  33872.334307  12899.346111  189487.147128  54875.285956\n",
       "mean    80029.402070  22967.999473   4372.387960  189487.147128  45912.813066"
      ]
     },
     "execution_count": 219,
     "metadata": {},
     "output_type": "execute_result"
    }
   ],
   "source": [
    "aggrigate = {i: [\"count\", \"min\", \"max\", \"mean\"] for i in range(number_of_cluster)}\n",
    "df_vals_capita_per_capita_2019.agg(aggrigate)"
   ]
  },
  {
   "cell_type": "code",
   "execution_count": 220,
   "id": "1b1f783c-48f2-460f-9456-aaabce784f63",
   "metadata": {},
   "outputs": [
    {
     "data": {
      "text/html": [
       "<div>\n",
       "<style scoped>\n",
       "    .dataframe tbody tr th:only-of-type {\n",
       "        vertical-align: middle;\n",
       "    }\n",
       "\n",
       "    .dataframe tbody tr th {\n",
       "        vertical-align: top;\n",
       "    }\n",
       "\n",
       "    .dataframe thead th {\n",
       "        text-align: right;\n",
       "    }\n",
       "</style>\n",
       "<table border=\"1\" class=\"dataframe\">\n",
       "  <thead>\n",
       "    <tr style=\"text-align: right;\">\n",
       "      <th></th>\n",
       "      <th>0</th>\n",
       "      <th>1</th>\n",
       "      <th>2</th>\n",
       "      <th>3</th>\n",
       "      <th>4</th>\n",
       "    </tr>\n",
       "  </thead>\n",
       "  <tbody>\n",
       "    <tr>\n",
       "      <th>count</th>\n",
       "      <td>30.000000</td>\n",
       "      <td>52.000000</td>\n",
       "      <td>7.000000</td>\n",
       "      <td>116.000000</td>\n",
       "      <td>1.000000</td>\n",
       "    </tr>\n",
       "    <tr>\n",
       "      <th>min</th>\n",
       "      <td>33656.453574</td>\n",
       "      <td>9378.985047</td>\n",
       "      <td>83357.132684</td>\n",
       "      <td>256.973698</td>\n",
       "      <td>177673.745368</td>\n",
       "    </tr>\n",
       "    <tr>\n",
       "      <th>max</th>\n",
       "      <td>73514.669650</td>\n",
       "      <td>29067.809460</td>\n",
       "      <td>120000.140730</td>\n",
       "      <td>8218.347844</td>\n",
       "      <td>177673.745368</td>\n",
       "    </tr>\n",
       "    <tr>\n",
       "      <th>mean</th>\n",
       "      <td>48381.094447</td>\n",
       "      <td>17278.913899</td>\n",
       "      <td>95451.898766</td>\n",
       "      <td>3287.617165</td>\n",
       "      <td>177673.745368</td>\n",
       "    </tr>\n",
       "  </tbody>\n",
       "</table>\n",
       "</div>"
      ],
      "text/plain": [
       "                  0             1              2            3              4\n",
       "count     30.000000     52.000000       7.000000   116.000000       1.000000\n",
       "min    33656.453574   9378.985047   83357.132684   256.973698  177673.745368\n",
       "max    73514.669650  29067.809460  120000.140730  8218.347844  177673.745368\n",
       "mean   48381.094447  17278.913899   95451.898766  3287.617165  177673.745368"
      ]
     },
     "execution_count": 220,
     "metadata": {},
     "output_type": "execute_result"
    }
   ],
   "source": [
    "aggrigate = {i: [\"count\", \"min\", \"max\", \"mean\"] for i in range(number_of_cluster)}\n",
    "df_vals_capita_per_capita_2013.agg(aggrigate)"
   ]
  },
  {
   "cell_type": "markdown",
   "id": "577bdca0-34ce-4989-9170-bf6ba2ed1e42",
   "metadata": {},
   "source": [
    "Страны, оставшиеся в кластере \"очень высокие\""
   ]
  },
  {
   "cell_type": "code",
   "execution_count": 221,
   "id": "a8b1cf75-dddf-4fa9-8558-9c2a2bbbf315",
   "metadata": {},
   "outputs": [
    {
     "data": {
      "text/plain": [
       "['Monaco', None]"
      ]
     },
     "execution_count": 221,
     "metadata": {},
     "output_type": "execute_result"
    }
   ],
   "source": [
    "list(set(df_names_gdp_capita_2013[4]) & set(df_names_gdp_capita_2019[3]))"
   ]
  },
  {
   "cell_type": "markdown",
   "id": "32dfe3a0-4fc0-466f-ba5e-8393698ebe26",
   "metadata": {},
   "source": [
    "Перешли в класс с высокими темпами роста"
   ]
  },
  {
   "cell_type": "code",
   "execution_count": 222,
   "id": "9890c7b3-42ac-48ed-95b5-7a311ca517b1",
   "metadata": {},
   "outputs": [
    {
     "data": {
      "text/plain": [
       "[None]"
      ]
     },
     "execution_count": 222,
     "metadata": {},
     "output_type": "execute_result"
    }
   ],
   "source": [
    "list(set(df_names_gdp_capita_2013[4]) & set(df_names_gdp_capita_2019[0]))"
   ]
  },
  {
   "cell_type": "markdown",
   "id": "64766652-68c1-487c-b772-e1efb3bcfbbd",
   "metadata": {},
   "source": [
    "Перешли в класс со средними темпами роста"
   ]
  },
  {
   "cell_type": "code",
   "execution_count": 223,
   "id": "352f52cb-6c86-4e84-bde6-496084c71b65",
   "metadata": {},
   "outputs": [
    {
     "data": {
      "text/plain": [
       "[None]"
      ]
     },
     "execution_count": 223,
     "metadata": {},
     "output_type": "execute_result"
    }
   ],
   "source": [
    "list(set(df_names_gdp_capita_2013[4]) & set(df_names_gdp_capita_2019[4]))"
   ]
  },
  {
   "cell_type": "markdown",
   "id": "f73ff09a-7f1c-4105-a9ba-b37ab2344fce",
   "metadata": {},
   "source": [
    "Перешли в класс с низкими темпами роста"
   ]
  },
  {
   "cell_type": "code",
   "execution_count": 224,
   "id": "10d4def7-b9ef-4c90-9c79-865749f98482",
   "metadata": {},
   "outputs": [
    {
     "data": {
      "text/plain": [
       "[None]"
      ]
     },
     "execution_count": 224,
     "metadata": {},
     "output_type": "execute_result"
    }
   ],
   "source": [
    "list(set(df_names_gdp_capita_2013[4]) & set(df_names_gdp_capita_2019[1]))"
   ]
  },
  {
   "cell_type": "markdown",
   "id": "2fe1f676-359c-4f6d-bb41-766e5e47296d",
   "metadata": {},
   "source": [
    "Перешли в класс с очень низкими темпами роста"
   ]
  },
  {
   "cell_type": "code",
   "execution_count": 225,
   "id": "5fcd46b6-c5a1-4e6f-983b-8d296d06be1e",
   "metadata": {},
   "outputs": [
    {
     "data": {
      "text/plain": [
       "[None]"
      ]
     },
     "execution_count": 225,
     "metadata": {},
     "output_type": "execute_result"
    }
   ],
   "source": [
    "list(set(df_names_gdp_capita_2013[4]) & set(df_names_gdp_capita_2019[0]))"
   ]
  },
  {
   "cell_type": "markdown",
   "id": "c620b27a-81df-41b1-8e64-5341d598f228",
   "metadata": {
    "jp-MarkdownHeadingCollapsed": true,
    "tags": []
   },
   "source": [
    "#### Низкие темпы роста в 2013"
   ]
  },
  {
   "cell_type": "code",
   "execution_count": 226,
   "id": "8eef0f15-8fb2-4d2e-92a3-b9b4a9170dbe",
   "metadata": {},
   "outputs": [
    {
     "data": {
      "text/html": [
       "<div>\n",
       "<style scoped>\n",
       "    .dataframe tbody tr th:only-of-type {\n",
       "        vertical-align: middle;\n",
       "    }\n",
       "\n",
       "    .dataframe tbody tr th {\n",
       "        vertical-align: top;\n",
       "    }\n",
       "\n",
       "    .dataframe thead th {\n",
       "        text-align: right;\n",
       "    }\n",
       "</style>\n",
       "<table border=\"1\" class=\"dataframe\">\n",
       "  <thead>\n",
       "    <tr style=\"text-align: right;\">\n",
       "      <th></th>\n",
       "      <th>0</th>\n",
       "      <th>1</th>\n",
       "      <th>2</th>\n",
       "      <th>3</th>\n",
       "      <th>4</th>\n",
       "    </tr>\n",
       "  </thead>\n",
       "  <tbody>\n",
       "    <tr>\n",
       "      <th>count</th>\n",
       "      <td>14.000000</td>\n",
       "      <td>37.000000</td>\n",
       "      <td>133.000000</td>\n",
       "      <td>1.000000</td>\n",
       "      <td>20.000000</td>\n",
       "    </tr>\n",
       "    <tr>\n",
       "      <th>min</th>\n",
       "      <td>59775.735096</td>\n",
       "      <td>14699.462781</td>\n",
       "      <td>223.862876</td>\n",
       "      <td>189487.147128</td>\n",
       "      <td>38040.586987</td>\n",
       "    </tr>\n",
       "    <tr>\n",
       "      <th>max</th>\n",
       "      <td>116153.166122</td>\n",
       "      <td>33872.334307</td>\n",
       "      <td>12899.346111</td>\n",
       "      <td>189487.147128</td>\n",
       "      <td>54875.285956</td>\n",
       "    </tr>\n",
       "    <tr>\n",
       "      <th>mean</th>\n",
       "      <td>80029.402070</td>\n",
       "      <td>22967.999473</td>\n",
       "      <td>4372.387960</td>\n",
       "      <td>189487.147128</td>\n",
       "      <td>45912.813066</td>\n",
       "    </tr>\n",
       "  </tbody>\n",
       "</table>\n",
       "</div>"
      ],
      "text/plain": [
       "                   0             1             2              3             4\n",
       "count      14.000000     37.000000    133.000000       1.000000     20.000000\n",
       "min     59775.735096  14699.462781    223.862876  189487.147128  38040.586987\n",
       "max    116153.166122  33872.334307  12899.346111  189487.147128  54875.285956\n",
       "mean    80029.402070  22967.999473   4372.387960  189487.147128  45912.813066"
      ]
     },
     "execution_count": 226,
     "metadata": {},
     "output_type": "execute_result"
    }
   ],
   "source": [
    "aggrigate = {i: [\"count\", \"min\", \"max\", \"mean\"] for i in range(number_of_cluster)}\n",
    "df_vals_capita_per_capita_2019.agg(aggrigate)"
   ]
  },
  {
   "cell_type": "code",
   "execution_count": 227,
   "id": "adc5de72-d5b8-401a-813a-e2b663937db0",
   "metadata": {},
   "outputs": [
    {
     "data": {
      "text/html": [
       "<div>\n",
       "<style scoped>\n",
       "    .dataframe tbody tr th:only-of-type {\n",
       "        vertical-align: middle;\n",
       "    }\n",
       "\n",
       "    .dataframe tbody tr th {\n",
       "        vertical-align: top;\n",
       "    }\n",
       "\n",
       "    .dataframe thead th {\n",
       "        text-align: right;\n",
       "    }\n",
       "</style>\n",
       "<table border=\"1\" class=\"dataframe\">\n",
       "  <thead>\n",
       "    <tr style=\"text-align: right;\">\n",
       "      <th></th>\n",
       "      <th>0</th>\n",
       "      <th>1</th>\n",
       "      <th>2</th>\n",
       "      <th>3</th>\n",
       "      <th>4</th>\n",
       "    </tr>\n",
       "  </thead>\n",
       "  <tbody>\n",
       "    <tr>\n",
       "      <th>count</th>\n",
       "      <td>30.000000</td>\n",
       "      <td>52.000000</td>\n",
       "      <td>7.000000</td>\n",
       "      <td>116.000000</td>\n",
       "      <td>1.000000</td>\n",
       "    </tr>\n",
       "    <tr>\n",
       "      <th>min</th>\n",
       "      <td>33656.453574</td>\n",
       "      <td>9378.985047</td>\n",
       "      <td>83357.132684</td>\n",
       "      <td>256.973698</td>\n",
       "      <td>177673.745368</td>\n",
       "    </tr>\n",
       "    <tr>\n",
       "      <th>max</th>\n",
       "      <td>73514.669650</td>\n",
       "      <td>29067.809460</td>\n",
       "      <td>120000.140730</td>\n",
       "      <td>8218.347844</td>\n",
       "      <td>177673.745368</td>\n",
       "    </tr>\n",
       "    <tr>\n",
       "      <th>mean</th>\n",
       "      <td>48381.094447</td>\n",
       "      <td>17278.913899</td>\n",
       "      <td>95451.898766</td>\n",
       "      <td>3287.617165</td>\n",
       "      <td>177673.745368</td>\n",
       "    </tr>\n",
       "  </tbody>\n",
       "</table>\n",
       "</div>"
      ],
      "text/plain": [
       "                  0             1              2            3              4\n",
       "count     30.000000     52.000000       7.000000   116.000000       1.000000\n",
       "min    33656.453574   9378.985047   83357.132684   256.973698  177673.745368\n",
       "max    73514.669650  29067.809460  120000.140730  8218.347844  177673.745368\n",
       "mean   48381.094447  17278.913899   95451.898766  3287.617165  177673.745368"
      ]
     },
     "execution_count": 227,
     "metadata": {},
     "output_type": "execute_result"
    }
   ],
   "source": [
    "aggrigate = {i: [\"count\", \"min\", \"max\", \"mean\"] for i in range(number_of_cluster)}\n",
    "df_vals_capita_per_capita_2013.agg(aggrigate)"
   ]
  },
  {
   "cell_type": "markdown",
   "id": "3b5266fd-5cc3-472f-bc66-84d996bcfccd",
   "metadata": {},
   "source": [
    "Страны, оставшиеся в кластере \"низкие\""
   ]
  },
  {
   "cell_type": "code",
   "execution_count": 228,
   "id": "c7e1f401-c096-4e94-998a-9ee6167a2647",
   "metadata": {
    "tags": []
   },
   "outputs": [
    {
     "data": {
      "text/plain": [
       "['Antigua and Barbuda',\n",
       " 'Oman',\n",
       " 'Puerto Rico',\n",
       " 'Slovenia',\n",
       " 'Panama',\n",
       " 'Aruba',\n",
       " 'Estonia',\n",
       " 'Chile',\n",
       " 'Slovak Republic',\n",
       " 'St. Kitts and Nevis',\n",
       " 'Lithuania',\n",
       " 'Palau',\n",
       " 'Latvia',\n",
       " 'Saudi Arabia',\n",
       " 'Portugal',\n",
       " 'Hungary',\n",
       " None,\n",
       " 'Korea, Rep.',\n",
       " 'Spain',\n",
       " 'Bahrain',\n",
       " 'Northern Mariana Islands',\n",
       " 'Trinidad and Tobago',\n",
       " 'Greece',\n",
       " 'Czech Republic',\n",
       " 'Malta',\n",
       " 'Croatia',\n",
       " 'Uruguay',\n",
       " 'Curacao',\n",
       " 'Cyprus',\n",
       " 'Bahamas, The',\n",
       " 'Poland',\n",
       " 'Turks and Caicos Islands',\n",
       " 'Barbados',\n",
       " 'Seychelles']"
      ]
     },
     "execution_count": 228,
     "metadata": {},
     "output_type": "execute_result"
    }
   ],
   "source": [
    "list(set(df_names_gdp_capita_2013[1]) & set(df_names_gdp_capita_2019[1]))"
   ]
  },
  {
   "cell_type": "markdown",
   "id": "bd7659ec-9f71-4708-9cd1-946a62be655b",
   "metadata": {},
   "source": [
    "Перешли в класс с очень высокими темпами роста"
   ]
  },
  {
   "cell_type": "code",
   "execution_count": 229,
   "id": "25cf0fc8-07fd-4d0c-a921-8462484d811d",
   "metadata": {
    "tags": []
   },
   "outputs": [
    {
     "data": {
      "text/plain": [
       "[None]"
      ]
     },
     "execution_count": 229,
     "metadata": {},
     "output_type": "execute_result"
    }
   ],
   "source": [
    "list(set(df_names_gdp_capita_2013[1]) & set(df_names_gdp_capita_2019[3]))"
   ]
  },
  {
   "cell_type": "markdown",
   "id": "8e2267cf-519c-4e9f-8902-5da3ef1ec0dc",
   "metadata": {},
   "source": [
    "Перешли в класс с высокими темпами роста"
   ]
  },
  {
   "cell_type": "code",
   "execution_count": 230,
   "id": "8c2996c7-3ffa-4d31-b22d-2f9ef3390871",
   "metadata": {
    "tags": []
   },
   "outputs": [
    {
     "data": {
      "text/plain": [
       "[None]"
      ]
     },
     "execution_count": 230,
     "metadata": {},
     "output_type": "execute_result"
    }
   ],
   "source": [
    "list(set(df_names_gdp_capita_2013[1]) & set(df_names_gdp_capita_2019[0]))"
   ]
  },
  {
   "cell_type": "markdown",
   "id": "aacfb5aa-5272-42d0-8a55-3bf41fe2bf19",
   "metadata": {},
   "source": [
    "Перешли в класс со средними темпами роста"
   ]
  },
  {
   "cell_type": "code",
   "execution_count": 231,
   "id": "9bf94e09-708e-4113-bc4b-e5ee4ca746ae",
   "metadata": {
    "tags": []
   },
   "outputs": [
    {
     "data": {
      "text/plain": [
       "[None]"
      ]
     },
     "execution_count": 231,
     "metadata": {},
     "output_type": "execute_result"
    }
   ],
   "source": [
    "list(set(df_names_gdp_capita_2013[1]) & set(df_names_gdp_capita_2019[4]))"
   ]
  },
  {
   "cell_type": "markdown",
   "id": "3c3b11b4-69c6-442b-bc8b-1ea4a0926977",
   "metadata": {},
   "source": [
    "Перешли в класс с очень низкими темпами роста"
   ]
  },
  {
   "cell_type": "code",
   "execution_count": 232,
   "id": "914d1e97-9f4c-4033-92a8-3fb13aa28cbe",
   "metadata": {},
   "outputs": [
    {
     "data": {
      "text/plain": [
       "['Libya', None]"
      ]
     },
     "execution_count": 232,
     "metadata": {},
     "output_type": "execute_result"
    }
   ],
   "source": [
    "list(set(df_names_gdp_2013[1]) & set(df_names_gdp_2019[2]))"
   ]
  },
  {
   "cell_type": "markdown",
   "id": "13c43940-d236-4661-93e4-dbce09f9e381",
   "metadata": {
    "jp-MarkdownHeadingCollapsed": true,
    "tags": []
   },
   "source": [
    "#### Очень низкие темпы роста в 2013"
   ]
  },
  {
   "cell_type": "code",
   "execution_count": 233,
   "id": "ea501567-566e-4cc1-b551-84cd6dba8612",
   "metadata": {},
   "outputs": [
    {
     "data": {
      "text/html": [
       "<div>\n",
       "<style scoped>\n",
       "    .dataframe tbody tr th:only-of-type {\n",
       "        vertical-align: middle;\n",
       "    }\n",
       "\n",
       "    .dataframe tbody tr th {\n",
       "        vertical-align: top;\n",
       "    }\n",
       "\n",
       "    .dataframe thead th {\n",
       "        text-align: right;\n",
       "    }\n",
       "</style>\n",
       "<table border=\"1\" class=\"dataframe\">\n",
       "  <thead>\n",
       "    <tr style=\"text-align: right;\">\n",
       "      <th></th>\n",
       "      <th>0</th>\n",
       "      <th>1</th>\n",
       "      <th>2</th>\n",
       "      <th>3</th>\n",
       "      <th>4</th>\n",
       "    </tr>\n",
       "  </thead>\n",
       "  <tbody>\n",
       "    <tr>\n",
       "      <th>count</th>\n",
       "      <td>14.000000</td>\n",
       "      <td>37.000000</td>\n",
       "      <td>133.000000</td>\n",
       "      <td>1.000000</td>\n",
       "      <td>20.000000</td>\n",
       "    </tr>\n",
       "    <tr>\n",
       "      <th>min</th>\n",
       "      <td>59775.735096</td>\n",
       "      <td>14699.462781</td>\n",
       "      <td>223.862876</td>\n",
       "      <td>189487.147128</td>\n",
       "      <td>38040.586987</td>\n",
       "    </tr>\n",
       "    <tr>\n",
       "      <th>max</th>\n",
       "      <td>116153.166122</td>\n",
       "      <td>33872.334307</td>\n",
       "      <td>12899.346111</td>\n",
       "      <td>189487.147128</td>\n",
       "      <td>54875.285956</td>\n",
       "    </tr>\n",
       "    <tr>\n",
       "      <th>mean</th>\n",
       "      <td>80029.402070</td>\n",
       "      <td>22967.999473</td>\n",
       "      <td>4372.387960</td>\n",
       "      <td>189487.147128</td>\n",
       "      <td>45912.813066</td>\n",
       "    </tr>\n",
       "  </tbody>\n",
       "</table>\n",
       "</div>"
      ],
      "text/plain": [
       "                   0             1             2              3             4\n",
       "count      14.000000     37.000000    133.000000       1.000000     20.000000\n",
       "min     59775.735096  14699.462781    223.862876  189487.147128  38040.586987\n",
       "max    116153.166122  33872.334307  12899.346111  189487.147128  54875.285956\n",
       "mean    80029.402070  22967.999473   4372.387960  189487.147128  45912.813066"
      ]
     },
     "execution_count": 233,
     "metadata": {},
     "output_type": "execute_result"
    }
   ],
   "source": [
    "aggrigate = {i: [\"count\", \"min\", \"max\", \"mean\"] for i in range(number_of_cluster)}\n",
    "df_vals_capita_per_capita_2019.agg(aggrigate)"
   ]
  },
  {
   "cell_type": "code",
   "execution_count": 234,
   "id": "73e23277-b984-4a92-9e53-103d9bdabb33",
   "metadata": {},
   "outputs": [
    {
     "data": {
      "text/html": [
       "<div>\n",
       "<style scoped>\n",
       "    .dataframe tbody tr th:only-of-type {\n",
       "        vertical-align: middle;\n",
       "    }\n",
       "\n",
       "    .dataframe tbody tr th {\n",
       "        vertical-align: top;\n",
       "    }\n",
       "\n",
       "    .dataframe thead th {\n",
       "        text-align: right;\n",
       "    }\n",
       "</style>\n",
       "<table border=\"1\" class=\"dataframe\">\n",
       "  <thead>\n",
       "    <tr style=\"text-align: right;\">\n",
       "      <th></th>\n",
       "      <th>0</th>\n",
       "      <th>1</th>\n",
       "      <th>2</th>\n",
       "      <th>3</th>\n",
       "      <th>4</th>\n",
       "    </tr>\n",
       "  </thead>\n",
       "  <tbody>\n",
       "    <tr>\n",
       "      <th>count</th>\n",
       "      <td>30.000000</td>\n",
       "      <td>52.000000</td>\n",
       "      <td>7.000000</td>\n",
       "      <td>116.000000</td>\n",
       "      <td>1.000000</td>\n",
       "    </tr>\n",
       "    <tr>\n",
       "      <th>min</th>\n",
       "      <td>33656.453574</td>\n",
       "      <td>9378.985047</td>\n",
       "      <td>83357.132684</td>\n",
       "      <td>256.973698</td>\n",
       "      <td>177673.745368</td>\n",
       "    </tr>\n",
       "    <tr>\n",
       "      <th>max</th>\n",
       "      <td>73514.669650</td>\n",
       "      <td>29067.809460</td>\n",
       "      <td>120000.140730</td>\n",
       "      <td>8218.347844</td>\n",
       "      <td>177673.745368</td>\n",
       "    </tr>\n",
       "    <tr>\n",
       "      <th>mean</th>\n",
       "      <td>48381.094447</td>\n",
       "      <td>17278.913899</td>\n",
       "      <td>95451.898766</td>\n",
       "      <td>3287.617165</td>\n",
       "      <td>177673.745368</td>\n",
       "    </tr>\n",
       "  </tbody>\n",
       "</table>\n",
       "</div>"
      ],
      "text/plain": [
       "                  0             1              2            3              4\n",
       "count     30.000000     52.000000       7.000000   116.000000       1.000000\n",
       "min    33656.453574   9378.985047   83357.132684   256.973698  177673.745368\n",
       "max    73514.669650  29067.809460  120000.140730  8218.347844  177673.745368\n",
       "mean   48381.094447  17278.913899   95451.898766  3287.617165  177673.745368"
      ]
     },
     "execution_count": 234,
     "metadata": {},
     "output_type": "execute_result"
    }
   ],
   "source": [
    "aggrigate = {i: [\"count\", \"min\", \"max\", \"mean\"] for i in range(number_of_cluster)}\n",
    "df_vals_capita_per_capita_2013.agg(aggrigate)"
   ]
  },
  {
   "cell_type": "markdown",
   "id": "2a6abb34-01fd-43c5-8491-6a07b99d8b7f",
   "metadata": {},
   "source": [
    "Страны, оставшиеся в кластере \"очень низкие\""
   ]
  },
  {
   "cell_type": "code",
   "execution_count": 235,
   "id": "c4f29822-26e7-4186-962e-7c3b8e585b24",
   "metadata": {
    "tags": []
   },
   "outputs": [
    {
     "data": {
      "text/plain": [
       "['Grenada',\n",
       " 'Burkina Faso',\n",
       " 'Senegal',\n",
       " 'South Asia',\n",
       " 'North Macedonia',\n",
       " 'Tonga',\n",
       " 'Mali',\n",
       " 'Niger',\n",
       " 'Egypt, Arab Rep.',\n",
       " 'Eswatini',\n",
       " 'Lesotho',\n",
       " 'Congo, Rep.',\n",
       " 'Armenia',\n",
       " 'Liberia',\n",
       " 'Cameroon',\n",
       " 'Tuvalu',\n",
       " 'Montenegro',\n",
       " 'Uzbekistan',\n",
       " 'Gambia, The',\n",
       " 'Tanzania',\n",
       " 'Iran, Islamic Rep.',\n",
       " 'Mauritania',\n",
       " 'Dominican Republic',\n",
       " 'Philippines',\n",
       " 'Turkmenistan',\n",
       " 'Uganda',\n",
       " 'Serbia',\n",
       " 'Jamaica',\n",
       " 'Ecuador',\n",
       " 'Rwanda',\n",
       " 'Albania',\n",
       " 'Mongolia',\n",
       " 'Benin',\n",
       " 'Haiti',\n",
       " 'Bolivia',\n",
       " 'Ukraine',\n",
       " 'Jordan',\n",
       " 'Burundi',\n",
       " 'Indonesia',\n",
       " 'Lao PDR',\n",
       " 'Pakistan',\n",
       " 'Bulgaria',\n",
       " 'Honduras',\n",
       " 'Sao Tome and Principe',\n",
       " \"Cote d'Ivoire\",\n",
       " 'Azerbaijan',\n",
       " 'Nigeria',\n",
       " 'Sierra Leone',\n",
       " 'Georgia',\n",
       " 'Nepal',\n",
       " 'Lebanon',\n",
       " 'Kosovo',\n",
       " 'Nicaragua',\n",
       " 'Belize',\n",
       " 'Belarus',\n",
       " 'Fiji',\n",
       " 'Marshall Islands',\n",
       " 'Comoros',\n",
       " 'Ethiopia',\n",
       " 'Samoa',\n",
       " 'Namibia',\n",
       " 'St. Vincent and the Grenadines',\n",
       " 'Afghanistan',\n",
       " 'Timor-Leste',\n",
       " 'Iraq',\n",
       " 'Micronesia, Fed. Sts.',\n",
       " 'Chad',\n",
       " 'Solomon Islands',\n",
       " 'Maldives',\n",
       " 'Togo',\n",
       " 'Mozambique',\n",
       " 'Zambia',\n",
       " 'Malawi',\n",
       " 'Paraguay',\n",
       " 'Algeria',\n",
       " 'Yemen, Rep.',\n",
       " 'Congo, Dem. Rep.',\n",
       " 'Madagascar',\n",
       " 'Tajikistan',\n",
       " 'Vanuatu',\n",
       " 'Moldova',\n",
       " 'Cabo Verde',\n",
       " 'Papua New Guinea',\n",
       " 'Cuba',\n",
       " 'Cambodia',\n",
       " 'Kenya',\n",
       " 'Bosnia and Herzegovina',\n",
       " 'Myanmar',\n",
       " 'Kyrgyz Republic',\n",
       " 'Vietnam',\n",
       " 'Colombia',\n",
       " 'Central African Republic',\n",
       " 'Botswana',\n",
       " 'China',\n",
       " 'Guinea-Bissau',\n",
       " 'Bangladesh',\n",
       " 'Kiribati',\n",
       " 'India',\n",
       " 'El Salvador',\n",
       " 'Guinea',\n",
       " 'Dominica',\n",
       " 'Thailand',\n",
       " 'Guatemala',\n",
       " 'Bhutan',\n",
       " 'Morocco',\n",
       " 'Sudan',\n",
       " 'Zimbabwe',\n",
       " 'Peru',\n",
       " 'Guyana',\n",
       " 'Angola',\n",
       " 'Sri Lanka',\n",
       " 'Ghana',\n",
       " 'South Africa',\n",
       " 'Tunisia']"
      ]
     },
     "execution_count": 235,
     "metadata": {},
     "output_type": "execute_result"
    }
   ],
   "source": [
    "list(set(df_names_gdp_capita_2013[3]) & set(df_names_gdp_capita_2019[2]))"
   ]
  },
  {
   "cell_type": "markdown",
   "id": "e9e4c36d-2599-456a-94dc-4565f82b5a20",
   "metadata": {},
   "source": [
    "Перешли в класс с очень высокими темпами роста"
   ]
  },
  {
   "cell_type": "code",
   "execution_count": 236,
   "id": "77481b8a-485e-4561-9906-6d4029751eb3",
   "metadata": {
    "tags": []
   },
   "outputs": [
    {
     "data": {
      "text/plain": [
       "[]"
      ]
     },
     "execution_count": 236,
     "metadata": {},
     "output_type": "execute_result"
    }
   ],
   "source": [
    "list(set(df_names_gdp_capita_2013[3]) & set(df_names_gdp_capita_2019[3]))"
   ]
  },
  {
   "cell_type": "markdown",
   "id": "43bfc45a-5453-45f5-9a16-d078bb7e92f9",
   "metadata": {},
   "source": [
    "Перешли в класс с высокими темпами роста"
   ]
  },
  {
   "cell_type": "code",
   "execution_count": 237,
   "id": "d0a66520-4152-495e-989d-20d3f49a9cee",
   "metadata": {
    "tags": []
   },
   "outputs": [
    {
     "data": {
      "text/plain": [
       "[]"
      ]
     },
     "execution_count": 237,
     "metadata": {},
     "output_type": "execute_result"
    }
   ],
   "source": [
    "list(set(df_names_gdp_capita_2013[3]) & set(df_names_gdp_capita_2019[0]))"
   ]
  },
  {
   "cell_type": "markdown",
   "id": "2dfa8464-4271-469d-8c2e-f4b22770585e",
   "metadata": {},
   "source": [
    "Перешли в класс со средними темпами роста"
   ]
  },
  {
   "cell_type": "code",
   "execution_count": 238,
   "id": "05482319-5233-437f-b707-6f9a393ec478",
   "metadata": {
    "tags": []
   },
   "outputs": [
    {
     "data": {
      "text/plain": [
       "[]"
      ]
     },
     "execution_count": 238,
     "metadata": {},
     "output_type": "execute_result"
    }
   ],
   "source": [
    "list(set(df_names_gdp_capita_2013[3]) & set(df_names_gdp_capita_2019[4]))"
   ]
  },
  {
   "cell_type": "markdown",
   "id": "2dd849a2-9a52-455f-995e-1aaec473a1d6",
   "metadata": {},
   "source": [
    "Перешли в класс с низкими темпами роста"
   ]
  },
  {
   "cell_type": "code",
   "execution_count": 239,
   "id": "d1b2ef00-1a68-4e5f-8c0e-c18048c1569c",
   "metadata": {},
   "outputs": [
    {
     "data": {
      "text/plain": [
       "[]"
      ]
     },
     "execution_count": 239,
     "metadata": {},
     "output_type": "execute_result"
    }
   ],
   "source": [
    "list(set(df_names_gdp_capita_2013[3]) & set(df_names_gdp_capita_2019[1]))"
   ]
  },
  {
   "cell_type": "markdown",
   "id": "40b703f3-f652-487f-9410-9a5fba619fc0",
   "metadata": {
    "tags": []
   },
   "source": [
    "### Темпы роста инфляции"
   ]
  },
  {
   "cell_type": "markdown",
   "id": "be5ef220-4afc-4aca-8840-4f2ee1a9bfe8",
   "metadata": {
    "jp-MarkdownHeadingCollapsed": true,
    "tags": []
   },
   "source": [
    "#### Средние темпы роста в 2013"
   ]
  },
  {
   "cell_type": "code",
   "execution_count": 240,
   "id": "1f11b605-0047-4d80-b458-77c6d276ff9e",
   "metadata": {},
   "outputs": [
    {
     "data": {
      "text/html": [
       "<div>\n",
       "<style scoped>\n",
       "    .dataframe tbody tr th:only-of-type {\n",
       "        vertical-align: middle;\n",
       "    }\n",
       "\n",
       "    .dataframe tbody tr th {\n",
       "        vertical-align: top;\n",
       "    }\n",
       "\n",
       "    .dataframe thead th {\n",
       "        text-align: right;\n",
       "    }\n",
       "</style>\n",
       "<table border=\"1\" class=\"dataframe\">\n",
       "  <thead>\n",
       "    <tr style=\"text-align: right;\">\n",
       "      <th></th>\n",
       "      <th>0</th>\n",
       "      <th>1</th>\n",
       "      <th>2</th>\n",
       "      <th>3</th>\n",
       "      <th>4</th>\n",
       "    </tr>\n",
       "  </thead>\n",
       "  <tbody>\n",
       "    <tr>\n",
       "      <th>count</th>\n",
       "      <td>14.000000</td>\n",
       "      <td>37.000000</td>\n",
       "      <td>133.000000</td>\n",
       "      <td>1.000000</td>\n",
       "      <td>20.000000</td>\n",
       "    </tr>\n",
       "    <tr>\n",
       "      <th>min</th>\n",
       "      <td>-4.826866</td>\n",
       "      <td>-3.335768</td>\n",
       "      <td>-3.417863</td>\n",
       "      <td>1.279273</td>\n",
       "      <td>-4.444037</td>\n",
       "    </tr>\n",
       "    <tr>\n",
       "      <th>max</th>\n",
       "      <td>4.589431</td>\n",
       "      <td>8.522967</td>\n",
       "      <td>440.829791</td>\n",
       "      <td>1.279273</td>\n",
       "      <td>3.489567</td>\n",
       "    </tr>\n",
       "    <tr>\n",
       "      <th>mean</th>\n",
       "      <td>1.288131</td>\n",
       "      <td>1.638456</td>\n",
       "      <td>7.968013</td>\n",
       "      <td>1.279273</td>\n",
       "      <td>1.619152</td>\n",
       "    </tr>\n",
       "  </tbody>\n",
       "</table>\n",
       "</div>"
      ],
      "text/plain": [
       "               0          1           2         3          4\n",
       "count  14.000000  37.000000  133.000000  1.000000  20.000000\n",
       "min    -4.826866  -3.335768   -3.417863  1.279273  -4.444037\n",
       "max     4.589431   8.522967  440.829791  1.279273   3.489567\n",
       "mean    1.288131   1.638456    7.968013  1.279273   1.619152"
      ]
     },
     "execution_count": 240,
     "metadata": {},
     "output_type": "execute_result"
    }
   ],
   "source": [
    "aggrigate = {i: [\"count\", \"min\", \"max\", \"mean\"] for i in range(number_of_cluster)}\n",
    "df_vals_inflation_inflation_2019.agg(aggrigate)"
   ]
  },
  {
   "cell_type": "code",
   "execution_count": 241,
   "id": "b2bfd89a-1111-4329-841b-003480755ebc",
   "metadata": {},
   "outputs": [
    {
     "data": {
      "text/html": [
       "<div>\n",
       "<style scoped>\n",
       "    .dataframe tbody tr th:only-of-type {\n",
       "        vertical-align: middle;\n",
       "    }\n",
       "\n",
       "    .dataframe tbody tr th {\n",
       "        vertical-align: top;\n",
       "    }\n",
       "\n",
       "    .dataframe thead th {\n",
       "        text-align: right;\n",
       "    }\n",
       "</style>\n",
       "<table border=\"1\" class=\"dataframe\">\n",
       "  <thead>\n",
       "    <tr style=\"text-align: right;\">\n",
       "      <th></th>\n",
       "      <th>0</th>\n",
       "      <th>1</th>\n",
       "      <th>2</th>\n",
       "      <th>3</th>\n",
       "      <th>4</th>\n",
       "    </tr>\n",
       "  </thead>\n",
       "  <tbody>\n",
       "    <tr>\n",
       "      <th>count</th>\n",
       "      <td>30.000000</td>\n",
       "      <td>52.000000</td>\n",
       "      <td>7.000000</td>\n",
       "      <td>116.000000</td>\n",
       "      <td>1.000000</td>\n",
       "    </tr>\n",
       "    <tr>\n",
       "      <th>min</th>\n",
       "      <td>-2.821321</td>\n",
       "      <td>-21.808511</td>\n",
       "      <td>-0.023308</td>\n",
       "      <td>-4.141367</td>\n",
       "      <td>0.780385</td>\n",
       "    </tr>\n",
       "    <tr>\n",
       "      <th>max</th>\n",
       "      <td>4.227317</td>\n",
       "      <td>35.502675</td>\n",
       "      <td>7.732683</td>\n",
       "      <td>54.012912</td>\n",
       "      <td>0.780385</td>\n",
       "    </tr>\n",
       "    <tr>\n",
       "      <th>mean</th>\n",
       "      <td>0.987351</td>\n",
       "      <td>2.635390</td>\n",
       "      <td>2.357308</td>\n",
       "      <td>5.552653</td>\n",
       "      <td>0.780385</td>\n",
       "    </tr>\n",
       "  </tbody>\n",
       "</table>\n",
       "</div>"
      ],
      "text/plain": [
       "               0          1         2           3         4\n",
       "count  30.000000  52.000000  7.000000  116.000000  1.000000\n",
       "min    -2.821321 -21.808511 -0.023308   -4.141367  0.780385\n",
       "max     4.227317  35.502675  7.732683   54.012912  0.780385\n",
       "mean    0.987351   2.635390  2.357308    5.552653  0.780385"
      ]
     },
     "execution_count": 241,
     "metadata": {},
     "output_type": "execute_result"
    }
   ],
   "source": [
    "aggrigate = {i: [\"count\", \"min\", \"max\", \"mean\"] for i in range(number_of_cluster)}\n",
    "df_vals_inflation_inflation_2013.agg(aggrigate)"
   ]
  },
  {
   "cell_type": "markdown",
   "id": "9b403937-f8bc-44bc-a1df-c84ef14dd4b9",
   "metadata": {},
   "source": [
    "Страны, оставшиеся в кластере \"средние\""
   ]
  },
  {
   "cell_type": "code",
   "execution_count": 242,
   "id": "aa99ecfc-83dc-4656-9bf7-e2681da0342f",
   "metadata": {
    "tags": []
   },
   "outputs": [
    {
     "data": {
      "text/plain": [
       "[None]"
      ]
     },
     "execution_count": 242,
     "metadata": {},
     "output_type": "execute_result"
    }
   ],
   "source": [
    "list(set(df_names_inflation_2013[2]) & set(df_names_gdp_capita_inflation_2019[4]))"
   ]
  },
  {
   "cell_type": "markdown",
   "id": "895e211e-70ff-4e7d-a2ed-78e933833f7c",
   "metadata": {
    "tags": []
   },
   "source": [
    "Страны, мигрировавшие в кластер \"с высокими темпами роста\""
   ]
  },
  {
   "cell_type": "code",
   "execution_count": 243,
   "id": "fe89bb5f-49b0-4823-a82c-23ac6ca83499",
   "metadata": {
    "tags": []
   },
   "outputs": [
    {
     "data": {
      "text/plain": [
       "[None]"
      ]
     },
     "execution_count": 243,
     "metadata": {},
     "output_type": "execute_result"
    }
   ],
   "source": [
    "list(set(df_names_inflation_2013[2]) & set(df_names_gdp_capita_inflation_2019[1]))"
   ]
  },
  {
   "cell_type": "markdown",
   "id": "882b6c38-a07b-4dc0-b308-1b324c20d02f",
   "metadata": {},
   "source": [
    "Страны, мигрировавшие в кластер \"с очень высокими темпами роста\""
   ]
  },
  {
   "cell_type": "code",
   "execution_count": 244,
   "id": "627a19df-36f6-4b07-86d3-b4d027510ce5",
   "metadata": {
    "tags": []
   },
   "outputs": [
    {
     "data": {
      "text/plain": [
       "[]"
      ]
     },
     "execution_count": 244,
     "metadata": {},
     "output_type": "execute_result"
    }
   ],
   "source": [
    "list(set(df_names_inflation_2013[2]) & set(df_names_gdp_capita_inflation_2019[2]))"
   ]
  },
  {
   "cell_type": "markdown",
   "id": "3bbf1f19-401e-4972-8d2f-c5a2cd22964b",
   "metadata": {},
   "source": [
    "Страны, мигрировавшие в кластер \"с низкими темпами роста\""
   ]
  },
  {
   "cell_type": "code",
   "execution_count": 245,
   "id": "aedc7275-a65a-41cd-b3cb-e2f409c221fb",
   "metadata": {
    "tags": []
   },
   "outputs": [
    {
     "data": {
      "text/plain": [
       "['Norway',\n",
       " 'Isle of Man',\n",
       " 'Macao SAR, China',\n",
       " 'Switzerland',\n",
       " 'Luxembourg',\n",
       " 'Qatar',\n",
       " 'Bermuda',\n",
       " None]"
      ]
     },
     "execution_count": 245,
     "metadata": {},
     "output_type": "execute_result"
    }
   ],
   "source": [
    "list(set(df_names_inflation_2013[2]) & set(df_names_gdp_capita_inflation_2019[0]))"
   ]
  },
  {
   "cell_type": "markdown",
   "id": "2d75dee4-d012-4ad8-b010-6689ece8300a",
   "metadata": {},
   "source": [
    "Страны, мигрировавшие в кластер \"с очень низкими темпами роста\""
   ]
  },
  {
   "cell_type": "code",
   "execution_count": 246,
   "id": "11bc7e56-f76e-4aea-830e-5ed3224516aa",
   "metadata": {
    "tags": []
   },
   "outputs": [
    {
     "data": {
      "text/plain": [
       "[None]"
      ]
     },
     "execution_count": 246,
     "metadata": {},
     "output_type": "execute_result"
    }
   ],
   "source": [
    "list(set(df_names_inflation_2013[2]) & set(df_names_gdp_capita_inflation_2019[3]))"
   ]
  },
  {
   "cell_type": "markdown",
   "id": "c074bd25-4118-41af-ad49-c14bbb07ab54",
   "metadata": {
    "jp-MarkdownHeadingCollapsed": true,
    "tags": []
   },
   "source": [
    "#### Высокие темпы роста в 2013"
   ]
  },
  {
   "cell_type": "code",
   "execution_count": 247,
   "id": "e6b6fdcb-c8c0-4ade-9975-ad51d5203d1a",
   "metadata": {},
   "outputs": [
    {
     "data": {
      "text/html": [
       "<div>\n",
       "<style scoped>\n",
       "    .dataframe tbody tr th:only-of-type {\n",
       "        vertical-align: middle;\n",
       "    }\n",
       "\n",
       "    .dataframe tbody tr th {\n",
       "        vertical-align: top;\n",
       "    }\n",
       "\n",
       "    .dataframe thead th {\n",
       "        text-align: right;\n",
       "    }\n",
       "</style>\n",
       "<table border=\"1\" class=\"dataframe\">\n",
       "  <thead>\n",
       "    <tr style=\"text-align: right;\">\n",
       "      <th></th>\n",
       "      <th>0</th>\n",
       "      <th>1</th>\n",
       "      <th>2</th>\n",
       "      <th>3</th>\n",
       "      <th>4</th>\n",
       "    </tr>\n",
       "  </thead>\n",
       "  <tbody>\n",
       "    <tr>\n",
       "      <th>count</th>\n",
       "      <td>14.000000</td>\n",
       "      <td>37.000000</td>\n",
       "      <td>133.000000</td>\n",
       "      <td>1.000000</td>\n",
       "      <td>20.000000</td>\n",
       "    </tr>\n",
       "    <tr>\n",
       "      <th>min</th>\n",
       "      <td>-4.826866</td>\n",
       "      <td>-3.335768</td>\n",
       "      <td>-3.417863</td>\n",
       "      <td>1.279273</td>\n",
       "      <td>-4.444037</td>\n",
       "    </tr>\n",
       "    <tr>\n",
       "      <th>max</th>\n",
       "      <td>4.589431</td>\n",
       "      <td>8.522967</td>\n",
       "      <td>440.829791</td>\n",
       "      <td>1.279273</td>\n",
       "      <td>3.489567</td>\n",
       "    </tr>\n",
       "    <tr>\n",
       "      <th>mean</th>\n",
       "      <td>1.288131</td>\n",
       "      <td>1.638456</td>\n",
       "      <td>7.968013</td>\n",
       "      <td>1.279273</td>\n",
       "      <td>1.619152</td>\n",
       "    </tr>\n",
       "  </tbody>\n",
       "</table>\n",
       "</div>"
      ],
      "text/plain": [
       "               0          1           2         3          4\n",
       "count  14.000000  37.000000  133.000000  1.000000  20.000000\n",
       "min    -4.826866  -3.335768   -3.417863  1.279273  -4.444037\n",
       "max     4.589431   8.522967  440.829791  1.279273   3.489567\n",
       "mean    1.288131   1.638456    7.968013  1.279273   1.619152"
      ]
     },
     "execution_count": 247,
     "metadata": {},
     "output_type": "execute_result"
    }
   ],
   "source": [
    "aggrigate = {i: [\"count\", \"min\", \"max\", \"mean\"] for i in range(number_of_cluster)}\n",
    "df_vals_inflation_inflation_2019.agg(aggrigate)"
   ]
  },
  {
   "cell_type": "code",
   "execution_count": 248,
   "id": "2b6d2853-2e9b-42c2-a1c6-45e185d3854d",
   "metadata": {},
   "outputs": [
    {
     "data": {
      "text/html": [
       "<div>\n",
       "<style scoped>\n",
       "    .dataframe tbody tr th:only-of-type {\n",
       "        vertical-align: middle;\n",
       "    }\n",
       "\n",
       "    .dataframe tbody tr th {\n",
       "        vertical-align: top;\n",
       "    }\n",
       "\n",
       "    .dataframe thead th {\n",
       "        text-align: right;\n",
       "    }\n",
       "</style>\n",
       "<table border=\"1\" class=\"dataframe\">\n",
       "  <thead>\n",
       "    <tr style=\"text-align: right;\">\n",
       "      <th></th>\n",
       "      <th>0</th>\n",
       "      <th>1</th>\n",
       "      <th>2</th>\n",
       "      <th>3</th>\n",
       "      <th>4</th>\n",
       "    </tr>\n",
       "  </thead>\n",
       "  <tbody>\n",
       "    <tr>\n",
       "      <th>count</th>\n",
       "      <td>30.000000</td>\n",
       "      <td>52.000000</td>\n",
       "      <td>7.000000</td>\n",
       "      <td>116.000000</td>\n",
       "      <td>1.000000</td>\n",
       "    </tr>\n",
       "    <tr>\n",
       "      <th>min</th>\n",
       "      <td>-2.821321</td>\n",
       "      <td>-21.808511</td>\n",
       "      <td>-0.023308</td>\n",
       "      <td>-4.141367</td>\n",
       "      <td>0.780385</td>\n",
       "    </tr>\n",
       "    <tr>\n",
       "      <th>max</th>\n",
       "      <td>4.227317</td>\n",
       "      <td>35.502675</td>\n",
       "      <td>7.732683</td>\n",
       "      <td>54.012912</td>\n",
       "      <td>0.780385</td>\n",
       "    </tr>\n",
       "    <tr>\n",
       "      <th>mean</th>\n",
       "      <td>0.987351</td>\n",
       "      <td>2.635390</td>\n",
       "      <td>2.357308</td>\n",
       "      <td>5.552653</td>\n",
       "      <td>0.780385</td>\n",
       "    </tr>\n",
       "  </tbody>\n",
       "</table>\n",
       "</div>"
      ],
      "text/plain": [
       "               0          1         2           3         4\n",
       "count  30.000000  52.000000  7.000000  116.000000  1.000000\n",
       "min    -2.821321 -21.808511 -0.023308   -4.141367  0.780385\n",
       "max     4.227317  35.502675  7.732683   54.012912  0.780385\n",
       "mean    0.987351   2.635390  2.357308    5.552653  0.780385"
      ]
     },
     "execution_count": 248,
     "metadata": {},
     "output_type": "execute_result"
    }
   ],
   "source": [
    "aggrigate = {i: [\"count\", \"min\", \"max\", \"mean\"] for i in range(number_of_cluster)}\n",
    "df_vals_inflation_inflation_2013.agg(aggrigate)"
   ]
  },
  {
   "cell_type": "markdown",
   "id": "498f7629-b8cd-4172-ad75-5a1c47caf94a",
   "metadata": {},
   "source": [
    "Страны, оставшиеся в кластере \"высокие\""
   ]
  },
  {
   "cell_type": "code",
   "execution_count": 249,
   "id": "7fe3497f-8d48-4e95-849f-1f068d6dc0e8",
   "metadata": {
    "tags": []
   },
   "outputs": [
    {
     "data": {
      "text/plain": [
       "['Antigua and Barbuda',\n",
       " 'Oman',\n",
       " 'Puerto Rico',\n",
       " 'Slovenia',\n",
       " 'Panama',\n",
       " 'Aruba',\n",
       " 'Estonia',\n",
       " 'Chile',\n",
       " 'Slovak Republic',\n",
       " 'St. Kitts and Nevis',\n",
       " 'Lithuania',\n",
       " 'Palau',\n",
       " 'Latvia',\n",
       " 'Saudi Arabia',\n",
       " 'Portugal',\n",
       " 'Hungary',\n",
       " None,\n",
       " 'Korea, Rep.',\n",
       " 'Spain',\n",
       " 'Bahrain',\n",
       " 'Northern Mariana Islands',\n",
       " 'Trinidad and Tobago',\n",
       " 'Greece',\n",
       " 'Czech Republic',\n",
       " 'Malta',\n",
       " 'Croatia',\n",
       " 'Uruguay',\n",
       " 'Curacao',\n",
       " 'Cyprus',\n",
       " 'Bahamas, The',\n",
       " 'Poland',\n",
       " 'Turks and Caicos Islands',\n",
       " 'Barbados',\n",
       " 'Seychelles']"
      ]
     },
     "execution_count": 249,
     "metadata": {},
     "output_type": "execute_result"
    }
   ],
   "source": [
    "list(set(df_names_inflation_2013[1]) & set(df_names_gdp_capita_inflation_2019[1]))"
   ]
  },
  {
   "cell_type": "markdown",
   "id": "22674bff-c0dc-481f-8f20-2fe02e61f7b4",
   "metadata": {},
   "source": [
    "Перешли в класс с очень высокими темпами роста"
   ]
  },
  {
   "cell_type": "code",
   "execution_count": 250,
   "id": "a175b510-adfa-4af3-8b87-c86d81073392",
   "metadata": {
    "tags": []
   },
   "outputs": [
    {
     "data": {
      "text/plain": [
       "['Turkiye',\n",
       " 'American Samoa',\n",
       " 'Brazil',\n",
       " 'Mauritius',\n",
       " 'Russian Federation',\n",
       " 'Mexico',\n",
       " 'Libya',\n",
       " 'Suriname',\n",
       " 'Costa Rica',\n",
       " 'St. Lucia',\n",
       " 'Malaysia',\n",
       " 'Equatorial Guinea',\n",
       " 'Kazakhstan',\n",
       " 'Romania',\n",
       " 'Argentina',\n",
       " 'Gabon',\n",
       " 'Nauru']"
      ]
     },
     "execution_count": 250,
     "metadata": {},
     "output_type": "execute_result"
    }
   ],
   "source": [
    "list(set(df_names_inflation_2013[1]) & set(df_names_gdp_capita_inflation_2019[2]))"
   ]
  },
  {
   "cell_type": "markdown",
   "id": "6a9619a8-d9fa-415f-aaae-7d9e5c628a19",
   "metadata": {},
   "source": [
    "Перешли в класс со средними темпами роста"
   ]
  },
  {
   "cell_type": "code",
   "execution_count": 251,
   "id": "52b0382c-a330-46fd-bd2a-fe1b5840e0d3",
   "metadata": {
    "tags": []
   },
   "outputs": [
    {
     "data": {
      "text/plain": [
       "[None]"
      ]
     },
     "execution_count": 251,
     "metadata": {},
     "output_type": "execute_result"
    }
   ],
   "source": [
    "list(set(df_names_inflation_2013[1]) & set(df_names_gdp_capita_inflation_2019[4]))"
   ]
  },
  {
   "cell_type": "markdown",
   "id": "81b9a5e4-5b06-450b-b6bc-50d749eec96c",
   "metadata": {},
   "source": [
    "Перешли в класс с низкими темпами роста"
   ]
  },
  {
   "cell_type": "code",
   "execution_count": 252,
   "id": "b31c4b2d-8ee3-44da-ad25-c466aaf517f9",
   "metadata": {
    "tags": []
   },
   "outputs": [
    {
     "data": {
      "text/plain": [
       "[None]"
      ]
     },
     "execution_count": 252,
     "metadata": {},
     "output_type": "execute_result"
    }
   ],
   "source": [
    "list(set(df_names_inflation_2013[1]) & set(df_names_gdp_capita_inflation_2019[0]))"
   ]
  },
  {
   "cell_type": "markdown",
   "id": "ee4243a9-c98e-467b-9e4e-2253761c4bf9",
   "metadata": {},
   "source": [
    "Перешли в класс с очень низкими темпами роста"
   ]
  },
  {
   "cell_type": "code",
   "execution_count": 253,
   "id": "92562d26-e073-4366-872a-13df43feacc3",
   "metadata": {
    "tags": []
   },
   "outputs": [
    {
     "data": {
      "text/plain": [
       "[None]"
      ]
     },
     "execution_count": 253,
     "metadata": {},
     "output_type": "execute_result"
    }
   ],
   "source": [
    "list(set(df_names_inflation_2013[1]) & set(df_names_gdp_capita_inflation_2019[3]))"
   ]
  },
  {
   "cell_type": "markdown",
   "id": "f19556e1-b5df-4d12-9941-a94e46f68541",
   "metadata": {
    "jp-MarkdownHeadingCollapsed": true,
    "tags": []
   },
   "source": [
    "#### Очень высокие темпы роста в 2013"
   ]
  },
  {
   "cell_type": "code",
   "execution_count": 254,
   "id": "df2df1af-969b-4a9a-b0a8-48bc8520df23",
   "metadata": {},
   "outputs": [
    {
     "data": {
      "text/html": [
       "<div>\n",
       "<style scoped>\n",
       "    .dataframe tbody tr th:only-of-type {\n",
       "        vertical-align: middle;\n",
       "    }\n",
       "\n",
       "    .dataframe tbody tr th {\n",
       "        vertical-align: top;\n",
       "    }\n",
       "\n",
       "    .dataframe thead th {\n",
       "        text-align: right;\n",
       "    }\n",
       "</style>\n",
       "<table border=\"1\" class=\"dataframe\">\n",
       "  <thead>\n",
       "    <tr style=\"text-align: right;\">\n",
       "      <th></th>\n",
       "      <th>0</th>\n",
       "      <th>1</th>\n",
       "      <th>2</th>\n",
       "      <th>3</th>\n",
       "      <th>4</th>\n",
       "    </tr>\n",
       "  </thead>\n",
       "  <tbody>\n",
       "    <tr>\n",
       "      <th>count</th>\n",
       "      <td>14.000000</td>\n",
       "      <td>37.000000</td>\n",
       "      <td>133.000000</td>\n",
       "      <td>1.000000</td>\n",
       "      <td>20.000000</td>\n",
       "    </tr>\n",
       "    <tr>\n",
       "      <th>min</th>\n",
       "      <td>-4.826866</td>\n",
       "      <td>-3.335768</td>\n",
       "      <td>-3.417863</td>\n",
       "      <td>1.279273</td>\n",
       "      <td>-4.444037</td>\n",
       "    </tr>\n",
       "    <tr>\n",
       "      <th>max</th>\n",
       "      <td>4.589431</td>\n",
       "      <td>8.522967</td>\n",
       "      <td>440.829791</td>\n",
       "      <td>1.279273</td>\n",
       "      <td>3.489567</td>\n",
       "    </tr>\n",
       "    <tr>\n",
       "      <th>mean</th>\n",
       "      <td>1.288131</td>\n",
       "      <td>1.638456</td>\n",
       "      <td>7.968013</td>\n",
       "      <td>1.279273</td>\n",
       "      <td>1.619152</td>\n",
       "    </tr>\n",
       "  </tbody>\n",
       "</table>\n",
       "</div>"
      ],
      "text/plain": [
       "               0          1           2         3          4\n",
       "count  14.000000  37.000000  133.000000  1.000000  20.000000\n",
       "min    -4.826866  -3.335768   -3.417863  1.279273  -4.444037\n",
       "max     4.589431   8.522967  440.829791  1.279273   3.489567\n",
       "mean    1.288131   1.638456    7.968013  1.279273   1.619152"
      ]
     },
     "execution_count": 254,
     "metadata": {},
     "output_type": "execute_result"
    }
   ],
   "source": [
    "aggrigate = {i: [\"count\", \"min\", \"max\", \"mean\"] for i in range(number_of_cluster)}\n",
    "df_vals_inflation_inflation_2019.agg(aggrigate)"
   ]
  },
  {
   "cell_type": "code",
   "execution_count": 255,
   "id": "ae294452-fa88-4c5f-aa95-2b6aaa1741af",
   "metadata": {},
   "outputs": [
    {
     "data": {
      "text/html": [
       "<div>\n",
       "<style scoped>\n",
       "    .dataframe tbody tr th:only-of-type {\n",
       "        vertical-align: middle;\n",
       "    }\n",
       "\n",
       "    .dataframe tbody tr th {\n",
       "        vertical-align: top;\n",
       "    }\n",
       "\n",
       "    .dataframe thead th {\n",
       "        text-align: right;\n",
       "    }\n",
       "</style>\n",
       "<table border=\"1\" class=\"dataframe\">\n",
       "  <thead>\n",
       "    <tr style=\"text-align: right;\">\n",
       "      <th></th>\n",
       "      <th>0</th>\n",
       "      <th>1</th>\n",
       "      <th>2</th>\n",
       "      <th>3</th>\n",
       "      <th>4</th>\n",
       "    </tr>\n",
       "  </thead>\n",
       "  <tbody>\n",
       "    <tr>\n",
       "      <th>count</th>\n",
       "      <td>30.000000</td>\n",
       "      <td>52.000000</td>\n",
       "      <td>7.000000</td>\n",
       "      <td>116.000000</td>\n",
       "      <td>1.000000</td>\n",
       "    </tr>\n",
       "    <tr>\n",
       "      <th>min</th>\n",
       "      <td>-2.821321</td>\n",
       "      <td>-21.808511</td>\n",
       "      <td>-0.023308</td>\n",
       "      <td>-4.141367</td>\n",
       "      <td>0.780385</td>\n",
       "    </tr>\n",
       "    <tr>\n",
       "      <th>max</th>\n",
       "      <td>4.227317</td>\n",
       "      <td>35.502675</td>\n",
       "      <td>7.732683</td>\n",
       "      <td>54.012912</td>\n",
       "      <td>0.780385</td>\n",
       "    </tr>\n",
       "    <tr>\n",
       "      <th>mean</th>\n",
       "      <td>0.987351</td>\n",
       "      <td>2.635390</td>\n",
       "      <td>2.357308</td>\n",
       "      <td>5.552653</td>\n",
       "      <td>0.780385</td>\n",
       "    </tr>\n",
       "  </tbody>\n",
       "</table>\n",
       "</div>"
      ],
      "text/plain": [
       "               0          1         2           3         4\n",
       "count  30.000000  52.000000  7.000000  116.000000  1.000000\n",
       "min    -2.821321 -21.808511 -0.023308   -4.141367  0.780385\n",
       "max     4.227317  35.502675  7.732683   54.012912  0.780385\n",
       "mean    0.987351   2.635390  2.357308    5.552653  0.780385"
      ]
     },
     "execution_count": 255,
     "metadata": {},
     "output_type": "execute_result"
    }
   ],
   "source": [
    "aggrigate = {i: [\"count\", \"min\", \"max\", \"mean\"] for i in range(number_of_cluster)}\n",
    "df_vals_inflation_inflation_2013.agg(aggrigate)"
   ]
  },
  {
   "cell_type": "markdown",
   "id": "f214ec91-9704-4416-8a44-0cde2c8291a8",
   "metadata": {},
   "source": [
    "Страны, оставшиеся в кластере \"очень высокие\""
   ]
  },
  {
   "cell_type": "code",
   "execution_count": 256,
   "id": "aaff57bf-824f-46d0-821e-7b5e063f8b90",
   "metadata": {
    "tags": []
   },
   "outputs": [
    {
     "data": {
      "text/plain": [
       "['Grenada',\n",
       " 'Burkina Faso',\n",
       " 'Senegal',\n",
       " 'South Asia',\n",
       " 'North Macedonia',\n",
       " 'Tonga',\n",
       " 'Mali',\n",
       " 'Niger',\n",
       " 'Egypt, Arab Rep.',\n",
       " 'Eswatini',\n",
       " 'Lesotho',\n",
       " 'Congo, Rep.',\n",
       " 'Armenia',\n",
       " 'Liberia',\n",
       " 'Cameroon',\n",
       " 'Tuvalu',\n",
       " 'Montenegro',\n",
       " 'Uzbekistan',\n",
       " 'Gambia, The',\n",
       " 'Tanzania',\n",
       " 'Iran, Islamic Rep.',\n",
       " 'Mauritania',\n",
       " 'Dominican Republic',\n",
       " 'Philippines',\n",
       " 'Turkmenistan',\n",
       " 'Uganda',\n",
       " 'Serbia',\n",
       " 'Jamaica',\n",
       " 'Ecuador',\n",
       " 'Rwanda',\n",
       " 'Albania',\n",
       " 'Mongolia',\n",
       " 'Benin',\n",
       " 'Haiti',\n",
       " 'Bolivia',\n",
       " 'Ukraine',\n",
       " 'Jordan',\n",
       " 'Burundi',\n",
       " 'Indonesia',\n",
       " 'Lao PDR',\n",
       " 'Pakistan',\n",
       " 'Bulgaria',\n",
       " 'Honduras',\n",
       " 'Sao Tome and Principe',\n",
       " \"Cote d'Ivoire\",\n",
       " 'Azerbaijan',\n",
       " 'Nigeria',\n",
       " 'Sierra Leone',\n",
       " 'Georgia',\n",
       " 'Nepal',\n",
       " 'Lebanon',\n",
       " 'Kosovo',\n",
       " 'Nicaragua',\n",
       " 'Belize',\n",
       " 'Belarus',\n",
       " 'Fiji',\n",
       " 'Marshall Islands',\n",
       " 'Comoros',\n",
       " 'Ethiopia',\n",
       " 'Samoa',\n",
       " 'Namibia',\n",
       " 'St. Vincent and the Grenadines',\n",
       " 'Afghanistan',\n",
       " 'Timor-Leste',\n",
       " 'Iraq',\n",
       " 'Micronesia, Fed. Sts.',\n",
       " 'Chad',\n",
       " 'Solomon Islands',\n",
       " 'Maldives',\n",
       " 'Togo',\n",
       " 'Mozambique',\n",
       " 'Zambia',\n",
       " 'Malawi',\n",
       " 'Paraguay',\n",
       " 'Algeria',\n",
       " 'Yemen, Rep.',\n",
       " 'Congo, Dem. Rep.',\n",
       " 'Madagascar',\n",
       " 'Tajikistan',\n",
       " 'Vanuatu',\n",
       " 'Moldova',\n",
       " 'Cabo Verde',\n",
       " 'Papua New Guinea',\n",
       " 'Cuba',\n",
       " 'Cambodia',\n",
       " 'Kenya',\n",
       " 'Bosnia and Herzegovina',\n",
       " 'Myanmar',\n",
       " 'Kyrgyz Republic',\n",
       " 'Vietnam',\n",
       " 'Colombia',\n",
       " 'Central African Republic',\n",
       " 'Botswana',\n",
       " 'China',\n",
       " 'Guinea-Bissau',\n",
       " 'Bangladesh',\n",
       " 'Kiribati',\n",
       " 'India',\n",
       " 'El Salvador',\n",
       " 'Guinea',\n",
       " 'Dominica',\n",
       " 'Thailand',\n",
       " 'Guatemala',\n",
       " 'Bhutan',\n",
       " 'Morocco',\n",
       " 'Sudan',\n",
       " 'Zimbabwe',\n",
       " 'Peru',\n",
       " 'Guyana',\n",
       " 'Angola',\n",
       " 'Sri Lanka',\n",
       " 'Ghana',\n",
       " 'South Africa',\n",
       " 'Tunisia']"
      ]
     },
     "execution_count": 256,
     "metadata": {},
     "output_type": "execute_result"
    }
   ],
   "source": [
    "list(set(df_names_inflation_2013[3]) & set(df_names_gdp_capita_inflation_2019[2]))"
   ]
  },
  {
   "cell_type": "markdown",
   "id": "bfc2ed1a-eb3e-4f4e-ba05-c585bdf3b475",
   "metadata": {},
   "source": [
    "Перешли в класс с высокими темпами роста"
   ]
  },
  {
   "cell_type": "code",
   "execution_count": 257,
   "id": "58777e4d-533f-4831-8609-d8a073c23599",
   "metadata": {},
   "outputs": [
    {
     "data": {
      "text/plain": [
       "[]"
      ]
     },
     "execution_count": 257,
     "metadata": {},
     "output_type": "execute_result"
    }
   ],
   "source": [
    "list(set(df_names_inflation_2013[3]) & set(df_names_gdp_capita_inflation_2019[1]))"
   ]
  },
  {
   "cell_type": "markdown",
   "id": "804109fd-608c-4b4b-b39b-650c2c64d45d",
   "metadata": {},
   "source": [
    "Перешли в класс со средними темпами роста"
   ]
  },
  {
   "cell_type": "code",
   "execution_count": 258,
   "id": "eaf5f580-4f88-4bba-a880-f9ddf133eeaa",
   "metadata": {},
   "outputs": [
    {
     "data": {
      "text/plain": [
       "[]"
      ]
     },
     "execution_count": 258,
     "metadata": {},
     "output_type": "execute_result"
    }
   ],
   "source": [
    "list(set(df_names_inflation_2013[3]) & set(df_names_gdp_capita_inflation_2019[4]))"
   ]
  },
  {
   "cell_type": "markdown",
   "id": "a18a9282-98e9-449f-8f04-2791da400ee1",
   "metadata": {},
   "source": [
    "Перешли в класс с низкими темпами роста"
   ]
  },
  {
   "cell_type": "code",
   "execution_count": 259,
   "id": "491a8c61-3006-43d3-9c71-c922ca007560",
   "metadata": {},
   "outputs": [
    {
     "data": {
      "text/plain": [
       "[]"
      ]
     },
     "execution_count": 259,
     "metadata": {},
     "output_type": "execute_result"
    }
   ],
   "source": [
    "list(set(df_names_inflation_2013[3]) & set(df_names_gdp_capita_inflation_2019[0]))"
   ]
  },
  {
   "cell_type": "markdown",
   "id": "5c409d61-065e-4fe1-a5db-24fec2436d58",
   "metadata": {},
   "source": [
    "Перешли в класс с очень низкими темпами роста"
   ]
  },
  {
   "cell_type": "code",
   "execution_count": 260,
   "id": "c1fb5e2f-78d1-494c-9613-6b50de0be5d7",
   "metadata": {},
   "outputs": [
    {
     "data": {
      "text/plain": [
       "[]"
      ]
     },
     "execution_count": 260,
     "metadata": {},
     "output_type": "execute_result"
    }
   ],
   "source": [
    "list(set(df_names_inflation_2013[3]) & set(df_names_gdp_capita_inflation_2019[3]))"
   ]
  },
  {
   "cell_type": "markdown",
   "id": "5885c1f6-bba5-4bff-8302-4b381a2ae8fd",
   "metadata": {
    "jp-MarkdownHeadingCollapsed": true,
    "tags": []
   },
   "source": [
    "#### Низкие темпы роста в 2013"
   ]
  },
  {
   "cell_type": "code",
   "execution_count": 261,
   "id": "cf4b97a9-b939-4316-a53a-5481937a3ee2",
   "metadata": {},
   "outputs": [
    {
     "data": {
      "text/html": [
       "<div>\n",
       "<style scoped>\n",
       "    .dataframe tbody tr th:only-of-type {\n",
       "        vertical-align: middle;\n",
       "    }\n",
       "\n",
       "    .dataframe tbody tr th {\n",
       "        vertical-align: top;\n",
       "    }\n",
       "\n",
       "    .dataframe thead th {\n",
       "        text-align: right;\n",
       "    }\n",
       "</style>\n",
       "<table border=\"1\" class=\"dataframe\">\n",
       "  <thead>\n",
       "    <tr style=\"text-align: right;\">\n",
       "      <th></th>\n",
       "      <th>0</th>\n",
       "      <th>1</th>\n",
       "      <th>2</th>\n",
       "      <th>3</th>\n",
       "      <th>4</th>\n",
       "    </tr>\n",
       "  </thead>\n",
       "  <tbody>\n",
       "    <tr>\n",
       "      <th>count</th>\n",
       "      <td>14.000000</td>\n",
       "      <td>37.000000</td>\n",
       "      <td>133.000000</td>\n",
       "      <td>1.000000</td>\n",
       "      <td>20.000000</td>\n",
       "    </tr>\n",
       "    <tr>\n",
       "      <th>min</th>\n",
       "      <td>-4.826866</td>\n",
       "      <td>-3.335768</td>\n",
       "      <td>-3.417863</td>\n",
       "      <td>1.279273</td>\n",
       "      <td>-4.444037</td>\n",
       "    </tr>\n",
       "    <tr>\n",
       "      <th>max</th>\n",
       "      <td>4.589431</td>\n",
       "      <td>8.522967</td>\n",
       "      <td>440.829791</td>\n",
       "      <td>1.279273</td>\n",
       "      <td>3.489567</td>\n",
       "    </tr>\n",
       "    <tr>\n",
       "      <th>mean</th>\n",
       "      <td>1.288131</td>\n",
       "      <td>1.638456</td>\n",
       "      <td>7.968013</td>\n",
       "      <td>1.279273</td>\n",
       "      <td>1.619152</td>\n",
       "    </tr>\n",
       "  </tbody>\n",
       "</table>\n",
       "</div>"
      ],
      "text/plain": [
       "               0          1           2         3          4\n",
       "count  14.000000  37.000000  133.000000  1.000000  20.000000\n",
       "min    -4.826866  -3.335768   -3.417863  1.279273  -4.444037\n",
       "max     4.589431   8.522967  440.829791  1.279273   3.489567\n",
       "mean    1.288131   1.638456    7.968013  1.279273   1.619152"
      ]
     },
     "execution_count": 261,
     "metadata": {},
     "output_type": "execute_result"
    }
   ],
   "source": [
    "aggrigate = {i: [\"count\", \"min\", \"max\", \"mean\"] for i in range(number_of_cluster)}\n",
    "df_vals_inflation_inflation_2019.agg(aggrigate)"
   ]
  },
  {
   "cell_type": "code",
   "execution_count": 262,
   "id": "fc50e40b-b87e-4cc9-8553-25ac80518bd9",
   "metadata": {},
   "outputs": [
    {
     "data": {
      "text/html": [
       "<div>\n",
       "<style scoped>\n",
       "    .dataframe tbody tr th:only-of-type {\n",
       "        vertical-align: middle;\n",
       "    }\n",
       "\n",
       "    .dataframe tbody tr th {\n",
       "        vertical-align: top;\n",
       "    }\n",
       "\n",
       "    .dataframe thead th {\n",
       "        text-align: right;\n",
       "    }\n",
       "</style>\n",
       "<table border=\"1\" class=\"dataframe\">\n",
       "  <thead>\n",
       "    <tr style=\"text-align: right;\">\n",
       "      <th></th>\n",
       "      <th>0</th>\n",
       "      <th>1</th>\n",
       "      <th>2</th>\n",
       "      <th>3</th>\n",
       "      <th>4</th>\n",
       "    </tr>\n",
       "  </thead>\n",
       "  <tbody>\n",
       "    <tr>\n",
       "      <th>count</th>\n",
       "      <td>30.000000</td>\n",
       "      <td>52.000000</td>\n",
       "      <td>7.000000</td>\n",
       "      <td>116.000000</td>\n",
       "      <td>1.000000</td>\n",
       "    </tr>\n",
       "    <tr>\n",
       "      <th>min</th>\n",
       "      <td>-2.821321</td>\n",
       "      <td>-21.808511</td>\n",
       "      <td>-0.023308</td>\n",
       "      <td>-4.141367</td>\n",
       "      <td>0.780385</td>\n",
       "    </tr>\n",
       "    <tr>\n",
       "      <th>max</th>\n",
       "      <td>4.227317</td>\n",
       "      <td>35.502675</td>\n",
       "      <td>7.732683</td>\n",
       "      <td>54.012912</td>\n",
       "      <td>0.780385</td>\n",
       "    </tr>\n",
       "    <tr>\n",
       "      <th>mean</th>\n",
       "      <td>0.987351</td>\n",
       "      <td>2.635390</td>\n",
       "      <td>2.357308</td>\n",
       "      <td>5.552653</td>\n",
       "      <td>0.780385</td>\n",
       "    </tr>\n",
       "  </tbody>\n",
       "</table>\n",
       "</div>"
      ],
      "text/plain": [
       "               0          1         2           3         4\n",
       "count  30.000000  52.000000  7.000000  116.000000  1.000000\n",
       "min    -2.821321 -21.808511 -0.023308   -4.141367  0.780385\n",
       "max     4.227317  35.502675  7.732683   54.012912  0.780385\n",
       "mean    0.987351   2.635390  2.357308    5.552653  0.780385"
      ]
     },
     "execution_count": 262,
     "metadata": {},
     "output_type": "execute_result"
    }
   ],
   "source": [
    "aggrigate = {i: [\"count\", \"min\", \"max\", \"mean\"] for i in range(number_of_cluster)}\n",
    "df_vals_inflation_inflation_2013.agg(aggrigate)"
   ]
  },
  {
   "cell_type": "markdown",
   "id": "14aa461e-c3e4-43b4-9c7f-a4a30550ee8a",
   "metadata": {},
   "source": [
    "Страны, оставшиеся в кластере \"низкие\""
   ]
  },
  {
   "cell_type": "code",
   "execution_count": 263,
   "id": "8ed8fba4-e72d-46d8-8048-5b01f23d2005",
   "metadata": {
    "tags": []
   },
   "outputs": [
    {
     "data": {
      "text/plain": [
       "['North America',\n",
       " 'Cayman Islands',\n",
       " 'Denmark',\n",
       " 'Ireland',\n",
       " 'United States',\n",
       " 'Singapore',\n",
       " 'Iceland',\n",
       " None]"
      ]
     },
     "execution_count": 263,
     "metadata": {},
     "output_type": "execute_result"
    }
   ],
   "source": [
    "list(set(df_names_inflation_2013[0]) & set(df_names_gdp_capita_inflation_2019[0]))"
   ]
  },
  {
   "cell_type": "markdown",
   "id": "1693a241-c696-47e6-9f81-5d1c03c21e25",
   "metadata": {},
   "source": [
    "Перешли в класс с очень высокими темпами роста"
   ]
  },
  {
   "cell_type": "code",
   "execution_count": 264,
   "id": "4c2705c5-9537-4f09-8a63-bffcf6cbda6b",
   "metadata": {
    "tags": []
   },
   "outputs": [
    {
     "data": {
      "text/plain": [
       "[]"
      ]
     },
     "execution_count": 264,
     "metadata": {},
     "output_type": "execute_result"
    }
   ],
   "source": [
    "list(set(df_names_inflation_2013[0]) & set(df_names_gdp_capita_inflation_2019[2]))"
   ]
  },
  {
   "cell_type": "markdown",
   "id": "2764ea56-7106-41f2-9bc1-677ea582a50c",
   "metadata": {},
   "source": [
    "Перешли в класс с высокими темпами роста"
   ]
  },
  {
   "cell_type": "code",
   "execution_count": 265,
   "id": "77b80ba4-a12c-4145-acb8-457d973ad72f",
   "metadata": {
    "tags": []
   },
   "outputs": [
    {
     "data": {
      "text/plain": [
       "['Kuwait', 'Italy', None, 'Brunei Darussalam']"
      ]
     },
     "execution_count": 265,
     "metadata": {},
     "output_type": "execute_result"
    }
   ],
   "source": [
    "list(set(df_names_inflation_2013[0]) & set(df_names_gdp_capita_inflation_2019[1]))"
   ]
  },
  {
   "cell_type": "markdown",
   "id": "bc5aec31-bd9d-4bb0-a412-ea25cae0ef8e",
   "metadata": {},
   "source": [
    "Перешли в класс со средними темпами роста"
   ]
  },
  {
   "cell_type": "code",
   "execution_count": 266,
   "id": "1786871c-4409-48b0-b345-408194c91655",
   "metadata": {
    "tags": []
   },
   "outputs": [
    {
     "data": {
      "text/plain": [
       "['France',\n",
       " 'Hong Kong SAR, China',\n",
       " 'United Kingdom',\n",
       " 'Canada',\n",
       " 'Andorra',\n",
       " 'New Zealand',\n",
       " 'Guam',\n",
       " 'Austria',\n",
       " 'Finland',\n",
       " None,\n",
       " 'Japan',\n",
       " 'Virgin Islands (U.S.)',\n",
       " 'Netherlands',\n",
       " 'Australia',\n",
       " 'San Marino',\n",
       " 'Germany',\n",
       " 'Israel',\n",
       " 'Greenland',\n",
       " 'Belgium',\n",
       " 'Sweden',\n",
       " 'United Arab Emirates']"
      ]
     },
     "execution_count": 266,
     "metadata": {},
     "output_type": "execute_result"
    }
   ],
   "source": [
    "list(set(df_names_inflation_2013[0]) & set(df_names_gdp_capita_inflation_2019[4]))"
   ]
  },
  {
   "cell_type": "markdown",
   "id": "6e959c66-4daf-45d6-9201-6709185bbfec",
   "metadata": {},
   "source": [
    "Перешли в класс с очень низкими темпами роста"
   ]
  },
  {
   "cell_type": "code",
   "execution_count": 267,
   "id": "80cca09a-6ce9-4439-8ccf-31ba382e0daa",
   "metadata": {},
   "outputs": [
    {
     "data": {
      "text/plain": [
       "[None]"
      ]
     },
     "execution_count": 267,
     "metadata": {},
     "output_type": "execute_result"
    }
   ],
   "source": [
    "list(set(df_names_inflation_2013[0]) & set(df_names_gdp_capita_inflation_2019[3]))"
   ]
  },
  {
   "cell_type": "markdown",
   "id": "b000e973-32d4-42a4-919e-8cd458250894",
   "metadata": {
    "jp-MarkdownHeadingCollapsed": true,
    "tags": []
   },
   "source": [
    "#### Очень низкие темпы роста в 2013"
   ]
  },
  {
   "cell_type": "code",
   "execution_count": 268,
   "id": "f0e6f5dc-c4f5-43f3-ba04-ce91c7cc613a",
   "metadata": {},
   "outputs": [
    {
     "data": {
      "text/html": [
       "<div>\n",
       "<style scoped>\n",
       "    .dataframe tbody tr th:only-of-type {\n",
       "        vertical-align: middle;\n",
       "    }\n",
       "\n",
       "    .dataframe tbody tr th {\n",
       "        vertical-align: top;\n",
       "    }\n",
       "\n",
       "    .dataframe thead th {\n",
       "        text-align: right;\n",
       "    }\n",
       "</style>\n",
       "<table border=\"1\" class=\"dataframe\">\n",
       "  <thead>\n",
       "    <tr style=\"text-align: right;\">\n",
       "      <th></th>\n",
       "      <th>0</th>\n",
       "      <th>1</th>\n",
       "      <th>2</th>\n",
       "      <th>3</th>\n",
       "      <th>4</th>\n",
       "    </tr>\n",
       "  </thead>\n",
       "  <tbody>\n",
       "    <tr>\n",
       "      <th>count</th>\n",
       "      <td>14.000000</td>\n",
       "      <td>37.000000</td>\n",
       "      <td>133.000000</td>\n",
       "      <td>1.000000</td>\n",
       "      <td>20.000000</td>\n",
       "    </tr>\n",
       "    <tr>\n",
       "      <th>min</th>\n",
       "      <td>-4.826866</td>\n",
       "      <td>-3.335768</td>\n",
       "      <td>-3.417863</td>\n",
       "      <td>1.279273</td>\n",
       "      <td>-4.444037</td>\n",
       "    </tr>\n",
       "    <tr>\n",
       "      <th>max</th>\n",
       "      <td>4.589431</td>\n",
       "      <td>8.522967</td>\n",
       "      <td>440.829791</td>\n",
       "      <td>1.279273</td>\n",
       "      <td>3.489567</td>\n",
       "    </tr>\n",
       "    <tr>\n",
       "      <th>mean</th>\n",
       "      <td>1.288131</td>\n",
       "      <td>1.638456</td>\n",
       "      <td>7.968013</td>\n",
       "      <td>1.279273</td>\n",
       "      <td>1.619152</td>\n",
       "    </tr>\n",
       "  </tbody>\n",
       "</table>\n",
       "</div>"
      ],
      "text/plain": [
       "               0          1           2         3          4\n",
       "count  14.000000  37.000000  133.000000  1.000000  20.000000\n",
       "min    -4.826866  -3.335768   -3.417863  1.279273  -4.444037\n",
       "max     4.589431   8.522967  440.829791  1.279273   3.489567\n",
       "mean    1.288131   1.638456    7.968013  1.279273   1.619152"
      ]
     },
     "execution_count": 268,
     "metadata": {},
     "output_type": "execute_result"
    }
   ],
   "source": [
    "aggrigate = {i: [\"count\", \"min\", \"max\", \"mean\"] for i in range(number_of_cluster)}\n",
    "df_vals_inflation_inflation_2019.agg(aggrigate)"
   ]
  },
  {
   "cell_type": "code",
   "execution_count": 269,
   "id": "53849402-68d0-4385-aa49-c908c23ba257",
   "metadata": {},
   "outputs": [
    {
     "data": {
      "text/html": [
       "<div>\n",
       "<style scoped>\n",
       "    .dataframe tbody tr th:only-of-type {\n",
       "        vertical-align: middle;\n",
       "    }\n",
       "\n",
       "    .dataframe tbody tr th {\n",
       "        vertical-align: top;\n",
       "    }\n",
       "\n",
       "    .dataframe thead th {\n",
       "        text-align: right;\n",
       "    }\n",
       "</style>\n",
       "<table border=\"1\" class=\"dataframe\">\n",
       "  <thead>\n",
       "    <tr style=\"text-align: right;\">\n",
       "      <th></th>\n",
       "      <th>0</th>\n",
       "      <th>1</th>\n",
       "      <th>2</th>\n",
       "      <th>3</th>\n",
       "      <th>4</th>\n",
       "    </tr>\n",
       "  </thead>\n",
       "  <tbody>\n",
       "    <tr>\n",
       "      <th>count</th>\n",
       "      <td>30.000000</td>\n",
       "      <td>52.000000</td>\n",
       "      <td>7.000000</td>\n",
       "      <td>116.000000</td>\n",
       "      <td>1.000000</td>\n",
       "    </tr>\n",
       "    <tr>\n",
       "      <th>min</th>\n",
       "      <td>-2.821321</td>\n",
       "      <td>-21.808511</td>\n",
       "      <td>-0.023308</td>\n",
       "      <td>-4.141367</td>\n",
       "      <td>0.780385</td>\n",
       "    </tr>\n",
       "    <tr>\n",
       "      <th>max</th>\n",
       "      <td>4.227317</td>\n",
       "      <td>35.502675</td>\n",
       "      <td>7.732683</td>\n",
       "      <td>54.012912</td>\n",
       "      <td>0.780385</td>\n",
       "    </tr>\n",
       "    <tr>\n",
       "      <th>mean</th>\n",
       "      <td>0.987351</td>\n",
       "      <td>2.635390</td>\n",
       "      <td>2.357308</td>\n",
       "      <td>5.552653</td>\n",
       "      <td>0.780385</td>\n",
       "    </tr>\n",
       "  </tbody>\n",
       "</table>\n",
       "</div>"
      ],
      "text/plain": [
       "               0          1         2           3         4\n",
       "count  30.000000  52.000000  7.000000  116.000000  1.000000\n",
       "min    -2.821321 -21.808511 -0.023308   -4.141367  0.780385\n",
       "max     4.227317  35.502675  7.732683   54.012912  0.780385\n",
       "mean    0.987351   2.635390  2.357308    5.552653  0.780385"
      ]
     },
     "execution_count": 269,
     "metadata": {},
     "output_type": "execute_result"
    }
   ],
   "source": [
    "aggrigate = {i: [\"count\", \"min\", \"max\", \"mean\"] for i in range(number_of_cluster)}\n",
    "df_vals_inflation_inflation_2013.agg(aggrigate)"
   ]
  },
  {
   "cell_type": "markdown",
   "id": "a31f556b-9dbf-4237-b93e-761d9cc9f399",
   "metadata": {},
   "source": [
    "Страны, оставшиеся в кластере \"очень низкие\""
   ]
  },
  {
   "cell_type": "code",
   "execution_count": 270,
   "id": "bf862282-321d-4a49-a6ee-e8044b08b0f5",
   "metadata": {
    "tags": []
   },
   "outputs": [
    {
     "data": {
      "text/plain": [
       "['Monaco', None]"
      ]
     },
     "execution_count": 270,
     "metadata": {},
     "output_type": "execute_result"
    }
   ],
   "source": [
    "list(set(df_names_inflation_2013[4]) & set(df_names_gdp_capita_inflation_2019[3]))"
   ]
  },
  {
   "cell_type": "markdown",
   "id": "2f271914-cd41-4889-8284-240a883e43bb",
   "metadata": {},
   "source": [
    "Перешли в класс с очень высокими темпами роста"
   ]
  },
  {
   "cell_type": "code",
   "execution_count": 271,
   "id": "67f6fd51-4b03-4ed7-8427-db0ba4ca60b5",
   "metadata": {
    "tags": []
   },
   "outputs": [
    {
     "data": {
      "text/plain": [
       "[]"
      ]
     },
     "execution_count": 271,
     "metadata": {},
     "output_type": "execute_result"
    }
   ],
   "source": [
    "list(set(df_names_inflation_2013[4]) & set(df_names_gdp_capita_inflation_2019[2]))"
   ]
  },
  {
   "cell_type": "markdown",
   "id": "338f47d2-b04d-404e-abb6-cbba4b20634a",
   "metadata": {},
   "source": [
    "Перешли в класс с высокими темпами роста"
   ]
  },
  {
   "cell_type": "code",
   "execution_count": 272,
   "id": "75240b97-db7b-438b-b541-95d4f7b9d533",
   "metadata": {
    "tags": []
   },
   "outputs": [
    {
     "data": {
      "text/plain": [
       "[None]"
      ]
     },
     "execution_count": 272,
     "metadata": {},
     "output_type": "execute_result"
    }
   ],
   "source": [
    "list(set(df_names_inflation_2013[4]) & set(df_names_gdp_capita_inflation_2019[1]))"
   ]
  },
  {
   "cell_type": "markdown",
   "id": "b8f6a153-3e11-4dd5-9180-c1f8efdb431f",
   "metadata": {},
   "source": [
    "Перешли в класс со средними темпами роста"
   ]
  },
  {
   "cell_type": "code",
   "execution_count": 273,
   "id": "11aa34d5-2ca7-4afb-8c23-2d95da35d409",
   "metadata": {
    "tags": []
   },
   "outputs": [
    {
     "data": {
      "text/plain": [
       "[None]"
      ]
     },
     "execution_count": 273,
     "metadata": {},
     "output_type": "execute_result"
    }
   ],
   "source": [
    "list(set(df_names_inflation_2013[4]) & set(df_names_gdp_capita_inflation_2019[4]))"
   ]
  },
  {
   "cell_type": "markdown",
   "id": "8f05f36e-8e57-4093-ad85-a5ab80d2a293",
   "metadata": {},
   "source": [
    "Перешли в класс с низкими темпами роста"
   ]
  },
  {
   "cell_type": "code",
   "execution_count": 274,
   "id": "b697ffe0-9e1c-43a6-806e-562939f93fbd",
   "metadata": {},
   "outputs": [
    {
     "data": {
      "text/plain": [
       "[None]"
      ]
     },
     "execution_count": 274,
     "metadata": {},
     "output_type": "execute_result"
    }
   ],
   "source": [
    "list(set(df_names_inflation_2013[4]) & set(df_names_gdp_capita_inflation_2019[0]))"
   ]
  }
 ],
 "metadata": {
  "kernelspec": {
   "display_name": "Python 3 (ipykernel)",
   "language": "python",
   "name": "python3"
  },
  "language_info": {
   "codemirror_mode": {
    "name": "ipython",
    "version": 3
   },
   "file_extension": ".py",
   "mimetype": "text/x-python",
   "name": "python",
   "nbconvert_exporter": "python",
   "pygments_lexer": "ipython3",
   "version": "3.10.6"
  }
 },
 "nbformat": 4,
 "nbformat_minor": 5
}

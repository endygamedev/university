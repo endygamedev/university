{
 "cells": [
  {
   "cell_type": "markdown",
   "id": "00415d89-cfe0-4852-afdc-887630a4a4bd",
   "metadata": {},
   "source": [
    "## Количественный анализ модели Солоу с человеческим капиталом"
   ]
  },
  {
   "cell_type": "markdown",
   "id": "b4e848a3-54b0-48cd-b182-a06723414edc",
   "metadata": {},
   "source": [
    "### Импорт модулей"
   ]
  },
  {
   "cell_type": "code",
   "execution_count": 1,
   "id": "20fc485a-9f73-4f6e-b35d-e6aad941814f",
   "metadata": {},
   "outputs": [],
   "source": [
    "from typing import Callable, Tuple\n",
    "import numpy as np\n",
    "import matplotlib.pyplot as plt\n",
    "\n",
    "%matplotlib inline"
   ]
  },
  {
   "cell_type": "markdown",
   "id": "88c9c6ae-9943-47c0-a464-c2fd5665fe66",
   "metadata": {},
   "source": [
    "### Метод Рунге-Кутта"
   ]
  },
  {
   "cell_type": "code",
   "execution_count": 2,
   "id": "49f49cbb-6798-4050-994d-024682c30fae",
   "metadata": {},
   "outputs": [],
   "source": [
    "def runge_kutta(fs: Tuple[Callable], n: int, h: float, t: float, x: float, y: float) -> Tuple[float, float, float]:\n",
    "    \"\"\" Численный метод решения систем обыкновенных дифференциальных уравнений методом Рунге-Кутта\n",
    "    \n",
    "        :param fs: кортеж из первого и второго уравнений\n",
    "        :type fs: Tuple[Callable]\n",
    "        :param n: количество итераций (дней)\n",
    "        :type n: int\n",
    "        :param h: шаг\n",
    "        :type h: float\n",
    "        :param t: начальная точка `t`\n",
    "        :type t: float\n",
    "        :param x: начальная точка `x`\n",
    "        :type x: float\n",
    "        :param y: начальная точка `y`\n",
    "        :type y: float\n",
    "        \n",
    "        :return: решение ДУ\n",
    "        :rtype: Tuple[float, float, float]\n",
    "    \"\"\"\n",
    "    def k(k1, k2, k3, k4):\n",
    "            return (k1 + 2 * k2 + 2 * k3 + k4) / 6\n",
    "    for _ in range(n):\n",
    "        k11, k21 = map(lambda f: h * f(t, x, y), fs)\n",
    "        k12, k22 = map(lambda f: h * f(t + h / 2, x + k11 / 2, y + k21 / 2), fs)\n",
    "        k13, k23 = map(lambda f: h * f(t + h / 2, x + k12 / 2, y + k22 / 2), fs)\n",
    "        k14, k24 = map(lambda f: h * f(t + h, x + k13, y + k23), fs)\n",
    "        k1, k2 = k(k11, k12, k13, k14), k(k21, k22, k23, k24)\n",
    "        t, x, y = t + h, x + k1, y + k2\n",
    "    return t, x, y"
   ]
  },
  {
   "cell_type": "code",
   "execution_count": 3,
   "id": "fcc23274-91cc-4b20-993e-008d27528cff",
   "metadata": {},
   "outputs": [],
   "source": [
    "def f(t, k, h, *,\n",
    "      alpha=0.5, beta=0.2, sK=0.6, n=0.3, g=0.2, delta=0.01):\n",
    "    y = (k**alpha) * (h**beta)\n",
    "    return sK * y - (n + g + delta) * k"
   ]
  },
  {
   "cell_type": "code",
   "execution_count": 4,
   "id": "a5adf68a-eed8-4700-97d8-71a732d104d9",
   "metadata": {},
   "outputs": [],
   "source": [
    "def g(t, k, h, *,\n",
    "      alpha=0.5, beta=0.2, sH=0.9, n=0.3, g=0.2, delta=0.01):\n",
    "    y = (k**alpha) * (h**beta)\n",
    "    return sH * y - (n + g + delta) * h"
   ]
  },
  {
   "cell_type": "code",
   "execution_count": 5,
   "id": "f0c29bd8-f5a6-4326-b68d-ef7f8ae132dc",
   "metadata": {},
   "outputs": [
    {
     "data": {
      "text/plain": [
       "(9.999999999999831, 3.0516210529145322, 4.598770192351719)"
      ]
     },
     "execution_count": 5,
     "metadata": {},
     "output_type": "execute_result"
    }
   ],
   "source": [
    "runge_kutta((f, g), 1000, 0.01, 0, 7, 14)"
   ]
  },
  {
   "cell_type": "markdown",
   "id": "4da1d802-d6ef-49a9-ad50-1721f828905d",
   "metadata": {},
   "source": [
    "### График"
   ]
  },
  {
   "cell_type": "code",
   "execution_count": 6,
   "id": "b09fb6c3-c64c-415d-8b69-1904559f009f",
   "metadata": {},
   "outputs": [],
   "source": [
    "time_list = np.linspace(1, 4000, 2000, dtype=int)\n",
    "result_list = np.array([runge_kutta((f, g), time, 0.01, 0, 7, 14) for time in time_list])"
   ]
  },
  {
   "cell_type": "code",
   "execution_count": 7,
   "id": "3a494f4e-84b2-439c-83dd-44b620967c53",
   "metadata": {},
   "outputs": [],
   "source": [
    "x_points = result_list[:, 0]\n",
    "k_points = result_list[:, 1]\n",
    "h_points = result_list[:, 2]"
   ]
  },
  {
   "cell_type": "code",
   "execution_count": 8,
   "id": "41ffbf17-d013-4ebc-8a89-5b847475210d",
   "metadata": {},
   "outputs": [
    {
     "data": {
      "image/png": "[encoded data removed]",
      "text/plain": [
       "<Figure size 432x288 with 1 Axes>"
      ]
     },
     "metadata": {
      "needs_background": "light"
     },
     "output_type": "display_data"
    }
   ],
   "source": [
    "plt.plot(x_points, k_points, c='b', label=\"k\")\n",
    "plt.plot(x_points, h_points, c='r', label=\"h\")\n",
    "plt.legend()\n",
    "plt.show()"
   ]
  }
 ],
 "metadata": {
  "kernelspec": {
   "display_name": "Python 3 (ipykernel)",
   "language": "python",
   "name": "python3"
  },
  "language_info": {
   "codemirror_mode": {
    "name": "ipython",
    "version": 3
   },
   "file_extension": ".py",
   "mimetype": "text/x-python",
   "name": "python",
   "nbconvert_exporter": "python",
   "pygments_lexer": "ipython3",
   "version": "3.10.4"
  }
 },
 "nbformat": 4,
 "nbformat_minor": 5
}

{
 "cells": [
  {
   "cell_type": "code",
   "execution_count": 37,
   "metadata": {
    "_cell_guid": "b1076dfc-b9ad-4769-8c92-a6c4dae69d19",
    "_uuid": "8f2839f25d086af736a60e9eeb907d3b93b6e0e5",
    "execution": {
     "iopub.execute_input": "2022-09-22T12:06:26.457743Z",
     "iopub.status.busy": "2022-09-22T12:06:26.457323Z",
     "iopub.status.idle": "2022-09-22T12:06:36.050729Z",
     "shell.execute_reply": "2022-09-22T12:06:36.049849Z",
     "shell.execute_reply.started": "2022-09-22T12:06:26.457707Z"
    }
   },
   "outputs": [],
   "source": [
    "import zipfile\n",
    "import os\n",
    "\n",
    "base_dir = \"/kaggle/input/cian-datafest-2019/train.zip\"\n",
    "\n",
    "with zipfile.ZipFile(base_dir, 'r') as z:\n",
    "    z.extractall()"
   ]
  },
  {
   "cell_type": "code",
   "execution_count": 3,
   "metadata": {
    "execution": {
     "iopub.execute_input": "2022-09-22T11:50:29.308582Z",
     "iopub.status.busy": "2022-09-22T11:50:29.308167Z",
     "iopub.status.idle": "2022-09-22T11:50:29.328051Z",
     "shell.execute_reply": "2022-09-22T11:50:29.327072Z",
     "shell.execute_reply.started": "2022-09-22T11:50:29.308549Z"
    }
   },
   "outputs": [],
   "source": [
    "import cv2\n",
    "img = cv2.imread(\"./train/indoor/3.jpg\")"
   ]
  },
  {
   "cell_type": "code",
   "execution_count": 26,
   "metadata": {
    "execution": {
     "iopub.execute_input": "2022-09-22T12:00:06.171752Z",
     "iopub.status.busy": "2022-09-22T12:00:06.170686Z",
     "iopub.status.idle": "2022-09-22T12:00:06.175755Z",
     "shell.execute_reply": "2022-09-22T12:00:06.174922Z",
     "shell.execute_reply.started": "2022-09-22T12:00:06.171707Z"
    }
   },
   "outputs": [],
   "source": [
    "height, width, channels = img.shape"
   ]
  },
  {
   "cell_type": "code",
   "execution_count": 35,
   "metadata": {
    "execution": {
     "iopub.execute_input": "2022-09-22T12:05:07.532606Z",
     "iopub.status.busy": "2022-09-22T12:05:07.531676Z",
     "iopub.status.idle": "2022-09-22T12:05:07.537512Z",
     "shell.execute_reply": "2022-09-22T12:05:07.536312Z",
     "shell.execute_reply.started": "2022-09-22T12:05:07.532563Z"
    }
   },
   "outputs": [],
   "source": [
    "import numpy as np\n",
    "import pandas as pd"
   ]
  },
  {
   "cell_type": "markdown",
   "metadata": {},
   "source": [
    "### Mean"
   ]
  },
  {
   "cell_type": "code",
   "execution_count": 141,
   "metadata": {
    "execution": {
     "iopub.execute_input": "2022-09-22T13:17:58.509806Z",
     "iopub.status.busy": "2022-09-22T13:17:58.509339Z",
     "iopub.status.idle": "2022-09-22T13:17:58.517108Z",
     "shell.execute_reply": "2022-09-22T13:17:58.515490Z",
     "shell.execute_reply.started": "2022-09-22T13:17:58.509756Z"
    }
   },
   "outputs": [],
   "source": [
    "def mean(image, *, channels=3):\n",
    "    result = [0 for _ in range(channels)]\n",
    "\n",
    "    for i in range(channels):\n",
    "        result[i] = np.mean(image[:, :, i])\n",
    "    \n",
    "    return result"
   ]
  },
  {
   "cell_type": "code",
   "execution_count": 54,
   "metadata": {
    "execution": {
     "iopub.execute_input": "2022-09-22T12:18:38.687475Z",
     "iopub.status.busy": "2022-09-22T12:18:38.686987Z",
     "iopub.status.idle": "2022-09-22T12:18:38.694748Z",
     "shell.execute_reply": "2022-09-22T12:18:38.693874Z",
     "shell.execute_reply.started": "2022-09-22T12:18:38.687428Z"
    }
   },
   "outputs": [
    {
     "data": {
      "text/plain": [
       "[96.78, 100.79594594594595, 108.32621621621621]"
      ]
     },
     "execution_count": 54,
     "metadata": {},
     "output_type": "execute_result"
    }
   ],
   "source": [
    "mean(img)"
   ]
  },
  {
   "cell_type": "markdown",
   "metadata": {},
   "source": [
    "### Mean square deviation"
   ]
  },
  {
   "cell_type": "code",
   "execution_count": 142,
   "metadata": {
    "execution": {
     "iopub.execute_input": "2022-09-22T13:18:03.929985Z",
     "iopub.status.busy": "2022-09-22T13:18:03.929514Z",
     "iopub.status.idle": "2022-09-22T13:18:03.936001Z",
     "shell.execute_reply": "2022-09-22T13:18:03.934974Z",
     "shell.execute_reply.started": "2022-09-22T13:18:03.929946Z"
    }
   },
   "outputs": [],
   "source": [
    "def std(image, *, channels=3):\n",
    "    res = [0 for _ in range(channels)]\n",
    "\n",
    "    for i in range(channels):\n",
    "        res[i] = np.std(image[:, :, i])\n",
    "\n",
    "    return res"
   ]
  },
  {
   "cell_type": "code",
   "execution_count": 51,
   "metadata": {
    "execution": {
     "iopub.execute_input": "2022-09-22T12:17:59.750124Z",
     "iopub.status.busy": "2022-09-22T12:17:59.748912Z",
     "iopub.status.idle": "2022-09-22T12:17:59.757031Z",
     "shell.execute_reply": "2022-09-22T12:17:59.755940Z",
     "shell.execute_reply.started": "2022-09-22T12:17:59.750064Z"
    }
   },
   "outputs": [
    {
     "data": {
      "text/plain": [
       "[67.73071665336474, 68.09813852118964, 67.6133407934451]"
      ]
     },
     "execution_count": 51,
     "metadata": {},
     "output_type": "execute_result"
    }
   ],
   "source": [
    "std(img)"
   ]
  },
  {
   "cell_type": "markdown",
   "metadata": {},
   "source": [
    "### Median"
   ]
  },
  {
   "cell_type": "code",
   "execution_count": 157,
   "metadata": {
    "execution": {
     "iopub.execute_input": "2022-09-22T13:37:01.470232Z",
     "iopub.status.busy": "2022-09-22T13:37:01.469827Z",
     "iopub.status.idle": "2022-09-22T13:37:01.478363Z",
     "shell.execute_reply": "2022-09-22T13:37:01.476547Z",
     "shell.execute_reply.started": "2022-09-22T13:37:01.470201Z"
    }
   },
   "outputs": [],
   "source": [
    "def median(image, *, channels=3):\n",
    "    res = [0 for _ in range(channels)]\n",
    "\n",
    "    for i in range(channels):\n",
    "        res[i] = np.median(image[:, :, i])\n",
    "\n",
    "    return res"
   ]
  },
  {
   "cell_type": "code",
   "execution_count": 158,
   "metadata": {
    "execution": {
     "iopub.execute_input": "2022-09-22T13:37:06.918948Z",
     "iopub.status.busy": "2022-09-22T13:37:06.918538Z",
     "iopub.status.idle": "2022-09-22T13:37:06.927039Z",
     "shell.execute_reply": "2022-09-22T13:37:06.926167Z",
     "shell.execute_reply.started": "2022-09-22T13:37:06.918913Z"
    }
   },
   "outputs": [
    {
     "data": {
      "text/plain": [
       "[211.0, 209.0, 207.0]"
      ]
     },
     "execution_count": 158,
     "metadata": {},
     "output_type": "execute_result"
    }
   ],
   "source": [
    "median(img)"
   ]
  },
  {
   "cell_type": "markdown",
   "metadata": {},
   "source": [
    "### DataFrame"
   ]
  },
  {
   "cell_type": "code",
   "execution_count": 45,
   "metadata": {
    "execution": {
     "iopub.execute_input": "2022-09-22T12:09:34.491160Z",
     "iopub.status.busy": "2022-09-22T12:09:34.490793Z",
     "iopub.status.idle": "2022-09-22T12:09:34.558394Z",
     "shell.execute_reply": "2022-09-22T12:09:34.557429Z",
     "shell.execute_reply.started": "2022-09-22T12:09:34.491128Z"
    }
   },
   "outputs": [],
   "source": [
    "_, _, files_indoor = next(os.walk(\"./train/indoor\"))\n",
    "_, _, files_outdoor = next(os.walk(\"./train/outdoor\"))\n",
    "files_count = (len(files_indoor), len(files_outdoor))"
   ]
  },
  {
   "cell_type": "code",
   "execution_count": 46,
   "metadata": {
    "execution": {
     "iopub.execute_input": "2022-09-22T12:09:35.371223Z",
     "iopub.status.busy": "2022-09-22T12:09:35.370822Z",
     "iopub.status.idle": "2022-09-22T12:09:35.377532Z",
     "shell.execute_reply": "2022-09-22T12:09:35.376470Z",
     "shell.execute_reply.started": "2022-09-22T12:09:35.371190Z"
    }
   },
   "outputs": [
    {
     "data": {
      "text/plain": [
       "(28106, 27216)"
      ]
     },
     "execution_count": 46,
     "metadata": {},
     "output_type": "execute_result"
    }
   ],
   "source": [
    "files_count"
   ]
  },
  {
   "cell_type": "code",
   "execution_count": 81,
   "metadata": {
    "execution": {
     "iopub.execute_input": "2022-09-22T12:36:37.059051Z",
     "iopub.status.busy": "2022-09-22T12:36:37.058517Z",
     "iopub.status.idle": "2022-09-22T12:36:37.071694Z",
     "shell.execute_reply": "2022-09-22T12:36:37.069952Z",
     "shell.execute_reply.started": "2022-09-22T12:36:37.059007Z"
    }
   },
   "outputs": [],
   "source": [
    "df = pd.DataFrame({'filename': pd.Series(dtype='str'),\n",
    "                   'mean_red': pd.Series(dtype='float'),\n",
    "                   'mean_green': pd.Series(dtype='float'),\n",
    "                   'mean_blue': pd.Series(dtype='float'),\n",
    "                   'std_red': pd.Series(dtype='float'),\n",
    "                   'std_green': pd.Series(dtype='float'),\n",
    "                   'std_blue': pd.Series(dtype='float'),\n",
    "                   'type': pd.Series(dtype='int')})"
   ]
  },
  {
   "cell_type": "code",
   "execution_count": 143,
   "metadata": {
    "execution": {
     "iopub.execute_input": "2022-09-22T13:18:08.969361Z",
     "iopub.status.busy": "2022-09-22T13:18:08.968989Z",
     "iopub.status.idle": "2022-09-22T13:18:08.977507Z",
     "shell.execute_reply": "2022-09-22T13:18:08.976470Z",
     "shell.execute_reply.started": "2022-09-22T13:18:08.969329Z"
    }
   },
   "outputs": [],
   "source": [
    "def append_img_data_to_df(df: pd.DataFrame, type_: str):\n",
    "    directory = os.fsencode(f\"./train/{type_}/\")\n",
    "    d_type_ = 0 if type_ == \"indoor\" else 1\n",
    "\n",
    "    for file in os.listdir(directory):\n",
    "        filename = os.fsdecode(file)\n",
    "        if filename.endswith(\".jpg\"):\n",
    "            img = cv2.imread(f\"./train/{type_}/{filename}\")\n",
    "            mean_img = mean(img)\n",
    "            std_img = std(img)\n",
    "            df = df.append({'filename': filename,\n",
    "                            'mean_red': mean_img[0], 'mean_green': mean_img[1], 'mean_blue': mean_img[2],\n",
    "                            'std_red': std_img[0], 'std_green': std_img[1], 'std_blue': std_img[2],\n",
    "                            'type': d_type_}, ignore_index=True)\n",
    "        else:\n",
    "            continue\n",
    "    return df"
   ]
  },
  {
   "cell_type": "code",
   "execution_count": 144,
   "metadata": {
    "execution": {
     "iopub.execute_input": "2022-09-22T13:18:09.574525Z",
     "iopub.status.busy": "2022-09-22T13:18:09.573862Z",
     "iopub.status.idle": "2022-09-22T13:19:50.957285Z",
     "shell.execute_reply": "2022-09-22T13:19:50.955983Z",
     "shell.execute_reply.started": "2022-09-22T13:18:09.574484Z"
    }
   },
   "outputs": [],
   "source": [
    "df_indoor = append_img_data_to_df(df, \"indoor\")"
   ]
  },
  {
   "cell_type": "code",
   "execution_count": 145,
   "metadata": {
    "execution": {
     "iopub.execute_input": "2022-09-22T13:19:50.960292Z",
     "iopub.status.busy": "2022-09-22T13:19:50.959561Z",
     "iopub.status.idle": "2022-09-22T13:21:28.131678Z",
     "shell.execute_reply": "2022-09-22T13:21:28.130566Z",
     "shell.execute_reply.started": "2022-09-22T13:19:50.960229Z"
    }
   },
   "outputs": [],
   "source": [
    "df_outdoor = append_img_data_to_df(df, \"outdoor\")"
   ]
  },
  {
   "cell_type": "code",
   "execution_count": 146,
   "metadata": {
    "execution": {
     "iopub.execute_input": "2022-09-22T13:21:28.133649Z",
     "iopub.status.busy": "2022-09-22T13:21:28.133209Z",
     "iopub.status.idle": "2022-09-22T13:21:28.142510Z",
     "shell.execute_reply": "2022-09-22T13:21:28.141268Z",
     "shell.execute_reply.started": "2022-09-22T13:21:28.133603Z"
    }
   },
   "outputs": [],
   "source": [
    "df_final = pd.concat([df_indoor, df_outdoor], ignore_index=True)"
   ]
  },
  {
   "cell_type": "code",
   "execution_count": 147,
   "metadata": {
    "execution": {
     "iopub.execute_input": "2022-09-22T13:21:28.145151Z",
     "iopub.status.busy": "2022-09-22T13:21:28.144763Z",
     "iopub.status.idle": "2022-09-22T13:21:28.168912Z",
     "shell.execute_reply": "2022-09-22T13:21:28.167652Z",
     "shell.execute_reply.started": "2022-09-22T13:21:28.145117Z"
    }
   },
   "outputs": [
    {
     "data": {
      "text/html": [
       "<div>\n",
       "<style scoped>\n",
       "    .dataframe tbody tr th:only-of-type {\n",
       "        vertical-align: middle;\n",
       "    }\n",
       "\n",
       "    .dataframe tbody tr th {\n",
       "        vertical-align: top;\n",
       "    }\n",
       "\n",
       "    .dataframe thead th {\n",
       "        text-align: right;\n",
       "    }\n",
       "</style>\n",
       "<table border=\"1\" class=\"dataframe\">\n",
       "  <thead>\n",
       "    <tr style=\"text-align: right;\">\n",
       "      <th></th>\n",
       "      <th>filename</th>\n",
       "      <th>mean_red</th>\n",
       "      <th>mean_green</th>\n",
       "      <th>mean_blue</th>\n",
       "      <th>std_red</th>\n",
       "      <th>std_green</th>\n",
       "      <th>std_blue</th>\n",
       "      <th>type</th>\n",
       "    </tr>\n",
       "  </thead>\n",
       "  <tbody>\n",
       "    <tr>\n",
       "      <th>0</th>\n",
       "      <td>51904.jpg</td>\n",
       "      <td>66.741786</td>\n",
       "      <td>83.814643</td>\n",
       "      <td>109.880179</td>\n",
       "      <td>45.505440</td>\n",
       "      <td>45.752630</td>\n",
       "      <td>51.868199</td>\n",
       "      <td>0</td>\n",
       "    </tr>\n",
       "    <tr>\n",
       "      <th>1</th>\n",
       "      <td>13727.jpg</td>\n",
       "      <td>105.630000</td>\n",
       "      <td>114.147067</td>\n",
       "      <td>131.441867</td>\n",
       "      <td>54.403579</td>\n",
       "      <td>55.406162</td>\n",
       "      <td>50.990754</td>\n",
       "      <td>0</td>\n",
       "    </tr>\n",
       "    <tr>\n",
       "      <th>2</th>\n",
       "      <td>80821.jpg</td>\n",
       "      <td>125.974464</td>\n",
       "      <td>147.038571</td>\n",
       "      <td>164.409107</td>\n",
       "      <td>68.255271</td>\n",
       "      <td>65.312143</td>\n",
       "      <td>59.750361</td>\n",
       "      <td>0</td>\n",
       "    </tr>\n",
       "    <tr>\n",
       "      <th>3</th>\n",
       "      <td>63459.jpg</td>\n",
       "      <td>95.371867</td>\n",
       "      <td>122.251600</td>\n",
       "      <td>145.406400</td>\n",
       "      <td>46.505979</td>\n",
       "      <td>53.537810</td>\n",
       "      <td>54.377938</td>\n",
       "      <td>0</td>\n",
       "    </tr>\n",
       "    <tr>\n",
       "      <th>4</th>\n",
       "      <td>1230.jpg</td>\n",
       "      <td>133.168393</td>\n",
       "      <td>158.979821</td>\n",
       "      <td>179.304643</td>\n",
       "      <td>39.897351</td>\n",
       "      <td>40.628800</td>\n",
       "      <td>42.330406</td>\n",
       "      <td>0</td>\n",
       "    </tr>\n",
       "    <tr>\n",
       "      <th>...</th>\n",
       "      <td>...</td>\n",
       "      <td>...</td>\n",
       "      <td>...</td>\n",
       "      <td>...</td>\n",
       "      <td>...</td>\n",
       "      <td>...</td>\n",
       "      <td>...</td>\n",
       "      <td>...</td>\n",
       "    </tr>\n",
       "    <tr>\n",
       "      <th>55317</th>\n",
       "      <td>41449.jpg</td>\n",
       "      <td>73.577162</td>\n",
       "      <td>85.392568</td>\n",
       "      <td>98.067162</td>\n",
       "      <td>62.009720</td>\n",
       "      <td>51.436385</td>\n",
       "      <td>41.907739</td>\n",
       "      <td>1</td>\n",
       "    </tr>\n",
       "    <tr>\n",
       "      <th>55318</th>\n",
       "      <td>20125.jpg</td>\n",
       "      <td>72.160533</td>\n",
       "      <td>89.904400</td>\n",
       "      <td>81.934533</td>\n",
       "      <td>63.433952</td>\n",
       "      <td>59.002574</td>\n",
       "      <td>62.178016</td>\n",
       "      <td>1</td>\n",
       "    </tr>\n",
       "    <tr>\n",
       "      <th>55319</th>\n",
       "      <td>75459.jpg</td>\n",
       "      <td>114.858571</td>\n",
       "      <td>122.889643</td>\n",
       "      <td>123.809643</td>\n",
       "      <td>57.076221</td>\n",
       "      <td>55.114630</td>\n",
       "      <td>54.849259</td>\n",
       "      <td>1</td>\n",
       "    </tr>\n",
       "    <tr>\n",
       "      <th>55320</th>\n",
       "      <td>46531.jpg</td>\n",
       "      <td>77.625323</td>\n",
       "      <td>115.280000</td>\n",
       "      <td>99.340161</td>\n",
       "      <td>39.399305</td>\n",
       "      <td>39.601495</td>\n",
       "      <td>36.371833</td>\n",
       "      <td>1</td>\n",
       "    </tr>\n",
       "    <tr>\n",
       "      <th>55321</th>\n",
       "      <td>75189.jpg</td>\n",
       "      <td>147.620933</td>\n",
       "      <td>152.144133</td>\n",
       "      <td>142.374933</td>\n",
       "      <td>72.628675</td>\n",
       "      <td>67.670438</td>\n",
       "      <td>70.801800</td>\n",
       "      <td>1</td>\n",
       "    </tr>\n",
       "  </tbody>\n",
       "</table>\n",
       "<p>55322 rows × 8 columns</p>\n",
       "</div>"
      ],
      "text/plain": [
       "        filename    mean_red  mean_green   mean_blue    std_red  std_green  \\\n",
       "0      51904.jpg   66.741786   83.814643  109.880179  45.505440  45.752630   \n",
       "1      13727.jpg  105.630000  114.147067  131.441867  54.403579  55.406162   \n",
       "2      80821.jpg  125.974464  147.038571  164.409107  68.255271  65.312143   \n",
       "3      63459.jpg   95.371867  122.251600  145.406400  46.505979  53.537810   \n",
       "4       1230.jpg  133.168393  158.979821  179.304643  39.897351  40.628800   \n",
       "...          ...         ...         ...         ...        ...        ...   \n",
       "55317  41449.jpg   73.577162   85.392568   98.067162  62.009720  51.436385   \n",
       "55318  20125.jpg   72.160533   89.904400   81.934533  63.433952  59.002574   \n",
       "55319  75459.jpg  114.858571  122.889643  123.809643  57.076221  55.114630   \n",
       "55320  46531.jpg   77.625323  115.280000   99.340161  39.399305  39.601495   \n",
       "55321  75189.jpg  147.620933  152.144133  142.374933  72.628675  67.670438   \n",
       "\n",
       "        std_blue  type  \n",
       "0      51.868199     0  \n",
       "1      50.990754     0  \n",
       "2      59.750361     0  \n",
       "3      54.377938     0  \n",
       "4      42.330406     0  \n",
       "...          ...   ...  \n",
       "55317  41.907739     1  \n",
       "55318  62.178016     1  \n",
       "55319  54.849259     1  \n",
       "55320  36.371833     1  \n",
       "55321  70.801800     1  \n",
       "\n",
       "[55322 rows x 8 columns]"
      ]
     },
     "execution_count": 147,
     "metadata": {},
     "output_type": "execute_result"
    }
   ],
   "source": [
    "df_final"
   ]
  },
  {
   "cell_type": "code",
   "execution_count": 148,
   "metadata": {
    "execution": {
     "iopub.execute_input": "2022-09-22T13:21:51.620219Z",
     "iopub.status.busy": "2022-09-22T13:21:51.619694Z",
     "iopub.status.idle": "2022-09-22T13:21:51.641209Z",
     "shell.execute_reply": "2022-09-22T13:21:51.639803Z",
     "shell.execute_reply.started": "2022-09-22T13:21:51.620176Z"
    }
   },
   "outputs": [
    {
     "data": {
      "text/html": [
       "<div>\n",
       "<style scoped>\n",
       "    .dataframe tbody tr th:only-of-type {\n",
       "        vertical-align: middle;\n",
       "    }\n",
       "\n",
       "    .dataframe tbody tr th {\n",
       "        vertical-align: top;\n",
       "    }\n",
       "\n",
       "    .dataframe thead th {\n",
       "        text-align: right;\n",
       "    }\n",
       "</style>\n",
       "<table border=\"1\" class=\"dataframe\">\n",
       "  <thead>\n",
       "    <tr style=\"text-align: right;\">\n",
       "      <th></th>\n",
       "      <th>mean_red</th>\n",
       "      <th>mean_green</th>\n",
       "      <th>mean_blue</th>\n",
       "      <th>std_red</th>\n",
       "      <th>std_green</th>\n",
       "      <th>std_blue</th>\n",
       "    </tr>\n",
       "  </thead>\n",
       "  <tbody>\n",
       "    <tr>\n",
       "      <th>0</th>\n",
       "      <td>66.741786</td>\n",
       "      <td>83.814643</td>\n",
       "      <td>109.880179</td>\n",
       "      <td>45.505440</td>\n",
       "      <td>45.752630</td>\n",
       "      <td>51.868199</td>\n",
       "    </tr>\n",
       "    <tr>\n",
       "      <th>1</th>\n",
       "      <td>105.630000</td>\n",
       "      <td>114.147067</td>\n",
       "      <td>131.441867</td>\n",
       "      <td>54.403579</td>\n",
       "      <td>55.406162</td>\n",
       "      <td>50.990754</td>\n",
       "    </tr>\n",
       "    <tr>\n",
       "      <th>2</th>\n",
       "      <td>125.974464</td>\n",
       "      <td>147.038571</td>\n",
       "      <td>164.409107</td>\n",
       "      <td>68.255271</td>\n",
       "      <td>65.312143</td>\n",
       "      <td>59.750361</td>\n",
       "    </tr>\n",
       "    <tr>\n",
       "      <th>3</th>\n",
       "      <td>95.371867</td>\n",
       "      <td>122.251600</td>\n",
       "      <td>145.406400</td>\n",
       "      <td>46.505979</td>\n",
       "      <td>53.537810</td>\n",
       "      <td>54.377938</td>\n",
       "    </tr>\n",
       "    <tr>\n",
       "      <th>4</th>\n",
       "      <td>133.168393</td>\n",
       "      <td>158.979821</td>\n",
       "      <td>179.304643</td>\n",
       "      <td>39.897351</td>\n",
       "      <td>40.628800</td>\n",
       "      <td>42.330406</td>\n",
       "    </tr>\n",
       "    <tr>\n",
       "      <th>...</th>\n",
       "      <td>...</td>\n",
       "      <td>...</td>\n",
       "      <td>...</td>\n",
       "      <td>...</td>\n",
       "      <td>...</td>\n",
       "      <td>...</td>\n",
       "    </tr>\n",
       "    <tr>\n",
       "      <th>55317</th>\n",
       "      <td>73.577162</td>\n",
       "      <td>85.392568</td>\n",
       "      <td>98.067162</td>\n",
       "      <td>62.009720</td>\n",
       "      <td>51.436385</td>\n",
       "      <td>41.907739</td>\n",
       "    </tr>\n",
       "    <tr>\n",
       "      <th>55318</th>\n",
       "      <td>72.160533</td>\n",
       "      <td>89.904400</td>\n",
       "      <td>81.934533</td>\n",
       "      <td>63.433952</td>\n",
       "      <td>59.002574</td>\n",
       "      <td>62.178016</td>\n",
       "    </tr>\n",
       "    <tr>\n",
       "      <th>55319</th>\n",
       "      <td>114.858571</td>\n",
       "      <td>122.889643</td>\n",
       "      <td>123.809643</td>\n",
       "      <td>57.076221</td>\n",
       "      <td>55.114630</td>\n",
       "      <td>54.849259</td>\n",
       "    </tr>\n",
       "    <tr>\n",
       "      <th>55320</th>\n",
       "      <td>77.625323</td>\n",
       "      <td>115.280000</td>\n",
       "      <td>99.340161</td>\n",
       "      <td>39.399305</td>\n",
       "      <td>39.601495</td>\n",
       "      <td>36.371833</td>\n",
       "    </tr>\n",
       "    <tr>\n",
       "      <th>55321</th>\n",
       "      <td>147.620933</td>\n",
       "      <td>152.144133</td>\n",
       "      <td>142.374933</td>\n",
       "      <td>72.628675</td>\n",
       "      <td>67.670438</td>\n",
       "      <td>70.801800</td>\n",
       "    </tr>\n",
       "  </tbody>\n",
       "</table>\n",
       "<p>55322 rows × 6 columns</p>\n",
       "</div>"
      ],
      "text/plain": [
       "         mean_red  mean_green   mean_blue    std_red  std_green   std_blue\n",
       "0       66.741786   83.814643  109.880179  45.505440  45.752630  51.868199\n",
       "1      105.630000  114.147067  131.441867  54.403579  55.406162  50.990754\n",
       "2      125.974464  147.038571  164.409107  68.255271  65.312143  59.750361\n",
       "3       95.371867  122.251600  145.406400  46.505979  53.537810  54.377938\n",
       "4      133.168393  158.979821  179.304643  39.897351  40.628800  42.330406\n",
       "...           ...         ...         ...        ...        ...        ...\n",
       "55317   73.577162   85.392568   98.067162  62.009720  51.436385  41.907739\n",
       "55318   72.160533   89.904400   81.934533  63.433952  59.002574  62.178016\n",
       "55319  114.858571  122.889643  123.809643  57.076221  55.114630  54.849259\n",
       "55320   77.625323  115.280000   99.340161  39.399305  39.601495  36.371833\n",
       "55321  147.620933  152.144133  142.374933  72.628675  67.670438  70.801800\n",
       "\n",
       "[55322 rows x 6 columns]"
      ]
     },
     "execution_count": 148,
     "metadata": {},
     "output_type": "execute_result"
    }
   ],
   "source": [
    "df_final.loc[:, 'mean_red':'std_blue']"
   ]
  },
  {
   "cell_type": "markdown",
   "metadata": {},
   "source": [
    "### Classification"
   ]
  },
  {
   "cell_type": "code",
   "execution_count": 152,
   "metadata": {
    "execution": {
     "iopub.execute_input": "2022-09-22T13:22:01.539477Z",
     "iopub.status.busy": "2022-09-22T13:22:01.539042Z",
     "iopub.status.idle": "2022-09-22T13:22:01.544835Z",
     "shell.execute_reply": "2022-09-22T13:22:01.543753Z",
     "shell.execute_reply.started": "2022-09-22T13:22:01.539432Z"
    }
   },
   "outputs": [],
   "source": [
    "from sklearn.linear_model import LogisticRegression\n",
    "from sklearn.model_selection import KFold, cross_val_score"
   ]
  },
  {
   "cell_type": "code",
   "execution_count": 153,
   "metadata": {
    "execution": {
     "iopub.execute_input": "2022-09-22T13:22:01.850546Z",
     "iopub.status.busy": "2022-09-22T13:22:01.849868Z",
     "iopub.status.idle": "2022-09-22T13:22:01.860700Z",
     "shell.execute_reply": "2022-09-22T13:22:01.859339Z",
     "shell.execute_reply.started": "2022-09-22T13:22:01.850503Z"
    }
   },
   "outputs": [],
   "source": [
    "X = df_final.loc[:, \"mean_red\":\"std_blue\"]\n",
    "y = df_final.loc[:, \"type\"]"
   ]
  },
  {
   "cell_type": "code",
   "execution_count": 154,
   "metadata": {
    "execution": {
     "iopub.execute_input": "2022-09-22T13:22:02.147903Z",
     "iopub.status.busy": "2022-09-22T13:22:02.147196Z",
     "iopub.status.idle": "2022-09-22T13:22:02.153116Z",
     "shell.execute_reply": "2022-09-22T13:22:02.151935Z",
     "shell.execute_reply.started": "2022-09-22T13:22:02.147862Z"
    }
   },
   "outputs": [],
   "source": [
    "kf = KFold(n_splits=5, shuffle=True, random_state=42)"
   ]
  },
  {
   "cell_type": "code",
   "execution_count": 155,
   "metadata": {
    "execution": {
     "iopub.execute_input": "2022-09-22T13:22:02.400036Z",
     "iopub.status.busy": "2022-09-22T13:22:02.399340Z",
     "iopub.status.idle": "2022-09-22T13:22:02.751844Z",
     "shell.execute_reply": "2022-09-22T13:22:02.750382Z",
     "shell.execute_reply.started": "2022-09-22T13:22:02.399996Z"
    }
   },
   "outputs": [],
   "source": [
    "reg = LogisticRegression(random_state=42).fit(X, y)"
   ]
  },
  {
   "cell_type": "code",
   "execution_count": 156,
   "metadata": {
    "execution": {
     "iopub.execute_input": "2022-09-22T13:22:02.755363Z",
     "iopub.status.busy": "2022-09-22T13:22:02.754500Z",
     "iopub.status.idle": "2022-09-22T13:22:04.367080Z",
     "shell.execute_reply": "2022-09-22T13:22:04.365843Z",
     "shell.execute_reply.started": "2022-09-22T13:22:02.755304Z"
    }
   },
   "outputs": [
    {
     "data": {
      "text/plain": [
       "array([0.80153638, 0.79692725, 0.79238973, 0.80133767, 0.79663774])"
      ]
     },
     "execution_count": 156,
     "metadata": {},
     "output_type": "execute_result"
    }
   ],
   "source": [
    "cross_val_score(reg, X, y, cv=kf, scoring=\"accuracy\")"
   ]
  },
  {
   "cell_type": "markdown",
   "metadata": {},
   "source": [
    "### With Median"
   ]
  },
  {
   "cell_type": "code",
   "execution_count": 159,
   "metadata": {
    "execution": {
     "iopub.execute_input": "2022-09-22T13:38:33.597661Z",
     "iopub.status.busy": "2022-09-22T13:38:33.597218Z",
     "iopub.status.idle": "2022-09-22T13:38:33.612943Z",
     "shell.execute_reply": "2022-09-22T13:38:33.612000Z",
     "shell.execute_reply.started": "2022-09-22T13:38:33.597624Z"
    }
   },
   "outputs": [],
   "source": [
    "df_median = pd.DataFrame({'filename': pd.Series(dtype='str'),\n",
    "                          'mean_red': pd.Series(dtype='float'),\n",
    "                          'mean_green': pd.Series(dtype='float'),\n",
    "                          'mean_blue': pd.Series(dtype='float'),\n",
    "                          'std_red': pd.Series(dtype='float'),\n",
    "                          'std_green': pd.Series(dtype='float'),\n",
    "                          'std_blue': pd.Series(dtype='float'),\n",
    "                          'median_red': pd.Series(dtype='float'),\n",
    "                          'median_green': pd.Series(dtype='float'),\n",
    "                          'median_blue': pd.Series(dtype='float'),\n",
    "                          'type': pd.Series(dtype='int')})"
   ]
  },
  {
   "cell_type": "code",
   "execution_count": 160,
   "metadata": {
    "execution": {
     "iopub.execute_input": "2022-09-22T13:39:58.480325Z",
     "iopub.status.busy": "2022-09-22T13:39:58.479115Z",
     "iopub.status.idle": "2022-09-22T13:39:58.489453Z",
     "shell.execute_reply": "2022-09-22T13:39:58.488175Z",
     "shell.execute_reply.started": "2022-09-22T13:39:58.480275Z"
    }
   },
   "outputs": [],
   "source": [
    "def append_img_data_to_df_median(df: pd.DataFrame, type_: str):\n",
    "    directory = os.fsencode(f\"./train/{type_}/\")\n",
    "    d_type_ = 0 if type_ == \"indoor\" else 1\n",
    "\n",
    "    for file in os.listdir(directory):\n",
    "        filename = os.fsdecode(file)\n",
    "        if filename.endswith(\".jpg\"):\n",
    "            img = cv2.imread(f\"./train/{type_}/{filename}\")\n",
    "            mean_img = mean(img)\n",
    "            std_img = std(img)\n",
    "            median_img = median(img)\n",
    "            df = df.append({'filename': filename,\n",
    "                            'mean_red': mean_img[0], 'mean_green': mean_img[1], 'mean_blue': mean_img[2],\n",
    "                            'std_red': std_img[0], 'std_green': std_img[1], 'std_blue': std_img[2],\n",
    "                            'median_red': median_img[0], 'median_green': median_img[1], 'median_blue': median_img[2],\n",
    "                            'type': d_type_}, ignore_index=True)\n",
    "        else:\n",
    "            continue\n",
    "    return df"
   ]
  },
  {
   "cell_type": "code",
   "execution_count": 162,
   "metadata": {
    "execution": {
     "iopub.execute_input": "2022-09-22T13:40:21.719703Z",
     "iopub.status.busy": "2022-09-22T13:40:21.719253Z",
     "iopub.status.idle": "2022-09-22T13:42:24.816396Z",
     "shell.execute_reply": "2022-09-22T13:42:24.815234Z",
     "shell.execute_reply.started": "2022-09-22T13:40:21.719667Z"
    }
   },
   "outputs": [],
   "source": [
    "df_median_indoor = append_img_data_to_df_median(df_median, \"indoor\")"
   ]
  },
  {
   "cell_type": "code",
   "execution_count": 163,
   "metadata": {
    "execution": {
     "iopub.execute_input": "2022-09-22T13:42:24.819071Z",
     "iopub.status.busy": "2022-09-22T13:42:24.818353Z",
     "iopub.status.idle": "2022-09-22T13:44:24.521595Z",
     "shell.execute_reply": "2022-09-22T13:44:24.520730Z",
     "shell.execute_reply.started": "2022-09-22T13:42:24.819023Z"
    }
   },
   "outputs": [],
   "source": [
    "df_median_outdoor = append_img_data_to_df_median(df_median, \"outdoor\")"
   ]
  },
  {
   "cell_type": "code",
   "execution_count": 165,
   "metadata": {
    "execution": {
     "iopub.execute_input": "2022-09-22T13:44:27.978951Z",
     "iopub.status.busy": "2022-09-22T13:44:27.978400Z",
     "iopub.status.idle": "2022-09-22T13:44:27.987538Z",
     "shell.execute_reply": "2022-09-22T13:44:27.986271Z",
     "shell.execute_reply.started": "2022-09-22T13:44:27.978913Z"
    }
   },
   "outputs": [],
   "source": [
    "df_median_final = pd.concat([df_median_indoor, df_median_outdoor], ignore_index=True)"
   ]
  },
  {
   "cell_type": "code",
   "execution_count": 166,
   "metadata": {
    "execution": {
     "iopub.execute_input": "2022-09-22T13:44:35.169923Z",
     "iopub.status.busy": "2022-09-22T13:44:35.168765Z",
     "iopub.status.idle": "2022-09-22T13:44:35.177219Z",
     "shell.execute_reply": "2022-09-22T13:44:35.176040Z",
     "shell.execute_reply.started": "2022-09-22T13:44:35.169879Z"
    }
   },
   "outputs": [],
   "source": [
    "X = df_median_final.loc[:, \"mean_red\":\"median_blue\"]\n",
    "y = df_median_final.loc[:, \"type\"]"
   ]
  },
  {
   "cell_type": "code",
   "execution_count": 173,
   "metadata": {
    "execution": {
     "iopub.execute_input": "2022-09-22T13:45:18.629815Z",
     "iopub.status.busy": "2022-09-22T13:45:18.629349Z",
     "iopub.status.idle": "2022-09-22T13:45:18.635476Z",
     "shell.execute_reply": "2022-09-22T13:45:18.634338Z",
     "shell.execute_reply.started": "2022-09-22T13:45:18.629764Z"
    }
   },
   "outputs": [],
   "source": [
    "kf = KFold(n_splits=5, shuffle=True, random_state=42)"
   ]
  },
  {
   "cell_type": "code",
   "execution_count": 174,
   "metadata": {
    "execution": {
     "iopub.execute_input": "2022-09-22T13:45:18.997119Z",
     "iopub.status.busy": "2022-09-22T13:45:18.996688Z",
     "iopub.status.idle": "2022-09-22T13:45:19.642775Z",
     "shell.execute_reply": "2022-09-22T13:45:19.641542Z",
     "shell.execute_reply.started": "2022-09-22T13:45:18.997083Z"
    }
   },
   "outputs": [
    {
     "name": "stderr",
     "output_type": "stream",
     "text": [
      "/opt/conda/lib/python3.7/site-packages/sklearn/linear_model/_logistic.py:818: ConvergenceWarning: lbfgs failed to converge (status=1):\n",
      "STOP: TOTAL NO. of ITERATIONS REACHED LIMIT.\n",
      "\n",
      "Increase the number of iterations (max_iter) or scale the data as shown in:\n",
      "    https://scikit-learn.org/stable/modules/preprocessing.html\n",
      "Please also refer to the documentation for alternative solver options:\n",
      "    https://scikit-learn.org/stable/modules/linear_model.html#logistic-regression\n",
      "  extra_warning_msg=_LOGISTIC_SOLVER_CONVERGENCE_MSG,\n"
     ]
    }
   ],
   "source": [
    "reg = LogisticRegression(random_state=42).fit(X, y)"
   ]
  },
  {
   "cell_type": "code",
   "execution_count": 175,
   "metadata": {
    "execution": {
     "iopub.execute_input": "2022-09-22T13:45:19.646068Z",
     "iopub.status.busy": "2022-09-22T13:45:19.644880Z",
     "iopub.status.idle": "2022-09-22T13:45:22.303506Z",
     "shell.execute_reply": "2022-09-22T13:45:22.302365Z",
     "shell.execute_reply.started": "2022-09-22T13:45:19.646012Z"
    }
   },
   "outputs": [
    {
     "name": "stderr",
     "output_type": "stream",
     "text": [
      "/opt/conda/lib/python3.7/site-packages/sklearn/linear_model/_logistic.py:818: ConvergenceWarning: lbfgs failed to converge (status=1):\n",
      "STOP: TOTAL NO. of ITERATIONS REACHED LIMIT.\n",
      "\n",
      "Increase the number of iterations (max_iter) or scale the data as shown in:\n",
      "    https://scikit-learn.org/stable/modules/preprocessing.html\n",
      "Please also refer to the documentation for alternative solver options:\n",
      "    https://scikit-learn.org/stable/modules/linear_model.html#logistic-regression\n",
      "  extra_warning_msg=_LOGISTIC_SOLVER_CONVERGENCE_MSG,\n",
      "/opt/conda/lib/python3.7/site-packages/sklearn/linear_model/_logistic.py:818: ConvergenceWarning: lbfgs failed to converge (status=1):\n",
      "STOP: TOTAL NO. of ITERATIONS REACHED LIMIT.\n",
      "\n",
      "Increase the number of iterations (max_iter) or scale the data as shown in:\n",
      "    https://scikit-learn.org/stable/modules/preprocessing.html\n",
      "Please also refer to the documentation for alternative solver options:\n",
      "    https://scikit-learn.org/stable/modules/linear_model.html#logistic-regression\n",
      "  extra_warning_msg=_LOGISTIC_SOLVER_CONVERGENCE_MSG,\n",
      "/opt/conda/lib/python3.7/site-packages/sklearn/linear_model/_logistic.py:818: ConvergenceWarning: lbfgs failed to converge (status=1):\n",
      "STOP: TOTAL NO. of ITERATIONS REACHED LIMIT.\n",
      "\n",
      "Increase the number of iterations (max_iter) or scale the data as shown in:\n",
      "    https://scikit-learn.org/stable/modules/preprocessing.html\n",
      "Please also refer to the documentation for alternative solver options:\n",
      "    https://scikit-learn.org/stable/modules/linear_model.html#logistic-regression\n",
      "  extra_warning_msg=_LOGISTIC_SOLVER_CONVERGENCE_MSG,\n",
      "/opt/conda/lib/python3.7/site-packages/sklearn/linear_model/_logistic.py:818: ConvergenceWarning: lbfgs failed to converge (status=1):\n",
      "STOP: TOTAL NO. of ITERATIONS REACHED LIMIT.\n",
      "\n",
      "Increase the number of iterations (max_iter) or scale the data as shown in:\n",
      "    https://scikit-learn.org/stable/modules/preprocessing.html\n",
      "Please also refer to the documentation for alternative solver options:\n",
      "    https://scikit-learn.org/stable/modules/linear_model.html#logistic-regression\n",
      "  extra_warning_msg=_LOGISTIC_SOLVER_CONVERGENCE_MSG,\n",
      "/opt/conda/lib/python3.7/site-packages/sklearn/linear_model/_logistic.py:818: ConvergenceWarning: lbfgs failed to converge (status=1):\n",
      "STOP: TOTAL NO. of ITERATIONS REACHED LIMIT.\n",
      "\n",
      "Increase the number of iterations (max_iter) or scale the data as shown in:\n",
      "    https://scikit-learn.org/stable/modules/preprocessing.html\n",
      "Please also refer to the documentation for alternative solver options:\n",
      "    https://scikit-learn.org/stable/modules/linear_model.html#logistic-regression\n",
      "  extra_warning_msg=_LOGISTIC_SOLVER_CONVERGENCE_MSG,\n"
     ]
    },
    {
     "data": {
      "text/plain": [
       "array([0.80921826, 0.80587438, 0.80097614, 0.80477223, 0.80676067])"
      ]
     },
     "execution_count": 175,
     "metadata": {},
     "output_type": "execute_result"
    }
   ],
   "source": [
    "cross_val_score(reg, X, y, cv=kf, scoring=\"accuracy\")"
   ]
  }
 ],
 "metadata": {
  "kernelspec": {
   "display_name": "Python 3 (ipykernel)",
   "language": "python",
   "name": "python3"
  },
  "language_info": {
   "codemirror_mode": {
    "name": "ipython",
    "version": 3
   },
   "file_extension": ".py",
   "mimetype": "text/x-python",
   "name": "python",
   "nbconvert_exporter": "python",
   "pygments_lexer": "ipython3",
   "version": "3.10.6"
  }
 },
 "nbformat": 4,
 "nbformat_minor": 4
}

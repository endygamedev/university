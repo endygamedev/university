{
 "cells": [
  {
   "cell_type": "markdown",
   "id": "fef44273-a9f7-42ae-bf61-701a077139b5",
   "metadata": {},
   "source": [
    "## Решающее дерево для задачи классификации"
   ]
  },
  {
   "cell_type": "code",
   "execution_count": 1,
   "id": "6301031a-0885-4531-9189-d4bd791592a9",
   "metadata": {},
   "outputs": [],
   "source": [
    "import numpy as np\n",
    "\n",
    "import matplotlib.pyplot as plt\n",
    "%matplotlib inline"
   ]
  },
  {
   "cell_type": "code",
   "execution_count": 2,
   "id": "7d8ffc6d-e77b-4c17-b9dd-0a2bb315827b",
   "metadata": {},
   "outputs": [],
   "source": [
    "np.random.seed(67)\n",
    "points = np.random.uniform(size=(20, 2), low=-1, high=1)\n",
    "positive = points[np.logical_xor(points[:, 0] >= 0, points[:, 1] >= 0)]\n",
    "negative = points[np.logical_xor(points[:, 0] >= 0, points[:, 1] < 0)]\n",
    "train_data = np.vstack([positive, negative])\n",
    "train_labels = np.hstack([np.ones(positive.shape[0]), np.zeros(negative.shape[0])])"
   ]
  },
  {
   "cell_type": "code",
   "execution_count": 3,
   "id": "6de60e07-f884-4e71-b4ad-dcdf2e7cacfe",
   "metadata": {},
   "outputs": [
    {
     "data": {
      "image/png": "[encoded data removed]",
      "text/plain": [
       "<Figure size 640x480 with 1 Axes>"
      ]
     },
     "metadata": {},
     "output_type": "display_data"
    }
   ],
   "source": [
    "plt.scatter(train_data[:, 0], train_data[:, 1], \n",
    "            c=train_labels, s=100, cmap='Set1', edgecolors='black', linewidth=1.5)\n",
    "plt.xlim(-1, 1)\n",
    "plt.ylim(-1.2, 1.2)\n",
    "plt.show()"
   ]
  },
  {
   "cell_type": "code",
   "execution_count": 4,
   "id": "34969c19-61ec-44d7-a8b2-1dff06733a0b",
   "metadata": {},
   "outputs": [],
   "source": [
    "class DecisionTreeClassificator:\n",
    "    def __init__(self, max_depth=3):\n",
    "        self.max_depth = max_depth\n",
    "        self.splits = {}\n",
    "    \n",
    "    @staticmethod\n",
    "    def information_gain(train_data, train_labels, feature_id, condition, criterion='entropy'):\n",
    "        if criterion == 'entropy':\n",
    "            y_L = train_labels[train_data[:, feature_id] < condition]\n",
    "            y_R = train_labels[train_data[:, feature_id] >= condition]\n",
    "            nL = len(y_L[y_L == 1])\n",
    "            NL = len(y_L)\n",
    "            NR = len(y_R)\n",
    "            nR = len(y_R[y_R == 1])\n",
    "            n0 = len(y_L)\n",
    "            n = len(train_labels)\n",
    "            if NL == 0 and NR == 0:\n",
    "                return 1\n",
    "            elif NL == 0:\n",
    "                #S_0 = - n0 / n * np.log2(n0 / n) - (n - n0) / n * np.log2((n - n0) / n)\n",
    "                S_L = 1\n",
    "                if nR / NR == 0 or nR / NR == 1:\n",
    "                    S_R = 0\n",
    "                else:\n",
    "                    S_R = - nR / NR * np.log2(nR / NR) - (NR - nR) / NR * np.log2((NR - nR) / NR)\n",
    "            elif NR == 0:\n",
    "                #S_0 = - n0 / n * np.log2(n0 / n) - (n - n0) / n * np.log2((n - n0) / n)\n",
    "                S_R = 1\n",
    "                if nL / NL == 0 or nL / NL == 1:\n",
    "                    S_L = 0\n",
    "                else:\n",
    "                    S_L = - nL / NL * np.log2(nL / NL) - (NL - nL) / NL * np.log2((NL - nL) / NL)\n",
    "            elif nR / NR == 0 or nR / NR == 1:\n",
    "                S_R = 0\n",
    "                S_L = - nL / NL * np.log2(nL / NL) - (NL - nL) / NL * np.log2((NL - nL) / NL)\n",
    "            elif nL / NL == 0 or nL / NL == 1:\n",
    "                S_L = 0\n",
    "                S_R = - nR / NR * np.log2(nR / NR) - (NR - nR) / NR * np.log2((NR - nR) / NR)\n",
    "            else:\n",
    "                #S_0 = - n0 / n * np.log2(n0 / n) - (n - n0) / n * np.log2((n - n0) / n)\n",
    "                S_L = - nL / NL * np.log2(nL / NL) - (NL - nL) / NL * np.log2((NL - nL) / NL)\n",
    "                S_R = - nR / NR * np.log2(nR / NR) - (NR - nR) / NR * np.log2((NR - nR) / NR)\n",
    "            return - (- n0 / n * S_L - (n - n0) / n * S_R)\n",
    "        else:\n",
    "            y_L = train_labels[train_data[:, feature_id] < condition]\n",
    "            y_R = train_labels[train_data[:, feature_id] >= condition]\n",
    "            nL = len(y_L[y_L == 1])\n",
    "            NL = len(y_L)\n",
    "            NR = len(y_R)\n",
    "            nR = len(y_R[y_R == 1])\n",
    "            n0 = len(y_L)\n",
    "            n = len(train_labels)\n",
    "            if NL == 0 and NR == 0:\n",
    "                return 0\n",
    "            elif NL == 0:\n",
    "                G_L = 1\n",
    "                G_R = 1 - (nR / NR)**2 - ((NR - nR) / NR)**2\n",
    "                return -(- n0 / n * G_L - (n - n0) / n * G_R) * 2\n",
    "            elif NR == 0:\n",
    "                G_L = 1 - (nL / NL)**2 - ((NL - nL) / NL)**2\n",
    "                G_R = 1\n",
    "                return -(- n0 / n * G_L - (n - n0) / n * G_R) * 2\n",
    "            else:\n",
    "                G_L = 1 - (nL / NL)**2 - ((NL - nL) / NL)**2\n",
    "                G_R = 1 - (nR / NR)**2 - ((NR - nR) / NR)**2\n",
    "                return -(- n0 / n * G_L - (n - n0) / n * G_R) * 2\n",
    "        \n",
    "    @staticmethod\n",
    "    def get_conditions(train_data, train_labels):\n",
    "        n = len(train_data[0])\n",
    "        res = {}\n",
    "        for i in range(n):\n",
    "            x = np.argsort(train_data[:,i])\n",
    "            r = []\n",
    "            for j in range(1, len(x)):\n",
    "                if train_labels[x[j - 1]] != train_labels[x[j]]:\n",
    "                    r.append(np.mean([train_data[x[j - 1]][i], train_data[x[j]][i]]))\n",
    "            res[i] = r\n",
    "        return res\n",
    "    \n",
    "    def get_best_predicate(self, X, y):\n",
    "        dict_conditions = self.get_conditions(X, y)\n",
    "\n",
    "        min_information_gain_value = float('inf')\n",
    "        min_condition = float('inf')\n",
    "        min_feature = float('inf')\n",
    "\n",
    "        for feature, conditions in dict_conditions.items():\n",
    "            for condition in conditions:\n",
    "                value = self.information_gain(X, y, feature, condition, criterion=\"gini\")\n",
    "                if min_information_gain_value > value:\n",
    "                    min_information_gain_value = value\n",
    "                    min_condition = condition\n",
    "                    min_feature = feature\n",
    "                # print(f\"{feature} {condition} {value}\")\n",
    "        return (min_feature, min_condition)\n",
    "    \n",
    "    def desicion_tree_step(self, X, y, max_depth, level=0):\n",
    "        if level == max_depth:\n",
    "            return {\"target\": y.mean()}\n",
    "\n",
    "        best_predicate = self.get_best_predicate(X, y)\n",
    "\n",
    "        try:\n",
    "            left_half = X[:, best_predicate[0]] < best_predicate[1]\n",
    "            right_half = X[:, best_predicate[0]] >= best_predicate[1]\n",
    "\n",
    "            X_left, y_left = X[left_half], y[left_half]\n",
    "            X_right, y_right = X[right_half], y[right_half]\n",
    "\n",
    "            return {\n",
    "                \"level\": level,\n",
    "                \"predicate\": best_predicate,\n",
    "                \"target\": y.mean(),\n",
    "                \"left\": self.desicion_tree_step(X_left, y_left, max_depth, level + 1),\n",
    "                \"right\": self.desicion_tree_step(X_right, y_right, max_depth, level + 1),\n",
    "            }\n",
    "        except:\n",
    "            return {\"target\": y.mean()}\n",
    "        \n",
    "    def fit(self, X, y):\n",
    "        self.splits = self.desicion_tree_step(X, y, self.max_depth)\n",
    "    \n",
    "    def predict_proba_step(self, element, split):\n",
    "        if \"predicate\" not in split.keys():\n",
    "            return split[\"target\"]\n",
    "\n",
    "        current_predicate_axis, current_predicate_condition = split[\"predicate\"]\n",
    "        if element[current_predicate_axis] < current_predicate_condition:\n",
    "            return self.predict_proba_step(element, split[\"left\"])\n",
    "        else:\n",
    "            return self.predict_proba_step(element, split[\"right\"])\n",
    "    \n",
    "    def predict_proba(self, X):\n",
    "        if self.splits == {}:\n",
    "            print(\"Error: Need to fit the model\")\n",
    "            return\n",
    "        return np.array([self.predict_proba_step(element, self.splits) for element in X])\n",
    "    \n",
    "    def predict(self, X):\n",
    "        if self.splits == {}:\n",
    "            print(\"Error: Need to fit the model\")\n",
    "            return\n",
    "        return (self.predict_proba(X) > 0.5).astype(int)"
   ]
  },
  {
   "cell_type": "code",
   "execution_count": 5,
   "id": "18c8f358-dcad-4d0b-815b-71e28fbd8feb",
   "metadata": {},
   "outputs": [],
   "source": [
    "dt = DecisionTreeClassificator()"
   ]
  },
  {
   "cell_type": "code",
   "execution_count": 6,
   "id": "5b54aeff-6c68-41d2-8068-774b2a2c3da3",
   "metadata": {},
   "outputs": [],
   "source": [
    "dt.fit(train_data, train_labels)"
   ]
  },
  {
   "cell_type": "code",
   "execution_count": 7,
   "id": "8e1dc46d-4851-459c-b404-d8cea951a592",
   "metadata": {},
   "outputs": [
    {
     "data": {
      "text/plain": [
       "array([0.33333333, 1.        , 1.        , 1.        , 0.33333333,\n",
       "       1.        , 1.        , 1.        , 0.        , 0.        ,\n",
       "       0.        , 0.33333333, 0.        , 0.        , 0.33333333,\n",
       "       0.33333333, 0.        , 0.        , 0.33333333, 0.        ])"
      ]
     },
     "execution_count": 7,
     "metadata": {},
     "output_type": "execute_result"
    }
   ],
   "source": [
    "dt.predict_proba(train_data)"
   ]
  },
  {
   "cell_type": "code",
   "execution_count": 8,
   "id": "35e325f1-f2f5-4f70-9957-ce733f4e9009",
   "metadata": {},
   "outputs": [
    {
     "data": {
      "text/plain": [
       "array([0, 1, 1, 1, 0, 1, 1, 1, 0, 0, 0, 0, 0, 0, 0, 0, 0, 0, 0, 0])"
      ]
     },
     "execution_count": 8,
     "metadata": {},
     "output_type": "execute_result"
    }
   ],
   "source": [
    "dt.predict(train_data)"
   ]
  },
  {
   "cell_type": "markdown",
   "id": "41f58573-b9db-4152-bdc5-a9a4116de58f",
   "metadata": {},
   "source": [
    "## Решающее дерево для задачи регрессии"
   ]
  },
  {
   "cell_type": "code",
   "execution_count": 9,
   "id": "9ad123ad-5f00-4bd3-8f83-ab1906696516",
   "metadata": {},
   "outputs": [],
   "source": [
    "X = np.linspace(-2, 2, 7)\n",
    "y = X ** 3"
   ]
  },
  {
   "cell_type": "code",
   "execution_count": 10,
   "id": "27c95077-f3b1-4980-ba6a-d2d8acafdb84",
   "metadata": {},
   "outputs": [
    {
     "data": {
      "image/png": "[encoded data removed]",
      "text/plain": [
       "<Figure size 640x480 with 1 Axes>"
      ]
     },
     "metadata": {},
     "output_type": "display_data"
    }
   ],
   "source": [
    "plt.scatter(X, y)\n",
    "plt.show()"
   ]
  },
  {
   "cell_type": "code",
   "execution_count": 11,
   "id": "b1b25aa4-5a0d-4f4e-a6c5-d18360506a89",
   "metadata": {},
   "outputs": [],
   "source": [
    "class DecisionTreeRegressor:\n",
    "    def __init__(self, max_depth=3):\n",
    "        self.max_depth = max_depth\n",
    "        self.splits = {}\n",
    "    \n",
    "    @staticmethod\n",
    "    def variance_criterion(y):\n",
    "        return 1/len(y) * sum((yi - 1/len(y) * y.sum()) ** 2 for yi in y)\n",
    "    \n",
    "    def information_gain(self, X, y, condition):\n",
    "        y_U0 = y[X < condition]\n",
    "        y_U1 = y[X >= condition]\n",
    "        NU = len(y)\n",
    "        NU0 = len(y_U0)\n",
    "        NU1 = len(y_U1)\n",
    "        if NU0 == 0 and NU1 == 0:\n",
    "            return 0\n",
    "        elif NU0 == 0:\n",
    "            DU0 = 1\n",
    "            DU1 = self.variance_criterion(y_U1)\n",
    "        elif NU1 == 0:\n",
    "            DU0 = self.variance_criterion(y_U0)\n",
    "            DU1 = 1\n",
    "        else:\n",
    "            DU0 = self.variance_criterion(y_U0)\n",
    "            DU1 = self.variance_criterion(y_U1)\n",
    "        return -(- NU0 / NU * DU0 - NU1 / NU * DU1)\n",
    "    \n",
    "    @staticmethod\n",
    "    def get_conditions(X):\n",
    "        return np.linspace(X.min(), X.max(), 20)\n",
    "    \n",
    "    def get_best_predicate(self, X, y):\n",
    "        conditions = self.get_conditions(X)\n",
    "\n",
    "        min_information_gain_value = float('inf')\n",
    "        min_condition = float('inf')\n",
    "\n",
    "        for condition in conditions:\n",
    "            value = self.information_gain(X, y, condition)\n",
    "            # print(condition, value)\n",
    "            if min_information_gain_value > value:\n",
    "                min_information_gain_value = value\n",
    "                min_condition = condition\n",
    "\n",
    "        return min_condition\n",
    "    \n",
    "    def desicion_tree_step(self, X, y, max_depth, level=0):\n",
    "        if level == max_depth:\n",
    "            return {\"target\": y.mean()}\n",
    "\n",
    "        best_predicate = self.get_best_predicate(X, y)\n",
    "        \n",
    "        if best_predicate == X.min():\n",
    "            return {\"target\": y.mean()}\n",
    "\n",
    "        try:\n",
    "            left_half = X < best_predicate\n",
    "            right_half = X >= best_predicate\n",
    "\n",
    "            X_left, y_left = X[left_half], y[left_half]\n",
    "            X_right, y_right = X[right_half], y[right_half]\n",
    "            \n",
    "            return {\n",
    "                \"level\": level,\n",
    "                \"predicate\": best_predicate,\n",
    "                \"target\": y.mean(),\n",
    "                \"left\": self.desicion_tree_step(X_left, y_left, max_depth, level + 1),\n",
    "                \"right\": self.desicion_tree_step(X_right, y_right, max_depth, level + 1),\n",
    "            }\n",
    "        except:\n",
    "            return {\"target\": y.mean()}\n",
    "    \n",
    "    def fit(self, X, y):\n",
    "        self.splits = self.desicion_tree_step(X, y, self.max_depth)\n",
    "        \n",
    "    def predict_step(self, element, split):\n",
    "        if \"predicate\" not in split.keys():\n",
    "            return split[\"target\"]\n",
    "\n",
    "        current_predicate_condition = split[\"predicate\"]\n",
    "        if element < current_predicate_condition:\n",
    "            return self.predict_step(element, split[\"left\"])\n",
    "        else:\n",
    "            return self.predict_step(element, split[\"right\"])\n",
    "    \n",
    "    def predict(self, X):\n",
    "        if self.splits == {}:\n",
    "            print(\"Error: Need to fit the model\")\n",
    "            return\n",
    "        return np.array([self.predict_step(element, self.splits) for element in X])"
   ]
  },
  {
   "cell_type": "code",
   "execution_count": 12,
   "id": "e91c2e2c-4c8e-410b-9467-76ce9f7cb887",
   "metadata": {},
   "outputs": [],
   "source": [
    "dt = DecisionTreeRegressor()"
   ]
  },
  {
   "cell_type": "code",
   "execution_count": 13,
   "id": "fd81d407-ff4f-457e-9cc4-c7e3cc64b536",
   "metadata": {},
   "outputs": [],
   "source": [
    "dt.fit(X, y)"
   ]
  },
  {
   "cell_type": "code",
   "execution_count": 14,
   "id": "5fd62158-5e5f-444f-9dd1-997e7236a2e8",
   "metadata": {},
   "outputs": [
    {
     "data": {
      "text/plain": [
       "array([-8.00000000e+00, -2.37037037e+00, -9.25185854e-17, -9.25185854e-17,\n",
       "       -9.25185854e-17,  2.37037037e+00,  8.00000000e+00])"
      ]
     },
     "execution_count": 14,
     "metadata": {},
     "output_type": "execute_result"
    }
   ],
   "source": [
    "y_predict = dt.predict(X)\n",
    "y_predict"
   ]
  },
  {
   "cell_type": "code",
   "execution_count": 28,
   "id": "5aaeb969-ee4e-4554-b124-b3e410db578a",
   "metadata": {},
   "outputs": [
    {
     "data": {
      "image/png": "[encoded data removed]",
      "text/plain": [
       "<Figure size 640x480 with 1 Axes>"
      ]
     },
     "metadata": {},
     "output_type": "display_data"
    }
   ],
   "source": [
    "plt.scatter(X, y)\n",
    "for y_pred in y_predict:\n",
    "    plt.axhline(y=y_pred, color='gray', linestyle='--')\n",
    "plt.show()"
   ]
  }
 ],
 "metadata": {
  "kernelspec": {
   "display_name": "Python 3 (ipykernel)",
   "language": "python",
   "name": "python3"
  },
  "language_info": {
   "codemirror_mode": {
    "name": "ipython",
    "version": 3
   },
   "file_extension": ".py",
   "mimetype": "text/x-python",
   "name": "python",
   "nbconvert_exporter": "python",
   "pygments_lexer": "ipython3",
   "version": "3.10.6"
  }
 },
 "nbformat": 4,
 "nbformat_minor": 5
}

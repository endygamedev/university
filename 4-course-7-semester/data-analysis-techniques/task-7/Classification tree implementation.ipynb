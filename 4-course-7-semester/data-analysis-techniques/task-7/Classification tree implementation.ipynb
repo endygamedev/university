{
 "cells": [
  {
   "cell_type": "code",
   "execution_count": 1,
   "metadata": {},
   "outputs": [],
   "source": [
    "import numpy as np\n",
    "\n",
    "import matplotlib.pyplot as plt\n",
    "%matplotlib inline"
   ]
  },
  {
   "cell_type": "markdown",
   "metadata": {},
   "source": [
    "Рассмотрим задачу бинарной классификации. Сгенерируем обучающую выборку и сохраним её в переменные `(train_data, train_labels)`. Каждый объект характеризуется парой признаков $x_1$ и $x_2$."
   ]
  },
  {
   "cell_type": "code",
   "execution_count": 2,
   "metadata": {},
   "outputs": [],
   "source": [
    "np.random.seed(67)\n",
    "points = np.random.uniform(size=(20, 2), low=-1, high=1)\n",
    "positive = points[np.logical_xor(points[:, 0] >= 0, points[:, 1] >= 0)]\n",
    "negative = points[np.logical_xor(points[:, 0] >= 0, points[:, 1] < 0)]\n",
    "train_data = np.vstack([positive, negative])\n",
    "train_labels = np.hstack([np.ones(positive.shape[0]), np.zeros(negative.shape[0])])"
   ]
  },
  {
   "cell_type": "code",
   "execution_count": 3,
   "metadata": {},
   "outputs": [
    {
     "data": {
      "image/png": "[encoded data removed]",
      "text/plain": [
       "<Figure size 640x480 with 1 Axes>"
      ]
     },
     "metadata": {},
     "output_type": "display_data"
    }
   ],
   "source": [
    "plt.scatter(train_data[:, 0], train_data[:, 1], \n",
    "            c=train_labels, s=100, cmap='Set1', edgecolors='black', linewidth=1.5)\n",
    "plt.xlim(-1, 1)\n",
    "plt.ylim(-1.2, 1.2)\n",
    "plt.show()"
   ]
  },
  {
   "cell_type": "markdown",
   "metadata": {},
   "source": [
    "**Задание 1.** Реализуйте функцию, которая на вход принимает выборку `(X, y)`, индекс признака `feature_id` и порог разбиения `condition`, а возвращает значения энтропийного критерия или критерия Джини."
   ]
  },
  {
   "cell_type": "code",
   "execution_count": 4,
   "metadata": {},
   "outputs": [],
   "source": [
    "def information_gain_trash(train_data, train_labels, feature_id, condition, criterion='entropy'):\n",
    "\n",
    "    if criterion == 'entropy':\n",
    "        y_L = train_labels[train_data[:, feature_id] < condition]\n",
    "        y_R = train_labels[train_data[:, feature_id] >= condition]\n",
    "        nL = len(y_L[y_L == 1])\n",
    "        NL = len(y_L)\n",
    "        NR = len(y_R)\n",
    "        nR = len(y_R[y_R == 1])\n",
    "        n0 = len(y_L)\n",
    "        n = len(train_labels)\n",
    "        if NL == 0 and NR == 0:\n",
    "            return 1\n",
    "        elif NL == 0:\n",
    "            #S_0 = - n0 / n * np.log2(n0 / n) - (n - n0) / n * np.log2((n - n0) / n)\n",
    "            S_L = 1\n",
    "            if nR / NR == 0 or nR / NR == 1:\n",
    "                S_R = 0\n",
    "            else:\n",
    "                S_R = - nR / NR * np.log2(nR / NR) - (NR - nR) / NR * np.log2((NR - nR) / NR)\n",
    "        elif NR == 0:\n",
    "            #S_0 = - n0 / n * np.log2(n0 / n) - (n - n0) / n * np.log2((n - n0) / n)\n",
    "            S_R = 1\n",
    "            if nL / NL == 0 or nL / NL == 1:\n",
    "                S_L = 0\n",
    "            else:\n",
    "                S_L = - nL / NL * np.log2(nL / NL) - (NL - nL) / NL * np.log2((NL - nL) / NL)\n",
    "        elif nR / NR == 0 or nR / NR == 1:\n",
    "            S_R = 0\n",
    "            S_L = - nL / NL * np.log2(nL / NL) - (NL - nL) / NL * np.log2((NL - nL) / NL)\n",
    "        elif nL / NL == 0 or nL / NL == 1:\n",
    "            S_L = 0\n",
    "            S_R = - nR / NR * np.log2(nR / NR) - (NR - nR) / NR * np.log2((NR - nR) / NR)\n",
    "        else:\n",
    "            #S_0 = - n0 / n * np.log2(n0 / n) - (n - n0) / n * np.log2((n - n0) / n)\n",
    "            S_L = - nL / NL * np.log2(nL / NL) - (NL - nL) / NL * np.log2((NL - nL) / NL)\n",
    "            S_R = - nR / NR * np.log2(nR / NR) - (NR - nR) / NR * np.log2((NR - nR) / NR)\n",
    "        return - (- n0 / n * S_L - (n - n0) / n * S_R)\n",
    "    else:\n",
    "        y_L = train_labels[train_data[:, feature_id] < condition]\n",
    "        y_R = train_labels[train_data[:, feature_id] >= condition]\n",
    "        nL = len(y_L[y_L == 1])\n",
    "        NL = len(y_L)\n",
    "        NR = len(y_R)\n",
    "        nR = len(y_R[y_R == 1])\n",
    "        n0 = len(y_L)\n",
    "        n = len(train_labels)\n",
    "        if NL == 0 and NR == 0:\n",
    "            return 0\n",
    "        elif NL == 0:\n",
    "            G_L = 1\n",
    "            G_R = 1 - (nR / NR)**2 - ((NR - nR) / NR)**2\n",
    "            return -(- n0 / n * G_L - (n - n0) / n * G_R) * 2\n",
    "        elif NR == 0:\n",
    "            G_L = 1 - (nL / NL)**2 - ((NL - nL) / NL)**2\n",
    "            G_R = 1\n",
    "            return -(- n0 / n * G_L - (n - n0) / n * G_R) * 2\n",
    "        else:\n",
    "            G_L = 1 - (nL / NL)**2 - ((NL - nL) / NL)**2\n",
    "            G_R = 1 - (nR / NR)**2 - ((NR - nR) / NR)**2\n",
    "            return -(- n0 / n * G_L - (n - n0) / n * G_R) * 2"
   ]
  },
  {
   "cell_type": "code",
   "execution_count": 5,
   "metadata": {},
   "outputs": [],
   "source": [
    "def information_gain(X, y, feature_id, condition, criterion=\"entropy\"):\n",
    "    true_factor = y[X[:, feature_id] < condition]\n",
    "    prob_true_factor = true_factor.shape[0] / X.shape[0]\n",
    "\n",
    "    false_factor = y[X[:, feature_id] >= condition]\n",
    "    prob_false_factor = false_factor.shape[0] / X.shape[0]\n",
    "    \n",
    "    if false_factor.shape[0] == 0 or true_factor.shape[0] == 0:\n",
    "        return 1\n",
    "    \n",
    "    prob_left_true = np.count_nonzero(true_factor == 1) / true_factor.shape[0]\n",
    "    prob_left_false = np.count_nonzero(true_factor == 0) / true_factor.shape[0]\n",
    "\n",
    "    prob_right_true = np.count_nonzero(false_factor == 1) / false_factor.shape[0]\n",
    "    prob_right_false = np.count_nonzero(false_factor == 0) / false_factor.shape[0]\n",
    "    \n",
    "    if criterion == \"entropy\":\n",
    "        if prob_left_true == 0 or prob_left_false == 0 or prob_right_true == 0 or prob_right_false == 0:\n",
    "            return -1\n",
    "        # S0 = -prob_true_factor * np.log2(prob_true_factor) - prob_false_factor * np.log2(prob_false_factor)\n",
    "        SL = -prob_left_true * np.log2(prob_left_true) - prob_left_false * np.log2(prob_left_false)\n",
    "        SR = -prob_right_true * np.log2(prob_right_true) - prob_right_false * np.log2(prob_right_false)\n",
    "    elif criterion == \"gini\":\n",
    "        # S0 = 1 - (prob_true_factor)**2 - (prob_false_factor)**2\n",
    "        SL = 1 - (prob_left_true)**2 - (prob_left_false)**2\n",
    "        SR = 1 - (prob_right_true)**2 - (prob_right_false)**2\n",
    "    \n",
    "    return - prob_true_factor * SL - prob_false_factor * SR"
   ]
  },
  {
   "cell_type": "code",
   "execution_count": 6,
   "metadata": {},
   "outputs": [
    {
     "data": {
      "text/plain": [
       "0.9696948551606777"
      ]
     },
     "execution_count": 6,
     "metadata": {},
     "output_type": "execute_result"
    }
   ],
   "source": [
    "information_gain_trash(train_data, train_labels, 0, -0.25)"
   ]
  },
  {
   "cell_type": "code",
   "execution_count": 7,
   "metadata": {},
   "outputs": [
    {
     "name": "stdout",
     "output_type": "stream",
     "text": [
      "-1.0 0.9709505944546686\n",
      "-0.8947368421052632 0.901979414618551\n",
      "-0.7894736842105263 0.9676708883274061\n",
      "-0.6842105263157895 0.9676708883274061\n",
      "-0.5789473684210527 0.963547202339972\n",
      "-0.4736842105263158 0.9696948551606777\n",
      "-0.368421052631579 0.9696948551606777\n",
      "-0.26315789473684215 0.9696948551606777\n",
      "-0.1578947368421053 0.9660973944575522\n",
      "-0.052631578947368474 0.9660973944575522\n",
      "0.05263157894736836 0.9660973944575522\n",
      "0.1578947368421053 0.8796731482129885\n",
      "0.26315789473684204 0.8796731482129885\n",
      "0.36842105263157876 0.8796731482129885\n",
      "0.4736842105263157 0.9685495200071192\n",
      "0.5789473684210527 0.9685495200071192\n",
      "0.6842105263157894 0.9328437475208927\n",
      "0.7894736842105261 0.9328437475208927\n",
      "0.894736842105263 0.9328437475208927\n",
      "1.0 0.9709505944546686\n"
     ]
    }
   ],
   "source": [
    "for t in np.linspace(-1, 1, 20):\n",
    "    print(t,\n",
    "          information_gain_trash(train_data,\n",
    "                           train_labels,\n",
    "                           0,\n",
    "                           t,\n",
    "                           criterion=\"entropy\")\n",
    "         )"
   ]
  },
  {
   "cell_type": "markdown",
   "metadata": {},
   "source": [
    "**Задание 2.** Реализуйте функцию, которая выбирает предикаты по имеющейся выборке."
   ]
  },
  {
   "cell_type": "code",
   "execution_count": 8,
   "metadata": {},
   "outputs": [],
   "source": [
    "def get_conditions_trash(train_data, train_labels):\n",
    "    n = len(train_data[0])\n",
    "    res = {}\n",
    "    for i in range(n):\n",
    "        x = np.argsort(train_data[:,i])\n",
    "        r = []\n",
    "        for j in range(1, len(x)):\n",
    "            if train_labels[x[j - 1]] != train_labels[x[j]]:\n",
    "                r.append(np.mean([train_data[x[j - 1]][i], train_data[x[j]][i]]))\n",
    "        res[i] = r\n",
    "    return res"
   ]
  },
  {
   "cell_type": "code",
   "execution_count": 9,
   "metadata": {},
   "outputs": [],
   "source": [
    "def get_conditions(X, y):\n",
    "    features_count = X.shape[1]\n",
    "    result = dict()\n",
    "    for feature in range(features_count):\n",
    "        vals = sorted(list(zip(X[:, feature], y)), key=lambda x: x[0])\n",
    "        tmp = []\n",
    "        prev = vals[0][1]\n",
    "        feature_result = []\n",
    "\n",
    "        for x_value, y_value in vals:\n",
    "            if prev == y_value:\n",
    "                tmp.append(x_value)\n",
    "            else:\n",
    "                prev = y_value\n",
    "                tmp.append(x_value)\n",
    "                feature_result.append(np.mean(tmp))\n",
    "                tmp = [x_value]\n",
    "        result[feature] = feature_result\n",
    "    return result"
   ]
  },
  {
   "cell_type": "code",
   "execution_count": 10,
   "metadata": {},
   "outputs": [
    {
     "data": {
      "text/plain": [
       "{0: [-0.8968132995429501,\n",
       "  -0.7566065949742614,\n",
       "  -0.6287665022757317,\n",
       "  -0.5990121190564968,\n",
       "  -0.554037228654128,\n",
       "  -0.34507990333227334,\n",
       "  -0.2000711452800843,\n",
       "  0.2378704257933334,\n",
       "  0.6354743396903453],\n",
       " 1: [-0.9427459061178219,\n",
       "  -0.3937531883073182,\n",
       "  -0.3533314885967552,\n",
       "  -0.3180882719395066,\n",
       "  -0.05808715883026605,\n",
       "  0.12152788893462807,\n",
       "  0.43647296726164697,\n",
       "  0.5868539488442623,\n",
       "  0.7913632606727191,\n",
       "  0.9180910094600978]}"
      ]
     },
     "execution_count": 10,
     "metadata": {},
     "output_type": "execute_result"
    }
   ],
   "source": [
    "get_conditions_trash(train_data, train_labels)"
   ]
  },
  {
   "cell_type": "markdown",
   "metadata": {},
   "source": [
    "__Задание 3.__ Определение наилучшего предиката."
   ]
  },
  {
   "cell_type": "code",
   "execution_count": 11,
   "metadata": {},
   "outputs": [],
   "source": [
    "def get_best_predicate(X, y):\n",
    "    dict_conditions = get_conditions_trash(X, y)\n",
    "    \n",
    "    min_information_gain_value = float('inf')\n",
    "    min_condition = float('inf')\n",
    "    min_feature = float('inf')\n",
    "    \n",
    "    for feature, conditions in dict_conditions.items():\n",
    "        for condition in conditions:\n",
    "            value = information_gain_trash(X, y, feature, condition, criterion=\"gini\")\n",
    "            if min_information_gain_value > value:\n",
    "                min_information_gain_value = value\n",
    "                min_condition = condition\n",
    "                min_feature = feature\n",
    "            # print(f\"{feature} {condition} {value}\")\n",
    "    return (min_feature, min_condition)"
   ]
  },
  {
   "cell_type": "code",
   "execution_count": 12,
   "metadata": {},
   "outputs": [
    {
     "data": {
      "text/plain": [
       "(1, -0.3937531883073182)"
      ]
     },
     "execution_count": 12,
     "metadata": {},
     "output_type": "execute_result"
    }
   ],
   "source": [
    "result = get_best_predicate(train_data, train_labels)\n",
    "result"
   ]
  },
  {
   "cell_type": "markdown",
   "metadata": {},
   "source": [
    "__Задание 4.__ Построение дерева решений."
   ]
  },
  {
   "cell_type": "code",
   "execution_count": 13,
   "metadata": {},
   "outputs": [],
   "source": [
    "max_depth = 3"
   ]
  },
  {
   "cell_type": "code",
   "execution_count": 14,
   "metadata": {},
   "outputs": [],
   "source": [
    "def desicion_tree_step(X, y, max_depth, level=0):\n",
    "    if level == max_depth:\n",
    "        return {\"target\": y.mean()}\n",
    "    \n",
    "    best_predicate = get_best_predicate(X, y)\n",
    "    \n",
    "    try:\n",
    "        left_half = X[:, best_predicate[0]] < best_predicate[1]\n",
    "        right_half = X[:, best_predicate[0]] >= best_predicate[1]\n",
    "\n",
    "        X_left, y_left = X[left_half], y[left_half]\n",
    "        X_right, y_right = X[right_half], y[right_half]\n",
    "    \n",
    "        return {\n",
    "            \"level\": level,\n",
    "            \"predicate\": best_predicate,\n",
    "            \"target\": y.mean(),\n",
    "            \"left\": desicion_tree_step(X_left, y_left, max_depth, level + 1),\n",
    "            \"right\": desicion_tree_step(X_right, y_right, max_depth, level + 1),\n",
    "        }\n",
    "    except:\n",
    "        return {\"target\": y.mean()}"
   ]
  },
  {
   "cell_type": "code",
   "execution_count": 15,
   "metadata": {},
   "outputs": [
    {
     "data": {
      "text/plain": [
       "{'level': 0,\n",
       " 'predicate': (1, -0.3937531883073182),\n",
       " 'target': 0.4,\n",
       " 'left': {'level': 1,\n",
       "  'predicate': (0, -0.01993888924990672),\n",
       "  'target': 0.75,\n",
       "  'left': {'target': 0.0},\n",
       "  'right': {'target': 1.0}},\n",
       " 'right': {'level': 1,\n",
       "  'predicate': (0, -0.554037228654128),\n",
       "  'target': 0.3125,\n",
       "  'left': {'level': 2,\n",
       "   'predicate': (1, 0.11427511929561229),\n",
       "   'target': 0.6,\n",
       "   'left': {'target': 0.0},\n",
       "   'right': {'target': 1.0}},\n",
       "  'right': {'level': 2,\n",
       "   'predicate': (1, 0.12152788893462807),\n",
       "   'target': 0.18181818181818182,\n",
       "   'left': {'target': 0.3333333333333333},\n",
       "   'right': {'target': 0.0}}}}"
      ]
     },
     "execution_count": 15,
     "metadata": {},
     "output_type": "execute_result"
    }
   ],
   "source": [
    "desicion_tree = desicion_tree_step(train_data, train_labels, 3)\n",
    "desicion_tree"
   ]
  },
  {
   "cell_type": "markdown",
   "metadata": {},
   "source": [
    "__Класс для решающего дерева__"
   ]
  },
  {
   "cell_type": "code",
   "execution_count": 10,
   "metadata": {},
   "outputs": [],
   "source": [
    "class DecisionTree:\n",
    "    def __init__(self, max_depth=3):\n",
    "        self.max_depth = max_depth\n",
    "        self.splits = {}\n",
    "    \n",
    "    @staticmethod\n",
    "    def information_gain(train_data, train_labels, feature_id, condition, criterion='entropy'):\n",
    "        if criterion == 'entropy':\n",
    "            y_L = train_labels[train_data[:, feature_id] < condition]\n",
    "            y_R = train_labels[train_data[:, feature_id] >= condition]\n",
    "            nL = len(y_L[y_L == 1])\n",
    "            NL = len(y_L)\n",
    "            NR = len(y_R)\n",
    "            nR = len(y_R[y_R == 1])\n",
    "            n0 = len(y_L)\n",
    "            n = len(train_labels)\n",
    "            if NL == 0 and NR == 0:\n",
    "                return 1\n",
    "            elif NL == 0:\n",
    "                #S_0 = - n0 / n * np.log2(n0 / n) - (n - n0) / n * np.log2((n - n0) / n)\n",
    "                S_L = 1\n",
    "                if nR / NR == 0 or nR / NR == 1:\n",
    "                    S_R = 0\n",
    "                else:\n",
    "                    S_R = - nR / NR * np.log2(nR / NR) - (NR - nR) / NR * np.log2((NR - nR) / NR)\n",
    "            elif NR == 0:\n",
    "                #S_0 = - n0 / n * np.log2(n0 / n) - (n - n0) / n * np.log2((n - n0) / n)\n",
    "                S_R = 1\n",
    "                if nL / NL == 0 or nL / NL == 1:\n",
    "                    S_L = 0\n",
    "                else:\n",
    "                    S_L = - nL / NL * np.log2(nL / NL) - (NL - nL) / NL * np.log2((NL - nL) / NL)\n",
    "            elif nR / NR == 0 or nR / NR == 1:\n",
    "                S_R = 0\n",
    "                S_L = - nL / NL * np.log2(nL / NL) - (NL - nL) / NL * np.log2((NL - nL) / NL)\n",
    "            elif nL / NL == 0 or nL / NL == 1:\n",
    "                S_L = 0\n",
    "                S_R = - nR / NR * np.log2(nR / NR) - (NR - nR) / NR * np.log2((NR - nR) / NR)\n",
    "            else:\n",
    "                #S_0 = - n0 / n * np.log2(n0 / n) - (n - n0) / n * np.log2((n - n0) / n)\n",
    "                S_L = - nL / NL * np.log2(nL / NL) - (NL - nL) / NL * np.log2((NL - nL) / NL)\n",
    "                S_R = - nR / NR * np.log2(nR / NR) - (NR - nR) / NR * np.log2((NR - nR) / NR)\n",
    "            return - (- n0 / n * S_L - (n - n0) / n * S_R)\n",
    "        else:\n",
    "            y_L = train_labels[train_data[:, feature_id] < condition]\n",
    "            y_R = train_labels[train_data[:, feature_id] >= condition]\n",
    "            nL = len(y_L[y_L == 1])\n",
    "            NL = len(y_L)\n",
    "            NR = len(y_R)\n",
    "            nR = len(y_R[y_R == 1])\n",
    "            n0 = len(y_L)\n",
    "            n = len(train_labels)\n",
    "            if NL == 0 and NR == 0:\n",
    "                return 0\n",
    "            elif NL == 0:\n",
    "                G_L = 1\n",
    "                G_R = 1 - (nR / NR)**2 - ((NR - nR) / NR)**2\n",
    "                return -(- n0 / n * G_L - (n - n0) / n * G_R) * 2\n",
    "            elif NR == 0:\n",
    "                G_L = 1 - (nL / NL)**2 - ((NL - nL) / NL)**2\n",
    "                G_R = 1\n",
    "                return -(- n0 / n * G_L - (n - n0) / n * G_R) * 2\n",
    "            else:\n",
    "                G_L = 1 - (nL / NL)**2 - ((NL - nL) / NL)**2\n",
    "                G_R = 1 - (nR / NR)**2 - ((NR - nR) / NR)**2\n",
    "                return -(- n0 / n * G_L - (n - n0) / n * G_R) * 2\n",
    "        \n",
    "    @staticmethod\n",
    "    def get_conditions(train_data, train_labels):\n",
    "        n = len(train_data[0])\n",
    "        res = {}\n",
    "        for i in range(n):\n",
    "            x = np.argsort(train_data[:,i])\n",
    "            r = []\n",
    "            for j in range(1, len(x)):\n",
    "                if train_labels[x[j - 1]] != train_labels[x[j]]:\n",
    "                    r.append(np.mean([train_data[x[j - 1]][i], train_data[x[j]][i]]))\n",
    "            res[i] = r\n",
    "        return res\n",
    "    \n",
    "    def get_best_predicate(self, X, y):\n",
    "        dict_conditions = self.get_conditions(X, y)\n",
    "\n",
    "        min_information_gain_value = float('inf')\n",
    "        min_condition = float('inf')\n",
    "        min_feature = float('inf')\n",
    "\n",
    "        for feature, conditions in dict_conditions.items():\n",
    "            for condition in conditions:\n",
    "                value = self.information_gain(X, y, feature, condition, criterion=\"gini\")\n",
    "                if min_information_gain_value > value:\n",
    "                    min_information_gain_value = value\n",
    "                    min_condition = condition\n",
    "                    min_feature = feature\n",
    "                # print(f\"{feature} {condition} {value}\")\n",
    "        return (min_feature, min_condition)\n",
    "    \n",
    "    def desicion_tree_step(self, X, y, max_depth, level=0):\n",
    "        if level == max_depth:\n",
    "            return {\"target\": y.mean()}\n",
    "\n",
    "        best_predicate = self.get_best_predicate(X, y)\n",
    "\n",
    "        try:\n",
    "            left_half = X[:, best_predicate[0]] < best_predicate[1]\n",
    "            right_half = X[:, best_predicate[0]] >= best_predicate[1]\n",
    "\n",
    "            X_left, y_left = X[left_half], y[left_half]\n",
    "            X_right, y_right = X[right_half], y[right_half]\n",
    "\n",
    "            return {\n",
    "                \"level\": level,\n",
    "                \"predicate\": best_predicate,\n",
    "                \"target\": y.mean(),\n",
    "                \"left\": self.desicion_tree_step(X_left, y_left, max_depth, level + 1),\n",
    "                \"right\": self.desicion_tree_step(X_right, y_right, max_depth, level + 1),\n",
    "            }\n",
    "        except:\n",
    "            return {\"target\": y.mean()}\n",
    "        \n",
    "    def fit(self, X, y):\n",
    "        self.splits = self.desicion_tree_step(X, y, self.max_depth)\n",
    "    \n",
    "    def predict_proba_step(self, element, split):\n",
    "        if \"predicate\" not in split.keys():\n",
    "            return split[\"target\"]\n",
    "\n",
    "        current_predicate_axis, current_predicate_condition = split[\"predicate\"]\n",
    "        if element[current_predicate_axis] < current_predicate_condition:\n",
    "            return self.predict_proba_step(element, split[\"left\"])\n",
    "        else:\n",
    "            return self.predict_proba_step(element, split[\"right\"])\n",
    "    \n",
    "    def predict_proba(self, X):\n",
    "        if self.splits == {}:\n",
    "            print(\"Error: Need to fit the model\")\n",
    "            return\n",
    "        return np.array([self.predict_proba_step(element, self.splits) for element in X])\n",
    "    \n",
    "    def predict(self, X):\n",
    "        if self.splits == {}:\n",
    "            print(\"Error: Need to fit the model\")\n",
    "            return\n",
    "        return self.predict_proba(X) > 0.5"
   ]
  },
  {
   "cell_type": "code",
   "execution_count": 11,
   "metadata": {},
   "outputs": [],
   "source": [
    "dt = DecisionTree()"
   ]
  },
  {
   "cell_type": "code",
   "execution_count": 12,
   "metadata": {},
   "outputs": [],
   "source": [
    "dt.fit(train_data, train_labels)"
   ]
  },
  {
   "cell_type": "code",
   "execution_count": 13,
   "metadata": {},
   "outputs": [
    {
     "data": {
      "text/plain": [
       "{'level': 0,\n",
       " 'predicate': (1, -0.3937531883073182),\n",
       " 'target': 0.4,\n",
       " 'left': {'level': 1,\n",
       "  'predicate': (0, -0.01993888924990672),\n",
       "  'target': 0.75,\n",
       "  'left': {'target': 0.0},\n",
       "  'right': {'target': 1.0}},\n",
       " 'right': {'level': 1,\n",
       "  'predicate': (0, -0.554037228654128),\n",
       "  'target': 0.3125,\n",
       "  'left': {'level': 2,\n",
       "   'predicate': (1, 0.11427511929561229),\n",
       "   'target': 0.6,\n",
       "   'left': {'target': 0.0},\n",
       "   'right': {'target': 1.0}},\n",
       "  'right': {'level': 2,\n",
       "   'predicate': (1, 0.12152788893462807),\n",
       "   'target': 0.18181818181818182,\n",
       "   'left': {'target': 0.3333333333333333},\n",
       "   'right': {'target': 0.0}}}}"
      ]
     },
     "execution_count": 13,
     "metadata": {},
     "output_type": "execute_result"
    }
   ],
   "source": [
    "splits = dt.splits\n",
    "splits"
   ]
  },
  {
   "cell_type": "code",
   "execution_count": 14,
   "metadata": {},
   "outputs": [
    {
     "data": {
      "text/plain": [
       "array([0.33333333, 1.        , 1.        , 1.        , 0.33333333,\n",
       "       1.        , 1.        , 1.        , 0.        , 0.        ,\n",
       "       0.        , 0.33333333, 0.        , 0.        , 0.33333333,\n",
       "       0.33333333, 0.        , 0.        , 0.33333333, 0.        ])"
      ]
     },
     "execution_count": 14,
     "metadata": {},
     "output_type": "execute_result"
    }
   ],
   "source": [
    "dt.predict_proba(train_data)"
   ]
  },
  {
   "cell_type": "code",
   "execution_count": 15,
   "metadata": {},
   "outputs": [
    {
     "data": {
      "text/plain": [
       "array([False,  True,  True,  True, False,  True,  True,  True, False,\n",
       "       False, False, False, False, False, False, False, False, False,\n",
       "       False, False])"
      ]
     },
     "execution_count": 15,
     "metadata": {},
     "output_type": "execute_result"
    }
   ],
   "source": [
    "dt.predict(train_data)"
   ]
  },
  {
   "cell_type": "code",
   "execution_count": 16,
   "metadata": {},
   "outputs": [
    {
     "data": {
      "image/png": "[encoded data removed]",
      "text/plain": [
       "<Figure size 640x480 with 1 Axes>"
      ]
     },
     "metadata": {},
     "output_type": "display_data"
    }
   ],
   "source": [
    "plt.scatter(train_data[:, 0], train_data[:, 1], \n",
    "            c=train_labels, s=100, cmap='Set1', edgecolors='black', linewidth=1.5)\n",
    "plt.xlim(-1, 1)\n",
    "plt.ylim(-1.2, 1.2)\n",
    "plt.show()"
   ]
  },
  {
   "cell_type": "code",
   "execution_count": 18,
   "metadata": {},
   "outputs": [
    {
     "data": {
      "text/plain": [
       "array([-1.0000000e+00, -9.5000000e-01, -9.0000000e-01, -8.5000000e-01,\n",
       "       -8.0000000e-01, -7.5000000e-01, -7.0000000e-01, -6.5000000e-01,\n",
       "       -6.0000000e-01, -5.5000000e-01, -5.0000000e-01, -4.5000000e-01,\n",
       "       -4.0000000e-01, -3.5000000e-01, -3.0000000e-01, -2.5000000e-01,\n",
       "       -2.0000000e-01, -1.5000000e-01, -1.0000000e-01, -5.0000000e-02,\n",
       "        8.8817842e-16,  5.0000000e-02,  1.0000000e-01,  1.5000000e-01,\n",
       "        2.0000000e-01,  2.5000000e-01,  3.0000000e-01,  3.5000000e-01,\n",
       "        4.0000000e-01,  4.5000000e-01,  5.0000000e-01,  5.5000000e-01,\n",
       "        6.0000000e-01,  6.5000000e-01,  7.0000000e-01,  7.5000000e-01,\n",
       "        8.0000000e-01,  8.5000000e-01,  9.0000000e-01,  9.5000000e-01])"
      ]
     },
     "execution_count": 18,
     "metadata": {},
     "output_type": "execute_result"
    }
   ],
   "source": [
    "step = np.arange(-1, 1, 0.05)\n",
    "step"
   ]
  },
  {
   "cell_type": "code",
   "execution_count": null,
   "metadata": {},
   "outputs": [],
   "source": []
  }
 ],
 "metadata": {
  "kernelspec": {
   "display_name": "Python 3 (ipykernel)",
   "language": "python",
   "name": "python3"
  },
  "language_info": {
   "codemirror_mode": {
    "name": "ipython",
    "version": 3
   },
   "file_extension": ".py",
   "mimetype": "text/x-python",
   "name": "python",
   "nbconvert_exporter": "python",
   "pygments_lexer": "ipython3",
   "version": "3.10.6"
  }
 },
 "nbformat": 4,
 "nbformat_minor": 4
}

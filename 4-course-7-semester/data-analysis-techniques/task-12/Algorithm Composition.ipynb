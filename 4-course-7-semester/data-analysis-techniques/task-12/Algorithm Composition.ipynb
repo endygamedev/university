{
 "cells": [
  {
   "cell_type": "markdown",
   "metadata": {},
   "source": [
    "[![kaggle](https://img.shields.io/badge/kaggle-CLICK%20ME!-%2320BEFF?style=for-the-badge&logo=kaggle)](https://www.kaggle.com/code/egorbronnikov/algorithm-composition)"
   ]
  },
  {
   "cell_type": "markdown",
   "metadata": {},
   "source": [
    "<div align=\"center\"><h2>Композиции алгоритмов</h2></div>"
   ]
  },
  {
   "cell_type": "code",
   "execution_count": 3,
   "metadata": {
    "_cell_guid": "b1076dfc-b9ad-4769-8c92-a6c4dae69d19",
    "_uuid": "8f2839f25d086af736a60e9eeb907d3b93b6e0e5",
    "execution": {
     "iopub.execute_input": "2022-10-30T15:27:44.285264Z",
     "iopub.status.busy": "2022-10-30T15:27:44.284985Z",
     "iopub.status.idle": "2022-10-30T15:27:46.136138Z",
     "shell.execute_reply": "2022-10-30T15:27:46.135396Z",
     "shell.execute_reply.started": "2022-10-30T15:27:44.285233Z"
    }
   },
   "outputs": [],
   "source": [
    "import zipfile\n",
    "import os\n",
    "\n",
    "base_dir = \"../input/bnp-paribas-cardif-claims-management/train.csv.zip\"\n",
    "\n",
    "with zipfile.ZipFile(base_dir, 'r') as z:\n",
    "    z.extractall()"
   ]
  },
  {
   "cell_type": "code",
   "execution_count": 4,
   "metadata": {
    "execution": {
     "iopub.execute_input": "2022-10-30T15:27:46.137964Z",
     "iopub.status.busy": "2022-10-30T15:27:46.137719Z",
     "iopub.status.idle": "2022-10-30T15:27:46.143973Z",
     "shell.execute_reply": "2022-10-30T15:27:46.143002Z",
     "shell.execute_reply.started": "2022-10-30T15:27:46.137932Z"
    }
   },
   "outputs": [],
   "source": [
    "import pandas as pd\n",
    "import numpy as np\n",
    "import matplotlib.pyplot as plt\n",
    "\n",
    "%matplotlib inline"
   ]
  },
  {
   "cell_type": "markdown",
   "metadata": {},
   "source": [
    "__Задание 2__"
   ]
  },
  {
   "cell_type": "code",
   "execution_count": 30,
   "metadata": {
    "execution": {
     "iopub.execute_input": "2022-10-30T15:38:40.787797Z",
     "iopub.status.busy": "2022-10-30T15:38:40.787030Z",
     "iopub.status.idle": "2022-10-30T15:38:40.953230Z",
     "shell.execute_reply": "2022-10-30T15:38:40.952456Z",
     "shell.execute_reply.started": "2022-10-30T15:38:40.787762Z"
    }
   },
   "outputs": [],
   "source": [
    "data = pd.read_csv(\"./train.csv\", nrows=10000)"
   ]
  },
  {
   "cell_type": "code",
   "execution_count": 31,
   "metadata": {
    "execution": {
     "iopub.execute_input": "2022-10-30T15:38:41.016525Z",
     "iopub.status.busy": "2022-10-30T15:38:41.016287Z",
     "iopub.status.idle": "2022-10-30T15:38:41.046941Z",
     "shell.execute_reply": "2022-10-30T15:38:41.046301Z",
     "shell.execute_reply.started": "2022-10-30T15:38:41.016479Z"
    }
   },
   "outputs": [
    {
     "data": {
      "text/html": [
       "<div>\n",
       "<style scoped>\n",
       "    .dataframe tbody tr th:only-of-type {\n",
       "        vertical-align: middle;\n",
       "    }\n",
       "\n",
       "    .dataframe tbody tr th {\n",
       "        vertical-align: top;\n",
       "    }\n",
       "\n",
       "    .dataframe thead th {\n",
       "        text-align: right;\n",
       "    }\n",
       "</style>\n",
       "<table border=\"1\" class=\"dataframe\">\n",
       "  <thead>\n",
       "    <tr style=\"text-align: right;\">\n",
       "      <th></th>\n",
       "      <th>ID</th>\n",
       "      <th>target</th>\n",
       "      <th>v1</th>\n",
       "      <th>v2</th>\n",
       "      <th>v3</th>\n",
       "      <th>v4</th>\n",
       "      <th>v5</th>\n",
       "      <th>v6</th>\n",
       "      <th>v7</th>\n",
       "      <th>v8</th>\n",
       "      <th>...</th>\n",
       "      <th>v122</th>\n",
       "      <th>v123</th>\n",
       "      <th>v124</th>\n",
       "      <th>v125</th>\n",
       "      <th>v126</th>\n",
       "      <th>v127</th>\n",
       "      <th>v128</th>\n",
       "      <th>v129</th>\n",
       "      <th>v130</th>\n",
       "      <th>v131</th>\n",
       "    </tr>\n",
       "  </thead>\n",
       "  <tbody>\n",
       "    <tr>\n",
       "      <th>0</th>\n",
       "      <td>3</td>\n",
       "      <td>1</td>\n",
       "      <td>1.335739</td>\n",
       "      <td>8.727474</td>\n",
       "      <td>C</td>\n",
       "      <td>3.921026</td>\n",
       "      <td>7.915266</td>\n",
       "      <td>2.599278</td>\n",
       "      <td>3.176895</td>\n",
       "      <td>0.012941</td>\n",
       "      <td>...</td>\n",
       "      <td>8.000000</td>\n",
       "      <td>1.989780</td>\n",
       "      <td>0.035754</td>\n",
       "      <td>AU</td>\n",
       "      <td>1.804126</td>\n",
       "      <td>3.113719</td>\n",
       "      <td>2.024285</td>\n",
       "      <td>0</td>\n",
       "      <td>0.636365</td>\n",
       "      <td>2.857144</td>\n",
       "    </tr>\n",
       "    <tr>\n",
       "      <th>1</th>\n",
       "      <td>4</td>\n",
       "      <td>1</td>\n",
       "      <td>NaN</td>\n",
       "      <td>NaN</td>\n",
       "      <td>C</td>\n",
       "      <td>NaN</td>\n",
       "      <td>9.191265</td>\n",
       "      <td>NaN</td>\n",
       "      <td>NaN</td>\n",
       "      <td>2.301630</td>\n",
       "      <td>...</td>\n",
       "      <td>NaN</td>\n",
       "      <td>NaN</td>\n",
       "      <td>0.598896</td>\n",
       "      <td>AF</td>\n",
       "      <td>NaN</td>\n",
       "      <td>NaN</td>\n",
       "      <td>1.957825</td>\n",
       "      <td>0</td>\n",
       "      <td>NaN</td>\n",
       "      <td>NaN</td>\n",
       "    </tr>\n",
       "    <tr>\n",
       "      <th>2</th>\n",
       "      <td>5</td>\n",
       "      <td>1</td>\n",
       "      <td>0.943877</td>\n",
       "      <td>5.310079</td>\n",
       "      <td>C</td>\n",
       "      <td>4.410969</td>\n",
       "      <td>5.326159</td>\n",
       "      <td>3.979592</td>\n",
       "      <td>3.928571</td>\n",
       "      <td>0.019645</td>\n",
       "      <td>...</td>\n",
       "      <td>9.333333</td>\n",
       "      <td>2.477596</td>\n",
       "      <td>0.013452</td>\n",
       "      <td>AE</td>\n",
       "      <td>1.773709</td>\n",
       "      <td>3.922193</td>\n",
       "      <td>1.120468</td>\n",
       "      <td>2</td>\n",
       "      <td>0.883118</td>\n",
       "      <td>1.176472</td>\n",
       "    </tr>\n",
       "    <tr>\n",
       "      <th>3</th>\n",
       "      <td>6</td>\n",
       "      <td>1</td>\n",
       "      <td>0.797415</td>\n",
       "      <td>8.304757</td>\n",
       "      <td>C</td>\n",
       "      <td>4.225930</td>\n",
       "      <td>11.627438</td>\n",
       "      <td>2.097700</td>\n",
       "      <td>1.987549</td>\n",
       "      <td>0.171947</td>\n",
       "      <td>...</td>\n",
       "      <td>7.018256</td>\n",
       "      <td>1.812795</td>\n",
       "      <td>0.002267</td>\n",
       "      <td>CJ</td>\n",
       "      <td>1.415230</td>\n",
       "      <td>2.954381</td>\n",
       "      <td>1.990847</td>\n",
       "      <td>1</td>\n",
       "      <td>1.677108</td>\n",
       "      <td>1.034483</td>\n",
       "    </tr>\n",
       "    <tr>\n",
       "      <th>4</th>\n",
       "      <td>8</td>\n",
       "      <td>1</td>\n",
       "      <td>NaN</td>\n",
       "      <td>NaN</td>\n",
       "      <td>C</td>\n",
       "      <td>NaN</td>\n",
       "      <td>NaN</td>\n",
       "      <td>NaN</td>\n",
       "      <td>NaN</td>\n",
       "      <td>NaN</td>\n",
       "      <td>...</td>\n",
       "      <td>NaN</td>\n",
       "      <td>NaN</td>\n",
       "      <td>NaN</td>\n",
       "      <td>Z</td>\n",
       "      <td>NaN</td>\n",
       "      <td>NaN</td>\n",
       "      <td>NaN</td>\n",
       "      <td>0</td>\n",
       "      <td>NaN</td>\n",
       "      <td>NaN</td>\n",
       "    </tr>\n",
       "  </tbody>\n",
       "</table>\n",
       "<p>5 rows × 133 columns</p>\n",
       "</div>"
      ],
      "text/plain": [
       "   ID  target        v1        v2 v3        v4         v5        v6        v7  \\\n",
       "0   3       1  1.335739  8.727474  C  3.921026   7.915266  2.599278  3.176895   \n",
       "1   4       1       NaN       NaN  C       NaN   9.191265       NaN       NaN   \n",
       "2   5       1  0.943877  5.310079  C  4.410969   5.326159  3.979592  3.928571   \n",
       "3   6       1  0.797415  8.304757  C  4.225930  11.627438  2.097700  1.987549   \n",
       "4   8       1       NaN       NaN  C       NaN        NaN       NaN       NaN   \n",
       "\n",
       "         v8  ...      v122      v123      v124  v125      v126      v127  \\\n",
       "0  0.012941  ...  8.000000  1.989780  0.035754    AU  1.804126  3.113719   \n",
       "1  2.301630  ...       NaN       NaN  0.598896    AF       NaN       NaN   \n",
       "2  0.019645  ...  9.333333  2.477596  0.013452    AE  1.773709  3.922193   \n",
       "3  0.171947  ...  7.018256  1.812795  0.002267    CJ  1.415230  2.954381   \n",
       "4       NaN  ...       NaN       NaN       NaN     Z       NaN       NaN   \n",
       "\n",
       "       v128  v129      v130      v131  \n",
       "0  2.024285     0  0.636365  2.857144  \n",
       "1  1.957825     0       NaN       NaN  \n",
       "2  1.120468     2  0.883118  1.176472  \n",
       "3  1.990847     1  1.677108  1.034483  \n",
       "4       NaN     0       NaN       NaN  \n",
       "\n",
       "[5 rows x 133 columns]"
      ]
     },
     "execution_count": 31,
     "metadata": {},
     "output_type": "execute_result"
    }
   ],
   "source": [
    "data.head()"
   ]
  },
  {
   "cell_type": "code",
   "execution_count": 32,
   "metadata": {
    "execution": {
     "iopub.execute_input": "2022-10-30T15:38:52.808160Z",
     "iopub.status.busy": "2022-10-30T15:38:52.807417Z",
     "iopub.status.idle": "2022-10-30T15:38:52.840231Z",
     "shell.execute_reply": "2022-10-30T15:38:52.839423Z",
     "shell.execute_reply.started": "2022-10-30T15:38:52.808127Z"
    }
   },
   "outputs": [
    {
     "data": {
      "text/html": [
       "<div>\n",
       "<style scoped>\n",
       "    .dataframe tbody tr th:only-of-type {\n",
       "        vertical-align: middle;\n",
       "    }\n",
       "\n",
       "    .dataframe tbody tr th {\n",
       "        vertical-align: top;\n",
       "    }\n",
       "\n",
       "    .dataframe thead th {\n",
       "        text-align: right;\n",
       "    }\n",
       "</style>\n",
       "<table border=\"1\" class=\"dataframe\">\n",
       "  <thead>\n",
       "    <tr style=\"text-align: right;\">\n",
       "      <th></th>\n",
       "      <th>ID</th>\n",
       "      <th>target</th>\n",
       "      <th>v1</th>\n",
       "      <th>v2</th>\n",
       "      <th>v4</th>\n",
       "      <th>v5</th>\n",
       "      <th>v6</th>\n",
       "      <th>v7</th>\n",
       "      <th>v8</th>\n",
       "      <th>v9</th>\n",
       "      <th>...</th>\n",
       "      <th>v121</th>\n",
       "      <th>v122</th>\n",
       "      <th>v123</th>\n",
       "      <th>v124</th>\n",
       "      <th>v126</th>\n",
       "      <th>v127</th>\n",
       "      <th>v128</th>\n",
       "      <th>v129</th>\n",
       "      <th>v130</th>\n",
       "      <th>v131</th>\n",
       "    </tr>\n",
       "  </thead>\n",
       "  <tbody>\n",
       "    <tr>\n",
       "      <th>0</th>\n",
       "      <td>3</td>\n",
       "      <td>1</td>\n",
       "      <td>1.335739</td>\n",
       "      <td>8.727474</td>\n",
       "      <td>3.921026</td>\n",
       "      <td>7.915266</td>\n",
       "      <td>2.599278</td>\n",
       "      <td>3.176895</td>\n",
       "      <td>0.012941</td>\n",
       "      <td>9.999999</td>\n",
       "      <td>...</td>\n",
       "      <td>0.803572</td>\n",
       "      <td>8.000000</td>\n",
       "      <td>1.989780</td>\n",
       "      <td>0.035754</td>\n",
       "      <td>1.804126</td>\n",
       "      <td>3.113719</td>\n",
       "      <td>2.024285</td>\n",
       "      <td>0</td>\n",
       "      <td>0.636365</td>\n",
       "      <td>2.857144</td>\n",
       "    </tr>\n",
       "    <tr>\n",
       "      <th>1</th>\n",
       "      <td>4</td>\n",
       "      <td>1</td>\n",
       "      <td>NaN</td>\n",
       "      <td>NaN</td>\n",
       "      <td>NaN</td>\n",
       "      <td>9.191265</td>\n",
       "      <td>NaN</td>\n",
       "      <td>NaN</td>\n",
       "      <td>2.301630</td>\n",
       "      <td>NaN</td>\n",
       "      <td>...</td>\n",
       "      <td>NaN</td>\n",
       "      <td>NaN</td>\n",
       "      <td>NaN</td>\n",
       "      <td>0.598896</td>\n",
       "      <td>NaN</td>\n",
       "      <td>NaN</td>\n",
       "      <td>1.957825</td>\n",
       "      <td>0</td>\n",
       "      <td>NaN</td>\n",
       "      <td>NaN</td>\n",
       "    </tr>\n",
       "    <tr>\n",
       "      <th>2</th>\n",
       "      <td>5</td>\n",
       "      <td>1</td>\n",
       "      <td>0.943877</td>\n",
       "      <td>5.310079</td>\n",
       "      <td>4.410969</td>\n",
       "      <td>5.326159</td>\n",
       "      <td>3.979592</td>\n",
       "      <td>3.928571</td>\n",
       "      <td>0.019645</td>\n",
       "      <td>12.666667</td>\n",
       "      <td>...</td>\n",
       "      <td>2.238806</td>\n",
       "      <td>9.333333</td>\n",
       "      <td>2.477596</td>\n",
       "      <td>0.013452</td>\n",
       "      <td>1.773709</td>\n",
       "      <td>3.922193</td>\n",
       "      <td>1.120468</td>\n",
       "      <td>2</td>\n",
       "      <td>0.883118</td>\n",
       "      <td>1.176472</td>\n",
       "    </tr>\n",
       "    <tr>\n",
       "      <th>3</th>\n",
       "      <td>6</td>\n",
       "      <td>1</td>\n",
       "      <td>0.797415</td>\n",
       "      <td>8.304757</td>\n",
       "      <td>4.225930</td>\n",
       "      <td>11.627438</td>\n",
       "      <td>2.097700</td>\n",
       "      <td>1.987549</td>\n",
       "      <td>0.171947</td>\n",
       "      <td>8.965516</td>\n",
       "      <td>...</td>\n",
       "      <td>1.956521</td>\n",
       "      <td>7.018256</td>\n",
       "      <td>1.812795</td>\n",
       "      <td>0.002267</td>\n",
       "      <td>1.415230</td>\n",
       "      <td>2.954381</td>\n",
       "      <td>1.990847</td>\n",
       "      <td>1</td>\n",
       "      <td>1.677108</td>\n",
       "      <td>1.034483</td>\n",
       "    </tr>\n",
       "    <tr>\n",
       "      <th>4</th>\n",
       "      <td>8</td>\n",
       "      <td>1</td>\n",
       "      <td>NaN</td>\n",
       "      <td>NaN</td>\n",
       "      <td>NaN</td>\n",
       "      <td>NaN</td>\n",
       "      <td>NaN</td>\n",
       "      <td>NaN</td>\n",
       "      <td>NaN</td>\n",
       "      <td>NaN</td>\n",
       "      <td>...</td>\n",
       "      <td>NaN</td>\n",
       "      <td>NaN</td>\n",
       "      <td>NaN</td>\n",
       "      <td>NaN</td>\n",
       "      <td>NaN</td>\n",
       "      <td>NaN</td>\n",
       "      <td>NaN</td>\n",
       "      <td>0</td>\n",
       "      <td>NaN</td>\n",
       "      <td>NaN</td>\n",
       "    </tr>\n",
       "  </tbody>\n",
       "</table>\n",
       "<p>5 rows × 114 columns</p>\n",
       "</div>"
      ],
      "text/plain": [
       "   ID  target        v1        v2        v4         v5        v6        v7  \\\n",
       "0   3       1  1.335739  8.727474  3.921026   7.915266  2.599278  3.176895   \n",
       "1   4       1       NaN       NaN       NaN   9.191265       NaN       NaN   \n",
       "2   5       1  0.943877  5.310079  4.410969   5.326159  3.979592  3.928571   \n",
       "3   6       1  0.797415  8.304757  4.225930  11.627438  2.097700  1.987549   \n",
       "4   8       1       NaN       NaN       NaN        NaN       NaN       NaN   \n",
       "\n",
       "         v8         v9  ...      v121      v122      v123      v124      v126  \\\n",
       "0  0.012941   9.999999  ...  0.803572  8.000000  1.989780  0.035754  1.804126   \n",
       "1  2.301630        NaN  ...       NaN       NaN       NaN  0.598896       NaN   \n",
       "2  0.019645  12.666667  ...  2.238806  9.333333  2.477596  0.013452  1.773709   \n",
       "3  0.171947   8.965516  ...  1.956521  7.018256  1.812795  0.002267  1.415230   \n",
       "4       NaN        NaN  ...       NaN       NaN       NaN       NaN       NaN   \n",
       "\n",
       "       v127      v128  v129      v130      v131  \n",
       "0  3.113719  2.024285     0  0.636365  2.857144  \n",
       "1       NaN  1.957825     0       NaN       NaN  \n",
       "2  3.922193  1.120468     2  0.883118  1.176472  \n",
       "3  2.954381  1.990847     1  1.677108  1.034483  \n",
       "4       NaN       NaN     0       NaN       NaN  \n",
       "\n",
       "[5 rows x 114 columns]"
      ]
     },
     "execution_count": 32,
     "metadata": {},
     "output_type": "execute_result"
    }
   ],
   "source": [
    "numerics = ['int16', 'int32', 'int64', 'float16', 'float32', 'float64']\n",
    "data_real = data.select_dtypes(include=numerics)\n",
    "data_real.head()"
   ]
  },
  {
   "cell_type": "markdown",
   "metadata": {},
   "source": [
    "__Задание 3__"
   ]
  },
  {
   "cell_type": "code",
   "execution_count": 33,
   "metadata": {
    "execution": {
     "iopub.execute_input": "2022-10-30T15:38:59.617133Z",
     "iopub.status.busy": "2022-10-30T15:38:59.616853Z",
     "iopub.status.idle": "2022-10-30T15:38:59.649505Z",
     "shell.execute_reply": "2022-10-30T15:38:59.648678Z",
     "shell.execute_reply.started": "2022-10-30T15:38:59.617102Z"
    }
   },
   "outputs": [
    {
     "data": {
      "text/html": [
       "<div>\n",
       "<style scoped>\n",
       "    .dataframe tbody tr th:only-of-type {\n",
       "        vertical-align: middle;\n",
       "    }\n",
       "\n",
       "    .dataframe tbody tr th {\n",
       "        vertical-align: top;\n",
       "    }\n",
       "\n",
       "    .dataframe thead th {\n",
       "        text-align: right;\n",
       "    }\n",
       "</style>\n",
       "<table border=\"1\" class=\"dataframe\">\n",
       "  <thead>\n",
       "    <tr style=\"text-align: right;\">\n",
       "      <th></th>\n",
       "      <th>ID</th>\n",
       "      <th>target</th>\n",
       "      <th>v1</th>\n",
       "      <th>v2</th>\n",
       "      <th>v4</th>\n",
       "      <th>v5</th>\n",
       "      <th>v6</th>\n",
       "      <th>v7</th>\n",
       "      <th>v8</th>\n",
       "      <th>v9</th>\n",
       "      <th>...</th>\n",
       "      <th>v121</th>\n",
       "      <th>v122</th>\n",
       "      <th>v123</th>\n",
       "      <th>v124</th>\n",
       "      <th>v126</th>\n",
       "      <th>v127</th>\n",
       "      <th>v128</th>\n",
       "      <th>v129</th>\n",
       "      <th>v130</th>\n",
       "      <th>v131</th>\n",
       "    </tr>\n",
       "  </thead>\n",
       "  <tbody>\n",
       "    <tr>\n",
       "      <th>0</th>\n",
       "      <td>3</td>\n",
       "      <td>1</td>\n",
       "      <td>1.335739</td>\n",
       "      <td>8.727474</td>\n",
       "      <td>3.921026</td>\n",
       "      <td>7.915266</td>\n",
       "      <td>2.599278</td>\n",
       "      <td>3.176895</td>\n",
       "      <td>0.012941</td>\n",
       "      <td>9.999999</td>\n",
       "      <td>...</td>\n",
       "      <td>0.803572</td>\n",
       "      <td>8.000000</td>\n",
       "      <td>1.989780</td>\n",
       "      <td>0.035754</td>\n",
       "      <td>1.804126</td>\n",
       "      <td>3.113719</td>\n",
       "      <td>2.024285</td>\n",
       "      <td>0</td>\n",
       "      <td>0.636365</td>\n",
       "      <td>2.857144</td>\n",
       "    </tr>\n",
       "    <tr>\n",
       "      <th>1</th>\n",
       "      <td>4</td>\n",
       "      <td>1</td>\n",
       "      <td>0.000000</td>\n",
       "      <td>0.000000</td>\n",
       "      <td>0.000000</td>\n",
       "      <td>9.191265</td>\n",
       "      <td>0.000000</td>\n",
       "      <td>0.000000</td>\n",
       "      <td>2.301630</td>\n",
       "      <td>0.000000</td>\n",
       "      <td>...</td>\n",
       "      <td>0.000000</td>\n",
       "      <td>0.000000</td>\n",
       "      <td>0.000000</td>\n",
       "      <td>0.598896</td>\n",
       "      <td>0.000000</td>\n",
       "      <td>0.000000</td>\n",
       "      <td>1.957825</td>\n",
       "      <td>0</td>\n",
       "      <td>0.000000</td>\n",
       "      <td>0.000000</td>\n",
       "    </tr>\n",
       "    <tr>\n",
       "      <th>2</th>\n",
       "      <td>5</td>\n",
       "      <td>1</td>\n",
       "      <td>0.943877</td>\n",
       "      <td>5.310079</td>\n",
       "      <td>4.410969</td>\n",
       "      <td>5.326159</td>\n",
       "      <td>3.979592</td>\n",
       "      <td>3.928571</td>\n",
       "      <td>0.019645</td>\n",
       "      <td>12.666667</td>\n",
       "      <td>...</td>\n",
       "      <td>2.238806</td>\n",
       "      <td>9.333333</td>\n",
       "      <td>2.477596</td>\n",
       "      <td>0.013452</td>\n",
       "      <td>1.773709</td>\n",
       "      <td>3.922193</td>\n",
       "      <td>1.120468</td>\n",
       "      <td>2</td>\n",
       "      <td>0.883118</td>\n",
       "      <td>1.176472</td>\n",
       "    </tr>\n",
       "    <tr>\n",
       "      <th>3</th>\n",
       "      <td>6</td>\n",
       "      <td>1</td>\n",
       "      <td>0.797415</td>\n",
       "      <td>8.304757</td>\n",
       "      <td>4.225930</td>\n",
       "      <td>11.627438</td>\n",
       "      <td>2.097700</td>\n",
       "      <td>1.987549</td>\n",
       "      <td>0.171947</td>\n",
       "      <td>8.965516</td>\n",
       "      <td>...</td>\n",
       "      <td>1.956521</td>\n",
       "      <td>7.018256</td>\n",
       "      <td>1.812795</td>\n",
       "      <td>0.002267</td>\n",
       "      <td>1.415230</td>\n",
       "      <td>2.954381</td>\n",
       "      <td>1.990847</td>\n",
       "      <td>1</td>\n",
       "      <td>1.677108</td>\n",
       "      <td>1.034483</td>\n",
       "    </tr>\n",
       "    <tr>\n",
       "      <th>4</th>\n",
       "      <td>8</td>\n",
       "      <td>1</td>\n",
       "      <td>0.000000</td>\n",
       "      <td>0.000000</td>\n",
       "      <td>0.000000</td>\n",
       "      <td>0.000000</td>\n",
       "      <td>0.000000</td>\n",
       "      <td>0.000000</td>\n",
       "      <td>0.000000</td>\n",
       "      <td>0.000000</td>\n",
       "      <td>...</td>\n",
       "      <td>0.000000</td>\n",
       "      <td>0.000000</td>\n",
       "      <td>0.000000</td>\n",
       "      <td>0.000000</td>\n",
       "      <td>0.000000</td>\n",
       "      <td>0.000000</td>\n",
       "      <td>0.000000</td>\n",
       "      <td>0</td>\n",
       "      <td>0.000000</td>\n",
       "      <td>0.000000</td>\n",
       "    </tr>\n",
       "  </tbody>\n",
       "</table>\n",
       "<p>5 rows × 114 columns</p>\n",
       "</div>"
      ],
      "text/plain": [
       "   ID  target        v1        v2        v4         v5        v6        v7  \\\n",
       "0   3       1  1.335739  8.727474  3.921026   7.915266  2.599278  3.176895   \n",
       "1   4       1  0.000000  0.000000  0.000000   9.191265  0.000000  0.000000   \n",
       "2   5       1  0.943877  5.310079  4.410969   5.326159  3.979592  3.928571   \n",
       "3   6       1  0.797415  8.304757  4.225930  11.627438  2.097700  1.987549   \n",
       "4   8       1  0.000000  0.000000  0.000000   0.000000  0.000000  0.000000   \n",
       "\n",
       "         v8         v9  ...      v121      v122      v123      v124      v126  \\\n",
       "0  0.012941   9.999999  ...  0.803572  8.000000  1.989780  0.035754  1.804126   \n",
       "1  2.301630   0.000000  ...  0.000000  0.000000  0.000000  0.598896  0.000000   \n",
       "2  0.019645  12.666667  ...  2.238806  9.333333  2.477596  0.013452  1.773709   \n",
       "3  0.171947   8.965516  ...  1.956521  7.018256  1.812795  0.002267  1.415230   \n",
       "4  0.000000   0.000000  ...  0.000000  0.000000  0.000000  0.000000  0.000000   \n",
       "\n",
       "       v127      v128  v129      v130      v131  \n",
       "0  3.113719  2.024285     0  0.636365  2.857144  \n",
       "1  0.000000  1.957825     0  0.000000  0.000000  \n",
       "2  3.922193  1.120468     2  0.883118  1.176472  \n",
       "3  2.954381  1.990847     1  1.677108  1.034483  \n",
       "4  0.000000  0.000000     0  0.000000  0.000000  \n",
       "\n",
       "[5 rows x 114 columns]"
      ]
     },
     "execution_count": 33,
     "metadata": {},
     "output_type": "execute_result"
    }
   ],
   "source": [
    "data_real = data_real.fillna(0)\n",
    "data_real.head()"
   ]
  },
  {
   "cell_type": "markdown",
   "metadata": {},
   "source": [
    "__Задание 4__"
   ]
  },
  {
   "cell_type": "code",
   "execution_count": 9,
   "metadata": {
    "execution": {
     "iopub.execute_input": "2022-10-30T15:27:46.415003Z",
     "iopub.status.busy": "2022-10-30T15:27:46.414747Z",
     "iopub.status.idle": "2022-10-30T15:27:47.190259Z",
     "shell.execute_reply": "2022-10-30T15:27:47.189557Z",
     "shell.execute_reply.started": "2022-10-30T15:27:46.414971Z"
    }
   },
   "outputs": [],
   "source": [
    "from sklearn.tree import DecisionTreeClassifier\n",
    "from sklearn.ensemble import BaggingClassifier\n",
    "from sklearn.ensemble import RandomForestClassifier\n",
    "from sklearn.model_selection import StratifiedKFold\n",
    "from sklearn.model_selection import cross_val_score\n",
    "from sklearn.model_selection import train_test_split\n",
    "from sklearn.metrics import accuracy_score"
   ]
  },
  {
   "cell_type": "code",
   "execution_count": 293,
   "metadata": {
    "execution": {
     "iopub.execute_input": "2022-10-30T17:50:56.736482Z",
     "iopub.status.busy": "2022-10-30T17:50:56.736199Z",
     "iopub.status.idle": "2022-10-30T17:50:56.747309Z",
     "shell.execute_reply": "2022-10-30T17:50:56.746447Z",
     "shell.execute_reply.started": "2022-10-30T17:50:56.736453Z"
    }
   },
   "outputs": [],
   "source": [
    "X = data_real.loc[:, \"v1\":\"v131\"]\n",
    "y = data_real[\"target\"]"
   ]
  },
  {
   "cell_type": "code",
   "execution_count": 35,
   "metadata": {
    "execution": {
     "iopub.execute_input": "2022-10-30T15:39:04.930565Z",
     "iopub.status.busy": "2022-10-30T15:39:04.930289Z",
     "iopub.status.idle": "2022-10-30T15:39:05.925444Z",
     "shell.execute_reply": "2022-10-30T15:39:05.924602Z",
     "shell.execute_reply.started": "2022-10-30T15:39:04.930535Z"
    }
   },
   "outputs": [
    {
     "data": {
      "text/plain": [
       "DecisionTreeClassifier(random_state=42)"
      ]
     },
     "execution_count": 35,
     "metadata": {},
     "output_type": "execute_result"
    }
   ],
   "source": [
    "dt_clf = DecisionTreeClassifier(random_state=42)\n",
    "dt_clf.fit(X, y)"
   ]
  },
  {
   "cell_type": "code",
   "execution_count": 12,
   "metadata": {
    "execution": {
     "iopub.execute_input": "2022-10-30T15:27:48.201302Z",
     "iopub.status.busy": "2022-10-30T15:27:48.201078Z",
     "iopub.status.idle": "2022-10-30T15:28:38.604391Z",
     "shell.execute_reply": "2022-10-30T15:28:38.603484Z",
     "shell.execute_reply.started": "2022-10-30T15:27:48.201272Z"
    }
   },
   "outputs": [
    {
     "data": {
      "text/plain": [
       "BaggingClassifier(n_estimators=100, n_jobs=4, random_state=42)"
      ]
     },
     "execution_count": 12,
     "metadata": {},
     "output_type": "execute_result"
    }
   ],
   "source": [
    "bag_clf = BaggingClassifier(n_estimators=100, n_jobs=4, random_state=42)\n",
    "bag_clf.fit(X, y)"
   ]
  },
  {
   "cell_type": "code",
   "execution_count": 13,
   "metadata": {
    "execution": {
     "iopub.execute_input": "2022-10-30T15:28:38.606162Z",
     "iopub.status.busy": "2022-10-30T15:28:38.605953Z",
     "iopub.status.idle": "2022-10-30T15:28:43.189423Z",
     "shell.execute_reply": "2022-10-30T15:28:43.188724Z",
     "shell.execute_reply.started": "2022-10-30T15:28:38.606136Z"
    }
   },
   "outputs": [
    {
     "data": {
      "text/plain": [
       "RandomForestClassifier(n_jobs=4, random_state=42)"
      ]
     },
     "execution_count": 13,
     "metadata": {},
     "output_type": "execute_result"
    }
   ],
   "source": [
    "rnd_frst_clf = RandomForestClassifier(n_estimators=100, n_jobs=4, random_state=42)\n",
    "rnd_frst_clf.fit(X, y)"
   ]
  },
  {
   "cell_type": "code",
   "execution_count": 14,
   "metadata": {
    "execution": {
     "iopub.execute_input": "2022-10-30T15:28:43.191081Z",
     "iopub.status.busy": "2022-10-30T15:28:43.190815Z",
     "iopub.status.idle": "2022-10-30T15:28:43.195656Z",
     "shell.execute_reply": "2022-10-30T15:28:43.194814Z",
     "shell.execute_reply.started": "2022-10-30T15:28:43.191032Z"
    }
   },
   "outputs": [],
   "source": [
    "skf = StratifiedKFold(n_splits=3, shuffle=True, random_state=42)"
   ]
  },
  {
   "cell_type": "code",
   "execution_count": 15,
   "metadata": {
    "execution": {
     "iopub.execute_input": "2022-10-30T15:28:43.197415Z",
     "iopub.status.busy": "2022-10-30T15:28:43.197159Z",
     "iopub.status.idle": "2022-10-30T15:30:20.783988Z",
     "shell.execute_reply": "2022-10-30T15:30:20.783251Z",
     "shell.execute_reply.started": "2022-10-30T15:28:43.197382Z"
    }
   },
   "outputs": [],
   "source": [
    "cvs_dt = cross_val_score(dt_clf, X, y, cv=skf, scoring='accuracy')\n",
    "cvs_bag = cross_val_score(bag_clf, X, y, cv=skf, scoring='accuracy')\n",
    "cvs_rnd_frst = cross_val_score(rnd_frst_clf, X, y, cv=skf, scoring='accuracy')"
   ]
  },
  {
   "cell_type": "code",
   "execution_count": 16,
   "metadata": {
    "execution": {
     "iopub.execute_input": "2022-10-30T15:30:20.785531Z",
     "iopub.status.busy": "2022-10-30T15:30:20.785279Z",
     "iopub.status.idle": "2022-10-30T15:30:20.794015Z",
     "shell.execute_reply": "2022-10-30T15:30:20.793187Z",
     "shell.execute_reply.started": "2022-10-30T15:30:20.785483Z"
    }
   },
   "outputs": [
    {
     "name": "stdout",
     "output_type": "stream",
     "text": [
      "DecisionTreeClassifier cross_val_score: [0.65746851 0.64866487 0.66666667], \t mean: 0.6576000131506851\n",
      "BaggingClassifier cross_val_score: [0.74955009 0.74887489 0.7479748 ], \t\t mean: 0.7487999249835001\n",
      "RandomForestClassifier cross_val_score: [0.75344931 0.75367537 0.75487549], \t mean: 0.7540000550744937\n"
     ]
    }
   ],
   "source": [
    "print(f\"DecisionTreeClassifier cross_val_score: {cvs_dt}, \\t mean: {np.mean(cvs_dt)}\")\n",
    "print(f\"BaggingClassifier cross_val_score: {cvs_bag}, \\t\\t mean: {np.mean(cvs_bag)}\")\n",
    "print(f\"RandomForestClassifier cross_val_score: {cvs_rnd_frst}, \\t mean: {np.mean(cvs_rnd_frst)}\")"
   ]
  },
  {
   "cell_type": "markdown",
   "metadata": {},
   "source": [
    "На основании полученных результатов, можно сделать вывод, что лучше всего классифицировал $-$ случайный лес."
   ]
  },
  {
   "cell_type": "markdown",
   "metadata": {},
   "source": [
    "__Задание 5__"
   ]
  },
  {
   "cell_type": "code",
   "execution_count": 17,
   "metadata": {
    "execution": {
     "iopub.execute_input": "2022-10-30T15:30:20.796213Z",
     "iopub.status.busy": "2022-10-30T15:30:20.795315Z",
     "iopub.status.idle": "2022-10-30T15:30:20.809717Z",
     "shell.execute_reply": "2022-10-30T15:30:20.809094Z",
     "shell.execute_reply.started": "2022-10-30T15:30:20.796181Z"
    }
   },
   "outputs": [],
   "source": [
    "X_train, X_test, y_train, y_test = train_test_split(X, y, test_size=0.50, random_state=42)"
   ]
  },
  {
   "cell_type": "code",
   "execution_count": 18,
   "metadata": {
    "execution": {
     "iopub.execute_input": "2022-10-30T15:30:20.812324Z",
     "iopub.status.busy": "2022-10-30T15:30:20.812140Z",
     "iopub.status.idle": "2022-10-30T15:30:20.817123Z",
     "shell.execute_reply": "2022-10-30T15:30:20.815662Z",
     "shell.execute_reply.started": "2022-10-30T15:30:20.812302Z"
    }
   },
   "outputs": [],
   "source": [
    "rnd_frst_clf_huge = RandomForestClassifier(n_jobs=4, random_state=42, warm_start=True)"
   ]
  },
  {
   "cell_type": "code",
   "execution_count": 19,
   "metadata": {
    "execution": {
     "iopub.execute_input": "2022-10-30T15:30:20.818939Z",
     "iopub.status.busy": "2022-10-30T15:30:20.818563Z",
     "iopub.status.idle": "2022-10-30T15:31:04.714070Z",
     "shell.execute_reply": "2022-10-30T15:31:04.713228Z",
     "shell.execute_reply.started": "2022-10-30T15:30:20.818783Z"
    }
   },
   "outputs": [],
   "source": [
    "accuracy_results = []\n",
    "\n",
    "for i in range(20, 1020, 20):\n",
    "    rnd_frst_clf_huge.set_params(n_estimators=i)\n",
    "    rnd_frst_clf_huge.fit(X_train, y_train)\n",
    "    accuracy_results.append(accuracy_score(rnd_frst_clf_huge.predict(X_test), y_test))"
   ]
  },
  {
   "cell_type": "code",
   "execution_count": 20,
   "metadata": {
    "execution": {
     "iopub.execute_input": "2022-10-30T15:31:04.715793Z",
     "iopub.status.busy": "2022-10-30T15:31:04.715314Z",
     "iopub.status.idle": "2022-10-30T15:31:04.943418Z",
     "shell.execute_reply": "2022-10-30T15:31:04.942766Z",
     "shell.execute_reply.started": "2022-10-30T15:31:04.715758Z"
    }
   },
   "outputs": [
    {
     "data": {
      "image/png": "[encoded data removed]",
      "text/plain": [
       "<Figure size 432x288 with 1 Axes>"
      ]
     },
     "metadata": {
      "needs_background": "light"
     },
     "output_type": "display_data"
    }
   ],
   "source": [
    "x = list(range(20, 1020, 20))\n",
    "plt.plot(x, accuracy_results)\n",
    "plt.xlabel(\"Number of estimators\")\n",
    "plt.ylabel(\"Accuracy\")\n",
    "plt.show()"
   ]
  },
  {
   "cell_type": "markdown",
   "metadata": {},
   "source": [
    "На графике можно видеть, что для некоторых значений `n_estimators` имеет место переобучение."
   ]
  },
  {
   "cell_type": "markdown",
   "metadata": {},
   "source": [
    "__Задание 6__"
   ]
  },
  {
   "cell_type": "code",
   "execution_count": 21,
   "metadata": {
    "execution": {
     "iopub.execute_input": "2022-10-30T15:31:04.944973Z",
     "iopub.status.busy": "2022-10-30T15:31:04.944514Z",
     "iopub.status.idle": "2022-10-30T15:31:05.019818Z",
     "shell.execute_reply": "2022-10-30T15:31:05.019090Z",
     "shell.execute_reply.started": "2022-10-30T15:31:04.944932Z"
    }
   },
   "outputs": [],
   "source": [
    "from xgboost import XGBClassifier\n",
    "from sklearn.model_selection import GridSearchCV"
   ]
  },
  {
   "cell_type": "code",
   "execution_count": 25,
   "metadata": {
    "execution": {
     "iopub.execute_input": "2022-10-30T15:31:59.665438Z",
     "iopub.status.busy": "2022-10-30T15:31:59.665176Z",
     "iopub.status.idle": "2022-10-30T15:31:59.669670Z",
     "shell.execute_reply": "2022-10-30T15:31:59.668941Z",
     "shell.execute_reply.started": "2022-10-30T15:31:59.665409Z"
    }
   },
   "outputs": [],
   "source": [
    "xdg_clf = XGBClassifier(random_state=42, n_jobs=4, tree_method='gpu_hist', gpu_id=0, use_label_encoder=False)"
   ]
  },
  {
   "cell_type": "code",
   "execution_count": 26,
   "metadata": {
    "execution": {
     "iopub.execute_input": "2022-10-30T15:32:00.838822Z",
     "iopub.status.busy": "2022-10-30T15:32:00.838273Z",
     "iopub.status.idle": "2022-10-30T15:32:00.844136Z",
     "shell.execute_reply": "2022-10-30T15:32:00.843311Z",
     "shell.execute_reply.started": "2022-10-30T15:32:00.838787Z"
    }
   },
   "outputs": [],
   "source": [
    "param = {\"learning_rate\": [0.01, 0.1, 1], \"max_depth\": [3, 5, 10], \"n_estimators\": [10, 100, 500, 1000]}\n",
    "\n",
    "gs_xdg_clf = GridSearchCV(xdg_clf,\n",
    "                          param_grid=param,\n",
    "                          scoring='accuracy',\n",
    "                          n_jobs=4,\n",
    "                          cv=skf)"
   ]
  },
  {
   "cell_type": "code",
   "execution_count": 27,
   "metadata": {
    "execution": {
     "iopub.execute_input": "2022-10-30T15:32:01.626551Z",
     "iopub.status.busy": "2022-10-30T15:32:01.626258Z",
     "iopub.status.idle": "2022-10-30T15:37:12.102207Z",
     "shell.execute_reply": "2022-10-30T15:37:12.101443Z",
     "shell.execute_reply.started": "2022-10-30T15:32:01.626518Z"
    }
   },
   "outputs": [
    {
     "name": "stdout",
     "output_type": "stream",
     "text": [
      "[15:32:10] WARNING: ../src/learner.cc:1095: Starting in XGBoost 1.3.0, the default evaluation metric used with the objective 'binary:logistic' was changed from 'error' to 'logloss'. Explicitly set eval_metric if you'd like to restore the old behavior.\n",
      "[15:32:11] WARNING: ../src/learner.cc:1095: Starting in XGBoost 1.3.0, the default evaluation metric used with the objective 'binary:logistic' was changed from 'error' to 'logloss'. Explicitly set eval_metric if you'd like to restore the old behavior.\n",
      "[15:32:15] WARNING: ../src/learner.cc:1095: Starting in XGBoost 1.3.0, the default evaluation metric used with the objective 'binary:logistic' was changed from 'error' to 'logloss'. Explicitly set eval_metric if you'd like to restore the old behavior.\n",
      "[15:32:21] WARNING: ../src/learner.cc:1095: Starting in XGBoost 1.3.0, the default evaluation metric used with the objective 'binary:logistic' was changed from 'error' to 'logloss'. Explicitly set eval_metric if you'd like to restore the old behavior.\n",
      "[15:32:31] WARNING: ../src/learner.cc:1095: Starting in XGBoost 1.3.0, the default evaluation metric used with the objective 'binary:logistic' was changed from 'error' to 'logloss'. Explicitly set eval_metric if you'd like to restore the old behavior.\n",
      "[15:32:33] WARNING: ../src/learner.cc:1095: Starting in XGBoost 1.3.0, the default evaluation metric used with the objective 'binary:logistic' was changed from 'error' to 'logloss'. Explicitly set eval_metric if you'd like to restore the old behavior.\n",
      "[15:32:34] WARNING: ../src/learner.cc:1095: Starting in XGBoost 1.3.0, the default evaluation metric used with the objective 'binary:logistic' was changed from 'error' to 'logloss'. Explicitly set eval_metric if you'd like to restore the old behavior.\n",
      "[15:32:36] WARNING: ../src/learner.cc:1095: Starting in XGBoost 1.3.0, the default evaluation metric used with the objective 'binary:logistic' was changed from 'error' to 'logloss'. Explicitly set eval_metric if you'd like to restore the old behavior.\n",
      "[15:32:48] WARNING: ../src/learner.cc:1095: Starting in XGBoost 1.3.0, the default evaluation metric used with the objective 'binary:logistic' was changed from 'error' to 'logloss'. Explicitly set eval_metric if you'd like to restore the old behavior.\n",
      "[15:33:46] WARNING: ../src/learner.cc:1095: Starting in XGBoost 1.3.0, the default evaluation metric used with the objective 'binary:logistic' was changed from 'error' to 'logloss'. Explicitly set eval_metric if you'd like to restore the old behavior.\n",
      "[15:35:05] WARNING: ../src/learner.cc:1095: Starting in XGBoost 1.3.0, the default evaluation metric used with the objective 'binary:logistic' was changed from 'error' to 'logloss'. Explicitly set eval_metric if you'd like to restore the old behavior.\n",
      "[15:35:07] WARNING: ../src/learner.cc:1095: Starting in XGBoost 1.3.0, the default evaluation metric used with the objective 'binary:logistic' was changed from 'error' to 'logloss'. Explicitly set eval_metric if you'd like to restore the old behavior.\n",
      "[15:35:08] WARNING: ../src/learner.cc:1095: Starting in XGBoost 1.3.0, the default evaluation metric used with the objective 'binary:logistic' was changed from 'error' to 'logloss'. Explicitly set eval_metric if you'd like to restore the old behavior.\n",
      "[15:35:10] WARNING: ../src/learner.cc:1095: Starting in XGBoost 1.3.0, the default evaluation metric used with the objective 'binary:logistic' was changed from 'error' to 'logloss'. Explicitly set eval_metric if you'd like to restore the old behavior.\n",
      "[15:35:18] WARNING: ../src/learner.cc:1095: Starting in XGBoost 1.3.0, the default evaluation metric used with the objective 'binary:logistic' was changed from 'error' to 'logloss'. Explicitly set eval_metric if you'd like to restore the old behavior.\n",
      "[15:35:49] WARNING: ../src/learner.cc:1095: Starting in XGBoost 1.3.0, the default evaluation metric used with the objective 'binary:logistic' was changed from 'error' to 'logloss'. Explicitly set eval_metric if you'd like to restore the old behavior.\n",
      "[15:35:49] WARNING: ../src/learner.cc:1095: Starting in XGBoost 1.3.0, the default evaluation metric used with the objective 'binary:logistic' was changed from 'error' to 'logloss'. Explicitly set eval_metric if you'd like to restore the old behavior.\n",
      "[15:35:49] WARNING: ../src/learner.cc:1095: Starting in XGBoost 1.3.0, the default evaluation metric used with the objective 'binary:logistic' was changed from 'error' to 'logloss'. Explicitly set eval_metric if you'd like to restore the old behavior.\n",
      "[15:35:49] WARNING: ../src/learner.cc:1095: Starting in XGBoost 1.3.0, the default evaluation metric used with the objective 'binary:logistic' was changed from 'error' to 'logloss'. Explicitly set eval_metric if you'd like to restore the old behavior.\n",
      "[15:35:50] WARNING: ../src/learner.cc:1095: Starting in XGBoost 1.3.0, the default evaluation metric used with the objective 'binary:logistic' was changed from 'error' to 'logloss'. Explicitly set eval_metric if you'd like to restore the old behavior.\n",
      "[15:35:51] WARNING: ../src/learner.cc:1095: Starting in XGBoost 1.3.0, the default evaluation metric used with the objective 'binary:logistic' was changed from 'error' to 'logloss'. Explicitly set eval_metric if you'd like to restore the old behavior.\n",
      "[15:35:52] WARNING: ../src/learner.cc:1095: Starting in XGBoost 1.3.0, the default evaluation metric used with the objective 'binary:logistic' was changed from 'error' to 'logloss'. Explicitly set eval_metric if you'd like to restore the old behavior.\n",
      "[15:35:57] WARNING: ../src/learner.cc:1095: Starting in XGBoost 1.3.0, the default evaluation metric used with the objective 'binary:logistic' was changed from 'error' to 'logloss'. Explicitly set eval_metric if you'd like to restore the old behavior.\n",
      "[15:36:02] WARNING: ../src/learner.cc:1095: Starting in XGBoost 1.3.0, the default evaluation metric used with the objective 'binary:logistic' was changed from 'error' to 'logloss'. Explicitly set eval_metric if you'd like to restore the old behavior.\n",
      "[15:36:06] WARNING: ../src/learner.cc:1095: Starting in XGBoost 1.3.0, the default evaluation metric used with the objective 'binary:logistic' was changed from 'error' to 'logloss'. Explicitly set eval_metric if you'd like to restore the old behavior.\n",
      "[15:36:13] WARNING: ../src/learner.cc:1095: Starting in XGBoost 1.3.0, the default evaluation metric used with the objective 'binary:logistic' was changed from 'error' to 'logloss'. Explicitly set eval_metric if you'd like to restore the old behavior.\n",
      "[15:36:14] WARNING: ../src/learner.cc:1095: Starting in XGBoost 1.3.0, the default evaluation metric used with the objective 'binary:logistic' was changed from 'error' to 'logloss'. Explicitly set eval_metric if you'd like to restore the old behavior.\n",
      "[15:36:14] WARNING: ../src/learner.cc:1095: Starting in XGBoost 1.3.0, the default evaluation metric used with the objective 'binary:logistic' was changed from 'error' to 'logloss'. Explicitly set eval_metric if you'd like to restore the old behavior.\n",
      "[15:36:14] WARNING: ../src/learner.cc:1095: Starting in XGBoost 1.3.0, the default evaluation metric used with the objective 'binary:logistic' was changed from 'error' to 'logloss'. Explicitly set eval_metric if you'd like to restore the old behavior.\n",
      "[15:36:16] WARNING: ../src/learner.cc:1095: Starting in XGBoost 1.3.0, the default evaluation metric used with the objective 'binary:logistic' was changed from 'error' to 'logloss'. Explicitly set eval_metric if you'd like to restore the old behavior.\n",
      "[15:36:18] WARNING: ../src/learner.cc:1095: Starting in XGBoost 1.3.0, the default evaluation metric used with the objective 'binary:logistic' was changed from 'error' to 'logloss'. Explicitly set eval_metric if you'd like to restore the old behavior.\n",
      "[15:36:20] WARNING: ../src/learner.cc:1095: Starting in XGBoost 1.3.0, the default evaluation metric used with the objective 'binary:logistic' was changed from 'error' to 'logloss'. Explicitly set eval_metric if you'd like to restore the old behavior.\n",
      "[15:36:27] WARNING: ../src/learner.cc:1095: Starting in XGBoost 1.3.0, the default evaluation metric used with the objective 'binary:logistic' was changed from 'error' to 'logloss'. Explicitly set eval_metric if you'd like to restore the old behavior.[15:37:08] WARNING: ../src/learner.cc:1095: Starting in XGBoost 1.3.0, the default evaluation metric used with the objective 'binary:logistic' was changed from 'error' to 'logloss'. Explicitly set eval_metric if you'd like to restore the old behavior.\n"
     ]
    },
    {
     "data": {
      "text/plain": [
       "GridSearchCV(cv=StratifiedKFold(n_splits=3, random_state=42, shuffle=True),\n",
       "             estimator=XGBClassifier(base_score=None, booster=None,\n",
       "                                     colsample_bylevel=None,\n",
       "                                     colsample_bynode=None,\n",
       "                                     colsample_bytree=None, gamma=None,\n",
       "                                     gpu_id=0, importance_type='gain',\n",
       "                                     interaction_constraints=None,\n",
       "                                     learning_rate=None, max_delta_step=None,\n",
       "                                     max_depth=None, min_child_weight=None,\n",
       "                                     missing=n...None,\n",
       "                                     n_estimators=100, n_jobs=4,\n",
       "                                     num_parallel_tree=None, random_state=42,\n",
       "                                     reg_alpha=None, reg_lambda=None,\n",
       "                                     scale_pos_weight=None, subsample=None,\n",
       "                                     tree_method='gpu_hist',\n",
       "                                     use_label_encoder=False,\n",
       "                                     validate_parameters=None, verbosity=None),\n",
       "             n_jobs=4,\n",
       "             param_grid={'learning_rate': [0.01, 0.1, 1],\n",
       "                         'max_depth': [3, 5, 10],\n",
       "                         'n_estimators': [10, 100, 500, 1000]},\n",
       "             scoring='accuracy')"
      ]
     },
     "execution_count": 27,
     "metadata": {},
     "output_type": "execute_result"
    }
   ],
   "source": [
    "gs_xdg_clf.fit(X, y)"
   ]
  },
  {
   "cell_type": "code",
   "execution_count": 28,
   "metadata": {
    "execution": {
     "iopub.execute_input": "2022-10-30T15:37:12.104264Z",
     "iopub.status.busy": "2022-10-30T15:37:12.103989Z",
     "iopub.status.idle": "2022-10-30T15:37:12.272778Z",
     "shell.execute_reply": "2022-10-30T15:37:12.271383Z",
     "shell.execute_reply.started": "2022-10-30T15:37:12.104229Z"
    }
   },
   "outputs": [
    {
     "name": "stdout",
     "output_type": "stream",
     "text": [
      "Best param: {'learning_rate': 0.01, 'max_depth': 5, 'n_estimators': 1000}\n",
      "Accuracy score: 0.8201\n"
     ]
    }
   ],
   "source": [
    "print(f\"Best param: {gs_xdg_clf.best_params_}\")\n",
    "print(f\"Accuracy score: {gs_xdg_clf.score(X, y)}\")"
   ]
  },
  {
   "cell_type": "markdown",
   "metadata": {},
   "source": [
    "__Задание 7__"
   ]
  },
  {
   "cell_type": "code",
   "execution_count": 113,
   "metadata": {
    "execution": {
     "iopub.execute_input": "2022-10-30T15:57:59.698990Z",
     "iopub.status.busy": "2022-10-30T15:57:59.697968Z",
     "iopub.status.idle": "2022-10-30T15:57:59.703302Z",
     "shell.execute_reply": "2022-10-30T15:57:59.702480Z",
     "shell.execute_reply.started": "2022-10-30T15:57:59.698951Z"
    }
   },
   "outputs": [],
   "source": [
    "from sklearn.preprocessing import LabelEncoder\n",
    "from sklearn.preprocessing import OneHotEncoder"
   ]
  },
  {
   "cell_type": "markdown",
   "metadata": {},
   "source": [
    "`LabelEncoder`"
   ]
  },
  {
   "cell_type": "code",
   "execution_count": 134,
   "metadata": {
    "execution": {
     "iopub.execute_input": "2022-10-30T16:35:58.934169Z",
     "iopub.status.busy": "2022-10-30T16:35:58.933583Z",
     "iopub.status.idle": "2022-10-30T16:35:58.954950Z",
     "shell.execute_reply": "2022-10-30T16:35:58.954130Z",
     "shell.execute_reply.started": "2022-10-30T16:35:58.934135Z"
    }
   },
   "outputs": [],
   "source": [
    "category_columns = list(set(data.columns).difference(data_real.columns))\n",
    "selected_category_columns = [category for category in category_columns if len(set(data[category])) < 50]\n",
    "drop_columns = set(category_columns).difference(selected_category_columns)"
   ]
  },
  {
   "cell_type": "code",
   "execution_count": 135,
   "metadata": {
    "execution": {
     "iopub.execute_input": "2022-10-30T16:35:59.069802Z",
     "iopub.status.busy": "2022-10-30T16:35:59.069584Z",
     "iopub.status.idle": "2022-10-30T16:35:59.092495Z",
     "shell.execute_reply": "2022-10-30T16:35:59.091810Z",
     "shell.execute_reply.started": "2022-10-30T16:35:59.069779Z"
    }
   },
   "outputs": [],
   "source": [
    "data_category = data.drop(drop_columns, axis=1)\n",
    "data_category = data_category.fillna(0)"
   ]
  },
  {
   "cell_type": "code",
   "execution_count": 136,
   "metadata": {
    "execution": {
     "iopub.execute_input": "2022-10-30T16:35:59.217437Z",
     "iopub.status.busy": "2022-10-30T16:35:59.217174Z",
     "iopub.status.idle": "2022-10-30T16:35:59.264455Z",
     "shell.execute_reply": "2022-10-30T16:35:59.263748Z",
     "shell.execute_reply.started": "2022-10-30T16:35:59.217409Z"
    }
   },
   "outputs": [],
   "source": [
    "label_encoder_data = data_category\n",
    "le = LabelEncoder()\n",
    "\n",
    "for category in selected_category_columns:\n",
    "    label_encoder_data[category] = label_encoder_data[category].astype(str)\n",
    "    label_encoder_data[category] = le.fit_transform(label_encoder_data[category])"
   ]
  },
  {
   "cell_type": "code",
   "execution_count": 137,
   "metadata": {
    "execution": {
     "iopub.execute_input": "2022-10-30T16:36:00.059092Z",
     "iopub.status.busy": "2022-10-30T16:36:00.058420Z",
     "iopub.status.idle": "2022-10-30T16:36:00.088129Z",
     "shell.execute_reply": "2022-10-30T16:36:00.087451Z",
     "shell.execute_reply.started": "2022-10-30T16:36:00.059057Z"
    }
   },
   "outputs": [
    {
     "data": {
      "text/html": [
       "<div>\n",
       "<style scoped>\n",
       "    .dataframe tbody tr th:only-of-type {\n",
       "        vertical-align: middle;\n",
       "    }\n",
       "\n",
       "    .dataframe tbody tr th {\n",
       "        vertical-align: top;\n",
       "    }\n",
       "\n",
       "    .dataframe thead th {\n",
       "        text-align: right;\n",
       "    }\n",
       "</style>\n",
       "<table border=\"1\" class=\"dataframe\">\n",
       "  <thead>\n",
       "    <tr style=\"text-align: right;\">\n",
       "      <th></th>\n",
       "      <th>ID</th>\n",
       "      <th>target</th>\n",
       "      <th>v1</th>\n",
       "      <th>v2</th>\n",
       "      <th>v3</th>\n",
       "      <th>v4</th>\n",
       "      <th>v5</th>\n",
       "      <th>v6</th>\n",
       "      <th>v7</th>\n",
       "      <th>v8</th>\n",
       "      <th>...</th>\n",
       "      <th>v121</th>\n",
       "      <th>v122</th>\n",
       "      <th>v123</th>\n",
       "      <th>v124</th>\n",
       "      <th>v126</th>\n",
       "      <th>v127</th>\n",
       "      <th>v128</th>\n",
       "      <th>v129</th>\n",
       "      <th>v130</th>\n",
       "      <th>v131</th>\n",
       "    </tr>\n",
       "  </thead>\n",
       "  <tbody>\n",
       "    <tr>\n",
       "      <th>0</th>\n",
       "      <td>3</td>\n",
       "      <td>1</td>\n",
       "      <td>1.335739</td>\n",
       "      <td>8.727474</td>\n",
       "      <td>3</td>\n",
       "      <td>3.921026</td>\n",
       "      <td>7.915266</td>\n",
       "      <td>2.599278</td>\n",
       "      <td>3.176895</td>\n",
       "      <td>0.012941</td>\n",
       "      <td>...</td>\n",
       "      <td>0.803572</td>\n",
       "      <td>8.000000</td>\n",
       "      <td>1.989780</td>\n",
       "      <td>0.035754</td>\n",
       "      <td>1.804126</td>\n",
       "      <td>3.113719</td>\n",
       "      <td>2.024285</td>\n",
       "      <td>0</td>\n",
       "      <td>0.636365</td>\n",
       "      <td>2.857144</td>\n",
       "    </tr>\n",
       "    <tr>\n",
       "      <th>1</th>\n",
       "      <td>4</td>\n",
       "      <td>1</td>\n",
       "      <td>0.000000</td>\n",
       "      <td>0.000000</td>\n",
       "      <td>3</td>\n",
       "      <td>0.000000</td>\n",
       "      <td>9.191265</td>\n",
       "      <td>0.000000</td>\n",
       "      <td>0.000000</td>\n",
       "      <td>2.301630</td>\n",
       "      <td>...</td>\n",
       "      <td>0.000000</td>\n",
       "      <td>0.000000</td>\n",
       "      <td>0.000000</td>\n",
       "      <td>0.598896</td>\n",
       "      <td>0.000000</td>\n",
       "      <td>0.000000</td>\n",
       "      <td>1.957825</td>\n",
       "      <td>0</td>\n",
       "      <td>0.000000</td>\n",
       "      <td>0.000000</td>\n",
       "    </tr>\n",
       "    <tr>\n",
       "      <th>2</th>\n",
       "      <td>5</td>\n",
       "      <td>1</td>\n",
       "      <td>0.943877</td>\n",
       "      <td>5.310079</td>\n",
       "      <td>3</td>\n",
       "      <td>4.410969</td>\n",
       "      <td>5.326159</td>\n",
       "      <td>3.979592</td>\n",
       "      <td>3.928571</td>\n",
       "      <td>0.019645</td>\n",
       "      <td>...</td>\n",
       "      <td>2.238806</td>\n",
       "      <td>9.333333</td>\n",
       "      <td>2.477596</td>\n",
       "      <td>0.013452</td>\n",
       "      <td>1.773709</td>\n",
       "      <td>3.922193</td>\n",
       "      <td>1.120468</td>\n",
       "      <td>2</td>\n",
       "      <td>0.883118</td>\n",
       "      <td>1.176472</td>\n",
       "    </tr>\n",
       "    <tr>\n",
       "      <th>3</th>\n",
       "      <td>6</td>\n",
       "      <td>1</td>\n",
       "      <td>0.797415</td>\n",
       "      <td>8.304757</td>\n",
       "      <td>3</td>\n",
       "      <td>4.225930</td>\n",
       "      <td>11.627438</td>\n",
       "      <td>2.097700</td>\n",
       "      <td>1.987549</td>\n",
       "      <td>0.171947</td>\n",
       "      <td>...</td>\n",
       "      <td>1.956521</td>\n",
       "      <td>7.018256</td>\n",
       "      <td>1.812795</td>\n",
       "      <td>0.002267</td>\n",
       "      <td>1.415230</td>\n",
       "      <td>2.954381</td>\n",
       "      <td>1.990847</td>\n",
       "      <td>1</td>\n",
       "      <td>1.677108</td>\n",
       "      <td>1.034483</td>\n",
       "    </tr>\n",
       "    <tr>\n",
       "      <th>4</th>\n",
       "      <td>8</td>\n",
       "      <td>1</td>\n",
       "      <td>0.000000</td>\n",
       "      <td>0.000000</td>\n",
       "      <td>3</td>\n",
       "      <td>0.000000</td>\n",
       "      <td>0.000000</td>\n",
       "      <td>0.000000</td>\n",
       "      <td>0.000000</td>\n",
       "      <td>0.000000</td>\n",
       "      <td>...</td>\n",
       "      <td>0.000000</td>\n",
       "      <td>0.000000</td>\n",
       "      <td>0.000000</td>\n",
       "      <td>0.000000</td>\n",
       "      <td>0.000000</td>\n",
       "      <td>0.000000</td>\n",
       "      <td>0.000000</td>\n",
       "      <td>0</td>\n",
       "      <td>0.000000</td>\n",
       "      <td>0.000000</td>\n",
       "    </tr>\n",
       "  </tbody>\n",
       "</table>\n",
       "<p>5 rows × 130 columns</p>\n",
       "</div>"
      ],
      "text/plain": [
       "   ID  target        v1        v2  v3        v4         v5        v6  \\\n",
       "0   3       1  1.335739  8.727474   3  3.921026   7.915266  2.599278   \n",
       "1   4       1  0.000000  0.000000   3  0.000000   9.191265  0.000000   \n",
       "2   5       1  0.943877  5.310079   3  4.410969   5.326159  3.979592   \n",
       "3   6       1  0.797415  8.304757   3  4.225930  11.627438  2.097700   \n",
       "4   8       1  0.000000  0.000000   3  0.000000   0.000000  0.000000   \n",
       "\n",
       "         v7        v8  ...      v121      v122      v123      v124      v126  \\\n",
       "0  3.176895  0.012941  ...  0.803572  8.000000  1.989780  0.035754  1.804126   \n",
       "1  0.000000  2.301630  ...  0.000000  0.000000  0.000000  0.598896  0.000000   \n",
       "2  3.928571  0.019645  ...  2.238806  9.333333  2.477596  0.013452  1.773709   \n",
       "3  1.987549  0.171947  ...  1.956521  7.018256  1.812795  0.002267  1.415230   \n",
       "4  0.000000  0.000000  ...  0.000000  0.000000  0.000000  0.000000  0.000000   \n",
       "\n",
       "       v127      v128  v129      v130      v131  \n",
       "0  3.113719  2.024285     0  0.636365  2.857144  \n",
       "1  0.000000  1.957825     0  0.000000  0.000000  \n",
       "2  3.922193  1.120468     2  0.883118  1.176472  \n",
       "3  2.954381  1.990847     1  1.677108  1.034483  \n",
       "4  0.000000  0.000000     0  0.000000  0.000000  \n",
       "\n",
       "[5 rows x 130 columns]"
      ]
     },
     "execution_count": 137,
     "metadata": {},
     "output_type": "execute_result"
    }
   ],
   "source": [
    "label_encoder_data.head()"
   ]
  },
  {
   "cell_type": "markdown",
   "metadata": {},
   "source": [
    "`OneHotEncoder`"
   ]
  },
  {
   "cell_type": "code",
   "execution_count": 206,
   "metadata": {
    "execution": {
     "iopub.execute_input": "2022-10-30T16:53:37.073081Z",
     "iopub.status.busy": "2022-10-30T16:53:37.072358Z",
     "iopub.status.idle": "2022-10-30T16:53:37.095417Z",
     "shell.execute_reply": "2022-10-30T16:53:37.094775Z",
     "shell.execute_reply.started": "2022-10-30T16:53:37.073048Z"
    }
   },
   "outputs": [],
   "source": [
    "category_columns = list(set(data.columns).difference(data_real.columns))\n",
    "selected_category_columns = [category for category in category_columns if len(set(data[category])) < 50]\n",
    "drop_columns = set(category_columns).difference(selected_category_columns)"
   ]
  },
  {
   "cell_type": "code",
   "execution_count": 207,
   "metadata": {
    "execution": {
     "iopub.execute_input": "2022-10-30T16:53:37.230036Z",
     "iopub.status.busy": "2022-10-30T16:53:37.229566Z",
     "iopub.status.idle": "2022-10-30T16:53:37.253020Z",
     "shell.execute_reply": "2022-10-30T16:53:37.252336Z",
     "shell.execute_reply.started": "2022-10-30T16:53:37.230010Z"
    }
   },
   "outputs": [],
   "source": [
    "data_category = data.drop(drop_columns, axis=1)\n",
    "data_category = data_category.fillna(0)"
   ]
  },
  {
   "cell_type": "code",
   "execution_count": 208,
   "metadata": {
    "execution": {
     "iopub.execute_input": "2022-10-30T16:53:37.427332Z",
     "iopub.status.busy": "2022-10-30T16:53:37.427076Z",
     "iopub.status.idle": "2022-10-30T16:53:37.824847Z",
     "shell.execute_reply": "2022-10-30T16:53:37.824070Z",
     "shell.execute_reply.started": "2022-10-30T16:53:37.427305Z"
    }
   },
   "outputs": [],
   "source": [
    "one_hot_encoder_data = data_category\n",
    "\n",
    "for category in selected_category_columns:\n",
    "    enc = OneHotEncoder()\n",
    "    one_hot_encoder_data[category] = one_hot_encoder_data[category].astype(str)\n",
    "    enc = enc.fit_transform(one_hot_encoder_data[[category]]).toarray()\n",
    "    encoded_colm = pd.DataFrame(enc)\n",
    "    encoded_colm.columns = np.array(list(map(lambda x: f\"{category} {x}\", encoded_colm.columns)))\n",
    "    one_hot_encoder_data = pd.concat([one_hot_encoder_data, encoded_colm], axis=1)\n",
    "    one_hot_encoder_data = one_hot_encoder_data.drop([category], axis=1)"
   ]
  },
  {
   "cell_type": "code",
   "execution_count": 209,
   "metadata": {
    "execution": {
     "iopub.execute_input": "2022-10-30T16:53:38.004882Z",
     "iopub.status.busy": "2022-10-30T16:53:38.004240Z",
     "iopub.status.idle": "2022-10-30T16:53:38.033198Z",
     "shell.execute_reply": "2022-10-30T16:53:38.032440Z",
     "shell.execute_reply.started": "2022-10-30T16:53:38.004844Z"
    }
   },
   "outputs": [
    {
     "data": {
      "text/html": [
       "<div>\n",
       "<style scoped>\n",
       "    .dataframe tbody tr th:only-of-type {\n",
       "        vertical-align: middle;\n",
       "    }\n",
       "\n",
       "    .dataframe tbody tr th {\n",
       "        vertical-align: top;\n",
       "    }\n",
       "\n",
       "    .dataframe thead th {\n",
       "        text-align: right;\n",
       "    }\n",
       "</style>\n",
       "<table border=\"1\" class=\"dataframe\">\n",
       "  <thead>\n",
       "    <tr style=\"text-align: right;\">\n",
       "      <th></th>\n",
       "      <th>ID</th>\n",
       "      <th>target</th>\n",
       "      <th>v1</th>\n",
       "      <th>v2</th>\n",
       "      <th>v4</th>\n",
       "      <th>v5</th>\n",
       "      <th>v6</th>\n",
       "      <th>v7</th>\n",
       "      <th>v8</th>\n",
       "      <th>v9</th>\n",
       "      <th>...</th>\n",
       "      <th>v47 5</th>\n",
       "      <th>v47 6</th>\n",
       "      <th>v47 7</th>\n",
       "      <th>v47 8</th>\n",
       "      <th>v66 0</th>\n",
       "      <th>v66 1</th>\n",
       "      <th>v66 2</th>\n",
       "      <th>v74 0</th>\n",
       "      <th>v74 1</th>\n",
       "      <th>v74 2</th>\n",
       "    </tr>\n",
       "  </thead>\n",
       "  <tbody>\n",
       "    <tr>\n",
       "      <th>0</th>\n",
       "      <td>3</td>\n",
       "      <td>1</td>\n",
       "      <td>1.335739</td>\n",
       "      <td>8.727474</td>\n",
       "      <td>3.921026</td>\n",
       "      <td>7.915266</td>\n",
       "      <td>2.599278</td>\n",
       "      <td>3.176895</td>\n",
       "      <td>0.012941</td>\n",
       "      <td>9.999999</td>\n",
       "      <td>...</td>\n",
       "      <td>0.0</td>\n",
       "      <td>0.0</td>\n",
       "      <td>0.0</td>\n",
       "      <td>0.0</td>\n",
       "      <td>0.0</td>\n",
       "      <td>0.0</td>\n",
       "      <td>1.0</td>\n",
       "      <td>0.0</td>\n",
       "      <td>1.0</td>\n",
       "      <td>0.0</td>\n",
       "    </tr>\n",
       "    <tr>\n",
       "      <th>1</th>\n",
       "      <td>4</td>\n",
       "      <td>1</td>\n",
       "      <td>0.000000</td>\n",
       "      <td>0.000000</td>\n",
       "      <td>0.000000</td>\n",
       "      <td>9.191265</td>\n",
       "      <td>0.000000</td>\n",
       "      <td>0.000000</td>\n",
       "      <td>2.301630</td>\n",
       "      <td>0.000000</td>\n",
       "      <td>...</td>\n",
       "      <td>0.0</td>\n",
       "      <td>0.0</td>\n",
       "      <td>0.0</td>\n",
       "      <td>0.0</td>\n",
       "      <td>1.0</td>\n",
       "      <td>0.0</td>\n",
       "      <td>0.0</td>\n",
       "      <td>0.0</td>\n",
       "      <td>1.0</td>\n",
       "      <td>0.0</td>\n",
       "    </tr>\n",
       "    <tr>\n",
       "      <th>2</th>\n",
       "      <td>5</td>\n",
       "      <td>1</td>\n",
       "      <td>0.943877</td>\n",
       "      <td>5.310079</td>\n",
       "      <td>4.410969</td>\n",
       "      <td>5.326159</td>\n",
       "      <td>3.979592</td>\n",
       "      <td>3.928571</td>\n",
       "      <td>0.019645</td>\n",
       "      <td>12.666667</td>\n",
       "      <td>...</td>\n",
       "      <td>0.0</td>\n",
       "      <td>0.0</td>\n",
       "      <td>0.0</td>\n",
       "      <td>0.0</td>\n",
       "      <td>1.0</td>\n",
       "      <td>0.0</td>\n",
       "      <td>0.0</td>\n",
       "      <td>0.0</td>\n",
       "      <td>1.0</td>\n",
       "      <td>0.0</td>\n",
       "    </tr>\n",
       "    <tr>\n",
       "      <th>3</th>\n",
       "      <td>6</td>\n",
       "      <td>1</td>\n",
       "      <td>0.797415</td>\n",
       "      <td>8.304757</td>\n",
       "      <td>4.225930</td>\n",
       "      <td>11.627438</td>\n",
       "      <td>2.097700</td>\n",
       "      <td>1.987549</td>\n",
       "      <td>0.171947</td>\n",
       "      <td>8.965516</td>\n",
       "      <td>...</td>\n",
       "      <td>0.0</td>\n",
       "      <td>0.0</td>\n",
       "      <td>0.0</td>\n",
       "      <td>0.0</td>\n",
       "      <td>1.0</td>\n",
       "      <td>0.0</td>\n",
       "      <td>0.0</td>\n",
       "      <td>0.0</td>\n",
       "      <td>1.0</td>\n",
       "      <td>0.0</td>\n",
       "    </tr>\n",
       "    <tr>\n",
       "      <th>4</th>\n",
       "      <td>8</td>\n",
       "      <td>1</td>\n",
       "      <td>0.000000</td>\n",
       "      <td>0.000000</td>\n",
       "      <td>0.000000</td>\n",
       "      <td>0.000000</td>\n",
       "      <td>0.000000</td>\n",
       "      <td>0.000000</td>\n",
       "      <td>0.000000</td>\n",
       "      <td>0.000000</td>\n",
       "      <td>...</td>\n",
       "      <td>0.0</td>\n",
       "      <td>0.0</td>\n",
       "      <td>1.0</td>\n",
       "      <td>0.0</td>\n",
       "      <td>0.0</td>\n",
       "      <td>0.0</td>\n",
       "      <td>1.0</td>\n",
       "      <td>0.0</td>\n",
       "      <td>1.0</td>\n",
       "      <td>0.0</td>\n",
       "    </tr>\n",
       "  </tbody>\n",
       "</table>\n",
       "<p>5 rows × 261 columns</p>\n",
       "</div>"
      ],
      "text/plain": [
       "   ID  target        v1        v2        v4         v5        v6        v7  \\\n",
       "0   3       1  1.335739  8.727474  3.921026   7.915266  2.599278  3.176895   \n",
       "1   4       1  0.000000  0.000000  0.000000   9.191265  0.000000  0.000000   \n",
       "2   5       1  0.943877  5.310079  4.410969   5.326159  3.979592  3.928571   \n",
       "3   6       1  0.797415  8.304757  4.225930  11.627438  2.097700  1.987549   \n",
       "4   8       1  0.000000  0.000000  0.000000   0.000000  0.000000  0.000000   \n",
       "\n",
       "         v8         v9  ...  v47 5  v47 6  v47 7  v47 8  v66 0  v66 1  v66 2  \\\n",
       "0  0.012941   9.999999  ...    0.0    0.0    0.0    0.0    0.0    0.0    1.0   \n",
       "1  2.301630   0.000000  ...    0.0    0.0    0.0    0.0    1.0    0.0    0.0   \n",
       "2  0.019645  12.666667  ...    0.0    0.0    0.0    0.0    1.0    0.0    0.0   \n",
       "3  0.171947   8.965516  ...    0.0    0.0    0.0    0.0    1.0    0.0    0.0   \n",
       "4  0.000000   0.000000  ...    0.0    0.0    1.0    0.0    0.0    0.0    1.0   \n",
       "\n",
       "   v74 0  v74 1  v74 2  \n",
       "0    0.0    1.0    0.0  \n",
       "1    0.0    1.0    0.0  \n",
       "2    0.0    1.0    0.0  \n",
       "3    0.0    1.0    0.0  \n",
       "4    0.0    1.0    0.0  \n",
       "\n",
       "[5 rows x 261 columns]"
      ]
     },
     "execution_count": 209,
     "metadata": {},
     "output_type": "execute_result"
    }
   ],
   "source": [
    "one_hot_encoder_data.head()"
   ]
  },
  {
   "cell_type": "markdown",
   "metadata": {},
   "source": [
    "`FrequencyEncoder`"
   ]
  },
  {
   "cell_type": "code",
   "execution_count": 210,
   "metadata": {
    "execution": {
     "iopub.execute_input": "2022-10-30T16:53:43.475059Z",
     "iopub.status.busy": "2022-10-30T16:53:43.474506Z",
     "iopub.status.idle": "2022-10-30T16:53:43.511661Z",
     "shell.execute_reply": "2022-10-30T16:53:43.510997Z",
     "shell.execute_reply.started": "2022-10-30T16:53:43.475014Z"
    }
   },
   "outputs": [],
   "source": [
    "category_columns = list(set(data.columns).difference(data_real.columns))\n",
    "selected_category_columns = [category for category in category_columns if len(set(data[category])) < 50]\n",
    "drop_columns = set(category_columns).difference(selected_category_columns)"
   ]
  },
  {
   "cell_type": "code",
   "execution_count": 211,
   "metadata": {
    "execution": {
     "iopub.execute_input": "2022-10-30T16:53:43.662537Z",
     "iopub.status.busy": "2022-10-30T16:53:43.660270Z",
     "iopub.status.idle": "2022-10-30T16:53:43.698350Z",
     "shell.execute_reply": "2022-10-30T16:53:43.697536Z",
     "shell.execute_reply.started": "2022-10-30T16:53:43.662482Z"
    }
   },
   "outputs": [],
   "source": [
    "data_category = data.drop(drop_columns, axis=1)\n",
    "data_category = data_category.fillna(0)"
   ]
  },
  {
   "cell_type": "code",
   "execution_count": 212,
   "metadata": {
    "execution": {
     "iopub.execute_input": "2022-10-30T16:53:43.906936Z",
     "iopub.status.busy": "2022-10-30T16:53:43.906706Z",
     "iopub.status.idle": "2022-10-30T16:53:44.046356Z",
     "shell.execute_reply": "2022-10-30T16:53:44.045579Z",
     "shell.execute_reply.started": "2022-10-30T16:53:43.906910Z"
    }
   },
   "outputs": [],
   "source": [
    "frequency_encoder_data = data_category\n",
    "\n",
    "for category in selected_category_columns:\n",
    "    frequency_encoder_data[category] = frequency_encoder_data[category].astype(str)\n",
    "    fq = frequency_encoder_data.groupby(category).size() / len(frequency_encoder_data)\n",
    "    frequency_encoder_data.loc[:, f\"{category}_freq_encode\"] = frequency_encoder_data[category].map(fq)\n",
    "    frequency_encoder_data = frequency_encoder_data.drop([category], axis=1)"
   ]
  },
  {
   "cell_type": "code",
   "execution_count": 213,
   "metadata": {
    "execution": {
     "iopub.execute_input": "2022-10-30T16:53:45.731228Z",
     "iopub.status.busy": "2022-10-30T16:53:45.730921Z",
     "iopub.status.idle": "2022-10-30T16:53:45.759141Z",
     "shell.execute_reply": "2022-10-30T16:53:45.758378Z",
     "shell.execute_reply.started": "2022-10-30T16:53:45.731196Z"
    }
   },
   "outputs": [
    {
     "data": {
      "text/html": [
       "<div>\n",
       "<style scoped>\n",
       "    .dataframe tbody tr th:only-of-type {\n",
       "        vertical-align: middle;\n",
       "    }\n",
       "\n",
       "    .dataframe tbody tr th {\n",
       "        vertical-align: top;\n",
       "    }\n",
       "\n",
       "    .dataframe thead th {\n",
       "        text-align: right;\n",
       "    }\n",
       "</style>\n",
       "<table border=\"1\" class=\"dataframe\">\n",
       "  <thead>\n",
       "    <tr style=\"text-align: right;\">\n",
       "      <th></th>\n",
       "      <th>ID</th>\n",
       "      <th>target</th>\n",
       "      <th>v1</th>\n",
       "      <th>v2</th>\n",
       "      <th>v4</th>\n",
       "      <th>v5</th>\n",
       "      <th>v6</th>\n",
       "      <th>v7</th>\n",
       "      <th>v8</th>\n",
       "      <th>v9</th>\n",
       "      <th>...</th>\n",
       "      <th>v112_freq_encode</th>\n",
       "      <th>v3_freq_encode</th>\n",
       "      <th>v24_freq_encode</th>\n",
       "      <th>v110_freq_encode</th>\n",
       "      <th>v52_freq_encode</th>\n",
       "      <th>v30_freq_encode</th>\n",
       "      <th>v91_freq_encode</th>\n",
       "      <th>v47_freq_encode</th>\n",
       "      <th>v66_freq_encode</th>\n",
       "      <th>v74_freq_encode</th>\n",
       "    </tr>\n",
       "  </thead>\n",
       "  <tbody>\n",
       "    <tr>\n",
       "      <th>0</th>\n",
       "      <td>3</td>\n",
       "      <td>1</td>\n",
       "      <td>1.335739</td>\n",
       "      <td>8.727474</td>\n",
       "      <td>3.921026</td>\n",
       "      <td>7.915266</td>\n",
       "      <td>2.599278</td>\n",
       "      <td>3.176895</td>\n",
       "      <td>0.012941</td>\n",
       "      <td>9.999999</td>\n",
       "      <td>...</td>\n",
       "      <td>0.0316</td>\n",
       "      <td>0.9701</td>\n",
       "      <td>0.1829</td>\n",
       "      <td>0.4885</td>\n",
       "      <td>0.0806</td>\n",
       "      <td>0.2800</td>\n",
       "      <td>0.2398</td>\n",
       "      <td>0.4885</td>\n",
       "      <td>0.2278</td>\n",
       "      <td>0.9942</td>\n",
       "    </tr>\n",
       "    <tr>\n",
       "      <th>1</th>\n",
       "      <td>4</td>\n",
       "      <td>1</td>\n",
       "      <td>0.000000</td>\n",
       "      <td>0.000000</td>\n",
       "      <td>0.000000</td>\n",
       "      <td>9.191265</td>\n",
       "      <td>0.000000</td>\n",
       "      <td>0.000000</td>\n",
       "      <td>2.301630</td>\n",
       "      <td>0.000000</td>\n",
       "      <td>...</td>\n",
       "      <td>0.0395</td>\n",
       "      <td>0.9701</td>\n",
       "      <td>0.1829</td>\n",
       "      <td>0.4854</td>\n",
       "      <td>0.0806</td>\n",
       "      <td>0.2800</td>\n",
       "      <td>0.1975</td>\n",
       "      <td>0.0436</td>\n",
       "      <td>0.6147</td>\n",
       "      <td>0.9942</td>\n",
       "    </tr>\n",
       "    <tr>\n",
       "      <th>2</th>\n",
       "      <td>5</td>\n",
       "      <td>1</td>\n",
       "      <td>0.943877</td>\n",
       "      <td>5.310079</td>\n",
       "      <td>4.410969</td>\n",
       "      <td>5.326159</td>\n",
       "      <td>3.979592</td>\n",
       "      <td>3.928571</td>\n",
       "      <td>0.019645</td>\n",
       "      <td>12.666667</td>\n",
       "      <td>...</td>\n",
       "      <td>0.0077</td>\n",
       "      <td>0.9701</td>\n",
       "      <td>0.4823</td>\n",
       "      <td>0.4885</td>\n",
       "      <td>0.0816</td>\n",
       "      <td>0.5273</td>\n",
       "      <td>0.2194</td>\n",
       "      <td>0.4885</td>\n",
       "      <td>0.6147</td>\n",
       "      <td>0.9942</td>\n",
       "    </tr>\n",
       "    <tr>\n",
       "      <th>3</th>\n",
       "      <td>6</td>\n",
       "      <td>1</td>\n",
       "      <td>0.797415</td>\n",
       "      <td>8.304757</td>\n",
       "      <td>4.225930</td>\n",
       "      <td>11.627438</td>\n",
       "      <td>2.097700</td>\n",
       "      <td>1.987549</td>\n",
       "      <td>0.171947</td>\n",
       "      <td>8.965516</td>\n",
       "      <td>...</td>\n",
       "      <td>0.0348</td>\n",
       "      <td>0.9701</td>\n",
       "      <td>0.2318</td>\n",
       "      <td>0.4885</td>\n",
       "      <td>0.0740</td>\n",
       "      <td>0.2800</td>\n",
       "      <td>0.1975</td>\n",
       "      <td>0.4885</td>\n",
       "      <td>0.6147</td>\n",
       "      <td>0.9942</td>\n",
       "    </tr>\n",
       "    <tr>\n",
       "      <th>4</th>\n",
       "      <td>8</td>\n",
       "      <td>1</td>\n",
       "      <td>0.000000</td>\n",
       "      <td>0.000000</td>\n",
       "      <td>0.000000</td>\n",
       "      <td>0.000000</td>\n",
       "      <td>0.000000</td>\n",
       "      <td>0.000000</td>\n",
       "      <td>0.000000</td>\n",
       "      <td>0.000000</td>\n",
       "      <td>...</td>\n",
       "      <td>0.0392</td>\n",
       "      <td>0.9701</td>\n",
       "      <td>0.4823</td>\n",
       "      <td>0.4854</td>\n",
       "      <td>0.0740</td>\n",
       "      <td>0.5273</td>\n",
       "      <td>0.2194</td>\n",
       "      <td>0.3426</td>\n",
       "      <td>0.2278</td>\n",
       "      <td>0.9942</td>\n",
       "    </tr>\n",
       "  </tbody>\n",
       "</table>\n",
       "<p>5 rows × 130 columns</p>\n",
       "</div>"
      ],
      "text/plain": [
       "   ID  target        v1        v2        v4         v5        v6        v7  \\\n",
       "0   3       1  1.335739  8.727474  3.921026   7.915266  2.599278  3.176895   \n",
       "1   4       1  0.000000  0.000000  0.000000   9.191265  0.000000  0.000000   \n",
       "2   5       1  0.943877  5.310079  4.410969   5.326159  3.979592  3.928571   \n",
       "3   6       1  0.797415  8.304757  4.225930  11.627438  2.097700  1.987549   \n",
       "4   8       1  0.000000  0.000000  0.000000   0.000000  0.000000  0.000000   \n",
       "\n",
       "         v8         v9  ...  v112_freq_encode  v3_freq_encode  \\\n",
       "0  0.012941   9.999999  ...            0.0316          0.9701   \n",
       "1  2.301630   0.000000  ...            0.0395          0.9701   \n",
       "2  0.019645  12.666667  ...            0.0077          0.9701   \n",
       "3  0.171947   8.965516  ...            0.0348          0.9701   \n",
       "4  0.000000   0.000000  ...            0.0392          0.9701   \n",
       "\n",
       "   v24_freq_encode  v110_freq_encode  v52_freq_encode  v30_freq_encode  \\\n",
       "0           0.1829            0.4885           0.0806           0.2800   \n",
       "1           0.1829            0.4854           0.0806           0.2800   \n",
       "2           0.4823            0.4885           0.0816           0.5273   \n",
       "3           0.2318            0.4885           0.0740           0.2800   \n",
       "4           0.4823            0.4854           0.0740           0.5273   \n",
       "\n",
       "   v91_freq_encode  v47_freq_encode  v66_freq_encode  v74_freq_encode  \n",
       "0           0.2398           0.4885           0.2278           0.9942  \n",
       "1           0.1975           0.0436           0.6147           0.9942  \n",
       "2           0.2194           0.4885           0.6147           0.9942  \n",
       "3           0.1975           0.4885           0.6147           0.9942  \n",
       "4           0.2194           0.3426           0.2278           0.9942  \n",
       "\n",
       "[5 rows x 130 columns]"
      ]
     },
     "execution_count": 213,
     "metadata": {},
     "output_type": "execute_result"
    }
   ],
   "source": [
    "frequency_encoder_data.head()"
   ]
  },
  {
   "cell_type": "markdown",
   "metadata": {},
   "source": [
    "__Задание 8__"
   ]
  },
  {
   "cell_type": "markdown",
   "metadata": {},
   "source": [
    "`LabelEncoder`"
   ]
  },
  {
   "cell_type": "code",
   "execution_count": 154,
   "metadata": {
    "execution": {
     "iopub.execute_input": "2022-10-30T16:40:29.702247Z",
     "iopub.status.busy": "2022-10-30T16:40:29.701982Z",
     "iopub.status.idle": "2022-10-30T16:40:29.711706Z",
     "shell.execute_reply": "2022-10-30T16:40:29.710863Z",
     "shell.execute_reply.started": "2022-10-30T16:40:29.702218Z"
    }
   },
   "outputs": [],
   "source": [
    "X_label_encoder = label_encoder_data.drop([\"ID\", \"target\"], axis=1)\n",
    "y_label_encoder = label_encoder_data[\"target\"]"
   ]
  },
  {
   "cell_type": "code",
   "execution_count": 157,
   "metadata": {
    "execution": {
     "iopub.execute_input": "2022-10-30T16:41:12.715950Z",
     "iopub.status.busy": "2022-10-30T16:41:12.715687Z",
     "iopub.status.idle": "2022-10-30T16:46:52.767136Z",
     "shell.execute_reply": "2022-10-30T16:46:52.766386Z",
     "shell.execute_reply.started": "2022-10-30T16:41:12.715921Z"
    }
   },
   "outputs": [
    {
     "name": "stdout",
     "output_type": "stream",
     "text": [
      "[16:46:52] WARNING: ../src/learner.cc:1095: Starting in XGBoost 1.3.0, the default evaluation metric used with the objective 'binary:logistic' was changed from 'error' to 'logloss'. Explicitly set eval_metric if you'd like to restore the old behavior.\n",
      "CPU times: user 710 ms, sys: 183 ms, total: 892 ms\n",
      "Wall time: 5min 40s\n"
     ]
    },
    {
     "data": {
      "text/plain": [
       "GridSearchCV(cv=StratifiedKFold(n_splits=3, random_state=42, shuffle=True),\n",
       "             estimator=XGBClassifier(base_score=None, booster=None,\n",
       "                                     colsample_bylevel=None,\n",
       "                                     colsample_bynode=None,\n",
       "                                     colsample_bytree=None, gamma=None,\n",
       "                                     gpu_id=0, importance_type='gain',\n",
       "                                     interaction_constraints=None,\n",
       "                                     learning_rate=None, max_delta_step=None,\n",
       "                                     max_depth=None, min_child_weight=None,\n",
       "                                     missing=n...None,\n",
       "                                     n_estimators=100, n_jobs=4,\n",
       "                                     num_parallel_tree=None, random_state=42,\n",
       "                                     reg_alpha=None, reg_lambda=None,\n",
       "                                     scale_pos_weight=None, subsample=None,\n",
       "                                     tree_method='gpu_hist',\n",
       "                                     use_label_encoder=False,\n",
       "                                     validate_parameters=None, verbosity=None),\n",
       "             n_jobs=4,\n",
       "             param_grid={'learning_rate': [0.01, 0.1, 1],\n",
       "                         'max_depth': [3, 5, 10],\n",
       "                         'n_estimators': [10, 100, 500, 1000]},\n",
       "             scoring='accuracy')"
      ]
     },
     "execution_count": 157,
     "metadata": {},
     "output_type": "execute_result"
    }
   ],
   "source": [
    "%time gs_xdg_clf.fit(X_label_encoder, y_label_encoder)"
   ]
  },
  {
   "cell_type": "code",
   "execution_count": 158,
   "metadata": {
    "execution": {
     "iopub.execute_input": "2022-10-30T16:47:07.920772Z",
     "iopub.status.busy": "2022-10-30T16:47:07.920474Z",
     "iopub.status.idle": "2022-10-30T16:47:07.944902Z",
     "shell.execute_reply": "2022-10-30T16:47:07.944118Z",
     "shell.execute_reply.started": "2022-10-30T16:47:07.920741Z"
    }
   },
   "outputs": [
    {
     "name": "stdout",
     "output_type": "stream",
     "text": [
      "Best param: {'learning_rate': 0.1, 'max_depth': 3, 'n_estimators': 10}\n",
      "Accuracy score: 0.7743\n"
     ]
    }
   ],
   "source": [
    "print(f\"Best param: {gs_xdg_clf.best_params_}\")\n",
    "print(f\"Accuracy score: {gs_xdg_clf.score(X_label_encoder, y_label_encoder)}\")"
   ]
  },
  {
   "cell_type": "markdown",
   "metadata": {},
   "source": [
    "`OneHotEncoder`"
   ]
  },
  {
   "cell_type": "code",
   "execution_count": 214,
   "metadata": {
    "execution": {
     "iopub.execute_input": "2022-10-30T16:53:53.576624Z",
     "iopub.status.busy": "2022-10-30T16:53:53.576334Z",
     "iopub.status.idle": "2022-10-30T16:53:53.587460Z",
     "shell.execute_reply": "2022-10-30T16:53:53.586616Z",
     "shell.execute_reply.started": "2022-10-30T16:53:53.576593Z"
    }
   },
   "outputs": [],
   "source": [
    "X_one_hot_encoder = one_hot_encoder_data.drop([\"ID\", \"target\"], axis=1)\n",
    "y_one_hot_encoder = one_hot_encoder_data[\"target\"]"
   ]
  },
  {
   "cell_type": "code",
   "execution_count": 215,
   "metadata": {
    "execution": {
     "iopub.execute_input": "2022-10-30T16:54:02.158377Z",
     "iopub.status.busy": "2022-10-30T16:54:02.158100Z",
     "iopub.status.idle": "2022-10-30T17:00:58.692889Z",
     "shell.execute_reply": "2022-10-30T17:00:58.691808Z",
     "shell.execute_reply.started": "2022-10-30T16:54:02.158348Z"
    }
   },
   "outputs": [
    {
     "name": "stdout",
     "output_type": "stream",
     "text": [
      "[16:54:11] WARNING: ../src/learner.cc:1095: Starting in XGBoost 1.3.0, the default evaluation metric used with the objective 'binary:logistic' was changed from 'error' to 'logloss'. Explicitly set eval_metric if you'd like to restore the old behavior.\n",
      "[16:54:11] WARNING: ../src/learner.cc:1095: Starting in XGBoost 1.3.0, the default evaluation metric used with the objective 'binary:logistic' was changed from 'error' to 'logloss'. Explicitly set eval_metric if you'd like to restore the old behavior.\n",
      "[16:54:13] WARNING: ../src/learner.cc:1095: Starting in XGBoost 1.3.0, the default evaluation metric used with the objective 'binary:logistic' was changed from 'error' to 'logloss'. Explicitly set eval_metric if you'd like to restore the old behavior.\n",
      "[16:54:17] WARNING: ../src/learner.cc:1095: Starting in XGBoost 1.3.0, the default evaluation metric used with the objective 'binary:logistic' was changed from 'error' to 'logloss'. Explicitly set eval_metric if you'd like to restore the old behavior.\n",
      "[16:54:27] WARNING: ../src/learner.cc:1095: Starting in XGBoost 1.3.0, the default evaluation metric used with the objective 'binary:logistic' was changed from 'error' to 'logloss'. Explicitly set eval_metric if you'd like to restore the old behavior.\n",
      "[16:54:51] WARNING: ../src/learner.cc:1095: Starting in XGBoost 1.3.0, the default evaluation metric used with the objective 'binary:logistic' was changed from 'error' to 'logloss'. Explicitly set eval_metric if you'd like to restore the old behavior.\n",
      "[16:55:12] WARNING: ../src/learner.cc:1095: Starting in XGBoost 1.3.0, the default evaluation metric used with the objective 'binary:logistic' was changed from 'error' to 'logloss'. Explicitly set eval_metric if you'd like to restore the old behavior.\n",
      "[16:56:38] WARNING: ../src/learner.cc:1095: Starting in XGBoost 1.3.0, the default evaluation metric used with the objective 'binary:logistic' was changed from 'error' to 'logloss'. Explicitly set eval_metric if you'd like to restore the old behavior.\n",
      "[16:56:38] WARNING: ../src/learner.cc:1095: Starting in XGBoost 1.3.0, the default evaluation metric used with the objective 'binary:logistic' was changed from 'error' to 'logloss'. Explicitly set eval_metric if you'd like to restore the old behavior.\n",
      "[16:56:38] WARNING: ../src/learner.cc:1095: Starting in XGBoost 1.3.0, the default evaluation metric used with the objective 'binary:logistic' was changed from 'error' to 'logloss'. Explicitly set eval_metric if you'd like to restore the old behavior.\n",
      "[16:56:39] WARNING: ../src/learner.cc:1095: Starting in XGBoost 1.3.0, the default evaluation metric used with the objective 'binary:logistic' was changed from 'error' to 'logloss'. Explicitly set eval_metric if you'd like to restore the old behavior.\n",
      "[16:56:40] WARNING: ../src/learner.cc:1095: Starting in XGBoost 1.3.0, the default evaluation metric used with the objective 'binary:logistic' was changed from 'error' to 'logloss'. Explicitly set eval_metric if you'd like to restore the old behavior.\n",
      "[16:56:42] WARNING: ../src/learner.cc:1095: Starting in XGBoost 1.3.0, the default evaluation metric used with the objective 'binary:logistic' was changed from 'error' to 'logloss'. Explicitly set eval_metric if you'd like to restore the old behavior.\n",
      "[16:56:43] WARNING: ../src/learner.cc:1095: Starting in XGBoost 1.3.0, the default evaluation metric used with the objective 'binary:logistic' was changed from 'error' to 'logloss'. Explicitly set eval_metric if you'd like to restore the old behavior.\n",
      "[16:56:50] WARNING: ../src/learner.cc:1095: Starting in XGBoost 1.3.0, the default evaluation metric used with the objective 'binary:logistic' was changed from 'error' to 'logloss'. Explicitly set eval_metric if you'd like to restore the old behavior.\n",
      "[16:56:57] WARNING: ../src/learner.cc:1095: Starting in XGBoost 1.3.0, the default evaluation metric used with the objective 'binary:logistic' was changed from 'error' to 'logloss'. Explicitly set eval_metric if you'd like to restore the old behavior.\n",
      "[16:57:04] WARNING: ../src/learner.cc:1095: Starting in XGBoost 1.3.0, the default evaluation metric used with the objective 'binary:logistic' was changed from 'error' to 'logloss'. Explicitly set eval_metric if you'd like to restore the old behavior.\n",
      "[16:57:18] WARNING: ../src/learner.cc:1095: Starting in XGBoost 1.3.0, the default evaluation metric used with the objective 'binary:logistic' was changed from 'error' to 'logloss'. Explicitly set eval_metric if you'd like to restore the old behavior.\n",
      "[16:57:30] WARNING: ../src/learner.cc:1095: Starting in XGBoost 1.3.0, the default evaluation metric used with the objective 'binary:logistic' was changed from 'error' to 'logloss'. Explicitly set eval_metric if you'd like to restore the old behavior.\n",
      "[16:57:30] WARNING: ../src/learner.cc:1095: Starting in XGBoost 1.3.0, the default evaluation metric used with the objective 'binary:logistic' was changed from 'error' to 'logloss'. Explicitly set eval_metric if you'd like to restore the old behavior.\n",
      "[16:57:31] WARNING: ../src/learner.cc:1095: Starting in XGBoost 1.3.0, the default evaluation metric used with the objective 'binary:logistic' was changed from 'error' to 'logloss'. Explicitly set eval_metric if you'd like to restore the old behavior.\n",
      "[16:57:31] WARNING: ../src/learner.cc:1095: Starting in XGBoost 1.3.0, the default evaluation metric used with the objective 'binary:logistic' was changed from 'error' to 'logloss'. Explicitly set eval_metric if you'd like to restore the old behavior.\n",
      "[16:57:34] WARNING: ../src/learner.cc:1095: Starting in XGBoost 1.3.0, the default evaluation metric used with the objective 'binary:logistic' was changed from 'error' to 'logloss'. Explicitly set eval_metric if you'd like to restore the old behavior.\n",
      "[16:57:37] WARNING: ../src/learner.cc:1095: Starting in XGBoost 1.3.0, the default evaluation metric used with the objective 'binary:logistic' was changed from 'error' to 'logloss'. Explicitly set eval_metric if you'd like to restore the old behavior.\n",
      "[16:57:39] WARNING: ../src/learner.cc:1095: Starting in XGBoost 1.3.0, the default evaluation metric used with the objective 'binary:logistic' was changed from 'error' to 'logloss'. Explicitly set eval_metric if you'd like to restore the old behavior.\n",
      "[16:57:51] WARNING: ../src/learner.cc:1095: Starting in XGBoost 1.3.0, the default evaluation metric used with the objective 'binary:logistic' was changed from 'error' to 'logloss'. Explicitly set eval_metric if you'd like to restore the old behavior.\n",
      "[16:58:14] WARNING: ../src/learner.cc:1095: Starting in XGBoost 1.3.0, the default evaluation metric used with the objective 'binary:logistic' was changed from 'error' to 'logloss'. Explicitly set eval_metric if you'd like to restore the old behavior.\n",
      "[16:58:36] WARNING: ../src/learner.cc:1095: Starting in XGBoost 1.3.0, the default evaluation metric used with the objective 'binary:logistic' was changed from 'error' to 'logloss'. Explicitly set eval_metric if you'd like to restore the old behavior.\n",
      "[16:59:17] WARNING: ../src/learner.cc:1095: Starting in XGBoost 1.3.0, the default evaluation metric used with the objective 'binary:logistic' was changed from 'error' to 'logloss'. Explicitly set eval_metric if you'd like to restore the old behavior.\n",
      "[16:59:18] WARNING: ../src/learner.cc:1095: Starting in XGBoost 1.3.0, the default evaluation metric used with the objective 'binary:logistic' was changed from 'error' to 'logloss'. Explicitly set eval_metric if you'd like to restore the old behavior.\n",
      "[16:59:18] WARNING: ../src/learner.cc:1095: Starting in XGBoost 1.3.0, the default evaluation metric used with the objective 'binary:logistic' was changed from 'error' to 'logloss'. Explicitly set eval_metric if you'd like to restore the old behavior.\n",
      "[16:59:18] WARNING: ../src/learner.cc:1095: Starting in XGBoost 1.3.0, the default evaluation metric used with the objective 'binary:logistic' was changed from 'error' to 'logloss'. Explicitly set eval_metric if you'd like to restore the old behavior.\n",
      "[16:59:20] WARNING: ../src/learner.cc:1095: Starting in XGBoost 1.3.0, the default evaluation metric used with the objective 'binary:logistic' was changed from 'error' to 'logloss'. Explicitly set eval_metric if you'd like to restore the old behavior.[17:00:57] WARNING: ../src/learner.cc:1095: Starting in XGBoost 1.3.0, the default evaluation metric used with the objective 'binary:logistic' was changed from 'error' to 'logloss'. Explicitly set eval_metric if you'd like to restore the old behavior.\n",
      "CPU times: user 1.83 s, sys: 223 ms, total: 2.05 s\n",
      "Wall time: 6min 56s\n"
     ]
    },
    {
     "data": {
      "text/plain": [
       "GridSearchCV(cv=StratifiedKFold(n_splits=3, random_state=42, shuffle=True),\n",
       "             estimator=XGBClassifier(base_score=None, booster=None,\n",
       "                                     colsample_bylevel=None,\n",
       "                                     colsample_bynode=None,\n",
       "                                     colsample_bytree=None, gamma=None,\n",
       "                                     gpu_id=0, importance_type='gain',\n",
       "                                     interaction_constraints=None,\n",
       "                                     learning_rate=None, max_delta_step=None,\n",
       "                                     max_depth=None, min_child_weight=None,\n",
       "                                     missing=n...None,\n",
       "                                     n_estimators=100, n_jobs=4,\n",
       "                                     num_parallel_tree=None, random_state=42,\n",
       "                                     reg_alpha=None, reg_lambda=None,\n",
       "                                     scale_pos_weight=None, subsample=None,\n",
       "                                     tree_method='gpu_hist',\n",
       "                                     use_label_encoder=False,\n",
       "                                     validate_parameters=None, verbosity=None),\n",
       "             n_jobs=4,\n",
       "             param_grid={'learning_rate': [0.01, 0.1, 1],\n",
       "                         'max_depth': [3, 5, 10],\n",
       "                         'n_estimators': [10, 100, 500, 1000]},\n",
       "             scoring='accuracy')"
      ]
     },
     "execution_count": 215,
     "metadata": {},
     "output_type": "execute_result"
    }
   ],
   "source": [
    "%time gs_xdg_clf.fit(X_one_hot_encoder, y_one_hot_encoder)"
   ]
  },
  {
   "cell_type": "code",
   "execution_count": 216,
   "metadata": {
    "execution": {
     "iopub.execute_input": "2022-10-30T17:00:58.695603Z",
     "iopub.status.busy": "2022-10-30T17:00:58.695313Z",
     "iopub.status.idle": "2022-10-30T17:00:58.774820Z",
     "shell.execute_reply": "2022-10-30T17:00:58.774083Z",
     "shell.execute_reply.started": "2022-10-30T17:00:58.695566Z"
    }
   },
   "outputs": [
    {
     "name": "stdout",
     "output_type": "stream",
     "text": [
      "Best param: {'learning_rate': 0.01, 'max_depth': 3, 'n_estimators': 500}\n",
      "Accuracy score: 0.7818\n"
     ]
    }
   ],
   "source": [
    "print(f\"Best param: {gs_xdg_clf.best_params_}\")\n",
    "print(f\"Accuracy score: {gs_xdg_clf.score(X_one_hot_encoder, y_one_hot_encoder)}\")"
   ]
  },
  {
   "cell_type": "markdown",
   "metadata": {},
   "source": [
    "`FrequencyEncoder`"
   ]
  },
  {
   "cell_type": "code",
   "execution_count": 217,
   "metadata": {
    "execution": {
     "iopub.execute_input": "2022-10-30T17:00:58.776281Z",
     "iopub.status.busy": "2022-10-30T17:00:58.776012Z",
     "iopub.status.idle": "2022-10-30T17:00:58.786651Z",
     "shell.execute_reply": "2022-10-30T17:00:58.785866Z",
     "shell.execute_reply.started": "2022-10-30T17:00:58.776248Z"
    }
   },
   "outputs": [],
   "source": [
    "X_frequency_encoder = frequency_encoder_data.drop([\"ID\", \"target\"], axis=1)\n",
    "y_frequency_encoder = frequency_encoder_data[\"target\"]"
   ]
  },
  {
   "cell_type": "code",
   "execution_count": 218,
   "metadata": {
    "execution": {
     "iopub.execute_input": "2022-10-30T17:00:58.789229Z",
     "iopub.status.busy": "2022-10-30T17:00:58.788700Z",
     "iopub.status.idle": "2022-10-30T17:06:26.199263Z",
     "shell.execute_reply": "2022-10-30T17:06:26.198351Z",
     "shell.execute_reply.started": "2022-10-30T17:00:58.789087Z"
    }
   },
   "outputs": [
    {
     "name": "stdout",
     "output_type": "stream",
     "text": [
      "[16:54:11] WARNING: ../src/learner.cc:1095: Starting in XGBoost 1.3.0, the default evaluation metric used with the objective 'binary:logistic' was changed from 'error' to 'logloss'. Explicitly set eval_metric if you'd like to restore the old behavior.\n",
      "[16:54:13] WARNING: ../src/learner.cc:1095: Starting in XGBoost 1.3.0, the default evaluation metric used with the objective 'binary:logistic' was changed from 'error' to 'logloss'. Explicitly set eval_metric if you'd like to restore the old behavior.\n",
      "[16:54:17] WARNING: ../src/learner.cc:1095: Starting in XGBoost 1.3.0, the default evaluation metric used with the objective 'binary:logistic' was changed from 'error' to 'logloss'. Explicitly set eval_metric if you'd like to restore the old behavior.\n",
      "[16:54:18] WARNING: ../src/learner.cc:1095: Starting in XGBoost 1.3.0, the default evaluation metric used with the objective 'binary:logistic' was changed from 'error' to 'logloss'. Explicitly set eval_metric if you'd like to restore the old behavior.\n",
      "[16:54:18] WARNING: ../src/learner.cc:1095: Starting in XGBoost 1.3.0, the default evaluation metric used with the objective 'binary:logistic' was changed from 'error' to 'logloss'. Explicitly set eval_metric if you'd like to restore the old behavior.\n",
      "[16:54:18] WARNING: ../src/learner.cc:1095: Starting in XGBoost 1.3.0, the default evaluation metric used with the objective 'binary:logistic' was changed from 'error' to 'logloss'. Explicitly set eval_metric if you'd like to restore the old behavior.\n",
      "[16:54:21] WARNING: ../src/learner.cc:1095: Starting in XGBoost 1.3.0, the default evaluation metric used with the objective 'binary:logistic' was changed from 'error' to 'logloss'. Explicitly set eval_metric if you'd like to restore the old behavior.\n",
      "[16:54:23] WARNING: ../src/learner.cc:1095: Starting in XGBoost 1.3.0, the default evaluation metric used with the objective 'binary:logistic' was changed from 'error' to 'logloss'. Explicitly set eval_metric if you'd like to restore the old behavior.\n",
      "[16:54:35] WARNING: ../src/learner.cc:1095: Starting in XGBoost 1.3.0, the default evaluation metric used with the objective 'binary:logistic' was changed from 'error' to 'logloss'. Explicitly set eval_metric if you'd like to restore the old behavior.\n",
      "[16:54:59] WARNING: ../src/learner.cc:1095: Starting in XGBoost 1.3.0, the default evaluation metric used with the objective 'binary:logistic' was changed from 'error' to 'logloss'. Explicitly set eval_metric if you'd like to restore the old behavior.\n",
      "[16:55:21] WARNING: ../src/learner.cc:1095: Starting in XGBoost 1.3.0, the default evaluation metric used with the objective 'binary:logistic' was changed from 'error' to 'logloss'. Explicitly set eval_metric if you'd like to restore the old behavior.\n",
      "[16:57:25] WARNING: ../src/learner.cc:1095: Starting in XGBoost 1.3.0, the default evaluation metric used with the objective 'binary:logistic' was changed from 'error' to 'logloss'. Explicitly set eval_metric if you'd like to restore the old behavior.\n",
      "[16:57:38] WARNING: ../src/learner.cc:1095: Starting in XGBoost 1.3.0, the default evaluation metric used with the objective 'binary:logistic' was changed from 'error' to 'logloss'. Explicitly set eval_metric if you'd like to restore the old behavior.\n",
      "[16:57:50] WARNING: ../src/learner.cc:1095: Starting in XGBoost 1.3.0, the default evaluation metric used with the objective 'binary:logistic' was changed from 'error' to 'logloss'. Explicitly set eval_metric if you'd like to restore the old behavior.\n",
      "[16:58:01] WARNING: ../src/learner.cc:1095: Starting in XGBoost 1.3.0, the default evaluation metric used with the objective 'binary:logistic' was changed from 'error' to 'logloss'. Explicitly set eval_metric if you'd like to restore the old behavior.\n",
      "[16:58:24] WARNING: ../src/learner.cc:1095: Starting in XGBoost 1.3.0, the default evaluation metric used with the objective 'binary:logistic' was changed from 'error' to 'logloss'. Explicitly set eval_metric if you'd like to restore the old behavior.\n",
      "[16:58:37] WARNING: ../src/learner.cc:1095: Starting in XGBoost 1.3.0, the default evaluation metric used with the objective 'binary:logistic' was changed from 'error' to 'logloss'. Explicitly set eval_metric if you'd like to restore the old behavior.\n",
      "[16:59:16] WARNING: ../src/learner.cc:1095: Starting in XGBoost 1.3.0, the default evaluation metric used with the objective 'binary:logistic' was changed from 'error' to 'logloss'. Explicitly set eval_metric if you'd like to restore the old behavior.\n",
      "[17:00:07] WARNING: ../src/learner.cc:1095: Starting in XGBoost 1.3.0, the default evaluation metric used with the objective 'binary:logistic' was changed from 'error' to 'logloss'. Explicitly set eval_metric if you'd like to restore the old behavior.\n",
      "[17:00:16] WARNING: ../src/learner.cc:1095: Starting in XGBoost 1.3.0, the default evaluation metric used with the objective 'binary:logistic' was changed from 'error' to 'logloss'. Explicitly set eval_metric if you'd like to restore the old behavior.\n",
      "[17:00:17] WARNING: ../src/learner.cc:1095: Starting in XGBoost 1.3.0, the default evaluation metric used with the objective 'binary:logistic' was changed from 'error' to 'logloss'. Explicitly set eval_metric if you'd like to restore the old behavior.\n",
      "[17:00:19] WARNING: ../src/learner.cc:1095: Starting in XGBoost 1.3.0, the default evaluation metric used with the objective 'binary:logistic' was changed from 'error' to 'logloss'. Explicitly set eval_metric if you'd like to restore the old behavior.\n",
      "[17:00:20] WARNING: ../src/learner.cc:1095: Starting in XGBoost 1.3.0, the default evaluation metric used with the objective 'binary:logistic' was changed from 'error' to 'logloss'. Explicitly set eval_metric if you'd like to restore the old behavior.\n",
      "[17:00:26] WARNING: ../src/learner.cc:1095: Starting in XGBoost 1.3.0, the default evaluation metric used with the objective 'binary:logistic' was changed from 'error' to 'logloss'. Explicitly set eval_metric if you'd like to restore the old behavior.\n",
      "[17:00:32] WARNING: ../src/learner.cc:1095: Starting in XGBoost 1.3.0, the default evaluation metric used with the objective 'binary:logistic' was changed from 'error' to 'logloss'. Explicitly set eval_metric if you'd like to restore the old behavior.\n",
      "[17:00:58] WARNING: ../src/learner.cc:1095: Starting in XGBoost 1.3.0, the default evaluation metric used with the objective 'binary:logistic' was changed from 'error' to 'logloss'. Explicitly set eval_metric if you'd like to restore the old behavior.\n",
      "[17:00:59] WARNING: ../src/learner.cc:1095: Starting in XGBoost 1.3.0, the default evaluation metric used with the objective 'binary:logistic' was changed from 'error' to 'logloss'. Explicitly set eval_metric if you'd like to restore the old behavior.\n",
      "[17:00:59] WARNING: ../src/learner.cc:1095: Starting in XGBoost 1.3.0, the default evaluation metric used with the objective 'binary:logistic' was changed from 'error' to 'logloss'. Explicitly set eval_metric if you'd like to restore the old behavior.\n",
      "[17:01:07] WARNING: ../src/learner.cc:1095: Starting in XGBoost 1.3.0, the default evaluation metric used with the objective 'binary:logistic' was changed from 'error' to 'logloss'. Explicitly set eval_metric if you'd like to restore the old behavior.\n",
      "[17:01:15] WARNING: ../src/learner.cc:1095: Starting in XGBoost 1.3.0, the default evaluation metric used with the objective 'binary:logistic' was changed from 'error' to 'logloss'. Explicitly set eval_metric if you'd like to restore the old behavior.\n",
      "[17:01:17] WARNING: ../src/learner.cc:1095: Starting in XGBoost 1.3.0, the default evaluation metric used with the objective 'binary:logistic' was changed from 'error' to 'logloss'. Explicitly set eval_metric if you'd like to restore the old behavior.\n",
      "[17:01:18] WARNING: ../src/learner.cc:1095: Starting in XGBoost 1.3.0, the default evaluation metric used with the objective 'binary:logistic' was changed from 'error' to 'logloss'. Explicitly set eval_metric if you'd like to restore the old behavior.\n",
      "[17:01:20] WARNING: ../src/learner.cc:1095: Starting in XGBoost 1.3.0, the default evaluation metric used with the objective 'binary:logistic' was changed from 'error' to 'logloss'. Explicitly set eval_metric if you'd like to restore the old behavior.[16:54:11] WARNING: ../src/learner.cc:1095: Starting in XGBoost 1.3.0, the default evaluation metric used with the objective 'binary:logistic' was changed from 'error' to 'logloss'. Explicitly set eval_metric if you'd like to restore the old behavior.\n",
      "[16:54:12] WARNING: ../src/learner.cc:1095: Starting in XGBoost 1.3.0, the default evaluation metric used with the objective 'binary:logistic' was changed from 'error' to 'logloss'. Explicitly set eval_metric if you'd like to restore the old behavior.\n",
      "[16:54:13] WARNING: ../src/learner.cc:1095: Starting in XGBoost 1.3.0, the default evaluation metric used with the objective 'binary:logistic' was changed from 'error' to 'logloss'. Explicitly set eval_metric if you'd like to restore the old behavior.\n",
      "[16:54:22] WARNING: ../src/learner.cc:1095: Starting in XGBoost 1.3.0, the default evaluation metric used with the objective 'binary:logistic' was changed from 'error' to 'logloss'. Explicitly set eval_metric if you'd like to restore the old behavior.\n",
      "[16:54:24] WARNING: ../src/learner.cc:1095: Starting in XGBoost 1.3.0, the default evaluation metric used with the objective 'binary:logistic' was changed from 'error' to 'logloss'. Explicitly set eval_metric if you'd like to restore the old behavior.\n",
      "[16:54:36] WARNING: ../src/learner.cc:1095: Starting in XGBoost 1.3.0, the default evaluation metric used with the objective 'binary:logistic' was changed from 'error' to 'logloss'. Explicitly set eval_metric if you'd like to restore the old behavior.\n",
      "[16:55:00] WARNING: ../src/learner.cc:1095: Starting in XGBoost 1.3.0, the default evaluation metric used with the objective 'binary:logistic' was changed from 'error' to 'logloss'. Explicitly set eval_metric if you'd like to restore the old behavior.\n",
      "[16:56:28] WARNING: ../src/learner.cc:1095: Starting in XGBoost 1.3.0, the default evaluation metric used with the objective 'binary:logistic' was changed from 'error' to 'logloss'. Explicitly set eval_metric if you'd like to restore the old behavior.\n",
      "[16:58:23] WARNING: ../src/learner.cc:1095: Starting in XGBoost 1.3.0, the default evaluation metric used with the objective 'binary:logistic' was changed from 'error' to 'logloss'. Explicitly set eval_metric if you'd like to restore the old behavior.\n",
      "[16:58:36] WARNING: ../src/learner.cc:1095: Starting in XGBoost 1.3.0, the default evaluation metric used with the objective 'binary:logistic' was changed from 'error' to 'logloss'. Explicitly set eval_metric if you'd like to restore the old behavior.\n",
      "[16:59:16] WARNING: ../src/learner.cc:1095: Starting in XGBoost 1.3.0, the default evaluation metric used with the objective 'binary:logistic' was changed from 'error' to 'logloss'. Explicitly set eval_metric if you'd like to restore the old behavior.\n",
      "[17:00:08] WARNING: ../src/learner.cc:1095: Starting in XGBoost 1.3.0, the default evaluation metric used with the objective 'binary:logistic' was changed from 'error' to 'logloss'. Explicitly set eval_metric if you'd like to restore the old behavior.\n",
      "[17:00:25] WARNING: ../src/learner.cc:1095: Starting in XGBoost 1.3.0, the default evaluation metric used with the objective 'binary:logistic' was changed from 'error' to 'logloss'. Explicitly set eval_metric if you'd like to restore the old behavior.\n",
      "[17:00:32] WARNING: ../src/learner.cc:1095: Starting in XGBoost 1.3.0, the default evaluation metric used with the objective 'binary:logistic' was changed from 'error' to 'logloss'. Explicitly set eval_metric if you'd like to restore the old behavior.\n",
      "[17:00:58] WARNING: ../src/learner.cc:1095: Starting in XGBoost 1.3.0, the default evaluation metric used with the objective 'binary:logistic' was changed from 'error' to 'logloss'. Explicitly set eval_metric if you'd like to restore the old behavior.\n",
      "[17:00:59] WARNING: ../src/learner.cc:1095: Starting in XGBoost 1.3.0, the default evaluation metric used with the objective 'binary:logistic' was changed from 'error' to 'logloss'. Explicitly set eval_metric if you'd like to restore the old behavior.\n",
      "[17:00:59] WARNING: ../src/learner.cc:1095: Starting in XGBoost 1.3.0, the default evaluation metric used with the objective 'binary:logistic' was changed from 'error' to 'logloss'. Explicitly set eval_metric if you'd like to restore the old behavior.\n",
      "[17:01:03] WARNING: ../src/learner.cc:1095: Starting in XGBoost 1.3.0, the default evaluation metric used with the objective 'binary:logistic' was changed from 'error' to 'logloss'. Explicitly set eval_metric if you'd like to restore the old behavior.\n",
      "[17:01:11] WARNING: ../src/learner.cc:1095: Starting in XGBoost 1.3.0, the default evaluation metric used with the objective 'binary:logistic' was changed from 'error' to 'logloss'. Explicitly set eval_metric if you'd like to restore the old behavior.\n",
      "[17:01:29] WARNING: ../src/learner.cc:1095: Starting in XGBoost 1.3.0, the default evaluation metric used with the objective 'binary:logistic' was changed from 'error' to 'logloss'. Explicitly set eval_metric if you'd like to restore the old behavior.\n",
      "[17:01:50] WARNING: ../src/learner.cc:1095: Starting in XGBoost 1.3.0, the default evaluation metric used with the objective 'binary:logistic' was changed from 'error' to 'logloss'. Explicitly set eval_metric if you'd like to restore the old behavior.\n",
      "[17:02:56] WARNING: ../src/learner.cc:1095: Starting in XGBoost 1.3.0, the default evaluation metric used with the objective 'binary:logistic' was changed from 'error' to 'logloss'. Explicitly set eval_metric if you'd like to restore the old behavior.\n",
      "[17:02:56] WARNING: ../src/learner.cc:1095: Starting in XGBoost 1.3.0, the default evaluation metric used with the objective 'binary:logistic' was changed from 'error' to 'logloss'. Explicitly set eval_metric if you'd like to restore the old behavior.\n",
      "[17:02:56] WARNING: ../src/learner.cc:1095: Starting in XGBoost 1.3.0, the default evaluation metric used with the objective 'binary:logistic' was changed from 'error' to 'logloss'. Explicitly set eval_metric if you'd like to restore the old behavior.\n",
      "[17:02:57] WARNING: ../src/learner.cc:1095: Starting in XGBoost 1.3.0, the default evaluation metric used with the objective 'binary:logistic' was changed from 'error' to 'logloss'. Explicitly set eval_metric if you'd like to restore the old behavior.\n",
      "[17:02:58] WARNING: ../src/learner.cc:1095: Starting in XGBoost 1.3.0, the default evaluation metric used with the objective 'binary:logistic' was changed from 'error' to 'logloss'. Explicitly set eval_metric if you'd like to restore the old behavior.\n",
      "[17:02:59] WARNING: ../src/learner.cc:1095: Starting in XGBoost 1.3.0, the default evaluation metric used with the objective 'binary:logistic' was changed from 'error' to 'logloss'. Explicitly set eval_metric if you'd like to restore the old behavior.\n",
      "[17:03:00] WARNING: ../src/learner.cc:1095: Starting in XGBoost 1.3.0, the default evaluation metric used with the objective 'binary:logistic' was changed from 'error' to 'logloss'. Explicitly set eval_metric if you'd like to restore the old behavior.\n",
      "[17:03:06] WARNING: ../src/learner.cc:1095: Starting in XGBoost 1.3.0, the default evaluation metric used with the objective 'binary:logistic' was changed from 'error' to 'logloss'. Explicitly set eval_metric if you'd like to restore the old behavior.\n",
      "[17:03:11] WARNING: ../src/learner.cc:1095: Starting in XGBoost 1.3.0, the default evaluation metric used with the objective 'binary:logistic' was changed from 'error' to 'logloss'. Explicitly set eval_metric if you'd like to restore the old behavior.\n",
      "[17:03:16] WARNING: ../src/learner.cc:1095: Starting in XGBoost 1.3.0, the default evaluation metric used with the objective 'binary:logistic' was changed from 'error' to 'logloss'. Explicitly set eval_metric if you'd like to restore the old behavior.\n",
      "[17:03:27] WARNING: ../src/learner.cc:1095: Starting in XGBoost 1.3.0, the default evaluation metric used with the objective 'binary:logistic' was changed from 'error' to 'logloss'. Explicitly set eval_metric if you'd like to restore the old behavior.\n",
      "[17:03:35] WARNING: ../src/learner.cc:1095: Starting in XGBoost 1.3.0, the default evaluation metric used with the objective 'binary:logistic' was changed from 'error' to 'logloss'. Explicitly set eval_metric if you'd like to restore the old behavior.[16:54:11] WARNING: ../src/learner.cc:1095: Starting in XGBoost 1.3.0, the default evaluation metric used with the objective 'binary:logistic' was changed from 'error' to 'logloss'. Explicitly set eval_metric if you'd like to restore the old behavior.\n",
      "[16:54:12] WARNING: ../src/learner.cc:1095: Starting in XGBoost 1.3.0, the default evaluation metric used with the objective 'binary:logistic' was changed from 'error' to 'logloss'. Explicitly set eval_metric if you'd like to restore the old behavior.\n",
      "[16:54:16] WARNING: ../src/learner.cc:1095: Starting in XGBoost 1.3.0, the default evaluation metric used with the objective 'binary:logistic' was changed from 'error' to 'logloss'. Explicitly set eval_metric if you'd like to restore the old behavior.\n",
      "[16:54:26] WARNING: ../src/learner.cc:1095: Starting in XGBoost 1.3.0, the default evaluation metric used with the objective 'binary:logistic' was changed from 'error' to 'logloss'. Explicitly set eval_metric if you'd like to restore the old behavior.\n",
      "[16:54:38] WARNING: ../src/learner.cc:1095: Starting in XGBoost 1.3.0, the default evaluation metric used with the objective 'binary:logistic' was changed from 'error' to 'logloss'. Explicitly set eval_metric if you'd like to restore the old behavior.\n",
      "[16:54:40] WARNING: ../src/learner.cc:1095: Starting in XGBoost 1.3.0, the default evaluation metric used with the objective 'binary:logistic' was changed from 'error' to 'logloss'. Explicitly set eval_metric if you'd like to restore the old behavior.\n",
      "[16:54:42] WARNING: ../src/learner.cc:1095: Starting in XGBoost 1.3.0, the default evaluation metric used with the objective 'binary:logistic' was changed from 'error' to 'logloss'. Explicitly set eval_metric if you'd like to restore the old behavior.\n",
      "[16:54:44] WARNING: ../src/learner.cc:1095: Starting in XGBoost 1.3.0, the default evaluation metric used with the objective 'binary:logistic' was changed from 'error' to 'logloss'. Explicitly set eval_metric if you'd like to restore the old behavior.\n",
      "[16:55:04] WARNING: ../src/learner.cc:1095: Starting in XGBoost 1.3.0, the default evaluation metric used with the objective 'binary:logistic' was changed from 'error' to 'logloss'. Explicitly set eval_metric if you'd like to restore the old behavior.\n",
      "[16:56:30] WARNING: ../src/learner.cc:1095: Starting in XGBoost 1.3.0, the default evaluation metric used with the objective 'binary:logistic' was changed from 'error' to 'logloss'. Explicitly set eval_metric if you'd like to restore the old behavior.\n",
      "[16:58:20] WARNING: ../src/learner.cc:1095: Starting in XGBoost 1.3.0, the default evaluation metric used with the objective 'binary:logistic' was changed from 'error' to 'logloss'. Explicitly set eval_metric if you'd like to restore the old behavior.\n",
      "[16:58:22] WARNING: ../src/learner.cc:1095: Starting in XGBoost 1.3.0, the default evaluation metric used with the objective 'binary:logistic' was changed from 'error' to 'logloss'. Explicitly set eval_metric if you'd like to restore the old behavior.\n",
      "[16:58:23] WARNING: ../src/learner.cc:1095: Starting in XGBoost 1.3.0, the default evaluation metric used with the objective 'binary:logistic' was changed from 'error' to 'logloss'. Explicitly set eval_metric if you'd like to restore the old behavior.\n",
      "[16:58:25] WARNING: ../src/learner.cc:1095: Starting in XGBoost 1.3.0, the default evaluation metric used with the objective 'binary:logistic' was changed from 'error' to 'logloss'. Explicitly set eval_metric if you'd like to restore the old behavior.\n",
      "[16:58:38] WARNING: ../src/learner.cc:1095: Starting in XGBoost 1.3.0, the default evaluation metric used with the objective 'binary:logistic' was changed from 'error' to 'logloss'. Explicitly set eval_metric if you'd like to restore the old behavior.\n",
      "[16:59:38] WARNING: ../src/learner.cc:1095: Starting in XGBoost 1.3.0, the default evaluation metric used with the objective 'binary:logistic' was changed from 'error' to 'logloss'. Explicitly set eval_metric if you'd like to restore the old behavior.\n",
      "[16:59:49] WARNING: ../src/learner.cc:1095: Starting in XGBoost 1.3.0, the default evaluation metric used with the objective 'binary:logistic' was changed from 'error' to 'logloss'. Explicitly set eval_metric if you'd like to restore the old behavior.\n",
      "[17:00:00] WARNING: ../src/learner.cc:1095: Starting in XGBoost 1.3.0, the default evaluation metric used with the objective 'binary:logistic' was changed from 'error' to 'logloss'. Explicitly set eval_metric if you'd like to restore the old behavior.\n",
      "[17:00:10] WARNING: ../src/learner.cc:1095: Starting in XGBoost 1.3.0, the default evaluation metric used with the objective 'binary:logistic' was changed from 'error' to 'logloss'. Explicitly set eval_metric if you'd like to restore the old behavior.\n",
      "[17:00:26] WARNING: ../src/learner.cc:1095: Starting in XGBoost 1.3.0, the default evaluation metric used with the objective 'binary:logistic' was changed from 'error' to 'logloss'. Explicitly set eval_metric if you'd like to restore the old behavior.\n",
      "[17:00:42] WARNING: ../src/learner.cc:1095: Starting in XGBoost 1.3.0, the default evaluation metric used with the objective 'binary:logistic' was changed from 'error' to 'logloss'. Explicitly set eval_metric if you'd like to restore the old behavior.\n",
      "[17:00:58] WARNING: ../src/learner.cc:1095: Starting in XGBoost 1.3.0, the default evaluation metric used with the objective 'binary:logistic' was changed from 'error' to 'logloss'. Explicitly set eval_metric if you'd like to restore the old behavior.\n",
      "[17:00:59] WARNING: ../src/learner.cc:1095: Starting in XGBoost 1.3.0, the default evaluation metric used with the objective 'binary:logistic' was changed from 'error' to 'logloss'. Explicitly set eval_metric if you'd like to restore the old behavior.\n",
      "[17:01:02] WARNING: ../src/learner.cc:1095: Starting in XGBoost 1.3.0, the default evaluation metric used with the objective 'binary:logistic' was changed from 'error' to 'logloss'. Explicitly set eval_metric if you'd like to restore the old behavior.\n",
      "[17:01:03] WARNING: ../src/learner.cc:1095: Starting in XGBoost 1.3.0, the default evaluation metric used with the objective 'binary:logistic' was changed from 'error' to 'logloss'. Explicitly set eval_metric if you'd like to restore the old behavior.\n",
      "[17:01:03] WARNING: ../src/learner.cc:1095: Starting in XGBoost 1.3.0, the default evaluation metric used with the objective 'binary:logistic' was changed from 'error' to 'logloss'. Explicitly set eval_metric if you'd like to restore the old behavior.\n",
      "[17:01:03] WARNING: ../src/learner.cc:1095: Starting in XGBoost 1.3.0, the default evaluation metric used with the objective 'binary:logistic' was changed from 'error' to 'logloss'. Explicitly set eval_metric if you'd like to restore the old behavior.\n",
      "[17:01:05] WARNING: ../src/learner.cc:1095: Starting in XGBoost 1.3.0, the default evaluation metric used with the objective 'binary:logistic' was changed from 'error' to 'logloss'. Explicitly set eval_metric if you'd like to restore the old behavior.\n",
      "[17:01:14] WARNING: ../src/learner.cc:1095: Starting in XGBoost 1.3.0, the default evaluation metric used with the objective 'binary:logistic' was changed from 'error' to 'logloss'. Explicitly set eval_metric if you'd like to restore the old behavior.\n",
      "[17:01:25] WARNING: ../src/learner.cc:1095: Starting in XGBoost 1.3.0, the default evaluation metric used with the objective 'binary:logistic' was changed from 'error' to 'logloss'. Explicitly set eval_metric if you'd like to restore the old behavior.\n",
      "[17:01:41] WARNING: ../src/learner.cc:1095: Starting in XGBoost 1.3.0, the default evaluation metric used with the objective 'binary:logistic' was changed from 'error' to 'logloss'. Explicitly set eval_metric if you'd like to restore the old behavior.\n",
      "[17:02:51] WARNING: ../src/learner.cc:1095: Starting in XGBoost 1.3.0, the default evaluation metric used with the objective 'binary:logistic' was changed from 'error' to 'logloss'. Explicitly set eval_metric if you'd like to restore the old behavior.\n",
      "[17:04:23] WARNING: ../src/learner.cc:1095: Starting in XGBoost 1.3.0, the default evaluation metric used with the objective 'binary:logistic' was changed from 'error' to 'logloss'. Explicitly set eval_metric if you'd like to restore the old behavior.\n",
      "[16:59:21] WARNING: ../src/learner.cc:1095: Starting in XGBoost 1.3.0, the default evaluation metric used with the objective 'binary:logistic' was changed from 'error' to 'logloss'. Explicitly set eval_metric if you'd like to restore the old behavior.\n",
      "[16:59:23] WARNING: ../src/learner.cc:1095: Starting in XGBoost 1.3.0, the default evaluation metric used with the objective 'binary:logistic' was changed from 'error' to 'logloss'. Explicitly set eval_metric if you'd like to restore the old behavior.\n",
      "[16:59:29] WARNING: ../src/learner.cc:1095: Starting in XGBoost 1.3.0, the default evaluation metric used with the objective 'binary:logistic' was changed from 'error' to 'logloss'. Explicitly set eval_metric if you'd like to restore the old behavior.\n",
      "[16:59:36] WARNING: ../src/learner.cc:1095: Starting in XGBoost 1.3.0, the default evaluation metric used with the objective 'binary:logistic' was changed from 'error' to 'logloss'. Explicitly set eval_metric if you'd like to restore the old behavior.\n",
      "[16:59:41] WARNING: ../src/learner.cc:1095: Starting in XGBoost 1.3.0, the default evaluation metric used with the objective 'binary:logistic' was changed from 'error' to 'logloss'. Explicitly set eval_metric if you'd like to restore the old behavior.\n",
      "[16:59:52] WARNING: ../src/learner.cc:1095: Starting in XGBoost 1.3.0, the default evaluation metric used with the objective 'binary:logistic' was changed from 'error' to 'logloss'. Explicitly set eval_metric if you'd like to restore the old behavior.\n",
      "[16:59:53] WARNING: ../src/learner.cc:1095: Starting in XGBoost 1.3.0, the default evaluation metric used with the objective 'binary:logistic' was changed from 'error' to 'logloss'. Explicitly set eval_metric if you'd like to restore the old behavior.\n",
      "[16:59:53] WARNING: ../src/learner.cc:1095: Starting in XGBoost 1.3.0, the default evaluation metric used with the objective 'binary:logistic' was changed from 'error' to 'logloss'. Explicitly set eval_metric if you'd like to restore the old behavior.\n",
      "[16:59:54] WARNING: ../src/learner.cc:1095: Starting in XGBoost 1.3.0, the default evaluation metric used with the objective 'binary:logistic' was changed from 'error' to 'logloss'. Explicitly set eval_metric if you'd like to restore the old behavior.\n",
      "[16:59:56] WARNING: ../src/learner.cc:1095: Starting in XGBoost 1.3.0, the default evaluation metric used with the objective 'binary:logistic' was changed from 'error' to 'logloss'. Explicitly set eval_metric if you'd like to restore the old behavior.\n",
      "[16:59:59] WARNING: ../src/learner.cc:1095: Starting in XGBoost 1.3.0, the default evaluation metric used with the objective 'binary:logistic' was changed from 'error' to 'logloss'. Explicitly set eval_metric if you'd like to restore the old behavior.\n",
      "[17:00:01] WARNING: ../src/learner.cc:1095: Starting in XGBoost 1.3.0, the default evaluation metric used with the objective 'binary:logistic' was changed from 'error' to 'logloss'. Explicitly set eval_metric if you'd like to restore the old behavior.\n",
      "[17:00:10] WARNING: ../src/learner.cc:1095: Starting in XGBoost 1.3.0, the default evaluation metric used with the objective 'binary:logistic' was changed from 'error' to 'logloss'. Explicitly set eval_metric if you'd like to restore the old behavior.\n",
      "[17:00:27] WARNING: ../src/learner.cc:1095: Starting in XGBoost 1.3.0, the default evaluation metric used with the objective 'binary:logistic' was changed from 'error' to 'logloss'. Explicitly set eval_metric if you'd like to restore the old behavior.\n",
      "[17:00:42] WARNING: ../src/learner.cc:1095: Starting in XGBoost 1.3.0, the default evaluation metric used with the objective 'binary:logistic' was changed from 'error' to 'logloss'. Explicitly set eval_metric if you'd like to restore the old behavior.\n",
      "[17:00:58] WARNING: ../src/learner.cc:1095: Starting in XGBoost 1.3.0, the default evaluation metric used with the objective 'binary:logistic' was changed from 'error' to 'logloss'. Explicitly set eval_metric if you'd like to restore the old behavior.\n",
      "[17:00:59] WARNING: ../src/learner.cc:1095: Starting in XGBoost 1.3.0, the default evaluation metric used with the objective 'binary:logistic' was changed from 'error' to 'logloss'. Explicitly set eval_metric if you'd like to restore the old behavior.\n",
      "[17:01:03] WARNING: ../src/learner.cc:1095: Starting in XGBoost 1.3.0, the default evaluation metric used with the objective 'binary:logistic' was changed from 'error' to 'logloss'. Explicitly set eval_metric if you'd like to restore the old behavior.\n",
      "[17:01:05] WARNING: ../src/learner.cc:1095: Starting in XGBoost 1.3.0, the default evaluation metric used with the objective 'binary:logistic' was changed from 'error' to 'logloss'. Explicitly set eval_metric if you'd like to restore the old behavior.\n",
      "[17:01:07] WARNING: ../src/learner.cc:1095: Starting in XGBoost 1.3.0, the default evaluation metric used with the objective 'binary:logistic' was changed from 'error' to 'logloss'. Explicitly set eval_metric if you'd like to restore the old behavior.\n",
      "[17:01:16] WARNING: ../src/learner.cc:1095: Starting in XGBoost 1.3.0, the default evaluation metric used with the objective 'binary:logistic' was changed from 'error' to 'logloss'. Explicitly set eval_metric if you'd like to restore the old behavior.\n",
      "[17:01:35] WARNING: ../src/learner.cc:1095: Starting in XGBoost 1.3.0, the default evaluation metric used with the objective 'binary:logistic' was changed from 'error' to 'logloss'. Explicitly set eval_metric if you'd like to restore the old behavior.\n",
      "[17:01:53] WARNING: ../src/learner.cc:1095: Starting in XGBoost 1.3.0, the default evaluation metric used with the objective 'binary:logistic' was changed from 'error' to 'logloss'. Explicitly set eval_metric if you'd like to restore the old behavior.\n",
      "[17:03:31] WARNING: ../src/learner.cc:1095: Starting in XGBoost 1.3.0, the default evaluation metric used with the objective 'binary:logistic' was changed from 'error' to 'logloss'. Explicitly set eval_metric if you'd like to restore the old behavior.\n",
      "[17:03:41] WARNING: ../src/learner.cc:1095: Starting in XGBoost 1.3.0, the default evaluation metric used with the objective 'binary:logistic' was changed from 'error' to 'logloss'. Explicitly set eval_metric if you'd like to restore the old behavior.\n",
      "[17:03:51] WARNING: ../src/learner.cc:1095: Starting in XGBoost 1.3.0, the default evaluation metric used with the objective 'binary:logistic' was changed from 'error' to 'logloss'. Explicitly set eval_metric if you'd like to restore the old behavior.\n",
      "[17:04:02] WARNING: ../src/learner.cc:1095: Starting in XGBoost 1.3.0, the default evaluation metric used with the objective 'binary:logistic' was changed from 'error' to 'logloss'. Explicitly set eval_metric if you'd like to restore the old behavior.\n",
      "[17:04:20] WARNING: ../src/learner.cc:1095: Starting in XGBoost 1.3.0, the default evaluation metric used with the objective 'binary:logistic' was changed from 'error' to 'logloss'. Explicitly set eval_metric if you'd like to restore the old behavior.\n",
      "[17:04:21] WARNING: ../src/learner.cc:1095: Starting in XGBoost 1.3.0, the default evaluation metric used with the objective 'binary:logistic' was changed from 'error' to 'logloss'. Explicitly set eval_metric if you'd like to restore the old behavior.\n",
      "[17:04:22] WARNING: ../src/learner.cc:1095: Starting in XGBoost 1.3.0, the default evaluation metric used with the objective 'binary:logistic' was changed from 'error' to 'logloss'. Explicitly set eval_metric if you'd like to restore the old behavior.\n",
      "[17:04:34] WARNING: ../src/learner.cc:1095: Starting in XGBoost 1.3.0, the default evaluation metric used with the objective 'binary:logistic' was changed from 'error' to 'logloss'. Explicitly set eval_metric if you'd like to restore the old behavior.\n",
      "[17:05:08] WARNING: ../src/learner.cc:1095: Starting in XGBoost 1.3.0, the default evaluation metric used with the objective 'binary:logistic' was changed from 'error' to 'logloss'. Explicitly set eval_metric if you'd like to restore the old behavior.\n",
      "[17:05:08] WARNING: ../src/learner.cc:1095: Starting in XGBoost 1.3.0, the default evaluation metric used with the objective 'binary:logistic' was changed from 'error' to 'logloss'. Explicitly set eval_metric if you'd like to restore the old behavior.[17:06:26] WARNING: ../src/learner.cc:1095: Starting in XGBoost 1.3.0, the default evaluation metric used with the objective 'binary:logistic' was changed from 'error' to 'logloss'. Explicitly set eval_metric if you'd like to restore the old behavior.\n",
      "CPU times: user 808 ms, sys: 85.5 ms, total: 894 ms\n",
      "Wall time: 5min 27s\n"
     ]
    },
    {
     "data": {
      "text/plain": [
       "GridSearchCV(cv=StratifiedKFold(n_splits=3, random_state=42, shuffle=True),\n",
       "             estimator=XGBClassifier(base_score=None, booster=None,\n",
       "                                     colsample_bylevel=None,\n",
       "                                     colsample_bynode=None,\n",
       "                                     colsample_bytree=None, gamma=None,\n",
       "                                     gpu_id=0, importance_type='gain',\n",
       "                                     interaction_constraints=None,\n",
       "                                     learning_rate=None, max_delta_step=None,\n",
       "                                     max_depth=None, min_child_weight=None,\n",
       "                                     missing=n...None,\n",
       "                                     n_estimators=100, n_jobs=4,\n",
       "                                     num_parallel_tree=None, random_state=42,\n",
       "                                     reg_alpha=None, reg_lambda=None,\n",
       "                                     scale_pos_weight=None, subsample=None,\n",
       "                                     tree_method='gpu_hist',\n",
       "                                     use_label_encoder=False,\n",
       "                                     validate_parameters=None, verbosity=None),\n",
       "             n_jobs=4,\n",
       "             param_grid={'learning_rate': [0.01, 0.1, 1],\n",
       "                         'max_depth': [3, 5, 10],\n",
       "                         'n_estimators': [10, 100, 500, 1000]},\n",
       "             scoring='accuracy')"
      ]
     },
     "execution_count": 218,
     "metadata": {},
     "output_type": "execute_result"
    }
   ],
   "source": [
    "%time gs_xdg_clf.fit(X_frequency_encoder, y_frequency_encoder)"
   ]
  },
  {
   "cell_type": "code",
   "execution_count": 219,
   "metadata": {
    "execution": {
     "iopub.execute_input": "2022-10-30T17:06:26.200824Z",
     "iopub.status.busy": "2022-10-30T17:06:26.200583Z",
     "iopub.status.idle": "2022-10-30T17:06:26.232060Z",
     "shell.execute_reply": "2022-10-30T17:06:26.231230Z",
     "shell.execute_reply.started": "2022-10-30T17:06:26.200791Z"
    }
   },
   "outputs": [
    {
     "name": "stdout",
     "output_type": "stream",
     "text": [
      "Best param: {'learning_rate': 0.1, 'max_depth': 3, 'n_estimators': 100}\n",
      "Accuracy score: 0.7929\n"
     ]
    }
   ],
   "source": [
    "print(f\"Best param: {gs_xdg_clf.best_params_}\")\n",
    "print(f\"Accuracy score: {gs_xdg_clf.score(X_frequency_encoder, y_frequency_encoder)}\")"
   ]
  },
  {
   "cell_type": "markdown",
   "metadata": {},
   "source": [
    "_Результаты по времени_\n",
    "- `LabelEncoder`: 5min 40s\n",
    "- `OneHotEncoder`: 6min 56s\n",
    "- `FrequencyEncoder`: 5min 27s"
   ]
  },
  {
   "cell_type": "markdown",
   "metadata": {},
   "source": [
    "_Выводы_\n",
    "\n",
    "Можно видеть, что оптимальная глубина деревьев не меняется от способа кодирования категориальных признаков."
   ]
  },
  {
   "cell_type": "markdown",
   "metadata": {},
   "source": [
    "__Задание 9__"
   ]
  },
  {
   "cell_type": "code",
   "execution_count": 222,
   "metadata": {
    "execution": {
     "iopub.execute_input": "2022-10-30T17:15:20.591914Z",
     "iopub.status.busy": "2022-10-30T17:15:20.591338Z",
     "iopub.status.idle": "2022-10-30T17:15:20.598051Z",
     "shell.execute_reply": "2022-10-30T17:15:20.597194Z",
     "shell.execute_reply.started": "2022-10-30T17:15:20.591880Z"
    }
   },
   "outputs": [],
   "source": [
    "from catboost import CatBoostClassifier"
   ]
  },
  {
   "cell_type": "code",
   "execution_count": 254,
   "metadata": {
    "execution": {
     "iopub.execute_input": "2022-10-30T17:26:39.162381Z",
     "iopub.status.busy": "2022-10-30T17:26:39.162108Z",
     "iopub.status.idle": "2022-10-30T17:26:39.186993Z",
     "shell.execute_reply": "2022-10-30T17:26:39.186214Z",
     "shell.execute_reply.started": "2022-10-30T17:26:39.162352Z"
    }
   },
   "outputs": [],
   "source": [
    "category_columns = list(set(data.columns).difference(data_real.columns))\n",
    "data_category = data.fillna(0)"
   ]
  },
  {
   "cell_type": "code",
   "execution_count": 255,
   "metadata": {
    "execution": {
     "iopub.execute_input": "2022-10-30T17:26:39.318387Z",
     "iopub.status.busy": "2022-10-30T17:26:39.318110Z",
     "iopub.status.idle": "2022-10-30T17:26:39.337572Z",
     "shell.execute_reply": "2022-10-30T17:26:39.335786Z",
     "shell.execute_reply.started": "2022-10-30T17:26:39.318358Z"
    }
   },
   "outputs": [],
   "source": [
    "for category in category_columns:\n",
    "    data_category[category] = data_category[category].astype(str)"
   ]
  },
  {
   "cell_type": "code",
   "execution_count": 283,
   "metadata": {
    "execution": {
     "iopub.execute_input": "2022-10-30T17:44:42.265536Z",
     "iopub.status.busy": "2022-10-30T17:44:42.265239Z",
     "iopub.status.idle": "2022-10-30T17:44:42.270055Z",
     "shell.execute_reply": "2022-10-30T17:44:42.269175Z",
     "shell.execute_reply.started": "2022-10-30T17:44:42.265500Z"
    }
   },
   "outputs": [],
   "source": [
    "cat_clf = CatBoostClassifier(learning_rate=0.1, max_depth=3, n_estimators=100, random_state=42, cat_features=category_columns, task_type=\"GPU\", devices='0:1')"
   ]
  },
  {
   "cell_type": "code",
   "execution_count": 284,
   "metadata": {
    "execution": {
     "iopub.execute_input": "2022-10-30T17:44:43.594080Z",
     "iopub.status.busy": "2022-10-30T17:44:43.593310Z",
     "iopub.status.idle": "2022-10-30T17:44:43.607445Z",
     "shell.execute_reply": "2022-10-30T17:44:43.606592Z",
     "shell.execute_reply.started": "2022-10-30T17:44:43.594041Z"
    }
   },
   "outputs": [],
   "source": [
    "X = data_category.drop([\"ID\", \"target\"], axis=1)\n",
    "y = data_category[\"target\"]"
   ]
  },
  {
   "cell_type": "code",
   "execution_count": 285,
   "metadata": {
    "execution": {
     "iopub.execute_input": "2022-10-30T17:44:44.896935Z",
     "iopub.status.busy": "2022-10-30T17:44:44.896120Z",
     "iopub.status.idle": "2022-10-30T17:44:46.812700Z",
     "shell.execute_reply": "2022-10-30T17:44:46.811586Z",
     "shell.execute_reply.started": "2022-10-30T17:44:44.896890Z"
    }
   },
   "outputs": [
    {
     "name": "stdout",
     "output_type": "stream",
     "text": [
      "0:\tlearn: 0.6655747\ttotal: 13.3ms\tremaining: 1.31s\n",
      "1:\tlearn: 0.6386000\ttotal: 24.1ms\tremaining: 1.18s\n",
      "2:\tlearn: 0.6184685\ttotal: 35.2ms\tremaining: 1.14s\n",
      "3:\tlearn: 0.6040248\ttotal: 46ms\tremaining: 1.1s\n",
      "4:\tlearn: 0.5908712\ttotal: 56.8ms\tremaining: 1.08s\n",
      "5:\tlearn: 0.5804446\ttotal: 67.6ms\tremaining: 1.06s\n",
      "6:\tlearn: 0.5699228\ttotal: 78.3ms\tremaining: 1.04s\n",
      "7:\tlearn: 0.5617078\ttotal: 89ms\tremaining: 1.02s\n",
      "8:\tlearn: 0.5563842\ttotal: 99.7ms\tremaining: 1.01s\n",
      "9:\tlearn: 0.5479408\ttotal: 111ms\tremaining: 995ms\n",
      "10:\tlearn: 0.5394428\ttotal: 121ms\tremaining: 980ms\n",
      "11:\tlearn: 0.5329968\ttotal: 132ms\tremaining: 966ms\n",
      "12:\tlearn: 0.5278368\ttotal: 142ms\tremaining: 952ms\n",
      "13:\tlearn: 0.5242624\ttotal: 153ms\tremaining: 940ms\n",
      "14:\tlearn: 0.5205729\ttotal: 164ms\tremaining: 927ms\n",
      "15:\tlearn: 0.5177436\ttotal: 174ms\tremaining: 915ms\n",
      "16:\tlearn: 0.5142561\ttotal: 185ms\tremaining: 903ms\n",
      "17:\tlearn: 0.5116709\ttotal: 195ms\tremaining: 890ms\n",
      "18:\tlearn: 0.5084678\ttotal: 206ms\tremaining: 878ms\n",
      "19:\tlearn: 0.5060740\ttotal: 220ms\tremaining: 880ms\n",
      "20:\tlearn: 0.5039014\ttotal: 231ms\tremaining: 867ms\n",
      "21:\tlearn: 0.5022875\ttotal: 241ms\tremaining: 855ms\n",
      "22:\tlearn: 0.5006998\ttotal: 252ms\tremaining: 843ms\n",
      "23:\tlearn: 0.4995798\ttotal: 263ms\tremaining: 832ms\n",
      "24:\tlearn: 0.4985251\ttotal: 273ms\tremaining: 820ms\n",
      "25:\tlearn: 0.4973222\ttotal: 284ms\tremaining: 809ms\n",
      "26:\tlearn: 0.4963980\ttotal: 295ms\tremaining: 797ms\n",
      "27:\tlearn: 0.4953443\ttotal: 305ms\tremaining: 785ms\n",
      "28:\tlearn: 0.4945227\ttotal: 316ms\tremaining: 774ms\n",
      "29:\tlearn: 0.4937719\ttotal: 327ms\tremaining: 762ms\n",
      "30:\tlearn: 0.4932520\ttotal: 337ms\tremaining: 750ms\n",
      "31:\tlearn: 0.4923326\ttotal: 348ms\tremaining: 739ms\n",
      "32:\tlearn: 0.4919837\ttotal: 358ms\tremaining: 727ms\n",
      "33:\tlearn: 0.4915392\ttotal: 369ms\tremaining: 716ms\n",
      "34:\tlearn: 0.4908825\ttotal: 379ms\tremaining: 704ms\n",
      "35:\tlearn: 0.4903369\ttotal: 390ms\tremaining: 693ms\n",
      "36:\tlearn: 0.4894990\ttotal: 400ms\tremaining: 681ms\n",
      "37:\tlearn: 0.4885772\ttotal: 411ms\tremaining: 670ms\n",
      "38:\tlearn: 0.4880104\ttotal: 423ms\tremaining: 662ms\n",
      "39:\tlearn: 0.4873447\ttotal: 434ms\tremaining: 651ms\n",
      "40:\tlearn: 0.4868196\ttotal: 445ms\tremaining: 640ms\n",
      "41:\tlearn: 0.4864564\ttotal: 455ms\tremaining: 629ms\n",
      "42:\tlearn: 0.4857378\ttotal: 466ms\tremaining: 618ms\n",
      "43:\tlearn: 0.4852143\ttotal: 477ms\tremaining: 607ms\n",
      "44:\tlearn: 0.4850592\ttotal: 488ms\tremaining: 596ms\n",
      "45:\tlearn: 0.4848425\ttotal: 499ms\tremaining: 586ms\n",
      "46:\tlearn: 0.4844870\ttotal: 510ms\tremaining: 575ms\n",
      "47:\tlearn: 0.4840109\ttotal: 520ms\tremaining: 564ms\n",
      "48:\tlearn: 0.4838000\ttotal: 531ms\tremaining: 553ms\n",
      "49:\tlearn: 0.4835992\ttotal: 542ms\tremaining: 542ms\n",
      "50:\tlearn: 0.4832300\ttotal: 553ms\tremaining: 531ms\n",
      "51:\tlearn: 0.4829953\ttotal: 564ms\tremaining: 520ms\n",
      "52:\tlearn: 0.4825389\ttotal: 574ms\tremaining: 509ms\n",
      "53:\tlearn: 0.4823137\ttotal: 585ms\tremaining: 498ms\n",
      "54:\tlearn: 0.4821592\ttotal: 596ms\tremaining: 488ms\n",
      "55:\tlearn: 0.4819443\ttotal: 607ms\tremaining: 477ms\n",
      "56:\tlearn: 0.4816602\ttotal: 617ms\tremaining: 466ms\n",
      "57:\tlearn: 0.4813796\ttotal: 630ms\tremaining: 456ms\n",
      "58:\tlearn: 0.4810971\ttotal: 640ms\tremaining: 445ms\n",
      "59:\tlearn: 0.4809346\ttotal: 651ms\tremaining: 434ms\n",
      "60:\tlearn: 0.4808137\ttotal: 661ms\tremaining: 423ms\n",
      "61:\tlearn: 0.4806211\ttotal: 672ms\tremaining: 412ms\n",
      "62:\tlearn: 0.4804588\ttotal: 682ms\tremaining: 401ms\n",
      "63:\tlearn: 0.4802766\ttotal: 693ms\tremaining: 390ms\n",
      "64:\tlearn: 0.4801979\ttotal: 704ms\tremaining: 379ms\n",
      "65:\tlearn: 0.4798714\ttotal: 714ms\tremaining: 368ms\n",
      "66:\tlearn: 0.4796382\ttotal: 725ms\tremaining: 357ms\n",
      "67:\tlearn: 0.4795534\ttotal: 735ms\tremaining: 346ms\n",
      "68:\tlearn: 0.4794181\ttotal: 746ms\tremaining: 335ms\n",
      "69:\tlearn: 0.4792278\ttotal: 756ms\tremaining: 324ms\n",
      "70:\tlearn: 0.4791138\ttotal: 768ms\tremaining: 313ms\n",
      "71:\tlearn: 0.4789750\ttotal: 778ms\tremaining: 303ms\n",
      "72:\tlearn: 0.4788315\ttotal: 789ms\tremaining: 292ms\n",
      "73:\tlearn: 0.4787072\ttotal: 800ms\tremaining: 281ms\n",
      "74:\tlearn: 0.4785871\ttotal: 810ms\tremaining: 270ms\n",
      "75:\tlearn: 0.4783657\ttotal: 821ms\tremaining: 259ms\n",
      "76:\tlearn: 0.4782059\ttotal: 834ms\tremaining: 249ms\n",
      "77:\tlearn: 0.4780551\ttotal: 844ms\tremaining: 238ms\n",
      "78:\tlearn: 0.4779157\ttotal: 855ms\tremaining: 227ms\n",
      "79:\tlearn: 0.4778847\ttotal: 866ms\tremaining: 216ms\n",
      "80:\tlearn: 0.4778062\ttotal: 876ms\tremaining: 206ms\n",
      "81:\tlearn: 0.4775473\ttotal: 887ms\tremaining: 195ms\n",
      "82:\tlearn: 0.4772858\ttotal: 898ms\tremaining: 184ms\n",
      "83:\tlearn: 0.4769918\ttotal: 908ms\tremaining: 173ms\n",
      "84:\tlearn: 0.4765888\ttotal: 919ms\tremaining: 162ms\n",
      "85:\tlearn: 0.4762854\ttotal: 930ms\tremaining: 151ms\n",
      "86:\tlearn: 0.4762082\ttotal: 941ms\tremaining: 141ms\n",
      "87:\tlearn: 0.4761893\ttotal: 951ms\tremaining: 130ms\n",
      "88:\tlearn: 0.4760835\ttotal: 962ms\tremaining: 119ms\n",
      "89:\tlearn: 0.4759065\ttotal: 973ms\tremaining: 108ms\n",
      "90:\tlearn: 0.4757771\ttotal: 983ms\tremaining: 97.2ms\n",
      "91:\tlearn: 0.4756724\ttotal: 994ms\tremaining: 86.4ms\n",
      "92:\tlearn: 0.4755013\ttotal: 1s\tremaining: 75.6ms\n",
      "93:\tlearn: 0.4753552\ttotal: 1.01s\tremaining: 64.8ms\n",
      "94:\tlearn: 0.4752758\ttotal: 1.02s\tremaining: 54ms\n",
      "95:\tlearn: 0.4751880\ttotal: 1.04s\tremaining: 43.3ms\n",
      "96:\tlearn: 0.4750555\ttotal: 1.05s\tremaining: 32.5ms\n",
      "97:\tlearn: 0.4748868\ttotal: 1.06s\tremaining: 21.6ms\n",
      "98:\tlearn: 0.4746109\ttotal: 1.07s\tremaining: 10.8ms\n",
      "99:\tlearn: 0.4744963\ttotal: 1.08s\tremaining: 0us\n",
      "CPU times: user 1.86 s, sys: 924 ms, total: 2.78 s\n",
      "Wall time: 1.91 s\n"
     ]
    },
    {
     "data": {
      "text/plain": [
       "<catboost.core.CatBoostClassifier at 0x7f0427beaa10>"
      ]
     },
     "execution_count": 285,
     "metadata": {},
     "output_type": "execute_result"
    }
   ],
   "source": [
    "%time cat_clf.fit(X, y, cat_features=category_columns)"
   ]
  },
  {
   "cell_type": "code",
   "execution_count": 286,
   "metadata": {
    "execution": {
     "iopub.execute_input": "2022-10-30T17:45:18.764571Z",
     "iopub.status.busy": "2022-10-30T17:45:18.764273Z",
     "iopub.status.idle": "2022-10-30T17:45:24.493584Z",
     "shell.execute_reply": "2022-10-30T17:45:24.492939Z",
     "shell.execute_reply.started": "2022-10-30T17:45:18.764541Z"
    }
   },
   "outputs": [
    {
     "name": "stdout",
     "output_type": "stream",
     "text": [
      "0:\tlearn: 0.6655312\ttotal: 11.9ms\tremaining: 1.18s\n",
      "1:\tlearn: 0.6398833\ttotal: 23.8ms\tremaining: 1.16s\n",
      "2:\tlearn: 0.6204026\ttotal: 34.4ms\tremaining: 1.11s\n",
      "3:\tlearn: 0.6038160\ttotal: 45.1ms\tremaining: 1.08s\n",
      "4:\tlearn: 0.5907157\ttotal: 55.7ms\tremaining: 1.06s\n",
      "5:\tlearn: 0.5806127\ttotal: 66.4ms\tremaining: 1.04s\n",
      "6:\tlearn: 0.5703592\ttotal: 77.1ms\tremaining: 1.02s\n",
      "7:\tlearn: 0.5621892\ttotal: 87.6ms\tremaining: 1.01s\n",
      "8:\tlearn: 0.5568193\ttotal: 98.1ms\tremaining: 992ms\n",
      "9:\tlearn: 0.5478363\ttotal: 109ms\tremaining: 979ms\n",
      "10:\tlearn: 0.5408944\ttotal: 119ms\tremaining: 966ms\n",
      "11:\tlearn: 0.5340883\ttotal: 131ms\tremaining: 963ms\n",
      "12:\tlearn: 0.5291307\ttotal: 143ms\tremaining: 954ms\n",
      "13:\tlearn: 0.5253118\ttotal: 153ms\tremaining: 942ms\n",
      "14:\tlearn: 0.5224438\ttotal: 164ms\tremaining: 930ms\n",
      "15:\tlearn: 0.5198807\ttotal: 175ms\tremaining: 918ms\n",
      "16:\tlearn: 0.5178215\ttotal: 185ms\tremaining: 905ms\n",
      "17:\tlearn: 0.5150259\ttotal: 196ms\tremaining: 892ms\n",
      "18:\tlearn: 0.5124208\ttotal: 206ms\tremaining: 880ms\n",
      "19:\tlearn: 0.5096095\ttotal: 219ms\tremaining: 878ms\n",
      "20:\tlearn: 0.5072801\ttotal: 230ms\tremaining: 865ms\n",
      "21:\tlearn: 0.5054187\ttotal: 242ms\tremaining: 857ms\n",
      "22:\tlearn: 0.5038977\ttotal: 253ms\tremaining: 848ms\n",
      "23:\tlearn: 0.5029166\ttotal: 264ms\tremaining: 837ms\n",
      "24:\tlearn: 0.5021689\ttotal: 275ms\tremaining: 826ms\n",
      "25:\tlearn: 0.5011308\ttotal: 287ms\tremaining: 816ms\n",
      "26:\tlearn: 0.5008758\ttotal: 297ms\tremaining: 803ms\n",
      "27:\tlearn: 0.4999919\ttotal: 308ms\tremaining: 791ms\n",
      "28:\tlearn: 0.4992128\ttotal: 318ms\tremaining: 779ms\n",
      "29:\tlearn: 0.4983933\ttotal: 329ms\tremaining: 767ms\n",
      "30:\tlearn: 0.4978258\ttotal: 339ms\tremaining: 755ms\n",
      "31:\tlearn: 0.4969886\ttotal: 350ms\tremaining: 743ms\n",
      "32:\tlearn: 0.4961337\ttotal: 360ms\tremaining: 731ms\n",
      "33:\tlearn: 0.4953977\ttotal: 371ms\tremaining: 720ms\n",
      "34:\tlearn: 0.4940395\ttotal: 381ms\tremaining: 708ms\n",
      "35:\tlearn: 0.4937943\ttotal: 392ms\tremaining: 697ms\n",
      "36:\tlearn: 0.4927803\ttotal: 403ms\tremaining: 686ms\n",
      "37:\tlearn: 0.4923944\ttotal: 413ms\tremaining: 674ms\n",
      "38:\tlearn: 0.4919607\ttotal: 427ms\tremaining: 668ms\n",
      "39:\tlearn: 0.4907794\ttotal: 438ms\tremaining: 657ms\n",
      "40:\tlearn: 0.4902930\ttotal: 448ms\tremaining: 645ms\n",
      "41:\tlearn: 0.4900406\ttotal: 459ms\tremaining: 634ms\n",
      "42:\tlearn: 0.4892755\ttotal: 470ms\tremaining: 623ms\n",
      "43:\tlearn: 0.4887975\ttotal: 480ms\tremaining: 612ms\n",
      "44:\tlearn: 0.4886894\ttotal: 491ms\tremaining: 600ms\n",
      "45:\tlearn: 0.4883174\ttotal: 502ms\tremaining: 589ms\n",
      "46:\tlearn: 0.4879486\ttotal: 512ms\tremaining: 578ms\n",
      "47:\tlearn: 0.4875412\ttotal: 523ms\tremaining: 567ms\n",
      "48:\tlearn: 0.4870842\ttotal: 534ms\tremaining: 556ms\n",
      "49:\tlearn: 0.4867344\ttotal: 545ms\tremaining: 545ms\n",
      "50:\tlearn: 0.4864269\ttotal: 555ms\tremaining: 533ms\n",
      "51:\tlearn: 0.4859543\ttotal: 566ms\tremaining: 522ms\n",
      "52:\tlearn: 0.4856823\ttotal: 576ms\tremaining: 511ms\n",
      "53:\tlearn: 0.4854340\ttotal: 587ms\tremaining: 500ms\n",
      "54:\tlearn: 0.4849759\ttotal: 597ms\tremaining: 489ms\n",
      "55:\tlearn: 0.4846468\ttotal: 608ms\tremaining: 478ms\n",
      "56:\tlearn: 0.4844510\ttotal: 618ms\tremaining: 466ms\n",
      "57:\tlearn: 0.4843236\ttotal: 631ms\tremaining: 457ms\n",
      "58:\tlearn: 0.4841512\ttotal: 641ms\tremaining: 446ms\n",
      "59:\tlearn: 0.4839284\ttotal: 652ms\tremaining: 435ms\n",
      "60:\tlearn: 0.4837518\ttotal: 662ms\tremaining: 423ms\n",
      "61:\tlearn: 0.4836137\ttotal: 673ms\tremaining: 412ms\n",
      "62:\tlearn: 0.4833732\ttotal: 683ms\tremaining: 401ms\n",
      "63:\tlearn: 0.4830777\ttotal: 694ms\tremaining: 390ms\n",
      "64:\tlearn: 0.4829515\ttotal: 704ms\tremaining: 379ms\n",
      "65:\tlearn: 0.4827162\ttotal: 715ms\tremaining: 368ms\n",
      "66:\tlearn: 0.4825160\ttotal: 725ms\tremaining: 357ms\n",
      "67:\tlearn: 0.4823342\ttotal: 735ms\tremaining: 346ms\n",
      "68:\tlearn: 0.4821817\ttotal: 746ms\tremaining: 335ms\n",
      "69:\tlearn: 0.4819691\ttotal: 756ms\tremaining: 324ms\n",
      "70:\tlearn: 0.4818929\ttotal: 767ms\tremaining: 313ms\n",
      "71:\tlearn: 0.4815839\ttotal: 777ms\tremaining: 302ms\n",
      "72:\tlearn: 0.4812505\ttotal: 787ms\tremaining: 291ms\n",
      "73:\tlearn: 0.4810354\ttotal: 798ms\tremaining: 280ms\n",
      "74:\tlearn: 0.4808811\ttotal: 808ms\tremaining: 269ms\n",
      "75:\tlearn: 0.4805710\ttotal: 819ms\tremaining: 259ms\n",
      "76:\tlearn: 0.4799634\ttotal: 831ms\tremaining: 248ms\n",
      "77:\tlearn: 0.4798270\ttotal: 842ms\tremaining: 237ms\n",
      "78:\tlearn: 0.4794045\ttotal: 852ms\tremaining: 227ms\n",
      "79:\tlearn: 0.4793399\ttotal: 863ms\tremaining: 216ms\n",
      "80:\tlearn: 0.4790339\ttotal: 873ms\tremaining: 205ms\n",
      "81:\tlearn: 0.4789514\ttotal: 883ms\tremaining: 194ms\n",
      "82:\tlearn: 0.4786823\ttotal: 894ms\tremaining: 183ms\n",
      "83:\tlearn: 0.4784470\ttotal: 904ms\tremaining: 172ms\n",
      "84:\tlearn: 0.4782951\ttotal: 915ms\tremaining: 161ms\n",
      "85:\tlearn: 0.4781761\ttotal: 925ms\tremaining: 151ms\n",
      "86:\tlearn: 0.4777353\ttotal: 936ms\tremaining: 140ms\n",
      "87:\tlearn: 0.4775084\ttotal: 947ms\tremaining: 129ms\n",
      "88:\tlearn: 0.4772696\ttotal: 958ms\tremaining: 118ms\n",
      "89:\tlearn: 0.4771613\ttotal: 969ms\tremaining: 108ms\n",
      "90:\tlearn: 0.4767640\ttotal: 979ms\tremaining: 96.8ms\n",
      "91:\tlearn: 0.4762425\ttotal: 990ms\tremaining: 86.1ms\n",
      "92:\tlearn: 0.4760139\ttotal: 1s\tremaining: 75.3ms\n",
      "93:\tlearn: 0.4755772\ttotal: 1.01s\tremaining: 64.5ms\n",
      "94:\tlearn: 0.4752258\ttotal: 1.02s\tremaining: 53.8ms\n",
      "95:\tlearn: 0.4751230\ttotal: 1.03s\tremaining: 43.1ms\n",
      "96:\tlearn: 0.4749935\ttotal: 1.04s\tremaining: 32.3ms\n",
      "97:\tlearn: 0.4748534\ttotal: 1.06s\tremaining: 21.6ms\n",
      "98:\tlearn: 0.4746315\ttotal: 1.07s\tremaining: 10.8ms\n",
      "99:\tlearn: 0.4743258\ttotal: 1.08s\tremaining: 0us\n",
      "0:\tlearn: 0.6654023\ttotal: 12.3ms\tremaining: 1.22s\n",
      "1:\tlearn: 0.6405789\ttotal: 23.5ms\tremaining: 1.15s\n",
      "2:\tlearn: 0.6204744\ttotal: 34ms\tremaining: 1.1s\n",
      "3:\tlearn: 0.6036704\ttotal: 44.6ms\tremaining: 1.07s\n",
      "4:\tlearn: 0.5905804\ttotal: 55.1ms\tremaining: 1.05s\n",
      "5:\tlearn: 0.5803202\ttotal: 65.5ms\tremaining: 1.03s\n",
      "6:\tlearn: 0.5700509\ttotal: 76ms\tremaining: 1.01s\n",
      "7:\tlearn: 0.5618781\ttotal: 86.6ms\tremaining: 995ms\n",
      "8:\tlearn: 0.5564534\ttotal: 97.1ms\tremaining: 982ms\n",
      "9:\tlearn: 0.5486944\ttotal: 108ms\tremaining: 968ms\n",
      "10:\tlearn: 0.5408317\ttotal: 118ms\tremaining: 954ms\n",
      "11:\tlearn: 0.5377162\ttotal: 128ms\tremaining: 941ms\n",
      "12:\tlearn: 0.5328855\ttotal: 139ms\tremaining: 930ms\n",
      "13:\tlearn: 0.5282369\ttotal: 149ms\tremaining: 918ms\n",
      "14:\tlearn: 0.5240462\ttotal: 160ms\tremaining: 907ms\n",
      "15:\tlearn: 0.5213784\ttotal: 171ms\tremaining: 896ms\n",
      "16:\tlearn: 0.5177624\ttotal: 181ms\tremaining: 884ms\n",
      "17:\tlearn: 0.5152695\ttotal: 192ms\tremaining: 873ms\n",
      "18:\tlearn: 0.5128511\ttotal: 202ms\tremaining: 861ms\n",
      "19:\tlearn: 0.5092084\ttotal: 215ms\tremaining: 859ms\n",
      "20:\tlearn: 0.5069397\ttotal: 225ms\tremaining: 848ms\n",
      "21:\tlearn: 0.5058221\ttotal: 236ms\tremaining: 836ms\n",
      "22:\tlearn: 0.5042840\ttotal: 246ms\tremaining: 824ms\n",
      "23:\tlearn: 0.5029191\ttotal: 256ms\tremaining: 812ms\n",
      "24:\tlearn: 0.5011706\ttotal: 267ms\tremaining: 801ms\n",
      "25:\tlearn: 0.5003860\ttotal: 277ms\tremaining: 789ms\n",
      "26:\tlearn: 0.4992781\ttotal: 288ms\tremaining: 778ms\n",
      "27:\tlearn: 0.4984634\ttotal: 298ms\tremaining: 767ms\n",
      "28:\tlearn: 0.4973274\ttotal: 309ms\tremaining: 756ms\n",
      "29:\tlearn: 0.4968454\ttotal: 319ms\tremaining: 744ms\n",
      "30:\tlearn: 0.4955910\ttotal: 330ms\tremaining: 734ms\n",
      "31:\tlearn: 0.4949826\ttotal: 340ms\tremaining: 722ms\n",
      "32:\tlearn: 0.4943291\ttotal: 350ms\tremaining: 711ms\n",
      "33:\tlearn: 0.4940938\ttotal: 361ms\tremaining: 701ms\n",
      "34:\tlearn: 0.4933688\ttotal: 371ms\tremaining: 690ms\n",
      "35:\tlearn: 0.4923304\ttotal: 382ms\tremaining: 679ms\n",
      "36:\tlearn: 0.4912715\ttotal: 392ms\tremaining: 668ms\n",
      "37:\tlearn: 0.4907652\ttotal: 403ms\tremaining: 657ms\n",
      "38:\tlearn: 0.4899839\ttotal: 415ms\tremaining: 649ms\n",
      "39:\tlearn: 0.4896371\ttotal: 425ms\tremaining: 638ms\n",
      "40:\tlearn: 0.4893027\ttotal: 436ms\tremaining: 627ms\n",
      "41:\tlearn: 0.4892039\ttotal: 447ms\tremaining: 617ms\n",
      "42:\tlearn: 0.4888047\ttotal: 457ms\tremaining: 606ms\n",
      "43:\tlearn: 0.4885083\ttotal: 468ms\tremaining: 595ms\n",
      "44:\tlearn: 0.4883688\ttotal: 478ms\tremaining: 584ms\n",
      "45:\tlearn: 0.4876160\ttotal: 488ms\tremaining: 573ms\n",
      "46:\tlearn: 0.4868966\ttotal: 499ms\tremaining: 562ms\n",
      "47:\tlearn: 0.4865100\ttotal: 509ms\tremaining: 552ms\n",
      "48:\tlearn: 0.4859897\ttotal: 519ms\tremaining: 541ms\n",
      "49:\tlearn: 0.4854972\ttotal: 530ms\tremaining: 530ms\n",
      "50:\tlearn: 0.4852457\ttotal: 540ms\tremaining: 519ms\n",
      "51:\tlearn: 0.4848379\ttotal: 551ms\tremaining: 508ms\n",
      "52:\tlearn: 0.4846549\ttotal: 561ms\tremaining: 498ms\n",
      "53:\tlearn: 0.4843676\ttotal: 572ms\tremaining: 487ms\n",
      "54:\tlearn: 0.4840958\ttotal: 582ms\tremaining: 476ms\n",
      "55:\tlearn: 0.4837689\ttotal: 592ms\tremaining: 465ms\n",
      "56:\tlearn: 0.4835471\ttotal: 603ms\tremaining: 455ms\n",
      "57:\tlearn: 0.4832169\ttotal: 615ms\tremaining: 446ms\n",
      "58:\tlearn: 0.4830635\ttotal: 626ms\tremaining: 435ms\n",
      "59:\tlearn: 0.4825363\ttotal: 636ms\tremaining: 424ms\n",
      "60:\tlearn: 0.4823101\ttotal: 647ms\tremaining: 414ms\n",
      "61:\tlearn: 0.4821284\ttotal: 657ms\tremaining: 403ms\n",
      "62:\tlearn: 0.4819167\ttotal: 668ms\tremaining: 392ms\n",
      "63:\tlearn: 0.4817205\ttotal: 678ms\tremaining: 381ms\n",
      "64:\tlearn: 0.4815234\ttotal: 688ms\tremaining: 371ms\n",
      "65:\tlearn: 0.4812843\ttotal: 699ms\tremaining: 360ms\n",
      "66:\tlearn: 0.4805558\ttotal: 709ms\tremaining: 349ms\n",
      "67:\tlearn: 0.4803333\ttotal: 720ms\tremaining: 339ms\n",
      "68:\tlearn: 0.4799961\ttotal: 730ms\tremaining: 328ms\n",
      "69:\tlearn: 0.4798899\ttotal: 740ms\tremaining: 317ms\n",
      "70:\tlearn: 0.4795366\ttotal: 751ms\tremaining: 307ms\n",
      "71:\tlearn: 0.4791467\ttotal: 761ms\tremaining: 296ms\n",
      "72:\tlearn: 0.4791123\ttotal: 772ms\tremaining: 285ms\n",
      "73:\tlearn: 0.4788570\ttotal: 782ms\tremaining: 275ms\n",
      "74:\tlearn: 0.4784752\ttotal: 792ms\tremaining: 264ms\n",
      "75:\tlearn: 0.4778707\ttotal: 803ms\tremaining: 254ms\n",
      "76:\tlearn: 0.4776293\ttotal: 815ms\tremaining: 244ms\n",
      "77:\tlearn: 0.4773722\ttotal: 826ms\tremaining: 233ms\n",
      "78:\tlearn: 0.4770734\ttotal: 836ms\tremaining: 222ms\n",
      "79:\tlearn: 0.4770189\ttotal: 847ms\tremaining: 212ms\n",
      "80:\tlearn: 0.4766938\ttotal: 857ms\tremaining: 201ms\n",
      "81:\tlearn: 0.4765143\ttotal: 867ms\tremaining: 190ms\n",
      "82:\tlearn: 0.4763968\ttotal: 878ms\tremaining: 180ms\n",
      "83:\tlearn: 0.4761414\ttotal: 888ms\tremaining: 169ms\n",
      "84:\tlearn: 0.4756020\ttotal: 899ms\tremaining: 159ms\n",
      "85:\tlearn: 0.4754978\ttotal: 909ms\tremaining: 148ms\n",
      "86:\tlearn: 0.4752800\ttotal: 920ms\tremaining: 137ms\n",
      "87:\tlearn: 0.4750944\ttotal: 930ms\tremaining: 127ms\n",
      "88:\tlearn: 0.4750335\ttotal: 941ms\tremaining: 116ms\n",
      "89:\tlearn: 0.4749369\ttotal: 951ms\tremaining: 106ms\n",
      "90:\tlearn: 0.4748273\ttotal: 962ms\tremaining: 95.1ms\n",
      "91:\tlearn: 0.4747237\ttotal: 972ms\tremaining: 84.5ms\n",
      "92:\tlearn: 0.4744397\ttotal: 983ms\tremaining: 74ms\n",
      "93:\tlearn: 0.4743191\ttotal: 993ms\tremaining: 63.4ms\n",
      "94:\tlearn: 0.4739029\ttotal: 1s\tremaining: 52.8ms\n",
      "95:\tlearn: 0.4734351\ttotal: 1.02s\tremaining: 42.3ms\n",
      "96:\tlearn: 0.4733451\ttotal: 1.03s\tremaining: 31.7ms\n",
      "97:\tlearn: 0.4731410\ttotal: 1.04s\tremaining: 21.2ms\n",
      "98:\tlearn: 0.4728397\ttotal: 1.05s\tremaining: 10.6ms\n",
      "99:\tlearn: 0.4726348\ttotal: 1.06s\tremaining: 0us\n",
      "0:\tlearn: 0.6655301\ttotal: 11.5ms\tremaining: 1.14s\n",
      "1:\tlearn: 0.6397084\ttotal: 22ms\tremaining: 1.08s\n",
      "2:\tlearn: 0.6195719\ttotal: 32.4ms\tremaining: 1.05s\n",
      "3:\tlearn: 0.6025428\ttotal: 42.8ms\tremaining: 1.03s\n",
      "4:\tlearn: 0.5893409\ttotal: 53.2ms\tremaining: 1.01s\n",
      "5:\tlearn: 0.5791603\ttotal: 64.3ms\tremaining: 1.01s\n",
      "6:\tlearn: 0.5682388\ttotal: 74.4ms\tremaining: 988ms\n",
      "7:\tlearn: 0.5598238\ttotal: 84.9ms\tremaining: 976ms\n",
      "8:\tlearn: 0.5499536\ttotal: 95.2ms\tremaining: 962ms\n",
      "9:\tlearn: 0.5414240\ttotal: 106ms\tremaining: 951ms\n",
      "10:\tlearn: 0.5343636\ttotal: 116ms\tremaining: 938ms\n",
      "11:\tlearn: 0.5278227\ttotal: 126ms\tremaining: 928ms\n",
      "12:\tlearn: 0.5213276\ttotal: 137ms\tremaining: 915ms\n",
      "13:\tlearn: 0.5172583\ttotal: 147ms\tremaining: 904ms\n",
      "14:\tlearn: 0.5149653\ttotal: 158ms\tremaining: 894ms\n",
      "15:\tlearn: 0.5120021\ttotal: 169ms\tremaining: 885ms\n",
      "16:\tlearn: 0.5089009\ttotal: 179ms\tremaining: 874ms\n",
      "17:\tlearn: 0.5056648\ttotal: 190ms\tremaining: 863ms\n",
      "18:\tlearn: 0.5035132\ttotal: 200ms\tremaining: 852ms\n",
      "19:\tlearn: 0.5015022\ttotal: 213ms\tremaining: 851ms\n",
      "20:\tlearn: 0.4997597\ttotal: 223ms\tremaining: 840ms\n",
      "21:\tlearn: 0.4981942\ttotal: 234ms\tremaining: 829ms\n",
      "22:\tlearn: 0.4966144\ttotal: 244ms\tremaining: 818ms\n",
      "23:\tlearn: 0.4951233\ttotal: 255ms\tremaining: 807ms\n",
      "24:\tlearn: 0.4942079\ttotal: 265ms\tremaining: 796ms\n",
      "25:\tlearn: 0.4935217\ttotal: 276ms\tremaining: 785ms\n",
      "26:\tlearn: 0.4928986\ttotal: 286ms\tremaining: 773ms\n",
      "27:\tlearn: 0.4913382\ttotal: 296ms\tremaining: 762ms\n",
      "28:\tlearn: 0.4901173\ttotal: 307ms\tremaining: 751ms\n",
      "29:\tlearn: 0.4894715\ttotal: 317ms\tremaining: 741ms\n",
      "30:\tlearn: 0.4891653\ttotal: 328ms\tremaining: 730ms\n",
      "31:\tlearn: 0.4884559\ttotal: 338ms\tremaining: 719ms\n",
      "32:\tlearn: 0.4874567\ttotal: 349ms\tremaining: 708ms\n",
      "33:\tlearn: 0.4865660\ttotal: 359ms\tremaining: 697ms\n",
      "34:\tlearn: 0.4858985\ttotal: 369ms\tremaining: 686ms\n",
      "35:\tlearn: 0.4848990\ttotal: 380ms\tremaining: 675ms\n",
      "36:\tlearn: 0.4842284\ttotal: 390ms\tremaining: 664ms\n",
      "37:\tlearn: 0.4835075\ttotal: 400ms\tremaining: 653ms\n",
      "38:\tlearn: 0.4829262\ttotal: 413ms\tremaining: 646ms\n",
      "39:\tlearn: 0.4826632\ttotal: 423ms\tremaining: 635ms\n",
      "40:\tlearn: 0.4822618\ttotal: 434ms\tremaining: 625ms\n",
      "41:\tlearn: 0.4816955\ttotal: 444ms\tremaining: 614ms\n",
      "42:\tlearn: 0.4810706\ttotal: 455ms\tremaining: 603ms\n",
      "43:\tlearn: 0.4803093\ttotal: 465ms\tremaining: 592ms\n",
      "44:\tlearn: 0.4795859\ttotal: 476ms\tremaining: 582ms\n",
      "45:\tlearn: 0.4791871\ttotal: 486ms\tremaining: 571ms\n",
      "46:\tlearn: 0.4789426\ttotal: 497ms\tremaining: 560ms\n",
      "47:\tlearn: 0.4787238\ttotal: 507ms\tremaining: 549ms\n",
      "48:\tlearn: 0.4784423\ttotal: 518ms\tremaining: 539ms\n",
      "49:\tlearn: 0.4782734\ttotal: 528ms\tremaining: 528ms\n",
      "50:\tlearn: 0.4778129\ttotal: 539ms\tremaining: 517ms\n",
      "51:\tlearn: 0.4775089\ttotal: 550ms\tremaining: 508ms\n",
      "52:\tlearn: 0.4773716\ttotal: 560ms\tremaining: 497ms\n",
      "53:\tlearn: 0.4771216\ttotal: 571ms\tremaining: 486ms\n",
      "54:\tlearn: 0.4770910\ttotal: 581ms\tremaining: 475ms\n",
      "55:\tlearn: 0.4767011\ttotal: 591ms\tremaining: 465ms\n",
      "56:\tlearn: 0.4762695\ttotal: 602ms\tremaining: 454ms\n",
      "57:\tlearn: 0.4761428\ttotal: 615ms\tremaining: 445ms\n",
      "58:\tlearn: 0.4758289\ttotal: 625ms\tremaining: 434ms\n",
      "59:\tlearn: 0.4754911\ttotal: 635ms\tremaining: 424ms\n",
      "60:\tlearn: 0.4752053\ttotal: 646ms\tremaining: 413ms\n",
      "61:\tlearn: 0.4750056\ttotal: 656ms\tremaining: 402ms\n",
      "62:\tlearn: 0.4743579\ttotal: 666ms\tremaining: 391ms\n",
      "63:\tlearn: 0.4742575\ttotal: 677ms\tremaining: 381ms\n",
      "64:\tlearn: 0.4739812\ttotal: 687ms\tremaining: 370ms\n",
      "65:\tlearn: 0.4734241\ttotal: 697ms\tremaining: 359ms\n",
      "66:\tlearn: 0.4732140\ttotal: 708ms\tremaining: 349ms\n",
      "67:\tlearn: 0.4729755\ttotal: 718ms\tremaining: 338ms\n",
      "68:\tlearn: 0.4727925\ttotal: 729ms\tremaining: 327ms\n",
      "69:\tlearn: 0.4725401\ttotal: 739ms\tremaining: 317ms\n",
      "70:\tlearn: 0.4721793\ttotal: 749ms\tremaining: 306ms\n",
      "71:\tlearn: 0.4720895\ttotal: 761ms\tremaining: 296ms\n",
      "72:\tlearn: 0.4720350\ttotal: 771ms\tremaining: 285ms\n",
      "73:\tlearn: 0.4718350\ttotal: 781ms\tremaining: 274ms\n",
      "74:\tlearn: 0.4717544\ttotal: 792ms\tremaining: 264ms\n",
      "75:\tlearn: 0.4714785\ttotal: 802ms\tremaining: 253ms\n",
      "76:\tlearn: 0.4713705\ttotal: 814ms\tremaining: 243ms\n",
      "77:\tlearn: 0.4711614\ttotal: 825ms\tremaining: 233ms\n",
      "78:\tlearn: 0.4707807\ttotal: 835ms\tremaining: 222ms\n",
      "79:\tlearn: 0.4706266\ttotal: 846ms\tremaining: 211ms\n",
      "80:\tlearn: 0.4701534\ttotal: 856ms\tremaining: 201ms\n",
      "81:\tlearn: 0.4699516\ttotal: 866ms\tremaining: 190ms\n",
      "82:\tlearn: 0.4697053\ttotal: 877ms\tremaining: 180ms\n",
      "83:\tlearn: 0.4695935\ttotal: 887ms\tremaining: 169ms\n",
      "84:\tlearn: 0.4693082\ttotal: 897ms\tremaining: 158ms\n",
      "85:\tlearn: 0.4692499\ttotal: 908ms\tremaining: 148ms\n",
      "86:\tlearn: 0.4688545\ttotal: 918ms\tremaining: 137ms\n",
      "87:\tlearn: 0.4687575\ttotal: 928ms\tremaining: 127ms\n",
      "88:\tlearn: 0.4684514\ttotal: 939ms\tremaining: 116ms\n",
      "89:\tlearn: 0.4684084\ttotal: 949ms\tremaining: 105ms\n",
      "90:\tlearn: 0.4681562\ttotal: 959ms\tremaining: 94.9ms\n",
      "91:\tlearn: 0.4676755\ttotal: 970ms\tremaining: 84.3ms\n",
      "92:\tlearn: 0.4674417\ttotal: 980ms\tremaining: 73.8ms\n",
      "93:\tlearn: 0.4671889\ttotal: 991ms\tremaining: 63.2ms\n",
      "94:\tlearn: 0.4669403\ttotal: 1s\tremaining: 52.7ms\n",
      "95:\tlearn: 0.4666781\ttotal: 1.01s\tremaining: 42.1ms\n",
      "96:\tlearn: 0.4665554\ttotal: 1.02s\tremaining: 31.6ms\n",
      "97:\tlearn: 0.4662962\ttotal: 1.03s\tremaining: 21.1ms\n",
      "98:\tlearn: 0.4660486\ttotal: 1.04s\tremaining: 10.5ms\n",
      "99:\tlearn: 0.4657744\ttotal: 1.05s\tremaining: 0us\n"
     ]
    }
   ],
   "source": [
    "cvs_cat_clf = cross_val_score(cat_clf, X, y, cv=skf, scoring='accuracy')"
   ]
  },
  {
   "cell_type": "code",
   "execution_count": 288,
   "metadata": {
    "execution": {
     "iopub.execute_input": "2022-10-30T17:45:56.675566Z",
     "iopub.status.busy": "2022-10-30T17:45:56.675276Z",
     "iopub.status.idle": "2022-10-30T17:45:56.680632Z",
     "shell.execute_reply": "2022-10-30T17:45:56.679896Z",
     "shell.execute_reply.started": "2022-10-30T17:45:56.675534Z"
    }
   },
   "outputs": [
    {
     "name": "stdout",
     "output_type": "stream",
     "text": [
      "CatBoostClassifier cross_val_score: [0.77294541 0.77527753 0.76957696], \t mean: 0.7725999654554538\n"
     ]
    }
   ],
   "source": [
    "print(f\"CatBoostClassifier cross_val_score: {cvs_cat_clf}, \\t mean: {np.mean(cvs_cat_clf)}\")"
   ]
  },
  {
   "cell_type": "markdown",
   "metadata": {},
   "source": [
    "_Выводы_\n",
    "\n",
    "Получается, что XGBoost сработал в данном случае лучше, чем CatBoost."
   ]
  },
  {
   "cell_type": "markdown",
   "metadata": {},
   "source": [
    "__Задание 10__"
   ]
  },
  {
   "cell_type": "code",
   "execution_count": 289,
   "metadata": {
    "execution": {
     "iopub.execute_input": "2022-10-30T17:48:07.910894Z",
     "iopub.status.busy": "2022-10-30T17:48:07.910314Z",
     "iopub.status.idle": "2022-10-30T17:48:08.549769Z",
     "shell.execute_reply": "2022-10-30T17:48:08.548990Z",
     "shell.execute_reply.started": "2022-10-30T17:48:07.910857Z"
    }
   },
   "outputs": [
    {
     "data": {
      "text/html": [
       "<style type='text/css'>\n",
       ".datatable table.frame { margin-bottom: 0; }\n",
       ".datatable table.frame thead { border-bottom: none; }\n",
       ".datatable table.frame tr.coltypes td {  color: #FFFFFF;  line-height: 6px;  padding: 0 0.5em;}\n",
       ".datatable .bool    { background: #DDDD99; }\n",
       ".datatable .object  { background: #565656; }\n",
       ".datatable .int     { background: #5D9E5D; }\n",
       ".datatable .float   { background: #4040CC; }\n",
       ".datatable .str     { background: #CC4040; }\n",
       ".datatable .time    { background: #40CC40; }\n",
       ".datatable .row_index {  background: var(--jp-border-color3);  border-right: 1px solid var(--jp-border-color0);  color: var(--jp-ui-font-color3);  font-size: 9px;}\n",
       ".datatable .frame tbody td { text-align: left; }\n",
       ".datatable .frame tr.coltypes .row_index {  background: var(--jp-border-color0);}\n",
       ".datatable th:nth-child(2) { padding-left: 12px; }\n",
       ".datatable .hellipsis {  color: var(--jp-cell-editor-border-color);}\n",
       ".datatable .vellipsis {  background: var(--jp-layout-color0);  color: var(--jp-cell-editor-border-color);}\n",
       ".datatable .na {  color: var(--jp-cell-editor-border-color);  font-size: 80%;}\n",
       ".datatable .sp {  opacity: 0.25;}\n",
       ".datatable .footer { font-size: 9px; }\n",
       ".datatable .frame_dimensions {  background: var(--jp-border-color3);  border-top: 1px solid var(--jp-border-color0);  color: var(--jp-ui-font-color3);  display: inline-block;  opacity: 0.6;  padding: 1px 10px 1px 5px;}\n",
       "</style>\n"
      ],
      "text/plain": [
       "<IPython.core.display.HTML object>"
      ]
     },
     "metadata": {},
     "output_type": "display_data"
    }
   ],
   "source": [
    "from lightgbm import LGBMClassifier"
   ]
  },
  {
   "cell_type": "code",
   "execution_count": 290,
   "metadata": {
    "execution": {
     "iopub.execute_input": "2022-10-30T17:50:19.267613Z",
     "iopub.status.busy": "2022-10-30T17:50:19.267302Z",
     "iopub.status.idle": "2022-10-30T17:50:19.271789Z",
     "shell.execute_reply": "2022-10-30T17:50:19.270988Z",
     "shell.execute_reply.started": "2022-10-30T17:50:19.267575Z"
    }
   },
   "outputs": [],
   "source": [
    "lgbm_clf = LGBMClassifier(random_state=42, n_jobs=4, device='gpu')"
   ]
  },
  {
   "cell_type": "code",
   "execution_count": 295,
   "metadata": {
    "execution": {
     "iopub.execute_input": "2022-10-30T17:51:54.373995Z",
     "iopub.status.busy": "2022-10-30T17:51:54.373724Z",
     "iopub.status.idle": "2022-10-30T17:51:54.378618Z",
     "shell.execute_reply": "2022-10-30T17:51:54.377907Z",
     "shell.execute_reply.started": "2022-10-30T17:51:54.373966Z"
    }
   },
   "outputs": [],
   "source": [
    "param = {\"learning_rate\": [0.01, 0.1, 1], \"max_depth\": [3, 5, 10], \"n_estimators\": [10, 100, 500, 1000]}\n",
    "\n",
    "gs_lgbm_clf = GridSearchCV(lgbm_clf,\n",
    "                          param_grid=param,\n",
    "                          scoring='accuracy',\n",
    "                          n_jobs=4,\n",
    "                          cv=skf)"
   ]
  },
  {
   "cell_type": "code",
   "execution_count": 297,
   "metadata": {
    "execution": {
     "iopub.execute_input": "2022-10-30T17:52:59.488159Z",
     "iopub.status.busy": "2022-10-30T17:52:59.487386Z",
     "iopub.status.idle": "2022-10-30T18:00:46.053148Z",
     "shell.execute_reply": "2022-10-30T18:00:46.052004Z",
     "shell.execute_reply.started": "2022-10-30T17:52:59.488127Z"
    }
   },
   "outputs": [
    {
     "name": "stdout",
     "output_type": "stream",
     "text": [
      "CPU times: user 3.79 s, sys: 881 ms, total: 4.67 s\n",
      "Wall time: 7min 46s\n"
     ]
    },
    {
     "data": {
      "text/plain": [
       "GridSearchCV(cv=StratifiedKFold(n_splits=3, random_state=42, shuffle=True),\n",
       "             estimator=LGBMClassifier(device='gpu', n_jobs=4, random_state=42),\n",
       "             n_jobs=4,\n",
       "             param_grid={'learning_rate': [0.01, 0.1, 1],\n",
       "                         'max_depth': [3, 5, 10],\n",
       "                         'n_estimators': [10, 100, 500, 1000]},\n",
       "             scoring='accuracy')"
      ]
     },
     "execution_count": 297,
     "metadata": {},
     "output_type": "execute_result"
    }
   ],
   "source": [
    "%time gs_lgbm_clf.fit(X_frequency_encoder, y_frequency_encoder)"
   ]
  },
  {
   "cell_type": "code",
   "execution_count": 299,
   "metadata": {
    "execution": {
     "iopub.execute_input": "2022-10-30T18:01:02.337206Z",
     "iopub.status.busy": "2022-10-30T18:01:02.336804Z",
     "iopub.status.idle": "2022-10-30T18:01:02.477623Z",
     "shell.execute_reply": "2022-10-30T18:01:02.476190Z",
     "shell.execute_reply.started": "2022-10-30T18:01:02.337162Z"
    }
   },
   "outputs": [
    {
     "name": "stdout",
     "output_type": "stream",
     "text": [
      "Best param: {'learning_rate': 0.01, 'max_depth': 3, 'n_estimators': 500}\n",
      "Accuracy score: 0.7824\n"
     ]
    }
   ],
   "source": [
    "print(f\"Best param: {gs_lgbm_clf.best_params_}\")\n",
    "print(f\"Accuracy score: {gs_lgbm_clf.score(X_frequency_encoder, y_frequency_encoder)}\")"
   ]
  }
 ],
 "metadata": {
  "kernelspec": {
   "display_name": "Python 3 (ipykernel)",
   "language": "python",
   "name": "python3"
  },
  "language_info": {
   "codemirror_mode": {
    "name": "ipython",
    "version": 3
   },
   "file_extension": ".py",
   "mimetype": "text/x-python",
   "name": "python",
   "nbconvert_exporter": "python",
   "pygments_lexer": "ipython3",
   "version": "3.10.6"
  }
 },
 "nbformat": 4,
 "nbformat_minor": 4
}

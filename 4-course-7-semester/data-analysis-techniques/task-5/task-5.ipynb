{
 "cells": [
  {
   "cell_type": "code",
   "execution_count": 1,
   "id": "78682a29-c4e9-40ac-8573-34f7f405d482",
   "metadata": {},
   "outputs": [],
   "source": [
    "import pandas as pd\n",
    "import numpy as np\n",
    "from scipy.optimize import minimize\n",
    "from typing import List\n",
    "\n",
    "import matplotlib.pyplot as plt"
   ]
  },
  {
   "cell_type": "code",
   "execution_count": 2,
   "id": "9aed4460-faf6-43cc-ab78-85aef8b64cda",
   "metadata": {},
   "outputs": [
    {
     "data": {
      "text/html": [
       "<div>\n",
       "<style scoped>\n",
       "    .dataframe tbody tr th:only-of-type {\n",
       "        vertical-align: middle;\n",
       "    }\n",
       "\n",
       "    .dataframe tbody tr th {\n",
       "        vertical-align: top;\n",
       "    }\n",
       "\n",
       "    .dataframe thead th {\n",
       "        text-align: right;\n",
       "    }\n",
       "</style>\n",
       "<table border=\"1\" class=\"dataframe\">\n",
       "  <thead>\n",
       "    <tr style=\"text-align: right;\">\n",
       "      <th></th>\n",
       "      <th>x_1</th>\n",
       "      <th>x_2</th>\n",
       "      <th>y</th>\n",
       "    </tr>\n",
       "  </thead>\n",
       "  <tbody>\n",
       "    <tr>\n",
       "      <th>0</th>\n",
       "      <td>0.057833</td>\n",
       "      <td>-1.398096</td>\n",
       "      <td>-1</td>\n",
       "    </tr>\n",
       "    <tr>\n",
       "      <th>1</th>\n",
       "      <td>0.236386</td>\n",
       "      <td>0.283487</td>\n",
       "      <td>-1</td>\n",
       "    </tr>\n",
       "    <tr>\n",
       "      <th>2</th>\n",
       "      <td>-0.819391</td>\n",
       "      <td>0.809699</td>\n",
       "      <td>1</td>\n",
       "    </tr>\n",
       "    <tr>\n",
       "      <th>3</th>\n",
       "      <td>1.491693</td>\n",
       "      <td>-1.704607</td>\n",
       "      <td>-1</td>\n",
       "    </tr>\n",
       "    <tr>\n",
       "      <th>4</th>\n",
       "      <td>-0.567840</td>\n",
       "      <td>-0.071000</td>\n",
       "      <td>1</td>\n",
       "    </tr>\n",
       "    <tr>\n",
       "      <th>5</th>\n",
       "      <td>-0.694414</td>\n",
       "      <td>-0.992279</td>\n",
       "      <td>1</td>\n",
       "    </tr>\n",
       "    <tr>\n",
       "      <th>6</th>\n",
       "      <td>0.293799</td>\n",
       "      <td>0.660239</td>\n",
       "      <td>-1</td>\n",
       "    </tr>\n",
       "    <tr>\n",
       "      <th>7</th>\n",
       "      <td>-0.813164</td>\n",
       "      <td>1.480960</td>\n",
       "      <td>1</td>\n",
       "    </tr>\n",
       "    <tr>\n",
       "      <th>8</th>\n",
       "      <td>-1.503199</td>\n",
       "      <td>0.811566</td>\n",
       "      <td>1</td>\n",
       "    </tr>\n",
       "    <tr>\n",
       "      <th>9</th>\n",
       "      <td>0.637056</td>\n",
       "      <td>0.303951</td>\n",
       "      <td>-1</td>\n",
       "    </tr>\n",
       "    <tr>\n",
       "      <th>10</th>\n",
       "      <td>1.681242</td>\n",
       "      <td>-0.183918</td>\n",
       "      <td>-1</td>\n",
       "    </tr>\n",
       "  </tbody>\n",
       "</table>\n",
       "</div>"
      ],
      "text/plain": [
       "         x_1       x_2  y\n",
       "0   0.057833 -1.398096 -1\n",
       "1   0.236386  0.283487 -1\n",
       "2  -0.819391  0.809699  1\n",
       "3   1.491693 -1.704607 -1\n",
       "4  -0.567840 -0.071000  1\n",
       "5  -0.694414 -0.992279  1\n",
       "6   0.293799  0.660239 -1\n",
       "7  -0.813164  1.480960  1\n",
       "8  -1.503199  0.811566  1\n",
       "9   0.637056  0.303951 -1\n",
       "10  1.681242 -0.183918 -1"
      ]
     },
     "execution_count": 2,
     "metadata": {},
     "output_type": "execute_result"
    }
   ],
   "source": [
    "df = pd.read_csv(\"./data/svm_data.csv\", header=None).rename(columns={0: \"x_1\", 1: \"x_2\", 2: \"y\"})\n",
    "df"
   ]
  },
  {
   "cell_type": "code",
   "execution_count": 3,
   "id": "d45ee9e8-9466-4c27-baf5-88d1d83c66b2",
   "metadata": {},
   "outputs": [],
   "source": [
    "def lagrangian(lambdas, X, y) -> float:\n",
    "    l = len(lambdas)\n",
    "    return  1/2 * (sum(lambdas[i] * lambdas[j] * y[i] * y[j] * (X[i] @ X[j]) for j in range(l) for i in range(l))) - sum(lambdas)"
   ]
  },
  {
   "cell_type": "code",
   "execution_count": 4,
   "id": "ba3df82a-b8d3-4684-bb13-2336e21bf426",
   "metadata": {},
   "outputs": [
    {
     "name": "stdout",
     "output_type": "stream",
     "text": [
      "     fun: -3.441730714208997\n",
      "     jac: array([-0.46216905, -0.46203375,  1.36092249,  3.36185554,  0.46114421,\n",
      "        0.53619391, -0.41660368,  1.53049895,  3.14465338,  0.57715806,\n",
      "        3.43520579])\n",
      " message: 'Optimization terminated successfully'\n",
      "    nfev: 183\n",
      "     nit: 15\n",
      "    njev: 15\n",
      "  status: 0\n",
      " success: True\n",
      "       x: array([8.90265966e-01, 2.55146288e+00, 0.00000000e+00, 0.00000000e+00,\n",
      "       3.44172885e+00, 2.92695579e-15, 4.36058193e-15, 9.74909804e-16,\n",
      "       0.00000000e+00, 0.00000000e+00, 0.00000000e+00])\n"
     ]
    }
   ],
   "source": [
    "X = df.loc[:, \"x_1\":\"x_2\"].values\n",
    "y = df[\"y\"].values\n",
    "l = len(df)\n",
    "\n",
    "opfunc = lambda lambdas: lagrangian(lambdas, X, y)\n",
    "\n",
    "bnds = [(0, None) for _ in range(l)]\n",
    "cons = {'type': 'ineq', 'fun': lambda lambdas:  sum(lambdas[i] * y[i] for i in range(l))}\n",
    "\n",
    "var = [0 for _ in range(l)]\n",
    "optimization = minimize(opfunc, var, bounds=bnds, constraints=cons)\n",
    "\n",
    "print(optimization)\n",
    "lambdas = optimization.x"
   ]
  },
  {
   "cell_type": "code",
   "execution_count": 5,
   "id": "58eea92f-7299-422d-9486-8f7a21716cc9",
   "metadata": {},
   "outputs": [
    {
     "data": {
      "text/plain": [
       "array([-2.60896928,  0.27700764])"
      ]
     },
     "execution_count": 5,
     "metadata": {},
     "output_type": "execute_result"
    }
   ],
   "source": [
    "theta = sum(lambdas[i] * y[i] * X[i] for i in range(l))\n",
    "theta"
   ]
  },
  {
   "cell_type": "code",
   "execution_count": 6,
   "id": "d769846d-c5f3-4eec-8fd0-511607762433",
   "metadata": {},
   "outputs": [
    {
     "data": {
      "text/plain": [
       "-0.46182108500357877"
      ]
     },
     "execution_count": 6,
     "metadata": {},
     "output_type": "execute_result"
    }
   ],
   "source": [
    "theta0 = np.median([y[i] - (theta @ X[i]) for i in range(l) if lambdas[i] != 0])\n",
    "theta0"
   ]
  },
  {
   "cell_type": "code",
   "execution_count": 7,
   "id": "e173787e-7cdd-43a7-ac33-95a05745e66a",
   "metadata": {},
   "outputs": [],
   "source": [
    "def a(theta, theta0, X):\n",
    "    return np.sign(theta @ X + theta0)"
   ]
  },
  {
   "cell_type": "code",
   "execution_count": 8,
   "id": "783199db-6448-437a-aed1-b984cc35a24d",
   "metadata": {},
   "outputs": [],
   "source": [
    "clr = [a(theta, theta0, point) for point in X]"
   ]
  },
  {
   "cell_type": "code",
   "execution_count": 9,
   "id": "a84292d3-fe1f-46c2-9bbc-f8fef291f727",
   "metadata": {},
   "outputs": [],
   "source": [
    "x = np.linspace(-1.5, 1.5, 100)\n",
    "y = - (theta[0]*x + theta0)/theta[1]\n",
    "y_right = -(theta[0]*x + theta0 + 1) / theta[1]\n",
    "y_left = -(theta[0]*x + theta0 - 1) / theta[1]"
   ]
  },
  {
   "cell_type": "code",
   "execution_count": 10,
   "id": "1f495386-8277-4b3a-9904-7a4a3cb52dc8",
   "metadata": {},
   "outputs": [
    {
     "data": {
      "image/png": "[encoded data removed]",
      "text/plain": [
       "<Figure size 640x480 with 1 Axes>"
      ]
     },
     "metadata": {},
     "output_type": "display_data"
    }
   ],
   "source": [
    "plt.scatter(X[:, 0], X[:, 1], c=clr)\n",
    "plt.ylim(-2, 2)\n",
    "plt.plot(x, y, 'r')\n",
    "plt.plot(x, y_right, 'b--')\n",
    "plt.plot(x, y_left, 'b--')\n",
    "plt.show()"
   ]
  }
 ],
 "metadata": {
  "kernelspec": {
   "display_name": "Python 3 (ipykernel)",
   "language": "python",
   "name": "python3"
  },
  "language_info": {
   "codemirror_mode": {
    "name": "ipython",
    "version": 3
   },
   "file_extension": ".py",
   "mimetype": "text/x-python",
   "name": "python",
   "nbconvert_exporter": "python",
   "pygments_lexer": "ipython3",
   "version": "3.10.6"
  }
 },
 "nbformat": 4,
 "nbformat_minor": 5
}

{
 "cells": [
  {
   "cell_type": "code",
   "execution_count": 6,
   "metadata": {
    "_cell_guid": "b1076dfc-b9ad-4769-8c92-a6c4dae69d19",
    "_uuid": "8f2839f25d086af736a60e9eeb907d3b93b6e0e5",
    "execution": {
     "iopub.execute_input": "2022-10-04T15:22:00.980385Z",
     "iopub.status.busy": "2022-10-04T15:22:00.979955Z",
     "iopub.status.idle": "2022-10-04T15:22:00.985980Z",
     "shell.execute_reply": "2022-10-04T15:22:00.985106Z",
     "shell.execute_reply.started": "2022-10-04T15:22:00.980350Z"
    }
   },
   "outputs": [],
   "source": [
    "import zipfile\n",
    "import os\n",
    "import pandas as pd\n",
    "from sklearn.feature_extraction.text import TfidfVectorizer\n",
    "from sklearn.model_selection import StratifiedKFold\n",
    "from sklearn.model_selection import GridSearchCV\n",
    "from sklearn.svm import LinearSVC\n",
    "from sklearn.metrics import f1_score\n",
    "import numpy as np"
   ]
  },
  {
   "cell_type": "code",
   "execution_count": 7,
   "metadata": {
    "execution": {
     "iopub.execute_input": "2022-10-04T15:22:01.912588Z",
     "iopub.status.busy": "2022-10-04T15:22:01.912142Z",
     "iopub.status.idle": "2022-10-04T15:22:02.619365Z",
     "shell.execute_reply": "2022-10-04T15:22:02.618028Z",
     "shell.execute_reply.started": "2022-10-04T15:22:01.912552Z"
    }
   },
   "outputs": [],
   "source": [
    "base_dir = \"/kaggle/input/jigsaw-toxic-comment-classification-challenge/train.csv.zip\"\n",
    "\n",
    "with zipfile.ZipFile(base_dir, 'r') as z:\n",
    "    z.extractall()"
   ]
  },
  {
   "cell_type": "code",
   "execution_count": 8,
   "metadata": {
    "execution": {
     "iopub.execute_input": "2022-10-04T15:22:02.621729Z",
     "iopub.status.busy": "2022-10-04T15:22:02.621150Z",
     "iopub.status.idle": "2022-10-04T15:22:03.788670Z",
     "shell.execute_reply": "2022-10-04T15:22:03.787431Z",
     "shell.execute_reply.started": "2022-10-04T15:22:02.621694Z"
    }
   },
   "outputs": [],
   "source": [
    "df = pd.read_csv(\"./train.csv\")"
   ]
  },
  {
   "cell_type": "code",
   "execution_count": 9,
   "metadata": {
    "execution": {
     "iopub.execute_input": "2022-10-04T15:22:03.790499Z",
     "iopub.status.busy": "2022-10-04T15:22:03.790125Z",
     "iopub.status.idle": "2022-10-04T15:22:03.812219Z",
     "shell.execute_reply": "2022-10-04T15:22:03.811021Z",
     "shell.execute_reply.started": "2022-10-04T15:22:03.790465Z"
    }
   },
   "outputs": [],
   "source": [
    "tfidf_vec = TfidfVectorizer(max_features=10000, sublinear_tf=True,\n",
    "                            strip_accents='unicode', analyzer='word',\n",
    "                            ngram_range=(1, 1), token_pattern=r'\\w{1,}',\n",
    "                            lowercase=True, stop_words='english')"
   ]
  },
  {
   "cell_type": "code",
   "execution_count": 10,
   "metadata": {
    "execution": {
     "iopub.execute_input": "2022-10-04T15:22:03.814662Z",
     "iopub.status.busy": "2022-10-04T15:22:03.814287Z",
     "iopub.status.idle": "2022-10-04T15:22:16.247918Z",
     "shell.execute_reply": "2022-10-04T15:22:16.246480Z",
     "shell.execute_reply.started": "2022-10-04T15:22:03.814627Z"
    }
   },
   "outputs": [],
   "source": [
    "comments_vec_train = tfidf_vec.fit_transform(df['comment_text'])"
   ]
  },
  {
   "cell_type": "code",
   "execution_count": 13,
   "metadata": {
    "execution": {
     "iopub.execute_input": "2022-10-04T15:24:42.476824Z",
     "iopub.status.busy": "2022-10-04T15:24:42.476348Z",
     "iopub.status.idle": "2022-10-04T15:24:42.482771Z",
     "shell.execute_reply": "2022-10-04T15:24:42.481579Z",
     "shell.execute_reply.started": "2022-10-04T15:24:42.476783Z"
    }
   },
   "outputs": [],
   "source": [
    "kf = StratifiedKFold(n_splits=5, shuffle=True, random_state=42)"
   ]
  },
  {
   "cell_type": "code",
   "execution_count": 16,
   "metadata": {
    "execution": {
     "iopub.execute_input": "2022-10-04T15:29:10.342072Z",
     "iopub.status.busy": "2022-10-04T15:29:10.340998Z",
     "iopub.status.idle": "2022-10-04T15:29:10.347189Z",
     "shell.execute_reply": "2022-10-04T15:29:10.346022Z",
     "shell.execute_reply.started": "2022-10-04T15:29:10.342021Z"
    }
   },
   "outputs": [],
   "source": [
    "svc = LinearSVC(random_state=42)"
   ]
  },
  {
   "cell_type": "code",
   "execution_count": 46,
   "metadata": {
    "execution": {
     "iopub.execute_input": "2022-10-04T15:47:17.734774Z",
     "iopub.status.busy": "2022-10-04T15:47:17.734210Z",
     "iopub.status.idle": "2022-10-04T15:47:17.742138Z",
     "shell.execute_reply": "2022-10-04T15:47:17.740844Z",
     "shell.execute_reply.started": "2022-10-04T15:47:17.734728Z"
    }
   },
   "outputs": [],
   "source": [
    "param = {\"C\": [0.01, 0.1, 1, 5, 10, 100]}\n",
    "\n",
    "gs_svc = GridSearchCV(svc,\n",
    "                      param_grid=param,\n",
    "                      scoring='f1',\n",
    "                      n_jobs=4,\n",
    "                      cv=kf)"
   ]
  },
  {
   "cell_type": "markdown",
   "metadata": {},
   "source": [
    "__Toxic__"
   ]
  },
  {
   "cell_type": "code",
   "execution_count": 47,
   "metadata": {
    "execution": {
     "iopub.execute_input": "2022-10-04T15:47:30.749852Z",
     "iopub.status.busy": "2022-10-04T15:47:30.749385Z",
     "iopub.status.idle": "2022-10-04T15:48:30.790880Z",
     "shell.execute_reply": "2022-10-04T15:48:30.789526Z",
     "shell.execute_reply.started": "2022-10-04T15:47:30.749815Z"
    }
   },
   "outputs": [
    {
     "name": "stdout",
     "output_type": "stream",
     "text": [
      "Best param: {'C': 1}\n",
      "F1-score: 0.825983571119758\n"
     ]
    }
   ],
   "source": [
    "X = comments_vec_train\n",
    "y = df[\"toxic\"]\n",
    "\n",
    "gs_svc.fit(X, y)\n",
    "\n",
    "print(f\"Best param: {gs_svc.best_params_}\")\n",
    "print(f\"F1-score: {gs_svc.score(X, y)}\")"
   ]
  },
  {
   "cell_type": "markdown",
   "metadata": {},
   "source": [
    "__Severe toxic__"
   ]
  },
  {
   "cell_type": "code",
   "execution_count": 48,
   "metadata": {
    "execution": {
     "iopub.execute_input": "2022-10-04T15:50:58.877374Z",
     "iopub.status.busy": "2022-10-04T15:50:58.876830Z",
     "iopub.status.idle": "2022-10-04T15:51:16.059620Z",
     "shell.execute_reply": "2022-10-04T15:51:16.058379Z",
     "shell.execute_reply.started": "2022-10-04T15:50:58.877332Z"
    }
   },
   "outputs": [
    {
     "name": "stdout",
     "output_type": "stream",
     "text": [
      "Best param: {'C': 5}\n",
      "F1-score: 0.7299474605954465\n"
     ]
    }
   ],
   "source": [
    "X = comments_vec_train\n",
    "y = df[\"severe_toxic\"]\n",
    "\n",
    "gs_svc.fit(X, y)\n",
    "\n",
    "print(f\"Best param: {gs_svc.best_params_}\")\n",
    "print(f\"F1-score: {gs_svc.score(X, y)}\")"
   ]
  },
  {
   "cell_type": "markdown",
   "metadata": {},
   "source": [
    "__Obscene__"
   ]
  },
  {
   "cell_type": "code",
   "execution_count": 49,
   "metadata": {
    "execution": {
     "iopub.execute_input": "2022-10-04T15:51:28.757609Z",
     "iopub.status.busy": "2022-10-04T15:51:28.757099Z",
     "iopub.status.idle": "2022-10-04T15:52:11.411134Z",
     "shell.execute_reply": "2022-10-04T15:52:11.409922Z",
     "shell.execute_reply.started": "2022-10-04T15:51:28.757568Z"
    }
   },
   "outputs": [
    {
     "name": "stdout",
     "output_type": "stream",
     "text": [
      "Best param: {'C': 1}\n",
      "F1-score: 0.8605754030983244\n"
     ]
    }
   ],
   "source": [
    "X = comments_vec_train\n",
    "y = df[\"obscene\"]\n",
    "\n",
    "gs_svc.fit(X, y)\n",
    "\n",
    "print(f\"Best param: {gs_svc.best_params_}\")\n",
    "print(f\"F1-score: {gs_svc.score(X, y)}\")"
   ]
  },
  {
   "cell_type": "markdown",
   "metadata": {},
   "source": [
    "__Threat__"
   ]
  },
  {
   "cell_type": "code",
   "execution_count": 50,
   "metadata": {
    "execution": {
     "iopub.execute_input": "2022-10-04T15:52:11.413679Z",
     "iopub.status.busy": "2022-10-04T15:52:11.413312Z",
     "iopub.status.idle": "2022-10-04T15:52:20.398630Z",
     "shell.execute_reply": "2022-10-04T15:52:20.397314Z",
     "shell.execute_reply.started": "2022-10-04T15:52:11.413643Z"
    }
   },
   "outputs": [
    {
     "name": "stdout",
     "output_type": "stream",
     "text": [
      "Best param: {'C': 5}\n",
      "F1-score: 0.924892703862661\n"
     ]
    }
   ],
   "source": [
    "X = comments_vec_train\n",
    "y = df[\"threat\"]\n",
    "\n",
    "gs_svc.fit(X, y)\n",
    "\n",
    "print(f\"Best param: {gs_svc.best_params_}\")\n",
    "print(f\"F1-score: {gs_svc.score(X, y)}\")"
   ]
  },
  {
   "cell_type": "markdown",
   "metadata": {},
   "source": [
    "__Insult__"
   ]
  },
  {
   "cell_type": "code",
   "execution_count": 51,
   "metadata": {
    "execution": {
     "iopub.execute_input": "2022-10-04T15:52:20.401460Z",
     "iopub.status.busy": "2022-10-04T15:52:20.400263Z",
     "iopub.status.idle": "2022-10-04T15:53:11.196632Z",
     "shell.execute_reply": "2022-10-04T15:53:11.195258Z",
     "shell.execute_reply.started": "2022-10-04T15:52:20.401418Z"
    }
   },
   "outputs": [
    {
     "name": "stdout",
     "output_type": "stream",
     "text": [
      "Best param: {'C': 1}\n",
      "F1-score: 0.764926164064156\n"
     ]
    }
   ],
   "source": [
    "X = comments_vec_train\n",
    "y = df[\"insult\"]\n",
    "\n",
    "gs_svc.fit(X, y)\n",
    "\n",
    "print(f\"Best param: {gs_svc.best_params_}\")\n",
    "print(f\"F1-score: {gs_svc.score(X, y)}\")"
   ]
  },
  {
   "cell_type": "markdown",
   "metadata": {},
   "source": [
    "__Identity hate__"
   ]
  },
  {
   "cell_type": "code",
   "execution_count": 52,
   "metadata": {
    "execution": {
     "iopub.execute_input": "2022-10-04T15:53:11.199163Z",
     "iopub.status.busy": "2022-10-04T15:53:11.198790Z",
     "iopub.status.idle": "2022-10-04T15:53:27.636669Z",
     "shell.execute_reply": "2022-10-04T15:53:27.635162Z",
     "shell.execute_reply.started": "2022-10-04T15:53:11.199129Z"
    }
   },
   "outputs": [
    {
     "name": "stdout",
     "output_type": "stream",
     "text": [
      "Best param: {'C': 5}\n",
      "F1-score: 0.8304953560371517\n"
     ]
    }
   ],
   "source": [
    "X = comments_vec_train\n",
    "y = df[\"identity_hate\"]\n",
    "\n",
    "gs_svc.fit(X, y)\n",
    "\n",
    "print(f\"Best param: {gs_svc.best_params_}\")\n",
    "print(f\"F1-score: {gs_svc.score(X, y)}\")"
   ]
  }
 ],
 "metadata": {
  "kernelspec": {
   "display_name": "Python 3 (ipykernel)",
   "language": "python",
   "name": "python3"
  },
  "language_info": {
   "codemirror_mode": {
    "name": "ipython",
    "version": 3
   },
   "file_extension": ".py",
   "mimetype": "text/x-python",
   "name": "python",
   "nbconvert_exporter": "python",
   "pygments_lexer": "ipython3",
   "version": "3.10.6"
  }
 },
 "nbformat": 4,
 "nbformat_minor": 4
}

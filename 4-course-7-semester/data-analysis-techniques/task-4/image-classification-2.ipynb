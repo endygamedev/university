{
 "cells": [
  {
   "cell_type": "code",
   "execution_count": 1,
   "metadata": {
    "_cell_guid": "b1076dfc-b9ad-4769-8c92-a6c4dae69d19",
    "_uuid": "8f2839f25d086af736a60e9eeb907d3b93b6e0e5",
    "execution": {
     "iopub.execute_input": "2022-09-27T15:24:11.902286Z",
     "iopub.status.busy": "2022-09-27T15:24:11.900928Z",
     "iopub.status.idle": "2022-09-27T15:24:21.458836Z",
     "shell.execute_reply": "2022-09-27T15:24:21.457560Z",
     "shell.execute_reply.started": "2022-09-27T15:24:11.902108Z"
    }
   },
   "outputs": [],
   "source": [
    "import zipfile\n",
    "import os\n",
    "\n",
    "base_dir = \"/kaggle/input/cian-datafest-2019/train.zip\"\n",
    "\n",
    "with zipfile.ZipFile(base_dir, 'r') as z:\n",
    "    z.extractall()"
   ]
  },
  {
   "cell_type": "code",
   "execution_count": 88,
   "metadata": {
    "execution": {
     "iopub.execute_input": "2022-09-27T15:40:54.398495Z",
     "iopub.status.busy": "2022-09-27T15:40:54.397987Z",
     "iopub.status.idle": "2022-09-27T15:40:54.406351Z",
     "shell.execute_reply": "2022-09-27T15:40:54.404628Z",
     "shell.execute_reply.started": "2022-09-27T15:40:54.398456Z"
    }
   },
   "outputs": [],
   "source": [
    "import cv2\n",
    "import numpy as np\n",
    "import pandas as pd\n",
    "\n",
    "img = cv2.imread(\"./train/indoor/3.jpg\") / 255.\n",
    "img = cv2.resize(img, (10, 10), interpolation=cv2.INTER_AREA)"
   ]
  },
  {
   "cell_type": "code",
   "execution_count": 98,
   "metadata": {
    "execution": {
     "iopub.execute_input": "2022-09-27T15:43:11.557008Z",
     "iopub.status.busy": "2022-09-27T15:43:11.556435Z",
     "iopub.status.idle": "2022-09-27T15:43:11.567038Z",
     "shell.execute_reply": "2022-09-27T15:43:11.565605Z",
     "shell.execute_reply.started": "2022-09-27T15:43:11.556952Z"
    }
   },
   "outputs": [],
   "source": [
    "def get_img_data(type_: str):\n",
    "    result = []\n",
    "    directory = os.fsencode(f\"./train/{type_}/\")\n",
    "    d_type_ = 0 if type_ == \"indoor\" else 1\n",
    "\n",
    "    for file in os.listdir(directory):\n",
    "        filename = os.fsdecode(file)\n",
    "        if filename.endswith(\".jpg\"):\n",
    "            img = cv2.imread(f\"./train/{type_}/{filename}\") / 255.\n",
    "            img = cv2.resize(img, (10, 10), interpolation=cv2.INTER_AREA)\n",
    "            result.append(img.reshape(-1))\n",
    "            result[-1] = np.append(result[-1], d_type_)\n",
    "        else:\n",
    "            continue\n",
    "    return pd.DataFrame(result)"
   ]
  },
  {
   "cell_type": "code",
   "execution_count": 99,
   "metadata": {
    "execution": {
     "iopub.execute_input": "2022-09-27T15:43:11.702866Z",
     "iopub.status.busy": "2022-09-27T15:43:11.702390Z",
     "iopub.status.idle": "2022-09-27T15:43:22.898274Z",
     "shell.execute_reply": "2022-09-27T15:43:22.897182Z",
     "shell.execute_reply.started": "2022-09-27T15:43:11.702828Z"
    }
   },
   "outputs": [],
   "source": [
    "data_indoor = get_img_data(\"indoor\")"
   ]
  },
  {
   "cell_type": "code",
   "execution_count": 100,
   "metadata": {
    "execution": {
     "iopub.execute_input": "2022-09-27T15:43:26.961383Z",
     "iopub.status.busy": "2022-09-27T15:43:26.960964Z",
     "iopub.status.idle": "2022-09-27T15:43:37.538672Z",
     "shell.execute_reply": "2022-09-27T15:43:37.537437Z",
     "shell.execute_reply.started": "2022-09-27T15:43:26.961349Z"
    }
   },
   "outputs": [],
   "source": [
    "data_outdoor = get_img_data(\"outdoor\")"
   ]
  },
  {
   "cell_type": "code",
   "execution_count": 120,
   "metadata": {
    "execution": {
     "iopub.execute_input": "2022-09-27T15:48:59.481371Z",
     "iopub.status.busy": "2022-09-27T15:48:59.480560Z",
     "iopub.status.idle": "2022-09-27T15:48:59.541305Z",
     "shell.execute_reply": "2022-09-27T15:48:59.540097Z",
     "shell.execute_reply.started": "2022-09-27T15:48:59.481324Z"
    }
   },
   "outputs": [],
   "source": [
    "df_final = pd.concat([data_indoor, data_outdoor], ignore_index=True)"
   ]
  },
  {
   "cell_type": "code",
   "execution_count": 140,
   "metadata": {
    "execution": {
     "iopub.execute_input": "2022-09-27T15:58:40.918464Z",
     "iopub.status.busy": "2022-09-27T15:58:40.917985Z",
     "iopub.status.idle": "2022-09-27T15:58:40.928092Z",
     "shell.execute_reply": "2022-09-27T15:58:40.926653Z",
     "shell.execute_reply.started": "2022-09-27T15:58:40.918427Z"
    }
   },
   "outputs": [],
   "source": [
    "from sklearn.neighbors import KNeighborsClassifier\n",
    "from sklearn.model_selection import KFold, cross_val_score, GridSearchCV\n",
    "from sklearn.pipeline import Pipeline"
   ]
  },
  {
   "cell_type": "code",
   "execution_count": 130,
   "metadata": {
    "execution": {
     "iopub.execute_input": "2022-09-27T15:50:51.052211Z",
     "iopub.status.busy": "2022-09-27T15:50:51.051436Z",
     "iopub.status.idle": "2022-09-27T15:50:51.101299Z",
     "shell.execute_reply": "2022-09-27T15:50:51.100025Z",
     "shell.execute_reply.started": "2022-09-27T15:50:51.052171Z"
    }
   },
   "outputs": [],
   "source": [
    "X = df_final.drop([300], axis=1)\n",
    "y = df_final[300]"
   ]
  },
  {
   "cell_type": "code",
   "execution_count": 131,
   "metadata": {
    "execution": {
     "iopub.execute_input": "2022-09-27T15:50:51.235643Z",
     "iopub.status.busy": "2022-09-27T15:50:51.235160Z",
     "iopub.status.idle": "2022-09-27T15:50:51.241022Z",
     "shell.execute_reply": "2022-09-27T15:50:51.239762Z",
     "shell.execute_reply.started": "2022-09-27T15:50:51.235602Z"
    }
   },
   "outputs": [],
   "source": [
    "kf = KFold(n_splits=3, shuffle=True, random_state=42)"
   ]
  },
  {
   "cell_type": "code",
   "execution_count": 149,
   "metadata": {
    "execution": {
     "iopub.execute_input": "2022-09-27T16:13:49.252209Z",
     "iopub.status.busy": "2022-09-27T16:13:49.251811Z",
     "iopub.status.idle": "2022-09-27T16:13:49.278713Z",
     "shell.execute_reply": "2022-09-27T16:13:49.277377Z",
     "shell.execute_reply.started": "2022-09-27T16:13:49.252177Z"
    }
   },
   "outputs": [],
   "source": [
    "neigh = KNeighborsClassifier(n_neighbors=9).fit(X, y)"
   ]
  },
  {
   "cell_type": "code",
   "execution_count": 150,
   "metadata": {
    "execution": {
     "iopub.execute_input": "2022-09-27T16:13:50.265900Z",
     "iopub.status.busy": "2022-09-27T16:13:50.265422Z",
     "iopub.status.idle": "2022-09-27T16:14:51.704770Z",
     "shell.execute_reply": "2022-09-27T16:14:51.703554Z",
     "shell.execute_reply.started": "2022-09-27T16:13:50.265865Z"
    }
   },
   "outputs": [
    {
     "data": {
      "text/plain": [
       "array([0.8388916 , 0.83959655, 0.83270065])"
      ]
     },
     "execution_count": 150,
     "metadata": {},
     "output_type": "execute_result"
    }
   ],
   "source": [
    "cross_val_score(neigh, X, y, cv=kf, scoring=\"accuracy\")"
   ]
  },
  {
   "cell_type": "code",
   "execution_count": 147,
   "metadata": {
    "execution": {
     "iopub.execute_input": "2022-09-27T16:07:28.062990Z",
     "iopub.status.busy": "2022-09-27T16:07:28.062563Z",
     "iopub.status.idle": "2022-09-27T16:11:18.388116Z",
     "shell.execute_reply": "2022-09-27T16:11:18.386905Z",
     "shell.execute_reply.started": "2022-09-27T16:07:28.062955Z"
    }
   },
   "outputs": [
    {
     "data": {
      "text/plain": [
       "{'knn__n_neighbors': 9}"
      ]
     },
     "execution_count": 147,
     "metadata": {},
     "output_type": "execute_result"
    }
   ],
   "source": [
    "knn_pipe = Pipeline([('knn', KNeighborsClassifier())])\n",
    "\n",
    "params = [{'knn__n_neighbors': [3, 5, 7, 9]}]\n",
    "\n",
    "gs_knn = GridSearchCV(knn_pipe,\n",
    "                      param_grid=params,\n",
    "                      scoring='accuracy',\n",
    "                      cv=kf)\n",
    "\n",
    "gs_knn.fit(X, y)\n",
    "gs_knn.best_params_"
   ]
  },
  {
   "cell_type": "code",
   "execution_count": 148,
   "metadata": {
    "execution": {
     "iopub.execute_input": "2022-09-27T16:11:18.391025Z",
     "iopub.status.busy": "2022-09-27T16:11:18.390544Z",
     "iopub.status.idle": "2022-09-27T16:12:50.593132Z",
     "shell.execute_reply": "2022-09-27T16:12:50.591767Z",
     "shell.execute_reply.started": "2022-09-27T16:11:18.390979Z"
    }
   },
   "outputs": [
    {
     "data": {
      "text/plain": [
       "0.8732692238169264"
      ]
     },
     "execution_count": 148,
     "metadata": {},
     "output_type": "execute_result"
    }
   ],
   "source": [
    "gs_knn.score(X, y)"
   ]
  }
 ],
 "metadata": {
  "kernelspec": {
   "display_name": "Python 3 (ipykernel)",
   "language": "python",
   "name": "python3"
  },
  "language_info": {
   "codemirror_mode": {
    "name": "ipython",
    "version": 3
   },
   "file_extension": ".py",
   "mimetype": "text/x-python",
   "name": "python",
   "nbconvert_exporter": "python",
   "pygments_lexer": "ipython3",
   "version": "3.10.6"
  }
 },
 "nbformat": 4,
 "nbformat_minor": 4
}

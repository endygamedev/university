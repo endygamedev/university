{
 "cells": [
  {
   "cell_type": "markdown",
   "metadata": {},
   "source": [
    "[![kaggle](https://img.shields.io/badge/kaggle-CLICK%20ME!-%2320BEFF?style=for-the-badge&logo=kaggle)](https://www.kaggle.com/egorbronnikov/bridge-svm-knn)"
   ]
  },
  {
   "cell_type": "markdown",
   "metadata": {},
   "source": [
    "<div align=\"center\"><h2>Метод опорных векторов для классификации изображений</h2></div>"
   ]
  },
  {
   "cell_type": "markdown",
   "metadata": {},
   "source": [
    "__С выбросами__"
   ]
  },
  {
   "cell_type": "code",
   "execution_count": 2,
   "metadata": {
    "_cell_guid": "b1076dfc-b9ad-4769-8c92-a6c4dae69d19",
    "_uuid": "8f2839f25d086af736a60e9eeb907d3b93b6e0e5",
    "execution": {
     "iopub.execute_input": "2022-10-28T23:07:53.953647Z",
     "iopub.status.busy": "2022-10-28T23:07:53.953265Z",
     "iopub.status.idle": "2022-10-28T23:07:54.444390Z",
     "shell.execute_reply": "2022-10-28T23:07:54.443409Z",
     "shell.execute_reply.started": "2022-10-28T23:07:53.953614Z"
    }
   },
   "outputs": [],
   "source": [
    "import os\n",
    "import cv2\n",
    "import numpy as np\n",
    "import pandas as pd\n",
    "\n",
    "from sklearn.svm import LinearSVC\n",
    "from sklearn.neighbors import KNeighborsClassifier\n",
    "from sklearn.model_selection import StratifiedKFold\n",
    "from sklearn.model_selection import GridSearchCV\n",
    "from sklearn.metrics import confusion_matrix"
   ]
  },
  {
   "cell_type": "code",
   "execution_count": 3,
   "metadata": {
    "execution": {
     "iopub.execute_input": "2022-10-28T23:07:54.447237Z",
     "iopub.status.busy": "2022-10-28T23:07:54.446413Z",
     "iopub.status.idle": "2022-10-28T23:07:54.455355Z",
     "shell.execute_reply": "2022-10-28T23:07:54.454167Z",
     "shell.execute_reply.started": "2022-10-28T23:07:54.447195Z"
    }
   },
   "outputs": [],
   "source": [
    "def get_img_data(type_: str):\n",
    "    result = []\n",
    "    directory = os.fsencode(f\"../input/aleksandranevskogo/{type_}/\")\n",
    "    if type_ == \"down\":\n",
    "        d_type_ = 0\n",
    "    elif type_ == \"up\":\n",
    "        d_type_ = 1\n",
    "    elif type_ == \"mov\":\n",
    "        d_type_ = 2\n",
    "\n",
    "    for file in os.listdir(directory):\n",
    "        filename = os.fsdecode(file)\n",
    "        if filename.endswith(\".jpeg\"):\n",
    "            img = cv2.imread(f\"../input/aleksandranevskogo/{type_}/{filename}\")\n",
    "            cropped_image = img[35:70, 420:480]\n",
    "            cropped_image = cv2.cvtColor(cropped_image, cv2.COLOR_BGR2GRAY)\n",
    "            cropped_image = cropped_image / 255.\n",
    "            cropped_image = cv2.resize(cropped_image, (10, 10), interpolation=cv2.INTER_AREA)\n",
    "            result.append(cropped_image.reshape(-1))\n",
    "            result[-1] = np.append(result[-1], d_type_)\n",
    "        else:\n",
    "            continue\n",
    "    return pd.DataFrame(result)"
   ]
  },
  {
   "cell_type": "code",
   "execution_count": 4,
   "metadata": {
    "execution": {
     "iopub.execute_input": "2022-10-28T23:07:54.457096Z",
     "iopub.status.busy": "2022-10-28T23:07:54.456820Z",
     "iopub.status.idle": "2022-10-28T23:08:08.422122Z",
     "shell.execute_reply": "2022-10-28T23:08:08.420865Z",
     "shell.execute_reply.started": "2022-10-28T23:07:54.457070Z"
    }
   },
   "outputs": [],
   "source": [
    "data_down = get_img_data(\"down\")\n",
    "data_up = get_img_data(\"up\")\n",
    "data_mov = get_img_data(\"mov\")"
   ]
  },
  {
   "cell_type": "code",
   "execution_count": 5,
   "metadata": {
    "execution": {
     "iopub.execute_input": "2022-10-28T23:08:08.426153Z",
     "iopub.status.busy": "2022-10-28T23:08:08.425384Z",
     "iopub.status.idle": "2022-10-28T23:08:08.436811Z",
     "shell.execute_reply": "2022-10-28T23:08:08.434822Z",
     "shell.execute_reply.started": "2022-10-28T23:08:08.426108Z"
    }
   },
   "outputs": [],
   "source": [
    "df_final = pd.concat([data_down, data_up, data_mov], ignore_index=True)"
   ]
  },
  {
   "cell_type": "code",
   "execution_count": 6,
   "metadata": {
    "execution": {
     "iopub.execute_input": "2022-10-28T23:08:08.438771Z",
     "iopub.status.busy": "2022-10-28T23:08:08.438349Z",
     "iopub.status.idle": "2022-10-28T23:08:08.446239Z",
     "shell.execute_reply": "2022-10-28T23:08:08.445156Z",
     "shell.execute_reply.started": "2022-10-28T23:08:08.438736Z"
    }
   },
   "outputs": [],
   "source": [
    "kf = StratifiedKFold(n_splits=5, shuffle=True, random_state=42)\n",
    "svc = LinearSVC(random_state=42, dual=False)\n",
    "knn = KNeighborsClassifier()"
   ]
  },
  {
   "cell_type": "code",
   "execution_count": 7,
   "metadata": {
    "execution": {
     "iopub.execute_input": "2022-10-28T23:08:08.448397Z",
     "iopub.status.busy": "2022-10-28T23:08:08.447626Z",
     "iopub.status.idle": "2022-10-28T23:08:08.456773Z",
     "shell.execute_reply": "2022-10-28T23:08:08.455655Z",
     "shell.execute_reply.started": "2022-10-28T23:08:08.448362Z"
    }
   },
   "outputs": [],
   "source": [
    "max_c = [0.01, 0.1, 1, 5, 10, 100]\n",
    "params_svc = {'C': max_c}\n",
    "\n",
    "gs_svc = GridSearchCV(svc,\n",
    "                      param_grid=params_svc,\n",
    "                      scoring='accuracy',\n",
    "                      n_jobs=4,\n",
    "                      cv=kf)"
   ]
  },
  {
   "cell_type": "code",
   "execution_count": 8,
   "metadata": {
    "execution": {
     "iopub.execute_input": "2022-10-28T23:08:08.459007Z",
     "iopub.status.busy": "2022-10-28T23:08:08.458267Z",
     "iopub.status.idle": "2022-10-28T23:08:08.467684Z",
     "shell.execute_reply": "2022-10-28T23:08:08.466529Z",
     "shell.execute_reply.started": "2022-10-28T23:08:08.458959Z"
    }
   },
   "outputs": [],
   "source": [
    "max_n_neighbors = [3, 5, 7, 9, 10, 12]\n",
    "params_knn = {'n_neighbors': max_n_neighbors}\n",
    "\n",
    "gs_knn = GridSearchCV(knn,\n",
    "                      param_grid=params_knn,\n",
    "                      scoring='accuracy',\n",
    "                      n_jobs=4,\n",
    "                      cv=kf)"
   ]
  },
  {
   "cell_type": "code",
   "execution_count": 9,
   "metadata": {
    "execution": {
     "iopub.execute_input": "2022-10-28T23:08:08.470190Z",
     "iopub.status.busy": "2022-10-28T23:08:08.469413Z",
     "iopub.status.idle": "2022-10-28T23:08:08.481543Z",
     "shell.execute_reply": "2022-10-28T23:08:08.480115Z",
     "shell.execute_reply.started": "2022-10-28T23:08:08.470156Z"
    }
   },
   "outputs": [],
   "source": [
    "X = df_final.loc[:, 0:99]\n",
    "y = df_final.loc[:, 100]"
   ]
  },
  {
   "cell_type": "code",
   "execution_count": 10,
   "metadata": {
    "execution": {
     "iopub.execute_input": "2022-10-28T23:08:08.485710Z",
     "iopub.status.busy": "2022-10-28T23:08:08.484504Z",
     "iopub.status.idle": "2022-10-28T23:08:14.593226Z",
     "shell.execute_reply": "2022-10-28T23:08:14.592008Z",
     "shell.execute_reply.started": "2022-10-28T23:08:08.485668Z"
    }
   },
   "outputs": [
    {
     "data": {
      "text/plain": [
       "GridSearchCV(cv=StratifiedKFold(n_splits=5, random_state=42, shuffle=True),\n",
       "             estimator=LinearSVC(dual=False, random_state=42), n_jobs=4,\n",
       "             param_grid={'C': [0.01, 0.1, 1, 5, 10, 100]}, scoring='accuracy')"
      ]
     },
     "execution_count": 10,
     "metadata": {},
     "output_type": "execute_result"
    }
   ],
   "source": [
    "gs_svc.fit(X, y)"
   ]
  },
  {
   "cell_type": "code",
   "execution_count": 11,
   "metadata": {
    "execution": {
     "iopub.execute_input": "2022-10-28T23:08:14.597659Z",
     "iopub.status.busy": "2022-10-28T23:08:14.597361Z",
     "iopub.status.idle": "2022-10-28T23:08:14.610323Z",
     "shell.execute_reply": "2022-10-28T23:08:14.608998Z",
     "shell.execute_reply.started": "2022-10-28T23:08:14.597632Z"
    }
   },
   "outputs": [
    {
     "name": "stdout",
     "output_type": "stream",
     "text": [
      "Best parameters: {'C': 10}\n",
      "Accuracy score: 0.8973565804274466\n"
     ]
    }
   ],
   "source": [
    "print(f\"Best parameters: {gs_svc.best_params_}\")\n",
    "print(f\"Accuracy score: {gs_svc.score(X, y)}\")"
   ]
  },
  {
   "cell_type": "code",
   "execution_count": 12,
   "metadata": {
    "execution": {
     "iopub.execute_input": "2022-10-28T23:08:14.613598Z",
     "iopub.status.busy": "2022-10-28T23:08:14.612590Z",
     "iopub.status.idle": "2022-10-28T23:08:15.716645Z",
     "shell.execute_reply": "2022-10-28T23:08:15.715857Z",
     "shell.execute_reply.started": "2022-10-28T23:08:14.613542Z"
    }
   },
   "outputs": [
    {
     "data": {
      "text/plain": [
       "GridSearchCV(cv=StratifiedKFold(n_splits=5, random_state=42, shuffle=True),\n",
       "             estimator=KNeighborsClassifier(), n_jobs=4,\n",
       "             param_grid={'n_neighbors': [3, 5, 7, 9, 10, 12]},\n",
       "             scoring='accuracy')"
      ]
     },
     "execution_count": 12,
     "metadata": {},
     "output_type": "execute_result"
    }
   ],
   "source": [
    "gs_knn.fit(X, y)"
   ]
  },
  {
   "cell_type": "code",
   "execution_count": 13,
   "metadata": {
    "execution": {
     "iopub.execute_input": "2022-10-28T23:08:15.718201Z",
     "iopub.status.busy": "2022-10-28T23:08:15.717935Z",
     "iopub.status.idle": "2022-10-28T23:08:16.065934Z",
     "shell.execute_reply": "2022-10-28T23:08:16.064915Z",
     "shell.execute_reply.started": "2022-10-28T23:08:15.718175Z"
    }
   },
   "outputs": [
    {
     "name": "stdout",
     "output_type": "stream",
     "text": [
      "Best parameters: {'n_neighbors': 3}\n",
      "Accuracy score: 0.9749718785151856\n"
     ]
    }
   ],
   "source": [
    "print(f\"Best parameters: {gs_knn.best_params_}\")\n",
    "print(f\"Accuracy score: {gs_knn.score(X, y)}\")"
   ]
  },
  {
   "cell_type": "code",
   "execution_count": 14,
   "metadata": {
    "execution": {
     "iopub.execute_input": "2022-10-28T23:08:16.067274Z",
     "iopub.status.busy": "2022-10-28T23:08:16.066978Z",
     "iopub.status.idle": "2022-10-28T23:08:16.402152Z",
     "shell.execute_reply": "2022-10-28T23:08:16.401069Z",
     "shell.execute_reply.started": "2022-10-28T23:08:16.067247Z"
    }
   },
   "outputs": [],
   "source": [
    "y_pred_svc = gs_svc.predict(X)\n",
    "y_pred_knn = gs_knn.predict(X)"
   ]
  },
  {
   "cell_type": "code",
   "execution_count": 15,
   "metadata": {
    "execution": {
     "iopub.execute_input": "2022-10-28T23:08:16.403784Z",
     "iopub.status.busy": "2022-10-28T23:08:16.403453Z",
     "iopub.status.idle": "2022-10-28T23:08:16.416258Z",
     "shell.execute_reply": "2022-10-28T23:08:16.415081Z",
     "shell.execute_reply.started": "2022-10-28T23:08:16.403757Z"
    }
   },
   "outputs": [
    {
     "data": {
      "text/plain": [
       "array([[1451,    0,   17],\n",
       "       [  35, 1053,   19],\n",
       "       [ 140,  154,  687]])"
      ]
     },
     "execution_count": 15,
     "metadata": {},
     "output_type": "execute_result"
    }
   ],
   "source": [
    "confusion_matrix(y, y_pred_svc)"
   ]
  },
  {
   "cell_type": "code",
   "execution_count": 16,
   "metadata": {
    "execution": {
     "iopub.execute_input": "2022-10-28T23:08:16.417965Z",
     "iopub.status.busy": "2022-10-28T23:08:16.417376Z",
     "iopub.status.idle": "2022-10-28T23:08:16.428022Z",
     "shell.execute_reply": "2022-10-28T23:08:16.427195Z",
     "shell.execute_reply.started": "2022-10-28T23:08:16.417929Z"
    }
   },
   "outputs": [
    {
     "data": {
      "text/plain": [
       "array([[1443,    3,   22],\n",
       "       [   5, 1082,   20],\n",
       "       [  17,   22,  942]])"
      ]
     },
     "execution_count": 16,
     "metadata": {},
     "output_type": "execute_result"
    }
   ],
   "source": [
    "confusion_matrix(y, y_pred_knn)"
   ]
  },
  {
   "cell_type": "markdown",
   "metadata": {},
   "source": [
    "__Избавление от выбросов__"
   ]
  },
  {
   "cell_type": "markdown",
   "metadata": {},
   "source": [
    "Будем отфильтровывать выбросы следующим образом:\n",
    "1. находим среднее значение красного, зелёного, синего в изображении;\n",
    "1. если все эти среднии значения больше определённого показателя (допустим 30), это означает, что изображение чёрное и скорее всего это выброс;\n",
    "1. аналогично поступаем с пересвеченными изображениям."
   ]
  },
  {
   "cell_type": "code",
   "execution_count": 17,
   "metadata": {
    "execution": {
     "iopub.execute_input": "2022-10-28T23:08:16.429534Z",
     "iopub.status.busy": "2022-10-28T23:08:16.429070Z",
     "iopub.status.idle": "2022-10-28T23:08:16.434637Z",
     "shell.execute_reply": "2022-10-28T23:08:16.433621Z",
     "shell.execute_reply.started": "2022-10-28T23:08:16.429490Z"
    }
   },
   "outputs": [],
   "source": [
    "def mean(image, *, channels=3):\n",
    "    result = [0 for _ in range(channels)]\n",
    "\n",
    "    for i in range(channels):\n",
    "        result[i] = np.mean(image[:, :, i])\n",
    "    \n",
    "    return np.array(result)"
   ]
  },
  {
   "cell_type": "code",
   "execution_count": 18,
   "metadata": {
    "execution": {
     "iopub.execute_input": "2022-10-28T23:08:16.437855Z",
     "iopub.status.busy": "2022-10-28T23:08:16.437157Z",
     "iopub.status.idle": "2022-10-28T23:08:16.446815Z",
     "shell.execute_reply": "2022-10-28T23:08:16.445974Z",
     "shell.execute_reply.started": "2022-10-28T23:08:16.437826Z"
    }
   },
   "outputs": [],
   "source": [
    "def get_img_filtered_data(type_: str):\n",
    "    result = []\n",
    "    directory = os.fsencode(f\"../input/aleksandranevskogo/{type_}/\")\n",
    "    if type_ == \"down\":\n",
    "        d_type_ = 0\n",
    "    elif type_ == \"up\":\n",
    "        d_type_ = 1\n",
    "    elif type_ == \"mov\":\n",
    "        d_type_ = 2\n",
    "\n",
    "    for file in os.listdir(directory):\n",
    "        filename = os.fsdecode(file)\n",
    "        if filename.endswith(\".jpeg\"):\n",
    "            img = cv2.imread(f\"../input/aleksandranevskogo/{type_}/{filename}\")\n",
    "            cropped_image = img[35:70, 420:480]\n",
    "            # отфильтровываем выбросы\n",
    "            if all(mean(cropped_image) < 40) or all(mean(cropped_image) > 220):\n",
    "                continue\n",
    "            cropped_image = cv2.cvtColor(cropped_image, cv2.COLOR_BGR2GRAY)\n",
    "            cropped_image = cropped_image / 255.\n",
    "            cropped_image = cv2.resize(cropped_image, (10, 10), interpolation=cv2.INTER_AREA)\n",
    "            result.append(cropped_image.reshape(-1))\n",
    "            result[-1] = np.append(result[-1], d_type_)\n",
    "        else:\n",
    "            continue\n",
    "    return pd.DataFrame(result)"
   ]
  },
  {
   "cell_type": "code",
   "execution_count": 19,
   "metadata": {
    "execution": {
     "iopub.execute_input": "2022-10-28T23:08:16.448155Z",
     "iopub.status.busy": "2022-10-28T23:08:16.447855Z",
     "iopub.status.idle": "2022-10-28T23:08:31.020749Z",
     "shell.execute_reply": "2022-10-28T23:08:31.019661Z",
     "shell.execute_reply.started": "2022-10-28T23:08:16.448129Z"
    }
   },
   "outputs": [],
   "source": [
    "filtered_data_down = get_img_filtered_data(\"down\")\n",
    "filtered_data_up = get_img_filtered_data(\"up\")\n",
    "filtered_data_mov = get_img_filtered_data(\"mov\")"
   ]
  },
  {
   "cell_type": "code",
   "execution_count": 20,
   "metadata": {
    "execution": {
     "iopub.execute_input": "2022-10-28T23:08:31.023783Z",
     "iopub.status.busy": "2022-10-28T23:08:31.023319Z",
     "iopub.status.idle": "2022-10-28T23:08:31.030478Z",
     "shell.execute_reply": "2022-10-28T23:08:31.029745Z",
     "shell.execute_reply.started": "2022-10-28T23:08:31.023744Z"
    }
   },
   "outputs": [],
   "source": [
    "df_filtered_final = pd.concat([filtered_data_down, filtered_data_up, filtered_data_mov], ignore_index=True)"
   ]
  },
  {
   "cell_type": "code",
   "execution_count": 21,
   "metadata": {
    "execution": {
     "iopub.execute_input": "2022-10-28T23:08:31.032229Z",
     "iopub.status.busy": "2022-10-28T23:08:31.031679Z",
     "iopub.status.idle": "2022-10-28T23:08:31.040831Z",
     "shell.execute_reply": "2022-10-28T23:08:31.039980Z",
     "shell.execute_reply.started": "2022-10-28T23:08:31.032139Z"
    }
   },
   "outputs": [
    {
     "name": "stdout",
     "output_type": "stream",
     "text": [
      "Количество изображений в прошлый раз: 3556\n",
      "Количество отобранных изображений: 3191\n"
     ]
    }
   ],
   "source": [
    "print(f\"Количество изображений в прошлый раз: {df_final.shape[0]}\")\n",
    "print(f\"Количество отобранных изображений: {df_filtered_final.shape[0]}\")"
   ]
  },
  {
   "cell_type": "code",
   "execution_count": 22,
   "metadata": {
    "execution": {
     "iopub.execute_input": "2022-10-28T23:08:31.042295Z",
     "iopub.status.busy": "2022-10-28T23:08:31.041925Z",
     "iopub.status.idle": "2022-10-28T23:08:31.051231Z",
     "shell.execute_reply": "2022-10-28T23:08:31.050198Z",
     "shell.execute_reply.started": "2022-10-28T23:08:31.042259Z"
    }
   },
   "outputs": [],
   "source": [
    "X_filtered = df_filtered_final.loc[:, 0:99]\n",
    "y_filtered = df_filtered_final.loc[:, 100]"
   ]
  },
  {
   "cell_type": "code",
   "execution_count": 23,
   "metadata": {
    "execution": {
     "iopub.execute_input": "2022-10-28T23:08:31.053003Z",
     "iopub.status.busy": "2022-10-28T23:08:31.052431Z",
     "iopub.status.idle": "2022-10-28T23:08:34.598435Z",
     "shell.execute_reply": "2022-10-28T23:08:34.597255Z",
     "shell.execute_reply.started": "2022-10-28T23:08:31.052968Z"
    }
   },
   "outputs": [
    {
     "data": {
      "text/plain": [
       "GridSearchCV(cv=StratifiedKFold(n_splits=5, random_state=42, shuffle=True),\n",
       "             estimator=LinearSVC(dual=False, random_state=42), n_jobs=4,\n",
       "             param_grid={'C': [0.01, 0.1, 1, 5, 10, 100]}, scoring='accuracy')"
      ]
     },
     "execution_count": 23,
     "metadata": {},
     "output_type": "execute_result"
    }
   ],
   "source": [
    "gs_svc.fit(X_filtered, y_filtered)"
   ]
  },
  {
   "cell_type": "code",
   "execution_count": 24,
   "metadata": {
    "execution": {
     "iopub.execute_input": "2022-10-28T23:08:34.599900Z",
     "iopub.status.busy": "2022-10-28T23:08:34.599560Z",
     "iopub.status.idle": "2022-10-28T23:08:34.612437Z",
     "shell.execute_reply": "2022-10-28T23:08:34.611092Z",
     "shell.execute_reply.started": "2022-10-28T23:08:34.599875Z"
    }
   },
   "outputs": [
    {
     "name": "stdout",
     "output_type": "stream",
     "text": [
      "Best parameters: {'C': 10}\n",
      "Accuracy score: 0.9066123472265747\n"
     ]
    }
   ],
   "source": [
    "print(f\"Best parameters: {gs_svc.best_params_}\")\n",
    "print(f\"Accuracy score: {gs_svc.score(X_filtered, y_filtered)}\")"
   ]
  },
  {
   "cell_type": "code",
   "execution_count": 25,
   "metadata": {
    "execution": {
     "iopub.execute_input": "2022-10-28T23:08:34.619381Z",
     "iopub.status.busy": "2022-10-28T23:08:34.614797Z",
     "iopub.status.idle": "2022-10-28T23:08:35.522813Z",
     "shell.execute_reply": "2022-10-28T23:08:35.521764Z",
     "shell.execute_reply.started": "2022-10-28T23:08:34.619325Z"
    }
   },
   "outputs": [
    {
     "data": {
      "text/plain": [
       "GridSearchCV(cv=StratifiedKFold(n_splits=5, random_state=42, shuffle=True),\n",
       "             estimator=KNeighborsClassifier(), n_jobs=4,\n",
       "             param_grid={'n_neighbors': [3, 5, 7, 9, 10, 12]},\n",
       "             scoring='accuracy')"
      ]
     },
     "execution_count": 25,
     "metadata": {},
     "output_type": "execute_result"
    }
   ],
   "source": [
    "gs_knn.fit(X_filtered, y_filtered)"
   ]
  },
  {
   "cell_type": "code",
   "execution_count": 26,
   "metadata": {
    "execution": {
     "iopub.execute_input": "2022-10-28T23:08:35.524397Z",
     "iopub.status.busy": "2022-10-28T23:08:35.524098Z",
     "iopub.status.idle": "2022-10-28T23:08:35.835037Z",
     "shell.execute_reply": "2022-10-28T23:08:35.833880Z",
     "shell.execute_reply.started": "2022-10-28T23:08:35.524370Z"
    }
   },
   "outputs": [
    {
     "name": "stdout",
     "output_type": "stream",
     "text": [
      "Best parameters: {'n_neighbors': 3}\n",
      "Accuracy score: 0.9768097774992165\n"
     ]
    }
   ],
   "source": [
    "print(f\"Best parameters: {gs_knn.best_params_}\")\n",
    "print(f\"Accuracy score: {gs_knn.score(X_filtered, y_filtered)}\")"
   ]
  },
  {
   "cell_type": "code",
   "execution_count": 27,
   "metadata": {
    "execution": {
     "iopub.execute_input": "2022-10-28T23:08:35.836482Z",
     "iopub.status.busy": "2022-10-28T23:08:35.836110Z",
     "iopub.status.idle": "2022-10-28T23:08:36.152560Z",
     "shell.execute_reply": "2022-10-28T23:08:36.151727Z",
     "shell.execute_reply.started": "2022-10-28T23:08:35.836445Z"
    }
   },
   "outputs": [],
   "source": [
    "y_pred_filtered_svc = gs_svc.predict(X_filtered)\n",
    "y_pred_filtered_knn = gs_knn.predict(X_filtered)"
   ]
  },
  {
   "cell_type": "markdown",
   "metadata": {},
   "source": [
    "Матрица возмущений _до_ фильтрации выбросов (SVC):"
   ]
  },
  {
   "cell_type": "code",
   "execution_count": 28,
   "metadata": {
    "execution": {
     "iopub.execute_input": "2022-10-28T23:08:36.154126Z",
     "iopub.status.busy": "2022-10-28T23:08:36.153849Z",
     "iopub.status.idle": "2022-10-28T23:08:36.164262Z",
     "shell.execute_reply": "2022-10-28T23:08:36.163251Z",
     "shell.execute_reply.started": "2022-10-28T23:08:36.154102Z"
    }
   },
   "outputs": [
    {
     "data": {
      "text/plain": [
       "array([[1451,    0,   17],\n",
       "       [  35, 1053,   19],\n",
       "       [ 140,  154,  687]])"
      ]
     },
     "execution_count": 28,
     "metadata": {},
     "output_type": "execute_result"
    }
   ],
   "source": [
    "confusion_matrix(y, y_pred_svc)"
   ]
  },
  {
   "cell_type": "markdown",
   "metadata": {},
   "source": [
    "Матрица возмущений _после_ фильтрации выбросов (SVC):"
   ]
  },
  {
   "cell_type": "code",
   "execution_count": 29,
   "metadata": {
    "execution": {
     "iopub.execute_input": "2022-10-28T23:08:36.170868Z",
     "iopub.status.busy": "2022-10-28T23:08:36.170027Z",
     "iopub.status.idle": "2022-10-28T23:08:36.179632Z",
     "shell.execute_reply": "2022-10-28T23:08:36.178612Z",
     "shell.execute_reply.started": "2022-10-28T23:08:36.170838Z"
    }
   },
   "outputs": [
    {
     "data": {
      "text/plain": [
       "array([[1161,    0,   16],\n",
       "       [   0, 1047,   14],\n",
       "       [ 118,  150,  685]])"
      ]
     },
     "execution_count": 29,
     "metadata": {},
     "output_type": "execute_result"
    }
   ],
   "source": [
    "confusion_matrix(y_filtered, y_pred_filtered_svc)"
   ]
  },
  {
   "cell_type": "markdown",
   "metadata": {},
   "source": [
    "Можно заметить, что фильтрация выбросов положительно сказалась на предсказаниях и модель стала меньше ошибаться."
   ]
  },
  {
   "cell_type": "markdown",
   "metadata": {},
   "source": [
    "Матрица возмущений _до_ фильтрации выбросов (KNN):"
   ]
  },
  {
   "cell_type": "code",
   "execution_count": 30,
   "metadata": {
    "execution": {
     "iopub.execute_input": "2022-10-28T23:08:36.181215Z",
     "iopub.status.busy": "2022-10-28T23:08:36.180750Z",
     "iopub.status.idle": "2022-10-28T23:08:36.191742Z",
     "shell.execute_reply": "2022-10-28T23:08:36.190790Z",
     "shell.execute_reply.started": "2022-10-28T23:08:36.181182Z"
    }
   },
   "outputs": [
    {
     "data": {
      "text/plain": [
       "array([[1443,    3,   22],\n",
       "       [   5, 1082,   20],\n",
       "       [  17,   22,  942]])"
      ]
     },
     "execution_count": 30,
     "metadata": {},
     "output_type": "execute_result"
    }
   ],
   "source": [
    "confusion_matrix(y, y_pred_knn)"
   ]
  },
  {
   "cell_type": "markdown",
   "metadata": {},
   "source": [
    "Матрица возмущений _после_ фильтрации выбросов (KNN):"
   ]
  },
  {
   "cell_type": "code",
   "execution_count": 31,
   "metadata": {
    "execution": {
     "iopub.execute_input": "2022-10-28T23:08:36.193381Z",
     "iopub.status.busy": "2022-10-28T23:08:36.192807Z",
     "iopub.status.idle": "2022-10-28T23:08:36.203201Z",
     "shell.execute_reply": "2022-10-28T23:08:36.201685Z",
     "shell.execute_reply.started": "2022-10-28T23:08:36.193344Z"
    }
   },
   "outputs": [
    {
     "data": {
      "text/plain": [
       "array([[1155,    1,   21],\n",
       "       [   2, 1040,   19],\n",
       "       [   9,   22,  922]])"
      ]
     },
     "execution_count": 31,
     "metadata": {},
     "output_type": "execute_result"
    }
   ],
   "source": [
    "confusion_matrix(y_filtered, y_pred_filtered_knn)"
   ]
  },
  {
   "cell_type": "markdown",
   "metadata": {},
   "source": [
    "Можно заметить, что фильтрация выбросов положительно сказалась на предсказаниях и модель стала меньше ошибаться."
   ]
  }
 ],
 "metadata": {
  "kernelspec": {
   "display_name": "Python 3 (ipykernel)",
   "language": "python",
   "name": "python3"
  },
  "language_info": {
   "codemirror_mode": {
    "name": "ipython",
    "version": 3
   },
   "file_extension": ".py",
   "mimetype": "text/x-python",
   "name": "python",
   "nbconvert_exporter": "python",
   "pygments_lexer": "ipython3",
   "version": "3.10.6"
  }
 },
 "nbformat": 4,
 "nbformat_minor": 4
}

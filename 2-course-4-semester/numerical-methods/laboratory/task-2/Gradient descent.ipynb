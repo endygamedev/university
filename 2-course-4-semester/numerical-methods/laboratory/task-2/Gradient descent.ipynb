{
 "cells": [
  {
   "cell_type": "markdown",
   "metadata": {},
   "source": [
    "# Градиентные методы. Метод наискорейшего спуска."
   ]
  },
  {
   "cell_type": "markdown",
   "metadata": {},
   "source": [
    "## Импорт модулей"
   ]
  },
  {
   "cell_type": "code",
   "execution_count": 1,
   "metadata": {},
   "outputs": [],
   "source": [
    "import numpy as np        # для работы с матрицами и веторами\n",
    "import warnings           # для работы с ошибками\n",
    "import sympy as sp        # для красивого вывода промежуточных результатов\n",
    "from IPython.display import Markdown, display  # для красивого вывода текста"
   ]
  },
  {
   "cell_type": "markdown",
   "metadata": {},
   "source": [
    "## Входные данные"
   ]
  },
  {
   "cell_type": "code",
   "execution_count": 2,
   "metadata": {},
   "outputs": [],
   "source": [
    "A = np.matrix([[4.33, -1.12, -1.08, 1.14],\n",
    "               [-1.12, 4.33, 0.24, -1.22],\n",
    "               [-1.08, 0.24, 7.21, -3.22],\n",
    "               [1.14, -1.22, -3.22, 5.43]],\n",
    "               dtype=np.dtype(np.float64))"
   ]
  },
  {
   "cell_type": "code",
   "execution_count": 3,
   "metadata": {},
   "outputs": [],
   "source": [
    "f = np.array([0.3, 0.5, 0.7, 0.9],\n",
    "             dtype=np.dtype(np.float64))"
   ]
  },
  {
   "cell_type": "markdown",
   "metadata": {},
   "source": [
    "## Тестовые наборы данных"
   ]
  },
  {
   "cell_type": "code",
   "execution_count": 111,
   "metadata": {},
   "outputs": [],
   "source": [
    "test_A1_Err = np.matrix([[1.00, 0.17, -0.25, 0.54],\n",
    "                         [0.47, 1.00, 0.67, -0.32],\n",
    "                         [-0.11, 0.35, 1.00, -0.74],\n",
    "                         [0.55, 0.43, 0.36, 1.00]],\n",
    "                         dtype=np.dtype(np.float64))"
   ]
  },
  {
   "cell_type": "code",
   "execution_count": 125,
   "metadata": {},
   "outputs": [],
   "source": [
    "test_A2_Err = np.matrix([[-11.00, 6.00],\n",
    "                         [6.00, -11.00]],\n",
    "                         dtype=np.dtype(np.float64))\n",
    "test_f2_Err = np.array([0.3, 0.5],\n",
    "             dtype=np.dtype(np.float64))"
   ]
  },
  {
   "cell_type": "markdown",
   "metadata": {},
   "source": [
    "## Проверяет положительно определённая ли матрица"
   ]
  },
  {
   "cell_type": "code",
   "execution_count": 17,
   "metadata": {},
   "outputs": [],
   "source": [
    "def is_positive_definite(A: np.matrix) -> bool:\n",
    "    return np.all(np.linalg.eigvals(A) > 0)  # считаем собственные числа и проверяет, что все они больше 0"
   ]
  },
  {
   "cell_type": "code",
   "execution_count": 18,
   "metadata": {},
   "outputs": [
    {
     "data": {
      "text/plain": [
       "True"
      ]
     },
     "execution_count": 18,
     "metadata": {},
     "output_type": "execute_result"
    }
   ],
   "source": [
    "is_positive_definite(A)"
   ]
  },
  {
   "cell_type": "markdown",
   "metadata": {},
   "source": [
    "## Проверяет симметричная ли матрица"
   ]
  },
  {
   "cell_type": "code",
   "execution_count": 20,
   "metadata": {},
   "outputs": [],
   "source": [
    "def is_symmetric(A: np.matrix) -> bool:\n",
    "    return np.allclose(A, A.T)  # сравниваем обычную матрицу и транспонированную\n",
    "                                # если они совпадают, то матрица симметричная"
   ]
  },
  {
   "cell_type": "code",
   "execution_count": 23,
   "metadata": {},
   "outputs": [
    {
     "data": {
      "text/plain": [
       "True"
      ]
     },
     "execution_count": 23,
     "metadata": {},
     "output_type": "execute_result"
    }
   ],
   "source": [
    "is_symmetric(A)"
   ]
  },
  {
   "cell_type": "markdown",
   "metadata": {},
   "source": [
    "## Алгоритм"
   ]
  },
  {
   "cell_type": "code",
   "execution_count": 127,
   "metadata": {},
   "outputs": [],
   "source": [
    "def steepest_descent_method(A_arg: np.matrix, f_arg: np.array, K_max: int) -> np.array:\n",
    "    A, f = np.copy(A_arg), np.copy(f_arg)  # копируем аргументы, чтобы их не 'пачкать'\n",
    "    display(Markdown('<text style=font-weight:bold;font-size:16px;font-family:serif>Исходные данные<text>'),\n",
    "        sp.BlockMatrix([sp.Matrix(A.round(decimals=10)), sp.Matrix(f.round(decimals=10))]))\n",
    "    if not is_positive_definite(A):  # проверяем положительна ли определена матрица `A`\n",
    "        warnings.warn(\"Матрица не является положительно определённой\")  # печатаем ошибку\n",
    "        return\n",
    "    elif not is_symmetric(A):  # проверям симметричная ли матрица `A`\n",
    "        warnings.warn(\"Матрица не является симметричной\")  # печатаем ошибку\n",
    "        return\n",
    "    elif K_max < 0:  # проверяем `K_max`\n",
    "        warnings.warn(\"Количество итераций не может быть отрицательным числом\")  # печатаем ошибку\n",
    "        return\n",
    "    x = np.zeros(f.shape, dtype=np.dtype(np.float64))  # начальное приблежение\n",
    "    for k in range(K_max):  # итерируемся до `K_max`\n",
    "        display(Markdown(f'<text style=font-weight:bold;font-size:16px;font-family:serif>{k+1} итерация<text>'),\n",
    "                sp.Matrix(x.round(decimals=10)))\n",
    "        r = np.squeeze(np.asarray(f - np.matmul(A, x)))  # находим вектор невязки\n",
    "        alpha = (np.dot(r, r)/np.dot(np.matmul(A, r), r)).item(0)  # находим alpha\n",
    "        x = x + alpha*r  # находим `k`-ое приблежённое решение\n",
    "    display(Markdown(f'<text style=font-weight:bold;font-size:16px;font-family:serif>Ответ<text>'),\n",
    "            sp.Matrix(x.round(decimals=10)))\n",
    "    return x"
   ]
  },
  {
   "cell_type": "markdown",
   "metadata": {},
   "source": [
    "## Тесты"
   ]
  },
  {
   "cell_type": "code",
   "execution_count": 128,
   "metadata": {},
   "outputs": [
    {
     "data": {
      "text/markdown": [
       "<text style=font-weight:bold;font-size:16px;font-family:serif>Исходные данные<text>"
      ],
      "text/plain": [
       "<IPython.core.display.Markdown object>"
      ]
     },
     "metadata": {},
     "output_type": "display_data"
    },
    {
     "data": {
      "text/latex": [
       "$\\displaystyle \\left[\\begin{matrix}\\left[\\begin{matrix}4.33 & -1.12 & -1.08 & 1.14\\\\-1.12 & 4.33 & 0.24 & -1.22\\\\-1.08 & 0.24 & 7.21 & -3.22\\\\1.14 & -1.22 & -3.22 & 5.43\\end{matrix}\\right] & \\left[\\begin{matrix}0.3\\\\0.5\\\\0.7\\\\0.9\\end{matrix}\\right]\\end{matrix}\\right]$"
      ],
      "text/plain": [
       "Matrix([[Matrix([\n",
       "[ 4.33, -1.12, -1.08,  1.14],\n",
       "[-1.12,  4.33,  0.24, -1.22],\n",
       "[-1.08,  0.24,  7.21, -3.22],\n",
       "[ 1.14, -1.22, -3.22,  5.43]]), Matrix([\n",
       "[0.3],\n",
       "[0.5],\n",
       "[0.7],\n",
       "[0.9]])]])"
      ]
     },
     "metadata": {},
     "output_type": "display_data"
    },
    {
     "data": {
      "text/markdown": [
       "<text style=font-weight:bold;font-size:16px;font-family:serif>1 итерация<text>"
      ],
      "text/plain": [
       "<IPython.core.display.Markdown object>"
      ]
     },
     "metadata": {},
     "output_type": "display_data"
    },
    {
     "data": {
      "text/latex": [
       "$\\displaystyle \\left[\\begin{matrix}0.0\\\\0.0\\\\0.0\\\\0.0\\end{matrix}\\right]$"
      ],
      "text/plain": [
       "Matrix([\n",
       "[0.0],\n",
       "[0.0],\n",
       "[0.0],\n",
       "[0.0]])"
      ]
     },
     "metadata": {},
     "output_type": "display_data"
    },
    {
     "data": {
      "text/markdown": [
       "<text style=font-weight:bold;font-size:16px;font-family:serif>2 итерация<text>"
      ],
      "text/plain": [
       "<IPython.core.display.Markdown object>"
      ]
     },
     "metadata": {},
     "output_type": "display_data"
    },
    {
     "data": {
      "text/latex": [
       "$\\displaystyle \\left[\\begin{matrix}0.1159775588\\\\0.1932959314\\\\0.2706143039\\\\0.3479326764\\end{matrix}\\right]$"
      ],
      "text/plain": [
       "Matrix([\n",
       "[0.1159775588],\n",
       "[0.1932959314],\n",
       "[0.2706143039],\n",
       "[0.3479326764]])"
      ]
     },
     "metadata": {},
     "output_type": "display_data"
    },
    {
     "data": {
      "text/markdown": [
       "<text style=font-weight:bold;font-size:16px;font-family:serif>3 итерация<text>"
      ],
      "text/plain": [
       "<IPython.core.display.Markdown object>"
      ]
     },
     "metadata": {},
     "output_type": "display_data"
    },
    {
     "data": {
      "text/latex": [
       "$\\displaystyle \\left[\\begin{matrix}0.0985107399\\\\0.2228601566\\\\0.2605456268\\\\0.3451615732\\end{matrix}\\right]$"
      ],
      "text/plain": [
       "Matrix([\n",
       "[0.0985107399],\n",
       "[0.2228601566],\n",
       "[0.2605456268],\n",
       "[0.3451615732]])"
      ]
     },
     "metadata": {},
     "output_type": "display_data"
    },
    {
     "data": {
      "text/markdown": [
       "<text style=font-weight:bold;font-size:16px;font-family:serif>4 итерация<text>"
      ],
      "text/plain": [
       "<IPython.core.display.Markdown object>"
      ]
     },
     "metadata": {},
     "output_type": "display_data"
    },
    {
     "data": {
      "text/latex": [
       "$\\displaystyle \\left[\\begin{matrix}0.099772049\\\\0.2233106841\\\\0.2589100115\\\\0.347960791\\end{matrix}\\right]$"
      ],
      "text/plain": [
       "Matrix([\n",
       "[ 0.099772049],\n",
       "[0.2233106841],\n",
       "[0.2589100115],\n",
       "[ 0.347960791]])"
      ]
     },
     "metadata": {},
     "output_type": "display_data"
    },
    {
     "data": {
      "text/markdown": [
       "<text style=font-weight:bold;font-size:16px;font-family:serif>5 итерация<text>"
      ],
      "text/plain": [
       "<IPython.core.display.Markdown object>"
      ]
     },
     "metadata": {},
     "output_type": "display_data"
    },
    {
     "data": {
      "text/latex": [
       "$\\displaystyle \\left[\\begin{matrix}0.1000197017\\\\0.2250170915\\\\0.2607752527\\\\0.34866444\\end{matrix}\\right]$"
      ],
      "text/plain": [
       "Matrix([\n",
       "[0.1000197017],\n",
       "[0.2250170915],\n",
       "[0.2607752527],\n",
       "[  0.34866444]])"
      ]
     },
     "metadata": {},
     "output_type": "display_data"
    },
    {
     "data": {
      "text/markdown": [
       "<text style=font-weight:bold;font-size:16px;font-family:serif>6 итерация<text>"
      ],
      "text/plain": [
       "<IPython.core.display.Markdown object>"
      ]
     },
     "metadata": {},
     "output_type": "display_data"
    },
    {
     "data": {
      "text/latex": [
       "$\\displaystyle \\left[\\begin{matrix}0.1003772689\\\\0.2250728728\\\\0.260373851\\\\0.3494673588\\end{matrix}\\right]$"
      ],
      "text/plain": [
       "Matrix([\n",
       "[0.1003772689],\n",
       "[0.2250728728],\n",
       "[ 0.260373851],\n",
       "[0.3494673588]])"
      ]
     },
     "metadata": {},
     "output_type": "display_data"
    },
    {
     "data": {
      "text/markdown": [
       "<text style=font-weight:bold;font-size:16px;font-family:serif>7 итерация<text>"
      ],
      "text/plain": [
       "<IPython.core.display.Markdown object>"
      ]
     },
     "metadata": {},
     "output_type": "display_data"
    },
    {
     "data": {
      "text/latex": [
       "$\\displaystyle \\left[\\begin{matrix}0.1004387563\\\\0.2254805811\\\\0.2609386966\\\\0.3496940339\\end{matrix}\\right]$"
      ],
      "text/plain": [
       "Matrix([\n",
       "[0.1004387563],\n",
       "[0.2254805811],\n",
       "[0.2609386966],\n",
       "[0.3496940339]])"
      ]
     },
     "metadata": {},
     "output_type": "display_data"
    },
    {
     "data": {
      "text/markdown": [
       "<text style=font-weight:bold;font-size:16px;font-family:serif>8 итерация<text>"
      ],
      "text/plain": [
       "<IPython.core.display.Markdown object>"
      ]
     },
     "metadata": {},
     "output_type": "display_data"
    },
    {
     "data": {
      "text/latex": [
       "$\\displaystyle \\left[\\begin{matrix}0.1005313895\\\\0.2254993065\\\\0.2608236673\\\\0.3499218645\\end{matrix}\\right]$"
      ],
      "text/plain": [
       "Matrix([\n",
       "[0.1005313895],\n",
       "[0.2254993065],\n",
       "[0.2608236673],\n",
       "[0.3499218645]])"
      ]
     },
     "metadata": {},
     "output_type": "display_data"
    },
    {
     "data": {
      "text/markdown": [
       "<text style=font-weight:bold;font-size:16px;font-family:serif>9 итерация<text>"
      ],
      "text/plain": [
       "<IPython.core.display.Markdown object>"
      ]
     },
     "metadata": {},
     "output_type": "display_data"
    },
    {
     "data": {
      "text/latex": [
       "$\\displaystyle \\left[\\begin{matrix}0.1005401597\\\\0.2256156715\\\\0.2609812639\\\\0.3499883034\\end{matrix}\\right]$"
      ],
      "text/plain": [
       "Matrix([\n",
       "[0.1005401597],\n",
       "[0.2256156715],\n",
       "[0.2609812639],\n",
       "[0.3499883034]])"
      ]
     },
     "metadata": {},
     "output_type": "display_data"
    },
    {
     "data": {
      "text/markdown": [
       "<text style=font-weight:bold;font-size:16px;font-family:serif>10 итерация<text>"
      ],
      "text/plain": [
       "<IPython.core.display.Markdown object>"
      ]
     },
     "metadata": {},
     "output_type": "display_data"
    },
    {
     "data": {
      "text/latex": [
       "$\\displaystyle \\left[\\begin{matrix}0.1005660379\\\\0.2256202222\\\\0.2609492325\\\\0.3500528971\\end{matrix}\\right]$"
      ],
      "text/plain": [
       "Matrix([\n",
       "[0.1005660379],\n",
       "[0.2256202222],\n",
       "[0.2609492325],\n",
       "[0.3500528971]])"
      ]
     },
     "metadata": {},
     "output_type": "display_data"
    },
    {
     "data": {
      "text/markdown": [
       "<text style=font-weight:bold;font-size:16px;font-family:serif>Ответ<text>"
      ],
      "text/plain": [
       "<IPython.core.display.Markdown object>"
      ]
     },
     "metadata": {},
     "output_type": "display_data"
    },
    {
     "data": {
      "text/latex": [
       "$\\displaystyle \\left[\\begin{matrix}0.1005680733\\\\0.2256523012\\\\0.2609940632\\\\0.3500720528\\end{matrix}\\right]$"
      ],
      "text/plain": [
       "Matrix([\n",
       "[0.1005680733],\n",
       "[0.2256523012],\n",
       "[0.2609940632],\n",
       "[0.3500720528]])"
      ]
     },
     "metadata": {},
     "output_type": "display_data"
    }
   ],
   "source": [
    "x = steepest_descent_method(A, f, 10)"
   ]
  },
  {
   "cell_type": "code",
   "execution_count": 120,
   "metadata": {},
   "outputs": [
    {
     "data": {
      "text/markdown": [
       "<text style=font-weight:bold;font-size:16px;font-family:serif>Исходные данные<text>"
      ],
      "text/plain": [
       "<IPython.core.display.Markdown object>"
      ]
     },
     "metadata": {},
     "output_type": "display_data"
    },
    {
     "data": {
      "text/latex": [
       "$\\displaystyle \\left[\\begin{matrix}\\left[\\begin{matrix}1.0 & 0.17 & -0.25 & 0.54\\\\0.47 & 1.0 & 0.67 & -0.32\\\\-0.11 & 0.35 & 1.0 & -0.74\\\\0.55 & 0.43 & 0.36 & 1.0\\end{matrix}\\right] & \\left[\\begin{matrix}0.3\\\\0.5\\\\0.7\\\\0.9\\end{matrix}\\right]\\end{matrix}\\right]$"
      ],
      "text/plain": [
       "Matrix([[Matrix([\n",
       "[  1.0, 0.17, -0.25,  0.54],\n",
       "[ 0.47,  1.0,  0.67, -0.32],\n",
       "[-0.11, 0.35,   1.0, -0.74],\n",
       "[ 0.55, 0.43,  0.36,   1.0]]), Matrix([\n",
       "[0.3],\n",
       "[0.5],\n",
       "[0.7],\n",
       "[0.9]])]])"
      ]
     },
     "metadata": {},
     "output_type": "display_data"
    },
    {
     "name": "stderr",
     "output_type": "stream",
     "text": [
      "<ipython-input-119-f9ccc6ac74a8>:9: UserWarning: Матрица не является симметричной\n",
      "  warnings.warn(\"Матрица не является симметричной\")  # печатаем ошибку\n"
     ]
    }
   ],
   "source": [
    "steepest_descent_method(test_A1_Err, f, 10)"
   ]
  },
  {
   "cell_type": "code",
   "execution_count": 126,
   "metadata": {},
   "outputs": [
    {
     "data": {
      "text/markdown": [
       "<text style=font-weight:bold;font-size:16px;font-family:serif>Исходные данные<text>"
      ],
      "text/plain": [
       "<IPython.core.display.Markdown object>"
      ]
     },
     "metadata": {},
     "output_type": "display_data"
    },
    {
     "data": {
      "text/latex": [
       "$\\displaystyle \\left[\\begin{matrix}\\left[\\begin{matrix}-11.0 & 6.0\\\\6.0 & -11.0\\end{matrix}\\right] & \\left[\\begin{matrix}0.3\\\\0.5\\end{matrix}\\right]\\end{matrix}\\right]$"
      ],
      "text/plain": [
       "Matrix([[Matrix([\n",
       "[-11.0,   6.0],\n",
       "[  6.0, -11.0]]), Matrix([\n",
       "[0.3],\n",
       "[0.5]])]])"
      ]
     },
     "metadata": {},
     "output_type": "display_data"
    },
    {
     "name": "stderr",
     "output_type": "stream",
     "text": [
      "<ipython-input-119-f9ccc6ac74a8>:6: UserWarning: Матрица не является положительно определённой\n",
      "  warnings.warn(\"Матрица не является положительно определённой\")  # печатаем ошибку\n"
     ]
    }
   ],
   "source": [
    "steepest_descent_method(test_A2_Err, test_f2_Err, 10)"
   ]
  },
  {
   "cell_type": "markdown",
   "metadata": {},
   "source": [
    "## Оценка точности полученного решения"
   ]
  },
  {
   "cell_type": "code",
   "execution_count": 115,
   "metadata": {},
   "outputs": [
    {
     "data": {
      "text/markdown": [
       "<text style=font-weight:bold;font-size:16px;font-family:serif>Вектор невязки<text>"
      ],
      "text/plain": [
       "<IPython.core.display.Markdown object>"
      ]
     },
     "metadata": {},
     "output_type": "display_data"
    },
    {
     "data": {
      "text/latex": [
       "$\\displaystyle \\left[\\begin{matrix}6.22681101437594 \\cdot 10^{-5}\\\\1.11072297926951 \\cdot 10^{-5}\\\\-7.82185327168339 \\cdot 10^{-5}\\\\0.000157840633184247\\end{matrix}\\right]$"
      ],
      "text/plain": [
       "Matrix([\n",
       "[ 6.22681101437594e-5],\n",
       "[ 1.11072297926951e-5],\n",
       "[-7.82185327168339e-5],\n",
       "[0.000157840633184247]])"
      ]
     },
     "metadata": {},
     "output_type": "display_data"
    }
   ],
   "source": [
    "r = f - np.matmul(A, x)\n",
    "display(Markdown(f'<text style=font-weight:bold;font-size:16px;font-family:serif>Вектор невязки<text>'),\n",
    "        sp.Matrix(r.T))"
   ]
  }
 ],
 "metadata": {
  "kernelspec": {
   "display_name": "Python 3",
   "language": "python",
   "name": "python3"
  },
  "language_info": {
   "codemirror_mode": {
    "name": "ipython",
    "version": 3
   },
   "file_extension": ".py",
   "mimetype": "text/x-python",
   "name": "python",
   "nbconvert_exporter": "python",
   "pygments_lexer": "ipython3",
   "version": "3.9.1"
  }
 },
 "nbformat": 4,
 "nbformat_minor": 4
}

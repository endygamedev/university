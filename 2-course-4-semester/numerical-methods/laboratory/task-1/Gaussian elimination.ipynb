{
 "cells": [
  {
   "cell_type": "markdown",
   "metadata": {},
   "source": [
    "# Метод Гаусса с частичным выбором ведущего элемента"
   ]
  },
  {
   "cell_type": "markdown",
   "metadata": {},
   "source": [
    "## Импорт модулей"
   ]
  },
  {
   "cell_type": "code",
   "execution_count": 2,
   "metadata": {},
   "outputs": [],
   "source": [
    "import numpy as np        # для работы с матрицами и веторами\n",
    "from typing import Union  # для работы с типизацией\n",
    "import warnings           # для работы с ошибками\n",
    "import sympy as sp        # для красивого вывода промежуточных результатов\n",
    "from IPython.display import Markdown, display  # для красивого вывода текста"
   ]
  },
  {
   "cell_type": "markdown",
   "metadata": {},
   "source": [
    "## Входные данные"
   ]
  },
  {
   "cell_type": "code",
   "execution_count": 3,
   "metadata": {},
   "outputs": [],
   "source": [
    "A = np.matrix([[1.00, 0.17, -0.25, 0.54],\n",
    "               [0.47, 1.00, 0.67, -0.32],\n",
    "               [-0.11, 0.35, 1.00, -0.74],\n",
    "               [0.55, 0.43, 0.36, 1.00]],\n",
    "               dtype=np.dtype(np.float64))"
   ]
  },
  {
   "cell_type": "code",
   "execution_count": 4,
   "metadata": {},
   "outputs": [],
   "source": [
    "f = np.array([0.3, 0.5, 0.7, 0.9],\n",
    "             dtype=np.dtype(np.float64))"
   ]
  },
  {
   "cell_type": "markdown",
   "metadata": {},
   "source": [
    "## Тестовые наборы данных"
   ]
  },
  {
   "cell_type": "code",
   "execution_count": 5,
   "metadata": {},
   "outputs": [],
   "source": [
    "test_A1 = np.matrix([[ 2. , -1.4,  0. ],\n",
    "                     [-0.6,  0.4,  1.2],\n",
    "                     [ 1. , -0.2,  1. ]],\n",
    "                    dtype=np.dtype(np.float64))\n",
    "\n",
    "test_f1 = np.array([1.4, 0.8, 1.2],\n",
    "                  dtype=np.dtype(np.float64))"
   ]
  },
  {
   "cell_type": "code",
   "execution_count": 6,
   "metadata": {},
   "outputs": [],
   "source": [
    "test_A2 = np.matrix([[0.25, 0.5 ],\n",
    "                     [0.75, 1.  ]],\n",
    "                     dtype=np.dtype(np.float64))\n",
    "\n",
    "test_f2 = np.matrix([[0.75, 1.25],\n",
    "                     [1.25, 2.25]],\n",
    "                     dtype=np.dtype(np.float64))"
   ]
  },
  {
   "cell_type": "code",
   "execution_count": 7,
   "metadata": {},
   "outputs": [],
   "source": [
    "test_A3 = np.matrix([[0.1, 0.2, 0.3],\n",
    "                     [0.4, 0.5, 0.6],\n",
    "                     [0.1, 0. , 0.1]],\n",
    "                     dtype=np.dtype(np.float64))\n",
    "\n",
    "test_f3 = np.array([0.1, 0.1, 0.1],\n",
    "                   dtype=np.dtype(np.float64))"
   ]
  },
  {
   "cell_type": "code",
   "execution_count": 8,
   "metadata": {},
   "outputs": [],
   "source": [
    "test_A4 = np.matrix([[ 0.5,  0.5,  1. ,  1.5],\n",
    "                     [ 0.5,  1. ,  1.5, -0.5],\n",
    "                     [ 1.5, -0.5, -0.5, -1. ],\n",
    "                     [ 1. ,  1.5, -0.5, -0.5]],\n",
    "                     dtype=np.dtype(np.float64))\n",
    "\n",
    "test_f4 = np.array([0.5, -2., -2., -3.],\n",
    "                  dtype=np.dtype(np.float64))"
   ]
  },
  {
   "cell_type": "code",
   "execution_count": 9,
   "metadata": {},
   "outputs": [],
   "source": [
    "test_A5 = np.matrix([[ 0.5, -1. , -0.5],\n",
    "                     [-1.5,  1. ,  1. ],\n",
    "                     [ 1.5, -0.5, -1. ]],\n",
    "                     dtype=np.dtype(np.float64))\n",
    "\n",
    "test_f5 = np.matrix([[ 0.5,  0. ],\n",
    "                     [ 1. , -1. ],\n",
    "                     [-1.5,  0.5]],\n",
    "                     dtype=np.dtype(np.float64))"
   ]
  },
  {
   "cell_type": "code",
   "execution_count": 10,
   "metadata": {},
   "outputs": [],
   "source": [
    "test_A_Err = np.matrix([[1, 1, 3], [1, 1, 3], [2, -1, 4]],\n",
    "                      dtype=np.dtype(np.float64))\n",
    "test_f_Err = np.array([0., 1., 2.],\n",
    "                      dtype=np.dtype(np.float64))"
   ]
  },
  {
   "cell_type": "markdown",
   "metadata": {},
   "source": [
    "## Алгоритм"
   ]
  },
  {
   "cell_type": "code",
   "execution_count": 11,
   "metadata": {},
   "outputs": [],
   "source": [
    "def gaussian_elimination(A_arg: np.matrix, f_arg: Union[np.matrix, np.array]) -> Union[np.matrix, np.array]:\n",
    "    A, f = np.copy(A_arg), np.copy(f_arg)  # копируем аргументы, чтобы их не 'пачкать'\n",
    "    display(Markdown('<text style=font-weight:bold;font-size:16px;font-family:serif>Исходные данные<text>'),\n",
    "            sp.BlockMatrix([sp.Matrix(A.round(decimals=10)), sp.Matrix(f.round(decimals=10))]))\n",
    "    for i in range(len(A)):\n",
    "        column = np.abs(A[i:, i])      # берём i-ую колонку по модулю\n",
    "        leading_elem = np.max(column)  # методом частичного выбора находим ведущий элемент\n",
    "        if leading_elem == 0.:  # проверяем определитель (if ведущий элемент == 0, то det(A) = 0 => решений нет)\n",
    "            warnings.warn(\"Определитель равен 0\")  # печатаем ошибку\n",
    "            return  # заканчиваем выполнение программы\n",
    "        if np.where(column == leading_elem)[0][0] != 0:  # нужно ли нам менять строки (?)\n",
    "            pos_max = column.argmax() + i      # узнаём номер строки ведущего элемента\n",
    "            A[[i, pos_max]] = A[[pos_max, i]]  # меняем строки местами в матрице A\n",
    "            f[[i, pos_max]] = f[[pos_max, i]]  # меняем строки местами в матрице f\n",
    "        for j in range(i+1, len(A)):   # делаем верхний треугольник\n",
    "            coef = -(A[j, i]/A[i, i])  # считаем коэффициент\n",
    "            A[j] = coef * A[i] + A[j]  # домножаем `i` строку и прибавляем `j`\n",
    "            f[j] = coef * f[i] + f[j]\n",
    "        display(Markdown(f'<text style=font-weight:bold;font-size:16px;font-family:serif>{i+1} итерация<text>'),\n",
    "                sp.BlockMatrix([sp.Matrix(A.round(decimals=10)), sp.Matrix(f.round(decimals=10))]))  # выводим промежуточный результат\n",
    "    n = f.shape[0]  # размерность нашего ответа\n",
    "    X = np.zeros(shape=f.shape)   # заполняем наше будущее решение нулями\n",
    "    X[n-1] = f[n-1]/A[n-1, n-1]   # решаем последнее уравнение\n",
    "    for i in range(n-2, -1, -1):  # рассчитывает значения начиная с конца\n",
    "        sum_elem = sum(A[i, j] * X[j] for j in range(i+1, n))  # для известных `x` суммируем коэффициенты\n",
    "        X[i] = (f[i] - sum_elem)/A[i, i]  # находим `x`\n",
    "    display(Markdown('<text style=font-weight:bold;font-size:16px;font-family:serif>Ответ<text>'),\n",
    "            sp.Matrix(X.round(decimals=10)))  # выводим ответ\n",
    "    return X  # возвращаем ответ для проверки результата"
   ]
  },
  {
   "cell_type": "markdown",
   "metadata": {},
   "source": [
    "## Тесты"
   ]
  },
  {
   "cell_type": "code",
   "execution_count": 12,
   "metadata": {},
   "outputs": [
    {
     "data": {
      "text/markdown": [
       "<text style=font-weight:bold;font-size:16px;font-family:serif>Исходные данные<text>"
      ],
      "text/plain": [
       "<IPython.core.display.Markdown object>"
      ]
     },
     "metadata": {},
     "output_type": "display_data"
    },
    {
     "data": {
      "text/latex": [
       "$\\displaystyle \\left[\\begin{matrix}\\left[\\begin{matrix}1.0 & 1.0 & 3.0\\\\1.0 & 1.0 & 3.0\\\\2.0 & -1.0 & 4.0\\end{matrix}\\right] & \\left[\\begin{matrix}0.0\\\\1.0\\\\2.0\\end{matrix}\\right]\\end{matrix}\\right]$"
      ],
      "text/plain": [
       "Matrix([[Matrix([\n",
       "[1.0,  1.0, 3.0],\n",
       "[1.0,  1.0, 3.0],\n",
       "[2.0, -1.0, 4.0]]), Matrix([\n",
       "[0.0],\n",
       "[1.0],\n",
       "[2.0]])]])"
      ]
     },
     "metadata": {},
     "output_type": "display_data"
    },
    {
     "data": {
      "text/markdown": [
       "<text style=font-weight:bold;font-size:16px;font-family:serif>1 итерация<text>"
      ],
      "text/plain": [
       "<IPython.core.display.Markdown object>"
      ]
     },
     "metadata": {},
     "output_type": "display_data"
    },
    {
     "data": {
      "text/latex": [
       "$\\displaystyle \\left[\\begin{matrix}\\left[\\begin{matrix}2.0 & -1.0 & 4.0\\\\0.0 & 1.5 & 1.0\\\\0.0 & 1.5 & 1.0\\end{matrix}\\right] & \\left[\\begin{matrix}2.0\\\\0.0\\\\-1.0\\end{matrix}\\right]\\end{matrix}\\right]$"
      ],
      "text/plain": [
       "Matrix([[Matrix([\n",
       "[2.0, -1.0, 4.0],\n",
       "[0.0,  1.5, 1.0],\n",
       "[0.0,  1.5, 1.0]]), Matrix([\n",
       "[ 2.0],\n",
       "[ 0.0],\n",
       "[-1.0]])]])"
      ]
     },
     "metadata": {},
     "output_type": "display_data"
    },
    {
     "data": {
      "text/markdown": [
       "<text style=font-weight:bold;font-size:16px;font-family:serif>2 итерация<text>"
      ],
      "text/plain": [
       "<IPython.core.display.Markdown object>"
      ]
     },
     "metadata": {},
     "output_type": "display_data"
    },
    {
     "data": {
      "text/latex": [
       "$\\displaystyle \\left[\\begin{matrix}\\left[\\begin{matrix}2.0 & -1.0 & 4.0\\\\0.0 & 1.5 & 1.0\\\\0.0 & 0.0 & 0.0\\end{matrix}\\right] & \\left[\\begin{matrix}2.0\\\\0.0\\\\-1.0\\end{matrix}\\right]\\end{matrix}\\right]$"
      ],
      "text/plain": [
       "Matrix([[Matrix([\n",
       "[2.0, -1.0, 4.0],\n",
       "[0.0,  1.5, 1.0],\n",
       "[0.0,  0.0, 0.0]]), Matrix([\n",
       "[ 2.0],\n",
       "[ 0.0],\n",
       "[-1.0]])]])"
      ]
     },
     "metadata": {},
     "output_type": "display_data"
    },
    {
     "name": "stderr",
     "output_type": "stream",
     "text": [
      "<ipython-input-11-d38b6c41687f>:9: UserWarning: Определитель равен 0\n",
      "  warnings.warn(\"Определитель равен 0\")  # печатаем ошибку\n"
     ]
    }
   ],
   "source": [
    "gaussian_elimination(test_A_Err, test_f_Err)"
   ]
  },
  {
   "cell_type": "code",
   "execution_count": 13,
   "metadata": {},
   "outputs": [
    {
     "data": {
      "text/markdown": [
       "<text style=font-weight:bold;font-size:16px;font-family:serif>Исходные данные<text>"
      ],
      "text/plain": [
       "<IPython.core.display.Markdown object>"
      ]
     },
     "metadata": {},
     "output_type": "display_data"
    },
    {
     "data": {
      "text/latex": [
       "$\\displaystyle \\left[\\begin{matrix}\\left[\\begin{matrix}1.0 & 0.17 & -0.25 & 0.54\\\\0.47 & 1.0 & 0.67 & -0.32\\\\-0.11 & 0.35 & 1.0 & -0.74\\\\0.55 & 0.43 & 0.36 & 1.0\\end{matrix}\\right] & \\left[\\begin{matrix}0.3\\\\0.5\\\\0.7\\\\0.9\\end{matrix}\\right]\\end{matrix}\\right]$"
      ],
      "text/plain": [
       "Matrix([[Matrix([\n",
       "[  1.0, 0.17, -0.25,  0.54],\n",
       "[ 0.47,  1.0,  0.67, -0.32],\n",
       "[-0.11, 0.35,   1.0, -0.74],\n",
       "[ 0.55, 0.43,  0.36,   1.0]]), Matrix([\n",
       "[0.3],\n",
       "[0.5],\n",
       "[0.7],\n",
       "[0.9]])]])"
      ]
     },
     "metadata": {},
     "output_type": "display_data"
    },
    {
     "data": {
      "text/markdown": [
       "<text style=font-weight:bold;font-size:16px;font-family:serif>1 итерация<text>"
      ],
      "text/plain": [
       "<IPython.core.display.Markdown object>"
      ]
     },
     "metadata": {},
     "output_type": "display_data"
    },
    {
     "data": {
      "text/latex": [
       "$\\displaystyle \\left[\\begin{matrix}\\left[\\begin{matrix}1.0 & 0.17 & -0.25 & 0.54\\\\0.0 & 0.9201 & 0.7875 & -0.5738\\\\0.0 & 0.3687 & 0.9725 & -0.6806\\\\0.0 & 0.3365 & 0.4975 & 0.703\\end{matrix}\\right] & \\left[\\begin{matrix}0.3\\\\0.359\\\\0.733\\\\0.735\\end{matrix}\\right]\\end{matrix}\\right]$"
      ],
      "text/plain": [
       "Matrix([[Matrix([\n",
       "[1.0,   0.17,  -0.25,    0.54],\n",
       "[0.0, 0.9201, 0.7875, -0.5738],\n",
       "[0.0, 0.3687, 0.9725, -0.6806],\n",
       "[0.0, 0.3365, 0.4975,   0.703]]), Matrix([\n",
       "[  0.3],\n",
       "[0.359],\n",
       "[0.733],\n",
       "[0.735]])]])"
      ]
     },
     "metadata": {},
     "output_type": "display_data"
    },
    {
     "data": {
      "text/markdown": [
       "<text style=font-weight:bold;font-size:16px;font-family:serif>2 итерация<text>"
      ],
      "text/plain": [
       "<IPython.core.display.Markdown object>"
      ]
     },
     "metadata": {},
     "output_type": "display_data"
    },
    {
     "data": {
      "text/latex": [
       "$\\displaystyle \\left[\\begin{matrix}\\left[\\begin{matrix}1.0 & 0.17 & -0.25 & 0.54\\\\0.0 & 0.9201 & 0.7875 & -0.5738\\\\0.0 & 0.0 & 0.6569351157 & -0.4506684056\\\\0.0 & 0.0 & 0.2094946201 & 0.9128507771\\end{matrix}\\right] & \\left[\\begin{matrix}0.3\\\\0.359\\\\0.5891424845\\\\0.6037061189\\end{matrix}\\right]\\end{matrix}\\right]$"
      ],
      "text/plain": [
       "Matrix([[Matrix([\n",
       "[1.0,   0.17,        -0.25,          0.54],\n",
       "[0.0, 0.9201,       0.7875,       -0.5738],\n",
       "[0.0,    0.0, 0.6569351157, -0.4506684056],\n",
       "[0.0,    0.0, 0.2094946201,  0.9128507771]]), Matrix([\n",
       "[         0.3],\n",
       "[       0.359],\n",
       "[0.5891424845],\n",
       "[0.6037061189]])]])"
      ]
     },
     "metadata": {},
     "output_type": "display_data"
    },
    {
     "data": {
      "text/markdown": [
       "<text style=font-weight:bold;font-size:16px;font-family:serif>3 итерация<text>"
      ],
      "text/plain": [
       "<IPython.core.display.Markdown object>"
      ]
     },
     "metadata": {},
     "output_type": "display_data"
    },
    {
     "data": {
      "text/latex": [
       "$\\displaystyle \\left[\\begin{matrix}\\left[\\begin{matrix}1.0 & 0.17 & -0.25 & 0.54\\\\0.0 & 0.9201 & 0.7875 & -0.5738\\\\0.0 & 0.0 & 0.6569351157 & -0.4506684056\\\\0.0 & 0.0 & 0.0 & 1.0565675677\\end{matrix}\\right] & \\left[\\begin{matrix}0.3\\\\0.359\\\\0.5891424845\\\\0.4158303637\\end{matrix}\\right]\\end{matrix}\\right]$"
      ],
      "text/plain": [
       "Matrix([[Matrix([\n",
       "[1.0,   0.17,        -0.25,          0.54],\n",
       "[0.0, 0.9201,       0.7875,       -0.5738],\n",
       "[0.0,    0.0, 0.6569351157, -0.4506684056],\n",
       "[0.0,    0.0,          0.0,  1.0565675677]]), Matrix([\n",
       "[         0.3],\n",
       "[       0.359],\n",
       "[0.5891424845],\n",
       "[0.4158303637]])]])"
      ]
     },
     "metadata": {},
     "output_type": "display_data"
    },
    {
     "data": {
      "text/markdown": [
       "<text style=font-weight:bold;font-size:16px;font-family:serif>4 итерация<text>"
      ],
      "text/plain": [
       "<IPython.core.display.Markdown object>"
      ]
     },
     "metadata": {},
     "output_type": "display_data"
    },
    {
     "data": {
      "text/latex": [
       "$\\displaystyle \\left[\\begin{matrix}\\left[\\begin{matrix}1.0 & 0.17 & -0.25 & 0.54\\\\0.0 & 0.9201 & 0.7875 & -0.5738\\\\0.0 & 0.0 & 0.6569351157 & -0.4506684056\\\\0.0 & 0.0 & 0.0 & 1.0565675677\\end{matrix}\\right] & \\left[\\begin{matrix}0.3\\\\0.359\\\\0.5891424845\\\\0.4158303637\\end{matrix}\\right]\\end{matrix}\\right]$"
      ],
      "text/plain": [
       "Matrix([[Matrix([\n",
       "[1.0,   0.17,        -0.25,          0.54],\n",
       "[0.0, 0.9201,       0.7875,       -0.5738],\n",
       "[0.0,    0.0, 0.6569351157, -0.4506684056],\n",
       "[0.0,    0.0,          0.0,  1.0565675677]]), Matrix([\n",
       "[         0.3],\n",
       "[       0.359],\n",
       "[0.5891424845],\n",
       "[0.4158303637]])]])"
      ]
     },
     "metadata": {},
     "output_type": "display_data"
    },
    {
     "data": {
      "text/markdown": [
       "<text style=font-weight:bold;font-size:16px;font-family:serif>Ответ<text>"
      ],
      "text/plain": [
       "<IPython.core.display.Markdown object>"
      ]
     },
     "metadata": {},
     "output_type": "display_data"
    },
    {
     "data": {
      "text/latex": [
       "$\\displaystyle \\left[\\begin{matrix}0.4408885509\\\\-0.3630309901\\\\1.1667983323\\\\0.3935672231\\end{matrix}\\right]$"
      ],
      "text/plain": [
       "Matrix([\n",
       "[ 0.4408885509],\n",
       "[-0.3630309901],\n",
       "[ 1.1667983323],\n",
       "[ 0.3935672231]])"
      ]
     },
     "metadata": {},
     "output_type": "display_data"
    }
   ],
   "source": [
    "np.testing.assert_allclose(np.linalg.solve(A, f),\n",
    "                           gaussian_elimination(A, f))"
   ]
  },
  {
   "cell_type": "code",
   "execution_count": 14,
   "metadata": {},
   "outputs": [
    {
     "data": {
      "text/markdown": [
       "<text style=font-weight:bold;font-size:16px;font-family:serif>Исходные данные<text>"
      ],
      "text/plain": [
       "<IPython.core.display.Markdown object>"
      ]
     },
     "metadata": {},
     "output_type": "display_data"
    },
    {
     "data": {
      "text/latex": [
       "$\\displaystyle \\left[\\begin{matrix}\\left[\\begin{matrix}2.0 & -1.4 & 0.0\\\\-0.6 & 0.4 & 1.2\\\\1.0 & -0.2 & 1.0\\end{matrix}\\right] & \\left[\\begin{matrix}1.4\\\\0.8\\\\1.2\\end{matrix}\\right]\\end{matrix}\\right]$"
      ],
      "text/plain": [
       "Matrix([[Matrix([\n",
       "[ 2.0, -1.4, 0.0],\n",
       "[-0.6,  0.4, 1.2],\n",
       "[ 1.0, -0.2, 1.0]]), Matrix([\n",
       "[1.4],\n",
       "[0.8],\n",
       "[1.2]])]])"
      ]
     },
     "metadata": {},
     "output_type": "display_data"
    },
    {
     "data": {
      "text/markdown": [
       "<text style=font-weight:bold;font-size:16px;font-family:serif>1 итерация<text>"
      ],
      "text/plain": [
       "<IPython.core.display.Markdown object>"
      ]
     },
     "metadata": {},
     "output_type": "display_data"
    },
    {
     "data": {
      "text/latex": [
       "$\\displaystyle \\left[\\begin{matrix}\\left[\\begin{matrix}2.0 & -1.4 & 0.0\\\\0.0 & -0.02 & 1.2\\\\0.0 & 0.5 & 1.0\\end{matrix}\\right] & \\left[\\begin{matrix}1.4\\\\1.22\\\\0.5\\end{matrix}\\right]\\end{matrix}\\right]$"
      ],
      "text/plain": [
       "Matrix([[Matrix([\n",
       "[2.0,  -1.4, 0.0],\n",
       "[0.0, -0.02, 1.2],\n",
       "[0.0,   0.5, 1.0]]), Matrix([\n",
       "[ 1.4],\n",
       "[1.22],\n",
       "[ 0.5]])]])"
      ]
     },
     "metadata": {},
     "output_type": "display_data"
    },
    {
     "data": {
      "text/markdown": [
       "<text style=font-weight:bold;font-size:16px;font-family:serif>2 итерация<text>"
      ],
      "text/plain": [
       "<IPython.core.display.Markdown object>"
      ]
     },
     "metadata": {},
     "output_type": "display_data"
    },
    {
     "data": {
      "text/latex": [
       "$\\displaystyle \\left[\\begin{matrix}\\left[\\begin{matrix}2.0 & -1.4 & 0.0\\\\0.0 & 0.5 & 1.0\\\\0.0 & 0.0 & 1.24\\end{matrix}\\right] & \\left[\\begin{matrix}1.4\\\\0.5\\\\1.24\\end{matrix}\\right]\\end{matrix}\\right]$"
      ],
      "text/plain": [
       "Matrix([[Matrix([\n",
       "[2.0, -1.4,  0.0],\n",
       "[0.0,  0.5,  1.0],\n",
       "[0.0,  0.0, 1.24]]), Matrix([\n",
       "[ 1.4],\n",
       "[ 0.5],\n",
       "[1.24]])]])"
      ]
     },
     "metadata": {},
     "output_type": "display_data"
    },
    {
     "data": {
      "text/markdown": [
       "<text style=font-weight:bold;font-size:16px;font-family:serif>3 итерация<text>"
      ],
      "text/plain": [
       "<IPython.core.display.Markdown object>"
      ]
     },
     "metadata": {},
     "output_type": "display_data"
    },
    {
     "data": {
      "text/latex": [
       "$\\displaystyle \\left[\\begin{matrix}\\left[\\begin{matrix}2.0 & -1.4 & 0.0\\\\0.0 & 0.5 & 1.0\\\\0.0 & 0.0 & 1.24\\end{matrix}\\right] & \\left[\\begin{matrix}1.4\\\\0.5\\\\1.24\\end{matrix}\\right]\\end{matrix}\\right]$"
      ],
      "text/plain": [
       "Matrix([[Matrix([\n",
       "[2.0, -1.4,  0.0],\n",
       "[0.0,  0.5,  1.0],\n",
       "[0.0,  0.0, 1.24]]), Matrix([\n",
       "[ 1.4],\n",
       "[ 0.5],\n",
       "[1.24]])]])"
      ]
     },
     "metadata": {},
     "output_type": "display_data"
    },
    {
     "data": {
      "text/markdown": [
       "<text style=font-weight:bold;font-size:16px;font-family:serif>Ответ<text>"
      ],
      "text/plain": [
       "<IPython.core.display.Markdown object>"
      ]
     },
     "metadata": {},
     "output_type": "display_data"
    },
    {
     "data": {
      "text/latex": [
       "$\\displaystyle \\left[\\begin{matrix}0.0\\\\-1.0\\\\1.0\\end{matrix}\\right]$"
      ],
      "text/plain": [
       "Matrix([\n",
       "[ 0.0],\n",
       "[-1.0],\n",
       "[ 1.0]])"
      ]
     },
     "metadata": {},
     "output_type": "display_data"
    }
   ],
   "source": [
    "np.testing.assert_allclose(np.linalg.solve(test_A1, test_f1),\n",
    "                           gaussian_elimination(test_A1, test_f1))"
   ]
  },
  {
   "cell_type": "code",
   "execution_count": 15,
   "metadata": {},
   "outputs": [
    {
     "data": {
      "text/markdown": [
       "<text style=font-weight:bold;font-size:16px;font-family:serif>Исходные данные<text>"
      ],
      "text/plain": [
       "<IPython.core.display.Markdown object>"
      ]
     },
     "metadata": {},
     "output_type": "display_data"
    },
    {
     "data": {
      "text/latex": [
       "$\\displaystyle \\left[\\begin{matrix}\\left[\\begin{matrix}0.25 & 0.5\\\\0.75 & 1.0\\end{matrix}\\right] & \\left[\\begin{matrix}0.75 & 1.25\\\\1.25 & 2.25\\end{matrix}\\right]\\end{matrix}\\right]$"
      ],
      "text/plain": [
       "Matrix([[Matrix([\n",
       "[0.25, 0.5],\n",
       "[0.75, 1.0]]), Matrix([\n",
       "[0.75, 1.25],\n",
       "[1.25, 2.25]])]])"
      ]
     },
     "metadata": {},
     "output_type": "display_data"
    },
    {
     "data": {
      "text/markdown": [
       "<text style=font-weight:bold;font-size:16px;font-family:serif>1 итерация<text>"
      ],
      "text/plain": [
       "<IPython.core.display.Markdown object>"
      ]
     },
     "metadata": {},
     "output_type": "display_data"
    },
    {
     "data": {
      "text/latex": [
       "$\\displaystyle \\left[\\begin{matrix}\\left[\\begin{matrix}0.75 & 1.0\\\\0.0 & 0.1666666667\\end{matrix}\\right] & \\left[\\begin{matrix}1.25 & 2.25\\\\0.3333333333 & 0.5\\end{matrix}\\right]\\end{matrix}\\right]$"
      ],
      "text/plain": [
       "Matrix([[Matrix([\n",
       "[0.75,          1.0],\n",
       "[ 0.0, 0.1666666667]]), Matrix([\n",
       "[        1.25, 2.25],\n",
       "[0.3333333333,  0.5]])]])"
      ]
     },
     "metadata": {},
     "output_type": "display_data"
    },
    {
     "data": {
      "text/markdown": [
       "<text style=font-weight:bold;font-size:16px;font-family:serif>2 итерация<text>"
      ],
      "text/plain": [
       "<IPython.core.display.Markdown object>"
      ]
     },
     "metadata": {},
     "output_type": "display_data"
    },
    {
     "data": {
      "text/latex": [
       "$\\displaystyle \\left[\\begin{matrix}\\left[\\begin{matrix}0.75 & 1.0\\\\0.0 & 0.1666666667\\end{matrix}\\right] & \\left[\\begin{matrix}1.25 & 2.25\\\\0.3333333333 & 0.5\\end{matrix}\\right]\\end{matrix}\\right]$"
      ],
      "text/plain": [
       "Matrix([[Matrix([\n",
       "[0.75,          1.0],\n",
       "[ 0.0, 0.1666666667]]), Matrix([\n",
       "[        1.25, 2.25],\n",
       "[0.3333333333,  0.5]])]])"
      ]
     },
     "metadata": {},
     "output_type": "display_data"
    },
    {
     "data": {
      "text/markdown": [
       "<text style=font-weight:bold;font-size:16px;font-family:serif>Ответ<text>"
      ],
      "text/plain": [
       "<IPython.core.display.Markdown object>"
      ]
     },
     "metadata": {},
     "output_type": "display_data"
    },
    {
     "data": {
      "text/latex": [
       "$\\displaystyle \\left[\\begin{matrix}-1.0 & -1.0\\\\2.0 & 3.0\\end{matrix}\\right]$"
      ],
      "text/plain": [
       "Matrix([\n",
       "[-1.0, -1.0],\n",
       "[ 2.0,  3.0]])"
      ]
     },
     "metadata": {},
     "output_type": "display_data"
    }
   ],
   "source": [
    "np.testing.assert_allclose(np.linalg.solve(test_A2, test_f2),\n",
    "                           gaussian_elimination(test_A2, test_f2))"
   ]
  },
  {
   "cell_type": "code",
   "execution_count": 33,
   "metadata": {},
   "outputs": [
    {
     "data": {
      "text/markdown": [
       "<text style=font-weight:bold;font-size:16px;font-family:serif>Исходные данные<text>"
      ],
      "text/plain": [
       "<IPython.core.display.Markdown object>"
      ]
     },
     "metadata": {},
     "output_type": "display_data"
    },
    {
     "data": {
      "text/latex": [
       "$\\displaystyle \\left[\\begin{matrix}\\left[\\begin{matrix}0.1 & 0.2 & 0.3\\\\0.4 & 0.5 & 0.6\\\\0.1 & 0.0 & 0.1\\end{matrix}\\right] & \\left[\\begin{matrix}0.1\\\\0.1\\\\0.1\\end{matrix}\\right]\\end{matrix}\\right]$"
      ],
      "text/plain": [
       "Matrix([[Matrix([\n",
       "[0.1, 0.2, 0.3],\n",
       "[0.4, 0.5, 0.6],\n",
       "[0.1, 0.0, 0.1]]), Matrix([\n",
       "[0.1],\n",
       "[0.1],\n",
       "[0.1]])]])"
      ]
     },
     "metadata": {},
     "output_type": "display_data"
    },
    {
     "data": {
      "text/markdown": [
       "<text style=font-weight:bold;font-size:16px;font-family:serif>1 итерация<text>"
      ],
      "text/plain": [
       "<IPython.core.display.Markdown object>"
      ]
     },
     "metadata": {},
     "output_type": "display_data"
    },
    {
     "data": {
      "text/latex": [
       "$\\displaystyle \\left[\\begin{matrix}\\left[\\begin{matrix}0.4 & 0.5 & 0.6\\\\0.0 & 0.075 & 0.15\\\\0.0 & -0.125 & -0.05\\end{matrix}\\right] & \\left[\\begin{matrix}0.1\\\\0.075\\\\0.075\\end{matrix}\\right]\\end{matrix}\\right]$"
      ],
      "text/plain": [
       "Matrix([[Matrix([\n",
       "[0.4,    0.5,   0.6],\n",
       "[0.0,  0.075,  0.15],\n",
       "[0.0, -0.125, -0.05]]), Matrix([\n",
       "[  0.1],\n",
       "[0.075],\n",
       "[0.075]])]])"
      ]
     },
     "metadata": {},
     "output_type": "display_data"
    },
    {
     "data": {
      "text/markdown": [
       "<text style=font-weight:bold;font-size:16px;font-family:serif>2 итерация<text>"
      ],
      "text/plain": [
       "<IPython.core.display.Markdown object>"
      ]
     },
     "metadata": {},
     "output_type": "display_data"
    },
    {
     "data": {
      "text/latex": [
       "$\\displaystyle \\left[\\begin{matrix}\\left[\\begin{matrix}0.4 & 0.5 & 0.6\\\\0.0 & -0.125 & -0.05\\\\0.0 & 0.0 & 0.12\\end{matrix}\\right] & \\left[\\begin{matrix}0.1\\\\0.075\\\\0.12\\end{matrix}\\right]\\end{matrix}\\right]$"
      ],
      "text/plain": [
       "Matrix([[Matrix([\n",
       "[0.4,    0.5,   0.6],\n",
       "[0.0, -0.125, -0.05],\n",
       "[0.0,    0.0,  0.12]]), Matrix([\n",
       "[  0.1],\n",
       "[0.075],\n",
       "[ 0.12]])]])"
      ]
     },
     "metadata": {},
     "output_type": "display_data"
    },
    {
     "data": {
      "text/markdown": [
       "<text style=font-weight:bold;font-size:16px;font-family:serif>3 итерация<text>"
      ],
      "text/plain": [
       "<IPython.core.display.Markdown object>"
      ]
     },
     "metadata": {},
     "output_type": "display_data"
    },
    {
     "data": {
      "text/latex": [
       "$\\displaystyle \\left[\\begin{matrix}\\left[\\begin{matrix}0.4 & 0.5 & 0.6\\\\0.0 & -0.125 & -0.05\\\\0.0 & 0.0 & 0.12\\end{matrix}\\right] & \\left[\\begin{matrix}0.1\\\\0.075\\\\0.12\\end{matrix}\\right]\\end{matrix}\\right]$"
      ],
      "text/plain": [
       "Matrix([[Matrix([\n",
       "[0.4,    0.5,   0.6],\n",
       "[0.0, -0.125, -0.05],\n",
       "[0.0,    0.0,  0.12]]), Matrix([\n",
       "[  0.1],\n",
       "[0.075],\n",
       "[ 0.12]])]])"
      ]
     },
     "metadata": {},
     "output_type": "display_data"
    },
    {
     "data": {
      "text/markdown": [
       "<text style=font-weight:bold;font-size:16px;font-family:serif>Ответ<text>"
      ],
      "text/plain": [
       "<IPython.core.display.Markdown object>"
      ]
     },
     "metadata": {},
     "output_type": "display_data"
    },
    {
     "data": {
      "text/latex": [
       "$\\displaystyle \\left[\\begin{matrix}0.0\\\\-1.0\\\\1.0\\end{matrix}\\right]$"
      ],
      "text/plain": [
       "Matrix([\n",
       "[ 0.0],\n",
       "[-1.0],\n",
       "[ 1.0]])"
      ]
     },
     "metadata": {},
     "output_type": "display_data"
    }
   ],
   "source": [
    "np.testing.assert_allclose(np.linalg.solve(test_A3, test_f3),\n",
    "                           gaussian_elimination(test_A3, test_f3), atol=10**-16)"
   ]
  },
  {
   "cell_type": "code",
   "execution_count": 19,
   "metadata": {},
   "outputs": [
    {
     "data": {
      "text/markdown": [
       "<text style=font-weight:bold;font-size:16px;font-family:serif>Исходные данные<text>"
      ],
      "text/plain": [
       "<IPython.core.display.Markdown object>"
      ]
     },
     "metadata": {},
     "output_type": "display_data"
    },
    {
     "data": {
      "text/latex": [
       "$\\displaystyle \\left[\\begin{matrix}\\left[\\begin{matrix}0.5 & 0.5 & 1.0 & 1.5\\\\0.5 & 1.0 & 1.5 & -0.5\\\\1.5 & -0.5 & -0.5 & -1.0\\\\1.0 & 1.5 & -0.5 & -0.5\\end{matrix}\\right] & \\left[\\begin{matrix}0.5\\\\-2.0\\\\-2.0\\\\-3.0\\end{matrix}\\right]\\end{matrix}\\right]$"
      ],
      "text/plain": [
       "Matrix([[Matrix([\n",
       "[0.5,  0.5,  1.0,  1.5],\n",
       "[0.5,  1.0,  1.5, -0.5],\n",
       "[1.5, -0.5, -0.5, -1.0],\n",
       "[1.0,  1.5, -0.5, -0.5]]), Matrix([\n",
       "[ 0.5],\n",
       "[-2.0],\n",
       "[-2.0],\n",
       "[-3.0]])]])"
      ]
     },
     "metadata": {},
     "output_type": "display_data"
    },
    {
     "data": {
      "text/markdown": [
       "<text style=font-weight:bold;font-size:16px;font-family:serif>1 итерация<text>"
      ],
      "text/plain": [
       "<IPython.core.display.Markdown object>"
      ]
     },
     "metadata": {},
     "output_type": "display_data"
    },
    {
     "data": {
      "text/latex": [
       "$\\displaystyle \\left[\\begin{matrix}\\left[\\begin{matrix}1.5 & -0.5 & -0.5 & -1.0\\\\0.0 & 1.1666666667 & 1.6666666667 & -0.1666666667\\\\0.0 & 0.6666666667 & 1.1666666667 & 1.8333333333\\\\0.0 & 1.8333333333 & -0.1666666667 & 0.1666666667\\end{matrix}\\right] & \\left[\\begin{matrix}-2.0\\\\-1.3333333333\\\\1.1666666667\\\\-1.6666666667\\end{matrix}\\right]\\end{matrix}\\right]$"
      ],
      "text/plain": [
       "Matrix([[Matrix([\n",
       "[1.5,         -0.5,          -0.5,          -1.0],\n",
       "[0.0, 1.1666666667,  1.6666666667, -0.1666666667],\n",
       "[0.0, 0.6666666667,  1.1666666667,  1.8333333333],\n",
       "[0.0, 1.8333333333, -0.1666666667,  0.1666666667]]), Matrix([\n",
       "[         -2.0],\n",
       "[-1.3333333333],\n",
       "[ 1.1666666667],\n",
       "[-1.6666666667]])]])"
      ]
     },
     "metadata": {},
     "output_type": "display_data"
    },
    {
     "data": {
      "text/markdown": [
       "<text style=font-weight:bold;font-size:16px;font-family:serif>2 итерация<text>"
      ],
      "text/plain": [
       "<IPython.core.display.Markdown object>"
      ]
     },
     "metadata": {},
     "output_type": "display_data"
    },
    {
     "data": {
      "text/latex": [
       "$\\displaystyle \\left[\\begin{matrix}\\left[\\begin{matrix}1.5 & -0.5 & -0.5 & -1.0\\\\0.0 & 1.8333333333 & -0.1666666667 & 0.1666666667\\\\0.0 & 0.0 & 1.2272727273 & 1.7727272727\\\\0.0 & 0.0 & 1.7727272727 & -0.2727272727\\end{matrix}\\right] & \\left[\\begin{matrix}-2.0\\\\-1.6666666667\\\\1.7727272727\\\\-0.2727272727\\end{matrix}\\right]\\end{matrix}\\right]$"
      ],
      "text/plain": [
       "Matrix([[Matrix([\n",
       "[1.5,         -0.5,          -0.5,          -1.0],\n",
       "[0.0, 1.8333333333, -0.1666666667,  0.1666666667],\n",
       "[0.0,          0.0,  1.2272727273,  1.7727272727],\n",
       "[0.0,          0.0,  1.7727272727, -0.2727272727]]), Matrix([\n",
       "[         -2.0],\n",
       "[-1.6666666667],\n",
       "[ 1.7727272727],\n",
       "[-0.2727272727]])]])"
      ]
     },
     "metadata": {},
     "output_type": "display_data"
    },
    {
     "data": {
      "text/markdown": [
       "<text style=font-weight:bold;font-size:16px;font-family:serif>3 итерация<text>"
      ],
      "text/plain": [
       "<IPython.core.display.Markdown object>"
      ]
     },
     "metadata": {},
     "output_type": "display_data"
    },
    {
     "data": {
      "text/latex": [
       "$\\displaystyle \\left[\\begin{matrix}\\left[\\begin{matrix}1.5 & -0.5 & -0.5 & -1.0\\\\0.0 & 1.8333333333 & -0.1666666667 & 0.1666666667\\\\0.0 & 0.0 & 1.7727272727 & -0.2727272727\\\\0.0 & 0.0 & 0.0 & 1.9615384615\\end{matrix}\\right] & \\left[\\begin{matrix}-2.0\\\\-1.6666666667\\\\-0.2727272727\\\\1.9615384615\\end{matrix}\\right]\\end{matrix}\\right]$"
      ],
      "text/plain": [
       "Matrix([[Matrix([\n",
       "[1.5,         -0.5,          -0.5,          -1.0],\n",
       "[0.0, 1.8333333333, -0.1666666667,  0.1666666667],\n",
       "[0.0,          0.0,  1.7727272727, -0.2727272727],\n",
       "[0.0,          0.0,           0.0,  1.9615384615]]), Matrix([\n",
       "[         -2.0],\n",
       "[-1.6666666667],\n",
       "[-0.2727272727],\n",
       "[ 1.9615384615]])]])"
      ]
     },
     "metadata": {},
     "output_type": "display_data"
    },
    {
     "data": {
      "text/markdown": [
       "<text style=font-weight:bold;font-size:16px;font-family:serif>4 итерация<text>"
      ],
      "text/plain": [
       "<IPython.core.display.Markdown object>"
      ]
     },
     "metadata": {},
     "output_type": "display_data"
    },
    {
     "data": {
      "text/latex": [
       "$\\displaystyle \\left[\\begin{matrix}\\left[\\begin{matrix}1.5 & -0.5 & -0.5 & -1.0\\\\0.0 & 1.8333333333 & -0.1666666667 & 0.1666666667\\\\0.0 & 0.0 & 1.7727272727 & -0.2727272727\\\\0.0 & 0.0 & 0.0 & 1.9615384615\\end{matrix}\\right] & \\left[\\begin{matrix}-2.0\\\\-1.6666666667\\\\-0.2727272727\\\\1.9615384615\\end{matrix}\\right]\\end{matrix}\\right]$"
      ],
      "text/plain": [
       "Matrix([[Matrix([\n",
       "[1.5,         -0.5,          -0.5,          -1.0],\n",
       "[0.0, 1.8333333333, -0.1666666667,  0.1666666667],\n",
       "[0.0,          0.0,  1.7727272727, -0.2727272727],\n",
       "[0.0,          0.0,           0.0,  1.9615384615]]), Matrix([\n",
       "[         -2.0],\n",
       "[-1.6666666667],\n",
       "[-0.2727272727],\n",
       "[ 1.9615384615]])]])"
      ]
     },
     "metadata": {},
     "output_type": "display_data"
    },
    {
     "data": {
      "text/markdown": [
       "<text style=font-weight:bold;font-size:16px;font-family:serif>Ответ<text>"
      ],
      "text/plain": [
       "<IPython.core.display.Markdown object>"
      ]
     },
     "metadata": {},
     "output_type": "display_data"
    },
    {
     "data": {
      "text/latex": [
       "$\\displaystyle \\left[\\begin{matrix}-1.0\\\\-1.0\\\\0.0\\\\1.0\\end{matrix}\\right]$"
      ],
      "text/plain": [
       "Matrix([\n",
       "[-1.0],\n",
       "[-1.0],\n",
       "[ 0.0],\n",
       "[ 1.0]])"
      ]
     },
     "metadata": {},
     "output_type": "display_data"
    }
   ],
   "source": [
    "np.testing.assert_allclose(np.linalg.solve(test_A4, test_f4),\n",
    "                           gaussian_elimination(test_A4, test_f4))"
   ]
  },
  {
   "cell_type": "code",
   "execution_count": 34,
   "metadata": {},
   "outputs": [
    {
     "data": {
      "text/markdown": [
       "<text style=font-weight:bold;font-size:16px;font-family:serif>Исходные данные<text>"
      ],
      "text/plain": [
       "<IPython.core.display.Markdown object>"
      ]
     },
     "metadata": {},
     "output_type": "display_data"
    },
    {
     "data": {
      "text/latex": [
       "$\\displaystyle \\left[\\begin{matrix}\\left[\\begin{matrix}0.5 & -1.0 & -0.5\\\\-1.5 & 1.0 & 1.0\\\\1.5 & -0.5 & -1.0\\end{matrix}\\right] & \\left[\\begin{matrix}0.5 & 0.0\\\\1.0 & -1.0\\\\-1.5 & 0.5\\end{matrix}\\right]\\end{matrix}\\right]$"
      ],
      "text/plain": [
       "Matrix([[Matrix([\n",
       "[ 0.5, -1.0, -0.5],\n",
       "[-1.5,  1.0,  1.0],\n",
       "[ 1.5, -0.5, -1.0]]), Matrix([\n",
       "[ 0.5,  0.0],\n",
       "[ 1.0, -1.0],\n",
       "[-1.5,  0.5]])]])"
      ]
     },
     "metadata": {},
     "output_type": "display_data"
    },
    {
     "data": {
      "text/markdown": [
       "<text style=font-weight:bold;font-size:16px;font-family:serif>1 итерация<text>"
      ],
      "text/plain": [
       "<IPython.core.display.Markdown object>"
      ]
     },
     "metadata": {},
     "output_type": "display_data"
    },
    {
     "data": {
      "text/latex": [
       "$\\displaystyle \\left[\\begin{matrix}\\left[\\begin{matrix}-1.5 & 1.0 & 1.0\\\\0.0 & -0.6666666667 & -0.1666666667\\\\0.0 & 0.5 & 0.0\\end{matrix}\\right] & \\left[\\begin{matrix}1.0 & -1.0\\\\0.8333333333 & -0.3333333333\\\\-0.5 & -0.5\\end{matrix}\\right]\\end{matrix}\\right]$"
      ],
      "text/plain": [
       "Matrix([[Matrix([\n",
       "[-1.5,           1.0,           1.0],\n",
       "[ 0.0, -0.6666666667, -0.1666666667],\n",
       "[ 0.0,           0.5,           0.0]]), Matrix([\n",
       "[         1.0,          -1.0],\n",
       "[0.8333333333, -0.3333333333],\n",
       "[        -0.5,          -0.5]])]])"
      ]
     },
     "metadata": {},
     "output_type": "display_data"
    },
    {
     "data": {
      "text/markdown": [
       "<text style=font-weight:bold;font-size:16px;font-family:serif>2 итерация<text>"
      ],
      "text/plain": [
       "<IPython.core.display.Markdown object>"
      ]
     },
     "metadata": {},
     "output_type": "display_data"
    },
    {
     "data": {
      "text/latex": [
       "$\\displaystyle \\left[\\begin{matrix}\\left[\\begin{matrix}-1.5 & 1.0 & 1.0\\\\0.0 & -0.6666666667 & -0.1666666667\\\\0.0 & 0.0 & -0.125\\end{matrix}\\right] & \\left[\\begin{matrix}1.0 & -1.0\\\\0.8333333333 & -0.3333333333\\\\0.125 & -0.75\\end{matrix}\\right]\\end{matrix}\\right]$"
      ],
      "text/plain": [
       "Matrix([[Matrix([\n",
       "[-1.5,           1.0,           1.0],\n",
       "[ 0.0, -0.6666666667, -0.1666666667],\n",
       "[ 0.0,           0.0,        -0.125]]), Matrix([\n",
       "[         1.0,          -1.0],\n",
       "[0.8333333333, -0.3333333333],\n",
       "[       0.125,         -0.75]])]])"
      ]
     },
     "metadata": {},
     "output_type": "display_data"
    },
    {
     "data": {
      "text/markdown": [
       "<text style=font-weight:bold;font-size:16px;font-family:serif>3 итерация<text>"
      ],
      "text/plain": [
       "<IPython.core.display.Markdown object>"
      ]
     },
     "metadata": {},
     "output_type": "display_data"
    },
    {
     "data": {
      "text/latex": [
       "$\\displaystyle \\left[\\begin{matrix}\\left[\\begin{matrix}-1.5 & 1.0 & 1.0\\\\0.0 & -0.6666666667 & -0.1666666667\\\\0.0 & 0.0 & -0.125\\end{matrix}\\right] & \\left[\\begin{matrix}1.0 & -1.0\\\\0.8333333333 & -0.3333333333\\\\0.125 & -0.75\\end{matrix}\\right]\\end{matrix}\\right]$"
      ],
      "text/plain": [
       "Matrix([[Matrix([\n",
       "[-1.5,           1.0,           1.0],\n",
       "[ 0.0, -0.6666666667, -0.1666666667],\n",
       "[ 0.0,           0.0,        -0.125]]), Matrix([\n",
       "[         1.0,          -1.0],\n",
       "[0.8333333333, -0.3333333333],\n",
       "[       0.125,         -0.75]])]])"
      ]
     },
     "metadata": {},
     "output_type": "display_data"
    },
    {
     "data": {
      "text/markdown": [
       "<text style=font-weight:bold;font-size:16px;font-family:serif>Ответ<text>"
      ],
      "text/plain": [
       "<IPython.core.display.Markdown object>"
      ]
     },
     "metadata": {},
     "output_type": "display_data"
    },
    {
     "data": {
      "text/latex": [
       "$\\displaystyle \\left[\\begin{matrix}-2.0 & 4.0\\\\-1.0 & -1.0\\\\-1.0 & 6.0\\end{matrix}\\right]$"
      ],
      "text/plain": [
       "Matrix([\n",
       "[-2.0,  4.0],\n",
       "[-1.0, -1.0],\n",
       "[-1.0,  6.0]])"
      ]
     },
     "metadata": {},
     "output_type": "display_data"
    }
   ],
   "source": [
    "np.testing.assert_allclose(np.linalg.solve(test_A5, test_f5),\n",
    "                           gaussian_elimination(test_A5, test_f5))"
   ]
  }
 ],
 "metadata": {
  "kernelspec": {
   "display_name": "Python 3",
   "language": "python",
   "name": "python3"
  },
  "language_info": {
   "codemirror_mode": {
    "name": "ipython",
    "version": 3
   },
   "file_extension": ".py",
   "mimetype": "text/x-python",
   "name": "python",
   "nbconvert_exporter": "python",
   "pygments_lexer": "ipython3",
   "version": "3.9.1"
  }
 },
 "nbformat": 4,
 "nbformat_minor": 4
}

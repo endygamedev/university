{
 "cells": [
  {
   "cell_type": "markdown",
   "metadata": {},
   "source": [
    "# Метод Гаусса с частичным выбором ведущего элемента"
   ]
  },
  {
   "cell_type": "markdown",
   "metadata": {},
   "source": [
    "## Импорт модулей"
   ]
  },
  {
   "cell_type": "code",
   "execution_count": 1,
   "metadata": {},
   "outputs": [],
   "source": [
    "import numpy as np        # для работы с матрицами и веторами\n",
    "from typing import Union  # для работы с типизацией\n",
    "import warnings           # для работы с ошибками\n",
    "import sympy as sp        # для красивого вывода промежуточных результатов\n",
    "from IPython.display import Markdown, display  # для красивого вывода текста"
   ]
  },
  {
   "cell_type": "markdown",
   "metadata": {},
   "source": [
    "## Входные данные"
   ]
  },
  {
   "cell_type": "code",
   "execution_count": 2,
   "metadata": {},
   "outputs": [],
   "source": [
    "A = np.matrix([[1.00, 0.17, -0.25, 0.54],\n",
    "               [0.47, 1.00, 0.67, -0.32],\n",
    "               [-0.11, 0.35, 1.00, -0.74],\n",
    "               [0.55, 0.43, 0.36, 1.00]],\n",
    "               dtype=np.dtype(np.float64))"
   ]
  },
  {
   "cell_type": "code",
   "execution_count": 3,
   "metadata": {},
   "outputs": [],
   "source": [
    "f = np.array([0.3, 0.5, 0.7, 0.9],\n",
    "             dtype=np.dtype(np.float64))"
   ]
  },
  {
   "cell_type": "markdown",
   "metadata": {},
   "source": [
    "## Тестовые наборы данных"
   ]
  },
  {
   "cell_type": "code",
   "execution_count": 4,
   "metadata": {},
   "outputs": [],
   "source": [
    "test_A1 = np.matrix([[ 2. , -1.4,  0. ],\n",
    "                     [-0.6,  0.4,  1.2],\n",
    "                     [ 1. , -0.2,  1. ]],\n",
    "                    dtype=np.dtype(np.float64))\n",
    "\n",
    "test_f1 = np.array([1.4, 0.8, 1.2],\n",
    "                  dtype=np.dtype(np.float64))"
   ]
  },
  {
   "cell_type": "code",
   "execution_count": 5,
   "metadata": {},
   "outputs": [],
   "source": [
    "test_A2 = np.matrix([[0.25, 0.5 ],\n",
    "                     [0.75, 1.  ]],\n",
    "                     dtype=np.dtype(np.float64))\n",
    "\n",
    "test_f2 = np.matrix([[0.75, 1.25],\n",
    "                     [1.25, 2.25]],\n",
    "                     dtype=np.dtype(np.float64))"
   ]
  },
  {
   "cell_type": "code",
   "execution_count": 6,
   "metadata": {},
   "outputs": [],
   "source": [
    "test_A3 = np.matrix([[0.1, 0.2, 0.3],\n",
    "                     [0.4, 0.5, 0.6],\n",
    "                     [0.1, 0. , 0.1]],\n",
    "                     dtype=np.dtype(np.float64))\n",
    "\n",
    "test_f3 = np.array([0.1, 0.1, 0.1],\n",
    "                   dtype=np.dtype(np.float64))"
   ]
  },
  {
   "cell_type": "code",
   "execution_count": 7,
   "metadata": {},
   "outputs": [],
   "source": [
    "test_A4 = np.matrix([[ 0.5,  0.5,  1. ,  1.5],\n",
    "                     [ 0.5,  1. ,  1.5, -0.5],\n",
    "                     [ 1.5, -0.5, -0.5, -1. ],\n",
    "                     [ 1. ,  1.5, -0.5, -0.5]],\n",
    "                     dtype=np.dtype(np.float64))\n",
    "\n",
    "test_f4 = np.array([0.5, -2., -2., -3.],\n",
    "                  dtype=np.dtype(np.float64))"
   ]
  },
  {
   "cell_type": "code",
   "execution_count": 8,
   "metadata": {},
   "outputs": [],
   "source": [
    "test_A5 = np.matrix([[ 0.5, -1. , -0.5],\n",
    "                     [-1.5,  1. ,  1. ],\n",
    "                     [ 1.5, -0.5, -1. ]],\n",
    "                     dtype=np.dtype(np.float64))\n",
    "\n",
    "test_f5 = np.matrix([[ 0.5,  0. ],\n",
    "                     [ 1. , -1. ],\n",
    "                     [-1.5,  0.5]],\n",
    "                     dtype=np.dtype(np.float64))"
   ]
  },
  {
   "cell_type": "code",
   "execution_count": 9,
   "metadata": {},
   "outputs": [],
   "source": [
    "test_A_Err = np.matrix([[1, 1, 3], [1, 1, 3], [2, -1, 4]],\n",
    "                      dtype=np.dtype(np.float64))\n",
    "test_f_Err = np.array([0., 1., 2.],\n",
    "                      dtype=np.dtype(np.float64))"
   ]
  },
  {
   "cell_type": "markdown",
   "metadata": {},
   "source": [
    "## Алгоритм"
   ]
  },
  {
   "cell_type": "code",
   "execution_count": 10,
   "metadata": {},
   "outputs": [],
   "source": [
    "def gaussian_elimination(A_arg: np.matrix, f_arg: Union[np.matrix, np.array]) -> Union[np.matrix, np.array]:\n",
    "    A, f = np.copy(A_arg), np.copy(f_arg)  # копируем аргументы, чтобы их не 'пачкать'\n",
    "    display(Markdown('<text style=font-weight:bold;font-size:16px;font-family:serif>Исходные данные<text>'),\n",
    "            sp.BlockMatrix([sp.Matrix(A.round(decimals=10)), sp.Matrix(f.round(decimals=10))]))\n",
    "    for i in range(len(A)):\n",
    "        column = np.abs(A[i:, i])      # берём i-ую колонку по модулю\n",
    "        leading_elem = np.max(column)  # методом частичного выбора находим ведущий элемент\n",
    "        if leading_elem == 0.:  # проверяем определитель (if ведущий элемент == 0, то det(A) = 0 => решений нет)\n",
    "            warnings.warn(\"Определитель равен 0\")  # печатаем ошибку\n",
    "            return  # заканчиваем выполнение программы\n",
    "        if np.where(column == leading_elem)[1][0] != 0:  # нужно ли нам менять строки (?)\n",
    "            pos_max = column.argmax() + i      # узнаём номер строки ведущего элемента\n",
    "            A[[i, pos_max]] = A[[pos_max, i]]  # меняем строки местами в матрице A\n",
    "            f[[i, pos_max]] = f[[pos_max, i]]  # меняем строки местами в матрице f\n",
    "        for j in range(i+1, len(A)):   # делаем верхний треугольник\n",
    "            coef = -(A[j, i]/A[i, i])  # считаем коэффициент\n",
    "            A[j] = coef * A[i] + A[j]  # домножаем `i` строку и прибавляем `j`\n",
    "            f[j] = coef * f[i] + f[j]\n",
    "        display(Markdown(f'<text style=font-weight:bold;font-size:17px;font-family:serif>{i+1} итерация<text>'),\n",
    "                sp.BlockMatrix([sp.Matrix(A.round(decimals=10)), sp.Matrix(f.round(decimals=10))]))  # выводим промежуточный результат\n",
    "    n = f.shape[0]  # размерность нашего ответа\n",
    "    X = np.zeros(shape=f.shape)   # заполняем наше будущее решение нулями\n",
    "    X[n-1] = f[n-1]/A[n-1, n-1]   # решаем последнее уравнение\n",
    "    for i in range(n-2, -1, -1):  # рассчитывает значения начиная с конца\n",
    "        sum_elem = sum(A[i, j] * X[j] for j in range(i+1, n))  # для известных `x` суммируем коэффициенты\n",
    "        X[i] = (f[i] - sum_elem)/A[i, i]  # находим `x`\n",
    "    display(Markdown('<text style=font-weight:bold;font-size:16px;font-family:serif>Ответ<text>'),\n",
    "            sp.Matrix(X.round(decimals=10)))  # выводим ответ\n",
    "    return X  # возвращаем ответ для проверки результата"
   ]
  },
  {
   "cell_type": "markdown",
   "metadata": {},
   "source": [
    "## Тесты"
   ]
  },
  {
   "cell_type": "code",
   "execution_count": 11,
   "metadata": {},
   "outputs": [
    {
     "data": {
      "text/markdown": [
       "<text style=font-weight:bold;font-size:16px;font-family:serif>Исходные данные<text>"
      ],
      "text/plain": [
       "<IPython.core.display.Markdown object>"
      ]
     },
     "metadata": {},
     "output_type": "display_data"
    },
    {
     "data": {
      "text/latex": [
       "$\\displaystyle \\left[\\begin{matrix}\\left[\\begin{matrix}1.0 & 1.0 & 3.0\\\\1.0 & 1.0 & 3.0\\\\2.0 & -1.0 & 4.0\\end{matrix}\\right] & \\left[\\begin{matrix}0.0\\\\1.0\\\\2.0\\end{matrix}\\right]\\end{matrix}\\right]$"
      ],
      "text/plain": [
       "Matrix([[Matrix([\n",
       "[1.0,  1.0, 3.0],\n",
       "[1.0,  1.0, 3.0],\n",
       "[2.0, -1.0, 4.0]]), Matrix([\n",
       "[0.0],\n",
       "[1.0],\n",
       "[2.0]])]])"
      ]
     },
     "metadata": {},
     "output_type": "display_data"
    },
    {
     "ename": "IndexError",
     "evalue": "tuple index out of range",
     "output_type": "error",
     "traceback": [
      "\u001b[0;31m---------------------------------------------------------------------------\u001b[0m",
      "\u001b[0;31mIndexError\u001b[0m                                Traceback (most recent call last)",
      "\u001b[0;32m<ipython-input-11-db49dae44934>\u001b[0m in \u001b[0;36m<module>\u001b[0;34m\u001b[0m\n\u001b[0;32m----> 1\u001b[0;31m \u001b[0mgaussian_elimination\u001b[0m\u001b[0;34m(\u001b[0m\u001b[0mtest_A_Err\u001b[0m\u001b[0;34m,\u001b[0m \u001b[0mtest_f_Err\u001b[0m\u001b[0;34m)\u001b[0m\u001b[0;34m\u001b[0m\u001b[0;34m\u001b[0m\u001b[0m\n\u001b[0m",
      "\u001b[0;32m<ipython-input-10-2b505abed0ce>\u001b[0m in \u001b[0;36mgaussian_elimination\u001b[0;34m(A_arg, f_arg)\u001b[0m\n\u001b[1;32m      9\u001b[0m             \u001b[0mwarnings\u001b[0m\u001b[0;34m.\u001b[0m\u001b[0mwarn\u001b[0m\u001b[0;34m(\u001b[0m\u001b[0;34m\"Определитель равен 0\"\u001b[0m\u001b[0;34m)\u001b[0m  \u001b[0;31m# печатаем ошибку\u001b[0m\u001b[0;34m\u001b[0m\u001b[0;34m\u001b[0m\u001b[0m\n\u001b[1;32m     10\u001b[0m             \u001b[0;32mreturn\u001b[0m  \u001b[0;31m# заканчиваем выполнение программы\u001b[0m\u001b[0;34m\u001b[0m\u001b[0;34m\u001b[0m\u001b[0m\n\u001b[0;32m---> 11\u001b[0;31m         \u001b[0;32mif\u001b[0m \u001b[0mnp\u001b[0m\u001b[0;34m.\u001b[0m\u001b[0mwhere\u001b[0m\u001b[0;34m(\u001b[0m\u001b[0mcolumn\u001b[0m \u001b[0;34m==\u001b[0m \u001b[0mleading_elem\u001b[0m\u001b[0;34m)\u001b[0m\u001b[0;34m[\u001b[0m\u001b[0;36m1\u001b[0m\u001b[0;34m]\u001b[0m\u001b[0;34m[\u001b[0m\u001b[0;36m0\u001b[0m\u001b[0;34m]\u001b[0m \u001b[0;34m!=\u001b[0m \u001b[0;36m0\u001b[0m\u001b[0;34m:\u001b[0m  \u001b[0;31m# нужно ли нам менять строки (?)\u001b[0m\u001b[0;34m\u001b[0m\u001b[0;34m\u001b[0m\u001b[0m\n\u001b[0m\u001b[1;32m     12\u001b[0m             \u001b[0mpos_max\u001b[0m \u001b[0;34m=\u001b[0m \u001b[0mcolumn\u001b[0m\u001b[0;34m.\u001b[0m\u001b[0margmax\u001b[0m\u001b[0;34m(\u001b[0m\u001b[0;34m)\u001b[0m \u001b[0;34m+\u001b[0m \u001b[0mi\u001b[0m      \u001b[0;31m# узнаём номер строки ведущего элемента\u001b[0m\u001b[0;34m\u001b[0m\u001b[0;34m\u001b[0m\u001b[0m\n\u001b[1;32m     13\u001b[0m             \u001b[0mA\u001b[0m\u001b[0;34m[\u001b[0m\u001b[0;34m[\u001b[0m\u001b[0mi\u001b[0m\u001b[0;34m,\u001b[0m \u001b[0mpos_max\u001b[0m\u001b[0;34m]\u001b[0m\u001b[0;34m]\u001b[0m \u001b[0;34m=\u001b[0m \u001b[0mA\u001b[0m\u001b[0;34m[\u001b[0m\u001b[0;34m[\u001b[0m\u001b[0mpos_max\u001b[0m\u001b[0;34m,\u001b[0m \u001b[0mi\u001b[0m\u001b[0;34m]\u001b[0m\u001b[0;34m]\u001b[0m  \u001b[0;31m# меняем строки местами в матрице A\u001b[0m\u001b[0;34m\u001b[0m\u001b[0;34m\u001b[0m\u001b[0m\n",
      "\u001b[0;31mIndexError\u001b[0m: tuple index out of range"
     ]
    }
   ],
   "source": [
    "gaussian_elimination(test_A_Err, test_f_Err)"
   ]
  },
  {
   "cell_type": "code",
   "execution_count": null,
   "metadata": {},
   "outputs": [],
   "source": [
    "np.testing.assert_allclose(np.linalg.solve(A, f),\n",
    "                           gaussian_elimination(A, f))"
   ]
  },
  {
   "cell_type": "code",
   "execution_count": null,
   "metadata": {},
   "outputs": [],
   "source": [
    "np.testing.assert_allclose(np.linalg.solve(test_A1, test_f1),\n",
    "                           gaussian_elimination(test_A1, test_f1))"
   ]
  },
  {
   "cell_type": "code",
   "execution_count": null,
   "metadata": {},
   "outputs": [],
   "source": [
    "np.testing.assert_allclose(np.linalg.solve(test_A2, test_f2),\n",
    "                           gaussian_elimination(test_A2, test_f2))"
   ]
  },
  {
   "cell_type": "code",
   "execution_count": null,
   "metadata": {},
   "outputs": [],
   "source": [
    "np.testing.assert_allclose(np.linalg.solve(test_A3, test_f3),\n",
    "                           gaussian_elimination(test_A3, test_f3), atol=10**-16)"
   ]
  },
  {
   "cell_type": "code",
   "execution_count": null,
   "metadata": {},
   "outputs": [],
   "source": [
    "np.testing.assert_allclose(np.linalg.solve(test_A4, test_f4),\n",
    "                           gaussian_elimination(test_A4, test_f4))"
   ]
  },
  {
   "cell_type": "code",
   "execution_count": null,
   "metadata": {},
   "outputs": [],
   "source": [
    "np.testing.assert_allclose(np.linalg.solve(test_A5, test_f5),\n",
    "                           gaussian_elimination(test_A5, test_f5))"
   ]
  }
 ],
 "metadata": {
  "kernelspec": {
   "display_name": "Python 3",
   "language": "python",
   "name": "python3"
  },
  "language_info": {
   "codemirror_mode": {
    "name": "ipython",
    "version": 3
   },
   "file_extension": ".py",
   "mimetype": "text/x-python",
   "name": "python",
   "nbconvert_exporter": "python",
   "pygments_lexer": "ipython3",
   "version": "3.9.2"
  }
 },
 "nbformat": 4,
 "nbformat_minor": 4
}

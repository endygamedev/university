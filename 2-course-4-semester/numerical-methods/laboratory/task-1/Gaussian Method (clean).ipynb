{
 "cells": [
  {
   "cell_type": "markdown",
   "metadata": {},
   "source": [
    "# Метод Гаусса с частичным выбором ведущего элемента"
   ]
  },
  {
   "cell_type": "markdown",
   "metadata": {},
   "source": [
    "#### Импорт модулей"
   ]
  },
  {
   "cell_type": "code",
   "execution_count": 17,
   "metadata": {},
   "outputs": [],
   "source": [
    "import numpy as np        # для работы с матрицами и веторами\n",
    "from typing import Union  # для работы с типизацией"
   ]
  },
  {
   "cell_type": "markdown",
   "metadata": {},
   "source": [
    "#### Входные данные"
   ]
  },
  {
   "cell_type": "code",
   "execution_count": 18,
   "metadata": {},
   "outputs": [],
   "source": [
    "A = np.matrix([[1.00, 0.17, -0.25, 0.54],\n",
    "               [0.47, 1.00, 0.67, -0.32],\n",
    "               [-0.11, 0.35, 1.00, -0.74],\n",
    "               [0.55, 0.43, 0.36, 1.00]],\n",
    "               dtype=np.dtype(np.float64))"
   ]
  },
  {
   "cell_type": "code",
   "execution_count": 19,
   "metadata": {},
   "outputs": [],
   "source": [
    "f = np.array([0.3, 0.5, 0.7, 0.9],\n",
    "             dtype=np.dtype(np.float64))"
   ]
  },
  {
   "cell_type": "markdown",
   "metadata": {},
   "source": [
    "#### Тестовые наборы данных"
   ]
  },
  {
   "cell_type": "code",
   "execution_count": 20,
   "metadata": {},
   "outputs": [],
   "source": [
    "test_A1 = np.matrix([[10., -7., 0.],\n",
    "                    [-3., 2., 6.],\n",
    "                    [5., -1., 5.]],\n",
    "                    dtype=np.dtype(np.float64))\n",
    "\n",
    "test_f1 = np.array([7, 4, 6],\n",
    "                  dtype=np.dtype(np.float64))"
   ]
  },
  {
   "cell_type": "code",
   "execution_count": 21,
   "metadata": {},
   "outputs": [],
   "source": [
    "test_A2 = np.matrix([[1., 2.],\n",
    "                     [3., 4.]],\n",
    "                     dtype=np.dtype(np.float64))\n",
    "\n",
    "test_f2 = np.matrix([[3., 5.],\n",
    "                     [5., 9.]],\n",
    "                     dtype=np.dtype(np.float64))"
   ]
  },
  {
   "cell_type": "code",
   "execution_count": 22,
   "metadata": {},
   "outputs": [],
   "source": [
    "test_A3 = np.matrix([[1., 2., 3.],\n",
    "                     [4., 5., 6.],\n",
    "                     [1., 0., 1.]],\n",
    "                     dtype=np.dtype(np.float64))\n",
    "\n",
    "test_f3 = np.array([1., 1., 1.],\n",
    "                   dtype=np.dtype(np.float64))"
   ]
  },
  {
   "cell_type": "code",
   "execution_count": 23,
   "metadata": {},
   "outputs": [],
   "source": [
    "test_A3 = np.matrix([[1., 1., 2., 3.],\n",
    "                     [1., 2., 3., -1.],\n",
    "                     [3., -1., -1., -2.],\n",
    "                     [2., 3., -1., -1.]],\n",
    "                     dtype=np.dtype(np.float64))\n",
    "\n",
    "test_f3 = np.array([1, -4, -4, -6],\n",
    "                   dtype=np.dtype(np.float64))"
   ]
  },
  {
   "cell_type": "code",
   "execution_count": 24,
   "metadata": {},
   "outputs": [],
   "source": [
    "test_A4 = np.matrix([[1., -2., -1.],\n",
    "                     [-3., 2., 2.],\n",
    "                     [3., -1., -2.]],\n",
    "                     dtype=np.dtype(np.float64))\n",
    "\n",
    "test_f4 = np.matrix([[1., 0.],\n",
    "                     [2., -2.],\n",
    "                     [-3., 1.]],\n",
    "                     dtype=np.dtype(np.float64))"
   ]
  },
  {
   "cell_type": "markdown",
   "metadata": {},
   "source": [
    "*Устраняем проблему с мантиссой при выводе на экран*"
   ]
  },
  {
   "cell_type": "code",
   "execution_count": 25,
   "metadata": {},
   "outputs": [],
   "source": [
    "np.set_printoptions(suppress=True)"
   ]
  },
  {
   "cell_type": "markdown",
   "metadata": {},
   "source": [
    "### Алгоритм"
   ]
  },
  {
   "cell_type": "code",
   "execution_count": 26,
   "metadata": {},
   "outputs": [],
   "source": [
    "def gaussian_elimination(A_arg: np.matrix, f_arg: Union[np.matrix, np.array]) -> Union[np.matrix, np.array]:\n",
    "    A, f = np.copy(A_arg), np.copy(f_arg)\n",
    "    print(f\"Исходные данные:\\n A:\\n {A}\\n\\n f:\\n{f}\\n\\n\")\n",
    "    for i in range(0, len(A)-1):\n",
    "        column = np.abs(A[i:, i])  # берём i-ую колонку\n",
    "        leading_elem = np.max(column)  # методом частичного выбора находим ведущий элемент\n",
    "        if np.where(column == leading_elem)[0][0] != 0:  # нужно ли нам менять строки (?)\n",
    "            pos_max = column.argmax() + i      # узнаём номер строки ведущего элемента\n",
    "            A[[i, pos_max]] = A[[pos_max, i]]  # меняем строки местами в матрице коэф.\n",
    "            f[[i, pos_max]] = f[[pos_max, i]]  # меняем строки местами в матрице ответ\n",
    "        for j in range(i+1, len(A)):  # делаем верхний треугольник\n",
    "            coef = -(A[j, i]/A[i, i]) # считаем коэффициент\n",
    "            A[j] = coef * A[i] + A[j] # домножаем `i` строку и прибавляем `j`\n",
    "            f[j] = coef * f[i] + f[j]\n",
    "        print(f\"{i+1} итерация:\\n A:\\n {A}\\n\\n f:\\n{f}\\n\\n\")\n",
    "\n",
    "    n = f.shape[0]  # размерность нашего ответа\n",
    "    X = np.zeros(shape=f.shape)   # заполняем наше будущее решение нулями\n",
    "    X[n-1] = f[n-1]/A[n-1, n-1]   # решаем последнее уравнение\n",
    "    for i in range(n-2, -1, -1):  # рассчитывает значения начиная с конца\n",
    "        sum_elem = sum(A[i, j] * X[j] for j in range(i+1, n))  # для известных `x` суммируем коэффициенты\n",
    "        X[i] = (f[i] - sum_elem)/A[i, i]\n",
    "    print(f\"Ответ:\\n {X}\")\n",
    "    return X"
   ]
  },
  {
   "cell_type": "markdown",
   "metadata": {},
   "source": [
    "#### Тесты"
   ]
  },
  {
   "cell_type": "code",
   "execution_count": 27,
   "metadata": {},
   "outputs": [
    {
     "name": "stdout",
     "output_type": "stream",
     "text": [
      "Исходные данные:\n",
      " A:\n",
      " [[ 1.    0.17 -0.25  0.54]\n",
      " [ 0.47  1.    0.67 -0.32]\n",
      " [-0.11  0.35  1.   -0.74]\n",
      " [ 0.55  0.43  0.36  1.  ]]\n",
      "\n",
      " f:\n",
      "[0.3 0.5 0.7 0.9]\n",
      "\n",
      "\n",
      "1 итерация:\n",
      " A:\n",
      " [[ 1.      0.17   -0.25    0.54  ]\n",
      " [ 0.      0.9201  0.7875 -0.5738]\n",
      " [ 0.      0.3687  0.9725 -0.6806]\n",
      " [ 0.      0.3365  0.4975  0.703 ]]\n",
      "\n",
      " f:\n",
      "[0.3   0.359 0.733 0.735]\n",
      "\n",
      "\n",
      "2 итерация:\n",
      " A:\n",
      " [[ 1.          0.17       -0.25        0.54      ]\n",
      " [ 0.          0.9201      0.7875     -0.5738    ]\n",
      " [ 0.          0.          0.65693512 -0.45066841]\n",
      " [ 0.          0.          0.20949462  0.91285078]]\n",
      "\n",
      " f:\n",
      "[0.3        0.359      0.58914248 0.60370612]\n",
      "\n",
      "\n",
      "3 итерация:\n",
      " A:\n",
      " [[ 1.          0.17       -0.25        0.54      ]\n",
      " [ 0.          0.9201      0.7875     -0.5738    ]\n",
      " [ 0.          0.          0.65693512 -0.45066841]\n",
      " [ 0.          0.          0.          1.05656757]]\n",
      "\n",
      " f:\n",
      "[0.3        0.359      0.58914248 0.41583036]\n",
      "\n",
      "\n",
      "Ответ:\n",
      " [ 0.44088855 -0.36303099  1.16679833  0.39356722]\n"
     ]
    }
   ],
   "source": [
    "np.testing.assert_allclose(np.linalg.solve(A, f),\n",
    "                           gaussian_elimination(A, f))"
   ]
  },
  {
   "cell_type": "code",
   "execution_count": 28,
   "metadata": {},
   "outputs": [
    {
     "name": "stdout",
     "output_type": "stream",
     "text": [
      "Исходные данные:\n",
      " A:\n",
      " [[10. -7.  0.]\n",
      " [-3.  2.  6.]\n",
      " [ 5. -1.  5.]]\n",
      "\n",
      " f:\n",
      "[7. 4. 6.]\n",
      "\n",
      "\n",
      "1 итерация:\n",
      " A:\n",
      " [[10.  -7.   0. ]\n",
      " [ 0.  -0.1  6. ]\n",
      " [ 0.   2.5  5. ]]\n",
      "\n",
      " f:\n",
      "[7.  6.1 2.5]\n",
      "\n",
      "\n",
      "2 итерация:\n",
      " A:\n",
      " [[10.  -7.   0. ]\n",
      " [ 0.   2.5  5. ]\n",
      " [ 0.   0.   6.2]]\n",
      "\n",
      " f:\n",
      "[7.  2.5 6.2]\n",
      "\n",
      "\n",
      "Ответ:\n",
      " [ 0. -1.  1.]\n"
     ]
    }
   ],
   "source": [
    "np.testing.assert_allclose(np.linalg.solve(test_A1, test_f1),\n",
    "                           gaussian_elimination(test_A1, test_f1), atol=1)"
   ]
  },
  {
   "cell_type": "code",
   "execution_count": 29,
   "metadata": {},
   "outputs": [
    {
     "name": "stdout",
     "output_type": "stream",
     "text": [
      "Исходные данные:\n",
      " A:\n",
      " [[1. 2.]\n",
      " [3. 4.]]\n",
      "\n",
      " f:\n",
      "[[3. 5.]\n",
      " [5. 9.]]\n",
      "\n",
      "\n",
      "1 итерация:\n",
      " A:\n",
      " [[3.         4.        ]\n",
      " [0.         0.66666667]]\n",
      "\n",
      " f:\n",
      "[[5.         9.        ]\n",
      " [1.33333333 2.        ]]\n",
      "\n",
      "\n",
      "Ответ:\n",
      " [[-1. -1.]\n",
      " [ 2.  3.]]\n"
     ]
    }
   ],
   "source": [
    "np.testing.assert_allclose(np.linalg.solve(test_A2, test_f2),\n",
    "                           gaussian_elimination(test_A2, test_f2))"
   ]
  },
  {
   "cell_type": "code",
   "execution_count": 30,
   "metadata": {},
   "outputs": [
    {
     "name": "stdout",
     "output_type": "stream",
     "text": [
      "Исходные данные:\n",
      " A:\n",
      " [[ 1.  1.  2.  3.]\n",
      " [ 1.  2.  3. -1.]\n",
      " [ 3. -1. -1. -2.]\n",
      " [ 2.  3. -1. -1.]]\n",
      "\n",
      " f:\n",
      "[ 1. -4. -4. -6.]\n",
      "\n",
      "\n",
      "1 итерация:\n",
      " A:\n",
      " [[ 3.         -1.         -1.         -2.        ]\n",
      " [ 0.          2.33333333  3.33333333 -0.33333333]\n",
      " [ 0.          1.33333333  2.33333333  3.66666667]\n",
      " [ 0.          3.66666667 -0.33333333  0.33333333]]\n",
      "\n",
      " f:\n",
      "[-4.         -2.66666667  2.33333333 -3.33333333]\n",
      "\n",
      "\n",
      "2 итерация:\n",
      " A:\n",
      " [[ 3.         -1.         -1.         -2.        ]\n",
      " [ 0.          3.66666667 -0.33333333  0.33333333]\n",
      " [ 0.          0.          2.45454545  3.54545455]\n",
      " [ 0.          0.          3.54545455 -0.54545455]]\n",
      "\n",
      " f:\n",
      "[-4.         -3.33333333  3.54545455 -0.54545455]\n",
      "\n",
      "\n",
      "3 итерация:\n",
      " A:\n",
      " [[ 3.         -1.         -1.         -2.        ]\n",
      " [ 0.          3.66666667 -0.33333333  0.33333333]\n",
      " [ 0.          0.          3.54545455 -0.54545455]\n",
      " [ 0.          0.          0.          3.92307692]]\n",
      "\n",
      " f:\n",
      "[-4.         -3.33333333 -0.54545455  3.92307692]\n",
      "\n",
      "\n",
      "Ответ:\n",
      " [-1. -1. -0.  1.]\n"
     ]
    }
   ],
   "source": [
    "np.testing.assert_allclose(np.linalg.solve(test_A3, test_f3),\n",
    "                           gaussian_elimination(test_A3, test_f3))"
   ]
  },
  {
   "cell_type": "code",
   "execution_count": 31,
   "metadata": {},
   "outputs": [
    {
     "name": "stdout",
     "output_type": "stream",
     "text": [
      "Исходные данные:\n",
      " A:\n",
      " [[ 1. -2. -1.]\n",
      " [-3.  2.  2.]\n",
      " [ 3. -1. -2.]]\n",
      "\n",
      " f:\n",
      "[[ 1.  0.]\n",
      " [ 2. -2.]\n",
      " [-3.  1.]]\n",
      "\n",
      "\n",
      "1 итерация:\n",
      " A:\n",
      " [[-3.          2.          2.        ]\n",
      " [ 0.         -1.33333333 -0.33333333]\n",
      " [ 0.          1.          0.        ]]\n",
      "\n",
      " f:\n",
      "[[ 2.         -2.        ]\n",
      " [ 1.66666667 -0.66666667]\n",
      " [-1.         -1.        ]]\n",
      "\n",
      "\n",
      "2 итерация:\n",
      " A:\n",
      " [[-3.          2.          2.        ]\n",
      " [ 0.         -1.33333333 -0.33333333]\n",
      " [ 0.          0.         -0.25      ]]\n",
      "\n",
      " f:\n",
      "[[ 2.         -2.        ]\n",
      " [ 1.66666667 -0.66666667]\n",
      " [ 0.25       -1.5       ]]\n",
      "\n",
      "\n",
      "Ответ:\n",
      " [[-2.  4.]\n",
      " [-1. -1.]\n",
      " [-1.  6.]]\n"
     ]
    }
   ],
   "source": [
    "np.testing.assert_allclose(np.linalg.solve(test_A4, test_f4),\n",
    "                           gaussian_elimination(test_A4, test_f4))"
   ]
  },
  {
   "cell_type": "code",
   "execution_count": null,
   "metadata": {},
   "outputs": [],
   "source": []
  }
 ],
 "metadata": {
  "kernelspec": {
   "display_name": "Python 3",
   "language": "python",
   "name": "python3"
  },
  "language_info": {
   "codemirror_mode": {
    "name": "ipython",
    "version": 3
   },
   "file_extension": ".py",
   "mimetype": "text/x-python",
   "name": "python",
   "nbconvert_exporter": "python",
   "pygments_lexer": "ipython3",
   "version": "3.9.1"
  }
 },
 "nbformat": 4,
 "nbformat_minor": 4
}

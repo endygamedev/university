{
 "cells": [
  {
   "cell_type": "code",
   "execution_count": 5,
   "metadata": {},
   "outputs": [],
   "source": [
    "import numpy as np"
   ]
  },
  {
   "cell_type": "code",
   "execution_count": 36,
   "metadata": {},
   "outputs": [
    {
     "data": {
      "text/plain": [
       "matrix([[10., -7.,  0.],\n",
       "        [-3.,  2.,  6.],\n",
       "        [ 5., -1.,  5.]], dtype=float32)"
      ]
     },
     "execution_count": 36,
     "metadata": {},
     "output_type": "execute_result"
    }
   ],
   "source": [
    "# Задаём матрицу A\n",
    "b = np.matrix([[10, -7, 0], [-3, 2, 6], [5, -1, 5]], dtype=np.dtype(np.float32))\n",
    "a = b.copy()\n",
    "a"
   ]
  },
  {
   "cell_type": "code",
   "execution_count": 37,
   "metadata": {},
   "outputs": [
    {
     "data": {
      "text/plain": [
       "array([7., 4., 6.], dtype=float32)"
      ]
     },
     "execution_count": 37,
     "metadata": {},
     "output_type": "execute_result"
    }
   ],
   "source": [
    "# Задаём столбец f\n",
    "f = np.array([7, 4, 6], dtype=np.dtype(np.float32))\n",
    "f"
   ]
  },
  {
   "cell_type": "code",
   "execution_count": 38,
   "metadata": {},
   "outputs": [
    {
     "name": "stdout",
     "output_type": "stream",
     "text": [
      "0\n",
      "1\n",
      "2\n"
     ]
    }
   ],
   "source": [
    "# Итерации\n",
    "for i in range(0, len(a)):\n",
    "    print(i)"
   ]
  },
  {
   "cell_type": "markdown",
   "metadata": {},
   "source": [
    "### 1 итерация "
   ]
  },
  {
   "cell_type": "code",
   "execution_count": 39,
   "metadata": {},
   "outputs": [
    {
     "data": {
      "text/plain": [
       "matrix([[10.],\n",
       "        [-3.],\n",
       "        [ 5.]], dtype=float32)"
      ]
     },
     "execution_count": 39,
     "metadata": {},
     "output_type": "execute_result"
    }
   ],
   "source": [
    "# Берём первую колонку\n",
    "first_col = a[0:, 0]\n",
    "first_col"
   ]
  },
  {
   "cell_type": "code",
   "execution_count": 40,
   "metadata": {},
   "outputs": [
    {
     "data": {
      "text/plain": [
       "10.0"
      ]
     },
     "execution_count": 40,
     "metadata": {},
     "output_type": "execute_result"
    }
   ],
   "source": [
    "# Выбираем ведущий элемент\n",
    "leading_elem = np.max(np.abs(first_col))\n",
    "leading_elem"
   ]
  },
  {
   "cell_type": "code",
   "execution_count": 44,
   "metadata": {},
   "outputs": [
    {
     "data": {
      "text/plain": [
       "False"
      ]
     },
     "execution_count": 44,
     "metadata": {},
     "output_type": "execute_result"
    }
   ],
   "source": [
    "# Определяем нужно ли менять местами строки\n",
    "i = 0 # Итерация\n",
    "np.where(first_col == leading_elem)[0][0] != 0"
   ]
  },
  {
   "cell_type": "code",
   "execution_count": 12,
   "metadata": {},
   "outputs": [],
   "source": [
    "coef = -(a[1, 0]/a[0, 0])"
   ]
  },
  {
   "cell_type": "code",
   "execution_count": 13,
   "metadata": {},
   "outputs": [],
   "source": [
    "# 1.1 Домножим первое уравнение на 0.3 (-(-3/10))\n",
    "a[1] = coef * a[0] + a[1]"
   ]
  },
  {
   "cell_type": "code",
   "execution_count": 14,
   "metadata": {},
   "outputs": [],
   "source": [
    "f[1] = coef * f[0] + f[1]"
   ]
  },
  {
   "cell_type": "code",
   "execution_count": 15,
   "metadata": {},
   "outputs": [],
   "source": [
    "coef = -(a[2, 0]/a[0, 0])"
   ]
  },
  {
   "cell_type": "code",
   "execution_count": 16,
   "metadata": {},
   "outputs": [],
   "source": [
    "# 1.2 Домножим первое уравнение на -0.5 -(5/10)\n",
    "a[2] = coef * a[0] + a[2]"
   ]
  },
  {
   "cell_type": "code",
   "execution_count": 17,
   "metadata": {},
   "outputs": [],
   "source": [
    "f[2] = coef * f[0] + f[2]"
   ]
  },
  {
   "cell_type": "code",
   "execution_count": 18,
   "metadata": {},
   "outputs": [
    {
     "data": {
      "text/plain": [
       "matrix([[10.        , -7.        ,  0.        ],\n",
       "        [ 0.        , -0.10000014,  6.        ],\n",
       "        [ 0.        ,  2.5       ,  5.        ]], dtype=float32)"
      ]
     },
     "execution_count": 18,
     "metadata": {},
     "output_type": "execute_result"
    }
   ],
   "source": [
    "a"
   ]
  },
  {
   "cell_type": "code",
   "execution_count": 19,
   "metadata": {},
   "outputs": [
    {
     "data": {
      "text/plain": [
       "array([7.       , 6.1000004, 2.5      ], dtype=float32)"
      ]
     },
     "execution_count": 19,
     "metadata": {},
     "output_type": "execute_result"
    }
   ],
   "source": [
    "f"
   ]
  },
  {
   "cell_type": "markdown",
   "metadata": {},
   "source": [
    "### 2 итерация"
   ]
  },
  {
   "cell_type": "code",
   "execution_count": 45,
   "metadata": {},
   "outputs": [],
   "source": [
    "i = 1"
   ]
  },
  {
   "cell_type": "code",
   "execution_count": 46,
   "metadata": {},
   "outputs": [
    {
     "data": {
      "text/plain": [
       "matrix([[ 2.],\n",
       "        [-1.]], dtype=float32)"
      ]
     },
     "execution_count": 46,
     "metadata": {},
     "output_type": "execute_result"
    }
   ],
   "source": [
    "# Берём вторую колонку\n",
    "first_col = a[1:, 1]\n",
    "first_col"
   ]
  },
  {
   "cell_type": "code",
   "execution_count": 47,
   "metadata": {},
   "outputs": [
    {
     "data": {
      "text/plain": [
       "2.0"
      ]
     },
     "execution_count": 47,
     "metadata": {},
     "output_type": "execute_result"
    }
   ],
   "source": [
    "# Выбираем ведущий элемент\n",
    "leading_elem = np.max(np.abs(first_col))\n",
    "leading_elem"
   ]
  },
  {
   "cell_type": "code",
   "execution_count": 48,
   "metadata": {},
   "outputs": [
    {
     "data": {
      "text/plain": [
       "False"
      ]
     },
     "execution_count": 48,
     "metadata": {},
     "output_type": "execute_result"
    }
   ],
   "source": [
    "# Определяем нужно ли менять местами строки\n",
    "np.where(first_col == leading_elem)[0][0] != 0 # Нужно менять строку"
   ]
  },
  {
   "cell_type": "code",
   "execution_count": 24,
   "metadata": {},
   "outputs": [],
   "source": [
    "k = len(a) - len(first_col)\n",
    "max_col = first_col.argmax() + i"
   ]
  },
  {
   "cell_type": "code",
   "execution_count": 25,
   "metadata": {},
   "outputs": [],
   "source": [
    "# Поменяли строки местами\n",
    "a[[k, max_col]] = a[[max_col, k]]\n",
    "f[[k, max_col]] = f[[max_col, k]]"
   ]
  },
  {
   "cell_type": "code",
   "execution_count": 26,
   "metadata": {},
   "outputs": [
    {
     "data": {
      "text/plain": [
       "0.04000006"
      ]
     },
     "execution_count": 26,
     "metadata": {},
     "output_type": "execute_result"
    }
   ],
   "source": [
    "coef = -(a[2, 1]/a[1, 1])\n",
    "coef"
   ]
  },
  {
   "cell_type": "code",
   "execution_count": 27,
   "metadata": {},
   "outputs": [],
   "source": [
    "# 1.1 Домножим второе уравнение на 0.04 (-(-0.1/2.5))\n",
    "a[2] = coef * a[1] + a[2]"
   ]
  },
  {
   "cell_type": "code",
   "execution_count": 28,
   "metadata": {},
   "outputs": [],
   "source": [
    "f[2] = coef * f[1] + f[2]"
   ]
  },
  {
   "cell_type": "code",
   "execution_count": 29,
   "metadata": {},
   "outputs": [
    {
     "data": {
      "text/plain": [
       "matrix([[10.       , -7.       ,  0.       ],\n",
       "        [ 0.       ,  2.5      ,  5.       ],\n",
       "        [ 0.       ,  0.       ,  6.2000003]], dtype=float32)"
      ]
     },
     "execution_count": 29,
     "metadata": {},
     "output_type": "execute_result"
    }
   ],
   "source": [
    "a"
   ]
  },
  {
   "cell_type": "code",
   "execution_count": 30,
   "metadata": {},
   "outputs": [
    {
     "data": {
      "text/plain": [
       "array([7.      , 2.5     , 6.200001], dtype=float32)"
      ]
     },
     "execution_count": 30,
     "metadata": {},
     "output_type": "execute_result"
    }
   ],
   "source": [
    "f"
   ]
  },
  {
   "cell_type": "markdown",
   "metadata": {},
   "source": [
    "### Вычисляем X"
   ]
  },
  {
   "cell_type": "code",
   "execution_count": 31,
   "metadata": {},
   "outputs": [],
   "source": [
    "x3 = np.round(f[-1]/a[-1, -1], 2)"
   ]
  },
  {
   "cell_type": "code",
   "execution_count": 32,
   "metadata": {},
   "outputs": [
    {
     "ename": "NameError",
     "evalue": "name 'x' is not defined",
     "output_type": "error",
     "traceback": [
      "\u001b[0;31m---------------------------------------------------------------------------\u001b[0m",
      "\u001b[0;31mNameError\u001b[0m                                 Traceback (most recent call last)",
      "\u001b[0;32m<ipython-input-32-6fcf9dfbd479>\u001b[0m in \u001b[0;36m<module>\u001b[0;34m\u001b[0m\n\u001b[0;32m----> 1\u001b[0;31m \u001b[0mx\u001b[0m\u001b[0;34m\u001b[0m\u001b[0;34m\u001b[0m\u001b[0m\n\u001b[0m",
      "\u001b[0;31mNameError\u001b[0m: name 'x' is not defined"
     ]
    }
   ],
   "source": [
    "x"
   ]
  },
  {
   "cell_type": "code",
   "execution_count": null,
   "metadata": {},
   "outputs": [],
   "source": [
    "myA=[\n",
    " [1.0, -2.0, 3.0, -4.0],\n",
    " [3.0, 3.0, -5.0, -1.0],\n",
    " [3.0, 0.0, 3.0, -10.0],\n",
    " [-2.0, 1.0, 2.0, -3.0]\n",
    "]\n",
    "\n",
    "myB = [\n",
    " 2.0,\n",
    " -3.0,\n",
    " 8.0,\n",
    " 5.0]\n",
    "# --- end of исходные данные\n",
    "\n",
    "# --- вывод системы на экран\n",
    "def FancyPrint(A, B, selected):\n",
    "    for row in range(len(B)):\n",
    "        print(\"(\", end='')\n",
    "        for col in range(len(A[row])):\n",
    "             print(\"\\t{1:10.2f}{0}\".format(\" \" if (selected is None\n",
    "or selected != (row, col)) else \"*\", A[row][col]), end='')\n",
    "        print(\"\\t) * (\\tX{0}) = (\\t{1:10.2f})\".format(row + 1, B[row]))\n",
    "# --- end of вывод системы на экран\n",
    "\n",
    "# --- перемена местами двух строк системы\n",
    "def SwapRows(A, B, row1, row2):\n",
    "    A[row1], A[row2] = A[row2], A[row1]\n",
    "    B[row1], B[row2] = B[row2], B[row1]\n",
    "# --- end of перемена местами двух строк системы\n",
    "\n",
    "# --- деление строки системы на число\n",
    "def DivideRow(A, B, row, divider):\n",
    "    A[row] = [a / divider for a in A[row]]\n",
    "    B[row] /= divider\n",
    "# --- end of деление строки системы на число\n",
    "\n",
    "# --- сложение строки системы с другой строкой, умноженной на число\n",
    "def CombineRows(A, B, row, source_row, weight):\n",
    "    A[row] = [(a + k * weight) for a, k in zip(A[row], A[source_row])]\n",
    "    B[row] += B[source_row] * weight\n",
    "# --- end of сложение строки системы с другой строкой, умноженной начисло\n",
    "\n",
    "# --- решение системы методом Гаусса (приведением к треугольному виду)\n",
    "def Gauss(A, B):\n",
    "    column = 0\n",
    "    while (column < len(B)):\n",
    "        print(\"Ищем максимальный по модулю элемент в {0}-м столбце:\".format(column + 1))\n",
    "        current_row = None\n",
    "        for r in range(column, len(A)):\n",
    "            if current_row is None or abs(A[r][column]) > abs(A[current_row][column]):\n",
    "                 current_row = r\n",
    "        if current_row is None:\n",
    "            print(\"решений нет\")\n",
    "            return None\n",
    "        FancyPrint(A, B, (current_row, column))\n",
    "        if current_row != column:\n",
    "            print(\"Переставляем строку с найденным элементом повыше:\")\n",
    "            SwapRows(A, B, current_row, column)\n",
    "            FancyPrint(A, B, (column, column))\n",
    "        print(\"Нормализуем строку с найденным элементом:\")\n",
    "        DivideRow(A, B, column, A[column][column])\n",
    "        FancyPrint(A, B, (column, column))\n",
    "        print(\"Обрабатываем нижележащие строки:\")\n",
    "        for r in range(column + 1, len(A)):\n",
    "            CombineRows(A, B, r, column, -A[r][column])\n",
    "        FancyPrint(A, B, (column, column))\n",
    "        column += 1\n",
    "    print(\"Матрица приведена к треугольному виду, считаем решение\")\n",
    "    X = [0 for b in B]\n",
    "    for i in range(len(B) - 1, -1, -1):\n",
    "        X[i] = B[i] - sum(x * a for x, a in zip(X[(i + 1):], A[i][(i + 1):]))\n",
    "    print(\"Получили ответ:\")\n",
    "    print(\"\\n\".join(\"X{0} =\\t{1:10.2f}\".format(i + 1, x) for i, x in\n",
    "enumerate(X)))\n",
    "    return X\n",
    "# --- end of решение системы методом Гаусса (приведением к треугольному виду)\n",
    "print(\"Исходная система:\")\n",
    "FancyPrint(myA, myB, None)\n",
    "print(\"Решаем:\")\n",
    "Gauss(myA, myB)"
   ]
  },
  {
   "cell_type": "code",
   "execution_count": null,
   "metadata": {},
   "outputs": [],
   "source": [
    "for i in range(len(B) - 1, -1, -1):\n",
    "    X[i] = B[i] - sum(x * a for x, a in zip(X[(i + 1):], A[i][(i + 1):]))"
   ]
  },
  {
   "cell_type": "code",
   "execution_count": null,
   "metadata": {},
   "outputs": [],
   "source": [
    "for i in range(10, -1, -1):\n",
    "    print(i)"
   ]
  },
  {
   "cell_type": "code",
   "execution_count": null,
   "metadata": {},
   "outputs": [],
   "source": []
  }
 ],
 "metadata": {
  "kernelspec": {
   "display_name": "Python 3",
   "language": "python",
   "name": "python3"
  },
  "language_info": {
   "codemirror_mode": {
    "name": "ipython",
    "version": 3
   },
   "file_extension": ".py",
   "mimetype": "text/x-python",
   "name": "python",
   "nbconvert_exporter": "python",
   "pygments_lexer": "ipython3",
   "version": "3.9.1"
  }
 },
 "nbformat": 4,
 "nbformat_minor": 4
}

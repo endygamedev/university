{
 "cells": [
  {
   "cell_type": "markdown",
   "id": "apart-abortion",
   "metadata": {},
   "source": [
    "# QR-алгоритм со сдвигами"
   ]
  },
  {
   "cell_type": "markdown",
   "id": "excited-salvation",
   "metadata": {},
   "source": [
    "## Импорт модулей"
   ]
  },
  {
   "cell_type": "code",
   "execution_count": 153,
   "id": "congressional-defense",
   "metadata": {
    "tags": []
   },
   "outputs": [],
   "source": [
    "import numpy as np        # для работы с матрицами и веторами\n",
    "import warnings           # для работы с ошибками\n",
    "import sympy as sp        # для красивого вывода промежуточных результатов\n",
    "from IPython.display import Markdown, display  # для красивого вывода текста"
   ]
  },
  {
   "cell_type": "markdown",
   "id": "persistent-health",
   "metadata": {},
   "source": [
    "## Входные данные"
   ]
  },
  {
   "cell_type": "code",
   "execution_count": 54,
   "id": "armed-destiny",
   "metadata": {
    "tags": []
   },
   "outputs": [],
   "source": [
    "A = np.matrix([[4.33, -1.12, -1.08, 1.14],\n",
    "               [-1.12, 4.33, 0.24, -1.22],\n",
    "               [-1.08, 0.24, 7.21, -3.22],\n",
    "               [1.14, -1.22, -3.22, 5.43]],\n",
    "               dtype=np.dtype(np.float64))"
   ]
  },
  {
   "cell_type": "code",
   "execution_count": 141,
   "id": "favorite-reception",
   "metadata": {
    "tags": []
   },
   "outputs": [],
   "source": [
    "A2 = np.matrix([[1.00, 0.42, 0.54, 0.66],\n",
    "               [0.42, 1.00, 0.32, 0.44],\n",
    "               [0.54, 0.32, 1.00, 0.22],\n",
    "               [0.66, 0.44, 0.22, 1.00]],\n",
    "               dtype=np.dtype(np.float64))"
   ]
  },
  {
   "cell_type": "markdown",
   "id": "comic-reason",
   "metadata": {},
   "source": [
    "## Модифицированный алгоритм Грама-Шмидта для нахождения QR-разложения"
   ]
  },
  {
   "cell_type": "code",
   "execution_count": 142,
   "id": "intensive-microphone",
   "metadata": {},
   "outputs": [],
   "source": [
    "def qr_mod_gram_schmidt(A_arg):\n",
    "    A = np.copy(A_arg)\n",
    "    n, m = A.shape\n",
    "    R, Q = np.zeros(A.shape), np.zeros(A.shape)\n",
    "    for k in range(n):\n",
    "        s = 0\n",
    "        for j in range(m):\n",
    "            s += A[j, k]**2\n",
    "            R[k, k] = np.sqrt(s)\n",
    "        for j in range(m): Q[j, k] = A[j, k]/R[k, k]\n",
    "        for i in range(k, n):\n",
    "            s = 0\n",
    "            for j in range(m):\n",
    "                s += A[j, i] * Q[j, k]\n",
    "                R[k, i] = s\n",
    "            for j in range(m): A[j, i] = A[j, i] - R[k, i] * Q[j, k]\n",
    "    return np.asmatrix(Q), np.asmatrix(R)"
   ]
  },
  {
   "cell_type": "markdown",
   "id": "outside-collapse",
   "metadata": {},
   "source": [
    "## QR-алгоритм"
   ]
  },
  {
   "cell_type": "code",
   "execution_count": 150,
   "id": "weighted-humanitarian",
   "metadata": {},
   "outputs": [],
   "source": [
    "def qr_mod_algorithm(A: np.matrix, Kmax: int, delta) -> np.array:\n",
    "    Ak = A\n",
    "    t = 0\n",
    "    I = np.identity(A.shape[0])\n",
    "    eigvals = []\n",
    "    d = delta\n",
    "    k = 0\n",
    "    while k < Kmax and d <= delta:\n",
    "        Q, R = qr_mod_gram_schmidt(A - t * I)\n",
    "        Ak = np.matmul(R,Q) + t * I if k else np.matmul(R, Q)\n",
    "        t = Ak[-1, -1]\n",
    "        eigvals.append(np.diagonal(Ak))\n",
    "        d = np.linalg.norm(eigvals[-1] - eigvals[-2]) if k > 2 else delta\n",
    "        k += 1\n",
    "    return eigvals[-1]"
   ]
  },
  {
   "cell_type": "markdown",
   "id": "published-humidity",
   "metadata": {},
   "source": [
    "## Результаты"
   ]
  },
  {
   "cell_type": "code",
   "execution_count": 151,
   "id": "reserved-lodging",
   "metadata": {},
   "outputs": [
    {
     "name": "stdout",
     "output_type": "stream",
     "text": [
      "[8.68343466 4.40539375 5.67714926 2.53402232]\n",
      "[10.32677864  5.10251996  3.33893806  2.53176334]\n",
      "[ 1.64334398e+00  6.97126206e-01 -2.33821121e+00 -2.25897359e-03]\n"
     ]
    }
   ],
   "source": [
    "real_res = qr_mod_algorithm(A, 20, 10**-10)\n",
    "np_res = np.linalg.eigvals(A)\n",
    "r = np_res - real_res\n",
    "print(f\"{real_res}\\n{np_res}\\n{r}\")"
   ]
  },
  {
   "cell_type": "code",
   "execution_count": 152,
   "id": "configured-antigua",
   "metadata": {},
   "outputs": [
    {
     "name": "stdout",
     "output_type": "stream",
     "text": [
      "[2.29623048 0.6804764  0.78102534 0.24226778]\n",
      "[2.3227488  0.24226071 0.6382838  0.79670669]\n",
      "[ 0.02651832 -0.43821569 -0.14274154  0.55443891]\n"
     ]
    }
   ],
   "source": [
    "real_res = qr_mod_algorithm(A2, 20, 10**-10)\n",
    "np_res = np.linalg.eigvals(A2)\n",
    "r = np_res - real_res\n",
    "print(f\"{real_res}\\n{np_res}\\n{r}\")"
   ]
  }
 ],
 "metadata": {
  "kernelspec": {
   "display_name": "Python 3",
   "language": "python",
   "name": "python3"
  },
  "language_info": {
   "codemirror_mode": {
    "name": "ipython",
    "version": 3
   },
   "file_extension": ".py",
   "mimetype": "text/x-python",
   "name": "python",
   "nbconvert_exporter": "python",
   "pygments_lexer": "ipython3",
   "version": "3.9.2"
  }
 },
 "nbformat": 4,
 "nbformat_minor": 5
}

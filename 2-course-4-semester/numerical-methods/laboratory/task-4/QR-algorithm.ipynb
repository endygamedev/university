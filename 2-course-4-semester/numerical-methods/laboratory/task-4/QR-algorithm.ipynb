{
 "cells": [
  {
   "cell_type": "markdown",
   "id": "tamil-peoples",
   "metadata": {},
   "source": [
    "# QR-алгоритм со сдвигами"
   ]
  },
  {
   "cell_type": "markdown",
   "id": "conventional-holder",
   "metadata": {},
   "source": [
    "## Импорт модулей"
   ]
  },
  {
   "cell_type": "code",
   "execution_count": 2,
   "id": "fallen-journalism",
   "metadata": {
    "tags": []
   },
   "outputs": [],
   "source": [
    "import numpy as np        # для работы с матрицами и веторами\n",
    "import warnings           # для работы с ошибками\n",
    "import sympy as sp        # для красивого вывода промежуточных результатов\n",
    "from IPython.display import Markdown, display  # для красивого вывода текста"
   ]
  },
  {
   "cell_type": "markdown",
   "id": "sensitive-yahoo",
   "metadata": {},
   "source": [
    "## Входные данные"
   ]
  },
  {
   "cell_type": "code",
   "execution_count": 3,
   "id": "outstanding-anderson",
   "metadata": {
    "tags": []
   },
   "outputs": [],
   "source": [
    "A1 = np.matrix([[4.33, -1.12, -1.08, 1.14],\n",
    "               [-1.12, 4.33, 0.24, -1.22],\n",
    "               [-1.08, 0.24, 7.21, -3.22],\n",
    "               [1.14, -1.22, -3.22, 5.43]],\n",
    "               dtype=np.dtype(np.float64))"
   ]
  },
  {
   "cell_type": "code",
   "execution_count": 4,
   "id": "popular-pepper",
   "metadata": {
    "tags": []
   },
   "outputs": [],
   "source": [
    "A2 = np.matrix([[1.00, 0.42, 0.54, 0.66],\n",
    "               [0.42, 1.00, 0.32, 0.44],\n",
    "               [0.54, 0.32, 1.00, 0.22],\n",
    "               [0.66, 0.44, 0.22, 1.00]],\n",
    "               dtype=np.dtype(np.float64))"
   ]
  },
  {
   "cell_type": "markdown",
   "id": "legislative-qatar",
   "metadata": {},
   "source": [
    "## Модифицированный алгоритм Грама-Шмидта для нахождения QR-разложения"
   ]
  },
  {
   "cell_type": "code",
   "execution_count": 5,
   "id": "lesbian-manor",
   "metadata": {},
   "outputs": [],
   "source": [
    "def qr_mod_gram_schmidt(A_arg: np.matrix):\n",
    "    A = np.copy(A_arg)\n",
    "    n = A.shape[0]\n",
    "    R, Q = np.zeros(A.shape), np.zeros(A.shape)\n",
    "    for k in range(n):\n",
    "        s = 0\n",
    "        for j in range(n):\n",
    "            s += A[j, k]**2\n",
    "            R[k, k] = np.sqrt(s)\n",
    "        for j in range(n): Q[j, k] = A[j, k]/R[k, k]\n",
    "        for i in range(k, n):\n",
    "            s = 0\n",
    "            for j in range(n):\n",
    "                s += A[j, i] * Q[j, k]\n",
    "                R[k, i] = s\n",
    "            for j in range(n): A[j, i] = A[j, i] - R[k, i] * Q[j, k]\n",
    "    return np.asmatrix(Q), np.asmatrix(R)"
   ]
  },
  {
   "cell_type": "markdown",
   "id": "atmospheric-positive",
   "metadata": {},
   "source": [
    "## QR-алгоритм"
   ]
  },
  {
   "cell_type": "code",
   "execution_count": 60,
   "id": "killing-share",
   "metadata": {},
   "outputs": [],
   "source": [
    "def qr_mod_algorithm(A: np.matrix, Kmax: int, delta: float) -> np.array:\n",
    "    if Kmax < 1:\n",
    "        warnings.warn(\"Количество итераций должно быть положительным числом\")\n",
    "        return\n",
    "    Ak = np.copy(A)\n",
    "    t = 0\n",
    "    I = np.identity(A.shape[0])\n",
    "    d = delta\n",
    "    eigvals = []\n",
    "    k = 0\n",
    "    while k < Kmax and d >= delta:\n",
    "        Q, R = qr_mod_gram_schmidt(Ak - t * I)\n",
    "        Ak = np.matmul(R,Q) + t * I if k else np.matmul(R, Q)\n",
    "        t = Ak[-1, -1]\n",
    "        eigvals.append(np.diagonal(Ak))\n",
    "        d = np.linalg.norm(eigvals[-1] - eigvals[-2]) if k else delta\n",
    "        k += 1\n",
    "    display(Markdown(f\"\"\"<text style=font-weight:bold;font-size:16px;font-family:serif>\n",
    "                             Количество итераций, которое потребовалось для нахождения решения: {k}\n",
    "                         <text>\"\"\"))\n",
    "    return eigvals[-1]"
   ]
  },
  {
   "cell_type": "markdown",
   "id": "owned-adams",
   "metadata": {},
   "source": [
    "## Результаты"
   ]
  },
  {
   "cell_type": "code",
   "execution_count": 61,
   "id": "offensive-increase",
   "metadata": {},
   "outputs": [
    {
     "data": {
      "text/markdown": [
       "<text style=font-weight:bold;font-size:16px;font-family:serif>\n",
       "                             Количество итераций, которое потребовалось для нахождения решения: 19\n",
       "                         <text>"
      ],
      "text/plain": [
       "<IPython.core.display.Markdown object>"
      ]
     },
     "metadata": {},
     "output_type": "display_data"
    },
    {
     "data": {
      "text/markdown": [
       "<text style=font-weight:bold;font-size:16px;font-family:serif>Полученный ответ<text>"
      ],
      "text/plain": [
       "<IPython.core.display.Markdown object>"
      ]
     },
     "metadata": {},
     "output_type": "display_data"
    },
    {
     "data": {
      "text/latex": [
       "$\\displaystyle \\left[\\begin{matrix}10.3267786405\\\\5.1025199601\\\\3.3389380551\\\\2.5317633444\\end{matrix}\\right]$"
      ],
      "text/plain": [
       "Matrix([\n",
       "[10.3267786405],\n",
       "[ 5.1025199601],\n",
       "[ 3.3389380551],\n",
       "[ 2.5317633444]])"
      ]
     },
     "metadata": {},
     "output_type": "display_data"
    },
    {
     "data": {
      "text/markdown": [
       "<text style=font-weight:bold;font-size:16px;font-family:serif>Встроенная функция<text>"
      ],
      "text/plain": [
       "<IPython.core.display.Markdown object>"
      ]
     },
     "metadata": {},
     "output_type": "display_data"
    },
    {
     "data": {
      "text/latex": [
       "$\\displaystyle \\left[\\begin{matrix}10.3267786405\\\\5.1025199601\\\\3.3389380551\\\\2.5317633444\\end{matrix}\\right]$"
      ],
      "text/plain": [
       "Matrix([\n",
       "[10.3267786405],\n",
       "[ 5.1025199601],\n",
       "[ 3.3389380551],\n",
       "[ 2.5317633444]])"
      ]
     },
     "metadata": {},
     "output_type": "display_data"
    }
   ],
   "source": [
    "real_res = qr_mod_algorithm(A1, 200, 10**-20)\n",
    "np_res = np.linalg.eigvals(A1)\n",
    "display(Markdown('<text style=font-weight:bold;font-size:16px;font-family:serif>Полученный ответ<text>'),\n",
    "            sp.Matrix(real_res.round(decimals=10)))\n",
    "display(Markdown('<text style=font-weight:bold;font-size:16px;font-family:serif>Встроенная функция<text>'),\n",
    "            sp.Matrix(np_res.round(decimals=10)))"
   ]
  },
  {
   "cell_type": "code",
   "execution_count": 62,
   "id": "agreed-portrait",
   "metadata": {},
   "outputs": [
    {
     "data": {
      "text/markdown": [
       "<text style=font-weight:bold;font-size:16px;font-family:serif>\n",
       "                             Количество итераций, которое потребовалось для нахождения решения: 59\n",
       "                         <text>"
      ],
      "text/plain": [
       "<IPython.core.display.Markdown object>"
      ]
     },
     "metadata": {},
     "output_type": "display_data"
    },
    {
     "data": {
      "text/markdown": [
       "<text style=font-weight:bold;font-size:16px;font-family:serif>Полученный ответ<text>"
      ],
      "text/plain": [
       "<IPython.core.display.Markdown object>"
      ]
     },
     "metadata": {},
     "output_type": "display_data"
    },
    {
     "data": {
      "text/latex": [
       "$\\displaystyle \\left[\\begin{matrix}2.3227488001\\\\0.7967066889\\\\0.6382838028\\\\0.2422607083\\end{matrix}\\right]$"
      ],
      "text/plain": [
       "Matrix([\n",
       "[2.3227488001],\n",
       "[0.7967066889],\n",
       "[0.6382838028],\n",
       "[0.2422607083]])"
      ]
     },
     "metadata": {},
     "output_type": "display_data"
    },
    {
     "data": {
      "text/markdown": [
       "<text style=font-weight:bold;font-size:16px;font-family:serif>Встроенная функция<text>"
      ],
      "text/plain": [
       "<IPython.core.display.Markdown object>"
      ]
     },
     "metadata": {},
     "output_type": "display_data"
    },
    {
     "data": {
      "text/latex": [
       "$\\displaystyle \\left[\\begin{matrix}2.3227488001\\\\0.2422607083\\\\0.6382838028\\\\0.7967066889\\end{matrix}\\right]$"
      ],
      "text/plain": [
       "Matrix([\n",
       "[2.3227488001],\n",
       "[0.2422607083],\n",
       "[0.6382838028],\n",
       "[0.7967066889]])"
      ]
     },
     "metadata": {},
     "output_type": "display_data"
    }
   ],
   "source": [
    "real_res = qr_mod_algorithm(A2, 200, 10**-20)\n",
    "np_res = np.linalg.eigvals(A2)\n",
    "display(Markdown('<text style=font-weight:bold;font-size:16px;font-family:serif>Полученный ответ<text>'),\n",
    "            sp.Matrix(real_res.round(decimals=10)))\n",
    "display(Markdown('<text style=font-weight:bold;font-size:16px;font-family:serif>Встроенная функция<text>'),\n",
    "            sp.Matrix(np_res.round(decimals=10)))"
   ]
  }
 ],
 "metadata": {
  "kernelspec": {
   "display_name": "Python 3",
   "language": "python",
   "name": "python3"
  },
  "language_info": {
   "codemirror_mode": {
    "name": "ipython",
    "version": 3
   },
   "file_extension": ".py",
   "mimetype": "text/x-python",
   "name": "python",
   "nbconvert_exporter": "python",
   "pygments_lexer": "ipython3",
   "version": "3.9.2"
  }
 },
 "nbformat": 4,
 "nbformat_minor": 5
}

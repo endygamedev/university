{
 "cells": [
  {
   "cell_type": "markdown",
   "metadata": {},
   "source": [
    "<div style=\"text-align: right\"> <i> Бронников Егор ПМ-1901 </i> </div>\n",
    "<div style=\"text-align: right\"> <i> Рослая Ирина ПМ-1901 </i> </div>"
   ]
  },
  {
   "cell_type": "markdown",
   "metadata": {},
   "source": [
    "<h1 align=\"center\"> <img style=\"float: left\"src=\"./logo.svg\" width=60 height=60/> Оптимизация Python кода </h1>"
   ]
  },
  {
   "cell_type": "markdown",
   "metadata": {},
   "source": [
    "## 0)  Предварительная работа"
   ]
  },
  {
   "cell_type": "markdown",
   "metadata": {},
   "source": [
    "### 0. Зависимости"
   ]
  },
  {
   "cell_type": "code",
   "execution_count": 1,
   "metadata": {},
   "outputs": [],
   "source": [
    "import copy\n",
    "import warnings\n",
    "import numpy as np\n",
    "import pandas as pd\n",
    "from typing import Union\n",
    "from random import random\n",
    "from functools import wraps\n",
    "from time import time"
   ]
  },
  {
   "cell_type": "markdown",
   "metadata": {},
   "source": [
    "### 1. Создание данных"
   ]
  },
  {
   "cell_type": "code",
   "execution_count": 2,
   "metadata": {},
   "outputs": [],
   "source": [
    "generate_data_A = lambda n: [[random() for _ in range(n)] for _ in range(n)]"
   ]
  },
  {
   "cell_type": "code",
   "execution_count": 3,
   "metadata": {},
   "outputs": [],
   "source": [
    "generate_data_f = lambda n: [random() for _ in range(n)]"
   ]
  },
  {
   "cell_type": "markdown",
   "metadata": {},
   "source": [
    "### 2. Любимые декораторы 😍 💖"
   ]
  },
  {
   "cell_type": "code",
   "execution_count": 4,
   "metadata": {},
   "outputs": [],
   "source": [
    "def timeit_deco(iters = 1000000):\n",
    "    def timeit_inner(function):\n",
    "        @wraps(function)\n",
    "        def inner(*args, **kwargs):\n",
    "            start = time()\n",
    "            result = function(*args, **kwargs)\n",
    "            for _ in range(iters-1):\n",
    "                function(*args, **kwargs)\n",
    "            end = time()\n",
    "            print(f\"Time of {function.__name__}: {end-start} sec, {iters} loops\")\n",
    "            return result\n",
    "        return inner\n",
    "    return timeit_inner"
   ]
  },
  {
   "cell_type": "markdown",
   "metadata": {},
   "source": [
    "## 1) Что мы будем оптимизировать"
   ]
  },
  {
   "cell_type": "markdown",
   "metadata": {},
   "source": [
    "### 1. Метод Гаусса с частичным выбором ведущего элемента"
   ]
  },
  {
   "cell_type": "markdown",
   "metadata": {},
   "source": [
    "**Алгоритмы решения СЛАУ:**\n",
    "1. Метод Гаусса с частичным выбором ведущего элемента\n",
    "1. Метод наискорейшего спуска"
   ]
  },
  {
   "cell_type": "markdown",
   "metadata": {},
   "source": [
    "## 2) Метод Гаусса с частичным выбором ведущего элемента"
   ]
  },
  {
   "cell_type": "markdown",
   "metadata": {},
   "source": [
    "### 0) Предварительная работа"
   ]
  },
  {
   "cell_type": "markdown",
   "metadata": {},
   "source": [
    "*Входные данные:*"
   ]
  },
  {
   "cell_type": "code",
   "execution_count": 5,
   "metadata": {},
   "outputs": [],
   "source": [
    "A = [[1.00, 0.17, -0.25, 0.54],\n",
    "     [0.47, 1.00, 0.67, -0.32],\n",
    "     [-0.11, 0.35, 1.00, -0.74],\n",
    "     [0.55, 0.43, 0.36, 1.00]]"
   ]
  },
  {
   "cell_type": "code",
   "execution_count": 6,
   "metadata": {},
   "outputs": [],
   "source": [
    "f = [0.3, 0.5, 0.7, 0.9]"
   ]
  },
  {
   "cell_type": "code",
   "execution_count": 7,
   "metadata": {},
   "outputs": [],
   "source": [
    "rand_A = generate_data_A(100)\n",
    "np_rand_A = np.matrix(rand_A, dtype=np.dtype(np.float64))"
   ]
  },
  {
   "cell_type": "code",
   "execution_count": 8,
   "metadata": {},
   "outputs": [],
   "source": [
    "rand_f = generate_data_f(100)\n",
    "np_rand_f = np.array(rand_f, dtype=np.dtype(np.float64))"
   ]
  },
  {
   "cell_type": "markdown",
   "metadata": {},
   "source": [
    "### 1) Чистный Python"
   ]
  },
  {
   "cell_type": "code",
   "execution_count": 9,
   "metadata": {},
   "outputs": [],
   "source": [
    "def gaussian_elimination_clear(A_arg: list, f_arg: list) -> list:\n",
    "    A, f = copy.deepcopy(A_arg), copy.deepcopy(f_arg)\n",
    "    for i in range(len(A)):\n",
    "        column = list(map(abs, [row[i] for row in A][i:]))\n",
    "        if max(column) == 0.:\n",
    "            warnings.warn(\"Determinant equals 0\")\n",
    "            return\n",
    "        max_row = max(range(len(column)), key=column.__getitem__)\n",
    "        if max_row != 0:\n",
    "            pos_max = max_row + i\n",
    "            A[i], A[pos_max] = A[pos_max], A[i]\n",
    "            f[i], f[pos_max] = f[pos_max], f[i]\n",
    "        for j in range(i+1, len(A)):\n",
    "            coef = -(A[j][i]/A[i][i])\n",
    "            A[j] = [coef * A[i][k] + A[j][k] for k in range(len(A[i]))]\n",
    "            f[j] = coef * f[i] + f[j]\n",
    "    n = len(f) \n",
    "    x = [0 for _ in range(len(f))]\n",
    "    x[n-1] = f[n-1]/A[n-1][n-1]\n",
    "    for i in range(n-2, -1, -1):\n",
    "        sum_elem = sum(A[i][j] * x[j] for j in range(i+1, n))\n",
    "        x[i] = (f[i] - sum_elem)/A[i][i]\n",
    "    return x"
   ]
  },
  {
   "cell_type": "code",
   "execution_count": 10,
   "metadata": {},
   "outputs": [
    {
     "name": "stdout",
     "output_type": "stream",
     "text": [
      "Time of gaussian_elimination_clear: 26.439902305603027 sec, 1000000 loops\n"
     ]
    },
    {
     "data": {
      "text/plain": [
       "[0.4408885508918321,\n",
       " -0.36303099013644724,\n",
       " 1.166798332275979,\n",
       " 0.3935672231488123]"
      ]
     },
     "execution_count": 10,
     "metadata": {},
     "output_type": "execute_result"
    }
   ],
   "source": [
    "gaussian_elimination_clear_verified = timeit_deco()(gaussian_elimination_clear)\n",
    "gaussian_elimination_clear_verified(A, f)"
   ]
  },
  {
   "cell_type": "code",
   "execution_count": 11,
   "metadata": {
    "scrolled": true
   },
   "outputs": [
    {
     "ename": "KeyboardInterrupt",
     "evalue": "",
     "output_type": "error",
     "traceback": [
      "\u001b[0;31m---------------------------------------------------------------------------\u001b[0m",
      "\u001b[0;31mKeyboardInterrupt\u001b[0m                         Traceback (most recent call last)",
      "\u001b[0;32m<ipython-input-11-031b52acfca8>\u001b[0m in \u001b[0;36m<module>\u001b[0;34m\u001b[0m\n\u001b[1;32m      1\u001b[0m \u001b[0mgaussian_elimination_clear_big_data\u001b[0m \u001b[0;34m=\u001b[0m \u001b[0mtimeit_deco\u001b[0m\u001b[0;34m(\u001b[0m\u001b[0;36m1000\u001b[0m\u001b[0;34m)\u001b[0m\u001b[0;34m(\u001b[0m\u001b[0mgaussian_elimination_clear\u001b[0m\u001b[0;34m)\u001b[0m\u001b[0;34m\u001b[0m\u001b[0;34m\u001b[0m\u001b[0m\n\u001b[0;32m----> 2\u001b[0;31m \u001b[0mgaussian_elimination_clear_big_data\u001b[0m\u001b[0;34m(\u001b[0m\u001b[0mrand_A\u001b[0m\u001b[0;34m,\u001b[0m \u001b[0mrand_f\u001b[0m\u001b[0;34m)\u001b[0m\u001b[0;34m\u001b[0m\u001b[0;34m\u001b[0m\u001b[0m\n\u001b[0m",
      "\u001b[0;32m<ipython-input-4-c516bbc7413e>\u001b[0m in \u001b[0;36minner\u001b[0;34m(*args, **kwargs)\u001b[0m\n\u001b[1;32m      6\u001b[0m             \u001b[0mresult\u001b[0m \u001b[0;34m=\u001b[0m \u001b[0mfunction\u001b[0m\u001b[0;34m(\u001b[0m\u001b[0;34m*\u001b[0m\u001b[0margs\u001b[0m\u001b[0;34m,\u001b[0m \u001b[0;34m**\u001b[0m\u001b[0mkwargs\u001b[0m\u001b[0;34m)\u001b[0m\u001b[0;34m\u001b[0m\u001b[0;34m\u001b[0m\u001b[0m\n\u001b[1;32m      7\u001b[0m             \u001b[0;32mfor\u001b[0m \u001b[0m_\u001b[0m \u001b[0;32min\u001b[0m \u001b[0mrange\u001b[0m\u001b[0;34m(\u001b[0m\u001b[0miters\u001b[0m\u001b[0;34m-\u001b[0m\u001b[0;36m1\u001b[0m\u001b[0;34m)\u001b[0m\u001b[0;34m:\u001b[0m\u001b[0;34m\u001b[0m\u001b[0;34m\u001b[0m\u001b[0m\n\u001b[0;32m----> 8\u001b[0;31m                 \u001b[0mfunction\u001b[0m\u001b[0;34m(\u001b[0m\u001b[0;34m*\u001b[0m\u001b[0margs\u001b[0m\u001b[0;34m,\u001b[0m \u001b[0;34m**\u001b[0m\u001b[0mkwargs\u001b[0m\u001b[0;34m)\u001b[0m\u001b[0;34m\u001b[0m\u001b[0;34m\u001b[0m\u001b[0m\n\u001b[0m\u001b[1;32m      9\u001b[0m             \u001b[0mend\u001b[0m \u001b[0;34m=\u001b[0m \u001b[0mtime\u001b[0m\u001b[0;34m(\u001b[0m\u001b[0;34m)\u001b[0m\u001b[0;34m\u001b[0m\u001b[0;34m\u001b[0m\u001b[0m\n\u001b[1;32m     10\u001b[0m             \u001b[0mprint\u001b[0m\u001b[0;34m(\u001b[0m\u001b[0;34mf\"Time of {function.__name__}: {end-start} sec, {iters} loops\"\u001b[0m\u001b[0;34m)\u001b[0m\u001b[0;34m\u001b[0m\u001b[0;34m\u001b[0m\u001b[0m\n",
      "\u001b[0;32m<ipython-input-9-590406cd0596>\u001b[0m in \u001b[0;36mgaussian_elimination_clear\u001b[0;34m(A_arg, f_arg)\u001b[0m\n\u001b[1;32m     13\u001b[0m         \u001b[0;32mfor\u001b[0m \u001b[0mj\u001b[0m \u001b[0;32min\u001b[0m \u001b[0mrange\u001b[0m\u001b[0;34m(\u001b[0m\u001b[0mi\u001b[0m\u001b[0;34m+\u001b[0m\u001b[0;36m1\u001b[0m\u001b[0;34m,\u001b[0m \u001b[0mlen\u001b[0m\u001b[0;34m(\u001b[0m\u001b[0mA\u001b[0m\u001b[0;34m)\u001b[0m\u001b[0;34m)\u001b[0m\u001b[0;34m:\u001b[0m\u001b[0;34m\u001b[0m\u001b[0;34m\u001b[0m\u001b[0m\n\u001b[1;32m     14\u001b[0m             \u001b[0mcoef\u001b[0m \u001b[0;34m=\u001b[0m \u001b[0;34m-\u001b[0m\u001b[0;34m(\u001b[0m\u001b[0mA\u001b[0m\u001b[0;34m[\u001b[0m\u001b[0mj\u001b[0m\u001b[0;34m]\u001b[0m\u001b[0;34m[\u001b[0m\u001b[0mi\u001b[0m\u001b[0;34m]\u001b[0m\u001b[0;34m/\u001b[0m\u001b[0mA\u001b[0m\u001b[0;34m[\u001b[0m\u001b[0mi\u001b[0m\u001b[0;34m]\u001b[0m\u001b[0;34m[\u001b[0m\u001b[0mi\u001b[0m\u001b[0;34m]\u001b[0m\u001b[0;34m)\u001b[0m\u001b[0;34m\u001b[0m\u001b[0;34m\u001b[0m\u001b[0m\n\u001b[0;32m---> 15\u001b[0;31m             \u001b[0mA\u001b[0m\u001b[0;34m[\u001b[0m\u001b[0mj\u001b[0m\u001b[0;34m]\u001b[0m \u001b[0;34m=\u001b[0m \u001b[0;34m[\u001b[0m\u001b[0mcoef\u001b[0m \u001b[0;34m*\u001b[0m \u001b[0mA\u001b[0m\u001b[0;34m[\u001b[0m\u001b[0mi\u001b[0m\u001b[0;34m]\u001b[0m\u001b[0;34m[\u001b[0m\u001b[0mk\u001b[0m\u001b[0;34m]\u001b[0m \u001b[0;34m+\u001b[0m \u001b[0mA\u001b[0m\u001b[0;34m[\u001b[0m\u001b[0mj\u001b[0m\u001b[0;34m]\u001b[0m\u001b[0;34m[\u001b[0m\u001b[0mk\u001b[0m\u001b[0;34m]\u001b[0m \u001b[0;32mfor\u001b[0m \u001b[0mk\u001b[0m \u001b[0;32min\u001b[0m \u001b[0mrange\u001b[0m\u001b[0;34m(\u001b[0m\u001b[0mlen\u001b[0m\u001b[0;34m(\u001b[0m\u001b[0mA\u001b[0m\u001b[0;34m[\u001b[0m\u001b[0mi\u001b[0m\u001b[0;34m]\u001b[0m\u001b[0;34m)\u001b[0m\u001b[0;34m)\u001b[0m\u001b[0;34m]\u001b[0m\u001b[0;34m\u001b[0m\u001b[0;34m\u001b[0m\u001b[0m\n\u001b[0m\u001b[1;32m     16\u001b[0m             \u001b[0mf\u001b[0m\u001b[0;34m[\u001b[0m\u001b[0mj\u001b[0m\u001b[0;34m]\u001b[0m \u001b[0;34m=\u001b[0m \u001b[0mcoef\u001b[0m \u001b[0;34m*\u001b[0m \u001b[0mf\u001b[0m\u001b[0;34m[\u001b[0m\u001b[0mi\u001b[0m\u001b[0;34m]\u001b[0m \u001b[0;34m+\u001b[0m \u001b[0mf\u001b[0m\u001b[0;34m[\u001b[0m\u001b[0mj\u001b[0m\u001b[0;34m]\u001b[0m\u001b[0;34m\u001b[0m\u001b[0;34m\u001b[0m\u001b[0m\n\u001b[1;32m     17\u001b[0m     \u001b[0mn\u001b[0m \u001b[0;34m=\u001b[0m \u001b[0mlen\u001b[0m\u001b[0;34m(\u001b[0m\u001b[0mf\u001b[0m\u001b[0;34m)\u001b[0m\u001b[0;34m\u001b[0m\u001b[0;34m\u001b[0m\u001b[0m\n",
      "\u001b[0;32m<ipython-input-9-590406cd0596>\u001b[0m in \u001b[0;36m<listcomp>\u001b[0;34m(.0)\u001b[0m\n\u001b[1;32m     13\u001b[0m         \u001b[0;32mfor\u001b[0m \u001b[0mj\u001b[0m \u001b[0;32min\u001b[0m \u001b[0mrange\u001b[0m\u001b[0;34m(\u001b[0m\u001b[0mi\u001b[0m\u001b[0;34m+\u001b[0m\u001b[0;36m1\u001b[0m\u001b[0;34m,\u001b[0m \u001b[0mlen\u001b[0m\u001b[0;34m(\u001b[0m\u001b[0mA\u001b[0m\u001b[0;34m)\u001b[0m\u001b[0;34m)\u001b[0m\u001b[0;34m:\u001b[0m\u001b[0;34m\u001b[0m\u001b[0;34m\u001b[0m\u001b[0m\n\u001b[1;32m     14\u001b[0m             \u001b[0mcoef\u001b[0m \u001b[0;34m=\u001b[0m \u001b[0;34m-\u001b[0m\u001b[0;34m(\u001b[0m\u001b[0mA\u001b[0m\u001b[0;34m[\u001b[0m\u001b[0mj\u001b[0m\u001b[0;34m]\u001b[0m\u001b[0;34m[\u001b[0m\u001b[0mi\u001b[0m\u001b[0;34m]\u001b[0m\u001b[0;34m/\u001b[0m\u001b[0mA\u001b[0m\u001b[0;34m[\u001b[0m\u001b[0mi\u001b[0m\u001b[0;34m]\u001b[0m\u001b[0;34m[\u001b[0m\u001b[0mi\u001b[0m\u001b[0;34m]\u001b[0m\u001b[0;34m)\u001b[0m\u001b[0;34m\u001b[0m\u001b[0;34m\u001b[0m\u001b[0m\n\u001b[0;32m---> 15\u001b[0;31m             \u001b[0mA\u001b[0m\u001b[0;34m[\u001b[0m\u001b[0mj\u001b[0m\u001b[0;34m]\u001b[0m \u001b[0;34m=\u001b[0m \u001b[0;34m[\u001b[0m\u001b[0mcoef\u001b[0m \u001b[0;34m*\u001b[0m \u001b[0mA\u001b[0m\u001b[0;34m[\u001b[0m\u001b[0mi\u001b[0m\u001b[0;34m]\u001b[0m\u001b[0;34m[\u001b[0m\u001b[0mk\u001b[0m\u001b[0;34m]\u001b[0m \u001b[0;34m+\u001b[0m \u001b[0mA\u001b[0m\u001b[0;34m[\u001b[0m\u001b[0mj\u001b[0m\u001b[0;34m]\u001b[0m\u001b[0;34m[\u001b[0m\u001b[0mk\u001b[0m\u001b[0;34m]\u001b[0m \u001b[0;32mfor\u001b[0m \u001b[0mk\u001b[0m \u001b[0;32min\u001b[0m \u001b[0mrange\u001b[0m\u001b[0;34m(\u001b[0m\u001b[0mlen\u001b[0m\u001b[0;34m(\u001b[0m\u001b[0mA\u001b[0m\u001b[0;34m[\u001b[0m\u001b[0mi\u001b[0m\u001b[0;34m]\u001b[0m\u001b[0;34m)\u001b[0m\u001b[0;34m)\u001b[0m\u001b[0;34m]\u001b[0m\u001b[0;34m\u001b[0m\u001b[0;34m\u001b[0m\u001b[0m\n\u001b[0m\u001b[1;32m     16\u001b[0m             \u001b[0mf\u001b[0m\u001b[0;34m[\u001b[0m\u001b[0mj\u001b[0m\u001b[0;34m]\u001b[0m \u001b[0;34m=\u001b[0m \u001b[0mcoef\u001b[0m \u001b[0;34m*\u001b[0m \u001b[0mf\u001b[0m\u001b[0;34m[\u001b[0m\u001b[0mi\u001b[0m\u001b[0;34m]\u001b[0m \u001b[0;34m+\u001b[0m \u001b[0mf\u001b[0m\u001b[0;34m[\u001b[0m\u001b[0mj\u001b[0m\u001b[0;34m]\u001b[0m\u001b[0;34m\u001b[0m\u001b[0;34m\u001b[0m\u001b[0m\n\u001b[1;32m     17\u001b[0m     \u001b[0mn\u001b[0m \u001b[0;34m=\u001b[0m \u001b[0mlen\u001b[0m\u001b[0;34m(\u001b[0m\u001b[0mf\u001b[0m\u001b[0;34m)\u001b[0m\u001b[0;34m\u001b[0m\u001b[0;34m\u001b[0m\u001b[0m\n",
      "\u001b[0;31mKeyboardInterrupt\u001b[0m: "
     ]
    }
   ],
   "source": [
    "gaussian_elimination_clear_big_data = timeit_deco(1000)(gaussian_elimination_clear)\n",
    "gaussian_elimination_clear_big_data(rand_A, rand_f)"
   ]
  },
  {
   "cell_type": "markdown",
   "metadata": {},
   "source": [
    "### 2) Щепото4ка numpy"
   ]
  },
  {
   "cell_type": "markdown",
   "metadata": {},
   "source": [
    "*Входные данные:*"
   ]
  },
  {
   "cell_type": "code",
   "execution_count": null,
   "metadata": {},
   "outputs": [],
   "source": [
    "np_A = np.matrix(A, dtype=np.dtype(np.float64))"
   ]
  },
  {
   "cell_type": "code",
   "execution_count": null,
   "metadata": {},
   "outputs": [],
   "source": [
    "np_f = np.array(f, dtype=np.dtype(np.float64))"
   ]
  },
  {
   "cell_type": "code",
   "execution_count": null,
   "metadata": {},
   "outputs": [],
   "source": [
    "def gaussian_elimination_numpy(A_arg: np.matrix, f_arg: Union[np.matrix, np.array]) -> Union[np.matrix, np.array]:\n",
    "    A, f = np.copy(A_arg), np.copy(f_arg)\n",
    "    for i in range(len(A)):\n",
    "        column = np.abs(A[i:, i])\n",
    "        leading_elem = np.max(column)\n",
    "        if leading_elem == 0.:\n",
    "            warnings.warn(\"Determinant equals 0\")\n",
    "            return\n",
    "        if np.where(column == leading_elem)[0][0] != 0:\n",
    "            pos_max = column.argmax() + i\n",
    "            A[[i, pos_max]] = A[[pos_max, i]]\n",
    "            f[[i, pos_max]] = f[[pos_max, i]]\n",
    "        for j in range(i+1, len(A)):\n",
    "            coef = -(A[j, i]/A[i, i])\n",
    "            A[j] = coef * A[i] + A[j]\n",
    "            f[j] = coef * f[i] + f[j]\n",
    "    n = f.shape[0]\n",
    "    X = np.zeros(shape=f.shape)\n",
    "    X[n-1] = f[n-1]/A[n-1, n-1]\n",
    "    for i in range(n-2, -1, -1):\n",
    "        sum_elem = sum(A[i, j] * X[j] for j in range(i+1, n))\n",
    "        X[i] = (f[i] - sum_elem)/A[i, i]\n",
    "    return X"
   ]
  },
  {
   "cell_type": "code",
   "execution_count": null,
   "metadata": {},
   "outputs": [],
   "source": [
    "gaussian_elimination_numpy_verified = timeit_deco()(gaussian_elimination_numpy)\n",
    "gaussian_elimination_numpy_verified(np_A, np_f)"
   ]
  },
  {
   "cell_type": "code",
   "execution_count": null,
   "metadata": {},
   "outputs": [],
   "source": [
    "gaussian_elimination_numpy_big_data = timeit_deco(1000)(gaussian_elimination_numpy)\n",
    "gaussian_elimination_numpy_big_data(np_rand_A, np_rand_f)"
   ]
  },
  {
   "cell_type": "markdown",
   "metadata": {},
   "source": [
    "### 3) Чистый Python + Cython"
   ]
  },
  {
   "cell_type": "code",
   "execution_count": null,
   "metadata": {},
   "outputs": [],
   "source": [
    "%load_ext cython"
   ]
  },
  {
   "cell_type": "code",
   "execution_count": null,
   "metadata": {},
   "outputs": [],
   "source": [
    "%%cython -a\n",
    "import copy\n",
    "import warnings\n",
    "\n",
    "\n",
    "def gaussian_elimination_clear_cython(A_arg: list, f_arg: list) -> list:\n",
    "    A, f = copy.deepcopy(A_arg), copy.deepcopy(f_arg)\n",
    "    for i in range(len(A)):\n",
    "        column = [row[i] for row in A][i:]\n",
    "        if max(column) == 0.:\n",
    "            warnings.warn(\"Determinant equals 0\")\n",
    "            return\n",
    "        max_row = max(range(len(column)), key=column.__getitem__)\n",
    "        if max_row != 0:\n",
    "            pos_max = max_row + i\n",
    "            A[i], A[pos_max] = A[pos_max], A[i]\n",
    "            f[i], f[pos_max] = f[pos_max], f[i]\n",
    "        for j in range(i+1, len(A)):\n",
    "            coef = -(A[j][i]/A[i][i])\n",
    "            A[j] = [coef * A[i][k] + A[j][k] for k in range(len(A[i]))]\n",
    "            f[j] = coef * f[i] + f[j]\n",
    "    n = len(f) \n",
    "    x = [0 for _ in range(len(f))]\n",
    "    x[n-1] = f[n-1]/A[n-1][n-1]\n",
    "    for i in range(n-2, -1, -1):\n",
    "        sum_elem = sum(A[i][j] * x[j] for j in range(i+1, n))\n",
    "        x[i] = (f[i] - sum_elem)/A[i][i]\n",
    "    return x"
   ]
  },
  {
   "cell_type": "code",
   "execution_count": null,
   "metadata": {},
   "outputs": [],
   "source": [
    "gaussian_elimination_clear_cython_verified = timeit_deco()(gaussian_elimination_clear_cython)\n",
    "gaussian_elimination_clear_cython_verified(A, f)"
   ]
  },
  {
   "cell_type": "code",
   "execution_count": null,
   "metadata": {
    "scrolled": true
   },
   "outputs": [],
   "source": [
    "gaussian_elimination_clear_cython_big_data = timeit_deco(1000)(gaussian_elimination_clear_cython)\n",
    "gaussian_elimination_clear_cython_big_data(rand_A, rand_f)"
   ]
  },
  {
   "cell_type": "markdown",
   "metadata": {},
   "source": [
    "### 4) Щепото4ка numpy + Cython"
   ]
  },
  {
   "cell_type": "code",
   "execution_count": null,
   "metadata": {},
   "outputs": [],
   "source": [
    "%%cython -a\n",
    "import warnings\n",
    "import numpy as np\n",
    "from typing import Union\n",
    "\n",
    "\n",
    "def gaussian_elimination_numpy_cython(A_arg: np.matrix, f_arg: Union[np.matrix, np.array]) -> Union[np.matrix, np.array]:\n",
    "    A, f = np.copy(A_arg), np.copy(f_arg)\n",
    "    for i in range(len(A)):\n",
    "        column = np.abs(A[i:, i])\n",
    "        leading_elem = np.max(column)\n",
    "        if leading_elem == 0.:\n",
    "            warnings.warn(\"Determinant equals 0\")\n",
    "            return\n",
    "        if np.where(column == leading_elem)[0][0] != 0:\n",
    "            pos_max = column.argmax() + i\n",
    "            A[[i, pos_max]] = A[[pos_max, i]]\n",
    "            f[[i, pos_max]] = f[[pos_max, i]]\n",
    "        for j in range(i+1, len(A)):\n",
    "            coef = -(A[j, i]/A[i, i])\n",
    "            A[j] = coef * A[i] + A[j]\n",
    "            f[j] = coef * f[i] + f[j]\n",
    "    n = f.shape[0]\n",
    "    X = np.zeros(shape=f.shape)\n",
    "    X[n-1] = f[n-1]/A[n-1, n-1]\n",
    "    for i in range(n-2, -1, -1):\n",
    "        sum_elem = sum(A[i, j] * X[j] for j in range(i+1, n))\n",
    "        X[i] = (f[i] - sum_elem)/A[i, i]\n",
    "    return X"
   ]
  },
  {
   "cell_type": "code",
   "execution_count": null,
   "metadata": {},
   "outputs": [],
   "source": [
    "gaussian_elimination_numpy_cython_verified = timeit_deco()(gaussian_elimination_numpy_cython)\n",
    "gaussian_elimination_numpy_cython_verified(np_A, np_f)"
   ]
  },
  {
   "cell_type": "code",
   "execution_count": null,
   "metadata": {},
   "outputs": [],
   "source": [
    "gaussian_elimination_numpy_cython_big_data = timeit_deco(1000)(gaussian_elimination_numpy_cython)\n",
    "gaussian_elimination_numpy_cython_big_data(np_rand_A, np_rand_f)"
   ]
  },
  {
   "cell_type": "markdown",
   "metadata": {},
   "source": [
    "### 5) Итоги"
   ]
  },
  {
   "cell_type": "code",
   "execution_count": null,
   "metadata": {},
   "outputs": [],
   "source": [
    "pd.read_json(\"gaussian_verified_data.json\").sort_values(by=\"time (sec)\").style.set_properties(**{'font-size': '16pt'})"
   ]
  },
  {
   "cell_type": "code",
   "execution_count": null,
   "metadata": {},
   "outputs": [],
   "source": [
    "pd.read_json(\"gaussian_big_data.json\").sort_values(by=\"time (sec)\").style.set_properties(**{'font-size': '16pt'})"
   ]
  },
  {
   "cell_type": "markdown",
   "metadata": {},
   "source": [
    "## 3) Метод наискорейшего спуска"
   ]
  },
  {
   "cell_type": "markdown",
   "metadata": {},
   "source": [
    "### 0. Предварительная работа"
   ]
  },
  {
   "cell_type": "markdown",
   "metadata": {},
   "source": [
    "*Входные данные:*"
   ]
  },
  {
   "cell_type": "code",
   "execution_count": null,
   "metadata": {},
   "outputs": [],
   "source": [
    "A = [[4.33, -1.12, -1.08, 1.14],\n",
    "     [-1.12, 4.33, 0.24, -1.22],\n",
    "     [-1.08, 0.24, 7.21, -3.22],\n",
    "     [1.14, -1.22, -3.22, 5.43]]\n",
    "\n",
    "np_A = np.matrix(A, dtype=np.dtype(np.float64))"
   ]
  },
  {
   "cell_type": "code",
   "execution_count": null,
   "metadata": {},
   "outputs": [],
   "source": [
    "f = [0.3, 0.5, 0.7, 0.9]\n",
    "\n",
    "np_f = np.array(f, dtype=np.dtype(np.float64))"
   ]
  },
  {
   "cell_type": "markdown",
   "metadata": {},
   "source": [
    "*Умножение матриц*"
   ]
  },
  {
   "cell_type": "code",
   "execution_count": null,
   "metadata": {},
   "outputs": [],
   "source": [
    "def matmul(mat1, mat2):\n",
    "    return [[sum(mat1[i][k] * mat2[k][j] for k in range(len(mat1[0])))\n",
    "             for j in range(len(mat2[0]))]\n",
    "             for i in range(len(mat1))]"
   ]
  },
  {
   "cell_type": "markdown",
   "metadata": {},
   "source": [
    "*Скалярное произведение*"
   ]
  },
  {
   "cell_type": "code",
   "execution_count": null,
   "metadata": {},
   "outputs": [],
   "source": [
    "def dot(mat1, mat2):\n",
    "    return sum(x[0] * y[0] for x, y in zip(mat1, mat2))"
   ]
  },
  {
   "cell_type": "markdown",
   "metadata": {},
   "source": [
    "### 1) Чистый Python"
   ]
  },
  {
   "cell_type": "code",
   "execution_count": null,
   "metadata": {},
   "outputs": [],
   "source": [
    "def steepest_descent_method_clear(A_arg: list, f_arg: list, K_max: int) -> list:\n",
    "    A, f = copy.deepcopy(A_arg), copy.deepcopy(f_arg)\n",
    "    x = [[0] for _ in range(len(f))]\n",
    "    for k in range(K_max):\n",
    "        mul = matmul(A, x)\n",
    "        r = [[f[i] - mul[i][0]] for i in range(len(f))]\n",
    "        alpha = dot(r, r)/dot(matmul(A, r), r)\n",
    "        x = [[x[i][0] + alpha * r[i][0]] for i in range(len(x))]\n",
    "    return x"
   ]
  },
  {
   "cell_type": "code",
   "execution_count": null,
   "metadata": {},
   "outputs": [],
   "source": [
    "steepest_descent_method_clear_verified = timeit_deco()(steepest_descent_method_clear)\n",
    "steepest_descent_method_clear_verified(A, f, 10)"
   ]
  },
  {
   "cell_type": "markdown",
   "metadata": {},
   "source": [
    "### 2) numpy"
   ]
  },
  {
   "cell_type": "code",
   "execution_count": null,
   "metadata": {},
   "outputs": [],
   "source": [
    "def steepest_descent_method_numpy(A_arg: np.matrix, f_arg: np.array, K_max: int) -> np.array:\n",
    "    A, f = np.copy(A_arg), np.copy(f_arg)\n",
    "    if not np.all(np.linalg.eigvals(A) > 0):\n",
    "        warnings.warn(\"Matrix is not positive definite\")\n",
    "        return\n",
    "    elif not np.allclose(A, A.T):\n",
    "        warnings.warn(\"Matrix is not symmetric\")\n",
    "        return\n",
    "    elif K_max < 0:\n",
    "        warnings.warn(\"The number of iterations cannot be negative\")\n",
    "        return\n",
    "    x = np.zeros(f.shape, dtype=np.dtype(np.float64))\n",
    "    for k in range(K_max):\n",
    "        r = np.squeeze(np.asarray(f - np.matmul(A, x)))\n",
    "        alpha = (np.dot(r, r)/np.dot(np.matmul(A, r), r)).item(0)\n",
    "        x = x + alpha * r\n",
    "    return x"
   ]
  },
  {
   "cell_type": "code",
   "execution_count": null,
   "metadata": {},
   "outputs": [],
   "source": [
    "steepest_descent_method_numpy_verified = timeit_deco()(steepest_descent_method_numpy)\n",
    "steepest_descent_method_numpy_verified(np_A, np_f, 10)"
   ]
  },
  {
   "cell_type": "markdown",
   "metadata": {},
   "source": [
    "### 3) Чистый Python + Cython"
   ]
  },
  {
   "cell_type": "code",
   "execution_count": null,
   "metadata": {},
   "outputs": [],
   "source": [
    "%%cython -a\n",
    "import copy\n",
    "from __main__ import matmul\n",
    "from __main__ import dot\n",
    "\n",
    "\n",
    "def steepest_descent_method_clear_cython(A_arg: list, f_arg: list, K_max: int) -> list:\n",
    "    A, f = copy.deepcopy(A_arg), copy.deepcopy(f_arg)\n",
    "    x = [[0] for _ in range(len(f))]\n",
    "    for k in range(K_max):\n",
    "        mul = matmul(A, x)\n",
    "        r = [[f[i] - mul[i][0]] for i in range(len(f))]\n",
    "        alpha = dot(r, r)/dot(matmul(A, r), r)\n",
    "        x = [[x[i][0] + alpha * r[i][0]] for i in range(len(x))]\n",
    "    return x"
   ]
  },
  {
   "cell_type": "code",
   "execution_count": null,
   "metadata": {},
   "outputs": [],
   "source": [
    "steepest_descent_method_clear_cython_verified = timeit_deco()(steepest_descent_method_clear_cython)\n",
    "steepest_descent_method_clear_cython_verified(A, f, 10)"
   ]
  },
  {
   "cell_type": "markdown",
   "metadata": {},
   "source": [
    "### 4) numpy + Cython"
   ]
  },
  {
   "cell_type": "code",
   "execution_count": null,
   "metadata": {},
   "outputs": [],
   "source": [
    "%%cython -a\n",
    "import warnings\n",
    "import numpy as np\n",
    "from typing import Union\n",
    "\n",
    "\n",
    "def steepest_descent_method_numpy_cython(A_arg: np.matrix, f_arg: np.array, K_max: int) -> np.array:\n",
    "    A, f = np.copy(A_arg), np.copy(f_arg)\n",
    "    if not np.all(np.linalg.eigvals(A) > 0):\n",
    "        warnings.warn(\"Matrix is not positive definite\")\n",
    "        return\n",
    "    elif not np.allclose(A, A.T):\n",
    "        warnings.warn(\"Matrix is not symmetric\")\n",
    "        return\n",
    "    elif K_max < 0:\n",
    "        warnings.warn(\"The number of iterations cannot be negative\")\n",
    "        return\n",
    "    x = np.zeros(f.shape, dtype=np.dtype(np.float64))\n",
    "    for k in range(K_max):\n",
    "        r = np.squeeze(np.asarray(f - np.matmul(A, x)))\n",
    "        alpha = (np.dot(r, r)/np.dot(np.matmul(A, r), r)).item(0)\n",
    "        x = x + alpha * r\n",
    "    return x"
   ]
  },
  {
   "cell_type": "code",
   "execution_count": null,
   "metadata": {},
   "outputs": [],
   "source": [
    "steepest_descent_method_numpy_cython_verified = timeit_deco()(steepest_descent_method_numpy_cython)\n",
    "steepest_descent_method_numpy_cython_verified(A, f, 10)"
   ]
  },
  {
   "cell_type": "markdown",
   "metadata": {},
   "source": [
    "### 5) Итоги"
   ]
  },
  {
   "cell_type": "code",
   "execution_count": null,
   "metadata": {},
   "outputs": [],
   "source": [
    "pd.read_json(\"steepest_descent_verified_data.json\").sort_values(by=\"time (sec)\").style.set_properties(**{'font-size': '16pt'})"
   ]
  }
 ],
 "metadata": {
  "kernelspec": {
   "display_name": "Python 3",
   "language": "python",
   "name": "python3"
  },
  "language_info": {
   "codemirror_mode": {
    "name": "ipython",
    "version": 3
   },
   "file_extension": ".py",
   "mimetype": "text/x-python",
   "name": "python",
   "nbconvert_exporter": "python",
   "pygments_lexer": "ipython3",
   "version": "3.9.2"
  }
 },
 "nbformat": 4,
 "nbformat_minor": 4
}

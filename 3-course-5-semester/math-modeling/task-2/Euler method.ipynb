{
 "cells": [
  {
   "cell_type": "markdown",
   "id": "74d014fd-2639-4716-b992-ea0b09623a87",
   "metadata": {},
   "source": [
    "# Задание №3. Модель Солоу - метод Эйлера."
   ]
  },
  {
   "cell_type": "markdown",
   "id": "2e7eb378-abf3-4c80-9057-8cc2eba49e96",
   "metadata": {},
   "source": [
    "### Импорт модулей"
   ]
  },
  {
   "cell_type": "code",
   "execution_count": 1,
   "id": "34186682-b330-453f-9591-37ffaff5bcbd",
   "metadata": {},
   "outputs": [],
   "source": [
    "from typing import Callable, Tuple"
   ]
  },
  {
   "cell_type": "markdown",
   "id": "d4344509-c894-4d66-bcdd-39ec49322ddb",
   "metadata": {},
   "source": [
    "### Метод Эйлера"
   ]
  },
  {
   "cell_type": "code",
   "execution_count": 5,
   "id": "3f4dce61-3df1-4101-a2fb-59f1d929f7fb",
   "metadata": {},
   "outputs": [],
   "source": [
    "def euler(g: Callable, n: int, h: float, x: float, y: float) -> Tuple[float, float]:\n",
    "    \"\"\" Численный метод решения систем обыкновенных дифференциальных уравнений\n",
    "    \n",
    "        :param g: функция\n",
    "        :type g: Callable\n",
    "        :param n: количество итераций\n",
    "        :type n: int\n",
    "        :param h: шаг\n",
    "        :type h: float\n",
    "        :param x: начальная точка `x`\n",
    "        :type x: float\n",
    "        :param y: начальная точка `y`\n",
    "        :type y: float\n",
    "        \n",
    "        :return: решение ДУ\n",
    "        :rtype: Tuple[float, float]\n",
    "    \"\"\"\n",
    "    for _ in range(n):\n",
    "        y += h * g(x,y)\n",
    "        x += h\n",
    "    return x, y"
   ]
  },
  {
   "cell_type": "code",
   "execution_count": 6,
   "id": "0d373740-ce4e-43a4-812c-9e38e798c0ac",
   "metadata": {},
   "outputs": [],
   "source": [
    "def g1(x,y):\n",
    "    return 6*x**2 + 5*x*y"
   ]
  },
  {
   "cell_type": "code",
   "execution_count": 7,
   "id": "a0c97d0c-0b59-4990-84aa-9628f628aff0",
   "metadata": {},
   "outputs": [
    {
     "data": {
      "text/plain": [
       "(1.3000000000000003, 11.061460074727481)"
      ]
     },
     "execution_count": 7,
     "metadata": {},
     "output_type": "execute_result"
    }
   ],
   "source": [
    "euler(g1, 30, 0.01, 1, 1)"
   ]
  }
 ],
 "metadata": {
  "kernelspec": {
   "display_name": "Python 3 (ipykernel)",
   "language": "python",
   "name": "python3"
  },
  "language_info": {
   "codemirror_mode": {
    "name": "ipython",
    "version": 3
   },
   "file_extension": ".py",
   "mimetype": "text/x-python",
   "name": "python",
   "nbconvert_exporter": "python",
   "pygments_lexer": "ipython3",
   "version": "3.9.7"
  }
 },
 "nbformat": 4,
 "nbformat_minor": 5
}

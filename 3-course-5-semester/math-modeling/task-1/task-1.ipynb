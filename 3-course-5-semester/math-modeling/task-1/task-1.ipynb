{
 "cells": [
  {
   "cell_type": "markdown",
   "id": "e5cd0cc2-44cd-4ac1-832b-fe9a1f9c7dc9",
   "metadata": {},
   "source": [
    "# Индивидуальное задание №1. Модель Леонтьева."
   ]
  },
  {
   "cell_type": "markdown",
   "id": "4d8deb04-1e2d-4847-8651-88efa8698a86",
   "metadata": {},
   "source": [
    "Импорт модулей"
   ]
  },
  {
   "cell_type": "code",
   "execution_count": 1,
   "id": "b0a1f7c7-058a-4a68-a362-4e2d65b9539e",
   "metadata": {},
   "outputs": [],
   "source": [
    "import numpy as np\n",
    "import sympy as sp\n",
    "from typing import Tuple, List"
   ]
  },
  {
   "cell_type": "markdown",
   "id": "1ac909f9-00d3-4f31-8913-2aca7336be2e",
   "metadata": {},
   "source": [
    "## Задание №1"
   ]
  },
  {
   "cell_type": "markdown",
   "id": "5ab763fd-fcd4-4b92-9f45-f708de5e11e5",
   "metadata": {},
   "source": [
    "### Дано"
   ]
  },
  {
   "cell_type": "code",
   "execution_count": 2,
   "id": "3e1f268f-a9c8-4597-bc5c-f506eff4c30b",
   "metadata": {},
   "outputs": [
    {
     "data": {
      "text/latex": [
       "$\\displaystyle \\left[\\begin{matrix}50 & 60 & 80\\\\25 & 80 & 40\\\\25 & 60 & 40\\end{matrix}\\right]$"
      ],
      "text/plain": [
       "Matrix([\n",
       "[50, 60, 80],\n",
       "[25, 80, 40],\n",
       "[25, 60, 40]])"
      ]
     },
     "execution_count": 2,
     "metadata": {},
     "output_type": "execute_result"
    }
   ],
   "source": [
    "x1 = [[50, 60, 80],\n",
    "        [25, 80, 40],\n",
    "        [25, 60, 40]]\n",
    "sp.Matrix(x1)"
   ]
  },
  {
   "cell_type": "code",
   "execution_count": 3,
   "id": "e400d90f-26df-48a5-8149-5e14c51eefe7",
   "metadata": {},
   "outputs": [
    {
     "data": {
      "text/latex": [
       "$\\displaystyle \\left[\\begin{matrix}60 & 30 & 35\\end{matrix}\\right]$"
      ],
      "text/plain": [
       "[60, 30, 35]"
      ]
     },
     "execution_count": 3,
     "metadata": {},
     "output_type": "execute_result"
    }
   ],
   "source": [
    "Y1 = [60, 30, 35]\n",
    "sp.Array(Y1)"
   ]
  },
  {
   "cell_type": "code",
   "execution_count": 4,
   "id": "6ba820aa-220e-478b-a9aa-2ae72dfd14d7",
   "metadata": {},
   "outputs": [
    {
     "data": {
      "text/latex": [
       "$\\displaystyle \\left[\\begin{matrix}0.1 & 0.5 & 0.2\\end{matrix}\\right]$"
      ],
      "text/plain": [
       "[0.1, 0.5, 0.2]"
      ]
     },
     "execution_count": 4,
     "metadata": {},
     "output_type": "execute_result"
    }
   ],
   "source": [
    "percentages = [0.1, 0.5, 0.2]\n",
    "sp.Array(percentages)"
   ]
  },
  {
   "cell_type": "code",
   "execution_count": 5,
   "id": "73412910-6491-477f-bab4-a546d8a8b27b",
   "metadata": {},
   "outputs": [
    {
     "data": {
      "text/plain": [
       "3"
      ]
     },
     "execution_count": 5,
     "metadata": {},
     "output_type": "execute_result"
    }
   ],
   "source": [
    "n = len(Y1)\n",
    "n"
   ]
  },
  {
   "cell_type": "markdown",
   "id": "6e31ce66-e190-4cd0-ab1b-d8480c5bdff6",
   "metadata": {},
   "source": [
    "### Решение"
   ]
  },
  {
   "cell_type": "markdown",
   "id": "6db5e540-deed-40ed-b744-d3988161c3ed",
   "metadata": {},
   "source": [
    "**1 часть**"
   ]
  },
  {
   "cell_type": "markdown",
   "id": "0c454028-e357-4ca8-9db9-5a4b733ccee3",
   "metadata": {},
   "source": [
    "Находим валовые продукты отраслей"
   ]
  },
  {
   "cell_type": "markdown",
   "id": "3ce24420-4ac8-435f-b47d-0d453d0f438c",
   "metadata": {},
   "source": [
    "$$\\Large X_{i} = Y_{i} + \\sum_{j = 1}^{n} x_{ij} \\qquad \\large \\forall i \\in \\{1, \\ldots, n\\}$$"
   ]
  },
  {
   "cell_type": "code",
   "execution_count": 6,
   "id": "4a3798cc-3cc6-4c53-af5a-23b2857149fc",
   "metadata": {},
   "outputs": [
    {
     "data": {
      "text/latex": [
       "$\\displaystyle \\left[\\begin{matrix}250 & 175 & 160\\end{matrix}\\right]$"
      ],
      "text/plain": [
       "[250, 175, 160]"
      ]
     },
     "execution_count": 6,
     "metadata": {},
     "output_type": "execute_result"
    }
   ],
   "source": [
    "X1 = [Y1[i] + sum(x1[i][j] for j in range(n)) for i in range(n)]\n",
    "sp.Array(X1)"
   ]
  },
  {
   "cell_type": "markdown",
   "id": "b1fa4399-369e-4a70-ace7-f521681b6fe3",
   "metadata": {},
   "source": [
    "Находим коэффициенты прямых затрат"
   ]
  },
  {
   "cell_type": "markdown",
   "id": "5e11708b-4920-4a02-b409-b9d1b8b89f57",
   "metadata": {},
   "source": [
    "$$\\Large a_{ij} = \\frac{x_{ij}}{X_{j}}$$"
   ]
  },
  {
   "cell_type": "code",
   "execution_count": 7,
   "id": "d7d9ebb7-66fd-488e-aa80-3b76222ebb7b",
   "metadata": {},
   "outputs": [
    {
     "data": {
      "text/latex": [
       "$\\displaystyle \\left[\\begin{matrix}0.2 & 0.342857142857143 & 0.5\\\\0.1 & 0.457142857142857 & 0.25\\\\0.1 & 0.342857142857143 & 0.25\\end{matrix}\\right]$"
      ],
      "text/plain": [
       "Matrix([\n",
       "[0.2, 0.342857142857143,  0.5],\n",
       "[0.1, 0.457142857142857, 0.25],\n",
       "[0.1, 0.342857142857143, 0.25]])"
      ]
     },
     "execution_count": 7,
     "metadata": {},
     "output_type": "execute_result"
    }
   ],
   "source": [
    "A1 = [[x1[i][j]/X1[j] for j in range(n)] for i in range(n)]\n",
    "sp.Matrix(A1)"
   ]
  },
  {
   "cell_type": "markdown",
   "id": "3019e732-cc21-4b2d-b0ff-2f45612441f5",
   "metadata": {},
   "source": [
    "**2 часть**"
   ]
  },
  {
   "cell_type": "markdown",
   "id": "ccecdef7-a1db-4321-b4bd-3f6ea3a44aa7",
   "metadata": {},
   "source": [
    "Увеличили на 10%, 50% и 20%"
   ]
  },
  {
   "cell_type": "code",
   "execution_count": 8,
   "id": "b8feda46-0434-4946-a6b4-a924013b76f8",
   "metadata": {},
   "outputs": [
    {
     "data": {
      "text/latex": [
       "$\\displaystyle \\left[\\begin{matrix}275.0 & 262.5 & 192.0\\end{matrix}\\right]$"
      ],
      "text/plain": [
       "[275.0, 262.5, 192.0]"
      ]
     },
     "execution_count": 8,
     "metadata": {},
     "output_type": "execute_result"
    }
   ],
   "source": [
    "X1_new = [X1[i] * (percentages[i] + 1)  for i in range(n)]\n",
    "sp.Array(X1_new)"
   ]
  },
  {
   "cell_type": "markdown",
   "id": "7524ecce-7ff6-4c3d-9f89-df7cab712757",
   "metadata": {},
   "source": [
    "Находим новые конечные продукты отраслей"
   ]
  },
  {
   "cell_type": "markdown",
   "id": "23350118-fa41-4eb8-90f4-1da7ed776445",
   "metadata": {},
   "source": [
    "$$\\Large Y_{i} = X_{i} - \\sum_{j=1}^{n} x_{ij} \\quad \\large \\forall i \\in \\{1, \\ldots, n\\} $$"
   ]
  },
  {
   "cell_type": "code",
   "execution_count": 9,
   "id": "cbe0ca6a-12fb-490d-99f4-4a333091d059",
   "metadata": {},
   "outputs": [
    {
     "data": {
      "text/latex": [
       "$\\displaystyle \\left[\\begin{matrix}85.0 & 117.5 & 67.0\\end{matrix}\\right]$"
      ],
      "text/plain": [
       "[85.0, 117.5, 67.0]"
      ]
     },
     "execution_count": 9,
     "metadata": {},
     "output_type": "execute_result"
    }
   ],
   "source": [
    "Y1_new = [X1_new[i] - sum(x1[i][j] for j in range(n)) for i in range(n)]\n",
    "sp.Array(Y1_new)"
   ]
  },
  {
   "cell_type": "markdown",
   "id": "4acd10f2-b5ff-4f78-9cac-85a10cdb8bf0",
   "metadata": {},
   "source": [
    "### Функция"
   ]
  },
  {
   "cell_type": "code",
   "execution_count": 10,
   "id": "46734a67-5118-4abb-9de2-82d036be300e",
   "metadata": {},
   "outputs": [],
   "source": [
    "def f1(x: List[List[float]], Y: List[float], percentages: List[float]) -> Tuple[List[List[float]], List[float]]:\n",
    "    \"\"\" Находит матрицу коэффициентов прямых затрат и конечные продукты отраслей при их изменении\n",
    "        \n",
    "        :param x: матрица, которая показывает объём продукции произведённой в отрасли `i` и потребляемой отраслью `j`\n",
    "        :type x: List[List[float]]\n",
    "        :param Y: список конечных продуктов отраслей\n",
    "        :type Y: List[float]\n",
    "        :param percentages: список процентов на которые меняются валовые продукты отраслей\n",
    "        :type percentages: List[float]\n",
    "        \n",
    "        :return: кортеж, первый элемент которого - матрица коэффициентов прямых затрат, а второй элемент - новые конечные продукты отраслей\n",
    "        :rtype: Tuple[List[List[float]], List[float]]\n",
    "    \"\"\"\n",
    "    n = len(Y)\n",
    "    X = [Y[i] + sum(x[i][j] for j in range(n)) for i in range(n)]\n",
    "    A = [[x[i][j]/X[j] for j in range(n)] for i in range(n)]\n",
    "    X_new = [X[i] * (percentages[i] + 1)  for i in range(n)]\n",
    "    Y_new = [X_new[i] - sum(x[i][j] for j in range(n)) for i in range(n)]\n",
    "    return A, Y_new"
   ]
  },
  {
   "cell_type": "code",
   "execution_count": 11,
   "id": "0b27735f-8951-48ca-a7e0-25ccc9df52bf",
   "metadata": {},
   "outputs": [],
   "source": [
    "res = f1(x1, Y1, percentages)"
   ]
  },
  {
   "cell_type": "code",
   "execution_count": 12,
   "id": "bf1b8741-aa41-4c45-ae48-76311ebc450b",
   "metadata": {},
   "outputs": [
    {
     "data": {
      "text/latex": [
       "$\\displaystyle \\left[\\begin{matrix}0.2 & 0.342857142857143 & 0.5\\\\0.1 & 0.457142857142857 & 0.25\\\\0.1 & 0.342857142857143 & 0.25\\end{matrix}\\right]$"
      ],
      "text/plain": [
       "Matrix([\n",
       "[0.2, 0.342857142857143,  0.5],\n",
       "[0.1, 0.457142857142857, 0.25],\n",
       "[0.1, 0.342857142857143, 0.25]])"
      ]
     },
     "execution_count": 12,
     "metadata": {},
     "output_type": "execute_result"
    }
   ],
   "source": [
    "sp.Matrix(res[0])"
   ]
  },
  {
   "cell_type": "code",
   "execution_count": 13,
   "id": "43eb6948-c353-42ad-b9fd-4790169b969f",
   "metadata": {},
   "outputs": [
    {
     "data": {
      "text/latex": [
       "$\\displaystyle \\left[\\begin{matrix}85.0\\\\117.5\\\\67.0\\end{matrix}\\right]$"
      ],
      "text/plain": [
       "Matrix([\n",
       "[ 85.0],\n",
       "[117.5],\n",
       "[ 67.0]])"
      ]
     },
     "execution_count": 13,
     "metadata": {},
     "output_type": "execute_result"
    }
   ],
   "source": [
    "sp.Matrix(res[1])"
   ]
  },
  {
   "cell_type": "code",
   "execution_count": 14,
   "id": "46f7964e-619f-4884-b3a8-fe6addc733fb",
   "metadata": {},
   "outputs": [
    {
     "data": {
      "text/latex": [
       "$\\displaystyle \\left[\\begin{matrix}60\\\\30\\\\35\\end{matrix}\\right]$"
      ],
      "text/plain": [
       "Matrix([\n",
       "[60],\n",
       "[30],\n",
       "[35]])"
      ]
     },
     "execution_count": 14,
     "metadata": {},
     "output_type": "execute_result"
    }
   ],
   "source": [
    "sp.Matrix(Y1)"
   ]
  },
  {
   "cell_type": "markdown",
   "id": "f0e56fdd-43c9-49e8-9c84-37b5e86de7c9",
   "metadata": {},
   "source": [
    "### Вывод"
   ]
  },
  {
   "cell_type": "markdown",
   "id": "589866f1-7f94-4f15-97e0-edde55dccf64",
   "metadata": {},
   "source": [
    "Можно заметить, что при увеличении валового выпуска на 10%, 50% и 20%, увеличивается и конечный продукт"
   ]
  },
  {
   "cell_type": "markdown",
   "id": "6ee52940-1003-47f4-ba78-17d796131195",
   "metadata": {
    "tags": []
   },
   "source": [
    "## Задание №2"
   ]
  },
  {
   "cell_type": "markdown",
   "id": "22054fe2-ffa5-48b8-a4f4-f5dcd2d509cd",
   "metadata": {},
   "source": [
    "### Дано"
   ]
  },
  {
   "cell_type": "code",
   "execution_count": 15,
   "id": "6d094cef-f715-42c0-95ae-c4d674f41a62",
   "metadata": {},
   "outputs": [
    {
     "data": {
      "text/latex": [
       "$\\displaystyle \\left[\\begin{matrix}0.1 & 0.2 & 0.3\\\\0.2 & 0.3 & 0.1\\\\0.3 & 0.1 & 0.2\\end{matrix}\\right]$"
      ],
      "text/plain": [
       "Matrix([\n",
       "[0.1, 0.2, 0.3],\n",
       "[0.2, 0.3, 0.1],\n",
       "[0.3, 0.1, 0.2]])"
      ]
     },
     "execution_count": 15,
     "metadata": {},
     "output_type": "execute_result"
    }
   ],
   "source": [
    "A2 = [[0.1, 0.2, 0.3],\n",
    "      [0.2, 0.3, 0.1],\n",
    "      [0.3, 0.1, 0.2]]\n",
    "sp.Matrix(A2)"
   ]
  },
  {
   "cell_type": "code",
   "execution_count": 16,
   "id": "63ec70b5-dac6-49d5-9ea1-0329eaae6514",
   "metadata": {
    "tags": []
   },
   "outputs": [
    {
     "data": {
      "text/latex": [
       "$\\displaystyle \\left[\\begin{matrix}260 & 40 & 20\\end{matrix}\\right]$"
      ],
      "text/plain": [
       "[260, 40, 20]"
      ]
     },
     "execution_count": 16,
     "metadata": {},
     "output_type": "execute_result"
    }
   ],
   "source": [
    "Y2 = [260, 40, 20]\n",
    "sp.Array(Y2)"
   ]
  },
  {
   "cell_type": "code",
   "execution_count": 17,
   "id": "e809fd15-ed35-4efa-a006-7d8cd0759f0c",
   "metadata": {},
   "outputs": [
    {
     "data": {
      "text/plain": [
       "3"
      ]
     },
     "execution_count": 17,
     "metadata": {},
     "output_type": "execute_result"
    }
   ],
   "source": [
    "n = len(Y2)\n",
    "n"
   ]
  },
  {
   "cell_type": "markdown",
   "id": "bdd5ac38-cdd4-4e4d-abd0-314ceb15096e",
   "metadata": {},
   "source": [
    "### Решение"
   ]
  },
  {
   "cell_type": "markdown",
   "id": "d4b26f15-cf3f-418c-820d-37ec2b6bcfc7",
   "metadata": {},
   "source": [
    "Находим по формуле валовые выпуски отраслей"
   ]
  },
  {
   "cell_type": "markdown",
   "id": "832369fe-4407-4cc1-897d-e0660e85a056",
   "metadata": {},
   "source": [
    "$$\\Large X = (E - A)^{-1} \\times Y$$"
   ]
  },
  {
   "cell_type": "code",
   "execution_count": 18,
   "id": "c9656c87-a190-45ca-8de0-c5bec77f6faf",
   "metadata": {},
   "outputs": [
    {
     "data": {
      "text/latex": [
       "$\\displaystyle \\left[\\begin{matrix}400.0 & 200.0 & 200.0\\end{matrix}\\right]$"
      ],
      "text/plain": [
       "[400.0, 200.0, 200.0]"
      ]
     },
     "execution_count": 18,
     "metadata": {},
     "output_type": "execute_result"
    }
   ],
   "source": [
    "X2 = list(np.dot(np.linalg.inv(np.identity(n) - A2), Y2).round(decimals=10))\n",
    "sp.Array(X2)"
   ]
  },
  {
   "cell_type": "markdown",
   "id": "715dc0cf-80dd-4671-abd3-cb76aa9632c5",
   "metadata": {},
   "source": [
    "### Функция"
   ]
  },
  {
   "cell_type": "code",
   "execution_count": 19,
   "id": "5254616d-8d06-4529-88e2-b67d6af0f3e2",
   "metadata": {},
   "outputs": [],
   "source": [
    "def f2(A: List[List[float]], Y: List[float]) -> List[float]:\n",
    "    \"\"\" Находим валовые продукты отраслей\n",
    "    \n",
    "        :param A: матрица коэффициентов прямых затрат\n",
    "        :type A: List[List[float]]\n",
    "        :param Y: список конечных продуктов отраслей\n",
    "        :type Y: List[float]\n",
    "        \n",
    "        :return: список валовых продуктов отраслей\n",
    "        :rtype: List[float]\n",
    "    \"\"\"\n",
    "    return list(np.dot(np.linalg.inv(np.identity(n) - A2), Y2).round(decimals=10))"
   ]
  },
  {
   "cell_type": "code",
   "execution_count": 20,
   "id": "1f89f0cb-3581-435b-a82c-1ee79d28e41e",
   "metadata": {},
   "outputs": [
    {
     "data": {
      "text/latex": [
       "$\\displaystyle \\left[\\begin{matrix}400.0 & 200.0 & 200.0\\end{matrix}\\right]$"
      ],
      "text/plain": [
       "[400.0, 200.0, 200.0]"
      ]
     },
     "execution_count": 20,
     "metadata": {},
     "output_type": "execute_result"
    }
   ],
   "source": [
    "sp.Array(f2(A2, Y2))"
   ]
  }
 ],
 "metadata": {
  "kernelspec": {
   "display_name": "Python 3 (ipykernel)",
   "language": "python",
   "name": "python3"
  },
  "language_info": {
   "codemirror_mode": {
    "name": "ipython",
    "version": 3
   },
   "file_extension": ".py",
   "mimetype": "text/x-python",
   "name": "python",
   "nbconvert_exporter": "python",
   "pygments_lexer": "ipython3",
   "version": "3.9.7"
  }
 },
 "nbformat": 4,
 "nbformat_minor": 5
}

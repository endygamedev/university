{
 "cells": [
  {
   "cell_type": "markdown",
   "id": "00416cab-0446-40b2-bf92-eda440db95ba",
   "metadata": {},
   "source": [
    "# Задание №5. Модель взаимодействия двух конкурирующих видов."
   ]
  },
  {
   "cell_type": "markdown",
   "id": "ab28401e-4f87-4d3a-b6a4-e37583eaf61e",
   "metadata": {},
   "source": [
    "### Импорт модулей"
   ]
  },
  {
   "cell_type": "code",
   "execution_count": 1,
   "id": "757c4be2-32c7-437f-881e-e7d14e7885f6",
   "metadata": {},
   "outputs": [],
   "source": [
    "from typing import Callable, Tuple\n",
    "import matplotlib.pyplot as plt\n",
    "\n",
    "%matplotlib inline"
   ]
  },
  {
   "cell_type": "markdown",
   "id": "f40294ae-81d9-463a-9256-471aa1a6be15",
   "metadata": {},
   "source": [
    "### Метод Рунге-Кутта"
   ]
  },
  {
   "cell_type": "code",
   "execution_count": 2,
   "id": "951b7264-ec7c-4380-b6b5-18be14e5c693",
   "metadata": {},
   "outputs": [],
   "source": [
    "def runge_kutta(fs: Tuple[Callable], n: int, h: float, t: float, x: float, y: float) -> Tuple[float, float, float]:\n",
    "    \"\"\" Численный метод решения систем обыкновенных дифференциальных уравнений методом Рунге-Кутта\n",
    "    \n",
    "        :param fs: кортеж из первого и второго уравнений\n",
    "        :type fs: Tuple[Callable]\n",
    "        :param n: количество итераций (дней)\n",
    "        :type n: int\n",
    "        :param h: шаг\n",
    "        :type h: float\n",
    "        :param t: начальная точка `t`\n",
    "        :type t: float\n",
    "        :param x: начальная точка `x`\n",
    "        :type x: float\n",
    "        :param y: начальная точка `y`\n",
    "        :type y: float\n",
    "        \n",
    "        :return: решение ДУ\n",
    "        :rtype: Tuple[float, float, float]\n",
    "    \"\"\"\n",
    "    def k(k1, k2, k3, k4):\n",
    "            return (k1 + 2*k2 + 2*k3 + k4)/6\n",
    "    for _ in range(n):\n",
    "        k11, k21 = map(lambda f: h * f(t, x, y), fs)\n",
    "        k12, k22 = map(lambda f: h * f(t + h/2, x + k11/2, y + k21/2), fs)\n",
    "        k13, k23 = map(lambda f: h * f(t + h/2, x + k12/2, y + k22/2), fs)\n",
    "        k14, k24 = map(lambda f: h * f(t + h,   x + k13,   y + k23),   fs)\n",
    "        k1, k2 = k(k11, k12, k13, k14), k(k21, k22, k23, k24)\n",
    "        t, x, y = t + h, x + k1, y + k2\n",
    "    return t, x, y"
   ]
  },
  {
   "cell_type": "code",
   "execution_count": 3,
   "id": "abbd092c-6f1b-42ff-93e6-a3f9bbe0c269",
   "metadata": {},
   "outputs": [],
   "source": [
    "def f1(t, x, y, *, a1=20, b11=5, b12=2):\n",
    "    return a1*x-b11*x**2-b12*x*y"
   ]
  },
  {
   "cell_type": "code",
   "execution_count": 4,
   "id": "ab742d5d-dcd7-45ee-bf1e-dcd3e2c5b822",
   "metadata": {},
   "outputs": [],
   "source": [
    "def f2(t, x, y, *, a2=18, b21=3, b22=5):\n",
    "    return a2*y-b21*x*y-b22*y**2"
   ]
  },
  {
   "cell_type": "code",
   "execution_count": 5,
   "id": "f436a798-9496-4fde-930e-a8232c9ddece",
   "metadata": {},
   "outputs": [
    {
     "data": {
      "text/plain": [
       "(6.009999999999916, 3.3684210526315623, 1.5789473684210813)"
      ]
     },
     "execution_count": 5,
     "metadata": {},
     "output_type": "execute_result"
    }
   ],
   "source": [
    "runge_kutta((f1, f2), 601, 0.01, 0, 5, 6)"
   ]
  },
  {
   "cell_type": "markdown",
   "id": "c1b8988c-2e42-44e5-ab15-9c61eee0f178",
   "metadata": {},
   "source": [
    "### Визуализация"
   ]
  },
  {
   "cell_type": "code",
   "execution_count": 6,
   "id": "8b3d4e26-6497-4a11-b056-00cdae47c10b",
   "metadata": {},
   "outputs": [],
   "source": [
    "x1_points, x2_points = [], []\n",
    "for i in range(1000):\n",
    "    res = runge_kutta((f1, f2), i, 0.01, 0, 5, 6)\n",
    "    x1_points.append(res[1])\n",
    "    x2_points.append(res[2])"
   ]
  },
  {
   "cell_type": "code",
   "execution_count": 7,
   "id": "2b152d6a-bbdc-4b6d-a14b-430ee38af677",
   "metadata": {},
   "outputs": [
    {
     "data": {
      "text/plain": [
       "[<matplotlib.lines.Line2D at 0x7f66d843e610>]"
      ]
     },
     "execution_count": 7,
     "metadata": {},
     "output_type": "execute_result"
    },
    {
     "data": {
      "image/png": "[encoded data removed]",
      "text/plain": [
       "<Figure size 432x288 with 1 Axes>"
      ]
     },
     "metadata": {
      "needs_background": "light"
     },
     "output_type": "display_data"
    }
   ],
   "source": [
    "plt.plot(x1_points)\n",
    "plt.plot(x2_points)"
   ]
  }
 ],
 "metadata": {
  "kernelspec": {
   "display_name": "Python 3 (ipykernel)",
   "language": "python",
   "name": "python3"
  },
  "language_info": {
   "codemirror_mode": {
    "name": "ipython",
    "version": 3
   },
   "file_extension": ".py",
   "mimetype": "text/x-python",
   "name": "python",
   "nbconvert_exporter": "python",
   "pygments_lexer": "ipython3",
   "version": "3.9.9"
  }
 },
 "nbformat": 4,
 "nbformat_minor": 5
}

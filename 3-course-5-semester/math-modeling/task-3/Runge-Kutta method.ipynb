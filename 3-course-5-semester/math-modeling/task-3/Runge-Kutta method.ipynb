{
 "cells": [
  {
   "cell_type": "markdown",
   "id": "1adce36e-cbd2-4fba-9f04-84bf70ef2f92",
   "metadata": {},
   "source": [
    "# Задание №3. Модель Солоу - метод Рунге-Кутта."
   ]
  },
  {
   "cell_type": "markdown",
   "id": "98166761-85aa-4389-bb4f-073b1620ef4e",
   "metadata": {},
   "source": [
    "### Импорт модулей"
   ]
  },
  {
   "cell_type": "code",
   "execution_count": 2,
   "id": "06c66e00-6698-4601-a347-990e8156552e",
   "metadata": {},
   "outputs": [],
   "source": [
    "from typing import Callable, Tuple"
   ]
  },
  {
   "cell_type": "markdown",
   "id": "0a09653c-c6e0-4a4b-83f4-984763b73aa8",
   "metadata": {},
   "source": [
    "### Метод Рунге-Кутта"
   ]
  },
  {
   "cell_type": "code",
   "execution_count": 23,
   "id": "bed1a51a-31fc-481f-a28a-3ed80feeb3b3",
   "metadata": {},
   "outputs": [],
   "source": [
    "def runge_kutta(g: Callable, n: int, h: float, x: float, y: float) -> Tuple[float, float]:\n",
    "    \"\"\" Численный метод решения систем обыкновенных дифференциальных уравнений методом Рунге-Кутта\n",
    "\n",
    "        :param g: функция\n",
    "        :type g: Callable\n",
    "        :param n: количество итераций\n",
    "        :type n: int\n",
    "        :param h: шаг\n",
    "        :type h: float\n",
    "        :param x: начальная точка `x`\n",
    "        :type x: float\n",
    "        :param y: начальная точка `y`\n",
    "        :type y: float\n",
    "        \n",
    "        :return: решение ДУ\n",
    "        :rtype: Tuple[float, float]\n",
    "    \"\"\"\n",
    "    for _ in range(n):\n",
    "        k1 = h * g(x, y)\n",
    "        k2 = h * g(x + h/2, y + k1/2)\n",
    "        k3 = h * g(x + h/2, y + k2/2)\n",
    "        k4 = h * g(x + h, y + k3)\n",
    "        k = (k1 + 2*k2 + 2*k3 + k4)/6\n",
    "        y += k\n",
    "        x += h\n",
    "    return x, y"
   ]
  },
  {
   "cell_type": "code",
   "execution_count": 24,
   "id": "b49ff487-56a7-431a-9478-526e91b06ef1",
   "metadata": {},
   "outputs": [],
   "source": [
    "def g1(x,y):\n",
    "    return 6*x**2 + 5*x*y"
   ]
  },
  {
   "cell_type": "code",
   "execution_count": 25,
   "id": "8034f4d9-3ddd-4c3f-b82a-4fdf2da150ef",
   "metadata": {},
   "outputs": [
    {
     "data": {
      "text/plain": [
       "(1.3000000000000003, 11.785353872700533)"
      ]
     },
     "execution_count": 25,
     "metadata": {},
     "output_type": "execute_result"
    }
   ],
   "source": [
    "runge_kutta(g1, 30, 0.01, 1, 1)"
   ]
  },
  {
   "cell_type": "code",
   "execution_count": null,
   "id": "fae9d905-5b78-4a44-9a3d-885a529e5b19",
   "metadata": {},
   "outputs": [],
   "source": []
  }
 ],
 "metadata": {
  "kernelspec": {
   "display_name": "Python 3 (ipykernel)",
   "language": "python",
   "name": "python3"
  },
  "language_info": {
   "codemirror_mode": {
    "name": "ipython",
    "version": 3
   },
   "file_extension": ".py",
   "mimetype": "text/x-python",
   "name": "python",
   "nbconvert_exporter": "python",
   "pygments_lexer": "ipython3",
   "version": "3.9.7"
  }
 },
 "nbformat": 4,
 "nbformat_minor": 5
}

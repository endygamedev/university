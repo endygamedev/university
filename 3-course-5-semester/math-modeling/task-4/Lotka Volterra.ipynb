{
 "cells": [
  {
   "cell_type": "markdown",
   "id": "1adce36e-cbd2-4fba-9f04-84bf70ef2f92",
   "metadata": {},
   "source": [
    "# Задание №4. Численный анализ модели Лотки-Вольтерра."
   ]
  },
  {
   "cell_type": "markdown",
   "id": "98166761-85aa-4389-bb4f-073b1620ef4e",
   "metadata": {},
   "source": [
    "### Импорт модулей"
   ]
  },
  {
   "cell_type": "code",
   "execution_count": 1,
   "id": "06c66e00-6698-4601-a347-990e8156552e",
   "metadata": {},
   "outputs": [],
   "source": [
    "from typing import Callable, Tuple"
   ]
  },
  {
   "cell_type": "markdown",
   "id": "0a09653c-c6e0-4a4b-83f4-984763b73aa8",
   "metadata": {},
   "source": [
    "### Метод Рунге-Кутта"
   ]
  },
  {
   "cell_type": "code",
   "execution_count": 2,
   "id": "bed1a51a-31fc-481f-a28a-3ed80feeb3b3",
   "metadata": {},
   "outputs": [],
   "source": [
    "def runge_kutta(fs: Tuple[Callable], n: int, h: float, t: float, x: float, y: float) -> Tuple[float, float, float]:\n",
    "    \"\"\" Численный метод решения систем обыкновенных дифференциальных уравнений методом Рунге-Кутта\n",
    "    \n",
    "        :param fs: кортеж из первого и второго уравнений\n",
    "        :type fs: Tuple[Callable]\n",
    "        :param n: количество итераций (дней)\n",
    "        :type n: int\n",
    "        :param h: шаг\n",
    "        :type h: float\n",
    "        :param t: начальная точка `t`\n",
    "        :type t: float\n",
    "        :param x: начальная точка `x`\n",
    "        :type x: float\n",
    "        :param y: начальная точка `y`\n",
    "        :type y: float\n",
    "        \n",
    "        :return: решение ДУ\n",
    "        :rtype: Tuple[float, float, float]\n",
    "    \"\"\"\n",
    "    def k(k1, k2, k3, k4):\n",
    "            return (k1 + 2*k2 + 2*k3 + k4)/6\n",
    "    for _ in range(n):\n",
    "        k11, k21 = map(lambda f: h * f(t, x, y), fs)\n",
    "        k12, k22 = map(lambda f: h * f(t + h/2, x + k11/2, y + k21/2), fs)\n",
    "        k13, k23 = map(lambda f: h * f(t + h/2, x + k12/2, y + k22/2), fs)\n",
    "        k14, k24 = map(lambda f: h * f(t + h,   x + k13,   y + k23), fs)\n",
    "        k1, k2 = k(k11, k12, k13, k14), k(k21, k22, k23, k24)\n",
    "        t, x, y = t + h, x + k1, y + k2\n",
    "    return t, x, y"
   ]
  },
  {
   "cell_type": "code",
   "execution_count": 3,
   "id": "e4072760-b956-4c18-8cdf-fa45f61a128e",
   "metadata": {},
   "outputs": [],
   "source": [
    "def f(t, x, y, *, a=0.3, b=0.1):\n",
    "    return a*x - b*x*y"
   ]
  },
  {
   "cell_type": "code",
   "execution_count": 4,
   "id": "cd588c50-4d88-4fad-b1f4-31522a242a78",
   "metadata": {},
   "outputs": [],
   "source": [
    "def g(t, x, y, *, c=0.7, d=0.1):\n",
    "    return -c*y + d*x*y"
   ]
  },
  {
   "cell_type": "code",
   "execution_count": 5,
   "id": "06855277-6607-49f8-8a09-c414406be812",
   "metadata": {},
   "outputs": [
    {
     "data": {
      "text/plain": [
       "(13, 11.358768572154627, 3.079252468099681)"
      ]
     },
     "execution_count": 5,
     "metadata": {},
     "output_type": "execute_result"
    }
   ],
   "source": [
    "runge_kutta((f, g), 13, 1, 0, 10, 5)"
   ]
  }
 ],
 "metadata": {
  "kernelspec": {
   "display_name": "Python 3 (ipykernel)",
   "language": "python",
   "name": "python3"
  },
  "language_info": {
   "codemirror_mode": {
    "name": "ipython",
    "version": 3
   },
   "file_extension": ".py",
   "mimetype": "text/x-python",
   "name": "python",
   "nbconvert_exporter": "python",
   "pygments_lexer": "ipython3",
   "version": "3.9.9"
  }
 },
 "nbformat": 4,
 "nbformat_minor": 5
}

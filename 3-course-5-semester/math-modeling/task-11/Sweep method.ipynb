{
 "cells": [
  {
   "cell_type": "code",
   "execution_count": 1,
   "id": "f21a830d-965c-4585-9d7d-082fe470187d",
   "metadata": {},
   "outputs": [],
   "source": [
    "import numpy as np\n",
    "import matplotlib.pyplot as plt\n",
    "from typing import List\n",
    "\n",
    "%matplotlib inline"
   ]
  },
  {
   "cell_type": "code",
   "execution_count": 2,
   "id": "fddf3c5d-7b80-4ace-a3cb-422499ac59da",
   "metadata": {},
   "outputs": [],
   "source": [
    "L = 1\n",
    "dX = 0.1\n",
    "dT = 0.01\n",
    "l = 0.5\n",
    "C = 1\n",
    "p = 0.8\n",
    "a = np.sqrt(l/(C*p))\n",
    "m = 10\n",
    "T0 = 0\n",
    "T1 = 0"
   ]
  },
  {
   "cell_type": "code",
   "execution_count": 39,
   "id": "a1926e04-ceb7-4e0c-a134-a37f8dfefc62",
   "metadata": {},
   "outputs": [],
   "source": [
    "def heat_equation(L=1, dX=0.1, dT=0.01, l=0.5, C=1, p=0.8, *, m=6, T0=0, T1=0) -> List[List[float]]:\n",
    "    \"\"\" Метод сеток для решения уравнения теплопроводности\n",
    "        \n",
    "        :param L: длина стержня\n",
    "        :type L: float\n",
    "        :param dX: длина шага по оси X\n",
    "        :type dX: float\n",
    "        :param dT: длина шага по оси T\n",
    "        :type dT: float\n",
    "        :param l: коэффициент теплопроводности\n",
    "        :type l: float\n",
    "        :param C: удельная теплоёмкость\n",
    "        :type C: float\n",
    "        :param p: плотность материала стержня\n",
    "        :type p: float\n",
    "        :param m: количество кривых (с выбранным шагом dT)\n",
    "        :type m: int\n",
    "        :param T0: постоянная температура в начале стержня\n",
    "        :type T0: float\n",
    "        :param T1: постоянная температура на конце стержня\n",
    "        :type T1: float\n",
    "        \n",
    "        :return: матрица, в которой показано решение уравнения теплопроводности\n",
    "        :rtype: List[List[float]]\n",
    "    \"\"\"\n",
    "    n = int(L/dX) + 1\n",
    "    a = np.sqrt(l/(C*p))\n",
    "    coef1 = 1-(2*a**2*dT/dX**2)\n",
    "    coef2 = a**2*dT/dX**2\n",
    "    u = np.zeros((n,m))\n",
    "    u[0,:] = T0\n",
    "    u[n-1,:] = T1\n",
    "    for x in range(1, n-1):\n",
    "        u[x,0] = 100*x*dX*(1-x*dX)\n",
    "    for t in range(1, m):\n",
    "        for x in range(1, n-1):\n",
    "            u[x,t] = u[x,t-1]*coef1+coef2*(u[x+1,t-1]+u[x-1,t-1])\n",
    "    return u"
   ]
  },
  {
   "cell_type": "code",
   "execution_count": 49,
   "id": "34ec3f14-a183-4d98-bbf5-23ddaaead2ec",
   "metadata": {},
   "outputs": [
    {
     "data": {
      "text/plain": [
       "array([ 0.,  9., 16., 21., 24., 25., 24., 21., 16.,  9.,  0.])"
      ]
     },
     "execution_count": 49,
     "metadata": {},
     "output_type": "execute_result"
    }
   ],
   "source": [
    "heat_equation()[:,0]"
   ]
  },
  {
   "cell_type": "code",
   "execution_count": 41,
   "id": "f3f54641-aa0b-49db-b0c2-d8263f09979c",
   "metadata": {},
   "outputs": [
    {
     "data": {
      "text/plain": [
       "array([ 0.  ,  7.75, 14.75, 19.75, 22.75, 23.75, 22.75, 19.75, 14.75,\n",
       "        7.75,  0.  ])"
      ]
     },
     "execution_count": 41,
     "metadata": {},
     "output_type": "execute_result"
    }
   ],
   "source": [
    "heat_equation()[:,1]"
   ]
  },
  {
   "cell_type": "code",
   "execution_count": 47,
   "id": "c8196ab7-8b26-464e-a139-88ecd35b12ba",
   "metadata": {},
   "outputs": [
    {
     "data": {
      "text/plain": [
       "array([[ 0.        ,  0.        ,  0.        ,  0.        ,  0.        ,\n",
       "         0.        ],\n",
       "       [ 9.        ,  7.75      ,  7.28125   ,  6.6171875 ,  6.30712891,\n",
       "         5.75598145],\n",
       "       [16.        , 14.75      , 13.5       , 12.73828125, 11.73242188,\n",
       "        11.19958496],\n",
       "       [21.        , 19.75      , 18.5       , 17.25      , 16.30517578,\n",
       "        15.13146973],\n",
       "       [24.        , 22.75      , 21.5       , 20.25      , 19.        ,\n",
       "        17.94073486],\n",
       "       [25.        , 23.75      , 22.5       , 21.25      , 20.        ,\n",
       "        18.75      ],\n",
       "       [24.        , 22.75      , 21.5       , 20.25      , 19.        ,\n",
       "        17.94073486],\n",
       "       [21.        , 19.75      , 18.5       , 17.25      , 16.30517578,\n",
       "        15.13146973],\n",
       "       [16.        , 14.75      , 13.5       , 12.73828125, 11.73242187,\n",
       "        11.19958496],\n",
       "       [ 9.        ,  7.75      ,  7.28125   ,  6.6171875 ,  6.30712891,\n",
       "         5.75598145],\n",
       "       [ 0.        ,  0.        ,  0.        ,  0.        ,  0.        ,\n",
       "         0.        ]])"
      ]
     },
     "execution_count": 47,
     "metadata": {},
     "output_type": "execute_result"
    }
   ],
   "source": [
    "heat_equation()"
   ]
  },
  {
   "cell_type": "code",
   "execution_count": 46,
   "id": "addfef83-ea73-45b6-bda8-067a0766b119",
   "metadata": {},
   "outputs": [
    {
     "data": {
      "text/plain": [
       "array([ 0.        ,  5.75598145, 11.19958496, 15.13146973, 17.94073486,\n",
       "       18.75      , 17.94073486, 15.13146973, 11.19958496,  5.75598145,\n",
       "        0.        ])"
      ]
     },
     "execution_count": 46,
     "metadata": {},
     "output_type": "execute_result"
    }
   ],
   "source": [
    "heat_equation()[:,5]"
   ]
  },
  {
   "cell_type": "code",
   "execution_count": 36,
   "id": "0892daaa-346d-44e1-ad99-6b4ea093c81a",
   "metadata": {},
   "outputs": [],
   "source": [
    "def heat_equation1(L=1, dX=0.1, dT=0.01, l=0.5, C=1, p=0.8, *, m=6, T0=0, T1=0) -> List[List[float]]:\n",
    "    \"\"\" Метод сеток для решения уравнения теплопроводности\n",
    "        \n",
    "        :param L: длина стержня\n",
    "        :type L: float\n",
    "        :param dX: длина шага по оси X\n",
    "        :type dX: float\n",
    "        :param dT: длина шага по оси T\n",
    "        :type dT: float\n",
    "        :param l: коэффициент теплопроводности\n",
    "        :type l: float\n",
    "        :param C: удельная теплоёмкость\n",
    "        :type C: float\n",
    "        :param p: плотность материала стержня\n",
    "        :type p: float\n",
    "        :param m: количество кривых (с выбранным шагом dT)\n",
    "        :type m: int\n",
    "        :param T0: постоянная температура в начале стержня\n",
    "        :type T0: float\n",
    "        :param T1: постоянная температура на конце стержня\n",
    "        :type T1: float\n",
    "        \n",
    "        :return: матрица, в которой показано решение уравнения теплопроводности\n",
    "        :rtype: List[List[float]]\n",
    "    \"\"\"\n",
    "    n = int(L/dX) + 1\n",
    "    a = np.sqrt(l/(C*p))\n",
    "    coef1 = 1+(2*a**2*dT/dX**2)\n",
    "    coef2 = a**2*dT/dX**2\n",
    "    u = np.zeros((n,m))\n",
    "    u[0,:] = T0\n",
    "    u[n-1,:] = T1\n",
    "    for x in range(1, n-1):\n",
    "        u[x,0] = 100*x*dX*(1-x*dX)\n",
    "    for t in range(m, 1):\n",
    "        for x in range(1, n-1):\n",
    "            u[x,t] = u[x,t+1]*coef1-coef2*(u[x+1,t+1]+u[x-1,t+1])\n",
    "    return u"
   ]
  },
  {
   "cell_type": "code",
   "execution_count": 37,
   "id": "103d62f9-2376-47fb-b8f9-3a744e73f96f",
   "metadata": {},
   "outputs": [
    {
     "data": {
      "text/plain": [
       "array([ 0.,  9., 16., 21., 24., 25., 24., 21., 16.,  9.,  0.])"
      ]
     },
     "execution_count": 37,
     "metadata": {},
     "output_type": "execute_result"
    }
   ],
   "source": [
    "heat_equation1()[:,0]"
   ]
  },
  {
   "cell_type": "code",
   "execution_count": 38,
   "id": "7cc7a032-d577-4ac3-ab26-70a591276caf",
   "metadata": {},
   "outputs": [
    {
     "data": {
      "text/plain": [
       "array([0., 0., 0., 0., 0., 0., 0., 0., 0., 0., 0.])"
      ]
     },
     "execution_count": 38,
     "metadata": {},
     "output_type": "execute_result"
    }
   ],
   "source": [
    "heat_equation1()[:,1]"
   ]
  },
  {
   "cell_type": "code",
   "execution_count": 35,
   "id": "28efdafe-88ef-44a6-82bb-559708f4b334",
   "metadata": {},
   "outputs": [
    {
     "data": {
      "text/plain": [
       "array([[ 0.,  0.,  0.,  0.,  0.,  0.],\n",
       "       [ 9.,  0.,  0.,  0.,  0.,  0.],\n",
       "       [16.,  0.,  0.,  0.,  0.,  0.],\n",
       "       [21.,  0.,  0.,  0.,  0.,  0.],\n",
       "       [24.,  0.,  0.,  0.,  0.,  0.],\n",
       "       [25.,  0.,  0.,  0.,  0.,  0.],\n",
       "       [24.,  0.,  0.,  0.,  0.,  0.],\n",
       "       [21.,  0.,  0.,  0.,  0.,  0.],\n",
       "       [16.,  0.,  0.,  0.,  0.,  0.],\n",
       "       [ 9.,  0.,  0.,  0.,  0.,  0.],\n",
       "       [ 0.,  0.,  0.,  0.,  0.,  0.]])"
      ]
     },
     "execution_count": 35,
     "metadata": {},
     "output_type": "execute_result"
    }
   ],
   "source": [
    "heat_equation1()"
   ]
  },
  {
   "cell_type": "code",
   "execution_count": null,
   "id": "be101278-4da4-4f1d-b954-d5a1823f8054",
   "metadata": {},
   "outputs": [],
   "source": []
  }
 ],
 "metadata": {
  "kernelspec": {
   "display_name": "Python 3 (ipykernel)",
   "language": "python",
   "name": "python3"
  },
  "language_info": {
   "codemirror_mode": {
    "name": "ipython",
    "version": 3
   },
   "file_extension": ".py",
   "mimetype": "text/x-python",
   "name": "python",
   "nbconvert_exporter": "python",
   "pygments_lexer": "ipython3",
   "version": "3.9.7"
  }
 },
 "nbformat": 4,
 "nbformat_minor": 5
}

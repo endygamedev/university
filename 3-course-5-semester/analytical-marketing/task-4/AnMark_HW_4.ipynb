{
 "cells": [
  {
   "cell_type": "markdown",
   "id": "collected-calgary",
   "metadata": {},
   "source": [
    "## Занятие 4. Факторный анализ"
   ]
  },
  {
   "cell_type": "markdown",
   "id": "92e57104-cb7c-463c-a488-bb0f4366c361",
   "metadata": {},
   "source": [
    "*Выполнил:* Бронников Егор ПМ-1901"
   ]
  },
  {
   "cell_type": "markdown",
   "id": "8f35a1d3-e444-40bc-8109-2a264bbe0793",
   "metadata": {},
   "source": [
    "*Последнее изменение:* 1/11/2021"
   ]
  },
  {
   "cell_type": "markdown",
   "id": "780f4ba6-0722-42e0-baf2-8c5712f49685",
   "metadata": {},
   "source": [
    "## Импорты"
   ]
  },
  {
   "cell_type": "code",
   "execution_count": 4,
   "id": "ea99d9aa-f36a-49fc-b300-941167e7417b",
   "metadata": {},
   "outputs": [],
   "source": [
    "import pandas as pd\n",
    "import numpy as np\n",
    "import matplotlib\n",
    "import matplotlib.pyplot as plt\n",
    "from scipy import stats\n",
    "matplotlib.style.use('ggplot')\n",
    "%matplotlib inline"
   ]
  },
  {
   "cell_type": "markdown",
   "id": "7c6fe3f3-f6fe-423a-9d65-bfc552e6cf73",
   "metadata": {},
   "source": [
    "## Данные"
   ]
  },
  {
   "cell_type": "markdown",
   "id": "6c1dfed1-855c-4ef7-8690-72e1e7c50427",
   "metadata": {},
   "source": [
    "*Источник:* http://archive.ics.uci.edu/ml/datasets/Somerville+Happiness+Survey#\n",
    "\n",
    "*Название:* **Somerville Happiness Survey Data Set**"
   ]
  },
  {
   "cell_type": "markdown",
   "id": "403b4b22-6f17-4489-a722-5854431ce8e0",
   "metadata": {},
   "source": [
    "### Описание данных"
   ]
  },
  {
   "cell_type": "markdown",
   "id": "b9993fd9-1b6b-44ff-b2a9-8cab8bcd9a85",
   "metadata": {},
   "source": [
    "Опрос жителей об уровне счатья в каком-то городе"
   ]
  },
  {
   "cell_type": "markdown",
   "id": "981499c6-6c87-4865-a5c7-58e2e8e25594",
   "metadata": {},
   "source": [
    "### Описание полей"
   ]
  },
  {
   "cell_type": "markdown",
   "id": "cf9ec65c-9625-48b1-a2b2-34d46b849c94",
   "metadata": {},
   "source": [
    "1. **decision** — атрибут решения со значениями 0 (не счастлив) и 1 (счастлив);\n",
    "1. **availability of information** — доступность информации о городских службах;\n",
    "1. **cost of housing** — стоимость жилья;\n",
    "1. **quality of public schools** — общее качество государственных школ;\n",
    "1. **trust in police** — ваше доверие к местной полиции;\n",
    "1. **sidewalks** — содержание улиц и тротуаров;\n",
    "1. **events** — доступность общественных мероприятий."
   ]
  },
  {
   "cell_type": "code",
   "execution_count": 5,
   "id": "1dd9366d-a6ee-4a97-bc69-b2e4aa42ed84",
   "metadata": {},
   "outputs": [],
   "source": [
    "filename = 'SomervilleHappinessSurvey2015.xlsx'\n",
    "names = ['decision', 'availability of information', 'cost of housing', 'quality of public schools ', 'trust in police', 'sidewalks', 'events']\n",
    "df = pd.read_excel(filename, names=names)"
   ]
  },
  {
   "cell_type": "markdown",
   "id": "d63cc4fc-ca15-406d-9985-3d35aaa72ab3",
   "metadata": {},
   "source": [
    "Смотрим на данные"
   ]
  },
  {
   "cell_type": "code",
   "execution_count": 6,
   "id": "9b6b13e7-bfa7-47cd-885d-cd952ab7c05a",
   "metadata": {},
   "outputs": [
    {
     "data": {
      "text/html": [
       "<div>\n",
       "<style scoped>\n",
       "    .dataframe tbody tr th:only-of-type {\n",
       "        vertical-align: middle;\n",
       "    }\n",
       "\n",
       "    .dataframe tbody tr th {\n",
       "        vertical-align: top;\n",
       "    }\n",
       "\n",
       "    .dataframe thead th {\n",
       "        text-align: right;\n",
       "    }\n",
       "</style>\n",
       "<table border=\"1\" class=\"dataframe\">\n",
       "  <thead>\n",
       "    <tr style=\"text-align: right;\">\n",
       "      <th></th>\n",
       "      <th>decision</th>\n",
       "      <th>availability of information</th>\n",
       "      <th>cost of housing</th>\n",
       "      <th>quality of public schools</th>\n",
       "      <th>trust in police</th>\n",
       "      <th>sidewalks</th>\n",
       "      <th>events</th>\n",
       "    </tr>\n",
       "  </thead>\n",
       "  <tbody>\n",
       "    <tr>\n",
       "      <th>0</th>\n",
       "      <td>0</td>\n",
       "      <td>3</td>\n",
       "      <td>3</td>\n",
       "      <td>3</td>\n",
       "      <td>4</td>\n",
       "      <td>2</td>\n",
       "      <td>4</td>\n",
       "    </tr>\n",
       "    <tr>\n",
       "      <th>1</th>\n",
       "      <td>0</td>\n",
       "      <td>3</td>\n",
       "      <td>2</td>\n",
       "      <td>3</td>\n",
       "      <td>5</td>\n",
       "      <td>4</td>\n",
       "      <td>3</td>\n",
       "    </tr>\n",
       "    <tr>\n",
       "      <th>2</th>\n",
       "      <td>1</td>\n",
       "      <td>5</td>\n",
       "      <td>3</td>\n",
       "      <td>3</td>\n",
       "      <td>3</td>\n",
       "      <td>3</td>\n",
       "      <td>5</td>\n",
       "    </tr>\n",
       "    <tr>\n",
       "      <th>3</th>\n",
       "      <td>0</td>\n",
       "      <td>5</td>\n",
       "      <td>4</td>\n",
       "      <td>3</td>\n",
       "      <td>3</td>\n",
       "      <td>3</td>\n",
       "      <td>5</td>\n",
       "    </tr>\n",
       "    <tr>\n",
       "      <th>4</th>\n",
       "      <td>0</td>\n",
       "      <td>5</td>\n",
       "      <td>4</td>\n",
       "      <td>3</td>\n",
       "      <td>3</td>\n",
       "      <td>3</td>\n",
       "      <td>5</td>\n",
       "    </tr>\n",
       "  </tbody>\n",
       "</table>\n",
       "</div>"
      ],
      "text/plain": [
       "   decision  availability of information  cost of housing  \\\n",
       "0         0                            3                3   \n",
       "1         0                            3                2   \n",
       "2         1                            5                3   \n",
       "3         0                            5                4   \n",
       "4         0                            5                4   \n",
       "\n",
       "   quality of public schools   trust in police  sidewalks  events  \n",
       "0                           3                4          2       4  \n",
       "1                           3                5          4       3  \n",
       "2                           3                3          3       5  \n",
       "3                           3                3          3       5  \n",
       "4                           3                3          3       5  "
      ]
     },
     "execution_count": 6,
     "metadata": {},
     "output_type": "execute_result"
    }
   ],
   "source": [
    "df.head()"
   ]
  },
  {
   "cell_type": "markdown",
   "id": "d0ce04db-c8af-4f50-9d94-be5314f5244b",
   "metadata": {},
   "source": [
    "Описываем данные"
   ]
  },
  {
   "cell_type": "code",
   "execution_count": 7,
   "id": "2492304f-2452-48dc-aaf1-46f7715be1d1",
   "metadata": {},
   "outputs": [
    {
     "data": {
      "text/html": [
       "<div>\n",
       "<style scoped>\n",
       "    .dataframe tbody tr th:only-of-type {\n",
       "        vertical-align: middle;\n",
       "    }\n",
       "\n",
       "    .dataframe tbody tr th {\n",
       "        vertical-align: top;\n",
       "    }\n",
       "\n",
       "    .dataframe thead th {\n",
       "        text-align: right;\n",
       "    }\n",
       "</style>\n",
       "<table border=\"1\" class=\"dataframe\">\n",
       "  <thead>\n",
       "    <tr style=\"text-align: right;\">\n",
       "      <th></th>\n",
       "      <th>decision</th>\n",
       "      <th>availability of information</th>\n",
       "      <th>cost of housing</th>\n",
       "      <th>quality of public schools</th>\n",
       "      <th>trust in police</th>\n",
       "      <th>sidewalks</th>\n",
       "      <th>events</th>\n",
       "    </tr>\n",
       "  </thead>\n",
       "  <tbody>\n",
       "    <tr>\n",
       "      <th>count</th>\n",
       "      <td>143.000000</td>\n",
       "      <td>143.000000</td>\n",
       "      <td>143.000000</td>\n",
       "      <td>143.000000</td>\n",
       "      <td>143.000000</td>\n",
       "      <td>143.000000</td>\n",
       "      <td>143.000000</td>\n",
       "    </tr>\n",
       "    <tr>\n",
       "      <th>mean</th>\n",
       "      <td>0.538462</td>\n",
       "      <td>4.314685</td>\n",
       "      <td>2.538462</td>\n",
       "      <td>3.265734</td>\n",
       "      <td>3.699301</td>\n",
       "      <td>3.615385</td>\n",
       "      <td>4.216783</td>\n",
       "    </tr>\n",
       "    <tr>\n",
       "      <th>std</th>\n",
       "      <td>0.500271</td>\n",
       "      <td>0.799820</td>\n",
       "      <td>1.118155</td>\n",
       "      <td>0.992586</td>\n",
       "      <td>0.888383</td>\n",
       "      <td>1.131639</td>\n",
       "      <td>0.848693</td>\n",
       "    </tr>\n",
       "    <tr>\n",
       "      <th>min</th>\n",
       "      <td>0.000000</td>\n",
       "      <td>1.000000</td>\n",
       "      <td>1.000000</td>\n",
       "      <td>1.000000</td>\n",
       "      <td>1.000000</td>\n",
       "      <td>1.000000</td>\n",
       "      <td>1.000000</td>\n",
       "    </tr>\n",
       "    <tr>\n",
       "      <th>25%</th>\n",
       "      <td>0.000000</td>\n",
       "      <td>4.000000</td>\n",
       "      <td>2.000000</td>\n",
       "      <td>3.000000</td>\n",
       "      <td>3.000000</td>\n",
       "      <td>3.000000</td>\n",
       "      <td>4.000000</td>\n",
       "    </tr>\n",
       "    <tr>\n",
       "      <th>50%</th>\n",
       "      <td>1.000000</td>\n",
       "      <td>5.000000</td>\n",
       "      <td>3.000000</td>\n",
       "      <td>3.000000</td>\n",
       "      <td>4.000000</td>\n",
       "      <td>4.000000</td>\n",
       "      <td>4.000000</td>\n",
       "    </tr>\n",
       "    <tr>\n",
       "      <th>75%</th>\n",
       "      <td>1.000000</td>\n",
       "      <td>5.000000</td>\n",
       "      <td>3.000000</td>\n",
       "      <td>4.000000</td>\n",
       "      <td>4.000000</td>\n",
       "      <td>4.000000</td>\n",
       "      <td>5.000000</td>\n",
       "    </tr>\n",
       "    <tr>\n",
       "      <th>max</th>\n",
       "      <td>1.000000</td>\n",
       "      <td>5.000000</td>\n",
       "      <td>5.000000</td>\n",
       "      <td>5.000000</td>\n",
       "      <td>5.000000</td>\n",
       "      <td>5.000000</td>\n",
       "      <td>5.000000</td>\n",
       "    </tr>\n",
       "  </tbody>\n",
       "</table>\n",
       "</div>"
      ],
      "text/plain": [
       "         decision  availability of information  cost of housing  \\\n",
       "count  143.000000                   143.000000       143.000000   \n",
       "mean     0.538462                     4.314685         2.538462   \n",
       "std      0.500271                     0.799820         1.118155   \n",
       "min      0.000000                     1.000000         1.000000   \n",
       "25%      0.000000                     4.000000         2.000000   \n",
       "50%      1.000000                     5.000000         3.000000   \n",
       "75%      1.000000                     5.000000         3.000000   \n",
       "max      1.000000                     5.000000         5.000000   \n",
       "\n",
       "       quality of public schools   trust in police   sidewalks      events  \n",
       "count                  143.000000       143.000000  143.000000  143.000000  \n",
       "mean                     3.265734         3.699301    3.615385    4.216783  \n",
       "std                      0.992586         0.888383    1.131639    0.848693  \n",
       "min                      1.000000         1.000000    1.000000    1.000000  \n",
       "25%                      3.000000         3.000000    3.000000    4.000000  \n",
       "50%                      3.000000         4.000000    4.000000    4.000000  \n",
       "75%                      4.000000         4.000000    4.000000    5.000000  \n",
       "max                      5.000000         5.000000    5.000000    5.000000  "
      ]
     },
     "execution_count": 7,
     "metadata": {},
     "output_type": "execute_result"
    }
   ],
   "source": [
    "df.describe()"
   ]
  },
  {
   "cell_type": "markdown",
   "id": "d067f703-786d-4159-bd72-45fcd42df890",
   "metadata": {},
   "source": [
    "Посмотрим на взаимосвязь между признаками"
   ]
  },
  {
   "cell_type": "code",
   "execution_count": 8,
   "id": "cfb4d98b-9425-4372-a1a5-cae97fb088d7",
   "metadata": {},
   "outputs": [
    {
     "data": {
      "text/html": [
       "<div>\n",
       "<style scoped>\n",
       "    .dataframe tbody tr th:only-of-type {\n",
       "        vertical-align: middle;\n",
       "    }\n",
       "\n",
       "    .dataframe tbody tr th {\n",
       "        vertical-align: top;\n",
       "    }\n",
       "\n",
       "    .dataframe thead th {\n",
       "        text-align: right;\n",
       "    }\n",
       "</style>\n",
       "<table border=\"1\" class=\"dataframe\">\n",
       "  <thead>\n",
       "    <tr style=\"text-align: right;\">\n",
       "      <th></th>\n",
       "      <th>decision</th>\n",
       "      <th>availability of information</th>\n",
       "      <th>cost of housing</th>\n",
       "      <th>quality of public schools</th>\n",
       "      <th>trust in police</th>\n",
       "      <th>sidewalks</th>\n",
       "      <th>events</th>\n",
       "    </tr>\n",
       "  </thead>\n",
       "  <tbody>\n",
       "    <tr>\n",
       "      <th>decision</th>\n",
       "      <td>1.000000</td>\n",
       "      <td>0.312740</td>\n",
       "      <td>0.019368</td>\n",
       "      <td>0.163639</td>\n",
       "      <td>0.113356</td>\n",
       "      <td>0.206685</td>\n",
       "      <td>0.220729</td>\n",
       "    </tr>\n",
       "    <tr>\n",
       "      <th>availability of information</th>\n",
       "      <td>0.312740</td>\n",
       "      <td>1.000000</td>\n",
       "      <td>0.092676</td>\n",
       "      <td>0.301971</td>\n",
       "      <td>0.104378</td>\n",
       "      <td>0.399203</td>\n",
       "      <td>0.417521</td>\n",
       "    </tr>\n",
       "    <tr>\n",
       "      <th>cost of housing</th>\n",
       "      <td>0.019368</td>\n",
       "      <td>0.092676</td>\n",
       "      <td>1.000000</td>\n",
       "      <td>0.181081</td>\n",
       "      <td>0.107432</td>\n",
       "      <td>-0.002141</td>\n",
       "      <td>0.024546</td>\n",
       "    </tr>\n",
       "    <tr>\n",
       "      <th>quality of public schools</th>\n",
       "      <td>0.163639</td>\n",
       "      <td>0.301971</td>\n",
       "      <td>0.181081</td>\n",
       "      <td>1.000000</td>\n",
       "      <td>0.298898</td>\n",
       "      <td>0.329874</td>\n",
       "      <td>0.207006</td>\n",
       "    </tr>\n",
       "    <tr>\n",
       "      <th>trust in police</th>\n",
       "      <td>0.113356</td>\n",
       "      <td>0.104378</td>\n",
       "      <td>0.107432</td>\n",
       "      <td>0.298898</td>\n",
       "      <td>1.000000</td>\n",
       "      <td>0.269420</td>\n",
       "      <td>0.199151</td>\n",
       "    </tr>\n",
       "    <tr>\n",
       "      <th>sidewalks</th>\n",
       "      <td>0.206685</td>\n",
       "      <td>0.399203</td>\n",
       "      <td>-0.002141</td>\n",
       "      <td>0.329874</td>\n",
       "      <td>0.269420</td>\n",
       "      <td>1.000000</td>\n",
       "      <td>0.307402</td>\n",
       "    </tr>\n",
       "    <tr>\n",
       "      <th>events</th>\n",
       "      <td>0.220729</td>\n",
       "      <td>0.417521</td>\n",
       "      <td>0.024546</td>\n",
       "      <td>0.207006</td>\n",
       "      <td>0.199151</td>\n",
       "      <td>0.307402</td>\n",
       "      <td>1.000000</td>\n",
       "    </tr>\n",
       "  </tbody>\n",
       "</table>\n",
       "</div>"
      ],
      "text/plain": [
       "                             decision  availability of information  \\\n",
       "decision                     1.000000                     0.312740   \n",
       "availability of information  0.312740                     1.000000   \n",
       "cost of housing              0.019368                     0.092676   \n",
       "quality of public schools    0.163639                     0.301971   \n",
       "trust in police              0.113356                     0.104378   \n",
       "sidewalks                    0.206685                     0.399203   \n",
       "events                       0.220729                     0.417521   \n",
       "\n",
       "                             cost of housing  quality of public schools   \\\n",
       "decision                            0.019368                    0.163639   \n",
       "availability of information         0.092676                    0.301971   \n",
       "cost of housing                     1.000000                    0.181081   \n",
       "quality of public schools           0.181081                    1.000000   \n",
       "trust in police                     0.107432                    0.298898   \n",
       "sidewalks                          -0.002141                    0.329874   \n",
       "events                              0.024546                    0.207006   \n",
       "\n",
       "                             trust in police  sidewalks    events  \n",
       "decision                            0.113356   0.206685  0.220729  \n",
       "availability of information         0.104378   0.399203  0.417521  \n",
       "cost of housing                     0.107432  -0.002141  0.024546  \n",
       "quality of public schools           0.298898   0.329874  0.207006  \n",
       "trust in police                     1.000000   0.269420  0.199151  \n",
       "sidewalks                           0.269420   1.000000  0.307402  \n",
       "events                              0.199151   0.307402  1.000000  "
      ]
     },
     "execution_count": 8,
     "metadata": {},
     "output_type": "execute_result"
    }
   ],
   "source": [
    "df.corr()"
   ]
  },
  {
   "cell_type": "code",
   "execution_count": 9,
   "id": "d26b2a14-8a6a-4d4d-bf23-0b849a783265",
   "metadata": {},
   "outputs": [
    {
     "data": {
      "image/png": "[encoded data removed]",
      "text/plain": [
       "<Figure size 432x288 with 49 Axes>"
      ]
     },
     "metadata": {
      "needs_background": "light"
     },
     "output_type": "display_data"
    }
   ],
   "source": [
    "from pandas.plotting import scatter_matrix\n",
    "scatter_matrix(df);"
   ]
  },
  {
   "cell_type": "markdown",
   "id": "7ecd172a-58bd-48db-b03f-bc718e9557dd",
   "metadata": {},
   "source": [
    "Видим, что данные признаки далеки от нормальных, корреляции между признаками не наблюдается."
   ]
  },
  {
   "cell_type": "markdown",
   "id": "48c7b270-1e45-40bf-be3a-deaac048b6c1",
   "metadata": {},
   "source": [
    "## Метод главных компонент"
   ]
  },
  {
   "cell_type": "markdown",
   "id": "a555d2db-0a89-4375-8aba-022f5c265514",
   "metadata": {},
   "source": [
    "http://scikit-learn.org/stable/modules/generated/sklearn.decomposition.PCA.html"
   ]
  },
  {
   "cell_type": "markdown",
   "id": "8329d5a9-e4c9-412d-bf6c-f7c56af66cc8",
   "metadata": {},
   "source": [
    "Cтандартизируем переменные."
   ]
  },
  {
   "cell_type": "code",
   "execution_count": 10,
   "id": "c6defd87-419f-4040-bd8d-632652e75347",
   "metadata": {},
   "outputs": [],
   "source": [
    "array = df.values"
   ]
  },
  {
   "cell_type": "code",
   "execution_count": 11,
   "id": "c0cef5f2-a1fb-41cb-be02-6877f082b311",
   "metadata": {},
   "outputs": [],
   "source": [
    "import math\n",
    "from sklearn import preprocessing\n",
    "\n",
    "def scale_features(df):\n",
    "    scaled = preprocessing.StandardScaler().fit_transform(df)\n",
    "    scaled = pd.DataFrame(scaled, columns=df.columns)\n",
    "    return scaled"
   ]
  },
  {
   "cell_type": "code",
   "execution_count": 12,
   "id": "e44c9e92-f359-4fd2-bee2-3e462e6a42cd",
   "metadata": {},
   "outputs": [],
   "source": [
    "df_scaled = preprocessing.scale(df)"
   ]
  },
  {
   "cell_type": "markdown",
   "id": "f5fe8d08-5137-464b-89b8-24fd0624b745",
   "metadata": {},
   "source": [
    "Попробуем с помощью метода главных компонент спроецировать данные на трёхмерную плоскость. То есть выделим три главных компоненты. Реализация метода содержится в классе `PCA` библиотеки `sklearn.decomposition`."
   ]
  },
  {
   "cell_type": "code",
   "execution_count": 13,
   "id": "56c616f1-2836-43c8-ba0c-f4b9973ef213",
   "metadata": {},
   "outputs": [],
   "source": [
    "from sklearn.decomposition import PCA"
   ]
  },
  {
   "cell_type": "code",
   "execution_count": 14,
   "id": "d7a99775-9973-47c4-8b40-0a26c32eb077",
   "metadata": {},
   "outputs": [
    {
     "name": "stdout",
     "output_type": "stream",
     "text": [
      "[0.33385345 0.15829046 0.1331463 ]\n"
     ]
    }
   ],
   "source": [
    "pca = PCA(n_components=3)\n",
    "pca.fit(df_scaled)\n",
    "print(pca.explained_variance_ratio_)"
   ]
  },
  {
   "cell_type": "markdown",
   "id": "ece59711-7e28-46e0-a0e4-e87c046c9c89",
   "metadata": {},
   "source": [
    "Координаты самих компонент находятся в атрибуте ```components_```."
   ]
  },
  {
   "cell_type": "code",
   "execution_count": 15,
   "id": "dc4da118-6d07-434c-a39d-db23a9291646",
   "metadata": {},
   "outputs": [
    {
     "name": "stdout",
     "output_type": "stream",
     "text": [
      "[[-0.32890404 -0.47031892 -0.12594682 -0.41219218 -0.32081639 -0.45386708\n",
      "  -0.41945056]\n",
      " [-0.30886416 -0.2424628   0.69012032  0.35885091  0.40945574 -0.09931786\n",
      "  -0.25150875]\n",
      " [ 0.34524879  0.30208192  0.61894673 -0.10138153 -0.55885002 -0.28655259\n",
      "   0.04184228]]\n"
     ]
    }
   ],
   "source": [
    "print(pca.components_)"
   ]
  },
  {
   "cell_type": "markdown",
   "id": "30c49677-5761-46c2-bf77-9713266da1dc",
   "metadata": {},
   "source": [
    "Смотрим на процент отклонения, объясняемый каждым из выбранных компонентов. "
   ]
  },
  {
   "cell_type": "code",
   "execution_count": 16,
   "id": "26a2189c-7943-4122-ab27-c328e8c27a93",
   "metadata": {},
   "outputs": [
    {
     "name": "stdout",
     "output_type": "stream",
     "text": [
      "Explained variance by component: [0.33385345 0.15829046 0.1331463 ]\n"
     ]
    }
   ],
   "source": [
    "print ('Explained variance by component: %s' % pca.explained_variance_ratio_)"
   ]
  },
  {
   "cell_type": "code",
   "execution_count": 17,
   "id": "2a33a881-73b6-4fef-b2ae-73a5ed5f250a",
   "metadata": {},
   "outputs": [
    {
     "data": {
      "text/plain": [
       "array([18.28079056, 12.58764292, 11.54467184])"
      ]
     },
     "execution_count": 17,
     "metadata": {},
     "output_type": "execute_result"
    }
   ],
   "source": [
    "pca.singular_values_"
   ]
  },
  {
   "cell_type": "markdown",
   "id": "9800a2d3-5f34-4582-ab8f-be22b28e8c1d",
   "metadata": {},
   "source": [
    "Смотрим на процент отклонения, объясняемый каждым из выбранных компонентов. "
   ]
  },
  {
   "cell_type": "code",
   "execution_count": 18,
   "id": "e8585222-19e3-44fd-b16c-cb6f991a4ce7",
   "metadata": {},
   "outputs": [
    {
     "data": {
      "text/plain": [
       "array([0.33385345, 0.15829046, 0.1331463 ])"
      ]
     },
     "execution_count": 18,
     "metadata": {},
     "output_type": "execute_result"
    }
   ],
   "source": [
    "pca.explained_variance_ratio_"
   ]
  },
  {
   "cell_type": "markdown",
   "id": "f9f8f528-44e6-481c-a371-95325b6df0a4",
   "metadata": {},
   "source": [
    "Уменьшаем размерность"
   ]
  },
  {
   "cell_type": "code",
   "execution_count": 19,
   "id": "f59bfa99-048e-45b8-8556-e1047683a552",
   "metadata": {},
   "outputs": [],
   "source": [
    "zzz = pca.transform(df_scaled)"
   ]
  },
  {
   "cell_type": "code",
   "execution_count": 20,
   "id": "5f8d3d89-23be-4224-9863-98c2d5d31c05",
   "metadata": {
    "scrolled": true,
    "tags": []
   },
   "outputs": [
    {
     "data": {
      "text/plain": [
       "array([[ 1.83832663e+00,  1.26882696e+00, -3.77645472e-01],\n",
       "       [ 1.27997523e+00,  1.23322572e+00, -2.12210280e+00],\n",
       "       [-5.37687240e-01, -8.07144457e-01,  1.49957515e+00],\n",
       "       [ 9.04171396e-03,  4.31784545e-01,  1.36251406e+00],\n",
       "       [ 9.04171396e-03,  4.31784545e-01,  1.36251406e+00],\n",
       "       [-2.29350218e+00,  1.18047899e+00,  8.39783414e-01],\n",
       "       [ 4.10436053e+00, -8.72281839e-01,  8.10596439e-02],\n",
       "       [-1.83232556e+00,  5.49469500e-01,  1.06718144e+00],\n",
       "       [ 2.52605414e-01, -8.74590417e-02, -1.72032378e+00],\n",
       "       [-2.60158908e-01,  4.60132817e-01,  1.00405832e+00],\n",
       "       [ 2.80972221e+00,  4.84332118e-01, -3.51334071e-01],\n",
       "       [ 3.30234337e-01,  1.40783350e+00,  4.86395505e-02],\n",
       "       [-2.37113110e+00, -3.14813552e-01, -9.29179916e-01],\n",
       "       [ 2.73146694e-01,  1.29181578e+00, -1.84558583e+00],\n",
       "       [ 1.52769787e+00, -6.15391190e-01, -1.03602604e+00],\n",
       "       [ 4.32299368e-01, -2.45965937e-01, -2.20025295e-01],\n",
       "       [-1.42192183e+00,  1.01218856e+00, -8.12131865e-01],\n",
       "       [-1.13083045e+00, -1.77114518e+00,  3.19911729e-02],\n",
       "       [ 9.97080289e-07, -1.41466567e+00, -1.08683795e+00],\n",
       "       [ 1.39571439e-01,  5.31905884e-01, -1.16483528e+00],\n",
       "       [ 2.58932534e-01, -9.12980334e-01,  2.61487370e-01],\n",
       "       [ 2.58932534e-01, -9.12980334e-01,  2.61487370e-01],\n",
       "       [-1.15506688e+00,  1.88851984e+00, -1.59722900e+00],\n",
       "       [-1.15506688e+00,  1.88851984e+00, -1.59722900e+00],\n",
       "       [ 2.78773955e-01, -1.09817362e+00, -5.66820605e-01],\n",
       "       [ 5.48378874e-01, -2.05542300e-01,  1.07108501e+00],\n",
       "       [ 2.58365426e+00,  1.72306197e+00,  7.59642919e-01],\n",
       "       [-8.87238858e-01,  5.50173469e-01, -1.02922322e+00],\n",
       "       [ 1.97193826e+00, -6.26934602e-01,  8.97065881e-01],\n",
       "       [ 1.97193826e+00, -6.26934602e-01,  8.97065881e-01],\n",
       "       [-3.50711010e-01, -3.88510690e-01,  8.92406215e-01],\n",
       "       [ 3.09051920e-01,  2.31053387e-01,  1.99856624e-01],\n",
       "       [ 8.05661488e-01,  3.25948668e-01,  1.24426274e-01],\n",
       "       [ 1.73367832e-01, -7.47651268e-01, -1.56835061e+00],\n",
       "       [-4.26062239e-01, -8.08360214e-02, -8.01825191e-01],\n",
       "       [-4.26062239e-01, -8.08360214e-02, -8.01825191e-01],\n",
       "       [ 2.30419381e+00, -2.19316575e+00,  1.73087675e+00],\n",
       "       [ 9.18695464e-01, -2.93416257e-01, -4.31062221e-01],\n",
       "       [-1.35689841e+00, -5.32415333e-01,  1.14296816e+00],\n",
       "       [-1.35689841e+00, -5.32415333e-01,  1.14296816e+00],\n",
       "       [-2.21729487e-02, -1.33843627e+00,  1.19819581e+00],\n",
       "       [ 4.75432039e-01,  9.64415643e-01,  1.24940743e+00],\n",
       "       [ 1.16530469e+00, -1.52871282e-01, -1.66730126e+00],\n",
       "       [ 1.22704653e+00, -2.12165320e-01,  1.52586422e-01],\n",
       "       [ 6.47162317e-01, -3.74031883e-01,  6.67207818e-01],\n",
       "       [-1.67370651e-01, -8.95018415e-01, -2.57207774e-03],\n",
       "       [ 1.24822894e+00,  9.64614794e-01,  1.36934823e-03],\n",
       "       [ 9.22913750e-01, -1.33773230e+00, -8.98208849e-01],\n",
       "       [-1.71929158e+00, -6.98954252e-02,  5.11692944e-01],\n",
       "       [-1.30256073e+00, -4.32697658e-01,  6.14190789e-01],\n",
       "       [ 4.84292514e+00, -4.61529828e-01, -1.15627205e+00],\n",
       "       [-1.79592508e+00,  6.42768667e-01, -1.13062841e+00],\n",
       "       [-2.18131174e-01, -1.83655742e+00,  8.50136946e-02],\n",
       "       [-2.18131174e-01, -1.83655742e+00,  8.50136946e-02],\n",
       "       [-2.18131174e-01, -1.83655742e+00,  8.50136946e-02],\n",
       "       [-1.24386443e+00, -1.15178026e+00,  5.87479668e-01],\n",
       "       [-1.24386443e+00, -1.15178026e+00,  5.87479668e-01],\n",
       "       [ 6.02716547e-01, -1.05824625e-01,  5.42307637e-01],\n",
       "       [ 6.02716547e-01, -1.05824625e-01,  5.42307637e-01],\n",
       "       [ 4.56818986e-01, -1.22687488e+00, -1.36150617e+00],\n",
       "       [ 3.15983804e-01,  1.85870884e+00,  2.00250852e-01],\n",
       "       [-2.49841561e+00,  7.55426716e-01, -2.22080119e-01],\n",
       "       [ 4.19457810e-01, -1.14076396e+00,  1.67749786e+00],\n",
       "       [ 3.41856784e-01,  2.04505742e-01,  1.93015798e+00],\n",
       "       [ 7.12173373e-01,  1.16631784e-01,  4.28010744e-01],\n",
       "       [-2.00873792e+00, -7.77333460e-01, -2.97904697e-01],\n",
       "       [-2.00873792e+00, -7.77333460e-01, -2.97904697e-01],\n",
       "       [-1.38002142e+00,  1.13808781e+00,  1.83606379e+00],\n",
       "       [ 9.57333330e-03, -1.06982535e+00, -9.25276344e-01],\n",
       "       [ 9.57333330e-03, -1.06982535e+00, -9.25276344e-01],\n",
       "       [ 1.16694125e+00,  1.85259064e+00, -1.56661431e+00],\n",
       "       [ 1.86519114e+00, -1.63838565e+00, -7.81555026e-01],\n",
       "       [-2.67482797e+00, -5.71376244e-01, -1.58716626e+00],\n",
       "       [-3.01392990e+00,  1.28671853e+00,  7.92992292e-02],\n",
       "       [-1.82698225e-01, -1.11065265e+00, -2.17814681e-01],\n",
       "       [ 1.85985699e-01,  2.56977608e-01,  4.39809792e-01],\n",
       "       [ 2.12777297e+00,  1.97626499e+00,  4.31952170e-01],\n",
       "       [ 7.24754868e-01,  3.77693212e+00,  4.80709253e-01],\n",
       "       [ 5.88466015e-01,  3.45050717e-01,  6.93918939e-01],\n",
       "       [ 6.37589981e-01, -7.18872196e-01,  5.05646215e-01],\n",
       "       [ 7.51619377e-01,  8.69719513e-01,  7.67996985e-02],\n",
       "       [-2.78786195e+00,  4.79886813e-02, -1.03167776e+00],\n",
       "       [ 1.50879315e+00,  1.07959072e-02, -8.10077041e-01],\n",
       "       [ 2.02735297e+00,  1.39292653e-01,  7.35142412e-01],\n",
       "       [-1.95440025e+00, -6.77615785e-01, -8.26682071e-01],\n",
       "       [ 5.24556006e-01, -9.95072709e-02,  1.06113471e+00],\n",
       "       [-3.12696387e+00,  1.90608346e+00,  6.34787724e-01],\n",
       "       [ 2.00236231e-01, -1.93897734e-01,  2.88198491e-01],\n",
       "       [ 1.79823949e+00,  7.18233942e-01, -4.79399271e-04],\n",
       "       [-5.20191491e-01, -8.76581933e-02, -4.72285694e-01],\n",
       "       [-3.89861452e-01, -4.98109899e-01,  6.67213311e-01],\n",
       "       [ 8.31498096e-01,  1.32741703e+00, -1.01128497e-01],\n",
       "       [-1.18952676e+00, -1.05206258e+00,  5.87022941e-02],\n",
       "       [-1.34264787e+00, -9.83290676e-01,  9.91356862e-01],\n",
       "       [ 1.16530469e+00, -1.52871282e-01, -1.66730126e+00],\n",
       "       [-1.96865078e+00, -2.26740443e-01, -6.75070770e-01],\n",
       "       [ 6.33793870e-02,  5.31502220e-01,  8.33736685e-01],\n",
       "       [ 3.53014993e+00,  3.78092577e-01,  4.09150114e-01],\n",
       "       [-3.15609994e-01,  2.34957702e+00, -7.89480106e-01],\n",
       "       [-1.47897310e+00, -1.75950062e+00, -7.50895347e-01],\n",
       "       [-2.51796147e+00,  1.58410853e+00,  2.98239060e-02],\n",
       "       [-1.52862868e+00,  8.06032192e-01,  1.72516778e+00],\n",
       "       [-5.71483633e-01,  4.72412694e-01,  1.90309048e+00],\n",
       "       [-1.83232556e+00,  5.49469500e-01,  1.06718144e+00],\n",
       "       [ 4.18359811e+00, -2.12089613e-01, -7.09135243e-02],\n",
       "       [-3.12696387e+00,  1.90608346e+00,  6.34787724e-01],\n",
       "       [ 1.22868308e+00,  1.79329660e+00,  2.53273374e-01],\n",
       "       [-2.15556829e+00,  1.12158862e+00,  6.61099125e-01],\n",
       "       [ 7.94988106e-01, -6.49973245e-02, -1.65154026e-01],\n",
       "       [ 1.45009684e+00,  7.29878507e-01, -7.83365919e-01],\n",
       "       [-1.17527622e+00, -1.50293793e+00, -9.29090073e-02],\n",
       "       [-8.85829884e-01, -7.95499892e-01,  7.16688634e-01],\n",
       "       [ 3.92894358e+00,  8.87183602e-03, -1.15738451e+00],\n",
       "       [-3.64961543e-01,  6.23646525e-02,  1.04401752e+00],\n",
       "       [ 2.35109665e-01, -8.06945306e-01,  2.51537069e-01],\n",
       "       [-2.30745150e-01,  6.19779841e-01,  3.37311948e-01],\n",
       "       [ 2.82397274e+00,  3.34567759e-02, -5.02945373e-01],\n",
       "       [ 2.13454972e-01, -1.97058251e-01, -1.94551668e+00],\n",
       "       [-1.53331077e+00, -1.85921829e+00, -2.22117973e-01],\n",
       "       [ 1.39412261e+00, -1.37530109e+00, -3.55275497e-01],\n",
       "       [-1.95004162e+00, -1.49641606e+00, -3.24615818e-01],\n",
       "       [ 1.39571439e-01,  5.31905884e-01, -1.16483528e+00],\n",
       "       [-1.34897499e+00, -1.57769383e-01, -9.90454288e-01],\n",
       "       [-1.22332315e+00,  2.27494568e-01,  4.62217621e-01],\n",
       "       [ 1.90639890e-01,  8.16658534e-02,  3.65472096e-01],\n",
       "       [-6.42797803e-01,  1.86866419e-01, -7.83588014e-02],\n",
       "       [-1.46829371e-01,  4.84256411e-01, -1.27834125e-01],\n",
       "       [ 1.10631283e+00, -7.72772020e-02, -1.06418619e+00],\n",
       "       [ 1.43420976e+00, -8.24708074e-01, -7.32441569e-01],\n",
       "       [-8.33460701e-01, -6.89061199e-01, -1.29183364e+00],\n",
       "       [-1.13032978e-01, -7.95300740e-01, -5.31349452e-01],\n",
       "       [-1.87873982e+00,  8.24397776e-01, -5.37463638e-01],\n",
       "       [ 1.18485445e+00,  2.47941305e+00,  3.41253374e-01],\n",
       "       [-2.67482797e+00, -5.71376244e-01, -1.58716626e+00],\n",
       "       [-2.16494618e-01,  1.68904499e-01,  1.85700646e-01],\n",
       "       [ 1.97340595e+00, -2.05645136e-01,  3.37197869e+00],\n",
       "       [ 1.61691287e+00,  2.33224506e+00,  6.58993821e-01],\n",
       "       [-1.97589894e-01, -4.57282598e-01, -4.02483523e-02],\n",
       "       [ 8.46862041e-01, -1.11262020e+00,  2.06957600e+00],\n",
       "       [-3.84566125e-01, -8.75916365e-01,  5.66920587e-01],\n",
       "       [-1.30256073e+00, -4.32697658e-01,  6.14190789e-01],\n",
       "       [-5.27001193e-02,  4.91078583e-01, -4.57373621e-01],\n",
       "       [-9.90940446e-01,  1.98510984e-01, -8.61245322e-01]])"
      ]
     },
     "execution_count": 20,
     "metadata": {},
     "output_type": "execute_result"
    }
   ],
   "source": [
    "zzz"
   ]
  },
  {
   "cell_type": "markdown",
   "id": "d5ae335a-dd7e-440a-a466-794df0e9d452",
   "metadata": {},
   "source": [
    "## Факторный анализ"
   ]
  },
  {
   "cell_type": "markdown",
   "id": "556e5ea7-4476-434b-81b7-769576c36e79",
   "metadata": {},
   "source": [
    "\n",
    "http://scikit-learn.org/stable/modules/generated/sklearn.decomposition.FactorAnalysis.html\n",
    " \n",
    "\n",
    "Попробуем с помощью факторного анализа построить новые фичи, которые были бы более удобными в использовании с минимальной потерей информации.\n",
    "\n",
    "Используем класс ```FactorAnalysis``` из ```sklearn.decomposition```. \n",
    "Начнём с трёх факторов."
   ]
  },
  {
   "cell_type": "code",
   "execution_count": 21,
   "id": "8f801099-9bc9-4352-b616-2f0b424cc811",
   "metadata": {},
   "outputs": [
    {
     "data": {
      "text/plain": [
       "FactorAnalysis(n_components=3)"
      ]
     },
     "execution_count": 21,
     "metadata": {},
     "output_type": "execute_result"
    }
   ],
   "source": [
    "from sklearn.decomposition import FactorAnalysis\n",
    "\n",
    "fa = FactorAnalysis(n_components=3)\n",
    "fa.fit(df_scaled)"
   ]
  },
  {
   "cell_type": "markdown",
   "id": "eed12650-9451-404e-8aef-f806ab5a8877",
   "metadata": {},
   "source": [
    "Координаты факторов в пространстве старых фич находятся в атрибуте ```components_```."
   ]
  },
  {
   "cell_type": "code",
   "execution_count": 22,
   "id": "6e7bc1e1-142c-46c4-8db8-56b1e76d8357",
   "metadata": {},
   "outputs": [
    {
     "data": {
      "text/html": [
       "<div>\n",
       "<style scoped>\n",
       "    .dataframe tbody tr th:only-of-type {\n",
       "        vertical-align: middle;\n",
       "    }\n",
       "\n",
       "    .dataframe tbody tr th {\n",
       "        vertical-align: top;\n",
       "    }\n",
       "\n",
       "    .dataframe thead th {\n",
       "        text-align: right;\n",
       "    }\n",
       "</style>\n",
       "<table border=\"1\" class=\"dataframe\">\n",
       "  <thead>\n",
       "    <tr style=\"text-align: right;\">\n",
       "      <th></th>\n",
       "      <th>decision</th>\n",
       "      <th>availability of information</th>\n",
       "      <th>cost of housing</th>\n",
       "      <th>quality of public schools</th>\n",
       "      <th>trust in police</th>\n",
       "      <th>sidewalks</th>\n",
       "      <th>events</th>\n",
       "    </tr>\n",
       "  </thead>\n",
       "  <tbody>\n",
       "    <tr>\n",
       "      <th>0</th>\n",
       "      <td>-0.385431</td>\n",
       "      <td>-0.783636</td>\n",
       "      <td>-0.140971</td>\n",
       "      <td>-0.480654</td>\n",
       "      <td>-0.315979</td>\n",
       "      <td>-0.574220</td>\n",
       "      <td>-0.528196</td>\n",
       "    </tr>\n",
       "    <tr>\n",
       "      <th>1</th>\n",
       "      <td>-0.048497</td>\n",
       "      <td>-0.254858</td>\n",
       "      <td>0.239049</td>\n",
       "      <td>0.326225</td>\n",
       "      <td>0.496688</td>\n",
       "      <td>0.140898</td>\n",
       "      <td>-0.021708</td>\n",
       "    </tr>\n",
       "    <tr>\n",
       "      <th>2</th>\n",
       "      <td>-0.040786</td>\n",
       "      <td>0.083235</td>\n",
       "      <td>0.496033</td>\n",
       "      <td>0.068011</td>\n",
       "      <td>-0.123756</td>\n",
       "      <td>-0.214969</td>\n",
       "      <td>-0.099316</td>\n",
       "    </tr>\n",
       "  </tbody>\n",
       "</table>\n",
       "</div>"
      ],
      "text/plain": [
       "   decision  availability of information  cost of housing  \\\n",
       "0 -0.385431                    -0.783636        -0.140971   \n",
       "1 -0.048497                    -0.254858         0.239049   \n",
       "2 -0.040786                     0.083235         0.496033   \n",
       "\n",
       "   quality of public schools   trust in police  sidewalks    events  \n",
       "0                   -0.480654        -0.315979  -0.574220 -0.528196  \n",
       "1                    0.326225         0.496688   0.140898 -0.021708  \n",
       "2                    0.068011        -0.123756  -0.214969 -0.099316  "
      ]
     },
     "execution_count": 22,
     "metadata": {},
     "output_type": "execute_result"
    }
   ],
   "source": [
    "pd.DataFrame(fa.components_, columns=df.columns)"
   ]
  },
  {
   "cell_type": "markdown",
   "id": "b22f2fe5-0929-4082-acd6-de5e5b2407f1",
   "metadata": {},
   "source": [
    "Видим, что второй (первый) фактор коррелирует с доверием к полиции. Третий же фактор, напротив, коррелирует с фичами, связанными со стоймостью жилья. То есть мы свели пространство из семи фич к трём новым интерпретируемым фичам."
   ]
  },
  {
   "cell_type": "markdown",
   "id": "5694983b-87cf-43e9-9ca3-b255568fd4c1",
   "metadata": {},
   "source": [
    "Уникальность фич в смысле дисперсии, объяснённой факторами (чем больше, тем хуже объясняется факторами) содержится в атрибуте ```noise_variance_```."
   ]
  },
  {
   "cell_type": "code",
   "execution_count": 23,
   "id": "515d4fc8-cc20-4573-a867-dc6c2ca20364",
   "metadata": {},
   "outputs": [
    {
     "name": "stdout",
     "output_type": "stream",
     "text": [
      "Uniqueness:\n"
     ]
    },
    {
     "data": {
      "text/plain": [
       "decision                       0.847143\n",
       "availability of information    0.317136\n",
       "cost of housing                0.680641\n",
       "quality of public schools      0.657178\n",
       "trust in police                0.638426\n",
       "sidewalks                      0.603682\n",
       "events                         0.710193\n",
       "dtype: float64"
      ]
     },
     "execution_count": 23,
     "metadata": {},
     "output_type": "execute_result"
    }
   ],
   "source": [
    "print('Uniqueness:')\n",
    "pd.Series(fa.noise_variance_, df.columns)"
   ]
  },
  {
   "cell_type": "markdown",
   "id": "f230cfb5-a1d1-4be8-9654-6dc0172b1514",
   "metadata": {},
   "source": [
    "Наконец, сами факторы (как новые векторы-фичи) можно получить, применив метод ```transform```."
   ]
  },
  {
   "cell_type": "code",
   "execution_count": 25,
   "id": "e0cbedd2-3d5c-4301-9980-816b66e96027",
   "metadata": {},
   "outputs": [
    {
     "data": {
      "text/html": [
       "<div>\n",
       "<style scoped>\n",
       "    .dataframe tbody tr th:only-of-type {\n",
       "        vertical-align: middle;\n",
       "    }\n",
       "\n",
       "    .dataframe tbody tr th {\n",
       "        vertical-align: top;\n",
       "    }\n",
       "\n",
       "    .dataframe thead th {\n",
       "        text-align: right;\n",
       "    }\n",
       "</style>\n",
       "<table border=\"1\" class=\"dataframe\">\n",
       "  <thead>\n",
       "    <tr style=\"text-align: right;\">\n",
       "      <th></th>\n",
       "      <th>factor1</th>\n",
       "      <th>factor2</th>\n",
       "      <th>factor3</th>\n",
       "    </tr>\n",
       "  </thead>\n",
       "  <tbody>\n",
       "    <tr>\n",
       "      <th>0</th>\n",
       "      <td>1.321555</td>\n",
       "      <td>0.713808</td>\n",
       "      <td>0.247716</td>\n",
       "    </tr>\n",
       "    <tr>\n",
       "      <th>1</th>\n",
       "      <td>1.064183</td>\n",
       "      <td>1.254895</td>\n",
       "      <td>-0.641089</td>\n",
       "    </tr>\n",
       "    <tr>\n",
       "      <th>2</th>\n",
       "      <td>-0.482558</td>\n",
       "      <td>-0.801789</td>\n",
       "      <td>0.446723</td>\n",
       "    </tr>\n",
       "    <tr>\n",
       "      <th>3</th>\n",
       "      <td>-0.324145</td>\n",
       "      <td>-0.572245</td>\n",
       "      <td>0.944895</td>\n",
       "    </tr>\n",
       "    <tr>\n",
       "      <th>4</th>\n",
       "      <td>-0.324145</td>\n",
       "      <td>-0.572245</td>\n",
       "      <td>0.944895</td>\n",
       "    </tr>\n",
       "  </tbody>\n",
       "</table>\n",
       "</div>"
      ],
      "text/plain": [
       "    factor1   factor2   factor3\n",
       "0  1.321555  0.713808  0.247716\n",
       "1  1.064183  1.254895 -0.641089\n",
       "2 -0.482558 -0.801789  0.446723\n",
       "3 -0.324145 -0.572245  0.944895\n",
       "4 -0.324145 -0.572245  0.944895"
      ]
     },
     "execution_count": 25,
     "metadata": {},
     "output_type": "execute_result"
    }
   ],
   "source": [
    "scores = pd.DataFrame(fa.transform(df_scaled), columns=['factor1', 'factor2','factor3'])\n",
    "scores.head()"
   ]
  },
  {
   "cell_type": "code",
   "execution_count": 26,
   "id": "6c7e0525-6470-46f8-a91e-3430bef96aa1",
   "metadata": {},
   "outputs": [
    {
     "data": {
      "text/html": [
       "<div>\n",
       "<style scoped>\n",
       "    .dataframe tbody tr th:only-of-type {\n",
       "        vertical-align: middle;\n",
       "    }\n",
       "\n",
       "    .dataframe tbody tr th {\n",
       "        vertical-align: top;\n",
       "    }\n",
       "\n",
       "    .dataframe thead th {\n",
       "        text-align: right;\n",
       "    }\n",
       "</style>\n",
       "<table border=\"1\" class=\"dataframe\">\n",
       "  <thead>\n",
       "    <tr style=\"text-align: right;\">\n",
       "      <th></th>\n",
       "      <th>factor1</th>\n",
       "      <th>factor2</th>\n",
       "      <th>factor3</th>\n",
       "    </tr>\n",
       "  </thead>\n",
       "  <tbody>\n",
       "    <tr>\n",
       "      <th>0</th>\n",
       "      <td>1.321555</td>\n",
       "      <td>0.713808</td>\n",
       "      <td>0.247716</td>\n",
       "    </tr>\n",
       "    <tr>\n",
       "      <th>1</th>\n",
       "      <td>1.064183</td>\n",
       "      <td>1.254895</td>\n",
       "      <td>-0.641089</td>\n",
       "    </tr>\n",
       "    <tr>\n",
       "      <th>2</th>\n",
       "      <td>-0.482558</td>\n",
       "      <td>-0.801789</td>\n",
       "      <td>0.446723</td>\n",
       "    </tr>\n",
       "    <tr>\n",
       "      <th>3</th>\n",
       "      <td>-0.324145</td>\n",
       "      <td>-0.572245</td>\n",
       "      <td>0.944895</td>\n",
       "    </tr>\n",
       "    <tr>\n",
       "      <th>4</th>\n",
       "      <td>-0.324145</td>\n",
       "      <td>-0.572245</td>\n",
       "      <td>0.944895</td>\n",
       "    </tr>\n",
       "    <tr>\n",
       "      <th>...</th>\n",
       "      <td>...</td>\n",
       "      <td>...</td>\n",
       "      <td>...</td>\n",
       "    </tr>\n",
       "    <tr>\n",
       "      <th>138</th>\n",
       "      <td>-0.039910</td>\n",
       "      <td>-1.678670</td>\n",
       "      <td>0.801463</td>\n",
       "    </tr>\n",
       "    <tr>\n",
       "      <th>139</th>\n",
       "      <td>-0.380047</td>\n",
       "      <td>-0.611424</td>\n",
       "      <td>0.076897</td>\n",
       "    </tr>\n",
       "    <tr>\n",
       "      <th>140</th>\n",
       "      <td>-0.788272</td>\n",
       "      <td>-0.222223</td>\n",
       "      <td>0.091827</td>\n",
       "    </tr>\n",
       "    <tr>\n",
       "      <th>141</th>\n",
       "      <td>0.086410</td>\n",
       "      <td>0.377272</td>\n",
       "      <td>-0.062625</td>\n",
       "    </tr>\n",
       "    <tr>\n",
       "      <th>142</th>\n",
       "      <td>-0.733884</td>\n",
       "      <td>0.150754</td>\n",
       "      <td>-0.268412</td>\n",
       "    </tr>\n",
       "  </tbody>\n",
       "</table>\n",
       "<p>143 rows × 3 columns</p>\n",
       "</div>"
      ],
      "text/plain": [
       "      factor1   factor2   factor3\n",
       "0    1.321555  0.713808  0.247716\n",
       "1    1.064183  1.254895 -0.641089\n",
       "2   -0.482558 -0.801789  0.446723\n",
       "3   -0.324145 -0.572245  0.944895\n",
       "4   -0.324145 -0.572245  0.944895\n",
       "..        ...       ...       ...\n",
       "138 -0.039910 -1.678670  0.801463\n",
       "139 -0.380047 -0.611424  0.076897\n",
       "140 -0.788272 -0.222223  0.091827\n",
       "141  0.086410  0.377272 -0.062625\n",
       "142 -0.733884  0.150754 -0.268412\n",
       "\n",
       "[143 rows x 3 columns]"
      ]
     },
     "execution_count": 26,
     "metadata": {},
     "output_type": "execute_result"
    }
   ],
   "source": [
    "scores"
   ]
  },
  {
   "cell_type": "markdown",
   "id": "8252ff34-1ebf-44d2-b4ee-8601b4b04b38",
   "metadata": {},
   "source": [
    "Попробуем теперь построить не три, а четыре фактора."
   ]
  },
  {
   "cell_type": "code",
   "execution_count": 27,
   "id": "d7664bda-280a-4c5b-9e57-782cef8872d2",
   "metadata": {
    "tags": []
   },
   "outputs": [
    {
     "data": {
      "text/html": [
       "<div>\n",
       "<style scoped>\n",
       "    .dataframe tbody tr th:only-of-type {\n",
       "        vertical-align: middle;\n",
       "    }\n",
       "\n",
       "    .dataframe tbody tr th {\n",
       "        vertical-align: top;\n",
       "    }\n",
       "\n",
       "    .dataframe thead th {\n",
       "        text-align: right;\n",
       "    }\n",
       "</style>\n",
       "<table border=\"1\" class=\"dataframe\">\n",
       "  <thead>\n",
       "    <tr style=\"text-align: right;\">\n",
       "      <th></th>\n",
       "      <th>decision</th>\n",
       "      <th>availability of information</th>\n",
       "      <th>cost of housing</th>\n",
       "      <th>quality of public schools</th>\n",
       "      <th>trust in police</th>\n",
       "      <th>sidewalks</th>\n",
       "      <th>events</th>\n",
       "    </tr>\n",
       "  </thead>\n",
       "  <tbody>\n",
       "    <tr>\n",
       "      <th>0</th>\n",
       "      <td>-0.382754</td>\n",
       "      <td>-0.727942</td>\n",
       "      <td>-0.136057</td>\n",
       "      <td>-0.509987</td>\n",
       "      <td>-0.365321</td>\n",
       "      <td>-0.610203</td>\n",
       "      <td>-0.553332</td>\n",
       "    </tr>\n",
       "    <tr>\n",
       "      <th>1</th>\n",
       "      <td>0.090341</td>\n",
       "      <td>0.295107</td>\n",
       "      <td>-0.176906</td>\n",
       "      <td>-0.289875</td>\n",
       "      <td>-0.500964</td>\n",
       "      <td>-0.099152</td>\n",
       "      <td>0.091845</td>\n",
       "    </tr>\n",
       "    <tr>\n",
       "      <th>2</th>\n",
       "      <td>-0.012097</td>\n",
       "      <td>0.098166</td>\n",
       "      <td>0.438577</td>\n",
       "      <td>0.156051</td>\n",
       "      <td>-0.092766</td>\n",
       "      <td>-0.210104</td>\n",
       "      <td>-0.108929</td>\n",
       "    </tr>\n",
       "    <tr>\n",
       "      <th>3</th>\n",
       "      <td>-0.046140</td>\n",
       "      <td>0.012418</td>\n",
       "      <td>-0.054415</td>\n",
       "      <td>0.129929</td>\n",
       "      <td>-0.134459</td>\n",
       "      <td>0.181054</td>\n",
       "      <td>-0.245506</td>\n",
       "    </tr>\n",
       "  </tbody>\n",
       "</table>\n",
       "</div>"
      ],
      "text/plain": [
       "   decision  availability of information  cost of housing  \\\n",
       "0 -0.382754                    -0.727942        -0.136057   \n",
       "1  0.090341                     0.295107        -0.176906   \n",
       "2 -0.012097                     0.098166         0.438577   \n",
       "3 -0.046140                     0.012418        -0.054415   \n",
       "\n",
       "   quality of public schools   trust in police  sidewalks    events  \n",
       "0                   -0.509987        -0.365321  -0.610203 -0.553332  \n",
       "1                   -0.289875        -0.500964  -0.099152  0.091845  \n",
       "2                    0.156051        -0.092766  -0.210104 -0.108929  \n",
       "3                    0.129929        -0.134459   0.181054 -0.245506  "
      ]
     },
     "execution_count": 27,
     "metadata": {},
     "output_type": "execute_result"
    }
   ],
   "source": [
    "fa = FactorAnalysis(n_components=4)\n",
    "fa.fit(df_scaled)\n",
    "pd.DataFrame(fa.components_, columns=df.columns)"
   ]
  },
  {
   "cell_type": "markdown",
   "id": "d41b751a-721a-4662-90f7-1e91dc953d49",
   "metadata": {},
   "source": [
    "Теперь у нас второй фактор (первый) коррелирует с доступностью к информации и третий (второй) фактор коррелирует со стоймостью аренды жилья."
   ]
  }
 ],
 "metadata": {
  "kernelspec": {
   "display_name": "Python 3 (ipykernel)",
   "language": "python",
   "name": "python3"
  },
  "language_info": {
   "codemirror_mode": {
    "name": "ipython",
    "version": 3
   },
   "file_extension": ".py",
   "mimetype": "text/x-python",
   "name": "python",
   "nbconvert_exporter": "python",
   "pygments_lexer": "ipython3",
   "version": "3.9.7"
  }
 },
 "nbformat": 4,
 "nbformat_minor": 5
}

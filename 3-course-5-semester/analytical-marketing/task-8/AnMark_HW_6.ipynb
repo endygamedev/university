{
 "cells": [
  {
   "cell_type": "markdown",
   "id": "peripheral-mount",
   "metadata": {},
   "source": [
    "## Занятие 6. Нелинейные модели для классификации. Выбор лучшей модели для классификации. Построение программного конвеера"
   ]
  },
  {
   "cell_type": "markdown",
   "id": "accomplished-vessel",
   "metadata": {},
   "source": [
    "Веберите любые данные для задачи классификации из репозитория данных для машинного обучения (UCI Machine learning repository: http://archive.ics.uci.edu/ml/index.php) или возьмите свои данные и постройте нелинейные модели в соответствии со следующей схемой. Комментарии к каждому разделу обязательны."
   ]
  },
  {
   "cell_type": "markdown",
   "id": "6aaebac7-c94f-408d-bcac-58a1766315b2",
   "metadata": {},
   "source": [
    "*Выполнил:* Бронников Егор ПМ-1901"
   ]
  },
  {
   "cell_type": "markdown",
   "id": "bf9ed433-6616-4edd-8043-390d32a2ec72",
   "metadata": {},
   "source": [
    "*Последнее изменение:* 13/12/2021"
   ]
  },
  {
   "cell_type": "markdown",
   "id": "719b3c63-351a-4ec6-bb48-e2b21e004c3b",
   "metadata": {},
   "source": [
    "### Импорты"
   ]
  },
  {
   "cell_type": "code",
   "execution_count": 2,
   "id": "d0e39205-e1a6-45b7-83e0-2e3506efed17",
   "metadata": {},
   "outputs": [],
   "source": [
    "from pandas import read_csv\n",
    "from sklearn.model_selection import KFold\n",
    "from sklearn.model_selection import cross_val_score\n",
    "from sklearn.neighbors import KNeighborsClassifier\n",
    "from sklearn.naive_bayes import GaussianNB\n",
    "from sklearn.tree import DecisionTreeClassifier\n",
    "from matplotlib import pyplot\n",
    "from sklearn.linear_model import LogisticRegression\n",
    "from sklearn.discriminant_analysis import LinearDiscriminantAnalysis\n",
    "from sklearn.svm import SVC\n",
    "from sklearn.preprocessing import StandardScaler\n",
    "from sklearn.pipeline import Pipeline\n",
    "from sklearn.pipeline import FeatureUnion\n",
    "from sklearn.decomposition import PCA\n",
    "from sklearn.feature_selection import SelectKBest"
   ]
  },
  {
   "cell_type": "markdown",
   "id": "b781139d-c832-496d-aea1-eab48a470493",
   "metadata": {},
   "source": [
    "### Данные"
   ]
  },
  {
   "cell_type": "markdown",
   "id": "729eb862-752f-4e1f-93fb-06a65c7d0fa5",
   "metadata": {},
   "source": [
    "*Источник:* https://github.com/jbrownlee/Datasets\n",
    "\n",
    "*Название:* **Cancer (Haberman's)**"
   ]
  },
  {
   "cell_type": "markdown",
   "id": "0cee8b48-f9e6-4786-9eb6-f3745350642e",
   "metadata": {},
   "source": [
    "### Описание данных"
   ]
  },
  {
   "cell_type": "markdown",
   "id": "b1886724-e68e-4226-b32d-70453067c819",
   "metadata": {},
   "source": [
    "Данные о пациентах больных раком."
   ]
  },
  {
   "cell_type": "markdown",
   "id": "b2a56280-78de-4488-8ec2-f2413b649b33",
   "metadata": {},
   "source": [
    "### Описание полей"
   ]
  },
  {
   "cell_type": "markdown",
   "id": "895748f2-fc85-4ef9-9797-7cd3e230e49e",
   "metadata": {},
   "source": [
    "1. **age** — возраст пациента;\n",
    "1. **operation_year** — год операции 19##;\n",
    "1. **axillary_nodes** — количество обнаруженных положительных узлов;\n",
    "1. **survival_status** — выживаемость после операции:\n",
    "    - 1 $-$ пациент прожил 5 лет и более \n",
    "    - 2 $-$ пациент умер в течение 5 лет"
   ]
  },
  {
   "cell_type": "markdown",
   "id": "d08321ff-4f00-411a-9df0-0927ef3c5ac3",
   "metadata": {},
   "source": [
    "Смотрим на данные."
   ]
  },
  {
   "cell_type": "code",
   "execution_count": 7,
   "id": "e16caceb-595f-4104-a345-0988f74a30b4",
   "metadata": {},
   "outputs": [
    {
     "data": {
      "text/html": [
       "<div>\n",
       "<style scoped>\n",
       "    .dataframe tbody tr th:only-of-type {\n",
       "        vertical-align: middle;\n",
       "    }\n",
       "\n",
       "    .dataframe tbody tr th {\n",
       "        vertical-align: top;\n",
       "    }\n",
       "\n",
       "    .dataframe thead th {\n",
       "        text-align: right;\n",
       "    }\n",
       "</style>\n",
       "<table border=\"1\" class=\"dataframe\">\n",
       "  <thead>\n",
       "    <tr style=\"text-align: right;\">\n",
       "      <th></th>\n",
       "      <th>age</th>\n",
       "      <th>operation_year</th>\n",
       "      <th>axillary_nodes</th>\n",
       "      <th>survival_status</th>\n",
       "    </tr>\n",
       "  </thead>\n",
       "  <tbody>\n",
       "    <tr>\n",
       "      <th>0</th>\n",
       "      <td>30</td>\n",
       "      <td>64</td>\n",
       "      <td>1</td>\n",
       "      <td>1</td>\n",
       "    </tr>\n",
       "    <tr>\n",
       "      <th>1</th>\n",
       "      <td>30</td>\n",
       "      <td>62</td>\n",
       "      <td>3</td>\n",
       "      <td>1</td>\n",
       "    </tr>\n",
       "    <tr>\n",
       "      <th>2</th>\n",
       "      <td>30</td>\n",
       "      <td>65</td>\n",
       "      <td>0</td>\n",
       "      <td>1</td>\n",
       "    </tr>\n",
       "    <tr>\n",
       "      <th>3</th>\n",
       "      <td>31</td>\n",
       "      <td>59</td>\n",
       "      <td>2</td>\n",
       "      <td>1</td>\n",
       "    </tr>\n",
       "    <tr>\n",
       "      <th>4</th>\n",
       "      <td>31</td>\n",
       "      <td>65</td>\n",
       "      <td>4</td>\n",
       "      <td>1</td>\n",
       "    </tr>\n",
       "  </tbody>\n",
       "</table>\n",
       "</div>"
      ],
      "text/plain": [
       "   age  operation_year  axillary_nodes  survival_status\n",
       "0   30              64               1                1\n",
       "1   30              62               3                1\n",
       "2   30              65               0                1\n",
       "3   31              59               2                1\n",
       "4   31              65               4                1"
      ]
     },
     "execution_count": 7,
     "metadata": {},
     "output_type": "execute_result"
    }
   ],
   "source": [
    "filename = \"haberman.csv\"\n",
    "names = [\"age\", \"operation_year\", \"axillary_nodes\", \"survival_status\"]\n",
    "dataframe = read_csv(filename, names=names)\n",
    "array = dataframe.values\n",
    "dataframe.head()"
   ]
  },
  {
   "cell_type": "code",
   "execution_count": 8,
   "id": "9e39092e-8d38-4892-abbe-632310370c5d",
   "metadata": {},
   "outputs": [
    {
     "data": {
      "text/html": [
       "<div>\n",
       "<style scoped>\n",
       "    .dataframe tbody tr th:only-of-type {\n",
       "        vertical-align: middle;\n",
       "    }\n",
       "\n",
       "    .dataframe tbody tr th {\n",
       "        vertical-align: top;\n",
       "    }\n",
       "\n",
       "    .dataframe thead th {\n",
       "        text-align: right;\n",
       "    }\n",
       "</style>\n",
       "<table border=\"1\" class=\"dataframe\">\n",
       "  <thead>\n",
       "    <tr style=\"text-align: right;\">\n",
       "      <th></th>\n",
       "      <th>age</th>\n",
       "      <th>operation_year</th>\n",
       "      <th>axillary_nodes</th>\n",
       "      <th>survival_status</th>\n",
       "    </tr>\n",
       "  </thead>\n",
       "  <tbody>\n",
       "    <tr>\n",
       "      <th>count</th>\n",
       "      <td>306.000000</td>\n",
       "      <td>306.000000</td>\n",
       "      <td>306.000000</td>\n",
       "      <td>306.000000</td>\n",
       "    </tr>\n",
       "    <tr>\n",
       "      <th>mean</th>\n",
       "      <td>52.457516</td>\n",
       "      <td>62.852941</td>\n",
       "      <td>4.026144</td>\n",
       "      <td>1.264706</td>\n",
       "    </tr>\n",
       "    <tr>\n",
       "      <th>std</th>\n",
       "      <td>10.803452</td>\n",
       "      <td>3.249405</td>\n",
       "      <td>7.189654</td>\n",
       "      <td>0.441899</td>\n",
       "    </tr>\n",
       "    <tr>\n",
       "      <th>min</th>\n",
       "      <td>30.000000</td>\n",
       "      <td>58.000000</td>\n",
       "      <td>0.000000</td>\n",
       "      <td>1.000000</td>\n",
       "    </tr>\n",
       "    <tr>\n",
       "      <th>25%</th>\n",
       "      <td>44.000000</td>\n",
       "      <td>60.000000</td>\n",
       "      <td>0.000000</td>\n",
       "      <td>1.000000</td>\n",
       "    </tr>\n",
       "    <tr>\n",
       "      <th>50%</th>\n",
       "      <td>52.000000</td>\n",
       "      <td>63.000000</td>\n",
       "      <td>1.000000</td>\n",
       "      <td>1.000000</td>\n",
       "    </tr>\n",
       "    <tr>\n",
       "      <th>75%</th>\n",
       "      <td>60.750000</td>\n",
       "      <td>65.750000</td>\n",
       "      <td>4.000000</td>\n",
       "      <td>2.000000</td>\n",
       "    </tr>\n",
       "    <tr>\n",
       "      <th>max</th>\n",
       "      <td>83.000000</td>\n",
       "      <td>69.000000</td>\n",
       "      <td>52.000000</td>\n",
       "      <td>2.000000</td>\n",
       "    </tr>\n",
       "  </tbody>\n",
       "</table>\n",
       "</div>"
      ],
      "text/plain": [
       "              age  operation_year  axillary_nodes  survival_status\n",
       "count  306.000000      306.000000      306.000000       306.000000\n",
       "mean    52.457516       62.852941        4.026144         1.264706\n",
       "std     10.803452        3.249405        7.189654         0.441899\n",
       "min     30.000000       58.000000        0.000000         1.000000\n",
       "25%     44.000000       60.000000        0.000000         1.000000\n",
       "50%     52.000000       63.000000        1.000000         1.000000\n",
       "75%     60.750000       65.750000        4.000000         2.000000\n",
       "max     83.000000       69.000000       52.000000         2.000000"
      ]
     },
     "execution_count": 8,
     "metadata": {},
     "output_type": "execute_result"
    }
   ],
   "source": [
    "dataframe.describe()"
   ]
  },
  {
   "cell_type": "code",
   "execution_count": 9,
   "id": "93df6df9-bc32-43f2-a669-5e89cd5ff108",
   "metadata": {},
   "outputs": [],
   "source": [
    "X = array[:,0:3]\n",
    "Y = array[:,3]"
   ]
  },
  {
   "cell_type": "markdown",
   "id": "controlling-mayor",
   "metadata": {},
   "source": [
    "### k-Nearest Neighbors"
   ]
  },
  {
   "cell_type": "code",
   "execution_count": 38,
   "id": "organized-visibility",
   "metadata": {},
   "outputs": [
    {
     "name": "stdout",
     "output_type": "stream",
     "text": [
      "70.24731 %\n"
     ]
    }
   ],
   "source": [
    "kfold = KFold(n_splits=10, random_state=7, shuffle=True)\n",
    "model = KNeighborsClassifier()\n",
    "results = cross_val_score(model, X, Y, cv=kfold)\n",
    "print(f\"{round(results.mean()*100, 5)} %\")"
   ]
  },
  {
   "cell_type": "markdown",
   "id": "3918f760-ee7e-4e20-8cbc-6dd0d54180f4",
   "metadata": {},
   "source": [
    "Значение точности вычислений алгоритмом k-ближайших соседей составляет **70%**, это означает, что этот метод хорошо подходит для классификации."
   ]
  },
  {
   "cell_type": "markdown",
   "id": "competent-pointer",
   "metadata": {},
   "source": [
    "### Naive Bayes"
   ]
  },
  {
   "cell_type": "code",
   "execution_count": 39,
   "id": "heavy-picture",
   "metadata": {},
   "outputs": [
    {
     "name": "stdout",
     "output_type": "stream",
     "text": [
      "74.51613 %\n"
     ]
    }
   ],
   "source": [
    "kfold = KFold(n_splits=10, random_state=7, shuffle=True)\n",
    "model = GaussianNB()\n",
    "results = cross_val_score(model, X, Y, cv=kfold)\n",
    "print(f\"{round(results.mean()*100, 5)} %\")"
   ]
  },
  {
   "cell_type": "markdown",
   "id": "9d4f26d7-8b28-4ae0-adce-c68c9e77863d",
   "metadata": {},
   "source": [
    "Значение точности вычислений наивным Байесовским алгоритмом составляет **75%**, это лучше чем результат полученный алгоритмом k-ближайших соседей."
   ]
  },
  {
   "cell_type": "markdown",
   "id": "advanced-salon",
   "metadata": {},
   "source": [
    "### Classification and Regression Trees"
   ]
  },
  {
   "cell_type": "code",
   "execution_count": 40,
   "id": "sustained-casting",
   "metadata": {},
   "outputs": [
    {
     "name": "stdout",
     "output_type": "stream",
     "text": [
      "67.08602 %\n"
     ]
    }
   ],
   "source": [
    "kfold = KFold(n_splits=10, random_state=7, shuffle=True)\n",
    "model = DecisionTreeClassifier()\n",
    "results = cross_val_score(model, X, Y, cv=kfold)\n",
    "print(f\"{round(results.mean()*100, 5)} %\")"
   ]
  },
  {
   "cell_type": "markdown",
   "id": "92106afe-e507-41e5-8f1b-ce393b9511f9",
   "metadata": {},
   "source": [
    "Значение точности вычислений алгоритмом деревьев классификации составляет **67%**, это означает, что этот метод хорошо подходит для классификации, но хуже чем предыдущие результаты."
   ]
  },
  {
   "cell_type": "markdown",
   "id": "light-gasoline",
   "metadata": {},
   "source": [
    "### Выбор лучшего алгоритма машинного обучения для задачи классификации"
   ]
  },
  {
   "cell_type": "code",
   "execution_count": 13,
   "id": "environmental-controversy",
   "metadata": {},
   "outputs": [
    {
     "name": "stdout",
     "output_type": "stream",
     "text": [
      "LR: 0.748387 (0.087158)\n",
      "LDA: 0.748387 (0.087158)\n",
      "KNN: 0.702473 (0.047946)\n",
      "CART: 0.686882 (0.087351)\n",
      "NB: 0.745161 (0.079215)\n",
      "SVM: 0.728710 (0.079695)\n"
     ]
    },
    {
     "data": {
      "image/png": "[encoded data removed]",
      "text/plain": [
       "<Figure size 432x288 with 1 Axes>"
      ]
     },
     "metadata": {
      "needs_background": "light"
     },
     "output_type": "display_data"
    }
   ],
   "source": [
    "models = []\n",
    "models.append(('LR', LogisticRegression(solver='liblinear')))\n",
    "models.append(('LDA', LinearDiscriminantAnalysis()))\n",
    "models.append(('KNN', KNeighborsClassifier()))\n",
    "models.append(('CART', DecisionTreeClassifier()))\n",
    "models.append(('NB', GaussianNB()))\n",
    "models.append(('SVM', SVC()))\n",
    "# evaluate each model in turn\n",
    "results = []\n",
    "names = []\n",
    "scoring = 'accuracy'\n",
    "for name, model in models:\n",
    "    kfold = KFold(n_splits=10, random_state=7, shuffle=True)\n",
    "    cv_results = cross_val_score(model, X, Y, cv=kfold, scoring=scoring)\n",
    "    results.append(cv_results)\n",
    "    names.append(name)\n",
    "    msg = \"%s: %f (%f)\" % (name, cv_results.mean(), cv_results.std())\n",
    "    print(msg)\n",
    "# boxplot algorithm comparison\n",
    "fig = pyplot.figure()\n",
    "fig.suptitle('Algorithm Comparison')\n",
    "ax = fig.add_subplot(111)\n",
    "pyplot.boxplot(results)\n",
    "ax.set_xticklabels(names)\n",
    "pyplot.show()"
   ]
  },
  {
   "cell_type": "markdown",
   "id": "067c33ba-f445-4091-a3ad-f443b6fbaa37",
   "metadata": {},
   "source": [
    "Ящик с усами – это упрощенная гистограмма, на нем можно увидеть асимметрию распределений. Мы сравнивали между собой алгоритмы логистической регрессии, линейного дискриминантного анализа, алгоритм k-ближайших соседей, алгоритм деревьев классификации, наивный Байесовский алгоритм и алгоритм опорных векторов (Support Vector Machine). Исходя из результатов, полученных на основе средней точности и величины стандартного отклонения, можно сделать о том, что самые точные значения выводят модели, сформированные алгоритмами: `LR`,`LDA`,`NB`, `SVM`."
   ]
  },
  {
   "cell_type": "markdown",
   "id": "working-livestock",
   "metadata": {},
   "source": [
    "### Программный конвеер подготовки данных и моделирования"
   ]
  },
  {
   "cell_type": "code",
   "execution_count": 41,
   "id": "frank-ethics",
   "metadata": {},
   "outputs": [
    {
     "name": "stdout",
     "output_type": "stream",
     "text": [
      "74.83871 %\n"
     ]
    }
   ],
   "source": [
    "estimators = []\n",
    "estimators.append(('standardize', StandardScaler()))\n",
    "estimators.append(('lda', LinearDiscriminantAnalysis()))\n",
    "model = Pipeline(estimators)\n",
    "# evaluate pipeline\n",
    "kfold = KFold(n_splits=10, random_state=7, shuffle=True)\n",
    "results = cross_val_score(model, X, Y, cv=kfold)\n",
    "print(f\"{round(results.mean()*100, 5)} %\")"
   ]
  },
  {
   "cell_type": "markdown",
   "id": "southeast-location",
   "metadata": {},
   "source": [
    "### Программный конвеер отбора признаков и моделирования"
   ]
  },
  {
   "cell_type": "code",
   "execution_count": 42,
   "id": "81de227d-9631-4160-aa4b-1524e4ab6fc3",
   "metadata": {},
   "outputs": [
    {
     "name": "stdout",
     "output_type": "stream",
     "text": [
      "74.83871 %\n"
     ]
    }
   ],
   "source": [
    "features = []\n",
    "features.append(('pca', PCA(n_components=3)))\n",
    "features.append(('select_best', SelectKBest(k=3)))\n",
    "feature_union = FeatureUnion(features)\n",
    "# create pipeline\n",
    "estimators = []\n",
    "estimators.append(('feature_union', feature_union))\n",
    "estimators.append(('logistic', LogisticRegression(solver='liblinear')))\n",
    "model = Pipeline(estimators)\n",
    "# evaluate pipeline\n",
    "kfold = KFold(n_splits=10, random_state=7, shuffle=True)\n",
    "results = cross_val_score(model, X, Y, cv=kfold)\n",
    "print(f\"{round(results.mean()*100, 5)} %\")"
   ]
  },
  {
   "cell_type": "markdown",
   "id": "c1ab8c2b-12e6-4773-ba3f-6a9976dbff8b",
   "metadata": {},
   "source": [
    "### Выводы"
   ]
  },
  {
   "cell_type": "markdown",
   "id": "fb493790-e8d3-4e0d-8746-f05364a77a98",
   "metadata": {},
   "source": [
    "Таким образом, линейные модели сработали лучше для классификации, но также можно использовать наивный Байесовский алгоритм и алогрит k-ближайших соседей."
   ]
  }
 ],
 "metadata": {
  "kernelspec": {
   "display_name": "Python 3 (ipykernel)",
   "language": "python",
   "name": "python3"
  },
  "language_info": {
   "codemirror_mode": {
    "name": "ipython",
    "version": 3
   },
   "file_extension": ".py",
   "mimetype": "text/x-python",
   "name": "python",
   "nbconvert_exporter": "python",
   "pygments_lexer": "ipython3",
   "version": "3.9.9"
  }
 },
 "nbformat": 4,
 "nbformat_minor": 5
}

{
 "cells": [
  {
   "cell_type": "markdown",
   "id": "collected-calgary",
   "metadata": {},
   "source": [
    "## Занятие 4. Оценка точности моделей"
   ]
  },
  {
   "cell_type": "markdown",
   "id": "labeled-blood",
   "metadata": {},
   "source": [
    "Веберите любые данные для задач классификации и регресии из репозитория данных для машинного обучения (UCI Machine learning repository: http://archive.ics.uci.edu/ml/index.php) или возьмите свои данные и проверьте качество построенных моделей логистической регрессии (для классификации) и линейной регрессии (для задачи регрессии) в соответствии со следующей схемой. Комментарии к каждому разделу обязательны."
   ]
  },
  {
   "cell_type": "markdown",
   "id": "4c114416-42ca-43f7-99f1-35d5db573b08",
   "metadata": {},
   "source": [
    "*Выполнил:* Бронников Егор ПМ-1901"
   ]
  },
  {
   "cell_type": "markdown",
   "id": "67b667ca-cb50-4036-b7a4-b85781fba778",
   "metadata": {},
   "source": [
    "*Последнее изменение:* 29/11/2021"
   ]
  },
  {
   "cell_type": "markdown",
   "id": "f952e5b7-5903-4e61-876d-7cef206ae27b",
   "metadata": {},
   "source": [
    "## Импорты"
   ]
  },
  {
   "cell_type": "code",
   "execution_count": 1,
   "id": "a5241577-8d66-4aaf-9d1b-7b08aca96ef2",
   "metadata": {},
   "outputs": [],
   "source": [
    "from pandas import read_csv\n",
    "from sklearn.model_selection import train_test_split, KFold, cross_val_score, LeaveOneOut, ShuffleSplit\n",
    "from sklearn.linear_model import LogisticRegression\n",
    "from sklearn.metrics import confusion_matrix, classification_report"
   ]
  },
  {
   "cell_type": "markdown",
   "id": "115c6cb9-033f-4b8c-a0dd-378765b167fe",
   "metadata": {},
   "source": [
    "## Данные"
   ]
  },
  {
   "cell_type": "markdown",
   "id": "1081bb8a-c9b9-4e2b-b56e-b74c353016da",
   "metadata": {},
   "source": [
    "*Источник:* https://github.com/jbrownlee/Datasets\n",
    "\n",
    "*Название:* **Cancer (Haberman's)**"
   ]
  },
  {
   "cell_type": "markdown",
   "id": "c96d4991-c052-4f8d-8cdc-cbda2f7015fb",
   "metadata": {},
   "source": [
    "### Описание данных"
   ]
  },
  {
   "cell_type": "markdown",
   "id": "6e9ae51c-149d-4061-ab33-735e4a066bca",
   "metadata": {},
   "source": [
    "Данные о пациентах больных раком."
   ]
  },
  {
   "cell_type": "markdown",
   "id": "8038f2ed-b889-4f8d-aef4-a3470dbadc7d",
   "metadata": {},
   "source": [
    "### Описание полей"
   ]
  },
  {
   "cell_type": "markdown",
   "id": "bad630a5-8962-4552-8ddd-b6bc222a0065",
   "metadata": {},
   "source": [
    "1. **age** — возраст пациента;\n",
    "1. **operation_year** — год операции 19##;\n",
    "1. **axillary_nodes** — количество обнаруженных положительных узлов;\n",
    "1. **survival_status** — выживаемость после операции:\n",
    "    - 1 $-$ пациент прожил 5 лет и более \n",
    "    - 2 $-$ пациент умер в течение 5 лет"
   ]
  },
  {
   "cell_type": "markdown",
   "id": "945feeae-d776-455b-b7fb-09bb572309bc",
   "metadata": {},
   "source": [
    "Смотрим на данные."
   ]
  },
  {
   "cell_type": "code",
   "execution_count": 2,
   "id": "c4db2463-79e6-4018-88e6-81cd89901cf5",
   "metadata": {},
   "outputs": [
    {
     "data": {
      "text/html": [
       "<div>\n",
       "<style scoped>\n",
       "    .dataframe tbody tr th:only-of-type {\n",
       "        vertical-align: middle;\n",
       "    }\n",
       "\n",
       "    .dataframe tbody tr th {\n",
       "        vertical-align: top;\n",
       "    }\n",
       "\n",
       "    .dataframe thead th {\n",
       "        text-align: right;\n",
       "    }\n",
       "</style>\n",
       "<table border=\"1\" class=\"dataframe\">\n",
       "  <thead>\n",
       "    <tr style=\"text-align: right;\">\n",
       "      <th></th>\n",
       "      <th>age</th>\n",
       "      <th>operation_year</th>\n",
       "      <th>axillary_nodes</th>\n",
       "      <th>survival_status</th>\n",
       "    </tr>\n",
       "  </thead>\n",
       "  <tbody>\n",
       "    <tr>\n",
       "      <th>0</th>\n",
       "      <td>30</td>\n",
       "      <td>64</td>\n",
       "      <td>1</td>\n",
       "      <td>1</td>\n",
       "    </tr>\n",
       "    <tr>\n",
       "      <th>1</th>\n",
       "      <td>30</td>\n",
       "      <td>62</td>\n",
       "      <td>3</td>\n",
       "      <td>1</td>\n",
       "    </tr>\n",
       "    <tr>\n",
       "      <th>2</th>\n",
       "      <td>30</td>\n",
       "      <td>65</td>\n",
       "      <td>0</td>\n",
       "      <td>1</td>\n",
       "    </tr>\n",
       "    <tr>\n",
       "      <th>3</th>\n",
       "      <td>31</td>\n",
       "      <td>59</td>\n",
       "      <td>2</td>\n",
       "      <td>1</td>\n",
       "    </tr>\n",
       "    <tr>\n",
       "      <th>4</th>\n",
       "      <td>31</td>\n",
       "      <td>65</td>\n",
       "      <td>4</td>\n",
       "      <td>1</td>\n",
       "    </tr>\n",
       "  </tbody>\n",
       "</table>\n",
       "</div>"
      ],
      "text/plain": [
       "   age  operation_year  axillary_nodes  survival_status\n",
       "0   30              64               1                1\n",
       "1   30              62               3                1\n",
       "2   30              65               0                1\n",
       "3   31              59               2                1\n",
       "4   31              65               4                1"
      ]
     },
     "execution_count": 2,
     "metadata": {},
     "output_type": "execute_result"
    }
   ],
   "source": [
    "filename = \"haberman.csv\"\n",
    "names = [\"age\", \"operation_year\", \"axillary_nodes\", \"survival_status\"]\n",
    "dataframe = read_csv(filename, names=names)\n",
    "array = dataframe.values\n",
    "dataframe.head()"
   ]
  },
  {
   "cell_type": "code",
   "execution_count": 3,
   "id": "060e7a24-0ee7-4302-a399-604340947a38",
   "metadata": {},
   "outputs": [
    {
     "data": {
      "text/html": [
       "<div>\n",
       "<style scoped>\n",
       "    .dataframe tbody tr th:only-of-type {\n",
       "        vertical-align: middle;\n",
       "    }\n",
       "\n",
       "    .dataframe tbody tr th {\n",
       "        vertical-align: top;\n",
       "    }\n",
       "\n",
       "    .dataframe thead th {\n",
       "        text-align: right;\n",
       "    }\n",
       "</style>\n",
       "<table border=\"1\" class=\"dataframe\">\n",
       "  <thead>\n",
       "    <tr style=\"text-align: right;\">\n",
       "      <th></th>\n",
       "      <th>age</th>\n",
       "      <th>operation_year</th>\n",
       "      <th>axillary_nodes</th>\n",
       "      <th>survival_status</th>\n",
       "    </tr>\n",
       "  </thead>\n",
       "  <tbody>\n",
       "    <tr>\n",
       "      <th>count</th>\n",
       "      <td>306.000000</td>\n",
       "      <td>306.000000</td>\n",
       "      <td>306.000000</td>\n",
       "      <td>306.000000</td>\n",
       "    </tr>\n",
       "    <tr>\n",
       "      <th>mean</th>\n",
       "      <td>52.457516</td>\n",
       "      <td>62.852941</td>\n",
       "      <td>4.026144</td>\n",
       "      <td>1.264706</td>\n",
       "    </tr>\n",
       "    <tr>\n",
       "      <th>std</th>\n",
       "      <td>10.803452</td>\n",
       "      <td>3.249405</td>\n",
       "      <td>7.189654</td>\n",
       "      <td>0.441899</td>\n",
       "    </tr>\n",
       "    <tr>\n",
       "      <th>min</th>\n",
       "      <td>30.000000</td>\n",
       "      <td>58.000000</td>\n",
       "      <td>0.000000</td>\n",
       "      <td>1.000000</td>\n",
       "    </tr>\n",
       "    <tr>\n",
       "      <th>25%</th>\n",
       "      <td>44.000000</td>\n",
       "      <td>60.000000</td>\n",
       "      <td>0.000000</td>\n",
       "      <td>1.000000</td>\n",
       "    </tr>\n",
       "    <tr>\n",
       "      <th>50%</th>\n",
       "      <td>52.000000</td>\n",
       "      <td>63.000000</td>\n",
       "      <td>1.000000</td>\n",
       "      <td>1.000000</td>\n",
       "    </tr>\n",
       "    <tr>\n",
       "      <th>75%</th>\n",
       "      <td>60.750000</td>\n",
       "      <td>65.750000</td>\n",
       "      <td>4.000000</td>\n",
       "      <td>2.000000</td>\n",
       "    </tr>\n",
       "    <tr>\n",
       "      <th>max</th>\n",
       "      <td>83.000000</td>\n",
       "      <td>69.000000</td>\n",
       "      <td>52.000000</td>\n",
       "      <td>2.000000</td>\n",
       "    </tr>\n",
       "  </tbody>\n",
       "</table>\n",
       "</div>"
      ],
      "text/plain": [
       "              age  operation_year  axillary_nodes  survival_status\n",
       "count  306.000000      306.000000      306.000000       306.000000\n",
       "mean    52.457516       62.852941        4.026144         1.264706\n",
       "std     10.803452        3.249405        7.189654         0.441899\n",
       "min     30.000000       58.000000        0.000000         1.000000\n",
       "25%     44.000000       60.000000        0.000000         1.000000\n",
       "50%     52.000000       63.000000        1.000000         1.000000\n",
       "75%     60.750000       65.750000        4.000000         2.000000\n",
       "max     83.000000       69.000000       52.000000         2.000000"
      ]
     },
     "execution_count": 3,
     "metadata": {},
     "output_type": "execute_result"
    }
   ],
   "source": [
    "dataframe.describe()"
   ]
  },
  {
   "cell_type": "code",
   "execution_count": 4,
   "id": "3bd58611-6358-4446-aa4c-561e0887532f",
   "metadata": {},
   "outputs": [],
   "source": [
    "X = array[:,0:3]\n",
    "Y = array[:,3]"
   ]
  },
  {
   "cell_type": "markdown",
   "id": "lyric-sugar",
   "metadata": {},
   "source": [
    "## Обучающая, валидационная, тестовая выборка"
   ]
  },
  {
   "cell_type": "markdown",
   "id": "turned-bottom",
   "metadata": {},
   "source": [
    "## Train and Test Sets"
   ]
  },
  {
   "cell_type": "code",
   "execution_count": 5,
   "id": "combined-sunday",
   "metadata": {},
   "outputs": [
    {
     "name": "stdout",
     "output_type": "stream",
     "text": [
      "Accuracy: 74.257%\n"
     ]
    }
   ],
   "source": [
    "# Evaluate using a train and a test set\n",
    "test_size = 0.33\n",
    "seed = 7\n",
    "X_train, X_test, Y_train, Y_test = train_test_split(X, Y, test_size=test_size, random_state=seed)\n",
    "model = LogisticRegression(solver='liblinear')\n",
    "model.fit(X_train, Y_train)\n",
    "result = model.score(X_test, Y_test)\n",
    "print(\"Accuracy: %.3f%%\" % (result*100.0))"
   ]
  },
  {
   "cell_type": "markdown",
   "id": "244e0fbc-1d58-419e-8f85-a14a1be74038",
   "metadata": {},
   "source": [
    "Чтобы оценить производительность модели в наборе данных, нам нужно измерить, насколько хорошо прогнозы, сделанные ею, соответствуют наблюдаемым данным.\n",
    "\n",
    "При помощи `LogisticRegression` создаем модель. Далее при помощи `fit` делаем подгонку, то есть обучаем нашу модель, `fit` возвращает экземпляр модели и связывает последние два оператора.\n",
    "\n",
    "`score` принимает входные и выходные данные в качестве аргументов и возвращает отношение количества правильных прогнозов к количеству наблюдений.\n",
    "\n",
    " В нашем случае точность получаемых результатов модели равна __74%__, что говорит о том, что модель достаточно точно предсказывает результат."
   ]
  },
  {
   "cell_type": "markdown",
   "id": "monetary-disability",
   "metadata": {},
   "source": [
    "## k-fold Cross-Validation"
   ]
  },
  {
   "cell_type": "code",
   "execution_count": 6,
   "id": "expired-fraud",
   "metadata": {},
   "outputs": [
    {
     "name": "stdout",
     "output_type": "stream",
     "text": [
      "Accuracy: 74.839% (8.716%)\n"
     ]
    }
   ],
   "source": [
    "kfold = KFold(n_splits=10, random_state=7, shuffle=True)\n",
    "model = LogisticRegression(solver='liblinear')\n",
    "results = cross_val_score(model, X, Y, cv=kfold)\n",
    "print(\"Accuracy: %.3f%% (%.3f%%)\" % (results.mean()*100.0, results.std()*100.0))"
   ]
  },
  {
   "cell_type": "markdown",
   "id": "d98dd82b-31c0-4142-86d1-abf0ea0c3e60",
   "metadata": {},
   "source": [
    "Метод `KFold` принимает в качестве аргументов количество выборок на которое надо разбить датасет, следует ли перетасовывать датасет, и числовую затравку для псевдослучайного генератора чисел, используемого до перетасовки датасета.\n",
    "\n",
    "При помощи `LogisticRegression` создаем модель. Функция `cross_val_score` возвращает точность для всех сгибов. Значения для 4 параметров должны быть переданы в класс `cross_val_score` . Первый параметр $-$ это наша модель. Второй и третий параметры, X и Y - данные из наших массивов. Наконец, количество сгибов передается параметру `cv`, иными словами критерий создания выборок, `kfold`.\n",
    "\n",
    "При помощи метода `mean` выводим среднее значение всех точностей, а для вывода стандартного отклонения используем метод `std`."
   ]
  },
  {
   "cell_type": "markdown",
   "id": "42e73370-6e1b-45f9-8727-c18513ae95a4",
   "metadata": {},
   "source": [
    "В нашем случае среднее значение точности __75%__, что говорит о том, что модель часто выдает истинные значения, величина стандартного отклонения же равна __9%__, отклонение мало, что означает, что наша модель имеет низкую дисперсию, что на самом деле очень хорошо, поскольку это означает, что предсказание, которое мы получили на одном тестовом наборе, не случайно. Скорее всего, модель будет работать более или менее одинаково на всех тестовых наборах."
   ]
  },
  {
   "cell_type": "markdown",
   "id": "funded-consensus",
   "metadata": {},
   "source": [
    "## Leave One Out Cross-Validation"
   ]
  },
  {
   "cell_type": "markdown",
   "id": "980963bb-51f0-4699-9ac4-1efe9b377902",
   "metadata": {},
   "source": [
    "`LeaveOneOut` — это простая перекрестная проверка. Каждый обучающий набор создается путем взятия всех выборок, кроме одной, причем тестовая выборка не учитывается. "
   ]
  },
  {
   "cell_type": "code",
   "execution_count": 7,
   "id": "suffering-geology",
   "metadata": {},
   "outputs": [
    {
     "name": "stdout",
     "output_type": "stream",
     "text": [
      "Accuracy: 73.856% (43.942%)\n"
     ]
    }
   ],
   "source": [
    "loocv = LeaveOneOut()\n",
    "model = LogisticRegression(solver='liblinear')\n",
    "results = cross_val_score(model, X, Y, cv=loocv)\n",
    "print(\"Accuracy: %.3f%% (%.3f%%)\" % (results.mean()*100.0, results.std()*100.0))"
   ]
  },
  {
   "cell_type": "markdown",
   "id": "f6843ad6-b11d-47f7-a687-bb783a6a37b5",
   "metadata": {},
   "source": [
    "Разделим набор данных на обучающий и тестовый наборы, используя все наблюдения, кроме одного, как часть обучающего набора. Построим модель, используя только данные из обучающей выборки. Используем модель, чтобы предсказать значение для того самого последнего тестового наблюдения, и вычислим Среднеквадратическую ошибку. Наконец, мы повторяем этот процесс n раз (где n –- общее количество наблюдений в наборе), каждый раз исключая разные наблюдения. Напоследок, мы вычисляем среднее значение среднеквадратической ошибки.\n",
    "\n",
    "Функция `cross_val_score` возвращает точность для всех сгибов. Значения для 4 параметров должны быть переданы в класс `cross_val_score` . Первый параметр $-$ это наша модель. Второй и третий параметры, X и Y - данные из наших массивов. Наконец, количество сгибов передается параметру `cv`, иными словами критерий создания выборок, `loocv`."
   ]
  },
  {
   "cell_type": "markdown",
   "id": "ebfefa7d-acbb-4e22-acc1-719eae99a19e",
   "metadata": {},
   "source": [
    "Таким образом, точность модели, полученной методом Leave One Out составляет __74%__,  величина стандартного отклонения же равна __44%__, отклонение достаточно мало, что означает, что наша модель имеет достаточно низкую дисперсию, это означает, что предсказание, которое мы получили на одном тестовом наборе, не случайно. Скорее всего, модель будет работать более или менее одинаково на всех тестовых наборах."
   ]
  },
  {
   "cell_type": "markdown",
   "id": "conceptual-grounds",
   "metadata": {},
   "source": [
    "## Repeated Random Test-Train Splits"
   ]
  },
  {
   "cell_type": "code",
   "execution_count": 8,
   "id": "looking-formation",
   "metadata": {},
   "outputs": [
    {
     "name": "stdout",
     "output_type": "stream",
     "text": [
      "Accuracy: 74.356% (3.996%)\n"
     ]
    }
   ],
   "source": [
    "n_splits = 10\n",
    "test_size = 0.33\n",
    "seed = 7\n",
    "kfold = ShuffleSplit(n_splits=n_splits, test_size=test_size, random_state=seed)\n",
    "model = LogisticRegression(solver='liblinear')\n",
    "results = cross_val_score(model, X, Y, cv=kfold)\n",
    "print(\"Accuracy: %.3f%% (%.3f%%)\" % (results.mean()*100.0, results.std()*100.0))"
   ]
  },
  {
   "cell_type": "markdown",
   "id": "433eab87-7292-46bd-b434-63dc96a903a9",
   "metadata": {},
   "source": [
    "`ShuffleSplit` будет случайным образом отбирать весь набор данных во время каждой итерации для создания обучающего набора и тестового набора. `test_size` и `train_size` параметры определяют, насколько большим должен быть набор тестов и обучающих тестов для каждой итерации, а `random_state` позволяет создавать несколько объектов - генераторов, которые могут использоваться в разных местах кода, но гарантированно выдавать одни и те же случайные значения.\n",
    "Далее алгоритм аналогичен."
   ]
  },
  {
   "cell_type": "markdown",
   "id": "2c7957a6-21d8-4afc-9096-79ba29a6aff2",
   "metadata": {},
   "source": [
    "Получили среднее значение точности модели __74%__, что говорит о том, что модель часто выдает истинные значения, величина стандартного отклонения же равна __4%__, отклонение мало, что означает, что наша модель имеет низкую дисперсию,это означает, что предсказание, которое мы получили на одном тестовом наборе, не случайно. Скорее всего, модель будет работать более или менее одинаково на всех тестовых наборах."
   ]
  },
  {
   "cell_type": "markdown",
   "id": "ultimate-woman",
   "metadata": {},
   "source": [
    "## Метрики качества моделей"
   ]
  },
  {
   "cell_type": "markdown",
   "id": "spiritual-spine",
   "metadata": {},
   "source": [
    "## Classification metrics"
   ]
  },
  {
   "cell_type": "markdown",
   "id": "taken-cancellation",
   "metadata": {},
   "source": [
    "### Classification Accuracy"
   ]
  },
  {
   "cell_type": "code",
   "execution_count": 9,
   "id": "matched-trick",
   "metadata": {},
   "outputs": [
    {
     "name": "stdout",
     "output_type": "stream",
     "text": [
      "Accuracy: 0.748 (0.087)\n"
     ]
    }
   ],
   "source": [
    "kfold = KFold(n_splits=10, random_state=7, shuffle=True)\n",
    "model = LogisticRegression(solver='liblinear')\n",
    "scoring = 'accuracy'\n",
    "results = cross_val_score(model, X, Y, cv=kfold, scoring=scoring)\n",
    "print(\"Accuracy: %.3f (%.3f)\" % (results.mean(), results.std()))"
   ]
  },
  {
   "cell_type": "markdown",
   "id": "4be07131-9e60-47cf-aa8b-9e752ea62836",
   "metadata": {},
   "source": [
    "Для подсчета объекта `accuracy` с помощью `scoring` параметра, запишем в качестве аргумента функции `cross_val_score` scoring='accuracy'. Все объекты счетчика следуют соглашению о том, что более высокие возвращаемые значения лучше, чем более низкие возвращаемые значения.\n",
    "\n",
    "Точность классификации - это число правильных прогнозов, сделанное как отношение всех сделанных прогнозов.\n",
    "\n",
    "Это наиболее распространенная метрика оценки для задач классификации, и она также используется не по назначению. Это действительно подходит только тогда, когда в каждом классе имеется равное количество наблюдений (что бывает редко), и что все предсказания и ошибки предсказания одинаково важны, что часто не так."
   ]
  },
  {
   "cell_type": "markdown",
   "id": "005aba6e-2fee-4ac5-8e7f-43b4c115a231",
   "metadata": {},
   "source": [
    "В нашем случае средняя оценка точности __75%__, а величина среднего отклонения __9%__, что говорит о достаточно высокой точности в данной модели."
   ]
  },
  {
   "cell_type": "markdown",
   "id": "elder-situation",
   "metadata": {},
   "source": [
    "### Logistic Loss"
   ]
  },
  {
   "cell_type": "code",
   "execution_count": 10,
   "id": "secondary-heating",
   "metadata": {},
   "outputs": [
    {
     "name": "stdout",
     "output_type": "stream",
     "text": [
      "Logloss: -0.547 (0.104)\n"
     ]
    }
   ],
   "source": [
    "kfold = KFold(n_splits=10, random_state=7, shuffle=True)\n",
    "model = LogisticRegression(solver='liblinear')\n",
    "scoring = 'neg_log_loss'\n",
    "results = cross_val_score(model, X, Y, cv=kfold, scoring=scoring)\n",
    "print(\"Logloss: %.3f (%.3f)\" % (results.mean(), results.std()))"
   ]
  },
  {
   "cell_type": "markdown",
   "id": "d195bd5f-d169-4de1-b1a9-e934afa3488f",
   "metadata": {},
   "source": [
    "Логарифмическая потеря является метрикой производительности для оценки предсказаний вероятностей принадлежности к данному классу.\n",
    "\n",
    "Скалярная вероятность от 0 до 1 может рассматриваться как мера достоверности для прогноза моделью. Предсказания, которые являются правильными или неправильными, вознаграждаются или наказываются пропорционально достоверности прогноза."
   ]
  },
  {
   "cell_type": "markdown",
   "id": "d80b9077-79da-42f7-8b49-278da7b85689",
   "metadata": {},
   "source": [
    "`neg_log_loss` возвращает отрицательное значение метрики, поэтому чем оно меньше, тем достовернее прогноз."
   ]
  },
  {
   "cell_type": "markdown",
   "id": "c13da9b3-f540-4a85-bc9d-08eadd006014",
   "metadata": {},
   "source": [
    "В нашем случае среднее значение Logloss __55%__, а среднеквадратическое отклонение __10%__, что говорит о высокой достоверности прогноза."
   ]
  },
  {
   "cell_type": "markdown",
   "id": "another-moore",
   "metadata": {},
   "source": [
    "### Area Under ROC Curve"
   ]
  },
  {
   "cell_type": "code",
   "execution_count": 11,
   "id": "pretty-balloon",
   "metadata": {},
   "outputs": [
    {
     "name": "stdout",
     "output_type": "stream",
     "text": [
      "AUC: 0.707 (0.114)\n"
     ]
    }
   ],
   "source": [
    "kfold = KFold(n_splits=10, random_state=7, shuffle=True)\n",
    "model = LogisticRegression(solver='liblinear')\n",
    "scoring = 'roc_auc'\n",
    "results = cross_val_score(model, X, Y, cv=kfold, scoring=scoring)\n",
    "print(\"AUC: %.3f (%.3f)\" % (results.mean(), results.std()))"
   ]
  },
  {
   "cell_type": "markdown",
   "id": "2a97da1c-3ec3-49f5-93f3-fdd976f39e06",
   "metadata": {},
   "source": [
    "Область под кривой ROC (или AUC для краткости) является метрикой производительности для задач двоичной классификации.\n",
    "\n",
    "AUC представляет способность модели различать положительные и отрицательные классы. Площадь 1 представляет модель, которая сделала все прогнозы идеально. Площадь 0,5 представляет модель, как случайную."
   ]
  },
  {
   "cell_type": "markdown",
   "id": "e5da65b0-8859-4204-a83b-e2d928b613fb",
   "metadata": {},
   "source": [
    "В нашем случае AUC равен __0.707__, он относительно близок к 1 и больше 0.5, что говорит об умении модели предсказывать результат. Среднеквадратическое отклонение равно __0.114__, что говорит о малом разбросе данных."
   ]
  },
  {
   "cell_type": "markdown",
   "id": "intense-function",
   "metadata": {},
   "source": [
    "### Confusion Matrix"
   ]
  },
  {
   "cell_type": "code",
   "execution_count": 12,
   "id": "lined-newspaper",
   "metadata": {},
   "outputs": [
    {
     "data": {
      "text/plain": [
       "array([[212,  13],\n",
       "       [ 63,  18]])"
      ]
     },
     "execution_count": 12,
     "metadata": {},
     "output_type": "execute_result"
    }
   ],
   "source": [
    "test_size = 0.33\n",
    "seed = 7\n",
    "X_train, X_test, Y_train, Y_test = train_test_split(X, Y, test_size=test_size,\n",
    "random_state=seed)\n",
    "model = LogisticRegression(solver='liblinear')\n",
    "model.fit(X_train, Y_train)\n",
    "import matplotlib.pyplot as plt\n",
    "import numpy as np\n",
    "from sklearn.metrics import confusion_matrix\n",
    "confusion_matrix(Y, model.predict(X))"
   ]
  },
  {
   "cell_type": "markdown",
   "id": "363b11ac-caaf-477e-8355-2f776fc650fb",
   "metadata": {},
   "source": [
    "Матрица путаницы - это удобное представление о точности модели с двумя или более классами.\n",
    "\n",
    "В таблице представлены прогнозы по оси X и результаты точности по оси Y. Ячейки таблицы - это количество прогнозов, сделанных алгоритмом машинного обучения."
   ]
  },
  {
   "cell_type": "markdown",
   "id": "328fdce0-6616-4f95-9fd4-fb4c96df143a",
   "metadata": {},
   "source": [
    "Для того, чтобы получить больше информации о точности модели используем  тепловую карту, которая покжет матрицу ошибок."
   ]
  },
  {
   "cell_type": "code",
   "execution_count": 13,
   "id": "44202a6a-a7ad-4163-a148-d14280683cb7",
   "metadata": {},
   "outputs": [
    {
     "data": {
      "image/png": "[encoded data removed]",
      "text/plain": [
       "<Figure size 576x576 with 1 Axes>"
      ]
     },
     "metadata": {
      "needs_background": "light"
     },
     "output_type": "display_data"
    }
   ],
   "source": [
    "cm = confusion_matrix(Y, model.predict(X))\n",
    "fig, ax = plt.subplots(figsize=(8, 8))\n",
    "ax.imshow(cm)\n",
    "ax.grid(False)\n",
    "ax.xaxis.set(ticks=(0, 1), ticklabels=('Predicted 1', 'Predicted 2'))\n",
    "ax.yaxis.set(ticks=(0, 1), ticklabels=('Actual 1', 'Actual 2'))\n",
    "ax.set_ylim(1.5, -0.5)\n",
    "for i in range(2):\n",
    "    for j in range(2):\n",
    "        ax.text(j, i, cm[i, j], ha='center', va='center', color='magenta')\n",
    "plt.show()"
   ]
  },
  {
   "cell_type": "markdown",
   "id": "96b7c794-d04a-4f82-9469-8fa8f3e31949",
   "metadata": {},
   "source": [
    "Таким образом, получили, что модель правильно предсказала истинное значение 1 $-$ 212 раз, 63 раз истинным значением оказалось 2."
   ]
  },
  {
   "cell_type": "markdown",
   "id": "e8a74b20-fb35-47b7-9636-bdfb6ce82168",
   "metadata": {},
   "source": [
    "Из тепловой матрицы можно увидеть, что большинство предсказаний приходится на левую вертикаль."
   ]
  },
  {
   "cell_type": "markdown",
   "id": "weird-dragon",
   "metadata": {},
   "source": [
    "### Classification Report"
   ]
  },
  {
   "cell_type": "code",
   "execution_count": 14,
   "id": "opponent-study",
   "metadata": {},
   "outputs": [
    {
     "name": "stdout",
     "output_type": "stream",
     "text": [
      "              precision    recall  f1-score   support\n",
      "\n",
      "           1       0.77      0.93      0.84        74\n",
      "           2       0.55      0.22      0.32        27\n",
      "\n",
      "    accuracy                           0.74       101\n",
      "   macro avg       0.66      0.58      0.58       101\n",
      "weighted avg       0.71      0.74      0.70       101\n",
      "\n"
     ]
    }
   ],
   "source": [
    "X_train, X_test, Y_train, Y_test = train_test_split(X, Y, test_size=test_size,random_state=seed)\n",
    "model = LogisticRegression(solver='liblinear')\n",
    "model.fit(X_train, Y_train)\n",
    "predicted = model.predict(X_test)\n",
    "report = classification_report(Y_test, predicted)\n",
    "print(report)"
   ]
  },
  {
   "cell_type": "markdown",
   "id": "6b6c773f-ad0c-4e4c-882c-8b1dbaf74d13",
   "metadata": {},
   "source": [
    "Scikit-learn предоставляет удобный отчет при работе над задачами классификации, чтобы дать быстрое представление о точности модели с использованием ряда метрик."
   ]
  },
  {
   "cell_type": "markdown",
   "id": "e549f58d-0fa3-4955-96d7-c4b9b0094c77",
   "metadata": {},
   "source": [
    "Эта функция также принимает фактические и прогнозируемые выходные данные в качестве аргументов. Она возвращает отчет о классификации в виде словаря.\n",
    "\n",
    "Функция отображает точность, отзыв, f1-балл и поддержку для каждого класса."
   ]
  },
  {
   "cell_type": "markdown",
   "id": "fleet-humidity",
   "metadata": {},
   "source": [
    "## Regression Metrics"
   ]
  },
  {
   "cell_type": "markdown",
   "id": "tender-brighton",
   "metadata": {},
   "source": [
    "### Mean Absolute Error"
   ]
  },
  {
   "cell_type": "code",
   "execution_count": 15,
   "id": "operating-inspection",
   "metadata": {},
   "outputs": [
    {
     "name": "stdout",
     "output_type": "stream",
     "text": [
      "MAE: -0.359 (0.041)\n"
     ]
    }
   ],
   "source": [
    "from sklearn.model_selection import KFold\n",
    "from sklearn.model_selection import cross_val_score\n",
    "from sklearn.linear_model import LinearRegression\n",
    "kfold = KFold(n_splits=10, random_state=7, shuffle=True)\n",
    "model = LinearRegression()\n",
    "scoring = 'neg_mean_absolute_error'\n",
    "results = cross_val_score(model, X, Y, cv=kfold, scoring=scoring)\n",
    "print(\"MAE: %.3f (%.3f)\" % (results.mean(), results.std()))"
   ]
  },
  {
   "cell_type": "markdown",
   "id": "851ffbb7-0cc5-48f8-94aa-8b07e0a07740",
   "metadata": {},
   "source": [
    "Средняя абсолютная ошибка (или MAE) представляет собой сумму абсолютных различий между прогнозами и фактическими значениями. Это дает представление о том, насколько неправильными были прогнозы."
   ]
  },
  {
   "cell_type": "markdown",
   "id": "6bbe2d24-b1ba-4ff5-a136-334a09bebdab",
   "metadata": {},
   "source": [
    "В данном случае средняя абсолютная ошибка __0.359__, а дисперсия __0.041__, что говорит о том, что значение функции ошибки достаточно мало."
   ]
  },
  {
   "cell_type": "markdown",
   "id": "green-adobe",
   "metadata": {},
   "source": [
    "### Mean Squared Error"
   ]
  },
  {
   "cell_type": "code",
   "execution_count": 16,
   "id": "phantom-toilet",
   "metadata": {},
   "outputs": [
    {
     "name": "stdout",
     "output_type": "stream",
     "text": [
      "MSE: -0.182 (0.044)\n"
     ]
    }
   ],
   "source": [
    "from sklearn.model_selection import KFold\n",
    "from sklearn.model_selection import cross_val_score\n",
    "from sklearn.linear_model import LinearRegression\n",
    "kfold = KFold(n_splits=10, random_state=7, shuffle=True)\n",
    "model = LinearRegression()\n",
    "scoring = 'neg_mean_squared_error'\n",
    "results = cross_val_score(model, X, Y, cv=kfold, scoring=scoring)\n",
    "print(\"MSE: %.3f (%.3f)\" % (results.mean(), results.std()))"
   ]
  },
  {
   "cell_type": "markdown",
   "id": "7429dc83-1bc5-4b64-a658-596038b74f57",
   "metadata": {},
   "source": [
    "Средняя квадратическая ошибка (или MSE) очень похожа на среднюю абсолютную ошибку тем, что она дает общее представление о величине ошибки."
   ]
  },
  {
   "cell_type": "markdown",
   "id": "bec6d4b5-9fc1-4488-bb83-4dd7c9cbe6ed",
   "metadata": {},
   "source": [
    "В нашем случае величина средней квадратической ошибки __0.182__, а дисперисия __0.044__."
   ]
  },
  {
   "cell_type": "markdown",
   "id": "incredible-humidity",
   "metadata": {},
   "source": [
    "### R2"
   ]
  },
  {
   "cell_type": "code",
   "execution_count": 17,
   "id": "scheduled-showcase",
   "metadata": {},
   "outputs": [
    {
     "name": "stdout",
     "output_type": "stream",
     "text": [
      "R^2: 0.031 (0.085)\n"
     ]
    }
   ],
   "source": [
    "kfold = KFold(n_splits=10, random_state=7, shuffle=True)\n",
    "model = LinearRegression()\n",
    "scoring = 'r2'\n",
    "results = cross_val_score(model, X, Y, cv=kfold, scoring=scoring)\n",
    "print(\"R^2: %.3f (%.3f)\" % (results.mean(), results.std()))"
   ]
  },
  {
   "cell_type": "markdown",
   "id": "6fafd94b-dab3-48b1-8cbb-a39f798574c0",
   "metadata": {},
   "source": [
    "Метрика $R^2$ (или R Squared) указывает на достоверность соответствия набора прогнозов фактическим значениям. В статистической литературе эта мера называется коэффициентом детерминации."
   ]
  },
  {
   "cell_type": "markdown",
   "id": "c0e2d786-1934-48c3-b73b-736917de5752",
   "metadata": {},
   "source": [
    "В нашем случае значение $R^2$ __0.031__,это значит, что прогнозы плохо соответствуют фактическим значениям, так как значение близко к нулю и меньше, чем 0,5."
   ]
  }
 ],
 "metadata": {
  "kernelspec": {
   "display_name": "Python 3 (ipykernel)",
   "language": "python",
   "name": "python3"
  },
  "language_info": {
   "codemirror_mode": {
    "name": "ipython",
    "version": 3
   },
   "file_extension": ".py",
   "mimetype": "text/x-python",
   "name": "python",
   "nbconvert_exporter": "python",
   "pygments_lexer": "ipython3",
   "version": "3.9.7"
  }
 },
 "nbformat": 4,
 "nbformat_minor": 5
}

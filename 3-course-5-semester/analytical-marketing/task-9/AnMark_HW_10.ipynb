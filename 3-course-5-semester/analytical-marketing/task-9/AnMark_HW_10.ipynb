{
 "cells": [
  {
   "cell_type": "markdown",
   "id": "elegant-beach",
   "metadata": {},
   "source": [
    "# Занятие 10. Проект построения простой модели машинного обучения"
   ]
  },
  {
   "cell_type": "markdown",
   "id": "built-horizontal",
   "metadata": {},
   "source": [
    "Веберите любые данные для задачи классификации из репозитория данных для машинного обучения (UCI Machine learning repository: http://archive.ics.uci.edu/ml/index.php) или возьмите свои данные и постройте простую модель машинного обучения в соответствии с приведенной ниже схемой. Комментарии к каждому разделу обязательны."
   ]
  },
  {
   "cell_type": "markdown",
   "id": "b4a21f5d-d33f-4135-bb37-0139bbbc675f",
   "metadata": {},
   "source": [
    "*Выполнил:* Бронников Егор ПМ-1901"
   ]
  },
  {
   "cell_type": "markdown",
   "id": "e85040d2-c102-4964-aa60-7b42d5eab1af",
   "metadata": {},
   "source": [
    "*Последнее изменение:* 13/12/2021"
   ]
  },
  {
   "cell_type": "markdown",
   "id": "ethical-cardiff",
   "metadata": {},
   "source": [
    "### 1. Loading the libraries and the dataset"
   ]
  },
  {
   "cell_type": "code",
   "execution_count": 1,
   "id": "advised-flexibility",
   "metadata": {},
   "outputs": [],
   "source": [
    "from pandas import read_csv\n",
    "from pandas.plotting import scatter_matrix\n",
    "from matplotlib import pyplot\n",
    "from sklearn.model_selection import train_test_split\n",
    "from sklearn.model_selection import KFold\n",
    "from sklearn.model_selection import cross_val_score\n",
    "from sklearn.metrics import classification_report\n",
    "from sklearn.metrics import confusion_matrix\n",
    "from sklearn.metrics import accuracy_score\n",
    "from sklearn.linear_model import LogisticRegression\n",
    "from sklearn.tree import DecisionTreeClassifier\n",
    "from sklearn.neighbors import KNeighborsClassifier\n",
    "from sklearn.discriminant_analysis import LinearDiscriminantAnalysis\n",
    "from sklearn.naive_bayes import GaussianNB\n",
    "from sklearn.svm import SVC"
   ]
  },
  {
   "cell_type": "markdown",
   "id": "024bded7-235d-4a3d-8fb1-74df473cafd7",
   "metadata": {},
   "source": [
    "### Данные"
   ]
  },
  {
   "cell_type": "markdown",
   "id": "a0300dc3-cef0-49c6-85f3-d4f0e34a7a43",
   "metadata": {},
   "source": [
    "*Источник:* https://github.com/jbrownlee/Datasets\n",
    "\n",
    "*Название:* **Cancer (Haberman's)**"
   ]
  },
  {
   "cell_type": "markdown",
   "id": "bb0af780-8091-464c-a57e-d6ff98b7c251",
   "metadata": {},
   "source": [
    "### Описание данных"
   ]
  },
  {
   "cell_type": "markdown",
   "id": "fbd8c0e4-2330-49f2-ac07-381a44e6c7f1",
   "metadata": {},
   "source": [
    "Данные о пациентах больных раком."
   ]
  },
  {
   "cell_type": "markdown",
   "id": "935b615c-c315-4371-8f92-52910e704988",
   "metadata": {},
   "source": [
    "### Описание полей"
   ]
  },
  {
   "cell_type": "markdown",
   "id": "8a10880c-0e2c-4c0e-bd22-d211bb5ab7e5",
   "metadata": {},
   "source": [
    "1. **age** — возраст пациента;\n",
    "1. **operation_year** — год операции 19##;\n",
    "1. **axillary_nodes** — количество обнаруженных положительных узлов;\n",
    "1. **survival_status** — выживаемость после операции:\n",
    "    - 1 $-$ пациент прожил 5 лет и более \n",
    "    - 2 $-$ пациент умер в течение 5 лет"
   ]
  },
  {
   "cell_type": "code",
   "execution_count": 2,
   "id": "52a8c74e-1458-48a4-8c84-d179eb4a5e41",
   "metadata": {},
   "outputs": [
    {
     "data": {
      "text/html": [
       "<div>\n",
       "<style scoped>\n",
       "    .dataframe tbody tr th:only-of-type {\n",
       "        vertical-align: middle;\n",
       "    }\n",
       "\n",
       "    .dataframe tbody tr th {\n",
       "        vertical-align: top;\n",
       "    }\n",
       "\n",
       "    .dataframe thead th {\n",
       "        text-align: right;\n",
       "    }\n",
       "</style>\n",
       "<table border=\"1\" class=\"dataframe\">\n",
       "  <thead>\n",
       "    <tr style=\"text-align: right;\">\n",
       "      <th></th>\n",
       "      <th>age</th>\n",
       "      <th>operation_year</th>\n",
       "      <th>axillary_nodes</th>\n",
       "      <th>survival_status</th>\n",
       "    </tr>\n",
       "  </thead>\n",
       "  <tbody>\n",
       "    <tr>\n",
       "      <th>0</th>\n",
       "      <td>30</td>\n",
       "      <td>64</td>\n",
       "      <td>1</td>\n",
       "      <td>1</td>\n",
       "    </tr>\n",
       "    <tr>\n",
       "      <th>1</th>\n",
       "      <td>30</td>\n",
       "      <td>62</td>\n",
       "      <td>3</td>\n",
       "      <td>1</td>\n",
       "    </tr>\n",
       "    <tr>\n",
       "      <th>2</th>\n",
       "      <td>30</td>\n",
       "      <td>65</td>\n",
       "      <td>0</td>\n",
       "      <td>1</td>\n",
       "    </tr>\n",
       "    <tr>\n",
       "      <th>3</th>\n",
       "      <td>31</td>\n",
       "      <td>59</td>\n",
       "      <td>2</td>\n",
       "      <td>1</td>\n",
       "    </tr>\n",
       "    <tr>\n",
       "      <th>4</th>\n",
       "      <td>31</td>\n",
       "      <td>65</td>\n",
       "      <td>4</td>\n",
       "      <td>1</td>\n",
       "    </tr>\n",
       "  </tbody>\n",
       "</table>\n",
       "</div>"
      ],
      "text/plain": [
       "   age  operation_year  axillary_nodes  survival_status\n",
       "0   30              64               1                1\n",
       "1   30              62               3                1\n",
       "2   30              65               0                1\n",
       "3   31              59               2                1\n",
       "4   31              65               4                1"
      ]
     },
     "execution_count": 2,
     "metadata": {},
     "output_type": "execute_result"
    }
   ],
   "source": [
    "filename = \"haberman.csv\"\n",
    "names = [\"age\", \"operation_year\", \"axillary_nodes\", \"survival_status\"]\n",
    "dataframe = read_csv(filename, names=names)\n",
    "array = dataframe.values\n",
    "dataframe.head()"
   ]
  },
  {
   "cell_type": "markdown",
   "id": "alpine-average",
   "metadata": {},
   "source": [
    "### 2. Summarizing the dataset"
   ]
  },
  {
   "cell_type": "code",
   "execution_count": 3,
   "id": "dutch-sunset",
   "metadata": {},
   "outputs": [
    {
     "name": "stdout",
     "output_type": "stream",
     "text": [
      "(306, 4)\n"
     ]
    }
   ],
   "source": [
    "print(dataframe.shape)"
   ]
  },
  {
   "cell_type": "markdown",
   "id": "06664634-08e6-41de-8d26-a0414a72c731",
   "metadata": {},
   "source": [
    "Таблица имеет выборку из 306 элементов, каждый из которых состоит из 4 атрибутов."
   ]
  },
  {
   "cell_type": "code",
   "execution_count": 4,
   "id": "1d29e33e-5744-4422-ab27-51e10a19e6d5",
   "metadata": {},
   "outputs": [
    {
     "name": "stdout",
     "output_type": "stream",
     "text": [
      "   age  operation_year  axillary_nodes  survival_status\n",
      "0   30              64               1                1\n",
      "1   30              62               3                1\n",
      "2   30              65               0                1\n",
      "3   31              59               2                1\n",
      "4   31              65               4                1\n"
     ]
    }
   ],
   "source": [
    "print(dataframe.head())"
   ]
  },
  {
   "cell_type": "markdown",
   "id": "e5171700-57e6-4df6-8ff6-c7ab93a57365",
   "metadata": {},
   "source": [
    "Выведем первые 5 строк с нашими данными для того, чтобы еще раз взглянуть на них."
   ]
  },
  {
   "cell_type": "code",
   "execution_count": 5,
   "id": "faa09b05-b4b2-4479-b6c0-a07b4ba7458d",
   "metadata": {},
   "outputs": [
    {
     "data": {
      "text/html": [
       "<div>\n",
       "<style scoped>\n",
       "    .dataframe tbody tr th:only-of-type {\n",
       "        vertical-align: middle;\n",
       "    }\n",
       "\n",
       "    .dataframe tbody tr th {\n",
       "        vertical-align: top;\n",
       "    }\n",
       "\n",
       "    .dataframe thead th {\n",
       "        text-align: right;\n",
       "    }\n",
       "</style>\n",
       "<table border=\"1\" class=\"dataframe\">\n",
       "  <thead>\n",
       "    <tr style=\"text-align: right;\">\n",
       "      <th></th>\n",
       "      <th>age</th>\n",
       "      <th>operation_year</th>\n",
       "      <th>axillary_nodes</th>\n",
       "      <th>survival_status</th>\n",
       "    </tr>\n",
       "  </thead>\n",
       "  <tbody>\n",
       "    <tr>\n",
       "      <th>count</th>\n",
       "      <td>306.000000</td>\n",
       "      <td>306.000000</td>\n",
       "      <td>306.000000</td>\n",
       "      <td>306.000000</td>\n",
       "    </tr>\n",
       "    <tr>\n",
       "      <th>mean</th>\n",
       "      <td>52.457516</td>\n",
       "      <td>62.852941</td>\n",
       "      <td>4.026144</td>\n",
       "      <td>1.264706</td>\n",
       "    </tr>\n",
       "    <tr>\n",
       "      <th>std</th>\n",
       "      <td>10.803452</td>\n",
       "      <td>3.249405</td>\n",
       "      <td>7.189654</td>\n",
       "      <td>0.441899</td>\n",
       "    </tr>\n",
       "    <tr>\n",
       "      <th>min</th>\n",
       "      <td>30.000000</td>\n",
       "      <td>58.000000</td>\n",
       "      <td>0.000000</td>\n",
       "      <td>1.000000</td>\n",
       "    </tr>\n",
       "    <tr>\n",
       "      <th>25%</th>\n",
       "      <td>44.000000</td>\n",
       "      <td>60.000000</td>\n",
       "      <td>0.000000</td>\n",
       "      <td>1.000000</td>\n",
       "    </tr>\n",
       "    <tr>\n",
       "      <th>50%</th>\n",
       "      <td>52.000000</td>\n",
       "      <td>63.000000</td>\n",
       "      <td>1.000000</td>\n",
       "      <td>1.000000</td>\n",
       "    </tr>\n",
       "    <tr>\n",
       "      <th>75%</th>\n",
       "      <td>60.750000</td>\n",
       "      <td>65.750000</td>\n",
       "      <td>4.000000</td>\n",
       "      <td>2.000000</td>\n",
       "    </tr>\n",
       "    <tr>\n",
       "      <th>max</th>\n",
       "      <td>83.000000</td>\n",
       "      <td>69.000000</td>\n",
       "      <td>52.000000</td>\n",
       "      <td>2.000000</td>\n",
       "    </tr>\n",
       "  </tbody>\n",
       "</table>\n",
       "</div>"
      ],
      "text/plain": [
       "              age  operation_year  axillary_nodes  survival_status\n",
       "count  306.000000      306.000000      306.000000       306.000000\n",
       "mean    52.457516       62.852941        4.026144         1.264706\n",
       "std     10.803452        3.249405        7.189654         0.441899\n",
       "min     30.000000       58.000000        0.000000         1.000000\n",
       "25%     44.000000       60.000000        0.000000         1.000000\n",
       "50%     52.000000       63.000000        1.000000         1.000000\n",
       "75%     60.750000       65.750000        4.000000         2.000000\n",
       "max     83.000000       69.000000       52.000000         2.000000"
      ]
     },
     "execution_count": 5,
     "metadata": {},
     "output_type": "execute_result"
    }
   ],
   "source": [
    "dataframe.describe()"
   ]
  },
  {
   "cell_type": "markdown",
   "id": "8e559ca8-b376-4ced-82c0-179d5edb586a",
   "metadata": {},
   "source": [
    "Посмотрим на описание данных."
   ]
  },
  {
   "cell_type": "code",
   "execution_count": 6,
   "id": "e1f5cf46-bf48-4891-8538-ce448d797bc7",
   "metadata": {},
   "outputs": [
    {
     "name": "stdout",
     "output_type": "stream",
     "text": [
      "survival_status\n",
      "1    225\n",
      "2     81\n",
      "dtype: int64\n"
     ]
    }
   ],
   "source": [
    "print(dataframe.groupby('survival_status').size())"
   ]
  },
  {
   "cell_type": "markdown",
   "id": "ace99bff-9d8a-420f-9c74-c71c650b3cca",
   "metadata": {},
   "source": [
    "Статистика \"выживаемости\" после операции. (1 $-$ человек прожил более 5 лет, 2 $-$ человек умер в течении 5 лет)"
   ]
  },
  {
   "cell_type": "markdown",
   "id": "unknown-request",
   "metadata": {},
   "source": [
    "### 3. Visualizing the dataset"
   ]
  },
  {
   "cell_type": "code",
   "execution_count": 7,
   "id": "basic-tiffany",
   "metadata": {},
   "outputs": [
    {
     "data": {
      "image/png": "[encoded data removed]",
      "text/plain": [
       "<Figure size 432x288 with 4 Axes>"
      ]
     },
     "metadata": {
      "needs_background": "light"
     },
     "output_type": "display_data"
    }
   ],
   "source": [
    "dataframe.plot(kind='box', subplots=True, layout=(2,2), sharex=False, sharey=False)\n",
    "pyplot.show()"
   ]
  },
  {
   "cell_type": "markdown",
   "id": "b2093767-aa2c-48d7-8ca7-add3dd49756a",
   "metadata": {},
   "source": [
    "Ящик с усами – это упрощенная гистограмма, на нем можно увидеть асимметрию распределений. Напимер, данные столбца `axillary_nodes` имеют положительную асимметрию, мы видим много точек, находящихся выше ящика, эти точки - значения, которые находятся очень далеко от статистически значимой части данных, а так же линия внутри ящика расположена ниже его середины, а это и говорит нам о положительной ассиметрии."
   ]
  },
  {
   "cell_type": "code",
   "execution_count": 8,
   "id": "6a3d4ed4-8176-4e54-9c46-7865a711264b",
   "metadata": {},
   "outputs": [
    {
     "data": {
      "image/png": "[encoded data removed]",
      "text/plain": [
       "<Figure size 432x288 with 4 Axes>"
      ]
     },
     "metadata": {
      "needs_background": "light"
     },
     "output_type": "display_data"
    }
   ],
   "source": [
    "dataframe.hist()\n",
    "pyplot.show()"
   ]
  },
  {
   "cell_type": "markdown",
   "id": "fe67c889-c3b4-45e5-82e3-e7267dcd7273",
   "metadata": {},
   "source": [
    "При помощи команды (data.hist()) строим гистограмму для каждого столбца данных, т.е. для каждого имени. В моем случае гистограммы были построены для 4 столбцов. Далее при помощи (pyplot.show()) визуализируем гистограммы.\n",
    "Таким образом, на гистограммах можно увидеть как на них вилияет асимметрия. Напимер, данные столбца `axillary_nodes` имеют положительную асимметрию,что четко видно на гистограмме."
   ]
  },
  {
   "cell_type": "code",
   "execution_count": 9,
   "id": "ee8e4714-bd40-4751-bc1f-0e8d769ae20e",
   "metadata": {},
   "outputs": [
    {
     "data": {
      "image/png": "[encoded data removed]",
      "text/plain": [
       "<Figure size 432x288 with 16 Axes>"
      ]
     },
     "metadata": {
      "needs_background": "light"
     },
     "output_type": "display_data"
    }
   ],
   "source": [
    "scatter_matrix(dataframe)\n",
    "pyplot.show()"
   ]
  },
  {
   "cell_type": "markdown",
   "id": "4e555433-de6c-4543-8cbb-ef3b6219fc1f",
   "metadata": {},
   "source": [
    "Создаем  матрицу точечной диаграммы. Каждая точечная диаграмма в матрице визуализирует взаимосвязь между парой переменных, т.е. коррелируют ли переменные. Отображаемые на диаграммах рассеяния паттерны позволяют увидеть разные типы корреляции. Среди них: положительная (оба значения увеличиваются), отрицательная (одно значение увеличивается, в то время как второе уменьшается), нулевая (отсутствие корреляции), линейная, экспоненциальная и подковообразная. Сила корреляции определяется по тому, насколько близко расположены друг от друга точки на графике."
   ]
  },
  {
   "cell_type": "code",
   "execution_count": 10,
   "id": "31ef9b2b-191c-4af7-93cf-067b61513adc",
   "metadata": {},
   "outputs": [
    {
     "data": {
      "image/png": "[encoded data removed]",
      "text/plain": [
       "<Figure size 720x720 with 8 Axes>"
      ]
     },
     "metadata": {
      "needs_background": "light"
     },
     "output_type": "display_data"
    }
   ],
   "source": [
    "dataframe.plot(kind='kde',subplots=True, figsize=(10,10), layout=(4,2), sharex=False, sharey=False)\n",
    "pyplot.subplots_adjust(wspace=0.3, hspace=0.3)\n",
    "pyplot.show()"
   ]
  },
  {
   "cell_type": "markdown",
   "id": "e06451fd-aa68-458d-9358-a847d89b5209",
   "metadata": {},
   "source": [
    "По нашим данным строим графики плотности, для лучшего представления информации стороим графики отдельно друг от друга, т.е. не в одной системе координат (subplots=True), указываем расположение подграфиков (layout=(4,2)) и делаем размер осей различным для подграфиков. \n",
    "На данных графиках тоже можно увидеть влияние асимметрии на них. Напимер, данные столбца `axillary_nodes` имеют положительную асимметрию,что заметно на графике плотностей."
   ]
  },
  {
   "cell_type": "markdown",
   "id": "similar-relevance",
   "metadata": {},
   "source": [
    "### 4. Evaluating some algorithms"
   ]
  },
  {
   "cell_type": "code",
   "execution_count": 11,
   "id": "amateur-involvement",
   "metadata": {},
   "outputs": [],
   "source": [
    "array = dataframe.values\n",
    "X = array[:,:3]\n",
    "Y = array[:,3]\n",
    "validation_size = 0.20\n",
    "seed = 7\n",
    "X_train, X_validation, Y_train, Y_validation = train_test_split(X, Y,\n",
    "test_size=validation_size, random_state=seed)"
   ]
  },
  {
   "cell_type": "markdown",
   "id": "c3128863-7b8c-4c35-9d53-4c1896c4e53d",
   "metadata": {},
   "source": [
    "Разбиваем данные на обучающую и тестовую выборки."
   ]
  },
  {
   "cell_type": "code",
   "execution_count": 12,
   "id": "bee375fc-80d5-4708-9ade-026fc9b244d8",
   "metadata": {},
   "outputs": [
    {
     "name": "stdout",
     "output_type": "stream",
     "text": [
      "LR: 0.750667 (0.096140)\n",
      "LDA: 0.758667 (0.084675)\n",
      "KNN: 0.742333 (0.098187)\n",
      "CART: 0.659500 (0.101240)\n",
      "NB: 0.758500 (0.077372)\n",
      "SVM: 0.734167 (0.100621)\n"
     ]
    }
   ],
   "source": [
    "models = []\n",
    "models.append(('LR', LogisticRegression(solver='liblinear', multi_class='ovr')))\n",
    "models.append(('LDA', LinearDiscriminantAnalysis()))\n",
    "models.append(('KNN', KNeighborsClassifier()))\n",
    "models.append(('CART', DecisionTreeClassifier()))\n",
    "models.append(('NB', GaussianNB()))\n",
    "models.append(('SVM', SVC(gamma='auto')))\n",
    "# evaluate each model in turn\n",
    "results = []\n",
    "names = []\n",
    "for name, model in models:\n",
    "    kfold = KFold(n_splits=10, random_state=seed, shuffle=True)\n",
    "    cv_results = cross_val_score(model, X_train, Y_train, cv=kfold, scoring='accuracy')\n",
    "    results.append(cv_results)\n",
    "    names.append(name)\n",
    "    msg = \"%s: %f (%f)\" % (name, cv_results.mean(), cv_results.std())\n",
    "    print(msg)"
   ]
  },
  {
   "cell_type": "markdown",
   "id": "fbdae858-e98f-4449-9067-19b4b6bcc8e2",
   "metadata": {},
   "source": [
    "Мы сравнивали между собой алгоритмы логистической регрессии, линейного дискриминантного анализа, алгоритм k-ближайших соседей, алгоритм деревьев классификации, наивный Байесовский алгоритм и алгоритм опорных векторов (Support Vector Machine). Исходя из результатов, полученных на основе средней точности и величины стандартного отклонения, можно сделать о том, что самые точные значения выводят модели, сформированные алгоритмами: `LR`,`LDA`,`NB`, `KNN`, `SVM`."
   ]
  },
  {
   "cell_type": "code",
   "execution_count": 13,
   "id": "e59e762f-bf47-4782-a902-859164f437a6",
   "metadata": {},
   "outputs": [
    {
     "data": {
      "image/png": "[encoded data removed]",
      "text/plain": [
       "<Figure size 432x288 with 1 Axes>"
      ]
     },
     "metadata": {
      "needs_background": "light"
     },
     "output_type": "display_data"
    }
   ],
   "source": [
    "fig = pyplot.figure()\n",
    "fig.suptitle('Algorithm Comparison')\n",
    "ax = fig.add_subplot(111)\n",
    "pyplot.boxplot(results)\n",
    "ax.set_xticklabels(names)\n",
    "pyplot.show()"
   ]
  },
  {
   "cell_type": "markdown",
   "id": "91016ff1-aaba-4141-baa7-6ca3ead31926",
   "metadata": {},
   "source": [
    "Ассиметрия 1 ящика положительна, так как линия внутри ящика расположена ниже его середины, аналогично с ящиками 2, 3, 4, 5 и 6, ящик 1 и 6 также имеют положительную ассиметрию, однако при этом мы видим точку ниже ящика, эта точка - значение, которой находится очень далеко от статистически значимой части данных."
   ]
  },
  {
   "cell_type": "markdown",
   "id": "secondary-continuity",
   "metadata": {},
   "source": [
    "### 5. Making some predictions"
   ]
  },
  {
   "cell_type": "markdown",
   "id": "17330ace-0079-42a0-a77e-b7de5fd75e78",
   "metadata": {},
   "source": [
    "Производим предсказание."
   ]
  },
  {
   "cell_type": "code",
   "execution_count": 14,
   "id": "imported-weekend",
   "metadata": {},
   "outputs": [
    {
     "name": "stdout",
     "output_type": "stream",
     "text": [
      "0.7096774193548387\n",
      "[[41  4]\n",
      " [14  3]]\n",
      "              precision    recall  f1-score   support\n",
      "\n",
      "           1       0.75      0.91      0.82        45\n",
      "           2       0.43      0.18      0.25        17\n",
      "\n",
      "    accuracy                           0.71        62\n",
      "   macro avg       0.59      0.54      0.54        62\n",
      "weighted avg       0.66      0.71      0.66        62\n",
      "\n"
     ]
    }
   ],
   "source": [
    "knn = KNeighborsClassifier()\n",
    "knn.fit(X_train, Y_train)\n",
    "predictions = knn.predict(X_validation)\n",
    "print(accuracy_score(Y_validation, predictions))\n",
    "print(confusion_matrix(Y_validation, predictions))\n",
    "print(classification_report(Y_validation, predictions))"
   ]
  },
  {
   "cell_type": "markdown",
   "id": "ba9418b7-9a54-457a-822e-845068e8376e",
   "metadata": {},
   "source": [
    "Исходя из полученных данных, сделаем вывод о том,  модель правильно предсказала истинное значение 2 $-$ 3 раза, 4 раз истинным значением оказалось 1, модель правильно предсказала истинное значение 1 $-$ 41 раз, модель правильно предсказала истинное значение 2 $-$ 14 раза."
   ]
  }
 ],
 "metadata": {
  "kernelspec": {
   "display_name": "Python 3 (ipykernel)",
   "language": "python",
   "name": "python3"
  },
  "language_info": {
   "codemirror_mode": {
    "name": "ipython",
    "version": 3
   },
   "file_extension": ".py",
   "mimetype": "text/x-python",
   "name": "python",
   "nbconvert_exporter": "python",
   "pygments_lexer": "ipython3",
   "version": "3.9.9"
  }
 },
 "nbformat": 4,
 "nbformat_minor": 5
}

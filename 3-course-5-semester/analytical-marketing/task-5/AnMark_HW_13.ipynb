{
 "cells": [
  {
   "cell_type": "markdown",
   "id": "satellite-piece",
   "metadata": {},
   "source": [
    "# Занятие 13. Кластерный анализ"
   ]
  },
  {
   "cell_type": "markdown",
   "id": "demanding-description",
   "metadata": {},
   "source": [
    "Веберите любые данные для задачи кластеризации из репозитория данных для машинного обучения (UCI Machine learning repository: http://archive.ics.uci.edu/ml/index.php) или возьмите свои данные и проведите кластерный анализ с использованием метода иерархической кластеризации и метода kNN. Комментарии к каждому разделу обязательны."
   ]
  },
  {
   "cell_type": "markdown",
   "id": "91d5cb9c-f549-40b7-8725-db92a66fc351",
   "metadata": {},
   "source": [
    "*Выполнил:* Бронников Егор ПМ-1901"
   ]
  },
  {
   "cell_type": "markdown",
   "id": "e88324ee-d749-4f4a-a4fc-332d50810dce",
   "metadata": {},
   "source": [
    "*Последнее изменение:* 7/11/2021"
   ]
  },
  {
   "cell_type": "markdown",
   "id": "84797261-995e-4100-b8de-186dc9df2a7b",
   "metadata": {},
   "source": [
    "## Импорты"
   ]
  },
  {
   "cell_type": "code",
   "execution_count": 1,
   "id": "e850872e-8950-496c-863c-7c78e5c616ea",
   "metadata": {},
   "outputs": [],
   "source": [
    "import numpy as np\n",
    "import pandas as pd\n",
    "import matplotlib\n",
    "import matplotlib.pyplot as plt\n",
    "from scipy.cluster.hierarchy import dendrogram, linkage, fcluster\n",
    "from sklearn.cluster import KMeans\n",
    "matplotlib.style.use('ggplot')\n",
    "%matplotlib inline"
   ]
  },
  {
   "cell_type": "markdown",
   "id": "a6187500-c41f-4e88-a0b1-584cbca05297",
   "metadata": {},
   "source": [
    "## Данные"
   ]
  },
  {
   "cell_type": "markdown",
   "id": "bc7ee87c-5ccf-4fe6-9af8-96a47864aa33",
   "metadata": {},
   "source": [
    "*Источник:* https://www.kaggle.com/roshansharma/mall-customers-clustering-analysis/data\n",
    "\n",
    "*Название:* **Mall Customers Clustering Analysis**"
   ]
  },
  {
   "cell_type": "markdown",
   "id": "fa4fe4fb-a5c2-456a-a1cc-1f7409d08721",
   "metadata": {},
   "source": [
    "### Описание данных"
   ]
  },
  {
   "cell_type": "markdown",
   "id": "9f823afe-c634-4b8a-b3aa-adcdb47ad805",
   "metadata": {},
   "source": [
    "Данные из какого-то торгового центра."
   ]
  },
  {
   "cell_type": "markdown",
   "id": "ffbf5941-557c-4a91-97cf-d09138647f6f",
   "metadata": {},
   "source": [
    "### Описание полей"
   ]
  },
  {
   "cell_type": "markdown",
   "id": "4df4572e-8aa5-4847-932c-b3f4966c9cf0",
   "metadata": {},
   "source": [
    "1. **CustomerID** — идентификатор покупателя;\n",
    "1. **Gender** — пол покупателя;\n",
    "1. **Age** — возраст;\n",
    "1. **Annual Income (k$)** — годовой доход ;\n",
    "1. **Spending Score** — потребительская способность;"
   ]
  },
  {
   "cell_type": "markdown",
   "id": "bc31aa56-c0ca-4426-a4db-01ee81d4b35c",
   "metadata": {},
   "source": [
    "Смотрим на данные."
   ]
  },
  {
   "cell_type": "code",
   "execution_count": 2,
   "id": "0782cc22-3f6a-4a7e-8e5e-d0e2a14aae0f",
   "metadata": {},
   "outputs": [],
   "source": [
    "df = pd.read_csv('./Mall_Customers.csv', index_col='CustomerID')"
   ]
  },
  {
   "cell_type": "code",
   "execution_count": 3,
   "id": "b50215aa-6486-4a28-aea8-b277ba1a5039",
   "metadata": {},
   "outputs": [
    {
     "data": {
      "text/html": [
       "<div>\n",
       "<style scoped>\n",
       "    .dataframe tbody tr th:only-of-type {\n",
       "        vertical-align: middle;\n",
       "    }\n",
       "\n",
       "    .dataframe tbody tr th {\n",
       "        vertical-align: top;\n",
       "    }\n",
       "\n",
       "    .dataframe thead th {\n",
       "        text-align: right;\n",
       "    }\n",
       "</style>\n",
       "<table border=\"1\" class=\"dataframe\">\n",
       "  <thead>\n",
       "    <tr style=\"text-align: right;\">\n",
       "      <th></th>\n",
       "      <th>Gender</th>\n",
       "      <th>Age</th>\n",
       "      <th>Annual Income (k$)</th>\n",
       "      <th>Spending Score (1-100)</th>\n",
       "    </tr>\n",
       "    <tr>\n",
       "      <th>CustomerID</th>\n",
       "      <th></th>\n",
       "      <th></th>\n",
       "      <th></th>\n",
       "      <th></th>\n",
       "    </tr>\n",
       "  </thead>\n",
       "  <tbody>\n",
       "    <tr>\n",
       "      <th>1</th>\n",
       "      <td>Male</td>\n",
       "      <td>19</td>\n",
       "      <td>15</td>\n",
       "      <td>39</td>\n",
       "    </tr>\n",
       "    <tr>\n",
       "      <th>2</th>\n",
       "      <td>Male</td>\n",
       "      <td>21</td>\n",
       "      <td>15</td>\n",
       "      <td>81</td>\n",
       "    </tr>\n",
       "    <tr>\n",
       "      <th>3</th>\n",
       "      <td>Female</td>\n",
       "      <td>20</td>\n",
       "      <td>16</td>\n",
       "      <td>6</td>\n",
       "    </tr>\n",
       "    <tr>\n",
       "      <th>4</th>\n",
       "      <td>Female</td>\n",
       "      <td>23</td>\n",
       "      <td>16</td>\n",
       "      <td>77</td>\n",
       "    </tr>\n",
       "    <tr>\n",
       "      <th>5</th>\n",
       "      <td>Female</td>\n",
       "      <td>31</td>\n",
       "      <td>17</td>\n",
       "      <td>40</td>\n",
       "    </tr>\n",
       "  </tbody>\n",
       "</table>\n",
       "</div>"
      ],
      "text/plain": [
       "            Gender  Age  Annual Income (k$)  Spending Score (1-100)\n",
       "CustomerID                                                         \n",
       "1             Male   19                  15                      39\n",
       "2             Male   21                  15                      81\n",
       "3           Female   20                  16                       6\n",
       "4           Female   23                  16                      77\n",
       "5           Female   31                  17                      40"
      ]
     },
     "execution_count": 3,
     "metadata": {},
     "output_type": "execute_result"
    }
   ],
   "source": [
    "df.head()"
   ]
  },
  {
   "cell_type": "markdown",
   "id": "8dd09118-7dd5-49eb-9ef3-8b5384f30228",
   "metadata": {},
   "source": [
    "Удаляем колонку `Gender`, потому что она не несёт дополнительной информации при кластеризации."
   ]
  },
  {
   "cell_type": "code",
   "execution_count": 4,
   "id": "098bc252-59dd-4f43-af2a-5ede121c0744",
   "metadata": {},
   "outputs": [],
   "source": [
    "del df[\"Gender\"]"
   ]
  },
  {
   "cell_type": "markdown",
   "id": "01d45fdc-e69e-4cb4-9702-6d92e2d12814",
   "metadata": {},
   "source": [
    "Смотрим на описание данных."
   ]
  },
  {
   "cell_type": "code",
   "execution_count": 5,
   "id": "a57ae553-bac3-4695-b556-9068b897ea36",
   "metadata": {},
   "outputs": [
    {
     "data": {
      "text/html": [
       "<div>\n",
       "<style scoped>\n",
       "    .dataframe tbody tr th:only-of-type {\n",
       "        vertical-align: middle;\n",
       "    }\n",
       "\n",
       "    .dataframe tbody tr th {\n",
       "        vertical-align: top;\n",
       "    }\n",
       "\n",
       "    .dataframe thead th {\n",
       "        text-align: right;\n",
       "    }\n",
       "</style>\n",
       "<table border=\"1\" class=\"dataframe\">\n",
       "  <thead>\n",
       "    <tr style=\"text-align: right;\">\n",
       "      <th></th>\n",
       "      <th>Age</th>\n",
       "      <th>Annual Income (k$)</th>\n",
       "      <th>Spending Score (1-100)</th>\n",
       "    </tr>\n",
       "  </thead>\n",
       "  <tbody>\n",
       "    <tr>\n",
       "      <th>count</th>\n",
       "      <td>200.000000</td>\n",
       "      <td>200.000000</td>\n",
       "      <td>200.000000</td>\n",
       "    </tr>\n",
       "    <tr>\n",
       "      <th>mean</th>\n",
       "      <td>38.850000</td>\n",
       "      <td>60.560000</td>\n",
       "      <td>50.200000</td>\n",
       "    </tr>\n",
       "    <tr>\n",
       "      <th>std</th>\n",
       "      <td>13.969007</td>\n",
       "      <td>26.264721</td>\n",
       "      <td>25.823522</td>\n",
       "    </tr>\n",
       "    <tr>\n",
       "      <th>min</th>\n",
       "      <td>18.000000</td>\n",
       "      <td>15.000000</td>\n",
       "      <td>1.000000</td>\n",
       "    </tr>\n",
       "    <tr>\n",
       "      <th>25%</th>\n",
       "      <td>28.750000</td>\n",
       "      <td>41.500000</td>\n",
       "      <td>34.750000</td>\n",
       "    </tr>\n",
       "    <tr>\n",
       "      <th>50%</th>\n",
       "      <td>36.000000</td>\n",
       "      <td>61.500000</td>\n",
       "      <td>50.000000</td>\n",
       "    </tr>\n",
       "    <tr>\n",
       "      <th>75%</th>\n",
       "      <td>49.000000</td>\n",
       "      <td>78.000000</td>\n",
       "      <td>73.000000</td>\n",
       "    </tr>\n",
       "    <tr>\n",
       "      <th>max</th>\n",
       "      <td>70.000000</td>\n",
       "      <td>137.000000</td>\n",
       "      <td>99.000000</td>\n",
       "    </tr>\n",
       "  </tbody>\n",
       "</table>\n",
       "</div>"
      ],
      "text/plain": [
       "              Age  Annual Income (k$)  Spending Score (1-100)\n",
       "count  200.000000          200.000000              200.000000\n",
       "mean    38.850000           60.560000               50.200000\n",
       "std     13.969007           26.264721               25.823522\n",
       "min     18.000000           15.000000                1.000000\n",
       "25%     28.750000           41.500000               34.750000\n",
       "50%     36.000000           61.500000               50.000000\n",
       "75%     49.000000           78.000000               73.000000\n",
       "max     70.000000          137.000000               99.000000"
      ]
     },
     "execution_count": 5,
     "metadata": {},
     "output_type": "execute_result"
    }
   ],
   "source": [
    "df.describe()"
   ]
  },
  {
   "cell_type": "markdown",
   "id": "committed-battery",
   "metadata": {},
   "source": [
    "## Иерархическая кластеризация"
   ]
  },
  {
   "cell_type": "markdown",
   "id": "7760b97c-c969-49ac-b960-620ace6d54a2",
   "metadata": {},
   "source": [
    "Построим дендрограмму, для того чтобы посмотреть сколько у нас имеется кластеров."
   ]
  },
  {
   "cell_type": "code",
   "execution_count": 6,
   "id": "major-finder",
   "metadata": {},
   "outputs": [
    {
     "data": {
      "image/png": "[encoded data removed]",
      "text/plain": [
       "<Figure size 432x288 with 1 Axes>"
      ]
     },
     "metadata": {
      "needs_background": "light"
     },
     "output_type": "display_data"
    }
   ],
   "source": [
    "link = linkage(df, 'ward', 'euclidean')\n",
    "dn = dendrogram(link)"
   ]
  },
  {
   "cell_type": "markdown",
   "id": "82595ace-231b-4bda-8d07-0b1c942c63b1",
   "metadata": {},
   "source": [
    "Алгоритм подкрасил в дендрограмме 3 кластера."
   ]
  },
  {
   "cell_type": "markdown",
   "id": "d3bfed48-531a-4097-a03b-c7e67a6777e8",
   "metadata": {},
   "source": [
    "Посмотрим какими характеристиками различаются наши кластеры. Задаём критерий `maxclust` и количество кластеров равное 3."
   ]
  },
  {
   "cell_type": "code",
   "execution_count": 7,
   "id": "8e59533f-de2e-4056-962f-54118971b0ef",
   "metadata": {},
   "outputs": [],
   "source": [
    "df['cluster'] = fcluster(link, 3, criterion='maxclust')"
   ]
  },
  {
   "cell_type": "markdown",
   "id": "458c31d3-0ae8-46b4-a096-a033f69a9a35",
   "metadata": {},
   "source": [
    "Теперь вычислим средние значения всех характеристик, сгруппировав данные по номеру кластера."
   ]
  },
  {
   "cell_type": "code",
   "execution_count": 8,
   "id": "bf2c7540-45f6-4287-8efd-f0454fd450ff",
   "metadata": {},
   "outputs": [
    {
     "data": {
      "text/html": [
       "<div>\n",
       "<style scoped>\n",
       "    .dataframe tbody tr th:only-of-type {\n",
       "        vertical-align: middle;\n",
       "    }\n",
       "\n",
       "    .dataframe tbody tr th {\n",
       "        vertical-align: top;\n",
       "    }\n",
       "\n",
       "    .dataframe thead th {\n",
       "        text-align: right;\n",
       "    }\n",
       "</style>\n",
       "<table border=\"1\" class=\"dataframe\">\n",
       "  <thead>\n",
       "    <tr style=\"text-align: right;\">\n",
       "      <th></th>\n",
       "      <th>Age</th>\n",
       "      <th>Annual Income (k$)</th>\n",
       "      <th>Spending Score (1-100)</th>\n",
       "    </tr>\n",
       "    <tr>\n",
       "      <th>cluster</th>\n",
       "      <th></th>\n",
       "      <th></th>\n",
       "      <th></th>\n",
       "    </tr>\n",
       "  </thead>\n",
       "  <tbody>\n",
       "    <tr>\n",
       "      <th>1</th>\n",
       "      <td>39.968254</td>\n",
       "      <td>44.833333</td>\n",
       "      <td>49.460317</td>\n",
       "    </tr>\n",
       "    <tr>\n",
       "      <th>2</th>\n",
       "      <td>32.692308</td>\n",
       "      <td>86.538462</td>\n",
       "      <td>82.128205</td>\n",
       "    </tr>\n",
       "    <tr>\n",
       "      <th>3</th>\n",
       "      <td>41.685714</td>\n",
       "      <td>88.228571</td>\n",
       "      <td>17.285714</td>\n",
       "    </tr>\n",
       "  </tbody>\n",
       "</table>\n",
       "</div>"
      ],
      "text/plain": [
       "               Age  Annual Income (k$)  Spending Score (1-100)\n",
       "cluster                                                       \n",
       "1        39.968254           44.833333               49.460317\n",
       "2        32.692308           86.538462               82.128205\n",
       "3        41.685714           88.228571               17.285714"
      ]
     },
     "execution_count": 8,
     "metadata": {},
     "output_type": "execute_result"
    }
   ],
   "source": [
    "df.groupby('cluster').mean()"
   ]
  },
  {
   "cell_type": "markdown",
   "id": "afe7435f-a949-4fbc-8290-3a4b8f1afdf4",
   "metadata": {},
   "source": [
    "Отсюда можно сделать вывод, что наибольшей потребительской способностью обладают люди в возрасте 32-33 лет - это наиболее активная группа людей. Люди в возрасте 41 года хоть и имеют средства, но обладают более низкой потребительской способностью."
   ]
  },
  {
   "cell_type": "markdown",
   "id": "aa3ecf51-1ef2-403b-8650-ed426461ad06",
   "metadata": {},
   "source": [
    "Также можно посмотреть, сколько наблюдений попало в каждый кластер."
   ]
  },
  {
   "cell_type": "code",
   "execution_count": 9,
   "id": "0e4f1525-5b48-477e-b9e6-7d324761ee26",
   "metadata": {},
   "outputs": [
    {
     "data": {
      "text/plain": [
       "cluster\n",
       "1    126\n",
       "2     39\n",
       "3     35\n",
       "dtype: int64"
      ]
     },
     "execution_count": 9,
     "metadata": {},
     "output_type": "execute_result"
    }
   ],
   "source": [
    "df.groupby('cluster').size()"
   ]
  },
  {
   "cell_type": "markdown",
   "id": "f154459a-cf4a-4cb9-bac8-a78dcf018acc",
   "metadata": {},
   "source": [
    "Получается наибольшее количество покупателей торгового центра являются люди в возрасте 40 лет с потребительской способностью 49."
   ]
  },
  {
   "cell_type": "markdown",
   "id": "impossible-enhancement",
   "metadata": {},
   "source": [
    "## Кластеризация методом k-means (k-средних)"
   ]
  },
  {
   "cell_type": "markdown",
   "id": "56e255d5-6122-414f-81f3-c747f91234d8",
   "metadata": {},
   "source": [
    "У знаем сколько кластеров оптимально брать для рассмотрения и для этого построим график каменистой осыпи."
   ]
  },
  {
   "cell_type": "code",
   "execution_count": 10,
   "id": "a1e4c565-09c5-46bc-a5fd-69d805b4f4a4",
   "metadata": {},
   "outputs": [
    {
     "data": {
      "image/png": "[encoded data removed]",
      "text/plain": [
       "<Figure size 432x288 with 1 Axes>"
      ]
     },
     "metadata": {
      "needs_background": "light"
     },
     "output_type": "display_data"
    }
   ],
   "source": [
    "K = range(1, 11)\n",
    "models = [KMeans(n_clusters=k, random_state=42).fit(df) for k in K]\n",
    "dist = [model.inertia_ for model in models]\n",
    "\n",
    "# Plot the elbow\n",
    "plt.plot(K, dist, marker='o')\n",
    "plt.xlabel('k')\n",
    "plt.ylabel('Sum of distances')\n",
    "plt.title('The Elbow Method showing the optimal k')\n",
    "plt.show()"
   ]
  },
  {
   "cell_type": "markdown",
   "id": "2c22671e-884d-45a1-9920-5e3a5294e9c6",
   "metadata": {},
   "source": [
    "Два кластера $-$ это оптимальный выбор. Теперь хочется посмотреть на список наблюдений, составляющий данные кластеры, и посмотреть, чем они отличаются друг от друга."
   ]
  },
  {
   "cell_type": "code",
   "execution_count": 11,
   "id": "technical-coalition",
   "metadata": {},
   "outputs": [
    {
     "data": {
      "text/html": [
       "<div>\n",
       "<style scoped>\n",
       "    .dataframe tbody tr th:only-of-type {\n",
       "        vertical-align: middle;\n",
       "    }\n",
       "\n",
       "    .dataframe tbody tr th {\n",
       "        vertical-align: top;\n",
       "    }\n",
       "\n",
       "    .dataframe thead th {\n",
       "        text-align: right;\n",
       "    }\n",
       "</style>\n",
       "<table border=\"1\" class=\"dataframe\">\n",
       "  <thead>\n",
       "    <tr style=\"text-align: right;\">\n",
       "      <th></th>\n",
       "      <th>Age</th>\n",
       "      <th>Annual Income (k$)</th>\n",
       "      <th>Spending Score (1-100)</th>\n",
       "    </tr>\n",
       "    <tr>\n",
       "      <th>cluster</th>\n",
       "      <th></th>\n",
       "      <th></th>\n",
       "      <th></th>\n",
       "    </tr>\n",
       "  </thead>\n",
       "  <tbody>\n",
       "    <tr>\n",
       "      <th>0</th>\n",
       "      <td>46.165217</td>\n",
       "      <td>59.365217</td>\n",
       "      <td>32.886957</td>\n",
       "    </tr>\n",
       "    <tr>\n",
       "      <th>1</th>\n",
       "      <td>28.952941</td>\n",
       "      <td>62.176471</td>\n",
       "      <td>73.623529</td>\n",
       "    </tr>\n",
       "  </tbody>\n",
       "</table>\n",
       "</div>"
      ],
      "text/plain": [
       "               Age  Annual Income (k$)  Spending Score (1-100)\n",
       "cluster                                                       \n",
       "0        46.165217           59.365217               32.886957\n",
       "1        28.952941           62.176471               73.623529"
      ]
     },
     "execution_count": 11,
     "metadata": {},
     "output_type": "execute_result"
    }
   ],
   "source": [
    "model = KMeans(n_clusters=2, random_state=42)\n",
    "model.fit(df)\n",
    "df['cluster'] = model.labels_\n",
    "df.groupby('cluster').mean()"
   ]
  },
  {
   "cell_type": "markdown",
   "id": "ad46b170-77c5-43e8-8699-37a6cc0bdd8e",
   "metadata": {},
   "source": [
    "Видно, что можно разделить покупателей на более активных и более пассивных. К активным покупателям можно отнести людей в среднем возраст которых равен 29, а к пассивным людей в среднем возраст которых равен 46."
   ]
  },
  {
   "cell_type": "code",
   "execution_count": 12,
   "id": "0e393063-e652-40e4-bbf9-3207769173d7",
   "metadata": {},
   "outputs": [
    {
     "data": {
      "text/plain": [
       "cluster\n",
       "0    115\n",
       "1     85\n",
       "dtype: int64"
      ]
     },
     "execution_count": 12,
     "metadata": {},
     "output_type": "execute_result"
    }
   ],
   "source": [
    "df.groupby('cluster').size()"
   ]
  },
  {
   "cell_type": "markdown",
   "id": "cebcdac8-0548-4902-a76f-7e576cd293ca",
   "metadata": {},
   "source": [
    "Так же если посмотреть на количество записей в каждом кластере, то можно увидеть, что ненамного, но больше всё-таки пассивных покупателей, чем активных."
   ]
  }
 ],
 "metadata": {
  "kernelspec": {
   "display_name": "Python 3 (ipykernel)",
   "language": "python",
   "name": "python3"
  },
  "language_info": {
   "codemirror_mode": {
    "name": "ipython",
    "version": 3
   },
   "file_extension": ".py",
   "mimetype": "text/x-python",
   "name": "python",
   "nbconvert_exporter": "python",
   "pygments_lexer": "ipython3",
   "version": "3.9.7"
  }
 },
 "nbformat": 4,
 "nbformat_minor": 5
}

{
 "cells": [
  {
   "cell_type": "markdown",
   "metadata": {},
   "source": [
    "## Задание №2. Проверка статистических гипотез "
   ]
  },
  {
   "cell_type": "markdown",
   "metadata": {},
   "source": [
    "Веберите любые данные из репозитория данных для машинного обучения (UCI Machine learning repository: http://archive.ics.uci.edu/ml/index.php) или возьмите свои данные и проверьте для них различные статистические гипотезы в соответствии со следующей схемой. Комментарии к каждому разделу обязательны. Возможно применения разных наборов данных для проверки разных гипотез."
   ]
  },
  {
   "cell_type": "markdown",
   "metadata": {},
   "source": [
    "*Выполнил:* Бронников Егор ПМ-1901"
   ]
  },
  {
   "cell_type": "markdown",
   "metadata": {},
   "source": [
    "*Последнее изменение:* 28/10/2021"
   ]
  },
  {
   "cell_type": "markdown",
   "metadata": {},
   "source": [
    "### Импорты"
   ]
  },
  {
   "cell_type": "code",
   "execution_count": 1,
   "metadata": {},
   "outputs": [],
   "source": [
    "import numpy as np\n",
    "import pandas as pd\n",
    "from scipy import stats\n",
    "from statsmodels.stats.weightstats import *\n",
    "from statsmodels.stats.descriptivestats import sign_test"
   ]
  },
  {
   "cell_type": "code",
   "execution_count": 2,
   "metadata": {},
   "outputs": [
    {
     "name": "stdout",
     "output_type": "stream",
     "text": [
      "Populating the interactive namespace from numpy and matplotlib\n"
     ]
    }
   ],
   "source": [
    "%pylab inline"
   ]
  },
  {
   "cell_type": "markdown",
   "metadata": {},
   "source": [
    "## Проверка гипотезы о нормальности распределения признаков (критерий Шапиро-Уилка, графический метод, метод на основе ассиметрии и эксцесса)"
   ]
  },
  {
   "cell_type": "markdown",
   "metadata": {},
   "source": [
    "### Данные"
   ]
  },
  {
   "cell_type": "markdown",
   "metadata": {},
   "source": [
    "*Источник:* https://data.4tu.nl/articles/dataset/Results_of_Empathy_and_Resilience_questionnaire-_before_and_after_the_medical_humanities_programme/12705704\n",
    "\n",
    "*Название:* **Results of Empathy and Resilience questionnaire- before and after the medical humanities programme**"
   ]
  },
  {
   "cell_type": "markdown",
   "metadata": {},
   "source": [
    "#### Описание данных"
   ]
  },
  {
   "cell_type": "markdown",
   "metadata": {},
   "source": [
    "23 студента-медика прошли обучение по программе медицинских гуманитарных наук в течение года и заполнили анкеты сочувствия и устойчивости до и после курса. Их сравнивали с контрольной группой из 18 студентов, которые не участвовали в программе обучения гуманитарным наукам и которые также заполнили анкету сочувствия и устойчивости в начале и в конце года. "
   ]
  },
  {
   "cell_type": "markdown",
   "metadata": {},
   "source": [
    "### Гипотеза"
   ]
  },
  {
   "cell_type": "markdown",
   "metadata": {},
   "source": [
    "$H_0$ $-$ параметры `Adaptability` и `SelfControl` распредлены нормально\n",
    " \n",
    "$H_1$ $-$ не нормально"
   ]
  },
  {
   "cell_type": "markdown",
   "metadata": {},
   "source": [
    "В связи стем что параметров оценки устойчивости оказалось много, то в соответствии с выбранной нами гипотезой мы проверим некоторые из них, такие как: `Adaptability` и `SelfControl`."
   ]
  },
  {
   "cell_type": "code",
   "execution_count": 3,
   "metadata": {},
   "outputs": [],
   "source": [
    "dfBefore = pd.read_excel('./data/data.xlsx', sheet_name=\"ResilienceExptGrpBefore\")\n",
    "dfAfter = pd.read_excel('./data/data.xlsx', sheet_name=\"ResilienceExptGrpAfter\")"
   ]
  },
  {
   "cell_type": "code",
   "execution_count": 4,
   "metadata": {},
   "outputs": [
    {
     "data": {
      "text/html": [
       "<div>\n",
       "<style scoped>\n",
       "    .dataframe tbody tr th:only-of-type {\n",
       "        vertical-align: middle;\n",
       "    }\n",
       "\n",
       "    .dataframe tbody tr th {\n",
       "        vertical-align: top;\n",
       "    }\n",
       "\n",
       "    .dataframe thead th {\n",
       "        text-align: right;\n",
       "    }\n",
       "</style>\n",
       "<table border=\"1\" class=\"dataframe\">\n",
       "  <thead>\n",
       "    <tr style=\"text-align: right;\">\n",
       "      <th></th>\n",
       "      <th>Before</th>\n",
       "      <th>After</th>\n",
       "    </tr>\n",
       "  </thead>\n",
       "  <tbody>\n",
       "    <tr>\n",
       "      <th>0</th>\n",
       "      <td>37</td>\n",
       "      <td>37</td>\n",
       "    </tr>\n",
       "    <tr>\n",
       "      <th>1</th>\n",
       "      <td>43</td>\n",
       "      <td>43</td>\n",
       "    </tr>\n",
       "    <tr>\n",
       "      <th>2</th>\n",
       "      <td>36</td>\n",
       "      <td>38</td>\n",
       "    </tr>\n",
       "    <tr>\n",
       "      <th>3</th>\n",
       "      <td>36</td>\n",
       "      <td>37</td>\n",
       "    </tr>\n",
       "    <tr>\n",
       "      <th>4</th>\n",
       "      <td>31</td>\n",
       "      <td>31</td>\n",
       "    </tr>\n",
       "  </tbody>\n",
       "</table>\n",
       "</div>"
      ],
      "text/plain": [
       "   Before  After\n",
       "0      37     37\n",
       "1      43     43\n",
       "2      36     38\n",
       "3      36     37\n",
       "4      31     31"
      ]
     },
     "execution_count": 4,
     "metadata": {},
     "output_type": "execute_result"
    }
   ],
   "source": [
    "dfAdaptability = pd.DataFrame({\"Before\": dfBefore[\"Adaptability\"], \"After\": dfAfter[\"Adaptability\"]})\n",
    "dfAdaptability.head()"
   ]
  },
  {
   "cell_type": "code",
   "execution_count": 5,
   "metadata": {},
   "outputs": [
    {
     "data": {
      "text/html": [
       "<div>\n",
       "<style scoped>\n",
       "    .dataframe tbody tr th:only-of-type {\n",
       "        vertical-align: middle;\n",
       "    }\n",
       "\n",
       "    .dataframe tbody tr th {\n",
       "        vertical-align: top;\n",
       "    }\n",
       "\n",
       "    .dataframe thead th {\n",
       "        text-align: right;\n",
       "    }\n",
       "</style>\n",
       "<table border=\"1\" class=\"dataframe\">\n",
       "  <thead>\n",
       "    <tr style=\"text-align: right;\">\n",
       "      <th></th>\n",
       "      <th>Before</th>\n",
       "      <th>After</th>\n",
       "    </tr>\n",
       "  </thead>\n",
       "  <tbody>\n",
       "    <tr>\n",
       "      <th>0</th>\n",
       "      <td>33</td>\n",
       "      <td>33</td>\n",
       "    </tr>\n",
       "    <tr>\n",
       "      <th>1</th>\n",
       "      <td>33</td>\n",
       "      <td>36</td>\n",
       "    </tr>\n",
       "    <tr>\n",
       "      <th>2</th>\n",
       "      <td>21</td>\n",
       "      <td>23</td>\n",
       "    </tr>\n",
       "    <tr>\n",
       "      <th>3</th>\n",
       "      <td>41</td>\n",
       "      <td>41</td>\n",
       "    </tr>\n",
       "    <tr>\n",
       "      <th>4</th>\n",
       "      <td>22</td>\n",
       "      <td>31</td>\n",
       "    </tr>\n",
       "  </tbody>\n",
       "</table>\n",
       "</div>"
      ],
      "text/plain": [
       "   Before  After\n",
       "0      33     33\n",
       "1      33     36\n",
       "2      21     23\n",
       "3      41     41\n",
       "4      22     31"
      ]
     },
     "execution_count": 5,
     "metadata": {},
     "output_type": "execute_result"
    }
   ],
   "source": [
    "dfSelfControl = pd.DataFrame({\"Before\": dfBefore[\"SelfControl\"], \"After\": dfAfter[\"SelfControl\"]})\n",
    "dfSelfControl.head()"
   ]
  },
  {
   "cell_type": "code",
   "execution_count": 6,
   "metadata": {},
   "outputs": [],
   "source": [
    "n = len(dfBefore)"
   ]
  },
  {
   "cell_type": "markdown",
   "metadata": {},
   "source": [
    "### Графический метод"
   ]
  },
  {
   "cell_type": "code",
   "execution_count": 7,
   "metadata": {},
   "outputs": [
    {
     "data": {
      "image/png": "[encoded data removed]",
      "text/plain": [
       "<Figure size 864x576 with 2 Axes>"
      ]
     },
     "metadata": {
      "needs_background": "light"
     },
     "output_type": "display_data"
    }
   ],
   "source": [
    "pylab.figure(figsize=(12,8))\n",
    "pylab.subplot(2,2,1)\n",
    "stats.probplot(dfSelfControl.Before, dist=\"norm\", plot=pylab)\n",
    "pylab.subplot(2,2,2)\n",
    "stats.probplot(dfSelfControl.After, dist=\"norm\", plot=pylab)\n",
    "pylab.show()"
   ]
  },
  {
   "cell_type": "code",
   "execution_count": 8,
   "metadata": {},
   "outputs": [
    {
     "data": {
      "image/png": "[encoded data removed]",
      "text/plain": [
       "<Figure size 864x576 with 2 Axes>"
      ]
     },
     "metadata": {
      "needs_background": "light"
     },
     "output_type": "display_data"
    }
   ],
   "source": [
    "pylab.figure(figsize=(12,8))\n",
    "pylab.subplot(2,2,1)\n",
    "stats.probplot(dfAdaptability.Before, dist=\"norm\", plot=pylab)\n",
    "pylab.subplot(2,2,2)\n",
    "stats.probplot(dfAdaptability.After, dist=\"norm\", plot=pylab)\n",
    "pylab.show()"
   ]
  },
  {
   "cell_type": "markdown",
   "metadata": {},
   "source": [
    "Видно, что распределение признаков `Adaptability` и `SelfControl` близко к нормальному"
   ]
  },
  {
   "cell_type": "markdown",
   "metadata": {},
   "source": [
    "### Критерий Шапиро-Уилка"
   ]
  },
  {
   "cell_type": "code",
   "execution_count": 9,
   "metadata": {},
   "outputs": [
    {
     "name": "stdout",
     "output_type": "stream",
     "text": [
      "Shapiro-Wilk normality test, W-statistic: 0.930578, p-value: 0.112555\n"
     ]
    }
   ],
   "source": [
    "print(\"Shapiro-Wilk normality test, W-statistic: %f, p-value: %f\" % stats.shapiro(dfSelfControl.Before))"
   ]
  },
  {
   "cell_type": "code",
   "execution_count": 10,
   "metadata": {},
   "outputs": [
    {
     "name": "stdout",
     "output_type": "stream",
     "text": [
      "Shapiro-Wilk normality test, W-statistic: 0.951829, p-value: 0.319207\n"
     ]
    }
   ],
   "source": [
    "print(\"Shapiro-Wilk normality test, W-statistic: %f, p-value: %f\" % stats.shapiro(dfSelfControl.After))"
   ]
  },
  {
   "cell_type": "markdown",
   "metadata": {},
   "source": [
    "Из оценки критерия Шапиро-Уилка видно, что наша гипотеза **$H_0$** подтвердилась для признака `SelfControl`"
   ]
  },
  {
   "cell_type": "code",
   "execution_count": 11,
   "metadata": {},
   "outputs": [
    {
     "name": "stdout",
     "output_type": "stream",
     "text": [
      "Shapiro-Wilk normality test, W-statistic: 0.940550, p-value: 0.184665\n"
     ]
    }
   ],
   "source": [
    "print(\"Shapiro-Wilk normality test, W-statistic: %f, p-value: %f\" % stats.shapiro(dfAdaptability.Before))"
   ]
  },
  {
   "cell_type": "code",
   "execution_count": 12,
   "metadata": {},
   "outputs": [
    {
     "name": "stdout",
     "output_type": "stream",
     "text": [
      "Shapiro-Wilk normality test, W-statistic: 0.904539, p-value: 0.031391\n"
     ]
    }
   ],
   "source": [
    "print(\"Shapiro-Wilk normality test, W-statistic: %f, p-value: %f\" % stats.shapiro(dfAdaptability.After))"
   ]
  },
  {
   "cell_type": "markdown",
   "metadata": {},
   "source": [
    "Из оценки критерия Шапиро-Уилка видно, что наша гипотеза **$H_0$** подтвердилась для признака `Adaptability`"
   ]
  },
  {
   "cell_type": "markdown",
   "metadata": {},
   "source": [
    "#### Выводы"
   ]
  },
  {
   "cell_type": "markdown",
   "metadata": {},
   "source": [
    "Следовательно, из всех этих методов видно, что распределение признаков является нормальным."
   ]
  },
  {
   "cell_type": "markdown",
   "metadata": {},
   "source": [
    "### Метод на основе ассиметрии и эксцесса"
   ]
  },
  {
   "cell_type": "markdown",
   "metadata": {},
   "source": [
    "**Функция для оценки ассиметрии**"
   ]
  },
  {
   "cell_type": "markdown",
   "metadata": {},
   "source": [
    "$$As_{sd}=3\\sqrt{\\frac{6(N-1)}{(N+1)(N+3)}}$$"
   ]
  },
  {
   "cell_type": "code",
   "execution_count": 13,
   "metadata": {},
   "outputs": [],
   "source": [
    "def asymmetry(n: int):\n",
    "    return 3 * np.sqrt((6*(n-1))/((n+1)*(n+3)))"
   ]
  },
  {
   "cell_type": "markdown",
   "metadata": {},
   "source": [
    "**Функция для оценки эксцесса**"
   ]
  },
  {
   "cell_type": "markdown",
   "metadata": {},
   "source": [
    "$$Ex_{sd}=5\\sqrt{\\frac{24N(N-2)(N-3)}{(N+1)^2(N+3)(N+5)}}$$"
   ]
  },
  {
   "cell_type": "code",
   "execution_count": 14,
   "metadata": {},
   "outputs": [],
   "source": [
    "def excess(n: int):\n",
    "    return 5 * np.sqrt((24*n*(n-2)*(n-3))/(((n+1)**2)*(n+3)*(n+5)))"
   ]
  },
  {
   "cell_type": "markdown",
   "metadata": {},
   "source": [
    "$\\frac{|As|}{As_{sd}} > 3 -$ ассиметрия зачима"
   ]
  },
  {
   "cell_type": "markdown",
   "metadata": {},
   "source": [
    "$\\frac{|Ex|}{Ex_{sd}} > 3 -$ эксцесс зачим"
   ]
  },
  {
   "cell_type": "markdown",
   "metadata": {},
   "source": [
    "**Расчёт для признака `Adaptability`:**"
   ]
  },
  {
   "cell_type": "code",
   "execution_count": 15,
   "metadata": {},
   "outputs": [
    {
     "data": {
      "text/plain": [
       "Before    False\n",
       "After     False\n",
       "dtype: bool"
      ]
     },
     "execution_count": 15,
     "metadata": {},
     "output_type": "execute_result"
    }
   ],
   "source": [
    "abs(dfAdaptability.skew())/asymmetry(n) > 3"
   ]
  },
  {
   "cell_type": "code",
   "execution_count": 16,
   "metadata": {},
   "outputs": [
    {
     "data": {
      "text/plain": [
       "Before    False\n",
       "After     False\n",
       "dtype: bool"
      ]
     },
     "execution_count": 16,
     "metadata": {},
     "output_type": "execute_result"
    }
   ],
   "source": [
    "abs(dfAdaptability.kurt())/excess(n) > 3"
   ]
  },
  {
   "cell_type": "markdown",
   "metadata": {},
   "source": [
    "#### Выводы"
   ]
  },
  {
   "cell_type": "markdown",
   "metadata": {},
   "source": [
    "Таким образом, ассиметрия и эксцесс у нас не считаются значимыми для признака `Adaptability`."
   ]
  },
  {
   "cell_type": "markdown",
   "metadata": {},
   "source": [
    "**Расчёт для признака `SelfControl`:**"
   ]
  },
  {
   "cell_type": "code",
   "execution_count": 17,
   "metadata": {},
   "outputs": [
    {
     "data": {
      "text/plain": [
       "Before    False\n",
       "After     False\n",
       "dtype: bool"
      ]
     },
     "execution_count": 17,
     "metadata": {},
     "output_type": "execute_result"
    }
   ],
   "source": [
    "abs(dfSelfControl.skew())/asymmetry(n) > 3"
   ]
  },
  {
   "cell_type": "code",
   "execution_count": 18,
   "metadata": {},
   "outputs": [
    {
     "data": {
      "text/plain": [
       "Before    False\n",
       "After     False\n",
       "dtype: bool"
      ]
     },
     "execution_count": 18,
     "metadata": {},
     "output_type": "execute_result"
    }
   ],
   "source": [
    "abs(dfAdaptability.kurt())/excess(n) > 3"
   ]
  },
  {
   "cell_type": "markdown",
   "metadata": {},
   "source": [
    "#### Выводы"
   ]
  },
  {
   "cell_type": "markdown",
   "metadata": {},
   "source": [
    "Таким образом, ассиметрия и эксцесс у нас не считаются значимыми для признака `SelfControl`."
   ]
  },
  {
   "cell_type": "markdown",
   "metadata": {},
   "source": [
    "## Проверка гипотезы о независимости метрических признаков (корреляция Пирсона)"
   ]
  },
  {
   "cell_type": "markdown",
   "metadata": {},
   "source": [
    "### Данные"
   ]
  },
  {
   "cell_type": "markdown",
   "metadata": {},
   "source": [
    "*Источник:* https://www.kaggle.com/mastmustu/weather-analysis\n",
    "\n",
    "*Название:* **weather analysis**"
   ]
  },
  {
   "cell_type": "markdown",
   "metadata": {},
   "source": [
    "#### Описание данных"
   ]
  },
  {
   "cell_type": "markdown",
   "metadata": {},
   "source": [
    "Данные содержат суточные погодные атрибуты с 2009 по июль 2020 года в EstesPark"
   ]
  },
  {
   "cell_type": "markdown",
   "metadata": {},
   "source": [
    "#### Поля"
   ]
  },
  {
   "cell_type": "markdown",
   "metadata": {},
   "source": [
    "* Date\n",
    "* Average temperature (°F)\n",
    "* Average humidity (%)\n",
    "* Average dewpoint (°F)\n",
    "* Average barometer (in)\n",
    "* Average windspeed (mph)\n",
    "* Average gustspeed (mph)\n",
    "* Average direction (°deg)\n",
    "* Rainfall for month (in)\n",
    "* Rainfall for year (in)\n",
    "* Maximum rain per minute\n",
    "* Maximum temperature (°F)\n",
    "* Minimum temperature (°F)\n",
    "* Maximum humidity (%)\n",
    "* Minimum humidity (%)\n",
    "* Maximum pressure\n",
    "* Minimum pressure\n",
    "* Maximum windspeed (mph)\n",
    "* Maximum gust speed (mph)\n",
    "* Maximum heat index (°F)"
   ]
  },
  {
   "cell_type": "code",
   "execution_count": 19,
   "metadata": {},
   "outputs": [],
   "source": [
    "dfWeather = pd.read_csv(\"./data/climate_data.csv\")"
   ]
  },
  {
   "cell_type": "code",
   "execution_count": 20,
   "metadata": {},
   "outputs": [
    {
     "data": {
      "text/html": [
       "<div>\n",
       "<style scoped>\n",
       "    .dataframe tbody tr th:only-of-type {\n",
       "        vertical-align: middle;\n",
       "    }\n",
       "\n",
       "    .dataframe tbody tr th {\n",
       "        vertical-align: top;\n",
       "    }\n",
       "\n",
       "    .dataframe thead th {\n",
       "        text-align: right;\n",
       "    }\n",
       "</style>\n",
       "<table border=\"1\" class=\"dataframe\">\n",
       "  <thead>\n",
       "    <tr style=\"text-align: right;\">\n",
       "      <th></th>\n",
       "      <th>Date</th>\n",
       "      <th>Average temperature (°F)</th>\n",
       "      <th>Average humidity (%)</th>\n",
       "      <th>Average dewpoint (°F)</th>\n",
       "      <th>Average barometer (in)</th>\n",
       "      <th>Average windspeed (mph)</th>\n",
       "      <th>Average gustspeed (mph)</th>\n",
       "      <th>Average direction (°deg)</th>\n",
       "      <th>Rainfall for month (in)</th>\n",
       "      <th>Rainfall for year (in)</th>\n",
       "      <th>...</th>\n",
       "      <th>Maximum humidity (%)</th>\n",
       "      <th>Minimum humidity (%)</th>\n",
       "      <th>Maximum pressure</th>\n",
       "      <th>Minimum pressure</th>\n",
       "      <th>Maximum windspeed (mph)</th>\n",
       "      <th>Maximum gust speed (mph)</th>\n",
       "      <th>Maximum heat index (°F)</th>\n",
       "      <th>Date1</th>\n",
       "      <th>Month</th>\n",
       "      <th>diff_pressure</th>\n",
       "    </tr>\n",
       "  </thead>\n",
       "  <tbody>\n",
       "    <tr>\n",
       "      <th>0</th>\n",
       "      <td>2009-01-01</td>\n",
       "      <td>37.8</td>\n",
       "      <td>35.0</td>\n",
       "      <td>12.7</td>\n",
       "      <td>29.7</td>\n",
       "      <td>26.4</td>\n",
       "      <td>36.8</td>\n",
       "      <td>274.0</td>\n",
       "      <td>0.0</td>\n",
       "      <td>0.0</td>\n",
       "      <td>...</td>\n",
       "      <td>4.0</td>\n",
       "      <td>27.0</td>\n",
       "      <td>29.762</td>\n",
       "      <td>29.596</td>\n",
       "      <td>41.4</td>\n",
       "      <td>59.0</td>\n",
       "      <td>40.0</td>\n",
       "      <td>2009-01-01</td>\n",
       "      <td>1</td>\n",
       "      <td>0.166</td>\n",
       "    </tr>\n",
       "    <tr>\n",
       "      <th>1</th>\n",
       "      <td>2009-01-02</td>\n",
       "      <td>43.2</td>\n",
       "      <td>32.0</td>\n",
       "      <td>14.7</td>\n",
       "      <td>29.5</td>\n",
       "      <td>12.8</td>\n",
       "      <td>18.0</td>\n",
       "      <td>240.0</td>\n",
       "      <td>0.0</td>\n",
       "      <td>0.0</td>\n",
       "      <td>...</td>\n",
       "      <td>4.0</td>\n",
       "      <td>16.0</td>\n",
       "      <td>29.669</td>\n",
       "      <td>29.268</td>\n",
       "      <td>35.7</td>\n",
       "      <td>51.0</td>\n",
       "      <td>52.0</td>\n",
       "      <td>2009-01-02</td>\n",
       "      <td>1</td>\n",
       "      <td>0.401</td>\n",
       "    </tr>\n",
       "    <tr>\n",
       "      <th>2</th>\n",
       "      <td>2009-01-03</td>\n",
       "      <td>25.7</td>\n",
       "      <td>60.0</td>\n",
       "      <td>12.7</td>\n",
       "      <td>29.7</td>\n",
       "      <td>8.3</td>\n",
       "      <td>12.2</td>\n",
       "      <td>290.0</td>\n",
       "      <td>0.0</td>\n",
       "      <td>0.0</td>\n",
       "      <td>...</td>\n",
       "      <td>8.0</td>\n",
       "      <td>35.0</td>\n",
       "      <td>30.232</td>\n",
       "      <td>29.260</td>\n",
       "      <td>25.3</td>\n",
       "      <td>38.0</td>\n",
       "      <td>41.0</td>\n",
       "      <td>2009-01-03</td>\n",
       "      <td>1</td>\n",
       "      <td>0.972</td>\n",
       "    </tr>\n",
       "    <tr>\n",
       "      <th>3</th>\n",
       "      <td>2009-01-04</td>\n",
       "      <td>9.3</td>\n",
       "      <td>67.0</td>\n",
       "      <td>0.1</td>\n",
       "      <td>30.4</td>\n",
       "      <td>2.9</td>\n",
       "      <td>4.5</td>\n",
       "      <td>47.0</td>\n",
       "      <td>0.0</td>\n",
       "      <td>0.0</td>\n",
       "      <td>...</td>\n",
       "      <td>7.0</td>\n",
       "      <td>35.0</td>\n",
       "      <td>30.566</td>\n",
       "      <td>30.227</td>\n",
       "      <td>12.7</td>\n",
       "      <td>20.0</td>\n",
       "      <td>32.0</td>\n",
       "      <td>2009-01-04</td>\n",
       "      <td>1</td>\n",
       "      <td>0.339</td>\n",
       "    </tr>\n",
       "    <tr>\n",
       "      <th>4</th>\n",
       "      <td>2009-01-05</td>\n",
       "      <td>23.5</td>\n",
       "      <td>30.0</td>\n",
       "      <td>-5.3</td>\n",
       "      <td>29.9</td>\n",
       "      <td>16.7</td>\n",
       "      <td>23.1</td>\n",
       "      <td>265.0</td>\n",
       "      <td>0.0</td>\n",
       "      <td>0.0</td>\n",
       "      <td>...</td>\n",
       "      <td>5.0</td>\n",
       "      <td>13.0</td>\n",
       "      <td>30.233</td>\n",
       "      <td>29.568</td>\n",
       "      <td>38.0</td>\n",
       "      <td>53.0</td>\n",
       "      <td>32.0</td>\n",
       "      <td>2009-01-05</td>\n",
       "      <td>1</td>\n",
       "      <td>0.665</td>\n",
       "    </tr>\n",
       "  </tbody>\n",
       "</table>\n",
       "<p>5 rows × 23 columns</p>\n",
       "</div>"
      ],
      "text/plain": [
       "         Date  Average temperature (°F)  Average humidity (%)  \\\n",
       "0  2009-01-01                      37.8                  35.0   \n",
       "1  2009-01-02                      43.2                  32.0   \n",
       "2  2009-01-03                      25.7                  60.0   \n",
       "3  2009-01-04                       9.3                  67.0   \n",
       "4  2009-01-05                      23.5                  30.0   \n",
       "\n",
       "   Average dewpoint (°F)  Average barometer (in)  Average windspeed (mph)  \\\n",
       "0                   12.7                    29.7                     26.4   \n",
       "1                   14.7                    29.5                     12.8   \n",
       "2                   12.7                    29.7                      8.3   \n",
       "3                    0.1                    30.4                      2.9   \n",
       "4                   -5.3                    29.9                     16.7   \n",
       "\n",
       "   Average gustspeed (mph)  Average direction (°deg)  Rainfall for month (in)  \\\n",
       "0                     36.8                     274.0                      0.0   \n",
       "1                     18.0                     240.0                      0.0   \n",
       "2                     12.2                     290.0                      0.0   \n",
       "3                      4.5                      47.0                      0.0   \n",
       "4                     23.1                     265.0                      0.0   \n",
       "\n",
       "   Rainfall for year (in)  ...  Maximum humidity (%)  Minimum humidity (%)  \\\n",
       "0                     0.0  ...                   4.0                  27.0   \n",
       "1                     0.0  ...                   4.0                  16.0   \n",
       "2                     0.0  ...                   8.0                  35.0   \n",
       "3                     0.0  ...                   7.0                  35.0   \n",
       "4                     0.0  ...                   5.0                  13.0   \n",
       "\n",
       "   Maximum pressure  Minimum pressure  Maximum windspeed (mph)  \\\n",
       "0            29.762            29.596                     41.4   \n",
       "1            29.669            29.268                     35.7   \n",
       "2            30.232            29.260                     25.3   \n",
       "3            30.566            30.227                     12.7   \n",
       "4            30.233            29.568                     38.0   \n",
       "\n",
       "   Maximum gust speed (mph)  Maximum heat index (°F)       Date1  Month  \\\n",
       "0                      59.0                     40.0  2009-01-01      1   \n",
       "1                      51.0                     52.0  2009-01-02      1   \n",
       "2                      38.0                     41.0  2009-01-03      1   \n",
       "3                      20.0                     32.0  2009-01-04      1   \n",
       "4                      53.0                     32.0  2009-01-05      1   \n",
       "\n",
       "   diff_pressure  \n",
       "0          0.166  \n",
       "1          0.401  \n",
       "2          0.972  \n",
       "3          0.339  \n",
       "4          0.665  \n",
       "\n",
       "[5 rows x 23 columns]"
      ]
     },
     "execution_count": 20,
     "metadata": {},
     "output_type": "execute_result"
    }
   ],
   "source": [
    "dfWeather.head()"
   ]
  },
  {
   "cell_type": "code",
   "execution_count": 21,
   "metadata": {},
   "outputs": [
    {
     "data": {
      "text/html": [
       "<div>\n",
       "<style scoped>\n",
       "    .dataframe tbody tr th:only-of-type {\n",
       "        vertical-align: middle;\n",
       "    }\n",
       "\n",
       "    .dataframe tbody tr th {\n",
       "        vertical-align: top;\n",
       "    }\n",
       "\n",
       "    .dataframe thead th {\n",
       "        text-align: right;\n",
       "    }\n",
       "</style>\n",
       "<table border=\"1\" class=\"dataframe\">\n",
       "  <thead>\n",
       "    <tr style=\"text-align: right;\">\n",
       "      <th></th>\n",
       "      <th>Average temperature (°F)</th>\n",
       "      <th>Average humidity (%)</th>\n",
       "      <th>Average dewpoint (°F)</th>\n",
       "      <th>Average barometer (in)</th>\n",
       "      <th>Average windspeed (mph)</th>\n",
       "      <th>Average gustspeed (mph)</th>\n",
       "      <th>Average direction (°deg)</th>\n",
       "      <th>Rainfall for month (in)</th>\n",
       "      <th>Rainfall for year (in)</th>\n",
       "      <th>Maximum rain per minute</th>\n",
       "      <th>...</th>\n",
       "      <th>Minimum temperature (°F)</th>\n",
       "      <th>Maximum humidity (%)</th>\n",
       "      <th>Minimum humidity (%)</th>\n",
       "      <th>Maximum pressure</th>\n",
       "      <th>Minimum pressure</th>\n",
       "      <th>Maximum windspeed (mph)</th>\n",
       "      <th>Maximum gust speed (mph)</th>\n",
       "      <th>Maximum heat index (°F)</th>\n",
       "      <th>Month</th>\n",
       "      <th>diff_pressure</th>\n",
       "    </tr>\n",
       "  </thead>\n",
       "  <tbody>\n",
       "    <tr>\n",
       "      <th>Average temperature (°F)</th>\n",
       "      <td>1.000000</td>\n",
       "      <td>-0.258103</td>\n",
       "      <td>0.764830</td>\n",
       "      <td>-0.550897</td>\n",
       "      <td>-0.167162</td>\n",
       "      <td>0.000737</td>\n",
       "      <td>0.034183</td>\n",
       "      <td>0.299229</td>\n",
       "      <td>0.203111</td>\n",
       "      <td>NaN</td>\n",
       "      <td>...</td>\n",
       "      <td>0.919248</td>\n",
       "      <td>0.068721</td>\n",
       "      <td>-0.413121</td>\n",
       "      <td>-0.618515</td>\n",
       "      <td>-0.226331</td>\n",
       "      <td>-0.031998</td>\n",
       "      <td>0.020571</td>\n",
       "      <td>0.957647</td>\n",
       "      <td>0.215285</td>\n",
       "      <td>-0.140937</td>\n",
       "    </tr>\n",
       "    <tr>\n",
       "      <th>Average humidity (%)</th>\n",
       "      <td>-0.258103</td>\n",
       "      <td>1.000000</td>\n",
       "      <td>0.404557</td>\n",
       "      <td>0.178934</td>\n",
       "      <td>-0.516141</td>\n",
       "      <td>-0.197759</td>\n",
       "      <td>-0.315470</td>\n",
       "      <td>0.227414</td>\n",
       "      <td>0.006378</td>\n",
       "      <td>NaN</td>\n",
       "      <td>...</td>\n",
       "      <td>-0.170000</td>\n",
       "      <td>0.696767</td>\n",
       "      <td>0.811699</td>\n",
       "      <td>0.180387</td>\n",
       "      <td>0.079000</td>\n",
       "      <td>-0.317888</td>\n",
       "      <td>-0.117353</td>\n",
       "      <td>-0.204776</td>\n",
       "      <td>-0.012851</td>\n",
       "      <td>0.026704</td>\n",
       "    </tr>\n",
       "    <tr>\n",
       "      <th>Average dewpoint (°F)</th>\n",
       "      <td>0.764830</td>\n",
       "      <td>0.404557</td>\n",
       "      <td>1.000000</td>\n",
       "      <td>-0.403144</td>\n",
       "      <td>-0.455355</td>\n",
       "      <td>-0.112658</td>\n",
       "      <td>-0.156349</td>\n",
       "      <td>0.429974</td>\n",
       "      <td>0.194450</td>\n",
       "      <td>NaN</td>\n",
       "      <td>...</td>\n",
       "      <td>0.762414</td>\n",
       "      <td>0.515906</td>\n",
       "      <td>0.135565</td>\n",
       "      <td>-0.472044</td>\n",
       "      <td>-0.159177</td>\n",
       "      <td>-0.219546</td>\n",
       "      <td>-0.052015</td>\n",
       "      <td>0.754469</td>\n",
       "      <td>0.187948</td>\n",
       "      <td>-0.122589</td>\n",
       "    </tr>\n",
       "    <tr>\n",
       "      <th>Average barometer (in)</th>\n",
       "      <td>-0.550897</td>\n",
       "      <td>0.178934</td>\n",
       "      <td>-0.403144</td>\n",
       "      <td>1.000000</td>\n",
       "      <td>-0.121518</td>\n",
       "      <td>-0.062563</td>\n",
       "      <td>-0.143962</td>\n",
       "      <td>-0.128451</td>\n",
       "      <td>0.013939</td>\n",
       "      <td>NaN</td>\n",
       "      <td>...</td>\n",
       "      <td>-0.581604</td>\n",
       "      <td>-0.029233</td>\n",
       "      <td>0.207718</td>\n",
       "      <td>0.936146</td>\n",
       "      <td>0.577095</td>\n",
       "      <td>-0.123866</td>\n",
       "      <td>-0.033694</td>\n",
       "      <td>-0.454612</td>\n",
       "      <td>-0.030326</td>\n",
       "      <td>-0.046655</td>\n",
       "    </tr>\n",
       "    <tr>\n",
       "      <th>Average windspeed (mph)</th>\n",
       "      <td>-0.167162</td>\n",
       "      <td>-0.516141</td>\n",
       "      <td>-0.455355</td>\n",
       "      <td>-0.121518</td>\n",
       "      <td>1.000000</td>\n",
       "      <td>0.393666</td>\n",
       "      <td>0.291648</td>\n",
       "      <td>-0.209548</td>\n",
       "      <td>-0.106904</td>\n",
       "      <td>NaN</td>\n",
       "      <td>...</td>\n",
       "      <td>-0.056171</td>\n",
       "      <td>-0.542426</td>\n",
       "      <td>-0.243742</td>\n",
       "      <td>-0.100236</td>\n",
       "      <td>-0.087341</td>\n",
       "      <td>0.552315</td>\n",
       "      <td>0.250276</td>\n",
       "      <td>-0.286377</td>\n",
       "      <td>-0.124739</td>\n",
       "      <td>0.033316</td>\n",
       "    </tr>\n",
       "    <tr>\n",
       "      <th>Average gustspeed (mph)</th>\n",
       "      <td>0.000737</td>\n",
       "      <td>-0.197759</td>\n",
       "      <td>-0.112658</td>\n",
       "      <td>-0.062563</td>\n",
       "      <td>0.393666</td>\n",
       "      <td>1.000000</td>\n",
       "      <td>0.076630</td>\n",
       "      <td>-0.057578</td>\n",
       "      <td>0.007168</td>\n",
       "      <td>NaN</td>\n",
       "      <td>...</td>\n",
       "      <td>0.032247</td>\n",
       "      <td>-0.189880</td>\n",
       "      <td>-0.102480</td>\n",
       "      <td>-0.043760</td>\n",
       "      <td>-0.048651</td>\n",
       "      <td>0.279575</td>\n",
       "      <td>0.659144</td>\n",
       "      <td>-0.044399</td>\n",
       "      <td>-0.015048</td>\n",
       "      <td>0.026207</td>\n",
       "    </tr>\n",
       "    <tr>\n",
       "      <th>Average direction (°deg)</th>\n",
       "      <td>0.034183</td>\n",
       "      <td>-0.315470</td>\n",
       "      <td>-0.156349</td>\n",
       "      <td>-0.143962</td>\n",
       "      <td>0.291648</td>\n",
       "      <td>0.076630</td>\n",
       "      <td>1.000000</td>\n",
       "      <td>-0.045220</td>\n",
       "      <td>-0.049204</td>\n",
       "      <td>NaN</td>\n",
       "      <td>...</td>\n",
       "      <td>0.033013</td>\n",
       "      <td>-0.201194</td>\n",
       "      <td>-0.275495</td>\n",
       "      <td>-0.144063</td>\n",
       "      <td>-0.103944</td>\n",
       "      <td>0.217027</td>\n",
       "      <td>0.056556</td>\n",
       "      <td>-0.004099</td>\n",
       "      <td>-0.061046</td>\n",
       "      <td>0.023956</td>\n",
       "    </tr>\n",
       "    <tr>\n",
       "      <th>Rainfall for month (in)</th>\n",
       "      <td>0.299229</td>\n",
       "      <td>0.227414</td>\n",
       "      <td>0.429974</td>\n",
       "      <td>-0.128451</td>\n",
       "      <td>-0.209548</td>\n",
       "      <td>-0.057578</td>\n",
       "      <td>-0.045220</td>\n",
       "      <td>1.000000</td>\n",
       "      <td>0.116040</td>\n",
       "      <td>NaN</td>\n",
       "      <td>...</td>\n",
       "      <td>0.299055</td>\n",
       "      <td>0.277425</td>\n",
       "      <td>0.107240</td>\n",
       "      <td>-0.166775</td>\n",
       "      <td>-0.030838</td>\n",
       "      <td>-0.123329</td>\n",
       "      <td>-0.052883</td>\n",
       "      <td>0.293713</td>\n",
       "      <td>0.025855</td>\n",
       "      <td>-0.071466</td>\n",
       "    </tr>\n",
       "    <tr>\n",
       "      <th>Rainfall for year (in)</th>\n",
       "      <td>0.203111</td>\n",
       "      <td>0.006378</td>\n",
       "      <td>0.194450</td>\n",
       "      <td>0.013939</td>\n",
       "      <td>-0.106904</td>\n",
       "      <td>0.007168</td>\n",
       "      <td>-0.049204</td>\n",
       "      <td>0.116040</td>\n",
       "      <td>1.000000</td>\n",
       "      <td>NaN</td>\n",
       "      <td>...</td>\n",
       "      <td>0.193721</td>\n",
       "      <td>0.105984</td>\n",
       "      <td>-0.027618</td>\n",
       "      <td>-0.000620</td>\n",
       "      <td>0.047042</td>\n",
       "      <td>-0.013841</td>\n",
       "      <td>0.070547</td>\n",
       "      <td>0.207398</td>\n",
       "      <td>0.912328</td>\n",
       "      <td>-0.052537</td>\n",
       "    </tr>\n",
       "    <tr>\n",
       "      <th>Maximum rain per minute</th>\n",
       "      <td>NaN</td>\n",
       "      <td>NaN</td>\n",
       "      <td>NaN</td>\n",
       "      <td>NaN</td>\n",
       "      <td>NaN</td>\n",
       "      <td>NaN</td>\n",
       "      <td>NaN</td>\n",
       "      <td>NaN</td>\n",
       "      <td>NaN</td>\n",
       "      <td>NaN</td>\n",
       "      <td>...</td>\n",
       "      <td>NaN</td>\n",
       "      <td>NaN</td>\n",
       "      <td>NaN</td>\n",
       "      <td>NaN</td>\n",
       "      <td>NaN</td>\n",
       "      <td>NaN</td>\n",
       "      <td>NaN</td>\n",
       "      <td>NaN</td>\n",
       "      <td>NaN</td>\n",
       "      <td>NaN</td>\n",
       "    </tr>\n",
       "    <tr>\n",
       "      <th>Maximum temperature (°F)</th>\n",
       "      <td>0.963821</td>\n",
       "      <td>-0.230784</td>\n",
       "      <td>0.739464</td>\n",
       "      <td>-0.462309</td>\n",
       "      <td>-0.277724</td>\n",
       "      <td>-0.051876</td>\n",
       "      <td>0.014190</td>\n",
       "      <td>0.286233</td>\n",
       "      <td>0.204039</td>\n",
       "      <td>NaN</td>\n",
       "      <td>...</td>\n",
       "      <td>0.817127</td>\n",
       "      <td>0.132891</td>\n",
       "      <td>-0.477587</td>\n",
       "      <td>-0.517685</td>\n",
       "      <td>-0.188756</td>\n",
       "      <td>-0.079010</td>\n",
       "      <td>-0.003402</td>\n",
       "      <td>0.989791</td>\n",
       "      <td>0.217404</td>\n",
       "      <td>-0.118714</td>\n",
       "    </tr>\n",
       "    <tr>\n",
       "      <th>Minimum temperature (°F)</th>\n",
       "      <td>0.919248</td>\n",
       "      <td>-0.170000</td>\n",
       "      <td>0.762414</td>\n",
       "      <td>-0.581604</td>\n",
       "      <td>-0.056171</td>\n",
       "      <td>0.032247</td>\n",
       "      <td>0.033013</td>\n",
       "      <td>0.299055</td>\n",
       "      <td>0.193721</td>\n",
       "      <td>NaN</td>\n",
       "      <td>...</td>\n",
       "      <td>1.000000</td>\n",
       "      <td>0.007406</td>\n",
       "      <td>-0.237252</td>\n",
       "      <td>-0.674042</td>\n",
       "      <td>-0.234569</td>\n",
       "      <td>-0.007199</td>\n",
       "      <td>0.025167</td>\n",
       "      <td>0.818224</td>\n",
       "      <td>0.198009</td>\n",
       "      <td>-0.166981</td>\n",
       "    </tr>\n",
       "    <tr>\n",
       "      <th>Maximum humidity (%)</th>\n",
       "      <td>0.068721</td>\n",
       "      <td>0.696767</td>\n",
       "      <td>0.515906</td>\n",
       "      <td>-0.029233</td>\n",
       "      <td>-0.542426</td>\n",
       "      <td>-0.189880</td>\n",
       "      <td>-0.201194</td>\n",
       "      <td>0.277425</td>\n",
       "      <td>0.105984</td>\n",
       "      <td>NaN</td>\n",
       "      <td>...</td>\n",
       "      <td>0.007406</td>\n",
       "      <td>1.000000</td>\n",
       "      <td>0.366738</td>\n",
       "      <td>-0.014746</td>\n",
       "      <td>-0.037516</td>\n",
       "      <td>-0.275058</td>\n",
       "      <td>-0.086380</td>\n",
       "      <td>0.143665</td>\n",
       "      <td>0.107164</td>\n",
       "      <td>0.032243</td>\n",
       "    </tr>\n",
       "    <tr>\n",
       "      <th>Minimum humidity (%)</th>\n",
       "      <td>-0.413121</td>\n",
       "      <td>0.811699</td>\n",
       "      <td>0.135565</td>\n",
       "      <td>0.207718</td>\n",
       "      <td>-0.243742</td>\n",
       "      <td>-0.102480</td>\n",
       "      <td>-0.275495</td>\n",
       "      <td>0.107240</td>\n",
       "      <td>-0.027618</td>\n",
       "      <td>NaN</td>\n",
       "      <td>...</td>\n",
       "      <td>-0.237252</td>\n",
       "      <td>0.366738</td>\n",
       "      <td>1.000000</td>\n",
       "      <td>0.202971</td>\n",
       "      <td>0.122802</td>\n",
       "      <td>-0.217721</td>\n",
       "      <td>-0.093655</td>\n",
       "      <td>-0.453488</td>\n",
       "      <td>-0.046043</td>\n",
       "      <td>-0.007543</td>\n",
       "    </tr>\n",
       "    <tr>\n",
       "      <th>Maximum pressure</th>\n",
       "      <td>-0.618515</td>\n",
       "      <td>0.180387</td>\n",
       "      <td>-0.472044</td>\n",
       "      <td>0.936146</td>\n",
       "      <td>-0.100236</td>\n",
       "      <td>-0.043760</td>\n",
       "      <td>-0.144063</td>\n",
       "      <td>-0.166775</td>\n",
       "      <td>-0.000620</td>\n",
       "      <td>NaN</td>\n",
       "      <td>...</td>\n",
       "      <td>-0.674042</td>\n",
       "      <td>-0.014746</td>\n",
       "      <td>0.202971</td>\n",
       "      <td>1.000000</td>\n",
       "      <td>0.448569</td>\n",
       "      <td>-0.089657</td>\n",
       "      <td>-0.007991</td>\n",
       "      <td>-0.511639</td>\n",
       "      <td>-0.034985</td>\n",
       "      <td>0.136260</td>\n",
       "    </tr>\n",
       "    <tr>\n",
       "      <th>Minimum pressure</th>\n",
       "      <td>-0.226331</td>\n",
       "      <td>0.079000</td>\n",
       "      <td>-0.159177</td>\n",
       "      <td>0.577095</td>\n",
       "      <td>-0.087341</td>\n",
       "      <td>-0.048651</td>\n",
       "      <td>-0.103944</td>\n",
       "      <td>-0.030838</td>\n",
       "      <td>0.047042</td>\n",
       "      <td>NaN</td>\n",
       "      <td>...</td>\n",
       "      <td>-0.234569</td>\n",
       "      <td>-0.037516</td>\n",
       "      <td>0.122802</td>\n",
       "      <td>0.448569</td>\n",
       "      <td>1.000000</td>\n",
       "      <td>-0.091660</td>\n",
       "      <td>-0.032043</td>\n",
       "      <td>-0.182939</td>\n",
       "      <td>0.015284</td>\n",
       "      <td>-0.824291</td>\n",
       "    </tr>\n",
       "    <tr>\n",
       "      <th>Maximum windspeed (mph)</th>\n",
       "      <td>-0.031998</td>\n",
       "      <td>-0.317888</td>\n",
       "      <td>-0.219546</td>\n",
       "      <td>-0.123866</td>\n",
       "      <td>0.552315</td>\n",
       "      <td>0.279575</td>\n",
       "      <td>0.217027</td>\n",
       "      <td>-0.123329</td>\n",
       "      <td>-0.013841</td>\n",
       "      <td>NaN</td>\n",
       "      <td>...</td>\n",
       "      <td>-0.007199</td>\n",
       "      <td>-0.275058</td>\n",
       "      <td>-0.217721</td>\n",
       "      <td>-0.089657</td>\n",
       "      <td>-0.091660</td>\n",
       "      <td>1.000000</td>\n",
       "      <td>0.464001</td>\n",
       "      <td>-0.085605</td>\n",
       "      <td>-0.029201</td>\n",
       "      <td>0.044805</td>\n",
       "    </tr>\n",
       "    <tr>\n",
       "      <th>Maximum gust speed (mph)</th>\n",
       "      <td>0.020571</td>\n",
       "      <td>-0.117353</td>\n",
       "      <td>-0.052015</td>\n",
       "      <td>-0.033694</td>\n",
       "      <td>0.250276</td>\n",
       "      <td>0.659144</td>\n",
       "      <td>0.056556</td>\n",
       "      <td>-0.052883</td>\n",
       "      <td>0.070547</td>\n",
       "      <td>NaN</td>\n",
       "      <td>...</td>\n",
       "      <td>0.025167</td>\n",
       "      <td>-0.086380</td>\n",
       "      <td>-0.093655</td>\n",
       "      <td>-0.007991</td>\n",
       "      <td>-0.032043</td>\n",
       "      <td>0.464001</td>\n",
       "      <td>1.000000</td>\n",
       "      <td>0.002606</td>\n",
       "      <td>0.061538</td>\n",
       "      <td>0.030455</td>\n",
       "    </tr>\n",
       "    <tr>\n",
       "      <th>Maximum heat index (°F)</th>\n",
       "      <td>0.957647</td>\n",
       "      <td>-0.204776</td>\n",
       "      <td>0.754469</td>\n",
       "      <td>-0.454612</td>\n",
       "      <td>-0.286377</td>\n",
       "      <td>-0.044399</td>\n",
       "      <td>-0.004099</td>\n",
       "      <td>0.293713</td>\n",
       "      <td>0.207398</td>\n",
       "      <td>NaN</td>\n",
       "      <td>...</td>\n",
       "      <td>0.818224</td>\n",
       "      <td>0.143665</td>\n",
       "      <td>-0.453488</td>\n",
       "      <td>-0.511639</td>\n",
       "      <td>-0.182939</td>\n",
       "      <td>-0.085605</td>\n",
       "      <td>0.002606</td>\n",
       "      <td>1.000000</td>\n",
       "      <td>0.219095</td>\n",
       "      <td>-0.121331</td>\n",
       "    </tr>\n",
       "    <tr>\n",
       "      <th>Month</th>\n",
       "      <td>0.215285</td>\n",
       "      <td>-0.012851</td>\n",
       "      <td>0.187948</td>\n",
       "      <td>-0.030326</td>\n",
       "      <td>-0.124739</td>\n",
       "      <td>-0.015048</td>\n",
       "      <td>-0.061046</td>\n",
       "      <td>0.025855</td>\n",
       "      <td>0.912328</td>\n",
       "      <td>NaN</td>\n",
       "      <td>...</td>\n",
       "      <td>0.198009</td>\n",
       "      <td>0.107164</td>\n",
       "      <td>-0.046043</td>\n",
       "      <td>-0.034985</td>\n",
       "      <td>0.015284</td>\n",
       "      <td>-0.029201</td>\n",
       "      <td>0.061538</td>\n",
       "      <td>0.219095</td>\n",
       "      <td>1.000000</td>\n",
       "      <td>-0.039104</td>\n",
       "    </tr>\n",
       "    <tr>\n",
       "      <th>diff_pressure</th>\n",
       "      <td>-0.140937</td>\n",
       "      <td>0.026704</td>\n",
       "      <td>-0.122589</td>\n",
       "      <td>-0.046655</td>\n",
       "      <td>0.033316</td>\n",
       "      <td>0.026207</td>\n",
       "      <td>0.023956</td>\n",
       "      <td>-0.071466</td>\n",
       "      <td>-0.052537</td>\n",
       "      <td>NaN</td>\n",
       "      <td>...</td>\n",
       "      <td>-0.166981</td>\n",
       "      <td>0.032243</td>\n",
       "      <td>-0.007543</td>\n",
       "      <td>0.136260</td>\n",
       "      <td>-0.824291</td>\n",
       "      <td>0.044805</td>\n",
       "      <td>0.030455</td>\n",
       "      <td>-0.121331</td>\n",
       "      <td>-0.039104</td>\n",
       "      <td>1.000000</td>\n",
       "    </tr>\n",
       "  </tbody>\n",
       "</table>\n",
       "<p>21 rows × 21 columns</p>\n",
       "</div>"
      ],
      "text/plain": [
       "                          Average temperature (°F)  Average humidity (%)  \\\n",
       "Average temperature (°F)                  1.000000             -0.258103   \n",
       "Average humidity (%)                     -0.258103              1.000000   \n",
       "Average dewpoint (°F)                     0.764830              0.404557   \n",
       "Average barometer (in)                   -0.550897              0.178934   \n",
       "Average windspeed (mph)                  -0.167162             -0.516141   \n",
       "Average gustspeed (mph)                   0.000737             -0.197759   \n",
       "Average direction (°deg)                  0.034183             -0.315470   \n",
       "Rainfall for month (in)                   0.299229              0.227414   \n",
       "Rainfall for year (in)                    0.203111              0.006378   \n",
       "Maximum rain per minute                        NaN                   NaN   \n",
       "Maximum temperature (°F)                  0.963821             -0.230784   \n",
       "Minimum temperature (°F)                  0.919248             -0.170000   \n",
       "Maximum humidity (%)                      0.068721              0.696767   \n",
       "Minimum humidity (%)                     -0.413121              0.811699   \n",
       "Maximum pressure                         -0.618515              0.180387   \n",
       "Minimum pressure                         -0.226331              0.079000   \n",
       "Maximum windspeed (mph)                  -0.031998             -0.317888   \n",
       "Maximum gust speed (mph)                  0.020571             -0.117353   \n",
       "Maximum heat index (°F)                   0.957647             -0.204776   \n",
       "Month                                     0.215285             -0.012851   \n",
       "diff_pressure                            -0.140937              0.026704   \n",
       "\n",
       "                          Average dewpoint (°F)  Average barometer (in)  \\\n",
       "Average temperature (°F)               0.764830               -0.550897   \n",
       "Average humidity (%)                   0.404557                0.178934   \n",
       "Average dewpoint (°F)                  1.000000               -0.403144   \n",
       "Average barometer (in)                -0.403144                1.000000   \n",
       "Average windspeed (mph)               -0.455355               -0.121518   \n",
       "Average gustspeed (mph)               -0.112658               -0.062563   \n",
       "Average direction (°deg)              -0.156349               -0.143962   \n",
       "Rainfall for month (in)                0.429974               -0.128451   \n",
       "Rainfall for year (in)                 0.194450                0.013939   \n",
       "Maximum rain per minute                     NaN                     NaN   \n",
       "Maximum temperature (°F)               0.739464               -0.462309   \n",
       "Minimum temperature (°F)               0.762414               -0.581604   \n",
       "Maximum humidity (%)                   0.515906               -0.029233   \n",
       "Minimum humidity (%)                   0.135565                0.207718   \n",
       "Maximum pressure                      -0.472044                0.936146   \n",
       "Minimum pressure                      -0.159177                0.577095   \n",
       "Maximum windspeed (mph)               -0.219546               -0.123866   \n",
       "Maximum gust speed (mph)              -0.052015               -0.033694   \n",
       "Maximum heat index (°F)                0.754469               -0.454612   \n",
       "Month                                  0.187948               -0.030326   \n",
       "diff_pressure                         -0.122589               -0.046655   \n",
       "\n",
       "                          Average windspeed (mph)  Average gustspeed (mph)  \\\n",
       "Average temperature (°F)                -0.167162                 0.000737   \n",
       "Average humidity (%)                    -0.516141                -0.197759   \n",
       "Average dewpoint (°F)                   -0.455355                -0.112658   \n",
       "Average barometer (in)                  -0.121518                -0.062563   \n",
       "Average windspeed (mph)                  1.000000                 0.393666   \n",
       "Average gustspeed (mph)                  0.393666                 1.000000   \n",
       "Average direction (°deg)                 0.291648                 0.076630   \n",
       "Rainfall for month (in)                 -0.209548                -0.057578   \n",
       "Rainfall for year (in)                  -0.106904                 0.007168   \n",
       "Maximum rain per minute                       NaN                      NaN   \n",
       "Maximum temperature (°F)                -0.277724                -0.051876   \n",
       "Minimum temperature (°F)                -0.056171                 0.032247   \n",
       "Maximum humidity (%)                    -0.542426                -0.189880   \n",
       "Minimum humidity (%)                    -0.243742                -0.102480   \n",
       "Maximum pressure                        -0.100236                -0.043760   \n",
       "Minimum pressure                        -0.087341                -0.048651   \n",
       "Maximum windspeed (mph)                  0.552315                 0.279575   \n",
       "Maximum gust speed (mph)                 0.250276                 0.659144   \n",
       "Maximum heat index (°F)                 -0.286377                -0.044399   \n",
       "Month                                   -0.124739                -0.015048   \n",
       "diff_pressure                            0.033316                 0.026207   \n",
       "\n",
       "                          Average direction (°deg)  Rainfall for month (in)  \\\n",
       "Average temperature (°F)                  0.034183                 0.299229   \n",
       "Average humidity (%)                     -0.315470                 0.227414   \n",
       "Average dewpoint (°F)                    -0.156349                 0.429974   \n",
       "Average barometer (in)                   -0.143962                -0.128451   \n",
       "Average windspeed (mph)                   0.291648                -0.209548   \n",
       "Average gustspeed (mph)                   0.076630                -0.057578   \n",
       "Average direction (°deg)                  1.000000                -0.045220   \n",
       "Rainfall for month (in)                  -0.045220                 1.000000   \n",
       "Rainfall for year (in)                   -0.049204                 0.116040   \n",
       "Maximum rain per minute                        NaN                      NaN   \n",
       "Maximum temperature (°F)                  0.014190                 0.286233   \n",
       "Minimum temperature (°F)                  0.033013                 0.299055   \n",
       "Maximum humidity (%)                     -0.201194                 0.277425   \n",
       "Minimum humidity (%)                     -0.275495                 0.107240   \n",
       "Maximum pressure                         -0.144063                -0.166775   \n",
       "Minimum pressure                         -0.103944                -0.030838   \n",
       "Maximum windspeed (mph)                   0.217027                -0.123329   \n",
       "Maximum gust speed (mph)                  0.056556                -0.052883   \n",
       "Maximum heat index (°F)                  -0.004099                 0.293713   \n",
       "Month                                    -0.061046                 0.025855   \n",
       "diff_pressure                             0.023956                -0.071466   \n",
       "\n",
       "                          Rainfall for year (in)  Maximum rain per minute  \\\n",
       "Average temperature (°F)                0.203111                      NaN   \n",
       "Average humidity (%)                    0.006378                      NaN   \n",
       "Average dewpoint (°F)                   0.194450                      NaN   \n",
       "Average barometer (in)                  0.013939                      NaN   \n",
       "Average windspeed (mph)                -0.106904                      NaN   \n",
       "Average gustspeed (mph)                 0.007168                      NaN   \n",
       "Average direction (°deg)               -0.049204                      NaN   \n",
       "Rainfall for month (in)                 0.116040                      NaN   \n",
       "Rainfall for year (in)                  1.000000                      NaN   \n",
       "Maximum rain per minute                      NaN                      NaN   \n",
       "Maximum temperature (°F)                0.204039                      NaN   \n",
       "Minimum temperature (°F)                0.193721                      NaN   \n",
       "Maximum humidity (%)                    0.105984                      NaN   \n",
       "Minimum humidity (%)                   -0.027618                      NaN   \n",
       "Maximum pressure                       -0.000620                      NaN   \n",
       "Minimum pressure                        0.047042                      NaN   \n",
       "Maximum windspeed (mph)                -0.013841                      NaN   \n",
       "Maximum gust speed (mph)                0.070547                      NaN   \n",
       "Maximum heat index (°F)                 0.207398                      NaN   \n",
       "Month                                   0.912328                      NaN   \n",
       "diff_pressure                          -0.052537                      NaN   \n",
       "\n",
       "                          ...  Minimum temperature (°F)  Maximum humidity (%)  \\\n",
       "Average temperature (°F)  ...                  0.919248              0.068721   \n",
       "Average humidity (%)      ...                 -0.170000              0.696767   \n",
       "Average dewpoint (°F)     ...                  0.762414              0.515906   \n",
       "Average barometer (in)    ...                 -0.581604             -0.029233   \n",
       "Average windspeed (mph)   ...                 -0.056171             -0.542426   \n",
       "Average gustspeed (mph)   ...                  0.032247             -0.189880   \n",
       "Average direction (°deg)  ...                  0.033013             -0.201194   \n",
       "Rainfall for month (in)   ...                  0.299055              0.277425   \n",
       "Rainfall for year (in)    ...                  0.193721              0.105984   \n",
       "Maximum rain per minute   ...                       NaN                   NaN   \n",
       "Maximum temperature (°F)  ...                  0.817127              0.132891   \n",
       "Minimum temperature (°F)  ...                  1.000000              0.007406   \n",
       "Maximum humidity (%)      ...                  0.007406              1.000000   \n",
       "Minimum humidity (%)      ...                 -0.237252              0.366738   \n",
       "Maximum pressure          ...                 -0.674042             -0.014746   \n",
       "Minimum pressure          ...                 -0.234569             -0.037516   \n",
       "Maximum windspeed (mph)   ...                 -0.007199             -0.275058   \n",
       "Maximum gust speed (mph)  ...                  0.025167             -0.086380   \n",
       "Maximum heat index (°F)   ...                  0.818224              0.143665   \n",
       "Month                     ...                  0.198009              0.107164   \n",
       "diff_pressure             ...                 -0.166981              0.032243   \n",
       "\n",
       "                          Minimum humidity (%)  Maximum pressure  \\\n",
       "Average temperature (°F)             -0.413121         -0.618515   \n",
       "Average humidity (%)                  0.811699          0.180387   \n",
       "Average dewpoint (°F)                 0.135565         -0.472044   \n",
       "Average barometer (in)                0.207718          0.936146   \n",
       "Average windspeed (mph)              -0.243742         -0.100236   \n",
       "Average gustspeed (mph)              -0.102480         -0.043760   \n",
       "Average direction (°deg)             -0.275495         -0.144063   \n",
       "Rainfall for month (in)               0.107240         -0.166775   \n",
       "Rainfall for year (in)               -0.027618         -0.000620   \n",
       "Maximum rain per minute                    NaN               NaN   \n",
       "Maximum temperature (°F)             -0.477587         -0.517685   \n",
       "Minimum temperature (°F)             -0.237252         -0.674042   \n",
       "Maximum humidity (%)                  0.366738         -0.014746   \n",
       "Minimum humidity (%)                  1.000000          0.202971   \n",
       "Maximum pressure                      0.202971          1.000000   \n",
       "Minimum pressure                      0.122802          0.448569   \n",
       "Maximum windspeed (mph)              -0.217721         -0.089657   \n",
       "Maximum gust speed (mph)             -0.093655         -0.007991   \n",
       "Maximum heat index (°F)              -0.453488         -0.511639   \n",
       "Month                                -0.046043         -0.034985   \n",
       "diff_pressure                        -0.007543          0.136260   \n",
       "\n",
       "                          Minimum pressure  Maximum windspeed (mph)  \\\n",
       "Average temperature (°F)         -0.226331                -0.031998   \n",
       "Average humidity (%)              0.079000                -0.317888   \n",
       "Average dewpoint (°F)            -0.159177                -0.219546   \n",
       "Average barometer (in)            0.577095                -0.123866   \n",
       "Average windspeed (mph)          -0.087341                 0.552315   \n",
       "Average gustspeed (mph)          -0.048651                 0.279575   \n",
       "Average direction (°deg)         -0.103944                 0.217027   \n",
       "Rainfall for month (in)          -0.030838                -0.123329   \n",
       "Rainfall for year (in)            0.047042                -0.013841   \n",
       "Maximum rain per minute                NaN                      NaN   \n",
       "Maximum temperature (°F)         -0.188756                -0.079010   \n",
       "Minimum temperature (°F)         -0.234569                -0.007199   \n",
       "Maximum humidity (%)             -0.037516                -0.275058   \n",
       "Minimum humidity (%)              0.122802                -0.217721   \n",
       "Maximum pressure                  0.448569                -0.089657   \n",
       "Minimum pressure                  1.000000                -0.091660   \n",
       "Maximum windspeed (mph)          -0.091660                 1.000000   \n",
       "Maximum gust speed (mph)         -0.032043                 0.464001   \n",
       "Maximum heat index (°F)          -0.182939                -0.085605   \n",
       "Month                             0.015284                -0.029201   \n",
       "diff_pressure                    -0.824291                 0.044805   \n",
       "\n",
       "                          Maximum gust speed (mph)  Maximum heat index (°F)  \\\n",
       "Average temperature (°F)                  0.020571                 0.957647   \n",
       "Average humidity (%)                     -0.117353                -0.204776   \n",
       "Average dewpoint (°F)                    -0.052015                 0.754469   \n",
       "Average barometer (in)                   -0.033694                -0.454612   \n",
       "Average windspeed (mph)                   0.250276                -0.286377   \n",
       "Average gustspeed (mph)                   0.659144                -0.044399   \n",
       "Average direction (°deg)                  0.056556                -0.004099   \n",
       "Rainfall for month (in)                  -0.052883                 0.293713   \n",
       "Rainfall for year (in)                    0.070547                 0.207398   \n",
       "Maximum rain per minute                        NaN                      NaN   \n",
       "Maximum temperature (°F)                 -0.003402                 0.989791   \n",
       "Minimum temperature (°F)                  0.025167                 0.818224   \n",
       "Maximum humidity (%)                     -0.086380                 0.143665   \n",
       "Minimum humidity (%)                     -0.093655                -0.453488   \n",
       "Maximum pressure                         -0.007991                -0.511639   \n",
       "Minimum pressure                         -0.032043                -0.182939   \n",
       "Maximum windspeed (mph)                   0.464001                -0.085605   \n",
       "Maximum gust speed (mph)                  1.000000                 0.002606   \n",
       "Maximum heat index (°F)                   0.002606                 1.000000   \n",
       "Month                                     0.061538                 0.219095   \n",
       "diff_pressure                             0.030455                -0.121331   \n",
       "\n",
       "                             Month  diff_pressure  \n",
       "Average temperature (°F)  0.215285      -0.140937  \n",
       "Average humidity (%)     -0.012851       0.026704  \n",
       "Average dewpoint (°F)     0.187948      -0.122589  \n",
       "Average barometer (in)   -0.030326      -0.046655  \n",
       "Average windspeed (mph)  -0.124739       0.033316  \n",
       "Average gustspeed (mph)  -0.015048       0.026207  \n",
       "Average direction (°deg) -0.061046       0.023956  \n",
       "Rainfall for month (in)   0.025855      -0.071466  \n",
       "Rainfall for year (in)    0.912328      -0.052537  \n",
       "Maximum rain per minute        NaN            NaN  \n",
       "Maximum temperature (°F)  0.217404      -0.118714  \n",
       "Minimum temperature (°F)  0.198009      -0.166981  \n",
       "Maximum humidity (%)      0.107164       0.032243  \n",
       "Minimum humidity (%)     -0.046043      -0.007543  \n",
       "Maximum pressure         -0.034985       0.136260  \n",
       "Minimum pressure          0.015284      -0.824291  \n",
       "Maximum windspeed (mph)  -0.029201       0.044805  \n",
       "Maximum gust speed (mph)  0.061538       0.030455  \n",
       "Maximum heat index (°F)   0.219095      -0.121331  \n",
       "Month                     1.000000      -0.039104  \n",
       "diff_pressure            -0.039104       1.000000  \n",
       "\n",
       "[21 rows x 21 columns]"
      ]
     },
     "execution_count": 21,
     "metadata": {},
     "output_type": "execute_result"
    }
   ],
   "source": [
    "dfWeather.corr(method='pearson')"
   ]
  },
  {
   "cell_type": "markdown",
   "metadata": {},
   "source": [
    "Можно заметить, что у нас имеется корреляция между признаками:\n",
    "* `Average temperature (°F)` и `Average dewpoint (°F)`\n",
    "* `Average temperature (°F)` и `Maximum heat index (°F)`\n",
    "* `Average dewpoint (°F)` и `Maximum heat index (°F)`\n",
    "\n",
    "И многие другие, но если исходить из здравого смысла, то большинство остальных зависимостей можно объяснить тем, что у нас в данных представлены \\`минимальные\\`, \\`средние\\` и \\`максимальные\\` значения показателей и естесетвенно между ними будет корреляция"
   ]
  },
  {
   "cell_type": "markdown",
   "metadata": {},
   "source": [
    "#### Гипотеза"
   ]
  },
  {
   "cell_type": "markdown",
   "metadata": {},
   "source": [
    "$H_0$ $-$ параметры `Average temperature (°F)` и `Average dewpoint (°F)` независимы\n",
    "\n",
    "$H_1$ $-$ параметры `Average temperature (°F)` и `Average dewpoint (°F)` зависимы"
   ]
  },
  {
   "cell_type": "code",
   "execution_count": 22,
   "metadata": {},
   "outputs": [
    {
     "name": "stdout",
     "output_type": "stream",
     "text": [
      "Pearson correlation test, Pearson’s correlation coefficient: 0.764830, p-value: 0.000000\n"
     ]
    }
   ],
   "source": [
    "print(\"Pearson correlation test, Pearson’s correlation coefficient: %f, p-value: %f\" % stats.pearsonr(dfWeather['Average temperature (°F)'], dfWeather['Average dewpoint (°F)']))"
   ]
  },
  {
   "cell_type": "markdown",
   "metadata": {},
   "source": [
    "Следовательно, гипотеза $H_0$ отвергается и мы отдаём предпочтение гипотизе $H_1$"
   ]
  },
  {
   "cell_type": "markdown",
   "metadata": {},
   "source": [
    "#### Выводы"
   ]
  },
  {
   "cell_type": "markdown",
   "metadata": {},
   "source": [
    "Следовательно, признаки `Average temperature (°F)` и `Average dewpoint (°F)` являются зависимыми."
   ]
  },
  {
   "cell_type": "markdown",
   "metadata": {},
   "source": [
    "## Проверка гипотезы о независимости ранговых признаков (корреляции Спирмена, Кендалла)"
   ]
  },
  {
   "cell_type": "markdown",
   "metadata": {},
   "source": [
    "### Данные"
   ]
  },
  {
   "cell_type": "markdown",
   "metadata": {},
   "source": [
    "*Источник:* https://www.kaggle.com/pawelswider/chess-tournaments-data-set/version/1\n",
    "\n",
    "*Название:* **Chess Tournaments Data Set**"
   ]
  },
  {
   "cell_type": "markdown",
   "metadata": {},
   "source": [
    "#### Описание данных"
   ]
  },
  {
   "cell_type": "markdown",
   "metadata": {},
   "source": [
    "Данные с турнира по шахматам"
   ]
  },
  {
   "cell_type": "code",
   "execution_count": 23,
   "metadata": {},
   "outputs": [],
   "source": [
    "dfChessTournament = pd.read_csv(\"./data/ChessData.csv\")"
   ]
  },
  {
   "cell_type": "code",
   "execution_count": 24,
   "metadata": {},
   "outputs": [
    {
     "data": {
      "text/html": [
       "<div>\n",
       "<style scoped>\n",
       "    .dataframe tbody tr th:only-of-type {\n",
       "        vertical-align: middle;\n",
       "    }\n",
       "\n",
       "    .dataframe tbody tr th {\n",
       "        vertical-align: top;\n",
       "    }\n",
       "\n",
       "    .dataframe thead th {\n",
       "        text-align: right;\n",
       "    }\n",
       "</style>\n",
       "<table border=\"1\" class=\"dataframe\">\n",
       "  <thead>\n",
       "    <tr style=\"text-align: right;\">\n",
       "      <th></th>\n",
       "      <th>TournamentID</th>\n",
       "      <th>Place</th>\n",
       "      <th>StartingPosition</th>\n",
       "      <th>PlayerID</th>\n",
       "      <th>Ranking</th>\n",
       "      <th>Points</th>\n",
       "      <th>TB1</th>\n",
       "      <th>TB2</th>\n",
       "      <th>RankingChange</th>\n",
       "    </tr>\n",
       "  </thead>\n",
       "  <tbody>\n",
       "    <tr>\n",
       "      <th>0</th>\n",
       "      <td>5</td>\n",
       "      <td>1</td>\n",
       "      <td>16</td>\n",
       "      <td>0</td>\n",
       "      <td>2026</td>\n",
       "      <td>7.5</td>\n",
       "      <td>39.5</td>\n",
       "      <td>49.5</td>\n",
       "      <td>2.43</td>\n",
       "    </tr>\n",
       "    <tr>\n",
       "      <th>1</th>\n",
       "      <td>5</td>\n",
       "      <td>2</td>\n",
       "      <td>14</td>\n",
       "      <td>1</td>\n",
       "      <td>2031</td>\n",
       "      <td>7.0</td>\n",
       "      <td>38.5</td>\n",
       "      <td>48.5</td>\n",
       "      <td>1.25</td>\n",
       "    </tr>\n",
       "    <tr>\n",
       "      <th>2</th>\n",
       "      <td>5</td>\n",
       "      <td>3</td>\n",
       "      <td>20</td>\n",
       "      <td>2</td>\n",
       "      <td>2012</td>\n",
       "      <td>7.0</td>\n",
       "      <td>31.5</td>\n",
       "      <td>41.5</td>\n",
       "      <td>1.04</td>\n",
       "    </tr>\n",
       "    <tr>\n",
       "      <th>3</th>\n",
       "      <td>5</td>\n",
       "      <td>4</td>\n",
       "      <td>7</td>\n",
       "      <td>3</td>\n",
       "      <td>2062</td>\n",
       "      <td>6.5</td>\n",
       "      <td>42.0</td>\n",
       "      <td>54.0</td>\n",
       "      <td>0.81</td>\n",
       "    </tr>\n",
       "    <tr>\n",
       "      <th>4</th>\n",
       "      <td>5</td>\n",
       "      <td>5</td>\n",
       "      <td>23</td>\n",
       "      <td>4</td>\n",
       "      <td>2004</td>\n",
       "      <td>6.5</td>\n",
       "      <td>41.5</td>\n",
       "      <td>53.5</td>\n",
       "      <td>1.70</td>\n",
       "    </tr>\n",
       "  </tbody>\n",
       "</table>\n",
       "</div>"
      ],
      "text/plain": [
       "   TournamentID  Place  StartingPosition  PlayerID  Ranking  Points   TB1  \\\n",
       "0             5      1                16         0     2026     7.5  39.5   \n",
       "1             5      2                14         1     2031     7.0  38.5   \n",
       "2             5      3                20         2     2012     7.0  31.5   \n",
       "3             5      4                 7         3     2062     6.5  42.0   \n",
       "4             5      5                23         4     2004     6.5  41.5   \n",
       "\n",
       "    TB2  RankingChange  \n",
       "0  49.5           2.43  \n",
       "1  48.5           1.25  \n",
       "2  41.5           1.04  \n",
       "3  54.0           0.81  \n",
       "4  53.5           1.70  "
      ]
     },
     "execution_count": 24,
     "metadata": {},
     "output_type": "execute_result"
    }
   ],
   "source": [
    "dfChessTournament.head()"
   ]
  },
  {
   "cell_type": "code",
   "execution_count": 25,
   "metadata": {},
   "outputs": [
    {
     "data": {
      "text/html": [
       "<div>\n",
       "<style scoped>\n",
       "    .dataframe tbody tr th:only-of-type {\n",
       "        vertical-align: middle;\n",
       "    }\n",
       "\n",
       "    .dataframe tbody tr th {\n",
       "        vertical-align: top;\n",
       "    }\n",
       "\n",
       "    .dataframe thead th {\n",
       "        text-align: right;\n",
       "    }\n",
       "</style>\n",
       "<table border=\"1\" class=\"dataframe\">\n",
       "  <thead>\n",
       "    <tr style=\"text-align: right;\">\n",
       "      <th></th>\n",
       "      <th>TournamentID</th>\n",
       "      <th>Place</th>\n",
       "      <th>StartingPosition</th>\n",
       "      <th>PlayerID</th>\n",
       "      <th>Ranking</th>\n",
       "      <th>Points</th>\n",
       "      <th>TB1</th>\n",
       "      <th>TB2</th>\n",
       "      <th>RankingChange</th>\n",
       "    </tr>\n",
       "  </thead>\n",
       "  <tbody>\n",
       "    <tr>\n",
       "      <th>TournamentID</th>\n",
       "      <td>1.000000</td>\n",
       "      <td>0.088003</td>\n",
       "      <td>0.050134</td>\n",
       "      <td>-0.554462</td>\n",
       "      <td>0.001021</td>\n",
       "      <td>-0.154593</td>\n",
       "      <td>-0.064695</td>\n",
       "      <td>-0.062071</td>\n",
       "      <td>-0.030051</td>\n",
       "    </tr>\n",
       "    <tr>\n",
       "      <th>Place</th>\n",
       "      <td>0.088003</td>\n",
       "      <td>1.000000</td>\n",
       "      <td>0.368761</td>\n",
       "      <td>0.176043</td>\n",
       "      <td>-0.352304</td>\n",
       "      <td>-0.960782</td>\n",
       "      <td>-0.551328</td>\n",
       "      <td>-0.539373</td>\n",
       "      <td>-0.328468</td>\n",
       "    </tr>\n",
       "    <tr>\n",
       "      <th>StartingPosition</th>\n",
       "      <td>0.050134</td>\n",
       "      <td>0.368761</td>\n",
       "      <td>1.000000</td>\n",
       "      <td>0.024985</td>\n",
       "      <td>-0.830518</td>\n",
       "      <td>-0.471707</td>\n",
       "      <td>-0.261003</td>\n",
       "      <td>-0.255189</td>\n",
       "      <td>0.217739</td>\n",
       "    </tr>\n",
       "    <tr>\n",
       "      <th>PlayerID</th>\n",
       "      <td>-0.554462</td>\n",
       "      <td>0.176043</td>\n",
       "      <td>0.024985</td>\n",
       "      <td>1.000000</td>\n",
       "      <td>-0.070964</td>\n",
       "      <td>-0.294735</td>\n",
       "      <td>-0.163942</td>\n",
       "      <td>-0.150402</td>\n",
       "      <td>-0.116177</td>\n",
       "    </tr>\n",
       "    <tr>\n",
       "      <th>Ranking</th>\n",
       "      <td>0.001021</td>\n",
       "      <td>-0.352304</td>\n",
       "      <td>-0.830518</td>\n",
       "      <td>-0.070964</td>\n",
       "      <td>1.000000</td>\n",
       "      <td>0.268474</td>\n",
       "      <td>0.217338</td>\n",
       "      <td>0.222787</td>\n",
       "      <td>-0.213329</td>\n",
       "    </tr>\n",
       "    <tr>\n",
       "      <th>Points</th>\n",
       "      <td>-0.154593</td>\n",
       "      <td>-0.960782</td>\n",
       "      <td>-0.471707</td>\n",
       "      <td>-0.294735</td>\n",
       "      <td>0.268474</td>\n",
       "      <td>1.000000</td>\n",
       "      <td>0.429282</td>\n",
       "      <td>0.429227</td>\n",
       "      <td>0.322381</td>\n",
       "    </tr>\n",
       "    <tr>\n",
       "      <th>TB1</th>\n",
       "      <td>-0.064695</td>\n",
       "      <td>-0.551328</td>\n",
       "      <td>-0.261003</td>\n",
       "      <td>-0.163942</td>\n",
       "      <td>0.217338</td>\n",
       "      <td>0.429282</td>\n",
       "      <td>1.000000</td>\n",
       "      <td>0.887868</td>\n",
       "      <td>0.335338</td>\n",
       "    </tr>\n",
       "    <tr>\n",
       "      <th>TB2</th>\n",
       "      <td>-0.062071</td>\n",
       "      <td>-0.539373</td>\n",
       "      <td>-0.255189</td>\n",
       "      <td>-0.150402</td>\n",
       "      <td>0.222787</td>\n",
       "      <td>0.429227</td>\n",
       "      <td>0.887868</td>\n",
       "      <td>1.000000</td>\n",
       "      <td>0.337306</td>\n",
       "    </tr>\n",
       "    <tr>\n",
       "      <th>RankingChange</th>\n",
       "      <td>-0.030051</td>\n",
       "      <td>-0.328468</td>\n",
       "      <td>0.217739</td>\n",
       "      <td>-0.116177</td>\n",
       "      <td>-0.213329</td>\n",
       "      <td>0.322381</td>\n",
       "      <td>0.335338</td>\n",
       "      <td>0.337306</td>\n",
       "      <td>1.000000</td>\n",
       "    </tr>\n",
       "  </tbody>\n",
       "</table>\n",
       "</div>"
      ],
      "text/plain": [
       "                  TournamentID     Place  StartingPosition  PlayerID  \\\n",
       "TournamentID          1.000000  0.088003          0.050134 -0.554462   \n",
       "Place                 0.088003  1.000000          0.368761  0.176043   \n",
       "StartingPosition      0.050134  0.368761          1.000000  0.024985   \n",
       "PlayerID             -0.554462  0.176043          0.024985  1.000000   \n",
       "Ranking               0.001021 -0.352304         -0.830518 -0.070964   \n",
       "Points               -0.154593 -0.960782         -0.471707 -0.294735   \n",
       "TB1                  -0.064695 -0.551328         -0.261003 -0.163942   \n",
       "TB2                  -0.062071 -0.539373         -0.255189 -0.150402   \n",
       "RankingChange        -0.030051 -0.328468          0.217739 -0.116177   \n",
       "\n",
       "                   Ranking    Points       TB1       TB2  RankingChange  \n",
       "TournamentID      0.001021 -0.154593 -0.064695 -0.062071      -0.030051  \n",
       "Place            -0.352304 -0.960782 -0.551328 -0.539373      -0.328468  \n",
       "StartingPosition -0.830518 -0.471707 -0.261003 -0.255189       0.217739  \n",
       "PlayerID         -0.070964 -0.294735 -0.163942 -0.150402      -0.116177  \n",
       "Ranking           1.000000  0.268474  0.217338  0.222787      -0.213329  \n",
       "Points            0.268474  1.000000  0.429282  0.429227       0.322381  \n",
       "TB1               0.217338  0.429282  1.000000  0.887868       0.335338  \n",
       "TB2               0.222787  0.429227  0.887868  1.000000       0.337306  \n",
       "RankingChange    -0.213329  0.322381  0.335338  0.337306       1.000000  "
      ]
     },
     "execution_count": 25,
     "metadata": {},
     "output_type": "execute_result"
    }
   ],
   "source": [
    "dfChessTournament.corr(method='kendall')"
   ]
  },
  {
   "cell_type": "code",
   "execution_count": 26,
   "metadata": {},
   "outputs": [
    {
     "data": {
      "text/html": [
       "<div>\n",
       "<style scoped>\n",
       "    .dataframe tbody tr th:only-of-type {\n",
       "        vertical-align: middle;\n",
       "    }\n",
       "\n",
       "    .dataframe tbody tr th {\n",
       "        vertical-align: top;\n",
       "    }\n",
       "\n",
       "    .dataframe thead th {\n",
       "        text-align: right;\n",
       "    }\n",
       "</style>\n",
       "<table border=\"1\" class=\"dataframe\">\n",
       "  <thead>\n",
       "    <tr style=\"text-align: right;\">\n",
       "      <th></th>\n",
       "      <th>TournamentID</th>\n",
       "      <th>Place</th>\n",
       "      <th>StartingPosition</th>\n",
       "      <th>PlayerID</th>\n",
       "      <th>Ranking</th>\n",
       "      <th>Points</th>\n",
       "      <th>TB1</th>\n",
       "      <th>TB2</th>\n",
       "      <th>RankingChange</th>\n",
       "    </tr>\n",
       "  </thead>\n",
       "  <tbody>\n",
       "    <tr>\n",
       "      <th>TournamentID</th>\n",
       "      <td>1.000000</td>\n",
       "      <td>0.059438</td>\n",
       "      <td>0.059438</td>\n",
       "      <td>-0.763340</td>\n",
       "      <td>0.036966</td>\n",
       "      <td>0.001712</td>\n",
       "      <td>0.004485</td>\n",
       "      <td>-0.005240</td>\n",
       "      <td>0.002407</td>\n",
       "    </tr>\n",
       "    <tr>\n",
       "      <th>Place</th>\n",
       "      <td>0.059438</td>\n",
       "      <td>1.000000</td>\n",
       "      <td>0.530357</td>\n",
       "      <td>0.191890</td>\n",
       "      <td>-0.501531</td>\n",
       "      <td>-0.980195</td>\n",
       "      <td>-0.708406</td>\n",
       "      <td>-0.703873</td>\n",
       "      <td>-0.478237</td>\n",
       "    </tr>\n",
       "    <tr>\n",
       "      <th>StartingPosition</th>\n",
       "      <td>0.059438</td>\n",
       "      <td>0.530357</td>\n",
       "      <td>1.000000</td>\n",
       "      <td>0.033347</td>\n",
       "      <td>-0.945827</td>\n",
       "      <td>-0.524074</td>\n",
       "      <td>-0.337175</td>\n",
       "      <td>-0.334790</td>\n",
       "      <td>0.323443</td>\n",
       "    </tr>\n",
       "    <tr>\n",
       "      <th>PlayerID</th>\n",
       "      <td>-0.763340</td>\n",
       "      <td>0.191890</td>\n",
       "      <td>0.033347</td>\n",
       "      <td>1.000000</td>\n",
       "      <td>-0.093876</td>\n",
       "      <td>-0.232411</td>\n",
       "      <td>-0.184413</td>\n",
       "      <td>-0.175775</td>\n",
       "      <td>-0.168498</td>\n",
       "    </tr>\n",
       "    <tr>\n",
       "      <th>Ranking</th>\n",
       "      <td>0.036966</td>\n",
       "      <td>-0.501531</td>\n",
       "      <td>-0.945827</td>\n",
       "      <td>-0.093876</td>\n",
       "      <td>1.000000</td>\n",
       "      <td>0.532037</td>\n",
       "      <td>0.360176</td>\n",
       "      <td>0.356913</td>\n",
       "      <td>-0.311925</td>\n",
       "    </tr>\n",
       "    <tr>\n",
       "      <th>Points</th>\n",
       "      <td>0.001712</td>\n",
       "      <td>-0.980195</td>\n",
       "      <td>-0.524074</td>\n",
       "      <td>-0.232411</td>\n",
       "      <td>0.532037</td>\n",
       "      <td>1.000000</td>\n",
       "      <td>0.638643</td>\n",
       "      <td>0.633260</td>\n",
       "      <td>0.453329</td>\n",
       "    </tr>\n",
       "    <tr>\n",
       "      <th>TB1</th>\n",
       "      <td>0.004485</td>\n",
       "      <td>-0.708406</td>\n",
       "      <td>-0.337175</td>\n",
       "      <td>-0.184413</td>\n",
       "      <td>0.360176</td>\n",
       "      <td>0.638643</td>\n",
       "      <td>1.000000</td>\n",
       "      <td>0.990012</td>\n",
       "      <td>0.493594</td>\n",
       "    </tr>\n",
       "    <tr>\n",
       "      <th>TB2</th>\n",
       "      <td>-0.005240</td>\n",
       "      <td>-0.703873</td>\n",
       "      <td>-0.334790</td>\n",
       "      <td>-0.175775</td>\n",
       "      <td>0.356913</td>\n",
       "      <td>0.633260</td>\n",
       "      <td>0.990012</td>\n",
       "      <td>1.000000</td>\n",
       "      <td>0.496177</td>\n",
       "    </tr>\n",
       "    <tr>\n",
       "      <th>RankingChange</th>\n",
       "      <td>0.002407</td>\n",
       "      <td>-0.478237</td>\n",
       "      <td>0.323443</td>\n",
       "      <td>-0.168498</td>\n",
       "      <td>-0.311925</td>\n",
       "      <td>0.453329</td>\n",
       "      <td>0.493594</td>\n",
       "      <td>0.496177</td>\n",
       "      <td>1.000000</td>\n",
       "    </tr>\n",
       "  </tbody>\n",
       "</table>\n",
       "</div>"
      ],
      "text/plain": [
       "                  TournamentID     Place  StartingPosition  PlayerID  \\\n",
       "TournamentID          1.000000  0.059438          0.059438 -0.763340   \n",
       "Place                 0.059438  1.000000          0.530357  0.191890   \n",
       "StartingPosition      0.059438  0.530357          1.000000  0.033347   \n",
       "PlayerID             -0.763340  0.191890          0.033347  1.000000   \n",
       "Ranking               0.036966 -0.501531         -0.945827 -0.093876   \n",
       "Points                0.001712 -0.980195         -0.524074 -0.232411   \n",
       "TB1                   0.004485 -0.708406         -0.337175 -0.184413   \n",
       "TB2                  -0.005240 -0.703873         -0.334790 -0.175775   \n",
       "RankingChange         0.002407 -0.478237          0.323443 -0.168498   \n",
       "\n",
       "                   Ranking    Points       TB1       TB2  RankingChange  \n",
       "TournamentID      0.036966  0.001712  0.004485 -0.005240       0.002407  \n",
       "Place            -0.501531 -0.980195 -0.708406 -0.703873      -0.478237  \n",
       "StartingPosition -0.945827 -0.524074 -0.337175 -0.334790       0.323443  \n",
       "PlayerID         -0.093876 -0.232411 -0.184413 -0.175775      -0.168498  \n",
       "Ranking           1.000000  0.532037  0.360176  0.356913      -0.311925  \n",
       "Points            0.532037  1.000000  0.638643  0.633260       0.453329  \n",
       "TB1               0.360176  0.638643  1.000000  0.990012       0.493594  \n",
       "TB2               0.356913  0.633260  0.990012  1.000000       0.496177  \n",
       "RankingChange    -0.311925  0.453329  0.493594  0.496177       1.000000  "
      ]
     },
     "execution_count": 26,
     "metadata": {},
     "output_type": "execute_result"
    }
   ],
   "source": [
    "dfChessTournament.corr(method='spearman')"
   ]
  },
  {
   "cell_type": "markdown",
   "metadata": {},
   "source": [
    "Можно видеть что у нас имеется корреляция между `Place` и `StartingPosition`"
   ]
  },
  {
   "cell_type": "markdown",
   "metadata": {},
   "source": [
    "### Гипотеза"
   ]
  },
  {
   "cell_type": "markdown",
   "metadata": {},
   "source": [
    "$H_0$ $-$ параметры `Place` и `StartingPosition` независимы\n",
    "\n",
    "$H_1$ $-$ параметры `Place` и `StartingPosition` зависимы"
   ]
  },
  {
   "cell_type": "code",
   "execution_count": 27,
   "metadata": {},
   "outputs": [
    {
     "name": "stdout",
     "output_type": "stream",
     "text": [
      "Kendall correlation test, Kendall’s tau: 0.379832, p-value: 0.000000\n"
     ]
    }
   ],
   "source": [
    "print(\"Kendall correlation test, Kendall’s tau: %f, p-value: %f\" % stats.kendalltau(dfChessTournament['Place'], dfChessTournament['StartingPosition']))"
   ]
  },
  {
   "cell_type": "markdown",
   "metadata": {},
   "source": [
    "Следовательно, гипотеза $H_0$ отвергается и мы отдаём предпочтение гипотизе $H_1$"
   ]
  },
  {
   "cell_type": "markdown",
   "metadata": {},
   "source": [
    "#### Выводы"
   ]
  },
  {
   "cell_type": "markdown",
   "metadata": {},
   "source": [
    "Следовательно, признаки `Place` и `StartingPosition` являются зависимыми."
   ]
  },
  {
   "cell_type": "markdown",
   "metadata": {},
   "source": [
    "## Проверка гипотезы о независимости номинативных признаков ($\\chi^2$)"
   ]
  },
  {
   "cell_type": "markdown",
   "metadata": {},
   "source": [
    "### Данные"
   ]
  },
  {
   "cell_type": "markdown",
   "metadata": {},
   "source": [
    "Подходящих данных для демонтрации данного метода я не нашёл, поэтому я создал свои тестовые данные, которые описывают сколько голосов отдали женщины и мужчины за каждого кандидата."
   ]
  },
  {
   "cell_type": "markdown",
   "metadata": {},
   "source": [
    "### Гипотеза"
   ]
  },
  {
   "cell_type": "markdown",
   "metadata": {},
   "source": [
    "$H_0$ $-$ выбор кандидата связан с полом\n",
    "\n",
    "$H_1$ $-$ выбор кандидата связан с не полом"
   ]
  },
  {
   "cell_type": "code",
   "execution_count": 28,
   "metadata": {},
   "outputs": [
    {
     "data": {
      "text/html": [
       "<div>\n",
       "<style scoped>\n",
       "    .dataframe tbody tr th:only-of-type {\n",
       "        vertical-align: middle;\n",
       "    }\n",
       "\n",
       "    .dataframe tbody tr th {\n",
       "        vertical-align: top;\n",
       "    }\n",
       "\n",
       "    .dataframe thead th {\n",
       "        text-align: right;\n",
       "    }\n",
       "</style>\n",
       "<table border=\"1\" class=\"dataframe\">\n",
       "  <thead>\n",
       "    <tr style=\"text-align: right;\">\n",
       "      <th></th>\n",
       "      <th>Candidate 1</th>\n",
       "      <th>Candidate 2</th>\n",
       "      <th>Candidate 3</th>\n",
       "      <th>Candidate 4</th>\n",
       "    </tr>\n",
       "  </thead>\n",
       "  <tbody>\n",
       "    <tr>\n",
       "      <th>Male</th>\n",
       "      <td>48</td>\n",
       "      <td>22</td>\n",
       "      <td>33</td>\n",
       "      <td>47</td>\n",
       "    </tr>\n",
       "    <tr>\n",
       "      <th>Female</th>\n",
       "      <td>35</td>\n",
       "      <td>36</td>\n",
       "      <td>42</td>\n",
       "      <td>27</td>\n",
       "    </tr>\n",
       "  </tbody>\n",
       "</table>\n",
       "</div>"
      ],
      "text/plain": [
       "        Candidate 1  Candidate 2  Candidate 3  Candidate 4\n",
       "Male             48           22           33           47\n",
       "Female           35           36           42           27"
      ]
     },
     "execution_count": 28,
     "metadata": {},
     "output_type": "execute_result"
    }
   ],
   "source": [
    "candidates = pd.DataFrame(\n",
    "    [\n",
    "        [48, 22, 33, 47],\n",
    "        [35, 36, 42, 27]\n",
    "    ],\n",
    "    index=[\"Male\",\"Female\"],\n",
    "    columns=[\"Candidate 1\",\"Candidate 2\",\"Candidate 3\",\"Candidate 4\"])\n",
    "candidates"
   ]
  },
  {
   "cell_type": "code",
   "execution_count": 29,
   "metadata": {},
   "outputs": [
    {
     "name": "stdout",
     "output_type": "stream",
     "text": [
      "Chi square test, chi2: 11.569790, p-value: 0.009012, dof: 3.000000\n"
     ]
    }
   ],
   "source": [
    "print(\"Chi square test, chi2: %f, p-value: %f, dof: %f\" % stats.chi2_contingency(candidates)[:3])"
   ]
  },
  {
   "cell_type": "markdown",
   "metadata": {},
   "source": [
    "Следовательно, гипотеза $H_0$ отвергается и мы отдаём предпочтение гипотизе $H_1$"
   ]
  },
  {
   "cell_type": "markdown",
   "metadata": {},
   "source": [
    "#### Выводы"
   ]
  },
  {
   "cell_type": "markdown",
   "metadata": {},
   "source": [
    "Следовательно, выбор кандидата не связан с полом."
   ]
  },
  {
   "cell_type": "markdown",
   "metadata": {},
   "source": [
    "## Проверка гипотезы о равенстве дисперсий (критерий Флингера-Килина, критерий Ливена, F-критерий)"
   ]
  },
  {
   "cell_type": "markdown",
   "metadata": {},
   "source": [
    "### Данные"
   ]
  },
  {
   "cell_type": "markdown",
   "metadata": {},
   "source": [
    "Возьмём всё те же данные со студентами"
   ]
  },
  {
   "cell_type": "markdown",
   "metadata": {},
   "source": [
    "### Критерий Флингера-Килина"
   ]
  },
  {
   "cell_type": "markdown",
   "metadata": {},
   "source": [
    "#### Гипотеза"
   ]
  },
  {
   "cell_type": "markdown",
   "metadata": {},
   "source": [
    "$H_0 : \\sigma_1 = \\sigma_2$\n",
    "\n",
    "$H_1 : \\sigma_1 \\neq \\sigma_2$"
   ]
  },
  {
   "cell_type": "code",
   "execution_count": 30,
   "metadata": {},
   "outputs": [
    {
     "name": "stdout",
     "output_type": "stream",
     "text": [
      "Fligner test, statistic: 0.833522, p-value: 0.361256\n"
     ]
    }
   ],
   "source": [
    "print(\"Fligner test, statistic: %f, p-value: %f\" % stats.fligner(dfSelfControl.After, dfSelfControl.Before))"
   ]
  },
  {
   "cell_type": "markdown",
   "metadata": {},
   "source": [
    "Следовательно, гипотеза $H_0$ отвергается и мы отдаём предпочтение гипотизе $H_1$"
   ]
  },
  {
   "cell_type": "markdown",
   "metadata": {},
   "source": [
    "### Критерий Ливена"
   ]
  },
  {
   "cell_type": "markdown",
   "metadata": {},
   "source": [
    "#### Гипотеза"
   ]
  },
  {
   "cell_type": "markdown",
   "metadata": {},
   "source": [
    "$H_0 : \\sigma_1 = \\sigma_2$\n",
    "\n",
    "$H_1 : \\sigma_1 \\neq \\sigma_2$"
   ]
  },
  {
   "cell_type": "code",
   "execution_count": 31,
   "metadata": {},
   "outputs": [
    {
     "name": "stdout",
     "output_type": "stream",
     "text": [
      "Levene test, statistic: 1.572575, p-value: 0.216455\n"
     ]
    }
   ],
   "source": [
    "print(\"Levene test, statistic: %f, p-value: %f\" % stats.levene(dfSelfControl.After, dfSelfControl.Before))"
   ]
  },
  {
   "cell_type": "markdown",
   "metadata": {},
   "source": [
    "Следовательно, гипотеза $H_0$ отвергается и мы отдаём предпочтение гипотизе $H_1$"
   ]
  },
  {
   "cell_type": "markdown",
   "metadata": {},
   "source": [
    "### F-критерий"
   ]
  },
  {
   "cell_type": "markdown",
   "metadata": {},
   "source": [
    "#### Гипотеза"
   ]
  },
  {
   "cell_type": "markdown",
   "metadata": {},
   "source": [
    "$H_0 : \\sigma_1 = \\sigma_2$\n",
    "\n",
    "$H_1 : \\sigma_1 \\neq \\sigma_2$"
   ]
  },
  {
   "cell_type": "code",
   "execution_count": 32,
   "metadata": {},
   "outputs": [
    {
     "name": "stdout",
     "output_type": "stream",
     "text": [
      "F test, statistic: 3.342433, p-value: 0.074299\n"
     ]
    }
   ],
   "source": [
    "print(\"F test, statistic: %f, p-value: %f\" % stats.f_oneway(dfSelfControl.After, dfSelfControl.Before))"
   ]
  },
  {
   "cell_type": "markdown",
   "metadata": {},
   "source": [
    "Следовательно, гипотеза $H_0$ отвергается и мы отдаём предпочтение гипотизе $H_1$"
   ]
  },
  {
   "cell_type": "markdown",
   "metadata": {},
   "source": [
    "#### Выводы"
   ]
  },
  {
   "cell_type": "markdown",
   "metadata": {},
   "source": [
    "Следовательно, дисперсия признака развитости самоконтроля у студентов-медиков до прохождения курсов гуманитарных наук не равна дисперсии после прохождения этих курсов. Это может свидетельствовать о том, что курсы работают."
   ]
  },
  {
   "cell_type": "markdown",
   "metadata": {},
   "source": [
    "## Критерий согласия Стьюдента (одновыборочный)"
   ]
  },
  {
   "cell_type": "markdown",
   "metadata": {},
   "source": [
    "Исходя из того, что способность адаптироваться измеряется по шкале [0, 100], можно предположить, что при хорошей калибровке теста средняя способоность к адаптированию студентов составляет 50. Тогда для того, чтобы проверить гипотезу о том, что студенты в выборке действительно в среднем хуже адаптируются и им нужно развивать этот навых, давайте проверим, что их адаптивность отличается от средней (не равна 50). "
   ]
  },
  {
   "cell_type": "markdown",
   "metadata": {},
   "source": [
    "$H_0$  $-$ среднее значение способности к подавлению испульсивных поведенческих реакций равно 50\n",
    "\n",
    "$H_1$  $-$ не равно"
   ]
  },
  {
   "cell_type": "code",
   "execution_count": 33,
   "metadata": {},
   "outputs": [
    {
     "data": {
      "text/plain": [
       "Ttest_1sampResult(statistic=-14.573229621309633, pvalue=8.767701148820637e-13)"
      ]
     },
     "execution_count": 33,
     "metadata": {},
     "output_type": "execute_result"
    }
   ],
   "source": [
    "stats.ttest_1samp(dfAdaptability.Before, 50.0)"
   ]
  },
  {
   "cell_type": "code",
   "execution_count": 34,
   "metadata": {},
   "outputs": [
    {
     "name": "stdout",
     "output_type": "stream",
     "text": [
      "95% confidence interval: [35.399598, 38.861272]\n"
     ]
    }
   ],
   "source": [
    "print(\"95%% confidence interval: [%f, %f]\" % zconfint(dfAdaptability.Before))"
   ]
  },
  {
   "cell_type": "markdown",
   "metadata": {},
   "source": [
    "Следовательно, гипотеза $H_0$ отвергается и мы отдаём предпочтение гипотизе $H_1$\n",
    "\n",
    "Значения колеблятся в промежутке: [35.399598, 38.861272]"
   ]
  },
  {
   "cell_type": "markdown",
   "metadata": {},
   "source": [
    "#### Выводы"
   ]
  },
  {
   "cell_type": "markdown",
   "metadata": {},
   "source": [
    "Следовательно, способность адаптироваться у студентов до прохождения курсов колеблется в промежутке: [35.399598, 38.861272]."
   ]
  },
  {
   "cell_type": "markdown",
   "metadata": {},
   "source": [
    "## Проверка гипотезы о равенстве средних значений для независимых выборок (двухвыборочный критерий Стьюдента для независимых выборок)"
   ]
  },
  {
   "cell_type": "markdown",
   "metadata": {},
   "source": [
    "Ранее мы уже определили, что наши распределения в выборках существенно не отличаются от нормальных."
   ]
  },
  {
   "cell_type": "markdown",
   "metadata": {},
   "source": [
    "Мы можем сравнить студентов, которые обучались гуманитарным наукам и студентов, которые не обучались гуманитарным наукам."
   ]
  },
  {
   "cell_type": "markdown",
   "metadata": {},
   "source": [
    "Показатели студентов после обучения гуманитрным наукам:"
   ]
  },
  {
   "cell_type": "code",
   "execution_count": 35,
   "metadata": {},
   "outputs": [
    {
     "data": {
      "text/html": [
       "<div>\n",
       "<style scoped>\n",
       "    .dataframe tbody tr th:only-of-type {\n",
       "        vertical-align: middle;\n",
       "    }\n",
       "\n",
       "    .dataframe tbody tr th {\n",
       "        vertical-align: top;\n",
       "    }\n",
       "\n",
       "    .dataframe thead th {\n",
       "        text-align: right;\n",
       "    }\n",
       "</style>\n",
       "<table border=\"1\" class=\"dataframe\">\n",
       "  <thead>\n",
       "    <tr style=\"text-align: right;\">\n",
       "      <th></th>\n",
       "      <th>Adaptability</th>\n",
       "      <th>SelfControl</th>\n",
       "      <th>SelfSufficiency</th>\n",
       "      <th>Optimism</th>\n",
       "      <th>Persistence</th>\n",
       "    </tr>\n",
       "  </thead>\n",
       "  <tbody>\n",
       "    <tr>\n",
       "      <th>0</th>\n",
       "      <td>37</td>\n",
       "      <td>33</td>\n",
       "      <td>41</td>\n",
       "      <td>34</td>\n",
       "      <td>41</td>\n",
       "    </tr>\n",
       "    <tr>\n",
       "      <th>1</th>\n",
       "      <td>43</td>\n",
       "      <td>36</td>\n",
       "      <td>30</td>\n",
       "      <td>38</td>\n",
       "      <td>34</td>\n",
       "    </tr>\n",
       "    <tr>\n",
       "      <th>2</th>\n",
       "      <td>38</td>\n",
       "      <td>23</td>\n",
       "      <td>42</td>\n",
       "      <td>47</td>\n",
       "      <td>35</td>\n",
       "    </tr>\n",
       "    <tr>\n",
       "      <th>3</th>\n",
       "      <td>37</td>\n",
       "      <td>41</td>\n",
       "      <td>38</td>\n",
       "      <td>45</td>\n",
       "      <td>34</td>\n",
       "    </tr>\n",
       "    <tr>\n",
       "      <th>4</th>\n",
       "      <td>31</td>\n",
       "      <td>31</td>\n",
       "      <td>26</td>\n",
       "      <td>30</td>\n",
       "      <td>36</td>\n",
       "    </tr>\n",
       "  </tbody>\n",
       "</table>\n",
       "</div>"
      ],
      "text/plain": [
       "   Adaptability  SelfControl  SelfSufficiency  Optimism  Persistence\n",
       "0            37           33               41        34           41\n",
       "1            43           36               30        38           34\n",
       "2            38           23               42        47           35\n",
       "3            37           41               38        45           34\n",
       "4            31           31               26        30           36"
      ]
     },
     "execution_count": 35,
     "metadata": {},
     "output_type": "execute_result"
    }
   ],
   "source": [
    "dfAfter.head()"
   ]
  },
  {
   "cell_type": "markdown",
   "metadata": {},
   "source": [
    "Показатели студентов не обучающихся гумантирным наукам:"
   ]
  },
  {
   "cell_type": "code",
   "execution_count": 36,
   "metadata": {},
   "outputs": [],
   "source": [
    "dfCtrlAfter = pd.read_excel('./data/data.xlsx', sheet_name=\"ResilienceCtrlGrpAfter\")"
   ]
  },
  {
   "cell_type": "code",
   "execution_count": 37,
   "metadata": {},
   "outputs": [
    {
     "data": {
      "text/html": [
       "<div>\n",
       "<style scoped>\n",
       "    .dataframe tbody tr th:only-of-type {\n",
       "        vertical-align: middle;\n",
       "    }\n",
       "\n",
       "    .dataframe tbody tr th {\n",
       "        vertical-align: top;\n",
       "    }\n",
       "\n",
       "    .dataframe thead th {\n",
       "        text-align: right;\n",
       "    }\n",
       "</style>\n",
       "<table border=\"1\" class=\"dataframe\">\n",
       "  <thead>\n",
       "    <tr style=\"text-align: right;\">\n",
       "      <th></th>\n",
       "      <th>Adaptability</th>\n",
       "      <th>SelfControl</th>\n",
       "      <th>SelfSufficiency</th>\n",
       "      <th>Optimism</th>\n",
       "      <th>Persistence</th>\n",
       "    </tr>\n",
       "  </thead>\n",
       "  <tbody>\n",
       "    <tr>\n",
       "      <th>0</th>\n",
       "      <td>35</td>\n",
       "      <td>27</td>\n",
       "      <td>35</td>\n",
       "      <td>41</td>\n",
       "      <td>33</td>\n",
       "    </tr>\n",
       "    <tr>\n",
       "      <th>1</th>\n",
       "      <td>37</td>\n",
       "      <td>29</td>\n",
       "      <td>32</td>\n",
       "      <td>40</td>\n",
       "      <td>32</td>\n",
       "    </tr>\n",
       "    <tr>\n",
       "      <th>2</th>\n",
       "      <td>39</td>\n",
       "      <td>32</td>\n",
       "      <td>28</td>\n",
       "      <td>40</td>\n",
       "      <td>38</td>\n",
       "    </tr>\n",
       "    <tr>\n",
       "      <th>3</th>\n",
       "      <td>36</td>\n",
       "      <td>44</td>\n",
       "      <td>35</td>\n",
       "      <td>43</td>\n",
       "      <td>42</td>\n",
       "    </tr>\n",
       "    <tr>\n",
       "      <th>4</th>\n",
       "      <td>48</td>\n",
       "      <td>41</td>\n",
       "      <td>28</td>\n",
       "      <td>45</td>\n",
       "      <td>37</td>\n",
       "    </tr>\n",
       "  </tbody>\n",
       "</table>\n",
       "</div>"
      ],
      "text/plain": [
       "   Adaptability  SelfControl  SelfSufficiency  Optimism  Persistence\n",
       "0            35           27               35        41           33\n",
       "1            37           29               32        40           32\n",
       "2            39           32               28        40           38\n",
       "3            36           44               35        43           42\n",
       "4            48           41               28        45           37"
      ]
     },
     "execution_count": 37,
     "metadata": {},
     "output_type": "execute_result"
    }
   ],
   "source": [
    "dfCtrlAfter.head()"
   ]
  },
  {
   "cell_type": "markdown",
   "metadata": {},
   "source": [
    "Объединяем данные:"
   ]
  },
  {
   "cell_type": "code",
   "execution_count": 38,
   "metadata": {},
   "outputs": [],
   "source": [
    "dfGroups = pd.DataFrame({\"Pass\": dfAfter[:15][\"Adaptability\"], \"No\": dfCtrlAfter[\"Adaptability\"]})"
   ]
  },
  {
   "cell_type": "code",
   "execution_count": 39,
   "metadata": {},
   "outputs": [
    {
     "data": {
      "text/html": [
       "<div>\n",
       "<style scoped>\n",
       "    .dataframe tbody tr th:only-of-type {\n",
       "        vertical-align: middle;\n",
       "    }\n",
       "\n",
       "    .dataframe tbody tr th {\n",
       "        vertical-align: top;\n",
       "    }\n",
       "\n",
       "    .dataframe thead th {\n",
       "        text-align: right;\n",
       "    }\n",
       "</style>\n",
       "<table border=\"1\" class=\"dataframe\">\n",
       "  <thead>\n",
       "    <tr style=\"text-align: right;\">\n",
       "      <th></th>\n",
       "      <th>Pass</th>\n",
       "      <th>No</th>\n",
       "    </tr>\n",
       "  </thead>\n",
       "  <tbody>\n",
       "    <tr>\n",
       "      <th>0</th>\n",
       "      <td>37</td>\n",
       "      <td>35</td>\n",
       "    </tr>\n",
       "    <tr>\n",
       "      <th>1</th>\n",
       "      <td>43</td>\n",
       "      <td>37</td>\n",
       "    </tr>\n",
       "    <tr>\n",
       "      <th>2</th>\n",
       "      <td>38</td>\n",
       "      <td>39</td>\n",
       "    </tr>\n",
       "    <tr>\n",
       "      <th>3</th>\n",
       "      <td>37</td>\n",
       "      <td>36</td>\n",
       "    </tr>\n",
       "    <tr>\n",
       "      <th>4</th>\n",
       "      <td>31</td>\n",
       "      <td>48</td>\n",
       "    </tr>\n",
       "  </tbody>\n",
       "</table>\n",
       "</div>"
      ],
      "text/plain": [
       "   Pass  No\n",
       "0    37  35\n",
       "1    43  37\n",
       "2    38  39\n",
       "3    37  36\n",
       "4    31  48"
      ]
     },
     "execution_count": 39,
     "metadata": {},
     "output_type": "execute_result"
    }
   ],
   "source": [
    "dfGroups.head()"
   ]
  },
  {
   "cell_type": "markdown",
   "metadata": {},
   "source": [
    "### Гипотеза"
   ]
  },
  {
   "cell_type": "markdown",
   "metadata": {},
   "source": [
    "$H_0$ $-$ средние значения развитости адаптивности одинаковы для студентов, прошедших курсы гуманитарных наук, и для студентов не прошедших\n",
    "\n",
    "$H_1$ $-$ не одинаковы"
   ]
  },
  {
   "cell_type": "code",
   "execution_count": 40,
   "metadata": {},
   "outputs": [
    {
     "data": {
      "text/plain": [
       "Ttest_indResult(statistic=1.8455494118497473, pvalue=0.07631491381245319)"
      ]
     },
     "execution_count": 40,
     "metadata": {},
     "output_type": "execute_result"
    }
   ],
   "source": [
    "stats.ttest_ind(dfGroups.Pass, dfGroups.No, equal_var = False)"
   ]
  },
  {
   "cell_type": "code",
   "execution_count": 41,
   "metadata": {},
   "outputs": [
    {
     "name": "stdout",
     "output_type": "stream",
     "text": [
      "95% confidence interval: [-6.058668, 0.325334]\n"
     ]
    }
   ],
   "source": [
    "cm = CompareMeans(DescrStatsW(dfGroups.No), DescrStatsW(dfGroups.Pass))\n",
    "print(\"95%% confidence interval: [%f, %f]\" % cm.tconfint_diff(usevar='unequal'))"
   ]
  },
  {
   "cell_type": "markdown",
   "metadata": {},
   "source": [
    "Следовательно, гипотеза $H_0$ отвергается и мы отдаём предпочтение гипотизе $H_1$"
   ]
  },
  {
   "cell_type": "markdown",
   "metadata": {},
   "source": [
    "#### Выводы"
   ]
  },
  {
   "cell_type": "markdown",
   "metadata": {},
   "source": [
    "Следовательно, средние значения развитости адаптивности не одинаковы для студентов, прошедших курсы гуманитарных наук, и для студентов не прошедших."
   ]
  },
  {
   "cell_type": "markdown",
   "metadata": {},
   "source": [
    "## Проверка гипотезы о равенстве средних значений для зависимых выборок (двухвыборочный критерий Стьюдента для зависимых выборок)"
   ]
  },
  {
   "cell_type": "markdown",
   "metadata": {},
   "source": [
    "Для того, чтобы использовать критерй Стьюдента для связанных выборок, давайте проверим, что распределение попарных разностей существенно не отличается от нормального."
   ]
  },
  {
   "cell_type": "code",
   "execution_count": 42,
   "metadata": {},
   "outputs": [
    {
     "data": {
      "image/png": "[encoded data removed]",
      "text/plain": [
       "<Figure size 432x288 with 1 Axes>"
      ]
     },
     "metadata": {
      "needs_background": "light"
     },
     "output_type": "display_data"
    }
   ],
   "source": [
    "stats.probplot(dfGroups.Pass - dfGroups.No, dist = \"norm\", plot = pylab)\n",
    "pylab.show()"
   ]
  },
  {
   "cell_type": "markdown",
   "metadata": {},
   "source": [
    "### Гипотеза"
   ]
  },
  {
   "cell_type": "markdown",
   "metadata": {},
   "source": [
    "$H_0$ $-$ средние значения развитости адаптивности одинаковы для студентов, прошедших курсы гуманитарных наук, и для студентов не прошедших\n",
    "\n",
    "$H_1$ $-$ не одинаковы"
   ]
  },
  {
   "cell_type": "code",
   "execution_count": 43,
   "metadata": {},
   "outputs": [
    {
     "data": {
      "text/plain": [
       "Ttest_relResult(statistic=1.591034434903623, pvalue=0.13392293097334257)"
      ]
     },
     "execution_count": 43,
     "metadata": {},
     "output_type": "execute_result"
    }
   ],
   "source": [
    "stats.ttest_rel(dfGroups.Pass, dfGroups.No)"
   ]
  },
  {
   "cell_type": "code",
   "execution_count": 44,
   "metadata": {},
   "outputs": [
    {
     "name": "stdout",
     "output_type": "stream",
     "text": [
      "95% confidence interval: [-0.997730, 6.731064]\n"
     ]
    }
   ],
   "source": [
    "print(\"95%% confidence interval: [%f, %f]\" % DescrStatsW(dfGroups.Pass - dfGroups.No).tconfint_mean())"
   ]
  },
  {
   "cell_type": "markdown",
   "metadata": {},
   "source": [
    "Следовательно, гипотеза $H_0$ отвергается и мы отдаём предпочтение гипотизе $H_1$"
   ]
  },
  {
   "cell_type": "markdown",
   "metadata": {},
   "source": [
    "#### Выводы"
   ]
  },
  {
   "cell_type": "markdown",
   "metadata": {},
   "source": [
    "Следовательно, средние значения развитости адаптивности не одинаковы для студентов, прошедших курсы гуманитарных наук, и для студентов не прошедших."
   ]
  },
  {
   "cell_type": "markdown",
   "metadata": {},
   "source": [
    "## Проверка гипотезы о равенстве медиан для независимых выборок (ранговый критерий Манна-Уитни, перестановочный критерий)"
   ]
  },
  {
   "cell_type": "markdown",
   "metadata": {},
   "source": [
    "### Данные"
   ]
  },
  {
   "cell_type": "markdown",
   "metadata": {},
   "source": [
    "*Источник:* https://fred.stlouisfed.org/series/COSTHPI\n",
    "\n",
    "*Название:* **All-Transactions House Price Index for Colorado**"
   ]
  },
  {
   "cell_type": "markdown",
   "metadata": {},
   "source": [
    "#### Описание данных"
   ]
  },
  {
   "cell_type": "markdown",
   "metadata": {},
   "source": [
    "Данные показывают индекс цен на дома в Колорадо "
   ]
  },
  {
   "cell_type": "code",
   "execution_count": 45,
   "metadata": {},
   "outputs": [],
   "source": [
    "dfPrice = pd.read_csv(\"./data/Price.csv\")"
   ]
  },
  {
   "cell_type": "code",
   "execution_count": 46,
   "metadata": {},
   "outputs": [
    {
     "data": {
      "text/html": [
       "<div>\n",
       "<style scoped>\n",
       "    .dataframe tbody tr th:only-of-type {\n",
       "        vertical-align: middle;\n",
       "    }\n",
       "\n",
       "    .dataframe tbody tr th {\n",
       "        vertical-align: top;\n",
       "    }\n",
       "\n",
       "    .dataframe thead th {\n",
       "        text-align: right;\n",
       "    }\n",
       "</style>\n",
       "<table border=\"1\" class=\"dataframe\">\n",
       "  <thead>\n",
       "    <tr style=\"text-align: right;\">\n",
       "      <th></th>\n",
       "      <th>DATE</th>\n",
       "      <th>COSTHPI</th>\n",
       "    </tr>\n",
       "  </thead>\n",
       "  <tbody>\n",
       "    <tr>\n",
       "      <th>0</th>\n",
       "      <td>1975-01-01</td>\n",
       "      <td>54.35</td>\n",
       "    </tr>\n",
       "    <tr>\n",
       "      <th>1</th>\n",
       "      <td>1975-04-01</td>\n",
       "      <td>54.63</td>\n",
       "    </tr>\n",
       "    <tr>\n",
       "      <th>2</th>\n",
       "      <td>1975-07-01</td>\n",
       "      <td>54.71</td>\n",
       "    </tr>\n",
       "    <tr>\n",
       "      <th>3</th>\n",
       "      <td>1975-10-01</td>\n",
       "      <td>54.82</td>\n",
       "    </tr>\n",
       "    <tr>\n",
       "      <th>4</th>\n",
       "      <td>1976-01-01</td>\n",
       "      <td>54.82</td>\n",
       "    </tr>\n",
       "  </tbody>\n",
       "</table>\n",
       "</div>"
      ],
      "text/plain": [
       "         DATE  COSTHPI\n",
       "0  1975-01-01    54.35\n",
       "1  1975-04-01    54.63\n",
       "2  1975-07-01    54.71\n",
       "3  1975-10-01    54.82\n",
       "4  1976-01-01    54.82"
      ]
     },
     "execution_count": 46,
     "metadata": {},
     "output_type": "execute_result"
    }
   ],
   "source": [
    "dfPrice.head()"
   ]
  },
  {
   "cell_type": "code",
   "execution_count": 47,
   "metadata": {},
   "outputs": [],
   "source": [
    "dfPrice[\"Year\"] = [int(d[:4]) for d in dfPrice[\"DATE\"]]"
   ]
  },
  {
   "cell_type": "code",
   "execution_count": 48,
   "metadata": {},
   "outputs": [
    {
     "data": {
      "text/html": [
       "<div>\n",
       "<style scoped>\n",
       "    .dataframe tbody tr th:only-of-type {\n",
       "        vertical-align: middle;\n",
       "    }\n",
       "\n",
       "    .dataframe tbody tr th {\n",
       "        vertical-align: top;\n",
       "    }\n",
       "\n",
       "    .dataframe thead th {\n",
       "        text-align: right;\n",
       "    }\n",
       "</style>\n",
       "<table border=\"1\" class=\"dataframe\">\n",
       "  <thead>\n",
       "    <tr style=\"text-align: right;\">\n",
       "      <th></th>\n",
       "      <th>DATE</th>\n",
       "      <th>COSTHPI</th>\n",
       "      <th>Year</th>\n",
       "    </tr>\n",
       "  </thead>\n",
       "  <tbody>\n",
       "    <tr>\n",
       "      <th>0</th>\n",
       "      <td>1975-01-01</td>\n",
       "      <td>54.35</td>\n",
       "      <td>1975</td>\n",
       "    </tr>\n",
       "    <tr>\n",
       "      <th>1</th>\n",
       "      <td>1975-04-01</td>\n",
       "      <td>54.63</td>\n",
       "      <td>1975</td>\n",
       "    </tr>\n",
       "    <tr>\n",
       "      <th>2</th>\n",
       "      <td>1975-07-01</td>\n",
       "      <td>54.71</td>\n",
       "      <td>1975</td>\n",
       "    </tr>\n",
       "    <tr>\n",
       "      <th>3</th>\n",
       "      <td>1975-10-01</td>\n",
       "      <td>54.82</td>\n",
       "      <td>1975</td>\n",
       "    </tr>\n",
       "    <tr>\n",
       "      <th>4</th>\n",
       "      <td>1976-01-01</td>\n",
       "      <td>54.82</td>\n",
       "      <td>1976</td>\n",
       "    </tr>\n",
       "  </tbody>\n",
       "</table>\n",
       "</div>"
      ],
      "text/plain": [
       "         DATE  COSTHPI  Year\n",
       "0  1975-01-01    54.35  1975\n",
       "1  1975-04-01    54.63  1975\n",
       "2  1975-07-01    54.71  1975\n",
       "3  1975-10-01    54.82  1975\n",
       "4  1976-01-01    54.82  1976"
      ]
     },
     "execution_count": 48,
     "metadata": {},
     "output_type": "execute_result"
    }
   ],
   "source": [
    "dfPrice.head()"
   ]
  },
  {
   "cell_type": "code",
   "execution_count": 49,
   "metadata": {},
   "outputs": [],
   "source": [
    "priceOld = dfPrice[(dfPrice['Year'] > 1974) & (dfPrice['Year'] < 1986)].COSTHPI\n",
    "priceNew = dfPrice[(dfPrice['Year'] > 1999) & (dfPrice['Year'] < 2011)].COSTHPI"
   ]
  },
  {
   "cell_type": "code",
   "execution_count": 50,
   "metadata": {},
   "outputs": [
    {
     "data": {
      "image/png": "[encoded data removed]",
      "text/plain": [
       "<Figure size 864x288 with 2 Axes>"
      ]
     },
     "metadata": {
      "needs_background": "light"
     },
     "output_type": "display_data"
    }
   ],
   "source": [
    "pylab.figure(figsize=(12,4))\n",
    "\n",
    "pylab.subplot(1,2,1)\n",
    "pylab.grid()\n",
    "pylab.hist(priceOld, color='r')\n",
    "pylab.xlabel('Old')\n",
    "\n",
    "pylab.subplot(1,2,2)\n",
    "pylab.grid()\n",
    "pylab.hist(priceNew, color='b')\n",
    "pylab.xlabel('New')\n",
    "\n",
    "pylab.show()"
   ]
  },
  {
   "cell_type": "markdown",
   "metadata": {},
   "source": [
    "### Ранговый критерий Манна-Уитни"
   ]
  },
  {
   "cell_type": "markdown",
   "metadata": {},
   "source": [
    "#### Гипотиза"
   ]
  },
  {
   "cell_type": "markdown",
   "metadata": {},
   "source": [
    "$H_0: F_{X_1}(x) = F_{X_2}(x)$\n",
    "\n",
    "$H_1: F_{X_1}(x) = F_{X_2}(x + \\Delta), \\Delta\\neq 0$"
   ]
  },
  {
   "cell_type": "code",
   "execution_count": 51,
   "metadata": {},
   "outputs": [
    {
     "data": {
      "text/plain": [
       "MannwhitneyuResult(statistic=0.0, pvalue=6.791891354751343e-16)"
      ]
     },
     "execution_count": 51,
     "metadata": {},
     "output_type": "execute_result"
    }
   ],
   "source": [
    "stats.mannwhitneyu(priceOld, priceNew)"
   ]
  },
  {
   "cell_type": "markdown",
   "metadata": {},
   "source": [
    "Следовательно, гипотеза $H_0$ отвергается и мы отдаём предпочтение гипотизе $H_1$"
   ]
  },
  {
   "cell_type": "markdown",
   "metadata": {},
   "source": [
    "### Перестановочный критерий"
   ]
  },
  {
   "cell_type": "markdown",
   "metadata": {},
   "source": [
    "#### Гипотиза"
   ]
  },
  {
   "cell_type": "markdown",
   "metadata": {},
   "source": [
    "$H_0: F_{X_1}(x) = F_{X_2}(x)$\n",
    "\n",
    "$H_1: F_{X_1}(x) = F_{X_2}(x + \\Delta), \\Delta\\neq 0$"
   ]
  },
  {
   "cell_type": "code",
   "execution_count": 52,
   "metadata": {},
   "outputs": [],
   "source": [
    "def permutation_t_stat_ind(sample1, sample2):\n",
    "    return np.mean(sample1) - np.mean(sample2)"
   ]
  },
  {
   "cell_type": "code",
   "execution_count": 53,
   "metadata": {},
   "outputs": [],
   "source": [
    "def get_random_combinations(n1, n2, max_combinations):\n",
    "    index = list(range(n1 + n2))\n",
    "    indices = set([tuple(index)])\n",
    "    for i in range(max_combinations - 1):\n",
    "        np.random.shuffle(index)\n",
    "        indices.add(tuple(index))\n",
    "    return [(index[:n1], index[n1:]) for index in indices]"
   ]
  },
  {
   "cell_type": "code",
   "execution_count": 54,
   "metadata": {},
   "outputs": [],
   "source": [
    "def permutation_zero_dist_ind(sample1, sample2, max_combinations = None):\n",
    "    joined_sample = np.hstack((sample1, sample2))\n",
    "    n1 = len(sample1)\n",
    "    n = len(joined_sample)\n",
    "    \n",
    "    if max_combinations:\n",
    "        indices = get_random_combinations(n1, len(sample2), max_combinations)\n",
    "    else:\n",
    "        indices = [(list(index), list(filter(lambda i: i not in index, range(n)))) \\\n",
    "                    for index in itertools.combinations(range(n), n1)]\n",
    "    \n",
    "    distr = [joined_sample[list(i[0])].mean() - joined_sample[list(i[1])].mean() \\\n",
    "             for i in indices]\n",
    "    return distr"
   ]
  },
  {
   "cell_type": "code",
   "execution_count": 55,
   "metadata": {},
   "outputs": [
    {
     "data": {
      "image/png": "[encoded data removed]",
      "text/plain": [
       "<Figure size 432x288 with 1 Axes>"
      ]
     },
     "metadata": {
      "needs_background": "light"
     },
     "output_type": "display_data"
    }
   ],
   "source": [
    "pylab.hist(permutation_zero_dist_ind(priceOld, priceNew, max_combinations = 1000))\n",
    "pylab.show()"
   ]
  },
  {
   "cell_type": "code",
   "execution_count": 56,
   "metadata": {},
   "outputs": [],
   "source": [
    "def permutation_test(sample, mean, max_permutations = None, alternative = 'two-sided'):\n",
    "    if alternative not in ('two-sided', 'less', 'greater'):\n",
    "        raise ValueError(\"alternative not recognized\\n\"\n",
    "                         \"should be 'two-sided', 'less' or 'greater'\")\n",
    "    \n",
    "    t_stat = permutation_t_stat_ind(sample, mean)\n",
    "    \n",
    "    zero_distr = permutation_zero_dist_ind(sample, mean, max_permutations)\n",
    "    \n",
    "    if alternative == 'two-sided':\n",
    "        return sum([1. if abs(x) >= abs(t_stat) else 0. for x in zero_distr]) / len(zero_distr)\n",
    "    \n",
    "    if alternative == 'less':\n",
    "        return sum([1. if x <= t_stat else 0. for x in zero_distr]) / len(zero_distr)\n",
    "\n",
    "    if alternative == 'greater':\n",
    "        return sum([1. if x >= t_stat else 0. for x in zero_distr]) / len(zero_distr)"
   ]
  },
  {
   "cell_type": "code",
   "execution_count": 57,
   "metadata": {},
   "outputs": [
    {
     "name": "stdout",
     "output_type": "stream",
     "text": [
      "p-value: 0.000100\n"
     ]
    }
   ],
   "source": [
    "print(\"p-value: %f\" % permutation_test(priceOld, priceNew, max_permutations = 10000))"
   ]
  },
  {
   "cell_type": "code",
   "execution_count": 58,
   "metadata": {},
   "outputs": [
    {
     "name": "stdout",
     "output_type": "stream",
     "text": [
      "p-value: 0.000020\n"
     ]
    }
   ],
   "source": [
    "print(\"p-value: %f\" % permutation_test(priceOld, priceNew, max_permutations = 50000))"
   ]
  },
  {
   "cell_type": "markdown",
   "metadata": {},
   "source": [
    "Следовательно, гипотеза $H_0$ отвергается и мы отдаём предпочтение гипотизе $H_1$"
   ]
  },
  {
   "cell_type": "markdown",
   "metadata": {},
   "source": [
    "## Проверка гипотезы о равенстве медиан для зависимых выборок (критерий знаковых рангов Уилкоксона, критерий знаков, перестановочный критерий)"
   ]
  },
  {
   "cell_type": "markdown",
   "metadata": {},
   "source": [
    "### Данные"
   ]
  },
  {
   "cell_type": "markdown",
   "metadata": {},
   "source": [
    "Возьмём данные со студентами"
   ]
  },
  {
   "cell_type": "markdown",
   "metadata": {},
   "source": [
    "Посмотрим на данные"
   ]
  },
  {
   "cell_type": "code",
   "execution_count": 59,
   "metadata": {},
   "outputs": [
    {
     "data": {
      "image/png": "[encoded data removed]",
      "text/plain": [
       "<Figure size 864x288 with 2 Axes>"
      ]
     },
     "metadata": {
      "needs_background": "light"
     },
     "output_type": "display_data"
    }
   ],
   "source": [
    "pylab.figure(figsize=(12,4))\n",
    "\n",
    "pylab.subplot(1,2,1)\n",
    "pylab.grid()\n",
    "pylab.hist(dfSelfControl.Before, color = 'r')\n",
    "pylab.xlabel('Before')\n",
    "\n",
    "pylab.subplot(1,2,2)\n",
    "pylab.grid()\n",
    "pylab.hist(dfSelfControl.After, color = 'b')\n",
    "pylab.xlabel('After')\n",
    "\n",
    "pylab.show()"
   ]
  },
  {
   "cell_type": "code",
   "execution_count": 60,
   "metadata": {},
   "outputs": [
    {
     "data": {
      "text/html": [
       "<div>\n",
       "<style scoped>\n",
       "    .dataframe tbody tr th:only-of-type {\n",
       "        vertical-align: middle;\n",
       "    }\n",
       "\n",
       "    .dataframe tbody tr th {\n",
       "        vertical-align: top;\n",
       "    }\n",
       "\n",
       "    .dataframe thead th {\n",
       "        text-align: right;\n",
       "    }\n",
       "</style>\n",
       "<table border=\"1\" class=\"dataframe\">\n",
       "  <thead>\n",
       "    <tr style=\"text-align: right;\">\n",
       "      <th></th>\n",
       "      <th>Before</th>\n",
       "      <th>After</th>\n",
       "    </tr>\n",
       "  </thead>\n",
       "  <tbody>\n",
       "    <tr>\n",
       "      <th>count</th>\n",
       "      <td>23.000000</td>\n",
       "      <td>23.000000</td>\n",
       "    </tr>\n",
       "    <tr>\n",
       "      <th>mean</th>\n",
       "      <td>30.739130</td>\n",
       "      <td>33.521739</td>\n",
       "    </tr>\n",
       "    <tr>\n",
       "      <th>std</th>\n",
       "      <td>5.840434</td>\n",
       "      <td>4.378351</td>\n",
       "    </tr>\n",
       "    <tr>\n",
       "      <th>min</th>\n",
       "      <td>21.000000</td>\n",
       "      <td>23.000000</td>\n",
       "    </tr>\n",
       "    <tr>\n",
       "      <th>25%</th>\n",
       "      <td>25.000000</td>\n",
       "      <td>31.500000</td>\n",
       "    </tr>\n",
       "    <tr>\n",
       "      <th>50%</th>\n",
       "      <td>32.000000</td>\n",
       "      <td>34.000000</td>\n",
       "    </tr>\n",
       "    <tr>\n",
       "      <th>75%</th>\n",
       "      <td>34.000000</td>\n",
       "      <td>36.500000</td>\n",
       "    </tr>\n",
       "    <tr>\n",
       "      <th>max</th>\n",
       "      <td>41.000000</td>\n",
       "      <td>41.000000</td>\n",
       "    </tr>\n",
       "  </tbody>\n",
       "</table>\n",
       "</div>"
      ],
      "text/plain": [
       "          Before      After\n",
       "count  23.000000  23.000000\n",
       "mean   30.739130  33.521739\n",
       "std     5.840434   4.378351\n",
       "min    21.000000  23.000000\n",
       "25%    25.000000  31.500000\n",
       "50%    32.000000  34.000000\n",
       "75%    34.000000  36.500000\n",
       "max    41.000000  41.000000"
      ]
     },
     "execution_count": 60,
     "metadata": {},
     "output_type": "execute_result"
    }
   ],
   "source": [
    "dfSelfControl.describe()"
   ]
  },
  {
   "cell_type": "markdown",
   "metadata": {},
   "source": [
    "### Критерий знаковых рангов Уилкоксона"
   ]
  },
  {
   "cell_type": "markdown",
   "metadata": {},
   "source": [
    "$H_0\\colon med\\left(X_1-X_2\\right)=0,$\n",
    "\n",
    "$H_1\\colon med\\left(X_1-X_2\\right)\\neq0$"
   ]
  },
  {
   "cell_type": "code",
   "execution_count": 61,
   "metadata": {},
   "outputs": [
    {
     "name": "stderr",
     "output_type": "stream",
     "text": [
      "/home/egor/.local/lib/python3.9/site-packages/scipy/stats/morestats.py:3141: UserWarning: Exact p-value calculation does not work if there are ties. Switching to normal approximation.\n",
      "  warnings.warn(\"Exact p-value calculation does not work if there are \"\n"
     ]
    },
    {
     "data": {
      "text/plain": [
       "WilcoxonResult(statistic=9.0, pvalue=0.0013453915627658364)"
      ]
     },
     "execution_count": 61,
     "metadata": {},
     "output_type": "execute_result"
    }
   ],
   "source": [
    "stats.wilcoxon(dfSelfControl.After, dfSelfControl.Before)"
   ]
  },
  {
   "cell_type": "code",
   "execution_count": 62,
   "metadata": {},
   "outputs": [
    {
     "data": {
      "text/plain": [
       "WilcoxonResult(statistic=9.0, pvalue=0.0013453915627658364)"
      ]
     },
     "execution_count": 62,
     "metadata": {},
     "output_type": "execute_result"
    }
   ],
   "source": [
    "stats.wilcoxon(dfSelfControl.After - dfSelfControl.Before)"
   ]
  },
  {
   "cell_type": "markdown",
   "metadata": {},
   "source": [
    "Следовательно, гипотеза $H_0$ отвергается и мы отдаём предпочтение гипотизе $H_1$"
   ]
  },
  {
   "cell_type": "markdown",
   "metadata": {},
   "source": [
    "### Критерий знаков"
   ]
  },
  {
   "cell_type": "markdown",
   "metadata": {},
   "source": [
    "$H_0\\colon P\\left(X_1>X_2\\right)=\\frac1{2},$\n",
    "\n",
    "$H_1\\colon P\\left(X_1>X_2\\right)\\neq\\frac1{2}$"
   ]
  },
  {
   "cell_type": "code",
   "execution_count": 63,
   "metadata": {},
   "outputs": [
    {
     "name": "stdout",
     "output_type": "stream",
     "text": [
      "M: 5, p-value: 0.012726\n"
     ]
    }
   ],
   "source": [
    "print(\"M: %d, p-value: %f\" % sign_test(dfSelfControl.After - dfSelfControl.Before))"
   ]
  },
  {
   "cell_type": "markdown",
   "metadata": {},
   "source": [
    "Следовательно, гипотеза $H_0$ отвергается и мы отдаём предпочтение гипотизе $H_1$"
   ]
  },
  {
   "cell_type": "markdown",
   "metadata": {},
   "source": [
    "### Перестановочный критерий"
   ]
  },
  {
   "cell_type": "markdown",
   "metadata": {},
   "source": [
    "$H_0: \\mathbb{E}(X_1 - X_2) = 0$\n",
    "\n",
    "$H_1: \\mathbb{E}(X_1 - X_2) \\neq 0$"
   ]
  },
  {
   "cell_type": "code",
   "execution_count": 64,
   "metadata": {},
   "outputs": [],
   "source": [
    "def permutation_t_stat_1sample(sample, mean):\n",
    "    t_stat = sum(list(map(lambda x: x - mean, sample)))\n",
    "    return t_stat"
   ]
  },
  {
   "cell_type": "code",
   "execution_count": 65,
   "metadata": {},
   "outputs": [],
   "source": [
    "def permutation_zero_distr_1sample(sample, mean, max_permutations = None):\n",
    "    centered_sample = list(map(lambda x: x - mean, sample))\n",
    "    if max_permutations:\n",
    "        signs_array = set([tuple(x) for x in 2 * np.random.randint(2, size = (max_permutations, \n",
    "                                                                              len(sample))) - 1 ])\n",
    "    else:\n",
    "        signs_array =  itertools.product([-1, 1], repeat = len(sample))\n",
    "    distr = [sum(centered_sample * np.array(signs)) for signs in signs_array]\n",
    "    return distr"
   ]
  },
  {
   "cell_type": "code",
   "execution_count": 66,
   "metadata": {},
   "outputs": [
    {
     "data": {
      "image/png": "[encoded data removed]",
      "text/plain": [
       "<Figure size 432x288 with 1 Axes>"
      ]
     },
     "metadata": {
      "needs_background": "light"
     },
     "output_type": "display_data"
    }
   ],
   "source": [
    "pylab.hist(permutation_zero_distr_1sample(dfSelfControl.After - dfSelfControl.Before, 0., \n",
    "                               max_permutations = 10000))\n",
    "pylab.show()"
   ]
  },
  {
   "cell_type": "code",
   "execution_count": 67,
   "metadata": {},
   "outputs": [],
   "source": [
    "def permutation_test(sample, mean, max_permutations = None, alternative = 'two-sided'):\n",
    "    if alternative not in ('two-sided', 'less', 'greater'):\n",
    "        raise ValueError(\"alternative not recognized\\n\"\n",
    "                         \"should be 'two-sided', 'less' or 'greater'\")\n",
    "    \n",
    "    t_stat = permutation_t_stat_1sample(sample, mean)\n",
    "    \n",
    "    zero_distr = permutation_zero_distr_1sample(sample, mean, max_permutations)\n",
    "    \n",
    "    if alternative == 'two-sided':\n",
    "        return sum([1. if abs(x) >= abs(t_stat) else 0. for x in zero_distr]) / len(zero_distr)\n",
    "    \n",
    "    if alternative == 'less':\n",
    "        return sum([1. if x <= t_stat else 0. for x in zero_distr]) / len(zero_distr)\n",
    "\n",
    "    if alternative == 'greater':\n",
    "        return sum([1. if x >= t_stat else 0. for x in zero_distr]) / len(zero_distr)"
   ]
  },
  {
   "cell_type": "code",
   "execution_count": 68,
   "metadata": {},
   "outputs": [
    {
     "name": "stdout",
     "output_type": "stream",
     "text": [
      "p-value: 0.002000\n"
     ]
    }
   ],
   "source": [
    "print(\"p-value: %f\" % permutation_test(dfSelfControl.After - dfSelfControl.Before, 0., \n",
    "                               max_permutations = 1000))"
   ]
  },
  {
   "cell_type": "code",
   "execution_count": 69,
   "metadata": {},
   "outputs": [
    {
     "name": "stdout",
     "output_type": "stream",
     "text": [
      "p-value: 0.000602\n"
     ]
    }
   ],
   "source": [
    "print(\"p-value: %f\" % permutation_test(dfSelfControl.After - dfSelfControl.Before, 0., \n",
    "                               max_permutations = 50000))"
   ]
  },
  {
   "cell_type": "markdown",
   "metadata": {},
   "source": [
    "Следовательно, гипотеза $H_0$ отвергается и мы отдаём предпочтение гипотизе $H_1$"
   ]
  }
 ],
 "metadata": {
  "kernelspec": {
   "display_name": "Python 3 (ipykernel)",
   "language": "python",
   "name": "python3"
  },
  "language_info": {
   "codemirror_mode": {
    "name": "ipython",
    "version": 3
   },
   "file_extension": ".py",
   "mimetype": "text/x-python",
   "name": "python",
   "nbconvert_exporter": "python",
   "pygments_lexer": "ipython3",
   "version": "3.9.7"
  }
 },
 "nbformat": 4,
 "nbformat_minor": 4
}

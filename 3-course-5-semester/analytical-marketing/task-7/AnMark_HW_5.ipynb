{
 "cells": [
  {
   "cell_type": "markdown",
   "id": "spectacular-inside",
   "metadata": {},
   "source": [
    "## Занятие 5. Линейные модели для классификации"
   ]
  },
  {
   "cell_type": "markdown",
   "id": "loved-thread",
   "metadata": {},
   "source": [
    "Веберите любые данные для задачи классификации из репозитория данных для машинного обучения (UCI Machine learning repository: http://archive.ics.uci.edu/ml/index.php) или возьмите свои данные и постройте линейные модели в соответствии со следующей схемой. Комментарии к каждому разделу обязательны."
   ]
  },
  {
   "cell_type": "markdown",
   "id": "1cc64257-8195-4eb1-b52b-856a9c4cc1ad",
   "metadata": {},
   "source": [
    "*Выполнил:* Бронников Егор ПМ-1901"
   ]
  },
  {
   "cell_type": "markdown",
   "id": "3e11a540-7f85-4e32-84b0-c1859c193ec8",
   "metadata": {},
   "source": [
    "*Последнее изменение:* 13/12/2021"
   ]
  },
  {
   "cell_type": "markdown",
   "id": "ac2885e9-67b2-4ca1-8d3e-183835f6fbd2",
   "metadata": {},
   "source": [
    "### Импорты"
   ]
  },
  {
   "cell_type": "code",
   "execution_count": 1,
   "id": "0a4432b6-b64a-4b5c-b02c-237a15855dfc",
   "metadata": {},
   "outputs": [],
   "source": [
    "from pandas import read_csv\n",
    "from sklearn.model_selection import KFold\n",
    "from sklearn.model_selection import cross_val_score\n",
    "from sklearn.linear_model import LogisticRegression\n",
    "from sklearn.discriminant_analysis import LinearDiscriminantAnalysis\n",
    "from sklearn.svm import SVC"
   ]
  },
  {
   "cell_type": "markdown",
   "id": "51b68165-3143-4a5d-800f-d3ee43fb8544",
   "metadata": {},
   "source": [
    "### Данные"
   ]
  },
  {
   "cell_type": "markdown",
   "id": "700dcdc2-fdf6-43e2-a493-0c4b2b2ecb54",
   "metadata": {},
   "source": [
    "*Источник:* https://github.com/jbrownlee/Datasets\n",
    "\n",
    "*Название:* **Cancer (Haberman's)**"
   ]
  },
  {
   "cell_type": "markdown",
   "id": "98e73ba5-5650-408a-a344-1da1e3c9905a",
   "metadata": {},
   "source": [
    "### Описание данных"
   ]
  },
  {
   "cell_type": "markdown",
   "id": "2d6aacf7-ab5a-457a-918d-62a91fe090d9",
   "metadata": {},
   "source": [
    "Данные о пациентах больных раком."
   ]
  },
  {
   "cell_type": "markdown",
   "id": "8268bc5e-551a-49d3-9c04-7c0e732fdf79",
   "metadata": {},
   "source": [
    "### Описание полей"
   ]
  },
  {
   "cell_type": "markdown",
   "id": "651deb01-fdb8-467f-baf8-2353592bb1a0",
   "metadata": {},
   "source": [
    "1. **age** — возраст пациента;\n",
    "1. **operation_year** — год операции 19##;\n",
    "1. **axillary_nodes** — количество обнаруженных положительных узлов;\n",
    "1. **survival_status** — выживаемость после операции:\n",
    "    - 1 $-$ пациент прожил 5 лет и более \n",
    "    - 2 $-$ пациент умер в течение 5 лет"
   ]
  },
  {
   "cell_type": "markdown",
   "id": "6d18d8ae-39a7-42d2-95f8-f98eae3069ea",
   "metadata": {},
   "source": [
    "Смотрим на данные."
   ]
  },
  {
   "cell_type": "code",
   "execution_count": 2,
   "id": "49070ee2-1652-44a7-a943-640ed773ef55",
   "metadata": {},
   "outputs": [
    {
     "data": {
      "text/html": [
       "<div>\n",
       "<style scoped>\n",
       "    .dataframe tbody tr th:only-of-type {\n",
       "        vertical-align: middle;\n",
       "    }\n",
       "\n",
       "    .dataframe tbody tr th {\n",
       "        vertical-align: top;\n",
       "    }\n",
       "\n",
       "    .dataframe thead th {\n",
       "        text-align: right;\n",
       "    }\n",
       "</style>\n",
       "<table border=\"1\" class=\"dataframe\">\n",
       "  <thead>\n",
       "    <tr style=\"text-align: right;\">\n",
       "      <th></th>\n",
       "      <th>age</th>\n",
       "      <th>operation_year</th>\n",
       "      <th>axillary_nodes</th>\n",
       "      <th>survival_status</th>\n",
       "    </tr>\n",
       "  </thead>\n",
       "  <tbody>\n",
       "    <tr>\n",
       "      <th>0</th>\n",
       "      <td>30</td>\n",
       "      <td>64</td>\n",
       "      <td>1</td>\n",
       "      <td>1</td>\n",
       "    </tr>\n",
       "    <tr>\n",
       "      <th>1</th>\n",
       "      <td>30</td>\n",
       "      <td>62</td>\n",
       "      <td>3</td>\n",
       "      <td>1</td>\n",
       "    </tr>\n",
       "    <tr>\n",
       "      <th>2</th>\n",
       "      <td>30</td>\n",
       "      <td>65</td>\n",
       "      <td>0</td>\n",
       "      <td>1</td>\n",
       "    </tr>\n",
       "    <tr>\n",
       "      <th>3</th>\n",
       "      <td>31</td>\n",
       "      <td>59</td>\n",
       "      <td>2</td>\n",
       "      <td>1</td>\n",
       "    </tr>\n",
       "    <tr>\n",
       "      <th>4</th>\n",
       "      <td>31</td>\n",
       "      <td>65</td>\n",
       "      <td>4</td>\n",
       "      <td>1</td>\n",
       "    </tr>\n",
       "  </tbody>\n",
       "</table>\n",
       "</div>"
      ],
      "text/plain": [
       "   age  operation_year  axillary_nodes  survival_status\n",
       "0   30              64               1                1\n",
       "1   30              62               3                1\n",
       "2   30              65               0                1\n",
       "3   31              59               2                1\n",
       "4   31              65               4                1"
      ]
     },
     "execution_count": 2,
     "metadata": {},
     "output_type": "execute_result"
    }
   ],
   "source": [
    "filename = \"haberman.csv\"\n",
    "names = [\"age\", \"operation_year\", \"axillary_nodes\", \"survival_status\"]\n",
    "dataframe = read_csv(filename, names=names)\n",
    "array = dataframe.values\n",
    "dataframe.head()"
   ]
  },
  {
   "cell_type": "code",
   "execution_count": 3,
   "id": "1dd1ded5-2c4e-40ae-ad8d-0702c40bcb6d",
   "metadata": {},
   "outputs": [
    {
     "data": {
      "text/html": [
       "<div>\n",
       "<style scoped>\n",
       "    .dataframe tbody tr th:only-of-type {\n",
       "        vertical-align: middle;\n",
       "    }\n",
       "\n",
       "    .dataframe tbody tr th {\n",
       "        vertical-align: top;\n",
       "    }\n",
       "\n",
       "    .dataframe thead th {\n",
       "        text-align: right;\n",
       "    }\n",
       "</style>\n",
       "<table border=\"1\" class=\"dataframe\">\n",
       "  <thead>\n",
       "    <tr style=\"text-align: right;\">\n",
       "      <th></th>\n",
       "      <th>age</th>\n",
       "      <th>operation_year</th>\n",
       "      <th>axillary_nodes</th>\n",
       "      <th>survival_status</th>\n",
       "    </tr>\n",
       "  </thead>\n",
       "  <tbody>\n",
       "    <tr>\n",
       "      <th>count</th>\n",
       "      <td>306.000000</td>\n",
       "      <td>306.000000</td>\n",
       "      <td>306.000000</td>\n",
       "      <td>306.000000</td>\n",
       "    </tr>\n",
       "    <tr>\n",
       "      <th>mean</th>\n",
       "      <td>52.457516</td>\n",
       "      <td>62.852941</td>\n",
       "      <td>4.026144</td>\n",
       "      <td>1.264706</td>\n",
       "    </tr>\n",
       "    <tr>\n",
       "      <th>std</th>\n",
       "      <td>10.803452</td>\n",
       "      <td>3.249405</td>\n",
       "      <td>7.189654</td>\n",
       "      <td>0.441899</td>\n",
       "    </tr>\n",
       "    <tr>\n",
       "      <th>min</th>\n",
       "      <td>30.000000</td>\n",
       "      <td>58.000000</td>\n",
       "      <td>0.000000</td>\n",
       "      <td>1.000000</td>\n",
       "    </tr>\n",
       "    <tr>\n",
       "      <th>25%</th>\n",
       "      <td>44.000000</td>\n",
       "      <td>60.000000</td>\n",
       "      <td>0.000000</td>\n",
       "      <td>1.000000</td>\n",
       "    </tr>\n",
       "    <tr>\n",
       "      <th>50%</th>\n",
       "      <td>52.000000</td>\n",
       "      <td>63.000000</td>\n",
       "      <td>1.000000</td>\n",
       "      <td>1.000000</td>\n",
       "    </tr>\n",
       "    <tr>\n",
       "      <th>75%</th>\n",
       "      <td>60.750000</td>\n",
       "      <td>65.750000</td>\n",
       "      <td>4.000000</td>\n",
       "      <td>2.000000</td>\n",
       "    </tr>\n",
       "    <tr>\n",
       "      <th>max</th>\n",
       "      <td>83.000000</td>\n",
       "      <td>69.000000</td>\n",
       "      <td>52.000000</td>\n",
       "      <td>2.000000</td>\n",
       "    </tr>\n",
       "  </tbody>\n",
       "</table>\n",
       "</div>"
      ],
      "text/plain": [
       "              age  operation_year  axillary_nodes  survival_status\n",
       "count  306.000000      306.000000      306.000000       306.000000\n",
       "mean    52.457516       62.852941        4.026144         1.264706\n",
       "std     10.803452        3.249405        7.189654         0.441899\n",
       "min     30.000000       58.000000        0.000000         1.000000\n",
       "25%     44.000000       60.000000        0.000000         1.000000\n",
       "50%     52.000000       63.000000        1.000000         1.000000\n",
       "75%     60.750000       65.750000        4.000000         2.000000\n",
       "max     83.000000       69.000000       52.000000         2.000000"
      ]
     },
     "execution_count": 3,
     "metadata": {},
     "output_type": "execute_result"
    }
   ],
   "source": [
    "dataframe.describe()"
   ]
  },
  {
   "cell_type": "code",
   "execution_count": 4,
   "id": "9b732f2c-58a2-482d-ae52-0b17d2f9fa01",
   "metadata": {},
   "outputs": [],
   "source": [
    "X = array[:,0:3]\n",
    "Y = array[:,3]"
   ]
  },
  {
   "cell_type": "markdown",
   "id": "educated-trial",
   "metadata": {},
   "source": [
    "### Logistic Regression"
   ]
  },
  {
   "cell_type": "code",
   "execution_count": 16,
   "id": "union-webmaster",
   "metadata": {},
   "outputs": [
    {
     "name": "stdout",
     "output_type": "stream",
     "text": [
      "74.83871 %\n"
     ]
    }
   ],
   "source": [
    "kfold = KFold(n_splits=10, random_state=7, shuffle=True)\n",
    "model = LogisticRegression(solver='liblinear')\n",
    "results = cross_val_score(model, X, Y, cv=kfold)\n",
    "print(f\"{round(results.mean()*100, 6)} %\")"
   ]
  },
  {
   "cell_type": "markdown",
   "id": "c0b634bd-460c-4c5b-8421-64ff6fd8031d",
   "metadata": {},
   "source": [
    "Значение точности вычислений составляет **75%**, это означает, что модель логистической регрессии хорошо подходит для классификации."
   ]
  },
  {
   "cell_type": "markdown",
   "id": "acoustic-standard",
   "metadata": {},
   "source": [
    "### Linear Discriminant Analysis"
   ]
  },
  {
   "cell_type": "code",
   "execution_count": 17,
   "id": "facial-shuttle",
   "metadata": {
    "tags": []
   },
   "outputs": [
    {
     "name": "stdout",
     "output_type": "stream",
     "text": [
      "74.83871 %\n"
     ]
    }
   ],
   "source": [
    "kfold = KFold(n_splits=10, random_state=7, shuffle=True)\n",
    "model = LinearDiscriminantAnalysis()\n",
    "results = cross_val_score(model, X, Y, cv=kfold)\n",
    "print(f\"{round(results.mean()*100, 6)} %\")"
   ]
  },
  {
   "cell_type": "markdown",
   "id": "6ecd7e89-a714-4b6d-8298-13716818e2de",
   "metadata": {},
   "source": [
    "Линейный дискриминантный анализ показал точность классификации **75%**, что совпало с моделью логистической регрессии."
   ]
  },
  {
   "cell_type": "markdown",
   "id": "sunrise-boston",
   "metadata": {},
   "source": [
    "### Support Vector Machines"
   ]
  },
  {
   "cell_type": "code",
   "execution_count": 18,
   "id": "fatal-activity",
   "metadata": {},
   "outputs": [
    {
     "name": "stdout",
     "output_type": "stream",
     "text": [
      "72.870968 %\n"
     ]
    }
   ],
   "source": [
    "kfold = KFold(n_splits=10, random_state=7, shuffle=True)\n",
    "model = SVC()\n",
    "results = cross_val_score(model, X, Y, cv=kfold)\n",
    "print(f\"{round(results.mean()*100, 6)} %\")"
   ]
  },
  {
   "cell_type": "markdown",
   "id": "4e7edca4-3e02-4cca-b2d6-86d6836330b6",
   "metadata": {},
   "source": [
    "Линейный метод опорных векторов показал точность классификации **73%**, что чуть хуже предыдущих результатов, но всё раво не так плохо."
   ]
  },
  {
   "cell_type": "markdown",
   "id": "549ea036-50ab-44e5-9ddc-cd32bca41a04",
   "metadata": {},
   "source": [
    "### Выводы"
   ]
  },
  {
   "cell_type": "markdown",
   "id": "47541ff6-3624-4a4c-80a0-14bcb9d43f2c",
   "metadata": {},
   "source": [
    "Таким образом, лучше всего подходят модель логистической регрессии и линейный дискриминантный анализ для классификации на данной выборке данных."
   ]
  }
 ],
 "metadata": {
  "kernelspec": {
   "display_name": "Python 3 (ipykernel)",
   "language": "python",
   "name": "python3"
  },
  "language_info": {
   "codemirror_mode": {
    "name": "ipython",
    "version": 3
   },
   "file_extension": ".py",
   "mimetype": "text/x-python",
   "name": "python",
   "nbconvert_exporter": "python",
   "pygments_lexer": "ipython3",
   "version": "3.9.9"
  }
 },
 "nbformat": 4,
 "nbformat_minor": 5
}

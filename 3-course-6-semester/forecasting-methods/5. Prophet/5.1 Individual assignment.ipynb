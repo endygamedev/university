{
 "cells": [
  {
   "cell_type": "markdown",
   "id": "b6af228c-aac7-46c6-83d7-37f4961cace4",
   "metadata": {},
   "source": [
    "# Построение модели Prophet для своего ряда"
   ]
  },
  {
   "cell_type": "markdown",
   "id": "ed9c993f-030d-481b-a269-cd312eaa4164",
   "metadata": {},
   "source": [
    "## Импорт модулей"
   ]
  },
  {
   "cell_type": "code",
   "execution_count": 1,
   "id": "ae5f1732-1630-456f-9393-6a2713f826af",
   "metadata": {},
   "outputs": [],
   "source": [
    "import numpy as np\n",
    "import pandas as pd\n",
    "from statsmodels.tsa.stattools import adfuller\n",
    "from scipy.stats import boxcox\n",
    "from scipy.special import inv_boxcox\n",
    "from statsmodels.graphics.tsaplots import plot_acf, plot_pacf\n",
    "from statsmodels.tsa.statespace.sarimax import SARIMAX\n",
    "from itertools import product\n",
    "\n",
    "import warnings\n",
    "warnings.simplefilter(action='ignore', category=FutureWarning)\n",
    "\n",
    "import matplotlib.pyplot as plt\n",
    "%matplotlib inline"
   ]
  },
  {
   "cell_type": "markdown",
   "id": "1a1a5ee1-c35a-4a6f-a9cf-d86e23a62262",
   "metadata": {},
   "source": [
    "## Данные"
   ]
  },
  {
   "cell_type": "code",
   "execution_count": 2,
   "id": "4c4b51a5-3e71-4d5d-8739-a0886e06611d",
   "metadata": {},
   "outputs": [],
   "source": [
    "paper = pd.read_csv(\"data/cfe-specialty-writing-papers-mon.csv\", index_col=\"Month\", parse_dates=True)\n",
    "paper = paper.rename(columns={\"CFE specialty writing papers monthly sales\": \"CFE\"})"
   ]
  },
  {
   "cell_type": "code",
   "execution_count": 3,
   "id": "0acbcc34-5b61-4650-8989-a925d0035ad7",
   "metadata": {},
   "outputs": [
    {
     "data": {
      "text/html": [
       "<div>\n",
       "<style scoped>\n",
       "    .dataframe tbody tr th:only-of-type {\n",
       "        vertical-align: middle;\n",
       "    }\n",
       "\n",
       "    .dataframe tbody tr th {\n",
       "        vertical-align: top;\n",
       "    }\n",
       "\n",
       "    .dataframe thead th {\n",
       "        text-align: right;\n",
       "    }\n",
       "</style>\n",
       "<table border=\"1\" class=\"dataframe\">\n",
       "  <thead>\n",
       "    <tr style=\"text-align: right;\">\n",
       "      <th></th>\n",
       "      <th>CFE</th>\n",
       "    </tr>\n",
       "    <tr>\n",
       "      <th>Month</th>\n",
       "      <th></th>\n",
       "    </tr>\n",
       "  </thead>\n",
       "  <tbody>\n",
       "    <tr>\n",
       "      <th>1-01</th>\n",
       "      <td>1359.795</td>\n",
       "    </tr>\n",
       "    <tr>\n",
       "      <th>1-02</th>\n",
       "      <td>1278.564</td>\n",
       "    </tr>\n",
       "    <tr>\n",
       "      <th>1-03</th>\n",
       "      <td>1508.327</td>\n",
       "    </tr>\n",
       "    <tr>\n",
       "      <th>1-04</th>\n",
       "      <td>1419.710</td>\n",
       "    </tr>\n",
       "    <tr>\n",
       "      <th>1-05</th>\n",
       "      <td>1440.510</td>\n",
       "    </tr>\n",
       "  </tbody>\n",
       "</table>\n",
       "</div>"
      ],
      "text/plain": [
       "            CFE\n",
       "Month          \n",
       "1-01   1359.795\n",
       "1-02   1278.564\n",
       "1-03   1508.327\n",
       "1-04   1419.710\n",
       "1-05   1440.510"
      ]
     },
     "execution_count": 3,
     "metadata": {},
     "output_type": "execute_result"
    }
   ],
   "source": [
    "paper.head()"
   ]
  },
  {
   "cell_type": "markdown",
   "id": "1f4b9bd0-2500-4bfc-883a-68c0363ca662",
   "metadata": {},
   "source": [
    "Для более точного прогноза нам следует избавиться от последних трёх записей, так как они не составляют полного периода."
   ]
  },
  {
   "cell_type": "code",
   "execution_count": 4,
   "id": "bdeafb97-a295-46b6-aa9c-5b5cf45ca392",
   "metadata": {},
   "outputs": [],
   "source": [
    "paper = paper[:-3]"
   ]
  },
  {
   "cell_type": "markdown",
   "id": "d0a69e64-91ee-45f0-a79f-98136ce1b2be",
   "metadata": {},
   "source": [
    "В связи с тем, что колонка с месяцем получилось довольной странного формата, её нужно преобразовать в удобный формат.\n",
    "\n",
    "Допустим, что рассматриваются 2000-е."
   ]
  },
  {
   "cell_type": "code",
   "execution_count": 5,
   "id": "9f56a307-5dbd-46cd-9036-1534f9a367ab",
   "metadata": {},
   "outputs": [],
   "source": [
    "def convert_date(date: str):\n",
    "    year, month = map(int, date.split(\"-\"))\n",
    "    year += 2000\n",
    "    return pd.to_datetime(\"-\".join(str(elem) for elem in [year, month]))"
   ]
  },
  {
   "cell_type": "code",
   "execution_count": 6,
   "id": "760716a1-50c6-4a40-9f33-bc332775d4a1",
   "metadata": {},
   "outputs": [],
   "source": [
    "paper.index = pd.DatetimeIndex(map(convert_date , paper.index), freq=\"MS\")"
   ]
  },
  {
   "cell_type": "code",
   "execution_count": 7,
   "id": "d989df5e-8af8-408d-8c31-ce05306d8de7",
   "metadata": {},
   "outputs": [
    {
     "data": {
      "text/html": [
       "<div>\n",
       "<style scoped>\n",
       "    .dataframe tbody tr th:only-of-type {\n",
       "        vertical-align: middle;\n",
       "    }\n",
       "\n",
       "    .dataframe tbody tr th {\n",
       "        vertical-align: top;\n",
       "    }\n",
       "\n",
       "    .dataframe thead th {\n",
       "        text-align: right;\n",
       "    }\n",
       "</style>\n",
       "<table border=\"1\" class=\"dataframe\">\n",
       "  <thead>\n",
       "    <tr style=\"text-align: right;\">\n",
       "      <th></th>\n",
       "      <th>CFE</th>\n",
       "    </tr>\n",
       "  </thead>\n",
       "  <tbody>\n",
       "    <tr>\n",
       "      <th>2001-01-01</th>\n",
       "      <td>1359.795</td>\n",
       "    </tr>\n",
       "    <tr>\n",
       "      <th>2001-02-01</th>\n",
       "      <td>1278.564</td>\n",
       "    </tr>\n",
       "    <tr>\n",
       "      <th>2001-03-01</th>\n",
       "      <td>1508.327</td>\n",
       "    </tr>\n",
       "    <tr>\n",
       "      <th>2001-04-01</th>\n",
       "      <td>1419.710</td>\n",
       "    </tr>\n",
       "    <tr>\n",
       "      <th>2001-05-01</th>\n",
       "      <td>1440.510</td>\n",
       "    </tr>\n",
       "  </tbody>\n",
       "</table>\n",
       "</div>"
      ],
      "text/plain": [
       "                 CFE\n",
       "2001-01-01  1359.795\n",
       "2001-02-01  1278.564\n",
       "2001-03-01  1508.327\n",
       "2001-04-01  1419.710\n",
       "2001-05-01  1440.510"
      ]
     },
     "execution_count": 7,
     "metadata": {},
     "output_type": "execute_result"
    }
   ],
   "source": [
    "paper.head()"
   ]
  },
  {
   "cell_type": "code",
   "execution_count": 8,
   "id": "b44aeb4c-e595-445f-b79d-3a27d75d9868",
   "metadata": {},
   "outputs": [
    {
     "data": {
      "image/png": "[encoded data removed]",
      "text/plain": [
       "<Figure size 864x288 with 1 Axes>"
      ]
     },
     "metadata": {
      "needs_background": "light"
     },
     "output_type": "display_data"
    }
   ],
   "source": [
    "paper[\"CFE\"].plot(figsize=(12,4))\n",
    "plt.title(\"CFE specialty writing papers monthly sales\")\n",
    "plt.show()"
   ]
  },
  {
   "cell_type": "markdown",
   "id": "706686e6-a4b0-4bfc-a92f-3bc3df5b29b8",
   "metadata": {},
   "source": [
    "## Стабилизация дисперсии"
   ]
  },
  {
   "cell_type": "markdown",
   "id": "68354d29-d8c1-4dce-a0c3-a321cd3a791f",
   "metadata": {},
   "source": [
    "Для стабилизации дисперсии выполним преобразование Бокса-Кокса."
   ]
  },
  {
   "cell_type": "code",
   "execution_count": 9,
   "id": "ee3d4df3-98fa-409f-bbe1-0a391e9870bc",
   "metadata": {},
   "outputs": [
    {
     "name": "stdout",
     "output_type": "stream",
     "text": [
      "Оптимальный параметр преобразования Бокса-Кокса: 1.3756969443665545\n",
      "Критерий Дики-Фуллера: p=0.5120661918323486\n"
     ]
    },
    {
     "data": {
      "image/png": "[encoded data removed]",
      "text/plain": [
       "<Figure size 864x360 with 1 Axes>"
      ]
     },
     "metadata": {
      "needs_background": "light"
     },
     "output_type": "display_data"
    }
   ],
   "source": [
    "paper[\"CFE\"] *= 100000\n",
    "paper[\"CFE_box\"], lmbda = boxcox(paper[\"CFE\"])\n",
    "paper[\"CFE_box\"].plot(figsize=(12,5))\n",
    "plt.ylabel(\"Transformed CFE\")\n",
    "print(f\"Оптимальный параметр преобразования Бокса-Кокса: {lmbda}\")\n",
    "print(f\"Критерий Дики-Фуллера: p={adfuller(paper['CFE_box'])[1]}\")"
   ]
  },
  {
   "cell_type": "markdown",
   "id": "73d3fa0b-1791-41e4-8466-e338e6609b70",
   "metadata": {},
   "source": [
    "Очевидно наличие сезонности. Сезонность будет учтена во время построения модели SARIMAX, однако для определения порядков авторегресии и скользящего среднего для начала необходимо провести дифференцирование. Из прошлого индивидуального задания было известно, что в данных имеется сезонность каждые 12 месяцев."
   ]
  },
  {
   "cell_type": "markdown",
   "id": "1af88d82-3ab7-4920-a371-674067e2d4b1",
   "metadata": {},
   "source": [
    "## Дифференцирование ряда"
   ]
  },
  {
   "cell_type": "code",
   "execution_count": 10,
   "id": "90d927aa-1798-4a0e-bbc8-4c7a463154a4",
   "metadata": {},
   "outputs": [
    {
     "name": "stdout",
     "output_type": "stream",
     "text": [
      "Критерий Дики-Фуллера: p=0.007033861686089317\n"
     ]
    },
    {
     "data": {
      "image/png": "[encoded data removed]",
      "text/plain": [
       "<Figure size 864x360 with 1 Axes>"
      ]
     },
     "metadata": {
      "needs_background": "light"
     },
     "output_type": "display_data"
    }
   ],
   "source": [
    "paper[\"CFE_box_sdiff\"] = paper[\"CFE_box\"].diff(12)\n",
    "paper[\"CFE_box_sdiff\"].plot(figsize=(12,5))\n",
    "plt.ylabel(\"After seasonal differencing\")\n",
    "print(f\"Критерий Дики-Фуллера: p={adfuller(paper['CFE_box_sdiff'].dropna())[1]}\")"
   ]
  },
  {
   "cell_type": "code",
   "execution_count": 11,
   "id": "14d617a4-cc12-42fd-83b2-72643833f847",
   "metadata": {},
   "outputs": [
    {
     "name": "stdout",
     "output_type": "stream",
     "text": [
      "Критерий Дики-Фуллера: p=0.6174955445398997\n"
     ]
    },
    {
     "data": {
      "image/png": "[encoded data removed]",
      "text/plain": [
       "<Figure size 864x360 with 1 Axes>"
      ]
     },
     "metadata": {
      "needs_background": "light"
     },
     "output_type": "display_data"
    }
   ],
   "source": [
    "paper[\"CFE_box_diff\"] = paper[\"CFE_box_sdiff\"].diff(1)\n",
    "paper[\"CFE_box_diff\"].plot(figsize=(12,5))\n",
    "plt.ylabel(\"After seasonal differencing\")\n",
    "print(f\"Критерий Дики-Фуллера: p={adfuller(paper['CFE_box_diff'].dropna())[1]}\")"
   ]
  },
  {
   "cell_type": "markdown",
   "id": "ab7392d6-8064-40be-b508-e01acb2a3828",
   "metadata": {},
   "source": [
    "## Выбор гиперпараметров модели"
   ]
  },
  {
   "cell_type": "markdown",
   "id": "df350e8a-0eb5-47fc-80f8-34db39733766",
   "metadata": {},
   "source": [
    "Для выбора порядка скользящего среднего обратимся к коррелограмме."
   ]
  },
  {
   "cell_type": "code",
   "execution_count": 12,
   "id": "1e51c779-ed33-46ff-9ea6-10a815e76f9e",
   "metadata": {},
   "outputs": [
    {
     "data": {
      "image/png": "[encoded data removed]",
      "text/plain": [
       "<Figure size 864x360 with 1 Axes>"
      ]
     },
     "metadata": {
      "needs_background": "light"
     },
     "output_type": "display_data"
    }
   ],
   "source": [
    "plt.rcParams[\"figure.figsize\"] = (12,5)\n",
    "plot_acf(paper[\"CFE_box_diff\"].dropna(), lags=48)\n",
    "plt.xticks(np.arange(0, 50, 2))\n",
    "plt.show()"
   ]
  },
  {
   "cell_type": "markdown",
   "id": "d790fe58-7783-4573-98bc-5e5dced05546",
   "metadata": {},
   "source": [
    "Посдедний значимый лаг равен 2. А последний значимый сезонный лаг равен 1 (при лаге 12 автокорреляция значима, при 24 &ndash; незначима). Таким образом, $q_0=2, Q_0=1$."
   ]
  },
  {
   "cell_type": "markdown",
   "id": "3f35f65a-e340-4d0d-aa9d-d1fe09afec65",
   "metadata": {},
   "source": [
    "Для выбора порядка авторегрессии обратимся к частичной автокорреляции."
   ]
  },
  {
   "cell_type": "code",
   "execution_count": 13,
   "id": "69f34ac4-79b8-4e12-882b-73906d195887",
   "metadata": {},
   "outputs": [
    {
     "data": {
      "image/png": "[encoded data removed]",
      "text/plain": [
       "<Figure size 864x360 with 1 Axes>"
      ]
     },
     "metadata": {
      "needs_background": "light"
     },
     "output_type": "display_data"
    }
   ],
   "source": [
    "plt.rcParams[\"figure.figsize\"] = (12,5)\n",
    "plot_pacf(paper[\"CFE_box_diff\"].dropna(), lags=48, method=\"ywm\")\n",
    "plt.xticks(np.arange(0, 50, 2))\n",
    "plt.show()"
   ]
  },
  {
   "cell_type": "markdown",
   "id": "2a0e4cf7-0cd2-4c9c-84fe-a223276eb5ce",
   "metadata": {},
   "source": [
    "Последний значимый лаг оказался равным 3, значит $p_0=3$. Период сезонности составляет 12. При лаге, равном 12, частичная автокорреляция незначима, значит, $P_0=0$."
   ]
  },
  {
   "cell_type": "markdown",
   "id": "0893ec52-61f4-48fc-bdcb-49eb15e77d08",
   "metadata": {},
   "source": [
    "Таким образом, будем рассматривать следующие наборы гиперпараметров модели SARIMA:"
   ]
  },
  {
   "cell_type": "code",
   "execution_count": 14,
   "id": "e42be1e3-71e2-401f-bb88-a992fe877a16",
   "metadata": {},
   "outputs": [],
   "source": [
    "d=1\n",
    "D=1\n",
    "p = range(0, 4)\n",
    "P = range(0, 2)\n",
    "q = range(0, 3)\n",
    "Q = range(0, 2)"
   ]
  },
  {
   "cell_type": "code",
   "execution_count": 15,
   "id": "89483f2e-ea59-4b46-b03c-844e994275d2",
   "metadata": {},
   "outputs": [],
   "source": [
    "parameters = product(p, q, P, Q)\n",
    "parameters_list = list(parameters)"
   ]
  },
  {
   "cell_type": "code",
   "execution_count": 16,
   "id": "57f0ebfe-158f-4976-9aae-14d641e451bb",
   "metadata": {},
   "outputs": [
    {
     "data": {
      "text/plain": [
       "48"
      ]
     },
     "execution_count": 16,
     "metadata": {},
     "output_type": "execute_result"
    }
   ],
   "source": [
    "len(parameters_list)"
   ]
  },
  {
   "cell_type": "markdown",
   "id": "ac8c4c93-87f5-4fc7-99e5-d5c398417e1d",
   "metadata": {},
   "source": [
    "## Mодель statsmodels"
   ]
  },
  {
   "cell_type": "code",
   "execution_count": 17,
   "id": "7604f239-5734-477e-a499-2f87d91ee124",
   "metadata": {},
   "outputs": [],
   "source": [
    "paper.index.freq = \"MS\""
   ]
  },
  {
   "cell_type": "code",
   "execution_count": 18,
   "id": "f1b09291-94b7-4431-84d4-8c2a60d4fd6d",
   "metadata": {
    "collapsed": true,
    "jupyter": {
     "outputs_hidden": true
    },
    "tags": []
   },
   "outputs": [
    {
     "name": "stdout",
     "output_type": "stream",
     "text": [
      "RUNNING THE L-BFGS-B CODE\n",
      "\n",
      "           * * *\n",
      "\n",
      "Machine precision = 2.220D-16\n",
      " N =            1     M =           10\n",
      "\n",
      "At X0         0 variables are exactly at the bounds\n",
      "\n",
      "At iterate    0    f=  2.33262D+01    |proj g|=  0.00000D+00\n",
      "\n",
      "           * * *\n",
      "\n",
      "Tit   = total number of iterations\n",
      "Tnf   = total number of function evaluations\n",
      "Tnint = total number of segments explored during Cauchy searches\n",
      "Skip  = number of BFGS updates skipped\n",
      "Nact  = number of active bounds at final generalized Cauchy point\n",
      "Projg = norm of the final projected gradient\n",
      "F     = final function value\n",
      "\n",
      "           * * *\n",
      "\n",
      "   N    Tit     Tnf  Tnint  Skip  Nact     Projg        F\n",
      "    1      0      1      0     0     0   0.000D+00   2.333D+01\n",
      "  F =   23.326193523504582     \n",
      "\n",
      "CONVERGENCE: NORM_OF_PROJECTED_GRADIENT_<=_PGTOL            \n",
      "RUNNING THE L-BFGS-B CODE\n",
      "\n",
      "           * * *\n",
      "\n",
      "Machine precision = 2.220D-16\n",
      " N =            2     M =           10\n",
      "\n",
      "At X0         0 variables are exactly at the bounds\n",
      "\n",
      "At iterate    0    f=  2.32574D+01    |proj g|=  1.75783D-02\n",
      "\n",
      "           * * *\n",
      "\n",
      "Tit   = total number of iterations\n",
      "Tnf   = total number of function evaluations\n",
      "Tnint = total number of segments explored during Cauchy searches\n",
      "Skip  = number of BFGS updates skipped\n",
      "Nact  = number of active bounds at final generalized Cauchy point\n",
      "Projg = norm of the final projected gradient\n",
      "F     = final function value\n",
      "\n",
      "           * * *\n",
      "\n",
      "   N    Tit     Tnf  Tnint  Skip  Nact     Projg        F\n",
      "    2      3      5      1     0     0   9.486D-07   2.326D+01\n",
      "  F =   23.256461818103805     \n",
      "\n",
      "CONVERGENCE: NORM_OF_PROJECTED_GRADIENT_<=_PGTOL            \n",
      "RUNNING THE L-BFGS-B CODE\n",
      "\n",
      "           * * *\n",
      "\n",
      "Machine precision = 2.220D-16\n",
      " N =            2     M =           10\n",
      "\n",
      "At X0         0 variables are exactly at the bounds\n",
      "\n",
      "At iterate    0    f=  2.32813D+01    |proj g|=  5.32274D-02\n",
      "\n",
      "           * * *\n",
      "\n",
      "Tit   = total number of iterations\n",
      "Tnf   = total number of function evaluations\n",
      "Tnint = total number of segments explored during Cauchy searches\n",
      "Skip  = number of BFGS updates skipped\n",
      "Nact  = number of active bounds at final generalized Cauchy point\n",
      "Projg = norm of the final projected gradient\n",
      "F     = final function value\n",
      "\n",
      "           * * *\n",
      "\n",
      "   N    Tit     Tnf  Tnint  Skip  Nact     Projg        F\n",
      "    2      4      6      1     0     0   1.926D-06   2.328D+01\n",
      "  F =   23.278726448356345     \n",
      "\n",
      "CONVERGENCE: NORM_OF_PROJECTED_GRADIENT_<=_PGTOL            \n",
      "RUNNING THE L-BFGS-B CODE\n",
      "\n",
      "           * * *\n",
      "\n",
      "Machine precision = 2.220D-16\n",
      " N =            3     M =           10\n",
      "\n",
      "At X0         0 variables are exactly at the bounds\n",
      "\n",
      "At iterate    0    f=  2.32634D+01    |proj g|=  9.08095D-02\n"
     ]
    },
    {
     "name": "stderr",
     "output_type": "stream",
     "text": [
      " This problem is unconstrained.\n",
      " This problem is unconstrained.\n",
      " This problem is unconstrained.\n",
      " This problem is unconstrained.\n"
     ]
    },
    {
     "name": "stdout",
     "output_type": "stream",
     "text": [
      "\n",
      "At iterate    5    f=  2.32511D+01    |proj g|=  6.65464D-04\n",
      "\n",
      "           * * *\n",
      "\n",
      "Tit   = total number of iterations\n",
      "Tnf   = total number of function evaluations\n",
      "Tnint = total number of segments explored during Cauchy searches\n",
      "Skip  = number of BFGS updates skipped\n",
      "Nact  = number of active bounds at final generalized Cauchy point\n",
      "Projg = norm of the final projected gradient\n",
      "F     = final function value\n",
      "\n",
      "           * * *\n",
      "\n",
      "   N    Tit     Tnf  Tnint  Skip  Nact     Projg        F\n",
      "    3      7      9      1     0     0   1.657D-06   2.325D+01\n",
      "  F =   23.251139928425573     \n",
      "\n",
      "CONVERGENCE: NORM_OF_PROJECTED_GRADIENT_<=_PGTOL            \n",
      "RUNNING THE L-BFGS-B CODE\n",
      "\n",
      "           * * *\n",
      "\n",
      "Machine precision = 2.220D-16\n",
      " N =            2     M =           10\n",
      "\n",
      "At X0         0 variables are exactly at the bounds\n",
      "\n",
      "At iterate    0    f=  2.32425D+01    |proj g|=  4.73302D-03\n",
      "\n",
      "           * * *\n",
      "\n",
      "Tit   = total number of iterations\n",
      "Tnf   = total number of function evaluations\n",
      "Tnint = total number of segments explored during Cauchy searches\n",
      "Skip  = number of BFGS updates skipped\n",
      "Nact  = number of active bounds at final generalized Cauchy point\n",
      "Projg = norm of the final projected gradient\n",
      "F     = final function value\n",
      "\n",
      "           * * *\n",
      "\n",
      "   N    Tit     Tnf  Tnint  Skip  Nact     Projg        F\n",
      "    2      2      4      1     0     0   8.638D-06   2.324D+01\n",
      "  F =   23.242515234212267     \n",
      "\n",
      "CONVERGENCE: NORM_OF_PROJECTED_GRADIENT_<=_PGTOL            \n",
      "RUNNING THE L-BFGS-B CODE\n",
      "\n",
      "           * * *\n",
      "\n",
      "Machine precision = 2.220D-16\n",
      " N =            3     M =           10\n",
      "\n",
      "At X0         0 variables are exactly at the bounds\n",
      "\n",
      "At iterate    0    f=  2.31699D+01    |proj g|=  2.57698D-02\n",
      "\n",
      "           * * *\n",
      "\n",
      "Tit   = total number of iterations\n",
      "Tnf   = total number of function evaluations\n",
      "Tnint = total number of segments explored during Cauchy searches\n",
      "Skip  = number of BFGS updates skipped\n",
      "Nact  = number of active bounds at final generalized Cauchy point\n",
      "Projg = norm of the final projected gradient\n",
      "F     = final function value\n",
      "\n",
      "           * * *\n",
      "\n",
      "   N    Tit     Tnf  Tnint  Skip  Nact     Projg        F\n",
      "    3      3      5      1     0     0   4.983D-06   2.317D+01\n",
      "  F =   23.168648586325958     \n",
      "\n",
      "CONVERGENCE: NORM_OF_PROJECTED_GRADIENT_<=_PGTOL            \n"
     ]
    },
    {
     "name": "stderr",
     "output_type": "stream",
     "text": [
      " This problem is unconstrained.\n",
      " This problem is unconstrained.\n",
      " This problem is unconstrained.\n"
     ]
    },
    {
     "name": "stdout",
     "output_type": "stream",
     "text": [
      "RUNNING THE L-BFGS-B CODE\n",
      "\n",
      "           * * *\n",
      "\n",
      "Machine precision = 2.220D-16\n",
      " N =            3     M =           10\n",
      "\n",
      "At X0         0 variables are exactly at the bounds\n",
      "\n",
      "At iterate    0    f=  2.32005D+01    |proj g|=  3.15149D-02\n",
      "\n",
      "At iterate    5    f=  2.31991D+01    |proj g|=  3.12284D-07\n",
      "\n",
      "           * * *\n",
      "\n",
      "Tit   = total number of iterations\n",
      "Tnf   = total number of function evaluations\n",
      "Tnint = total number of segments explored during Cauchy searches\n",
      "Skip  = number of BFGS updates skipped\n",
      "Nact  = number of active bounds at final generalized Cauchy point\n",
      "Projg = norm of the final projected gradient\n",
      "F     = final function value\n",
      "\n",
      "           * * *\n",
      "\n",
      "   N    Tit     Tnf  Tnint  Skip  Nact     Projg        F\n",
      "    3      5      7      1     0     0   3.123D-07   2.320D+01\n",
      "  F =   23.199129610455895     \n",
      "\n",
      "CONVERGENCE: NORM_OF_PROJECTED_GRADIENT_<=_PGTOL            \n",
      "RUNNING THE L-BFGS-B CODE\n",
      "\n",
      "           * * *\n",
      "\n",
      "Machine precision = 2.220D-16\n",
      " N =            4     M =           10\n",
      "\n",
      "At X0         0 variables are exactly at the bounds\n",
      "\n",
      "At iterate    0    f=  2.31760D+01    |proj g|=  7.02066D-02\n",
      "\n",
      "At iterate    5    f=  2.31655D+01    |proj g|=  6.01580D-04\n",
      "\n",
      "           * * *\n",
      "\n",
      "Tit   = total number of iterations\n",
      "Tnf   = total number of function evaluations\n",
      "Tnint = total number of segments explored during Cauchy searches\n",
      "Skip  = number of BFGS updates skipped\n",
      "Nact  = number of active bounds at final generalized Cauchy point\n",
      "Projg = norm of the final projected gradient\n",
      "F     = final function value\n",
      "\n",
      "           * * *\n",
      "\n",
      "   N    Tit     Tnf  Tnint  Skip  Nact     Projg        F\n",
      "    4      7      9      1     0     0   4.636D-06   2.317D+01\n",
      "  F =   23.165480807492472     \n",
      "\n",
      "CONVERGENCE: NORM_OF_PROJECTED_GRADIENT_<=_PGTOL            \n"
     ]
    },
    {
     "name": "stderr",
     "output_type": "stream",
     "text": [
      " This problem is unconstrained.\n",
      " This problem is unconstrained.\n",
      " This problem is unconstrained.\n"
     ]
    },
    {
     "name": "stdout",
     "output_type": "stream",
     "text": [
      "RUNNING THE L-BFGS-B CODE\n",
      "\n",
      "           * * *\n",
      "\n",
      "Machine precision = 2.220D-16\n",
      " N =            3     M =           10\n",
      "\n",
      "At X0         0 variables are exactly at the bounds\n",
      "\n",
      "At iterate    0    f=  2.32422D+01    |proj g|=  1.94581D-02\n",
      "\n",
      "           * * *\n",
      "\n",
      "Tit   = total number of iterations\n",
      "Tnf   = total number of function evaluations\n",
      "Tnint = total number of segments explored during Cauchy searches\n",
      "Skip  = number of BFGS updates skipped\n",
      "Nact  = number of active bounds at final generalized Cauchy point\n",
      "Projg = norm of the final projected gradient\n",
      "F     = final function value\n",
      "\n",
      "           * * *\n",
      "\n",
      "   N    Tit     Tnf  Tnint  Skip  Nact     Projg        F\n",
      "    3      4      6      1     0     0   1.090D-06   2.324D+01\n",
      "  F =   23.241778237110402     \n",
      "\n",
      "CONVERGENCE: NORM_OF_PROJECTED_GRADIENT_<=_PGTOL            \n",
      "RUNNING THE L-BFGS-B CODE\n",
      "\n",
      "           * * *\n",
      "\n",
      "Machine precision = 2.220D-16\n",
      " N =            4     M =           10\n",
      "\n",
      "At X0         0 variables are exactly at the bounds\n",
      "\n",
      "At iterate    0    f=  2.31670D+01    |proj g|=  3.70407D-02\n",
      "\n",
      "           * * *\n",
      "\n",
      "Tit   = total number of iterations\n",
      "Tnf   = total number of function evaluations\n",
      "Tnint = total number of segments explored during Cauchy searches\n",
      "Skip  = number of BFGS updates skipped\n",
      "Nact  = number of active bounds at final generalized Cauchy point\n",
      "Projg = norm of the final projected gradient\n",
      "F     = final function value\n",
      "\n",
      "           * * *\n",
      "\n",
      "   N    Tit     Tnf  Tnint  Skip  Nact     Projg        F\n",
      "    4      4      6      1     0     0   5.053D-05   2.317D+01\n",
      "  F =   23.165682052213583     \n",
      "\n",
      "CONVERGENCE: REL_REDUCTION_OF_F_<=_FACTR*EPSMCH             \n",
      "RUNNING THE L-BFGS-B CODE\n",
      "\n",
      "           * * *\n",
      "\n",
      "Machine precision = 2.220D-16\n",
      " N =            4     M =           10\n",
      "\n",
      "At X0         0 variables are exactly at the bounds\n",
      "\n",
      "At iterate    0    f=  2.31980D+01    |proj g|=  2.93633D-02\n"
     ]
    },
    {
     "name": "stderr",
     "output_type": "stream",
     "text": [
      " This problem is unconstrained.\n",
      " This problem is unconstrained.\n"
     ]
    },
    {
     "name": "stdout",
     "output_type": "stream",
     "text": [
      "\n",
      "           * * *\n",
      "\n",
      "Tit   = total number of iterations\n",
      "Tnf   = total number of function evaluations\n",
      "Tnint = total number of segments explored during Cauchy searches\n",
      "Skip  = number of BFGS updates skipped\n",
      "Nact  = number of active bounds at final generalized Cauchy point\n",
      "Projg = norm of the final projected gradient\n",
      "F     = final function value\n",
      "\n",
      "           * * *\n",
      "\n",
      "   N    Tit     Tnf  Tnint  Skip  Nact     Projg        F\n",
      "    4      4      6      1     0     0   3.701D-05   2.320D+01\n",
      "  F =   23.196797464547135     \n",
      "\n",
      "CONVERGENCE: REL_REDUCTION_OF_F_<=_FACTR*EPSMCH             \n",
      "RUNNING THE L-BFGS-B CODE\n",
      "\n",
      "           * * *\n",
      "\n",
      "Machine precision = 2.220D-16\n",
      " N =            5     M =           10\n",
      "\n",
      "At X0         0 variables are exactly at the bounds\n",
      "\n",
      "At iterate    0    f=  2.31728D+01    |proj g|=  6.09519D-02\n",
      "\n",
      "At iterate    5    f=  2.31631D+01    |proj g|=  2.00186D-03\n",
      "\n",
      "           * * *\n",
      "\n",
      "Tit   = total number of iterations\n",
      "Tnf   = total number of function evaluations\n",
      "Tnint = total number of segments explored during Cauchy searches\n",
      "Skip  = number of BFGS updates skipped\n",
      "Nact  = number of active bounds at final generalized Cauchy point\n",
      "Projg = norm of the final projected gradient\n",
      "F     = final function value\n",
      "\n",
      "           * * *\n",
      "\n",
      "   N    Tit     Tnf  Tnint  Skip  Nact     Projg        F\n",
      "    5      8     11      1     0     0   2.951D-06   2.316D+01\n",
      "  F =   23.163095025768044     \n",
      "\n",
      "CONVERGENCE: NORM_OF_PROJECTED_GRADIENT_<=_PGTOL            \n",
      "RUNNING THE L-BFGS-B CODE\n",
      "\n",
      "           * * *\n",
      "\n",
      "Machine precision = 2.220D-16\n",
      " N =            2     M =           10\n",
      "\n",
      "At X0         0 variables are exactly at the bounds\n",
      "\n",
      "At iterate    0    f=  2.32570D+01    |proj g|=  1.49111D-02\n",
      "\n",
      "           * * *\n",
      "\n",
      "Tit   = total number of iterations\n",
      "Tnf   = total number of function evaluations\n",
      "Tnint = total number of segments explored during Cauchy searches\n",
      "Skip  = number of BFGS updates skipped\n",
      "Nact  = number of active bounds at final generalized Cauchy point\n",
      "Projg = norm of the final projected gradient\n",
      "F     = final function value\n",
      "\n",
      "           * * *\n",
      "\n",
      "   N    Tit     Tnf  Tnint  Skip  Nact     Projg        F\n",
      "    2      3      5      1     0     0   3.910D-06   2.326D+01\n",
      "  F =   23.256799002630625     \n",
      "\n",
      "CONVERGENCE: NORM_OF_PROJECTED_GRADIENT_<=_PGTOL            \n",
      "RUNNING THE L-BFGS-B CODE\n",
      "\n",
      "           * * *\n",
      "\n",
      "Machine precision = 2.220D-16\n",
      " N =            3     M =           10\n",
      "\n",
      "At X0         0 variables are exactly at the bounds\n",
      "\n",
      "At iterate    0    f=  2.31921D+01    |proj g|=  2.27020D-02\n",
      "\n",
      "           * * *\n",
      "\n",
      "Tit   = total number of iterations\n",
      "Tnf   = total number of function evaluations\n",
      "Tnint = total number of segments explored during Cauchy searches\n",
      "Skip  = number of BFGS updates skipped\n",
      "Nact  = number of active bounds at final generalized Cauchy point\n",
      "Projg = norm of the final projected gradient\n",
      "F     = final function value\n",
      "\n",
      "           * * *\n",
      "\n",
      "   N    Tit     Tnf  Tnint  Skip  Nact     Projg        F\n",
      "    3      4      6      1     0     0   3.826D-06   2.319D+01\n",
      "  F =   23.190361616287060     \n",
      "\n",
      "CONVERGENCE: NORM_OF_PROJECTED_GRADIENT_<=_PGTOL            \n",
      "RUNNING THE L-BFGS-B CODE\n",
      "\n",
      "           * * *\n",
      "\n",
      "Machine precision = 2.220D-16\n",
      " N =            3     M =           10\n",
      "\n",
      "At X0         0 variables are exactly at the bounds\n",
      "\n",
      "At iterate    0    f=  2.32201D+01    |proj g|=  4.79878D-02\n",
      "\n",
      "           * * *\n",
      "\n",
      "Tit   = total number of iterations\n",
      "Tnf   = total number of function evaluations\n",
      "Tnint = total number of segments explored during Cauchy searches\n",
      "Skip  = number of BFGS updates skipped\n",
      "Nact  = number of active bounds at final generalized Cauchy point\n",
      "Projg = norm of the final projected gradient\n",
      "F     = final function value\n",
      "\n",
      "           * * *\n",
      "\n",
      "   N    Tit     Tnf  Tnint  Skip  Nact     Projg        F\n",
      "    3      4      6      1     0     0   6.355D-06   2.322D+01\n",
      "  F =   23.217471761176984     \n",
      "\n",
      "CONVERGENCE: NORM_OF_PROJECTED_GRADIENT_<=_PGTOL            \n",
      "RUNNING THE L-BFGS-B CODE\n",
      "\n",
      "           * * *\n",
      "\n",
      "Machine precision = 2.220D-16\n",
      " N =            4     M =           10\n",
      "\n",
      "At X0         0 variables are exactly at the bounds\n",
      "\n",
      "At iterate    0    f=  2.31984D+01    |proj g|=  9.43728D-02\n"
     ]
    },
    {
     "name": "stderr",
     "output_type": "stream",
     "text": [
      " This problem is unconstrained.\n",
      " This problem is unconstrained.\n",
      " This problem is unconstrained.\n",
      " This problem is unconstrained.\n"
     ]
    },
    {
     "name": "stdout",
     "output_type": "stream",
     "text": [
      "\n",
      "At iterate    5    f=  2.31854D+01    |proj g|=  5.64313D-04\n",
      "\n",
      "           * * *\n",
      "\n",
      "Tit   = total number of iterations\n",
      "Tnf   = total number of function evaluations\n",
      "Tnint = total number of segments explored during Cauchy searches\n",
      "Skip  = number of BFGS updates skipped\n",
      "Nact  = number of active bounds at final generalized Cauchy point\n",
      "Projg = norm of the final projected gradient\n",
      "F     = final function value\n",
      "\n",
      "           * * *\n",
      "\n",
      "   N    Tit     Tnf  Tnint  Skip  Nact     Projg        F\n",
      "    4      7      9      1     0     0   7.071D-05   2.319D+01\n",
      "  F =   23.185398282386505     \n",
      "\n",
      "CONVERGENCE: REL_REDUCTION_OF_F_<=_FACTR*EPSMCH             \n",
      "RUNNING THE L-BFGS-B CODE\n",
      "\n",
      "           * * *\n",
      "\n",
      "Machine precision = 2.220D-16\n",
      " N =            3     M =           10\n",
      "\n",
      "At X0         0 variables are exactly at the bounds\n",
      "\n",
      "At iterate    0    f=  2.32419D+01    |proj g|=  2.15126D-02\n",
      "\n",
      "At iterate    5    f=  2.32414D+01    |proj g|=  7.26175D-07\n",
      "\n",
      "           * * *\n",
      "\n",
      "Tit   = total number of iterations\n",
      "Tnf   = total number of function evaluations\n",
      "Tnint = total number of segments explored during Cauchy searches\n",
      "Skip  = number of BFGS updates skipped\n",
      "Nact  = number of active bounds at final generalized Cauchy point\n",
      "Projg = norm of the final projected gradient\n",
      "F     = final function value\n",
      "\n",
      "           * * *\n",
      "\n",
      "   N    Tit     Tnf  Tnint  Skip  Nact     Projg        F\n",
      "    3      5      8      1     0     0   7.262D-07   2.324D+01\n",
      "  F =   23.241354010200357     \n",
      "\n",
      "CONVERGENCE: NORM_OF_PROJECTED_GRADIENT_<=_PGTOL            \n",
      "RUNNING THE L-BFGS-B CODE\n",
      "\n",
      "           * * *\n",
      "\n",
      "Machine precision = 2.220D-16\n",
      " N =            4     M =           10\n",
      "\n",
      "At X0         0 variables are exactly at the bounds\n",
      "\n",
      "At iterate    0    f=  2.31677D+01    |proj g|=  2.35609D-02\n"
     ]
    },
    {
     "name": "stderr",
     "output_type": "stream",
     "text": [
      " This problem is unconstrained.\n",
      " This problem is unconstrained.\n"
     ]
    },
    {
     "name": "stdout",
     "output_type": "stream",
     "text": [
      "\n",
      "At iterate    5    f=  2.31641D+01    |proj g|=  2.90970D-04\n",
      "\n",
      "           * * *\n",
      "\n",
      "Tit   = total number of iterations\n",
      "Tnf   = total number of function evaluations\n",
      "Tnint = total number of segments explored during Cauchy searches\n",
      "Skip  = number of BFGS updates skipped\n",
      "Nact  = number of active bounds at final generalized Cauchy point\n",
      "Projg = norm of the final projected gradient\n",
      "F     = final function value\n",
      "\n",
      "           * * *\n",
      "\n",
      "   N    Tit     Tnf  Tnint  Skip  Nact     Projg        F\n",
      "    4      7      9      1     0     0   2.690D-06   2.316D+01\n",
      "  F =   23.164139254942711     \n",
      "\n",
      "CONVERGENCE: NORM_OF_PROJECTED_GRADIENT_<=_PGTOL            \n",
      "RUNNING THE L-BFGS-B CODE\n",
      "\n",
      "           * * *\n",
      "\n",
      "Machine precision = 2.220D-16\n",
      " N =            4     M =           10\n",
      "\n",
      "At X0         0 variables are exactly at the bounds\n",
      "\n",
      "At iterate    0    f=  2.31987D+01    |proj g|=  2.88826D-02\n",
      "\n",
      "At iterate    5    f=  2.31955D+01    |proj g|=  2.50230D-03\n",
      "\n",
      "           * * *\n",
      "\n",
      "Tit   = total number of iterations\n",
      "Tnf   = total number of function evaluations\n",
      "Tnint = total number of segments explored during Cauchy searches\n",
      "Skip  = number of BFGS updates skipped\n",
      "Nact  = number of active bounds at final generalized Cauchy point\n",
      "Projg = norm of the final projected gradient\n",
      "F     = final function value\n",
      "\n",
      "           * * *\n",
      "\n",
      "   N    Tit     Tnf  Tnint  Skip  Nact     Projg        F\n",
      "    4      8     10      1     0     0   1.631D-06   2.320D+01\n",
      "  F =   23.195479803163348     \n",
      "\n",
      "CONVERGENCE: NORM_OF_PROJECTED_GRADIENT_<=_PGTOL            \n"
     ]
    },
    {
     "name": "stderr",
     "output_type": "stream",
     "text": [
      " This problem is unconstrained.\n",
      " This problem is unconstrained.\n"
     ]
    },
    {
     "name": "stdout",
     "output_type": "stream",
     "text": [
      "RUNNING THE L-BFGS-B CODE\n",
      "\n",
      "           * * *\n",
      "\n",
      "Machine precision = 2.220D-16\n",
      " N =            5     M =           10\n",
      "\n",
      "At X0         0 variables are exactly at the bounds\n",
      "\n",
      "At iterate    0    f=  2.31738D+01    |proj g|=  6.68521D-02\n",
      "\n",
      "At iterate    5    f=  2.31615D+01    |proj g|=  9.11941D-04\n",
      "\n",
      "           * * *\n",
      "\n",
      "Tit   = total number of iterations\n",
      "Tnf   = total number of function evaluations\n",
      "Tnint = total number of segments explored during Cauchy searches\n",
      "Skip  = number of BFGS updates skipped\n",
      "Nact  = number of active bounds at final generalized Cauchy point\n",
      "Projg = norm of the final projected gradient\n",
      "F     = final function value\n",
      "\n",
      "           * * *\n",
      "\n",
      "   N    Tit     Tnf  Tnint  Skip  Nact     Projg        F\n",
      "    5      7      9      1     0     0   5.001D-05   2.316D+01\n",
      "  F =   23.161486706064036     \n",
      "\n",
      "CONVERGENCE: REL_REDUCTION_OF_F_<=_FACTR*EPSMCH             \n",
      "RUNNING THE L-BFGS-B CODE\n",
      "\n",
      "           * * *\n",
      "\n",
      "Machine precision = 2.220D-16\n",
      " N =            4     M =           10\n",
      "\n",
      "At X0         0 variables are exactly at the bounds\n",
      "\n",
      "At iterate    0    f=  2.32419D+01    |proj g|=  2.19700D-02\n"
     ]
    },
    {
     "name": "stderr",
     "output_type": "stream",
     "text": [
      " This problem is unconstrained.\n",
      " This problem is unconstrained.\n"
     ]
    },
    {
     "name": "stdout",
     "output_type": "stream",
     "text": [
      "\n",
      "At iterate    5    f=  2.32411D+01    |proj g|=  5.47977D-03\n",
      "\n",
      "At iterate   10    f=  2.32403D+01    |proj g|=  1.48393D-03\n",
      "\n",
      "           * * *\n",
      "\n",
      "Tit   = total number of iterations\n",
      "Tnf   = total number of function evaluations\n",
      "Tnint = total number of segments explored during Cauchy searches\n",
      "Skip  = number of BFGS updates skipped\n",
      "Nact  = number of active bounds at final generalized Cauchy point\n",
      "Projg = norm of the final projected gradient\n",
      "F     = final function value\n",
      "\n",
      "           * * *\n",
      "\n",
      "   N    Tit     Tnf  Tnint  Skip  Nact     Projg        F\n",
      "    4     14     17      1     0     0   4.209D-05   2.324D+01\n",
      "  F =   23.240242770267773     \n",
      "\n",
      "CONVERGENCE: REL_REDUCTION_OF_F_<=_FACTR*EPSMCH             \n",
      "RUNNING THE L-BFGS-B CODE\n",
      "\n",
      "           * * *\n",
      "\n",
      "Machine precision = 2.220D-16\n",
      " N =            5     M =           10\n",
      "\n",
      "At X0         0 variables are exactly at the bounds\n",
      "\n",
      "At iterate    0    f=  2.31739D+01    |proj g|=  1.30977D-02\n",
      "\n",
      "At iterate    5    f=  2.31694D+01    |proj g|=  4.71097D-05\n",
      "\n",
      "At iterate   10    f=  2.31694D+01    |proj g|=  1.68838D-04\n",
      "\n",
      "           * * *\n",
      "\n",
      "Tit   = total number of iterations\n",
      "Tnf   = total number of function evaluations\n",
      "Tnint = total number of segments explored during Cauchy searches\n",
      "Skip  = number of BFGS updates skipped\n",
      "Nact  = number of active bounds at final generalized Cauchy point\n",
      "Projg = norm of the final projected gradient\n",
      "F     = final function value\n",
      "\n",
      "           * * *\n",
      "\n",
      "   N    Tit     Tnf  Tnint  Skip  Nact     Projg        F\n",
      "    5     13     17      1     0     0   1.346D-05   2.317D+01\n",
      "  F =   23.169389466393479     \n",
      "\n",
      "CONVERGENCE: REL_REDUCTION_OF_F_<=_FACTR*EPSMCH             \n",
      "RUNNING THE L-BFGS-B CODE\n",
      "\n",
      "           * * *\n",
      "\n",
      "Machine precision = 2.220D-16\n",
      " N =            5     M =           10\n",
      "\n",
      "At X0         0 variables are exactly at the bounds\n",
      "\n",
      "At iterate    0    f=  2.32018D+01    |proj g|=  3.20402D-02\n",
      "\n",
      "At iterate    5    f=  2.31995D+01    |proj g|=  1.31067D-03\n"
     ]
    },
    {
     "name": "stderr",
     "output_type": "stream",
     "text": [
      " This problem is unconstrained.\n"
     ]
    },
    {
     "name": "stdout",
     "output_type": "stream",
     "text": [
      "\n",
      "At iterate   10    f=  2.31994D+01    |proj g|=  6.80274D-04\n",
      "\n",
      "At iterate   15    f=  2.31994D+01    |proj g|=  7.92747D-03\n",
      "\n",
      "At iterate   20    f=  2.31991D+01    |proj g|=  2.91838D-04\n",
      "\n",
      "           * * *\n",
      "\n",
      "Tit   = total number of iterations\n",
      "Tnf   = total number of function evaluations\n",
      "Tnint = total number of segments explored during Cauchy searches\n",
      "Skip  = number of BFGS updates skipped\n",
      "Nact  = number of active bounds at final generalized Cauchy point\n",
      "Projg = norm of the final projected gradient\n",
      "F     = final function value\n",
      "\n",
      "           * * *\n",
      "\n",
      "   N    Tit     Tnf  Tnint  Skip  Nact     Projg        F\n",
      "    5     24     29      1     0     0   2.618D-05   2.320D+01\n",
      "  F =   23.199086407942016     \n",
      "\n",
      "CONVERGENCE: REL_REDUCTION_OF_F_<=_FACTR*EPSMCH             \n",
      "RUNNING THE L-BFGS-B CODE\n",
      "\n",
      "           * * *\n",
      "\n",
      "Machine precision = 2.220D-16\n",
      " N =            6     M =           10\n",
      "\n",
      "At X0         0 variables are exactly at the bounds\n",
      "\n",
      "At iterate    0    f=  2.31798D+01    |proj g|=  7.31666D-02\n",
      "\n",
      "At iterate    5    f=  2.31665D+01    |proj g|=  2.63224D-03\n"
     ]
    },
    {
     "name": "stderr",
     "output_type": "stream",
     "text": [
      " This problem is unconstrained.\n"
     ]
    },
    {
     "name": "stdout",
     "output_type": "stream",
     "text": [
      "\n",
      "At iterate   10    f=  2.31663D+01    |proj g|=  2.01325D-05\n",
      "\n",
      "           * * *\n",
      "\n",
      "Tit   = total number of iterations\n",
      "Tnf   = total number of function evaluations\n",
      "Tnint = total number of segments explored during Cauchy searches\n",
      "Skip  = number of BFGS updates skipped\n",
      "Nact  = number of active bounds at final generalized Cauchy point\n",
      "Projg = norm of the final projected gradient\n",
      "F     = final function value\n",
      "\n",
      "           * * *\n",
      "\n",
      "   N    Tit     Tnf  Tnint  Skip  Nact     Projg        F\n",
      "    6     11     13      1     0     0   2.188D-05   2.317D+01\n",
      "  F =   23.166335281214664     \n",
      "\n",
      "CONVERGENCE: REL_REDUCTION_OF_F_<=_FACTR*EPSMCH             \n",
      "RUNNING THE L-BFGS-B CODE\n",
      "\n",
      "           * * *\n",
      "\n",
      "Machine precision = 2.220D-16\n",
      " N =            3     M =           10\n",
      "\n",
      "At X0         0 variables are exactly at the bounds\n",
      "\n",
      "At iterate    0    f=  2.32479D+01    |proj g|=  2.06709D-02\n",
      "\n",
      "           * * *\n",
      "\n",
      "Tit   = total number of iterations\n",
      "Tnf   = total number of function evaluations\n",
      "Tnint = total number of segments explored during Cauchy searches\n",
      "Skip  = number of BFGS updates skipped\n",
      "Nact  = number of active bounds at final generalized Cauchy point\n",
      "Projg = norm of the final projected gradient\n",
      "F     = final function value\n",
      "\n",
      "           * * *\n",
      "\n",
      "   N    Tit     Tnf  Tnint  Skip  Nact     Projg        F\n",
      "    3      3      5      1     0     0   2.824D-07   2.325D+01\n",
      "  F =   23.247426078716710     \n",
      "\n",
      "CONVERGENCE: NORM_OF_PROJECTED_GRADIENT_<=_PGTOL            \n",
      "RUNNING THE L-BFGS-B CODE\n",
      "\n",
      "           * * *\n",
      "\n",
      "Machine precision = 2.220D-16\n",
      " N =            4     M =           10\n",
      "\n",
      "At X0         0 variables are exactly at the bounds\n",
      "\n",
      "At iterate    0    f=  2.31782D+01    |proj g|=  2.91528D-02\n",
      "\n",
      "At iterate    5    f=  2.31770D+01    |proj g|=  2.40634D-04\n",
      "\n",
      "           * * *\n",
      "\n",
      "Tit   = total number of iterations\n",
      "Tnf   = total number of function evaluations\n",
      "Tnint = total number of segments explored during Cauchy searches\n",
      "Skip  = number of BFGS updates skipped\n",
      "Nact  = number of active bounds at final generalized Cauchy point\n",
      "Projg = norm of the final projected gradient\n",
      "F     = final function value\n",
      "\n",
      "           * * *\n",
      "\n",
      "   N    Tit     Tnf  Tnint  Skip  Nact     Projg        F\n",
      "    4      6      9      1     0     0   4.779D-06   2.318D+01\n",
      "  F =   23.177000561477239     \n",
      "\n",
      "CONVERGENCE: NORM_OF_PROJECTED_GRADIENT_<=_PGTOL            \n"
     ]
    },
    {
     "name": "stderr",
     "output_type": "stream",
     "text": [
      " This problem is unconstrained.\n",
      " This problem is unconstrained.\n",
      " This problem is unconstrained.\n"
     ]
    },
    {
     "name": "stdout",
     "output_type": "stream",
     "text": [
      "RUNNING THE L-BFGS-B CODE\n",
      "\n",
      "           * * *\n",
      "\n",
      "Machine precision = 2.220D-16\n",
      " N =            4     M =           10\n",
      "\n",
      "At X0         0 variables are exactly at the bounds\n",
      "\n",
      "At iterate    0    f=  2.32073D+01    |proj g|=  3.79451D-02\n",
      "\n",
      "At iterate    5    f=  2.32054D+01    |proj g|=  2.19202D-07\n",
      "\n",
      "           * * *\n",
      "\n",
      "Tit   = total number of iterations\n",
      "Tnf   = total number of function evaluations\n",
      "Tnint = total number of segments explored during Cauchy searches\n",
      "Skip  = number of BFGS updates skipped\n",
      "Nact  = number of active bounds at final generalized Cauchy point\n",
      "Projg = norm of the final projected gradient\n",
      "F     = final function value\n",
      "\n",
      "           * * *\n",
      "\n",
      "   N    Tit     Tnf  Tnint  Skip  Nact     Projg        F\n",
      "    4      5      7      1     0     0   2.192D-07   2.321D+01\n",
      "  F =   23.205443291350733     \n",
      "\n",
      "CONVERGENCE: NORM_OF_PROJECTED_GRADIENT_<=_PGTOL            \n",
      "RUNNING THE L-BFGS-B CODE\n",
      "\n",
      "           * * *\n",
      "\n",
      "Machine precision = 2.220D-16\n",
      " N =            5     M =           10\n",
      "\n",
      "At X0         0 variables are exactly at the bounds\n",
      "\n",
      "At iterate    0    f=  2.31843D+01    |proj g|=  7.90512D-02\n"
     ]
    },
    {
     "name": "stderr",
     "output_type": "stream",
     "text": [
      " This problem is unconstrained.\n"
     ]
    },
    {
     "name": "stdout",
     "output_type": "stream",
     "text": [
      "\n",
      "At iterate    5    f=  2.31729D+01    |proj g|=  4.80176D-03\n",
      "\n",
      "           * * *\n",
      "\n",
      "Tit   = total number of iterations\n",
      "Tnf   = total number of function evaluations\n",
      "Tnint = total number of segments explored during Cauchy searches\n",
      "Skip  = number of BFGS updates skipped\n",
      "Nact  = number of active bounds at final generalized Cauchy point\n",
      "Projg = norm of the final projected gradient\n",
      "F     = final function value\n",
      "\n",
      "           * * *\n",
      "\n",
      "   N    Tit     Tnf  Tnint  Skip  Nact     Projg        F\n",
      "    5      9     12      1     0     0   1.275D-07   2.317D+01\n",
      "  F =   23.172851655060370     \n",
      "\n",
      "CONVERGENCE: NORM_OF_PROJECTED_GRADIENT_<=_PGTOL            \n",
      "RUNNING THE L-BFGS-B CODE\n",
      "\n",
      "           * * *\n",
      "\n",
      "Machine precision = 2.220D-16\n",
      " N =            4     M =           10\n",
      "\n",
      "At X0         0 variables are exactly at the bounds\n",
      "\n",
      "At iterate    0    f=  2.32430D+01    |proj g|=  2.42248D-02\n",
      "\n",
      "At iterate    5    f=  2.32417D+01    |proj g|=  1.28301D-02\n",
      "\n",
      "At iterate   10    f=  2.32407D+01    |proj g|=  6.18181D-04\n",
      "\n",
      "           * * *\n",
      "\n",
      "Tit   = total number of iterations\n",
      "Tnf   = total number of function evaluations\n",
      "Tnint = total number of segments explored during Cauchy searches\n",
      "Skip  = number of BFGS updates skipped\n",
      "Nact  = number of active bounds at final generalized Cauchy point\n",
      "Projg = norm of the final projected gradient\n",
      "F     = final function value\n",
      "\n",
      "           * * *\n",
      "\n",
      "   N    Tit     Tnf  Tnint  Skip  Nact     Projg        F\n",
      "    4     12     14      1     0     0   8.097D-07   2.324D+01\n",
      "  F =   23.240701772759980     \n",
      "\n",
      "CONVERGENCE: NORM_OF_PROJECTED_GRADIENT_<=_PGTOL            \n"
     ]
    },
    {
     "name": "stderr",
     "output_type": "stream",
     "text": [
      " This problem is unconstrained.\n",
      " This problem is unconstrained.\n"
     ]
    },
    {
     "name": "stdout",
     "output_type": "stream",
     "text": [
      "RUNNING THE L-BFGS-B CODE\n",
      "\n",
      "           * * *\n",
      "\n",
      "Machine precision = 2.220D-16\n",
      " N =            5     M =           10\n",
      "\n",
      "At X0         0 variables are exactly at the bounds\n",
      "\n",
      "At iterate    0    f=  2.31674D+01    |proj g|=  2.51412D-02\n",
      "\n",
      "At iterate    5    f=  2.31645D+01    |proj g|=  1.38393D-02\n",
      "\n",
      "At iterate   10    f=  2.31640D+01    |proj g|=  8.70415D-08\n",
      "\n",
      "           * * *\n",
      "\n",
      "Tit   = total number of iterations\n",
      "Tnf   = total number of function evaluations\n",
      "Tnint = total number of segments explored during Cauchy searches\n",
      "Skip  = number of BFGS updates skipped\n",
      "Nact  = number of active bounds at final generalized Cauchy point\n",
      "Projg = norm of the final projected gradient\n",
      "F     = final function value\n",
      "\n",
      "           * * *\n",
      "\n",
      "   N    Tit     Tnf  Tnint  Skip  Nact     Projg        F\n",
      "    5     10     14      1     0     0   8.704D-08   2.316D+01\n",
      "  F =   23.163956703739029     \n",
      "\n",
      "CONVERGENCE: NORM_OF_PROJECTED_GRADIENT_<=_PGTOL            \n",
      "RUNNING THE L-BFGS-B CODE\n",
      "\n",
      "           * * *\n",
      "\n",
      "Machine precision = 2.220D-16\n",
      " N =            5     M =           10\n",
      "\n",
      "At X0         0 variables are exactly at the bounds\n",
      "\n",
      "At iterate    0    f=  2.31978D+01    |proj g|=  2.33736D-02\n",
      "\n",
      "At iterate    5    f=  2.31957D+01    |proj g|=  1.47893D-02\n"
     ]
    },
    {
     "name": "stderr",
     "output_type": "stream",
     "text": [
      " This problem is unconstrained.\n"
     ]
    },
    {
     "name": "stdout",
     "output_type": "stream",
     "text": [
      "\n",
      "At iterate   10    f=  2.31952D+01    |proj g|=  1.03521D-04\n",
      "\n",
      "           * * *\n",
      "\n",
      "Tit   = total number of iterations\n",
      "Tnf   = total number of function evaluations\n",
      "Tnint = total number of segments explored during Cauchy searches\n",
      "Skip  = number of BFGS updates skipped\n",
      "Nact  = number of active bounds at final generalized Cauchy point\n",
      "Projg = norm of the final projected gradient\n",
      "F     = final function value\n",
      "\n",
      "           * * *\n",
      "\n",
      "   N    Tit     Tnf  Tnint  Skip  Nact     Projg        F\n",
      "    5     11     14      1     0     0   8.172D-06   2.320D+01\n",
      "  F =   23.195182021283092     \n",
      "\n",
      "CONVERGENCE: NORM_OF_PROJECTED_GRADIENT_<=_PGTOL            \n",
      "RUNNING THE L-BFGS-B CODE\n",
      "\n",
      "           * * *\n",
      "\n",
      "Machine precision = 2.220D-16\n",
      " N =            6     M =           10\n",
      "\n",
      "At X0         0 variables are exactly at the bounds\n",
      "\n",
      "At iterate    0    f=  2.31730D+01    |proj g|=  6.21395D-02\n"
     ]
    },
    {
     "name": "stderr",
     "output_type": "stream",
     "text": [
      " This problem is unconstrained.\n"
     ]
    },
    {
     "name": "stdout",
     "output_type": "stream",
     "text": [
      "\n",
      "At iterate    5    f=  2.31628D+01    |proj g|=  1.02242D-02\n",
      "\n",
      "At iterate   10    f=  2.31614D+01    |proj g|=  4.60135D-03\n",
      "\n",
      "           * * *\n",
      "\n",
      "Tit   = total number of iterations\n",
      "Tnf   = total number of function evaluations\n",
      "Tnint = total number of segments explored during Cauchy searches\n",
      "Skip  = number of BFGS updates skipped\n",
      "Nact  = number of active bounds at final generalized Cauchy point\n",
      "Projg = norm of the final projected gradient\n",
      "F     = final function value\n",
      "\n",
      "           * * *\n",
      "\n",
      "   N    Tit     Tnf  Tnint  Skip  Nact     Projg        F\n",
      "    6     13     17      1     0     0   6.214D-05   2.316D+01\n",
      "  F =   23.161296171900403     \n",
      "\n",
      "CONVERGENCE: REL_REDUCTION_OF_F_<=_FACTR*EPSMCH             \n",
      "RUNNING THE L-BFGS-B CODE\n",
      "\n",
      "           * * *\n",
      "\n",
      "Machine precision = 2.220D-16\n",
      " N =            5     M =           10\n",
      "\n",
      "At X0         0 variables are exactly at the bounds\n",
      "\n",
      "At iterate    0    f=  2.33308D+01    |proj g|=  4.07788D-01\n"
     ]
    },
    {
     "name": "stderr",
     "output_type": "stream",
     "text": [
      "/home/egor/.local/lib/python3.8/site-packages/statsmodels/tsa/statespace/sarimax.py:966: UserWarning: Non-stationary starting autoregressive parameters found. Using zeros as starting parameters.\n",
      "  warn('Non-stationary starting autoregressive parameters'\n",
      "/home/egor/.local/lib/python3.8/site-packages/statsmodels/tsa/statespace/sarimax.py:978: UserWarning: Non-invertible starting MA parameters found. Using zeros as starting parameters.\n",
      "  warn('Non-invertible starting MA parameters found.'\n",
      " This problem is unconstrained.\n",
      "/home/egor/.local/lib/python3.8/site-packages/statsmodels/tsa/statespace/sarimax.py:966: UserWarning: Non-stationary starting autoregressive parameters found. Using zeros as starting parameters.\n",
      "  warn('Non-stationary starting autoregressive parameters'\n",
      "/home/egor/.local/lib/python3.8/site-packages/statsmodels/tsa/statespace/sarimax.py:978: UserWarning: Non-invertible starting MA parameters found. Using zeros as starting parameters.\n",
      "  warn('Non-invertible starting MA parameters found.'\n"
     ]
    },
    {
     "name": "stdout",
     "output_type": "stream",
     "text": [
      "\n",
      "At iterate    5    f=  2.32411D+01    |proj g|=  3.25060D-02\n",
      "\n",
      "At iterate   10    f=  2.32401D+01    |proj g|=  2.05525D-03\n",
      "\n",
      "At iterate   15    f=  2.32395D+01    |proj g|=  9.96080D-03\n",
      "\n",
      "At iterate   20    f=  2.32392D+01    |proj g|=  3.25695D-04\n",
      "\n",
      "           * * *\n",
      "\n",
      "Tit   = total number of iterations\n",
      "Tnf   = total number of function evaluations\n",
      "Tnint = total number of segments explored during Cauchy searches\n",
      "Skip  = number of BFGS updates skipped\n",
      "Nact  = number of active bounds at final generalized Cauchy point\n",
      "Projg = norm of the final projected gradient\n",
      "F     = final function value\n",
      "\n",
      "           * * *\n",
      "\n",
      "   N    Tit     Tnf  Tnint  Skip  Nact     Projg        F\n",
      "    5     22     28      1     0     0   2.390D-05   2.324D+01\n",
      "  F =   23.239243213003348     \n",
      "\n",
      "CONVERGENCE: REL_REDUCTION_OF_F_<=_FACTR*EPSMCH             \n",
      "RUNNING THE L-BFGS-B CODE\n",
      "\n",
      "           * * *\n",
      "\n",
      "Machine precision = 2.220D-16\n",
      " N =            6     M =           10\n",
      "\n",
      "At X0         0 variables are exactly at the bounds\n",
      "\n",
      "At iterate    0    f=  2.32462D+01    |proj g|=  3.21149D-01\n"
     ]
    },
    {
     "name": "stderr",
     "output_type": "stream",
     "text": [
      " This problem is unconstrained.\n"
     ]
    },
    {
     "name": "stdout",
     "output_type": "stream",
     "text": [
      "\n",
      "At iterate    5    f=  2.31642D+01    |proj g|=  2.08886D-02\n",
      "\n",
      "At iterate   10    f=  2.31636D+01    |proj g|=  5.12379D-04\n",
      "\n",
      "At iterate   15    f=  2.31635D+01    |proj g|=  5.21008D-03\n",
      "\n",
      "At iterate   20    f=  2.31630D+01    |proj g|=  2.12654D-03\n",
      "\n",
      "At iterate   25    f=  2.31625D+01    |proj g|=  1.24959D-03\n",
      "\n",
      "At iterate   30    f=  2.31624D+01    |proj g|=  1.13147D-04\n",
      "\n",
      "           * * *\n",
      "\n",
      "Tit   = total number of iterations\n",
      "Tnf   = total number of function evaluations\n",
      "Tnint = total number of segments explored during Cauchy searches\n",
      "Skip  = number of BFGS updates skipped\n",
      "Nact  = number of active bounds at final generalized Cauchy point\n",
      "Projg = norm of the final projected gradient\n",
      "F     = final function value\n",
      "\n",
      "           * * *\n",
      "\n",
      "   N    Tit     Tnf  Tnint  Skip  Nact     Projg        F\n",
      "    6     32     35      1     0     0   1.331D-05   2.316D+01\n",
      "  F =   23.162370330734202     \n",
      "\n",
      "CONVERGENCE: REL_REDUCTION_OF_F_<=_FACTR*EPSMCH             \n"
     ]
    },
    {
     "name": "stderr",
     "output_type": "stream",
     "text": [
      "/home/egor/.local/lib/python3.8/site-packages/statsmodels/tsa/statespace/sarimax.py:966: UserWarning: Non-stationary starting autoregressive parameters found. Using zeros as starting parameters.\n",
      "  warn('Non-stationary starting autoregressive parameters'\n",
      "/home/egor/.local/lib/python3.8/site-packages/statsmodels/tsa/statespace/sarimax.py:978: UserWarning: Non-invertible starting MA parameters found. Using zeros as starting parameters.\n",
      "  warn('Non-invertible starting MA parameters found.'\n",
      " This problem is unconstrained.\n"
     ]
    },
    {
     "name": "stdout",
     "output_type": "stream",
     "text": [
      "RUNNING THE L-BFGS-B CODE\n",
      "\n",
      "           * * *\n",
      "\n",
      "Machine precision = 2.220D-16\n",
      " N =            6     M =           10\n",
      "\n",
      "At X0         0 variables are exactly at the bounds\n",
      "\n",
      "At iterate    0    f=  2.32824D+01    |proj g|=  3.53624D-01\n",
      "\n",
      "At iterate    5    f=  2.31957D+01    |proj g|=  2.54487D-02\n",
      "\n",
      "At iterate   10    f=  2.31949D+01    |proj g|=  2.19235D-04\n",
      "\n",
      "At iterate   15    f=  2.31949D+01    |proj g|=  4.76059D-03\n",
      "\n",
      "At iterate   20    f=  2.31947D+01    |proj g|=  3.35643D-03\n",
      "\n",
      "At iterate   25    f=  2.31946D+01    |proj g|=  3.90886D-04\n",
      "\n",
      "           * * *\n",
      "\n",
      "Tit   = total number of iterations\n",
      "Tnf   = total number of function evaluations\n",
      "Tnint = total number of segments explored during Cauchy searches\n",
      "Skip  = number of BFGS updates skipped\n",
      "Nact  = number of active bounds at final generalized Cauchy point\n",
      "Projg = norm of the final projected gradient\n",
      "F     = final function value\n",
      "\n",
      "           * * *\n",
      "\n",
      "   N    Tit     Tnf  Tnint  Skip  Nact     Projg        F\n",
      "    6     28     34      1     0     0   1.368D-05   2.319D+01\n",
      "  F =   23.194620852452545     \n",
      "\n",
      "CONVERGENCE: REL_REDUCTION_OF_F_<=_FACTR*EPSMCH             \n",
      "RUNNING THE L-BFGS-B CODE\n",
      "\n",
      "           * * *\n",
      "\n",
      "Machine precision = 2.220D-16\n",
      " N =            7     M =           10\n",
      "\n",
      "At X0         0 variables are exactly at the bounds\n",
      "\n",
      "At iterate    0    f=  2.32549D+01    |proj g|=  3.30454D-01\n",
      "\n",
      "At iterate    5    f=  2.31626D+01    |proj g|=  3.05058D-02\n"
     ]
    },
    {
     "name": "stderr",
     "output_type": "stream",
     "text": [
      "/home/egor/.local/lib/python3.8/site-packages/statsmodels/tsa/statespace/sarimax.py:966: UserWarning: Non-stationary starting autoregressive parameters found. Using zeros as starting parameters.\n",
      "  warn('Non-stationary starting autoregressive parameters'\n",
      "/home/egor/.local/lib/python3.8/site-packages/statsmodels/tsa/statespace/sarimax.py:978: UserWarning: Non-invertible starting MA parameters found. Using zeros as starting parameters.\n",
      "  warn('Non-invertible starting MA parameters found.'\n",
      " This problem is unconstrained.\n"
     ]
    },
    {
     "name": "stdout",
     "output_type": "stream",
     "text": [
      "\n",
      "At iterate   10    f=  2.31609D+01    |proj g|=  5.76500D-04\n",
      "\n",
      "At iterate   15    f=  2.31606D+01    |proj g|=  8.63908D-03\n",
      "\n",
      "At iterate   20    f=  2.31602D+01    |proj g|=  4.68562D-03\n",
      "\n",
      "At iterate   25    f=  2.31599D+01    |proj g|=  2.53023D-03\n",
      "\n",
      "At iterate   30    f=  2.31599D+01    |proj g|=  8.13074D-05\n",
      "\n",
      "           * * *\n",
      "\n",
      "Tit   = total number of iterations\n",
      "Tnf   = total number of function evaluations\n",
      "Tnint = total number of segments explored during Cauchy searches\n",
      "Skip  = number of BFGS updates skipped\n",
      "Nact  = number of active bounds at final generalized Cauchy point\n",
      "Projg = norm of the final projected gradient\n",
      "F     = final function value\n",
      "\n",
      "           * * *\n",
      "\n",
      "   N    Tit     Tnf  Tnint  Skip  Nact     Projg        F\n",
      "    7     31     34      1     0     0   2.428D-05   2.316D+01\n",
      "  F =   23.159920322209999     \n",
      "\n",
      "CONVERGENCE: REL_REDUCTION_OF_F_<=_FACTR*EPSMCH             \n",
      "RUNNING THE L-BFGS-B CODE\n",
      "\n",
      "           * * *\n",
      "\n",
      "Machine precision = 2.220D-16\n",
      " N =            4     M =           10\n",
      "\n",
      "At X0         0 variables are exactly at the bounds\n",
      "\n",
      "At iterate    0    f=  2.32447D+01    |proj g|=  2.78561D-02\n",
      "\n",
      "At iterate    5    f=  2.32437D+01    |proj g|=  4.09344D-06\n",
      "\n",
      "           * * *\n",
      "\n",
      "Tit   = total number of iterations\n",
      "Tnf   = total number of function evaluations\n",
      "Tnint = total number of segments explored during Cauchy searches\n",
      "Skip  = number of BFGS updates skipped\n",
      "Nact  = number of active bounds at final generalized Cauchy point\n",
      "Projg = norm of the final projected gradient\n",
      "F     = final function value\n",
      "\n",
      "           * * *\n",
      "\n",
      "   N    Tit     Tnf  Tnint  Skip  Nact     Projg        F\n",
      "    4      5      7      1     0     0   4.093D-06   2.324D+01\n",
      "  F =   23.243731778384522     \n",
      "\n",
      "CONVERGENCE: NORM_OF_PROJECTED_GRADIENT_<=_PGTOL            \n"
     ]
    },
    {
     "name": "stderr",
     "output_type": "stream",
     "text": [
      " This problem is unconstrained.\n",
      " This problem is unconstrained.\n",
      " This problem is unconstrained.\n"
     ]
    },
    {
     "name": "stdout",
     "output_type": "stream",
     "text": [
      "RUNNING THE L-BFGS-B CODE\n",
      "\n",
      "           * * *\n",
      "\n",
      "Machine precision = 2.220D-16\n",
      " N =            5     M =           10\n",
      "\n",
      "At X0         0 variables are exactly at the bounds\n",
      "\n",
      "At iterate    0    f=  2.31720D+01    |proj g|=  2.22070D-02\n",
      "\n",
      "At iterate    5    f=  2.31714D+01    |proj g|=  2.16451D-04\n",
      "\n",
      "           * * *\n",
      "\n",
      "Tit   = total number of iterations\n",
      "Tnf   = total number of function evaluations\n",
      "Tnint = total number of segments explored during Cauchy searches\n",
      "Skip  = number of BFGS updates skipped\n",
      "Nact  = number of active bounds at final generalized Cauchy point\n",
      "Projg = norm of the final projected gradient\n",
      "F     = final function value\n",
      "\n",
      "           * * *\n",
      "\n",
      "   N    Tit     Tnf  Tnint  Skip  Nact     Projg        F\n",
      "    5      7      9      1     0     0   1.458D-06   2.317D+01\n",
      "  F =   23.171397939776607     \n",
      "\n",
      "CONVERGENCE: NORM_OF_PROJECTED_GRADIENT_<=_PGTOL            \n",
      "RUNNING THE L-BFGS-B CODE\n",
      "\n",
      "           * * *\n",
      "\n",
      "Machine precision = 2.220D-16\n",
      " N =            5     M =           10\n",
      "\n",
      "At X0         0 variables are exactly at the bounds\n",
      "\n",
      "At iterate    0    f=  2.32054D+01    |proj g|=  3.85250D-02\n",
      "\n",
      "At iterate    5    f=  2.32027D+01    |proj g|=  7.05214D-06\n",
      "\n",
      "           * * *\n",
      "\n",
      "Tit   = total number of iterations\n",
      "Tnf   = total number of function evaluations\n",
      "Tnint = total number of segments explored during Cauchy searches\n",
      "Skip  = number of BFGS updates skipped\n",
      "Nact  = number of active bounds at final generalized Cauchy point\n",
      "Projg = norm of the final projected gradient\n",
      "F     = final function value\n",
      "\n",
      "           * * *\n",
      "\n",
      "   N    Tit     Tnf  Tnint  Skip  Nact     Projg        F\n",
      "    5      5      7      1     0     0   7.052D-06   2.320D+01\n",
      "  F =   23.202727456577311     \n",
      "\n",
      "CONVERGENCE: NORM_OF_PROJECTED_GRADIENT_<=_PGTOL            \n",
      "RUNNING THE L-BFGS-B CODE\n",
      "\n",
      "           * * *\n",
      "\n",
      "Machine precision = 2.220D-16\n",
      " N =            6     M =           10\n",
      "\n",
      "At X0         0 variables are exactly at the bounds\n",
      "\n",
      "At iterate    0    f=  2.31791D+01    |proj g|=  7.52176D-02\n",
      "\n",
      "At iterate    5    f=  2.31668D+01    |proj g|=  2.14369D-03\n"
     ]
    },
    {
     "name": "stderr",
     "output_type": "stream",
     "text": [
      " This problem is unconstrained.\n"
     ]
    },
    {
     "name": "stdout",
     "output_type": "stream",
     "text": [
      "\n",
      "           * * *\n",
      "\n",
      "Tit   = total number of iterations\n",
      "Tnf   = total number of function evaluations\n",
      "Tnint = total number of segments explored during Cauchy searches\n",
      "Skip  = number of BFGS updates skipped\n",
      "Nact  = number of active bounds at final generalized Cauchy point\n",
      "Projg = norm of the final projected gradient\n",
      "F     = final function value\n",
      "\n",
      "           * * *\n",
      "\n",
      "   N    Tit     Tnf  Tnint  Skip  Nact     Projg        F\n",
      "    6      8     10      1     0     0   1.524D-05   2.317D+01\n",
      "  F =   23.166822055098653     \n",
      "\n",
      "CONVERGENCE: REL_REDUCTION_OF_F_<=_FACTR*EPSMCH             \n",
      "RUNNING THE L-BFGS-B CODE\n",
      "\n",
      "           * * *\n",
      "\n",
      "Machine precision = 2.220D-16\n",
      " N =            5     M =           10\n",
      "\n",
      "At X0         0 variables are exactly at the bounds\n",
      "\n",
      "At iterate    0    f=  2.32431D+01    |proj g|=  2.81280D-02\n",
      "\n",
      "At iterate    5    f=  2.32422D+01    |proj g|=  1.53126D-02\n"
     ]
    },
    {
     "name": "stderr",
     "output_type": "stream",
     "text": [
      " This problem is unconstrained.\n"
     ]
    },
    {
     "name": "stdout",
     "output_type": "stream",
     "text": [
      "\n",
      "At iterate   10    f=  2.32403D+01    |proj g|=  5.10493D-03\n",
      "\n",
      "           * * *\n",
      "\n",
      "Tit   = total number of iterations\n",
      "Tnf   = total number of function evaluations\n",
      "Tnint = total number of segments explored during Cauchy searches\n",
      "Skip  = number of BFGS updates skipped\n",
      "Nact  = number of active bounds at final generalized Cauchy point\n",
      "Projg = norm of the final projected gradient\n",
      "F     = final function value\n",
      "\n",
      "           * * *\n",
      "\n",
      "   N    Tit     Tnf  Tnint  Skip  Nact     Projg        F\n",
      "    5     13     15      1     0     0   1.656D-06   2.324D+01\n",
      "  F =   23.240261970579169     \n",
      "\n",
      "CONVERGENCE: NORM_OF_PROJECTED_GRADIENT_<=_PGTOL            \n",
      "RUNNING THE L-BFGS-B CODE\n",
      "\n",
      "           * * *\n",
      "\n",
      "Machine precision = 2.220D-16\n",
      " N =            6     M =           10\n",
      "\n",
      "At X0         0 variables are exactly at the bounds\n",
      "\n",
      "At iterate    0    f=  2.31688D+01    |proj g|=  2.10414D-02\n"
     ]
    },
    {
     "name": "stderr",
     "output_type": "stream",
     "text": [
      " This problem is unconstrained.\n"
     ]
    },
    {
     "name": "stdout",
     "output_type": "stream",
     "text": [
      "\n",
      "At iterate    5    f=  2.31639D+01    |proj g|=  2.10681D-02\n",
      "\n",
      "At iterate   10    f=  2.31630D+01    |proj g|=  6.48352D-05\n",
      "\n",
      "           * * *\n",
      "\n",
      "Tit   = total number of iterations\n",
      "Tnf   = total number of function evaluations\n",
      "Tnint = total number of segments explored during Cauchy searches\n",
      "Skip  = number of BFGS updates skipped\n",
      "Nact  = number of active bounds at final generalized Cauchy point\n",
      "Projg = norm of the final projected gradient\n",
      "F     = final function value\n",
      "\n",
      "           * * *\n",
      "\n",
      "   N    Tit     Tnf  Tnint  Skip  Nact     Projg        F\n",
      "    6     11     14      1     0     0   1.261D-05   2.316D+01\n",
      "  F =   23.162985556826818     \n",
      "\n",
      "CONVERGENCE: REL_REDUCTION_OF_F_<=_FACTR*EPSMCH             \n",
      "RUNNING THE L-BFGS-B CODE\n",
      "\n",
      "           * * *\n",
      "\n",
      "Machine precision = 2.220D-16\n",
      " N =            6     M =           10\n",
      "\n",
      "At X0         0 variables are exactly at the bounds\n",
      "\n",
      "At iterate    0    f=  2.32015D+01    |proj g|=  3.21859D-02\n"
     ]
    },
    {
     "name": "stderr",
     "output_type": "stream",
     "text": [
      " This problem is unconstrained.\n"
     ]
    },
    {
     "name": "stdout",
     "output_type": "stream",
     "text": [
      "\n",
      "At iterate    5    f=  2.31975D+01    |proj g|=  3.53933D-02\n",
      "\n",
      "At iterate   10    f=  2.31947D+01    |proj g|=  1.02434D-03\n",
      "\n",
      "           * * *\n",
      "\n",
      "Tit   = total number of iterations\n",
      "Tnf   = total number of function evaluations\n",
      "Tnint = total number of segments explored during Cauchy searches\n",
      "Skip  = number of BFGS updates skipped\n",
      "Nact  = number of active bounds at final generalized Cauchy point\n",
      "Projg = norm of the final projected gradient\n",
      "F     = final function value\n",
      "\n",
      "           * * *\n",
      "\n",
      "   N    Tit     Tnf  Tnint  Skip  Nact     Projg        F\n",
      "    6     12     15      1     0     0   5.309D-06   2.319D+01\n",
      "  F =   23.194719363940308     \n",
      "\n",
      "CONVERGENCE: NORM_OF_PROJECTED_GRADIENT_<=_PGTOL            \n",
      "RUNNING THE L-BFGS-B CODE\n",
      "\n",
      "           * * *\n",
      "\n",
      "Machine precision = 2.220D-16\n",
      " N =            7     M =           10\n",
      "\n",
      "At X0         0 variables are exactly at the bounds\n",
      "\n",
      "At iterate    0    f=  2.31754D+01    |proj g|=  6.90704D-02\n"
     ]
    },
    {
     "name": "stderr",
     "output_type": "stream",
     "text": [
      " This problem is unconstrained.\n"
     ]
    },
    {
     "name": "stdout",
     "output_type": "stream",
     "text": [
      "\n",
      "At iterate    5    f=  2.31614D+01    |proj g|=  8.11771D-03\n",
      "\n",
      "At iterate   10    f=  2.31603D+01    |proj g|=  1.52821D-03\n"
     ]
    },
    {
     "name": "stderr",
     "output_type": "stream",
     "text": [
      "/home/egor/.local/lib/python3.8/site-packages/statsmodels/tsa/statespace/sarimax.py:966: UserWarning: Non-stationary starting autoregressive parameters found. Using zeros as starting parameters.\n",
      "  warn('Non-stationary starting autoregressive parameters'\n",
      "/home/egor/.local/lib/python3.8/site-packages/statsmodels/tsa/statespace/sarimax.py:978: UserWarning: Non-invertible starting MA parameters found. Using zeros as starting parameters.\n",
      "  warn('Non-invertible starting MA parameters found.'\n",
      " This problem is unconstrained.\n"
     ]
    },
    {
     "name": "stdout",
     "output_type": "stream",
     "text": [
      "\n",
      "           * * *\n",
      "\n",
      "Tit   = total number of iterations\n",
      "Tnf   = total number of function evaluations\n",
      "Tnint = total number of segments explored during Cauchy searches\n",
      "Skip  = number of BFGS updates skipped\n",
      "Nact  = number of active bounds at final generalized Cauchy point\n",
      "Projg = norm of the final projected gradient\n",
      "F     = final function value\n",
      "\n",
      "           * * *\n",
      "\n",
      "   N    Tit     Tnf  Tnint  Skip  Nact     Projg        F\n",
      "    7     13     16      1     0     0   6.549D-06   2.316D+01\n",
      "  F =   23.160310371807402     \n",
      "\n",
      "CONVERGENCE: NORM_OF_PROJECTED_GRADIENT_<=_PGTOL            \n",
      "RUNNING THE L-BFGS-B CODE\n",
      "\n",
      "           * * *\n",
      "\n",
      "Machine precision = 2.220D-16\n",
      " N =            6     M =           10\n",
      "\n",
      "At X0         0 variables are exactly at the bounds\n",
      "\n",
      "At iterate    0    f=  2.33324D+01    |proj g|=  4.15100D-01\n",
      "\n",
      "At iterate    5    f=  2.32409D+01    |proj g|=  1.02568D-02\n",
      "\n",
      "At iterate   10    f=  2.32398D+01    |proj g|=  2.43252D-03\n",
      "\n",
      "At iterate   15    f=  2.32391D+01    |proj g|=  8.32540D-03\n",
      "\n",
      "At iterate   20    f=  2.32390D+01    |proj g|=  9.53028D-04\n",
      "\n",
      "           * * *\n",
      "\n",
      "Tit   = total number of iterations\n",
      "Tnf   = total number of function evaluations\n",
      "Tnint = total number of segments explored during Cauchy searches\n",
      "Skip  = number of BFGS updates skipped\n",
      "Nact  = number of active bounds at final generalized Cauchy point\n",
      "Projg = norm of the final projected gradient\n",
      "F     = final function value\n",
      "\n",
      "           * * *\n",
      "\n",
      "   N    Tit     Tnf  Tnint  Skip  Nact     Projg        F\n",
      "    6     23     28      1     0     0   7.548D-06   2.324D+01\n",
      "  F =   23.238954737755527     \n",
      "\n",
      "CONVERGENCE: NORM_OF_PROJECTED_GRADIENT_<=_PGTOL            \n"
     ]
    },
    {
     "name": "stderr",
     "output_type": "stream",
     "text": [
      "/home/egor/.local/lib/python3.8/site-packages/statsmodels/tsa/statespace/sarimax.py:966: UserWarning: Non-stationary starting autoregressive parameters found. Using zeros as starting parameters.\n",
      "  warn('Non-stationary starting autoregressive parameters'\n",
      "/home/egor/.local/lib/python3.8/site-packages/statsmodels/tsa/statespace/sarimax.py:978: UserWarning: Non-invertible starting MA parameters found. Using zeros as starting parameters.\n",
      "  warn('Non-invertible starting MA parameters found.'\n",
      " This problem is unconstrained.\n"
     ]
    },
    {
     "name": "stdout",
     "output_type": "stream",
     "text": [
      "RUNNING THE L-BFGS-B CODE\n",
      "\n",
      "           * * *\n",
      "\n",
      "Machine precision = 2.220D-16\n",
      " N =            7     M =           10\n",
      "\n",
      "At X0         0 variables are exactly at the bounds\n",
      "\n",
      "At iterate    0    f=  2.32461D+01    |proj g|=  3.26908D-01\n",
      "\n",
      "At iterate    5    f=  2.31623D+01    |proj g|=  1.22826D-02\n",
      "\n",
      "At iterate   10    f=  2.31616D+01    |proj g|=  3.78196D-04\n",
      "\n",
      "At iterate   15    f=  2.31614D+01    |proj g|=  9.95602D-03\n",
      "\n",
      "At iterate   20    f=  2.31607D+01    |proj g|=  5.28252D-03\n",
      "\n",
      "At iterate   25    f=  2.31604D+01    |proj g|=  1.05840D-03\n",
      "\n",
      "At iterate   30    f=  2.31603D+01    |proj g|=  2.01426D-04\n",
      "\n",
      "           * * *\n",
      "\n",
      "Tit   = total number of iterations\n",
      "Tnf   = total number of function evaluations\n",
      "Tnint = total number of segments explored during Cauchy searches\n",
      "Skip  = number of BFGS updates skipped\n",
      "Nact  = number of active bounds at final generalized Cauchy point\n",
      "Projg = norm of the final projected gradient\n",
      "F     = final function value\n",
      "\n",
      "           * * *\n",
      "\n",
      "   N    Tit     Tnf  Tnint  Skip  Nact     Projg        F\n",
      "    7     32     39      1     0     0   3.814D-05   2.316D+01\n",
      "  F =   23.160330013644145     \n",
      "\n",
      "CONVERGENCE: REL_REDUCTION_OF_F_<=_FACTR*EPSMCH             \n",
      "RUNNING THE L-BFGS-B CODE\n",
      "\n",
      "           * * *\n",
      "\n",
      "Machine precision = 2.220D-16\n",
      " N =            7     M =           10\n",
      "\n",
      "At X0         0 variables are exactly at the bounds\n",
      "\n",
      "At iterate    0    f=  2.32831D+01    |proj g|=  3.59966D-01\n",
      "\n",
      "At iterate    5    f=  2.31953D+01    |proj g|=  1.65152D-02\n"
     ]
    },
    {
     "name": "stderr",
     "output_type": "stream",
     "text": [
      "/home/egor/.local/lib/python3.8/site-packages/statsmodels/tsa/statespace/sarimax.py:966: UserWarning: Non-stationary starting autoregressive parameters found. Using zeros as starting parameters.\n",
      "  warn('Non-stationary starting autoregressive parameters'\n",
      "/home/egor/.local/lib/python3.8/site-packages/statsmodels/tsa/statespace/sarimax.py:978: UserWarning: Non-invertible starting MA parameters found. Using zeros as starting parameters.\n",
      "  warn('Non-invertible starting MA parameters found.'\n",
      " This problem is unconstrained.\n"
     ]
    },
    {
     "name": "stdout",
     "output_type": "stream",
     "text": [
      "\n",
      "At iterate   10    f=  2.31940D+01    |proj g|=  3.16025D-04\n",
      "\n",
      "At iterate   15    f=  2.31940D+01    |proj g|=  1.53876D-03\n",
      "\n",
      "At iterate   20    f=  2.31939D+01    |proj g|=  8.78834D-03\n",
      "\n",
      "At iterate   25    f=  2.31937D+01    |proj g|=  5.81226D-04\n",
      "\n",
      "At iterate   30    f=  2.31937D+01    |proj g|=  3.25883D-05\n",
      "\n",
      "           * * *\n",
      "\n",
      "Tit   = total number of iterations\n",
      "Tnf   = total number of function evaluations\n",
      "Tnint = total number of segments explored during Cauchy searches\n",
      "Skip  = number of BFGS updates skipped\n",
      "Nact  = number of active bounds at final generalized Cauchy point\n",
      "Projg = norm of the final projected gradient\n",
      "F     = final function value\n",
      "\n",
      "           * * *\n",
      "\n",
      "   N    Tit     Tnf  Tnint  Skip  Nact     Projg        F\n",
      "    7     30     34      1     0     0   3.259D-05   2.319D+01\n",
      "  F =   23.193723511012472     \n",
      "\n",
      "CONVERGENCE: REL_REDUCTION_OF_F_<=_FACTR*EPSMCH             \n",
      "RUNNING THE L-BFGS-B CODE\n",
      "\n",
      "           * * *\n",
      "\n",
      "Machine precision = 2.220D-16\n",
      " N =            8     M =           10\n",
      "\n",
      "At X0         0 variables are exactly at the bounds\n",
      "\n",
      "At iterate    0    f=  2.32550D+01    |proj g|=  3.36381D-01\n"
     ]
    },
    {
     "name": "stderr",
     "output_type": "stream",
     "text": [
      "/home/egor/.local/lib/python3.8/site-packages/statsmodels/tsa/statespace/sarimax.py:966: UserWarning: Non-stationary starting autoregressive parameters found. Using zeros as starting parameters.\n",
      "  warn('Non-stationary starting autoregressive parameters'\n",
      "/home/egor/.local/lib/python3.8/site-packages/statsmodels/tsa/statespace/sarimax.py:978: UserWarning: Non-invertible starting MA parameters found. Using zeros as starting parameters.\n",
      "  warn('Non-invertible starting MA parameters found.'\n",
      " This problem is unconstrained.\n"
     ]
    },
    {
     "name": "stdout",
     "output_type": "stream",
     "text": [
      "\n",
      "At iterate    5    f=  2.31608D+01    |proj g|=  2.08373D-02\n",
      "\n",
      "At iterate   10    f=  2.31587D+01    |proj g|=  1.27797D-03\n",
      "\n",
      "At iterate   15    f=  2.31585D+01    |proj g|=  5.06689D-03\n",
      "\n",
      "At iterate   20    f=  2.31578D+01    |proj g|=  2.61815D-03\n",
      "\n",
      "At iterate   25    f=  2.31576D+01    |proj g|=  2.06258D-04\n",
      "\n",
      "           * * *\n",
      "\n",
      "Tit   = total number of iterations\n",
      "Tnf   = total number of function evaluations\n",
      "Tnint = total number of segments explored during Cauchy searches\n",
      "Skip  = number of BFGS updates skipped\n",
      "Nact  = number of active bounds at final generalized Cauchy point\n",
      "Projg = norm of the final projected gradient\n",
      "F     = final function value\n",
      "\n",
      "           * * *\n",
      "\n",
      "   N    Tit     Tnf  Tnint  Skip  Nact     Projg        F\n",
      "    8     27     32      1     0     0   8.924D-06   2.316D+01\n",
      "  F =   23.157634784228151     \n",
      "\n",
      "CONVERGENCE: NORM_OF_PROJECTED_GRADIENT_<=_PGTOL            \n"
     ]
    }
   ],
   "source": [
    "results = []\n",
    "best_aic = float('inf')\n",
    "\n",
    "for params in parameters_list:\n",
    "    try:\n",
    "        model = SARIMAX(paper[\"CFE_box\"],\n",
    "                        order=(params[0], d, params[1]), \n",
    "                        seasonal_order=(params[2], D, params[3], 12)).fit()\n",
    "    except ValueError:\n",
    "        print(\"Wrong parameters:\", param)\n",
    "        continue\n",
    "    aic = model.aic\n",
    "    if aic < best_aic:\n",
    "        best_model = model\n",
    "        best_aic = aic\n",
    "        best_param = params\n",
    "    results.append([params, model.aic])"
   ]
  },
  {
   "cell_type": "code",
   "execution_count": 19,
   "id": "3bb122a8-3c03-4f5a-8e40-24be7c6d0127",
   "metadata": {},
   "outputs": [
    {
     "name": "stdout",
     "output_type": "stream",
     "text": [
      "      parameters          aic\n",
      "5   (0, 1, 0, 1)  6678.570793\n",
      "17  (1, 1, 0, 1)  6679.272105\n",
      "7   (0, 1, 1, 1)  6679.658473\n",
      "9   (0, 2, 0, 1)  6679.716431\n",
      "19  (1, 1, 1, 1)  6680.508171\n"
     ]
    }
   ],
   "source": [
    "result_table = pd.DataFrame(results)\n",
    "result_table.columns = ['parameters', 'aic']\n",
    "print(result_table.sort_values(by='aic', ascending=True).head())"
   ]
  },
  {
   "cell_type": "markdown",
   "id": "bc077de7-3baf-4646-85c4-1eb1ddeb9d40",
   "metadata": {},
   "source": [
    "### Визуализация результата"
   ]
  },
  {
   "cell_type": "code",
   "execution_count": 20,
   "id": "10987747-420a-4122-bf1c-ac877d7b4829",
   "metadata": {},
   "outputs": [
    {
     "data": {
      "image/png": "[encoded data removed]",
      "text/plain": [
       "<Figure size 864x360 with 1 Axes>"
      ]
     },
     "metadata": {
      "needs_background": "light"
     },
     "output_type": "display_data"
    }
   ],
   "source": [
    "paper[\"model\"] = inv_boxcox(best_model.fittedvalues, lmbda)\n",
    "paper[\"CFE\"].plot(figsize=(12,5))\n",
    "paper.model[13:].plot(color='r')\n",
    "plt.ylabel(\"CFE\")\n",
    "plt.show()"
   ]
  },
  {
   "cell_type": "markdown",
   "id": "a83ab632-36a1-4c3a-a97e-631d9641cf49",
   "metadata": {},
   "source": [
    "### Прогноз"
   ]
  },
  {
   "cell_type": "code",
   "execution_count": 21,
   "id": "bf8ebd05-32c3-40d6-8270-8578a4045566",
   "metadata": {},
   "outputs": [],
   "source": [
    "start = paper.index[-1] + pd.DateOffset(months=1)\n",
    "end = start + pd.DateOffset(months=35)"
   ]
  },
  {
   "cell_type": "code",
   "execution_count": 22,
   "id": "c7f53507-b2c3-480a-ae5f-7b16997c258d",
   "metadata": {},
   "outputs": [
    {
     "data": {
      "image/png": "[encoded data removed]",
      "text/plain": [
       "<Figure size 864x360 with 1 Axes>"
      ]
     },
     "metadata": {
      "needs_background": "light"
     },
     "output_type": "display_data"
    }
   ],
   "source": [
    "paper[\"CFE\"].plot(figsize=(12,5))\n",
    "inv_boxcox(best_model.predict(start=start, end=end), lmbda).plot(color='r')\n",
    "plt.ylabel(\"CFE\")\n",
    "plt.show()"
   ]
  },
  {
   "cell_type": "code",
   "execution_count": 23,
   "id": "975b6b4c-8740-49ca-aaaf-1117cd1badc7",
   "metadata": {},
   "outputs": [
    {
     "data": {
      "image/png": "[encoded data removed]",
      "text/plain": [
       "<Figure size 864x360 with 1 Axes>"
      ]
     },
     "metadata": {
      "needs_background": "light"
     },
     "output_type": "display_data"
    }
   ],
   "source": [
    "paper[\"CFE\"].plot(figsize=(12,5))\n",
    "inv_boxcox(best_model.forecast(36), lmbda).plot(color='r')\n",
    "plt.ylabel(\"CFE\")\n",
    "plt.show()"
   ]
  },
  {
   "cell_type": "markdown",
   "id": "919d6bdd-dd34-484b-9592-af9f8268b028",
   "metadata": {},
   "source": [
    "По графику видно, что прогноз получился довольно спорным как и в случае первого и второго индивидуального домашнего задания."
   ]
  },
  {
   "cell_type": "markdown",
   "id": "3b7e4af8-3713-49e4-b831-b4cf25279c5f",
   "metadata": {},
   "source": [
    "## Модель Prophet"
   ]
  },
  {
   "cell_type": "markdown",
   "id": "d44914ab-2a8d-47a9-8168-83b2dec02884",
   "metadata": {},
   "source": [
    "### Инициализация и обучение модели"
   ]
  },
  {
   "cell_type": "code",
   "execution_count": 25,
   "id": "16ae9c61-9b85-42e2-9f90-cc7f8120e98d",
   "metadata": {},
   "outputs": [],
   "source": [
    "from fbprophet import Prophet"
   ]
  },
  {
   "cell_type": "code",
   "execution_count": 26,
   "id": "96c26100-6f8c-42fb-8a51-6797caaa729f",
   "metadata": {},
   "outputs": [
    {
     "data": {
      "text/html": [
       "<div>\n",
       "<style scoped>\n",
       "    .dataframe tbody tr th:only-of-type {\n",
       "        vertical-align: middle;\n",
       "    }\n",
       "\n",
       "    .dataframe tbody tr th {\n",
       "        vertical-align: top;\n",
       "    }\n",
       "\n",
       "    .dataframe thead th {\n",
       "        text-align: right;\n",
       "    }\n",
       "</style>\n",
       "<table border=\"1\" class=\"dataframe\">\n",
       "  <thead>\n",
       "    <tr style=\"text-align: right;\">\n",
       "      <th></th>\n",
       "      <th>CFE</th>\n",
       "      <th>CFE_box</th>\n",
       "      <th>CFE_box_sdiff</th>\n",
       "      <th>CFE_box_diff</th>\n",
       "      <th>model</th>\n",
       "    </tr>\n",
       "  </thead>\n",
       "  <tbody>\n",
       "    <tr>\n",
       "      <th>2001-01-01</th>\n",
       "      <td>135979500.0</td>\n",
       "      <td>1.123755e+11</td>\n",
       "      <td>NaN</td>\n",
       "      <td>NaN</td>\n",
       "      <td>1.000000e+00</td>\n",
       "    </tr>\n",
       "    <tr>\n",
       "      <th>2001-02-01</th>\n",
       "      <td>127856400.0</td>\n",
       "      <td>1.032454e+11</td>\n",
       "      <td>NaN</td>\n",
       "      <td>NaN</td>\n",
       "      <td>9.326286e+07</td>\n",
       "    </tr>\n",
       "    <tr>\n",
       "      <th>2001-03-01</th>\n",
       "      <td>150832700.0</td>\n",
       "      <td>1.296010e+11</td>\n",
       "      <td>NaN</td>\n",
       "      <td>NaN</td>\n",
       "      <td>1.116192e+08</td>\n",
       "    </tr>\n",
       "    <tr>\n",
       "      <th>2001-04-01</th>\n",
       "      <td>141971000.0</td>\n",
       "      <td>1.192431e+11</td>\n",
       "      <td>NaN</td>\n",
       "      <td>NaN</td>\n",
       "      <td>1.316461e+08</td>\n",
       "    </tr>\n",
       "    <tr>\n",
       "      <th>2001-05-01</th>\n",
       "      <td>144051000.0</td>\n",
       "      <td>1.216531e+11</td>\n",
       "      <td>NaN</td>\n",
       "      <td>NaN</td>\n",
       "      <td>1.367596e+08</td>\n",
       "    </tr>\n",
       "  </tbody>\n",
       "</table>\n",
       "</div>"
      ],
      "text/plain": [
       "                    CFE       CFE_box  CFE_box_sdiff  CFE_box_diff  \\\n",
       "2001-01-01  135979500.0  1.123755e+11            NaN           NaN   \n",
       "2001-02-01  127856400.0  1.032454e+11            NaN           NaN   \n",
       "2001-03-01  150832700.0  1.296010e+11            NaN           NaN   \n",
       "2001-04-01  141971000.0  1.192431e+11            NaN           NaN   \n",
       "2001-05-01  144051000.0  1.216531e+11            NaN           NaN   \n",
       "\n",
       "                   model  \n",
       "2001-01-01  1.000000e+00  \n",
       "2001-02-01  9.326286e+07  \n",
       "2001-03-01  1.116192e+08  \n",
       "2001-04-01  1.316461e+08  \n",
       "2001-05-01  1.367596e+08  "
      ]
     },
     "execution_count": 26,
     "metadata": {},
     "output_type": "execute_result"
    }
   ],
   "source": [
    "paper.head()"
   ]
  },
  {
   "cell_type": "code",
   "execution_count": 27,
   "id": "289b7017-01e8-4310-bbff-c9d016ef5af1",
   "metadata": {},
   "outputs": [],
   "source": [
    "paper_prophet = paper[[\"CFE_box\"]]\n",
    "paper_prophet = paper_prophet.reset_index()\n",
    "paper_prophet.columns = [\"ds\", \"y\"]"
   ]
  },
  {
   "cell_type": "code",
   "execution_count": 28,
   "id": "4a603893-69fa-47a2-a5c9-41ded62bbf88",
   "metadata": {},
   "outputs": [
    {
     "data": {
      "text/html": [
       "<div>\n",
       "<style scoped>\n",
       "    .dataframe tbody tr th:only-of-type {\n",
       "        vertical-align: middle;\n",
       "    }\n",
       "\n",
       "    .dataframe tbody tr th {\n",
       "        vertical-align: top;\n",
       "    }\n",
       "\n",
       "    .dataframe thead th {\n",
       "        text-align: right;\n",
       "    }\n",
       "</style>\n",
       "<table border=\"1\" class=\"dataframe\">\n",
       "  <thead>\n",
       "    <tr style=\"text-align: right;\">\n",
       "      <th></th>\n",
       "      <th>ds</th>\n",
       "      <th>y</th>\n",
       "    </tr>\n",
       "  </thead>\n",
       "  <tbody>\n",
       "    <tr>\n",
       "      <th>0</th>\n",
       "      <td>2001-01-01</td>\n",
       "      <td>1.123755e+11</td>\n",
       "    </tr>\n",
       "    <tr>\n",
       "      <th>1</th>\n",
       "      <td>2001-02-01</td>\n",
       "      <td>1.032454e+11</td>\n",
       "    </tr>\n",
       "    <tr>\n",
       "      <th>2</th>\n",
       "      <td>2001-03-01</td>\n",
       "      <td>1.296010e+11</td>\n",
       "    </tr>\n",
       "    <tr>\n",
       "      <th>3</th>\n",
       "      <td>2001-04-01</td>\n",
       "      <td>1.192431e+11</td>\n",
       "    </tr>\n",
       "    <tr>\n",
       "      <th>4</th>\n",
       "      <td>2001-05-01</td>\n",
       "      <td>1.216531e+11</td>\n",
       "    </tr>\n",
       "  </tbody>\n",
       "</table>\n",
       "</div>"
      ],
      "text/plain": [
       "          ds             y\n",
       "0 2001-01-01  1.123755e+11\n",
       "1 2001-02-01  1.032454e+11\n",
       "2 2001-03-01  1.296010e+11\n",
       "3 2001-04-01  1.192431e+11\n",
       "4 2001-05-01  1.216531e+11"
      ]
     },
     "execution_count": 28,
     "metadata": {},
     "output_type": "execute_result"
    }
   ],
   "source": [
    "paper_prophet.head()"
   ]
  },
  {
   "cell_type": "code",
   "execution_count": 29,
   "id": "5a2e4018-e7bb-4142-a973-a7baff7be941",
   "metadata": {},
   "outputs": [
    {
     "name": "stderr",
     "output_type": "stream",
     "text": [
      "INFO:fbprophet:Found custom seasonality named 'yearly', disabling built-in 'yearly' seasonality.\n"
     ]
    },
    {
     "name": "stdout",
     "output_type": "stream",
     "text": [
      "Initial log joint probability = -4.78795\n"
     ]
    },
    {
     "data": {
      "text/plain": [
       "<fbprophet.forecaster.Prophet at 0x7f5f48b1e5b0>"
      ]
     },
     "execution_count": 29,
     "metadata": {},
     "output_type": "execute_result"
    },
    {
     "name": "stdout",
     "output_type": "stream",
     "text": [
      "    Iter      log prob        ||dx||      ||grad||       alpha      alpha0  # evals  Notes \n",
      "      99       301.327   9.82109e-06       83.7655      0.9403      0.9403      127   \n",
      "    Iter      log prob        ||dx||      ||grad||       alpha      alpha0  # evals  Notes \n",
      "     199       303.728   0.000708351       88.8118           1           1      258   \n",
      "    Iter      log prob        ||dx||      ||grad||       alpha      alpha0  # evals  Notes \n",
      "     293       303.794   4.82019e-09       73.6296      0.2978      0.2978      381   \n",
      "Optimization terminated normally: \n",
      "  Convergence detected: absolute parameter change was below tolerance\n"
     ]
    }
   ],
   "source": [
    "model = Prophet(weekly_seasonality=False, daily_seasonality=False)\n",
    "model.add_seasonality(name='yearly', period=365.25, fourier_order=10)\n",
    "model.fit(paper_prophet)"
   ]
  },
  {
   "cell_type": "markdown",
   "id": "40c4ef0c-3b66-41c6-8cc5-8bfff1f12769",
   "metadata": {},
   "source": [
    "### Прогноз"
   ]
  },
  {
   "cell_type": "code",
   "execution_count": 30,
   "id": "440dfe20-cb04-4186-bff1-75ee8bcded14",
   "metadata": {},
   "outputs": [],
   "source": [
    "future = model.make_future_dataframe(periods=36, freq=\"MS\")"
   ]
  },
  {
   "cell_type": "code",
   "execution_count": 31,
   "id": "38824925-26f5-4267-81a2-e325bf4664c8",
   "metadata": {},
   "outputs": [],
   "source": [
    "forecast = model.predict(future)"
   ]
  },
  {
   "cell_type": "code",
   "execution_count": 32,
   "id": "1f897cc5-d58f-4910-9846-c93fbe6a8061",
   "metadata": {},
   "outputs": [
    {
     "data": {
      "text/html": [
       "<div>\n",
       "<style scoped>\n",
       "    .dataframe tbody tr th:only-of-type {\n",
       "        vertical-align: middle;\n",
       "    }\n",
       "\n",
       "    .dataframe tbody tr th {\n",
       "        vertical-align: top;\n",
       "    }\n",
       "\n",
       "    .dataframe thead th {\n",
       "        text-align: right;\n",
       "    }\n",
       "</style>\n",
       "<table border=\"1\" class=\"dataframe\">\n",
       "  <thead>\n",
       "    <tr style=\"text-align: right;\">\n",
       "      <th></th>\n",
       "      <th>ds</th>\n",
       "      <th>yhat</th>\n",
       "      <th>yhat_lower</th>\n",
       "      <th>yhat_upper</th>\n",
       "    </tr>\n",
       "  </thead>\n",
       "  <tbody>\n",
       "    <tr>\n",
       "      <th>168</th>\n",
       "      <td>2015-01-01</td>\n",
       "      <td>2.631976e+11</td>\n",
       "      <td>2.344852e+11</td>\n",
       "      <td>2.943446e+11</td>\n",
       "    </tr>\n",
       "    <tr>\n",
       "      <th>169</th>\n",
       "      <td>2015-02-01</td>\n",
       "      <td>2.695710e+11</td>\n",
       "      <td>2.383749e+11</td>\n",
       "      <td>2.992256e+11</td>\n",
       "    </tr>\n",
       "    <tr>\n",
       "      <th>170</th>\n",
       "      <td>2015-03-01</td>\n",
       "      <td>2.885685e+11</td>\n",
       "      <td>2.576718e+11</td>\n",
       "      <td>3.173050e+11</td>\n",
       "    </tr>\n",
       "    <tr>\n",
       "      <th>171</th>\n",
       "      <td>2015-04-01</td>\n",
       "      <td>2.676128e+11</td>\n",
       "      <td>2.393001e+11</td>\n",
       "      <td>2.985984e+11</td>\n",
       "    </tr>\n",
       "    <tr>\n",
       "      <th>172</th>\n",
       "      <td>2015-05-01</td>\n",
       "      <td>2.671231e+11</td>\n",
       "      <td>2.350522e+11</td>\n",
       "      <td>2.966006e+11</td>\n",
       "    </tr>\n",
       "    <tr>\n",
       "      <th>173</th>\n",
       "      <td>2015-06-01</td>\n",
       "      <td>2.807230e+11</td>\n",
       "      <td>2.502419e+11</td>\n",
       "      <td>3.125182e+11</td>\n",
       "    </tr>\n",
       "    <tr>\n",
       "      <th>174</th>\n",
       "      <td>2015-07-01</td>\n",
       "      <td>2.342407e+11</td>\n",
       "      <td>2.043360e+11</td>\n",
       "      <td>2.660355e+11</td>\n",
       "    </tr>\n",
       "    <tr>\n",
       "      <th>175</th>\n",
       "      <td>2015-08-01</td>\n",
       "      <td>1.288484e+11</td>\n",
       "      <td>9.852012e+10</td>\n",
       "      <td>1.571845e+11</td>\n",
       "    </tr>\n",
       "    <tr>\n",
       "      <th>176</th>\n",
       "      <td>2015-09-01</td>\n",
       "      <td>2.310563e+11</td>\n",
       "      <td>2.006060e+11</td>\n",
       "      <td>2.610858e+11</td>\n",
       "    </tr>\n",
       "    <tr>\n",
       "      <th>177</th>\n",
       "      <td>2015-10-01</td>\n",
       "      <td>2.743987e+11</td>\n",
       "      <td>2.445936e+11</td>\n",
       "      <td>3.075064e+11</td>\n",
       "    </tr>\n",
       "    <tr>\n",
       "      <th>178</th>\n",
       "      <td>2015-11-01</td>\n",
       "      <td>2.615396e+11</td>\n",
       "      <td>2.316270e+11</td>\n",
       "      <td>2.932201e+11</td>\n",
       "    </tr>\n",
       "    <tr>\n",
       "      <th>179</th>\n",
       "      <td>2015-12-01</td>\n",
       "      <td>2.675851e+11</td>\n",
       "      <td>2.383102e+11</td>\n",
       "      <td>2.971820e+11</td>\n",
       "    </tr>\n",
       "  </tbody>\n",
       "</table>\n",
       "</div>"
      ],
      "text/plain": [
       "            ds          yhat    yhat_lower    yhat_upper\n",
       "168 2015-01-01  2.631976e+11  2.344852e+11  2.943446e+11\n",
       "169 2015-02-01  2.695710e+11  2.383749e+11  2.992256e+11\n",
       "170 2015-03-01  2.885685e+11  2.576718e+11  3.173050e+11\n",
       "171 2015-04-01  2.676128e+11  2.393001e+11  2.985984e+11\n",
       "172 2015-05-01  2.671231e+11  2.350522e+11  2.966006e+11\n",
       "173 2015-06-01  2.807230e+11  2.502419e+11  3.125182e+11\n",
       "174 2015-07-01  2.342407e+11  2.043360e+11  2.660355e+11\n",
       "175 2015-08-01  1.288484e+11  9.852012e+10  1.571845e+11\n",
       "176 2015-09-01  2.310563e+11  2.006060e+11  2.610858e+11\n",
       "177 2015-10-01  2.743987e+11  2.445936e+11  3.075064e+11\n",
       "178 2015-11-01  2.615396e+11  2.316270e+11  2.932201e+11\n",
       "179 2015-12-01  2.675851e+11  2.383102e+11  2.971820e+11"
      ]
     },
     "execution_count": 32,
     "metadata": {},
     "output_type": "execute_result"
    }
   ],
   "source": [
    "forecast[[\"ds\", \"yhat\", \"yhat_lower\", \"yhat_upper\"]].tail(12)"
   ]
  },
  {
   "cell_type": "code",
   "execution_count": 33,
   "id": "942c9aa4-1474-497f-b61b-4877f12ea0f8",
   "metadata": {},
   "outputs": [
    {
     "data": {
      "image/png": "[encoded data removed]",
      "text/plain": [
       "<Figure size 720x432 with 1 Axes>"
      ]
     },
     "metadata": {},
     "output_type": "display_data"
    }
   ],
   "source": [
    "model.plot(forecast)\n",
    "plt.show()"
   ]
  },
  {
   "cell_type": "markdown",
   "id": "43bb796d-83aa-4174-804a-8baf9b496044",
   "metadata": {},
   "source": [
    "На графике видно, что прогноз полученный через `Prophet` **гораздо** лучше чем прогноз полученный через `statsmodels`.\n",
    "\n",
    "Выводы:\n",
    "\n",
    "`Prophet` 👍\n",
    "\n",
    "`statsmodels` 👎"
   ]
  },
  {
   "cell_type": "markdown",
   "id": "957db4c8-e13e-4bb4-8b43-08f7199c3982",
   "metadata": {},
   "source": [
    "## Сравнение Prophet и statsmodels"
   ]
  },
  {
   "cell_type": "code",
   "execution_count": 34,
   "id": "2c315618-a019-409b-afb7-b0e95132b3b2",
   "metadata": {},
   "outputs": [],
   "source": [
    "from statsmodels.tools.eval_measures import mse"
   ]
  },
  {
   "cell_type": "markdown",
   "id": "2cb2e7ab-ff7d-41eb-a6d2-305f5fc636cf",
   "metadata": {},
   "source": [
    "### MSE полученное при построении модели в Prophet"
   ]
  },
  {
   "cell_type": "code",
   "execution_count": 35,
   "id": "b7347736-1bbf-4ddb-8249-52b33ea0ae3d",
   "metadata": {},
   "outputs": [
    {
     "name": "stdout",
     "output_type": "stream",
     "text": [
      "2.905175917770373e+22\n"
     ]
    }
   ],
   "source": [
    "mse_prophet = mse(paper[\"CFE\"], forecast.loc[:, \"yhat\"][:-36])\n",
    "print(mse_prophet)"
   ]
  },
  {
   "cell_type": "markdown",
   "id": "84ec7c59-b559-476d-b70d-0c28c5a0d71d",
   "metadata": {},
   "source": [
    "### MSE полученное при построении модели в statsmodels"
   ]
  },
  {
   "cell_type": "code",
   "execution_count": 36,
   "id": "b4c83d9a-92ee-48f1-952b-94f7728cce76",
   "metadata": {},
   "outputs": [
    {
     "name": "stdout",
     "output_type": "stream",
     "text": [
      "651229283362641.2\n"
     ]
    }
   ],
   "source": [
    "mse_statsmodels = mse(paper[\"CFE\"], paper[\"model\"])\n",
    "print(mse_statsmodels)"
   ]
  },
  {
   "cell_type": "code",
   "execution_count": 37,
   "id": "71a24c8a-163a-44ea-856f-38c1dd13a495",
   "metadata": {},
   "outputs": [
    {
     "data": {
      "text/plain": [
       "True"
      ]
     },
     "execution_count": 37,
     "metadata": {},
     "output_type": "execute_result"
    }
   ],
   "source": [
    "mse_prophet > mse_statsmodels"
   ]
  },
  {
   "cell_type": "markdown",
   "id": "81a9320a-9fb9-4c81-9a7c-48185d27c157",
   "metadata": {},
   "source": [
    "Получилось, что MSE модели `Prophet` больше, чем MSE модели `statsmodels`, но если рассматривать прогноз, который мы получили, то лучший прогноз дала модель `Prophet`."
   ]
  }
 ],
 "metadata": {
  "kernelspec": {
   "display_name": "Python 3 (ipykernel)",
   "language": "python",
   "name": "python3"
  },
  "language_info": {
   "codemirror_mode": {
    "name": "ipython",
    "version": 3
   },
   "file_extension": ".py",
   "mimetype": "text/x-python",
   "name": "python",
   "nbconvert_exporter": "python",
   "pygments_lexer": "ipython3",
   "version": "3.8.10"
  }
 },
 "nbformat": 4,
 "nbformat_minor": 5
}

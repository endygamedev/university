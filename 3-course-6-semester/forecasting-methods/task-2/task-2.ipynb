{
 "cells": [
  {
   "cell_type": "markdown",
   "id": "17ecb218",
   "metadata": {},
   "source": [
    "<div align=\"right\"><b>Бронников Егор ПМ-1901</b></div>"
   ]
  },
  {
   "cell_type": "markdown",
   "id": "81d90c3f",
   "metadata": {},
   "source": [
    "# <center>Адаптивные методы прогнозирования</center>"
   ]
  },
  {
   "cell_type": "code",
   "execution_count": 2,
   "id": "3f621c48",
   "metadata": {},
   "outputs": [],
   "source": [
    "import pandas as pd\n",
    "import numpy as np\n",
    "\n",
    "import matplotlib.pyplot as plt\n",
    "%matplotlib inline"
   ]
  },
  {
   "cell_type": "code",
   "execution_count": 8,
   "id": "c5c3a143",
   "metadata": {},
   "outputs": [],
   "source": [
    "ausair = pd.read_csv('data/ausair.csv', index_col=0)"
   ]
  },
  {
   "cell_type": "code",
   "execution_count": 16,
   "id": "fdf50781",
   "metadata": {
    "scrolled": true
   },
   "outputs": [
    {
     "data": {
      "text/html": [
       "<div>\n",
       "<style scoped>\n",
       "    .dataframe tbody tr th:only-of-type {\n",
       "        vertical-align: middle;\n",
       "    }\n",
       "\n",
       "    .dataframe tbody tr th {\n",
       "        vertical-align: top;\n",
       "    }\n",
       "\n",
       "    .dataframe thead th {\n",
       "        text-align: right;\n",
       "    }\n",
       "</style>\n",
       "<table border=\"1\" class=\"dataframe\">\n",
       "  <thead>\n",
       "    <tr style=\"text-align: right;\">\n",
       "      <th></th>\n",
       "      <th>Passengers</th>\n",
       "    </tr>\n",
       "    <tr>\n",
       "      <th>Year</th>\n",
       "      <th></th>\n",
       "    </tr>\n",
       "  </thead>\n",
       "  <tbody>\n",
       "    <tr>\n",
       "      <th>1970</th>\n",
       "      <td>7.32</td>\n",
       "    </tr>\n",
       "    <tr>\n",
       "      <th>1971</th>\n",
       "      <td>7.33</td>\n",
       "    </tr>\n",
       "    <tr>\n",
       "      <th>1972</th>\n",
       "      <td>7.80</td>\n",
       "    </tr>\n",
       "    <tr>\n",
       "      <th>1973</th>\n",
       "      <td>9.38</td>\n",
       "    </tr>\n",
       "    <tr>\n",
       "      <th>1974</th>\n",
       "      <td>10.66</td>\n",
       "    </tr>\n",
       "  </tbody>\n",
       "</table>\n",
       "</div>"
      ],
      "text/plain": [
       "      Passengers\n",
       "Year            \n",
       "1970        7.32\n",
       "1971        7.33\n",
       "1972        7.80\n",
       "1973        9.38\n",
       "1974       10.66"
      ]
     },
     "execution_count": 16,
     "metadata": {},
     "output_type": "execute_result"
    }
   ],
   "source": [
    "ausair.head()"
   ]
  },
  {
   "cell_type": "code",
   "execution_count": 18,
   "id": "41ba88ce",
   "metadata": {},
   "outputs": [
    {
     "data": {
      "text/plain": [
       "<AxesSubplot:xlabel='Year'>"
      ]
     },
     "execution_count": 18,
     "metadata": {},
     "output_type": "execute_result"
    },
    {
     "data": {
      "image/png": "[encoded data removed]",
      "text/plain": [
       "<Figure size 432x288 with 1 Axes>"
      ]
     },
     "metadata": {
      "needs_background": "light"
     },
     "output_type": "display_data"
    }
   ],
   "source": [
    "ausair.plot()"
   ]
  },
  {
   "cell_type": "code",
   "execution_count": 17,
   "id": "2c020524",
   "metadata": {},
   "outputs": [],
   "source": [
    "vals = ausair['Passengers'].values"
   ]
  },
  {
   "cell_type": "code",
   "execution_count": 19,
   "id": "bcce1f74",
   "metadata": {},
   "outputs": [
    {
     "data": {
      "text/plain": [
       "7.32"
      ]
     },
     "execution_count": 19,
     "metadata": {},
     "output_type": "execute_result"
    }
   ],
   "source": [
    "vals[0]"
   ]
  },
  {
   "cell_type": "code",
   "execution_count": 51,
   "id": "aaeada23",
   "metadata": {},
   "outputs": [],
   "source": [
    "alpha = 0.8"
   ]
  },
  {
   "cell_type": "code",
   "execution_count": 23,
   "id": "11251948",
   "metadata": {},
   "outputs": [],
   "source": [
    "level1 = vals[0]"
   ]
  },
  {
   "cell_type": "code",
   "execution_count": 25,
   "id": "3cc31015",
   "metadata": {},
   "outputs": [],
   "source": [
    "level2 = alpha * vals[1] + (1 - alpha) * level1"
   ]
  },
  {
   "cell_type": "code",
   "execution_count": 26,
   "id": "21d50f2a",
   "metadata": {},
   "outputs": [
    {
     "data": {
      "text/plain": [
       "7.329000000000001"
      ]
     },
     "execution_count": 26,
     "metadata": {},
     "output_type": "execute_result"
    }
   ],
   "source": [
    "level2"
   ]
  },
  {
   "cell_type": "code",
   "execution_count": 27,
   "id": "0be9295a",
   "metadata": {},
   "outputs": [
    {
     "data": {
      "text/plain": [
       "7.8"
      ]
     },
     "execution_count": 27,
     "metadata": {},
     "output_type": "execute_result"
    }
   ],
   "source": [
    "vals[2]"
   ]
  },
  {
   "cell_type": "code",
   "execution_count": 29,
   "id": "8b8800eb",
   "metadata": {},
   "outputs": [],
   "source": [
    "level3 = alpha * vals[2] + (1 - alpha) * level2"
   ]
  },
  {
   "cell_type": "code",
   "execution_count": 30,
   "id": "7244ed3f",
   "metadata": {},
   "outputs": [
    {
     "data": {
      "text/plain": [
       "47"
      ]
     },
     "execution_count": 30,
     "metadata": {},
     "output_type": "execute_result"
    }
   ],
   "source": [
    "vals.shape[0]"
   ]
  },
  {
   "cell_type": "code",
   "execution_count": 61,
   "id": "633de6cb",
   "metadata": {},
   "outputs": [],
   "source": [
    "forecast = [vals[0]]\n",
    "h = 10\n",
    "\n",
    "for t in range(1, vals.shape[0] + h):\n",
    "    value = vals[t] if t < vals.shape[0] else forecast[-1]\n",
    "    forecast.append(alpha * value + (1 - alpha) * forecast[t-1])"
   ]
  },
  {
   "cell_type": "code",
   "execution_count": 62,
   "id": "483712ad",
   "metadata": {
    "scrolled": true
   },
   "outputs": [
    {
     "data": {
      "text/plain": [
       "[<matplotlib.lines.Line2D at 0x7f2b21dc6280>]"
      ]
     },
     "execution_count": 62,
     "metadata": {},
     "output_type": "execute_result"
    },
    {
     "data": {
      "image/png": "[encoded data removed]",
      "text/plain": [
       "<Figure size 432x288 with 1 Axes>"
      ]
     },
     "metadata": {
      "needs_background": "light"
     },
     "output_type": "display_data"
    }
   ],
   "source": [
    "plt.plot(vals)\n",
    "plt.plot(forecast)"
   ]
  },
  {
   "cell_type": "code",
   "execution_count": 87,
   "id": "9159f7bd",
   "metadata": {},
   "outputs": [],
   "source": [
    "alpha = 0.59\n",
    "beta = 0.43\n",
    "forecast = [vals[0]]\n",
    "level = vals[0]\n",
    "trend = vals[1] - vals[0]\n",
    "h = 10\n",
    "\n",
    "for t in range(1, vals.shape[0] + h):\n",
    "    value = vals[t] if t < vals.shape[0] else forecast[-1]\n",
    "    prev_level = level\n",
    "    level = alpha * value + (1 - alpha) * (level + trend)\n",
    "    trend = beta * (level - prev_level) + (1 - beta) * trend\n",
    "    forecast.append(level + trend)"
   ]
  },
  {
   "cell_type": "code",
   "execution_count": 88,
   "id": "d6386f72",
   "metadata": {},
   "outputs": [
    {
     "data": {
      "text/plain": [
       "[<matplotlib.lines.Line2D at 0x7f2b218d8f40>]"
      ]
     },
     "execution_count": 88,
     "metadata": {},
     "output_type": "execute_result"
    },
    {
     "data": {
      "image/png": "[encoded data removed]",
      "text/plain": [
       "<Figure size 432x288 with 1 Axes>"
      ]
     },
     "metadata": {
      "needs_background": "light"
     },
     "output_type": "display_data"
    }
   ],
   "source": [
    "plt.plot(vals)\n",
    "plt.plot(forecast)"
   ]
  },
  {
   "cell_type": "code",
   "execution_count": 85,
   "id": "24d7de43",
   "metadata": {},
   "outputs": [],
   "source": [
    "alpha = 0.39\n",
    "beta = 0.10\n",
    "phi = 0.9\n",
    "forecast = [vals[0]]\n",
    "level = vals[0]\n",
    "trend = vals[1] - vals[0]\n",
    "h = 10\n",
    "\n",
    "for t in range(1, vals.shape[0] + h):\n",
    "    value = vals[t] if t < vals.shape[0] else forecast[-1]\n",
    "    prev_level = level\n",
    "    level = alpha * value + (1 - alpha) * (level + phi * trend)\n",
    "    trend = beta * (level - prev_level) + (1 - beta) * phi * trend\n",
    "    forecast.append(level + trend)"
   ]
  },
  {
   "cell_type": "code",
   "execution_count": 86,
   "id": "12db1da6",
   "metadata": {},
   "outputs": [
    {
     "data": {
      "text/plain": [
       "[<matplotlib.lines.Line2D at 0x7f2b21978100>]"
      ]
     },
     "execution_count": 86,
     "metadata": {},
     "output_type": "execute_result"
    },
    {
     "data": {
      "image/png": "[encoded data removed]",
      "text/plain": [
       "<Figure size 432x288 with 1 Axes>"
      ]
     },
     "metadata": {
      "needs_background": "light"
     },
     "output_type": "display_data"
    }
   ],
   "source": [
    "plt.plot(vals)\n",
    "plt.plot(forecast)"
   ]
  },
  {
   "cell_type": "code",
   "execution_count": null,
   "id": "d3c5d6cc",
   "metadata": {},
   "outputs": [],
   "source": []
  }
 ],
 "metadata": {
  "kernelspec": {
   "display_name": "Python 3 (ipykernel)",
   "language": "python",
   "name": "python3"
  },
  "language_info": {
   "codemirror_mode": {
    "name": "ipython",
    "version": 3
   },
   "file_extension": ".py",
   "mimetype": "text/x-python",
   "name": "python",
   "nbconvert_exporter": "python",
   "pygments_lexer": "ipython3",
   "version": "3.8.10"
  }
 },
 "nbformat": 4,
 "nbformat_minor": 5
}

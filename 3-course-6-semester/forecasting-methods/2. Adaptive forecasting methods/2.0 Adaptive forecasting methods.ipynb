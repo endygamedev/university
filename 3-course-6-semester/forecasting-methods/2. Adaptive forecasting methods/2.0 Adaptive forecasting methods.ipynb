{
 "cells": [
  {
   "cell_type": "markdown",
   "id": "2e176ca6",
   "metadata": {},
   "source": [
    "<div align=\"right\"><b>Bronnikov Egor</b></div>"
   ]
  },
  {
   "cell_type": "markdown",
   "id": "e4629f7f",
   "metadata": {},
   "source": [
    "# <center>Adaptive forecasting methods</center>"
   ]
  },
  {
   "cell_type": "markdown",
   "id": "75566ac3",
   "metadata": {},
   "source": [
    "## Modules"
   ]
  },
  {
   "cell_type": "code",
   "execution_count": null,
   "id": "0bd30775",
   "metadata": {},
   "outputs": [],
   "source": [
    "import pandas as pd\n",
    "import numpy as np\n",
    "from typing import List, Union\n",
    "import warnings\n",
    "from scipy.optimize import minimize\n",
    "\n",
    "import matplotlib.pyplot as plt\n",
    "%matplotlib inline"
   ]
  },
  {
   "cell_type": "markdown",
   "id": "73902d2e",
   "metadata": {},
   "source": [
    "## Data"
   ]
  },
  {
   "cell_type": "code",
   "execution_count": null,
   "id": "8670858a",
   "metadata": {},
   "outputs": [],
   "source": [
    "ausair = pd.read_csv(\"data/ausair.csv\", index_col=0)"
   ]
  },
  {
   "cell_type": "code",
   "execution_count": null,
   "id": "c168b585",
   "metadata": {
    "scrolled": true
   },
   "outputs": [],
   "source": [
    "ausair.head()"
   ]
  },
  {
   "cell_type": "code",
   "execution_count": null,
   "id": "fc9bd875",
   "metadata": {
    "scrolled": true
   },
   "outputs": [],
   "source": [
    "ausair.plot()\n",
    "plt.show()"
   ]
  },
  {
   "cell_type": "code",
   "execution_count": null,
   "id": "121a349f",
   "metadata": {},
   "outputs": [],
   "source": [
    "vals = ausair[\"Passengers\"].values"
   ]
  },
  {
   "cell_type": "markdown",
   "id": "6e47babb",
   "metadata": {},
   "source": [
    "## Brown's method"
   ]
  },
  {
   "cell_type": "code",
   "execution_count": null,
   "id": "3db68e8d",
   "metadata": {},
   "outputs": [],
   "source": [
    "forecast = [vals[0]]\n",
    "\n",
    "h = 10\n",
    "\n",
    "alpha = 0.8\n",
    "\n",
    "for t in range(1, vals.shape[0] + h):\n",
    "    value = vals[t] if t < vals.shape[0] else forecast[-1]\n",
    "    forecast.append(alpha * value + (1 - alpha) * forecast[t-1])"
   ]
  },
  {
   "cell_type": "code",
   "execution_count": null,
   "id": "1e917390",
   "metadata": {
    "scrolled": false
   },
   "outputs": [],
   "source": [
    "plt.plot(vals, label=\"values\")\n",
    "plt.plot(forecast, label=\"forecast\")\n",
    "plt.legend(loc=\"upper left\")\n",
    "plt.show()"
   ]
  },
  {
   "cell_type": "markdown",
   "id": "ca577143",
   "metadata": {},
   "source": [
    "## Holt's method"
   ]
  },
  {
   "cell_type": "markdown",
   "id": "e2f1e766",
   "metadata": {},
   "source": [
    "### Linear trend"
   ]
  },
  {
   "cell_type": "code",
   "execution_count": null,
   "id": "2fcc83c4",
   "metadata": {},
   "outputs": [],
   "source": [
    "forecast = [vals[0]]\n",
    "level = vals[0]\n",
    "trend = vals[1] - vals[0]\n",
    "h = 10\n",
    "\n",
    "alpha = 0.59\n",
    "beta = 0.43\n",
    "\n",
    "for t in range(1, vals.shape[0] + h):\n",
    "    value = vals[t] if t < vals.shape[0] else forecast[-1]\n",
    "    prev_level = level\n",
    "    level = alpha * value + (1 - alpha) * (level + trend)\n",
    "    trend = beta * (level - prev_level) + (1 - beta) * trend\n",
    "    forecast.append(level + trend)"
   ]
  },
  {
   "cell_type": "code",
   "execution_count": null,
   "id": "0ffb712f",
   "metadata": {
    "scrolled": true
   },
   "outputs": [],
   "source": [
    "plt.plot(vals, label=\"values\")\n",
    "plt.plot(forecast, label=\"forecast\")\n",
    "plt.legend(loc=\"upper left\")\n",
    "plt.show()"
   ]
  },
  {
   "cell_type": "markdown",
   "id": "66330a51",
   "metadata": {},
   "source": [
    "### Additive decaying trend"
   ]
  },
  {
   "cell_type": "code",
   "execution_count": null,
   "id": "90a0d121",
   "metadata": {},
   "outputs": [],
   "source": [
    "forecast = [vals[0]]\n",
    "level = vals[0]\n",
    "trend = vals[1] - vals[0]\n",
    "\n",
    "h = 10\n",
    "\n",
    "alpha = 0.39\n",
    "beta = 0.10\n",
    "phi = 0.9\n",
    "\n",
    "for t in range(1, vals.shape[0] + h):\n",
    "    value = vals[t] if t < vals.shape[0] else forecast[-1]\n",
    "    prev_level = level\n",
    "    level = alpha * value + (1 - alpha) * (level + phi * trend)\n",
    "    trend = beta * (level - prev_level) + (1 - beta) * phi * trend\n",
    "    forecast.append(level + trend)"
   ]
  },
  {
   "cell_type": "code",
   "execution_count": null,
   "id": "07713c40",
   "metadata": {},
   "outputs": [],
   "source": [
    "plt.plot(vals, label=\"values\")\n",
    "plt.plot(forecast, label=\"forecast\")\n",
    "plt.legend(loc=\"upper left\")\n",
    "plt.show()"
   ]
  },
  {
   "cell_type": "markdown",
   "id": "97119c4f",
   "metadata": {},
   "source": [
    "## Holt-Winters's method"
   ]
  },
  {
   "cell_type": "markdown",
   "id": "1d9cb5e3",
   "metadata": {},
   "source": [
    "### Data"
   ]
  },
  {
   "cell_type": "code",
   "execution_count": null,
   "id": "3f097897",
   "metadata": {},
   "outputs": [],
   "source": [
    "passengers = pd.read_csv(\"data/passengers.csv\", index_col=0)"
   ]
  },
  {
   "cell_type": "code",
   "execution_count": null,
   "id": "7e77e976",
   "metadata": {},
   "outputs": [],
   "source": [
    "vals = passengers[\"num_passengers\"].values"
   ]
  },
  {
   "cell_type": "code",
   "execution_count": null,
   "id": "8efa48d6",
   "metadata": {
    "scrolled": true
   },
   "outputs": [],
   "source": [
    "plt.plot(vals)\n",
    "plt.show()"
   ]
  },
  {
   "cell_type": "markdown",
   "id": "4bddd6c1",
   "metadata": {},
   "source": [
    "### Method"
   ]
  },
  {
   "cell_type": "code",
   "execution_count": null,
   "id": "2c227abe",
   "metadata": {},
   "outputs": [],
   "source": [
    "forecast = [vals[11]]\n",
    "level = vals[11]\n",
    "trend = np.mean(vals[12:24] - np.mean(vals[:12]))\n",
    "seasonality = (vals[:12] - np.mean(vals[:12])).tolist()\n",
    "\n",
    "h = 36\n",
    "m = 12\n",
    "\n",
    "alpha = 0.4\n",
    "beta = 0.03\n",
    "gamma = 0.75\n",
    "\n",
    "for t in range(12, vals.shape[0] + h):\n",
    "    value = vals[t] if t < vals.shape[0] else forecast[-1]\n",
    "    prev_level, level = level, alpha * (value - seasonality[t-m]) + (1 - alpha) * (level + trend)\n",
    "    prev_trend, trend = trend, beta * (level - prev_level) + (1 - beta) * trend\n",
    "    seasonality.append(gamma * (value - prev_level - prev_trend) + (1 - gamma) * seasonality[t-m])\n",
    "    forecast.append(level + trend + seasonality[t-m+1])"
   ]
  },
  {
   "cell_type": "code",
   "execution_count": null,
   "id": "80fd0753",
   "metadata": {
    "scrolled": true
   },
   "outputs": [],
   "source": [
    "plt.plot(vals[12:], label=\"values\")\n",
    "plt.plot(forecast, label=\"forecast\")\n",
    "plt.legend(loc=\"upper left\")\n",
    "plt.show()"
   ]
  },
  {
   "cell_type": "markdown",
   "id": "477db06a",
   "metadata": {},
   "source": [
    "### Function"
   ]
  },
  {
   "cell_type": "code",
   "execution_count": null,
   "id": "e45533bf",
   "metadata": {},
   "outputs": [],
   "source": [
    "def holt_winters(series: List[Union[int, float]],\n",
    "                 h=0, m=12, alpha=0.4, beta=0.03, gamma=0.75, phi=1, *,\n",
    "                 mode=\"additive\") -> Union[List[Union[int, float]], None]:\n",
    "    \"\"\" Function that makes forecast by the Holt-Winters method\n",
    "    \n",
    "        :param series: series of raw values\n",
    "        :type series: List[Union[int, float]]\n",
    "        :param h: number of units for which we make the forecast\n",
    "        :type h: int\n",
    "        :param m: seasonality length\n",
    "        :type m: int\n",
    "        :param alpha: parameter that describes the dependence on the current value of the series (lies between 0 and 1)\n",
    "        :type alpha: float\n",
    "        :param beta: parameter that describes the dependence on the current value of the series (lies between 0 and 1)\n",
    "        :type beta: float\n",
    "        :param beta: parameter which is used in the trend component (lies between 0 and 1)\n",
    "        :type beta: float\n",
    "        :param gamma: parameter which is responsible for seasonality\n",
    "        :type gamma: float\n",
    "        :param phi: damping coefficient (lies between 0 and 1)\n",
    "        :type phi: float\n",
    "        \n",
    "        :param mode: type of seasonality - additive or multiplicative\n",
    "        :type mode: str\n",
    "        \n",
    "        :return: if you select the correct `mode`, it gives the forecast, otherwise it gives `None`\n",
    "        :rtype: Union[List[Union[int, float]], None]\n",
    "    \"\"\"\n",
    "    forecast = [series[m-1]]\n",
    "    level = series[m-1]\n",
    "\n",
    "    if mode == \"additive\":\n",
    "        trend = np.mean(series[m:2*m] - np.mean(series[:m]))\n",
    "        seasonality = (series[:m] - np.mean(series[:m])).tolist()\n",
    "        for t in range(12, vals.shape[0] + h):\n",
    "            value = series[t] if t < series.shape[0] else forecast[-1]\n",
    "            prev_level, level = level, alpha * (value - seasonality[t-m]) + (1 - alpha) * (level + phi * trend)\n",
    "            prev_trend, trend = trend, beta * (level - prev_level) + (1 - beta) * phi * trend\n",
    "            seasonality.append(gamma * (value - prev_level - prev_trend) + (1 - gamma) * seasonality[t-m])\n",
    "            forecast.append(level + trend + seasonality[t-m+1])\n",
    "        return forecast\n",
    "    elif mode == \"multiplicative\":\n",
    "        trend = np.mean(series[m:2*m] - np.mean(series[:m]))\n",
    "        seasonality = (series[:m] / np.mean(series[:m])).tolist()\n",
    "        for t in range(12, vals.shape[0] + h):\n",
    "            value = series[t] if t < series.shape[0] else forecast[-1]\n",
    "            prev_level, level = level, alpha * (value/seasonality[t-m]) + (1 - alpha) * (level + phi * trend)\n",
    "            prev_trend, trend = trend, beta * (level - prev_level) + (1 - beta) * phi * trend\n",
    "            seasonality.append(gamma * (value/(prev_level + prev_trend)) + (1 - gamma) * seasonality[t-m])\n",
    "            forecast.append((level + trend) * seasonality[t-m+1])\n",
    "        return forecast\n",
    "    else:\n",
    "        warnings.warn(\"Error: Wrong `mode` parameter is selected...\", category=UserWarning)\n",
    "        return None"
   ]
  },
  {
   "cell_type": "code",
   "execution_count": null,
   "id": "06e695c2",
   "metadata": {},
   "outputs": [],
   "source": [
    "plt.plot(vals[12:], label=\"values\")\n",
    "plt.plot(holt_winters(vals, 36), label=\"forecast\")\n",
    "plt.legend(loc=\"upper left\")\n",
    "plt.show()"
   ]
  },
  {
   "cell_type": "code",
   "execution_count": null,
   "id": "537b868a",
   "metadata": {},
   "outputs": [],
   "source": [
    "plt.plot(vals[12:], label=\"values\")\n",
    "plt.plot(holt_winters(vals, h=36, mode=\"multiplicative\"), label=\"forecast\")\n",
    "plt.legend(loc=\"upper left\")\n",
    "plt.show()"
   ]
  },
  {
   "cell_type": "code",
   "execution_count": null,
   "id": "4c6d530d",
   "metadata": {
    "scrolled": true
   },
   "outputs": [],
   "source": [
    "holt_winters(vals, h=36, mode=\"errr\")"
   ]
  },
  {
   "cell_type": "markdown",
   "id": "72c78a15",
   "metadata": {},
   "source": [
    "<div class=\"alert alert-success\" style=\"text-align: center;\">\n",
    "    <h2>Homework</h2>\n",
    "</div>"
   ]
  },
  {
   "cell_type": "markdown",
   "id": "0205e12a",
   "metadata": {},
   "source": [
    "### Optimizing parameters"
   ]
  },
  {
   "cell_type": "code",
   "execution_count": null,
   "id": "1a01686e",
   "metadata": {},
   "outputs": [],
   "source": [
    "def mean_squared_error(series: List[Union[int, float]],\n",
    "                       m=12, alpha=0.4, beta=0.03, gamma=0.75, phi=1, *,\n",
    "                       mode=\"additive\"):\n",
    "    forecast = holt_winters(series, 0, m, alpha, beta, gamma, phi, mode=mode)\n",
    "    return (np.sum((series[m:]-forecast[:-1])**2))/len(series[m:])"
   ]
  },
  {
   "cell_type": "code",
   "execution_count": null,
   "id": "77146291",
   "metadata": {
    "scrolled": true
   },
   "outputs": [],
   "source": [
    "mean_squared_error(vals)"
   ]
  },
  {
   "cell_type": "markdown",
   "id": "c941d816",
   "metadata": {},
   "source": [
    "#### Additive seasonality"
   ]
  },
  {
   "cell_type": "code",
   "execution_count": null,
   "id": "02529a43",
   "metadata": {
    "scrolled": true
   },
   "outputs": [],
   "source": [
    "h = 36\n",
    "m = 12\n",
    "phi = 1\n",
    "\n",
    "func = lambda x: mean_squared_error(vals, m, x[0], x[1], x[2], phi, mode=\"additive\")\n",
    "bnds = ((0,None) for _ in range(3))\n",
    "optimization = minimize(func, (0,0,0), bounds=bnds)\n",
    "\n",
    "print(optimization)\n",
    "alpha_a, beta_a, gamma_a = tuple(optimization[\"x\"])"
   ]
  },
  {
   "cell_type": "code",
   "execution_count": null,
   "id": "543fe0c6",
   "metadata": {
    "scrolled": true
   },
   "outputs": [],
   "source": [
    "plt.plot(vals[12:], label=\"values\")\n",
    "plt.plot(holt_winters(vals, h=36, alpha=alpha_a, beta=beta_a, gamma=gamma_a, phi=phi), label=\"forecast\")\n",
    "plt.legend(loc=\"upper left\")\n",
    "plt.show()"
   ]
  },
  {
   "cell_type": "markdown",
   "id": "621195f5",
   "metadata": {},
   "source": [
    "#### Multiplicative seasonality"
   ]
  },
  {
   "cell_type": "code",
   "execution_count": null,
   "id": "8ac1fb41",
   "metadata": {},
   "outputs": [],
   "source": [
    "h = 36\n",
    "m = 12\n",
    "phi = 1\n",
    "\n",
    "func = lambda x: mean_squared_error(vals, m, x[0], x[1], x[2], phi, mode=\"multiplicative\")\n",
    "bnds = ((0,None) for _ in range(3))\n",
    "optimization = minimize(func, (0.5,0.5,0.5), bounds=bnds)\n",
    "\n",
    "print(optimization)\n",
    "alpha_m, beta_m, gamma_m = tuple(optimization[\"x\"])"
   ]
  },
  {
   "cell_type": "code",
   "execution_count": null,
   "id": "530181b2",
   "metadata": {},
   "outputs": [],
   "source": [
    "plt.plot(vals[12:], label=\"values\")\n",
    "plt.plot(holt_winters(vals, h=h, alpha=alpha_m, beta=beta_m, gamma=gamma_m, phi=phi, mode=\"multiplicative\"), label=\"forecast\")\n",
    "plt.legend(loc=\"upper left\")\n",
    "plt.show()"
   ]
  },
  {
   "cell_type": "markdown",
   "id": "59ebb0e9",
   "metadata": {},
   "source": [
    "#### Comparison of approximations and obtained values"
   ]
  },
  {
   "cell_type": "code",
   "execution_count": null,
   "id": "5d6b4dfa",
   "metadata": {},
   "outputs": [],
   "source": [
    "plt.plot(vals[12:], label=\"values\")\n",
    "plt.plot(holt_winters(vals, h=h, alpha=alpha_a, beta=beta_a, gamma=gamma_a, phi=phi, mode=\"additive\"), label=\"additive\")\n",
    "plt.plot(holt_winters(vals, h=h, alpha=alpha_m, beta=beta_m, gamma=gamma_m, phi=phi, mode=\"multiplicative\"), label=\"multiplicative\")\n",
    "plt.legend(loc=\"upper left\")\n",
    "plt.show()"
   ]
  }
 ],
 "metadata": {
  "kernelspec": {
   "display_name": "Python 3 (ipykernel)",
   "language": "python",
   "name": "python3"
  },
  "language_info": {
   "codemirror_mode": {
    "name": "ipython",
    "version": 3
   },
   "file_extension": ".py",
   "mimetype": "text/x-python",
   "name": "python",
   "nbconvert_exporter": "python",
   "pygments_lexer": "ipython3",
   "version": "3.8.10"
  }
 },
 "nbformat": 4,
 "nbformat_minor": 5
}

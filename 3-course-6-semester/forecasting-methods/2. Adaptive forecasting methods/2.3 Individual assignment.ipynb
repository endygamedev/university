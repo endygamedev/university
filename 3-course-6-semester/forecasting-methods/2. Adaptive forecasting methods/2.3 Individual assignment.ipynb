{
 "cells": [
  {
   "cell_type": "markdown",
   "id": "f7600aba",
   "metadata": {},
   "source": [
    "<div align=\"right\">Бронников Егор ПМ-1901</div>"
   ]
  },
  {
   "cell_type": "markdown",
   "id": "d66f8a1e",
   "metadata": {},
   "source": [
    "<h1 align=\"center\">Индивидуальное задание: Построение адаптивных моделей</h1>"
   ]
  },
  {
   "cell_type": "markdown",
   "id": "f60a1e11",
   "metadata": {},
   "source": [
    "<div class=\"alert alert-warning\">\n",
    "\n",
    "<h3> Домашнее задание</h3>    \n",
    "    \n",
    "<p></p> \n",
    "Выполнять в отдельном файле!\n",
    "    \n",
    "<ul>1. Для <b>своего</b> ряда (см. папку Данные на de.unecon) определите наилучшую адаптивную модель прогнозирования. Для этого загрузите данные и отобразите их на графике. Есть ли в ряде тренд, сезонность?</ul>\n",
    "    \n",
    "<ul>2. С помощью библиотеки statsmodels обучите выбранную модель и постройте прогноз. Отобразите результат на графике.</ul>\n",
    "    \n",
    "<ul>3. Вычислите среднеквадратичную ошибку для оценки качества аппроксимации.</ul>\n",
    "<p></p>\n",
    "  \n",
    "</div>"
   ]
  },
  {
   "cell_type": "markdown",
   "id": "8637c8b7",
   "metadata": {},
   "source": [
    "### Импорт модулей"
   ]
  },
  {
   "cell_type": "code",
   "execution_count": null,
   "id": "8ff42fa3",
   "metadata": {},
   "outputs": [],
   "source": [
    "import pandas as pd\n",
    "import numpy as np\n",
    "\n",
    "from statsmodels.graphics.tsaplots import plot_acf\n",
    "\n",
    "import matplotlib.pyplot as plt\n",
    "%matplotlib inline"
   ]
  },
  {
   "cell_type": "markdown",
   "id": "a278404b",
   "metadata": {},
   "source": [
    "### Данные"
   ]
  },
  {
   "cell_type": "code",
   "execution_count": null,
   "id": "f6fd746f",
   "metadata": {},
   "outputs": [],
   "source": [
    "df = pd.read_csv(\"data/cfe-specialty-writing-papers-mon.csv\", index_col=\"Month\", parse_dates=True)\n",
    "df = df.rename(columns={\"CFE specialty writing papers monthly sales\": \"CFE\"})"
   ]
  },
  {
   "cell_type": "code",
   "execution_count": null,
   "id": "1299e22b",
   "metadata": {
    "scrolled": true
   },
   "outputs": [],
   "source": [
    "df.head()"
   ]
  },
  {
   "cell_type": "markdown",
   "id": "53ac3b7a",
   "metadata": {},
   "source": [
    "В связи с тем, что колонка с месяцем получилось довольной странного формата, её нужно преобразовать в удобный формат.\n",
    "\n",
    "Допустим, что рассматриваются 2000-е."
   ]
  },
  {
   "cell_type": "code",
   "execution_count": null,
   "id": "e61f2252",
   "metadata": {},
   "outputs": [],
   "source": [
    "def convert_date(date: str):\n",
    "    year, month = map(int, date.split(\"-\"))\n",
    "    year += 2000\n",
    "    return pd.to_datetime(\"-\".join(str(elem) for elem in [year, month]))"
   ]
  },
  {
   "cell_type": "code",
   "execution_count": null,
   "id": "6ad151fb",
   "metadata": {},
   "outputs": [],
   "source": [
    "df = df[\"CFE\"]\n",
    "df.index = pd.DatetimeIndex(map(convert_date , df.index), freq=\"MS\")"
   ]
  },
  {
   "cell_type": "code",
   "execution_count": null,
   "id": "34102590",
   "metadata": {
    "scrolled": true
   },
   "outputs": [],
   "source": [
    "df.head()"
   ]
  },
  {
   "cell_type": "code",
   "execution_count": null,
   "id": "7052e4ba",
   "metadata": {
    "scrolled": true
   },
   "outputs": [],
   "source": [
    "df.plot(figsize=(12,4))\n",
    "plt.title(\"CFE specialty writing papers monthly sales\")\n",
    "plt.show()"
   ]
  },
  {
   "cell_type": "markdown",
   "id": "97d7ab83",
   "metadata": {},
   "source": [
    "**Коррелограмма**"
   ]
  },
  {
   "cell_type": "code",
   "execution_count": null,
   "id": "7f510244",
   "metadata": {
    "scrolled": true
   },
   "outputs": [],
   "source": [
    "fig, ax = plt.subplots(figsize=(12,4), dpi=90)\n",
    "plot_acf(df, lags=40, ax=ax)\n",
    "plt.show()"
   ]
  },
  {
   "cell_type": "markdown",
   "id": "bb12f447",
   "metadata": {},
   "source": [
    "### Выводы"
   ]
  },
  {
   "cell_type": "markdown",
   "id": "09e7fd2d",
   "metadata": {},
   "source": [
    "Определённо есть сезонность каждые 12 месяцев, с трендом сложнее. Вроде бы явного тренда не наблюдается."
   ]
  },
  {
   "cell_type": "markdown",
   "id": "a03c3dbb",
   "metadata": {},
   "source": [
    "### Модели"
   ]
  },
  {
   "cell_type": "markdown",
   "id": "580d69e6",
   "metadata": {},
   "source": [
    "Так как у нас есть сезонность, но нет тренда, то воспользуемся моделью Хольта-Уинтерса и просто в качестве аргумента `trend` зададим `None`."
   ]
  },
  {
   "cell_type": "code",
   "execution_count": null,
   "id": "5e40fcc9",
   "metadata": {},
   "outputs": [],
   "source": [
    "from statsmodels.tsa.holtwinters import ExponentialSmoothing\n",
    "from statsmodels.tools.eval_measures import mse"
   ]
  },
  {
   "cell_type": "code",
   "execution_count": null,
   "id": "5135ebd0",
   "metadata": {},
   "outputs": [],
   "source": [
    "holt_winters = ExponentialSmoothing(df, initialization_method=\"estimated\",\n",
    "                                    trend=None, seasonal=\"add\").fit()"
   ]
  },
  {
   "cell_type": "code",
   "execution_count": null,
   "id": "32a0b76e",
   "metadata": {},
   "outputs": [],
   "source": [
    "holt_winters.model.params"
   ]
  },
  {
   "cell_type": "code",
   "execution_count": null,
   "id": "e405445a",
   "metadata": {
    "scrolled": true
   },
   "outputs": [],
   "source": [
    "plt.figure(figsize=(12,4), dpi=150)\n",
    "df.plot(label=\"CFE\")\n",
    "holt_winters.fittedvalues.plot(label=\"Holt-Winters\")\n",
    "plt.legend(loc=\"upper left\")\n",
    "plt.show()"
   ]
  },
  {
   "cell_type": "markdown",
   "id": "bae45108",
   "metadata": {},
   "source": [
    "**Среднеквадратичная ошибка**"
   ]
  },
  {
   "cell_type": "code",
   "execution_count": null,
   "id": "af74201b",
   "metadata": {},
   "outputs": [],
   "source": [
    "mse(df, holt_winters.fittedvalues)"
   ]
  },
  {
   "cell_type": "markdown",
   "id": "e4ef69bf",
   "metadata": {},
   "source": [
    "По графику можно видеть, что наша аппроксимация далека от идеальной и поэтому среднеквадратичная ошибка получилась достаточно большой, что плохо. "
   ]
  },
  {
   "cell_type": "markdown",
   "id": "d03e17cc",
   "metadata": {},
   "source": [
    "### Прогноз"
   ]
  },
  {
   "cell_type": "markdown",
   "id": "80ff662b",
   "metadata": {},
   "source": [
    "Построим прогноз на 3 года"
   ]
  },
  {
   "cell_type": "code",
   "execution_count": null,
   "id": "6b9bb1d8",
   "metadata": {},
   "outputs": [],
   "source": [
    "start = df.index[-1] + pd.DateOffset(months=1)\n",
    "end = start + pd.DateOffset(months=35)\n",
    "start, end"
   ]
  },
  {
   "cell_type": "code",
   "execution_count": null,
   "id": "db323f01",
   "metadata": {},
   "outputs": [],
   "source": [
    "holt_winters_forecast = holt_winters.predict(start=start, end=end)"
   ]
  },
  {
   "cell_type": "code",
   "execution_count": null,
   "id": "54b94056",
   "metadata": {
    "scrolled": true
   },
   "outputs": [],
   "source": [
    "plt.figure(figsize=(12,4), dpi=150)\n",
    "df.plot(label=\"Values\")\n",
    "holt_winters_forecast.plot(label=\"Holt-Winters\")\n",
    "plt.legend(loc=\"upper left\")\n",
    "plt.show()"
   ]
  },
  {
   "cell_type": "markdown",
   "id": "5aef1c7a",
   "metadata": {},
   "source": [
    "Прогноз получился достаточно плохим.\n",
    "\n",
    "К сожалению, я не понял какой моделью стоит воспользоваться, так как у нас есть сезонность, но нет тренда.\n",
    "\n",
    "- Модель Брауна работает в случае когда у нас нет ни тренда, ни сезонности.\n",
    "- Модель Хольта работает когда у нас есть только трендовая составляющая.\n",
    "- Модель Хольта-Уинтерса работает когда у нас есть и тренд, и сезонность.\n",
    "\n",
    "**НО** даже если рассматривать что у нас есть тренд, то результаты получаются не лучше."
   ]
  },
  {
   "cell_type": "code",
   "execution_count": null,
   "id": "ba61176b",
   "metadata": {},
   "outputs": [],
   "source": [
    "holt_winters_trend = ExponentialSmoothing(df, initialization_method=\"estimated\",\n",
    "                                          trend=\"add\", seasonal=\"add\").fit()"
   ]
  },
  {
   "cell_type": "code",
   "execution_count": null,
   "id": "3486fcb5",
   "metadata": {},
   "outputs": [],
   "source": [
    "holt_winters_trend.model.params"
   ]
  },
  {
   "cell_type": "code",
   "execution_count": null,
   "id": "e4c2d7f9",
   "metadata": {
    "scrolled": true
   },
   "outputs": [],
   "source": [
    "plt.figure(figsize=(12,4), dpi=150)\n",
    "df.plot(label=\"CFE\")\n",
    "holt_winters_trend.fittedvalues.plot(label=\"Holt-Winters Trend\")\n",
    "plt.legend(loc=\"upper left\")\n",
    "plt.show()"
   ]
  },
  {
   "cell_type": "markdown",
   "id": "9563f862",
   "metadata": {},
   "source": [
    "**Среднеквадратичная ошибка**"
   ]
  },
  {
   "cell_type": "code",
   "execution_count": null,
   "id": "27e1d650",
   "metadata": {},
   "outputs": [],
   "source": [
    "mse(df, holt_winters_trend.fittedvalues)"
   ]
  }
 ],
 "metadata": {
  "kernelspec": {
   "display_name": "Python 3 (ipykernel)",
   "language": "python",
   "name": "python3"
  },
  "language_info": {
   "codemirror_mode": {
    "name": "ipython",
    "version": 3
   },
   "file_extension": ".py",
   "mimetype": "text/x-python",
   "name": "python",
   "nbconvert_exporter": "python",
   "pygments_lexer": "ipython3",
   "version": "3.8.10"
  }
 },
 "nbformat": 4,
 "nbformat_minor": 5
}
